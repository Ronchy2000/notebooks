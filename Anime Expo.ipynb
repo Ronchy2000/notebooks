{
 "cells": [
  {
   "cell_type": "markdown",
   "metadata": {},
   "source": [
    "# Anime Expo rankings"
   ]
  },
  {
   "cell_type": "markdown",
   "metadata": {},
   "source": [
    "Hi! This is an overview of the main filters of Mangaki (top(), controversial(), random()), and how they could and should be improved.\n",
    "\n",
    "It was presented at the **Anime & Manga Studies Symposium of Anime Expo** on July 2, 2017."
   ]
  },
  {
   "cell_type": "code",
   "execution_count": 44,
   "metadata": {},
   "outputs": [],
   "source": [
    "from collections import Counter\n",
    "\n",
    "nb_likes = Counter()\n",
    "nb_dislikes = Counter()\n",
    "for rating in Rating.objects.exclude(choice__in=['willsee', 'wontsee']):\n",
    "    if rating.choice == 'like':\n",
    "        nb_likes[rating.work_id] += 1\n",
    "    elif rating.choice ==  'favorite':\n",
    "        nb_likes[rating.work_id] += 2\n",
    "    elif rating.choice == 'neutral':\n",
    "        nb_dislikes[rating.work_id] += 0.5\n",
    "    elif rating.choice == 'dislike':\n",
    "        nb_dislikes[rating.work_id] += 1"
   ]
  },
  {
   "cell_type": "code",
   "execution_count": 45,
   "metadata": {},
   "outputs": [
    {
     "data": {
      "application/vnd.jupyter.widget-view+json": {
       "model_id": "dd274400cded44c8896a469064f79d79"
      }
     },
     "metadata": {},
     "output_type": "display_data"
    },
    {
     "data": {
      "text/plain": [
       "<function __main__.f>"
      ]
     },
     "execution_count": 45,
     "metadata": {},
     "output_type": "execute_result"
    }
   ],
   "source": [
    "def f(x):\n",
    "    return x\n",
    "interact(f, x=5)"
   ]
  },
  {
   "cell_type": "code",
   "execution_count": 28,
   "metadata": {
    "collapsed": true
   },
   "outputs": [],
   "source": [
    "from ipywidgets import interact, interactive\n",
    "from IPython.display import display"
   ]
  },
  {
   "cell_type": "code",
   "execution_count": 46,
   "metadata": {},
   "outputs": [],
   "source": [
    "def perles(max_ratings=126, min_ratings=20):\n",
    "    ranking = Counter()\n",
    "    for work_id in nb_likes:\n",
    "        if min_ratings <= nb_likes[work_id] + nb_dislikes[work_id] <= max_ratings:\n",
    "            dislike_rate = nb_dislikes[work_id] / nb_likes[work_id]\n",
    "            ranking[work_id] = -dislike_rate\n",
    "    rank = 1\n",
    "    lines = []\n",
    "    for work_id, dislike_rate in ranking.most_common(10):\n",
    "        lines.append('%d. %s %d likes %d likes' % (rank, Work.objects.get(id=work_id).title, nb_likes[work_id], nb_dislikes[work_id]))\n",
    "        rank += 1\n",
    "    print('\\n'.join(lines))"
   ]
  },
  {
   "cell_type": "code",
   "execution_count": 47,
   "metadata": {},
   "outputs": [],
   "source": [
    "w = interactive(perles)"
   ]
  },
  {
   "cell_type": "code",
   "execution_count": 48,
   "metadata": {},
   "outputs": [
    {
     "data": {
      "application/vnd.jupyter.widget-view+json": {
       "model_id": "438bf4a7796e4d77a43a43480f1bf814"
      }
     },
     "metadata": {},
     "output_type": "display_data"
    }
   ],
   "source": [
    "display(w)"
   ]
  },
  {
   "cell_type": "code",
   "execution_count": 1,
   "metadata": {
    "collapsed": true
   },
   "outputs": [],
   "source": [
    "# LaTeX output using the booktabs package\n",
    "\n",
    "def header(cols):\n",
    "    print(r'\\begin{tabular}{%s} \\toprule' % ('c' * len(cols)))\n",
    "    print(' & '.join(cols) + r'\\\\ \\midrule')\n",
    "\n",
    "def footer():\n",
    "    print(r'\\end{tabular}')"
   ]
  },
  {
   "cell_type": "code",
   "execution_count": 3,
   "metadata": {},
   "outputs": [
    {
     "name": "stdout",
     "output_type": "stream",
     "text": [
      "\\begin{tabular}{ccc} \\toprule\n",
      "\\# & Work & \\# Ratings\\\\ \\midrule\n",
      "1 & Death Note & 1464\\\\\n",
      "2 & L'Attaque des Titans & 1344\\\\\n",
      "3 & Le Voyage de Chihiro & 1209\\\\\n",
      "4 & Naruto & 1177\\\\\n",
      "5 & Princesse Mononoké & 1170\\\\\n",
      "6 & Sword Art Online & 1151\\\\\n",
      "7 & Fullmetal Alchemist: Brotherhood & 1150\\\\\n",
      "8 & Fullmetal Alchemist & 1032\\\\\n",
      "9 & Naruto: Shippuuden & 996\\\\\n",
      "10 & Fairy Tail & 985\\\\ \\bottomrule\n",
      "\\end{tabular}\n"
     ]
    }
   ],
   "source": [
    "header(['\\#', 'Work', '\\# Ratings'])\n",
    "MAX = 10\n",
    "for rank, work in enumerate(Work.objects.popular()[:MAX], start=1):\n",
    "    print(r'{} & {} & {}\\\\{}'.format(rank, work, work.nb_ratings, r' \\bottomrule' if rank == MAX else ''))\n",
    "footer()"
   ]
  },
  {
   "cell_type": "code",
   "execution_count": 4,
   "metadata": {},
   "outputs": [
    {
     "data": {
      "text/plain": [
       "\"header(['\\\\#', 'Work', ''])\\nMAX = 10\\nfor rank, work in enumerate(Work.objects.top().reverse().annotate(score=ExpressionWrapper(F('nb_likes') / F('nb_ratings'), output_field=FloatField()))[:MAX], start=1):\\n    print(r'{} & {} {}\\\\{}'.format(rank, work, get_ratings(work), r' \\x08ottomrule' if rank == MAX else ''))\\nfooter()\""
      ]
     },
     "execution_count": 4,
     "metadata": {},
     "output_type": "execute_result"
    }
   ],
   "source": [
    "from django.db.models import F, FloatField, ExpressionWrapper\n",
    "from django.db.models.functions import Cast\n",
    "from collections import Counter\n",
    "\n",
    "def get_ratings(work):\n",
    "    return Counter(work.rating_set.values_list('choice', flat=True))\n",
    "\n",
    "'''header(['\\#', 'Work', ''])\n",
    "MAX = 10\n",
    "for rank, work in enumerate(Work.objects.top().reverse().annotate(score=ExpressionWrapper(F('nb_likes') / F('nb_ratings'), output_field=FloatField()))[:MAX], start=1):\n",
    "    print(r'{} & {} {}\\\\{}'.format(rank, work, get_ratings(work), r' \\bottomrule' if rank == MAX else ''))\n",
    "footer()'''"
   ]
  },
  {
   "cell_type": "code",
   "execution_count": 5,
   "metadata": {
    "collapsed": true,
    "scrolled": true
   },
   "outputs": [],
   "source": [
    "from collections import defaultdict\n",
    "\n",
    "ratings = defaultdict(Counter)\n",
    "for _id, title, choice in Rating.objects.values_list('work_id', 'work__title', 'choice'):\n",
    "    ratings[(_id, title)][choice] += 1"
   ]
  },
  {
   "cell_type": "code",
   "execution_count": 6,
   "metadata": {
    "collapsed": true
   },
   "outputs": [],
   "source": [
    "for key in ratings.copy():\n",
    "    if sum(ratings[key].values()) < 10:\n",
    "        del ratings[key]"
   ]
  },
  {
   "cell_type": "code",
   "execution_count": 7,
   "metadata": {},
   "outputs": [
    {
     "data": {
      "text/plain": [
       "1623"
      ]
     },
     "execution_count": 7,
     "metadata": {},
     "output_type": "execute_result"
    }
   ],
   "source": [
    "sum(ratings[(1, 'Death Note')].values())"
   ]
  },
  {
   "cell_type": "code",
   "execution_count": 8,
   "metadata": {
    "collapsed": true
   },
   "outputs": [],
   "source": [
    "def nb_seen_ratings(key):\n",
    "    return ratings[key]['like'] + ratings[key]['favorite'] + ratings[key]['dislike']"
   ]
  },
  {
   "cell_type": "code",
   "execution_count": 9,
   "metadata": {},
   "outputs": [
    {
     "name": "stdout",
     "output_type": "stream",
     "text": [
      "\\begin{tabular}{ccccc} \\toprule\n",
      "\\# & Work & \\# Fav & \\# Like & \\# Hate\\\\ \\midrule\n",
      "1 & Dragon Ball GT & 97 & 161\\\\\n",
      "2 & Glasslip & 24 & 36\\\\\n",
      "3 & Girls Bravo: First Season & 26 & 39\\\\\n",
      "4 & Captain Earth & 25 & 35\\\\\n",
      "5 & Ai non stop! & 25 & 33\\\\\n",
      "6 & Yu-Gi-Oh! GX & 128 & 158\\\\\n",
      "7 & Choujigen Game Neptune: The Animation & 27 & 33\\\\\n",
      "8 & Astarotte's Toy & 32 & 38\\\\\n",
      "9 & Dog Days & 57 & 67\\\\\n",
      "10 & Haruka Nogizaka's Secret & 24 & 27\\\\\n",
      "11 & Wizard Barristers & 51 & 59\\\\\n",
      "12 & Sakura Trick & 49 & 51\\\\\n",
      "13 & .Hack - Le bracelet du crépuscule & 25 & 26\\\\\n",
      "14 & Ikki Tousen & 35 & 39\\\\\n",
      "15 & To Love & 56 & 57\\\\\n",
      "16 & Rail Wars! & 61 & 57\\\\\n",
      "17 & The Severing Crime Edge & 33 & 29\\\\\n",
      "18 & Chaos;Head & 77 & 66\\\\\n",
      "19 & Phi Brain: Puzzle of God & 30 & 23\\\\\n",
      "20 & Freezing & 80 & 67\\\\ \\bottomrule\n",
      "\\end{tabular}\n"
     ]
    }
   ],
   "source": [
    "header(['\\#', 'Work', '\\# Fav', '\\# Like', '\\# Hate'])\n",
    "MAX = 20\n",
    "for rank, key in enumerate(sorted(ratings.keys(), key=lambda key:\n",
    "        float('inf') if nb_seen_ratings(key) < 50 else\n",
    "       (float(4*ratings[key]['favorite'] + 2*ratings[key]['like'] + (-0.1)*ratings[key]['neutral'] + (-2)*ratings[key]['dislike'])\n",
    "        / sum(ratings[key].values())), reverse=False)[:MAX], start=1):\n",
    "    # print(key, ratings[key]['dislike'])\n",
    "    print(r'{} & {} & {} & {}\\\\{}'.format(rank, key[1], ratings[key]['favorite'] + ratings[key]['like'], ratings[key]['dislike'], r' \\bottomrule' if rank == MAX else ''))\n",
    "footer()"
   ]
  },
  {
   "cell_type": "code",
   "execution_count": 10,
   "metadata": {},
   "outputs": [
    {
     "name": "stdout",
     "output_type": "stream",
     "text": [
      "\\begin{tabular}{cccc} \\toprule\n",
      "\\# & Work & # Like & # Hate\\\\ \\midrule\n",
      "1 & School Days & 182 & 158\\\\\n",
      "2 & Dragon Ball Z Movie 11: Bio-Broly & 122 & 108\\\\\n",
      "3 & Rail Wars! & 59 & 57\\\\\n",
      "4 & Freezing & 74 & 67\\\\\n",
      "5 & Chaos;Head & 75 & 66\\\\\n",
      "6 & To Love & 52 & 56\\\\\n",
      "7 & Kiss x Sis & 122 & 97\\\\\n",
      "8 & Naruto the Movie 2: Legend of the Stone of Gelel & 114 & 90\\\\\n",
      "9 & Yu-Gi-Oh! GX & 118 & 158\\\\\n",
      "10 & Sakura Trick & 47 & 51\\\\ \\bottomrule\n",
      "\\end{tabular}\n"
     ]
    }
   ],
   "source": [
    "header(['\\#', 'Work', '# Like', '# Hate'])\n",
    "MAX = 10\n",
    "for rank, work in enumerate(Work.objects.controversial()[:MAX], start=1):\n",
    "    # print(work.title, work.nb_likes, 'likes', work.nb_dislikes, 'dislikes')\n",
    "    print(r'{} & {} & {} & {}\\\\{}'.format(rank, work.title, work.nb_likes, work.nb_dislikes, r' \\bottomrule' if rank == MAX else ''))\n",
    "footer()"
   ]
  },
  {
   "cell_type": "code",
   "execution_count": 11,
   "metadata": {},
   "outputs": [
    {
     "name": "stdout",
     "output_type": "stream",
     "text": [
      "\\begin{tabular}{cccc} \\toprule\n",
      "\\# & Work & # Like & # Hate\\\\ \\midrule\n",
      "1 & Dragon Ball Z Movie 12: Fusion Reborn & 43 & 9\\\\\n",
      "2 & Saint Seiya & 81 & 13\\\\\n",
      "3 & KINMOZA! & 17 & 5\\\\\n",
      "4 & Seto no Hanayome OVA & 25 & 2\\\\\n",
      "5 & Girls & Panzer & 29 & 9\\\\\n",
      "6 & Neon Genesis Evangelion: Death & Rebirth & 35 & 10\\\\\n",
      "7 & Pokemon Diamond & Pearl & 19 & 4\\\\\n",
      "8 & Kaichou wa Maid-sama!: Goshujin-sama to Asonjao♥ & 30 & 2\\\\\n",
      "9 & The Testament of Sister New Devil & 18 & 6\\\\\n",
      "10 & The Tale of The Princess Kaguya & 171 & 14\\\\\n",
      "11 & Final Fantasy VII: Last Order & 18 & 5\\\\\n",
      "12 & Mushishi Zoku Shou Special & 42 & 2\\\\\n",
      "13 & Bartender & 18 & 5\\\\\n",
      "14 & Suisei no Gargantia Specials & 35 & 1\\\\\n",
      "15 & Goodbye Mr. Despair OAD & 29 & 2\\\\\n",
      "16 & Full Metal Panic! The Second Raid & 62 & 6\\\\\n",
      "17 & Looking Up At The Half-Moon & 15 & 1\\\\\n",
      "18 & The Arms Peddler & 61 & 5\\\\\n",
      "19 & Beelzebub & autres histoires maléfiques & 44 & 8\\\\\n",
      "20 & Steins;Gate: Fuka Ryouiki no Déjà vu & 166 & 7\\\\ \\bottomrule\n",
      "\\end{tabular}\n"
     ]
    }
   ],
   "source": [
    "header(['\\#', 'Work', '# Like', '# Hate'])\n",
    "MAX = 20\n",
    "for rank, work in enumerate(Work.objects.random().order_by('?')[:MAX], start=1):\n",
    "    # print(work.title, work.nb_likes, 'likes', work.nb_dislikes, 'dislikes')\n",
    "    print(r'{} & {} & {} & {}\\\\{}'.format(rank, work.title, work.nb_likes, work.nb_dislikes, r' \\bottomrule' if rank == MAX else ''))\n",
    "footer()"
   ]
  },
  {
   "cell_type": "code",
   "execution_count": 12,
   "metadata": {},
   "outputs": [
    {
     "data": {
      "text/plain": [
       "Counter({'dislike': 4,\n",
       "         'favorite': 8,\n",
       "         'like': 34,\n",
       "         'neutral': 12,\n",
       "         'willsee': 27,\n",
       "         'wontsee': 41})"
      ]
     },
     "execution_count": 12,
     "metadata": {},
     "output_type": "execute_result"
    }
   ],
   "source": [
    "ratings[(3236, 'Kaiba')]"
   ]
  },
  {
   "cell_type": "code",
   "execution_count": 13,
   "metadata": {
    "collapsed": true
   },
   "outputs": [],
   "source": [
    "kaiba = Work.objects.get(title='Kaiba')\n",
    "madlax = Work.objects.get(title='Madlax')\n",
    "fujiko = Work.objects.filter(title__icontains='Fujiko')[3]\n",
    "momo = Work.objects.get(id=902)"
   ]
  },
  {
   "cell_type": "code",
   "execution_count": 14,
   "metadata": {},
   "outputs": [
    {
     "name": "stdout",
     "output_type": "stream",
     "text": [
      "\\begin{tabular}{ccc} \\toprule\n",
      "Work & # Like & # Hate\\\\ \\midrule\n",
      "Kaiba & 34 & 4\\\\ \\bottomrule\n",
      "Madlax & 19 & 4\\\\ \\bottomrule\n",
      "Lupin the Third, The Woman Called Fujiko Mine & 14 & 1\\\\ \\bottomrule\n",
      "A Letter to Momo & 42 & 1\\\\ \\bottomrule\n",
      "\\end{tabular}\n"
     ]
    }
   ],
   "source": [
    "header(['Work', '# Like', '# Hate'])\n",
    "MAX = 20\n",
    "for work in [kaiba, madlax, fujiko, momo]:\n",
    "    # print(work.title, work.nb_likes, 'likes', work.nb_dislikes, 'dislikes')\n",
    "    print(r'{} & {} & {}\\\\{}'.format(work.title, work.nb_likes, work.nb_dislikes, r' \\bottomrule' if rank == MAX else ''))\n",
    "footer()"
   ]
  },
  {
   "cell_type": "code",
   "execution_count": 15,
   "metadata": {},
   "outputs": [
    {
     "data": {
      "text/plain": [
       "Counter({'dislike': 1, 'like': 14, 'neutral': 5, 'willsee': 5, 'wontsee': 4})"
      ]
     },
     "execution_count": 15,
     "metadata": {},
     "output_type": "execute_result"
    }
   ],
   "source": [
    "get_ratings(fujiko)"
   ]
  },
  {
   "cell_type": "code",
   "execution_count": 16,
   "metadata": {},
   "outputs": [
    {
     "data": {
      "text/plain": [
       "Counter({'dislike': 1,\n",
       "         'favorite': 2,\n",
       "         'like': 42,\n",
       "         'neutral': 13,\n",
       "         'willsee': 31,\n",
       "         'wontsee': 18})"
      ]
     },
     "execution_count": 16,
     "metadata": {},
     "output_type": "execute_result"
    }
   ],
   "source": [
    "get_ratings(momo)"
   ]
  },
  {
   "cell_type": "code",
   "execution_count": 17,
   "metadata": {},
   "outputs": [
    {
     "data": {
      "text/plain": [
       "Counter({'dislike': 4,\n",
       "         'favorite': 8,\n",
       "         'like': 34,\n",
       "         'neutral': 12,\n",
       "         'willsee': 27,\n",
       "         'wontsee': 41})"
      ]
     },
     "execution_count": 17,
     "metadata": {},
     "output_type": "execute_result"
    }
   ],
   "source": [
    "get_ratings(kaiba)"
   ]
  },
  {
   "cell_type": "code",
   "execution_count": 18,
   "metadata": {},
   "outputs": [
    {
     "data": {
      "text/plain": [
       "Counter({'dislike': 4,\n",
       "         'favorite': 2,\n",
       "         'like': 19,\n",
       "         'neutral': 8,\n",
       "         'willsee': 8,\n",
       "         'wontsee': 18})"
      ]
     },
     "execution_count": 18,
     "metadata": {},
     "output_type": "execute_result"
    }
   ],
   "source": [
    "get_ratings(Work.objects.get(title='Madlax'))"
   ]
  },
  {
   "cell_type": "code",
   "execution_count": 19,
   "metadata": {},
   "outputs": [
    {
     "data": {
      "text/plain": [
       "896"
      ]
     },
     "execution_count": 19,
     "metadata": {},
     "output_type": "execute_result"
    }
   ],
   "source": [
    "Work.objects.random().count()"
   ]
  },
  {
   "cell_type": "code",
   "execution_count": 20,
   "metadata": {},
   "outputs": [
    {
     "data": {
      "text/plain": [
       "<WorkQuerySet [('Spice and Wolf II Specials',), ('The Story of Saiunkoku',), ('Amagami SS OVA',), ('Kara no Kyoukai 6: Boukyaku Rokuon',), ('Noragami Aragoto',), ('Ponyo',), ('Danna ga Nani wo Itteiru ka Wakaranai Ken 2 Sure-me',), ('Cardcaptor Sakura: Leave It to Kero-chan',), ('Kara no Kyoukai: Mirai Fukuin - Extra Chorus',), (\"Natsume's Book of Friends Season 2\",), ('The Seven Metamorphoses of Yamato Nadeshiko',), ('Owari no Seraph: Owaranai Seraph',), ('Tower of Druaga: The Sword of Uruk',), ('Eureka Seven - good night, sleep tight, young lovers',), ('Honey and Clover II',), ('Fate/Prototype',), ('Danna ga Nani wo Itteiru ka Wakaranai Ken 2nd Season',), ('A Letter to Momo',), ('Psychic School Wars',), ('Non Non Biyori Repeat',), '...(remaining elements truncated)...']>"
      ]
     },
     "execution_count": 20,
     "metadata": {},
     "output_type": "execute_result"
    }
   ],
   "source": [
    "Work.objects.filter(nb_dislikes__lte=1, nb_likes__gte=10).values_list('title')"
   ]
  },
  {
   "cell_type": "code",
   "execution_count": 21,
   "metadata": {},
   "outputs": [
    {
     "name": "stdout",
     "output_type": "stream",
     "text": [
      "\\section{228 perles rares}\n",
      "\\begin{tabular}{ccccc} \\toprule\n",
      "\\# & Work & # Ratings & # Like & # Hate\\\\ \\midrule\n",
      "1 & \\href{https://mangaki.fr/anime/9895}{Psychic School Wars} & 32 & 15 & 0\\\\\n",
      "2 & \\href{https://mangaki.fr/anime/9038}{GARO THE ANIMATION} & 31 & 22 & 0\\\\\n",
      "3 & \\href{https://mangaki.fr/anime/9071}{Psycho-Pass: The Movie} & 51 & 37 & 0\\\\\n",
      "4 & \\href{https://mangaki.fr/anime/2767}{The Boy and the Beast} & 60 & 30 & 0\\\\\n",
      "5 & \\href{https://mangaki.fr/anime/1380}{Kara no Kyoukai 6: Boukyaku Rokuon} & 82 & 54 & 1\\\\\n",
      "6 & \\href{https://mangaki.fr/anime/1304}{Natsume's Book of Friends Season 2} & 62 & 46 & 1\\\\\n",
      "7 & \\href{https://mangaki.fr/anime/9814}{Samurai X: Trust and Betrayal} & 58 & 45 & 1\\\\\n",
      "8 & \\href{https://mangaki.fr/anime/902}{A Letter to Momo} & 58 & 42 & 1\\\\\n",
      "9 & \\href{https://mangaki.fr/anime/9863}{True Tears} & 60 & 41 & 1\\\\\n",
      "10 & \\href{https://mangaki.fr/anime/10042}{My Teen Romantic Comedy SNAFU TOO!} & 48 & 41 & 1\\\\\n",
      "11 & \\href{https://mangaki.fr/anime/2913}{Tasogare Otome x Amnesia: Taima Otome} & 53 & 40 & 1\\\\\n",
      "12 & \\href{https://mangaki.fr/anime/1063}{Moribito - Guardian of the Spirit} & 56 & 38 & 1\\\\\n",
      "13 & \\href{https://mangaki.fr/anime/3933}{On Your Mark} & 51 & 36 & 1\\\\\n",
      "14 & \\href{https://mangaki.fr/anime/3428}{Suisei no Gargantia Specials} & 50 & 35 & 1\\\\\n",
      "15 & \\href{https://mangaki.fr/anime/10565}{Genshiken 2} & 43 & 30 & 1\\\\\n",
      "16 & \\href{https://mangaki.fr/anime/3187}{Pale Cocoon} & 41 & 30 & 1\\\\\n",
      "17 & \\href{https://mangaki.fr/anime/1706}{Princess Jellyfish} & 35 & 29 & 1\\\\\n",
      "18 & \\href{https://mangaki.fr/anime/9939}{Eureka Seven - good night, sleep tight, young lovers} & 47 & 29 & 1\\\\\n",
      "19 & \\href{https://mangaki.fr/anime/1949}{Chihayafuru 2: Waga Mi Yo ni Furu Nagame Seshi Ma ni} & 35 & 28 & 1\\\\\n",
      "20 & \\href{https://mangaki.fr/anime/347}{Tokyo Magnitude 8.0} & 80 & 55 & 2\\\\ \\bottomrule\n",
      "21 & \\href{https://mangaki.fr/anime/10268}{Little Busters! Refrain} & 35 & 27 & 1\\\\\n",
      "22 & \\href{https://mangaki.fr/anime/10256}{Fate/Prototype} & 38 & 27 & 1\\\\\n",
      "23 & \\href{https://mangaki.fr/anime/2562}{Mushishi Special: Hihamukage} & 71 & 53 & 2\\\\\n",
      "24 & \\href{https://mangaki.fr/anime/9981}{Someone's Gaze} & 36 & 25 & 1\\\\\n",
      "25 & \\href{https://mangaki.fr/anime/9732}{Selector Spread WIXOSS} & 35 & 25 & 1\\\\\n",
      "26 & \\href{https://mangaki.fr/anime/8828}{Dead Leaves} & 34 & 25 & 1\\\\\n",
      "27 & \\href{https://mangaki.fr/anime/2555}{City Hunter '91} & 32 & 24 & 1\\\\\n",
      "28 & \\href{https://mangaki.fr/anime/9942}{Aoi Bungaku Series} & 31 & 24 & 1\\\\\n",
      "29 & \\href{https://mangaki.fr/anime/417}{Piano no Mori} & 64 & 47 & 2\\\\\n",
      "30 & \\href{https://mangaki.fr/anime/8283}{JoJo's Bizarre Adventure} & 32 & 23 & 1\\\\\n",
      "31 & \\href{https://mangaki.fr/anime/1386}{Kara no Kyoukai: Mirai Fukuin} & 61 & 46 & 2\\\\\n",
      "32 & \\href{https://mangaki.fr/anime/2470}{Chrome Shelled Regios} & 41 & 22 & 1\\\\\n",
      "33 & \\href{https://mangaki.fr/anime/1235}{Kore wa Zombie Desu ka? of the Dead OVA} & 34 & 22 & 1\\\\\n",
      "34 & \\href{https://mangaki.fr/anime/11261}{Road to Ninja: Naruto the Movie} & 31 & 22 & 1\\\\\n",
      "35 & \\href{https://mangaki.fr/anime/2563}{Mushishi Zoku Shou Special} & 59 & 42 & 2\\\\\n",
      "36 & \\href{https://mangaki.fr/anime/785}{Patema Inverted: Beginning of the Day} & 66 & 42 & 2\\\\\n",
      "37 & \\href{https://mangaki.fr/anime/1305}{Natsume's Book of Friends Season 3} & 55 & 41 & 2\\\\\n",
      "38 & \\href{https://mangaki.fr/anime/9649}{Place to Place} & 34 & 20 & 1\\\\\n",
      "39 & \\href{https://mangaki.fr/anime/2268}{Good Luck Girl!} & 54 & 40 & 2\\\\\n",
      "40 & \\href{https://mangaki.fr/anime/10378}{Sound of the Sky} & 33 & 20 & 1\\\\\n",
      "41 & \\href{https://mangaki.fr/anime/1987}{Voices of a Distant Star} & 124 & 79 & 4\\\\\n",
      "42 & \\href{https://mangaki.fr/anime/12369}{Rokka: Braves of the Six Flowers} & 56 & 39 & 2\\\\\n",
      "43 & \\href{https://mangaki.fr/anime/14248}{ERASED} & 54 & 39 & 2\\\\\n",
      "44 & \\href{https://mangaki.fr/anime/2412}{Attack on Titan: Crimson Bow and Arrow} & 71 & 58 & 3\\\\\n",
      "45 & \\href{https://mangaki.fr/anime/8102}{Kannagi: Moshimo Kannagi ga Attara...} & 31 & 19 & 1\\\\\n",
      "46 & \\href{https://mangaki.fr/anime/10156}{Rec} & 56 & 38 & 2\\\\\n",
      "47 & \\href{https://mangaki.fr/anime/9864}{The Heroic Legend of Arslan} & 119 & 76 & 4\\\\\n",
      "48 & \\href{https://mangaki.fr/anime/2564}{Mushishi Zoku Shou 2nd Season} & 79 & 57 & 3\\\\\n",
      "49 & \\href{https://mangaki.fr/anime/1839}{MUSHI-SHI -Next Passage-} & 107 & 75 & 4\\\\\n",
      "50 & \\href{https://mangaki.fr/anime/786}{Time of Eve} & 119 & 72 & 4\\\\\n",
      "51 & \\href{https://mangaki.fr/anime/340}{Tsubasa: Tokyo Revelations} & 51 & 36 & 2\\\\\n",
      "52 & \\href{https://mangaki.fr/anime/10202}{Ani*Kuri15} & 30 & 18 & 1\\\\\n",
      "53 & \\href{https://mangaki.fr/anime/1656}{Genshiken} & 77 & 53 & 3\\\\\n",
      "54 & \\href{https://mangaki.fr/anime/2049}{Knights of Sidonia} & 70 & 52 & 3\\\\\n",
      "55 & \\href{https://mangaki.fr/anime/10032}{D-Fragments!} & 62 & 51 & 3\\\\\n",
      "56 & \\href{https://mangaki.fr/anime/8296}{Harmonie} & 31 & 17 & 1\\\\\n",
      "57 & \\href{https://mangaki.fr/anime/2592}{Nodame Cantabile Paris Hen} & 68 & 51 & 3\\\\\n",
      "58 & \\href{https://mangaki.fr/anime/3543}{Nisekoi:} & 48 & 33 & 2\\\\\n",
      "59 & \\href{https://mangaki.fr/anime/2449}{Tsubasa Chronicle} & 103 & 66 & 4\\\\\n",
      "60 & \\href{https://mangaki.fr/anime/9423}{Blue Exorcist: Runaway Kuro} & 65 & 48 & 3\\\\\n",
      "61 & \\href{https://mangaki.fr/anime/10071}{Slayers} & 45 & 32 & 2\\\\\n",
      "62 & \\href{https://mangaki.fr/anime/1168}{Gintama: Kanketsu-hen - Yorozuya yo Eien Nare} & 47 & 32 & 2\\\\\n",
      "63 & \\href{https://mangaki.fr/anime/10384}{Tales of Symphonia The Animation: Sekai Tougou-hen} & 46 & 32 & 2\\\\\n",
      "64 & \\href{https://mangaki.fr/anime/1954}{Love, Chunibyo & Other Delusions! Rikka Version} & 43 & 31 & 2\\\\\n",
      "65 & \\href{https://mangaki.fr/anime/2593}{Nodame Cantabile Finale} & 86 & 62 & 4\\\\\n",
      "66 & \\href{https://mangaki.fr/anime/749}{Ghost in the Shell: Stand Alone Complex - Solid State Society} & 61 & 46 & 3\\\\\n",
      "67 & \\href{https://mangaki.fr/anime/1676}{The Place Promised in Our Early Days} & 93 & 61 & 4\\\\\n",
      "68 & \\href{https://mangaki.fr/anime/3177}{Mes voisins les Yamada} & 40 & 30 & 2\\\\\n",
      "69 & \\href{https://mangaki.fr/anime/2894}{Kaiji: Against All Rules} & 39 & 30 & 2\\\\\n",
      "70 & \\href{https://mangaki.fr/anime/1982}{Higurashi no Naku Koro ni Special: Nekogoroshi-hen} & 40 & 30 & 2\\\\\n",
      "71 & \\href{https://mangaki.fr/anime/1166}{Familiar of Zero F} & 32 & 15 & 1\\\\\n",
      "72 & \\href{https://mangaki.fr/anime/2934}{Looking Up At The Half-Moon} & 31 & 15 & 1\\\\\n",
      "73 & \\href{https://mangaki.fr/anime/10512}{Kaichou wa Maid-sama!: Goshujin-sama to Asonjao♥} & 45 & 30 & 2\\\\\n",
      "74 & \\href{https://mangaki.fr/anime/10370}{Tales of Symphonia The Animation: Tethe'alla-hen} & 41 & 30 & 2\\\\\n",
      "75 & \\href{https://mangaki.fr/anime/3289}{Macross} & 42 & 30 & 2\\\\\n",
      "76 & \\href{https://mangaki.fr/anime/877}{Goodbye Mr. Despair OAD} & 44 & 29 & 2\\\\\n",
      "77 & \\href{https://mangaki.fr/anime/2728}{Now and Then, Here and There} & 42 & 29 & 2\\\\\n",
      "78 & \\href{https://mangaki.fr/anime/8838}{Chaika -The Coffin Princess- Avenging Battle} & 42 & 29 & 2\\\\\n",
      "79 & \\href{https://mangaki.fr/anime/9575}{Detroit Metal City: The Animated Series} & 44 & 29 & 2\\\\\n",
      "80 & \\href{https://mangaki.fr/anime/1303}{Natsume's Book of Friends} & 110 & 72 & 5\\\\\n",
      "81 & \\href{https://mangaki.fr/anime/9480}{Yowamushi Pedal} & 63 & 42 & 3\\\\\n",
      "82 & \\href{https://mangaki.fr/anime/2023}{My Ordinary Life Episode 0} & 44 & 28 & 2\\\\\n",
      "83 & \\href{https://mangaki.fr/anime/3643}{Last Exile} & 84 & 56 & 4\\\\\n",
      "84 & \\href{https://mangaki.fr/anime/9936}{Cencoroll} & 64 & 42 & 3\\\\\n",
      "85 & \\href{https://mangaki.fr/anime/3330}{Gunbuster 2} & 42 & 28 & 2\\\\\n",
      "86 & \\href{https://mangaki.fr/anime/878}{Zan Sayonara Zetsubou Sensei} & 58 & 42 & 3\\\\\n",
      "87 & \\href{https://mangaki.fr/manga/4443}{Barakamon} & 113 & 68 & 5\\\\\n",
      "88 & \\href{https://mangaki.fr/anime/8661}{Whisper of the Heart} & 76 & 54 & 4\\\\\n",
      "89 & \\href{https://mangaki.fr/manga/6883}{Poison City} & 47 & 27 & 2\\\\\n",
      "90 & \\href{https://mangaki.fr/anime/997}{Yamada-kun to 7-nin no Majo (TV)} & 39 & 27 & 2\\\\\n",
      "91 & \\href{https://mangaki.fr/anime/10038}{Kill la Kill Special} & 35 & 27 & 2\\\\\n",
      "92 & \\href{https://mangaki.fr/anime/2027}{When Supernatural Battles Became Commonplace} & 97 & 54 & 4\\\\\n",
      "93 & \\href{https://mangaki.fr/anime/3329}{Gunbuster} & 83 & 54 & 4\\\\\n",
      "94 & \\href{https://mangaki.fr/anime/10110}{She and Her Cat: Their Standing Points} & 47 & 27 & 2\\\\\n",
      "95 & \\href{https://mangaki.fr/anime/2261}{Heaven's Memo Pad} & 70 & 40 & 3\\\\\n",
      "96 & \\href{https://mangaki.fr/anime/683}{Darker than Black: Kuro no Keiyakusha Special} & 63 & 39 & 3\\\\\n",
      "97 & \\href{https://mangaki.fr/anime/1951}{Chuunibyou demo Koi ga Shitai!: Depth of Field - Ai to Nikushimi Gekijou} & 43 & 26 & 2\\\\\n",
      "98 & \\href{https://mangaki.fr/anime/8899}{Koe de Oshigoto!} & 45 & 26 & 2\\\\\n",
      "99 & \\href{https://mangaki.fr/anime/158}{Ghost in the Shell: S.A.C. 2nd GIG - Individual Eleven} & 42 & 26 & 2\\\\\n",
      "100 & \\href{https://mangaki.fr/anime/9944}{Colorful ~ The Motion Picture} & 79 & 52 & 4\\\\\n",
      "101 & \\href{https://mangaki.fr/anime/1462}{[C] CONTROL - The Money and Soul of Possibility} & 77 & 51 & 4\\\\\n",
      "102 & \\href{https://mangaki.fr/anime/1762}{Magical Girl Lyrical Nanoha: The Movie 1st} & 47 & 38 & 3\\\\\n",
      "103 & \\href{https://mangaki.fr/anime/694}{Sword of the Stranger} & 113 & 76 & 6\\\\\n",
      "104 & \\href{https://mangaki.fr/anime/3310}{Metropolis} & 58 & 38 & 3\\\\\n",
      "105 & \\href{https://mangaki.fr/anime/10564}{Genshiken OVA} & 42 & 25 & 2\\\\\n",
      "106 & \\href{https://mangaki.fr/anime/9528}{xxxHOLiC} & 68 & 50 & 4\\\\\n",
      "107 & \\href{https://mangaki.fr/anime/540}{Seto no Hanayome OVA} & 32 & 25 & 2\\\\\n",
      "108 & \\href{https://mangaki.fr/anime/3932}{Noein: To Your Other Self} & 39 & 25 & 2\\\\\n",
      "109 & \\href{https://mangaki.fr/anime/10693}{K: Missing Kings} & 31 & 25 & 2\\\\\n",
      "110 & \\href{https://mangaki.fr/anime/2189}{Denpa Teki na Kanojo} & 47 & 25 & 2\\\\\n",
      "111 & \\href{https://mangaki.fr/manga/6499}{Monster Soul} & 40 & 25 & 2\\\\\n",
      "112 & \\href{https://mangaki.fr/anime/650}{Touhai Densetsu Akagi: Yami ni Maiorita Tensai} & 34 & 25 & 2\\\\\n",
      "113 & \\href{https://mangaki.fr/anime/8773}{Gunslinger Girl} & 36 & 25 & 2\\\\\n",
      "114 & \\href{https://mangaki.fr/anime/10248}{Jormungand Season 2: Perfect Order} & 58 & 37 & 3\\\\\n",
      "115 & \\href{https://mangaki.fr/anime/1779}{Saki} & 56 & 37 & 3\\\\\n",
      "116 & \\href{https://mangaki.fr/anime/8642}{Hell Girl: Two Mirrors} & 49 & 37 & 3\\\\\n",
      "117 & \\href{https://mangaki.fr/manga/4798}{City Hunter Ultime} & 68 & 37 & 3\\\\\n",
      "118 & \\href{https://mangaki.fr/anime/2067}{La Maison en Petits Cubes} & 54 & 37 & 3\\\\\n",
      "119 & \\href{https://mangaki.fr/anime/10034}{Noragami OVA} & 67 & 49 & 4\\\\\n",
      "120 & \\href{https://mangaki.fr/manga/7580}{The Arms Peddler} & 98 & 61 & 5\\\\\n",
      "121 & \\href{https://mangaki.fr/anime/382}{Nodame Cantabile Special} & 31 & 24 & 2\\\\\n",
      "122 & \\href{https://mangaki.fr/anime/368}{xxxHOLiC - A Midsummer Night's Dream} & 32 & 24 & 2\\\\\n",
      "123 & \\href{https://mangaki.fr/anime/8295}{Charlotte} & 35 & 24 & 2\\\\\n",
      "124 & \\href{https://mangaki.fr/anime/4030}{Nurarihyon no Mago: Sennen Makyou} & 36 & 24 & 2\\\\\n",
      "125 & \\href{https://mangaki.fr/anime/3889}{Saint Seiya: The Lost Canvas 2} & 32 & 24 & 2\\\\\n",
      "126 & \\href{https://mangaki.fr/anime/624}{Ore Monogatari!!} & 66 & 48 & 4\\\\\n",
      "127 & \\href{https://mangaki.fr/anime/9490}{Genshiken Second Season} & 30 & 24 & 2\\\\\n",
      "128 & \\href{https://mangaki.fr/anime/366}{Air in Summer} & 37 & 24 & 2\\\\\n",
      "129 & \\href{https://mangaki.fr/anime/8891}{JoJo's Bizarre Adventure: Stardust Crusaders} & 123 & 82 & 7\\\\\n",
      "130 & \\href{https://mangaki.fr/anime/222}{Gankutsuou: The Count of Monte Cristo} & 52 & 35 & 3\\\\\n",
      "131 & \\href{https://mangaki.fr/anime/8736}{Broken Blade 3} & 53 & 35 & 3\\\\\n",
      "132 & \\href{https://mangaki.fr/anime/1789}{Saki Achiga-hen: Episode of Side-A} & 34 & 23 & 2\\\\\n",
      "133 & \\href{https://mangaki.fr/anime/1657}{Rave Master} & 35 & 23 & 2\\\\\n",
      "134 & \\href{https://mangaki.fr/anime/2679}{Usagi Drop Specials} & 59 & 46 & 4\\\\\n",
      "135 & \\href{https://mangaki.fr/manga/4745}{Chi - Une vie de chat} & 40 & 23 & 2\\\\\n",
      "136 & \\href{https://mangaki.fr/anime/11010}{Hunter x Hunter: The Last Mission} & 36 & 23 & 2\\\\\n",
      "137 & \\href{https://mangaki.fr/anime/8788}{The Eccentric Family} & 33 & 23 & 2\\\\\n",
      "138 & \\href{https://mangaki.fr/anime/692}{Hyouka: Motsubeki Mono wa} & 69 & 46 & 4\\\\\n",
      "139 & \\href{https://mangaki.fr/anime/10543}{Senyuu.} & 33 & 23 & 2\\\\\n",
      "140 & \\href{https://mangaki.fr/manga/5641}{Hell's kitchen} & 35 & 23 & 2\\\\\n",
      "141 & \\href{https://mangaki.fr/anime/3108}{Squid Girl} & 50 & 34 & 3\\\\\n",
      "142 & \\href{https://mangaki.fr/anime/2060}{Tengen Toppa Gurren Lagann: Parallel Works} & 50 & 34 & 3\\\\\n",
      "143 & \\href{https://mangaki.fr/anime/1856}{Broken Blade 4} & 46 & 34 & 3\\\\\n",
      "144 & \\href{https://mangaki.fr/anime/1306}{Natsume's Book of Friends Four} & 58 & 45 & 4\\\\\n",
      "145 & \\href{https://mangaki.fr/anime/151}{The Tatami Galaxy} & 81 & 56 & 5\\\\\n",
      "146 & \\href{https://mangaki.fr/anime/3110}{Squid Girl 2} & 30 & 22 & 2\\\\\n",
      "147 & \\href{https://mangaki.fr/anime/907}{Escaflowne: A Girl in Gaea} & 36 & 22 & 2\\\\\n",
      "148 & \\href{https://mangaki.fr/anime/3419}{Kyousou Giga} & 37 & 22 & 2\\\\\n",
      "149 & \\href{https://mangaki.fr/anime/8803}{Planetes} & 57 & 33 & 3\\\\\n",
      "150 & \\href{https://mangaki.fr/anime/874}{Zoku Sayonara Zetsubou Sensei} & 100 & 66 & 6\\\\\n",
      "151 & \\href{https://mangaki.fr/anime/9952}{Croisée in a Foreign Labyrinth ~ The Animation} & 37 & 22 & 2\\\\\n",
      "152 & \\href{https://mangaki.fr/anime/736}{Kekkai Sensen} & 76 & 55 & 5\\\\\n",
      "153 & \\href{https://mangaki.fr/anime/3398}{Bokurano} & 46 & 33 & 3\\\\\n",
      "154 & \\href{https://mangaki.fr/anime/2474}{Tsubasa: Spring Thunder Chronicles} & 32 & 22 & 2\\\\\n",
      "155 & \\href{https://mangaki.fr/anime/169}{Toshokan Sensou} & 37 & 22 & 2\\\\\n",
      "156 & \\href{https://mangaki.fr/anime/10017}{One Outs} & 47 & 33 & 3\\\\\n",
      "157 & \\href{https://mangaki.fr/anime/2073}{anohana: The Flower We Saw That Day The Movie} & 116 & 76 & 7\\\\\n",
      "158 & \\href{https://mangaki.fr/anime/105}{Rurouni Kenshin: Meiji Kenkaku Romantan} & 101 & 65 & 6\\\\\n",
      "159 & \\href{https://mangaki.fr/anime/10342}{Tales of Symphonia The Animation: Sylvarant-hen} & 70 & 43 & 4\\\\\n",
      "160 & \\href{https://mangaki.fr/anime/1950}{Chuni-Shorts} & 46 & 32 & 3\\\\\n",
      "161 & \\href{https://mangaki.fr/anime/8388}{Xam'd: Lost Memories} & 50 & 32 & 3\\\\\n",
      "162 & \\href{https://mangaki.fr/anime/945}{Hikaru's Go} & 106 & 74 & 7\\\\\n",
      "163 & \\href{https://mangaki.fr/anime/10320}{The Comic Artist and His Assistants} & 37 & 21 & 2\\\\\n",
      "164 & \\href{https://mangaki.fr/anime/8231}{Kamisama Hajimemashita◎} & 66 & 42 & 4\\\\\n",
      "165 & \\href{https://mangaki.fr/anime/1791}{Saki Achiga-hen: Episode of Side-A Specials} & 34 & 21 & 2\\\\\n",
      "166 & \\href{https://mangaki.fr/anime/10021}{Yozakura Quartet: Hoshi no Umi} & 32 & 21 & 2\\\\\n",
      "167 & \\href{https://mangaki.fr/anime/1381}{Kara no Kyoukai 7: Satsujin Kousatsu (Part 2)} & 121 & 83 & 8\\\\\n",
      "168 & \\href{https://mangaki.fr/anime/1540}{Yahari Ore no Seishun Love Comedy wa Machigatteiru. OVA} & 40 & 31 & 3\\\\\n",
      "169 & \\href{https://mangaki.fr/anime/2158}{Student Council's Discretion} & 48 & 31 & 3\\\\\n",
      "170 & \\href{https://mangaki.fr/anime/1968}{Full Metal Panic! The Second Raid} & 95 & 62 & 6\\\\\n",
      "171 & \\href{https://mangaki.fr/anime/1720}{Detective Conan Movie 08: Magician of the Silver Sky} & 40 & 31 & 3\\\\\n",
      "172 & \\href{https://mangaki.fr/anime/760}{Ghost in the Shell 2.0} & 52 & 31 & 3\\\\\n",
      "173 & \\href{https://mangaki.fr/anime/4080}{Case Closed} & 52 & 41 & 4\\\\\n",
      "174 & \\href{https://mangaki.fr/anime/10010}{Sound! Euphonium} & 60 & 41 & 4\\\\\n",
      "175 & \\href{https://mangaki.fr/anime/2287}{The World God Only Knows: Goddesses} & 82 & 51 & 5\\\\\n",
      "176 & \\href{https://mangaki.fr/anime/714}{Black Lagoon: Roberta's Blood Trail} & 108 & 71 & 7\\\\\n",
      "177 & \\href{https://mangaki.fr/anime/1759}{Magical Girl Lyrical Nanoha} & 57 & 40 & 4\\\\\n",
      "178 & \\href{https://mangaki.fr/anime/8830}{Mysterious Girlfriend X} & 36 & 20 & 2\\\\\n",
      "179 & \\href{https://mangaki.fr/anime/3062}{Hakuouki} & 58 & 40 & 4\\\\\n",
      "180 & \\href{https://mangaki.fr/anime/9850}{Trigun: Badlands Rumble} & 30 & 20 & 2\\\\\n",
      "181 & \\href{https://mangaki.fr/anime/2313}{Sunday Without God} & 48 & 30 & 3\\\\\n",
      "182 & \\href{https://mangaki.fr/anime/8310}{Hanasaku Iroha the Movie: Home Sweet Home} & 48 & 30 & 3\\\\\n"
     ]
    },
    {
     "name": "stdout",
     "output_type": "stream",
     "text": [
      "183 & \\href{https://mangaki.fr/anime/2256}{The World God Only Knows: Flag 0} & 39 & 20 & 2\\\\\n",
      "184 & \\href{https://mangaki.fr/anime/3868}{Kino's Journey} & 54 & 40 & 4\\\\\n",
      "185 & \\href{https://mangaki.fr/anime/9513}{Love Live! School Idol Project 2nd Season} & 55 & 39 & 4\\\\\n",
      "186 & \\href{https://mangaki.fr/anime/1899}{Love Lab} & 45 & 29 & 3\\\\\n",
      "187 & \\href{https://mangaki.fr/anime/1948}{Chihayafuru 2} & 120 & 76 & 8\\\\\n",
      "188 & \\href{https://mangaki.fr/anime/10375}{Tales of Vesperia: The First Strike} & 30 & 19 & 2\\\\\n",
      "189 & \\href{https://mangaki.fr/anime/8409}{Hunter x Hunter OVA} & 105 & 75 & 8\\\\\n",
      "190 & \\href{https://mangaki.fr/manga/6655}{Noragami} & 91 & 56 & 6\\\\\n",
      "191 & \\href{https://mangaki.fr/anime/9587}{Tari Tari} & 49 & 28 & 3\\\\\n",
      "192 & \\href{https://mangaki.fr/anime/1636}{Sekaiichi Hatsukoi 2} & 38 & 28 & 3\\\\\n",
      "193 & \\href{https://mangaki.fr/anime/14510}{Toaru Kagaku no Railgun: Misaka-san wa Ima Chuumoku no Mato Desukara} & 55 & 37 & 4\\\\\n",
      "194 & \\href{https://mangaki.fr/anime/9358}{Carnival Phantasm} & 53 & 37 & 4\\\\\n",
      "195 & \\href{https://mangaki.fr/anime/2041}{Steins;Gate: Soumei Eichi no Cognitive Computing} & 48 & 36 & 4\\\\\n",
      "196 & \\href{https://mangaki.fr/anime/8664}{Bleach: Memories in the Rain} & 83 & 54 & 6\\\\\n",
      "197 & \\href{https://mangaki.fr/anime/8198}{Re:␣Hamatora} & 52 & 36 & 4\\\\\n",
      "198 & \\href{https://mangaki.fr/anime/8747}{Unbreakable Machine-Doll} & 60 & 36 & 4\\\\\n",
      "199 & \\href{https://mangaki.fr/manga/5595}{Hamatora} & 30 & 18 & 2\\\\\n",
      "200 & \\href{https://mangaki.fr/anime/3261}{Uchuu Kaizoku Captain Harlock} & 44 & 27 & 3\\\\\n",
      "201 & \\href{https://mangaki.fr/manga/5256}{Erased} & 79 & 45 & 5\\\\\n",
      "202 & \\href{https://mangaki.fr/anime/2026}{Daily Lives of High School Boys Specials} & 49 & 36 & 4\\\\\n",
      "203 & \\href{https://mangaki.fr/anime/796}{The Pilot's Love Song} & 32 & 18 & 2\\\\\n",
      "204 & \\href{https://mangaki.fr/anime/846}{Card Captor Sakura Movie 2: The Sealed Card} & 100 & 71 & 8\\\\\n",
      "205 & \\href{https://mangaki.fr/anime/1988}{Children who Chase Lost Voices} & 93 & 62 & 7\\\\\n",
      "206 & \\href{https://mangaki.fr/anime/807}{Nadia: Secret of Blue Water} & 76 & 53 & 6\\\\\n",
      "207 & \\href{https://mangaki.fr/anime/3449}{Working!!} & 116 & 79 & 9\\\\\n",
      "208 & \\href{https://mangaki.fr/anime/8737}{Broken Blade 5} & 52 & 35 & 4\\\\\n",
      "209 & \\href{https://mangaki.fr/anime/1995}{K-On!!: Keikaku!} & 49 & 35 & 4\\\\\n",
      "210 & \\href{https://mangaki.fr/anime/10004}{Shirobako} & 94 & 61 & 7\\\\\n",
      "211 & \\href{https://mangaki.fr/anime/1598}{Pom Poko} & 118 & 87 & 10\\\\\n",
      "212 & \\href{https://mangaki.fr/anime/9618}{Hanayamata} & 38 & 26 & 3\\\\\n",
      "213 & \\href{https://mangaki.fr/anime/1129}{Aoki Hagane no Arpeggio: Ars Nova} & 38 & 26 & 3\\\\\n",
      "214 & \\href{https://mangaki.fr/anime/9396}{Dragon Ball Z Movie 09: Bojack Unbound} & 45 & 26 & 3\\\\\n",
      "215 & \\href{https://mangaki.fr/anime/906}{The Vision of Escaflowne} & 116 & 78 & 9\\\\\n",
      "216 & \\href{https://mangaki.fr/anime/2507}{Arakawa Under the Bridge x Bridge} & 65 & 43 & 5\\\\\n",
      "217 & \\href{https://mangaki.fr/anime/8228}{Kamisama Kiss} & 58 & 43 & 5\\\\\n",
      "218 & \\href{https://mangaki.fr/anime/1275}{Saekano: How to Raise a Boring Girlfriend} & 67 & 43 & 5\\\\\n",
      "219 & \\href{https://mangaki.fr/anime/1939}{Danna ga Nani wo Itteiru ka Wakaranai Ken} & 120 & 77 & 9\\\\\n",
      "220 & \\href{https://mangaki.fr/anime/2017}{Lucky☆Star: Original na Visual to Animation} & 102 & 77 & 9\\\\\n",
      "221 & \\href{https://mangaki.fr/anime/2109}{Dragon Ball Z Movie 04: Lord Slug} & 33 & 17 & 2\\\\\n",
      "222 & \\href{https://mangaki.fr/anime/14647}{A Certain Magical Index the Movie: The Miracle of Endymion} & 49 & 34 & 4\\\\\n",
      "223 & \\href{https://mangaki.fr/anime/3236}{Kaiba} & 58 & 34 & 4\\\\\n",
      "224 & \\href{https://mangaki.fr/anime/2803}{Kimi ni Todoke 2nd Season: Kataomoi} & 35 & 17 & 2\\\\\n",
      "225 & \\href{https://mangaki.fr/anime/4024}{Hanasaku Iroha ~Blossoms for Tomorrow~} & 90 & 59 & 7\\\\\n",
      "226 & \\href{https://mangaki.fr/anime/10292}{Kami nomi zo Shiru Sekai: Tenri-hen} & 57 & 42 & 5\\\\\n",
      "227 & \\href{https://mangaki.fr/anime/1729}{Silver Spoon 2nd Season} & 60 & 42 & 5\\\\\n",
      "228 & \\href{https://mangaki.fr/anime/1875}{Dennou Coil} & 71 & 42 & 5\\\\\n",
      "\\end{tabular}\n"
     ]
    }
   ],
   "source": [
    "queryset = (Work.objects.exclude(nb_likes=0).annotate(\n",
    "    dislike_rate=ExpressionWrapper(Cast(F('nb_dislikes'), FloatField()) / F('nb_likes'), output_field=FloatField()))\n",
    "    .filter(nb_ratings__gte=30, nb_ratings__lte=126, dislike_rate__lte=5/42)\n",
    "    .order_by('dislike_rate'))\n",
    "print(r'\\section{{{} perles rares}}'.format(queryset.count()))\n",
    "header(['\\#', 'Work', '# Ratings', '# Like', '# Hate'])\n",
    "for rank, work in enumerate(queryset, start=1):\n",
    "    print(r'{} & \\href{{https://mangaki.fr/{}/{}}}{{{}}} & {} & {} & {}\\\\{}'.format(rank, work.category.slug, work.id, work.title, work.nb_ratings, work.nb_likes, work.nb_dislikes, r' \\bottomrule' if rank == MAX else ''))\n",
    "footer()"
   ]
  },
  {
   "cell_type": "code",
   "execution_count": 71,
   "metadata": {},
   "outputs": [
    {
     "data": {
      "text/plain": [
       "Counter({'dislike': 1, 'like': 14, 'neutral': 5, 'willsee': 5, 'wontsee': 4})"
      ]
     },
     "execution_count": 71,
     "metadata": {},
     "output_type": "execute_result"
    }
   ],
   "source": [
    "get_ratings(Work.objects.filter(title__icontains='Fujiko')[3])"
   ]
  },
  {
   "cell_type": "code",
   "execution_count": 43,
   "metadata": {},
   "outputs": [
    {
     "data": {
      "text/plain": [
       "<WorkQuerySet [('Fairy Tail', 238), ('Naruto: Shippuuden', 226), ('Naruto', 211), ('Bleach', 178), ('Dragon Ball GT', 161), ('Yu-Gi-Oh! GX', 158), ('School Days', 155), ('Sword Art Online', 136), ('One Piece', 117), ('Dragon Ball Z Movie 11: Bio-Broly', 107), ('Kiss x Sis', 96), ('Rosario to Vampire', 96), ('Highschool of the Dead', 94), ('IS: Infinite Stratos', 92), ('Naruto the Movie 2: Legend of the Stone of Gelel', 89), ('Fairy Tail', 88), ('Vampire Knight', 82), ('Dragon Ball Z', 80), ('Angel Beats!', 74), ('Sword Art Online II', 73), '...(remaining elements truncated)...']>"
      ]
     },
     "execution_count": 43,
     "metadata": {},
     "output_type": "execute_result"
    }
   ],
   "source": [
    "Work.objects.order_by('-nb_dislikes').values_list('title', 'nb_dislikes')"
   ]
  },
  {
   "cell_type": "code",
   "execution_count": 30,
   "metadata": {},
   "outputs": [
    {
     "data": {
      "text/plain": [
       "<WorkQuerySet [<Work: Fullmetal Alchemist - Edition reliée>, <Work: FullMetal Alchemist>, <Work: Fullmetal Alchemist: Brotherhood>, <Work: Steins;Gate>, <Work: Princesse Mononoké>, <Work: Le Voyage de Chihiro>, <Work: Tokyo ghoul>, <Work: L'Attaque des Titans>, <Work: Death note>, <Work: Your Lie in April>]>"
      ]
     },
     "execution_count": 30,
     "metadata": {},
     "output_type": "execute_result"
    }
   ],
   "source": []
  },
  {
   "cell_type": "code",
   "execution_count": 31,
   "metadata": {},
   "outputs": [
    {
     "name": "stdout",
     "output_type": "stream",
     "text": [
      "Girls Bravo: First Season 26 likes 39 dislikes\n",
      "Astarotte's Toy 31 likes 38 dislikes\n",
      "Captain Earth 25 likes 35 dislikes\n",
      "Vividred Operation 13 likes 22 dislikes\n",
      "Choujigen Game Neptune: The Animation 27 likes 33 dislikes\n",
      "Ai non stop! 24 likes 33 dislikes\n",
      "Haruka Nogizaka's Secret 24 likes 27 dislikes\n",
      "Dragon Ball GT 87 likes 161 dislikes\n",
      "Dog Days 55 likes 66 dislikes\n",
      "Glasslip 23 likes 36 dislikes\n"
     ]
    }
   ],
   "source": [
    "for work in Work.objects.top().reverse()[:10]:\n",
    "    print(work.title, work.nb_likes, 'likes', work.nb_dislikes, 'dislikes')"
   ]
  },
  {
   "cell_type": "code",
   "execution_count": null,
   "metadata": {
    "collapsed": true
   },
   "outputs": [],
   "source": []
  }
 ],
 "metadata": {
  "kernelspec": {
   "display_name": "Django Shell-Plus",
   "language": "python",
   "name": "django_extensions"
  },
  "language_info": {
   "codemirror_mode": {
    "name": "ipython",
    "version": 3
   },
   "file_extension": ".py",
   "mimetype": "text/x-python",
   "name": "python",
   "nbconvert_exporter": "python",
   "pygments_lexer": "ipython3",
   "version": "3.6.2"
  }
 },
 "nbformat": 4,
 "nbformat_minor": 2
}
