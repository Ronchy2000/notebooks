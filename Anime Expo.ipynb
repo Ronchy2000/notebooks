{
 "cells": [
  {
   "cell_type": "code",
   "execution_count": 1,
   "metadata": {},
   "outputs": [
    {
     "data": {
      "text/plain": [
       "15796"
      ]
     },
     "execution_count": 1,
     "metadata": {},
     "output_type": "execute_result"
    }
   ],
   "source": [
    "Work.objects.count()"
   ]
  },
  {
   "cell_type": "code",
   "execution_count": 2,
   "metadata": {
    "collapsed": true
   },
   "outputs": [],
   "source": [
    "def header(cols):\n",
    "    print(r'\\begin{tabular}{%s} \\toprule' % ('c' * len(cols)))\n",
    "    print(' & '.join(cols) + r'\\\\ \\midrule')\n",
    "\n",
    "def footer():\n",
    "    print(r'\\end{tabular}')"
   ]
  },
  {
   "cell_type": "code",
   "execution_count": 3,
   "metadata": {},
   "outputs": [
    {
     "name": "stdout",
     "output_type": "stream",
     "text": [
      "\\begin{tabular}{ccc} \\toprule\n",
      "\\# & Work & \\# Ratings\\\\ \\midrule\n",
      "1 & Death Note & 1453\\\\\n",
      "2 & L'Attaque des Titans & 1330\\\\\n",
      "3 & Le Voyage de Chihiro & 1196\\\\\n",
      "4 & Naruto & 1167\\\\\n",
      "5 & Princesse Mononoké & 1159\\\\\n",
      "6 & Sword Art Online & 1141\\\\\n",
      "7 & Fullmetal Alchemist: Brotherhood & 1138\\\\\n",
      "8 & Fullmetal Alchemist & 1024\\\\\n",
      "9 & Naruto: Shippuuden & 988\\\\\n",
      "10 & Fairy Tail & 975\\\\ \\bottomrule\n",
      "\\end{tabular}\n"
     ]
    }
   ],
   "source": [
    "header(['\\#', 'Work', '\\# Ratings'])\n",
    "MAX = 10\n",
    "for rank, work in enumerate(Work.objects.popular()[:MAX], start=1):\n",
    "    print(r'{} & {} & {}\\\\{}'.format(rank, work, work.nb_ratings, r' \\bottomrule' if rank == MAX else ''))\n",
    "footer()"
   ]
  },
  {
   "cell_type": "code",
   "execution_count": 5,
   "metadata": {},
   "outputs": [
    {
     "data": {
      "text/plain": [
       "\"header(['\\\\#', 'Work', ''])\\nMAX = 10\\nfor rank, work in enumerate(Work.objects.top().reverse().annotate(score=ExpressionWrapper(F('nb_likes') / F('nb_ratings'), output_field=FloatField()))[:MAX], start=1):\\n    print(r'{} & {} {}\\\\{}'.format(rank, work, get_ratings(work), r' \\x08ottomrule' if rank == MAX else ''))\\nfooter()\""
      ]
     },
     "execution_count": 5,
     "metadata": {},
     "output_type": "execute_result"
    }
   ],
   "source": [
    "from django.db.models import F, FloatField, ExpressionWrapper\n",
    "from django.db.models.functions import Cast\n",
    "from collections import Counter\n",
    "\n",
    "def get_ratings(work):\n",
    "    return Counter(work.rating_set.values_list('choice', flat=True))\n",
    "\n",
    "'''header(['\\#', 'Work', ''])\n",
    "MAX = 10\n",
    "for rank, work in enumerate(Work.objects.top().reverse().annotate(score=ExpressionWrapper(F('nb_likes') / F('nb_ratings'), output_field=FloatField()))[:MAX], start=1):\n",
    "    print(r'{} & {} {}\\\\{}'.format(rank, work, get_ratings(work), r' \\bottomrule' if rank == MAX else ''))\n",
    "footer()'''"
   ]
  },
  {
   "cell_type": "code",
   "execution_count": 6,
   "metadata": {
    "collapsed": true,
    "scrolled": true
   },
   "outputs": [],
   "source": [
    "from collections import defaultdict\n",
    "\n",
    "ratings = defaultdict(Counter)\n",
    "for _id, title, choice in Rating.objects.values_list('work_id', 'work__title', 'choice'):\n",
    "    ratings[(_id, title)][choice] += 1"
   ]
  },
  {
   "cell_type": "code",
   "execution_count": 7,
   "metadata": {
    "collapsed": true
   },
   "outputs": [],
   "source": [
    "for key in ratings.copy():\n",
    "    if sum(ratings[key].values()) < 10:\n",
    "        del ratings[key]"
   ]
  },
  {
   "cell_type": "code",
   "execution_count": 8,
   "metadata": {},
   "outputs": [
    {
     "data": {
      "text/plain": [
       "1608"
      ]
     },
     "execution_count": 8,
     "metadata": {},
     "output_type": "execute_result"
    }
   ],
   "source": [
    "sum(ratings[(1, 'Death Note')].values())"
   ]
  },
  {
   "cell_type": "code",
   "execution_count": 9,
   "metadata": {
    "collapsed": true
   },
   "outputs": [],
   "source": [
    "def nb_seen_ratings(key):\n",
    "    return ratings[key]['like'] + ratings[key]['favorite'] + ratings[key]['dislike']"
   ]
  },
  {
   "cell_type": "code",
   "execution_count": 12,
   "metadata": {},
   "outputs": [
    {
     "name": "stdout",
     "output_type": "stream",
     "text": [
      "\\begin{tabular}{ccccc} \\toprule\n",
      "\\# & Work & # Fav & # Like & # Hate\\\\ \\midrule\n",
      "1 & Dragon Ball GT & 96 & 161\\\\\n",
      "2 & Glasslip & 24 & 36\\\\\n",
      "3 & Girls Bravo: First Season & 26 & 39\\\\\n",
      "4 & Captain Earth & 25 & 35\\\\\n",
      "5 & Ai non stop! & 25 & 33\\\\\n",
      "6 & Yu-Gi-Oh! GX & 128 & 158\\\\\n",
      "7 & Astarotte's Toy & 31 & 38\\\\\n",
      "8 & Choujigen Game Neptune: The Animation & 27 & 33\\\\\n",
      "9 & Haruka Nogizaka's Secret & 24 & 27\\\\\n",
      "10 & Dog Days & 57 & 66\\\\\n",
      "11 & Wizard Barristers & 51 & 59\\\\\n",
      "12 & .Hack - Le bracelet du crépuscule & 24 & 26\\\\\n",
      "13 & Sakura Trick & 48 & 50\\\\\n",
      "14 & Ikki Tousen & 35 & 39\\\\\n",
      "15 & Rail Wars! & 60 & 56\\\\\n",
      "16 & The Severing Crime Edge & 33 & 29\\\\\n",
      "17 & To Love & 56 & 55\\\\\n",
      "18 & Chaos;Head & 75 & 66\\\\\n",
      "19 & Phi Brain: Puzzle of God & 30 & 23\\\\\n",
      "20 & Tokyo Mew Mew & 48 & 40\\\\ \\bottomrule\n",
      "\\end{tabular}\n"
     ]
    }
   ],
   "source": [
    "header(['\\#', 'Work', '\\# Fav', '\\# Like', '\\# Hate'])\n",
    "MAX = 20\n",
    "for rank, key in enumerate(sorted(ratings.keys(), key=lambda key:\n",
    "        float('inf') if nb_seen_ratings(key) < 50 else\n",
    "       (float(4*ratings[key]['favorite'] + 2*ratings[key]['like'] + (-0.1)*ratings[key]['neutral'] + (-2)*ratings[key]['dislike'])\n",
    "        / sum(ratings[key].values())), reverse=False)[:MAX], start=1):\n",
    "    # print(key, ratings[key]['dislike'])\n",
    "    print(r'{} & {} & {} & {}\\\\{}'.format(rank, key[1], ratings[key]['favorite'] + ratings[key]['like'], ratings[key]['dislike'], r' \\bottomrule' if rank == MAX else ''))\n",
    "footer()"
   ]
  },
  {
   "cell_type": "code",
   "execution_count": 14,
   "metadata": {},
   "outputs": [
    {
     "name": "stdout",
     "output_type": "stream",
     "text": [
      "\\begin{tabular}{cccc} \\toprule\n",
      "\\# & Work & # Like & # Hate\\\\ \\midrule\n",
      "1 & School Days & 182 & 156\\\\\n",
      "2 & Dragon Ball Z Movie 11: Bio-Broly & 122 & 108\\\\\n",
      "3 & Rail Wars! & 58 & 56\\\\\n",
      "4 & Chaos;Head & 73 & 66\\\\\n",
      "5 & To Love & 52 & 55\\\\\n",
      "6 & Freezing & 74 & 66\\\\\n",
      "7 & Kiss x Sis & 121 & 96\\\\\n",
      "8 & Sakura Trick & 46 & 50\\\\\n",
      "9 & Yu-Gi-Oh! GX & 118 & 158\\\\\n",
      "10 & Naruto the Movie 2: Legend of the Stone of Gelel & 114 & 89\\\\ \\bottomrule\n",
      "\\end{tabular}\n"
     ]
    }
   ],
   "source": [
    "header(['\\#', 'Work', '# Like', '# Hate'])\n",
    "MAX = 10\n",
    "for rank, work in enumerate(Work.objects.controversial()[:MAX], start=1):\n",
    "    # print(work.title, work.nb_likes, 'likes', work.nb_dislikes, 'dislikes')\n",
    "    print(r'{} & {} & {} & {}\\\\{}'.format(rank, work.title, work.nb_likes, work.nb_dislikes, r' \\bottomrule' if rank == MAX else ''))\n",
    "footer()"
   ]
  },
  {
   "cell_type": "code",
   "execution_count": 41,
   "metadata": {},
   "outputs": [
    {
     "name": "stdout",
     "output_type": "stream",
     "text": [
      "\\begin{tabular}{cccc} \\toprule\n",
      "\\# & Work & # Like & # Hate\\\\ \\midrule\n",
      "1 & Alice in borderland & 22 & 6\\\\\n",
      "2 & Gekkan Shoujo Nozaki-kun Specials & 38 & 6\\\\\n",
      "3 & Letter Bee & 34 & 9\\\\\n",
      "4 & Star Blazers 2199 & 27 & 4\\\\\n",
      "5 & High School DxD OVA & 19 & 5\\\\\n",
      "6 & Yahari Ore no Seishun Love Comedy wa Machigatteiru. OVA & 31 & 3\\\\\n",
      "7 & Dragon Ball Z Movie 04: Lord Slug & 17 & 2\\\\\n",
      "8 & Gintama': Enchousen & 31 & 6\\\\\n",
      "9 & UQ holder & 50 & 10\\\\\n",
      "10 & Tsukimonogatari & 103 & 9\\\\\n",
      "11 & Mes voisins les Yamada & 29 & 2\\\\\n",
      "12 & His and Her Circumstances & 21 & 4\\\\\n",
      "13 & School Rumble & 60 & 11\\\\\n",
      "14 & Another: The Other & 33 & 8\\\\\n",
      "15 & Dr Slump & 24 & 7\\\\\n",
      "16 & Blue Exorcist: Runaway Kuro & 43 & 2\\\\\n",
      "17 & Kannagi: Moshimo Kannagi ga Attara... & 19 & 1\\\\\n",
      "18 & Death Note: Relight & 81 & 12\\\\\n",
      "19 & Pokemon 3: The Movie & 79 & 13\\\\\n",
      "20 & Nausicaä of the Valley of the Wind & 23 & 0\\\\ \\bottomrule\n",
      "\\end{tabular}\n"
     ]
    }
   ],
   "source": [
    "header(['\\#', 'Work', '# Like', '# Hate'])\n",
    "MAX = 20\n",
    "for rank, work in enumerate(Work.objects.random().order_by('?')[:MAX], start=1):\n",
    "    # print(work.title, work.nb_likes, 'likes', work.nb_dislikes, 'dislikes')\n",
    "    print(r'{} & {} & {} & {}\\\\{}'.format(rank, work.title, work.nb_likes, work.nb_dislikes, r' \\bottomrule' if rank == MAX else ''))\n",
    "footer()"
   ]
  },
  {
   "cell_type": "code",
   "execution_count": 48,
   "metadata": {},
   "outputs": [
    {
     "data": {
      "text/plain": [
       "Counter({'dislike': 4,\n",
       "         'favorite': 8,\n",
       "         'like': 34,\n",
       "         'neutral': 12,\n",
       "         'willsee': 27,\n",
       "         'wontsee': 41})"
      ]
     },
     "execution_count": 48,
     "metadata": {},
     "output_type": "execute_result"
    }
   ],
   "source": [
    "ratings[(3236, 'Kaiba')]"
   ]
  },
  {
   "cell_type": "code",
   "execution_count": 23,
   "metadata": {},
   "outputs": [],
   "source": [
    "kaiba = Work.objects.get(title='Kaiba')\n",
    "madlax = Work.objects.get(title='Madlax')\n",
    "fujiko = Work.objects.filter(title__icontains='Fujiko')[3]\n",
    "momo = Work.objects.get(id=902)"
   ]
  },
  {
   "cell_type": "code",
   "execution_count": 26,
   "metadata": {},
   "outputs": [
    {
     "name": "stdout",
     "output_type": "stream",
     "text": [
      "\\begin{tabular}{ccc} \\toprule\n",
      "Work & # Like & # Hate\\\\ \\midrule\n",
      "Kaiba & 34 & 4\\\\\n",
      "Madlax & 19 & 4\\\\\n",
      "Lupin the Third, The Woman Called Fujiko Mine & 14 & 1\\\\\n",
      "A Letter to Momo & 42 & 1\\\\\n",
      "\\end{tabular}\n"
     ]
    }
   ],
   "source": [
    "header(['Work', '# Like', '# Hate'])\n",
    "MAX = 20\n",
    "for work in [kaiba, madlax, fujiko, momo]:\n",
    "    # print(work.title, work.nb_likes, 'likes', work.nb_dislikes, 'dislikes')\n",
    "    print(r'{} & {} & {}\\\\{}'.format(work.title, work.nb_likes, work.nb_dislikes, r' \\bottomrule' if rank == MAX else ''))\n",
    "footer()"
   ]
  },
  {
   "cell_type": "code",
   "execution_count": 21,
   "metadata": {},
   "outputs": [
    {
     "data": {
      "text/plain": [
       "Counter({'dislike': 1, 'like': 14, 'neutral': 5, 'willsee': 5, 'wontsee': 4})"
      ]
     },
     "execution_count": 21,
     "metadata": {},
     "output_type": "execute_result"
    }
   ],
   "source": [
    "get_ratings(fujiko)"
   ]
  },
  {
   "cell_type": "code",
   "execution_count": 22,
   "metadata": {},
   "outputs": [
    {
     "data": {
      "text/plain": [
       "Counter({'dislike': 1,\n",
       "         'favorite': 2,\n",
       "         'like': 42,\n",
       "         'neutral': 13,\n",
       "         'willsee': 31,\n",
       "         'wontsee': 15})"
      ]
     },
     "execution_count": 22,
     "metadata": {},
     "output_type": "execute_result"
    }
   ],
   "source": [
    "get_ratings(momo)"
   ]
  },
  {
   "cell_type": "code",
   "execution_count": 60,
   "metadata": {},
   "outputs": [
    {
     "data": {
      "text/plain": [
       "Counter({'dislike': 4,\n",
       "         'favorite': 8,\n",
       "         'like': 34,\n",
       "         'neutral': 12,\n",
       "         'willsee': 27,\n",
       "         'wontsee': 41})"
      ]
     },
     "execution_count": 60,
     "metadata": {},
     "output_type": "execute_result"
    }
   ],
   "source": [
    "get_ratings(kaiba)"
   ]
  },
  {
   "cell_type": "code",
   "execution_count": 61,
   "metadata": {},
   "outputs": [
    {
     "data": {
      "text/plain": [
       "Counter({'dislike': 4,\n",
       "         'favorite': 2,\n",
       "         'like': 19,\n",
       "         'neutral': 8,\n",
       "         'willsee': 8,\n",
       "         'wontsee': 18})"
      ]
     },
     "execution_count": 61,
     "metadata": {},
     "output_type": "execute_result"
    }
   ],
   "source": [
    "get_ratings(Work.objects.get(title='Madlax'))"
   ]
  },
  {
   "cell_type": "code",
   "execution_count": 72,
   "metadata": {},
   "outputs": [
    {
     "data": {
      "text/plain": [
       "901"
      ]
     },
     "execution_count": 72,
     "metadata": {},
     "output_type": "execute_result"
    }
   ],
   "source": [
    "Work.objects.random().count()"
   ]
  },
  {
   "cell_type": "code",
   "execution_count": 93,
   "metadata": {},
   "outputs": [
    {
     "data": {
      "text/plain": [
       "<WorkQuerySet [('.hack//G.U. Trilogy',), ('Kurenai',), ('Roujin Z',), ('Kore wa Zombie Desu ka? of the Dead OVA',), ('Charlotte',), ('Blue Submarine No. 6',), ('Familiar of Zero F',), ('Ghost in the Shell: Arise - Border:3 Ghost Tears',), ('Hikaru no Go: Journey to the North Star Cup',), ('Spice and Wolf',), ('Heroic Age',), ('The Tatami Galaxy Specials',), ('Another Special',), ('RahXephon: Harmonic Convergence',), ('The Story of Saiunkoku',), (\"Gen d'Hiroshima\",), ('Yu Yu Hakusho: Eizou Hakusho II',), ('Ookiku Furikabutte: Natsu no Taikai Hen',), ('Kara no Kyoukai: Mirai Fukuin - Extra Chorus',), ('.hack//roots',), '...(remaining elements truncated)...']>"
      ]
     },
     "execution_count": 93,
     "metadata": {},
     "output_type": "execute_result"
    }
   ],
   "source": [
    "Work.objects.filter(nb_dislikes__lte=1, nb_likes__gte=10).values_list('title')"
   ]
  },
  {
   "cell_type": "code",
   "execution_count": 19,
   "metadata": {},
   "outputs": [
    {
     "name": "stdout",
     "output_type": "stream",
     "text": [
      "241\n",
      "9038 GARO THE ANIMATION 31 22 0 0.0\n",
      "10013 Le Garçon et la Bête 51 26 0 0.0\n",
      "14205 Nausicaä of the Valley of the Wind 30 23 0 0.0\n",
      "9071 Psycho-Pass Movie 48 36 0 0.0\n",
      "9895 Psychic School Wars 32 15 0 0.0\n",
      "1380 Kara no Kyoukai 6: Boukyaku Rokuon 82 54 1 0.0185185185185185\n",
      "1304 Natsume's Book of Friends Sequel 62 46 1 0.0217391304347826\n",
      "9814 Samurai X: Trust and Betrayal 58 45 1 0.0222222222222222\n",
      "902 A Letter to Momo 58 42 1 0.0238095238095238\n",
      "9863 True Tears 60 41 1 0.024390243902439\n",
      "2913 Tasogare Otome x Amnesia: Taima Otome 53 40 1 0.025\n",
      "1063 Moribito - Guardian of the Spirit 56 38 1 0.0263157894736842\n",
      "3933 On Your Mark 51 36 1 0.0277777777777778\n",
      "3428 Suisei no Gargantia Specials 49 34 1 0.0294117647058824\n",
      "8736 Broken Blade 3 50 34 1 0.0294117647058824\n",
      "10565 Genshiken 2 43 30 1 0.0333333333333333\n",
      "9939 Eureka Seven - good night, sleep tight, young lovers 47 29 1 0.0344827586206897\n",
      "2728 Now and Then, Here and There 41 29 1 0.0344827586206897\n",
      "3187 Pale Cocoon 40 29 1 0.0344827586206897\n",
      "1706 Princess Jellyfish 35 29 1 0.0344827586206897\n"
     ]
    }
   ],
   "source": [
    "queryset = (Work.objects.exclude(nb_likes=0).annotate(\n",
    "    dislike_rate=ExpressionWrapper(Cast(F('nb_dislikes'), FloatField()) / F('nb_likes'), output_field=FloatField()))\n",
    "    .filter(nb_ratings__gte=30, nb_ratings__lte=126, dislike_rate__lte=5/42)\n",
    "    .order_by('dislike_rate'))\n",
    "print(queryset.count())\n",
    "for work in queryset[:20]:\n",
    "    print(work.id, work.title, work.nb_ratings, work.nb_likes, work.nb_dislikes, work.dislike_rate)"
   ]
  },
  {
   "cell_type": "code",
   "execution_count": 62,
   "metadata": {},
   "outputs": [
    {
     "data": {
      "text/plain": [
       "['Saki',\n",
       " 'Elfen Lied: In the Passing Rain',\n",
       " 'Le Fruit de la Grisaia',\n",
       " 'Little Busters!',\n",
       " 'Hokuto no Ken - Deluxe',\n",
       " 'Rec',\n",
       " 'Magical Girl Lyrical Nanoha',\n",
       " 'Dream Eater Merry',\n",
       " 'Kamisama Kiss',\n",
       " 'Nura - Le seigneur des yokai',\n",
       " 'Jormungand Season 2: Perfect Order',\n",
       " 'Prison school',\n",
       " 'Ranma ½',\n",
       " 'Darker than black',\n",
       " 'Kami nomi zo Shiru Sekai: Tenri-hen',\n",
       " 'Evangelion - Neon genesis',\n",
       " 'Planetes',\n",
       " 'Kaiba',\n",
       " 'Rainbow: Nisha Rokubou no Shichinin',\n",
       " 'Gangsta']"
      ]
     },
     "execution_count": 62,
     "metadata": {},
     "output_type": "execute_result"
    }
   ],
   "source": [
    "for "
   ]
  },
  {
   "cell_type": "code",
   "execution_count": 71,
   "metadata": {},
   "outputs": [
    {
     "data": {
      "text/plain": [
       "Counter({'dislike': 1, 'like': 14, 'neutral': 5, 'willsee': 5, 'wontsee': 4})"
      ]
     },
     "execution_count": 71,
     "metadata": {},
     "output_type": "execute_result"
    }
   ],
   "source": [
    "get_ratings(Work.objects.filter(title__icontains='Fujiko')[3])"
   ]
  },
  {
   "cell_type": "code",
   "execution_count": 43,
   "metadata": {},
   "outputs": [
    {
     "data": {
      "text/plain": [
       "<WorkQuerySet [('Fairy Tail', 238), ('Naruto: Shippuuden', 226), ('Naruto', 211), ('Bleach', 178), ('Dragon Ball GT', 161), ('Yu-Gi-Oh! GX', 158), ('School Days', 155), ('Sword Art Online', 136), ('One Piece', 117), ('Dragon Ball Z Movie 11: Bio-Broly', 107), ('Kiss x Sis', 96), ('Rosario to Vampire', 96), ('Highschool of the Dead', 94), ('IS: Infinite Stratos', 92), ('Naruto the Movie 2: Legend of the Stone of Gelel', 89), ('Fairy Tail', 88), ('Vampire Knight', 82), ('Dragon Ball Z', 80), ('Angel Beats!', 74), ('Sword Art Online II', 73), '...(remaining elements truncated)...']>"
      ]
     },
     "execution_count": 43,
     "metadata": {},
     "output_type": "execute_result"
    }
   ],
   "source": [
    "Work.objects.order_by('-nb_dislikes').values_list('title', 'nb_dislikes')"
   ]
  },
  {
   "cell_type": "code",
   "execution_count": 30,
   "metadata": {},
   "outputs": [
    {
     "data": {
      "text/plain": [
       "<WorkQuerySet [<Work: Fullmetal Alchemist - Edition reliée>, <Work: FullMetal Alchemist>, <Work: Fullmetal Alchemist: Brotherhood>, <Work: Steins;Gate>, <Work: Princesse Mononoké>, <Work: Le Voyage de Chihiro>, <Work: Tokyo ghoul>, <Work: L'Attaque des Titans>, <Work: Death note>, <Work: Your Lie in April>]>"
      ]
     },
     "execution_count": 30,
     "metadata": {},
     "output_type": "execute_result"
    }
   ],
   "source": []
  },
  {
   "cell_type": "code",
   "execution_count": 31,
   "metadata": {},
   "outputs": [
    {
     "name": "stdout",
     "output_type": "stream",
     "text": [
      "Girls Bravo: First Season 26 likes 39 dislikes\n",
      "Astarotte's Toy 31 likes 38 dislikes\n",
      "Captain Earth 25 likes 35 dislikes\n",
      "Vividred Operation 13 likes 22 dislikes\n",
      "Choujigen Game Neptune: The Animation 27 likes 33 dislikes\n",
      "Ai non stop! 24 likes 33 dislikes\n",
      "Haruka Nogizaka's Secret 24 likes 27 dislikes\n",
      "Dragon Ball GT 87 likes 161 dislikes\n",
      "Dog Days 55 likes 66 dislikes\n",
      "Glasslip 23 likes 36 dislikes\n"
     ]
    }
   ],
   "source": [
    "for work in Work.objects.top().reverse()[:10]:\n",
    "    print(work.title, work.nb_likes, 'likes', work.nb_dislikes, 'dislikes')"
   ]
  },
  {
   "cell_type": "code",
   "execution_count": null,
   "metadata": {
    "collapsed": true
   },
   "outputs": [],
   "source": []
  }
 ],
 "metadata": {
  "kernelspec": {
   "display_name": "Django Shell-Plus",
   "language": "python",
   "name": "django_extensions"
  },
  "language_info": {
   "codemirror_mode": {
    "name": "ipython",
    "version": 3
   },
   "file_extension": ".py",
   "mimetype": "text/x-python",
   "name": "python",
   "nbconvert_exporter": "python",
   "pygments_lexer": "ipython3",
   "version": "3.6.1"
  }
 },
 "nbformat": 4,
 "nbformat_minor": 2
}
