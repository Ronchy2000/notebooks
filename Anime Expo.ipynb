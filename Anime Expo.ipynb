{
 "cells": [
  {
   "cell_type": "markdown",
   "metadata": {},
   "source": [
    "# Anime Expo rankings"
   ]
  },
  {
   "cell_type": "markdown",
   "metadata": {},
   "source": [
    "Hi! This is an overview of the main filters of Mangaki (top(), controversial(), random()), and how they could and should be improved.\n",
    "\n",
    "It was presented at the **Anime & Manga Studies Symposium of Anime Expo** on July 2, 2017."
   ]
  },
  {
   "cell_type": "code",
   "execution_count": 44,
   "metadata": {},
   "outputs": [],
   "source": [
    "from collections import Counter\n",
    "\n",
    "nb_likes = Counter()\n",
    "nb_dislikes = Counter()\n",
    "for rating in Rating.objects.exclude(choice__in=['willsee', 'wontsee']):\n",
    "    if rating.choice == 'like':\n",
    "        nb_likes[rating.work_id] += 1\n",
    "    elif rating.choice ==  'favorite':\n",
    "        nb_likes[rating.work_id] += 2\n",
    "    elif rating.choice == 'neutral':\n",
    "        nb_dislikes[rating.work_id] += 0.5\n",
    "    elif rating.choice == 'dislike':\n",
    "        nb_dislikes[rating.work_id] += 1"
   ]
  },
  {
   "cell_type": "code",
   "execution_count": 45,
   "metadata": {},
   "outputs": [
    {
     "data": {
      "application/vnd.jupyter.widget-view+json": {
       "model_id": "dd274400cded44c8896a469064f79d79"
      }
     },
     "metadata": {},
     "output_type": "display_data"
    },
    {
     "data": {
      "text/plain": [
       "<function __main__.f>"
      ]
     },
     "execution_count": 45,
     "metadata": {},
     "output_type": "execute_result"
    }
   ],
   "source": [
    "def f(x):\n",
    "    return x\n",
    "interact(f, x=5)"
   ]
  },
  {
   "cell_type": "code",
   "execution_count": 28,
   "metadata": {
    "collapsed": true
   },
   "outputs": [],
   "source": [
    "from ipywidgets import interact, interactive\n",
    "from IPython.display import display"
   ]
  },
  {
   "cell_type": "code",
   "execution_count": 51,
   "metadata": {},
   "outputs": [],
   "source": [
    "def perles(max_ratings=126, min_ratings=20):\n",
    "    ranking = Counter()\n",
    "    for work_id in nb_likes:\n",
    "        if min_ratings <= nb_likes[work_id] + nb_dislikes[work_id] <= max_ratings:\n",
    "            dislike_rate = nb_dislikes[work_id] / nb_likes[work_id]\n",
    "            ranking[work_id] = -dislike_rate\n",
    "    rank = 1\n",
    "    lines = []\n",
    "    for work_id, dislike_rate in ranking.most_common(10):\n",
    "        lines.append('%d. %s %d likes %d likes' % (rank, Work.objects.get(id=work_id).title, nb_likes[work_id], nb_dislikes[work_id]))\n",
    "        rank += 1\n",
    "    print('\\n'.join(lines))"
   ]
  },
  {
   "cell_type": "code",
   "execution_count": 52,
   "metadata": {},
   "outputs": [],
   "source": [
    "w = interactive(perles)"
   ]
  },
  {
   "cell_type": "code",
   "execution_count": 53,
   "metadata": {},
   "outputs": [
    {
     "data": {
      "application/vnd.jupyter.widget-view+json": {
       "model_id": "c3751bd701f64a68b94abb1ee704f48a"
      }
     },
     "metadata": {},
     "output_type": "display_data"
    }
   ],
   "source": [
    "display(w)"
   ]
  },
  {
   "cell_type": "code",
   "execution_count": 1,
   "metadata": {
    "collapsed": true
   },
   "outputs": [],
   "source": [
    "# LaTeX output using the booktabs package\n",
    "\n",
    "def header(cols):\n",
    "    print(r'\\begin{tabular}{%s} \\toprule' % ('c' * len(cols)))\n",
    "    print(' & '.join(cols) + r'\\\\ \\midrule')\n",
    "\n",
    "def footer():\n",
    "    print(r'\\end{tabular}')"
   ]
  },
  {
   "cell_type": "code",
   "execution_count": 3,
   "metadata": {},
   "outputs": [
    {
     "name": "stdout",
     "output_type": "stream",
     "text": [
      "\\begin{tabular}{ccc} \\toprule\n",
      "\\# & Work & \\# Ratings\\\\ \\midrule\n",
      "1 & Death Note & 1464\\\\\n",
      "2 & L'Attaque des Titans & 1344\\\\\n",
      "3 & Le Voyage de Chihiro & 1209\\\\\n",
      "4 & Naruto & 1177\\\\\n",
      "5 & Princesse Mononoké & 1170\\\\\n",
      "6 & Sword Art Online & 1151\\\\\n",
      "7 & Fullmetal Alchemist: Brotherhood & 1150\\\\\n",
      "8 & Fullmetal Alchemist & 1032\\\\\n",
      "9 & Naruto: Shippuuden & 996\\\\\n",
      "10 & Fairy Tail & 985\\\\ \\bottomrule\n",
      "\\end{tabular}\n"
     ]
    }
   ],
   "source": [
    "header(['\\#', 'Work', '\\# Ratings'])\n",
    "MAX = 10\n",
    "for rank, work in enumerate(Work.objects.popular()[:MAX], start=1):\n",
    "    print(r'{} & {} & {}\\\\{}'.format(rank, work, work.nb_ratings, r' \\bottomrule' if rank == MAX else ''))\n",
    "footer()"
   ]
  },
  {
   "cell_type": "code",
   "execution_count": 4,
   "metadata": {},
   "outputs": [
    {
     "data": {
      "text/plain": [
       "\"header(['\\\\#', 'Work', ''])\\nMAX = 10\\nfor rank, work in enumerate(Work.objects.top().reverse().annotate(score=ExpressionWrapper(F('nb_likes') / F('nb_ratings'), output_field=FloatField()))[:MAX], start=1):\\n    print(r'{} & {} {}\\\\{}'.format(rank, work, get_ratings(work), r' \\x08ottomrule' if rank == MAX else ''))\\nfooter()\""
      ]
     },
     "execution_count": 4,
     "metadata": {},
     "output_type": "execute_result"
    }
   ],
   "source": [
    "from django.db.models import F, FloatField, ExpressionWrapper\n",
    "from django.db.models.functions import Cast\n",
    "from collections import Counter\n",
    "\n",
    "def get_ratings(work):\n",
    "    return Counter(work.rating_set.values_list('choice', flat=True))\n",
    "\n",
    "'''header(['\\#', 'Work', ''])\n",
    "MAX = 10\n",
    "for rank, work in enumerate(Work.objects.top().reverse().annotate(score=ExpressionWrapper(F('nb_likes') / F('nb_ratings'), output_field=FloatField()))[:MAX], start=1):\n",
    "    print(r'{} & {} {}\\\\{}'.format(rank, work, get_ratings(work), r' \\bottomrule' if rank == MAX else ''))\n",
    "footer()'''"
   ]
  },
  {
   "cell_type": "code",
   "execution_count": 5,
   "metadata": {
    "collapsed": true,
    "scrolled": true
   },
   "outputs": [],
   "source": [
    "from collections import defaultdict\n",
    "\n",
    "ratings = defaultdict(Counter)\n",
    "for _id, title, choice in Rating.objects.values_list('work_id', 'work__title', 'choice'):\n",
    "    ratings[(_id, title)][choice] += 1"
   ]
  },
  {
   "cell_type": "code",
   "execution_count": 6,
   "metadata": {
    "collapsed": true
   },
   "outputs": [],
   "source": [
    "for key in ratings.copy():\n",
    "    if sum(ratings[key].values()) < 10:\n",
    "        del ratings[key]"
   ]
  },
  {
   "cell_type": "code",
   "execution_count": 7,
   "metadata": {},
   "outputs": [
    {
     "data": {
      "text/plain": [
       "1623"
      ]
     },
     "execution_count": 7,
     "metadata": {},
     "output_type": "execute_result"
    }
   ],
   "source": [
    "sum(ratings[(1, 'Death Note')].values())"
   ]
  },
  {
   "cell_type": "code",
   "execution_count": 8,
   "metadata": {
    "collapsed": true
   },
   "outputs": [],
   "source": [
    "def nb_seen_ratings(key):\n",
    "    return ratings[key]['like'] + ratings[key]['favorite'] + ratings[key]['dislike']"
   ]
  },
  {
   "cell_type": "code",
   "execution_count": 9,
   "metadata": {},
   "outputs": [
    {
     "name": "stdout",
     "output_type": "stream",
     "text": [
      "\\begin{tabular}{ccccc} \\toprule\n",
      "\\# & Work & \\# Fav & \\# Like & \\# Hate\\\\ \\midrule\n",
      "1 & Dragon Ball GT & 97 & 161\\\\\n",
      "2 & Glasslip & 24 & 36\\\\\n",
      "3 & Girls Bravo: First Season & 26 & 39\\\\\n",
      "4 & Captain Earth & 25 & 35\\\\\n",
      "5 & Ai non stop! & 25 & 33\\\\\n",
      "6 & Yu-Gi-Oh! GX & 128 & 158\\\\\n",
      "7 & Choujigen Game Neptune: The Animation & 27 & 33\\\\\n",
      "8 & Astarotte's Toy & 32 & 38\\\\\n",
      "9 & Dog Days & 57 & 67\\\\\n",
      "10 & Haruka Nogizaka's Secret & 24 & 27\\\\\n",
      "11 & Wizard Barristers & 51 & 59\\\\\n",
      "12 & Sakura Trick & 49 & 51\\\\\n",
      "13 & .Hack - Le bracelet du crépuscule & 25 & 26\\\\\n",
      "14 & Ikki Tousen & 35 & 39\\\\\n",
      "15 & To Love & 56 & 57\\\\\n",
      "16 & Rail Wars! & 61 & 57\\\\\n",
      "17 & The Severing Crime Edge & 33 & 29\\\\\n",
      "18 & Chaos;Head & 77 & 66\\\\\n",
      "19 & Phi Brain: Puzzle of God & 30 & 23\\\\\n",
      "20 & Freezing & 80 & 67\\\\ \\bottomrule\n",
      "\\end{tabular}\n"
     ]
    }
   ],
   "source": [
    "header(['\\#', 'Work', '\\# Fav', '\\# Like', '\\# Hate'])\n",
    "MAX = 20\n",
    "for rank, key in enumerate(sorted(ratings.keys(), key=lambda key:\n",
    "        float('inf') if nb_seen_ratings(key) < 50 else\n",
    "       (float(4*ratings[key]['favorite'] + 2*ratings[key]['like'] + (-0.1)*ratings[key]['neutral'] + (-2)*ratings[key]['dislike'])\n",
    "        / sum(ratings[key].values())), reverse=False)[:MAX], start=1):\n",
    "    # print(key, ratings[key]['dislike'])\n",
    "    print(r'{} & {} & {} & {}\\\\{}'.format(rank, key[1], ratings[key]['favorite'] + ratings[key]['like'], ratings[key]['dislike'], r' \\bottomrule' if rank == MAX else ''))\n",
    "footer()"
   ]
  },
  {
   "cell_type": "code",
   "execution_count": 10,
   "metadata": {},
   "outputs": [
    {
     "name": "stdout",
     "output_type": "stream",
     "text": [
      "\\begin{tabular}{cccc} \\toprule\n",
      "\\# & Work & # Like & # Hate\\\\ \\midrule\n",
      "1 & School Days & 182 & 158\\\\\n",
      "2 & Dragon Ball Z Movie 11: Bio-Broly & 122 & 108\\\\\n",
      "3 & Rail Wars! & 59 & 57\\\\\n",
      "4 & Freezing & 74 & 67\\\\\n",
      "5 & Chaos;Head & 75 & 66\\\\\n",
      "6 & To Love & 52 & 56\\\\\n",
      "7 & Kiss x Sis & 122 & 97\\\\\n",
      "8 & Naruto the Movie 2: Legend of the Stone of Gelel & 114 & 90\\\\\n",
      "9 & Yu-Gi-Oh! GX & 118 & 158\\\\\n",
      "10 & Sakura Trick & 47 & 51\\\\ \\bottomrule\n",
      "\\end{tabular}\n"
     ]
    }
   ],
   "source": [
    "header(['\\#', 'Work', '# Like', '# Hate'])\n",
    "MAX = 10\n",
    "for rank, work in enumerate(Work.objects.controversial()[:MAX], start=1):\n",
    "    # print(work.title, work.nb_likes, 'likes', work.nb_dislikes, 'dislikes')\n",
    "    print(r'{} & {} & {} & {}\\\\{}'.format(rank, work.title, work.nb_likes, work.nb_dislikes, r' \\bottomrule' if rank == MAX else ''))\n",
    "footer()"
   ]
  },
  {
   "cell_type": "code",
   "execution_count": 11,
   "metadata": {},
   "outputs": [
    {
     "name": "stdout",
     "output_type": "stream",
     "text": [
      "\\begin{tabular}{cccc} \\toprule\n",
      "\\# & Work & # Like & # Hate\\\\ \\midrule\n",
      "1 & Dragon Ball Z Movie 12: Fusion Reborn & 43 & 9\\\\\n",
      "2 & Saint Seiya & 81 & 13\\\\\n",
      "3 & KINMOZA! & 17 & 5\\\\\n",
      "4 & Seto no Hanayome OVA & 25 & 2\\\\\n",
      "5 & Girls & Panzer & 29 & 9\\\\\n",
      "6 & Neon Genesis Evangelion: Death & Rebirth & 35 & 10\\\\\n",
      "7 & Pokemon Diamond & Pearl & 19 & 4\\\\\n",
      "8 & Kaichou wa Maid-sama!: Goshujin-sama to Asonjao♥ & 30 & 2\\\\\n",
      "9 & The Testament of Sister New Devil & 18 & 6\\\\\n",
      "10 & The Tale of The Princess Kaguya & 171 & 14\\\\\n",
      "11 & Final Fantasy VII: Last Order & 18 & 5\\\\\n",
      "12 & Mushishi Zoku Shou Special & 42 & 2\\\\\n",
      "13 & Bartender & 18 & 5\\\\\n",
      "14 & Suisei no Gargantia Specials & 35 & 1\\\\\n",
      "15 & Goodbye Mr. Despair OAD & 29 & 2\\\\\n",
      "16 & Full Metal Panic! The Second Raid & 62 & 6\\\\\n",
      "17 & Looking Up At The Half-Moon & 15 & 1\\\\\n",
      "18 & The Arms Peddler & 61 & 5\\\\\n",
      "19 & Beelzebub & autres histoires maléfiques & 44 & 8\\\\\n",
      "20 & Steins;Gate: Fuka Ryouiki no Déjà vu & 166 & 7\\\\ \\bottomrule\n",
      "\\end{tabular}\n"
     ]
    }
   ],
   "source": [
    "header(['\\#', 'Work', '# Like', '# Hate'])\n",
    "MAX = 20\n",
    "for rank, work in enumerate(Work.objects.random().order_by('?')[:MAX], start=1):\n",
    "    # print(work.title, work.nb_likes, 'likes', work.nb_dislikes, 'dislikes')\n",
    "    print(r'{} & {} & {} & {}\\\\{}'.format(rank, work.title, work.nb_likes, work.nb_dislikes, r' \\bottomrule' if rank == MAX else ''))\n",
    "footer()"
   ]
  },
  {
   "cell_type": "code",
   "execution_count": 12,
   "metadata": {},
   "outputs": [
    {
     "data": {
      "text/plain": [
       "Counter({'dislike': 4,\n",
       "         'favorite': 8,\n",
       "         'like': 34,\n",
       "         'neutral': 12,\n",
       "         'willsee': 27,\n",
       "         'wontsee': 41})"
      ]
     },
     "execution_count": 12,
     "metadata": {},
     "output_type": "execute_result"
    }
   ],
   "source": [
    "ratings[(3236, 'Kaiba')]"
   ]
  },
  {
   "cell_type": "code",
   "execution_count": 13,
   "metadata": {
    "collapsed": true
   },
   "outputs": [],
   "source": [
    "kaiba = Work.objects.get(title='Kaiba')\n",
    "madlax = Work.objects.get(title='Madlax')\n",
    "fujiko = Work.objects.filter(title__icontains='Fujiko')[3]\n",
    "momo = Work.objects.get(id=902)"
   ]
  },
  {
   "cell_type": "code",
   "execution_count": 14,
   "metadata": {},
   "outputs": [
    {
     "name": "stdout",
     "output_type": "stream",
     "text": [
      "\\begin{tabular}{ccc} \\toprule\n",
      "Work & # Like & # Hate\\\\ \\midrule\n",
      "Kaiba & 34 & 4\\\\ \\bottomrule\n",
      "Madlax & 19 & 4\\\\ \\bottomrule\n",
      "Lupin the Third, The Woman Called Fujiko Mine & 14 & 1\\\\ \\bottomrule\n",
      "A Letter to Momo & 42 & 1\\\\ \\bottomrule\n",
      "\\end{tabular}\n"
     ]
    }
   ],
   "source": [
    "header(['Work', '# Like', '# Hate'])\n",
    "MAX = 20\n",
    "for work in [kaiba, madlax, fujiko, momo]:\n",
    "    # print(work.title, work.nb_likes, 'likes', work.nb_dislikes, 'dislikes')\n",
    "    print(r'{} & {} & {}\\\\{}'.format(work.title, work.nb_likes, work.nb_dislikes, r' \\bottomrule' if rank == MAX else ''))\n",
    "footer()"
   ]
  },
  {
   "cell_type": "code",
   "execution_count": 15,
   "metadata": {},
   "outputs": [
    {
     "data": {
      "text/plain": [
       "Counter({'dislike': 1, 'like': 14, 'neutral': 5, 'willsee': 5, 'wontsee': 4})"
      ]
     },
     "execution_count": 15,
     "metadata": {},
     "output_type": "execute_result"
    }
   ],
   "source": [
    "get_ratings(fujiko)"
   ]
  },
  {
   "cell_type": "code",
   "execution_count": 16,
   "metadata": {},
   "outputs": [
    {
     "data": {
      "text/plain": [
       "Counter({'dislike': 1,\n",
       "         'favorite': 2,\n",
       "         'like': 42,\n",
       "         'neutral': 13,\n",
       "         'willsee': 31,\n",
       "         'wontsee': 18})"
      ]
     },
     "execution_count": 16,
     "metadata": {},
     "output_type": "execute_result"
    }
   ],
   "source": [
    "get_ratings(momo)"
   ]
  },
  {
   "cell_type": "code",
   "execution_count": 17,
   "metadata": {},
   "outputs": [
    {
     "data": {
      "text/plain": [
       "Counter({'dislike': 4,\n",
       "         'favorite': 8,\n",
       "         'like': 34,\n",
       "         'neutral': 12,\n",
       "         'willsee': 27,\n",
       "         'wontsee': 41})"
      ]
     },
     "execution_count": 17,
     "metadata": {},
     "output_type": "execute_result"
    }
   ],
   "source": [
    "get_ratings(kaiba)"
   ]
  },
  {
   "cell_type": "code",
   "execution_count": 18,
   "metadata": {},
   "outputs": [
    {
     "data": {
      "text/plain": [
       "Counter({'dislike': 4,\n",
       "         'favorite': 2,\n",
       "         'like': 19,\n",
       "         'neutral': 8,\n",
       "         'willsee': 8,\n",
       "         'wontsee': 18})"
      ]
     },
     "execution_count": 18,
     "metadata": {},
     "output_type": "execute_result"
    }
   ],
   "source": [
    "get_ratings(Work.objects.get(title='Madlax'))"
   ]
  },
  {
   "cell_type": "code",
   "execution_count": 19,
   "metadata": {},
   "outputs": [
    {
     "data": {
      "text/plain": [
       "896"
      ]
     },
     "execution_count": 19,
     "metadata": {},
     "output_type": "execute_result"
    }
   ],
   "source": [
    "Work.objects.random().count()"
   ]
  },
  {
   "cell_type": "code",
   "execution_count": 20,
   "metadata": {},
   "outputs": [
    {
     "data": {
      "text/plain": [
       "<WorkQuerySet [('Spice and Wolf II Specials',), ('The Story of Saiunkoku',), ('Amagami SS OVA',), ('Kara no Kyoukai 6: Boukyaku Rokuon',), ('Noragami Aragoto',), ('Ponyo',), ('Danna ga Nani wo Itteiru ka Wakaranai Ken 2 Sure-me',), ('Cardcaptor Sakura: Leave It to Kero-chan',), ('Kara no Kyoukai: Mirai Fukuin - Extra Chorus',), (\"Natsume's Book of Friends Season 2\",), ('The Seven Metamorphoses of Yamato Nadeshiko',), ('Owari no Seraph: Owaranai Seraph',), ('Tower of Druaga: The Sword of Uruk',), ('Eureka Seven - good night, sleep tight, young lovers',), ('Honey and Clover II',), ('Fate/Prototype',), ('Danna ga Nani wo Itteiru ka Wakaranai Ken 2nd Season',), ('A Letter to Momo',), ('Psychic School Wars',), ('Non Non Biyori Repeat',), '...(remaining elements truncated)...']>"
      ]
     },
     "execution_count": 20,
     "metadata": {},
     "output_type": "execute_result"
    }
   ],
   "source": [
    "Work.objects.filter(nb_dislikes__lte=1, nb_likes__gte=10).values_list('title')"
   ]
  },
  {
   "cell_type": "code",
   "execution_count": 21,
   "metadata": {},
   "outputs": [
    {
     "name": "stdout",
     "output_type": "stream",
     "text": [
      "\\section{228 perles rares}\n",
      "\\begin{tabular}{ccccc} \\toprule\n",
      "\\# & Work & # Ratings & # Like & # Hate\\\\ \\midrule\n",
      "1 & \\href{https://mangaki.fr/anime/9895}{Psychic School Wars} & 32 & 15 & 0\\\\\n",
      "2 & \\href{https://mangaki.fr/anime/9038}{GARO THE ANIMATION} & 31 & 22 & 0\\\\\n",
      "3 & \\href{https://mangaki.fr/anime/9071}{Psycho-Pass: The Movie} & 51 & 37 & 0\\\\\n",
      "4 & \\href{https://mangaki.fr/anime/2767}{The Boy and the Beast} & 60 & 30 & 0\\\\\n",
      "5 & \\href{https://mangaki.fr/anime/1380}{Kara no Kyoukai 6: Boukyaku Rokuon} & 82 & 54 & 1\\\\\n",
      "6 & \\href{https://mangaki.fr/anime/1304}{Natsume's Book of Friends Season 2} & 62 & 46 & 1\\\\\n",
      "7 & \\href{https://mangaki.fr/anime/9814}{Samurai X: Trust and Betrayal} & 58 & 45 & 1\\\\\n",
      "8 & \\href{https://mangaki.fr/anime/902}{A Letter to Momo} & 58 & 42 & 1\\\\\n",
      "9 & \\href{https://mangaki.fr/anime/9863}{True Tears} & 60 & 41 & 1\\\\\n",
      "10 & \\href{https://mangaki.fr/anime/10042}{My Teen Romantic Comedy SNAFU TOO!} & 48 & 41 & 1\\\\\n",
      "11 & \\href{https://mangaki.fr/anime/2913}{Tasogare Otome x Amnesia: Taima Otome} & 53 & 40 & 1\\\\\n",
      "12 & \\href{https://mangaki.fr/anime/1063}{Moribito - Guardian of the Spirit} & 56 & 38 & 1\\\\\n",
      "13 & \\href{https://mangaki.fr/anime/3933}{On Your Mark} & 51 & 36 & 1\\\\\n",
      "14 & \\href{https://mangaki.fr/anime/3428}{Suisei no Gargantia Specials} & 50 & 35 & 1\\\\\n",
      "15 & \\href{https://mangaki.fr/anime/10565}{Genshiken 2} & 43 & 30 & 1\\\\\n",
      "16 & \\href{https://mangaki.fr/anime/3187}{Pale Cocoon} & 41 & 30 & 1\\\\\n",
      "17 & \\href{https://mangaki.fr/anime/1706}{Princess Jellyfish} & 35 & 29 & 1\\\\\n",
      "18 & \\href{https://mangaki.fr/anime/9939}{Eureka Seven - good night, sleep tight, young lovers} & 47 & 29 & 1\\\\\n",
      "19 & \\href{https://mangaki.fr/anime/1949}{Chihayafuru 2: Waga Mi Yo ni Furu Nagame Seshi Ma ni} & 35 & 28 & 1\\\\\n",
      "20 & \\href{https://mangaki.fr/anime/347}{Tokyo Magnitude 8.0} & 80 & 55 & 2\\\\ \\bottomrule\n",
      "21 & \\href{https://mangaki.fr/anime/10268}{Little Busters! Refrain} & 35 & 27 & 1\\\\\n",
      "22 & \\href{https://mangaki.fr/anime/10256}{Fate/Prototype} & 38 & 27 & 1\\\\\n",
      "23 & \\href{https://mangaki.fr/anime/2562}{Mushishi Special: Hihamukage} & 71 & 53 & 2\\\\\n",
      "24 & \\href{https://mangaki.fr/anime/9981}{Someone's Gaze} & 36 & 25 & 1\\\\\n",
      "25 & \\href{https://mangaki.fr/anime/9732}{Selector Spread WIXOSS} & 35 & 25 & 1\\\\\n",
      "26 & \\href{https://mangaki.fr/anime/8828}{Dead Leaves} & 34 & 25 & 1\\\\\n",
      "27 & \\href{https://mangaki.fr/anime/2555}{City Hunter '91} & 32 & 24 & 1\\\\\n",
      "28 & \\href{https://mangaki.fr/anime/9942}{Aoi Bungaku Series} & 31 & 24 & 1\\\\\n",
      "29 & \\href{https://mangaki.fr/anime/417}{Piano no Mori} & 64 & 47 & 2\\\\\n",
      "30 & \\href{https://mangaki.fr/anime/8283}{JoJo's Bizarre Adventure} & 32 & 23 & 1\\\\\n",
      "31 & \\href{https://mangaki.fr/anime/1386}{Kara no Kyoukai: Mirai Fukuin} & 61 & 46 & 2\\\\\n",
      "32 & \\href{https://mangaki.fr/anime/2470}{Chrome Shelled Regios} & 41 & 22 & 1\\\\\n",
      "33 & \\href{https://mangaki.fr/anime/1235}{Kore wa Zombie Desu ka? of the Dead OVA} & 34 & 22 & 1\\\\\n",
      "34 & \\href{https://mangaki.fr/anime/11261}{Road to Ninja: Naruto the Movie} & 31 & 22 & 1\\\\\n",
      "35 & \\href{https://mangaki.fr/anime/2563}{Mushishi Zoku Shou Special} & 59 & 42 & 2\\\\\n",
      "36 & \\href{https://mangaki.fr/anime/785}{Patema Inverted: Beginning of the Day} & 66 & 42 & 2\\\\\n",
      "37 & \\href{https://mangaki.fr/anime/1305}{Natsume's Book of Friends Season 3} & 55 & 41 & 2\\\\\n",
      "38 & \\href{https://mangaki.fr/anime/9649}{Place to Place} & 34 & 20 & 1\\\\\n",
      "39 & \\href{https://mangaki.fr/anime/2268}{Good Luck Girl!} & 54 & 40 & 2\\\\\n",
      "40 & \\href{https://mangaki.fr/anime/10378}{Sound of the Sky} & 33 & 20 & 1\\\\\n",
      "41 & \\href{https://mangaki.fr/anime/1987}{Voices of a Distant Star} & 124 & 79 & 4\\\\\n",
      "42 & \\href{https://mangaki.fr/anime/12369}{Rokka: Braves of the Six Flowers} & 56 & 39 & 2\\\\\n",
      "43 & \\href{https://mangaki.fr/anime/14248}{ERASED} & 54 & 39 & 2\\\\\n",
      "44 & \\href{https://mangaki.fr/anime/2412}{Attack on Titan: Crimson Bow and Arrow} & 71 & 58 & 3\\\\\n",
      "45 & \\href{https://mangaki.fr/anime/8102}{Kannagi: Moshimo Kannagi ga Attara...} & 31 & 19 & 1\\\\\n",
      "46 & \\href{https://mangaki.fr/anime/10156}{Rec} & 56 & 38 & 2\\\\\n",
      "47 & \\href{https://mangaki.fr/anime/9864}{The Heroic Legend of Arslan} & 119 & 76 & 4\\\\\n",
      "48 & \\href{https://mangaki.fr/anime/2564}{Mushishi Zoku Shou 2nd Season} & 79 & 57 & 3\\\\\n",
      "49 & \\href{https://mangaki.fr/anime/1839}{MUSHI-SHI -Next Passage-} & 107 & 75 & 4\\\\\n",
      "50 & \\href{https://mangaki.fr/anime/786}{Time of Eve} & 119 & 72 & 4\\\\\n",
      "51 & \\href{https://mangaki.fr/anime/340}{Tsubasa: Tokyo Revelations} & 51 & 36 & 2\\\\\n",
      "52 & \\href{https://mangaki.fr/anime/10202}{Ani*Kuri15} & 30 & 18 & 1\\\\\n",
      "53 & \\href{https://mangaki.fr/anime/1656}{Genshiken} & 77 & 53 & 3\\\\\n",
      "54 & \\href{https://mangaki.fr/anime/2049}{Knights of Sidonia} & 70 & 52 & 3\\\\\n",
      "55 & \\href{https://mangaki.fr/anime/10032}{D-Fragments!} & 62 & 51 & 3\\\\\n",
      "56 & \\href{https://mangaki.fr/anime/8296}{Harmonie} & 31 & 17 & 1\\\\\n",
      "57 & \\href{https://mangaki.fr/anime/2592}{Nodame Cantabile Paris Hen} & 68 & 51 & 3\\\\\n",
      "58 & \\href{https://mangaki.fr/anime/3543}{Nisekoi:} & 48 & 33 & 2\\\\\n",
      "59 & \\href{https://mangaki.fr/anime/2449}{Tsubasa Chronicle} & 103 & 66 & 4\\\\\n",
      "60 & \\href{https://mangaki.fr/anime/9423}{Blue Exorcist: Runaway Kuro} & 65 & 48 & 3\\\\\n",
      "61 & \\href{https://mangaki.fr/anime/10071}{Slayers} & 45 & 32 & 2\\\\\n",
      "62 & \\href{https://mangaki.fr/anime/1168}{Gintama: Kanketsu-hen - Yorozuya yo Eien Nare} & 47 & 32 & 2\\\\\n",
      "63 & \\href{https://mangaki.fr/anime/10384}{Tales of Symphonia The Animation: Sekai Tougou-hen} & 46 & 32 & 2\\\\\n",
      "64 & \\href{https://mangaki.fr/anime/1954}{Love, Chunibyo & Other Delusions! Rikka Version} & 43 & 31 & 2\\\\\n",
      "65 & \\href{https://mangaki.fr/anime/2593}{Nodame Cantabile Finale} & 86 & 62 & 4\\\\\n",
      "66 & \\href{https://mangaki.fr/anime/749}{Ghost in the Shell: Stand Alone Complex - Solid State Society} & 61 & 46 & 3\\\\\n",
      "67 & \\href{https://mangaki.fr/anime/1676}{The Place Promised in Our Early Days} & 93 & 61 & 4\\\\\n",
      "68 & \\href{https://mangaki.fr/anime/3177}{Mes voisins les Yamada} & 40 & 30 & 2\\\\\n",
      "69 & \\href{https://mangaki.fr/anime/2894}{Kaiji: Against All Rules} & 39 & 30 & 2\\\\\n",
      "70 & \\href{https://mangaki.fr/anime/1982}{Higurashi no Naku Koro ni Special: Nekogoroshi-hen} & 40 & 30 & 2\\\\\n",
      "71 & \\href{https://mangaki.fr/anime/1166}{Familiar of Zero F} & 32 & 15 & 1\\\\\n",
      "72 & \\href{https://mangaki.fr/anime/2934}{Looking Up At The Half-Moon} & 31 & 15 & 1\\\\\n",
      "73 & \\href{https://mangaki.fr/anime/10512}{Kaichou wa Maid-sama!: Goshujin-sama to Asonjao♥} & 45 & 30 & 2\\\\\n",
      "74 & \\href{https://mangaki.fr/anime/10370}{Tales of Symphonia The Animation: Tethe'alla-hen} & 41 & 30 & 2\\\\\n",
      "75 & \\href{https://mangaki.fr/anime/3289}{Macross} & 42 & 30 & 2\\\\\n",
      "76 & \\href{https://mangaki.fr/anime/877}{Goodbye Mr. Despair OAD} & 44 & 29 & 2\\\\\n",
      "77 & \\href{https://mangaki.fr/anime/2728}{Now and Then, Here and There} & 42 & 29 & 2\\\\\n",
      "78 & \\href{https://mangaki.fr/anime/8838}{Chaika -The Coffin Princess- Avenging Battle} & 42 & 29 & 2\\\\\n",
      "79 & \\href{https://mangaki.fr/anime/9575}{Detroit Metal City: The Animated Series} & 44 & 29 & 2\\\\\n",
      "80 & \\href{https://mangaki.fr/anime/1303}{Natsume's Book of Friends} & 110 & 72 & 5\\\\\n",
      "81 & \\href{https://mangaki.fr/anime/9480}{Yowamushi Pedal} & 63 & 42 & 3\\\\\n",
      "82 & \\href{https://mangaki.fr/anime/2023}{My Ordinary Life Episode 0} & 44 & 28 & 2\\\\\n",
      "83 & \\href{https://mangaki.fr/anime/3643}{Last Exile} & 84 & 56 & 4\\\\\n",
      "84 & \\href{https://mangaki.fr/anime/9936}{Cencoroll} & 64 & 42 & 3\\\\\n",
      "85 & \\href{https://mangaki.fr/anime/3330}{Gunbuster 2} & 42 & 28 & 2\\\\\n",
      "86 & \\href{https://mangaki.fr/anime/878}{Zan Sayonara Zetsubou Sensei} & 58 & 42 & 3\\\\\n",
      "87 & \\href{https://mangaki.fr/manga/4443}{Barakamon} & 113 & 68 & 5\\\\\n",
      "88 & \\href{https://mangaki.fr/anime/8661}{Whisper of the Heart} & 76 & 54 & 4\\\\\n",
      "89 & \\href{https://mangaki.fr/manga/6883}{Poison City} & 47 & 27 & 2\\\\\n",
      "90 & \\href{https://mangaki.fr/anime/997}{Yamada-kun to 7-nin no Majo (TV)} & 39 & 27 & 2\\\\\n",
      "91 & \\href{https://mangaki.fr/anime/10038}{Kill la Kill Special} & 35 & 27 & 2\\\\\n",
      "92 & \\href{https://mangaki.fr/anime/2027}{When Supernatural Battles Became Commonplace} & 97 & 54 & 4\\\\\n",
      "93 & \\href{https://mangaki.fr/anime/3329}{Gunbuster} & 83 & 54 & 4\\\\\n",
      "94 & \\href{https://mangaki.fr/anime/10110}{She and Her Cat: Their Standing Points} & 47 & 27 & 2\\\\\n",
      "95 & \\href{https://mangaki.fr/anime/2261}{Heaven's Memo Pad} & 70 & 40 & 3\\\\\n",
      "96 & \\href{https://mangaki.fr/anime/683}{Darker than Black: Kuro no Keiyakusha Special} & 63 & 39 & 3\\\\\n",
      "97 & \\href{https://mangaki.fr/anime/1951}{Chuunibyou demo Koi ga Shitai!: Depth of Field - Ai to Nikushimi Gekijou} & 43 & 26 & 2\\\\\n",
      "98 & \\href{https://mangaki.fr/anime/8899}{Koe de Oshigoto!} & 45 & 26 & 2\\\\\n",
      "99 & \\href{https://mangaki.fr/anime/158}{Ghost in the Shell: S.A.C. 2nd GIG - Individual Eleven} & 42 & 26 & 2\\\\\n",
      "100 & \\href{https://mangaki.fr/anime/9944}{Colorful ~ The Motion Picture} & 79 & 52 & 4\\\\\n",
      "101 & \\href{https://mangaki.fr/anime/1462}{[C] CONTROL - The Money and Soul of Possibility} & 77 & 51 & 4\\\\\n",
      "102 & \\href{https://mangaki.fr/anime/1762}{Magical Girl Lyrical Nanoha: The Movie 1st} & 47 & 38 & 3\\\\\n",
      "103 & \\href{https://mangaki.fr/anime/694}{Sword of the Stranger} & 113 & 76 & 6\\\\\n",
      "104 & \\href{https://mangaki.fr/anime/3310}{Metropolis} & 58 & 38 & 3\\\\\n",
      "105 & \\href{https://mangaki.fr/anime/10564}{Genshiken OVA} & 42 & 25 & 2\\\\\n",
      "106 & \\href{https://mangaki.fr/anime/9528}{xxxHOLiC} & 68 & 50 & 4\\\\\n",
      "107 & \\href{https://mangaki.fr/anime/540}{Seto no Hanayome OVA} & 32 & 25 & 2\\\\\n",
      "108 & \\href{https://mangaki.fr/anime/3932}{Noein: To Your Other Self} & 39 & 25 & 2\\\\\n",
      "109 & \\href{https://mangaki.fr/anime/10693}{K: Missing Kings} & 31 & 25 & 2\\\\\n",
      "110 & \\href{https://mangaki.fr/anime/2189}{Denpa Teki na Kanojo} & 47 & 25 & 2\\\\\n",
      "111 & \\href{https://mangaki.fr/manga/6499}{Monster Soul} & 40 & 25 & 2\\\\\n",
      "112 & \\href{https://mangaki.fr/anime/650}{Touhai Densetsu Akagi: Yami ni Maiorita Tensai} & 34 & 25 & 2\\\\\n",
      "113 & \\href{https://mangaki.fr/anime/8773}{Gunslinger Girl} & 36 & 25 & 2\\\\\n",
      "114 & \\href{https://mangaki.fr/anime/10248}{Jormungand Season 2: Perfect Order} & 58 & 37 & 3\\\\\n",
      "115 & \\href{https://mangaki.fr/anime/1779}{Saki} & 56 & 37 & 3\\\\\n",
      "116 & \\href{https://mangaki.fr/anime/8642}{Hell Girl: Two Mirrors} & 49 & 37 & 3\\\\\n",
      "117 & \\href{https://mangaki.fr/manga/4798}{City Hunter Ultime} & 68 & 37 & 3\\\\\n",
      "118 & \\href{https://mangaki.fr/anime/2067}{La Maison en Petits Cubes} & 54 & 37 & 3\\\\\n",
      "119 & \\href{https://mangaki.fr/anime/10034}{Noragami OVA} & 67 & 49 & 4\\\\\n",
      "120 & \\href{https://mangaki.fr/manga/7580}{The Arms Peddler} & 98 & 61 & 5\\\\\n",
      "121 & \\href{https://mangaki.fr/anime/382}{Nodame Cantabile Special} & 31 & 24 & 2\\\\\n",
      "122 & \\href{https://mangaki.fr/anime/368}{xxxHOLiC - A Midsummer Night's Dream} & 32 & 24 & 2\\\\\n",
      "123 & \\href{https://mangaki.fr/anime/8295}{Charlotte} & 35 & 24 & 2\\\\\n",
      "124 & \\href{https://mangaki.fr/anime/4030}{Nurarihyon no Mago: Sennen Makyou} & 36 & 24 & 2\\\\\n",
      "125 & \\href{https://mangaki.fr/anime/3889}{Saint Seiya: The Lost Canvas 2} & 32 & 24 & 2\\\\\n",
      "126 & \\href{https://mangaki.fr/anime/624}{Ore Monogatari!!} & 66 & 48 & 4\\\\\n",
      "127 & \\href{https://mangaki.fr/anime/9490}{Genshiken Second Season} & 30 & 24 & 2\\\\\n",
      "128 & \\href{https://mangaki.fr/anime/366}{Air in Summer} & 37 & 24 & 2\\\\\n",
      "129 & \\href{https://mangaki.fr/anime/8891}{JoJo's Bizarre Adventure: Stardust Crusaders} & 123 & 82 & 7\\\\\n",
      "130 & \\href{https://mangaki.fr/anime/222}{Gankutsuou: The Count of Monte Cristo} & 52 & 35 & 3\\\\\n",
      "131 & \\href{https://mangaki.fr/anime/8736}{Broken Blade 3} & 53 & 35 & 3\\\\\n",
      "132 & \\href{https://mangaki.fr/anime/1789}{Saki Achiga-hen: Episode of Side-A} & 34 & 23 & 2\\\\\n",
      "133 & \\href{https://mangaki.fr/anime/1657}{Rave Master} & 35 & 23 & 2\\\\\n",
      "134 & \\href{https://mangaki.fr/anime/2679}{Usagi Drop Specials} & 59 & 46 & 4\\\\\n",
      "135 & \\href{https://mangaki.fr/manga/4745}{Chi - Une vie de chat} & 40 & 23 & 2\\\\\n",
      "136 & \\href{https://mangaki.fr/anime/11010}{Hunter x Hunter: The Last Mission} & 36 & 23 & 2\\\\\n",
      "137 & \\href{https://mangaki.fr/anime/8788}{The Eccentric Family} & 33 & 23 & 2\\\\\n",
      "138 & \\href{https://mangaki.fr/anime/692}{Hyouka: Motsubeki Mono wa} & 69 & 46 & 4\\\\\n",
      "139 & \\href{https://mangaki.fr/anime/10543}{Senyuu.} & 33 & 23 & 2\\\\\n",
      "140 & \\href{https://mangaki.fr/manga/5641}{Hell's kitchen} & 35 & 23 & 2\\\\\n",
      "141 & \\href{https://mangaki.fr/anime/3108}{Squid Girl} & 50 & 34 & 3\\\\\n",
      "142 & \\href{https://mangaki.fr/anime/2060}{Tengen Toppa Gurren Lagann: Parallel Works} & 50 & 34 & 3\\\\\n",
      "143 & \\href{https://mangaki.fr/anime/1856}{Broken Blade 4} & 46 & 34 & 3\\\\\n",
      "144 & \\href{https://mangaki.fr/anime/1306}{Natsume's Book of Friends Four} & 58 & 45 & 4\\\\\n",
      "145 & \\href{https://mangaki.fr/anime/151}{The Tatami Galaxy} & 81 & 56 & 5\\\\\n",
      "146 & \\href{https://mangaki.fr/anime/3110}{Squid Girl 2} & 30 & 22 & 2\\\\\n",
      "147 & \\href{https://mangaki.fr/anime/907}{Escaflowne: A Girl in Gaea} & 36 & 22 & 2\\\\\n",
      "148 & \\href{https://mangaki.fr/anime/3419}{Kyousou Giga} & 37 & 22 & 2\\\\\n",
      "149 & \\href{https://mangaki.fr/anime/8803}{Planetes} & 57 & 33 & 3\\\\\n",
      "150 & \\href{https://mangaki.fr/anime/874}{Zoku Sayonara Zetsubou Sensei} & 100 & 66 & 6\\\\\n",
      "151 & \\href{https://mangaki.fr/anime/9952}{Croisée in a Foreign Labyrinth ~ The Animation} & 37 & 22 & 2\\\\\n",
      "152 & \\href{https://mangaki.fr/anime/736}{Kekkai Sensen} & 76 & 55 & 5\\\\\n",
      "153 & \\href{https://mangaki.fr/anime/3398}{Bokurano} & 46 & 33 & 3\\\\\n",
      "154 & \\href{https://mangaki.fr/anime/2474}{Tsubasa: Spring Thunder Chronicles} & 32 & 22 & 2\\\\\n",
      "155 & \\href{https://mangaki.fr/anime/169}{Toshokan Sensou} & 37 & 22 & 2\\\\\n",
      "156 & \\href{https://mangaki.fr/anime/10017}{One Outs} & 47 & 33 & 3\\\\\n",
      "157 & \\href{https://mangaki.fr/anime/2073}{anohana: The Flower We Saw That Day The Movie} & 116 & 76 & 7\\\\\n",
      "158 & \\href{https://mangaki.fr/anime/105}{Rurouni Kenshin: Meiji Kenkaku Romantan} & 101 & 65 & 6\\\\\n",
      "159 & \\href{https://mangaki.fr/anime/10342}{Tales of Symphonia The Animation: Sylvarant-hen} & 70 & 43 & 4\\\\\n",
      "160 & \\href{https://mangaki.fr/anime/1950}{Chuni-Shorts} & 46 & 32 & 3\\\\\n",
      "161 & \\href{https://mangaki.fr/anime/8388}{Xam'd: Lost Memories} & 50 & 32 & 3\\\\\n",
      "162 & \\href{https://mangaki.fr/anime/945}{Hikaru's Go} & 106 & 74 & 7\\\\\n",
      "163 & \\href{https://mangaki.fr/anime/10320}{The Comic Artist and His Assistants} & 37 & 21 & 2\\\\\n",
      "164 & \\href{https://mangaki.fr/anime/8231}{Kamisama Hajimemashita◎} & 66 & 42 & 4\\\\\n",
      "165 & \\href{https://mangaki.fr/anime/1791}{Saki Achiga-hen: Episode of Side-A Specials} & 34 & 21 & 2\\\\\n",
      "166 & \\href{https://mangaki.fr/anime/10021}{Yozakura Quartet: Hoshi no Umi} & 32 & 21 & 2\\\\\n",
      "167 & \\href{https://mangaki.fr/anime/1381}{Kara no Kyoukai 7: Satsujin Kousatsu (Part 2)} & 121 & 83 & 8\\\\\n",
      "168 & \\href{https://mangaki.fr/anime/1540}{Yahari Ore no Seishun Love Comedy wa Machigatteiru. OVA} & 40 & 31 & 3\\\\\n",
      "169 & \\href{https://mangaki.fr/anime/2158}{Student Council's Discretion} & 48 & 31 & 3\\\\\n",
      "170 & \\href{https://mangaki.fr/anime/1968}{Full Metal Panic! The Second Raid} & 95 & 62 & 6\\\\\n",
      "171 & \\href{https://mangaki.fr/anime/1720}{Detective Conan Movie 08: Magician of the Silver Sky} & 40 & 31 & 3\\\\\n",
      "172 & \\href{https://mangaki.fr/anime/760}{Ghost in the Shell 2.0} & 52 & 31 & 3\\\\\n",
      "173 & \\href{https://mangaki.fr/anime/4080}{Case Closed} & 52 & 41 & 4\\\\\n",
      "174 & \\href{https://mangaki.fr/anime/10010}{Sound! Euphonium} & 60 & 41 & 4\\\\\n",
      "175 & \\href{https://mangaki.fr/anime/2287}{The World God Only Knows: Goddesses} & 82 & 51 & 5\\\\\n",
      "176 & \\href{https://mangaki.fr/anime/714}{Black Lagoon: Roberta's Blood Trail} & 108 & 71 & 7\\\\\n",
      "177 & \\href{https://mangaki.fr/anime/1759}{Magical Girl Lyrical Nanoha} & 57 & 40 & 4\\\\\n",
      "178 & \\href{https://mangaki.fr/anime/8830}{Mysterious Girlfriend X} & 36 & 20 & 2\\\\\n",
      "179 & \\href{https://mangaki.fr/anime/3062}{Hakuouki} & 58 & 40 & 4\\\\\n",
      "180 & \\href{https://mangaki.fr/anime/9850}{Trigun: Badlands Rumble} & 30 & 20 & 2\\\\\n",
      "181 & \\href{https://mangaki.fr/anime/2313}{Sunday Without God} & 48 & 30 & 3\\\\\n",
      "182 & \\href{https://mangaki.fr/anime/8310}{Hanasaku Iroha the Movie: Home Sweet Home} & 48 & 30 & 3\\\\\n"
     ]
    },
    {
     "name": "stdout",
     "output_type": "stream",
     "text": [
      "183 & \\href{https://mangaki.fr/anime/2256}{The World God Only Knows: Flag 0} & 39 & 20 & 2\\\\\n",
      "184 & \\href{https://mangaki.fr/anime/3868}{Kino's Journey} & 54 & 40 & 4\\\\\n",
      "185 & \\href{https://mangaki.fr/anime/9513}{Love Live! School Idol Project 2nd Season} & 55 & 39 & 4\\\\\n",
      "186 & \\href{https://mangaki.fr/anime/1899}{Love Lab} & 45 & 29 & 3\\\\\n",
      "187 & \\href{https://mangaki.fr/anime/1948}{Chihayafuru 2} & 120 & 76 & 8\\\\\n",
      "188 & \\href{https://mangaki.fr/anime/10375}{Tales of Vesperia: The First Strike} & 30 & 19 & 2\\\\\n",
      "189 & \\href{https://mangaki.fr/anime/8409}{Hunter x Hunter OVA} & 105 & 75 & 8\\\\\n",
      "190 & \\href{https://mangaki.fr/manga/6655}{Noragami} & 91 & 56 & 6\\\\\n",
      "191 & \\href{https://mangaki.fr/anime/9587}{Tari Tari} & 49 & 28 & 3\\\\\n",
      "192 & \\href{https://mangaki.fr/anime/1636}{Sekaiichi Hatsukoi 2} & 38 & 28 & 3\\\\\n",
      "193 & \\href{https://mangaki.fr/anime/14510}{Toaru Kagaku no Railgun: Misaka-san wa Ima Chuumoku no Mato Desukara} & 55 & 37 & 4\\\\\n",
      "194 & \\href{https://mangaki.fr/anime/9358}{Carnival Phantasm} & 53 & 37 & 4\\\\\n",
      "195 & \\href{https://mangaki.fr/anime/2041}{Steins;Gate: Soumei Eichi no Cognitive Computing} & 48 & 36 & 4\\\\\n",
      "196 & \\href{https://mangaki.fr/anime/8664}{Bleach: Memories in the Rain} & 83 & 54 & 6\\\\\n",
      "197 & \\href{https://mangaki.fr/anime/8198}{Re:␣Hamatora} & 52 & 36 & 4\\\\\n",
      "198 & \\href{https://mangaki.fr/anime/8747}{Unbreakable Machine-Doll} & 60 & 36 & 4\\\\\n",
      "199 & \\href{https://mangaki.fr/manga/5595}{Hamatora} & 30 & 18 & 2\\\\\n",
      "200 & \\href{https://mangaki.fr/anime/3261}{Uchuu Kaizoku Captain Harlock} & 44 & 27 & 3\\\\\n",
      "201 & \\href{https://mangaki.fr/manga/5256}{Erased} & 79 & 45 & 5\\\\\n",
      "202 & \\href{https://mangaki.fr/anime/2026}{Daily Lives of High School Boys Specials} & 49 & 36 & 4\\\\\n",
      "203 & \\href{https://mangaki.fr/anime/796}{The Pilot's Love Song} & 32 & 18 & 2\\\\\n",
      "204 & \\href{https://mangaki.fr/anime/846}{Card Captor Sakura Movie 2: The Sealed Card} & 100 & 71 & 8\\\\\n",
      "205 & \\href{https://mangaki.fr/anime/1988}{Children who Chase Lost Voices} & 93 & 62 & 7\\\\\n",
      "206 & \\href{https://mangaki.fr/anime/807}{Nadia: Secret of Blue Water} & 76 & 53 & 6\\\\\n",
      "207 & \\href{https://mangaki.fr/anime/3449}{Working!!} & 116 & 79 & 9\\\\\n",
      "208 & \\href{https://mangaki.fr/anime/8737}{Broken Blade 5} & 52 & 35 & 4\\\\\n",
      "209 & \\href{https://mangaki.fr/anime/1995}{K-On!!: Keikaku!} & 49 & 35 & 4\\\\\n",
      "210 & \\href{https://mangaki.fr/anime/10004}{Shirobako} & 94 & 61 & 7\\\\\n",
      "211 & \\href{https://mangaki.fr/anime/1598}{Pom Poko} & 118 & 87 & 10\\\\\n",
      "212 & \\href{https://mangaki.fr/anime/9618}{Hanayamata} & 38 & 26 & 3\\\\\n",
      "213 & \\href{https://mangaki.fr/anime/1129}{Aoki Hagane no Arpeggio: Ars Nova} & 38 & 26 & 3\\\\\n",
      "214 & \\href{https://mangaki.fr/anime/9396}{Dragon Ball Z Movie 09: Bojack Unbound} & 45 & 26 & 3\\\\\n",
      "215 & \\href{https://mangaki.fr/anime/906}{The Vision of Escaflowne} & 116 & 78 & 9\\\\\n",
      "216 & \\href{https://mangaki.fr/anime/2507}{Arakawa Under the Bridge x Bridge} & 65 & 43 & 5\\\\\n",
      "217 & \\href{https://mangaki.fr/anime/8228}{Kamisama Kiss} & 58 & 43 & 5\\\\\n",
      "218 & \\href{https://mangaki.fr/anime/1275}{Saekano: How to Raise a Boring Girlfriend} & 67 & 43 & 5\\\\\n",
      "219 & \\href{https://mangaki.fr/anime/1939}{Danna ga Nani wo Itteiru ka Wakaranai Ken} & 120 & 77 & 9\\\\\n",
      "220 & \\href{https://mangaki.fr/anime/2017}{Lucky☆Star: Original na Visual to Animation} & 102 & 77 & 9\\\\\n",
      "221 & \\href{https://mangaki.fr/anime/2109}{Dragon Ball Z Movie 04: Lord Slug} & 33 & 17 & 2\\\\\n",
      "222 & \\href{https://mangaki.fr/anime/14647}{A Certain Magical Index the Movie: The Miracle of Endymion} & 49 & 34 & 4\\\\\n",
      "223 & \\href{https://mangaki.fr/anime/3236}{Kaiba} & 58 & 34 & 4\\\\\n",
      "224 & \\href{https://mangaki.fr/anime/2803}{Kimi ni Todoke 2nd Season: Kataomoi} & 35 & 17 & 2\\\\\n",
      "225 & \\href{https://mangaki.fr/anime/4024}{Hanasaku Iroha ~Blossoms for Tomorrow~} & 90 & 59 & 7\\\\\n",
      "226 & \\href{https://mangaki.fr/anime/10292}{Kami nomi zo Shiru Sekai: Tenri-hen} & 57 & 42 & 5\\\\\n",
      "227 & \\href{https://mangaki.fr/anime/1729}{Silver Spoon 2nd Season} & 60 & 42 & 5\\\\\n",
      "228 & \\href{https://mangaki.fr/anime/1875}{Dennou Coil} & 71 & 42 & 5\\\\\n",
      "\\end{tabular}\n"
     ]
    }
   ],
   "source": [
    "queryset = (Work.objects.exclude(nb_likes=0).annotate(\n",
    "    dislike_rate=ExpressionWrapper(Cast(F('nb_dislikes'), FloatField()) / F('nb_likes'), output_field=FloatField()))\n",
    "    .filter(nb_ratings__gte=30, nb_ratings__lte=126, dislike_rate__lte=5/42)\n",
    "    .order_by('dislike_rate'))\n",
    "print(r'\\section{{{} perles rares}}'.format(queryset.count()))\n",
    "header(['\\#', 'Work', '# Ratings', '# Like', '# Hate'])\n",
    "for rank, work in enumerate(queryset, start=1):\n",
    "    print(r'{} & \\href{{https://mangaki.fr/{}/{}}}{{{}}} & {} & {} & {}\\\\{}'.format(rank, work.category.slug, work.id, work.title, work.nb_ratings, work.nb_likes, work.nb_dislikes, r' \\bottomrule' if rank == MAX else ''))\n",
    "footer()"
   ]
  },
  {
   "cell_type": "code",
   "execution_count": 71,
   "metadata": {},
   "outputs": [
    {
     "data": {
      "text/plain": [
       "Counter({'dislike': 1, 'like': 14, 'neutral': 5, 'willsee': 5, 'wontsee': 4})"
      ]
     },
     "execution_count": 71,
     "metadata": {},
     "output_type": "execute_result"
    }
   ],
   "source": [
    "get_ratings(Work.objects.filter(title__icontains='Fujiko')[3])"
   ]
  },
  {
   "cell_type": "code",
   "execution_count": 43,
   "metadata": {},
   "outputs": [
    {
     "data": {
      "text/plain": [
       "<WorkQuerySet [('Fairy Tail', 238), ('Naruto: Shippuuden', 226), ('Naruto', 211), ('Bleach', 178), ('Dragon Ball GT', 161), ('Yu-Gi-Oh! GX', 158), ('School Days', 155), ('Sword Art Online', 136), ('One Piece', 117), ('Dragon Ball Z Movie 11: Bio-Broly', 107), ('Kiss x Sis', 96), ('Rosario to Vampire', 96), ('Highschool of the Dead', 94), ('IS: Infinite Stratos', 92), ('Naruto the Movie 2: Legend of the Stone of Gelel', 89), ('Fairy Tail', 88), ('Vampire Knight', 82), ('Dragon Ball Z', 80), ('Angel Beats!', 74), ('Sword Art Online II', 73), '...(remaining elements truncated)...']>"
      ]
     },
     "execution_count": 43,
     "metadata": {},
     "output_type": "execute_result"
    }
   ],
   "source": [
    "Work.objects.order_by('-nb_dislikes').values_list('title', 'nb_dislikes')"
   ]
  },
  {
   "cell_type": "code",
   "execution_count": 30,
   "metadata": {},
   "outputs": [
    {
     "data": {
      "text/plain": [
       "<WorkQuerySet [<Work: Fullmetal Alchemist - Edition reliée>, <Work: FullMetal Alchemist>, <Work: Fullmetal Alchemist: Brotherhood>, <Work: Steins;Gate>, <Work: Princesse Mononoké>, <Work: Le Voyage de Chihiro>, <Work: Tokyo ghoul>, <Work: L'Attaque des Titans>, <Work: Death note>, <Work: Your Lie in April>]>"
      ]
     },
     "execution_count": 30,
     "metadata": {},
     "output_type": "execute_result"
    }
   ],
   "source": []
  },
  {
   "cell_type": "code",
   "execution_count": 31,
   "metadata": {},
   "outputs": [
    {
     "name": "stdout",
     "output_type": "stream",
     "text": [
      "Girls Bravo: First Season 26 likes 39 dislikes\n",
      "Astarotte's Toy 31 likes 38 dislikes\n",
      "Captain Earth 25 likes 35 dislikes\n",
      "Vividred Operation 13 likes 22 dislikes\n",
      "Choujigen Game Neptune: The Animation 27 likes 33 dislikes\n",
      "Ai non stop! 24 likes 33 dislikes\n",
      "Haruka Nogizaka's Secret 24 likes 27 dislikes\n",
      "Dragon Ball GT 87 likes 161 dislikes\n",
      "Dog Days 55 likes 66 dislikes\n",
      "Glasslip 23 likes 36 dislikes\n"
     ]
    }
   ],
   "source": [
    "for work in Work.objects.top().reverse()[:10]:\n",
    "    print(work.title, work.nb_likes, 'likes', work.nb_dislikes, 'dislikes')"
   ]
  },
  {
   "cell_type": "code",
   "execution_count": null,
   "metadata": {
    "collapsed": true
   },
   "outputs": [],
   "source": []
  }
 ],
 "metadata": {
  "kernelspec": {
   "display_name": "Django Shell-Plus",
   "language": "python",
   "name": "django_extensions"
  },
  "language_info": {
   "codemirror_mode": {
    "name": "ipython",
    "version": 3
   },
   "file_extension": ".py",
   "mimetype": "text/x-python",
   "name": "python",
   "nbconvert_exporter": "python",
   "pygments_lexer": "ipython3",
   "version": "3.6.2"
  },
  "widgets": {
   "application/vnd.jupyter.widget-state+json": {
    "state": {
     "01b198f9331046d7ad497bd982058ab7": {
      "model_module": "jupyter-js-widgets",
      "model_module_version": "~2.1.4",
      "model_name": "IntSliderModel",
      "state": {
       "_model_module_version": "~2.1.4",
       "_view_module_version": "~2.1.4",
       "description": "min_ratings",
       "layout": "IPY_MODEL_4ee30685dde4413ebf5673c50a9e9747",
       "max": 60,
       "min": -20,
       "style": "IPY_MODEL_7951f094a77242b19befefa7f0500050",
       "value": 20
      }
     },
     "03f601eb2fe64fab95f3db3421cd0c96": {
      "model_module": "jupyter-js-widgets",
      "model_module_version": "~2.1.4",
      "model_name": "LayoutModel",
      "state": {
       "_model_module_version": "~2.1.4",
       "_view_module_version": "~2.1.4"
      }
     },
     "049ad64cc86f4983901ff83b67a5d641": {
      "model_module": "jupyter-js-widgets",
      "model_module_version": "~2.1.4",
      "model_name": "LayoutModel",
      "state": {
       "_model_module_version": "~2.1.4",
       "_view_module_version": "~2.1.4"
      }
     },
     "06d33d1fe9e84db7b044bb0ac3ca0204": {
      "model_module": "jupyter-js-widgets",
      "model_module_version": "~2.1.4",
      "model_name": "LayoutModel",
      "state": {
       "_model_module_version": "~2.1.4",
       "_view_module_version": "~2.1.4"
      }
     },
     "0b58495ad7cd4f759e880be61c737f47": {
      "model_module": "jupyter-js-widgets",
      "model_module_version": "~2.1.4",
      "model_name": "LayoutModel",
      "state": {
       "_model_module_version": "~2.1.4",
       "_view_module_version": "~2.1.4"
      }
     },
     "0e0996d5bcf8499d929c4f626d726bfd": {
      "model_module": "jupyter-js-widgets",
      "model_module_version": "~2.1.4",
      "model_name": "LayoutModel",
      "state": {
       "_model_module_version": "~2.1.4",
       "_view_module_version": "~2.1.4"
      }
     },
     "0ebfe144d6424a41947da5c826a46757": {
      "model_module": "jupyter-js-widgets",
      "model_module_version": "~2.1.4",
      "model_name": "SliderStyleModel",
      "state": {
       "_model_module_version": "~2.1.4",
       "_view_module_version": "~2.1.4"
      }
     },
     "1044a4d8a7a149b4a8aca27c1eb9d966": {
      "model_module": "jupyter-js-widgets",
      "model_module_version": "~2.1.4",
      "model_name": "OutputModel",
      "state": {
       "_dom_classes": [],
       "_model_module": "jupyter-js-widgets",
       "_model_module_version": "~2.1.4",
       "_view_module": "jupyter-js-widgets",
       "_view_module_version": "~2.1.4",
       "layout": "IPY_MODEL_e440da2369cc4a66bf8f087564c61539",
       "msg_throttle": 1
      }
     },
     "11816a0e389e4b2eaa05d15378dc7cf9": {
      "model_module": "jupyter-js-widgets",
      "model_module_version": "~2.1.4",
      "model_name": "LayoutModel",
      "state": {
       "_model_module_version": "~2.1.4",
       "_view_module_version": "~2.1.4"
      }
     },
     "11c3d257e88340a783e6250865fd7aa3": {
      "model_module": "jupyter-js-widgets",
      "model_module_version": "~2.1.4",
      "model_name": "IntSliderModel",
      "state": {
       "_model_module_version": "~2.1.4",
       "_view_module_version": "~2.1.4",
       "description": "min_ratings",
       "layout": "IPY_MODEL_43397c23a4934b8bb0d67b9dc0a4a335",
       "max": 60,
       "min": -20,
       "style": "IPY_MODEL_767528a65f374c70867f9732fab326fa",
       "value": 20
      }
     },
     "1223f411f9184ab99053377fe71fdc2e": {
      "model_module": "jupyter-js-widgets",
      "model_module_version": "~2.1.4",
      "model_name": "LayoutModel",
      "state": {
       "_model_module_version": "~2.1.4",
       "_view_module_version": "~2.1.4"
      }
     },
     "12bdc8548f1340ac8c09c02fdc9b954a": {
      "model_module": "jupyter-js-widgets",
      "model_module_version": "~2.1.4",
      "model_name": "LayoutModel",
      "state": {
       "_model_module_version": "~2.1.4",
       "_view_module_version": "~2.1.4"
      }
     },
     "12e64b381cce409eabeaff773a16ef23": {
      "model_module": "jupyter-js-widgets",
      "model_module_version": "~2.1.4",
      "model_name": "LayoutModel",
      "state": {
       "_model_module_version": "~2.1.4",
       "_view_module_version": "~2.1.4"
      }
     },
     "16cc0cc9b01342c6b5224ec0f9ce5636": {
      "model_module": "jupyter-js-widgets",
      "model_module_version": "~2.1.4",
      "model_name": "SliderStyleModel",
      "state": {
       "_model_module_version": "~2.1.4",
       "_view_module_version": "~2.1.4"
      }
     },
     "18790eef895e4e25bf22ab6c43b92fa7": {
      "model_module": "jupyter-js-widgets",
      "model_module_version": "~2.1.4",
      "model_name": "LayoutModel",
      "state": {
       "_model_module_version": "~2.1.4",
       "_view_module_version": "~2.1.4"
      }
     },
     "1947c32258c846e0be4fd74253affcae": {
      "model_module": "jupyter-js-widgets",
      "model_module_version": "~2.1.4",
      "model_name": "IntSliderModel",
      "state": {
       "_model_module_version": "~2.1.4",
       "_view_module_version": "~2.1.4",
       "description": "max_ratings",
       "layout": "IPY_MODEL_0b58495ad7cd4f759e880be61c737f47",
       "max": 378,
       "min": -126,
       "style": "IPY_MODEL_1f0b3e6e9ec446f7abaefe83db6aaadd",
       "value": 126
      }
     },
     "194f17e544be433b9ea90b3a6a0fa90d": {
      "model_module": "jupyter-js-widgets",
      "model_module_version": "~2.1.4",
      "model_name": "OutputModel",
      "state": {
       "_dom_classes": [],
       "_model_module": "jupyter-js-widgets",
       "_model_module_version": "~2.1.4",
       "_view_module": "jupyter-js-widgets",
       "_view_module_version": "~2.1.4",
       "layout": "IPY_MODEL_6f733e2d69c0448b9b1816e4d9deb463",
       "msg_throttle": 1
      }
     },
     "1c7399c7b5814a6aa79b964ecbb4dd30": {
      "model_module": "jupyter-js-widgets",
      "model_module_version": "~2.1.4",
      "model_name": "SliderStyleModel",
      "state": {
       "_model_module_version": "~2.1.4",
       "_view_module_version": "~2.1.4"
      }
     },
     "1da717af5a084868986b373d7bf8ec5c": {
      "model_module": "jupyter-js-widgets",
      "model_module_version": "~2.1.4",
      "model_name": "LayoutModel",
      "state": {
       "_model_module_version": "~2.1.4",
       "_view_module_version": "~2.1.4"
      }
     },
     "1f0b3e6e9ec446f7abaefe83db6aaadd": {
      "model_module": "jupyter-js-widgets",
      "model_module_version": "~2.1.4",
      "model_name": "SliderStyleModel",
      "state": {
       "_model_module_version": "~2.1.4",
       "_view_module_version": "~2.1.4"
      }
     },
     "1f6f2b0e406d4246967cd8d1793a94a6": {
      "model_module": "jupyter-js-widgets",
      "model_module_version": "~2.1.4",
      "model_name": "SliderStyleModel",
      "state": {
       "_model_module_version": "~2.1.4",
       "_view_module_version": "~2.1.4"
      }
     },
     "1f847ecadf3b469da402693822e24ee2": {
      "model_module": "jupyter-js-widgets",
      "model_module_version": "~2.1.4",
      "model_name": "IntSliderModel",
      "state": {
       "_model_module_version": "~2.1.4",
       "_view_module_version": "~2.1.4",
       "description": "min_ratings",
       "layout": "IPY_MODEL_4f65c01d691b48828d96711eee4e45ca",
       "max": 60,
       "min": -20,
       "style": "IPY_MODEL_8f1bddfd2a35426f9c180900842c3fc4",
       "value": 14
      }
     },
     "2071502a4f4a438eb9a0509af7dcc618": {
      "model_module": "jupyter-js-widgets",
      "model_module_version": "~2.1.4",
      "model_name": "LayoutModel",
      "state": {
       "_model_module_version": "~2.1.4",
       "_view_module_version": "~2.1.4"
      }
     },
     "20a8c6f547bb476191fd2800ece98b86": {
      "model_module": "jupyter-js-widgets",
      "model_module_version": "~2.1.4",
      "model_name": "LayoutModel",
      "state": {
       "_model_module_version": "~2.1.4",
       "_view_module_version": "~2.1.4"
      }
     },
     "2281fd6d2ff94c998c66dd713250b65c": {
      "model_module": "jupyter-js-widgets",
      "model_module_version": "~2.1.4",
      "model_name": "LayoutModel",
      "state": {
       "_model_module_version": "~2.1.4",
       "_view_module_version": "~2.1.4"
      }
     },
     "2558821359144f32b7840ea5f1bc3485": {
      "model_module": "jupyter-js-widgets",
      "model_module_version": "~2.1.4",
      "model_name": "IntSliderModel",
      "state": {
       "_model_module_version": "~2.1.4",
       "_view_module_version": "~2.1.4",
       "description": "min_ratings",
       "layout": "IPY_MODEL_b6e514f9ac0e46ad9a726a479968c5a6",
       "max": 60,
       "min": -20,
       "style": "IPY_MODEL_a60edc2a111c41a3bcffab73e5b9bf1a",
       "value": 20
      }
     },
     "276ff52093f9492bb6e905081bed42cc": {
      "model_module": "jupyter-js-widgets",
      "model_module_version": "~2.1.4",
      "model_name": "OutputModel",
      "state": {
       "_dom_classes": [],
       "_model_module": "jupyter-js-widgets",
       "_model_module_version": "~2.1.4",
       "_view_module": "jupyter-js-widgets",
       "_view_module_version": "~2.1.4",
       "layout": "IPY_MODEL_1223f411f9184ab99053377fe71fdc2e",
       "msg_throttle": 1
      }
     },
     "2acc7a69d1044c0ca1e9585813518f72": {
      "model_module": "jupyter-js-widgets",
      "model_module_version": "~2.1.4",
      "model_name": "LayoutModel",
      "state": {
       "_model_module_version": "~2.1.4",
       "_view_module_version": "~2.1.4"
      }
     },
     "2f7f87fdb2be45e1b20875989b6748d1": {
      "model_module": "jupyter-js-widgets",
      "model_module_version": "~2.1.4",
      "model_name": "LayoutModel",
      "state": {
       "_model_module_version": "~2.1.4",
       "_view_module_version": "~2.1.4"
      }
     },
     "2fba9d0825d44ceea11a294abb4b5e76": {
      "model_module": "jupyter-js-widgets",
      "model_module_version": "~2.1.4",
      "model_name": "VBoxModel",
      "state": {
       "_dom_classes": [
        "widget-interact"
       ],
       "_model_module_version": "~2.1.4",
       "_view_module_version": "~2.1.4",
       "children": [
        "IPY_MODEL_d2fa49f38ae44e6a86b4f288efe084f4",
        "IPY_MODEL_4224821b07e94cb48ef3307536696aaa",
        "IPY_MODEL_73a44341e892472696d79e37a7694235",
        "IPY_MODEL_e98bafcf4eb44630a59cc322b04edd0b"
       ],
       "layout": "IPY_MODEL_dc48c8ed0e9545309b5cba7462847bb3"
      }
     },
     "3056761ab16a4e7fb92e2a9a0029c740": {
      "model_module": "jupyter-js-widgets",
      "model_module_version": "~2.1.4",
      "model_name": "SliderStyleModel",
      "state": {
       "_model_module_version": "~2.1.4",
       "_view_module_version": "~2.1.4"
      }
     },
     "30b77384b6604c71b899b16a784f2e67": {
      "model_module": "jupyter-js-widgets",
      "model_module_version": "~2.1.4",
      "model_name": "VBoxModel",
      "state": {
       "_dom_classes": [
        "widget-interact"
       ],
       "_model_module_version": "~2.1.4",
       "_view_module_version": "~2.1.4",
       "children": [
        "IPY_MODEL_8b724e40acda4a19a6dfdc47b3959eb8",
        "IPY_MODEL_74812b78784b4e25be1e9014cefe218c"
       ],
       "layout": "IPY_MODEL_df8584ddeb62413daba2106bbcab36f8"
      }
     },
     "347af63c1eb4420fb90d0cab697af373": {
      "model_module": "jupyter-js-widgets",
      "model_module_version": "~2.1.4",
      "model_name": "LayoutModel",
      "state": {
       "_model_module_version": "~2.1.4",
       "_view_module_version": "~2.1.4"
      }
     },
     "362c5188958047b4b0005caa4f06b756": {
      "model_module": "jupyter-js-widgets",
      "model_module_version": "~2.1.4",
      "model_name": "LayoutModel",
      "state": {
       "_model_module_version": "~2.1.4",
       "_view_module_version": "~2.1.4"
      }
     },
     "36d077dab2404a8694607c376f412f43": {
      "model_module": "jupyter-js-widgets",
      "model_module_version": "~2.1.4",
      "model_name": "OutputModel",
      "state": {
       "_dom_classes": [],
       "_model_module": "jupyter-js-widgets",
       "_model_module_version": "~2.1.4",
       "_view_module": "jupyter-js-widgets",
       "_view_module_version": "~2.1.4",
       "layout": "IPY_MODEL_20a8c6f547bb476191fd2800ece98b86",
       "msg_throttle": 1
      }
     },
     "379913b4c3a94c0bba74655e3abc41e5": {
      "model_module": "jupyter-js-widgets",
      "model_module_version": "~2.1.4",
      "model_name": "LayoutModel",
      "state": {
       "_model_module_version": "~2.1.4",
       "_view_module_version": "~2.1.4"
      }
     },
     "391f933324e2402e9524159b2cebf3f5": {
      "model_module": "jupyter-js-widgets",
      "model_module_version": "~2.1.4",
      "model_name": "VBoxModel",
      "state": {
       "_dom_classes": [
        "widget-interact"
       ],
       "_model_module_version": "~2.1.4",
       "_view_module_version": "~2.1.4",
       "children": [
        "IPY_MODEL_ed8f6232982a49018abedfae077e102f",
        "IPY_MODEL_11c3d257e88340a783e6250865fd7aa3",
        "IPY_MODEL_77e8eb9dc70040c58437517155b67c91",
        "IPY_MODEL_1044a4d8a7a149b4a8aca27c1eb9d966"
       ],
       "layout": "IPY_MODEL_71bd567bd61e41d5a2c89423587312d5"
      }
     },
     "3a613d0cf7b740bc8ea78e21bc628d83": {
      "model_module": "jupyter-js-widgets",
      "model_module_version": "~2.1.4",
      "model_name": "OutputModel",
      "state": {
       "_dom_classes": [],
       "_model_module": "jupyter-js-widgets",
       "_model_module_version": "~2.1.4",
       "_view_module": "jupyter-js-widgets",
       "_view_module_version": "~2.1.4",
       "layout": "IPY_MODEL_d637e585150641d5a44feb5d7b4467b2",
       "msg_throttle": 1
      }
     },
     "3bd9d5a1061047cfb036d795b80102a6": {
      "model_module": "jupyter-js-widgets",
      "model_module_version": "~2.1.4",
      "model_name": "FloatSliderModel",
      "state": {
       "_model_module_version": "~2.1.4",
       "_view_module_version": "~2.1.4",
       "description": "dislike_rate",
       "layout": "IPY_MODEL_987b813f535740e5aea821015f64118d",
       "max": 0.3571428571428571,
       "min": -0.11904761904761904,
       "step": 0.1,
       "value": 0.11904761904761904
      }
     },
     "3bee11469d1b48858af2906936f5cbf3": {
      "model_module": "jupyter-js-widgets",
      "model_module_version": "~2.1.4",
      "model_name": "IntSliderModel",
      "state": {
       "_model_module_version": "~2.1.4",
       "_view_module_version": "~2.1.4",
       "description": "min_ratings",
       "layout": "IPY_MODEL_2f7f87fdb2be45e1b20875989b6748d1",
       "max": 60,
       "min": -20,
       "style": "IPY_MODEL_3056761ab16a4e7fb92e2a9a0029c740",
       "value": 20
      }
     },
     "3dd94287b008491da8dbd88105705f6a": {
      "model_module": "jupyter-js-widgets",
      "model_module_version": "~2.1.4",
      "model_name": "VBoxModel",
      "state": {
       "_dom_classes": [
        "widget-interact"
       ],
       "_model_module_version": "~2.1.4",
       "_view_module_version": "~2.1.4",
       "children": [
        "IPY_MODEL_ca1f03cb1aec4592a8d756d37e8e78f4",
        "IPY_MODEL_9f7626c79c9642ae847766ff3accc566",
        "IPY_MODEL_b829ed02705c4cf3a449af66ac7f2f09",
        "IPY_MODEL_504e1af8ceec4aba8a510d9af172d675"
       ],
       "layout": "IPY_MODEL_03f601eb2fe64fab95f3db3421cd0c96"
      }
     },
     "3eb8e2dfba454da5a0a6e2465d98c4b0": {
      "model_module": "jupyter-js-widgets",
      "model_module_version": "~2.1.4",
      "model_name": "IntSliderModel",
      "state": {
       "_model_module_version": "~2.1.4",
       "_view_module_version": "~2.1.4",
       "description": "min_ratings",
       "layout": "IPY_MODEL_6376f923b8c94bd4a00ba2e7c705d57c",
       "max": 60,
       "min": -20,
       "style": "IPY_MODEL_5e232bf1112a457aa6c37250d6f57a52",
       "value": 20
      }
     },
     "414d356ad45240aba57560602eea6d1e": {
      "model_module": "jupyter-js-widgets",
      "model_module_version": "~2.1.4",
      "model_name": "VBoxModel",
      "state": {
       "_dom_classes": [
        "widget-interact"
       ],
       "_model_module_version": "~2.1.4",
       "_view_module_version": "~2.1.4",
       "layout": "IPY_MODEL_98d4c68bcbf64dc8b927fcb03eb51d0d"
      }
     },
     "4224821b07e94cb48ef3307536696aaa": {
      "model_module": "jupyter-js-widgets",
      "model_module_version": "~2.1.4",
      "model_name": "IntSliderModel",
      "state": {
       "_model_module_version": "~2.1.4",
       "_view_module_version": "~2.1.4",
       "description": "min_ratings",
       "layout": "IPY_MODEL_8298b67d7a4b40b1b14a489a04d3d7df",
       "max": 60,
       "min": -20,
       "style": "IPY_MODEL_4ed4a1b9915346b6883ace8b4ec1e709",
       "value": 20
      }
     },
     "43397c23a4934b8bb0d67b9dc0a4a335": {
      "model_module": "jupyter-js-widgets",
      "model_module_version": "~2.1.4",
      "model_name": "LayoutModel",
      "state": {
       "_model_module_version": "~2.1.4",
       "_view_module_version": "~2.1.4"
      }
     },
     "438bf4a7796e4d77a43a43480f1bf814": {
      "model_module": "jupyter-js-widgets",
      "model_module_version": "~2.1.4",
      "model_name": "VBoxModel",
      "state": {
       "_dom_classes": [
        "widget-interact"
       ],
       "_model_module_version": "~2.1.4",
       "_view_module_version": "~2.1.4",
       "children": [
        "IPY_MODEL_b81042e8d5e349d38c37909349c2e97b",
        "IPY_MODEL_5e02066fe3984b23bfc94102481afaeb",
        "IPY_MODEL_557b98efe17d4f2bb2d038382b5c91db"
       ],
       "layout": "IPY_MODEL_cb4a630a68754bf59cc0e444aefb2381"
      }
     },
     "442e6d3caeb24c08bbd2fb1b7a04ec65": {
      "model_module": "jupyter-js-widgets",
      "model_module_version": "~2.1.4",
      "model_name": "LayoutModel",
      "state": {
       "_model_module_version": "~2.1.4",
       "_view_module_version": "~2.1.4"
      }
     },
     "44f6f991d00f447c9e3253fea5eeec28": {
      "model_module": "jupyter-js-widgets",
      "model_module_version": "~2.1.4",
      "model_name": "LayoutModel",
      "state": {
       "_model_module_version": "~2.1.4",
       "_view_module_version": "~2.1.4"
      }
     },
     "47165502f3004b93bbca51e7e9605c9a": {
      "model_module": "jupyter-js-widgets",
      "model_module_version": "~2.1.4",
      "model_name": "SliderStyleModel",
      "state": {
       "_model_module_version": "~2.1.4",
       "_view_module_version": "~2.1.4"
      }
     },
     "47725219697f4f7da34c34246b773dd7": {
      "model_module": "jupyter-js-widgets",
      "model_module_version": "~2.1.4",
      "model_name": "VBoxModel",
      "state": {
       "_dom_classes": [
        "widget-interact"
       ],
       "_model_module_version": "~2.1.4",
       "_view_module_version": "~2.1.4",
       "children": [
        "IPY_MODEL_97b3306fa31044768e2326f60bf7206b",
        "IPY_MODEL_cfe9af1ca2324635a8a71c538ef505b2"
       ],
       "layout": "IPY_MODEL_d549c2ef6ff94bfbb897ef0cd81faea8"
      }
     },
     "4a150e78af5743da87b7515c559bf516": {
      "model_module": "jupyter-js-widgets",
      "model_module_version": "~2.1.4",
      "model_name": "LayoutModel",
      "state": {
       "_model_module_version": "~2.1.4",
       "_view_module_version": "~2.1.4"
      }
     },
     "4de8e1818f7840c3b5bfd63bb8631d2a": {
      "model_module": "jupyter-js-widgets",
      "model_module_version": "~2.1.4",
      "model_name": "OutputModel",
      "state": {
       "_dom_classes": [],
       "_model_module": "jupyter-js-widgets",
       "_model_module_version": "~2.1.4",
       "_view_module": "jupyter-js-widgets",
       "_view_module_version": "~2.1.4",
       "layout": "IPY_MODEL_af7e462c80184fdab41c2fe4a152ed76",
       "msg_throttle": 1
      }
     },
     "4ed4a1b9915346b6883ace8b4ec1e709": {
      "model_module": "jupyter-js-widgets",
      "model_module_version": "~2.1.4",
      "model_name": "SliderStyleModel",
      "state": {
       "_model_module_version": "~2.1.4",
       "_view_module_version": "~2.1.4"
      }
     },
     "4ee30685dde4413ebf5673c50a9e9747": {
      "model_module": "jupyter-js-widgets",
      "model_module_version": "~2.1.4",
      "model_name": "LayoutModel",
      "state": {
       "_model_module_version": "~2.1.4",
       "_view_module_version": "~2.1.4"
      }
     },
     "4f601bd3a0704cc5b04eb8edab474bd4": {
      "model_module": "jupyter-js-widgets",
      "model_module_version": "~2.1.4",
      "model_name": "LayoutModel",
      "state": {
       "_model_module_version": "~2.1.4",
       "_view_module_version": "~2.1.4"
      }
     },
     "4f65c01d691b48828d96711eee4e45ca": {
      "model_module": "jupyter-js-widgets",
      "model_module_version": "~2.1.4",
      "model_name": "LayoutModel",
      "state": {
       "_model_module_version": "~2.1.4",
       "_view_module_version": "~2.1.4"
      }
     },
     "504e1af8ceec4aba8a510d9af172d675": {
      "model_module": "jupyter-js-widgets",
      "model_module_version": "~2.1.4",
      "model_name": "OutputModel",
      "state": {
       "_dom_classes": [],
       "_model_module": "jupyter-js-widgets",
       "_model_module_version": "~2.1.4",
       "_view_module": "jupyter-js-widgets",
       "_view_module_version": "~2.1.4",
       "layout": "IPY_MODEL_82396b24222e4cdd8f1681e152d1a253",
       "msg_throttle": 1
      }
     },
     "52fd3eb74501473285e23e02b755820f": {
      "model_module": "jupyter-js-widgets",
      "model_module_version": "~2.1.4",
      "model_name": "SliderStyleModel",
      "state": {
       "_model_module_version": "~2.1.4",
       "_view_module_version": "~2.1.4"
      }
     },
     "557b98efe17d4f2bb2d038382b5c91db": {
      "model_module": "jupyter-js-widgets",
      "model_module_version": "~2.1.4",
      "model_name": "OutputModel",
      "state": {
       "_dom_classes": [],
       "_model_module": "jupyter-js-widgets",
       "_model_module_version": "~2.1.4",
       "_view_module": "jupyter-js-widgets",
       "_view_module_version": "~2.1.4",
       "layout": "IPY_MODEL_5a9da36a40604fd5b1dd9903f90e7311",
       "msg_throttle": 1
      }
     },
     "558547cfa3c74314a42f4de25b76c59e": {
      "model_module": "jupyter-js-widgets",
      "model_module_version": "~2.1.4",
      "model_name": "LayoutModel",
      "state": {
       "_model_module_version": "~2.1.4",
       "_view_module_version": "~2.1.4"
      }
     },
     "577be19228eb4a53a50ebfc28cffe4b1": {
      "model_module": "jupyter-js-widgets",
      "model_module_version": "~2.1.4",
      "model_name": "LayoutModel",
      "state": {
       "_model_module_version": "~2.1.4",
       "_view_module_version": "~2.1.4"
      }
     },
     "58a20861dd5949219b9cd88cea8816a9": {
      "model_module": "jupyter-js-widgets",
      "model_module_version": "~2.1.4",
      "model_name": "SliderStyleModel",
      "state": {
       "_model_module_version": "~2.1.4",
       "_view_module_version": "~2.1.4"
      }
     },
     "59a0ce57ab374faf82f0b62995c6f035": {
      "model_module": "jupyter-js-widgets",
      "model_module_version": "~2.1.4",
      "model_name": "SliderStyleModel",
      "state": {
       "_model_module_version": "~2.1.4",
       "_view_module_version": "~2.1.4"
      }
     },
     "5a9da36a40604fd5b1dd9903f90e7311": {
      "model_module": "jupyter-js-widgets",
      "model_module_version": "~2.1.4",
      "model_name": "LayoutModel",
      "state": {
       "_model_module_version": "~2.1.4",
       "_view_module_version": "~2.1.4"
      }
     },
     "5aa41d2638a545b6ba071bbdb7186d10": {
      "model_module": "jupyter-js-widgets",
      "model_module_version": "~2.1.4",
      "model_name": "OutputModel",
      "state": {
       "_dom_classes": [],
       "_model_module": "jupyter-js-widgets",
       "_model_module_version": "~2.1.4",
       "_view_module": "jupyter-js-widgets",
       "_view_module_version": "~2.1.4",
       "layout": "IPY_MODEL_ad05492a7993412b9eca8b20ac633788",
       "msg_throttle": 1
      }
     },
     "5e02066fe3984b23bfc94102481afaeb": {
      "model_module": "jupyter-js-widgets",
      "model_module_version": "~2.1.4",
      "model_name": "IntSliderModel",
      "state": {
       "_model_module_version": "~2.1.4",
       "_view_module_version": "~2.1.4",
       "description": "min_ratings",
       "layout": "IPY_MODEL_c878a5ad8a7f4acdb7bbdd01d3bceea6",
       "max": 60,
       "min": -20,
       "style": "IPY_MODEL_c6ee2e6f08774958a180d9ff34adef55",
       "value": 33
      }
     },
     "5e1f3f84486f46c794ea173ae4c75af7": {
      "model_module": "jupyter-js-widgets",
      "model_module_version": "~2.1.4",
      "model_name": "FloatSliderModel",
      "state": {
       "_model_module_version": "~2.1.4",
       "_view_module_version": "~2.1.4",
       "description": "dislike_rate",
       "layout": "IPY_MODEL_ce6d90b447f44815916fb68ecdf4dc52",
       "max": 0.3571428571428571,
       "min": -0.11904761904761904,
       "step": 0.1,
       "value": 0.11904761904761904
      }
     },
     "5e232bf1112a457aa6c37250d6f57a52": {
      "model_module": "jupyter-js-widgets",
      "model_module_version": "~2.1.4",
      "model_name": "SliderStyleModel",
      "state": {
       "_model_module_version": "~2.1.4",
       "_view_module_version": "~2.1.4"
      }
     },
     "5e2ae37be96848b98e1f594e9692a2c5": {
      "model_module": "jupyter-js-widgets",
      "model_module_version": "~2.1.4",
      "model_name": "LayoutModel",
      "state": {
       "_model_module_version": "~2.1.4",
       "_view_module_version": "~2.1.4"
      }
     },
     "5ef245eef5a042088831b41105c55bb8": {
      "model_module": "jupyter-js-widgets",
      "model_module_version": "~2.1.4",
      "model_name": "LayoutModel",
      "state": {
       "_model_module_version": "~2.1.4",
       "_view_module_version": "~2.1.4"
      }
     },
     "5f7f3e48111548429452d36299f6cd1f": {
      "model_module": "jupyter-js-widgets",
      "model_module_version": "~2.1.4",
      "model_name": "VBoxModel",
      "state": {
       "_dom_classes": [
        "widget-interact"
       ],
       "_model_module_version": "~2.1.4",
       "_view_module_version": "~2.1.4",
       "children": [
        "IPY_MODEL_80540e82e0984e539da97f329999b6a9",
        "IPY_MODEL_88f17373f43742edaf3f213f6c70ea65",
        "IPY_MODEL_f06bf6ba26264e9481494d764e231dc9",
        "IPY_MODEL_4de8e1818f7840c3b5bfd63bb8631d2a"
       ],
       "layout": "IPY_MODEL_5ef245eef5a042088831b41105c55bb8"
      }
     },
     "60000e8524b04ed4ad9d1820e5e8f657": {
      "model_module": "jupyter-js-widgets",
      "model_module_version": "~2.1.4",
      "model_name": "LayoutModel",
      "state": {
       "_model_module_version": "~2.1.4",
       "_view_module_version": "~2.1.4"
      }
     },
     "6376f923b8c94bd4a00ba2e7c705d57c": {
      "model_module": "jupyter-js-widgets",
      "model_module_version": "~2.1.4",
      "model_name": "LayoutModel",
      "state": {
       "_model_module_version": "~2.1.4",
       "_view_module_version": "~2.1.4"
      }
     },
     "638c939974524ced989bdea09ba5f27d": {
      "model_module": "jupyter-js-widgets",
      "model_module_version": "~2.1.4",
      "model_name": "VBoxModel",
      "state": {
       "_dom_classes": [
        "widget-interact"
       ],
       "_model_module_version": "~2.1.4",
       "_view_module_version": "~2.1.4",
       "children": [
        "IPY_MODEL_b83dfa06a71240e39ab8b4c42c773a3e",
        "IPY_MODEL_897148317a59444c94ebefb09acc0091",
        "IPY_MODEL_64cb7e64842145169f776fb6495e2314",
        "IPY_MODEL_6fc8cb99c1184e13b45992eb37eb0ce9"
       ],
       "layout": "IPY_MODEL_2071502a4f4a438eb9a0509af7dcc618"
      }
     },
     "64bb1906780e4e7c854eb31496c09d14": {
      "model_module": "jupyter-js-widgets",
      "model_module_version": "~2.1.4",
      "model_name": "SliderStyleModel",
      "state": {
       "_model_module_version": "~2.1.4",
       "_view_module_version": "~2.1.4"
      }
     },
     "64cb7e64842145169f776fb6495e2314": {
      "model_module": "jupyter-js-widgets",
      "model_module_version": "~2.1.4",
      "model_name": "FloatSliderModel",
      "state": {
       "_model_module_version": "~2.1.4",
       "_view_module_version": "~2.1.4",
       "description": "dislike_rate",
       "layout": "IPY_MODEL_44f6f991d00f447c9e3253fea5eeec28",
       "max": 0.3571428571428571,
       "min": -0.11904761904761904,
       "step": 0.1,
       "value": 0.28095
      }
     },
     "651c220fbc9045e59ef8217e86e7e536": {
      "model_module": "jupyter-js-widgets",
      "model_module_version": "~2.1.4",
      "model_name": "LayoutModel",
      "state": {
       "_model_module_version": "~2.1.4",
       "_view_module_version": "~2.1.4"
      }
     },
     "69969bfbfec349458be247e97464ae4e": {
      "model_module": "jupyter-js-widgets",
      "model_module_version": "~2.1.4",
      "model_name": "LayoutModel",
      "state": {
       "_model_module_version": "~2.1.4",
       "_view_module_version": "~2.1.4"
      }
     },
     "6ccfc69c49754c73ad64790653d3b25b": {
      "model_module": "jupyter-js-widgets",
      "model_module_version": "~2.1.4",
      "model_name": "LayoutModel",
      "state": {
       "_model_module_version": "~2.1.4",
       "_view_module_version": "~2.1.4"
      }
     },
     "6ee7045e0eba4217bedff1fa3c8fedcb": {
      "model_module": "jupyter-js-widgets",
      "model_module_version": "~2.1.4",
      "model_name": "VBoxModel",
      "state": {
       "_dom_classes": [
        "widget-interact"
       ],
       "_model_module_version": "~2.1.4",
       "_view_module_version": "~2.1.4",
       "children": [
        "IPY_MODEL_9328e0ed21bd4dfca50d7383e35bfaca",
        "IPY_MODEL_1f847ecadf3b469da402693822e24ee2",
        "IPY_MODEL_194f17e544be433b9ea90b3a6a0fa90d"
       ],
       "layout": "IPY_MODEL_362c5188958047b4b0005caa4f06b756"
      }
     },
     "6f43fb722af647bb986c25f64d06990f": {
      "model_module": "jupyter-js-widgets",
      "model_module_version": "~2.1.4",
      "model_name": "IntSliderModel",
      "state": {
       "_model_module_version": "~2.1.4",
       "_view_module_version": "~2.1.4",
       "description": "x",
       "layout": "IPY_MODEL_f58c81a0081a4306bd83985c8b1330bd",
       "max": 15,
       "min": -5,
       "style": "IPY_MODEL_78f806d019d34e4ca383eeac8b3d6481",
       "value": 12
      }
     },
     "6f733e2d69c0448b9b1816e4d9deb463": {
      "model_module": "jupyter-js-widgets",
      "model_module_version": "~2.1.4",
      "model_name": "LayoutModel",
      "state": {
       "_model_module_version": "~2.1.4",
       "_view_module_version": "~2.1.4"
      }
     },
     "6fc8cb99c1184e13b45992eb37eb0ce9": {
      "model_module": "jupyter-js-widgets",
      "model_module_version": "~2.1.4",
      "model_name": "OutputModel",
      "state": {
       "_dom_classes": [],
       "_model_module": "jupyter-js-widgets",
       "_model_module_version": "~2.1.4",
       "_view_module": "jupyter-js-widgets",
       "_view_module_version": "~2.1.4",
       "layout": "IPY_MODEL_d8287855131b47ec950ee2808ad4df17",
       "msg_throttle": 1
      }
     },
     "71bd567bd61e41d5a2c89423587312d5": {
      "model_module": "jupyter-js-widgets",
      "model_module_version": "~2.1.4",
      "model_name": "LayoutModel",
      "state": {
       "_model_module_version": "~2.1.4",
       "_view_module_version": "~2.1.4"
      }
     },
     "73a44341e892472696d79e37a7694235": {
      "model_module": "jupyter-js-widgets",
      "model_module_version": "~2.1.4",
      "model_name": "FloatSliderModel",
      "state": {
       "_model_module_version": "~2.1.4",
       "_view_module_version": "~2.1.4",
       "description": "dislike_rate",
       "layout": "IPY_MODEL_442e6d3caeb24c08bbd2fb1b7a04ec65",
       "max": 0.3571428571428571,
       "min": -0.11904761904761904,
       "step": 0.1,
       "value": 0.11904761904761904
      }
     },
     "74812b78784b4e25be1e9014cefe218c": {
      "model_module": "jupyter-js-widgets",
      "model_module_version": "~2.1.4",
      "model_name": "OutputModel",
      "state": {
       "_dom_classes": [],
       "_model_module": "jupyter-js-widgets",
       "_model_module_version": "~2.1.4",
       "_view_module": "jupyter-js-widgets",
       "_view_module_version": "~2.1.4",
       "layout": "IPY_MODEL_4f601bd3a0704cc5b04eb8edab474bd4",
       "msg_throttle": 1
      }
     },
     "7555d7e375a244b88222c7e82e7f3a03": {
      "model_module": "jupyter-js-widgets",
      "model_module_version": "~2.1.4",
      "model_name": "LayoutModel",
      "state": {
       "_model_module_version": "~2.1.4",
       "_view_module_version": "~2.1.4"
      }
     },
     "767528a65f374c70867f9732fab326fa": {
      "model_module": "jupyter-js-widgets",
      "model_module_version": "~2.1.4",
      "model_name": "SliderStyleModel",
      "state": {
       "_model_module_version": "~2.1.4",
       "_view_module_version": "~2.1.4"
      }
     },
     "767620219cb14629be7d26b670e8faa4": {
      "model_module": "jupyter-js-widgets",
      "model_module_version": "~2.1.4",
      "model_name": "LayoutModel",
      "state": {
       "_model_module_version": "~2.1.4",
       "_view_module_version": "~2.1.4"
      }
     },
     "77e8eb9dc70040c58437517155b67c91": {
      "model_module": "jupyter-js-widgets",
      "model_module_version": "~2.1.4",
      "model_name": "FloatSliderModel",
      "state": {
       "_model_module_version": "~2.1.4",
       "_view_module_version": "~2.1.4",
       "description": "dislike_rate",
       "layout": "IPY_MODEL_2acc7a69d1044c0ca1e9585813518f72",
       "max": 0.3571428571428571,
       "min": -0.11904761904761904,
       "step": 0.1,
       "value": 0.11904761904761904
      }
     },
     "78f806d019d34e4ca383eeac8b3d6481": {
      "model_module": "jupyter-js-widgets",
      "model_module_version": "~2.1.4",
      "model_name": "SliderStyleModel",
      "state": {
       "_model_module_version": "~2.1.4",
       "_view_module_version": "~2.1.4"
      }
     },
     "7951f094a77242b19befefa7f0500050": {
      "model_module": "jupyter-js-widgets",
      "model_module_version": "~2.1.4",
      "model_name": "SliderStyleModel",
      "state": {
       "_model_module_version": "~2.1.4",
       "_view_module_version": "~2.1.4"
      }
     },
     "7a489b75dd6c40a3baa8b7fb6ba92f01": {
      "model_module": "jupyter-js-widgets",
      "model_module_version": "~2.1.4",
      "model_name": "FloatSliderModel",
      "state": {
       "_model_module_version": "~2.1.4",
       "_view_module_version": "~2.1.4",
       "description": "dislike_rate",
       "layout": "IPY_MODEL_5e2ae37be96848b98e1f594e9692a2c5",
       "max": 0.3571428571428571,
       "min": -0.11904761904761904,
       "step": 0.1,
       "value": 0.11904761904761904
      }
     },
     "7a7f58630e8b48ea89781a6cab1fb5e9": {
      "model_module": "jupyter-js-widgets",
      "model_module_version": "~2.1.4",
      "model_name": "VBoxModel",
      "state": {
       "_dom_classes": [
        "widget-interact"
       ],
       "_model_module_version": "~2.1.4",
       "_view_module_version": "~2.1.4",
       "children": [
        "IPY_MODEL_f35f7a8be0b74674bfa1a301863d3bd1",
        "IPY_MODEL_3bee11469d1b48858af2906936f5cbf3",
        "IPY_MODEL_7a489b75dd6c40a3baa8b7fb6ba92f01",
        "IPY_MODEL_e5f2492049b644ca826d1d97d6b890e4"
       ],
       "layout": "IPY_MODEL_0e0996d5bcf8499d929c4f626d726bfd"
      }
     },
     "7e2ad36cc47746939620a294233d325d": {
      "model_module": "jupyter-js-widgets",
      "model_module_version": "~2.1.4",
      "model_name": "VBoxModel",
      "state": {
       "_dom_classes": [
        "widget-interact"
       ],
       "_model_module_version": "~2.1.4",
       "_view_module_version": "~2.1.4",
       "children": [
        "IPY_MODEL_9baaa9858dd14f6b979d2890efc8df9d",
        "IPY_MODEL_2558821359144f32b7840ea5f1bc3485",
        "IPY_MODEL_3bd9d5a1061047cfb036d795b80102a6",
        "IPY_MODEL_3a613d0cf7b740bc8ea78e21bc628d83"
       ],
       "layout": "IPY_MODEL_379913b4c3a94c0bba74655e3abc41e5"
      }
     },
     "80540e82e0984e539da97f329999b6a9": {
      "model_module": "jupyter-js-widgets",
      "model_module_version": "~2.1.4",
      "model_name": "IntSliderModel",
      "state": {
       "_model_module_version": "~2.1.4",
       "_view_module_version": "~2.1.4",
       "description": "max_ratings",
       "layout": "IPY_MODEL_12e64b381cce409eabeaff773a16ef23",
       "max": 378,
       "min": -126,
       "style": "IPY_MODEL_ecd40592e4ed4e4fac9bc87ed322c919",
       "value": 126
      }
     },
     "82396b24222e4cdd8f1681e152d1a253": {
      "model_module": "jupyter-js-widgets",
      "model_module_version": "~2.1.4",
      "model_name": "LayoutModel",
      "state": {
       "_model_module_version": "~2.1.4",
       "_view_module_version": "~2.1.4"
      }
     },
     "8298b67d7a4b40b1b14a489a04d3d7df": {
      "model_module": "jupyter-js-widgets",
      "model_module_version": "~2.1.4",
      "model_name": "LayoutModel",
      "state": {
       "_model_module_version": "~2.1.4",
       "_view_module_version": "~2.1.4"
      }
     },
     "83b0516b9e76463eb9242690967fdb91": {
      "model_module": "jupyter-js-widgets",
      "model_module_version": "~2.1.4",
      "model_name": "SliderStyleModel",
      "state": {
       "_model_module_version": "~2.1.4",
       "_view_module_version": "~2.1.4"
      }
     },
     "88f17373f43742edaf3f213f6c70ea65": {
      "model_module": "jupyter-js-widgets",
      "model_module_version": "~2.1.4",
      "model_name": "IntSliderModel",
      "state": {
       "_model_module_version": "~2.1.4",
       "_view_module_version": "~2.1.4",
       "description": "min_ratings",
       "layout": "IPY_MODEL_6ccfc69c49754c73ad64790653d3b25b",
       "max": 60,
       "min": -20,
       "style": "IPY_MODEL_d10fcefb95694dea8bd3561206f52c06",
       "value": 20
      }
     },
     "897148317a59444c94ebefb09acc0091": {
      "model_module": "jupyter-js-widgets",
      "model_module_version": "~2.1.4",
      "model_name": "IntSliderModel",
      "state": {
       "_model_module_version": "~2.1.4",
       "_view_module_version": "~2.1.4",
       "description": "min_ratings",
       "layout": "IPY_MODEL_2281fd6d2ff94c998c66dd713250b65c",
       "max": 60,
       "min": -20,
       "style": "IPY_MODEL_64bb1906780e4e7c854eb31496c09d14",
       "value": 14
      }
     },
     "8af496fb915f47cb8d40c3a0ce1a8bda": {
      "model_module": "jupyter-js-widgets",
      "model_module_version": "~2.1.4",
      "model_name": "LayoutModel",
      "state": {
       "_model_module_version": "~2.1.4",
       "_view_module_version": "~2.1.4"
      }
     },
     "8b724e40acda4a19a6dfdc47b3959eb8": {
      "model_module": "jupyter-js-widgets",
      "model_module_version": "~2.1.4",
      "model_name": "IntSliderModel",
      "state": {
       "_model_module_version": "~2.1.4",
       "_view_module_version": "~2.1.4",
       "description": "x",
       "layout": "IPY_MODEL_60000e8524b04ed4ad9d1820e5e8f657",
       "max": 30,
       "min": -10,
       "style": "IPY_MODEL_59a0ce57ab374faf82f0b62995c6f035",
       "value": 3
      }
     },
     "8dc16e13990f4a849310493470f9794d": {
      "model_module": "jupyter-js-widgets",
      "model_module_version": "~2.1.4",
      "model_name": "SliderStyleModel",
      "state": {
       "_model_module_version": "~2.1.4",
       "_view_module_version": "~2.1.4"
      }
     },
     "8f1bddfd2a35426f9c180900842c3fc4": {
      "model_module": "jupyter-js-widgets",
      "model_module_version": "~2.1.4",
      "model_name": "SliderStyleModel",
      "state": {
       "_model_module_version": "~2.1.4",
       "_view_module_version": "~2.1.4"
      }
     },
     "908e8290afb54920a71ef80ecd1a0e78": {
      "model_module": "jupyter-js-widgets",
      "model_module_version": "~2.1.4",
      "model_name": "FloatSliderModel",
      "state": {
       "_model_module_version": "~2.1.4",
       "_view_module_version": "~2.1.4",
       "description": "dislike_rate",
       "layout": "IPY_MODEL_4a150e78af5743da87b7515c559bf516",
       "max": 0.3571428571428571,
       "min": -0.11904761904761904,
       "step": 0.1,
       "value": 0.11904761904761904
      }
     },
     "9328e0ed21bd4dfca50d7383e35bfaca": {
      "model_module": "jupyter-js-widgets",
      "model_module_version": "~2.1.4",
      "model_name": "IntSliderModel",
      "state": {
       "_model_module_version": "~2.1.4",
       "_view_module_version": "~2.1.4",
       "description": "max_ratings",
       "layout": "IPY_MODEL_7555d7e375a244b88222c7e82e7f3a03",
       "max": 378,
       "min": -126,
       "style": "IPY_MODEL_58a20861dd5949219b9cd88cea8816a9",
       "value": 238
      }
     },
     "972ff19470ad4903825ba50bcad00da9": {
      "model_module": "jupyter-js-widgets",
      "model_module_version": "~2.1.4",
      "model_name": "LayoutModel",
      "state": {
       "_model_module_version": "~2.1.4",
       "_view_module_version": "~2.1.4"
      }
     },
     "97b3306fa31044768e2326f60bf7206b": {
      "model_module": "jupyter-js-widgets",
      "model_module_version": "~2.1.4",
      "model_name": "IntSliderModel",
      "state": {
       "_model_module_version": "~2.1.4",
       "_view_module_version": "~2.1.4",
       "description": "x",
       "layout": "IPY_MODEL_11816a0e389e4b2eaa05d15378dc7cf9",
       "max": 30,
       "min": -10,
       "style": "IPY_MODEL_a964b18b2ce24148b5a66a3b8cc81531",
       "value": 26
      }
     },
     "987b813f535740e5aea821015f64118d": {
      "model_module": "jupyter-js-widgets",
      "model_module_version": "~2.1.4",
      "model_name": "LayoutModel",
      "state": {
       "_model_module_version": "~2.1.4",
       "_view_module_version": "~2.1.4"
      }
     },
     "98d4c68bcbf64dc8b927fcb03eb51d0d": {
      "model_module": "jupyter-js-widgets",
      "model_module_version": "~2.1.4",
      "model_name": "LayoutModel",
      "state": {
       "_model_module_version": "~2.1.4",
       "_view_module_version": "~2.1.4"
      }
     },
     "9b225e9ec40545d3a8fa9643942ef7c9": {
      "model_module": "jupyter-js-widgets",
      "model_module_version": "~2.1.4",
      "model_name": "LayoutModel",
      "state": {
       "_model_module_version": "~2.1.4",
       "_view_module_version": "~2.1.4"
      }
     },
     "9b6624e505cf44c1b6e2f19afaf19c45": {
      "model_module": "jupyter-js-widgets",
      "model_module_version": "~2.1.4",
      "model_name": "LayoutModel",
      "state": {
       "_model_module_version": "~2.1.4",
       "_view_module_version": "~2.1.4"
      }
     },
     "9baaa9858dd14f6b979d2890efc8df9d": {
      "model_module": "jupyter-js-widgets",
      "model_module_version": "~2.1.4",
      "model_name": "IntSliderModel",
      "state": {
       "_model_module_version": "~2.1.4",
       "_view_module_version": "~2.1.4",
       "description": "max_ratings",
       "layout": "IPY_MODEL_767620219cb14629be7d26b670e8faa4",
       "max": 378,
       "min": -126,
       "style": "IPY_MODEL_8dc16e13990f4a849310493470f9794d",
       "value": 126
      }
     },
     "9c10ebbf4b0f4cbeb3ff4da10b9d55ee": {
      "model_module": "jupyter-js-widgets",
      "model_module_version": "~2.1.4",
      "model_name": "LayoutModel",
      "state": {
       "_model_module_version": "~2.1.4",
       "_view_module_version": "~2.1.4"
      }
     },
     "9e3ce877c46a4b22ac668ec3f0c18dbe": {
      "model_module": "jupyter-js-widgets",
      "model_module_version": "~2.1.4",
      "model_name": "VBoxModel",
      "state": {
       "_dom_classes": [
        "widget-interact"
       ],
       "_model_module_version": "~2.1.4",
       "_view_module_version": "~2.1.4",
       "children": [
        "IPY_MODEL_1947c32258c846e0be4fd74253affcae",
        "IPY_MODEL_3eb8e2dfba454da5a0a6e2465d98c4b0",
        "IPY_MODEL_a44ef16b7015439ab5df11fead8c2fbf",
        "IPY_MODEL_aacc6aeb7a7a4f4aba33649109722a01"
       ],
       "layout": "IPY_MODEL_fb037dd485cf44bca3018848e28dcb21"
      }
     },
     "9f7626c79c9642ae847766ff3accc566": {
      "model_module": "jupyter-js-widgets",
      "model_module_version": "~2.1.4",
      "model_name": "IntSliderModel",
      "state": {
       "_model_module_version": "~2.1.4",
       "_view_module_version": "~2.1.4",
       "description": "min_ratings",
       "layout": "IPY_MODEL_9c10ebbf4b0f4cbeb3ff4da10b9d55ee",
       "max": 60,
       "min": -20,
       "style": "IPY_MODEL_c1c9a06e7dd142ab8d91fdbaeede13b3",
       "value": 20
      }
     },
     "a2fb3feecdbd48618fa64bacccb3f4a5": {
      "model_module": "jupyter-js-widgets",
      "model_module_version": "~2.1.4",
      "model_name": "LayoutModel",
      "state": {
       "_model_module_version": "~2.1.4",
       "_view_module_version": "~2.1.4"
      }
     },
     "a3ac992c87a6438d8912a4a90be93b11": {
      "model_module": "jupyter-js-widgets",
      "model_module_version": "~2.1.4",
      "model_name": "SliderStyleModel",
      "state": {
       "_model_module_version": "~2.1.4",
       "_view_module_version": "~2.1.4"
      }
     },
     "a44ef16b7015439ab5df11fead8c2fbf": {
      "model_module": "jupyter-js-widgets",
      "model_module_version": "~2.1.4",
      "model_name": "FloatSliderModel",
      "state": {
       "_model_module_version": "~2.1.4",
       "_view_module_version": "~2.1.4",
       "description": "dislike_rate",
       "layout": "IPY_MODEL_eb6874c3967a4a9f985ba84cfeef8849",
       "max": 0.3571428571428571,
       "min": -0.11904761904761904,
       "step": 0.1,
       "value": 0.11904761904761904
      }
     },
     "a5dc14a131c54046a301ab7c9c56acdb": {
      "model_module": "jupyter-js-widgets",
      "model_module_version": "~2.1.4",
      "model_name": "IntSliderModel",
      "state": {
       "_model_module_version": "~2.1.4",
       "_view_module_version": "~2.1.4",
       "description": "max_ratings",
       "layout": "IPY_MODEL_558547cfa3c74314a42f4de25b76c59e",
       "max": 378,
       "min": -126,
       "style": "IPY_MODEL_a3ac992c87a6438d8912a4a90be93b11",
       "value": 42
      }
     },
     "a60edc2a111c41a3bcffab73e5b9bf1a": {
      "model_module": "jupyter-js-widgets",
      "model_module_version": "~2.1.4",
      "model_name": "SliderStyleModel",
      "state": {
       "_model_module_version": "~2.1.4",
       "_view_module_version": "~2.1.4"
      }
     },
     "a964b18b2ce24148b5a66a3b8cc81531": {
      "model_module": "jupyter-js-widgets",
      "model_module_version": "~2.1.4",
      "model_name": "SliderStyleModel",
      "state": {
       "_model_module_version": "~2.1.4",
       "_view_module_version": "~2.1.4"
      }
     },
     "aacc6aeb7a7a4f4aba33649109722a01": {
      "model_module": "jupyter-js-widgets",
      "model_module_version": "~2.1.4",
      "model_name": "OutputModel",
      "state": {
       "_dom_classes": [],
       "_model_module": "jupyter-js-widgets",
       "_model_module_version": "~2.1.4",
       "_view_module": "jupyter-js-widgets",
       "_view_module_version": "~2.1.4",
       "layout": "IPY_MODEL_577be19228eb4a53a50ebfc28cffe4b1",
       "msg_throttle": 1
      }
     },
     "ad05492a7993412b9eca8b20ac633788": {
      "model_module": "jupyter-js-widgets",
      "model_module_version": "~2.1.4",
      "model_name": "LayoutModel",
      "state": {
       "_model_module_version": "~2.1.4",
       "_view_module_version": "~2.1.4"
      }
     },
     "af7e462c80184fdab41c2fe4a152ed76": {
      "model_module": "jupyter-js-widgets",
      "model_module_version": "~2.1.4",
      "model_name": "LayoutModel",
      "state": {
       "_model_module_version": "~2.1.4",
       "_view_module_version": "~2.1.4"
      }
     },
     "b04d8c2168ab4722814af56f7ea6fa57": {
      "model_module": "jupyter-js-widgets",
      "model_module_version": "~2.1.4",
      "model_name": "OutputModel",
      "state": {
       "_dom_classes": [],
       "_model_module": "jupyter-js-widgets",
       "_model_module_version": "~2.1.4",
       "_view_module": "jupyter-js-widgets",
       "_view_module_version": "~2.1.4",
       "layout": "IPY_MODEL_651c220fbc9045e59ef8217e86e7e536",
       "msg_throttle": 1
      }
     },
     "b2489f223f44459f8f4a0ac4a0dad4c8": {
      "model_module": "jupyter-js-widgets",
      "model_module_version": "~2.1.4",
      "model_name": "IntSliderModel",
      "state": {
       "_model_module_version": "~2.1.4",
       "_view_module_version": "~2.1.4",
       "description": "max_ratings",
       "layout": "IPY_MODEL_b52da24b77bc4531b5b20683fa7537f5",
       "max": 378,
       "min": -126,
       "style": "IPY_MODEL_83b0516b9e76463eb9242690967fdb91",
       "value": 126
      }
     },
     "b52da24b77bc4531b5b20683fa7537f5": {
      "model_module": "jupyter-js-widgets",
      "model_module_version": "~2.1.4",
      "model_name": "LayoutModel",
      "state": {
       "_model_module_version": "~2.1.4",
       "_view_module_version": "~2.1.4"
      }
     },
     "b6e514f9ac0e46ad9a726a479968c5a6": {
      "model_module": "jupyter-js-widgets",
      "model_module_version": "~2.1.4",
      "model_name": "LayoutModel",
      "state": {
       "_model_module_version": "~2.1.4",
       "_view_module_version": "~2.1.4"
      }
     },
     "b81042e8d5e349d38c37909349c2e97b": {
      "model_module": "jupyter-js-widgets",
      "model_module_version": "~2.1.4",
      "model_name": "IntSliderModel",
      "state": {
       "_model_module_version": "~2.1.4",
       "_view_module_version": "~2.1.4",
       "description": "max_ratings",
       "layout": "IPY_MODEL_fb85ad319fb14fb58a03a9f4961a1912",
       "max": 378,
       "min": -126,
       "style": "IPY_MODEL_16cc0cc9b01342c6b5224ec0f9ce5636",
       "value": 118
      }
     },
     "b829ed02705c4cf3a449af66ac7f2f09": {
      "model_module": "jupyter-js-widgets",
      "model_module_version": "~2.1.4",
      "model_name": "FloatSliderModel",
      "state": {
       "_model_module_version": "~2.1.4",
       "_view_module_version": "~2.1.4",
       "description": "dislike_rate",
       "layout": "IPY_MODEL_eca25cf97f9b4651af59e08b558fc088",
       "max": 0.3571428571428571,
       "min": -0.11904761904761904,
       "step": 0.1,
       "value": 0.11904761904761904
      }
     },
     "b83dfa06a71240e39ab8b4c42c773a3e": {
      "model_module": "jupyter-js-widgets",
      "model_module_version": "~2.1.4",
      "model_name": "IntSliderModel",
      "state": {
       "_model_module_version": "~2.1.4",
       "_view_module_version": "~2.1.4",
       "description": "max_ratings",
       "layout": "IPY_MODEL_18790eef895e4e25bf22ab6c43b92fa7",
       "max": 378,
       "min": -126,
       "style": "IPY_MODEL_c6ad30e7fcf64f0ca19cf91e998968be",
       "value": 270
      }
     },
     "b930c5c7c5394325a98f93784b3de494": {
      "model_module": "jupyter-js-widgets",
      "model_module_version": "~2.1.4",
      "model_name": "IntSliderModel",
      "state": {
       "_model_module_version": "~2.1.4",
       "_view_module_version": "~2.1.4",
       "description": "x",
       "layout": "IPY_MODEL_69969bfbfec349458be247e97464ae4e",
       "max": 30,
       "min": -10,
       "style": "IPY_MODEL_52fd3eb74501473285e23e02b755820f",
       "value": 4
      }
     },
     "bb3de143e8f44f9f992f5b3415baa9bf": {
      "model_module": "jupyter-js-widgets",
      "model_module_version": "~2.1.4",
      "model_name": "LayoutModel",
      "state": {
       "_model_module_version": "~2.1.4",
       "_view_module_version": "~2.1.4"
      }
     },
     "bf678feb0f7b46ad96249143eab0fdbc": {
      "model_module": "jupyter-js-widgets",
      "model_module_version": "~2.1.4",
      "model_name": "LayoutModel",
      "state": {
       "_model_module_version": "~2.1.4",
       "_view_module_version": "~2.1.4"
      }
     },
     "c07e49020130401b8f4dc86a6a5d9eba": {
      "model_module": "jupyter-js-widgets",
      "model_module_version": "~2.1.4",
      "model_name": "VBoxModel",
      "state": {
       "_dom_classes": [
        "widget-interact"
       ],
       "_model_module_version": "~2.1.4",
       "_view_module_version": "~2.1.4",
       "children": [
        "IPY_MODEL_b2489f223f44459f8f4a0ac4a0dad4c8",
        "IPY_MODEL_01b198f9331046d7ad497bd982058ab7",
        "IPY_MODEL_908e8290afb54920a71ef80ecd1a0e78",
        "IPY_MODEL_5aa41d2638a545b6ba071bbdb7186d10"
       ],
       "layout": "IPY_MODEL_9b6624e505cf44c1b6e2f19afaf19c45"
      }
     },
     "c1c9a06e7dd142ab8d91fdbaeede13b3": {
      "model_module": "jupyter-js-widgets",
      "model_module_version": "~2.1.4",
      "model_name": "SliderStyleModel",
      "state": {
       "_model_module_version": "~2.1.4",
       "_view_module_version": "~2.1.4"
      }
     },
     "c6ad30e7fcf64f0ca19cf91e998968be": {
      "model_module": "jupyter-js-widgets",
      "model_module_version": "~2.1.4",
      "model_name": "SliderStyleModel",
      "state": {
       "_model_module_version": "~2.1.4",
       "_view_module_version": "~2.1.4"
      }
     },
     "c6ee2e6f08774958a180d9ff34adef55": {
      "model_module": "jupyter-js-widgets",
      "model_module_version": "~2.1.4",
      "model_name": "SliderStyleModel",
      "state": {
       "_model_module_version": "~2.1.4",
       "_view_module_version": "~2.1.4"
      }
     },
     "c878a5ad8a7f4acdb7bbdd01d3bceea6": {
      "model_module": "jupyter-js-widgets",
      "model_module_version": "~2.1.4",
      "model_name": "LayoutModel",
      "state": {
       "_model_module_version": "~2.1.4",
       "_view_module_version": "~2.1.4"
      }
     },
     "ca1f03cb1aec4592a8d756d37e8e78f4": {
      "model_module": "jupyter-js-widgets",
      "model_module_version": "~2.1.4",
      "model_name": "IntSliderModel",
      "state": {
       "_model_module_version": "~2.1.4",
       "_view_module_version": "~2.1.4",
       "description": "max_ratings",
       "layout": "IPY_MODEL_bf678feb0f7b46ad96249143eab0fdbc",
       "max": 378,
       "min": -126,
       "style": "IPY_MODEL_1f6f2b0e406d4246967cd8d1793a94a6",
       "value": 126
      }
     },
     "cb4a630a68754bf59cc0e444aefb2381": {
      "model_module": "jupyter-js-widgets",
      "model_module_version": "~2.1.4",
      "model_name": "LayoutModel",
      "state": {
       "_model_module_version": "~2.1.4",
       "_view_module_version": "~2.1.4"
      }
     },
     "ce6d90b447f44815916fb68ecdf4dc52": {
      "model_module": "jupyter-js-widgets",
      "model_module_version": "~2.1.4",
      "model_name": "LayoutModel",
      "state": {
       "_model_module_version": "~2.1.4",
       "_view_module_version": "~2.1.4"
      }
     },
     "cfe9af1ca2324635a8a71c538ef505b2": {
      "model_module": "jupyter-js-widgets",
      "model_module_version": "~2.1.4",
      "model_name": "OutputModel",
      "state": {
       "_dom_classes": [],
       "_model_module": "jupyter-js-widgets",
       "_model_module_version": "~2.1.4",
       "_view_module": "jupyter-js-widgets",
       "_view_module_version": "~2.1.4",
       "layout": "IPY_MODEL_972ff19470ad4903825ba50bcad00da9",
       "msg_throttle": 1
      }
     },
     "d10fcefb95694dea8bd3561206f52c06": {
      "model_module": "jupyter-js-widgets",
      "model_module_version": "~2.1.4",
      "model_name": "SliderStyleModel",
      "state": {
       "_model_module_version": "~2.1.4",
       "_view_module_version": "~2.1.4"
      }
     },
     "d24373b021004cff83efd2662160b4c9": {
      "model_module": "jupyter-js-widgets",
      "model_module_version": "~2.1.4",
      "model_name": "VBoxModel",
      "state": {
       "_dom_classes": [
        "widget-interact"
       ],
       "_model_module_version": "~2.1.4",
       "_view_module_version": "~2.1.4",
       "layout": "IPY_MODEL_d401a6902fa244ec9ce6f9ac8538b006"
      }
     },
     "d2fa49f38ae44e6a86b4f288efe084f4": {
      "model_module": "jupyter-js-widgets",
      "model_module_version": "~2.1.4",
      "model_name": "IntSliderModel",
      "state": {
       "_model_module_version": "~2.1.4",
       "_view_module_version": "~2.1.4",
       "description": "max_ratings",
       "layout": "IPY_MODEL_049ad64cc86f4983901ff83b67a5d641",
       "max": 378,
       "min": -126,
       "style": "IPY_MODEL_1c7399c7b5814a6aa79b964ecbb4dd30",
       "value": 126
      }
     },
     "d3eb5eccac7f43d08684c815ec69dbc4": {
      "model_module": "jupyter-js-widgets",
      "model_module_version": "~2.1.4",
      "model_name": "LayoutModel",
      "state": {
       "_model_module_version": "~2.1.4",
       "_view_module_version": "~2.1.4"
      }
     },
     "d401a6902fa244ec9ce6f9ac8538b006": {
      "model_module": "jupyter-js-widgets",
      "model_module_version": "~2.1.4",
      "model_name": "LayoutModel",
      "state": {
       "_model_module_version": "~2.1.4",
       "_view_module_version": "~2.1.4"
      }
     },
     "d549c2ef6ff94bfbb897ef0cd81faea8": {
      "model_module": "jupyter-js-widgets",
      "model_module_version": "~2.1.4",
      "model_name": "LayoutModel",
      "state": {
       "_model_module_version": "~2.1.4",
       "_view_module_version": "~2.1.4"
      }
     },
     "d637e585150641d5a44feb5d7b4467b2": {
      "model_module": "jupyter-js-widgets",
      "model_module_version": "~2.1.4",
      "model_name": "LayoutModel",
      "state": {
       "_model_module_version": "~2.1.4",
       "_view_module_version": "~2.1.4"
      }
     },
     "d8287855131b47ec950ee2808ad4df17": {
      "model_module": "jupyter-js-widgets",
      "model_module_version": "~2.1.4",
      "model_name": "LayoutModel",
      "state": {
       "_model_module_version": "~2.1.4",
       "_view_module_version": "~2.1.4"
      }
     },
     "db72893d822246eeb73203add1c8b469": {
      "model_module": "jupyter-js-widgets",
      "model_module_version": "~2.1.4",
      "model_name": "SliderStyleModel",
      "state": {
       "_model_module_version": "~2.1.4",
       "_view_module_version": "~2.1.4"
      }
     },
     "dc48c8ed0e9545309b5cba7462847bb3": {
      "model_module": "jupyter-js-widgets",
      "model_module_version": "~2.1.4",
      "model_name": "LayoutModel",
      "state": {
       "_model_module_version": "~2.1.4",
       "_view_module_version": "~2.1.4"
      }
     },
     "dd274400cded44c8896a469064f79d79": {
      "model_module": "jupyter-js-widgets",
      "model_module_version": "~2.1.4",
      "model_name": "VBoxModel",
      "state": {
       "_dom_classes": [
        "widget-interact"
       ],
       "_model_module_version": "~2.1.4",
       "_view_module_version": "~2.1.4",
       "children": [
        "IPY_MODEL_6f43fb722af647bb986c25f64d06990f",
        "IPY_MODEL_276ff52093f9492bb6e905081bed42cc"
       ],
       "layout": "IPY_MODEL_8af496fb915f47cb8d40c3a0ce1a8bda"
      }
     },
     "df46d66b4c4646fb879a9b15e656cc8b": {
      "model_module": "jupyter-js-widgets",
      "model_module_version": "~2.1.4",
      "model_name": "VBoxModel",
      "state": {
       "_dom_classes": [
        "widget-interact"
       ],
       "_model_module_version": "~2.1.4",
       "_view_module_version": "~2.1.4",
       "children": [
        "IPY_MODEL_b930c5c7c5394325a98f93784b3de494",
        "IPY_MODEL_36d077dab2404a8694607c376f412f43"
       ],
       "layout": "IPY_MODEL_bb3de143e8f44f9f992f5b3415baa9bf"
      }
     },
     "df8584ddeb62413daba2106bbcab36f8": {
      "model_module": "jupyter-js-widgets",
      "model_module_version": "~2.1.4",
      "model_name": "LayoutModel",
      "state": {
       "_model_module_version": "~2.1.4",
       "_view_module_version": "~2.1.4"
      }
     },
     "e440da2369cc4a66bf8f087564c61539": {
      "model_module": "jupyter-js-widgets",
      "model_module_version": "~2.1.4",
      "model_name": "LayoutModel",
      "state": {
       "_model_module_version": "~2.1.4",
       "_view_module_version": "~2.1.4"
      }
     },
     "e5f2492049b644ca826d1d97d6b890e4": {
      "model_module": "jupyter-js-widgets",
      "model_module_version": "~2.1.4",
      "model_name": "OutputModel",
      "state": {
       "_dom_classes": [],
       "_model_module": "jupyter-js-widgets",
       "_model_module_version": "~2.1.4",
       "_view_module": "jupyter-js-widgets",
       "_view_module_version": "~2.1.4",
       "layout": "IPY_MODEL_9b225e9ec40545d3a8fa9643942ef7c9",
       "msg_throttle": 1
      }
     },
     "e98bafcf4eb44630a59cc322b04edd0b": {
      "model_module": "jupyter-js-widgets",
      "model_module_version": "~2.1.4",
      "model_name": "OutputModel",
      "state": {
       "_dom_classes": [],
       "_model_module": "jupyter-js-widgets",
       "_model_module_version": "~2.1.4",
       "_view_module": "jupyter-js-widgets",
       "_view_module_version": "~2.1.4",
       "layout": "IPY_MODEL_d3eb5eccac7f43d08684c815ec69dbc4",
       "msg_throttle": 1
      }
     },
     "eb6874c3967a4a9f985ba84cfeef8849": {
      "model_module": "jupyter-js-widgets",
      "model_module_version": "~2.1.4",
      "model_name": "LayoutModel",
      "state": {
       "_model_module_version": "~2.1.4",
       "_view_module_version": "~2.1.4"
      }
     },
     "eca25cf97f9b4651af59e08b558fc088": {
      "model_module": "jupyter-js-widgets",
      "model_module_version": "~2.1.4",
      "model_name": "LayoutModel",
      "state": {
       "_model_module_version": "~2.1.4",
       "_view_module_version": "~2.1.4"
      }
     },
     "ecd40592e4ed4e4fac9bc87ed322c919": {
      "model_module": "jupyter-js-widgets",
      "model_module_version": "~2.1.4",
      "model_name": "SliderStyleModel",
      "state": {
       "_model_module_version": "~2.1.4",
       "_view_module_version": "~2.1.4"
      }
     },
     "ed8f6232982a49018abedfae077e102f": {
      "model_module": "jupyter-js-widgets",
      "model_module_version": "~2.1.4",
      "model_name": "IntSliderModel",
      "state": {
       "_model_module_version": "~2.1.4",
       "_view_module_version": "~2.1.4",
       "description": "max_ratings",
       "layout": "IPY_MODEL_347af63c1eb4420fb90d0cab697af373",
       "max": 378,
       "min": -126,
       "style": "IPY_MODEL_0ebfe144d6424a41947da5c826a46757",
       "value": 224
      }
     },
     "f06bf6ba26264e9481494d764e231dc9": {
      "model_module": "jupyter-js-widgets",
      "model_module_version": "~2.1.4",
      "model_name": "FloatSliderModel",
      "state": {
       "_model_module_version": "~2.1.4",
       "_view_module_version": "~2.1.4",
       "description": "dislike_rate",
       "layout": "IPY_MODEL_06d33d1fe9e84db7b044bb0ac3ca0204",
       "max": 0.3571428571428571,
       "min": -0.11904761904761904,
       "step": 0.1,
       "value": 0.11904761904761904
      }
     },
     "f35f7a8be0b74674bfa1a301863d3bd1": {
      "model_module": "jupyter-js-widgets",
      "model_module_version": "~2.1.4",
      "model_name": "IntSliderModel",
      "state": {
       "_model_module_version": "~2.1.4",
       "_view_module_version": "~2.1.4",
       "description": "max_ratings",
       "layout": "IPY_MODEL_12bdc8548f1340ac8c09c02fdc9b954a",
       "max": 378,
       "min": -126,
       "style": "IPY_MODEL_47165502f3004b93bbca51e7e9605c9a",
       "value": 126
      }
     },
     "f58c81a0081a4306bd83985c8b1330bd": {
      "model_module": "jupyter-js-widgets",
      "model_module_version": "~2.1.4",
      "model_name": "LayoutModel",
      "state": {
       "_model_module_version": "~2.1.4",
       "_view_module_version": "~2.1.4"
      }
     },
     "f6ff512855054d64bf3bc389c01fa65f": {
      "model_module": "jupyter-js-widgets",
      "model_module_version": "~2.1.4",
      "model_name": "VBoxModel",
      "state": {
       "_dom_classes": [
        "widget-interact"
       ],
       "_model_module_version": "~2.1.4",
       "_view_module_version": "~2.1.4",
       "children": [
        "IPY_MODEL_a5dc14a131c54046a301ab7c9c56acdb",
        "IPY_MODEL_f8d43f805ac041a0bc678fb20ab901aa",
        "IPY_MODEL_5e1f3f84486f46c794ea173ae4c75af7",
        "IPY_MODEL_b04d8c2168ab4722814af56f7ea6fa57"
       ],
       "layout": "IPY_MODEL_a2fb3feecdbd48618fa64bacccb3f4a5"
      }
     },
     "f8d43f805ac041a0bc678fb20ab901aa": {
      "model_module": "jupyter-js-widgets",
      "model_module_version": "~2.1.4",
      "model_name": "IntSliderModel",
      "state": {
       "_model_module_version": "~2.1.4",
       "_view_module_version": "~2.1.4",
       "description": "min_ratings",
       "layout": "IPY_MODEL_1da717af5a084868986b373d7bf8ec5c",
       "max": 60,
       "min": -20,
       "style": "IPY_MODEL_db72893d822246eeb73203add1c8b469",
       "value": 20
      }
     },
     "fb037dd485cf44bca3018848e28dcb21": {
      "model_module": "jupyter-js-widgets",
      "model_module_version": "~2.1.4",
      "model_name": "LayoutModel",
      "state": {
       "_model_module_version": "~2.1.4",
       "_view_module_version": "~2.1.4"
      }
     },
     "fb85ad319fb14fb58a03a9f4961a1912": {
      "model_module": "jupyter-js-widgets",
      "model_module_version": "~2.1.4",
      "model_name": "LayoutModel",
      "state": {
       "_model_module_version": "~2.1.4",
       "_view_module_version": "~2.1.4"
      }
     }
    },
    "version_major": 1,
    "version_minor": 0
   }
  }
 },
 "nbformat": 4,
 "nbformat_minor": 2
}
