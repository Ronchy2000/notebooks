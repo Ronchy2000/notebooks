{
 "cells": [
  {
   "cell_type": "code",
   "execution_count": 1,
   "metadata": {
    "collapsed": true
   },
   "outputs": [],
   "source": [
    "from collections import defaultdict, Counter\n",
    "\n",
    "god_rmse = defaultdict(list)"
   ]
  },
  {
   "cell_type": "code",
   "execution_count": 2,
   "metadata": {
    "collapsed": true
   },
   "outputs": [],
   "source": [
    "from mangaki.utils.als import MangakiALS\n",
    "from mangaki.utils.svd import MangakiSVD"
   ]
  },
  {
   "cell_type": "code",
   "execution_count": 3,
   "metadata": {},
   "outputs": [],
   "source": [
    "from mangaki.utils.algo import get_dataset_backup\n",
    "from mangaki.utils.data import Dataset\n",
    "from mangaki.utils.values import rating_values\n",
    "\n",
    "dataset = Dataset()\n",
    "dataset.load_csv('balse/ratings.csv', convert=lambda x: rating_values[x], title_filename='balse/works.csv')"
   ]
  },
  {
   "cell_type": "code",
   "execution_count": 4,
   "metadata": {},
   "outputs": [],
   "source": [
    "from mangaki.utils.balse import MangakiBALSE\n",
    "from mangaki.settings import DATA_DIR\n",
    "from scipy.sparse import load_npz\n",
    "import os.path\n",
    "\n",
    "T = load_npz(os.path.join(DATA_DIR, 'balse/tag-matrix.npz')).toarray()"
   ]
  },
  {
   "cell_type": "code",
   "execution_count": 5,
   "metadata": {
    "collapsed": true
   },
   "outputs": [],
   "source": [
    "from sklearn.model_selection import ShuffleSplit\n",
    "\n",
    "NB_SPLIT = 5\n",
    "k_fold = ShuffleSplit(n_splits=NB_SPLIT)\n",
    "SETS = list(k_fold.split(dataset.anonymized.X))"
   ]
  },
  {
   "cell_type": "code",
   "execution_count": 6,
   "metadata": {
    "collapsed": true
   },
   "outputs": [],
   "source": [
    "GOD_I = 0"
   ]
  },
  {
   "cell_type": "code",
   "execution_count": 7,
   "metadata": {
    "collapsed": true
   },
   "outputs": [],
   "source": [
    "# START\n",
    "i_train, i_test = SETS[GOD_I]"
   ]
  },
  {
   "cell_type": "code",
   "execution_count": 45,
   "metadata": {
    "collapsed": true
   },
   "outputs": [],
   "source": [
    "NOTVAL = round(0.7 * len(i_train))\n",
    "\n",
    "X_train = dataset.anonymized.X[i_train]\n",
    "y_train = dataset.anonymized.y[i_train]\n",
    "X_subtrain = X_train[:NOTVAL]\n",
    "y_subtrain = y_train[:NOTVAL]\n",
    "X_val = X_train[NOTVAL:]\n",
    "y_val = y_train[NOTVAL:]\n",
    "X_test = dataset.anonymized.X[i_test]\n",
    "y_test = dataset.anonymized.y[i_test]\n",
    "nb_train_rated = Counter(X_train[:, 1])"
   ]
  },
  {
   "cell_type": "code",
   "execution_count": 9,
   "metadata": {
    "collapsed": true
   },
   "outputs": [],
   "source": [
    "def run_als(X_train, X_test, y_train, y_test):\n",
    "    als = MangakiALS(10, LAMBDA=0.1)\n",
    "    als.set_parameters(dataset.anonymized.nb_users, dataset.anonymized.nb_works)\n",
    "    als.fit(X_train, y_train)\n",
    "    #als.all_errors(X_train, X_test, y_train, y_test)\n",
    "    return als"
   ]
  },
  {
   "cell_type": "code",
   "execution_count": 10,
   "metadata": {},
   "outputs": [
    {
     "name": "stdout",
     "output_type": "stream",
     "text": [
      "Computing M: (2079 × 9979)\n",
      "Chrono: fill and center matrix [0q, 1823ms]\n",
      "Shapes (2079, 10) (10, 9979)\n",
      "Chrono: factor matrix [0q, 6365ms]\n",
      "Computing M: (2079 × 9979)\n",
      "Chrono: fill and center matrix [0q, 1179ms]\n",
      "Shapes (2079, 10) (10, 9979)\n",
      "Chrono: factor matrix [0q, 5401ms]\n"
     ]
    }
   ],
   "source": [
    "als = run_als(X_train, X_test, y_train, y_test)\n",
    "sub_als = run_als(X_subtrain, X_test, y_subtrain, y_test)"
   ]
  },
  {
   "cell_type": "code",
   "execution_count": 94,
   "metadata": {
    "collapsed": true
   },
   "outputs": [],
   "source": [
    "from mangaki.utils.lasso import MangakiLASSO\n",
    "\n",
    "def run_lasso(X_train, X_test, y_train, y_test):\n",
    "    lasso = MangakiLASSO(10, LAMBDA=0.01)\n",
    "    lasso.load_tags(T)\n",
    "    lasso.set_parameters(dataset.anonymized.nb_users, dataset.anonymized.nb_works)\n",
    "    # lasso.fit(X_train, y_train)\n",
    "    lasso.all_errors(X_train, X_test, y_train, y_test)\n",
    "    return lasso"
   ]
  },
  {
   "cell_type": "code",
   "execution_count": 95,
   "metadata": {
    "scrolled": true
   },
   "outputs": [
    {
     "name": "stdout",
     "output_type": "stream",
     "text": [
      "0\n"
     ]
    },
    {
     "name": "stderr",
     "output_type": "stream",
     "text": [
      "/Users/jilljenn/code/mangaki/venv/lib/python3.6/site-packages/sklearn/linear_model/coordinate_descent.py:484: ConvergenceWarning: Objective did not converge. You might want to increase the number of iterations. Fitting data with very small alpha may cause precision problems.\n",
      "  ConvergenceWarning)\n"
     ]
    },
    {
     "name": "stdout",
     "output_type": "stream",
     "text": [
      "500\n",
      "1000\n",
      "1500\n",
      "2000\n",
      "Train error 1.12071984201\n",
      "1054 not\n",
      "1054 not\n",
      "1040 not\n",
      "2004 not\n",
      "1532 not\n",
      "890 not\n",
      "1406 not\n",
      "782 not\n",
      "687 not\n",
      "Test error 1.28351969054\n",
      "0\n",
      "500\n",
      "1000\n",
      "1500\n",
      "2000\n",
      "Train error 1.06632774902\n",
      "1054 not\n",
      "1054 not\n",
      "1040 not\n",
      "2004 not\n",
      "1532 not\n",
      "890 not\n",
      "1406 not\n",
      "782 not\n",
      "1677 not\n",
      "687 not\n",
      "1009 not\n",
      "Test error 1.30442668241\n"
     ]
    }
   ],
   "source": [
    "lasso = run_lasso(X_train, X_test, y_train, y_test)\n",
    "sub_lasso = run_lasso(X_subtrain, X_test, y_subtrain, y_test)"
   ]
  },
  {
   "cell_type": "code",
   "execution_count": 96,
   "metadata": {
    "collapsed": true
   },
   "outputs": [],
   "source": [
    "i_test_ordered = sorted(i_test, key=lambda i: nb_train_rated[dataset.anonymized.X[i][1]], reverse=True)"
   ]
  },
  {
   "cell_type": "code",
   "execution_count": 97,
   "metadata": {
    "collapsed": true
   },
   "outputs": [],
   "source": [
    "X_tmp_test = dataset.anonymized.X[i_test_ordered]\n",
    "y_tmp_test = dataset.anonymized.y[i_test_ordered]"
   ]
  },
  {
   "cell_type": "code",
   "execution_count": 98,
   "metadata": {
    "collapsed": true
   },
   "outputs": [],
   "source": [
    "# Attention\n",
    "# X_val = X_train"
   ]
  },
  {
   "cell_type": "code",
   "execution_count": 99,
   "metadata": {
    "collapsed": true
   },
   "outputs": [],
   "source": [
    "nb_r = list(map(lambda x: nb_train_rated[x[1]], X_val))"
   ]
  },
  {
   "cell_type": "code",
   "execution_count": 110,
   "metadata": {},
   "outputs": [
    {
     "name": "stdout",
     "output_type": "stream",
     "text": [
      "754 not\n",
      "702 not\n",
      "1700 not\n",
      "239 not\n",
      "1765 not\n",
      "706 not\n",
      "1161 not\n",
      "265 not\n",
      "689 not\n",
      "887 not\n",
      "521 not\n",
      "689 not\n",
      "2002 not\n",
      "1009 not\n",
      "521 not\n",
      "1396 not\n",
      "1263 not\n",
      "697 not\n",
      "670 not\n",
      "954 not\n",
      "1677 not\n",
      "1001 not\n",
      "1888 not\n",
      "104 not\n",
      "1396 not\n",
      "703 not\n",
      "697 not\n",
      "1460 not\n"
     ]
    }
   ],
   "source": [
    "y_val_als = sub_als.predict(X_val)\n",
    "y_val_lasso = sub_lasso.predict(X_val)"
   ]
  },
  {
   "cell_type": "code",
   "execution_count": 111,
   "metadata": {},
   "outputs": [
    {
     "name": "stdout",
     "output_type": "stream",
     "text": [
      "1054 not\n",
      "890 not\n",
      "687 not\n",
      "1040 not\n",
      "1054 not\n",
      "2004 not\n",
      "1009 not\n",
      "1406 not\n",
      "1532 not\n",
      "1677 not\n",
      "782 not\n"
     ]
    }
   ],
   "source": [
    "y_als = sub_als.predict(X_tmp_test)\n",
    "y_lasso = sub_lasso.predict(X_tmp_test)"
   ]
  },
  {
   "cell_type": "code",
   "execution_count": 112,
   "metadata": {},
   "outputs": [],
   "source": [
    "import numpy as np\n",
    "\n",
    "X = np.column_stack((nb_r, y_val_als, y_val_lasso))\n",
    "y = y_val"
   ]
  },
  {
   "cell_type": "code",
   "execution_count": 113,
   "metadata": {},
   "outputs": [
    {
     "data": {
      "text/plain": [
       "(90285, 3)"
      ]
     },
     "execution_count": 113,
     "metadata": {},
     "output_type": "execute_result"
    }
   ],
   "source": [
    "X.shape"
   ]
  },
  {
   "cell_type": "code",
   "execution_count": 114,
   "metadata": {},
   "outputs": [
    {
     "data": {
      "text/plain": [
       "(90285,)"
      ]
     },
     "execution_count": 114,
     "metadata": {},
     "output_type": "execute_result"
    }
   ],
   "source": [
    "y_val_als.shape"
   ]
  },
  {
   "cell_type": "code",
   "execution_count": 115,
   "metadata": {},
   "outputs": [
    {
     "data": {
      "text/plain": [
       "(90285,)"
      ]
     },
     "execution_count": 115,
     "metadata": {},
     "output_type": "execute_result"
    }
   ],
   "source": [
    "y.shape"
   ]
  },
  {
   "cell_type": "code",
   "execution_count": 116,
   "metadata": {
    "collapsed": true
   },
   "outputs": [],
   "source": [
    "import tensorflow as tf"
   ]
  },
  {
   "cell_type": "code",
   "execution_count": 117,
   "metadata": {
    "collapsed": true
   },
   "outputs": [],
   "source": [
    "beta = tf.Variable(tf.random_normal([1]), name='beta')\n",
    "gamma = tf.Variable(tf.random_normal([1]), name='gamma')"
   ]
  },
  {
   "cell_type": "code",
   "execution_count": 118,
   "metadata": {},
   "outputs": [],
   "source": [
    "e1 = np.array([1, 0, 0])\n",
    "e2 = np.array([0, 1, 0])\n",
    "e3 = np.array([0, 0, 1])\n",
    "pred = tf.sigmoid(beta*(X.dot(e1) - gamma)) * X.dot(e2) + (1 - tf.sigmoid(beta*(X.dot(e1) - gamma))) * X.dot(e3)\n",
    "loss = tf.reduce_mean(tf.square(y - pred)) ** 0.5\n",
    "reg_loss = loss\n",
    "\n",
    "global_step = tf.Variable(0, trainable=False)\n",
    "starter_learning_rate = 0.9\n",
    "learning_rate = tf.train.exponential_decay(starter_learning_rate, global_step,\n",
    "                                           20, 0.9965402628278678, staircase=True)\n",
    "optimizer = tf.train.GradientDescentOptimizer(learning_rate)\n",
    "train_step = optimizer.minimize(reg_loss, var_list=[beta, gamma], global_step=global_step)\n",
    "\n",
    "init_op = tf.global_variables_initializer()\n",
    "sess = tf.InteractiveSession()\n",
    "sess.run(init_op)"
   ]
  },
  {
   "cell_type": "code",
   "execution_count": 122,
   "metadata": {},
   "outputs": [
    {
     "name": "stdout",
     "output_type": "stream",
     "text": [
      "loss 1.18477 beta [ 5.49957323] gamma [ 1.31185508] 0.00497174\n",
      "loss 1.18477 beta [ 5.49957323] gamma [ 1.31219471] 0.00418071\n",
      "loss 1.18477 beta [ 5.49957323] gamma [ 1.31248426] 0.00351554\n",
      "loss 1.18477 beta [ 5.49957323] gamma [ 1.31272268] 0.00295621\n",
      "loss 1.18477 beta [ 5.49957323] gamma [ 1.31291926] 0.00248586\n",
      "loss 1.18477 beta [ 5.49957323] gamma [ 1.31309807] 0.00209035\n",
      "loss 1.18477 beta [ 5.49957323] gamma [ 1.31323147] 0.00175777\n",
      "loss 1.18477 beta [ 5.49957323] gamma [ 1.31335068] 0.0014781\n",
      "loss 1.18477 beta [ 5.49957323] gamma [ 1.31346989] 0.00124293\n",
      "loss 1.18477 beta [ 5.49957323] gamma [ 1.3135401] 0.00104517\n"
     ]
    }
   ],
   "source": [
    "for i in range(5000):\n",
    "    sess.run(train_step)\n",
    "    if i % 500 == 0:\n",
    "        print('loss', sess.run(reg_loss), 'beta', beta.eval(), 'gamma', gamma.eval(), learning_rate.eval())"
   ]
  },
  {
   "cell_type": "code",
   "execution_count": 123,
   "metadata": {
    "collapsed": true
   },
   "outputs": [],
   "source": [
    "nb_rt = list(map(lambda x: nb_train_rated[x[1]], X_tmp_test))"
   ]
  },
  {
   "cell_type": "code",
   "execution_count": 124,
   "metadata": {
    "collapsed": true
   },
   "outputs": [],
   "source": [
    "Xt = np.column_stack((nb_rt, y_als, y_lasso))"
   ]
  },
  {
   "cell_type": "code",
   "execution_count": 125,
   "metadata": {},
   "outputs": [
    {
     "data": {
      "text/plain": [
       "(1.1847682,\n",
       " array([ 5.49957323], dtype=float32),\n",
       " array([ 1.31359959], dtype=float32))"
      ]
     },
     "execution_count": 125,
     "metadata": {},
     "output_type": "execute_result"
    }
   ],
   "source": [
    "loss.eval(), beta.eval(), gamma.eval()"
   ]
  },
  {
   "cell_type": "code",
   "execution_count": 126,
   "metadata": {},
   "outputs": [
    {
     "name": "stdout",
     "output_type": "stream",
     "text": [
      "1054 not\n",
      "890 not\n",
      "687 not\n",
      "1040 not\n",
      "1054 not\n",
      "2004 not\n",
      "1406 not\n",
      "1532 not\n",
      "782 not\n"
     ]
    }
   ],
   "source": [
    "y_full_als = als.predict(X_tmp_test)\n",
    "y_full_lasso = lasso.predict(X_tmp_test)"
   ]
  },
  {
   "cell_type": "code",
   "execution_count": 127,
   "metadata": {},
   "outputs": [],
   "source": [
    "new_pred = tf.sigmoid(beta*(Xt.dot(e1) - gamma)) * y_full_als + (1 - tf.sigmoid(beta*(Xt.dot(e1) - gamma))) * y_full_lasso"
   ]
  },
  {
   "cell_type": "code",
   "execution_count": 129,
   "metadata": {},
   "outputs": [
    {
     "name": "stdout",
     "output_type": "stream",
     "text": [
      "Test error 1.15664171893\n"
     ]
    }
   ],
   "source": [
    "WINDOW = 1000000\n",
    "\n",
    "rmse_als_full = als.compute_rmse(y_full_als, y_tmp_test)\n",
    "print('Test error', rmse_als_full)\n",
    "god_rmse['als'].append(rmse_als_full)"
   ]
  },
  {
   "cell_type": "code",
   "execution_count": 130,
   "metadata": {},
   "outputs": [
    {
     "name": "stdout",
     "output_type": "stream",
     "text": [
      "Test error 1.15330920105\n"
     ]
    }
   ],
   "source": [
    "y_new_pred = new_pred.eval()\n",
    "rmse_balse_full = als.compute_rmse(y_new_pred, y_tmp_test)\n",
    "print('Test error', rmse_balse_full)\n",
    "god_rmse['balse'].append(rmse_balse_full)"
   ]
  },
  {
   "cell_type": "code",
   "execution_count": 131,
   "metadata": {},
   "outputs": [
    {
     "name": "stdout",
     "output_type": "stream",
     "text": [
      "Test error 1.28351969054\n"
     ]
    }
   ],
   "source": [
    "rmse_lasso_full = als.compute_rmse(y_full_lasso, y_tmp_test)\n",
    "print('Test error', rmse_lasso_full)\n",
    "god_rmse['lasso'].append(rmse_lasso_full)"
   ]
  },
  {
   "cell_type": "code",
   "execution_count": 132,
   "metadata": {
    "collapsed": true
   },
   "outputs": [],
   "source": [
    "for WINDOW, tag in [(1000, 'cold'), (len(nb_rt) - nb_rt.index(0), 'freeze')]:\n",
    "    god_rmse['als-%s' % tag].append(als.compute_rmse(y_als[-WINDOW:], y_tmp_test[-WINDOW:]))\n",
    "    y_new_pred = new_pred.eval()\n",
    "    god_rmse['balse-%s' % tag].append(als.compute_rmse(y_new_pred[-WINDOW:], y_tmp_test[-WINDOW:]))\n",
    "    god_rmse['lasso-%s' % tag].append(als.compute_rmse(y_lasso[-WINDOW:], y_tmp_test[-WINDOW:]))"
   ]
  },
  {
   "cell_type": "code",
   "execution_count": 133,
   "metadata": {
    "collapsed": true
   },
   "outputs": [],
   "source": [
    "import math\n",
    "\n",
    "def avgstd(l):  # Displays mean and variance\n",
    "    n = len(l)\n",
    "    mean = float(sum(l)) / n\n",
    "    var = float(sum(i * i for i in l)) / n - mean * mean\n",
    "    return '%.5f ± %.5f' % (round(mean, 5), round(1.96 * math.sqrt(var / n), 3))  # '%.3f ± %.3f' % "
   ]
  },
  {
   "cell_type": "code",
   "execution_count": 134,
   "metadata": {},
   "outputs": [
    {
     "name": "stdout",
     "output_type": "stream",
     "text": [
      "als [1.1566417189342415, 1.1566417189342415, 1.1566417189342415, 1.1566417189342415]\n",
      "als 1.15664 ± 0.00000\n",
      "balse [1.1566364570395711, 1.1557009140671186, 1.1533092010505441]\n",
      "balse 1.15522 ± 0.00200\n",
      "lasso [1.2683332115531472, 1.2683332115531472, 1.2835196905412267]\n",
      "lasso 1.27340 ± 0.00800\n",
      "als-cold [1.3298691481100322, 1.3298691481100322, 1.3298691481100322]\n",
      "als-cold 1.32987 ± 0.00000\n",
      "balse-cold [1.3273417687808244, 1.2998301376728705, 1.2267183338476031]\n",
      "balse-cold 1.28463 ± 0.04800\n",
      "lasso-cold [1.2355318961990578, 1.2355318961990578, 1.2265554514742143]\n",
      "lasso-cold 1.23254 ± 0.00500\n",
      "als-freeze [1.5003995376065826, 1.5003995376065826, 1.5003995376065826]\n",
      "als-freeze 1.50040 ± 0.00000\n",
      "balse-freeze [1.6291903972929971, 1.5375026795898905, 1.2970251892632048]\n",
      "balse-freeze 1.48791 ± 0.15900\n",
      "lasso-freeze [1.3018808470593315, 1.3018808470593315, 1.286085569935399]\n",
      "lasso-freeze 1.29662 ± 0.00800\n"
     ]
    }
   ],
   "source": [
    "for key in god_rmse:\n",
    "    print(key, god_rmse[key])\n",
    "    print(key, avgstd(god_rmse[key]))"
   ]
  },
  {
   "cell_type": "code",
   "execution_count": 135,
   "metadata": {},
   "outputs": [
    {
     "name": "stdout",
     "output_type": "stream",
     "text": [
      "240\n",
      "[251 3013]\n",
      "Power Stone als [ 0.74640613] lasso [0.84433903611047678] sub_als 0.584779322389 sub_lasso 0.831232580721 balse 0.844268 truth -2.0 user bias 0.809893993523 nb ratings 0\n",
      "[389 1635]\n",
      "Lingeries als [ 1.71536751] lasso [0.5061941207916113] sub_als 1.28279391517 sub_lasso 0.417444647805 balse 0.507075 truth 2.0 user bias 0.547940075342 nb ratings 0\n",
      "[1306 4586]\n",
      "The pornography novelist is trained als [ 1.31399977] lasso [0.82496147941076636] sub_als 0.45627384299 sub_lasso 0.811991279273 balse 0.825318 truth 0.1 user bias 0.824961479411 nb ratings 0\n"
     ]
    }
   ],
   "source": [
    "print(WINDOW)\n",
    "for i in range(1, 4):\n",
    "    encoded_user_id, encoded_work_id = X_tmp_test[-i]\n",
    "    if True:#encoded_user_id == 2015:\n",
    "        print(X_tmp_test[-i])\n",
    "        print(dataset.titles[encoded_work_id],\n",
    "              'als', als.predict(np.array([(encoded_user_id, encoded_work_id)])),\n",
    "              'lasso', lasso.predict(np.array([(encoded_user_id, encoded_work_id)])),\n",
    "              'sub_als', y_als[-i],\n",
    "              'sub_lasso', y_lasso[-i],\n",
    "              'balse', y_new_pred[-i],\n",
    "              'truth', y_tmp_test[-i],\n",
    "              'user bias', als.means[encoded_user_id],\n",
    "              'nb ratings', nb_train_rated[encoded_work_id])"
   ]
  },
  {
   "cell_type": "code",
   "execution_count": 137,
   "metadata": {},
   "outputs": [
    {
     "name": "stdout",
     "output_type": "stream",
     "text": [
      "2girls 0.173580855131\n",
      "tree 0.163075566292\n",
      "1girl 0.110314182937\n",
      "brown hair 0.330881863832\n",
      "long hair 0.413392990828\n",
      "short hair 0.279685050249\n",
      "serafuku 0.170303434134\n",
      "thighhighs 0.256292790174\n",
      "skirt 0.431603550911\n",
      "1boy 0.149014562368\n",
      "outdoors 0.118006154895\n",
      "bag 0.100744493306\n",
      "2boys 0.130534887314\n",
      "multiple girls 0.743197321892\n",
      "3girls 0.455147713423\n",
      "smile 0.164101824164\n",
      "cloud 0.186545163393\n",
      "black hair 0.282055705786\n",
      "brown eyes 0.317968964577\n",
      "twintails 0.145467013121\n",
      "multiple boys 0.195584014058\n",
      "pleated skirt 0.143671616912\n",
      "sky 0.223109439015\n",
      "school uniform 0.79898160696\n"
     ]
    }
   ],
   "source": [
    "with open(os.path.join(DATA_DIR, 'balse/balse.csv')) as f:\n",
    "    tags = [line.split(',')[1] for line in f]\n",
    "\n",
    "WORK_ID = 665\n",
    "    \n",
    "for tag, weight in zip(tags, T[WORK_ID]):\n",
    "    if weight != 0:\n",
    "        print(tag.strip(), weight)"
   ]
  },
  {
   "cell_type": "code",
   "execution_count": 138,
   "metadata": {},
   "outputs": [],
   "source": [
    "for tag, weight in zip(tags, lasso.reg[2015].coef_):\n",
    "    if weight != 0:\n",
    "        print(tag, weight)"
   ]
  },
  {
   "cell_type": "code",
   "execution_count": 139,
   "metadata": {},
   "outputs": [
    {
     "data": {
      "text/plain": [
       "array([ 0.73747573])"
      ]
     },
     "execution_count": 139,
     "metadata": {},
     "output_type": "execute_result"
    }
   ],
   "source": [
    "lasso.reg[2015].predict(np.array([T[WORK_ID]]))"
   ]
  },
  {
   "cell_type": "code",
   "execution_count": 140,
   "metadata": {},
   "outputs": [
    {
     "data": {
      "text/plain": [
       "0.0"
      ]
     },
     "execution_count": 140,
     "metadata": {},
     "output_type": "execute_result"
    }
   ],
   "source": [
    "lasso.reg[2015].coef_.dot(T[WORK_ID])"
   ]
  },
  {
   "cell_type": "code",
   "execution_count": 141,
   "metadata": {},
   "outputs": [
    {
     "data": {
      "text/plain": [
       "0.73747572817848728"
      ]
     },
     "execution_count": 141,
     "metadata": {},
     "output_type": "execute_result"
    }
   ],
   "source": [
    "lasso.reg[2015].intercept_"
   ]
  },
  {
   "cell_type": "code",
   "execution_count": 142,
   "metadata": {},
   "outputs": [],
   "source": [
    "for tag, weight in zip(tags, lasso.reg[2015].coef_ * T[WORK_ID]):\n",
    "    if weight:\n",
    "        print(tag.strip(), weight)"
   ]
  },
  {
   "cell_type": "code",
   "execution_count": 143,
   "metadata": {},
   "outputs": [
    {
     "data": {
      "text/plain": [
       "array([-0.34922168, -0.02603758, -0.31870448,  0.37174495, -0.04622742,\n",
       "        1.42612367, -0.84433803,  0.20316341,  0.80450289,  1.12107641])"
      ]
     },
     "execution_count": 143,
     "metadata": {},
     "output_type": "execute_result"
    }
   ],
   "source": [
    "als.VT.T[3748]"
   ]
  },
  {
   "cell_type": "code",
   "execution_count": 144,
   "metadata": {},
   "outputs": [
    {
     "data": {
      "text/plain": [
       "Counter({'dislike': 16,\n",
       "         'favorite': 23,\n",
       "         'like': 118,\n",
       "         'neutral': 9,\n",
       "         'willsee': 330,\n",
       "         'wontsee': 68})"
      ]
     },
     "execution_count": 144,
     "metadata": {},
     "output_type": "execute_result"
    }
   ],
   "source": [
    "from collections import Counter\n",
    "Counter(User.objects.get(id=1).rating_set.values_list('choice', flat=True))"
   ]
  },
  {
   "cell_type": "code",
   "execution_count": 145,
   "metadata": {},
   "outputs": [
    {
     "name": "stdout",
     "output_type": "stream",
     "text": [
      "77\n",
      "9163\n"
     ]
    }
   ],
   "source": [
    "for work_id, title in enumerate(dataset.titles):\n",
    "    if title == 'Millennium Actress':\n",
    "        print(work_id)"
   ]
  },
  {
   "cell_type": "code",
   "execution_count": 146,
   "metadata": {},
   "outputs": [],
   "source": [
    "from collections import Counter, defaultdict\n",
    "\n",
    "nb = defaultdict(Counter)\n",
    "for (user_id, work_id), value in zip(dataset.anonymized.X, dataset.anonymized.y):\n",
    "    nb[user_id][value] += 1"
   ]
  },
  {
   "cell_type": "code",
   "execution_count": 147,
   "metadata": {},
   "outputs": [
    {
     "name": "stdout",
     "output_type": "stream",
     "text": [
      "981 Counter({-0.5: 126, 2.0: 92, -2.0: 51, 4.0: 46, 0.5: 42, 0.1: 28})\n",
      "121 Counter({-0.5: 75, 0.5: 64, 4.0: 62, 2.0: 51, 0.1: 22, -2.0: 5})\n",
      "1738 Counter({4.0: 21, -2.0: 8, 0.1: 7, 2.0: 7, 0.5: 4, -0.5: 1})\n",
      "1120 Counter({0.5: 742, 2.0: 316, -0.5: 208, -2.0: 137, 0.1: 126, 4.0: 39})\n",
      "326 Counter({2.0: 123, 4.0: 70, 0.1: 55, -2.0: 46, 0.5: 25, -0.5: 11})\n",
      "1689 Counter({0.1: 71, -2.0: 43, 2.0: 42, 4.0: 7})\n",
      "1979 Counter({2.0: 61, 0.5: 53, -0.5: 34, 4.0: 31, 0.1: 14})\n",
      "278 Counter({2.0: 103, -0.5: 85, 0.5: 31, 4.0: 26, 0.1: 24, -2.0: 10})\n",
      "407 Counter({0.1: 13, -2.0: 11, -0.5: 9, 2.0: 9, 0.5: 3, 4.0: 1})\n",
      "512 Counter({4.0: 7, 2.0: 6, -2.0: 2, -0.5: 2, 0.5: 1})\n",
      "453 Counter({-0.5: 518, 0.5: 437, 2.0: 278, 4.0: 77, 0.1: 17, -2.0: 11})\n",
      "2015 Counter({0.5: 333, 2.0: 121, -0.5: 72, 4.0: 25, -2.0: 16, 0.1: 9})\n",
      "1839 Counter({2.0: 197, -0.5: 73, 4.0: 62, 0.5: 57, 0.1: 46, -2.0: 16})\n",
      "242 Counter({2.0: 199, 4.0: 37, 0.1: 34, -2.0: 26, -0.5: 4, 0.5: 4})\n",
      "1678 Counter({2.0: 6, 0.5: 5, 4.0: 5, -2.0: 2})\n"
     ]
    }
   ],
   "source": [
    "for (user_id, work_id), value in zip(dataset.anonymized.X, dataset.anonymized.y):\n",
    "    if work_id == 77 and value == 4:\n",
    "        print(user_id, nb[user_id])"
   ]
  },
  {
   "cell_type": "code",
   "execution_count": 148,
   "metadata": {
    "collapsed": true
   },
   "outputs": [],
   "source": [
    "# JJ est 2015 !"
   ]
  }
 ],
 "metadata": {
  "kernelspec": {
   "display_name": "Django Shell-Plus",
   "language": "python",
   "name": "django_extensions"
  },
  "language_info": {
   "codemirror_mode": {
    "name": "ipython",
    "version": 3
   },
   "file_extension": ".py",
   "mimetype": "text/x-python",
   "name": "python",
   "nbconvert_exporter": "python",
   "pygments_lexer": "ipython3",
   "version": "3.6.2"
  }
 },
 "nbformat": 4,
 "nbformat_minor": 2
}
