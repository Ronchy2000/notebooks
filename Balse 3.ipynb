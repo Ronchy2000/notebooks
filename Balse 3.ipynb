{
 "cells": [
  {
   "cell_type": "markdown",
   "metadata": {},
   "source": [
    "# BALSE バルス"
   ]
  },
  {
   "cell_type": "markdown",
   "metadata": {},
   "source": [
    "Thanks for your interest in BALSE!\n",
    "\n",
    "You will need:\n",
    "\n",
    "`pip install scikit-learn tensorflow`"
   ]
  },
  {
   "cell_type": "code",
   "execution_count": 1,
   "metadata": {},
   "outputs": [],
   "source": [
    "from collections import defaultdict, Counter\n",
    "\n",
    "god_rmse = defaultdict(list)"
   ]
  },
  {
   "cell_type": "code",
   "execution_count": 2,
   "metadata": {},
   "outputs": [],
   "source": [
    "from zero.als import MangakiALS\n",
    "from zero.svd import MangakiSVD"
   ]
  },
  {
   "cell_type": "code",
   "execution_count": 3,
   "metadata": {},
   "outputs": [],
   "source": [
    "from zero.dataset import Dataset\n",
    "from mangaki.utils.values import rating_values\n",
    "\n",
    "dataset = Dataset()\n",
    "dataset.load_csv('balse/ratings.csv', convert=lambda x: rating_values[x])#, title_filename='balse/works.csv')"
   ]
  },
  {
   "cell_type": "code",
   "execution_count": 8,
   "metadata": {},
   "outputs": [],
   "source": [
    "from zero.balse import MangakiBALSE\n",
    "# from mangaki.settings import DATA_DIR\n",
    "from scipy.sparse import load_npz"
   ]
  },
  {
   "cell_type": "code",
   "execution_count": 9,
   "metadata": {},
   "outputs": [],
   "source": [
    "from sklearn.model_selection import ShuffleSplit\n",
    "\n",
    "NB_SPLIT = 5\n",
    "k_fold = ShuffleSplit(n_splits=NB_SPLIT)\n",
    "SETS = list(k_fold.split(dataset.anonymized.X))"
   ]
  },
  {
   "cell_type": "markdown",
   "metadata": {},
   "source": [
    "Execute from the following cell to the `god_rmse` results by looping `GOD_I` from 0 to 4"
   ]
  },
  {
   "cell_type": "code",
   "execution_count": 253,
   "metadata": {},
   "outputs": [],
   "source": [
    "GOD_I = 0"
   ]
  },
  {
   "cell_type": "code",
   "execution_count": 254,
   "metadata": {},
   "outputs": [],
   "source": [
    "# START\n",
    "i_train, i_test = SETS[GOD_I]"
   ]
  },
  {
   "cell_type": "code",
   "execution_count": 255,
   "metadata": {},
   "outputs": [
    {
     "data": {
      "text/plain": [
       "(334390, 2)"
      ]
     },
     "execution_count": 255,
     "metadata": {},
     "output_type": "execute_result"
    }
   ],
   "source": [
    "dataset.anonymized.X.shape"
   ]
  },
  {
   "cell_type": "code",
   "execution_count": 256,
   "metadata": {},
   "outputs": [],
   "source": [
    "NOTVAL = round(0.7 * len(i_train))\n",
    "\n",
    "X_train = dataset.anonymized.X[i_train]\n",
    "y_train = dataset.anonymized.y[i_train]\n",
    "X_subtrain = X_train[:NOTVAL]\n",
    "y_subtrain = y_train[:NOTVAL]\n",
    "X_val = X_train[NOTVAL:]\n",
    "y_val = y_train[NOTVAL:]\n",
    "X_test = dataset.anonymized.X[i_test]\n",
    "y_test = dataset.anonymized.y[i_test]\n",
    "nb_subtrain_rated = Counter(X_subtrain[:, 1])\n",
    "nb_train_rated = Counter(X_train[:, 1])"
   ]
  },
  {
   "cell_type": "code",
   "execution_count": 257,
   "metadata": {},
   "outputs": [],
   "source": [
    "def run_als(X_train, X_test, y_train, y_test):\n",
    "    als = MangakiALS(nb_components=10, lambda_=0.1)\n",
    "    als.set_parameters(dataset.anonymized.nb_users, dataset.anonymized.nb_works)\n",
    "    als.fit(X_train, y_train)\n",
    "    als.X_train, als.X_test, als.y_train, als.y_test = X_train, X_test, y_train, y_test\n",
    "    als.compute_metrics()\n",
    "    return als"
   ]
  },
  {
   "cell_type": "code",
   "execution_count": 258,
   "metadata": {},
   "outputs": [
    {
     "name": "stdout",
     "output_type": "stream",
     "text": [
      "Computing M: (2079 × 9979)\n"
     ]
    },
    {
     "name": "stderr",
     "output_type": "stream",
     "text": [
      "Chrono: fill and center matrix [741ms]\n",
      "Chrono: factor matrix [17161ms]\n",
      "Train RMSE=0.975656\n"
     ]
    },
    {
     "name": "stdout",
     "output_type": "stream",
     "text": [
      "Shapes (2079, 10) (10, 9979)\n"
     ]
    },
    {
     "name": "stderr",
     "output_type": "stream",
     "text": [
      "Test RMSE=1.155436\n"
     ]
    },
    {
     "name": "stdout",
     "output_type": "stream",
     "text": [
      "Computing M: (2079 × 9979)\n"
     ]
    },
    {
     "name": "stderr",
     "output_type": "stream",
     "text": [
      "Chrono: fill and center matrix [552ms]\n",
      "Chrono: factor matrix [14595ms]\n",
      "Train RMSE=0.937978\n"
     ]
    },
    {
     "name": "stdout",
     "output_type": "stream",
     "text": [
      "Shapes (2079, 10) (10, 9979)\n"
     ]
    },
    {
     "name": "stderr",
     "output_type": "stream",
     "text": [
      "Test RMSE=1.185447\n"
     ]
    },
    {
     "name": "stdout",
     "output_type": "stream",
     "text": [
      "CPU times: user 1min 40s, sys: 1min 20s, total: 3min 1s\n",
      "Wall time: 33.5 s\n"
     ]
    }
   ],
   "source": [
    "%%time\n",
    "als = run_als(X_train, X_test, y_train, y_test)\n",
    "sub_als = run_als(X_subtrain, X_test, y_subtrain, y_test)"
   ]
  },
  {
   "cell_type": "code",
   "execution_count": 259,
   "metadata": {},
   "outputs": [
    {
     "name": "stderr",
     "output_type": "stream",
     "text": [
      "Train RMSE=1.572918\n",
      "Test RMSE=1.568612\n"
     ]
    }
   ],
   "source": [
    "from zero import MangakiZero\n",
    "\n",
    "zero = MangakiZero()\n",
    "zero.X_train, zero.X_test, zero.y_train, zero.y_test = X_train, X_test, y_train, y_test\n",
    "zero.compute_metrics()"
   ]
  },
  {
   "cell_type": "code",
   "execution_count": 260,
   "metadata": {},
   "outputs": [],
   "source": [
    "T = load_npz('balse/tag-matrix.npz').tocsc()"
   ]
  },
  {
   "cell_type": "code",
   "execution_count": 261,
   "metadata": {},
   "outputs": [],
   "source": [
    "from zero.lasso import MangakiLASSO\n",
    "\n",
    "def run_lasso(X_train, X_test, y_train, y_test):\n",
    "    lasso = MangakiLASSO(with_bias=True, alpha=0.01, T=T)\n",
    "    # lasso.load_tags()\n",
    "    lasso.set_parameters(dataset.anonymized.nb_users, dataset.anonymized.nb_works)\n",
    "    lasso.fit(X_train, y_train)\n",
    "    lasso.X_train, lasso.X_test, lasso.y_train, lasso.y_test = X_train, X_test, y_train, y_test\n",
    "    lasso.compute_metrics()\n",
    "    return lasso"
   ]
  },
  {
   "cell_type": "code",
   "execution_count": 262,
   "metadata": {
    "scrolled": true
   },
   "outputs": [
    {
     "name": "stderr",
     "output_type": "stream",
     "text": [
      "/home/jj/code/mangaki/venv/lib/python3.7/site-packages/sklearn/linear_model/_coordinate_descent.py:460: ConvergenceWarning: Objective did not converge. You might want to increase the number of iterations. Duality gap: 0.0, tolerance: 0.0\n",
      "  max_iter, tol, rng, random, positive)\n",
      "/home/jj/code/mangaki/venv/lib/python3.7/site-packages/sklearn/linear_model/_coordinate_descent.py:460: ConvergenceWarning: Objective did not converge. You might want to increase the number of iterations. Duality gap: 0.0, tolerance: 0.0\n",
      "  max_iter, tol, rng, random, positive)\n",
      "/home/jj/code/mangaki/venv/lib/python3.7/site-packages/sklearn/linear_model/_coordinate_descent.py:460: ConvergenceWarning: Objective did not converge. You might want to increase the number of iterations. Duality gap: 0.0, tolerance: 0.0\n",
      "  max_iter, tol, rng, random, positive)\n",
      "/home/jj/code/mangaki/venv/lib/python3.7/site-packages/sklearn/linear_model/_coordinate_descent.py:460: ConvergenceWarning: Objective did not converge. You might want to increase the number of iterations. Duality gap: 0.0, tolerance: 0.0\n",
      "  max_iter, tol, rng, random, positive)\n",
      "/home/jj/code/mangaki/venv/lib/python3.7/site-packages/sklearn/linear_model/_coordinate_descent.py:460: ConvergenceWarning: Objective did not converge. You might want to increase the number of iterations. Duality gap: 0.0, tolerance: 0.0\n",
      "  max_iter, tol, rng, random, positive)\n",
      "/home/jj/code/mangaki/venv/lib/python3.7/site-packages/sklearn/linear_model/_coordinate_descent.py:460: ConvergenceWarning: Objective did not converge. You might want to increase the number of iterations. Duality gap: 0.0, tolerance: 0.0\n",
      "  max_iter, tol, rng, random, positive)\n",
      "/home/jj/code/mangaki/venv/lib/python3.7/site-packages/sklearn/linear_model/_coordinate_descent.py:460: ConvergenceWarning: Objective did not converge. You might want to increase the number of iterations. Duality gap: 0.0, tolerance: 0.0\n",
      "  max_iter, tol, rng, random, positive)\n",
      "/home/jj/code/mangaki/venv/lib/python3.7/site-packages/sklearn/linear_model/_coordinate_descent.py:460: ConvergenceWarning: Objective did not converge. You might want to increase the number of iterations. Duality gap: 0.0, tolerance: 0.0\n",
      "  max_iter, tol, rng, random, positive)\n",
      "/home/jj/code/mangaki/venv/lib/python3.7/site-packages/sklearn/linear_model/_coordinate_descent.py:460: ConvergenceWarning: Objective did not converge. You might want to increase the number of iterations. Duality gap: 0.0, tolerance: 0.0\n",
      "  max_iter, tol, rng, random, positive)\n",
      "/home/jj/code/mangaki/venv/lib/python3.7/site-packages/sklearn/linear_model/_coordinate_descent.py:460: ConvergenceWarning: Objective did not converge. You might want to increase the number of iterations. Duality gap: 0.0, tolerance: 0.0\n",
      "  max_iter, tol, rng, random, positive)\n",
      "/home/jj/code/mangaki/venv/lib/python3.7/site-packages/sklearn/linear_model/_coordinate_descent.py:460: ConvergenceWarning: Objective did not converge. You might want to increase the number of iterations. Duality gap: 0.0, tolerance: 0.0\n",
      "  max_iter, tol, rng, random, positive)\n",
      "/home/jj/code/mangaki/venv/lib/python3.7/site-packages/sklearn/linear_model/_coordinate_descent.py:460: ConvergenceWarning: Objective did not converge. You might want to increase the number of iterations. Duality gap: 0.0, tolerance: 0.0\n",
      "  max_iter, tol, rng, random, positive)\n",
      "/home/jj/code/mangaki/venv/lib/python3.7/site-packages/sklearn/linear_model/_coordinate_descent.py:460: ConvergenceWarning: Objective did not converge. You might want to increase the number of iterations. Duality gap: 0.0, tolerance: 0.0\n",
      "  max_iter, tol, rng, random, positive)\n",
      "/home/jj/code/mangaki/venv/lib/python3.7/site-packages/sklearn/linear_model/_coordinate_descent.py:460: ConvergenceWarning: Objective did not converge. You might want to increase the number of iterations. Duality gap: 0.013930056790211864, tolerance: 0.006266117647058823\n",
      "  max_iter, tol, rng, random, positive)\n",
      "/home/jj/code/mangaki/venv/lib/python3.7/site-packages/sklearn/linear_model/_coordinate_descent.py:460: ConvergenceWarning: Objective did not converge. You might want to increase the number of iterations. Duality gap: 0.0, tolerance: 0.0\n",
      "  max_iter, tol, rng, random, positive)\n",
      "/home/jj/code/mangaki/venv/lib/python3.7/site-packages/sklearn/linear_model/_coordinate_descent.py:460: ConvergenceWarning: Objective did not converge. You might want to increase the number of iterations. Duality gap: 0.0, tolerance: 0.0\n",
      "  max_iter, tol, rng, random, positive)\n",
      "/home/jj/code/mangaki/venv/lib/python3.7/site-packages/sklearn/linear_model/_coordinate_descent.py:460: ConvergenceWarning: Objective did not converge. You might want to increase the number of iterations. Duality gap: 0.0, tolerance: 0.0\n",
      "  max_iter, tol, rng, random, positive)\n",
      "/home/jj/code/mangaki/venv/lib/python3.7/site-packages/sklearn/linear_model/_coordinate_descent.py:460: ConvergenceWarning: Objective did not converge. You might want to increase the number of iterations. Duality gap: 0.0, tolerance: 0.0\n",
      "  max_iter, tol, rng, random, positive)\n",
      "/home/jj/code/mangaki/venv/lib/python3.7/site-packages/sklearn/linear_model/_coordinate_descent.py:460: ConvergenceWarning: Objective did not converge. You might want to increase the number of iterations. Duality gap: 0.0, tolerance: 0.0\n",
      "  max_iter, tol, rng, random, positive)\n",
      "/home/jj/code/mangaki/venv/lib/python3.7/site-packages/sklearn/linear_model/_coordinate_descent.py:460: ConvergenceWarning: Objective did not converge. You might want to increase the number of iterations. Duality gap: 0.0, tolerance: 0.0\n",
      "  max_iter, tol, rng, random, positive)\n",
      "/home/jj/code/mangaki/venv/lib/python3.7/site-packages/sklearn/linear_model/_coordinate_descent.py:460: ConvergenceWarning: Objective did not converge. You might want to increase the number of iterations. Duality gap: 0.0, tolerance: 0.0\n",
      "  max_iter, tol, rng, random, positive)\n",
      "/home/jj/code/mangaki/venv/lib/python3.7/site-packages/sklearn/linear_model/_coordinate_descent.py:460: ConvergenceWarning: Objective did not converge. You might want to increase the number of iterations. Duality gap: 0.0, tolerance: 0.0\n",
      "  max_iter, tol, rng, random, positive)\n",
      "/home/jj/code/mangaki/venv/lib/python3.7/site-packages/sklearn/linear_model/_coordinate_descent.py:460: ConvergenceWarning: Objective did not converge. You might want to increase the number of iterations. Duality gap: 0.0, tolerance: 0.0\n",
      "  max_iter, tol, rng, random, positive)\n",
      "/home/jj/code/mangaki/venv/lib/python3.7/site-packages/sklearn/linear_model/_coordinate_descent.py:460: ConvergenceWarning: Objective did not converge. You might want to increase the number of iterations. Duality gap: 0.0, tolerance: 0.0\n",
      "  max_iter, tol, rng, random, positive)\n",
      "/home/jj/code/mangaki/venv/lib/python3.7/site-packages/sklearn/linear_model/_coordinate_descent.py:460: ConvergenceWarning: Objective did not converge. You might want to increase the number of iterations. Duality gap: 0.0, tolerance: 0.0\n",
      "  max_iter, tol, rng, random, positive)\n",
      "/home/jj/code/mangaki/venv/lib/python3.7/site-packages/sklearn/linear_model/_coordinate_descent.py:460: ConvergenceWarning: Objective did not converge. You might want to increase the number of iterations. Duality gap: 0.0, tolerance: 0.0\n",
      "  max_iter, tol, rng, random, positive)\n",
      "/home/jj/code/mangaki/venv/lib/python3.7/site-packages/sklearn/linear_model/_coordinate_descent.py:460: ConvergenceWarning: Objective did not converge. You might want to increase the number of iterations. Duality gap: 0.0, tolerance: 0.0\n",
      "  max_iter, tol, rng, random, positive)\n",
      "/home/jj/code/mangaki/venv/lib/python3.7/site-packages/sklearn/linear_model/_coordinate_descent.py:460: ConvergenceWarning: Objective did not converge. You might want to increase the number of iterations. Duality gap: 0.0, tolerance: 0.0\n",
      "  max_iter, tol, rng, random, positive)\n",
      "/home/jj/code/mangaki/venv/lib/python3.7/site-packages/sklearn/linear_model/_coordinate_descent.py:460: ConvergenceWarning: Objective did not converge. You might want to increase the number of iterations. Duality gap: 0.0, tolerance: 0.0\n",
      "  max_iter, tol, rng, random, positive)\n",
      "/home/jj/code/mangaki/venv/lib/python3.7/site-packages/sklearn/linear_model/_coordinate_descent.py:460: ConvergenceWarning: Objective did not converge. You might want to increase the number of iterations. Duality gap: 0.0, tolerance: 0.0\n",
      "  max_iter, tol, rng, random, positive)\n",
      "/home/jj/code/mangaki/venv/lib/python3.7/site-packages/sklearn/linear_model/_coordinate_descent.py:460: ConvergenceWarning: Objective did not converge. You might want to increase the number of iterations. Duality gap: 0.0, tolerance: 0.0\n",
      "  max_iter, tol, rng, random, positive)\n",
      "/home/jj/code/mangaki/venv/lib/python3.7/site-packages/sklearn/linear_model/_coordinate_descent.py:460: ConvergenceWarning: Objective did not converge. You might want to increase the number of iterations. Duality gap: 0.0, tolerance: 0.0\n",
      "  max_iter, tol, rng, random, positive)\n",
      "/home/jj/code/mangaki/venv/lib/python3.7/site-packages/sklearn/linear_model/_coordinate_descent.py:460: ConvergenceWarning: Objective did not converge. You might want to increase the number of iterations. Duality gap: 0.0, tolerance: 0.0\n",
      "  max_iter, tol, rng, random, positive)\n",
      "/home/jj/code/mangaki/venv/lib/python3.7/site-packages/sklearn/linear_model/_coordinate_descent.py:460: ConvergenceWarning: Objective did not converge. You might want to increase the number of iterations. Duality gap: 0.0, tolerance: 0.0\n",
      "  max_iter, tol, rng, random, positive)\n",
      "/home/jj/code/mangaki/venv/lib/python3.7/site-packages/sklearn/linear_model/_coordinate_descent.py:460: ConvergenceWarning: Objective did not converge. You might want to increase the number of iterations. Duality gap: 0.0, tolerance: 0.0\n",
      "  max_iter, tol, rng, random, positive)\n",
      "/home/jj/code/mangaki/venv/lib/python3.7/site-packages/sklearn/linear_model/_coordinate_descent.py:460: ConvergenceWarning: Objective did not converge. You might want to increase the number of iterations. Duality gap: 0.0009503465771796421, tolerance: 0.0007608571428571429\n",
      "  max_iter, tol, rng, random, positive)\n"
     ]
    },
    {
     "name": "stderr",
     "output_type": "stream",
     "text": [
      "/home/jj/code/mangaki/venv/lib/python3.7/site-packages/sklearn/linear_model/_coordinate_descent.py:460: ConvergenceWarning: Objective did not converge. You might want to increase the number of iterations. Duality gap: 0.0, tolerance: 0.0\n",
      "  max_iter, tol, rng, random, positive)\n",
      "/home/jj/code/mangaki/venv/lib/python3.7/site-packages/sklearn/linear_model/_coordinate_descent.py:460: ConvergenceWarning: Objective did not converge. You might want to increase the number of iterations. Duality gap: 0.0, tolerance: 0.0\n",
      "  max_iter, tol, rng, random, positive)\n",
      "/home/jj/code/mangaki/venv/lib/python3.7/site-packages/sklearn/linear_model/_coordinate_descent.py:460: ConvergenceWarning: Objective did not converge. You might want to increase the number of iterations. Duality gap: 0.0, tolerance: 0.0\n",
      "  max_iter, tol, rng, random, positive)\n",
      "/home/jj/code/mangaki/venv/lib/python3.7/site-packages/sklearn/linear_model/_coordinate_descent.py:460: ConvergenceWarning: Objective did not converge. You might want to increase the number of iterations. Duality gap: 0.0, tolerance: 0.0\n",
      "  max_iter, tol, rng, random, positive)\n",
      "/home/jj/code/mangaki/venv/lib/python3.7/site-packages/sklearn/linear_model/_coordinate_descent.py:460: ConvergenceWarning: Objective did not converge. You might want to increase the number of iterations. Duality gap: 0.0, tolerance: 0.0\n",
      "  max_iter, tol, rng, random, positive)\n",
      "/home/jj/code/mangaki/venv/lib/python3.7/site-packages/sklearn/linear_model/_coordinate_descent.py:460: ConvergenceWarning: Objective did not converge. You might want to increase the number of iterations. Duality gap: 0.0, tolerance: 0.0\n",
      "  max_iter, tol, rng, random, positive)\n",
      "/home/jj/code/mangaki/venv/lib/python3.7/site-packages/sklearn/linear_model/_coordinate_descent.py:460: ConvergenceWarning: Objective did not converge. You might want to increase the number of iterations. Duality gap: 0.0, tolerance: 0.0\n",
      "  max_iter, tol, rng, random, positive)\n",
      "/home/jj/code/mangaki/venv/lib/python3.7/site-packages/sklearn/linear_model/_coordinate_descent.py:460: ConvergenceWarning: Objective did not converge. You might want to increase the number of iterations. Duality gap: 0.0, tolerance: 0.0\n",
      "  max_iter, tol, rng, random, positive)\n",
      "/home/jj/code/mangaki/venv/lib/python3.7/site-packages/sklearn/linear_model/_coordinate_descent.py:460: ConvergenceWarning: Objective did not converge. You might want to increase the number of iterations. Duality gap: 0.0, tolerance: 0.0\n",
      "  max_iter, tol, rng, random, positive)\n",
      "/home/jj/code/mangaki/venv/lib/python3.7/site-packages/sklearn/linear_model/_coordinate_descent.py:460: ConvergenceWarning: Objective did not converge. You might want to increase the number of iterations. Duality gap: 0.0, tolerance: 0.0\n",
      "  max_iter, tol, rng, random, positive)\n",
      "/home/jj/code/mangaki/venv/lib/python3.7/site-packages/sklearn/linear_model/_coordinate_descent.py:460: ConvergenceWarning: Objective did not converge. You might want to increase the number of iterations. Duality gap: 0.0, tolerance: 0.0\n",
      "  max_iter, tol, rng, random, positive)\n",
      "/home/jj/code/mangaki/venv/lib/python3.7/site-packages/sklearn/linear_model/_coordinate_descent.py:460: ConvergenceWarning: Objective did not converge. You might want to increase the number of iterations. Duality gap: 0.0, tolerance: 0.0\n",
      "  max_iter, tol, rng, random, positive)\n",
      "/home/jj/code/mangaki/venv/lib/python3.7/site-packages/sklearn/linear_model/_coordinate_descent.py:460: ConvergenceWarning: Objective did not converge. You might want to increase the number of iterations. Duality gap: 0.0, tolerance: 0.0\n",
      "  max_iter, tol, rng, random, positive)\n",
      "/home/jj/code/mangaki/venv/lib/python3.7/site-packages/sklearn/linear_model/_coordinate_descent.py:460: ConvergenceWarning: Objective did not converge. You might want to increase the number of iterations. Duality gap: 0.0, tolerance: 0.0\n",
      "  max_iter, tol, rng, random, positive)\n",
      "/home/jj/code/mangaki/venv/lib/python3.7/site-packages/sklearn/linear_model/_coordinate_descent.py:460: ConvergenceWarning: Objective did not converge. You might want to increase the number of iterations. Duality gap: 0.0, tolerance: 0.0\n",
      "  max_iter, tol, rng, random, positive)\n",
      "/home/jj/code/mangaki/venv/lib/python3.7/site-packages/sklearn/linear_model/_coordinate_descent.py:460: ConvergenceWarning: Objective did not converge. You might want to increase the number of iterations. Duality gap: 0.0, tolerance: 0.0\n",
      "  max_iter, tol, rng, random, positive)\n",
      "/home/jj/code/mangaki/venv/lib/python3.7/site-packages/sklearn/linear_model/_coordinate_descent.py:460: ConvergenceWarning: Objective did not converge. You might want to increase the number of iterations. Duality gap: 0.0, tolerance: 0.0\n",
      "  max_iter, tol, rng, random, positive)\n",
      "/home/jj/code/mangaki/venv/lib/python3.7/site-packages/sklearn/linear_model/_coordinate_descent.py:460: ConvergenceWarning: Objective did not converge. You might want to increase the number of iterations. Duality gap: 0.0, tolerance: 0.0\n",
      "  max_iter, tol, rng, random, positive)\n",
      "/home/jj/code/mangaki/venv/lib/python3.7/site-packages/sklearn/linear_model/_coordinate_descent.py:460: ConvergenceWarning: Objective did not converge. You might want to increase the number of iterations. Duality gap: 0.0, tolerance: 0.0\n",
      "  max_iter, tol, rng, random, positive)\n",
      "/home/jj/code/mangaki/venv/lib/python3.7/site-packages/sklearn/linear_model/_coordinate_descent.py:460: ConvergenceWarning: Objective did not converge. You might want to increase the number of iterations. Duality gap: 0.0, tolerance: 0.0\n",
      "  max_iter, tol, rng, random, positive)\n",
      "/home/jj/code/mangaki/venv/lib/python3.7/site-packages/sklearn/linear_model/_coordinate_descent.py:460: ConvergenceWarning: Objective did not converge. You might want to increase the number of iterations. Duality gap: 0.0, tolerance: 0.0\n",
      "  max_iter, tol, rng, random, positive)\n",
      "/home/jj/code/mangaki/venv/lib/python3.7/site-packages/sklearn/linear_model/_coordinate_descent.py:460: ConvergenceWarning: Objective did not converge. You might want to increase the number of iterations. Duality gap: 0.0011927278768251875, tolerance: 0.0008\n",
      "  max_iter, tol, rng, random, positive)\n",
      "/home/jj/code/mangaki/venv/lib/python3.7/site-packages/sklearn/linear_model/_coordinate_descent.py:460: ConvergenceWarning: Objective did not converge. You might want to increase the number of iterations. Duality gap: 0.0, tolerance: 0.0\n",
      "  max_iter, tol, rng, random, positive)\n",
      "/home/jj/code/mangaki/venv/lib/python3.7/site-packages/sklearn/linear_model/_coordinate_descent.py:460: ConvergenceWarning: Objective did not converge. You might want to increase the number of iterations. Duality gap: 0.0, tolerance: 0.0\n",
      "  max_iter, tol, rng, random, positive)\n",
      "/home/jj/code/mangaki/venv/lib/python3.7/site-packages/sklearn/linear_model/_coordinate_descent.py:460: ConvergenceWarning: Objective did not converge. You might want to increase the number of iterations. Duality gap: 0.0, tolerance: 0.0\n",
      "  max_iter, tol, rng, random, positive)\n",
      "/home/jj/code/mangaki/venv/lib/python3.7/site-packages/sklearn/linear_model/_coordinate_descent.py:460: ConvergenceWarning: Objective did not converge. You might want to increase the number of iterations. Duality gap: 0.0, tolerance: 0.0\n",
      "  max_iter, tol, rng, random, positive)\n",
      "/home/jj/code/mangaki/venv/lib/python3.7/site-packages/sklearn/linear_model/_coordinate_descent.py:460: ConvergenceWarning: Objective did not converge. You might want to increase the number of iterations. Duality gap: 0.0, tolerance: 0.0\n",
      "  max_iter, tol, rng, random, positive)\n",
      "/home/jj/code/mangaki/venv/lib/python3.7/site-packages/sklearn/linear_model/_coordinate_descent.py:460: ConvergenceWarning: Objective did not converge. You might want to increase the number of iterations. Duality gap: 0.0, tolerance: 0.0\n",
      "  max_iter, tol, rng, random, positive)\n",
      "/home/jj/code/mangaki/venv/lib/python3.7/site-packages/sklearn/linear_model/_coordinate_descent.py:460: ConvergenceWarning: Objective did not converge. You might want to increase the number of iterations. Duality gap: 0.0, tolerance: 0.0\n",
      "  max_iter, tol, rng, random, positive)\n",
      "/home/jj/code/mangaki/venv/lib/python3.7/site-packages/sklearn/linear_model/_coordinate_descent.py:460: ConvergenceWarning: Objective did not converge. You might want to increase the number of iterations. Duality gap: 0.0, tolerance: 0.0\n",
      "  max_iter, tol, rng, random, positive)\n",
      "/home/jj/code/mangaki/venv/lib/python3.7/site-packages/sklearn/linear_model/_coordinate_descent.py:460: ConvergenceWarning: Objective did not converge. You might want to increase the number of iterations. Duality gap: 0.0, tolerance: 0.0\n",
      "  max_iter, tol, rng, random, positive)\n"
     ]
    },
    {
     "name": "stderr",
     "output_type": "stream",
     "text": [
      "/home/jj/code/mangaki/venv/lib/python3.7/site-packages/sklearn/linear_model/_coordinate_descent.py:460: ConvergenceWarning: Objective did not converge. You might want to increase the number of iterations. Duality gap: 0.0, tolerance: 0.0\n",
      "  max_iter, tol, rng, random, positive)\n",
      "/home/jj/code/mangaki/venv/lib/python3.7/site-packages/sklearn/linear_model/_coordinate_descent.py:460: ConvergenceWarning: Objective did not converge. You might want to increase the number of iterations. Duality gap: 0.0, tolerance: 0.0\n",
      "  max_iter, tol, rng, random, positive)\n",
      "/home/jj/code/mangaki/venv/lib/python3.7/site-packages/sklearn/linear_model/_coordinate_descent.py:460: ConvergenceWarning: Objective did not converge. You might want to increase the number of iterations. Duality gap: 0.0, tolerance: 0.0\n",
      "  max_iter, tol, rng, random, positive)\n",
      "/home/jj/code/mangaki/venv/lib/python3.7/site-packages/sklearn/linear_model/_coordinate_descent.py:460: ConvergenceWarning: Objective did not converge. You might want to increase the number of iterations. Duality gap: 0.0, tolerance: 0.0\n",
      "  max_iter, tol, rng, random, positive)\n",
      "/home/jj/code/mangaki/venv/lib/python3.7/site-packages/sklearn/linear_model/_coordinate_descent.py:460: ConvergenceWarning: Objective did not converge. You might want to increase the number of iterations. Duality gap: 0.0, tolerance: 0.0\n",
      "  max_iter, tol, rng, random, positive)\n",
      "/home/jj/code/mangaki/venv/lib/python3.7/site-packages/sklearn/linear_model/_coordinate_descent.py:460: ConvergenceWarning: Objective did not converge. You might want to increase the number of iterations. Duality gap: 0.0, tolerance: 0.0\n",
      "  max_iter, tol, rng, random, positive)\n",
      "/home/jj/code/mangaki/venv/lib/python3.7/site-packages/sklearn/linear_model/_coordinate_descent.py:460: ConvergenceWarning: Objective did not converge. You might want to increase the number of iterations. Duality gap: 0.0, tolerance: 0.0\n",
      "  max_iter, tol, rng, random, positive)\n",
      "/home/jj/code/mangaki/venv/lib/python3.7/site-packages/sklearn/linear_model/_coordinate_descent.py:460: ConvergenceWarning: Objective did not converge. You might want to increase the number of iterations. Duality gap: 0.0, tolerance: 0.0\n",
      "  max_iter, tol, rng, random, positive)\n",
      "/home/jj/code/mangaki/venv/lib/python3.7/site-packages/sklearn/linear_model/_coordinate_descent.py:460: ConvergenceWarning: Objective did not converge. You might want to increase the number of iterations. Duality gap: 0.0, tolerance: 0.0\n",
      "  max_iter, tol, rng, random, positive)\n",
      "/home/jj/code/mangaki/venv/lib/python3.7/site-packages/sklearn/linear_model/_coordinate_descent.py:460: ConvergenceWarning: Objective did not converge. You might want to increase the number of iterations. Duality gap: 0.0, tolerance: 0.0\n",
      "  max_iter, tol, rng, random, positive)\n",
      "/home/jj/code/mangaki/venv/lib/python3.7/site-packages/sklearn/linear_model/_coordinate_descent.py:460: ConvergenceWarning: Objective did not converge. You might want to increase the number of iterations. Duality gap: 0.0, tolerance: 0.0\n",
      "  max_iter, tol, rng, random, positive)\n",
      "/home/jj/code/mangaki/venv/lib/python3.7/site-packages/sklearn/linear_model/_coordinate_descent.py:460: ConvergenceWarning: Objective did not converge. You might want to increase the number of iterations. Duality gap: 0.0, tolerance: 0.0\n",
      "  max_iter, tol, rng, random, positive)\n",
      "/home/jj/code/mangaki/venv/lib/python3.7/site-packages/sklearn/linear_model/_coordinate_descent.py:460: ConvergenceWarning: Objective did not converge. You might want to increase the number of iterations. Duality gap: 0.0, tolerance: 0.0\n",
      "  max_iter, tol, rng, random, positive)\n",
      "/home/jj/code/mangaki/venv/lib/python3.7/site-packages/sklearn/linear_model/_coordinate_descent.py:460: ConvergenceWarning: Objective did not converge. You might want to increase the number of iterations. Duality gap: 0.0, tolerance: 0.0\n",
      "  max_iter, tol, rng, random, positive)\n",
      "/home/jj/code/mangaki/venv/lib/python3.7/site-packages/sklearn/linear_model/_coordinate_descent.py:460: ConvergenceWarning: Objective did not converge. You might want to increase the number of iterations. Duality gap: 0.0, tolerance: 0.0\n",
      "  max_iter, tol, rng, random, positive)\n",
      "/home/jj/code/mangaki/venv/lib/python3.7/site-packages/sklearn/linear_model/_coordinate_descent.py:460: ConvergenceWarning: Objective did not converge. You might want to increase the number of iterations. Duality gap: 0.0, tolerance: 0.0\n",
      "  max_iter, tol, rng, random, positive)\n",
      "/home/jj/code/mangaki/venv/lib/python3.7/site-packages/sklearn/linear_model/_coordinate_descent.py:460: ConvergenceWarning: Objective did not converge. You might want to increase the number of iterations. Duality gap: 0.0, tolerance: 0.0\n",
      "  max_iter, tol, rng, random, positive)\n",
      "/home/jj/code/mangaki/venv/lib/python3.7/site-packages/sklearn/linear_model/_coordinate_descent.py:460: ConvergenceWarning: Objective did not converge. You might want to increase the number of iterations. Duality gap: 0.0, tolerance: 0.0\n",
      "  max_iter, tol, rng, random, positive)\n",
      "/home/jj/code/mangaki/venv/lib/python3.7/site-packages/sklearn/linear_model/_coordinate_descent.py:460: ConvergenceWarning: Objective did not converge. You might want to increase the number of iterations. Duality gap: 0.0, tolerance: 0.0\n",
      "  max_iter, tol, rng, random, positive)\n",
      "/home/jj/code/mangaki/venv/lib/python3.7/site-packages/sklearn/linear_model/_coordinate_descent.py:460: ConvergenceWarning: Objective did not converge. You might want to increase the number of iterations. Duality gap: 0.0, tolerance: 0.0\n",
      "  max_iter, tol, rng, random, positive)\n",
      "/home/jj/code/mangaki/venv/lib/python3.7/site-packages/sklearn/linear_model/_coordinate_descent.py:460: ConvergenceWarning: Objective did not converge. You might want to increase the number of iterations. Duality gap: 0.0, tolerance: 0.0\n",
      "  max_iter, tol, rng, random, positive)\n",
      "/home/jj/code/mangaki/venv/lib/python3.7/site-packages/sklearn/linear_model/_coordinate_descent.py:460: ConvergenceWarning: Objective did not converge. You might want to increase the number of iterations. Duality gap: 0.0, tolerance: 0.0\n",
      "  max_iter, tol, rng, random, positive)\n",
      "/home/jj/code/mangaki/venv/lib/python3.7/site-packages/sklearn/linear_model/_coordinate_descent.py:460: ConvergenceWarning: Objective did not converge. You might want to increase the number of iterations. Duality gap: 0.0, tolerance: 0.0\n",
      "  max_iter, tol, rng, random, positive)\n",
      "/home/jj/code/mangaki/venv/lib/python3.7/site-packages/sklearn/linear_model/_coordinate_descent.py:460: ConvergenceWarning: Objective did not converge. You might want to increase the number of iterations. Duality gap: 0.0, tolerance: 0.0\n",
      "  max_iter, tol, rng, random, positive)\n",
      "/home/jj/code/mangaki/venv/lib/python3.7/site-packages/sklearn/linear_model/_coordinate_descent.py:460: ConvergenceWarning: Objective did not converge. You might want to increase the number of iterations. Duality gap: 0.0, tolerance: 0.0\n",
      "  max_iter, tol, rng, random, positive)\n",
      "/home/jj/code/mangaki/venv/lib/python3.7/site-packages/sklearn/linear_model/_coordinate_descent.py:460: ConvergenceWarning: Objective did not converge. You might want to increase the number of iterations. Duality gap: 0.0, tolerance: 0.0\n",
      "  max_iter, tol, rng, random, positive)\n",
      "/home/jj/code/mangaki/venv/lib/python3.7/site-packages/sklearn/linear_model/_coordinate_descent.py:460: ConvergenceWarning: Objective did not converge. You might want to increase the number of iterations. Duality gap: 0.0, tolerance: 0.0\n",
      "  max_iter, tol, rng, random, positive)\n",
      "/home/jj/code/mangaki/venv/lib/python3.7/site-packages/sklearn/linear_model/_coordinate_descent.py:460: ConvergenceWarning: Objective did not converge. You might want to increase the number of iterations. Duality gap: 0.0, tolerance: 0.0\n",
      "  max_iter, tol, rng, random, positive)\n",
      "/home/jj/code/mangaki/venv/lib/python3.7/site-packages/sklearn/linear_model/_coordinate_descent.py:460: ConvergenceWarning: Objective did not converge. You might want to increase the number of iterations. Duality gap: 0.0, tolerance: 0.0\n",
      "  max_iter, tol, rng, random, positive)\n",
      "/home/jj/code/mangaki/venv/lib/python3.7/site-packages/sklearn/linear_model/_coordinate_descent.py:460: ConvergenceWarning: Objective did not converge. You might want to increase the number of iterations. Duality gap: 0.0, tolerance: 0.0\n",
      "  max_iter, tol, rng, random, positive)\n"
     ]
    },
    {
     "name": "stderr",
     "output_type": "stream",
     "text": [
      "/home/jj/code/mangaki/venv/lib/python3.7/site-packages/sklearn/linear_model/_coordinate_descent.py:460: ConvergenceWarning: Objective did not converge. You might want to increase the number of iterations. Duality gap: 0.0, tolerance: 0.0\n",
      "  max_iter, tol, rng, random, positive)\n",
      "/home/jj/code/mangaki/venv/lib/python3.7/site-packages/sklearn/linear_model/_coordinate_descent.py:460: ConvergenceWarning: Objective did not converge. You might want to increase the number of iterations. Duality gap: 0.0, tolerance: 0.0\n",
      "  max_iter, tol, rng, random, positive)\n",
      "/home/jj/code/mangaki/venv/lib/python3.7/site-packages/sklearn/linear_model/_coordinate_descent.py:460: ConvergenceWarning: Objective did not converge. You might want to increase the number of iterations. Duality gap: 0.01684529678070068, tolerance: 0.0029714285714285715\n",
      "  max_iter, tol, rng, random, positive)\n",
      "/home/jj/code/mangaki/venv/lib/python3.7/site-packages/sklearn/linear_model/_coordinate_descent.py:460: ConvergenceWarning: Objective did not converge. You might want to increase the number of iterations. Duality gap: 0.0, tolerance: 0.0\n",
      "  max_iter, tol, rng, random, positive)\n",
      "/home/jj/code/mangaki/venv/lib/python3.7/site-packages/sklearn/linear_model/_coordinate_descent.py:460: ConvergenceWarning: Objective did not converge. You might want to increase the number of iterations. Duality gap: 0.0, tolerance: 0.0\n",
      "  max_iter, tol, rng, random, positive)\n",
      "/home/jj/code/mangaki/venv/lib/python3.7/site-packages/sklearn/linear_model/_coordinate_descent.py:460: ConvergenceWarning: Objective did not converge. You might want to increase the number of iterations. Duality gap: 0.0, tolerance: 0.0\n",
      "  max_iter, tol, rng, random, positive)\n",
      "/home/jj/code/mangaki/venv/lib/python3.7/site-packages/sklearn/linear_model/_coordinate_descent.py:460: ConvergenceWarning: Objective did not converge. You might want to increase the number of iterations. Duality gap: 0.0, tolerance: 0.0\n",
      "  max_iter, tol, rng, random, positive)\n",
      "/home/jj/code/mangaki/venv/lib/python3.7/site-packages/sklearn/linear_model/_coordinate_descent.py:460: ConvergenceWarning: Objective did not converge. You might want to increase the number of iterations. Duality gap: 0.0, tolerance: 0.0\n",
      "  max_iter, tol, rng, random, positive)\n",
      "/home/jj/code/mangaki/venv/lib/python3.7/site-packages/sklearn/linear_model/_coordinate_descent.py:460: ConvergenceWarning: Objective did not converge. You might want to increase the number of iterations. Duality gap: 0.0, tolerance: 0.0\n",
      "  max_iter, tol, rng, random, positive)\n",
      "/home/jj/code/mangaki/venv/lib/python3.7/site-packages/sklearn/linear_model/_coordinate_descent.py:460: ConvergenceWarning: Objective did not converge. You might want to increase the number of iterations. Duality gap: 0.0, tolerance: 0.0\n",
      "  max_iter, tol, rng, random, positive)\n",
      "/home/jj/code/mangaki/venv/lib/python3.7/site-packages/sklearn/linear_model/_coordinate_descent.py:460: ConvergenceWarning: Objective did not converge. You might want to increase the number of iterations. Duality gap: 0.0, tolerance: 0.0\n",
      "  max_iter, tol, rng, random, positive)\n",
      "/home/jj/code/mangaki/venv/lib/python3.7/site-packages/sklearn/linear_model/_coordinate_descent.py:460: ConvergenceWarning: Objective did not converge. You might want to increase the number of iterations. Duality gap: 0.002535297670962944, tolerance: 0.0015888999999999996\n",
      "  max_iter, tol, rng, random, positive)\n",
      "/home/jj/code/mangaki/venv/lib/python3.7/site-packages/sklearn/linear_model/_coordinate_descent.py:460: ConvergenceWarning: Objective did not converge. You might want to increase the number of iterations. Duality gap: 0.0, tolerance: 0.0\n",
      "  max_iter, tol, rng, random, positive)\n",
      "/home/jj/code/mangaki/venv/lib/python3.7/site-packages/sklearn/linear_model/_coordinate_descent.py:460: ConvergenceWarning: Objective did not converge. You might want to increase the number of iterations. Duality gap: 0.0, tolerance: 0.0\n",
      "  max_iter, tol, rng, random, positive)\n",
      "/home/jj/code/mangaki/venv/lib/python3.7/site-packages/sklearn/linear_model/_coordinate_descent.py:460: ConvergenceWarning: Objective did not converge. You might want to increase the number of iterations. Duality gap: 0.0006543880946163413, tolerance: 0.00061875\n",
      "  max_iter, tol, rng, random, positive)\n",
      "/home/jj/code/mangaki/venv/lib/python3.7/site-packages/sklearn/linear_model/_coordinate_descent.py:460: ConvergenceWarning: Objective did not converge. You might want to increase the number of iterations. Duality gap: 0.0, tolerance: 0.0\n",
      "  max_iter, tol, rng, random, positive)\n",
      "/home/jj/code/mangaki/venv/lib/python3.7/site-packages/sklearn/linear_model/_coordinate_descent.py:460: ConvergenceWarning: Objective did not converge. You might want to increase the number of iterations. Duality gap: 0.0, tolerance: 0.0\n",
      "  max_iter, tol, rng, random, positive)\n",
      "/home/jj/code/mangaki/venv/lib/python3.7/site-packages/sklearn/linear_model/_coordinate_descent.py:460: ConvergenceWarning: Objective did not converge. You might want to increase the number of iterations. Duality gap: 0.0, tolerance: 0.0\n",
      "  max_iter, tol, rng, random, positive)\n",
      "/home/jj/code/mangaki/venv/lib/python3.7/site-packages/sklearn/linear_model/_coordinate_descent.py:460: ConvergenceWarning: Objective did not converge. You might want to increase the number of iterations. Duality gap: 0.0, tolerance: 0.0\n",
      "  max_iter, tol, rng, random, positive)\n",
      "/home/jj/code/mangaki/venv/lib/python3.7/site-packages/sklearn/linear_model/_coordinate_descent.py:460: ConvergenceWarning: Objective did not converge. You might want to increase the number of iterations. Duality gap: 0.0, tolerance: 0.0\n",
      "  max_iter, tol, rng, random, positive)\n",
      "/home/jj/code/mangaki/venv/lib/python3.7/site-packages/sklearn/linear_model/_coordinate_descent.py:460: ConvergenceWarning: Objective did not converge. You might want to increase the number of iterations. Duality gap: 0.0, tolerance: 0.0\n",
      "  max_iter, tol, rng, random, positive)\n",
      "/home/jj/code/mangaki/venv/lib/python3.7/site-packages/sklearn/linear_model/_coordinate_descent.py:460: ConvergenceWarning: Objective did not converge. You might want to increase the number of iterations. Duality gap: 0.0, tolerance: 0.0\n",
      "  max_iter, tol, rng, random, positive)\n",
      "/home/jj/code/mangaki/venv/lib/python3.7/site-packages/sklearn/linear_model/_coordinate_descent.py:460: ConvergenceWarning: Objective did not converge. You might want to increase the number of iterations. Duality gap: 0.0, tolerance: 0.0\n",
      "  max_iter, tol, rng, random, positive)\n",
      "/home/jj/code/mangaki/venv/lib/python3.7/site-packages/sklearn/linear_model/_coordinate_descent.py:460: ConvergenceWarning: Objective did not converge. You might want to increase the number of iterations. Duality gap: 0.0, tolerance: 0.0\n",
      "  max_iter, tol, rng, random, positive)\n",
      "/home/jj/code/mangaki/venv/lib/python3.7/site-packages/sklearn/linear_model/_coordinate_descent.py:460: ConvergenceWarning: Objective did not converge. You might want to increase the number of iterations. Duality gap: 0.0, tolerance: 0.0\n",
      "  max_iter, tol, rng, random, positive)\n",
      "/home/jj/code/mangaki/venv/lib/python3.7/site-packages/sklearn/linear_model/_coordinate_descent.py:460: ConvergenceWarning: Objective did not converge. You might want to increase the number of iterations. Duality gap: 0.0, tolerance: 0.0\n",
      "  max_iter, tol, rng, random, positive)\n",
      "/home/jj/code/mangaki/venv/lib/python3.7/site-packages/sklearn/linear_model/_coordinate_descent.py:460: ConvergenceWarning: Objective did not converge. You might want to increase the number of iterations. Duality gap: 0.0, tolerance: 0.0\n",
      "  max_iter, tol, rng, random, positive)\n",
      "/home/jj/code/mangaki/venv/lib/python3.7/site-packages/sklearn/linear_model/_coordinate_descent.py:460: ConvergenceWarning: Objective did not converge. You might want to increase the number of iterations. Duality gap: 0.0, tolerance: 0.0\n",
      "  max_iter, tol, rng, random, positive)\n",
      "/home/jj/code/mangaki/venv/lib/python3.7/site-packages/sklearn/linear_model/_coordinate_descent.py:460: ConvergenceWarning: Objective did not converge. You might want to increase the number of iterations. Duality gap: 0.0, tolerance: 0.0\n",
      "  max_iter, tol, rng, random, positive)\n",
      "/home/jj/code/mangaki/venv/lib/python3.7/site-packages/sklearn/linear_model/_coordinate_descent.py:460: ConvergenceWarning: Objective did not converge. You might want to increase the number of iterations. Duality gap: 0.0, tolerance: 0.0\n",
      "  max_iter, tol, rng, random, positive)\n",
      "/home/jj/code/mangaki/venv/lib/python3.7/site-packages/sklearn/linear_model/_coordinate_descent.py:460: ConvergenceWarning: Objective did not converge. You might want to increase the number of iterations. Duality gap: 0.0, tolerance: 0.0\n",
      "  max_iter, tol, rng, random, positive)\n",
      "/home/jj/code/mangaki/venv/lib/python3.7/site-packages/sklearn/linear_model/_coordinate_descent.py:460: ConvergenceWarning: Objective did not converge. You might want to increase the number of iterations. Duality gap: 0.0, tolerance: 0.0\n",
      "  max_iter, tol, rng, random, positive)\n",
      "/home/jj/code/mangaki/venv/lib/python3.7/site-packages/sklearn/linear_model/_coordinate_descent.py:460: ConvergenceWarning: Objective did not converge. You might want to increase the number of iterations. Duality gap: 0.0, tolerance: 0.0\n",
      "  max_iter, tol, rng, random, positive)\n",
      "/home/jj/code/mangaki/venv/lib/python3.7/site-packages/sklearn/linear_model/_coordinate_descent.py:460: ConvergenceWarning: Objective did not converge. You might want to increase the number of iterations. Duality gap: 0.0, tolerance: 0.0\n",
      "  max_iter, tol, rng, random, positive)\n",
      "/home/jj/code/mangaki/venv/lib/python3.7/site-packages/sklearn/linear_model/_coordinate_descent.py:460: ConvergenceWarning: Objective did not converge. You might want to increase the number of iterations. Duality gap: 0.0, tolerance: 0.0\n",
      "  max_iter, tol, rng, random, positive)\n",
      "/home/jj/code/mangaki/venv/lib/python3.7/site-packages/sklearn/linear_model/_coordinate_descent.py:460: ConvergenceWarning: Objective did not converge. You might want to increase the number of iterations. Duality gap: 0.0, tolerance: 0.0\n",
      "  max_iter, tol, rng, random, positive)\n"
     ]
    },
    {
     "name": "stderr",
     "output_type": "stream",
     "text": [
      "/home/jj/code/mangaki/venv/lib/python3.7/site-packages/sklearn/linear_model/_coordinate_descent.py:460: ConvergenceWarning: Objective did not converge. You might want to increase the number of iterations. Duality gap: 0.0, tolerance: 0.0\n",
      "  max_iter, tol, rng, random, positive)\n",
      "/home/jj/code/mangaki/venv/lib/python3.7/site-packages/sklearn/linear_model/_coordinate_descent.py:460: ConvergenceWarning: Objective did not converge. You might want to increase the number of iterations. Duality gap: 0.0, tolerance: 0.0\n",
      "  max_iter, tol, rng, random, positive)\n",
      "/home/jj/code/mangaki/venv/lib/python3.7/site-packages/sklearn/linear_model/_coordinate_descent.py:460: ConvergenceWarning: Objective did not converge. You might want to increase the number of iterations. Duality gap: 0.0, tolerance: 0.0\n",
      "  max_iter, tol, rng, random, positive)\n",
      "/home/jj/code/mangaki/venv/lib/python3.7/site-packages/sklearn/linear_model/_coordinate_descent.py:460: ConvergenceWarning: Objective did not converge. You might want to increase the number of iterations. Duality gap: 0.0, tolerance: 0.0\n",
      "  max_iter, tol, rng, random, positive)\n",
      "/home/jj/code/mangaki/venv/lib/python3.7/site-packages/sklearn/linear_model/_coordinate_descent.py:460: ConvergenceWarning: Objective did not converge. You might want to increase the number of iterations. Duality gap: 0.0, tolerance: 0.0\n",
      "  max_iter, tol, rng, random, positive)\n",
      "/home/jj/code/mangaki/venv/lib/python3.7/site-packages/sklearn/linear_model/_coordinate_descent.py:460: ConvergenceWarning: Objective did not converge. You might want to increase the number of iterations. Duality gap: 0.0, tolerance: 0.0\n",
      "  max_iter, tol, rng, random, positive)\n",
      "/home/jj/code/mangaki/venv/lib/python3.7/site-packages/sklearn/linear_model/_coordinate_descent.py:460: ConvergenceWarning: Objective did not converge. You might want to increase the number of iterations. Duality gap: 0.0, tolerance: 0.0\n",
      "  max_iter, tol, rng, random, positive)\n",
      "/home/jj/code/mangaki/venv/lib/python3.7/site-packages/sklearn/linear_model/_coordinate_descent.py:460: ConvergenceWarning: Objective did not converge. You might want to increase the number of iterations. Duality gap: 0.0, tolerance: 0.0\n",
      "  max_iter, tol, rng, random, positive)\n",
      "/home/jj/code/mangaki/venv/lib/python3.7/site-packages/sklearn/linear_model/_coordinate_descent.py:460: ConvergenceWarning: Objective did not converge. You might want to increase the number of iterations. Duality gap: 0.0, tolerance: 0.0\n",
      "  max_iter, tol, rng, random, positive)\n",
      "/home/jj/code/mangaki/venv/lib/python3.7/site-packages/sklearn/linear_model/_coordinate_descent.py:460: ConvergenceWarning: Objective did not converge. You might want to increase the number of iterations. Duality gap: 0.0, tolerance: 0.0\n",
      "  max_iter, tol, rng, random, positive)\n",
      "/home/jj/code/mangaki/venv/lib/python3.7/site-packages/sklearn/linear_model/_coordinate_descent.py:460: ConvergenceWarning: Objective did not converge. You might want to increase the number of iterations. Duality gap: 0.0, tolerance: 0.0\n",
      "  max_iter, tol, rng, random, positive)\n",
      "/home/jj/code/mangaki/venv/lib/python3.7/site-packages/sklearn/linear_model/_coordinate_descent.py:460: ConvergenceWarning: Objective did not converge. You might want to increase the number of iterations. Duality gap: 0.0, tolerance: 0.0\n",
      "  max_iter, tol, rng, random, positive)\n",
      "/home/jj/code/mangaki/venv/lib/python3.7/site-packages/sklearn/linear_model/_coordinate_descent.py:460: ConvergenceWarning: Objective did not converge. You might want to increase the number of iterations. Duality gap: 0.0, tolerance: 0.0\n",
      "  max_iter, tol, rng, random, positive)\n",
      "/home/jj/code/mangaki/venv/lib/python3.7/site-packages/sklearn/linear_model/_coordinate_descent.py:460: ConvergenceWarning: Objective did not converge. You might want to increase the number of iterations. Duality gap: 0.0, tolerance: 0.0\n",
      "  max_iter, tol, rng, random, positive)\n",
      "/home/jj/code/mangaki/venv/lib/python3.7/site-packages/sklearn/linear_model/_coordinate_descent.py:460: ConvergenceWarning: Objective did not converge. You might want to increase the number of iterations. Duality gap: 0.0, tolerance: 0.0\n",
      "  max_iter, tol, rng, random, positive)\n",
      "/home/jj/code/mangaki/venv/lib/python3.7/site-packages/sklearn/linear_model/_coordinate_descent.py:460: ConvergenceWarning: Objective did not converge. You might want to increase the number of iterations. Duality gap: 0.0, tolerance: 0.0\n",
      "  max_iter, tol, rng, random, positive)\n",
      "/home/jj/code/mangaki/venv/lib/python3.7/site-packages/sklearn/linear_model/_coordinate_descent.py:460: ConvergenceWarning: Objective did not converge. You might want to increase the number of iterations. Duality gap: 0.0, tolerance: 0.0\n",
      "  max_iter, tol, rng, random, positive)\n",
      "/home/jj/code/mangaki/venv/lib/python3.7/site-packages/sklearn/linear_model/_coordinate_descent.py:460: ConvergenceWarning: Objective did not converge. You might want to increase the number of iterations. Duality gap: 0.0, tolerance: 0.0\n",
      "  max_iter, tol, rng, random, positive)\n",
      "/home/jj/code/mangaki/venv/lib/python3.7/site-packages/sklearn/linear_model/_coordinate_descent.py:460: ConvergenceWarning: Objective did not converge. You might want to increase the number of iterations. Duality gap: 0.0, tolerance: 0.0\n",
      "  max_iter, tol, rng, random, positive)\n",
      "/home/jj/code/mangaki/venv/lib/python3.7/site-packages/sklearn/linear_model/_coordinate_descent.py:460: ConvergenceWarning: Objective did not converge. You might want to increase the number of iterations. Duality gap: 0.0005621701473107962, tolerance: 0.00024066666666666664\n",
      "  max_iter, tol, rng, random, positive)\n",
      "/home/jj/code/mangaki/venv/lib/python3.7/site-packages/sklearn/linear_model/_coordinate_descent.py:460: ConvergenceWarning: Objective did not converge. You might want to increase the number of iterations. Duality gap: 0.0, tolerance: 0.0\n",
      "  max_iter, tol, rng, random, positive)\n",
      "/home/jj/code/mangaki/venv/lib/python3.7/site-packages/sklearn/linear_model/_coordinate_descent.py:460: ConvergenceWarning: Objective did not converge. You might want to increase the number of iterations. Duality gap: 0.0, tolerance: 0.0\n",
      "  max_iter, tol, rng, random, positive)\n",
      "/home/jj/code/mangaki/venv/lib/python3.7/site-packages/sklearn/linear_model/_coordinate_descent.py:460: ConvergenceWarning: Objective did not converge. You might want to increase the number of iterations. Duality gap: 0.0, tolerance: 0.0\n",
      "  max_iter, tol, rng, random, positive)\n",
      "/home/jj/code/mangaki/venv/lib/python3.7/site-packages/sklearn/linear_model/_coordinate_descent.py:460: ConvergenceWarning: Objective did not converge. You might want to increase the number of iterations. Duality gap: 0.0, tolerance: 0.0\n",
      "  max_iter, tol, rng, random, positive)\n",
      "/home/jj/code/mangaki/venv/lib/python3.7/site-packages/sklearn/linear_model/_coordinate_descent.py:460: ConvergenceWarning: Objective did not converge. You might want to increase the number of iterations. Duality gap: 0.0, tolerance: 0.0\n",
      "  max_iter, tol, rng, random, positive)\n",
      "/home/jj/code/mangaki/venv/lib/python3.7/site-packages/sklearn/linear_model/_coordinate_descent.py:460: ConvergenceWarning: Objective did not converge. You might want to increase the number of iterations. Duality gap: 0.0, tolerance: 0.0\n",
      "  max_iter, tol, rng, random, positive)\n",
      "/home/jj/code/mangaki/venv/lib/python3.7/site-packages/sklearn/linear_model/_coordinate_descent.py:460: ConvergenceWarning: Objective did not converge. You might want to increase the number of iterations. Duality gap: 0.0, tolerance: 0.0\n",
      "  max_iter, tol, rng, random, positive)\n",
      "/home/jj/code/mangaki/venv/lib/python3.7/site-packages/sklearn/linear_model/_coordinate_descent.py:460: ConvergenceWarning: Objective did not converge. You might want to increase the number of iterations. Duality gap: 0.0, tolerance: 0.0\n",
      "  max_iter, tol, rng, random, positive)\n",
      "/home/jj/code/mangaki/venv/lib/python3.7/site-packages/sklearn/linear_model/_coordinate_descent.py:460: ConvergenceWarning: Objective did not converge. You might want to increase the number of iterations. Duality gap: 0.0, tolerance: 0.0\n",
      "  max_iter, tol, rng, random, positive)\n",
      "/home/jj/code/mangaki/venv/lib/python3.7/site-packages/sklearn/linear_model/_coordinate_descent.py:460: ConvergenceWarning: Objective did not converge. You might want to increase the number of iterations. Duality gap: 0.0, tolerance: 0.0\n",
      "  max_iter, tol, rng, random, positive)\n",
      "/home/jj/code/mangaki/venv/lib/python3.7/site-packages/sklearn/linear_model/_coordinate_descent.py:460: ConvergenceWarning: Objective did not converge. You might want to increase the number of iterations. Duality gap: 0.0, tolerance: 0.0\n",
      "  max_iter, tol, rng, random, positive)\n"
     ]
    },
    {
     "name": "stderr",
     "output_type": "stream",
     "text": [
      "/home/jj/code/mangaki/venv/lib/python3.7/site-packages/sklearn/linear_model/_coordinate_descent.py:460: ConvergenceWarning: Objective did not converge. You might want to increase the number of iterations. Duality gap: 0.0, tolerance: 0.0\n",
      "  max_iter, tol, rng, random, positive)\n",
      "/home/jj/code/mangaki/venv/lib/python3.7/site-packages/sklearn/linear_model/_coordinate_descent.py:460: ConvergenceWarning: Objective did not converge. You might want to increase the number of iterations. Duality gap: 0.0, tolerance: 0.0\n",
      "  max_iter, tol, rng, random, positive)\n",
      "/home/jj/code/mangaki/venv/lib/python3.7/site-packages/sklearn/linear_model/_coordinate_descent.py:460: ConvergenceWarning: Objective did not converge. You might want to increase the number of iterations. Duality gap: 0.0, tolerance: 0.0\n",
      "  max_iter, tol, rng, random, positive)\n",
      "/home/jj/code/mangaki/venv/lib/python3.7/site-packages/sklearn/linear_model/_coordinate_descent.py:460: ConvergenceWarning: Objective did not converge. You might want to increase the number of iterations. Duality gap: 0.0, tolerance: 0.0\n",
      "  max_iter, tol, rng, random, positive)\n",
      "/home/jj/code/mangaki/venv/lib/python3.7/site-packages/sklearn/linear_model/_coordinate_descent.py:460: ConvergenceWarning: Objective did not converge. You might want to increase the number of iterations. Duality gap: 0.0, tolerance: 0.0\n",
      "  max_iter, tol, rng, random, positive)\n",
      "/home/jj/code/mangaki/venv/lib/python3.7/site-packages/sklearn/linear_model/_coordinate_descent.py:460: ConvergenceWarning: Objective did not converge. You might want to increase the number of iterations. Duality gap: 0.0065516729913825955, tolerance: 0.004321714285714285\n",
      "  max_iter, tol, rng, random, positive)\n",
      "/home/jj/code/mangaki/venv/lib/python3.7/site-packages/sklearn/linear_model/_coordinate_descent.py:460: ConvergenceWarning: Objective did not converge. You might want to increase the number of iterations. Duality gap: 0.0, tolerance: 0.0\n",
      "  max_iter, tol, rng, random, positive)\n",
      "/home/jj/code/mangaki/venv/lib/python3.7/site-packages/sklearn/linear_model/_coordinate_descent.py:460: ConvergenceWarning: Objective did not converge. You might want to increase the number of iterations. Duality gap: 0.0, tolerance: 0.0\n",
      "  max_iter, tol, rng, random, positive)\n",
      "/home/jj/code/mangaki/venv/lib/python3.7/site-packages/sklearn/linear_model/_coordinate_descent.py:460: ConvergenceWarning: Objective did not converge. You might want to increase the number of iterations. Duality gap: 0.0, tolerance: 0.0\n",
      "  max_iter, tol, rng, random, positive)\n",
      "/home/jj/code/mangaki/venv/lib/python3.7/site-packages/sklearn/linear_model/_coordinate_descent.py:460: ConvergenceWarning: Objective did not converge. You might want to increase the number of iterations. Duality gap: 0.0, tolerance: 0.0\n",
      "  max_iter, tol, rng, random, positive)\n",
      "/home/jj/code/mangaki/venv/lib/python3.7/site-packages/sklearn/linear_model/_coordinate_descent.py:460: ConvergenceWarning: Objective did not converge. You might want to increase the number of iterations. Duality gap: 0.0032582180506768865, tolerance: 0.0018252\n",
      "  max_iter, tol, rng, random, positive)\n",
      "/home/jj/code/mangaki/venv/lib/python3.7/site-packages/sklearn/linear_model/_coordinate_descent.py:460: ConvergenceWarning: Objective did not converge. You might want to increase the number of iterations. Duality gap: 0.0, tolerance: 0.0\n",
      "  max_iter, tol, rng, random, positive)\n",
      "/home/jj/code/mangaki/venv/lib/python3.7/site-packages/sklearn/linear_model/_coordinate_descent.py:460: ConvergenceWarning: Objective did not converge. You might want to increase the number of iterations. Duality gap: 0.0, tolerance: 0.0\n",
      "  max_iter, tol, rng, random, positive)\n",
      "/home/jj/code/mangaki/venv/lib/python3.7/site-packages/sklearn/linear_model/_coordinate_descent.py:460: ConvergenceWarning: Objective did not converge. You might want to increase the number of iterations. Duality gap: 0.0, tolerance: 0.0\n",
      "  max_iter, tol, rng, random, positive)\n",
      "/home/jj/code/mangaki/venv/lib/python3.7/site-packages/sklearn/linear_model/_coordinate_descent.py:460: ConvergenceWarning: Objective did not converge. You might want to increase the number of iterations. Duality gap: 0.0, tolerance: 0.0\n",
      "  max_iter, tol, rng, random, positive)\n",
      "/home/jj/code/mangaki/venv/lib/python3.7/site-packages/sklearn/linear_model/_coordinate_descent.py:460: ConvergenceWarning: Objective did not converge. You might want to increase the number of iterations. Duality gap: 0.0, tolerance: 0.0\n",
      "  max_iter, tol, rng, random, positive)\n",
      "/home/jj/code/mangaki/venv/lib/python3.7/site-packages/sklearn/linear_model/_coordinate_descent.py:460: ConvergenceWarning: Objective did not converge. You might want to increase the number of iterations. Duality gap: 0.0, tolerance: 0.0\n",
      "  max_iter, tol, rng, random, positive)\n",
      "/home/jj/code/mangaki/venv/lib/python3.7/site-packages/sklearn/linear_model/_coordinate_descent.py:460: ConvergenceWarning: Objective did not converge. You might want to increase the number of iterations. Duality gap: 0.0, tolerance: 0.0\n",
      "  max_iter, tol, rng, random, positive)\n",
      "/home/jj/code/mangaki/venv/lib/python3.7/site-packages/sklearn/linear_model/_coordinate_descent.py:460: ConvergenceWarning: Objective did not converge. You might want to increase the number of iterations. Duality gap: 0.0, tolerance: 0.0\n",
      "  max_iter, tol, rng, random, positive)\n",
      "/home/jj/code/mangaki/venv/lib/python3.7/site-packages/sklearn/linear_model/_coordinate_descent.py:460: ConvergenceWarning: Objective did not converge. You might want to increase the number of iterations. Duality gap: 0.005001122891649945, tolerance: 0.002733333333333334\n",
      "  max_iter, tol, rng, random, positive)\n",
      "/home/jj/code/mangaki/venv/lib/python3.7/site-packages/sklearn/linear_model/_coordinate_descent.py:460: ConvergenceWarning: Objective did not converge. You might want to increase the number of iterations. Duality gap: 0.0, tolerance: 0.0\n",
      "  max_iter, tol, rng, random, positive)\n",
      "/home/jj/code/mangaki/venv/lib/python3.7/site-packages/sklearn/linear_model/_coordinate_descent.py:460: ConvergenceWarning: Objective did not converge. You might want to increase the number of iterations. Duality gap: 0.0, tolerance: 0.0\n",
      "  max_iter, tol, rng, random, positive)\n",
      "/home/jj/code/mangaki/venv/lib/python3.7/site-packages/sklearn/linear_model/_coordinate_descent.py:460: ConvergenceWarning: Objective did not converge. You might want to increase the number of iterations. Duality gap: 0.0, tolerance: 0.0\n",
      "  max_iter, tol, rng, random, positive)\n",
      "/home/jj/code/mangaki/venv/lib/python3.7/site-packages/sklearn/linear_model/_coordinate_descent.py:460: ConvergenceWarning: Objective did not converge. You might want to increase the number of iterations. Duality gap: 0.0, tolerance: 0.0\n",
      "  max_iter, tol, rng, random, positive)\n",
      "/home/jj/code/mangaki/venv/lib/python3.7/site-packages/sklearn/linear_model/_coordinate_descent.py:460: ConvergenceWarning: Objective did not converge. You might want to increase the number of iterations. Duality gap: 0.0, tolerance: 0.0\n",
      "  max_iter, tol, rng, random, positive)\n",
      "Train RMSE=1.107786\n",
      "Test RMSE=1.267156\n",
      "/home/jj/code/mangaki/venv/lib/python3.7/site-packages/sklearn/linear_model/_coordinate_descent.py:460: ConvergenceWarning: Objective did not converge. You might want to increase the number of iterations. Duality gap: 0.0, tolerance: 0.0\n",
      "  max_iter, tol, rng, random, positive)\n",
      "/home/jj/code/mangaki/venv/lib/python3.7/site-packages/sklearn/linear_model/_coordinate_descent.py:460: ConvergenceWarning: Objective did not converge. You might want to increase the number of iterations. Duality gap: 0.0, tolerance: 0.0\n",
      "  max_iter, tol, rng, random, positive)\n",
      "/home/jj/code/mangaki/venv/lib/python3.7/site-packages/sklearn/linear_model/_coordinate_descent.py:460: ConvergenceWarning: Objective did not converge. You might want to increase the number of iterations. Duality gap: 0.0, tolerance: 0.0\n",
      "  max_iter, tol, rng, random, positive)\n",
      "/home/jj/code/mangaki/venv/lib/python3.7/site-packages/sklearn/linear_model/_coordinate_descent.py:460: ConvergenceWarning: Objective did not converge. You might want to increase the number of iterations. Duality gap: 0.0, tolerance: 0.0\n",
      "  max_iter, tol, rng, random, positive)\n",
      "/home/jj/code/mangaki/venv/lib/python3.7/site-packages/sklearn/linear_model/_coordinate_descent.py:460: ConvergenceWarning: Objective did not converge. You might want to increase the number of iterations. Duality gap: 0.0, tolerance: 0.0\n",
      "  max_iter, tol, rng, random, positive)\n",
      "/home/jj/code/mangaki/venv/lib/python3.7/site-packages/sklearn/linear_model/_coordinate_descent.py:460: ConvergenceWarning: Objective did not converge. You might want to increase the number of iterations. Duality gap: 0.0, tolerance: 0.0\n",
      "  max_iter, tol, rng, random, positive)\n",
      "/home/jj/code/mangaki/venv/lib/python3.7/site-packages/sklearn/linear_model/_coordinate_descent.py:460: ConvergenceWarning: Objective did not converge. You might want to increase the number of iterations. Duality gap: 0.0, tolerance: 0.0\n",
      "  max_iter, tol, rng, random, positive)\n",
      "/home/jj/code/mangaki/venv/lib/python3.7/site-packages/sklearn/linear_model/_coordinate_descent.py:460: ConvergenceWarning: Objective did not converge. You might want to increase the number of iterations. Duality gap: 0.0, tolerance: 0.0\n",
      "  max_iter, tol, rng, random, positive)\n",
      "/home/jj/code/mangaki/venv/lib/python3.7/site-packages/sklearn/linear_model/_coordinate_descent.py:460: ConvergenceWarning: Objective did not converge. You might want to increase the number of iterations. Duality gap: 0.0, tolerance: 0.0\n",
      "  max_iter, tol, rng, random, positive)\n",
      "/home/jj/code/mangaki/venv/lib/python3.7/site-packages/sklearn/linear_model/_coordinate_descent.py:460: ConvergenceWarning: Objective did not converge. You might want to increase the number of iterations. Duality gap: 0.0, tolerance: 0.0\n",
      "  max_iter, tol, rng, random, positive)\n"
     ]
    },
    {
     "name": "stderr",
     "output_type": "stream",
     "text": [
      "/home/jj/code/mangaki/venv/lib/python3.7/site-packages/sklearn/linear_model/_coordinate_descent.py:460: ConvergenceWarning: Objective did not converge. You might want to increase the number of iterations. Duality gap: 0.0, tolerance: 0.0\n",
      "  max_iter, tol, rng, random, positive)\n",
      "/home/jj/code/mangaki/venv/lib/python3.7/site-packages/sklearn/linear_model/_coordinate_descent.py:460: ConvergenceWarning: Objective did not converge. You might want to increase the number of iterations. Duality gap: 0.0, tolerance: 0.0\n",
      "  max_iter, tol, rng, random, positive)\n",
      "/home/jj/code/mangaki/venv/lib/python3.7/site-packages/sklearn/linear_model/_coordinate_descent.py:460: ConvergenceWarning: Objective did not converge. You might want to increase the number of iterations. Duality gap: 0.0, tolerance: 0.0\n",
      "  max_iter, tol, rng, random, positive)\n",
      "/home/jj/code/mangaki/venv/lib/python3.7/site-packages/sklearn/linear_model/_coordinate_descent.py:460: ConvergenceWarning: Objective did not converge. You might want to increase the number of iterations. Duality gap: 0.0, tolerance: 0.0\n",
      "  max_iter, tol, rng, random, positive)\n",
      "/home/jj/code/mangaki/venv/lib/python3.7/site-packages/sklearn/linear_model/_coordinate_descent.py:460: ConvergenceWarning: Objective did not converge. You might want to increase the number of iterations. Duality gap: 0.0, tolerance: 0.0\n",
      "  max_iter, tol, rng, random, positive)\n",
      "/home/jj/code/mangaki/venv/lib/python3.7/site-packages/sklearn/linear_model/_coordinate_descent.py:460: ConvergenceWarning: Objective did not converge. You might want to increase the number of iterations. Duality gap: 0.0, tolerance: 0.0\n",
      "  max_iter, tol, rng, random, positive)\n",
      "/home/jj/code/mangaki/venv/lib/python3.7/site-packages/sklearn/linear_model/_coordinate_descent.py:460: ConvergenceWarning: Objective did not converge. You might want to increase the number of iterations. Duality gap: 0.0, tolerance: 0.0\n",
      "  max_iter, tol, rng, random, positive)\n",
      "/home/jj/code/mangaki/venv/lib/python3.7/site-packages/sklearn/linear_model/_coordinate_descent.py:460: ConvergenceWarning: Objective did not converge. You might want to increase the number of iterations. Duality gap: 0.0, tolerance: 0.0\n",
      "  max_iter, tol, rng, random, positive)\n",
      "/home/jj/code/mangaki/venv/lib/python3.7/site-packages/sklearn/linear_model/_coordinate_descent.py:460: ConvergenceWarning: Objective did not converge. You might want to increase the number of iterations. Duality gap: 0.0, tolerance: 0.0\n",
      "  max_iter, tol, rng, random, positive)\n",
      "/home/jj/code/mangaki/venv/lib/python3.7/site-packages/sklearn/linear_model/_coordinate_descent.py:460: ConvergenceWarning: Objective did not converge. You might want to increase the number of iterations. Duality gap: 0.0, tolerance: 0.0\n",
      "  max_iter, tol, rng, random, positive)\n",
      "/home/jj/code/mangaki/venv/lib/python3.7/site-packages/sklearn/linear_model/_coordinate_descent.py:460: ConvergenceWarning: Objective did not converge. You might want to increase the number of iterations. Duality gap: 0.0, tolerance: 0.0\n",
      "  max_iter, tol, rng, random, positive)\n",
      "/home/jj/code/mangaki/venv/lib/python3.7/site-packages/sklearn/linear_model/_coordinate_descent.py:460: ConvergenceWarning: Objective did not converge. You might want to increase the number of iterations. Duality gap: 0.0, tolerance: 0.0\n",
      "  max_iter, tol, rng, random, positive)\n",
      "/home/jj/code/mangaki/venv/lib/python3.7/site-packages/sklearn/linear_model/_coordinate_descent.py:460: ConvergenceWarning: Objective did not converge. You might want to increase the number of iterations. Duality gap: 0.0, tolerance: 0.0\n",
      "  max_iter, tol, rng, random, positive)\n",
      "/home/jj/code/mangaki/venv/lib/python3.7/site-packages/sklearn/linear_model/_coordinate_descent.py:460: ConvergenceWarning: Objective did not converge. You might want to increase the number of iterations. Duality gap: 0.0, tolerance: 0.0\n",
      "  max_iter, tol, rng, random, positive)\n",
      "/home/jj/code/mangaki/venv/lib/python3.7/site-packages/sklearn/linear_model/_coordinate_descent.py:460: ConvergenceWarning: Objective did not converge. You might want to increase the number of iterations. Duality gap: 0.0, tolerance: 0.0\n",
      "  max_iter, tol, rng, random, positive)\n",
      "/home/jj/code/mangaki/venv/lib/python3.7/site-packages/sklearn/linear_model/_coordinate_descent.py:460: ConvergenceWarning: Objective did not converge. You might want to increase the number of iterations. Duality gap: 0.0, tolerance: 0.0\n",
      "  max_iter, tol, rng, random, positive)\n",
      "/home/jj/code/mangaki/venv/lib/python3.7/site-packages/sklearn/linear_model/_coordinate_descent.py:460: ConvergenceWarning: Objective did not converge. You might want to increase the number of iterations. Duality gap: 0.0, tolerance: 0.0\n",
      "  max_iter, tol, rng, random, positive)\n",
      "/home/jj/code/mangaki/venv/lib/python3.7/site-packages/sklearn/linear_model/_coordinate_descent.py:460: ConvergenceWarning: Objective did not converge. You might want to increase the number of iterations. Duality gap: 0.0, tolerance: 0.0\n",
      "  max_iter, tol, rng, random, positive)\n",
      "/home/jj/code/mangaki/venv/lib/python3.7/site-packages/sklearn/linear_model/_coordinate_descent.py:460: ConvergenceWarning: Objective did not converge. You might want to increase the number of iterations. Duality gap: 0.0, tolerance: 0.0\n",
      "  max_iter, tol, rng, random, positive)\n",
      "/home/jj/code/mangaki/venv/lib/python3.7/site-packages/sklearn/linear_model/_coordinate_descent.py:460: ConvergenceWarning: Objective did not converge. You might want to increase the number of iterations. Duality gap: 0.0, tolerance: 0.0\n",
      "  max_iter, tol, rng, random, positive)\n",
      "/home/jj/code/mangaki/venv/lib/python3.7/site-packages/sklearn/linear_model/_coordinate_descent.py:460: ConvergenceWarning: Objective did not converge. You might want to increase the number of iterations. Duality gap: 0.0, tolerance: 0.0\n",
      "  max_iter, tol, rng, random, positive)\n",
      "/home/jj/code/mangaki/venv/lib/python3.7/site-packages/sklearn/linear_model/_coordinate_descent.py:460: ConvergenceWarning: Objective did not converge. You might want to increase the number of iterations. Duality gap: 0.0, tolerance: 0.0\n",
      "  max_iter, tol, rng, random, positive)\n",
      "/home/jj/code/mangaki/venv/lib/python3.7/site-packages/sklearn/linear_model/_coordinate_descent.py:460: ConvergenceWarning: Objective did not converge. You might want to increase the number of iterations. Duality gap: 0.0, tolerance: 0.0\n",
      "  max_iter, tol, rng, random, positive)\n",
      "/home/jj/code/mangaki/venv/lib/python3.7/site-packages/sklearn/linear_model/_coordinate_descent.py:460: ConvergenceWarning: Objective did not converge. You might want to increase the number of iterations. Duality gap: 0.0006243991677644979, tolerance: 0.0003333333333333334\n",
      "  max_iter, tol, rng, random, positive)\n",
      "/home/jj/code/mangaki/venv/lib/python3.7/site-packages/sklearn/linear_model/_coordinate_descent.py:460: ConvergenceWarning: Objective did not converge. You might want to increase the number of iterations. Duality gap: 0.0, tolerance: 0.0\n",
      "  max_iter, tol, rng, random, positive)\n",
      "/home/jj/code/mangaki/venv/lib/python3.7/site-packages/sklearn/linear_model/_coordinate_descent.py:460: ConvergenceWarning: Objective did not converge. You might want to increase the number of iterations. Duality gap: 0.0, tolerance: 0.0\n",
      "  max_iter, tol, rng, random, positive)\n",
      "/home/jj/code/mangaki/venv/lib/python3.7/site-packages/sklearn/linear_model/_coordinate_descent.py:460: ConvergenceWarning: Objective did not converge. You might want to increase the number of iterations. Duality gap: 0.0, tolerance: 0.0\n",
      "  max_iter, tol, rng, random, positive)\n",
      "/home/jj/code/mangaki/venv/lib/python3.7/site-packages/sklearn/linear_model/_coordinate_descent.py:460: ConvergenceWarning: Objective did not converge. You might want to increase the number of iterations. Duality gap: 0.0, tolerance: 0.0\n",
      "  max_iter, tol, rng, random, positive)\n",
      "/home/jj/code/mangaki/venv/lib/python3.7/site-packages/sklearn/linear_model/_coordinate_descent.py:460: ConvergenceWarning: Objective did not converge. You might want to increase the number of iterations. Duality gap: 0.0, tolerance: 0.0\n",
      "  max_iter, tol, rng, random, positive)\n",
      "/home/jj/code/mangaki/venv/lib/python3.7/site-packages/sklearn/linear_model/_coordinate_descent.py:460: ConvergenceWarning: Objective did not converge. You might want to increase the number of iterations. Duality gap: 0.0, tolerance: 0.0\n",
      "  max_iter, tol, rng, random, positive)\n",
      "/home/jj/code/mangaki/venv/lib/python3.7/site-packages/sklearn/linear_model/_coordinate_descent.py:460: ConvergenceWarning: Objective did not converge. You might want to increase the number of iterations. Duality gap: 0.0, tolerance: 0.0\n",
      "  max_iter, tol, rng, random, positive)\n",
      "/home/jj/code/mangaki/venv/lib/python3.7/site-packages/sklearn/linear_model/_coordinate_descent.py:460: ConvergenceWarning: Objective did not converge. You might want to increase the number of iterations. Duality gap: 0.0, tolerance: 0.0\n",
      "  max_iter, tol, rng, random, positive)\n",
      "/home/jj/code/mangaki/venv/lib/python3.7/site-packages/sklearn/linear_model/_coordinate_descent.py:460: ConvergenceWarning: Objective did not converge. You might want to increase the number of iterations. Duality gap: 0.0, tolerance: 0.0\n",
      "  max_iter, tol, rng, random, positive)\n",
      "/home/jj/code/mangaki/venv/lib/python3.7/site-packages/sklearn/linear_model/_coordinate_descent.py:460: ConvergenceWarning: Objective did not converge. You might want to increase the number of iterations. Duality gap: 0.0, tolerance: 0.0\n",
      "  max_iter, tol, rng, random, positive)\n",
      "/home/jj/code/mangaki/venv/lib/python3.7/site-packages/sklearn/linear_model/_coordinate_descent.py:460: ConvergenceWarning: Objective did not converge. You might want to increase the number of iterations. Duality gap: 0.0, tolerance: 0.0\n",
      "  max_iter, tol, rng, random, positive)\n",
      "/home/jj/code/mangaki/venv/lib/python3.7/site-packages/sklearn/linear_model/_coordinate_descent.py:460: ConvergenceWarning: Objective did not converge. You might want to increase the number of iterations. Duality gap: 0.0, tolerance: 0.0\n",
      "  max_iter, tol, rng, random, positive)\n",
      "/home/jj/code/mangaki/venv/lib/python3.7/site-packages/sklearn/linear_model/_coordinate_descent.py:460: ConvergenceWarning: Objective did not converge. You might want to increase the number of iterations. Duality gap: 0.0, tolerance: 0.0\n",
      "  max_iter, tol, rng, random, positive)\n",
      "/home/jj/code/mangaki/venv/lib/python3.7/site-packages/sklearn/linear_model/_coordinate_descent.py:460: ConvergenceWarning: Objective did not converge. You might want to increase the number of iterations. Duality gap: 0.0, tolerance: 0.0\n",
      "  max_iter, tol, rng, random, positive)\n",
      "/home/jj/code/mangaki/venv/lib/python3.7/site-packages/sklearn/linear_model/_coordinate_descent.py:460: ConvergenceWarning: Objective did not converge. You might want to increase the number of iterations. Duality gap: 0.0, tolerance: 0.0\n",
      "  max_iter, tol, rng, random, positive)\n"
     ]
    },
    {
     "name": "stderr",
     "output_type": "stream",
     "text": [
      "/home/jj/code/mangaki/venv/lib/python3.7/site-packages/sklearn/linear_model/_coordinate_descent.py:460: ConvergenceWarning: Objective did not converge. You might want to increase the number of iterations. Duality gap: 0.0, tolerance: 0.0\n",
      "  max_iter, tol, rng, random, positive)\n",
      "/home/jj/code/mangaki/venv/lib/python3.7/site-packages/sklearn/linear_model/_coordinate_descent.py:460: ConvergenceWarning: Objective did not converge. You might want to increase the number of iterations. Duality gap: 0.0, tolerance: 0.0\n",
      "  max_iter, tol, rng, random, positive)\n",
      "/home/jj/code/mangaki/venv/lib/python3.7/site-packages/sklearn/linear_model/_coordinate_descent.py:460: ConvergenceWarning: Objective did not converge. You might want to increase the number of iterations. Duality gap: 0.0, tolerance: 0.0\n",
      "  max_iter, tol, rng, random, positive)\n",
      "/home/jj/code/mangaki/venv/lib/python3.7/site-packages/sklearn/linear_model/_coordinate_descent.py:460: ConvergenceWarning: Objective did not converge. You might want to increase the number of iterations. Duality gap: 0.0, tolerance: 0.0\n",
      "  max_iter, tol, rng, random, positive)\n",
      "/home/jj/code/mangaki/venv/lib/python3.7/site-packages/sklearn/linear_model/_coordinate_descent.py:460: ConvergenceWarning: Objective did not converge. You might want to increase the number of iterations. Duality gap: 0.0, tolerance: 0.0\n",
      "  max_iter, tol, rng, random, positive)\n",
      "/home/jj/code/mangaki/venv/lib/python3.7/site-packages/sklearn/linear_model/_coordinate_descent.py:460: ConvergenceWarning: Objective did not converge. You might want to increase the number of iterations. Duality gap: 0.0, tolerance: 0.0\n",
      "  max_iter, tol, rng, random, positive)\n",
      "/home/jj/code/mangaki/venv/lib/python3.7/site-packages/sklearn/linear_model/_coordinate_descent.py:460: ConvergenceWarning: Objective did not converge. You might want to increase the number of iterations. Duality gap: 0.0, tolerance: 0.0\n",
      "  max_iter, tol, rng, random, positive)\n",
      "/home/jj/code/mangaki/venv/lib/python3.7/site-packages/sklearn/linear_model/_coordinate_descent.py:460: ConvergenceWarning: Objective did not converge. You might want to increase the number of iterations. Duality gap: 0.0, tolerance: 0.0\n",
      "  max_iter, tol, rng, random, positive)\n",
      "/home/jj/code/mangaki/venv/lib/python3.7/site-packages/sklearn/linear_model/_coordinate_descent.py:460: ConvergenceWarning: Objective did not converge. You might want to increase the number of iterations. Duality gap: 0.05276090983988824, tolerance: 0.0066863999999999995\n",
      "  max_iter, tol, rng, random, positive)\n",
      "/home/jj/code/mangaki/venv/lib/python3.7/site-packages/sklearn/linear_model/_coordinate_descent.py:460: ConvergenceWarning: Objective did not converge. You might want to increase the number of iterations. Duality gap: 0.0, tolerance: 0.0\n",
      "  max_iter, tol, rng, random, positive)\n",
      "/home/jj/code/mangaki/venv/lib/python3.7/site-packages/sklearn/linear_model/_coordinate_descent.py:460: ConvergenceWarning: Objective did not converge. You might want to increase the number of iterations. Duality gap: 0.0, tolerance: 0.0\n",
      "  max_iter, tol, rng, random, positive)\n",
      "/home/jj/code/mangaki/venv/lib/python3.7/site-packages/sklearn/linear_model/_coordinate_descent.py:460: ConvergenceWarning: Objective did not converge. You might want to increase the number of iterations. Duality gap: 0.0, tolerance: 0.0\n",
      "  max_iter, tol, rng, random, positive)\n",
      "/home/jj/code/mangaki/venv/lib/python3.7/site-packages/sklearn/linear_model/_coordinate_descent.py:460: ConvergenceWarning: Objective did not converge. You might want to increase the number of iterations. Duality gap: 0.0, tolerance: 0.0\n",
      "  max_iter, tol, rng, random, positive)\n",
      "/home/jj/code/mangaki/venv/lib/python3.7/site-packages/sklearn/linear_model/_coordinate_descent.py:460: ConvergenceWarning: Objective did not converge. You might want to increase the number of iterations. Duality gap: 0.0, tolerance: 0.0\n",
      "  max_iter, tol, rng, random, positive)\n",
      "/home/jj/code/mangaki/venv/lib/python3.7/site-packages/sklearn/linear_model/_coordinate_descent.py:460: ConvergenceWarning: Objective did not converge. You might want to increase the number of iterations. Duality gap: 0.0, tolerance: 0.0\n",
      "  max_iter, tol, rng, random, positive)\n",
      "/home/jj/code/mangaki/venv/lib/python3.7/site-packages/sklearn/linear_model/_coordinate_descent.py:460: ConvergenceWarning: Objective did not converge. You might want to increase the number of iterations. Duality gap: 0.0, tolerance: 0.0\n",
      "  max_iter, tol, rng, random, positive)\n",
      "/home/jj/code/mangaki/venv/lib/python3.7/site-packages/sklearn/linear_model/_coordinate_descent.py:460: ConvergenceWarning: Objective did not converge. You might want to increase the number of iterations. Duality gap: 0.0, tolerance: 0.0\n",
      "  max_iter, tol, rng, random, positive)\n",
      "/home/jj/code/mangaki/venv/lib/python3.7/site-packages/sklearn/linear_model/_coordinate_descent.py:460: ConvergenceWarning: Objective did not converge. You might want to increase the number of iterations. Duality gap: 0.0, tolerance: 0.0\n",
      "  max_iter, tol, rng, random, positive)\n",
      "/home/jj/code/mangaki/venv/lib/python3.7/site-packages/sklearn/linear_model/_coordinate_descent.py:460: ConvergenceWarning: Objective did not converge. You might want to increase the number of iterations. Duality gap: 0.0, tolerance: 0.0\n",
      "  max_iter, tol, rng, random, positive)\n",
      "/home/jj/code/mangaki/venv/lib/python3.7/site-packages/sklearn/linear_model/_coordinate_descent.py:460: ConvergenceWarning: Objective did not converge. You might want to increase the number of iterations. Duality gap: 0.0, tolerance: 0.0\n",
      "  max_iter, tol, rng, random, positive)\n",
      "/home/jj/code/mangaki/venv/lib/python3.7/site-packages/sklearn/linear_model/_coordinate_descent.py:460: ConvergenceWarning: Objective did not converge. You might want to increase the number of iterations. Duality gap: 0.0, tolerance: 0.0\n",
      "  max_iter, tol, rng, random, positive)\n",
      "/home/jj/code/mangaki/venv/lib/python3.7/site-packages/sklearn/linear_model/_coordinate_descent.py:460: ConvergenceWarning: Objective did not converge. You might want to increase the number of iterations. Duality gap: 0.0, tolerance: 0.0\n",
      "  max_iter, tol, rng, random, positive)\n",
      "/home/jj/code/mangaki/venv/lib/python3.7/site-packages/sklearn/linear_model/_coordinate_descent.py:460: ConvergenceWarning: Objective did not converge. You might want to increase the number of iterations. Duality gap: 0.0, tolerance: 0.0\n",
      "  max_iter, tol, rng, random, positive)\n",
      "/home/jj/code/mangaki/venv/lib/python3.7/site-packages/sklearn/linear_model/_coordinate_descent.py:460: ConvergenceWarning: Objective did not converge. You might want to increase the number of iterations. Duality gap: 0.0, tolerance: 0.0\n",
      "  max_iter, tol, rng, random, positive)\n",
      "/home/jj/code/mangaki/venv/lib/python3.7/site-packages/sklearn/linear_model/_coordinate_descent.py:460: ConvergenceWarning: Objective did not converge. You might want to increase the number of iterations. Duality gap: 0.0, tolerance: 0.0\n",
      "  max_iter, tol, rng, random, positive)\n",
      "/home/jj/code/mangaki/venv/lib/python3.7/site-packages/sklearn/linear_model/_coordinate_descent.py:460: ConvergenceWarning: Objective did not converge. You might want to increase the number of iterations. Duality gap: 0.0, tolerance: 0.0\n",
      "  max_iter, tol, rng, random, positive)\n",
      "/home/jj/code/mangaki/venv/lib/python3.7/site-packages/sklearn/linear_model/_coordinate_descent.py:460: ConvergenceWarning: Objective did not converge. You might want to increase the number of iterations. Duality gap: 0.0, tolerance: 0.0\n",
      "  max_iter, tol, rng, random, positive)\n",
      "/home/jj/code/mangaki/venv/lib/python3.7/site-packages/sklearn/linear_model/_coordinate_descent.py:460: ConvergenceWarning: Objective did not converge. You might want to increase the number of iterations. Duality gap: 0.0, tolerance: 0.0\n",
      "  max_iter, tol, rng, random, positive)\n",
      "/home/jj/code/mangaki/venv/lib/python3.7/site-packages/sklearn/linear_model/_coordinate_descent.py:460: ConvergenceWarning: Objective did not converge. You might want to increase the number of iterations. Duality gap: 0.0, tolerance: 0.0\n",
      "  max_iter, tol, rng, random, positive)\n",
      "/home/jj/code/mangaki/venv/lib/python3.7/site-packages/sklearn/linear_model/_coordinate_descent.py:460: ConvergenceWarning: Objective did not converge. You might want to increase the number of iterations. Duality gap: 0.0, tolerance: 0.0\n",
      "  max_iter, tol, rng, random, positive)\n",
      "/home/jj/code/mangaki/venv/lib/python3.7/site-packages/sklearn/linear_model/_coordinate_descent.py:460: ConvergenceWarning: Objective did not converge. You might want to increase the number of iterations. Duality gap: 0.00042594701876852784, tolerance: 0.00021680000000000004\n",
      "  max_iter, tol, rng, random, positive)\n"
     ]
    },
    {
     "name": "stderr",
     "output_type": "stream",
     "text": [
      "/home/jj/code/mangaki/venv/lib/python3.7/site-packages/sklearn/linear_model/_coordinate_descent.py:460: ConvergenceWarning: Objective did not converge. You might want to increase the number of iterations. Duality gap: 0.0, tolerance: 0.0\n",
      "  max_iter, tol, rng, random, positive)\n",
      "/home/jj/code/mangaki/venv/lib/python3.7/site-packages/sklearn/linear_model/_coordinate_descent.py:460: ConvergenceWarning: Objective did not converge. You might want to increase the number of iterations. Duality gap: 0.0, tolerance: 0.0\n",
      "  max_iter, tol, rng, random, positive)\n",
      "/home/jj/code/mangaki/venv/lib/python3.7/site-packages/sklearn/linear_model/_coordinate_descent.py:460: ConvergenceWarning: Objective did not converge. You might want to increase the number of iterations. Duality gap: 0.0, tolerance: 0.0\n",
      "  max_iter, tol, rng, random, positive)\n",
      "/home/jj/code/mangaki/venv/lib/python3.7/site-packages/sklearn/linear_model/_coordinate_descent.py:460: ConvergenceWarning: Objective did not converge. You might want to increase the number of iterations. Duality gap: 0.0, tolerance: 0.0\n",
      "  max_iter, tol, rng, random, positive)\n",
      "/home/jj/code/mangaki/venv/lib/python3.7/site-packages/sklearn/linear_model/_coordinate_descent.py:460: ConvergenceWarning: Objective did not converge. You might want to increase the number of iterations. Duality gap: 0.0, tolerance: 0.0\n",
      "  max_iter, tol, rng, random, positive)\n",
      "/home/jj/code/mangaki/venv/lib/python3.7/site-packages/sklearn/linear_model/_coordinate_descent.py:460: ConvergenceWarning: Objective did not converge. You might want to increase the number of iterations. Duality gap: 0.0, tolerance: 0.0\n",
      "  max_iter, tol, rng, random, positive)\n",
      "/home/jj/code/mangaki/venv/lib/python3.7/site-packages/sklearn/linear_model/_coordinate_descent.py:460: ConvergenceWarning: Objective did not converge. You might want to increase the number of iterations. Duality gap: 0.0, tolerance: 0.0\n",
      "  max_iter, tol, rng, random, positive)\n",
      "/home/jj/code/mangaki/venv/lib/python3.7/site-packages/sklearn/linear_model/_coordinate_descent.py:460: ConvergenceWarning: Objective did not converge. You might want to increase the number of iterations. Duality gap: 0.0, tolerance: 0.0\n",
      "  max_iter, tol, rng, random, positive)\n",
      "/home/jj/code/mangaki/venv/lib/python3.7/site-packages/sklearn/linear_model/_coordinate_descent.py:460: ConvergenceWarning: Objective did not converge. You might want to increase the number of iterations. Duality gap: 0.0, tolerance: 0.0\n",
      "  max_iter, tol, rng, random, positive)\n",
      "/home/jj/code/mangaki/venv/lib/python3.7/site-packages/sklearn/linear_model/_coordinate_descent.py:460: ConvergenceWarning: Objective did not converge. You might want to increase the number of iterations. Duality gap: 0.0, tolerance: 0.0\n",
      "  max_iter, tol, rng, random, positive)\n",
      "/home/jj/code/mangaki/venv/lib/python3.7/site-packages/sklearn/linear_model/_coordinate_descent.py:460: ConvergenceWarning: Objective did not converge. You might want to increase the number of iterations. Duality gap: 0.0, tolerance: 0.0\n",
      "  max_iter, tol, rng, random, positive)\n",
      "/home/jj/code/mangaki/venv/lib/python3.7/site-packages/sklearn/linear_model/_coordinate_descent.py:460: ConvergenceWarning: Objective did not converge. You might want to increase the number of iterations. Duality gap: 0.0, tolerance: 0.0\n",
      "  max_iter, tol, rng, random, positive)\n",
      "/home/jj/code/mangaki/venv/lib/python3.7/site-packages/sklearn/linear_model/_coordinate_descent.py:460: ConvergenceWarning: Objective did not converge. You might want to increase the number of iterations. Duality gap: 0.0, tolerance: 0.0\n",
      "  max_iter, tol, rng, random, positive)\n",
      "/home/jj/code/mangaki/venv/lib/python3.7/site-packages/sklearn/linear_model/_coordinate_descent.py:460: ConvergenceWarning: Objective did not converge. You might want to increase the number of iterations. Duality gap: 0.0, tolerance: 0.0\n",
      "  max_iter, tol, rng, random, positive)\n",
      "/home/jj/code/mangaki/venv/lib/python3.7/site-packages/sklearn/linear_model/_coordinate_descent.py:460: ConvergenceWarning: Objective did not converge. You might want to increase the number of iterations. Duality gap: 0.0, tolerance: 0.0\n",
      "  max_iter, tol, rng, random, positive)\n",
      "/home/jj/code/mangaki/venv/lib/python3.7/site-packages/sklearn/linear_model/_coordinate_descent.py:460: ConvergenceWarning: Objective did not converge. You might want to increase the number of iterations. Duality gap: 0.0, tolerance: 0.0\n",
      "  max_iter, tol, rng, random, positive)\n",
      "/home/jj/code/mangaki/venv/lib/python3.7/site-packages/sklearn/linear_model/_coordinate_descent.py:460: ConvergenceWarning: Objective did not converge. You might want to increase the number of iterations. Duality gap: 0.0, tolerance: 0.0\n",
      "  max_iter, tol, rng, random, positive)\n",
      "/home/jj/code/mangaki/venv/lib/python3.7/site-packages/sklearn/linear_model/_coordinate_descent.py:460: ConvergenceWarning: Objective did not converge. You might want to increase the number of iterations. Duality gap: 0.0, tolerance: 0.0\n",
      "  max_iter, tol, rng, random, positive)\n",
      "/home/jj/code/mangaki/venv/lib/python3.7/site-packages/sklearn/linear_model/_coordinate_descent.py:460: ConvergenceWarning: Objective did not converge. You might want to increase the number of iterations. Duality gap: 0.0, tolerance: 0.0\n",
      "  max_iter, tol, rng, random, positive)\n",
      "/home/jj/code/mangaki/venv/lib/python3.7/site-packages/sklearn/linear_model/_coordinate_descent.py:460: ConvergenceWarning: Objective did not converge. You might want to increase the number of iterations. Duality gap: 0.0, tolerance: 0.0\n",
      "  max_iter, tol, rng, random, positive)\n",
      "/home/jj/code/mangaki/venv/lib/python3.7/site-packages/sklearn/linear_model/_coordinate_descent.py:460: ConvergenceWarning: Objective did not converge. You might want to increase the number of iterations. Duality gap: 0.0, tolerance: 0.0\n",
      "  max_iter, tol, rng, random, positive)\n",
      "/home/jj/code/mangaki/venv/lib/python3.7/site-packages/sklearn/linear_model/_coordinate_descent.py:460: ConvergenceWarning: Objective did not converge. You might want to increase the number of iterations. Duality gap: 0.0, tolerance: 0.0\n",
      "  max_iter, tol, rng, random, positive)\n",
      "/home/jj/code/mangaki/venv/lib/python3.7/site-packages/sklearn/linear_model/_coordinate_descent.py:460: ConvergenceWarning: Objective did not converge. You might want to increase the number of iterations. Duality gap: 0.0, tolerance: 0.0\n",
      "  max_iter, tol, rng, random, positive)\n",
      "/home/jj/code/mangaki/venv/lib/python3.7/site-packages/sklearn/linear_model/_coordinate_descent.py:460: ConvergenceWarning: Objective did not converge. You might want to increase the number of iterations. Duality gap: 0.0, tolerance: 0.0\n",
      "  max_iter, tol, rng, random, positive)\n",
      "/home/jj/code/mangaki/venv/lib/python3.7/site-packages/sklearn/linear_model/_coordinate_descent.py:460: ConvergenceWarning: Objective did not converge. You might want to increase the number of iterations. Duality gap: 0.0, tolerance: 0.0\n",
      "  max_iter, tol, rng, random, positive)\n",
      "/home/jj/code/mangaki/venv/lib/python3.7/site-packages/sklearn/linear_model/_coordinate_descent.py:460: ConvergenceWarning: Objective did not converge. You might want to increase the number of iterations. Duality gap: 0.0, tolerance: 0.0\n",
      "  max_iter, tol, rng, random, positive)\n",
      "/home/jj/code/mangaki/venv/lib/python3.7/site-packages/sklearn/linear_model/_coordinate_descent.py:460: ConvergenceWarning: Objective did not converge. You might want to increase the number of iterations. Duality gap: 0.0, tolerance: 0.0\n",
      "  max_iter, tol, rng, random, positive)\n",
      "/home/jj/code/mangaki/venv/lib/python3.7/site-packages/sklearn/linear_model/_coordinate_descent.py:460: ConvergenceWarning: Objective did not converge. You might want to increase the number of iterations. Duality gap: 0.0, tolerance: 0.0\n",
      "  max_iter, tol, rng, random, positive)\n",
      "/home/jj/code/mangaki/venv/lib/python3.7/site-packages/sklearn/linear_model/_coordinate_descent.py:460: ConvergenceWarning: Objective did not converge. You might want to increase the number of iterations. Duality gap: 0.0, tolerance: 0.0\n",
      "  max_iter, tol, rng, random, positive)\n",
      "/home/jj/code/mangaki/venv/lib/python3.7/site-packages/sklearn/linear_model/_coordinate_descent.py:460: ConvergenceWarning: Objective did not converge. You might want to increase the number of iterations. Duality gap: 0.0, tolerance: 0.0\n",
      "  max_iter, tol, rng, random, positive)\n",
      "/home/jj/code/mangaki/venv/lib/python3.7/site-packages/sklearn/linear_model/_coordinate_descent.py:460: ConvergenceWarning: Objective did not converge. You might want to increase the number of iterations. Duality gap: 0.0, tolerance: 0.0\n",
      "  max_iter, tol, rng, random, positive)\n",
      "/home/jj/code/mangaki/venv/lib/python3.7/site-packages/sklearn/linear_model/_coordinate_descent.py:460: ConvergenceWarning: Objective did not converge. You might want to increase the number of iterations. Duality gap: 0.0, tolerance: 0.0\n",
      "  max_iter, tol, rng, random, positive)\n",
      "/home/jj/code/mangaki/venv/lib/python3.7/site-packages/sklearn/linear_model/_coordinate_descent.py:460: ConvergenceWarning: Objective did not converge. You might want to increase the number of iterations. Duality gap: 0.0, tolerance: 0.0\n",
      "  max_iter, tol, rng, random, positive)\n"
     ]
    },
    {
     "name": "stderr",
     "output_type": "stream",
     "text": [
      "/home/jj/code/mangaki/venv/lib/python3.7/site-packages/sklearn/linear_model/_coordinate_descent.py:460: ConvergenceWarning: Objective did not converge. You might want to increase the number of iterations. Duality gap: 0.0, tolerance: 0.0\n",
      "  max_iter, tol, rng, random, positive)\n",
      "/home/jj/code/mangaki/venv/lib/python3.7/site-packages/sklearn/linear_model/_coordinate_descent.py:460: ConvergenceWarning: Objective did not converge. You might want to increase the number of iterations. Duality gap: 0.0, tolerance: 0.0\n",
      "  max_iter, tol, rng, random, positive)\n",
      "/home/jj/code/mangaki/venv/lib/python3.7/site-packages/sklearn/linear_model/_coordinate_descent.py:460: ConvergenceWarning: Objective did not converge. You might want to increase the number of iterations. Duality gap: 0.0, tolerance: 0.0\n",
      "  max_iter, tol, rng, random, positive)\n",
      "/home/jj/code/mangaki/venv/lib/python3.7/site-packages/sklearn/linear_model/_coordinate_descent.py:460: ConvergenceWarning: Objective did not converge. You might want to increase the number of iterations. Duality gap: 0.0, tolerance: 0.0\n",
      "  max_iter, tol, rng, random, positive)\n",
      "/home/jj/code/mangaki/venv/lib/python3.7/site-packages/sklearn/linear_model/_coordinate_descent.py:460: ConvergenceWarning: Objective did not converge. You might want to increase the number of iterations. Duality gap: 0.0, tolerance: 0.0\n",
      "  max_iter, tol, rng, random, positive)\n",
      "/home/jj/code/mangaki/venv/lib/python3.7/site-packages/sklearn/linear_model/_coordinate_descent.py:460: ConvergenceWarning: Objective did not converge. You might want to increase the number of iterations. Duality gap: 0.0006912039846543386, tolerance: 0.0002888\n",
      "  max_iter, tol, rng, random, positive)\n",
      "/home/jj/code/mangaki/venv/lib/python3.7/site-packages/sklearn/linear_model/_coordinate_descent.py:460: ConvergenceWarning: Objective did not converge. You might want to increase the number of iterations. Duality gap: 0.0, tolerance: 0.0\n",
      "  max_iter, tol, rng, random, positive)\n",
      "/home/jj/code/mangaki/venv/lib/python3.7/site-packages/sklearn/linear_model/_coordinate_descent.py:460: ConvergenceWarning: Objective did not converge. You might want to increase the number of iterations. Duality gap: 0.0, tolerance: 0.0\n",
      "  max_iter, tol, rng, random, positive)\n",
      "/home/jj/code/mangaki/venv/lib/python3.7/site-packages/sklearn/linear_model/_coordinate_descent.py:460: ConvergenceWarning: Objective did not converge. You might want to increase the number of iterations. Duality gap: 0.0, tolerance: 0.0\n",
      "  max_iter, tol, rng, random, positive)\n",
      "/home/jj/code/mangaki/venv/lib/python3.7/site-packages/sklearn/linear_model/_coordinate_descent.py:460: ConvergenceWarning: Objective did not converge. You might want to increase the number of iterations. Duality gap: 0.0, tolerance: 0.0\n",
      "  max_iter, tol, rng, random, positive)\n",
      "/home/jj/code/mangaki/venv/lib/python3.7/site-packages/sklearn/linear_model/_coordinate_descent.py:460: ConvergenceWarning: Objective did not converge. You might want to increase the number of iterations. Duality gap: 0.0, tolerance: 0.0\n",
      "  max_iter, tol, rng, random, positive)\n",
      "/home/jj/code/mangaki/venv/lib/python3.7/site-packages/sklearn/linear_model/_coordinate_descent.py:460: ConvergenceWarning: Objective did not converge. You might want to increase the number of iterations. Duality gap: 0.0, tolerance: 0.0\n",
      "  max_iter, tol, rng, random, positive)\n",
      "/home/jj/code/mangaki/venv/lib/python3.7/site-packages/sklearn/linear_model/_coordinate_descent.py:460: ConvergenceWarning: Objective did not converge. You might want to increase the number of iterations. Duality gap: 0.0, tolerance: 0.0\n",
      "  max_iter, tol, rng, random, positive)\n",
      "/home/jj/code/mangaki/venv/lib/python3.7/site-packages/sklearn/linear_model/_coordinate_descent.py:460: ConvergenceWarning: Objective did not converge. You might want to increase the number of iterations. Duality gap: 0.0, tolerance: 0.0\n",
      "  max_iter, tol, rng, random, positive)\n",
      "/home/jj/code/mangaki/venv/lib/python3.7/site-packages/sklearn/linear_model/_coordinate_descent.py:460: ConvergenceWarning: Objective did not converge. You might want to increase the number of iterations. Duality gap: 0.0, tolerance: 0.0\n",
      "  max_iter, tol, rng, random, positive)\n",
      "/home/jj/code/mangaki/venv/lib/python3.7/site-packages/sklearn/linear_model/_coordinate_descent.py:460: ConvergenceWarning: Objective did not converge. You might want to increase the number of iterations. Duality gap: 0.0, tolerance: 0.0\n",
      "  max_iter, tol, rng, random, positive)\n",
      "/home/jj/code/mangaki/venv/lib/python3.7/site-packages/sklearn/linear_model/_coordinate_descent.py:460: ConvergenceWarning: Objective did not converge. You might want to increase the number of iterations. Duality gap: 0.0, tolerance: 0.0\n",
      "  max_iter, tol, rng, random, positive)\n",
      "/home/jj/code/mangaki/venv/lib/python3.7/site-packages/sklearn/linear_model/_coordinate_descent.py:460: ConvergenceWarning: Objective did not converge. You might want to increase the number of iterations. Duality gap: 0.0, tolerance: 0.0\n",
      "  max_iter, tol, rng, random, positive)\n",
      "/home/jj/code/mangaki/venv/lib/python3.7/site-packages/sklearn/linear_model/_coordinate_descent.py:460: ConvergenceWarning: Objective did not converge. You might want to increase the number of iterations. Duality gap: 0.0, tolerance: 0.0\n",
      "  max_iter, tol, rng, random, positive)\n",
      "/home/jj/code/mangaki/venv/lib/python3.7/site-packages/sklearn/linear_model/_coordinate_descent.py:460: ConvergenceWarning: Objective did not converge. You might want to increase the number of iterations. Duality gap: 0.0, tolerance: 0.0\n",
      "  max_iter, tol, rng, random, positive)\n",
      "/home/jj/code/mangaki/venv/lib/python3.7/site-packages/sklearn/linear_model/_coordinate_descent.py:460: ConvergenceWarning: Objective did not converge. You might want to increase the number of iterations. Duality gap: 0.0, tolerance: 0.0\n",
      "  max_iter, tol, rng, random, positive)\n",
      "/home/jj/code/mangaki/venv/lib/python3.7/site-packages/sklearn/linear_model/_coordinate_descent.py:460: ConvergenceWarning: Objective did not converge. You might want to increase the number of iterations. Duality gap: 0.0, tolerance: 0.0\n",
      "  max_iter, tol, rng, random, positive)\n",
      "/home/jj/code/mangaki/venv/lib/python3.7/site-packages/sklearn/linear_model/_coordinate_descent.py:460: ConvergenceWarning: Objective did not converge. You might want to increase the number of iterations. Duality gap: 0.0, tolerance: 0.0\n",
      "  max_iter, tol, rng, random, positive)\n",
      "/home/jj/code/mangaki/venv/lib/python3.7/site-packages/sklearn/linear_model/_coordinate_descent.py:460: ConvergenceWarning: Objective did not converge. You might want to increase the number of iterations. Duality gap: 0.0, tolerance: 0.0\n",
      "  max_iter, tol, rng, random, positive)\n",
      "/home/jj/code/mangaki/venv/lib/python3.7/site-packages/sklearn/linear_model/_coordinate_descent.py:460: ConvergenceWarning: Objective did not converge. You might want to increase the number of iterations. Duality gap: 0.0, tolerance: 0.0\n",
      "  max_iter, tol, rng, random, positive)\n",
      "/home/jj/code/mangaki/venv/lib/python3.7/site-packages/sklearn/linear_model/_coordinate_descent.py:460: ConvergenceWarning: Objective did not converge. You might want to increase the number of iterations. Duality gap: 0.0, tolerance: 0.0\n",
      "  max_iter, tol, rng, random, positive)\n",
      "/home/jj/code/mangaki/venv/lib/python3.7/site-packages/sklearn/linear_model/_coordinate_descent.py:460: ConvergenceWarning: Objective did not converge. You might want to increase the number of iterations. Duality gap: 0.0, tolerance: 0.0\n",
      "  max_iter, tol, rng, random, positive)\n",
      "/home/jj/code/mangaki/venv/lib/python3.7/site-packages/sklearn/linear_model/_coordinate_descent.py:460: ConvergenceWarning: Objective did not converge. You might want to increase the number of iterations. Duality gap: 0.0, tolerance: 0.0\n",
      "  max_iter, tol, rng, random, positive)\n",
      "/home/jj/code/mangaki/venv/lib/python3.7/site-packages/sklearn/linear_model/_coordinate_descent.py:460: ConvergenceWarning: Objective did not converge. You might want to increase the number of iterations. Duality gap: 0.0, tolerance: 0.0\n",
      "  max_iter, tol, rng, random, positive)\n",
      "/home/jj/code/mangaki/venv/lib/python3.7/site-packages/sklearn/linear_model/_coordinate_descent.py:460: ConvergenceWarning: Objective did not converge. You might want to increase the number of iterations. Duality gap: 0.0, tolerance: 0.0\n",
      "  max_iter, tol, rng, random, positive)\n"
     ]
    },
    {
     "name": "stderr",
     "output_type": "stream",
     "text": [
      "/home/jj/code/mangaki/venv/lib/python3.7/site-packages/sklearn/linear_model/_coordinate_descent.py:460: ConvergenceWarning: Objective did not converge. You might want to increase the number of iterations. Duality gap: 0.0, tolerance: 0.0\n",
      "  max_iter, tol, rng, random, positive)\n",
      "/home/jj/code/mangaki/venv/lib/python3.7/site-packages/sklearn/linear_model/_coordinate_descent.py:460: ConvergenceWarning: Objective did not converge. You might want to increase the number of iterations. Duality gap: 0.0, tolerance: 0.0\n",
      "  max_iter, tol, rng, random, positive)\n",
      "/home/jj/code/mangaki/venv/lib/python3.7/site-packages/sklearn/linear_model/_coordinate_descent.py:460: ConvergenceWarning: Objective did not converge. You might want to increase the number of iterations. Duality gap: 0.0, tolerance: 0.0\n",
      "  max_iter, tol, rng, random, positive)\n",
      "/home/jj/code/mangaki/venv/lib/python3.7/site-packages/sklearn/linear_model/_coordinate_descent.py:460: ConvergenceWarning: Objective did not converge. You might want to increase the number of iterations. Duality gap: 0.0, tolerance: 0.0\n",
      "  max_iter, tol, rng, random, positive)\n",
      "/home/jj/code/mangaki/venv/lib/python3.7/site-packages/sklearn/linear_model/_coordinate_descent.py:460: ConvergenceWarning: Objective did not converge. You might want to increase the number of iterations. Duality gap: 0.0, tolerance: 0.0\n",
      "  max_iter, tol, rng, random, positive)\n",
      "/home/jj/code/mangaki/venv/lib/python3.7/site-packages/sklearn/linear_model/_coordinate_descent.py:460: ConvergenceWarning: Objective did not converge. You might want to increase the number of iterations. Duality gap: 0.0, tolerance: 0.0\n",
      "  max_iter, tol, rng, random, positive)\n",
      "/home/jj/code/mangaki/venv/lib/python3.7/site-packages/sklearn/linear_model/_coordinate_descent.py:460: ConvergenceWarning: Objective did not converge. You might want to increase the number of iterations. Duality gap: 0.0, tolerance: 0.0\n",
      "  max_iter, tol, rng, random, positive)\n",
      "/home/jj/code/mangaki/venv/lib/python3.7/site-packages/sklearn/linear_model/_coordinate_descent.py:460: ConvergenceWarning: Objective did not converge. You might want to increase the number of iterations. Duality gap: 0.0, tolerance: 0.0\n",
      "  max_iter, tol, rng, random, positive)\n",
      "/home/jj/code/mangaki/venv/lib/python3.7/site-packages/sklearn/linear_model/_coordinate_descent.py:460: ConvergenceWarning: Objective did not converge. You might want to increase the number of iterations. Duality gap: 0.0, tolerance: 0.0\n",
      "  max_iter, tol, rng, random, positive)\n",
      "/home/jj/code/mangaki/venv/lib/python3.7/site-packages/sklearn/linear_model/_coordinate_descent.py:460: ConvergenceWarning: Objective did not converge. You might want to increase the number of iterations. Duality gap: 0.0, tolerance: 0.0\n",
      "  max_iter, tol, rng, random, positive)\n",
      "/home/jj/code/mangaki/venv/lib/python3.7/site-packages/sklearn/linear_model/_coordinate_descent.py:460: ConvergenceWarning: Objective did not converge. You might want to increase the number of iterations. Duality gap: 0.0, tolerance: 0.0\n",
      "  max_iter, tol, rng, random, positive)\n",
      "/home/jj/code/mangaki/venv/lib/python3.7/site-packages/sklearn/linear_model/_coordinate_descent.py:460: ConvergenceWarning: Objective did not converge. You might want to increase the number of iterations. Duality gap: 0.0, tolerance: 0.0\n",
      "  max_iter, tol, rng, random, positive)\n",
      "/home/jj/code/mangaki/venv/lib/python3.7/site-packages/sklearn/linear_model/_coordinate_descent.py:460: ConvergenceWarning: Objective did not converge. You might want to increase the number of iterations. Duality gap: 0.0, tolerance: 0.0\n",
      "  max_iter, tol, rng, random, positive)\n",
      "/home/jj/code/mangaki/venv/lib/python3.7/site-packages/sklearn/linear_model/_coordinate_descent.py:460: ConvergenceWarning: Objective did not converge. You might want to increase the number of iterations. Duality gap: 0.0, tolerance: 0.0\n",
      "  max_iter, tol, rng, random, positive)\n",
      "/home/jj/code/mangaki/venv/lib/python3.7/site-packages/sklearn/linear_model/_coordinate_descent.py:460: ConvergenceWarning: Objective did not converge. You might want to increase the number of iterations. Duality gap: 0.0, tolerance: 0.0\n",
      "  max_iter, tol, rng, random, positive)\n",
      "/home/jj/code/mangaki/venv/lib/python3.7/site-packages/sklearn/linear_model/_coordinate_descent.py:460: ConvergenceWarning: Objective did not converge. You might want to increase the number of iterations. Duality gap: 0.0, tolerance: 0.0\n",
      "  max_iter, tol, rng, random, positive)\n",
      "/home/jj/code/mangaki/venv/lib/python3.7/site-packages/sklearn/linear_model/_coordinate_descent.py:460: ConvergenceWarning: Objective did not converge. You might want to increase the number of iterations. Duality gap: 0.0, tolerance: 0.0\n",
      "  max_iter, tol, rng, random, positive)\n",
      "/home/jj/code/mangaki/venv/lib/python3.7/site-packages/sklearn/linear_model/_coordinate_descent.py:460: ConvergenceWarning: Objective did not converge. You might want to increase the number of iterations. Duality gap: 0.0, tolerance: 0.0\n",
      "  max_iter, tol, rng, random, positive)\n",
      "/home/jj/code/mangaki/venv/lib/python3.7/site-packages/sklearn/linear_model/_coordinate_descent.py:460: ConvergenceWarning: Objective did not converge. You might want to increase the number of iterations. Duality gap: 0.0, tolerance: 0.0\n",
      "  max_iter, tol, rng, random, positive)\n",
      "/home/jj/code/mangaki/venv/lib/python3.7/site-packages/sklearn/linear_model/_coordinate_descent.py:460: ConvergenceWarning: Objective did not converge. You might want to increase the number of iterations. Duality gap: 0.0, tolerance: 0.0\n",
      "  max_iter, tol, rng, random, positive)\n",
      "/home/jj/code/mangaki/venv/lib/python3.7/site-packages/sklearn/linear_model/_coordinate_descent.py:460: ConvergenceWarning: Objective did not converge. You might want to increase the number of iterations. Duality gap: 0.0, tolerance: 0.0\n",
      "  max_iter, tol, rng, random, positive)\n",
      "/home/jj/code/mangaki/venv/lib/python3.7/site-packages/sklearn/linear_model/_coordinate_descent.py:460: ConvergenceWarning: Objective did not converge. You might want to increase the number of iterations. Duality gap: 0.0, tolerance: 0.0\n",
      "  max_iter, tol, rng, random, positive)\n",
      "/home/jj/code/mangaki/venv/lib/python3.7/site-packages/sklearn/linear_model/_coordinate_descent.py:460: ConvergenceWarning: Objective did not converge. You might want to increase the number of iterations. Duality gap: 0.0, tolerance: 0.0\n",
      "  max_iter, tol, rng, random, positive)\n",
      "/home/jj/code/mangaki/venv/lib/python3.7/site-packages/sklearn/linear_model/_coordinate_descent.py:460: ConvergenceWarning: Objective did not converge. You might want to increase the number of iterations. Duality gap: 0.0, tolerance: 0.0\n",
      "  max_iter, tol, rng, random, positive)\n",
      "/home/jj/code/mangaki/venv/lib/python3.7/site-packages/sklearn/linear_model/_coordinate_descent.py:460: ConvergenceWarning: Objective did not converge. You might want to increase the number of iterations. Duality gap: 0.0, tolerance: 0.0\n",
      "  max_iter, tol, rng, random, positive)\n",
      "/home/jj/code/mangaki/venv/lib/python3.7/site-packages/sklearn/linear_model/_coordinate_descent.py:460: ConvergenceWarning: Objective did not converge. You might want to increase the number of iterations. Duality gap: 0.0, tolerance: 0.0\n",
      "  max_iter, tol, rng, random, positive)\n",
      "/home/jj/code/mangaki/venv/lib/python3.7/site-packages/sklearn/linear_model/_coordinate_descent.py:460: ConvergenceWarning: Objective did not converge. You might want to increase the number of iterations. Duality gap: 0.0, tolerance: 0.0\n",
      "  max_iter, tol, rng, random, positive)\n",
      "/home/jj/code/mangaki/venv/lib/python3.7/site-packages/sklearn/linear_model/_coordinate_descent.py:460: ConvergenceWarning: Objective did not converge. You might want to increase the number of iterations. Duality gap: 0.0, tolerance: 0.0\n",
      "  max_iter, tol, rng, random, positive)\n",
      "/home/jj/code/mangaki/venv/lib/python3.7/site-packages/sklearn/linear_model/_coordinate_descent.py:460: ConvergenceWarning: Objective did not converge. You might want to increase the number of iterations. Duality gap: 0.0, tolerance: 0.0\n",
      "  max_iter, tol, rng, random, positive)\n",
      "/home/jj/code/mangaki/venv/lib/python3.7/site-packages/sklearn/linear_model/_coordinate_descent.py:460: ConvergenceWarning: Objective did not converge. You might want to increase the number of iterations. Duality gap: 0.0, tolerance: 0.0\n",
      "  max_iter, tol, rng, random, positive)\n",
      "/home/jj/code/mangaki/venv/lib/python3.7/site-packages/sklearn/linear_model/_coordinate_descent.py:460: ConvergenceWarning: Objective did not converge. You might want to increase the number of iterations. Duality gap: 0.0, tolerance: 0.0\n",
      "  max_iter, tol, rng, random, positive)\n",
      "/home/jj/code/mangaki/venv/lib/python3.7/site-packages/sklearn/linear_model/_coordinate_descent.py:460: ConvergenceWarning: Objective did not converge. You might want to increase the number of iterations. Duality gap: 0.0, tolerance: 0.0\n",
      "  max_iter, tol, rng, random, positive)\n",
      "/home/jj/code/mangaki/venv/lib/python3.7/site-packages/sklearn/linear_model/_coordinate_descent.py:460: ConvergenceWarning: Objective did not converge. You might want to increase the number of iterations. Duality gap: 0.0031119917215051973, tolerance: 0.001521\n",
      "  max_iter, tol, rng, random, positive)\n",
      "/home/jj/code/mangaki/venv/lib/python3.7/site-packages/sklearn/linear_model/_coordinate_descent.py:460: ConvergenceWarning: Objective did not converge. You might want to increase the number of iterations. Duality gap: 0.0, tolerance: 0.0\n",
      "  max_iter, tol, rng, random, positive)\n",
      "/home/jj/code/mangaki/venv/lib/python3.7/site-packages/sklearn/linear_model/_coordinate_descent.py:460: ConvergenceWarning: Objective did not converge. You might want to increase the number of iterations. Duality gap: 0.0, tolerance: 0.0\n",
      "  max_iter, tol, rng, random, positive)\n"
     ]
    },
    {
     "name": "stderr",
     "output_type": "stream",
     "text": [
      "/home/jj/code/mangaki/venv/lib/python3.7/site-packages/sklearn/linear_model/_coordinate_descent.py:460: ConvergenceWarning: Objective did not converge. You might want to increase the number of iterations. Duality gap: 0.0, tolerance: 0.0\n",
      "  max_iter, tol, rng, random, positive)\n",
      "/home/jj/code/mangaki/venv/lib/python3.7/site-packages/sklearn/linear_model/_coordinate_descent.py:460: ConvergenceWarning: Objective did not converge. You might want to increase the number of iterations. Duality gap: 0.0, tolerance: 0.0\n",
      "  max_iter, tol, rng, random, positive)\n",
      "/home/jj/code/mangaki/venv/lib/python3.7/site-packages/sklearn/linear_model/_coordinate_descent.py:460: ConvergenceWarning: Objective did not converge. You might want to increase the number of iterations. Duality gap: 0.0, tolerance: 0.0\n",
      "  max_iter, tol, rng, random, positive)\n",
      "/home/jj/code/mangaki/venv/lib/python3.7/site-packages/sklearn/linear_model/_coordinate_descent.py:460: ConvergenceWarning: Objective did not converge. You might want to increase the number of iterations. Duality gap: 0.0, tolerance: 0.0\n",
      "  max_iter, tol, rng, random, positive)\n",
      "/home/jj/code/mangaki/venv/lib/python3.7/site-packages/sklearn/linear_model/_coordinate_descent.py:460: ConvergenceWarning: Objective did not converge. You might want to increase the number of iterations. Duality gap: 0.0, tolerance: 0.0\n",
      "  max_iter, tol, rng, random, positive)\n",
      "/home/jj/code/mangaki/venv/lib/python3.7/site-packages/sklearn/linear_model/_coordinate_descent.py:460: ConvergenceWarning: Objective did not converge. You might want to increase the number of iterations. Duality gap: 0.0, tolerance: 0.0\n",
      "  max_iter, tol, rng, random, positive)\n",
      "/home/jj/code/mangaki/venv/lib/python3.7/site-packages/sklearn/linear_model/_coordinate_descent.py:460: ConvergenceWarning: Objective did not converge. You might want to increase the number of iterations. Duality gap: 0.0, tolerance: 0.0\n",
      "  max_iter, tol, rng, random, positive)\n",
      "/home/jj/code/mangaki/venv/lib/python3.7/site-packages/sklearn/linear_model/_coordinate_descent.py:460: ConvergenceWarning: Objective did not converge. You might want to increase the number of iterations. Duality gap: 0.0, tolerance: 0.0\n",
      "  max_iter, tol, rng, random, positive)\n",
      "/home/jj/code/mangaki/venv/lib/python3.7/site-packages/sklearn/linear_model/_coordinate_descent.py:460: ConvergenceWarning: Objective did not converge. You might want to increase the number of iterations. Duality gap: 0.0, tolerance: 0.0\n",
      "  max_iter, tol, rng, random, positive)\n",
      "/home/jj/code/mangaki/venv/lib/python3.7/site-packages/sklearn/linear_model/_coordinate_descent.py:460: ConvergenceWarning: Objective did not converge. You might want to increase the number of iterations. Duality gap: 0.0, tolerance: 0.0\n",
      "  max_iter, tol, rng, random, positive)\n",
      "/home/jj/code/mangaki/venv/lib/python3.7/site-packages/sklearn/linear_model/_coordinate_descent.py:460: ConvergenceWarning: Objective did not converge. You might want to increase the number of iterations. Duality gap: 0.0, tolerance: 0.0\n",
      "  max_iter, tol, rng, random, positive)\n",
      "/home/jj/code/mangaki/venv/lib/python3.7/site-packages/sklearn/linear_model/_coordinate_descent.py:460: ConvergenceWarning: Objective did not converge. You might want to increase the number of iterations. Duality gap: 0.0, tolerance: 0.0\n",
      "  max_iter, tol, rng, random, positive)\n",
      "Train RMSE=1.067973\n",
      "Test RMSE=1.284073\n"
     ]
    },
    {
     "name": "stdout",
     "output_type": "stream",
     "text": [
      "CPU times: user 5min 9s, sys: 154 ms, total: 5min 9s\n",
      "Wall time: 5min 9s\n"
     ]
    }
   ],
   "source": [
    "%%time\n",
    "lasso = run_lasso(X_train, X_test, y_train, y_test)\n",
    "sub_lasso = run_lasso(X_subtrain, X_test, y_subtrain, y_test)"
   ]
  },
  {
   "cell_type": "code",
   "execution_count": 263,
   "metadata": {},
   "outputs": [],
   "source": [
    "i_test_ordered = sorted(i_test, key=lambda i: nb_train_rated[dataset.anonymized.X[i][1]], reverse=True)"
   ]
  },
  {
   "cell_type": "code",
   "execution_count": 264,
   "metadata": {},
   "outputs": [],
   "source": [
    "X_tmp_test = dataset.anonymized.X[i_test_ordered]\n",
    "y_tmp_test = dataset.anonymized.y[i_test_ordered]"
   ]
  },
  {
   "cell_type": "code",
   "execution_count": 265,
   "metadata": {},
   "outputs": [],
   "source": [
    "# Attention\n",
    "# X_val = X_train"
   ]
  },
  {
   "cell_type": "code",
   "execution_count": 266,
   "metadata": {},
   "outputs": [],
   "source": [
    "nb_r = list(map(lambda x: nb_subtrain_rated[x[1]], X_val))"
   ]
  },
  {
   "cell_type": "code",
   "execution_count": 267,
   "metadata": {},
   "outputs": [
    {
     "name": "stdout",
     "output_type": "stream",
     "text": [
      "CPU times: user 46.8 s, sys: 551 ms, total: 47.4 s\n",
      "Wall time: 46.4 s\n"
     ]
    }
   ],
   "source": [
    "%%time\n",
    "y_val_als = sub_als.predict(X_val)\n",
    "y_val_lasso = sub_lasso.predict(X_val)"
   ]
  },
  {
   "cell_type": "code",
   "execution_count": 268,
   "metadata": {},
   "outputs": [
    {
     "name": "stdout",
     "output_type": "stream",
     "text": [
      "CPU times: user 17.5 s, sys: 447 ms, total: 18 s\n",
      "Wall time: 17 s\n"
     ]
    }
   ],
   "source": [
    "%%time\n",
    "y_als = sub_als.predict(X_tmp_test)\n",
    "y_lasso = sub_lasso.predict(X_tmp_test)"
   ]
  },
  {
   "cell_type": "code",
   "execution_count": 269,
   "metadata": {},
   "outputs": [],
   "source": [
    "import numpy as np\n",
    "\n",
    "X = np.column_stack((nb_r, y_val_als, y_val_lasso))\n",
    "y = y_val"
   ]
  },
  {
   "cell_type": "code",
   "execution_count": 270,
   "metadata": {},
   "outputs": [
    {
     "data": {
      "text/plain": [
       "(90285, 3)"
      ]
     },
     "execution_count": 270,
     "metadata": {},
     "output_type": "execute_result"
    }
   ],
   "source": [
    "X.shape"
   ]
  },
  {
   "cell_type": "code",
   "execution_count": 271,
   "metadata": {},
   "outputs": [
    {
     "data": {
      "text/plain": [
       "(90285,)"
      ]
     },
     "execution_count": 271,
     "metadata": {},
     "output_type": "execute_result"
    }
   ],
   "source": [
    "y_val_als.shape"
   ]
  },
  {
   "cell_type": "code",
   "execution_count": 272,
   "metadata": {},
   "outputs": [
    {
     "data": {
      "text/plain": [
       "(90285,)"
      ]
     },
     "execution_count": 272,
     "metadata": {},
     "output_type": "execute_result"
    }
   ],
   "source": [
    "y.shape"
   ]
  },
  {
   "cell_type": "code",
   "execution_count": 273,
   "metadata": {},
   "outputs": [],
   "source": [
    "import tensorflow as tf"
   ]
  },
  {
   "cell_type": "code",
   "execution_count": 274,
   "metadata": {},
   "outputs": [],
   "source": [
    "beta = tf.Variable(tf.random_normal([1]), name='beta')\n",
    "gamma = tf.Variable(tf.random_normal([1]), name='gamma')"
   ]
  },
  {
   "cell_type": "code",
   "execution_count": 275,
   "metadata": {},
   "outputs": [
    {
     "name": "stderr",
     "output_type": "stream",
     "text": [
      "/home/jj/code/mangaki/venv/lib/python3.7/site-packages/tensorflow/python/client/session.py:1735: UserWarning: An interactive session is already active. This can cause out-of-memory errors in some cases. You must explicitly call `InteractiveSession.close()` to release resources held by the other session(s).\n",
      "  warnings.warn('An interactive session is already active. This can '\n"
     ]
    }
   ],
   "source": [
    "e1 = np.array([1, 0, 0])\n",
    "e2 = np.array([0, 1, 0])\n",
    "e3 = np.array([0, 0, 1])\n",
    "pred = tf.sigmoid(beta*(X.dot(e1) - gamma)) * X.dot(e2) + (1 - tf.sigmoid(beta*(X.dot(e1) - gamma))) * X.dot(e3)\n",
    "loss = tf.reduce_mean(tf.square(y - pred)) ** 0.5\n",
    "reg_loss = loss\n",
    "\n",
    "global_step = tf.Variable(0, trainable=False)\n",
    "starter_learning_rate = 0.9\n",
    "learning_rate = tf.train.exponential_decay(starter_learning_rate, global_step,\n",
    "                                           20, 0.9965402628278678, staircase=True)\n",
    "optimizer = tf.train.GradientDescentOptimizer(learning_rate)\n",
    "train_step = optimizer.minimize(reg_loss, var_list=[beta, gamma], global_step=global_step)\n",
    "\n",
    "init_op = tf.global_variables_initializer()\n",
    "sess = tf.InteractiveSession()\n",
    "sess.run(init_op)"
   ]
  },
  {
   "cell_type": "code",
   "execution_count": 276,
   "metadata": {},
   "outputs": [
    {
     "name": "stdout",
     "output_type": "stream",
     "text": [
      "loss 1.1681179 beta [0.03777749] gamma [0.59310323] 0.9\n",
      "loss 1.177528 beta [3.284584] gamma [0.88691986] 0.8253033\n",
      "loss 1.1773615 beta [3.2331414] gamma [1.1376305] 0.75680625\n",
      "loss 1.1772591 beta [3.1810536] gamma [1.323127] 0.6939941\n",
      "loss 1.1771488 beta [3.1239898] gamma [1.5057671] 0.63639516\n",
      "loss 1.177011 beta [3.070616] gamma [1.7037432] 0.58357674\n",
      "loss 1.1768932 beta [3.0286112] gamma [1.8801947] 0.53514206\n",
      "loss 1.1768256 beta [2.9935715] gamma [2.0066555] 0.49072725\n",
      "loss 1.176788 beta [2.9596725] gamma [2.0943449] 0.44999868\n",
      "loss 1.1767626 beta [2.9252079] gamma [2.1598377] 0.41265047\n"
     ]
    }
   ],
   "source": [
    "for i in range(5000):\n",
    "    sess.run(train_step)\n",
    "    if i % 500 == 0:\n",
    "        print('loss', sess.run(reg_loss), 'beta', beta.eval(), 'gamma', gamma.eval(), learning_rate.eval())"
   ]
  },
  {
   "cell_type": "code",
   "execution_count": 277,
   "metadata": {},
   "outputs": [],
   "source": [
    "nb_rt = list(map(lambda x: nb_train_rated[x[1]], X_tmp_test))"
   ]
  },
  {
   "cell_type": "code",
   "execution_count": 278,
   "metadata": {},
   "outputs": [],
   "source": [
    "Xt = np.column_stack((nb_rt, y_als, y_lasso))"
   ]
  },
  {
   "cell_type": "code",
   "execution_count": 279,
   "metadata": {},
   "outputs": [
    {
     "data": {
      "text/plain": [
       "(1.176742,\n",
       " array([2.8903196], dtype=float32),\n",
       " array([2.2131026], dtype=float32))"
      ]
     },
     "execution_count": 279,
     "metadata": {},
     "output_type": "execute_result"
    }
   ],
   "source": [
    "loss.eval(), beta.eval(), gamma.eval()\n",
    "# Original paper values were\n",
    "# (1.1695154,\n",
    "#  array([ 0.03684209], dtype=float32),\n",
    "#  array([-0.72566766], dtype=float32))"
   ]
  },
  {
   "cell_type": "code",
   "execution_count": 280,
   "metadata": {},
   "outputs": [
    {
     "name": "stdout",
     "output_type": "stream",
     "text": [
      "CPU times: user 17.6 s, sys: 466 ms, total: 18.1 s\n",
      "Wall time: 17.1 s\n"
     ]
    }
   ],
   "source": [
    "%%time\n",
    "y_full_als = als.predict(X_tmp_test)\n",
    "y_full_lasso = lasso.predict(X_tmp_test)"
   ]
  },
  {
   "cell_type": "code",
   "execution_count": 281,
   "metadata": {},
   "outputs": [],
   "source": [
    "new_pred = tf.sigmoid(beta*(Xt.dot(e1) - gamma)) * y_full_als + (1 - tf.sigmoid(beta*(Xt.dot(e1) - gamma))) * y_full_lasso"
   ]
  },
  {
   "cell_type": "code",
   "execution_count": 282,
   "metadata": {},
   "outputs": [
    {
     "data": {
      "text/plain": [
       "1.1854469582548046"
      ]
     },
     "execution_count": 282,
     "metadata": {},
     "output_type": "execute_result"
    }
   ],
   "source": [
    "als.compute_rmse(y_als, y_tmp_test)\n",
    "# Previous run: 1.1804311223303001"
   ]
  },
  {
   "cell_type": "code",
   "execution_count": 283,
   "metadata": {},
   "outputs": [
    {
     "name": "stdout",
     "output_type": "stream",
     "text": [
      "Test error 1.1554356644318937\n"
     ]
    }
   ],
   "source": [
    "WINDOW = 1000000\n",
    "\n",
    "rmse_als_full = als.compute_rmse(y_full_als, y_tmp_test)\n",
    "print('Test error', rmse_als_full)\n",
    "god_rmse['als'].append(rmse_als_full)\n",
    "# Previous run: 1.15149072211"
   ]
  },
  {
   "cell_type": "code",
   "execution_count": 284,
   "metadata": {},
   "outputs": [
    {
     "name": "stdout",
     "output_type": "stream",
     "text": [
      "Test error 1.152782407861313\n"
     ]
    }
   ],
   "source": [
    "y_new_pred = new_pred.eval()\n",
    "rmse_balse_full = als.compute_rmse(y_new_pred, y_tmp_test)\n",
    "print('Test error', rmse_balse_full)\n",
    "god_rmse['balse'].append(rmse_balse_full)\n",
    "# Previous run: 1.14354738023"
   ]
  },
  {
   "cell_type": "code",
   "execution_count": 285,
   "metadata": {},
   "outputs": [
    {
     "name": "stdout",
     "output_type": "stream",
     "text": [
      "Test error 1.2671556577234464\n"
     ]
    }
   ],
   "source": [
    "rmse_lasso_full = als.compute_rmse(y_full_lasso, y_tmp_test)\n",
    "print('Test error', rmse_lasso_full)\n",
    "god_rmse['lasso'].append(rmse_lasso_full)\n",
    "# Previous run: 1.44732800804"
   ]
  },
  {
   "cell_type": "code",
   "execution_count": 286,
   "metadata": {},
   "outputs": [
    {
     "data": {
      "text/plain": [
       "3"
      ]
     },
     "execution_count": 286,
     "metadata": {},
     "output_type": "execute_result"
    }
   ],
   "source": [
    "nb_rt[-1000]"
   ]
  },
  {
   "cell_type": "code",
   "execution_count": 287,
   "metadata": {},
   "outputs": [
    {
     "data": {
      "text/plain": [
       "0.02990520051436945"
      ]
     },
     "execution_count": 287,
     "metadata": {},
     "output_type": "execute_result"
    }
   ],
   "source": [
    "1000 / len(y_tmp_test)\n",
    "# Equal from before"
   ]
  },
  {
   "cell_type": "code",
   "execution_count": 288,
   "metadata": {},
   "outputs": [
    {
     "data": {
      "text/plain": [
       "0.006997816920362451"
      ]
     },
     "execution_count": 288,
     "metadata": {},
     "output_type": "execute_result"
    }
   ],
   "source": [
    "(len(nb_rt) - nb_rt.index(0)) / len(y_tmp_test)\n",
    "# Different from before"
   ]
  },
  {
   "cell_type": "code",
   "execution_count": 289,
   "metadata": {},
   "outputs": [
    {
     "name": "stdout",
     "output_type": "stream",
     "text": [
      "CPU times: user 23.1 ms, sys: 17.9 ms, total: 41 ms\n",
      "Wall time: 6.08 ms\n"
     ]
    }
   ],
   "source": [
    "%%time\n",
    "for WINDOW, tag in [(1000, 'cold'), (len(nb_rt) - nb_rt.index(0), 'freeze')]:\n",
    "    god_rmse['als-%s' % tag].append(als.compute_rmse(y_full_als[-WINDOW:], y_tmp_test[-WINDOW:]))\n",
    "    y_new_pred = new_pred.eval()\n",
    "    god_rmse['balse-%s' % tag].append(als.compute_rmse(y_new_pred[-WINDOW:], y_tmp_test[-WINDOW:]))\n",
    "    god_rmse['lasso-%s' % tag].append(als.compute_rmse(y_full_lasso[-WINDOW:], y_tmp_test[-WINDOW:]))"
   ]
  },
  {
   "cell_type": "code",
   "execution_count": 290,
   "metadata": {},
   "outputs": [],
   "source": [
    "import math\n",
    "\n",
    "def avgstd(l):  # Displays mean and variance\n",
    "    n = len(l)\n",
    "    mean = float(sum(l)) / n\n",
    "    var = float(sum(i * i for i in l)) / n - mean * mean\n",
    "    return '%.5f ± %.5f' % (round(mean, 5), round(1.96 * math.sqrt(var / n), 3))  # '%.3f ± %.3f' % "
   ]
  },
  {
   "cell_type": "markdown",
   "metadata": {},
   "source": [
    "Previous results (Balse 2), as reported in the paper, were:\n",
    "\n",
    "```\n",
    "als 1.15681 ± 0.00400\n",
    "balse 1.14954 ± 0.00400\n",
    "lasso 1.44444 ± 0.00200\n",
    "als-cold 1.29269 ± 0.02900\n",
    "balse-cold 1.22714 ± 0.03600\n",
    "lasso-cold 1.31331 ± 0.03600\n",
    "als-freeze 1.50047 ± 0.03500\n",
    "balse-freeze 1.34533 ± 0.04500\n",
    "lasso-freeze 1.37909 ± 0.05600\n",
    "```"
   ]
  },
  {
   "cell_type": "code",
   "execution_count": 291,
   "metadata": {},
   "outputs": [
    {
     "name": "stdout",
     "output_type": "stream",
     "text": [
      "als 1.15289 ± 0.00500\n",
      "balse 1.17380 ± 0.04400\n",
      "lasso 1.26317 ± 0.00600\n",
      "als-cold 1.33444 ± 0.01300\n",
      "balse-cold 1.27273 ± 0.03300\n",
      "lasso-cold 1.25313 ± 0.01600\n",
      "als-freeze 1.59092 ± 0.03900\n",
      "balse-freeze 1.44642 ± 0.06600\n",
      "lasso-freeze 1.38050 ± 0.05100\n"
     ]
    }
   ],
   "source": [
    "for key in god_rmse:\n",
    "    # print(key, god_rmse[key])\n",
    "    print(key, avgstd(god_rmse[key]))"
   ]
  },
  {
   "cell_type": "markdown",
   "metadata": {},
   "source": [
    "## More experiments"
   ]
  },
  {
   "cell_type": "code",
   "execution_count": 86,
   "metadata": {},
   "outputs": [
    {
     "name": "stdout",
     "output_type": "stream",
     "text": [
      "one-piece swimsuit 0.1735808551311493\n",
      "face 0.16307556629180908\n",
      "rape 0.11031418293714523\n",
      "umbrella 0.33088186383247375\n",
      "choker 0.4133929908275604\n",
      "grass 0.27968505024909973\n",
      "open shirt 0.17030343413352966\n",
      "bottomless 0.25629279017448425\n",
      "pubic hair 0.4316035509109497\n",
      "eating 0.14901456236839294\n",
      "areolae 0.1180061548948288\n",
      "garter belt 0.10074449330568314\n",
      "2girls 0.13053488731384277\n",
      "star 0.7431973218917847\n",
      "cape 0.45514771342277527\n",
      "beach 0.16410182416439056\n",
      "profile 0.18654516339302063\n",
      "musical note 0.28205570578575134\n",
      "genderswap 0.3179689645767212\n",
      "straddling 0.14546701312065125\n",
      "petals 0.1955840140581131\n",
      "crossed legs 0.14367161691188812\n",
      "butterfly 0.2231094390153885\n",
      "chain 0.7989816069602966\n"
     ]
    }
   ],
   "source": [
    "with open('balse/balse.csv') as f:\n",
    "    tags = [line.split(',')[1].strip() for line in f]\n",
    "\n",
    "WORK_ID = 665\n",
    "\n",
    "for tag, weight in zip(tags, T[WORK_ID].data):\n",
    "    if weight != 0:\n",
    "        print(tag, weight)"
   ]
  },
  {
   "cell_type": "code",
   "execution_count": 87,
   "metadata": {},
   "outputs": [
    {
     "name": "stdout",
     "output_type": "stream",
     "text": [
      "2girls -0.12000388198165331\n",
      "magical girl 0.6155139687377712\n",
      "blonde hair -0.158504575728778\n",
      "long hair -0.09833481733487119\n",
      "blue eyes -0.21929870755262668\n",
      "white hair -0.033523216467335415\n",
      "green eyes -0.019345104111769595\n",
      "hat 0.11924899071779844\n",
      "blue hair -0.05944418508858517\n",
      "red eyes -0.11922212279615922\n",
      "1boy -0.07466685362211767\n",
      "smile -0.25047873658301834\n",
      "black hair -1.165947930638377e-05\n",
      "multiple boys -0.4500091332859582\n"
     ]
    }
   ],
   "source": [
    "for tag, weight in zip(tags, lasso.reg[2015].coef_):\n",
    "    if weight != 0:\n",
    "        print(tag, weight)"
   ]
  },
  {
   "cell_type": "code",
   "execution_count": 101,
   "metadata": {},
   "outputs": [],
   "source": [
    "# lasso.reg[2015].predict(np.array([T[WORK_ID]]))"
   ]
  },
  {
   "cell_type": "code",
   "execution_count": 96,
   "metadata": {},
   "outputs": [
    {
     "data": {
      "text/plain": [
       "<1x503 sparse matrix of type '<class 'numpy.float64'>'\n",
       "\twith 24 stored elements in Compressed Sparse Column format>"
      ]
     },
     "execution_count": 96,
     "metadata": {},
     "output_type": "execute_result"
    }
   ],
   "source": [
    "T[WORK_ID]"
   ]
  },
  {
   "cell_type": "code",
   "execution_count": 98,
   "metadata": {},
   "outputs": [
    {
     "data": {
      "text/plain": [
       "array([-0.20172965])"
      ]
     },
     "execution_count": 98,
     "metadata": {},
     "output_type": "execute_result"
    }
   ],
   "source": [
    "T[WORK_ID] @ lasso.reg[2015].coef_"
   ]
  },
  {
   "cell_type": "code",
   "execution_count": 99,
   "metadata": {},
   "outputs": [
    {
     "data": {
      "text/plain": [
       "1.0530726132032306"
      ]
     },
     "execution_count": 99,
     "metadata": {},
     "output_type": "execute_result"
    }
   ],
   "source": [
    "lasso.reg[2015].intercept_"
   ]
  },
  {
   "cell_type": "code",
   "execution_count": 104,
   "metadata": {},
   "outputs": [
    {
     "name": "stdout",
     "output_type": "stream",
     "text": [
      "one-piece swimsuit -0.20172964807111204\n"
     ]
    }
   ],
   "source": [
    "for tag, weight in zip(tags, T[WORK_ID] @ lasso.reg[2015].coef_):\n",
    "    if weight:\n",
    "        print(tag.strip(), weight)"
   ]
  },
  {
   "cell_type": "code",
   "execution_count": 105,
   "metadata": {},
   "outputs": [
    {
     "data": {
      "text/plain": [
       "array([-0.14482572,  0.32877897, -0.86922339, -0.18651897, -0.34301581,\n",
       "        0.13192848, -0.33395544, -0.31949131,  0.4600841 ,  0.89927609])"
      ]
     },
     "execution_count": 105,
     "metadata": {},
     "output_type": "execute_result"
    }
   ],
   "source": [
    "als.VT.T[3748]"
   ]
  },
  {
   "cell_type": "code",
   "execution_count": 109,
   "metadata": {},
   "outputs": [],
   "source": [
    "import os.path\n",
    "import numpy as np\n",
    "\n",
    "T = load_npz('balse/tag-matrix.npz').toarray()"
   ]
  },
  {
   "cell_type": "code",
   "execution_count": 110,
   "metadata": {},
   "outputs": [],
   "source": [
    "# Try various lassos on myself\n",
    "USER_ID = 2015\n",
    "X = []\n",
    "y = []\n",
    "for (user_id, work_id), value in zip(dataset.anonymized.X, dataset.anonymized.y):\n",
    "    if user_id == USER_ID:\n",
    "        X.append(T[work_id])\n",
    "        y.append(value)\n",
    "X = np.array(X)\n",
    "y = np.array(y)"
   ]
  },
  {
   "cell_type": "code",
   "execution_count": 111,
   "metadata": {},
   "outputs": [],
   "source": [
    "from sklearn.model_selection import train_test_split\n",
    "\n",
    "i_train, i_test = train_test_split(range(len(X)))"
   ]
  },
  {
   "cell_type": "code",
   "execution_count": 112,
   "metadata": {},
   "outputs": [],
   "source": [
    "X_train = X[i_train]\n",
    "X_test = X[i_test]\n",
    "y_train = y[i_train]\n",
    "y_test = y[i_test]"
   ]
  },
  {
   "cell_type": "code",
   "execution_count": 113,
   "metadata": {},
   "outputs": [
    {
     "data": {
      "text/plain": [
       "(432, 503)"
      ]
     },
     "execution_count": 113,
     "metadata": {},
     "output_type": "execute_result"
    }
   ],
   "source": [
    "X_train.shape"
   ]
  },
  {
   "cell_type": "code",
   "execution_count": 114,
   "metadata": {},
   "outputs": [
    {
     "data": {
      "text/html": [
       "<div>\n",
       "<style scoped>\n",
       "    .dataframe tbody tr th:only-of-type {\n",
       "        vertical-align: middle;\n",
       "    }\n",
       "\n",
       "    .dataframe tbody tr th {\n",
       "        vertical-align: top;\n",
       "    }\n",
       "\n",
       "    .dataframe thead th {\n",
       "        text-align: right;\n",
       "    }\n",
       "</style>\n",
       "<table border=\"1\" class=\"dataframe\">\n",
       "  <thead>\n",
       "    <tr style=\"text-align: right;\">\n",
       "      <th></th>\n",
       "      <th>0</th>\n",
       "      <th>1</th>\n",
       "      <th>2</th>\n",
       "      <th>3</th>\n",
       "      <th>4</th>\n",
       "      <th>5</th>\n",
       "      <th>6</th>\n",
       "      <th>7</th>\n",
       "      <th>8</th>\n",
       "      <th>9</th>\n",
       "      <th>...</th>\n",
       "      <th>493</th>\n",
       "      <th>494</th>\n",
       "      <th>495</th>\n",
       "      <th>496</th>\n",
       "      <th>497</th>\n",
       "      <th>498</th>\n",
       "      <th>499</th>\n",
       "      <th>500</th>\n",
       "      <th>501</th>\n",
       "      <th>502</th>\n",
       "    </tr>\n",
       "  </thead>\n",
       "  <tbody>\n",
       "    <tr>\n",
       "      <th>count</th>\n",
       "      <td>576.000000</td>\n",
       "      <td>576.0</td>\n",
       "      <td>576.0</td>\n",
       "      <td>576.000000</td>\n",
       "      <td>576.000000</td>\n",
       "      <td>576.000000</td>\n",
       "      <td>576.000000</td>\n",
       "      <td>576.0</td>\n",
       "      <td>576.0</td>\n",
       "      <td>576.000000</td>\n",
       "      <td>...</td>\n",
       "      <td>576.000000</td>\n",
       "      <td>576.000000</td>\n",
       "      <td>576.0</td>\n",
       "      <td>576.000000</td>\n",
       "      <td>576.0</td>\n",
       "      <td>576.000000</td>\n",
       "      <td>576.000000</td>\n",
       "      <td>576.000000</td>\n",
       "      <td>576.000000</td>\n",
       "      <td>576.0</td>\n",
       "    </tr>\n",
       "    <tr>\n",
       "      <th>mean</th>\n",
       "      <td>0.000508</td>\n",
       "      <td>0.0</td>\n",
       "      <td>0.0</td>\n",
       "      <td>0.000861</td>\n",
       "      <td>0.004601</td>\n",
       "      <td>0.009568</td>\n",
       "      <td>0.000916</td>\n",
       "      <td>0.0</td>\n",
       "      <td>0.0</td>\n",
       "      <td>0.001197</td>\n",
       "      <td>...</td>\n",
       "      <td>0.001010</td>\n",
       "      <td>0.037237</td>\n",
       "      <td>0.0</td>\n",
       "      <td>0.078183</td>\n",
       "      <td>0.0</td>\n",
       "      <td>0.001716</td>\n",
       "      <td>0.163196</td>\n",
       "      <td>0.000252</td>\n",
       "      <td>0.009215</td>\n",
       "      <td>0.0</td>\n",
       "    </tr>\n",
       "    <tr>\n",
       "      <th>std</th>\n",
       "      <td>0.008608</td>\n",
       "      <td>0.0</td>\n",
       "      <td>0.0</td>\n",
       "      <td>0.012030</td>\n",
       "      <td>0.028270</td>\n",
       "      <td>0.051571</td>\n",
       "      <td>0.016432</td>\n",
       "      <td>0.0</td>\n",
       "      <td>0.0</td>\n",
       "      <td>0.013173</td>\n",
       "      <td>...</td>\n",
       "      <td>0.014544</td>\n",
       "      <td>0.094976</td>\n",
       "      <td>0.0</td>\n",
       "      <td>0.122134</td>\n",
       "      <td>0.0</td>\n",
       "      <td>0.014617</td>\n",
       "      <td>0.262505</td>\n",
       "      <td>0.006056</td>\n",
       "      <td>0.046455</td>\n",
       "      <td>0.0</td>\n",
       "    </tr>\n",
       "    <tr>\n",
       "      <th>min</th>\n",
       "      <td>0.000000</td>\n",
       "      <td>0.0</td>\n",
       "      <td>0.0</td>\n",
       "      <td>0.000000</td>\n",
       "      <td>0.000000</td>\n",
       "      <td>0.000000</td>\n",
       "      <td>0.000000</td>\n",
       "      <td>0.0</td>\n",
       "      <td>0.0</td>\n",
       "      <td>0.000000</td>\n",
       "      <td>...</td>\n",
       "      <td>0.000000</td>\n",
       "      <td>0.000000</td>\n",
       "      <td>0.0</td>\n",
       "      <td>0.000000</td>\n",
       "      <td>0.0</td>\n",
       "      <td>0.000000</td>\n",
       "      <td>0.000000</td>\n",
       "      <td>0.000000</td>\n",
       "      <td>0.000000</td>\n",
       "      <td>0.0</td>\n",
       "    </tr>\n",
       "    <tr>\n",
       "      <th>25%</th>\n",
       "      <td>0.000000</td>\n",
       "      <td>0.0</td>\n",
       "      <td>0.0</td>\n",
       "      <td>0.000000</td>\n",
       "      <td>0.000000</td>\n",
       "      <td>0.000000</td>\n",
       "      <td>0.000000</td>\n",
       "      <td>0.0</td>\n",
       "      <td>0.0</td>\n",
       "      <td>0.000000</td>\n",
       "      <td>...</td>\n",
       "      <td>0.000000</td>\n",
       "      <td>0.000000</td>\n",
       "      <td>0.0</td>\n",
       "      <td>0.000000</td>\n",
       "      <td>0.0</td>\n",
       "      <td>0.000000</td>\n",
       "      <td>0.000000</td>\n",
       "      <td>0.000000</td>\n",
       "      <td>0.000000</td>\n",
       "      <td>0.0</td>\n",
       "    </tr>\n",
       "    <tr>\n",
       "      <th>50%</th>\n",
       "      <td>0.000000</td>\n",
       "      <td>0.0</td>\n",
       "      <td>0.0</td>\n",
       "      <td>0.000000</td>\n",
       "      <td>0.000000</td>\n",
       "      <td>0.000000</td>\n",
       "      <td>0.000000</td>\n",
       "      <td>0.0</td>\n",
       "      <td>0.0</td>\n",
       "      <td>0.000000</td>\n",
       "      <td>...</td>\n",
       "      <td>0.000000</td>\n",
       "      <td>0.000000</td>\n",
       "      <td>0.0</td>\n",
       "      <td>0.000000</td>\n",
       "      <td>0.0</td>\n",
       "      <td>0.000000</td>\n",
       "      <td>0.000000</td>\n",
       "      <td>0.000000</td>\n",
       "      <td>0.000000</td>\n",
       "      <td>0.0</td>\n",
       "    </tr>\n",
       "    <tr>\n",
       "      <th>75%</th>\n",
       "      <td>0.000000</td>\n",
       "      <td>0.0</td>\n",
       "      <td>0.0</td>\n",
       "      <td>0.000000</td>\n",
       "      <td>0.000000</td>\n",
       "      <td>0.000000</td>\n",
       "      <td>0.000000</td>\n",
       "      <td>0.0</td>\n",
       "      <td>0.0</td>\n",
       "      <td>0.000000</td>\n",
       "      <td>...</td>\n",
       "      <td>0.000000</td>\n",
       "      <td>0.000000</td>\n",
       "      <td>0.0</td>\n",
       "      <td>0.144202</td>\n",
       "      <td>0.0</td>\n",
       "      <td>0.000000</td>\n",
       "      <td>0.226478</td>\n",
       "      <td>0.000000</td>\n",
       "      <td>0.000000</td>\n",
       "      <td>0.0</td>\n",
       "    </tr>\n",
       "    <tr>\n",
       "      <th>max</th>\n",
       "      <td>0.148561</td>\n",
       "      <td>0.0</td>\n",
       "      <td>0.0</td>\n",
       "      <td>0.187316</td>\n",
       "      <td>0.261796</td>\n",
       "      <td>0.672730</td>\n",
       "      <td>0.354625</td>\n",
       "      <td>0.0</td>\n",
       "      <td>0.0</td>\n",
       "      <td>0.201148</td>\n",
       "      <td>...</td>\n",
       "      <td>0.272276</td>\n",
       "      <td>0.613001</td>\n",
       "      <td>0.0</td>\n",
       "      <td>0.589839</td>\n",
       "      <td>0.0</td>\n",
       "      <td>0.160001</td>\n",
       "      <td>0.977520</td>\n",
       "      <td>0.145337</td>\n",
       "      <td>0.402184</td>\n",
       "      <td>0.0</td>\n",
       "    </tr>\n",
       "  </tbody>\n",
       "</table>\n",
       "<p>8 rows × 503 columns</p>\n",
       "</div>"
      ],
      "text/plain": [
       "              0      1      2           3           4           5    \\\n",
       "count  576.000000  576.0  576.0  576.000000  576.000000  576.000000   \n",
       "mean     0.000508    0.0    0.0    0.000861    0.004601    0.009568   \n",
       "std      0.008608    0.0    0.0    0.012030    0.028270    0.051571   \n",
       "min      0.000000    0.0    0.0    0.000000    0.000000    0.000000   \n",
       "25%      0.000000    0.0    0.0    0.000000    0.000000    0.000000   \n",
       "50%      0.000000    0.0    0.0    0.000000    0.000000    0.000000   \n",
       "75%      0.000000    0.0    0.0    0.000000    0.000000    0.000000   \n",
       "max      0.148561    0.0    0.0    0.187316    0.261796    0.672730   \n",
       "\n",
       "              6      7      8           9    ...         493         494  \\\n",
       "count  576.000000  576.0  576.0  576.000000  ...  576.000000  576.000000   \n",
       "mean     0.000916    0.0    0.0    0.001197  ...    0.001010    0.037237   \n",
       "std      0.016432    0.0    0.0    0.013173  ...    0.014544    0.094976   \n",
       "min      0.000000    0.0    0.0    0.000000  ...    0.000000    0.000000   \n",
       "25%      0.000000    0.0    0.0    0.000000  ...    0.000000    0.000000   \n",
       "50%      0.000000    0.0    0.0    0.000000  ...    0.000000    0.000000   \n",
       "75%      0.000000    0.0    0.0    0.000000  ...    0.000000    0.000000   \n",
       "max      0.354625    0.0    0.0    0.201148  ...    0.272276    0.613001   \n",
       "\n",
       "         495         496    497         498         499         500  \\\n",
       "count  576.0  576.000000  576.0  576.000000  576.000000  576.000000   \n",
       "mean     0.0    0.078183    0.0    0.001716    0.163196    0.000252   \n",
       "std      0.0    0.122134    0.0    0.014617    0.262505    0.006056   \n",
       "min      0.0    0.000000    0.0    0.000000    0.000000    0.000000   \n",
       "25%      0.0    0.000000    0.0    0.000000    0.000000    0.000000   \n",
       "50%      0.0    0.000000    0.0    0.000000    0.000000    0.000000   \n",
       "75%      0.0    0.144202    0.0    0.000000    0.226478    0.000000   \n",
       "max      0.0    0.589839    0.0    0.160001    0.977520    0.145337   \n",
       "\n",
       "              501    502  \n",
       "count  576.000000  576.0  \n",
       "mean     0.009215    0.0  \n",
       "std      0.046455    0.0  \n",
       "min      0.000000    0.0  \n",
       "25%      0.000000    0.0  \n",
       "50%      0.000000    0.0  \n",
       "75%      0.000000    0.0  \n",
       "max      0.402184    0.0  \n",
       "\n",
       "[8 rows x 503 columns]"
      ]
     },
     "execution_count": 114,
     "metadata": {},
     "output_type": "execute_result"
    }
   ],
   "source": [
    "import pandas as pd\n",
    "\n",
    "pd.DataFrame(X).describe()"
   ]
  },
  {
   "cell_type": "code",
   "execution_count": 115,
   "metadata": {},
   "outputs": [],
   "source": [
    "from sklearn.preprocessing import scale"
   ]
  },
  {
   "cell_type": "code",
   "execution_count": 118,
   "metadata": {},
   "outputs": [],
   "source": [
    "T = load_npz('balse/tag-matrix.npz').tocsc()\n",
    "\n",
    "T_scaled = scale(T, with_mean=False).toarray()"
   ]
  },
  {
   "cell_type": "code",
   "execution_count": 119,
   "metadata": {},
   "outputs": [
    {
     "data": {
      "text/html": [
       "<div>\n",
       "<style scoped>\n",
       "    .dataframe tbody tr th:only-of-type {\n",
       "        vertical-align: middle;\n",
       "    }\n",
       "\n",
       "    .dataframe tbody tr th {\n",
       "        vertical-align: top;\n",
       "    }\n",
       "\n",
       "    .dataframe thead th {\n",
       "        text-align: right;\n",
       "    }\n",
       "</style>\n",
       "<table border=\"1\" class=\"dataframe\">\n",
       "  <thead>\n",
       "    <tr style=\"text-align: right;\">\n",
       "      <th></th>\n",
       "      <th>0</th>\n",
       "      <th>1</th>\n",
       "      <th>2</th>\n",
       "      <th>3</th>\n",
       "      <th>4</th>\n",
       "      <th>5</th>\n",
       "      <th>6</th>\n",
       "      <th>7</th>\n",
       "      <th>8</th>\n",
       "      <th>9</th>\n",
       "      <th>...</th>\n",
       "      <th>493</th>\n",
       "      <th>494</th>\n",
       "      <th>495</th>\n",
       "      <th>496</th>\n",
       "      <th>497</th>\n",
       "      <th>498</th>\n",
       "      <th>499</th>\n",
       "      <th>500</th>\n",
       "      <th>501</th>\n",
       "      <th>502</th>\n",
       "    </tr>\n",
       "  </thead>\n",
       "  <tbody>\n",
       "    <tr>\n",
       "      <th>count</th>\n",
       "      <td>9979.000000</td>\n",
       "      <td>9979.000000</td>\n",
       "      <td>9979.000000</td>\n",
       "      <td>9979.000000</td>\n",
       "      <td>9979.000000</td>\n",
       "      <td>9979.000000</td>\n",
       "      <td>9979.000000</td>\n",
       "      <td>9979.000000</td>\n",
       "      <td>9979.000000</td>\n",
       "      <td>9979.000000</td>\n",
       "      <td>...</td>\n",
       "      <td>9979.000000</td>\n",
       "      <td>9979.000000</td>\n",
       "      <td>9979.000000</td>\n",
       "      <td>9979.000000</td>\n",
       "      <td>9979.000000</td>\n",
       "      <td>9979.000000</td>\n",
       "      <td>9979.000000</td>\n",
       "      <td>9979.000000</td>\n",
       "      <td>9979.000000</td>\n",
       "      <td>9979.000000</td>\n",
       "    </tr>\n",
       "    <tr>\n",
       "      <th>mean</th>\n",
       "      <td>0.077391</td>\n",
       "      <td>0.064496</td>\n",
       "      <td>0.029625</td>\n",
       "      <td>0.062945</td>\n",
       "      <td>0.147526</td>\n",
       "      <td>0.118658</td>\n",
       "      <td>0.115532</td>\n",
       "      <td>0.053023</td>\n",
       "      <td>0.053156</td>\n",
       "      <td>0.055945</td>\n",
       "      <td>...</td>\n",
       "      <td>0.045868</td>\n",
       "      <td>0.365048</td>\n",
       "      <td>0.034357</td>\n",
       "      <td>0.573917</td>\n",
       "      <td>0.022276</td>\n",
       "      <td>0.090193</td>\n",
       "      <td>0.444577</td>\n",
       "      <td>0.054849</td>\n",
       "      <td>0.167244</td>\n",
       "      <td>0.029889</td>\n",
       "    </tr>\n",
       "    <tr>\n",
       "      <th>std</th>\n",
       "      <td>1.000050</td>\n",
       "      <td>1.000050</td>\n",
       "      <td>1.000050</td>\n",
       "      <td>1.000050</td>\n",
       "      <td>1.000050</td>\n",
       "      <td>1.000050</td>\n",
       "      <td>1.000050</td>\n",
       "      <td>1.000050</td>\n",
       "      <td>1.000050</td>\n",
       "      <td>1.000050</td>\n",
       "      <td>...</td>\n",
       "      <td>1.000050</td>\n",
       "      <td>1.000050</td>\n",
       "      <td>1.000050</td>\n",
       "      <td>1.000050</td>\n",
       "      <td>1.000050</td>\n",
       "      <td>1.000050</td>\n",
       "      <td>1.000050</td>\n",
       "      <td>1.000050</td>\n",
       "      <td>1.000050</td>\n",
       "      <td>1.000050</td>\n",
       "    </tr>\n",
       "    <tr>\n",
       "      <th>min</th>\n",
       "      <td>0.000000</td>\n",
       "      <td>0.000000</td>\n",
       "      <td>0.000000</td>\n",
       "      <td>0.000000</td>\n",
       "      <td>0.000000</td>\n",
       "      <td>0.000000</td>\n",
       "      <td>0.000000</td>\n",
       "      <td>0.000000</td>\n",
       "      <td>0.000000</td>\n",
       "      <td>0.000000</td>\n",
       "      <td>...</td>\n",
       "      <td>0.000000</td>\n",
       "      <td>0.000000</td>\n",
       "      <td>0.000000</td>\n",
       "      <td>0.000000</td>\n",
       "      <td>0.000000</td>\n",
       "      <td>0.000000</td>\n",
       "      <td>0.000000</td>\n",
       "      <td>0.000000</td>\n",
       "      <td>0.000000</td>\n",
       "      <td>0.000000</td>\n",
       "    </tr>\n",
       "    <tr>\n",
       "      <th>25%</th>\n",
       "      <td>0.000000</td>\n",
       "      <td>0.000000</td>\n",
       "      <td>0.000000</td>\n",
       "      <td>0.000000</td>\n",
       "      <td>0.000000</td>\n",
       "      <td>0.000000</td>\n",
       "      <td>0.000000</td>\n",
       "      <td>0.000000</td>\n",
       "      <td>0.000000</td>\n",
       "      <td>0.000000</td>\n",
       "      <td>...</td>\n",
       "      <td>0.000000</td>\n",
       "      <td>0.000000</td>\n",
       "      <td>0.000000</td>\n",
       "      <td>0.000000</td>\n",
       "      <td>0.000000</td>\n",
       "      <td>0.000000</td>\n",
       "      <td>0.000000</td>\n",
       "      <td>0.000000</td>\n",
       "      <td>0.000000</td>\n",
       "      <td>0.000000</td>\n",
       "    </tr>\n",
       "    <tr>\n",
       "      <th>50%</th>\n",
       "      <td>0.000000</td>\n",
       "      <td>0.000000</td>\n",
       "      <td>0.000000</td>\n",
       "      <td>0.000000</td>\n",
       "      <td>0.000000</td>\n",
       "      <td>0.000000</td>\n",
       "      <td>0.000000</td>\n",
       "      <td>0.000000</td>\n",
       "      <td>0.000000</td>\n",
       "      <td>0.000000</td>\n",
       "      <td>...</td>\n",
       "      <td>0.000000</td>\n",
       "      <td>0.000000</td>\n",
       "      <td>0.000000</td>\n",
       "      <td>0.000000</td>\n",
       "      <td>0.000000</td>\n",
       "      <td>0.000000</td>\n",
       "      <td>0.000000</td>\n",
       "      <td>0.000000</td>\n",
       "      <td>0.000000</td>\n",
       "      <td>0.000000</td>\n",
       "    </tr>\n",
       "    <tr>\n",
       "      <th>75%</th>\n",
       "      <td>0.000000</td>\n",
       "      <td>0.000000</td>\n",
       "      <td>0.000000</td>\n",
       "      <td>0.000000</td>\n",
       "      <td>0.000000</td>\n",
       "      <td>0.000000</td>\n",
       "      <td>0.000000</td>\n",
       "      <td>0.000000</td>\n",
       "      <td>0.000000</td>\n",
       "      <td>0.000000</td>\n",
       "      <td>...</td>\n",
       "      <td>0.000000</td>\n",
       "      <td>0.000000</td>\n",
       "      <td>0.000000</td>\n",
       "      <td>1.019408</td>\n",
       "      <td>0.000000</td>\n",
       "      <td>0.000000</td>\n",
       "      <td>0.000000</td>\n",
       "      <td>0.000000</td>\n",
       "      <td>0.000000</td>\n",
       "      <td>0.000000</td>\n",
       "    </tr>\n",
       "    <tr>\n",
       "      <th>max</th>\n",
       "      <td>26.930387</td>\n",
       "      <td>43.694078</td>\n",
       "      <td>71.503854</td>\n",
       "      <td>35.342468</td>\n",
       "      <td>19.360872</td>\n",
       "      <td>22.170038</td>\n",
       "      <td>17.854825</td>\n",
       "      <td>41.147965</td>\n",
       "      <td>37.656628</td>\n",
       "      <td>56.971444</td>\n",
       "      <td>...</td>\n",
       "      <td>41.718319</td>\n",
       "      <td>10.948340</td>\n",
       "      <td>35.789230</td>\n",
       "      <td>7.059311</td>\n",
       "      <td>53.094488</td>\n",
       "      <td>30.100662</td>\n",
       "      <td>4.873251</td>\n",
       "      <td>35.040532</td>\n",
       "      <td>19.993384</td>\n",
       "      <td>65.086900</td>\n",
       "    </tr>\n",
       "  </tbody>\n",
       "</table>\n",
       "<p>8 rows × 503 columns</p>\n",
       "</div>"
      ],
      "text/plain": [
       "               0            1            2            3            4    \\\n",
       "count  9979.000000  9979.000000  9979.000000  9979.000000  9979.000000   \n",
       "mean      0.077391     0.064496     0.029625     0.062945     0.147526   \n",
       "std       1.000050     1.000050     1.000050     1.000050     1.000050   \n",
       "min       0.000000     0.000000     0.000000     0.000000     0.000000   \n",
       "25%       0.000000     0.000000     0.000000     0.000000     0.000000   \n",
       "50%       0.000000     0.000000     0.000000     0.000000     0.000000   \n",
       "75%       0.000000     0.000000     0.000000     0.000000     0.000000   \n",
       "max      26.930387    43.694078    71.503854    35.342468    19.360872   \n",
       "\n",
       "               5            6            7            8            9    ...  \\\n",
       "count  9979.000000  9979.000000  9979.000000  9979.000000  9979.000000  ...   \n",
       "mean      0.118658     0.115532     0.053023     0.053156     0.055945  ...   \n",
       "std       1.000050     1.000050     1.000050     1.000050     1.000050  ...   \n",
       "min       0.000000     0.000000     0.000000     0.000000     0.000000  ...   \n",
       "25%       0.000000     0.000000     0.000000     0.000000     0.000000  ...   \n",
       "50%       0.000000     0.000000     0.000000     0.000000     0.000000  ...   \n",
       "75%       0.000000     0.000000     0.000000     0.000000     0.000000  ...   \n",
       "max      22.170038    17.854825    41.147965    37.656628    56.971444  ...   \n",
       "\n",
       "               493          494          495          496          497  \\\n",
       "count  9979.000000  9979.000000  9979.000000  9979.000000  9979.000000   \n",
       "mean      0.045868     0.365048     0.034357     0.573917     0.022276   \n",
       "std       1.000050     1.000050     1.000050     1.000050     1.000050   \n",
       "min       0.000000     0.000000     0.000000     0.000000     0.000000   \n",
       "25%       0.000000     0.000000     0.000000     0.000000     0.000000   \n",
       "50%       0.000000     0.000000     0.000000     0.000000     0.000000   \n",
       "75%       0.000000     0.000000     0.000000     1.019408     0.000000   \n",
       "max      41.718319    10.948340    35.789230     7.059311    53.094488   \n",
       "\n",
       "               498          499          500          501          502  \n",
       "count  9979.000000  9979.000000  9979.000000  9979.000000  9979.000000  \n",
       "mean      0.090193     0.444577     0.054849     0.167244     0.029889  \n",
       "std       1.000050     1.000050     1.000050     1.000050     1.000050  \n",
       "min       0.000000     0.000000     0.000000     0.000000     0.000000  \n",
       "25%       0.000000     0.000000     0.000000     0.000000     0.000000  \n",
       "50%       0.000000     0.000000     0.000000     0.000000     0.000000  \n",
       "75%       0.000000     0.000000     0.000000     0.000000     0.000000  \n",
       "max      30.100662     4.873251    35.040532    19.993384    65.086900  \n",
       "\n",
       "[8 rows x 503 columns]"
      ]
     },
     "execution_count": 119,
     "metadata": {},
     "output_type": "execute_result"
    }
   ],
   "source": [
    "pd.DataFrame(T_scaled).describe()"
   ]
  },
  {
   "cell_type": "code",
   "execution_count": 120,
   "metadata": {},
   "outputs": [
    {
     "data": {
      "text/plain": [
       "1.0000000000000002"
      ]
     },
     "execution_count": 120,
     "metadata": {},
     "output_type": "execute_result"
    }
   ],
   "source": [
    "np.std(T_scaled[:, 0].data)"
   ]
  },
  {
   "cell_type": "code",
   "execution_count": 121,
   "metadata": {},
   "outputs": [
    {
     "data": {
      "text/plain": [
       "1.0"
      ]
     },
     "execution_count": 121,
     "metadata": {},
     "output_type": "execute_result"
    }
   ],
   "source": [
    "np.std(T_scaled[:, 1].data)"
   ]
  },
  {
   "cell_type": "code",
   "execution_count": 123,
   "metadata": {},
   "outputs": [
    {
     "name": "stdout",
     "output_type": "stream",
     "text": [
      "[0.53579692 0.28810621 1.36760312 0.51826503 1.02910811 0.52778299\n",
      " 0.62646209 0.76114094 0.16673929 0.68977633]\n",
      "[ 0.5  0.5 -0.5  0.5  2.   2.   0.5  0.5  0.5  0.5]\n",
      "alpha 0.008124960514307696\n",
      "1.157232275932587\n"
     ]
    }
   ],
   "source": [
    "%%time\n",
    "from sklearn.linear_model import LinearRegression, Lasso, LassoLarsCV, LassoCV\n",
    "\n",
    "clf = LassoCV(cv=10, fit_intercept=False)\n",
    "# clf = Lasso(alpha=0.1, fit_intercept=False)\n",
    "clf.fit(X_train, y_train)\n",
    "y_pred = clf.predict(X_test)\n",
    "print(y_pred[:10])\n",
    "print(y_test[:10])\n",
    "print('alpha', clf.alpha_)\n",
    "print(als.compute_rmse(y_pred, y_test))"
   ]
  },
  {
   "cell_type": "code",
   "execution_count": 124,
   "metadata": {},
   "outputs": [
    {
     "name": "stdout",
     "output_type": "stream",
     "text": [
      "[0.72175926 0.72175926 0.72175926 0.72175926 0.72175926 0.72175926\n",
      " 0.72175926 0.72175926 0.72175926 0.72175926]\n",
      "[ 0.5  0.5 -0.5  0.5  2.   2.   0.5  0.5  0.5  0.5]\n",
      "0.7217592592592593\n",
      "1.1325206819273286\n",
      "CPU times: user 32.9 ms, sys: 5.12 ms, total: 38 ms\n",
      "Wall time: 11.7 ms\n"
     ]
    }
   ],
   "source": [
    "%%time\n",
    "from sklearn.linear_model import LinearRegression, Lasso, LassoLarsCV, LassoCV\n",
    "\n",
    "# clf = LassoCV(cv=10, fit_intercept=False)\n",
    "clf = Lasso(alpha=0.1, fit_intercept=True)\n",
    "clf.fit(X_train, y_train)\n",
    "y_pred = clf.predict(X_test)\n",
    "print(y_pred[:10])\n",
    "print(y_test[:10])\n",
    "# print('alpha', clf.alpha_)\n",
    "print(clf.intercept_)\n",
    "print(lasso.compute_rmse(y_pred, y_test))"
   ]
  },
  {
   "cell_type": "code",
   "execution_count": 125,
   "metadata": {},
   "outputs": [
    {
     "data": {
      "text/plain": [
       "0"
      ]
     },
     "execution_count": 125,
     "metadata": {},
     "output_type": "execute_result"
    }
   ],
   "source": [
    "sum(x < 0 for x in y_pred)"
   ]
  },
  {
   "cell_type": "code",
   "execution_count": 126,
   "metadata": {},
   "outputs": [
    {
     "data": {
      "text/plain": [
       "0.7217592592592593"
      ]
     },
     "execution_count": 126,
     "metadata": {},
     "output_type": "execute_result"
    }
   ],
   "source": [
    "clf.intercept_"
   ]
  },
  {
   "cell_type": "code",
   "execution_count": 127,
   "metadata": {},
   "outputs": [],
   "source": [
    "for i, (tag, weight) in enumerate(zip(tags, clf.coef_)):\n",
    "    if weight != 0:\n",
    "        print(i, tag.strip(), weight)"
   ]
  },
  {
   "cell_type": "code",
   "execution_count": 135,
   "metadata": {},
   "outputs": [
    {
     "data": {
      "text/plain": [
       "(9979, 503)"
      ]
     },
     "execution_count": 135,
     "metadata": {},
     "output_type": "execute_result"
    }
   ],
   "source": [
    "T.shape"
   ]
  },
  {
   "cell_type": "code",
   "execution_count": 136,
   "metadata": {},
   "outputs": [
    {
     "data": {
      "text/plain": [
       "<9979x503 sparse matrix of type '<class 'numpy.float64'>'\n",
       "\twith 210009 stored elements in Compressed Sparse Column format>"
      ]
     },
     "execution_count": 136,
     "metadata": {},
     "output_type": "execute_result"
    }
   ],
   "source": [
    "T"
   ]
  }
 ],
 "metadata": {
  "kernelspec": {
   "display_name": "Django Shell-Plus",
   "language": "python",
   "name": "django_extensions"
  },
  "language_info": {
   "codemirror_mode": {
    "name": "ipython",
    "version": 3
   },
   "file_extension": ".py",
   "mimetype": "text/x-python",
   "name": "python",
   "nbconvert_exporter": "python",
   "pygments_lexer": "ipython3",
   "version": "3.7.5"
  }
 },
 "nbformat": 4,
 "nbformat_minor": 2
}
