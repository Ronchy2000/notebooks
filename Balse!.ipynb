{
 "cells": [
  {
   "cell_type": "code",
   "execution_count": 1,
   "metadata": {
    "collapsed": true
   },
   "outputs": [],
   "source": [
    "from sklearn.model_selection import train_test_split"
   ]
  },
  {
   "cell_type": "code",
   "execution_count": 2,
   "metadata": {
    "collapsed": true
   },
   "outputs": [],
   "source": [
    "#from mangaki.utils.xals import MangakiXALS\n",
    "from mangaki.utils.als import MangakiALS\n",
    "from mangaki.utils.svd import MangakiSVD"
   ]
  },
  {
   "cell_type": "code",
   "execution_count": 3,
   "metadata": {
    "collapsed": true
   },
   "outputs": [],
   "source": [
    "from mangaki.utils.algo import get_dataset_backup\n",
    "from mangaki.utils.data import Dataset\n",
    "from mangaki.utils.values import rating_values\n",
    "\n",
    "dataset = Dataset()#get_dataset_backup('als')\n",
    "dataset.load_csv('balse/ratings.csv', convert=lambda x: rating_values[x])"
   ]
  },
  {
   "cell_type": "code",
   "execution_count": 4,
   "metadata": {
    "collapsed": true
   },
   "outputs": [],
   "source": [
    "svd = MangakiSVD(20)\n",
    "svd.set_parameters(dataset.anonymized.nb_users, dataset.anonymized.nb_works)\n",
    "\n",
    "i_train, i_test = train_test_split(range(len(dataset.anonymized.X)), test_size=0.2)"
   ]
  },
  {
   "cell_type": "code",
   "execution_count": 5,
   "metadata": {
    "collapsed": true
   },
   "outputs": [],
   "source": [
    "X_train = dataset.anonymized.X[i_train]\n",
    "y_train = dataset.anonymized.y[i_train]\n",
    "X_test = dataset.anonymized.X[i_test]\n",
    "y_test = dataset.anonymized.y[i_test]"
   ]
  },
  {
   "cell_type": "code",
   "execution_count": 6,
   "metadata": {},
   "outputs": [
    {
     "name": "stdout",
     "output_type": "stream",
     "text": [
      "Computing M: (2079 × 9979)\n"
     ]
    },
    {
     "name": "stderr",
     "output_type": "stream",
     "text": [
      "/Users/jilljenn/code/mangaki/mangaki/mangaki/utils/svd.py:36: RuntimeWarning: invalid value encountered in double_scalars\n",
      "  means[i] = np.sum(matrix[i]) / np.sum(matrix[i] != 0)\n"
     ]
    },
    {
     "name": "stdout",
     "output_type": "stream",
     "text": [
      "Chrono: fill and center matrix [0q, 1695ms]\n",
      "Shapes (2079, 20) (20,) (20, 9979)\n",
      "Chrono: factor matrix [0q, 796ms]\n",
      "Train error 1.07412581013\n",
      "Test error 1.18787297114\n"
     ]
    }
   ],
   "source": [
    "#svd.fit(dataset.anonymized.X[i_train], dataset.anonymized.y[i_train])\n",
    "svd.all_errors(X_train, X_test, y_train, y_test)"
   ]
  },
  {
   "cell_type": "code",
   "execution_count": 7,
   "metadata": {},
   "outputs": [
    {
     "name": "stdout",
     "output_type": "stream",
     "text": [
      "Computing M: (2079 × 9979)\n",
      "Chrono: fill and center matrix [0q, 1612ms]\n",
      "Shapes (2079, 10) (10, 9979)\n",
      "Chrono: factor matrix [0q, 6120ms]\n",
      "Train error 0.971194682514\n",
      "Test error 1.17177467628\n"
     ]
    }
   ],
   "source": [
    "als = MangakiALS(10, LAMBDA=0.1)\n",
    "als.set_parameters(dataset.anonymized.nb_users, dataset.anonymized.nb_works)\n",
    "\n",
    "#als.fit(dataset.anonymized.X[i_train], dataset.anonymized.y[i_train])\n",
    "als.all_errors(X_train, X_test, y_train, y_test)"
   ]
  },
  {
   "cell_type": "code",
   "execution_count": 8,
   "metadata": {
    "collapsed": true
   },
   "outputs": [],
   "source": [
    "y_train_pred = als.predict(X_train)"
   ]
  },
  {
   "cell_type": "code",
   "execution_count": 9,
   "metadata": {
    "collapsed": true
   },
   "outputs": [],
   "source": [
    "from scipy.sparse import coo_matrix\n",
    "\n",
    "nb_users = dataset.anonymized.nb_users\n",
    "nb_works = dataset.anonymized.nb_works\n",
    "row = X_train[:, 0]\n",
    "col = X_train[:, 1]\n",
    "data = y_train - y_train_pred\n",
    "M_res = coo_matrix((data, (row, col)), shape=(nb_users, nb_works)).tocsr()"
   ]
  },
  {
   "cell_type": "code",
   "execution_count": 10,
   "metadata": {
    "collapsed": true
   },
   "outputs": [],
   "source": [
    "user_ids = sorted(set(row))"
   ]
  },
  {
   "cell_type": "code",
   "execution_count": 11,
   "metadata": {
    "collapsed": true
   },
   "outputs": [],
   "source": [
    "from mangaki.utils.balse import MangakiBALSE\n",
    "from scipy.sparse import load_npz\n",
    "\n",
    "T = load_npz('../data/balse/tag-matrix.npz').toarray()"
   ]
  },
  {
   "cell_type": "code",
   "execution_count": 473,
   "metadata": {},
   "outputs": [
    {
     "name": "stdout",
     "output_type": "stream",
     "text": [
      "0\n",
      "100\n",
      "200\n",
      "300\n",
      "400\n"
     ]
    },
    {
     "name": "stderr",
     "output_type": "stream",
     "text": [
      "/Users/jilljenn/code/mangaki/venv/lib/python3.6/site-packages/sklearn/linear_model/coordinate_descent.py:484: ConvergenceWarning: Objective did not converge. You might want to increase the number of iterations. Fitting data with very small alpha may cause precision problems.\n",
      "  ConvergenceWarning)\n"
     ]
    },
    {
     "name": "stdout",
     "output_type": "stream",
     "text": [
      "500\n",
      "600\n",
      "700\n",
      "800\n",
      "900\n",
      "1000\n",
      "1100\n",
      "1200\n",
      "1300\n",
      "1400\n",
      "1500\n",
      "1600\n",
      "1800\n",
      "1900\n",
      "2000\n"
     ]
    }
   ],
   "source": [
    "from collections import defaultdict\n",
    "\n",
    "reg = defaultdict(lambda: Lasso(alpha=0.01, normalize=True))\n",
    "for user_id in user_ids:\n",
    "    indices = M_res[user_id].indices\n",
    "    values = M_res[user_id].data\n",
    "    reg[user_id].fit(T[indices], values)\n",
    "    if user_id % 100 == 0:\n",
    "        print(user_id)"
   ]
  },
  {
   "cell_type": "code",
   "execution_count": 474,
   "metadata": {},
   "outputs": [
    {
     "data": {
      "text/plain": [
       "<1x9979 sparse matrix of type '<class 'numpy.float64'>'\n",
       "\twith 78 stored elements in Compressed Sparse Row format>"
      ]
     },
     "execution_count": 474,
     "metadata": {},
     "output_type": "execute_result"
    }
   ],
   "source": [
    "M_res.tocsr()[0, :]"
   ]
  },
  {
   "cell_type": "code",
   "execution_count": 475,
   "metadata": {
    "collapsed": true
   },
   "outputs": [],
   "source": [
    "from sklearn.linear_model import LinearRegression"
   ]
  },
  {
   "cell_type": "code",
   "execution_count": 476,
   "metadata": {},
   "outputs": [
    {
     "name": "stdout",
     "output_type": "stream",
     "text": [
      "742 not\n",
      "1966 not\n",
      "1040 not\n",
      "1177 not\n",
      "819 not\n",
      "819 not\n",
      "193 not\n",
      "492 not\n",
      "887 not\n",
      "262 not\n",
      "963 not\n",
      "670 not\n",
      "1700 not\n"
     ]
    }
   ],
   "source": [
    "#M_pred = T.dot(W.T).T\n",
    "#M_pred[user_id][work_id]\n",
    "y_delta_res = []\n",
    "for user_id, work_id in X_tmp_test:\n",
    "    if user_id not in reg:\n",
    "        print(user_id, 'not')\n",
    "        y_delta_res.append(0)\n",
    "    else:\n",
    "        y_delta_res.append(reg[user_id].predict(T[work_id].reshape(1, -1))[0])"
   ]
  },
  {
   "cell_type": "code",
   "execution_count": 508,
   "metadata": {
    "collapsed": true
   },
   "outputs": [],
   "source": [
    "y_delta_repaired = list(map(relu, y_delta_res))"
   ]
  },
  {
   "cell_type": "code",
   "execution_count": 509,
   "metadata": {},
   "outputs": [
    {
     "name": "stdout",
     "output_type": "stream",
     "text": [
      "Test error 1.65421868781\n"
     ]
    }
   ],
   "source": [
    "print('Test error', als.compute_rmse(y_pred + y_delta_res, y_tmp_test))"
   ]
  },
  {
   "cell_type": "markdown",
   "metadata": {},
   "source": [
    "# LOL"
   ]
  },
  {
   "cell_type": "code",
   "execution_count": 27,
   "metadata": {},
   "outputs": [
    {
     "name": "stdout",
     "output_type": "stream",
     "text": [
      "890 not\n",
      "588 not\n",
      "1001 not\n",
      "866 not\n",
      "660 not\n",
      "1793 not\n",
      "866 not\n",
      "706 not\n",
      "1887 not\n",
      "492 not\n",
      "868 not\n",
      "1392 not\n",
      "521 not\n",
      "521 not\n"
     ]
    }
   ],
   "source": [
    "y_pred = als.predict(X_tmp_test)\n",
    "y_new_pred = lasso.predict(X_tmp_test)"
   ]
  },
  {
   "cell_type": "code",
   "execution_count": 31,
   "metadata": {},
   "outputs": [
    {
     "name": "stdout",
     "output_type": "stream",
     "text": [
      "Test error 1.43614387293\n"
     ]
    }
   ],
   "source": [
    "WINDOW = 1000\n",
    "print('Test error', als.compute_rmse(y_als[-WINDOW:], y_tmp_test[-WINDOW:]))"
   ]
  },
  {
   "cell_type": "code",
   "execution_count": 32,
   "metadata": {},
   "outputs": [
    {
     "name": "stdout",
     "output_type": "stream",
     "text": [
      "Test error 1.32868339917\n"
     ]
    }
   ],
   "source": [
    "y_new_pred = pred.eval()\n",
    "print('Test error', als.compute_rmse(y_new_pred[-WINDOW:], y_tmp_test[-WINDOW:]))"
   ]
  },
  {
   "cell_type": "code",
   "execution_count": 33,
   "metadata": {},
   "outputs": [
    {
     "name": "stdout",
     "output_type": "stream",
     "text": [
      "Test error 1.35420649756\n"
     ]
    }
   ],
   "source": [
    "print('Test error', als.compute_rmse(y_lasso[-WINDOW:], y_tmp_test[-WINDOW:]))"
   ]
  },
  {
   "cell_type": "code",
   "execution_count": 77,
   "metadata": {},
   "outputs": [
    {
     "name": "stdout",
     "output_type": "stream",
     "text": [
      "104 not\n",
      "160 not\n",
      "687 not\n",
      "1263 not\n",
      "159 not\n",
      "1887 not\n",
      "492 not\n",
      "352 not\n",
      "521 not\n",
      "1460 not\n",
      "521 not\n",
      "491 not\n",
      "352 not\n",
      "1584 not\n",
      "2002 not\n",
      "Test error 1.2935313945\n"
     ]
    }
   ],
   "source": [
    "y_balse = balse.predict(X_tmp_test)\n",
    "print('Test error', als.compute_rmse(y_balse[-WINDOW:], y_tmp_test[-WINDOW:]))"
   ]
  },
  {
   "cell_type": "code",
   "execution_count": 54,
   "metadata": {},
   "outputs": [
    {
     "data": {
      "text/plain": [
       "6"
      ]
     },
     "execution_count": 54,
     "metadata": {},
     "output_type": "execute_result"
    }
   ],
   "source": [
    "nb_rated[X_tmp_test[-3000][1]]"
   ]
  },
  {
   "cell_type": "code",
   "execution_count": 55,
   "metadata": {},
   "outputs": [
    {
     "data": {
      "text/plain": [
       "66878"
      ]
     },
     "execution_count": 55,
     "metadata": {},
     "output_type": "execute_result"
    }
   ],
   "source": [
    "len(X_tmp_test)"
   ]
  },
  {
   "cell_type": "code",
   "execution_count": 15,
   "metadata": {
    "collapsed": true
   },
   "outputs": [],
   "source": [
    "from collections import Counter\n",
    "\n",
    "nb_ratings = Counter(dataset.anonymized.X[:, 0])\n",
    "nb_rated = Counter(dataset.anonymized.X[:, 1])"
   ]
  },
  {
   "cell_type": "code",
   "execution_count": 20,
   "metadata": {},
   "outputs": [
    {
     "data": {
      "text/plain": [
       "[(1855, 3059), (1046, 2912), (93, 2483), (1306, 2151), (1502, 2017)]"
      ]
     },
     "execution_count": 20,
     "metadata": {},
     "output_type": "execute_result"
    }
   ],
   "source": [
    "nb_ratings.most_common(5)"
   ]
  },
  {
   "cell_type": "code",
   "execution_count": 385,
   "metadata": {},
   "outputs": [
    {
     "name": "stdout",
     "output_type": "stream",
     "text": [
      "2320\n",
      "592\n"
     ]
    }
   ],
   "source": [
    "PIG = 1046\n",
    "print(list(X_train[:, 0]).count(PIG))\n",
    "print(list(X_tmp_test[:, 0]).count(PIG))"
   ]
  },
  {
   "cell_type": "code",
   "execution_count": 68,
   "metadata": {
    "collapsed": true
   },
   "outputs": [],
   "source": [
    "from scipy.sparse import coo_matrix\n",
    "\n",
    "nb_users = dataset.anonymized.nb_users\n",
    "nb_works = dataset.anonymized.nb_works\n",
    "row = X_train[:, 0]\n",
    "col = X_train[:, 1]\n",
    "data = y_train\n",
    "M = coo_matrix((data, (row, col)), shape=(nb_users, nb_works)).tocsr()"
   ]
  },
  {
   "cell_type": "code",
   "execution_count": 386,
   "metadata": {},
   "outputs": [
    {
     "data": {
      "text/plain": [
       "2320"
      ]
     },
     "execution_count": 386,
     "metadata": {},
     "output_type": "execute_result"
    }
   ],
   "source": [
    "len(M[PIG].data)"
   ]
  },
  {
   "cell_type": "code",
   "execution_count": 71,
   "metadata": {
    "collapsed": true
   },
   "outputs": [],
   "source": [
    "from scipy.sparse import coo_matrix\n",
    "\n",
    "nb_users = dataset.anonymized.nb_users\n",
    "nb_works = dataset.anonymized.nb_works\n",
    "row = X_test[:, 0]\n",
    "col = X_test[:, 1]\n",
    "data = y_test\n",
    "secret = coo_matrix((data, (row, col)), shape=(nb_users, nb_works)).tocsr()"
   ]
  },
  {
   "cell_type": "code",
   "execution_count": 387,
   "metadata": {},
   "outputs": [
    {
     "data": {
      "text/plain": [
       "592"
      ]
     },
     "execution_count": 387,
     "metadata": {},
     "output_type": "execute_result"
    }
   ],
   "source": [
    "len(secret[PIG].data)"
   ]
  },
  {
   "cell_type": "code",
   "execution_count": 506,
   "metadata": {
    "collapsed": true
   },
   "outputs": [],
   "source": [
    "def relu(x):\n",
    "    return max(-1, min(1, x))\n",
    "\n",
    "def ident(x):\n",
    "    return x"
   ]
  },
  {
   "cell_type": "code",
   "execution_count": 507,
   "metadata": {},
   "outputs": [
    {
     "data": {
      "text/plain": [
       "Counter({-1.1676416399158847: 1,\n",
       "         -1.1491829435443137: 1,\n",
       "         -0.84148292472221797: 1,\n",
       "         -0.03462047782438793: 1,\n",
       "         0.076723814485728292: 1,\n",
       "         0.078985447331703318: 1,\n",
       "         0.083188059369782685: 1,\n",
       "         0.10461310060452478: 1,\n",
       "         0.25036640623481432: 1,\n",
       "         0.25076801234805934: 1,\n",
       "         0.25731148325268571: 1,\n",
       "         0.285844308136046: 1,\n",
       "         0.30371543334555895: 1,\n",
       "         0.31767885177443378: 1,\n",
       "         0.36010121626691483: 1,\n",
       "         0.47885700830795197: 1})"
      ]
     },
     "execution_count": 507,
     "metadata": {},
     "output_type": "execute_result"
    }
   ],
   "source": [
    "Counter(values)"
   ]
  },
  {
   "cell_type": "code",
   "execution_count": 429,
   "metadata": {
    "collapsed": true
   },
   "outputs": [],
   "source": [
    "from sklearn.linear_model import Lasso, ElasticNet\n",
    "\n",
    "reg = Lasso(alpha=0.001, normalize=True)\n",
    "for user_id in [PIG]:\n",
    "    i2 = []\n",
    "    v2 = []\n",
    "    indices = M[user_id].indices\n",
    "    values = M[user_id].data\n",
    "    for i, v in zip(indices, values):\n",
    "        if v != -0.5:\n",
    "            i2.append(i)\n",
    "            v2.append(v)\n",
    "    reg.fit(T[indices], values)"
   ]
  },
  {
   "cell_type": "code",
   "execution_count": 430,
   "metadata": {
    "collapsed": true
   },
   "outputs": [],
   "source": [
    "for user_id in [PIG]:\n",
    "    indices = secret[user_id].indices\n",
    "    y_pred_lr = list(map(ident, reg.predict(T[indices])))\n",
    "    special = []\n",
    "    y_special = []\n",
    "    for work_id in indices:\n",
    "        if nb_rated[work_id] < 3:\n",
    "            special.append(work_id)\n",
    "            y_special.append(secret[user_id, work_id])"
   ]
  },
  {
   "cell_type": "code",
   "execution_count": 442,
   "metadata": {
    "collapsed": true
   },
   "outputs": [],
   "source": [
    "y_als = als.predict(np.array([(PIG, work_id) for work_id in special]))"
   ]
  },
  {
   "cell_type": "code",
   "execution_count": 443,
   "metadata": {},
   "outputs": [
    {
     "data": {
      "text/plain": [
       "Counter({-2.0: 8, -0.5: 46, 0.1: 1, 0.5: 4, 2.0: 17})"
      ]
     },
     "execution_count": 443,
     "metadata": {},
     "output_type": "execute_result"
    }
   ],
   "source": [
    "Counter(y_special)"
   ]
  },
  {
   "cell_type": "code",
   "execution_count": 444,
   "metadata": {
    "collapsed": true
   },
   "outputs": [],
   "source": [
    "y_true = secret[user_id].data"
   ]
  },
  {
   "cell_type": "code",
   "execution_count": 445,
   "metadata": {},
   "outputs": [
    {
     "data": {
      "text/plain": [
       "Counter({-2.0: 53, -0.5: 277, 0.1: 32, 0.5: 52, 2.0: 178})"
      ]
     },
     "execution_count": 445,
     "metadata": {},
     "output_type": "execute_result"
    }
   ],
   "source": [
    "Counter(y_true)"
   ]
  },
  {
   "cell_type": "code",
   "execution_count": 446,
   "metadata": {},
   "outputs": [
    {
     "data": {
      "text/plain": [
       "1.2279867191521727"
      ]
     },
     "execution_count": 446,
     "metadata": {},
     "output_type": "execute_result"
    }
   ],
   "source": [
    "#als.compute_rmse(y_als, y_true)\n",
    "als.compute_rmse(y_als, y_special)"
   ]
  },
  {
   "cell_type": "code",
   "execution_count": 447,
   "metadata": {},
   "outputs": [
    {
     "data": {
      "text/plain": [
       "array([ 0.01197922,  0.01197922,  0.01197922,  0.01197922,  0.01197922,\n",
       "        1.5850158 ,  0.01197922,  0.01197922,  0.01197922,  0.64119385])"
      ]
     },
     "execution_count": 447,
     "metadata": {},
     "output_type": "execute_result"
    }
   ],
   "source": [
    "y_als[:10]"
   ]
  },
  {
   "cell_type": "code",
   "execution_count": 448,
   "metadata": {
    "collapsed": true
   },
   "outputs": [],
   "source": [
    "y_lr_special = reg.predict(T[special])"
   ]
  },
  {
   "cell_type": "code",
   "execution_count": 449,
   "metadata": {},
   "outputs": [
    {
     "data": {
      "text/plain": [
       "1.1685289466230184"
      ]
     },
     "execution_count": 449,
     "metadata": {},
     "output_type": "execute_result"
    }
   ],
   "source": [
    "#als.compute_rmse(y_pred_lr, y_true)\n",
    "als.compute_rmse(y_lr_special, y_special)"
   ]
  },
  {
   "cell_type": "code",
   "execution_count": 450,
   "metadata": {},
   "outputs": [
    {
     "data": {
      "text/plain": [
       "[-0.5, -0.5, -2.0, -2.0, -0.5, 2.0, -0.5, -0.5, -0.5, 2.0]"
      ]
     },
     "execution_count": 450,
     "metadata": {},
     "output_type": "execute_result"
    }
   ],
   "source": [
    "y_special[:10]"
   ]
  },
  {
   "cell_type": "code",
   "execution_count": 451,
   "metadata": {},
   "outputs": [
    {
     "data": {
      "text/plain": [
       "array([ 0.51698216, -0.09516446, -0.23657821,  0.38801507, -0.37281518,\n",
       "        0.47601378, -0.0969073 , -0.0715639 ,  0.56659119,  0.39945745])"
      ]
     },
     "execution_count": 451,
     "metadata": {},
     "output_type": "execute_result"
    }
   ],
   "source": [
    "y_lr_special[:10]"
   ]
  },
  {
   "cell_type": "code",
   "execution_count": 16,
   "metadata": {},
   "outputs": [],
   "source": [
    "i_test_ordered = sorted(i_test, key=lambda i: nb_rated[dataset.anonymized.X[i][1]], reverse=True)"
   ]
  },
  {
   "cell_type": "code",
   "execution_count": 17,
   "metadata": {
    "collapsed": true
   },
   "outputs": [],
   "source": [
    "X_test_ordered = dataset.anonymized.X[i_test_ordered]\n",
    "y_test_ordered = dataset.anonymized.y[i_test_ordered]"
   ]
  },
  {
   "cell_type": "code",
   "execution_count": 18,
   "metadata": {
    "collapsed": true
   },
   "outputs": [],
   "source": [
    "K = len(X_test_ordered)\n",
    "X_tmp_test = X_test_ordered[-K:]\n",
    "y_tmp_test = y_test_ordered[-K:]"
   ]
  },
  {
   "cell_type": "code",
   "execution_count": 19,
   "metadata": {},
   "outputs": [
    {
     "name": "stdout",
     "output_type": "stream",
     "text": [
      "[ 2.  2.  2.  2. -2.]\n",
      "[ 1.40461681  0.56544441  1.74582477  0.8501583   1.48839993]\n",
      "ALS Test error 1.17177467628\n"
     ]
    },
    {
     "ename": "NameError",
     "evalue": "name 'M_pred' is not defined",
     "output_type": "error",
     "traceback": [
      "\u001b[0;31m---------------------------------------------------------------------------\u001b[0m",
      "\u001b[0;31mNameError\u001b[0m                                 Traceback (most recent call last)",
      "\u001b[0;32m<ipython-input-19-c5671f12a88e>\u001b[0m in \u001b[0;36m<module>\u001b[0;34m()\u001b[0m\n\u001b[1;32m      8\u001b[0m \u001b[0my_delta_res\u001b[0m \u001b[0;34m=\u001b[0m \u001b[0;34m[\u001b[0m\u001b[0;34m]\u001b[0m\u001b[0;34m\u001b[0m\u001b[0m\n\u001b[1;32m      9\u001b[0m \u001b[0;32mfor\u001b[0m \u001b[0muser_id\u001b[0m\u001b[0;34m,\u001b[0m \u001b[0mwork_id\u001b[0m \u001b[0;32min\u001b[0m \u001b[0mX_tmp_test\u001b[0m\u001b[0;34m:\u001b[0m\u001b[0;34m\u001b[0m\u001b[0m\n\u001b[0;32m---> 10\u001b[0;31m     \u001b[0my_delta_res\u001b[0m\u001b[0;34m.\u001b[0m\u001b[0mappend\u001b[0m\u001b[0;34m(\u001b[0m\u001b[0mM_pred\u001b[0m\u001b[0;34m[\u001b[0m\u001b[0muser_id\u001b[0m\u001b[0;34m]\u001b[0m\u001b[0;34m[\u001b[0m\u001b[0mwork_id\u001b[0m\u001b[0;34m]\u001b[0m\u001b[0;34m)\u001b[0m\u001b[0;34m\u001b[0m\u001b[0m\n\u001b[0m\u001b[1;32m     11\u001b[0m \u001b[0my_delta_res\u001b[0m \u001b[0;34m=\u001b[0m \u001b[0mnp\u001b[0m\u001b[0;34m.\u001b[0m\u001b[0marray\u001b[0m\u001b[0;34m(\u001b[0m\u001b[0my_delta_res\u001b[0m\u001b[0;34m)\u001b[0m\u001b[0;34m\u001b[0m\u001b[0m\n\u001b[1;32m     12\u001b[0m \u001b[0my_new\u001b[0m \u001b[0;34m=\u001b[0m \u001b[0my_pred_als\u001b[0m \u001b[0;34m+\u001b[0m \u001b[0;36m2\u001b[0m \u001b[0;34m*\u001b[0m \u001b[0my_delta_res\u001b[0m\u001b[0;34m\u001b[0m\u001b[0m\n",
      "\u001b[0;31mNameError\u001b[0m: name 'M_pred' is not defined"
     ]
    }
   ],
   "source": [
    "y_pred_als = als.predict(X_tmp_test)\n",
    "print(y_tmp_test[:5])\n",
    "print(y_pred_als[:5])\n",
    "print('ALS Test error', als.compute_rmse(y_pred_als, y_tmp_test))\n",
    "#y_pred_xals = xals.predict(X_tmp_test)\n",
    "#print('XALS Test error', xals.compute_rmse(y_pred_xals, y_tmp_test))\n",
    "#print(y_pred_xals[:5])\n",
    "y_delta_res = []\n",
    "for user_id, work_id in X_tmp_test:\n",
    "    y_delta_res.append(M_pred[user_id][work_id])\n",
    "y_delta_res = np.array(y_delta_res)\n",
    "y_new = y_pred_als + 2 * y_delta_res\n",
    "print(y_new[:5])\n",
    "print(y_delta_res[:5])\n",
    "print('ALS+delta Test error', als.compute_rmse(y_new, y_tmp_test))"
   ]
  },
  {
   "cell_type": "code",
   "execution_count": 19,
   "metadata": {},
   "outputs": [
    {
     "name": "stdout",
     "output_type": "stream",
     "text": [
      "Computing M: (5 × 4)\n",
      "Chrono: fill and center matrix [0q, 0ms]\n",
      "Shapes (5, 13) (13, 4)\n",
      "Chrono: factor matrix [0q, 13ms]\n",
      "Train error 0.407541177275\n",
      "[ 2.25842611  3.07814287  2.53238829  2.79468316]\n",
      "[ 3.03586777  2.73180058  2.93662579  2.89181462]\n",
      "Test error 0.473606111409\n"
     ]
    }
   ],
   "source": [
    "als = MangakiALS(R + nb_tags, LAMBDA=0.3)\n",
    "als.NB_ITERATIONS = 20\n",
    "als.set_parameters(nb_users, nb_works)\n",
    "als.fit(X[i_train], y[i_train])\n",
    "#print(xals.U.shape)\n",
    "#print(xals.U)\n",
    "y_pred = als.predict(X[i_train])\n",
    "print('Train error', als.compute_rmse(y_pred, y[i_train]))\n",
    "y_pred = als.predict(X[i_test])\n",
    "print(y[i_test])\n",
    "print(y_pred)\n",
    "print('Test error', als.compute_rmse(y_pred, y[i_test]))"
   ]
  },
  {
   "cell_type": "code",
   "execution_count": 20,
   "metadata": {},
   "outputs": [
    {
     "name": "stdout",
     "output_type": "stream",
     "text": [
      "[[ 3.07814287  2.99662165  2.08916146  2.82286951]\n",
      " [ 3.12601251  1.87590014  2.53238829  3.58227232]\n",
      " [ 2.83954362  2.23948638  2.58370636  2.56809017]\n",
      " [ 4.12795464  2.25842611  2.19946811  2.47225194]\n",
      " [ 2.43309646  2.52171932  2.79468316  3.34326677]]\n",
      "[ 2.63621754  2.86139499  2.55770663  2.9332249   2.76602752]\n",
      "[[ 2.73180058  2.70027044  2.54446537  2.56782888]\n",
      " [ 2.86027437  2.63843605  2.93662579  3.00918137]\n",
      " [ 2.60100665  2.5191739   2.53868454  2.57140797]\n",
      " [ 3.32771838  3.03586777  2.60851086  2.75794132]\n",
      " [ 2.64127143  2.66435256  2.89181462  2.86724358]]\n"
     ]
    }
   ],
   "source": [
    "print(M_true)\n",
    "print(als.means)\n",
    "print((als.M.T + als.means).T)"
   ]
  },
  {
   "cell_type": "code",
   "execution_count": 21,
   "metadata": {},
   "outputs": [
    {
     "name": "stdout",
     "output_type": "stream",
     "text": [
      "Computing M: (5 × 4)\n",
      "Chrono: fill and center matrix [0q, 1ms]\n",
      "shape X_train (16, 2)\n",
      "Step 0: 3.2354964193036886\n",
      "shape X_train (16, 2)\n",
      "Step 1: 0.16132774944187103\n",
      "shape X_train (16, 2)\n",
      "Step 2: 0.12252481352540687\n",
      "shape X_train (16, 2)\n",
      "Step 3: 0.12123771284547814\n",
      "shape X_train (16, 2)\n",
      "Step 4: 0.1210336230758187\n",
      "shape X_train (16, 2)\n",
      "Step 5: 0.1209886276295622\n",
      "shape X_train (16, 2)\n",
      "Step 6: 0.12097541695061939\n",
      "shape X_train (16, 2)\n",
      "Step 7: 0.12097081622660022\n",
      "shape X_train (16, 2)\n",
      "Step 8: 0.1209690872404515\n",
      "shape X_train (16, 2)\n",
      "Step 9: 0.12096841796998646\n",
      "shape X_train (16, 2)\n",
      "Step 10: 0.120968156015428\n",
      "shape X_train (16, 2)\n",
      "Step 11: 0.12096805305291274\n",
      "shape X_train (16, 2)\n",
      "Step 12: 0.12096801251605684\n",
      "shape X_train (16, 2)\n",
      "Step 13: 0.12096799654576817\n",
      "shape X_train (16, 2)\n",
      "Step 14: 0.12096799025218884\n",
      "shape X_train (16, 2)\n",
      "Step 15: 0.1209679877717131\n",
      "shape X_train (16, 2)\n",
      "Step 16: 0.120967986794037\n",
      "shape X_train (16, 2)\n",
      "Step 17: 0.12096798640867859\n",
      "shape X_train (16, 2)\n",
      "Step 18: 0.12096798625678505\n",
      "shape X_train (16, 2)\n",
      "Step 19: 0.1209679861969142\n",
      "Shapes (5, 13) (13, 4)\n",
      "Chrono: factor matrix [0q, 33ms]\n",
      "Train error 0.120967986173\n",
      "Test error 0.393836616624\n",
      "[[ 3.07814287  2.99662165  2.08916146  2.82286951]\n",
      " [ 3.12601251  1.87590014  2.53238829  3.58227232]\n",
      " [ 2.83954362  2.23948638  2.58370636  2.56809017]\n",
      " [ 4.12795464  2.25842611  2.19946811  2.47225194]\n",
      " [ 2.43309646  2.52171932  2.79468316  3.34326677]]\n",
      "means [ 2.63621754  2.86139499  2.55770663  2.9332249   2.76602752]\n",
      "[[ 2.44015033  2.86820519  2.24408312  2.75908298]\n",
      " [ 3.07286504  2.0907988   2.75286032  3.45308154]\n",
      " [ 2.78107351  2.33157901  2.56591453  2.56676815]\n",
      " [ 3.88338636  2.66054501  2.38786513  2.50363412]\n",
      " [ 2.48634279  2.57499358  2.73912133  3.24481805]]\n",
      "V [[  7.52771355e-06   3.55407163e-06  -8.65291641e-06  -4.37644025e-06]\n",
      " [  8.46963880e-06   3.99881760e-06  -9.73562964e-06  -4.92408586e-06]\n",
      " [  5.77026141e-06   2.72438393e-06  -6.63275457e-06  -3.35475955e-06]\n",
      " [  1.00000000e+00   0.00000000e+00   1.00000000e+00   1.00000000e+00]\n",
      " [  0.00000000e+00   1.00000000e+00   1.00000000e+00   0.00000000e+00]\n",
      " [  1.00000000e+00   0.00000000e+00   0.00000000e+00   0.00000000e+00]\n",
      " [  0.00000000e+00   0.00000000e+00   0.00000000e+00   0.00000000e+00]\n",
      " [  0.00000000e+00   0.00000000e+00   1.00000000e+00   1.00000000e+00]\n",
      " [  0.00000000e+00   0.00000000e+00   0.00000000e+00   0.00000000e+00]\n",
      " [  1.00000000e+00   1.00000000e+00   1.00000000e+00   0.00000000e+00]\n",
      " [  0.00000000e+00   1.00000000e+00   0.00000000e+00   1.00000000e+00]\n",
      " [  1.00000000e+00   0.00000000e+00   0.00000000e+00   0.00000000e+00]\n",
      " [  0.00000000e+00   0.00000000e+00   0.00000000e+00   1.00000000e+00]]\n"
     ]
    }
   ],
   "source": [
    "xals = MangakiXALS(R, LAMBDA=0.2)\n",
    "xals.NB_ITERATIONS = 20\n",
    "xals.load_tags(T_true)\n",
    "xals.set_parameters(nb_users, nb_works)\n",
    "xals.fit(X[i_train], y[i_train])\n",
    "#print(xals.U.shape)\n",
    "#print(xals.U)\n",
    "y_pred = xals.predict(X[i_train])\n",
    "print('Train error', xals.compute_rmse(y_pred, y[i_train]))\n",
    "y_pred = xals.predict(X[i_test])\n",
    "#print(y[i_test])\n",
    "#print(y_pred)\n",
    "print('Test error', xals.compute_rmse(y_pred, y[i_test]))\n",
    "print(M_true)\n",
    "print('means', xals.means)\n",
    "print((xals.M.T + xals.means).T)\n",
    "print('V', xals.VT)"
   ]
  },
  {
   "cell_type": "code",
   "execution_count": 12,
   "metadata": {},
   "outputs": [
    {
     "name": "stderr",
     "output_type": "stream",
     "text": [
      "/Users/jilljenn/code/mangaki/venv/lib/python3.6/site-packages/sklearn/linear_model/coordinate_descent.py:484: ConvergenceWarning: Objective did not converge. You might want to increase the number of iterations. Fitting data with very small alpha may cause precision problems.\n",
      "  ConvergenceWarning)\n"
     ]
    },
    {
     "name": "stdout",
     "output_type": "stream",
     "text": [
      "0\n",
      "100\n",
      "200\n",
      "300\n",
      "400\n",
      "500\n",
      "600\n",
      "700\n",
      "800\n",
      "900\n",
      "1000\n",
      "1100\n",
      "1200\n",
      "1300\n",
      "1400\n",
      "1500\n",
      "1600\n",
      "1800\n",
      "1900\n",
      "2000\n",
      "Train error 0.798951501632\n",
      "1985 not\n",
      "492 not\n",
      "2004 not\n",
      "887 not\n",
      "1700 not\n",
      "1508 not\n",
      "1406 not\n",
      "868 not\n",
      "1966 not\n",
      "1009 not\n",
      "890 not\n",
      "352 not\n",
      "703 not\n",
      "1760 not\n",
      "1009 not\n",
      "1414 not\n",
      "1584 not\n",
      "1414 not\n",
      "193 not\n",
      "352 not\n",
      "Test error 1.43152637171\n"
     ]
    }
   ],
   "source": [
    "from mangaki.utils.lasso import MangakiLASSO\n",
    "\n",
    "lasso = MangakiLASSO(10, LAMBDA=0.1)\n",
    "lasso.load_tags(T)\n",
    "lasso.set_parameters(dataset.anonymized.nb_users, dataset.anonymized.nb_works)\n",
    "\n",
    "#lasso.fit(dataset.anonymized.X[i_train], dataset.anonymized.y[i_train])\n",
    "lasso.all_errors(X_train, X_test, y_train, y_test)"
   ]
  },
  {
   "cell_type": "code",
   "execution_count": 49,
   "metadata": {},
   "outputs": [
    {
     "name": "stdout",
     "output_type": "stream",
     "text": [
      "Computing M: (2079 × 9979)\n",
      "Chrono: fill and center matrix [0q, 1631ms]\n",
      "Shapes (2079, 10) (10, 9979)\n",
      "Chrono: factor matrix [0q, 6117ms]\n",
      "0\n"
     ]
    },
    {
     "name": "stderr",
     "output_type": "stream",
     "text": [
      "/Users/jilljenn/code/mangaki/venv/lib/python3.6/site-packages/sklearn/linear_model/coordinate_descent.py:484: ConvergenceWarning: Objective did not converge. You might want to increase the number of iterations. Fitting data with very small alpha may cause precision problems.\n",
      "  ConvergenceWarning)\n"
     ]
    },
    {
     "name": "stdout",
     "output_type": "stream",
     "text": [
      "100\n",
      "200\n",
      "300\n",
      "400\n",
      "500\n",
      "600\n",
      "700\n",
      "800\n",
      "900\n",
      "1000\n",
      "1100\n",
      "1200\n",
      "1300\n",
      "1400\n",
      "1500\n",
      "1600\n",
      "1700\n",
      "1800\n",
      "1900\n",
      "2000\n",
      "Train error 0.99026743656\n",
      "352 not\n",
      "104 not\n",
      "521 not\n",
      "2002 not\n",
      "159 not\n",
      "1584 not\n",
      "1263 not\n",
      "521 not\n",
      "492 not\n",
      "160 not\n",
      "1460 not\n",
      "491 not\n",
      "1887 not\n",
      "352 not\n",
      "687 not\n",
      "Test error 1.1648712679\n"
     ]
    }
   ],
   "source": [
    "from mangaki.utils.balse import MangakiBALSE\n",
    "\n",
    "balse = MangakiBALSE(10, LAMBDA=0.1)\n",
    "balse.set_parameters(dataset.anonymized.nb_users, dataset.anonymized.nb_works)\n",
    "\n",
    "balse.fit(dataset.anonymized.X[i_train], dataset.anonymized.y[i_train])\n",
    "#balse.predict(X_train)"
   ]
  },
  {
   "cell_type": "code",
   "execution_count": 104,
   "metadata": {},
   "outputs": [],
   "source": [
    "y_train_als = als.predict(X_train)\n",
    "y_train_lasso = lasso.predict(X_train)"
   ]
  },
  {
   "cell_type": "code",
   "execution_count": 204,
   "metadata": {
    "collapsed": true
   },
   "outputs": [],
   "source": [
    "#FROM HERE\n",
    "nb_train_rated = Counter(X_train[:, 1])\n",
    "nb_r = list(map(lambda x: nb_train_rated[x[1]], X_train))"
   ]
  },
  {
   "cell_type": "code",
   "execution_count": 205,
   "metadata": {},
   "outputs": [],
   "source": [
    "import numpy as np\n",
    "\n",
    "X = np.column_stack((nb_r, y_train_als, y_train_lasso))"
   ]
  },
  {
   "cell_type": "code",
   "execution_count": 206,
   "metadata": {
    "collapsed": true
   },
   "outputs": [],
   "source": [
    "#y = y_tmp_test\n",
    "y = y_train"
   ]
  },
  {
   "cell_type": "code",
   "execution_count": 207,
   "metadata": {},
   "outputs": [
    {
     "data": {
      "text/plain": [
       "(267512, 3)"
      ]
     },
     "execution_count": 207,
     "metadata": {},
     "output_type": "execute_result"
    }
   ],
   "source": [
    "X.shape"
   ]
  },
  {
   "cell_type": "code",
   "execution_count": 208,
   "metadata": {},
   "outputs": [
    {
     "data": {
      "text/plain": [
       "(267512,)"
      ]
     },
     "execution_count": 208,
     "metadata": {},
     "output_type": "execute_result"
    }
   ],
   "source": [
    "y.shape"
   ]
  },
  {
   "cell_type": "code",
   "execution_count": 209,
   "metadata": {
    "collapsed": true
   },
   "outputs": [],
   "source": [
    "import tensorflow as tf"
   ]
  },
  {
   "cell_type": "code",
   "execution_count": 210,
   "metadata": {
    "collapsed": true
   },
   "outputs": [],
   "source": [
    "beta = tf.Variable(tf.random_normal([1]), name='beta')\n",
    "gamma = tf.Variable(tf.random_normal([1]), name='gamma')"
   ]
  },
  {
   "cell_type": "code",
   "execution_count": 211,
   "metadata": {},
   "outputs": [],
   "source": [
    "e1 = np.array([1, 0, 0])\n",
    "e2 = np.array([0, 1, 0])\n",
    "e3 = np.array([0, 0, 1])\n",
    "pred = tf.sigmoid(beta*(X.dot(e1) - gamma)) * X.dot(e2) + (1 - tf.sigmoid(beta*(X.dot(e1) - gamma))) * X.dot(e3)\n",
    "loss = tf.reduce_mean(tf.square(y - pred)) ** 0.5\n",
    "reg_loss = loss\n",
    "\n",
    "optimizer = tf.train.AdamOptimizer(0.1)\n",
    "train_step = optimizer.minimize(reg_loss, var_list=[beta, gamma])\n",
    "\n",
    "init_op = tf.global_variables_initializer()\n",
    "sess = tf.InteractiveSession()\n",
    "sess.run(init_op)"
   ]
  },
  {
   "cell_type": "code",
   "execution_count": 212,
   "metadata": {},
   "outputs": [
    {
     "name": "stdout",
     "output_type": "stream",
     "text": [
      "loss 0.962532 var [-0.29487365]\n",
      "loss 0.766667 var [-0.22322044]\n",
      "loss 0.772237 var [-0.14217865]\n",
      "loss 0.774987 var [-0.05400907]\n",
      "loss 0.776548 var [ 0.0380903]\n",
      "loss 0.777472 var [ 0.13298057]\n",
      "loss 0.778003 var [ 0.23007819]\n",
      "loss 0.778267 var [ 0.32898799]\n",
      "loss 0.778336 var [ 0.42940557]\n",
      "loss 0.778255 var [ 0.53108001]\n",
      "loss 0.778055 var [ 0.63379359]\n",
      "loss 0.777755 var [ 0.73734939]\n",
      "loss 0.777367 var [ 0.84156239]\n",
      "loss 0.7769 var [ 0.94625193]\n",
      "loss 0.776359 var [ 1.05123568]\n",
      "loss 0.775743 var [ 1.15632343]\n",
      "loss 0.77505 var [ 1.26131141]\n",
      "loss 0.774271 var [ 1.3659749]\n",
      "loss 0.77339 var [ 1.47006035]\n",
      "loss 0.772383 var [ 1.5732739]\n",
      "loss 0.771211 var [ 1.67526627]\n",
      "loss 0.769803 var [ 1.77560973]\n",
      "loss 0.76804 var [ 1.87376273]\n",
      "loss 0.765722 var [ 1.96900678]\n",
      "loss 0.762786 var [ 2.06032515]\n",
      "loss 0.775051 var [ 2.14612484]\n",
      "loss 0.76491 var [ 2.22405338]\n",
      "loss 0.768726 var [ 2.2994175]\n",
      "loss 0.771004 var [ 2.37520003]\n",
      "loss 0.772466 var [ 2.45322204]\n",
      "loss 0.773446 var [ 2.53457999]\n",
      "loss 0.774109 var [ 2.61986971]\n",
      "loss 0.774549 var [ 2.70933962]\n",
      "loss 0.774822 var [ 2.8030026]\n",
      "loss 0.774968 var [ 2.90071797]\n",
      "loss 0.775013 var [ 3.00225091]\n",
      "loss 0.774977 var [ 3.10731268]\n",
      "loss 0.774875 var [ 3.21558833]\n",
      "loss 0.77472 var [ 3.32675505]\n",
      "loss 0.774521 var [ 3.44049335]\n",
      "loss 0.774286 var [ 3.55649424]\n",
      "loss 0.774021 var [ 3.6744628]\n",
      "loss 0.773732 var [ 3.79412127]\n",
      "loss 0.773425 var [ 3.91520858]\n",
      "loss 0.773102 var [ 4.03748178]\n",
      "loss 0.772767 var [ 4.1607151]\n",
      "loss 0.772423 var [ 4.28469896]\n",
      "loss 0.772073 var [ 4.40924072]\n",
      "loss 0.771719 var [ 4.53416157]\n",
      "loss 0.771363 var [ 4.65929842]\n",
      "loss 0.771005 var [ 4.78450108]\n",
      "loss 0.770648 var [ 4.90963173]\n",
      "loss 0.770293 var [ 5.03456497]\n",
      "loss 0.76994 var [ 5.15918732]\n",
      "loss 0.769591 var [ 5.28339481]\n",
      "loss 0.769246 var [ 5.40709352]\n",
      "loss 0.768906 var [ 5.53019953]\n",
      "loss 0.768571 var [ 5.652637]\n",
      "loss 0.768241 var [ 5.77433825]\n",
      "loss 0.767916 var [ 5.89524364]\n",
      "loss 0.767599 var [ 6.0152998]\n",
      "loss 0.767287 var [ 6.13446045]\n",
      "loss 0.766981 var [ 6.25268555]\n",
      "loss 0.766682 var [ 6.3699398]\n",
      "loss 0.766389 var [ 6.48619366]\n",
      "loss 0.766103 var [ 6.60142231]\n",
      "loss 0.765822 var [ 6.71560478]\n",
      "loss 0.765548 var [ 6.82872486]\n",
      "loss 0.765281 var [ 6.94076967]\n",
      "loss 0.765019 var [ 7.0517292]\n",
      "loss 0.764764 var [ 7.16159725]\n",
      "loss 0.764514 var [ 7.27036953]\n",
      "loss 0.76427 var [ 7.37804508]\n",
      "loss 0.764032 var [ 7.48462439]\n",
      "loss 0.7638 var [ 7.59011078]\n",
      "loss 0.763573 var [ 7.69450808]\n",
      "loss 0.763351 var [ 7.79782295]\n",
      "loss 0.763134 var [ 7.90006304]\n",
      "loss 0.762923 var [ 8.00123692]\n",
      "loss 0.762716 var [ 8.1013546]\n",
      "loss 0.762514 var [ 8.20042801]\n",
      "loss 0.762317 var [ 8.29846764]\n",
      "loss 0.762124 var [ 8.39548588]\n",
      "loss 0.761936 var [ 8.49149609]\n",
      "loss 0.761752 var [ 8.58651161]\n",
      "loss 0.761572 var [ 8.68054676]\n",
      "loss 0.761397 var [ 8.77361488]\n",
      "loss 0.761225 var [ 8.86573124]\n",
      "loss 0.761056 var [ 8.95691013]\n",
      "loss 0.760892 var [ 9.04716682]\n",
      "loss 0.760732 var [ 9.13651562]\n",
      "loss 0.760574 var [ 9.22497177]\n",
      "loss 0.760421 var [ 9.31255054]\n",
      "loss 0.76027 var [ 9.39926624]\n",
      "loss 0.760122 var [ 9.48513412]\n",
      "loss 0.759978 var [ 9.5701685]\n",
      "loss 0.759837 var [ 9.65438366]\n",
      "loss 0.759699 var [ 9.73779488]\n",
      "loss 0.759563 var [ 9.8204155]\n",
      "loss 0.759431 var [ 9.90225983]\n"
     ]
    }
   ],
   "source": [
    "for i in range(100):\n",
    "    sess.run(train_step)\n",
    "    print('loss', sess.run(reg_loss), 'var', gamma.eval())"
   ]
  },
  {
   "cell_type": "code",
   "execution_count": 213,
   "metadata": {},
   "outputs": [],
   "source": [
    "#Only once\n",
    "#y_als = als.predict(X_tmp_test)\n",
    "#y_lasso = lasso.predict(X_tmp_test)"
   ]
  },
  {
   "cell_type": "code",
   "execution_count": 214,
   "metadata": {
    "collapsed": true
   },
   "outputs": [],
   "source": [
    "nb_r = list(map(lambda x: nb_train_rated[x[1]], X_tmp_test))"
   ]
  },
  {
   "cell_type": "code",
   "execution_count": 215,
   "metadata": {
    "collapsed": true
   },
   "outputs": [],
   "source": [
    "X = np.column_stack((nb_r, y_als, y_lasso))"
   ]
  },
  {
   "cell_type": "code",
   "execution_count": 216,
   "metadata": {},
   "outputs": [
    {
     "data": {
      "text/plain": [
       "0.75943053"
      ]
     },
     "execution_count": 216,
     "metadata": {},
     "output_type": "execute_result"
    }
   ],
   "source": [
    "loss.eval()"
   ]
  },
  {
   "cell_type": "code",
   "execution_count": 217,
   "metadata": {},
   "outputs": [
    {
     "data": {
      "text/plain": [
       "array([ 9.90225983], dtype=float32)"
      ]
     },
     "execution_count": 217,
     "metadata": {},
     "output_type": "execute_result"
    }
   ],
   "source": [
    "gamma.eval()\n",
    "\n",
    "#tf.sigmoid(1*(X.dot(e1) - gamma)) * X.dot(e2) + (1 - tf.sigmoid(1*(X.dot(e1) - gamma))) * X.dot(e3)"
   ]
  },
  {
   "cell_type": "code",
   "execution_count": 218,
   "metadata": {},
   "outputs": [],
   "source": [
    "new_pred = tf.sigmoid(X.dot(e1) - gamma) * y_als + (1 - tf.sigmoid(X.dot(e1) - gamma)) * y_lasso"
   ]
  },
  {
   "cell_type": "code",
   "execution_count": 219,
   "metadata": {
    "scrolled": true
   },
   "outputs": [
    {
     "data": {
      "text/plain": [
       "(66878,)"
      ]
     },
     "execution_count": 219,
     "metadata": {},
     "output_type": "execute_result"
    }
   ],
   "source": [
    "new_pred.eval().shape"
   ]
  },
  {
   "cell_type": "code",
   "execution_count": 220,
   "metadata": {},
   "outputs": [
    {
     "name": "stdout",
     "output_type": "stream",
     "text": [
      "Test error 1.17177467628\n"
     ]
    }
   ],
   "source": [
    "WINDOW = 1000000\n",
    "print('Test error', als.compute_rmse(y_als[-WINDOW:], y_tmp_test[-WINDOW:]))"
   ]
  },
  {
   "cell_type": "code",
   "execution_count": 221,
   "metadata": {},
   "outputs": [
    {
     "name": "stdout",
     "output_type": "stream",
     "text": [
      "Test error 1.17131212068\n"
     ]
    }
   ],
   "source": [
    "y_new_pred = new_pred.eval()\n",
    "print('Test error', als.compute_rmse(y_new_pred[-WINDOW:], y_tmp_test[-WINDOW:]))"
   ]
  },
  {
   "cell_type": "code",
   "execution_count": 222,
   "metadata": {},
   "outputs": [
    {
     "name": "stdout",
     "output_type": "stream",
     "text": [
      "Test error 1.43152637171\n"
     ]
    }
   ],
   "source": [
    "print('Test error', als.compute_rmse(y_lasso[-WINDOW:], y_tmp_test[-WINDOW:]))"
   ]
  },
  {
   "cell_type": "code",
   "execution_count": 265,
   "metadata": {},
   "outputs": [
    {
     "name": "stdout",
     "output_type": "stream",
     "text": [
      "Test cold error 1.43432773014\n"
     ]
    }
   ],
   "source": [
    "WINDOW = round(0.015 * len(X_tmp_test))\n",
    "print('Test cold error', als.compute_rmse(y_als[-WINDOW:], y_tmp_test[-WINDOW:]))"
   ]
  },
  {
   "cell_type": "code",
   "execution_count": 266,
   "metadata": {},
   "outputs": [
    {
     "name": "stdout",
     "output_type": "stream",
     "text": [
      "Test cold error 1.3526982293\n"
     ]
    }
   ],
   "source": [
    "y_new_pred = new_pred.eval()\n",
    "print('Test cold error', als.compute_rmse(y_new_pred[-WINDOW:], y_tmp_test[-WINDOW:]))"
   ]
  },
  {
   "cell_type": "code",
   "execution_count": 267,
   "metadata": {},
   "outputs": [
    {
     "name": "stdout",
     "output_type": "stream",
     "text": [
      "Test cold error 1.35271897807\n"
     ]
    }
   ],
   "source": [
    "print('Test cold error', als.compute_rmse(y_lasso[-WINDOW:], y_tmp_test[-WINDOW:]))"
   ]
  },
  {
   "cell_type": "code",
   "execution_count": 268,
   "metadata": {},
   "outputs": [
    {
     "data": {
      "text/plain": [
       "1003"
      ]
     },
     "execution_count": 268,
     "metadata": {},
     "output_type": "execute_result"
    }
   ],
   "source": [
    "WINDOW"
   ]
  },
  {
   "cell_type": "code",
   "execution_count": null,
   "metadata": {
    "collapsed": true
   },
   "outputs": [],
   "source": []
  }
 ],
 "metadata": {
  "kernelspec": {
   "display_name": "Django Shell-Plus",
   "language": "python",
   "name": "django_extensions"
  },
  "language_info": {
   "codemirror_mode": {
    "name": "ipython",
    "version": 3
   },
   "file_extension": ".py",
   "mimetype": "text/x-python",
   "name": "python",
   "nbconvert_exporter": "python",
   "pygments_lexer": "ipython3",
   "version": "3.6.1"
  }
 },
 "nbformat": 4,
 "nbformat_minor": 2
}
