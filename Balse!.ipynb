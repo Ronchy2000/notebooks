{
 "cells": [
  {
   "cell_type": "code",
   "execution_count": 770,
   "metadata": {
    "collapsed": true
   },
   "outputs": [],
   "source": [
    "from collections import defaultdict, Counter\n",
    "\n",
    "god_rmse = defaultdict(list)"
   ]
  },
  {
   "cell_type": "code",
   "execution_count": 760,
   "metadata": {
    "collapsed": true
   },
   "outputs": [],
   "source": [
    "#from mangaki.utils.xals import MangakiXALS\n",
    "from mangaki.utils.als import MangakiALS\n",
    "from mangaki.utils.svd import MangakiSVD"
   ]
  },
  {
   "cell_type": "code",
   "execution_count": 761,
   "metadata": {
    "collapsed": true
   },
   "outputs": [],
   "source": [
    "from mangaki.utils.algo import get_dataset_backup\n",
    "from mangaki.utils.data import Dataset\n",
    "from mangaki.utils.values import rating_values\n",
    "\n",
    "dataset = Dataset()#get_dataset_backup('als')\n",
    "dataset.load_csv('balse/ratings.csv', convert=lambda x: rating_values[x])"
   ]
  },
  {
   "cell_type": "code",
   "execution_count": 762,
   "metadata": {
    "collapsed": true
   },
   "outputs": [],
   "source": [
    "from mangaki.utils.balse import MangakiBALSE\n",
    "from scipy.sparse import load_npz\n",
    "\n",
    "T = load_npz('../data/balse/tag-matrix.npz').toarray()"
   ]
  },
  {
   "cell_type": "code",
   "execution_count": 765,
   "metadata": {
    "collapsed": true
   },
   "outputs": [],
   "source": [
    "from sklearn.model_selection import ShuffleSplit\n",
    "\n",
    "NB_SPLIT = 5\n",
    "k_fold = ShuffleSplit(n_splits=NB_SPLIT)\n",
    "SETS = list(k_fold.split(dataset.anonymized.X))"
   ]
  },
  {
   "cell_type": "code",
   "execution_count": 903,
   "metadata": {
    "collapsed": true
   },
   "outputs": [],
   "source": [
    "GOD_I = 4"
   ]
  },
  {
   "cell_type": "code",
   "execution_count": 904,
   "metadata": {
    "collapsed": true
   },
   "outputs": [],
   "source": [
    "# START\n",
    "i_train, i_test = SETS[GOD_I]"
   ]
  },
  {
   "cell_type": "code",
   "execution_count": 905,
   "metadata": {
    "collapsed": true
   },
   "outputs": [],
   "source": [
    "NOTVAL = round(0.7 * len(i_train))\n",
    "X_train = dataset.anonymized.X[i_train[:NOTVAL]]\n",
    "y_train = dataset.anonymized.y[i_train[:NOTVAL]]\n",
    "X_val = dataset.anonymized.X[i_train[NOTVAL:]]\n",
    "y_val = dataset.anonymized.y[i_train[NOTVAL:]]\n",
    "X_test = dataset.anonymized.X[i_test]\n",
    "y_test = dataset.anonymized.y[i_test]\n",
    "nb_train_rated = Counter(X_train[:, 1])"
   ]
  },
  {
   "cell_type": "code",
   "execution_count": 906,
   "metadata": {},
   "outputs": [
    {
     "name": "stdout",
     "output_type": "stream",
     "text": [
      "Computing M: (2079 × 9979)\n",
      "Chrono: fill and center matrix [0q, 1352ms]\n",
      "Shapes (2079, 10) (10, 9979)\n",
      "Chrono: factor matrix [0q, 5778ms]\n"
     ]
    }
   ],
   "source": [
    "als = run_als(X_train, X_test, y_train, y_test)"
   ]
  },
  {
   "cell_type": "code",
   "execution_count": 907,
   "metadata": {},
   "outputs": [
    {
     "name": "stderr",
     "output_type": "stream",
     "text": [
      "/Users/jilljenn/code/mangaki/venv/lib/python3.6/site-packages/sklearn/linear_model/coordinate_descent.py:484: ConvergenceWarning: Objective did not converge. You might want to increase the number of iterations. Fitting data with very small alpha may cause precision problems.\n",
      "  ConvergenceWarning)\n"
     ]
    },
    {
     "name": "stdout",
     "output_type": "stream",
     "text": [
      "0\n",
      "100\n",
      "200\n",
      "300\n",
      "400\n",
      "500\n",
      "600\n",
      "700\n",
      "800\n",
      "900\n",
      "1000\n",
      "1100\n",
      "1200\n",
      "1300\n",
      "1400\n",
      "1500\n",
      "1600\n",
      "1800\n",
      "1900\n",
      "2000\n"
     ]
    }
   ],
   "source": [
    "lasso = run_lasso(X_train, X_test, y_train, y_test)"
   ]
  },
  {
   "cell_type": "code",
   "execution_count": 908,
   "metadata": {
    "collapsed": true
   },
   "outputs": [],
   "source": [
    "nb_rated = Counter(dataset.anonymized.X[:, 1])"
   ]
  },
  {
   "cell_type": "code",
   "execution_count": 909,
   "metadata": {
    "collapsed": true
   },
   "outputs": [],
   "source": [
    "def run_als(X_train, X_test, y_train, y_test):\n",
    "    als = MangakiALS(10, LAMBDA=0.1)\n",
    "    als.set_parameters(dataset.anonymized.nb_users, dataset.anonymized.nb_works)\n",
    "    als.fit(X_train, y_train)\n",
    "    #als.all_errors(X_train, X_test, y_train, y_test)\n",
    "    return als"
   ]
  },
  {
   "cell_type": "code",
   "execution_count": 910,
   "metadata": {
    "collapsed": true,
    "scrolled": true
   },
   "outputs": [],
   "source": [
    "#y_pred = als.predict(X_tmp_test)\n",
    "#y_new_pred = lasso.predict(X_tmp_test)"
   ]
  },
  {
   "cell_type": "code",
   "execution_count": 911,
   "metadata": {
    "collapsed": true
   },
   "outputs": [],
   "source": [
    "i_test_ordered = sorted(i_test, key=lambda i: nb_train_rated[dataset.anonymized.X[i][1]], reverse=True)"
   ]
  },
  {
   "cell_type": "code",
   "execution_count": 912,
   "metadata": {
    "collapsed": true
   },
   "outputs": [],
   "source": [
    "X_tmp_test = dataset.anonymized.X[i_test_ordered]\n",
    "y_tmp_test = dataset.anonymized.y[i_test_ordered]"
   ]
  },
  {
   "cell_type": "code",
   "execution_count": 913,
   "metadata": {
    "collapsed": true
   },
   "outputs": [],
   "source": [
    "from mangaki.utils.lasso import MangakiLASSO\n",
    "\n",
    "def run_lasso(X_train, X_test, y_train, y_test):\n",
    "    lasso = MangakiLASSO(10, LAMBDA=0.1)\n",
    "    lasso.load_tags(T)\n",
    "    lasso.set_parameters(dataset.anonymized.nb_users, dataset.anonymized.nb_works)\n",
    "    lasso.fit(X_train, y_train)\n",
    "    #lasso.all_errors(X_train, X_test, y_train, y_test)\n",
    "    return lasso"
   ]
  },
  {
   "cell_type": "code",
   "execution_count": 914,
   "metadata": {
    "collapsed": true
   },
   "outputs": [],
   "source": [
    "#y_train_als = als.predict(X_train)\n",
    "#y_train_lasso = lasso.predict(X_train)"
   ]
  },
  {
   "cell_type": "code",
   "execution_count": 915,
   "metadata": {
    "collapsed": true
   },
   "outputs": [],
   "source": [
    "nb_r = list(map(lambda x: nb_train_rated[x[1]], X_val))"
   ]
  },
  {
   "cell_type": "code",
   "execution_count": 916,
   "metadata": {},
   "outputs": [
    {
     "name": "stdout",
     "output_type": "stream",
     "text": [
      "1138 not\n",
      "1822 not\n",
      "1765 not\n",
      "703 not\n",
      "1001 not\n",
      "1392 not\n",
      "1097 not\n",
      "1495 not\n",
      "1782 not\n",
      "265 not\n",
      "878 not\n",
      "702 not\n",
      "1441 not\n",
      "588 not\n",
      "1508 not\n",
      "1040 not\n",
      "160 not\n",
      "1951 not\n",
      "262 not\n",
      "1495 not\n",
      "159 not\n",
      "990 not\n",
      "1782 not\n",
      "1887 not\n",
      "2004 not\n",
      "881 not\n",
      "954 not\n",
      "1161 not\n",
      "878 not\n"
     ]
    }
   ],
   "source": [
    "y_val_als = als.predict(X_val)\n",
    "y_val_lasso = lasso.predict(X_val)"
   ]
  },
  {
   "cell_type": "code",
   "execution_count": 917,
   "metadata": {},
   "outputs": [
    {
     "name": "stdout",
     "output_type": "stream",
     "text": [
      "890 not\n",
      "104 not\n",
      "1263 not\n",
      "434 not\n",
      "1177 not\n",
      "2025 not\n",
      "1822 not\n",
      "1822 not\n",
      "1951 not\n",
      "1584 not\n",
      "1700 not\n"
     ]
    }
   ],
   "source": [
    "y_als = als.predict(X_tmp_test)\n",
    "y_lasso = lasso.predict(X_tmp_test)"
   ]
  },
  {
   "cell_type": "code",
   "execution_count": 918,
   "metadata": {
    "collapsed": true
   },
   "outputs": [],
   "source": [
    "import numpy as np\n",
    "\n",
    "X = np.column_stack((nb_r, y_val_als, y_val_lasso))\n",
    "y = y_val"
   ]
  },
  {
   "cell_type": "code",
   "execution_count": 919,
   "metadata": {
    "collapsed": true
   },
   "outputs": [],
   "source": [
    "import tensorflow as tf"
   ]
  },
  {
   "cell_type": "code",
   "execution_count": 920,
   "metadata": {
    "collapsed": true
   },
   "outputs": [],
   "source": [
    "beta = tf.Variable(tf.random_normal([1]), name='beta')\n",
    "gamma = tf.Variable(tf.random_normal([1]), name='gamma')"
   ]
  },
  {
   "cell_type": "code",
   "execution_count": 921,
   "metadata": {
    "collapsed": true
   },
   "outputs": [],
   "source": [
    "e1 = np.array([1, 0, 0])\n",
    "e2 = np.array([0, 1, 0])\n",
    "e3 = np.array([0, 0, 1])\n",
    "pred = tf.sigmoid(beta*(X.dot(e1) - gamma)) * X.dot(e2) + (1 - tf.sigmoid(beta*(X.dot(e1) - gamma))) * X.dot(e3)\n",
    "loss = tf.reduce_mean(tf.square(y - pred)) ** 0.5\n",
    "reg_loss = loss\n",
    "\n",
    "global_step = tf.Variable(0, trainable=False)\n",
    "starter_learning_rate = 0.1\n",
    "learning_rate = tf.train.exponential_decay(starter_learning_rate, global_step,\n",
    "                                           10, 0.9965402628278678, staircase=True)\n",
    "optimizer = tf.train.GradientDescentOptimizer(learning_rate)\n",
    "train_step = optimizer.minimize(reg_loss, var_list=[beta, gamma], global_step=global_step)\n",
    "\n",
    "init_op = tf.global_variables_initializer()\n",
    "sess = tf.InteractiveSession()\n",
    "sess.run(init_op)"
   ]
  },
  {
   "cell_type": "code",
   "execution_count": 922,
   "metadata": {},
   "outputs": [
    {
     "name": "stdout",
     "output_type": "stream",
     "text": [
      "loss 1.18133 beta [ 0.13050348] gamma [-1.08007371] 0.1\n",
      "loss 1.17722 beta [ 0.02510466] gamma [-1.07986581] 0.0965936\n",
      "loss 1.17722 beta [ 0.02510442] gamma [-1.08029842] 0.0933033\n",
      "loss 1.17722 beta [ 0.02510417] gamma [-1.08071661] 0.090125\n",
      "loss 1.17722 beta [ 0.02510394] gamma [-1.08111942] 0.087055\n",
      "loss 1.17722 beta [ 0.02510373] gamma [-1.08150911] 0.0840896\n",
      "loss 1.17722 beta [ 0.02510351] gamma [-1.0818857] 0.0812252\n",
      "loss 1.17722 beta [ 0.0251033] gamma [-1.08224916] 0.0784583\n",
      "loss 1.17722 beta [ 0.02510309] gamma [-1.08260071] 0.0757857\n",
      "loss 1.17722 beta [ 0.0251029] gamma [-1.08294034] 0.0732042\n",
      "loss 1.17722 beta [ 0.02510272] gamma [-1.08326805] 0.0707106\n",
      "loss 1.17722 beta [ 0.02510253] gamma [-1.08358502] 0.0683019\n",
      "loss 1.17722 beta [ 0.02510234] gamma [-1.08389127] 0.0659753\n",
      "loss 1.17722 beta [ 0.02510217] gamma [-1.08418679] 0.0637279\n",
      "loss 1.17722 beta [ 0.025102] gamma [-1.08447278] 0.0615571\n",
      "loss 1.17722 beta [ 0.02510185] gamma [-1.08474696] 0.0594602\n",
      "loss 1.17722 beta [ 0.0251017] gamma [-1.08501267] 0.0574348\n",
      "loss 1.17722 beta [ 0.02510155] gamma [-1.08527005] 0.0554783\n",
      "loss 1.17722 beta [ 0.02510141] gamma [-1.08552027] 0.0535885\n",
      "loss 1.17722 beta [ 0.02510126] gamma [-1.08575869] 0.0517631\n"
     ]
    }
   ],
   "source": [
    "for i in range(2000):\n",
    "    sess.run(train_step)\n",
    "    if i % 100 == 0:\n",
    "        print('loss', sess.run(reg_loss), 'beta', beta.eval(), 'gamma', gamma.eval(), learning_rate.eval())"
   ]
  },
  {
   "cell_type": "code",
   "execution_count": 923,
   "metadata": {
    "collapsed": true
   },
   "outputs": [],
   "source": [
    "nb_rt = list(map(lambda x: nb_train_rated[x[1]], X_tmp_test))"
   ]
  },
  {
   "cell_type": "code",
   "execution_count": 924,
   "metadata": {
    "collapsed": true
   },
   "outputs": [],
   "source": [
    "Xt = np.column_stack((nb_rt, y_als, y_lasso))"
   ]
  },
  {
   "cell_type": "code",
   "execution_count": 925,
   "metadata": {},
   "outputs": [
    {
     "data": {
      "text/plain": [
       "(1.1772212,\n",
       " array([ 0.02510113], dtype=float32),\n",
       " array([-1.08598757], dtype=float32))"
      ]
     },
     "execution_count": 925,
     "metadata": {},
     "output_type": "execute_result"
    }
   ],
   "source": [
    "loss.eval(), beta.eval(), gamma.eval()"
   ]
  },
  {
   "cell_type": "code",
   "execution_count": 926,
   "metadata": {
    "collapsed": true
   },
   "outputs": [],
   "source": [
    "new_pred = tf.sigmoid(beta*(Xt.dot(e1) - gamma)) * y_als + (1 - tf.sigmoid(beta*(Xt.dot(e1) - gamma))) * y_lasso"
   ]
  },
  {
   "cell_type": "code",
   "execution_count": 927,
   "metadata": {},
   "outputs": [
    {
     "name": "stdout",
     "output_type": "stream",
     "text": [
      "Test error 1.18493480596\n"
     ]
    }
   ],
   "source": [
    "WINDOW = 1000000\n",
    "\n",
    "rmse_als_full = als.compute_rmse(y_als, y_tmp_test)\n",
    "print('Test error', rmse_als_full)\n",
    "god_rmse['als'].append(rmse_als_full)"
   ]
  },
  {
   "cell_type": "code",
   "execution_count": 928,
   "metadata": {},
   "outputs": [
    {
     "name": "stdout",
     "output_type": "stream",
     "text": [
      "Test error 1.17502186735\n"
     ]
    }
   ],
   "source": [
    "y_new_pred = new_pred.eval()\n",
    "rmse_balse_full = als.compute_rmse(y_new_pred, y_tmp_test)\n",
    "print('Test error', rmse_balse_full)\n",
    "god_rmse['balse'].append(rmse_balse_full)"
   ]
  },
  {
   "cell_type": "code",
   "execution_count": 929,
   "metadata": {},
   "outputs": [
    {
     "name": "stdout",
     "output_type": "stream",
     "text": [
      "Test error 1.45640948077\n"
     ]
    }
   ],
   "source": [
    "rmse_lasso_full = als.compute_rmse(y_lasso, y_tmp_test)\n",
    "print('Test error', rmse_lasso_full)\n",
    "god_rmse['lasso'].append(rmse_lasso_full)"
   ]
  },
  {
   "cell_type": "code",
   "execution_count": 930,
   "metadata": {
    "collapsed": true
   },
   "outputs": [],
   "source": [
    "for WINDOW, tag in [(1000, 'cold'), (len(nb_rt) - nb_rt.index(0), 'freeze')]:\n",
    "    god_rmse['als-%s' % tag].append(als.compute_rmse(y_als[-WINDOW:], y_tmp_test[-WINDOW:]))\n",
    "    y_new_pred = new_pred.eval()\n",
    "    god_rmse['balse-%s' % tag].append(als.compute_rmse(y_new_pred[-WINDOW:], y_tmp_test[-WINDOW:]))\n",
    "    god_rmse['lasso-%s' % tag].append(als.compute_rmse(y_lasso[-WINDOW:], y_tmp_test[-WINDOW:]))"
   ]
  },
  {
   "cell_type": "code",
   "execution_count": 935,
   "metadata": {},
   "outputs": [
    {
     "name": "stdout",
     "output_type": "stream",
     "text": [
      "als 1.18281 ± 0.00400\n",
      "balse 1.17319 ± 0.00400\n",
      "lasso 1.46214 ± 0.00500\n",
      "als-cold 1.33518 ± 0.05000\n",
      "balse-cold 1.25536 ± 0.03100\n",
      "lasso-cold 1.33100 ± 0.01900\n",
      "als-freeze 1.48283 ± 0.12200\n",
      "balse-freeze 1.33063 ± 0.07200\n",
      "lasso-freeze 1.35156 ± 0.03900\n"
     ]
    }
   ],
   "source": [
    "for key in god_rmse:\n",
    "    print(key, avgstd(god_rmse[key]))"
   ]
  },
  {
   "cell_type": "code",
   "execution_count": 934,
   "metadata": {
    "collapsed": true
   },
   "outputs": [],
   "source": [
    "import math\n",
    "\n",
    "def avgstd(l):  # Displays mean and variance\n",
    "    n = len(l)\n",
    "    mean = float(sum(l)) / n\n",
    "    var = float(sum(i * i for i in l)) / n - mean * mean\n",
    "    return '%.5f ± %.5f' % (round(mean, 5), round(1.96 * math.sqrt(var / n), 3))  # '%.3f ± %.3f' % "
   ]
  },
  {
   "cell_type": "code",
   "execution_count": null,
   "metadata": {
    "collapsed": true
   },
   "outputs": [],
   "source": []
  }
 ],
 "metadata": {
  "kernelspec": {
   "display_name": "Django Shell-Plus",
   "language": "python",
   "name": "django_extensions"
  },
  "language_info": {
   "codemirror_mode": {
    "name": "ipython",
    "version": 3
   },
   "file_extension": ".py",
   "mimetype": "text/x-python",
   "name": "python",
   "nbconvert_exporter": "python",
   "pygments_lexer": "ipython3",
   "version": "3.6.2"
  }
 },
 "nbformat": 4,
 "nbformat_minor": 2
}
