{
 "cells": [
  {
   "cell_type": "code",
   "execution_count": 1,
   "metadata": {
    "collapsed": true
   },
   "outputs": [],
   "source": [
    "import numpy as np\n",
    "\n",
    "R = 3\n",
    "nb_users = 5\n",
    "nb_works = 4\n",
    "nb_tags = 10\n",
    "U_true = np.random.random((nb_users, R + nb_tags))\n",
    "VT_true = np.random.random((R, nb_works))\n",
    "T_true = np.round(np.random.random((nb_works, nb_tags)))\n",
    "M_true = U_true.dot(np.concatenate((VT_true, T_true.T)))"
   ]
  },
  {
   "cell_type": "code",
   "execution_count": 2,
   "metadata": {
    "collapsed": true
   },
   "outputs": [],
   "source": [
    "X = np.array([(i, j) for i in range(nb_users) for j in range(nb_works)])\n",
    "y = np.array([M_true[i, j] for i in range(nb_users) for j in range(nb_works)])"
   ]
  },
  {
   "cell_type": "code",
   "execution_count": 3,
   "metadata": {
    "collapsed": true
   },
   "outputs": [],
   "source": [
    "from sklearn.model_selection import train_test_split"
   ]
  },
  {
   "cell_type": "code",
   "execution_count": 4,
   "metadata": {
    "collapsed": true
   },
   "outputs": [],
   "source": [
    "i_train, i_test = train_test_split(range(len(X)), test_size=0.2)"
   ]
  },
  {
   "cell_type": "code",
   "execution_count": 5,
   "metadata": {
    "collapsed": true
   },
   "outputs": [],
   "source": [
    "from mangaki.utils.xals import MangakiXALS\n",
    "from mangaki.utils.als import MangakiALS\n",
    "from mangaki.utils.svd import MangakiSVD"
   ]
  },
  {
   "cell_type": "code",
   "execution_count": 7,
   "metadata": {},
   "outputs": [],
   "source": [
    "from mangaki.utils.algo import get_dataset_backup\n",
    "from mangaki.utils.data import Dataset\n",
    "from mangaki.utils.values import rating_values\n",
    "\n",
    "dataset = Dataset()#get_dataset_backup('als')\n",
    "dataset.load_csv('balse/ratings.csv', convert=lambda x: rating_values[x])"
   ]
  },
  {
   "cell_type": "code",
   "execution_count": 8,
   "metadata": {
    "collapsed": true
   },
   "outputs": [],
   "source": [
    "svd = MangakiSVD(20)\n",
    "svd.set_parameters(dataset.anonymized.nb_users, dataset.anonymized.nb_works)\n",
    "\n",
    "i_train, i_test = train_test_split(range(len(dataset.anonymized.X)), test_size=0.2)"
   ]
  },
  {
   "cell_type": "code",
   "execution_count": 9,
   "metadata": {
    "collapsed": true
   },
   "outputs": [],
   "source": [
    "X_train = dataset.anonymized.X[i_train]\n",
    "y_train = dataset.anonymized.y[i_train]\n",
    "X_test = dataset.anonymized.X[i_test]\n",
    "y_test = dataset.anonymized.y[i_test]"
   ]
  },
  {
   "cell_type": "code",
   "execution_count": 10,
   "metadata": {},
   "outputs": [
    {
     "name": "stdout",
     "output_type": "stream",
     "text": [
      "Computing M: (2079 × 9979)\n"
     ]
    },
    {
     "name": "stderr",
     "output_type": "stream",
     "text": [
      "/Users/jilljenn/code/mangaki/mangaki/mangaki/utils/svd.py:36: RuntimeWarning: invalid value encountered in double_scalars\n",
      "  means[i] = np.sum(matrix[i]) / np.sum(matrix[i] != 0)\n"
     ]
    },
    {
     "name": "stdout",
     "output_type": "stream",
     "text": [
      "Chrono: fill and center matrix [0q, 5095ms]\n",
      "Shapes (2079, 20) (20,) (20, 9979)\n",
      "Chrono: factor matrix [0q, 783ms]\n",
      "Train error 1.07493255901\n",
      "Test error 1.18287192729\n"
     ]
    }
   ],
   "source": [
    "svd.fit(dataset.anonymized.X[i_train], dataset.anonymized.y[i_train])\n",
    "y_pred = svd.predict(X_train)\n",
    "print('Train error', svd.compute_rmse(y_pred, y_train))\n",
    "y_pred = svd.predict(X_test)\n",
    "print('Test error', svd.compute_rmse(y_pred, y_test))"
   ]
  },
  {
   "cell_type": "code",
   "execution_count": 213,
   "metadata": {
    "collapsed": true
   },
   "outputs": [],
   "source": [
    "xals = MangakiXALS(20)\n",
    "#xals.NB_ITERATIONS = 3\n",
    "xals.set_parameters(dataset.anonymized.nb_users, dataset.anonymized.nb_works)\n",
    "xals.load_tags()"
   ]
  },
  {
   "cell_type": "code",
   "execution_count": 214,
   "metadata": {},
   "outputs": [
    {
     "data": {
      "text/plain": [
       "(10086, 503)"
      ]
     },
     "execution_count": 214,
     "metadata": {},
     "output_type": "execute_result"
    }
   ],
   "source": [
    "xals.T.shape"
   ]
  },
  {
   "cell_type": "code",
   "execution_count": 207,
   "metadata": {
    "collapsed": true
   },
   "outputs": [],
   "source": [
    "from sklearn.decomposition import PCA\n",
    "\n",
    "pca = PCA(n_components=50)\n",
    "T_red = pca.fit_transform(xals.T)"
   ]
  },
  {
   "cell_type": "code",
   "execution_count": 208,
   "metadata": {},
   "outputs": [
    {
     "data": {
      "text/plain": [
       "0.82833706303687582"
      ]
     },
     "execution_count": 208,
     "metadata": {},
     "output_type": "execute_result"
    }
   ],
   "source": [
    "pca.explained_variance_ratio_[:40].sum()"
   ]
  },
  {
   "cell_type": "code",
   "execution_count": 209,
   "metadata": {
    "collapsed": true
   },
   "outputs": [],
   "source": [
    "xals.load_tags(T_red)"
   ]
  },
  {
   "cell_type": "code",
   "execution_count": 210,
   "metadata": {},
   "outputs": [
    {
     "name": "stdout",
     "output_type": "stream",
     "text": [
      "Computing M: (2071 × 10086)\n",
      "Chrono: fill and center matrix [0q, 3851ms]\n",
      "Step 0: 5.483739201645807\n",
      "Step 1: 1.102528355612395\n",
      "Step 2: 0.9718364676359584\n",
      "Step 3: 0.9172136307739251\n",
      "Step 4: 0.8949883762233602\n",
      "Step 5: 0.8835481302921538\n",
      "Step 6: 0.8766322063000636\n",
      "Step 7: 0.8719742823531562\n",
      "Step 8: 0.8686651774064541\n",
      "Step 9: 0.866241437661585\n",
      "Shapes (2071, 70) (70, 10086)\n",
      "Chrono: factor matrix [0q, 40183ms]\n",
      "Train error 0.864423050066\n",
      "Test error 1.15890670955\n"
     ]
    }
   ],
   "source": [
    "xals.NB_ITERATIONS = 10\n",
    "xals.fit(dataset.anonymized.X[i_train], dataset.anonymized.y[i_train])\n",
    "y_pred = xals.predict(X_train)\n",
    "print('Train error', xals.compute_rmse(y_pred, y_train))\n",
    "y_pred = xals.predict(X_test)\n",
    "print('Test error', xals.compute_rmse(y_pred, y_test))"
   ]
  },
  {
   "cell_type": "code",
   "execution_count": 17,
   "metadata": {
    "collapsed": true
   },
   "outputs": [],
   "source": [
    "#y_pred = xals.predict(X_train)\n",
    "#print('Train error', xals.compute_rmse(y_pred, y_train))\n",
    "#y_pred = xals.predict(X_test)\n",
    "#print('Test error', xals.compute_rmse(y_pred, y_test))"
   ]
  },
  {
   "cell_type": "code",
   "execution_count": 18,
   "metadata": {
    "collapsed": true
   },
   "outputs": [],
   "source": [
    "#xals = MangakiXALS(10)\n",
    "#xals.NB_ITERATIONS = 1\n",
    "#xals.set_parameters(dataset.anonymized.nb_users, dataset.anonymized.nb_works)\n",
    "#xals.load_tags(np.zeros((5, 2)))\n",
    "\n",
    "#xals.fit(dataset.anonymized.X[i_train], dataset.anonymized.y[i_train])"
   ]
  },
  {
   "cell_type": "code",
   "execution_count": 452,
   "metadata": {},
   "outputs": [
    {
     "name": "stdout",
     "output_type": "stream",
     "text": [
      "Computing M: (2079 × 9979)\n",
      "Chrono: fill and center matrix [0q, 1652ms]\n",
      "Shapes (2079, 10) (10, 9979)\n",
      "Chrono: factor matrix [0q, 6382ms]\n",
      "Train error 0.971513985891\n",
      "Test error 1.16407797809\n"
     ]
    }
   ],
   "source": [
    "als = MangakiALS(10, LAMBDA=0.1)\n",
    "als.set_parameters(dataset.anonymized.nb_users, dataset.anonymized.nb_works)\n",
    "\n",
    "als.fit(dataset.anonymized.X[i_train], dataset.anonymized.y[i_train])\n",
    "y_pred = als.predict(X_train)\n",
    "print('Train error', als.compute_rmse(y_pred, y_train))\n",
    "y_pred = als.predict(X_test)\n",
    "print('Test error', als.compute_rmse(y_pred, y_test))"
   ]
  },
  {
   "cell_type": "code",
   "execution_count": 35,
   "metadata": {},
   "outputs": [
    {
     "name": "stdout",
     "output_type": "stream",
     "text": [
      "Computing M: (2071 × 10086)\n",
      "Chrono: fill and center matrix [0q, 888ms]\n",
      "Step 0: 2.886379284051022\n",
      "Step 1: 1.194795154319086\n",
      "Step 2: 1.062144706886434\n",
      "Step 3: 1.0141357441999006\n",
      "Step 4: 0.9922552228778776\n",
      "Step 5: 0.9824491230454211\n",
      "Step 6: 0.9769894705413208\n",
      "Step 7: 0.9734309641401508\n",
      "Step 8: 0.9709293737602634\n",
      "Step 9: 0.9690863796274234\n",
      "Shapes (2071, 10) (10, 10086)\n",
      "Chrono: factor matrix [0q, 7426ms]\n",
      "Train error 0.967672895872\n",
      "Test error 1.16500429039\n"
     ]
    }
   ],
   "source": [
    "als = MangakiALS(10)\n",
    "als.NB_ITERATIONS = 10\n",
    "als.set_parameters(dataset.anonymized.nb_users, dataset.anonymized.nb_works)\n",
    "\n",
    "als.fit(dataset.anonymized.X[i_train], dataset.anonymized.y[i_train])\n",
    "y_pred = als.predict(X_train)\n",
    "print('Train error', als.compute_rmse(y_pred, y_train))\n",
    "y_pred = als.predict(X_test)\n",
    "print('Test error', als.compute_rmse(y_pred, y_test))"
   ]
  },
  {
   "cell_type": "code",
   "execution_count": 453,
   "metadata": {
    "collapsed": true
   },
   "outputs": [],
   "source": [
    "y_train_pred = als.predict(X_train)"
   ]
  },
  {
   "cell_type": "code",
   "execution_count": 454,
   "metadata": {
    "collapsed": true
   },
   "outputs": [],
   "source": [
    "from scipy.sparse import coo_matrix\n",
    "\n",
    "nb_users = dataset.anonymized.nb_users\n",
    "nb_works = dataset.anonymized.nb_works\n",
    "row = X_train[:, 0]\n",
    "col = X_train[:, 1]\n",
    "data = y_train - y_train_pred\n",
    "M_res = coo_matrix((data, (row, col)), shape=(nb_users, nb_works)).tocsr()"
   ]
  },
  {
   "cell_type": "code",
   "execution_count": 455,
   "metadata": {
    "collapsed": true
   },
   "outputs": [],
   "source": [
    "user_ids = sorted(set(row))"
   ]
  },
  {
   "cell_type": "code",
   "execution_count": 456,
   "metadata": {},
   "outputs": [],
   "source": [
    "from mangaki.utils.balse import MangakiBALSE\n",
    "from scipy.sparse import load_npz\n",
    "\n",
    "T = load_npz('../data/balse/tag-matrix.npz').toarray()"
   ]
  },
  {
   "cell_type": "code",
   "execution_count": 473,
   "metadata": {},
   "outputs": [
    {
     "name": "stdout",
     "output_type": "stream",
     "text": [
      "0\n",
      "100\n",
      "200\n",
      "300\n",
      "400\n"
     ]
    },
    {
     "name": "stderr",
     "output_type": "stream",
     "text": [
      "/Users/jilljenn/code/mangaki/venv/lib/python3.6/site-packages/sklearn/linear_model/coordinate_descent.py:484: ConvergenceWarning: Objective did not converge. You might want to increase the number of iterations. Fitting data with very small alpha may cause precision problems.\n",
      "  ConvergenceWarning)\n"
     ]
    },
    {
     "name": "stdout",
     "output_type": "stream",
     "text": [
      "500\n",
      "600\n",
      "700\n",
      "800\n",
      "900\n",
      "1000\n",
      "1100\n",
      "1200\n",
      "1300\n",
      "1400\n",
      "1500\n",
      "1600\n",
      "1800\n",
      "1900\n",
      "2000\n"
     ]
    }
   ],
   "source": [
    "from collections import defaultdict\n",
    "\n",
    "reg = defaultdict(lambda: Lasso(alpha=0.01, normalize=True))\n",
    "for user_id in user_ids:\n",
    "    indices = M_res[user_id].indices\n",
    "    values = M_res[user_id].data\n",
    "    reg[user_id].fit(T[indices], values)\n",
    "    if user_id % 100 == 0:\n",
    "        print(user_id)"
   ]
  },
  {
   "cell_type": "code",
   "execution_count": 474,
   "metadata": {},
   "outputs": [
    {
     "data": {
      "text/plain": [
       "<1x9979 sparse matrix of type '<class 'numpy.float64'>'\n",
       "\twith 78 stored elements in Compressed Sparse Row format>"
      ]
     },
     "execution_count": 474,
     "metadata": {},
     "output_type": "execute_result"
    }
   ],
   "source": [
    "M_res.tocsr()[0, :]"
   ]
  },
  {
   "cell_type": "code",
   "execution_count": 475,
   "metadata": {
    "collapsed": true
   },
   "outputs": [],
   "source": [
    "from sklearn.linear_model import LinearRegression"
   ]
  },
  {
   "cell_type": "code",
   "execution_count": 476,
   "metadata": {},
   "outputs": [
    {
     "name": "stdout",
     "output_type": "stream",
     "text": [
      "742 not\n",
      "1966 not\n",
      "1040 not\n",
      "1177 not\n",
      "819 not\n",
      "819 not\n",
      "193 not\n",
      "492 not\n",
      "887 not\n",
      "262 not\n",
      "963 not\n",
      "670 not\n",
      "1700 not\n"
     ]
    }
   ],
   "source": [
    "#M_pred = T.dot(W.T).T\n",
    "#M_pred[user_id][work_id]\n",
    "y_delta_res = []\n",
    "for user_id, work_id in X_tmp_test:\n",
    "    if user_id not in reg:\n",
    "        print(user_id, 'not')\n",
    "        y_delta_res.append(0)\n",
    "    else:\n",
    "        y_delta_res.append(reg[user_id].predict(T[work_id].reshape(1, -1))[0])"
   ]
  },
  {
   "cell_type": "code",
   "execution_count": 508,
   "metadata": {
    "collapsed": true
   },
   "outputs": [],
   "source": [
    "y_delta_repaired = list(map(relu, y_delta_res))"
   ]
  },
  {
   "cell_type": "code",
   "execution_count": 509,
   "metadata": {},
   "outputs": [
    {
     "name": "stdout",
     "output_type": "stream",
     "text": [
      "Test error 1.65421868781\n"
     ]
    }
   ],
   "source": [
    "print('Test error', als.compute_rmse(y_pred + y_delta_res, y_tmp_test))"
   ]
  },
  {
   "cell_type": "markdown",
   "metadata": {},
   "source": [
    "# LOL"
   ]
  },
  {
   "cell_type": "code",
   "execution_count": 512,
   "metadata": {},
   "outputs": [
    {
     "name": "stdout",
     "output_type": "stream",
     "text": [
      "Test error 1.53517979846\n"
     ]
    }
   ],
   "source": [
    "WINDOW = 100\n",
    "print('Test error', als.compute_rmse(y_pred[:WINDOW], y_tmp_test[:WINDOW]))"
   ]
  },
  {
   "cell_type": "code",
   "execution_count": 513,
   "metadata": {},
   "outputs": [
    {
     "name": "stdout",
     "output_type": "stream",
     "text": [
      "Test error 1.54160367973\n"
     ]
    }
   ],
   "source": [
    "y_new_pred = y_pred + y_delta_repaired\n",
    "print('Test error', als.compute_rmse(y_new_pred[:WINDOW], y_tmp_test[:WINDOW]))"
   ]
  },
  {
   "cell_type": "code",
   "execution_count": 63,
   "metadata": {
    "collapsed": true
   },
   "outputs": [],
   "source": [
    "from collections import Counter\n",
    "\n",
    "nb_ratings = Counter(dataset.anonymized.X[:, 0])\n",
    "nb_rated = Counter(dataset.anonymized.X[:, 1])"
   ]
  },
  {
   "cell_type": "code",
   "execution_count": 64,
   "metadata": {},
   "outputs": [
    {
     "data": {
      "text/plain": [
       "[(1855, 3059), (1046, 2912), (93, 2483), (1306, 2151), (1502, 2017)]"
      ]
     },
     "execution_count": 64,
     "metadata": {},
     "output_type": "execute_result"
    }
   ],
   "source": [
    "nb_ratings.most_common(5)"
   ]
  },
  {
   "cell_type": "code",
   "execution_count": 385,
   "metadata": {},
   "outputs": [
    {
     "name": "stdout",
     "output_type": "stream",
     "text": [
      "2320\n",
      "592\n"
     ]
    }
   ],
   "source": [
    "PIG = 1046\n",
    "print(list(X_train[:, 0]).count(PIG))\n",
    "print(list(X_tmp_test[:, 0]).count(PIG))"
   ]
  },
  {
   "cell_type": "code",
   "execution_count": 68,
   "metadata": {},
   "outputs": [],
   "source": [
    "from scipy.sparse import coo_matrix\n",
    "\n",
    "nb_users = dataset.anonymized.nb_users\n",
    "nb_works = dataset.anonymized.nb_works\n",
    "row = X_train[:, 0]\n",
    "col = X_train[:, 1]\n",
    "data = y_train\n",
    "M = coo_matrix((data, (row, col)), shape=(nb_users, nb_works)).tocsr()"
   ]
  },
  {
   "cell_type": "code",
   "execution_count": 386,
   "metadata": {},
   "outputs": [
    {
     "data": {
      "text/plain": [
       "2320"
      ]
     },
     "execution_count": 386,
     "metadata": {},
     "output_type": "execute_result"
    }
   ],
   "source": [
    "len(M[PIG].data)"
   ]
  },
  {
   "cell_type": "code",
   "execution_count": 71,
   "metadata": {
    "collapsed": true
   },
   "outputs": [],
   "source": [
    "from scipy.sparse import coo_matrix\n",
    "\n",
    "nb_users = dataset.anonymized.nb_users\n",
    "nb_works = dataset.anonymized.nb_works\n",
    "row = X_test[:, 0]\n",
    "col = X_test[:, 1]\n",
    "data = y_test\n",
    "secret = coo_matrix((data, (row, col)), shape=(nb_users, nb_works)).tocsr()"
   ]
  },
  {
   "cell_type": "code",
   "execution_count": 387,
   "metadata": {},
   "outputs": [
    {
     "data": {
      "text/plain": [
       "592"
      ]
     },
     "execution_count": 387,
     "metadata": {},
     "output_type": "execute_result"
    }
   ],
   "source": [
    "len(secret[PIG].data)"
   ]
  },
  {
   "cell_type": "code",
   "execution_count": 506,
   "metadata": {
    "collapsed": true
   },
   "outputs": [],
   "source": [
    "def relu(x):\n",
    "    return max(-1, min(1, x))\n",
    "\n",
    "def ident(x):\n",
    "    return x"
   ]
  },
  {
   "cell_type": "code",
   "execution_count": 507,
   "metadata": {},
   "outputs": [
    {
     "data": {
      "text/plain": [
       "Counter({-1.1676416399158847: 1,\n",
       "         -1.1491829435443137: 1,\n",
       "         -0.84148292472221797: 1,\n",
       "         -0.03462047782438793: 1,\n",
       "         0.076723814485728292: 1,\n",
       "         0.078985447331703318: 1,\n",
       "         0.083188059369782685: 1,\n",
       "         0.10461310060452478: 1,\n",
       "         0.25036640623481432: 1,\n",
       "         0.25076801234805934: 1,\n",
       "         0.25731148325268571: 1,\n",
       "         0.285844308136046: 1,\n",
       "         0.30371543334555895: 1,\n",
       "         0.31767885177443378: 1,\n",
       "         0.36010121626691483: 1,\n",
       "         0.47885700830795197: 1})"
      ]
     },
     "execution_count": 507,
     "metadata": {},
     "output_type": "execute_result"
    }
   ],
   "source": [
    "Counter(values)"
   ]
  },
  {
   "cell_type": "code",
   "execution_count": 429,
   "metadata": {},
   "outputs": [],
   "source": [
    "from sklearn.linear_model import Lasso, ElasticNet\n",
    "\n",
    "reg = Lasso(alpha=0.001, normalize=True)\n",
    "for user_id in [PIG]:\n",
    "    i2 = []\n",
    "    v2 = []\n",
    "    indices = M[user_id].indices\n",
    "    values = M[user_id].data\n",
    "    for i, v in zip(indices, values):\n",
    "        if v != -0.5:\n",
    "            i2.append(i)\n",
    "            v2.append(v)\n",
    "    reg.fit(T[indices], values)"
   ]
  },
  {
   "cell_type": "code",
   "execution_count": 430,
   "metadata": {},
   "outputs": [],
   "source": [
    "for user_id in [PIG]:\n",
    "    indices = secret[user_id].indices\n",
    "    y_pred_lr = list(map(ident, reg.predict(T[indices])))\n",
    "    special = []\n",
    "    y_special = []\n",
    "    for work_id in indices:\n",
    "        if nb_rated[work_id] < 3:\n",
    "            special.append(work_id)\n",
    "            y_special.append(secret[user_id, work_id])"
   ]
  },
  {
   "cell_type": "code",
   "execution_count": 442,
   "metadata": {},
   "outputs": [],
   "source": [
    "y_als = als.predict(np.array([(PIG, work_id) for work_id in special]))"
   ]
  },
  {
   "cell_type": "code",
   "execution_count": 443,
   "metadata": {},
   "outputs": [
    {
     "data": {
      "text/plain": [
       "Counter({-2.0: 8, -0.5: 46, 0.1: 1, 0.5: 4, 2.0: 17})"
      ]
     },
     "execution_count": 443,
     "metadata": {},
     "output_type": "execute_result"
    }
   ],
   "source": [
    "Counter(y_special)"
   ]
  },
  {
   "cell_type": "code",
   "execution_count": 444,
   "metadata": {},
   "outputs": [],
   "source": [
    "y_true = secret[user_id].data"
   ]
  },
  {
   "cell_type": "code",
   "execution_count": 445,
   "metadata": {},
   "outputs": [
    {
     "data": {
      "text/plain": [
       "Counter({-2.0: 53, -0.5: 277, 0.1: 32, 0.5: 52, 2.0: 178})"
      ]
     },
     "execution_count": 445,
     "metadata": {},
     "output_type": "execute_result"
    }
   ],
   "source": [
    "Counter(y_true)"
   ]
  },
  {
   "cell_type": "code",
   "execution_count": 446,
   "metadata": {},
   "outputs": [
    {
     "data": {
      "text/plain": [
       "1.2279867191521727"
      ]
     },
     "execution_count": 446,
     "metadata": {},
     "output_type": "execute_result"
    }
   ],
   "source": [
    "#als.compute_rmse(y_als, y_true)\n",
    "als.compute_rmse(y_als, y_special)"
   ]
  },
  {
   "cell_type": "code",
   "execution_count": 447,
   "metadata": {},
   "outputs": [
    {
     "data": {
      "text/plain": [
       "array([ 0.01197922,  0.01197922,  0.01197922,  0.01197922,  0.01197922,\n",
       "        1.5850158 ,  0.01197922,  0.01197922,  0.01197922,  0.64119385])"
      ]
     },
     "execution_count": 447,
     "metadata": {},
     "output_type": "execute_result"
    }
   ],
   "source": [
    "y_als[:10]"
   ]
  },
  {
   "cell_type": "code",
   "execution_count": 448,
   "metadata": {
    "collapsed": true
   },
   "outputs": [],
   "source": [
    "y_lr_special = reg.predict(T[special])"
   ]
  },
  {
   "cell_type": "code",
   "execution_count": 449,
   "metadata": {},
   "outputs": [
    {
     "data": {
      "text/plain": [
       "1.1685289466230184"
      ]
     },
     "execution_count": 449,
     "metadata": {},
     "output_type": "execute_result"
    }
   ],
   "source": [
    "#als.compute_rmse(y_pred_lr, y_true)\n",
    "als.compute_rmse(y_lr_special, y_special)"
   ]
  },
  {
   "cell_type": "code",
   "execution_count": 450,
   "metadata": {},
   "outputs": [
    {
     "data": {
      "text/plain": [
       "[-0.5, -0.5, -2.0, -2.0, -0.5, 2.0, -0.5, -0.5, -0.5, 2.0]"
      ]
     },
     "execution_count": 450,
     "metadata": {},
     "output_type": "execute_result"
    }
   ],
   "source": [
    "y_special[:10]"
   ]
  },
  {
   "cell_type": "code",
   "execution_count": 451,
   "metadata": {},
   "outputs": [
    {
     "data": {
      "text/plain": [
       "array([ 0.51698216, -0.09516446, -0.23657821,  0.38801507, -0.37281518,\n",
       "        0.47601378, -0.0969073 , -0.0715639 ,  0.56659119,  0.39945745])"
      ]
     },
     "execution_count": 451,
     "metadata": {},
     "output_type": "execute_result"
    }
   ],
   "source": [
    "y_lr_special[:10]"
   ]
  },
  {
   "cell_type": "code",
   "execution_count": 420,
   "metadata": {},
   "outputs": [
    {
     "data": {
      "text/plain": [
       "array([ -0.00000000e+00,   0.00000000e+00,   0.00000000e+00,\n",
       "         0.00000000e+00,   0.00000000e+00,   7.25699453e-03,\n",
       "        -0.00000000e+00,  -0.00000000e+00,  -0.00000000e+00,\n",
       "        -0.00000000e+00,   0.00000000e+00,  -0.00000000e+00,\n",
       "         0.00000000e+00,  -0.00000000e+00,   9.73638382e-01,\n",
       "        -0.00000000e+00,   0.00000000e+00,   0.00000000e+00,\n",
       "         0.00000000e+00,   0.00000000e+00,   0.00000000e+00,\n",
       "         0.00000000e+00,   1.38331468e+00,  -0.00000000e+00,\n",
       "         0.00000000e+00,  -0.00000000e+00,   0.00000000e+00,\n",
       "        -0.00000000e+00,   0.00000000e+00,   0.00000000e+00,\n",
       "        -6.81614350e-01,  -0.00000000e+00,  -0.00000000e+00,\n",
       "         4.31949613e+00,   0.00000000e+00,   0.00000000e+00,\n",
       "         0.00000000e+00,  -0.00000000e+00,  -0.00000000e+00,\n",
       "        -0.00000000e+00,  -0.00000000e+00,   0.00000000e+00,\n",
       "         0.00000000e+00,  -0.00000000e+00,   0.00000000e+00,\n",
       "         0.00000000e+00,  -0.00000000e+00,  -0.00000000e+00,\n",
       "        -7.32531149e-01,   0.00000000e+00,   0.00000000e+00,\n",
       "        -0.00000000e+00,  -0.00000000e+00,  -0.00000000e+00,\n",
       "        -0.00000000e+00,   0.00000000e+00,  -0.00000000e+00,\n",
       "        -0.00000000e+00,  -0.00000000e+00,   0.00000000e+00,\n",
       "         0.00000000e+00,   0.00000000e+00,  -0.00000000e+00,\n",
       "        -4.94279874e-02,  -0.00000000e+00,  -0.00000000e+00,\n",
       "        -0.00000000e+00,  -0.00000000e+00,   0.00000000e+00,\n",
       "         0.00000000e+00,   0.00000000e+00,  -0.00000000e+00,\n",
       "        -0.00000000e+00,   0.00000000e+00,  -0.00000000e+00,\n",
       "        -0.00000000e+00,  -0.00000000e+00,  -0.00000000e+00,\n",
       "        -0.00000000e+00,   0.00000000e+00,  -3.05892403e-01,\n",
       "         0.00000000e+00,   0.00000000e+00,  -0.00000000e+00,\n",
       "         0.00000000e+00,  -0.00000000e+00,  -0.00000000e+00,\n",
       "         0.00000000e+00,   0.00000000e+00,   0.00000000e+00,\n",
       "        -1.30277361e-01,   0.00000000e+00,   0.00000000e+00,\n",
       "        -0.00000000e+00,   0.00000000e+00,  -0.00000000e+00,\n",
       "        -0.00000000e+00,   0.00000000e+00,   0.00000000e+00,\n",
       "        -0.00000000e+00,  -0.00000000e+00,   0.00000000e+00,\n",
       "         0.00000000e+00,  -0.00000000e+00,   0.00000000e+00,\n",
       "         0.00000000e+00,  -0.00000000e+00,  -0.00000000e+00,\n",
       "        -0.00000000e+00,   0.00000000e+00,  -0.00000000e+00,\n",
       "         0.00000000e+00,  -0.00000000e+00,  -0.00000000e+00,\n",
       "        -0.00000000e+00,  -0.00000000e+00,  -0.00000000e+00,\n",
       "        -0.00000000e+00,   0.00000000e+00,  -0.00000000e+00,\n",
       "        -0.00000000e+00,  -0.00000000e+00,   0.00000000e+00,\n",
       "         0.00000000e+00,  -0.00000000e+00,  -0.00000000e+00,\n",
       "        -1.58564686e-01,   0.00000000e+00,  -3.12347055e-01,\n",
       "        -0.00000000e+00,  -2.63105622e-02,  -0.00000000e+00,\n",
       "        -0.00000000e+00,   0.00000000e+00,  -0.00000000e+00,\n",
       "        -8.74372436e-01,  -0.00000000e+00,   0.00000000e+00,\n",
       "        -0.00000000e+00,  -0.00000000e+00,   2.21573815e+00,\n",
       "        -0.00000000e+00,   0.00000000e+00,   0.00000000e+00,\n",
       "         0.00000000e+00,  -0.00000000e+00,   0.00000000e+00,\n",
       "         6.30963355e-01,   0.00000000e+00,   0.00000000e+00,\n",
       "        -0.00000000e+00,  -0.00000000e+00,   0.00000000e+00,\n",
       "        -0.00000000e+00,  -0.00000000e+00,  -0.00000000e+00,\n",
       "        -0.00000000e+00,  -1.70142726e-01,   6.11220475e-01,\n",
       "        -0.00000000e+00,   0.00000000e+00,  -0.00000000e+00,\n",
       "        -0.00000000e+00,   0.00000000e+00,   0.00000000e+00,\n",
       "        -0.00000000e+00,   6.31839831e-02,   0.00000000e+00,\n",
       "        -0.00000000e+00,   0.00000000e+00,  -0.00000000e+00,\n",
       "        -0.00000000e+00,  -0.00000000e+00,   1.38083123e-02,\n",
       "         0.00000000e+00,   0.00000000e+00,  -0.00000000e+00,\n",
       "         0.00000000e+00,  -0.00000000e+00,  -3.40373661e-01,\n",
       "        -2.78559368e-01,   0.00000000e+00,   0.00000000e+00,\n",
       "         5.77917294e-01,   0.00000000e+00,  -0.00000000e+00,\n",
       "        -0.00000000e+00,   0.00000000e+00,  -0.00000000e+00,\n",
       "         0.00000000e+00,  -0.00000000e+00,   0.00000000e+00,\n",
       "        -0.00000000e+00,  -0.00000000e+00,  -0.00000000e+00,\n",
       "         0.00000000e+00,  -0.00000000e+00,  -0.00000000e+00,\n",
       "        -0.00000000e+00,   0.00000000e+00,   0.00000000e+00,\n",
       "        -0.00000000e+00,  -8.41882009e-01,   0.00000000e+00,\n",
       "         0.00000000e+00,  -0.00000000e+00,   0.00000000e+00,\n",
       "        -0.00000000e+00,  -0.00000000e+00,  -0.00000000e+00,\n",
       "        -9.74269723e-02,  -0.00000000e+00,   0.00000000e+00,\n",
       "        -2.39329028e-01,   0.00000000e+00,  -0.00000000e+00,\n",
       "         0.00000000e+00,  -0.00000000e+00,  -0.00000000e+00,\n",
       "        -0.00000000e+00,   0.00000000e+00,   0.00000000e+00,\n",
       "         0.00000000e+00,   0.00000000e+00,   0.00000000e+00,\n",
       "         0.00000000e+00,   0.00000000e+00,  -0.00000000e+00,\n",
       "        -0.00000000e+00,  -0.00000000e+00,  -0.00000000e+00,\n",
       "         0.00000000e+00,   0.00000000e+00,  -0.00000000e+00,\n",
       "         0.00000000e+00,   0.00000000e+00,  -0.00000000e+00,\n",
       "         0.00000000e+00,  -3.48409644e-01,   0.00000000e+00,\n",
       "         0.00000000e+00,   0.00000000e+00,   0.00000000e+00,\n",
       "         0.00000000e+00,  -0.00000000e+00,  -6.29922940e-01,\n",
       "         0.00000000e+00,   0.00000000e+00,  -3.99326518e-01,\n",
       "        -0.00000000e+00,   0.00000000e+00,   0.00000000e+00,\n",
       "        -0.00000000e+00,  -0.00000000e+00,   0.00000000e+00,\n",
       "        -0.00000000e+00,   0.00000000e+00,   0.00000000e+00,\n",
       "         0.00000000e+00,  -0.00000000e+00,  -0.00000000e+00,\n",
       "         4.18118130e-01,  -0.00000000e+00,   0.00000000e+00,\n",
       "        -0.00000000e+00,   0.00000000e+00,  -0.00000000e+00,\n",
       "        -0.00000000e+00,  -0.00000000e+00,  -0.00000000e+00,\n",
       "         0.00000000e+00,  -0.00000000e+00,  -0.00000000e+00,\n",
       "        -0.00000000e+00,   0.00000000e+00,  -0.00000000e+00,\n",
       "        -0.00000000e+00,  -0.00000000e+00,  -0.00000000e+00,\n",
       "        -0.00000000e+00,  -0.00000000e+00,  -0.00000000e+00,\n",
       "         0.00000000e+00,  -0.00000000e+00,   0.00000000e+00,\n",
       "        -0.00000000e+00,   3.47767445e-01,   0.00000000e+00,\n",
       "        -0.00000000e+00,  -0.00000000e+00,   0.00000000e+00,\n",
       "         2.27764412e+00,   0.00000000e+00,  -0.00000000e+00,\n",
       "        -0.00000000e+00,   0.00000000e+00,   0.00000000e+00,\n",
       "        -0.00000000e+00,  -0.00000000e+00,   1.44516595e-01,\n",
       "        -0.00000000e+00,  -0.00000000e+00,  -0.00000000e+00,\n",
       "         0.00000000e+00,  -0.00000000e+00,  -0.00000000e+00,\n",
       "        -0.00000000e+00,   0.00000000e+00,  -0.00000000e+00,\n",
       "        -0.00000000e+00,  -4.86683788e-01,  -0.00000000e+00,\n",
       "        -5.07222904e-01,  -0.00000000e+00,   2.39379890e+00,\n",
       "         0.00000000e+00,   0.00000000e+00,   0.00000000e+00,\n",
       "        -0.00000000e+00,  -0.00000000e+00,   0.00000000e+00,\n",
       "        -0.00000000e+00,   0.00000000e+00,   0.00000000e+00,\n",
       "         0.00000000e+00,   0.00000000e+00,  -0.00000000e+00,\n",
       "         0.00000000e+00,  -0.00000000e+00,   0.00000000e+00,\n",
       "        -0.00000000e+00,   0.00000000e+00,  -0.00000000e+00,\n",
       "        -0.00000000e+00,  -0.00000000e+00,  -2.53793630e-01,\n",
       "         0.00000000e+00,   0.00000000e+00,  -1.00674605e+00,\n",
       "        -0.00000000e+00,   1.29579796e+00,  -0.00000000e+00,\n",
       "        -0.00000000e+00,  -0.00000000e+00,  -0.00000000e+00,\n",
       "         0.00000000e+00,  -0.00000000e+00,   0.00000000e+00,\n",
       "         0.00000000e+00,   0.00000000e+00,   0.00000000e+00,\n",
       "        -0.00000000e+00,  -0.00000000e+00,   0.00000000e+00,\n",
       "        -0.00000000e+00,  -0.00000000e+00,   0.00000000e+00,\n",
       "        -0.00000000e+00,   0.00000000e+00,   0.00000000e+00,\n",
       "        -0.00000000e+00,   0.00000000e+00,   0.00000000e+00,\n",
       "        -0.00000000e+00,  -0.00000000e+00,  -0.00000000e+00,\n",
       "         0.00000000e+00,  -1.89795425e-01,  -0.00000000e+00,\n",
       "         0.00000000e+00,   0.00000000e+00,  -0.00000000e+00,\n",
       "         2.04818885e-01,   0.00000000e+00,  -0.00000000e+00,\n",
       "         0.00000000e+00,   0.00000000e+00,  -0.00000000e+00,\n",
       "         0.00000000e+00,   0.00000000e+00,   0.00000000e+00,\n",
       "        -0.00000000e+00,  -0.00000000e+00,  -5.29491991e-01,\n",
       "        -0.00000000e+00,   0.00000000e+00,  -0.00000000e+00,\n",
       "        -0.00000000e+00,  -0.00000000e+00,  -0.00000000e+00,\n",
       "        -0.00000000e+00,   0.00000000e+00,  -3.54237408e-02,\n",
       "        -0.00000000e+00,   0.00000000e+00,   0.00000000e+00,\n",
       "         0.00000000e+00,   0.00000000e+00,  -0.00000000e+00,\n",
       "        -0.00000000e+00,   0.00000000e+00,  -0.00000000e+00,\n",
       "         0.00000000e+00,  -0.00000000e+00,  -1.04197212e+00,\n",
       "        -0.00000000e+00,   0.00000000e+00,   0.00000000e+00,\n",
       "        -0.00000000e+00,   0.00000000e+00,  -0.00000000e+00,\n",
       "        -0.00000000e+00,   0.00000000e+00,   1.49529844e-03,\n",
       "         0.00000000e+00,   0.00000000e+00,   1.46073740e+00,\n",
       "         0.00000000e+00,   0.00000000e+00,  -0.00000000e+00,\n",
       "         0.00000000e+00,  -1.63275673e-01,  -0.00000000e+00,\n",
       "         0.00000000e+00,  -0.00000000e+00,  -0.00000000e+00,\n",
       "         1.68099501e-01,  -0.00000000e+00,  -0.00000000e+00,\n",
       "         0.00000000e+00,  -0.00000000e+00,  -0.00000000e+00,\n",
       "        -0.00000000e+00,   0.00000000e+00,  -0.00000000e+00,\n",
       "        -0.00000000e+00,  -0.00000000e+00,  -0.00000000e+00,\n",
       "         0.00000000e+00,   0.00000000e+00,  -6.67619846e-02,\n",
       "        -0.00000000e+00,  -0.00000000e+00,   0.00000000e+00,\n",
       "        -0.00000000e+00,  -0.00000000e+00,  -0.00000000e+00,\n",
       "        -0.00000000e+00,  -0.00000000e+00,  -0.00000000e+00,\n",
       "         0.00000000e+00,   4.12139643e-01,  -0.00000000e+00,\n",
       "        -0.00000000e+00,  -0.00000000e+00,   0.00000000e+00,\n",
       "         0.00000000e+00,  -0.00000000e+00,  -0.00000000e+00,\n",
       "        -0.00000000e+00,  -0.00000000e+00,   0.00000000e+00,\n",
       "         3.83808159e-02,   0.00000000e+00,  -0.00000000e+00,\n",
       "        -0.00000000e+00,   0.00000000e+00,  -0.00000000e+00,\n",
       "        -0.00000000e+00,  -0.00000000e+00,   0.00000000e+00,\n",
       "        -0.00000000e+00,  -0.00000000e+00,  -0.00000000e+00,\n",
       "        -0.00000000e+00,   0.00000000e+00,   0.00000000e+00,\n",
       "        -0.00000000e+00,  -0.00000000e+00,  -0.00000000e+00,\n",
       "        -0.00000000e+00,   0.00000000e+00,  -0.00000000e+00,\n",
       "        -1.52312753e-01,   0.00000000e+00,  -0.00000000e+00,\n",
       "         0.00000000e+00,   0.00000000e+00,  -8.00768863e-01,\n",
       "        -0.00000000e+00,   0.00000000e+00,  -0.00000000e+00,\n",
       "         0.00000000e+00,   0.00000000e+00,  -0.00000000e+00,\n",
       "        -0.00000000e+00,  -0.00000000e+00,   0.00000000e+00,\n",
       "         0.00000000e+00,  -0.00000000e+00,  -0.00000000e+00,\n",
       "        -0.00000000e+00,   0.00000000e+00])"
      ]
     },
     "execution_count": 420,
     "metadata": {},
     "output_type": "execute_result"
    }
   ],
   "source": [
    "reg.coef_"
   ]
  },
  {
   "cell_type": "code",
   "execution_count": 41,
   "metadata": {
    "collapsed": true
   },
   "outputs": [],
   "source": [
    "i_test_ordered = sorted(i_test, key=lambda i: nb_rated[dataset.anonymized.X[i][1]], reverse=True)"
   ]
  },
  {
   "cell_type": "code",
   "execution_count": 29,
   "metadata": {
    "collapsed": true
   },
   "outputs": [],
   "source": [
    "X_test_ordered = dataset.anonymized.X[i_test_ordered]\n",
    "y_test_ordered = dataset.anonymized.y[i_test_ordered]"
   ]
  },
  {
   "cell_type": "code",
   "execution_count": 30,
   "metadata": {
    "collapsed": true
   },
   "outputs": [],
   "source": [
    "K = len(X_test_ordered)\n",
    "X_tmp_test = X_test_ordered[-K:]\n",
    "y_tmp_test = y_test_ordered[-K:]"
   ]
  },
  {
   "cell_type": "code",
   "execution_count": 43,
   "metadata": {},
   "outputs": [
    {
     "name": "stdout",
     "output_type": "stream",
     "text": [
      "[ 2.   2.   0.5  2.   0.1]\n",
      "[ 0.48589134  1.94460025  1.13536123  0.92859408  1.61266596]\n",
      "ALS Test error 1.16744780835\n"
     ]
    },
    {
     "ename": "NameError",
     "evalue": "name 'M_pred' is not defined",
     "output_type": "error",
     "traceback": [
      "\u001b[0;31m---------------------------------------------------------------------------\u001b[0m",
      "\u001b[0;31mNameError\u001b[0m                                 Traceback (most recent call last)",
      "\u001b[0;32m<ipython-input-43-c5671f12a88e>\u001b[0m in \u001b[0;36m<module>\u001b[0;34m()\u001b[0m\n\u001b[1;32m      8\u001b[0m \u001b[0my_delta_res\u001b[0m \u001b[0;34m=\u001b[0m \u001b[0;34m[\u001b[0m\u001b[0;34m]\u001b[0m\u001b[0;34m\u001b[0m\u001b[0m\n\u001b[1;32m      9\u001b[0m \u001b[0;32mfor\u001b[0m \u001b[0muser_id\u001b[0m\u001b[0;34m,\u001b[0m \u001b[0mwork_id\u001b[0m \u001b[0;32min\u001b[0m \u001b[0mX_tmp_test\u001b[0m\u001b[0;34m:\u001b[0m\u001b[0;34m\u001b[0m\u001b[0m\n\u001b[0;32m---> 10\u001b[0;31m     \u001b[0my_delta_res\u001b[0m\u001b[0;34m.\u001b[0m\u001b[0mappend\u001b[0m\u001b[0;34m(\u001b[0m\u001b[0mM_pred\u001b[0m\u001b[0;34m[\u001b[0m\u001b[0muser_id\u001b[0m\u001b[0;34m]\u001b[0m\u001b[0;34m[\u001b[0m\u001b[0mwork_id\u001b[0m\u001b[0;34m]\u001b[0m\u001b[0;34m)\u001b[0m\u001b[0;34m\u001b[0m\u001b[0m\n\u001b[0m\u001b[1;32m     11\u001b[0m \u001b[0my_delta_res\u001b[0m \u001b[0;34m=\u001b[0m \u001b[0mnp\u001b[0m\u001b[0;34m.\u001b[0m\u001b[0marray\u001b[0m\u001b[0;34m(\u001b[0m\u001b[0my_delta_res\u001b[0m\u001b[0;34m)\u001b[0m\u001b[0;34m\u001b[0m\u001b[0m\n\u001b[1;32m     12\u001b[0m \u001b[0my_new\u001b[0m \u001b[0;34m=\u001b[0m \u001b[0my_pred_als\u001b[0m \u001b[0;34m+\u001b[0m \u001b[0;36m2\u001b[0m \u001b[0;34m*\u001b[0m \u001b[0my_delta_res\u001b[0m\u001b[0;34m\u001b[0m\u001b[0m\n",
      "\u001b[0;31mNameError\u001b[0m: name 'M_pred' is not defined"
     ]
    }
   ],
   "source": [
    "y_pred_als = als.predict(X_tmp_test)\n",
    "print(y_tmp_test[:5])\n",
    "print(y_pred_als[:5])\n",
    "print('ALS Test error', als.compute_rmse(y_pred_als, y_tmp_test))\n",
    "#y_pred_xals = xals.predict(X_tmp_test)\n",
    "#print('XALS Test error', xals.compute_rmse(y_pred_xals, y_tmp_test))\n",
    "#print(y_pred_xals[:5])\n",
    "y_delta_res = []\n",
    "for user_id, work_id in X_tmp_test:\n",
    "    y_delta_res.append(M_pred[user_id][work_id])\n",
    "y_delta_res = np.array(y_delta_res)\n",
    "y_new = y_pred_als + 2 * y_delta_res\n",
    "print(y_new[:5])\n",
    "print(y_delta_res[:5])\n",
    "print('ALS+delta Test error', als.compute_rmse(y_new, y_tmp_test))"
   ]
  },
  {
   "cell_type": "code",
   "execution_count": 19,
   "metadata": {},
   "outputs": [
    {
     "name": "stdout",
     "output_type": "stream",
     "text": [
      "Computing M: (5 × 4)\n",
      "Chrono: fill and center matrix [0q, 0ms]\n",
      "Shapes (5, 13) (13, 4)\n",
      "Chrono: factor matrix [0q, 13ms]\n",
      "Train error 0.407541177275\n",
      "[ 2.25842611  3.07814287  2.53238829  2.79468316]\n",
      "[ 3.03586777  2.73180058  2.93662579  2.89181462]\n",
      "Test error 0.473606111409\n"
     ]
    }
   ],
   "source": [
    "als = MangakiALS(R + nb_tags, LAMBDA=0.3)\n",
    "als.NB_ITERATIONS = 20\n",
    "als.set_parameters(nb_users, nb_works)\n",
    "als.fit(X[i_train], y[i_train])\n",
    "#print(xals.U.shape)\n",
    "#print(xals.U)\n",
    "y_pred = als.predict(X[i_train])\n",
    "print('Train error', als.compute_rmse(y_pred, y[i_train]))\n",
    "y_pred = als.predict(X[i_test])\n",
    "print(y[i_test])\n",
    "print(y_pred)\n",
    "print('Test error', als.compute_rmse(y_pred, y[i_test]))"
   ]
  },
  {
   "cell_type": "code",
   "execution_count": 20,
   "metadata": {},
   "outputs": [
    {
     "name": "stdout",
     "output_type": "stream",
     "text": [
      "[[ 3.07814287  2.99662165  2.08916146  2.82286951]\n",
      " [ 3.12601251  1.87590014  2.53238829  3.58227232]\n",
      " [ 2.83954362  2.23948638  2.58370636  2.56809017]\n",
      " [ 4.12795464  2.25842611  2.19946811  2.47225194]\n",
      " [ 2.43309646  2.52171932  2.79468316  3.34326677]]\n",
      "[ 2.63621754  2.86139499  2.55770663  2.9332249   2.76602752]\n",
      "[[ 2.73180058  2.70027044  2.54446537  2.56782888]\n",
      " [ 2.86027437  2.63843605  2.93662579  3.00918137]\n",
      " [ 2.60100665  2.5191739   2.53868454  2.57140797]\n",
      " [ 3.32771838  3.03586777  2.60851086  2.75794132]\n",
      " [ 2.64127143  2.66435256  2.89181462  2.86724358]]\n"
     ]
    }
   ],
   "source": [
    "print(M_true)\n",
    "print(als.means)\n",
    "print((als.M.T + als.means).T)"
   ]
  },
  {
   "cell_type": "code",
   "execution_count": 21,
   "metadata": {},
   "outputs": [
    {
     "name": "stdout",
     "output_type": "stream",
     "text": [
      "Computing M: (5 × 4)\n",
      "Chrono: fill and center matrix [0q, 1ms]\n",
      "shape X_train (16, 2)\n",
      "Step 0: 3.2354964193036886\n",
      "shape X_train (16, 2)\n",
      "Step 1: 0.16132774944187103\n",
      "shape X_train (16, 2)\n",
      "Step 2: 0.12252481352540687\n",
      "shape X_train (16, 2)\n",
      "Step 3: 0.12123771284547814\n",
      "shape X_train (16, 2)\n",
      "Step 4: 0.1210336230758187\n",
      "shape X_train (16, 2)\n",
      "Step 5: 0.1209886276295622\n",
      "shape X_train (16, 2)\n",
      "Step 6: 0.12097541695061939\n",
      "shape X_train (16, 2)\n",
      "Step 7: 0.12097081622660022\n",
      "shape X_train (16, 2)\n",
      "Step 8: 0.1209690872404515\n",
      "shape X_train (16, 2)\n",
      "Step 9: 0.12096841796998646\n",
      "shape X_train (16, 2)\n",
      "Step 10: 0.120968156015428\n",
      "shape X_train (16, 2)\n",
      "Step 11: 0.12096805305291274\n",
      "shape X_train (16, 2)\n",
      "Step 12: 0.12096801251605684\n",
      "shape X_train (16, 2)\n",
      "Step 13: 0.12096799654576817\n",
      "shape X_train (16, 2)\n",
      "Step 14: 0.12096799025218884\n",
      "shape X_train (16, 2)\n",
      "Step 15: 0.1209679877717131\n",
      "shape X_train (16, 2)\n",
      "Step 16: 0.120967986794037\n",
      "shape X_train (16, 2)\n",
      "Step 17: 0.12096798640867859\n",
      "shape X_train (16, 2)\n",
      "Step 18: 0.12096798625678505\n",
      "shape X_train (16, 2)\n",
      "Step 19: 0.1209679861969142\n",
      "Shapes (5, 13) (13, 4)\n",
      "Chrono: factor matrix [0q, 33ms]\n",
      "Train error 0.120967986173\n",
      "Test error 0.393836616624\n",
      "[[ 3.07814287  2.99662165  2.08916146  2.82286951]\n",
      " [ 3.12601251  1.87590014  2.53238829  3.58227232]\n",
      " [ 2.83954362  2.23948638  2.58370636  2.56809017]\n",
      " [ 4.12795464  2.25842611  2.19946811  2.47225194]\n",
      " [ 2.43309646  2.52171932  2.79468316  3.34326677]]\n",
      "means [ 2.63621754  2.86139499  2.55770663  2.9332249   2.76602752]\n",
      "[[ 2.44015033  2.86820519  2.24408312  2.75908298]\n",
      " [ 3.07286504  2.0907988   2.75286032  3.45308154]\n",
      " [ 2.78107351  2.33157901  2.56591453  2.56676815]\n",
      " [ 3.88338636  2.66054501  2.38786513  2.50363412]\n",
      " [ 2.48634279  2.57499358  2.73912133  3.24481805]]\n",
      "V [[  7.52771355e-06   3.55407163e-06  -8.65291641e-06  -4.37644025e-06]\n",
      " [  8.46963880e-06   3.99881760e-06  -9.73562964e-06  -4.92408586e-06]\n",
      " [  5.77026141e-06   2.72438393e-06  -6.63275457e-06  -3.35475955e-06]\n",
      " [  1.00000000e+00   0.00000000e+00   1.00000000e+00   1.00000000e+00]\n",
      " [  0.00000000e+00   1.00000000e+00   1.00000000e+00   0.00000000e+00]\n",
      " [  1.00000000e+00   0.00000000e+00   0.00000000e+00   0.00000000e+00]\n",
      " [  0.00000000e+00   0.00000000e+00   0.00000000e+00   0.00000000e+00]\n",
      " [  0.00000000e+00   0.00000000e+00   1.00000000e+00   1.00000000e+00]\n",
      " [  0.00000000e+00   0.00000000e+00   0.00000000e+00   0.00000000e+00]\n",
      " [  1.00000000e+00   1.00000000e+00   1.00000000e+00   0.00000000e+00]\n",
      " [  0.00000000e+00   1.00000000e+00   0.00000000e+00   1.00000000e+00]\n",
      " [  1.00000000e+00   0.00000000e+00   0.00000000e+00   0.00000000e+00]\n",
      " [  0.00000000e+00   0.00000000e+00   0.00000000e+00   1.00000000e+00]]\n"
     ]
    }
   ],
   "source": [
    "xals = MangakiXALS(R, LAMBDA=0.2)\n",
    "xals.NB_ITERATIONS = 20\n",
    "xals.load_tags(T_true)\n",
    "xals.set_parameters(nb_users, nb_works)\n",
    "xals.fit(X[i_train], y[i_train])\n",
    "#print(xals.U.shape)\n",
    "#print(xals.U)\n",
    "y_pred = xals.predict(X[i_train])\n",
    "print('Train error', xals.compute_rmse(y_pred, y[i_train]))\n",
    "y_pred = xals.predict(X[i_test])\n",
    "#print(y[i_test])\n",
    "#print(y_pred)\n",
    "print('Test error', xals.compute_rmse(y_pred, y[i_test]))\n",
    "print(M_true)\n",
    "print('means', xals.means)\n",
    "print((xals.M.T + xals.means).T)\n",
    "print('V', xals.VT)"
   ]
  }
 ],
 "metadata": {
  "kernelspec": {
   "display_name": "Django Shell-Plus",
   "language": "python",
   "name": "django_extensions"
  },
  "language_info": {
   "codemirror_mode": {
    "name": "ipython",
    "version": 3
   },
   "file_extension": ".py",
   "mimetype": "text/x-python",
   "name": "python",
   "nbconvert_exporter": "python",
   "pygments_lexer": "ipython3",
   "version": "3.6.1"
  }
 },
 "nbformat": 4,
 "nbformat_minor": 2
}
