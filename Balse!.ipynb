{
 "cells": [
  {
   "cell_type": "code",
   "execution_count": 8,
   "metadata": {
    "collapsed": true
   },
   "outputs": [],
   "source": [
    "from sklearn.model_selection import train_test_split"
   ]
  },
  {
   "cell_type": "code",
   "execution_count": 9,
   "metadata": {
    "collapsed": true
   },
   "outputs": [],
   "source": [
    "#from mangaki.utils.xals import MangakiXALS\n",
    "from mangaki.utils.als import MangakiALS\n",
    "from mangaki.utils.svd import MangakiSVD"
   ]
  },
  {
   "cell_type": "code",
   "execution_count": 10,
   "metadata": {
    "collapsed": true
   },
   "outputs": [],
   "source": [
    "from mangaki.utils.algo import get_dataset_backup\n",
    "from mangaki.utils.data import Dataset\n",
    "from mangaki.utils.values import rating_values\n",
    "\n",
    "dataset = Dataset()#get_dataset_backup('als')\n",
    "dataset.load_csv('balse/ratings.csv', convert=lambda x: rating_values[x])"
   ]
  },
  {
   "cell_type": "code",
   "execution_count": 11,
   "metadata": {
    "collapsed": true
   },
   "outputs": [],
   "source": [
    "svd = MangakiSVD(20)\n",
    "svd.set_parameters(dataset.anonymized.nb_users, dataset.anonymized.nb_works)\n",
    "\n",
    "i_train, i_test = train_test_split(range(len(dataset.anonymized.X)), test_size=0.2)"
   ]
  },
  {
   "cell_type": "code",
   "execution_count": 12,
   "metadata": {
    "collapsed": true
   },
   "outputs": [],
   "source": [
    "X_train = dataset.anonymized.X[i_train]\n",
    "y_train = dataset.anonymized.y[i_train]\n",
    "X_test = dataset.anonymized.X[i_test]\n",
    "y_test = dataset.anonymized.y[i_test]"
   ]
  },
  {
   "cell_type": "code",
   "execution_count": 13,
   "metadata": {},
   "outputs": [
    {
     "name": "stdout",
     "output_type": "stream",
     "text": [
      "Computing M: (2079 × 9979)\n"
     ]
    },
    {
     "name": "stderr",
     "output_type": "stream",
     "text": [
      "/Users/jilljenn/code/mangaki/mangaki/mangaki/utils/svd.py:36: RuntimeWarning: invalid value encountered in double_scalars\n",
      "  means[i] = np.sum(matrix[i]) / np.sum(matrix[i] != 0)\n"
     ]
    },
    {
     "name": "stdout",
     "output_type": "stream",
     "text": [
      "Chrono: fill and center matrix [0q, 2096ms]\n",
      "Shapes (2079, 20) (20,) (20, 9979)\n",
      "Chrono: factor matrix [0q, 762ms]\n",
      "Train error 1.07384664884\n",
      "Test error 1.18565986226\n"
     ]
    }
   ],
   "source": [
    "#svd.fit(dataset.anonymized.X[i_train], dataset.anonymized.y[i_train])\n",
    "svd.all_errors(X_train, X_test, y_train, y_test)"
   ]
  },
  {
   "cell_type": "code",
   "execution_count": 14,
   "metadata": {},
   "outputs": [
    {
     "name": "stdout",
     "output_type": "stream",
     "text": [
      "Computing M: (2079 × 9979)\n",
      "Chrono: fill and center matrix [0q, 1793ms]\n",
      "Shapes (2079, 10) (10, 9979)\n",
      "Chrono: factor matrix [0q, 6424ms]\n",
      "Train error 0.970174012756\n",
      "Test error 1.16396110461\n"
     ]
    }
   ],
   "source": [
    "als = MangakiALS(10, LAMBDA=0.1)\n",
    "als.set_parameters(dataset.anonymized.nb_users, dataset.anonymized.nb_works)\n",
    "\n",
    "#als.fit(dataset.anonymized.X[i_train], dataset.anonymized.y[i_train])\n",
    "als.all_errors(X_train, X_test, y_train, y_test)"
   ]
  },
  {
   "cell_type": "code",
   "execution_count": 15,
   "metadata": {
    "collapsed": true
   },
   "outputs": [],
   "source": [
    "y_train_pred = als.predict(X_train)"
   ]
  },
  {
   "cell_type": "code",
   "execution_count": 16,
   "metadata": {
    "collapsed": true
   },
   "outputs": [],
   "source": [
    "from scipy.sparse import coo_matrix\n",
    "\n",
    "nb_users = dataset.anonymized.nb_users\n",
    "nb_works = dataset.anonymized.nb_works\n",
    "row = X_train[:, 0]\n",
    "col = X_train[:, 1]\n",
    "data = y_train - y_train_pred\n",
    "M_res = coo_matrix((data, (row, col)), shape=(nb_users, nb_works)).tocsr()"
   ]
  },
  {
   "cell_type": "code",
   "execution_count": 17,
   "metadata": {
    "collapsed": true
   },
   "outputs": [],
   "source": [
    "user_ids = sorted(set(row))"
   ]
  },
  {
   "cell_type": "code",
   "execution_count": 18,
   "metadata": {
    "collapsed": true
   },
   "outputs": [],
   "source": [
    "from mangaki.utils.balse import MangakiBALSE\n",
    "from scipy.sparse import load_npz\n",
    "\n",
    "T = load_npz('../data/balse/tag-matrix.npz').toarray()"
   ]
  },
  {
   "cell_type": "code",
   "execution_count": 473,
   "metadata": {},
   "outputs": [
    {
     "name": "stdout",
     "output_type": "stream",
     "text": [
      "0\n",
      "100\n",
      "200\n",
      "300\n",
      "400\n"
     ]
    },
    {
     "name": "stderr",
     "output_type": "stream",
     "text": [
      "/Users/jilljenn/code/mangaki/venv/lib/python3.6/site-packages/sklearn/linear_model/coordinate_descent.py:484: ConvergenceWarning: Objective did not converge. You might want to increase the number of iterations. Fitting data with very small alpha may cause precision problems.\n",
      "  ConvergenceWarning)\n"
     ]
    },
    {
     "name": "stdout",
     "output_type": "stream",
     "text": [
      "500\n",
      "600\n",
      "700\n",
      "800\n",
      "900\n",
      "1000\n",
      "1100\n",
      "1200\n",
      "1300\n",
      "1400\n",
      "1500\n",
      "1600\n",
      "1800\n",
      "1900\n",
      "2000\n"
     ]
    }
   ],
   "source": [
    "from collections import defaultdict\n",
    "\n",
    "reg = defaultdict(lambda: Lasso(alpha=0.01, normalize=True))\n",
    "for user_id in user_ids:\n",
    "    indices = M_res[user_id].indices\n",
    "    values = M_res[user_id].data\n",
    "    reg[user_id].fit(T[indices], values)\n",
    "    if user_id % 100 == 0:\n",
    "        print(user_id)"
   ]
  },
  {
   "cell_type": "code",
   "execution_count": 474,
   "metadata": {},
   "outputs": [
    {
     "data": {
      "text/plain": [
       "<1x9979 sparse matrix of type '<class 'numpy.float64'>'\n",
       "\twith 78 stored elements in Compressed Sparse Row format>"
      ]
     },
     "execution_count": 474,
     "metadata": {},
     "output_type": "execute_result"
    }
   ],
   "source": [
    "M_res.tocsr()[0, :]"
   ]
  },
  {
   "cell_type": "code",
   "execution_count": 475,
   "metadata": {
    "collapsed": true
   },
   "outputs": [],
   "source": [
    "from sklearn.linear_model import LinearRegression"
   ]
  },
  {
   "cell_type": "code",
   "execution_count": 476,
   "metadata": {},
   "outputs": [
    {
     "name": "stdout",
     "output_type": "stream",
     "text": [
      "742 not\n",
      "1966 not\n",
      "1040 not\n",
      "1177 not\n",
      "819 not\n",
      "819 not\n",
      "193 not\n",
      "492 not\n",
      "887 not\n",
      "262 not\n",
      "963 not\n",
      "670 not\n",
      "1700 not\n"
     ]
    }
   ],
   "source": [
    "#M_pred = T.dot(W.T).T\n",
    "#M_pred[user_id][work_id]\n",
    "y_delta_res = []\n",
    "for user_id, work_id in X_tmp_test:\n",
    "    if user_id not in reg:\n",
    "        print(user_id, 'not')\n",
    "        y_delta_res.append(0)\n",
    "    else:\n",
    "        y_delta_res.append(reg[user_id].predict(T[work_id].reshape(1, -1))[0])"
   ]
  },
  {
   "cell_type": "code",
   "execution_count": 508,
   "metadata": {
    "collapsed": true
   },
   "outputs": [],
   "source": [
    "y_delta_repaired = list(map(relu, y_delta_res))"
   ]
  },
  {
   "cell_type": "code",
   "execution_count": 509,
   "metadata": {},
   "outputs": [
    {
     "name": "stdout",
     "output_type": "stream",
     "text": [
      "Test error 1.65421868781\n"
     ]
    }
   ],
   "source": [
    "print('Test error', als.compute_rmse(y_pred + y_delta_res, y_tmp_test))"
   ]
  },
  {
   "cell_type": "markdown",
   "metadata": {},
   "source": [
    "# LOL"
   ]
  },
  {
   "cell_type": "code",
   "execution_count": 27,
   "metadata": {},
   "outputs": [
    {
     "name": "stdout",
     "output_type": "stream",
     "text": [
      "890 not\n",
      "588 not\n",
      "1001 not\n",
      "866 not\n",
      "660 not\n",
      "1793 not\n",
      "866 not\n",
      "706 not\n",
      "1887 not\n",
      "492 not\n",
      "868 not\n",
      "1392 not\n",
      "521 not\n",
      "521 not\n"
     ]
    }
   ],
   "source": [
    "y_pred = als.predict(X_tmp_test)\n",
    "y_new_pred = lasso.predict(X_tmp_test)"
   ]
  },
  {
   "cell_type": "code",
   "execution_count": 74,
   "metadata": {},
   "outputs": [
    {
     "name": "stdout",
     "output_type": "stream",
     "text": [
      "Test error 1.32958817247\n"
     ]
    }
   ],
   "source": [
    "WINDOW = 1000\n",
    "print('Test error', als.compute_rmse(y_als[-WINDOW:], y_tmp_test[-WINDOW:]))"
   ]
  },
  {
   "cell_type": "code",
   "execution_count": 75,
   "metadata": {},
   "outputs": [
    {
     "name": "stdout",
     "output_type": "stream",
     "text": [
      "Test error 1.26236346989\n"
     ]
    }
   ],
   "source": [
    "y_new_pred = pred.eval()\n",
    "print('Test error', als.compute_rmse(y_new_pred[-WINDOW:], y_tmp_test[-WINDOW:]))"
   ]
  },
  {
   "cell_type": "code",
   "execution_count": 76,
   "metadata": {},
   "outputs": [
    {
     "name": "stdout",
     "output_type": "stream",
     "text": [
      "Test error 1.2935313945\n"
     ]
    }
   ],
   "source": [
    "print('Test error', als.compute_rmse(y_lasso[-WINDOW:], y_tmp_test[-WINDOW:]))"
   ]
  },
  {
   "cell_type": "code",
   "execution_count": 77,
   "metadata": {},
   "outputs": [
    {
     "name": "stdout",
     "output_type": "stream",
     "text": [
      "104 not\n",
      "160 not\n",
      "687 not\n",
      "1263 not\n",
      "159 not\n",
      "1887 not\n",
      "492 not\n",
      "352 not\n",
      "521 not\n",
      "1460 not\n",
      "521 not\n",
      "491 not\n",
      "352 not\n",
      "1584 not\n",
      "2002 not\n",
      "Test error 1.2935313945\n"
     ]
    }
   ],
   "source": [
    "y_balse = balse.predict(X_tmp_test)\n",
    "print('Test error', als.compute_rmse(y_balse[-WINDOW:], y_tmp_test[-WINDOW:]))"
   ]
  },
  {
   "cell_type": "code",
   "execution_count": 54,
   "metadata": {},
   "outputs": [
    {
     "data": {
      "text/plain": [
       "6"
      ]
     },
     "execution_count": 54,
     "metadata": {},
     "output_type": "execute_result"
    }
   ],
   "source": [
    "nb_rated[X_tmp_test[-3000][1]]"
   ]
  },
  {
   "cell_type": "code",
   "execution_count": 55,
   "metadata": {},
   "outputs": [
    {
     "data": {
      "text/plain": [
       "66878"
      ]
     },
     "execution_count": 55,
     "metadata": {},
     "output_type": "execute_result"
    }
   ],
   "source": [
    "len(X_tmp_test)"
   ]
  },
  {
   "cell_type": "code",
   "execution_count": 19,
   "metadata": {
    "collapsed": true
   },
   "outputs": [],
   "source": [
    "from collections import Counter\n",
    "\n",
    "nb_ratings = Counter(dataset.anonymized.X[:, 0])\n",
    "nb_rated = Counter(dataset.anonymized.X[:, 1])"
   ]
  },
  {
   "cell_type": "code",
   "execution_count": 20,
   "metadata": {},
   "outputs": [
    {
     "data": {
      "text/plain": [
       "[(1855, 3059), (1046, 2912), (93, 2483), (1306, 2151), (1502, 2017)]"
      ]
     },
     "execution_count": 20,
     "metadata": {},
     "output_type": "execute_result"
    }
   ],
   "source": [
    "nb_ratings.most_common(5)"
   ]
  },
  {
   "cell_type": "code",
   "execution_count": 385,
   "metadata": {},
   "outputs": [
    {
     "name": "stdout",
     "output_type": "stream",
     "text": [
      "2320\n",
      "592\n"
     ]
    }
   ],
   "source": [
    "PIG = 1046\n",
    "print(list(X_train[:, 0]).count(PIG))\n",
    "print(list(X_tmp_test[:, 0]).count(PIG))"
   ]
  },
  {
   "cell_type": "code",
   "execution_count": 68,
   "metadata": {
    "collapsed": true
   },
   "outputs": [],
   "source": [
    "from scipy.sparse import coo_matrix\n",
    "\n",
    "nb_users = dataset.anonymized.nb_users\n",
    "nb_works = dataset.anonymized.nb_works\n",
    "row = X_train[:, 0]\n",
    "col = X_train[:, 1]\n",
    "data = y_train\n",
    "M = coo_matrix((data, (row, col)), shape=(nb_users, nb_works)).tocsr()"
   ]
  },
  {
   "cell_type": "code",
   "execution_count": 386,
   "metadata": {},
   "outputs": [
    {
     "data": {
      "text/plain": [
       "2320"
      ]
     },
     "execution_count": 386,
     "metadata": {},
     "output_type": "execute_result"
    }
   ],
   "source": [
    "len(M[PIG].data)"
   ]
  },
  {
   "cell_type": "code",
   "execution_count": 71,
   "metadata": {
    "collapsed": true
   },
   "outputs": [],
   "source": [
    "from scipy.sparse import coo_matrix\n",
    "\n",
    "nb_users = dataset.anonymized.nb_users\n",
    "nb_works = dataset.anonymized.nb_works\n",
    "row = X_test[:, 0]\n",
    "col = X_test[:, 1]\n",
    "data = y_test\n",
    "secret = coo_matrix((data, (row, col)), shape=(nb_users, nb_works)).tocsr()"
   ]
  },
  {
   "cell_type": "code",
   "execution_count": 387,
   "metadata": {},
   "outputs": [
    {
     "data": {
      "text/plain": [
       "592"
      ]
     },
     "execution_count": 387,
     "metadata": {},
     "output_type": "execute_result"
    }
   ],
   "source": [
    "len(secret[PIG].data)"
   ]
  },
  {
   "cell_type": "code",
   "execution_count": 506,
   "metadata": {
    "collapsed": true
   },
   "outputs": [],
   "source": [
    "def relu(x):\n",
    "    return max(-1, min(1, x))\n",
    "\n",
    "def ident(x):\n",
    "    return x"
   ]
  },
  {
   "cell_type": "code",
   "execution_count": 507,
   "metadata": {},
   "outputs": [
    {
     "data": {
      "text/plain": [
       "Counter({-1.1676416399158847: 1,\n",
       "         -1.1491829435443137: 1,\n",
       "         -0.84148292472221797: 1,\n",
       "         -0.03462047782438793: 1,\n",
       "         0.076723814485728292: 1,\n",
       "         0.078985447331703318: 1,\n",
       "         0.083188059369782685: 1,\n",
       "         0.10461310060452478: 1,\n",
       "         0.25036640623481432: 1,\n",
       "         0.25076801234805934: 1,\n",
       "         0.25731148325268571: 1,\n",
       "         0.285844308136046: 1,\n",
       "         0.30371543334555895: 1,\n",
       "         0.31767885177443378: 1,\n",
       "         0.36010121626691483: 1,\n",
       "         0.47885700830795197: 1})"
      ]
     },
     "execution_count": 507,
     "metadata": {},
     "output_type": "execute_result"
    }
   ],
   "source": [
    "Counter(values)"
   ]
  },
  {
   "cell_type": "code",
   "execution_count": 429,
   "metadata": {
    "collapsed": true
   },
   "outputs": [],
   "source": [
    "from sklearn.linear_model import Lasso, ElasticNet\n",
    "\n",
    "reg = Lasso(alpha=0.001, normalize=True)\n",
    "for user_id in [PIG]:\n",
    "    i2 = []\n",
    "    v2 = []\n",
    "    indices = M[user_id].indices\n",
    "    values = M[user_id].data\n",
    "    for i, v in zip(indices, values):\n",
    "        if v != -0.5:\n",
    "            i2.append(i)\n",
    "            v2.append(v)\n",
    "    reg.fit(T[indices], values)"
   ]
  },
  {
   "cell_type": "code",
   "execution_count": 430,
   "metadata": {
    "collapsed": true
   },
   "outputs": [],
   "source": [
    "for user_id in [PIG]:\n",
    "    indices = secret[user_id].indices\n",
    "    y_pred_lr = list(map(ident, reg.predict(T[indices])))\n",
    "    special = []\n",
    "    y_special = []\n",
    "    for work_id in indices:\n",
    "        if nb_rated[work_id] < 3:\n",
    "            special.append(work_id)\n",
    "            y_special.append(secret[user_id, work_id])"
   ]
  },
  {
   "cell_type": "code",
   "execution_count": 442,
   "metadata": {
    "collapsed": true
   },
   "outputs": [],
   "source": [
    "y_als = als.predict(np.array([(PIG, work_id) for work_id in special]))"
   ]
  },
  {
   "cell_type": "code",
   "execution_count": 443,
   "metadata": {},
   "outputs": [
    {
     "data": {
      "text/plain": [
       "Counter({-2.0: 8, -0.5: 46, 0.1: 1, 0.5: 4, 2.0: 17})"
      ]
     },
     "execution_count": 443,
     "metadata": {},
     "output_type": "execute_result"
    }
   ],
   "source": [
    "Counter(y_special)"
   ]
  },
  {
   "cell_type": "code",
   "execution_count": 444,
   "metadata": {
    "collapsed": true
   },
   "outputs": [],
   "source": [
    "y_true = secret[user_id].data"
   ]
  },
  {
   "cell_type": "code",
   "execution_count": 445,
   "metadata": {},
   "outputs": [
    {
     "data": {
      "text/plain": [
       "Counter({-2.0: 53, -0.5: 277, 0.1: 32, 0.5: 52, 2.0: 178})"
      ]
     },
     "execution_count": 445,
     "metadata": {},
     "output_type": "execute_result"
    }
   ],
   "source": [
    "Counter(y_true)"
   ]
  },
  {
   "cell_type": "code",
   "execution_count": 446,
   "metadata": {},
   "outputs": [
    {
     "data": {
      "text/plain": [
       "1.2279867191521727"
      ]
     },
     "execution_count": 446,
     "metadata": {},
     "output_type": "execute_result"
    }
   ],
   "source": [
    "#als.compute_rmse(y_als, y_true)\n",
    "als.compute_rmse(y_als, y_special)"
   ]
  },
  {
   "cell_type": "code",
   "execution_count": 447,
   "metadata": {},
   "outputs": [
    {
     "data": {
      "text/plain": [
       "array([ 0.01197922,  0.01197922,  0.01197922,  0.01197922,  0.01197922,\n",
       "        1.5850158 ,  0.01197922,  0.01197922,  0.01197922,  0.64119385])"
      ]
     },
     "execution_count": 447,
     "metadata": {},
     "output_type": "execute_result"
    }
   ],
   "source": [
    "y_als[:10]"
   ]
  },
  {
   "cell_type": "code",
   "execution_count": 448,
   "metadata": {
    "collapsed": true
   },
   "outputs": [],
   "source": [
    "y_lr_special = reg.predict(T[special])"
   ]
  },
  {
   "cell_type": "code",
   "execution_count": 449,
   "metadata": {},
   "outputs": [
    {
     "data": {
      "text/plain": [
       "1.1685289466230184"
      ]
     },
     "execution_count": 449,
     "metadata": {},
     "output_type": "execute_result"
    }
   ],
   "source": [
    "#als.compute_rmse(y_pred_lr, y_true)\n",
    "als.compute_rmse(y_lr_special, y_special)"
   ]
  },
  {
   "cell_type": "code",
   "execution_count": 450,
   "metadata": {},
   "outputs": [
    {
     "data": {
      "text/plain": [
       "[-0.5, -0.5, -2.0, -2.0, -0.5, 2.0, -0.5, -0.5, -0.5, 2.0]"
      ]
     },
     "execution_count": 450,
     "metadata": {},
     "output_type": "execute_result"
    }
   ],
   "source": [
    "y_special[:10]"
   ]
  },
  {
   "cell_type": "code",
   "execution_count": 451,
   "metadata": {},
   "outputs": [
    {
     "data": {
      "text/plain": [
       "array([ 0.51698216, -0.09516446, -0.23657821,  0.38801507, -0.37281518,\n",
       "        0.47601378, -0.0969073 , -0.0715639 ,  0.56659119,  0.39945745])"
      ]
     },
     "execution_count": 451,
     "metadata": {},
     "output_type": "execute_result"
    }
   ],
   "source": [
    "y_lr_special[:10]"
   ]
  },
  {
   "cell_type": "code",
   "execution_count": 21,
   "metadata": {
    "collapsed": true
   },
   "outputs": [],
   "source": [
    "i_test_ordered = sorted(i_test, key=lambda i: nb_rated[dataset.anonymized.X[i][1]], reverse=True)"
   ]
  },
  {
   "cell_type": "code",
   "execution_count": 22,
   "metadata": {
    "collapsed": true
   },
   "outputs": [],
   "source": [
    "X_test_ordered = dataset.anonymized.X[i_test_ordered]\n",
    "y_test_ordered = dataset.anonymized.y[i_test_ordered]"
   ]
  },
  {
   "cell_type": "code",
   "execution_count": 23,
   "metadata": {
    "collapsed": true
   },
   "outputs": [],
   "source": [
    "K = len(X_test_ordered)\n",
    "X_tmp_test = X_test_ordered[-K:]\n",
    "y_tmp_test = y_test_ordered[-K:]"
   ]
  },
  {
   "cell_type": "code",
   "execution_count": 43,
   "metadata": {},
   "outputs": [
    {
     "name": "stdout",
     "output_type": "stream",
     "text": [
      "[ 2.   2.   0.5  2.   0.1]\n",
      "[ 0.48589134  1.94460025  1.13536123  0.92859408  1.61266596]\n",
      "ALS Test error 1.16744780835\n"
     ]
    },
    {
     "ename": "NameError",
     "evalue": "name 'M_pred' is not defined",
     "output_type": "error",
     "traceback": [
      "\u001b[0;31m---------------------------------------------------------------------------\u001b[0m",
      "\u001b[0;31mNameError\u001b[0m                                 Traceback (most recent call last)",
      "\u001b[0;32m<ipython-input-43-c5671f12a88e>\u001b[0m in \u001b[0;36m<module>\u001b[0;34m()\u001b[0m\n\u001b[1;32m      8\u001b[0m \u001b[0my_delta_res\u001b[0m \u001b[0;34m=\u001b[0m \u001b[0;34m[\u001b[0m\u001b[0;34m]\u001b[0m\u001b[0;34m\u001b[0m\u001b[0m\n\u001b[1;32m      9\u001b[0m \u001b[0;32mfor\u001b[0m \u001b[0muser_id\u001b[0m\u001b[0;34m,\u001b[0m \u001b[0mwork_id\u001b[0m \u001b[0;32min\u001b[0m \u001b[0mX_tmp_test\u001b[0m\u001b[0;34m:\u001b[0m\u001b[0;34m\u001b[0m\u001b[0m\n\u001b[0;32m---> 10\u001b[0;31m     \u001b[0my_delta_res\u001b[0m\u001b[0;34m.\u001b[0m\u001b[0mappend\u001b[0m\u001b[0;34m(\u001b[0m\u001b[0mM_pred\u001b[0m\u001b[0;34m[\u001b[0m\u001b[0muser_id\u001b[0m\u001b[0;34m]\u001b[0m\u001b[0;34m[\u001b[0m\u001b[0mwork_id\u001b[0m\u001b[0;34m]\u001b[0m\u001b[0;34m)\u001b[0m\u001b[0;34m\u001b[0m\u001b[0m\n\u001b[0m\u001b[1;32m     11\u001b[0m \u001b[0my_delta_res\u001b[0m \u001b[0;34m=\u001b[0m \u001b[0mnp\u001b[0m\u001b[0;34m.\u001b[0m\u001b[0marray\u001b[0m\u001b[0;34m(\u001b[0m\u001b[0my_delta_res\u001b[0m\u001b[0;34m)\u001b[0m\u001b[0;34m\u001b[0m\u001b[0m\n\u001b[1;32m     12\u001b[0m \u001b[0my_new\u001b[0m \u001b[0;34m=\u001b[0m \u001b[0my_pred_als\u001b[0m \u001b[0;34m+\u001b[0m \u001b[0;36m2\u001b[0m \u001b[0;34m*\u001b[0m \u001b[0my_delta_res\u001b[0m\u001b[0;34m\u001b[0m\u001b[0m\n",
      "\u001b[0;31mNameError\u001b[0m: name 'M_pred' is not defined"
     ]
    }
   ],
   "source": [
    "y_pred_als = als.predict(X_tmp_test)\n",
    "print(y_tmp_test[:5])\n",
    "print(y_pred_als[:5])\n",
    "print('ALS Test error', als.compute_rmse(y_pred_als, y_tmp_test))\n",
    "#y_pred_xals = xals.predict(X_tmp_test)\n",
    "#print('XALS Test error', xals.compute_rmse(y_pred_xals, y_tmp_test))\n",
    "#print(y_pred_xals[:5])\n",
    "y_delta_res = []\n",
    "for user_id, work_id in X_tmp_test:\n",
    "    y_delta_res.append(M_pred[user_id][work_id])\n",
    "y_delta_res = np.array(y_delta_res)\n",
    "y_new = y_pred_als + 2 * y_delta_res\n",
    "print(y_new[:5])\n",
    "print(y_delta_res[:5])\n",
    "print('ALS+delta Test error', als.compute_rmse(y_new, y_tmp_test))"
   ]
  },
  {
   "cell_type": "code",
   "execution_count": 19,
   "metadata": {},
   "outputs": [
    {
     "name": "stdout",
     "output_type": "stream",
     "text": [
      "Computing M: (5 × 4)\n",
      "Chrono: fill and center matrix [0q, 0ms]\n",
      "Shapes (5, 13) (13, 4)\n",
      "Chrono: factor matrix [0q, 13ms]\n",
      "Train error 0.407541177275\n",
      "[ 2.25842611  3.07814287  2.53238829  2.79468316]\n",
      "[ 3.03586777  2.73180058  2.93662579  2.89181462]\n",
      "Test error 0.473606111409\n"
     ]
    }
   ],
   "source": [
    "als = MangakiALS(R + nb_tags, LAMBDA=0.3)\n",
    "als.NB_ITERATIONS = 20\n",
    "als.set_parameters(nb_users, nb_works)\n",
    "als.fit(X[i_train], y[i_train])\n",
    "#print(xals.U.shape)\n",
    "#print(xals.U)\n",
    "y_pred = als.predict(X[i_train])\n",
    "print('Train error', als.compute_rmse(y_pred, y[i_train]))\n",
    "y_pred = als.predict(X[i_test])\n",
    "print(y[i_test])\n",
    "print(y_pred)\n",
    "print('Test error', als.compute_rmse(y_pred, y[i_test]))"
   ]
  },
  {
   "cell_type": "code",
   "execution_count": 20,
   "metadata": {},
   "outputs": [
    {
     "name": "stdout",
     "output_type": "stream",
     "text": [
      "[[ 3.07814287  2.99662165  2.08916146  2.82286951]\n",
      " [ 3.12601251  1.87590014  2.53238829  3.58227232]\n",
      " [ 2.83954362  2.23948638  2.58370636  2.56809017]\n",
      " [ 4.12795464  2.25842611  2.19946811  2.47225194]\n",
      " [ 2.43309646  2.52171932  2.79468316  3.34326677]]\n",
      "[ 2.63621754  2.86139499  2.55770663  2.9332249   2.76602752]\n",
      "[[ 2.73180058  2.70027044  2.54446537  2.56782888]\n",
      " [ 2.86027437  2.63843605  2.93662579  3.00918137]\n",
      " [ 2.60100665  2.5191739   2.53868454  2.57140797]\n",
      " [ 3.32771838  3.03586777  2.60851086  2.75794132]\n",
      " [ 2.64127143  2.66435256  2.89181462  2.86724358]]\n"
     ]
    }
   ],
   "source": [
    "print(M_true)\n",
    "print(als.means)\n",
    "print((als.M.T + als.means).T)"
   ]
  },
  {
   "cell_type": "code",
   "execution_count": 21,
   "metadata": {},
   "outputs": [
    {
     "name": "stdout",
     "output_type": "stream",
     "text": [
      "Computing M: (5 × 4)\n",
      "Chrono: fill and center matrix [0q, 1ms]\n",
      "shape X_train (16, 2)\n",
      "Step 0: 3.2354964193036886\n",
      "shape X_train (16, 2)\n",
      "Step 1: 0.16132774944187103\n",
      "shape X_train (16, 2)\n",
      "Step 2: 0.12252481352540687\n",
      "shape X_train (16, 2)\n",
      "Step 3: 0.12123771284547814\n",
      "shape X_train (16, 2)\n",
      "Step 4: 0.1210336230758187\n",
      "shape X_train (16, 2)\n",
      "Step 5: 0.1209886276295622\n",
      "shape X_train (16, 2)\n",
      "Step 6: 0.12097541695061939\n",
      "shape X_train (16, 2)\n",
      "Step 7: 0.12097081622660022\n",
      "shape X_train (16, 2)\n",
      "Step 8: 0.1209690872404515\n",
      "shape X_train (16, 2)\n",
      "Step 9: 0.12096841796998646\n",
      "shape X_train (16, 2)\n",
      "Step 10: 0.120968156015428\n",
      "shape X_train (16, 2)\n",
      "Step 11: 0.12096805305291274\n",
      "shape X_train (16, 2)\n",
      "Step 12: 0.12096801251605684\n",
      "shape X_train (16, 2)\n",
      "Step 13: 0.12096799654576817\n",
      "shape X_train (16, 2)\n",
      "Step 14: 0.12096799025218884\n",
      "shape X_train (16, 2)\n",
      "Step 15: 0.1209679877717131\n",
      "shape X_train (16, 2)\n",
      "Step 16: 0.120967986794037\n",
      "shape X_train (16, 2)\n",
      "Step 17: 0.12096798640867859\n",
      "shape X_train (16, 2)\n",
      "Step 18: 0.12096798625678505\n",
      "shape X_train (16, 2)\n",
      "Step 19: 0.1209679861969142\n",
      "Shapes (5, 13) (13, 4)\n",
      "Chrono: factor matrix [0q, 33ms]\n",
      "Train error 0.120967986173\n",
      "Test error 0.393836616624\n",
      "[[ 3.07814287  2.99662165  2.08916146  2.82286951]\n",
      " [ 3.12601251  1.87590014  2.53238829  3.58227232]\n",
      " [ 2.83954362  2.23948638  2.58370636  2.56809017]\n",
      " [ 4.12795464  2.25842611  2.19946811  2.47225194]\n",
      " [ 2.43309646  2.52171932  2.79468316  3.34326677]]\n",
      "means [ 2.63621754  2.86139499  2.55770663  2.9332249   2.76602752]\n",
      "[[ 2.44015033  2.86820519  2.24408312  2.75908298]\n",
      " [ 3.07286504  2.0907988   2.75286032  3.45308154]\n",
      " [ 2.78107351  2.33157901  2.56591453  2.56676815]\n",
      " [ 3.88338636  2.66054501  2.38786513  2.50363412]\n",
      " [ 2.48634279  2.57499358  2.73912133  3.24481805]]\n",
      "V [[  7.52771355e-06   3.55407163e-06  -8.65291641e-06  -4.37644025e-06]\n",
      " [  8.46963880e-06   3.99881760e-06  -9.73562964e-06  -4.92408586e-06]\n",
      " [  5.77026141e-06   2.72438393e-06  -6.63275457e-06  -3.35475955e-06]\n",
      " [  1.00000000e+00   0.00000000e+00   1.00000000e+00   1.00000000e+00]\n",
      " [  0.00000000e+00   1.00000000e+00   1.00000000e+00   0.00000000e+00]\n",
      " [  1.00000000e+00   0.00000000e+00   0.00000000e+00   0.00000000e+00]\n",
      " [  0.00000000e+00   0.00000000e+00   0.00000000e+00   0.00000000e+00]\n",
      " [  0.00000000e+00   0.00000000e+00   1.00000000e+00   1.00000000e+00]\n",
      " [  0.00000000e+00   0.00000000e+00   0.00000000e+00   0.00000000e+00]\n",
      " [  1.00000000e+00   1.00000000e+00   1.00000000e+00   0.00000000e+00]\n",
      " [  0.00000000e+00   1.00000000e+00   0.00000000e+00   1.00000000e+00]\n",
      " [  1.00000000e+00   0.00000000e+00   0.00000000e+00   0.00000000e+00]\n",
      " [  0.00000000e+00   0.00000000e+00   0.00000000e+00   1.00000000e+00]]\n"
     ]
    }
   ],
   "source": [
    "xals = MangakiXALS(R, LAMBDA=0.2)\n",
    "xals.NB_ITERATIONS = 20\n",
    "xals.load_tags(T_true)\n",
    "xals.set_parameters(nb_users, nb_works)\n",
    "xals.fit(X[i_train], y[i_train])\n",
    "#print(xals.U.shape)\n",
    "#print(xals.U)\n",
    "y_pred = xals.predict(X[i_train])\n",
    "print('Train error', xals.compute_rmse(y_pred, y[i_train]))\n",
    "y_pred = xals.predict(X[i_test])\n",
    "#print(y[i_test])\n",
    "#print(y_pred)\n",
    "print('Test error', xals.compute_rmse(y_pred, y[i_test]))\n",
    "print(M_true)\n",
    "print('means', xals.means)\n",
    "print((xals.M.T + xals.means).T)\n",
    "print('V', xals.VT)"
   ]
  },
  {
   "cell_type": "code",
   "execution_count": 24,
   "metadata": {},
   "outputs": [
    {
     "name": "stdout",
     "output_type": "stream",
     "text": [
      "0\n"
     ]
    },
    {
     "name": "stderr",
     "output_type": "stream",
     "text": [
      "/Users/jilljenn/code/mangaki/venv/lib/python3.6/site-packages/sklearn/linear_model/coordinate_descent.py:484: ConvergenceWarning: Objective did not converge. You might want to increase the number of iterations. Fitting data with very small alpha may cause precision problems.\n",
      "  ConvergenceWarning)\n"
     ]
    },
    {
     "name": "stdout",
     "output_type": "stream",
     "text": [
      "100\n",
      "200\n",
      "300\n",
      "400\n",
      "500\n",
      "600\n",
      "700\n",
      "800\n",
      "900\n",
      "1000\n",
      "1100\n",
      "1200\n",
      "1300\n",
      "1400\n",
      "1500\n",
      "1600\n",
      "1700\n",
      "1800\n",
      "1900\n",
      "2000\n",
      "Train error 0.801058124267\n",
      "352 not\n",
      "104 not\n",
      "521 not\n",
      "2002 not\n",
      "159 not\n",
      "1584 not\n",
      "1263 not\n",
      "521 not\n",
      "492 not\n",
      "160 not\n",
      "1460 not\n",
      "491 not\n",
      "1887 not\n",
      "352 not\n",
      "687 not\n",
      "Test error 1.42858994289\n"
     ]
    }
   ],
   "source": [
    "from mangaki.utils.lasso import MangakiLASSO\n",
    "\n",
    "lasso = MangakiLASSO(10, LAMBDA=0.1)\n",
    "lasso.load_tags(T)\n",
    "lasso.set_parameters(dataset.anonymized.nb_users, dataset.anonymized.nb_works)\n",
    "\n",
    "#lasso.fit(dataset.anonymized.X[i_train], dataset.anonymized.y[i_train])\n",
    "lasso.all_errors(X_train, X_test, y_train, y_test)"
   ]
  },
  {
   "cell_type": "code",
   "execution_count": 49,
   "metadata": {},
   "outputs": [
    {
     "name": "stdout",
     "output_type": "stream",
     "text": [
      "Computing M: (2079 × 9979)\n",
      "Chrono: fill and center matrix [0q, 1631ms]\n",
      "Shapes (2079, 10) (10, 9979)\n",
      "Chrono: factor matrix [0q, 6117ms]\n",
      "0\n"
     ]
    },
    {
     "name": "stderr",
     "output_type": "stream",
     "text": [
      "/Users/jilljenn/code/mangaki/venv/lib/python3.6/site-packages/sklearn/linear_model/coordinate_descent.py:484: ConvergenceWarning: Objective did not converge. You might want to increase the number of iterations. Fitting data with very small alpha may cause precision problems.\n",
      "  ConvergenceWarning)\n"
     ]
    },
    {
     "name": "stdout",
     "output_type": "stream",
     "text": [
      "100\n",
      "200\n",
      "300\n",
      "400\n",
      "500\n",
      "600\n",
      "700\n",
      "800\n",
      "900\n",
      "1000\n",
      "1100\n",
      "1200\n",
      "1300\n",
      "1400\n",
      "1500\n",
      "1600\n",
      "1700\n",
      "1800\n",
      "1900\n",
      "2000\n",
      "Train error 0.99026743656\n",
      "352 not\n",
      "104 not\n",
      "521 not\n",
      "2002 not\n",
      "159 not\n",
      "1584 not\n",
      "1263 not\n",
      "521 not\n",
      "492 not\n",
      "160 not\n",
      "1460 not\n",
      "491 not\n",
      "1887 not\n",
      "352 not\n",
      "687 not\n",
      "Test error 1.1648712679\n"
     ]
    }
   ],
   "source": [
    "from mangaki.utils.balse import MangakiBALSE\n",
    "\n",
    "balse = MangakiBALSE(10, LAMBDA=0.1)\n",
    "balse.set_parameters(dataset.anonymized.nb_users, dataset.anonymized.nb_works)\n",
    "\n",
    "balse.fit(dataset.anonymized.X[i_train], dataset.anonymized.y[i_train])\n",
    "y_pred = balse.predict(X_train)\n",
    "print('Train error', balse.compute_rmse(y_pred, y_train))\n",
    "y_pred = balse.predict(X_test)\n",
    "print('Test error', balse.compute_rmse(y_pred, y_test))"
   ]
  },
  {
   "cell_type": "code",
   "execution_count": 25,
   "metadata": {},
   "outputs": [
    {
     "name": "stdout",
     "output_type": "stream",
     "text": [
      "104 not\n",
      "160 not\n",
      "687 not\n",
      "1263 not\n",
      "159 not\n",
      "1887 not\n",
      "492 not\n",
      "352 not\n",
      "521 not\n",
      "1460 not\n",
      "521 not\n",
      "491 not\n",
      "352 not\n",
      "1584 not\n",
      "2002 not\n"
     ]
    }
   ],
   "source": [
    "y_als = als.predict(X_tmp_test)\n",
    "y_lasso = lasso.predict(X_tmp_test)"
   ]
  },
  {
   "cell_type": "code",
   "execution_count": 26,
   "metadata": {
    "collapsed": true
   },
   "outputs": [],
   "source": [
    "nb_r = list(map(lambda x: nb_rated[x[1]], X_tmp_test))"
   ]
  },
  {
   "cell_type": "code",
   "execution_count": 30,
   "metadata": {},
   "outputs": [],
   "source": [
    "import numpy as np\n",
    "\n",
    "X = np.column_stack((nb_r, y_als, y_lasso))"
   ]
  },
  {
   "cell_type": "code",
   "execution_count": 31,
   "metadata": {
    "collapsed": true
   },
   "outputs": [],
   "source": [
    "y = y_tmp_test"
   ]
  },
  {
   "cell_type": "code",
   "execution_count": 32,
   "metadata": {},
   "outputs": [
    {
     "data": {
      "text/plain": [
       "(66878, 3)"
      ]
     },
     "execution_count": 32,
     "metadata": {},
     "output_type": "execute_result"
    }
   ],
   "source": [
    "X.shape"
   ]
  },
  {
   "cell_type": "code",
   "execution_count": 33,
   "metadata": {},
   "outputs": [
    {
     "data": {
      "text/plain": [
       "(66878,)"
      ]
     },
     "execution_count": 33,
     "metadata": {},
     "output_type": "execute_result"
    }
   ],
   "source": [
    "y.shape"
   ]
  },
  {
   "cell_type": "code",
   "execution_count": 34,
   "metadata": {
    "collapsed": true
   },
   "outputs": [],
   "source": [
    "import tensorflow as tf"
   ]
  },
  {
   "cell_type": "code",
   "execution_count": 35,
   "metadata": {
    "collapsed": true
   },
   "outputs": [],
   "source": [
    "gamma = tf.Variable(tf.random_normal([1]), name='gamma')"
   ]
  },
  {
   "cell_type": "code",
   "execution_count": 46,
   "metadata": {
    "collapsed": true
   },
   "outputs": [],
   "source": [
    "e1 = np.array([1, 0, 0])\n",
    "e2 = np.array([0, 1, 0])\n",
    "e3 = np.array([0, 0, 1])\n",
    "pred = tf.sigmoid(1*(X.dot(e1) - gamma)) * X.dot(e2) + (1 - tf.sigmoid(1*(X.dot(e1) - gamma))) * X.dot(e3)\n",
    "loss = tf.reduce_mean(tf.square(y - pred)) ** 0.5\n",
    "reg_loss = loss\n",
    "\n",
    "optimizer = tf.train.AdamOptimizer(1)\n",
    "train_step = optimizer.minimize(reg_loss, var_list=[gamma])\n",
    "\n",
    "init_op = tf.global_variables_initializer()\n",
    "sess = tf.InteractiveSession()\n",
    "sess.run(init_op)"
   ]
  },
  {
   "cell_type": "code",
   "execution_count": 47,
   "metadata": {},
   "outputs": [
    {
     "name": "stdout",
     "output_type": "stream",
     "text": [
      "loss 1.16212 var [ 1.71178198]\n",
      "loss 1.16196 var [ 2.65714264]\n",
      "loss 1.16199 var [ 3.42634296]\n",
      "loss 1.16206 var [ 3.95010829]\n",
      "loss 1.16211 var [ 4.25023127]\n",
      "loss 1.16214 var [ 4.37002373]\n",
      "loss 1.16213 var [ 4.34614706]\n",
      "loss 1.16211 var [ 4.20701599]\n",
      "loss 1.16207 var [ 3.97550392]\n",
      "loss 1.16202 var [ 3.6722436]\n",
      "loss 1.16198 var [ 3.31983399]\n",
      "loss 1.16195 var [ 2.94791985]\n",
      "loss 1.16196 var [ 2.59679484]\n",
      "loss 1.16199 var [ 2.31410527]\n",
      "loss 1.16201 var [ 2.14085078]\n",
      "loss 1.16202 var [ 2.09492922]\n",
      "loss 1.16201 var [ 2.16750526]\n",
      "loss 1.16198 var [ 2.33164287]\n",
      "loss 1.16196 var [ 2.55180216]\n",
      "loss 1.16195 var [ 2.79022217]\n",
      "loss 1.16196 var [ 3.01211548]\n",
      "loss 1.16197 var [ 3.19045711]\n",
      "loss 1.16198 var [ 3.3086493]\n",
      "loss 1.16198 var [ 3.36008191]\n",
      "loss 1.16198 var [ 3.34600186]\n",
      "loss 1.16197 var [ 3.27352715]\n",
      "loss 1.16196 var [ 3.15452909]\n",
      "loss 1.16196 var [ 3.00516701]\n",
      "loss 1.16195 var [ 2.84534335]\n",
      "loss 1.16195 var [ 2.69715738]\n",
      "loss 1.16196 var [ 2.58177137]\n",
      "loss 1.16196 var [ 2.5151875]\n",
      "loss 1.16197 var [ 2.50461078]\n",
      "loss 1.16196 var [ 2.54710579]\n",
      "loss 1.16196 var [ 2.63091063]\n",
      "loss 1.16195 var [ 2.7385242]\n",
      "loss 1.16195 var [ 2.85045719]\n",
      "loss 1.16195 var [ 2.94879055]\n",
      "loss 1.16196 var [ 3.01986051]\n",
      "loss 1.16196 var [ 3.05566716]\n",
      "loss 1.16196 var [ 3.05410981]\n",
      "loss 1.16196 var [ 3.01848674]\n",
      "loss 1.16195 var [ 2.95664668]\n",
      "loss 1.16195 var [ 2.87988329]\n",
      "loss 1.16195 var [ 2.80143881]\n",
      "loss 1.16195 var [ 2.73449683]\n",
      "loss 1.16195 var [ 2.68984771]\n",
      "loss 1.16196 var [ 2.67378378]\n",
      "loss 1.16195 var [ 2.68692112]\n",
      "loss 1.16195 var [ 2.72435546]\n",
      "loss 1.16195 var [ 2.77705693]\n",
      "loss 1.16195 var [ 2.83402133]\n",
      "loss 1.16195 var [ 2.88456726]\n",
      "loss 1.16195 var [ 2.92025065]\n",
      "loss 1.16195 var [ 2.93608403]\n",
      "loss 1.16195 var [ 2.93099451]\n",
      "loss 1.16195 var [ 2.90763497]\n",
      "loss 1.16195 var [ 2.87168598]\n",
      "loss 1.16195 var [ 2.83075166]\n",
      "loss 1.16195 var [ 2.79294181]\n",
      "loss 1.16195 var [ 2.76531887]\n",
      "loss 1.16195 var [ 2.75251102]\n",
      "loss 1.16195 var [ 2.75584769]\n",
      "loss 1.16195 var [ 2.77326202]\n",
      "loss 1.16195 var [ 2.79997349]\n",
      "loss 1.16195 var [ 2.8297255]\n",
      "loss 1.16195 var [ 2.85622191]\n",
      "loss 1.16195 var [ 2.87441373]\n",
      "loss 1.16195 var [ 2.88137937]\n",
      "loss 1.16195 var [ 2.87669849]\n",
      "loss 1.16195 var [ 2.86232543]\n",
      "loss 1.16195 var [ 2.84203339]\n",
      "loss 1.16195 var [ 2.82054734]\n",
      "loss 1.16195 var [ 2.80251527]\n",
      "loss 1.16195 var [ 2.79151917]\n",
      "loss 1.16195 var [ 2.78934598]\n",
      "loss 1.16195 var [ 2.7957015]\n",
      "loss 1.16195 var [ 2.80842447]\n",
      "loss 1.16195 var [ 2.82412577]\n",
      "loss 1.16195 var [ 2.83905602]\n",
      "loss 1.16195 var [ 2.84997416]\n",
      "loss 1.16195 var [ 2.85481811]\n",
      "loss 1.16195 var [ 2.85305166]\n",
      "loss 1.16195 var [ 2.84565473]\n",
      "loss 1.16195 var [ 2.83479118]\n",
      "loss 1.16195 var [ 2.823241]\n",
      "loss 1.16195 var [ 2.81372571]\n",
      "loss 1.16195 var [ 2.8082819]\n",
      "loss 1.16195 var [ 2.80782866]\n",
      "loss 1.16195 var [ 2.81202745]\n",
      "loss 1.16195 var [ 2.81946111]\n",
      "loss 1.16195 var [ 2.82806301]\n",
      "loss 1.16195 var [ 2.83566999]\n",
      "loss 1.16195 var [ 2.84054923]\n",
      "loss 1.16195 var [ 2.84177518]\n",
      "loss 1.16195 var [ 2.83938146]\n",
      "loss 1.16195 var [ 2.83427405]\n",
      "loss 1.16195 var [ 2.82794499]\n",
      "loss 1.16195 var [ 2.82206297]\n",
      "loss 1.16195 var [ 2.81804872]\n"
     ]
    }
   ],
   "source": [
    "for i in range(100):\n",
    "    sess.run(train_step)\n",
    "    print('loss', sess.run(reg_loss), 'var', gamma.eval())"
   ]
  },
  {
   "cell_type": "code",
   "execution_count": 48,
   "metadata": {},
   "outputs": [
    {
     "data": {
      "text/plain": [
       "1.1639611046066964"
      ]
     },
     "execution_count": 48,
     "metadata": {},
     "output_type": "execute_result"
    }
   ],
   "source": [
    "np.mean(np.square(y_als - y)) ** 0.5"
   ]
  },
  {
   "cell_type": "code",
   "execution_count": null,
   "metadata": {
    "collapsed": true
   },
   "outputs": [],
   "source": []
  }
 ],
 "metadata": {
  "kernelspec": {
   "display_name": "Django Shell-Plus",
   "language": "python",
   "name": "django_extensions"
  },
  "language_info": {
   "codemirror_mode": {
    "name": "ipython",
    "version": 3
   },
   "file_extension": ".py",
   "mimetype": "text/x-python",
   "name": "python",
   "nbconvert_exporter": "python",
   "pygments_lexer": "ipython3",
   "version": "3.6.1"
  }
 },
 "nbformat": 4,
 "nbformat_minor": 2
}
