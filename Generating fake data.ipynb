{
 "cells": [
  {
   "cell_type": "code",
   "execution_count": 158,
   "metadata": {
    "collapsed": true
   },
   "outputs": [],
   "source": [
    "FULLY = 0.25\n",
    "PARTIALLY = 0.73"
   ]
  },
  {
   "cell_type": "code",
   "execution_count": 159,
   "metadata": {
    "collapsed": true
   },
   "outputs": [],
   "source": [
    "N = 100  # items\n",
    "D = 2071  # users\n",
    "q = 10  # latent dimension"
   ]
  },
  {
   "cell_type": "code",
   "execution_count": 160,
   "metadata": {},
   "outputs": [],
   "source": [
    "# Real data\n",
    "from mangaki.algo.dataset import Dataset\n",
    "rating_values = {'dislike': 1, 'wontsee': 2, 'neutral': 3, 'willsee': 4, 'like': 5, 'favorite': 6}\n",
    "#from mangaki.utils.values import rating_values\n",
    "\n",
    "dataset = Dataset()\n",
    "dataset.load_csv('ratings-ordered.csv', convert=lambda choice: rating_values[choice])"
   ]
  },
  {
   "cell_type": "code",
   "execution_count": 161,
   "metadata": {
    "collapsed": true
   },
   "outputs": [],
   "source": [
    "from scipy.sparse import coo_matrix\n",
    "\n",
    "rows = dataset.anonymized.X[:, 0]\n",
    "cols = dataset.anonymized.X[:, 1]\n",
    "data = dataset.anonymized.y\n",
    "mangaki = coo_matrix((data, (rows, cols)), shape=(dataset.anonymized.nb_users, dataset.anonymized.nb_works)).tocsr()"
   ]
  },
  {
   "cell_type": "code",
   "execution_count": 162,
   "metadata": {},
   "outputs": [
    {
     "data": {
      "text/plain": [
       "array([ 5.,  5.,  5., ...,  2.,  4.,  2.])"
      ]
     },
     "execution_count": 162,
     "metadata": {},
     "output_type": "execute_result"
    }
   ],
   "source": [
    "mangaki.data"
   ]
  },
  {
   "cell_type": "code",
   "execution_count": 163,
   "metadata": {},
   "outputs": [],
   "source": [
    "from sklearn.model_selection import ShuffleSplit\n",
    "import random\n",
    "\n",
    "splitter = ShuffleSplit(n_splits=1, train_size=FULLY)\n",
    "X_fulltrain = []\n",
    "y_fulltrain = []\n",
    "X_parttrain = []\n",
    "y_parttrain = []\n",
    "X_test = []\n",
    "y_test = []\n",
    "for i_full_train, i_train_test in splitter.split(range(D)):\n",
    "    i_full_train = set(i_full_train)\n",
    "    i_train_test = set(i_train_test)\n",
    "    for (user_id, work_id), rating in zip(dataset.anonymized.X, dataset.anonymized.y):\n",
    "        if user_id in i_full_train:\n",
    "            X_fulltrain.append((user_id, work_id))\n",
    "            y_fulltrain.append(rating)\n",
    "        elif random.random() < PARTIALLY:\n",
    "            X_parttrain.append((user_id, work_id))\n",
    "            y_parttrain.append(rating)\n",
    "        else:\n",
    "            X_test.append((user_id, work_id))\n",
    "            y_test.append(rating)\n",
    "X_fulltrain = np.array(X_fulltrain)\n",
    "y_fulltrain = np.array(y_fulltrain)\n",
    "X_parttrain = np.array(X_parttrain)\n",
    "y_parttrain = np.array(y_parttrain)\n",
    "X_train = np.vstack((X_fulltrain, X_parttrain))\n",
    "y_train = np.concatenate((y_fulltrain, y_parttrain))\n",
    "X_test = dataset.anonymized.X[i_test]\n",
    "y_test = dataset.anonymized.y[i_test]"
   ]
  },
  {
   "cell_type": "code",
   "execution_count": 96,
   "metadata": {
    "collapsed": true
   },
   "outputs": [],
   "source": [
    "def compute_all_errors(model, X_train, y_train, X_test, y_test):\n",
    "    y_train_pred = model.predict(X_train)\n",
    "    print('Train RMSE=', model.compute_rmse(y_train, y_train_pred))\n",
    "    y_test_pred = model.predict(X_test)\n",
    "    print('Test RMSE=', model.compute_rmse(y_test, y_test_pred))"
   ]
  },
  {
   "cell_type": "markdown",
   "metadata": {},
   "source": [
    "# When FULLY = 50%, PARTIALLY = 60% (total: 80%)"
   ]
  },
  {
   "cell_type": "code",
   "execution_count": 140,
   "metadata": {},
   "outputs": [
    {
     "name": "stdout",
     "output_type": "stream",
     "text": [
      "Computing M: (2071 × 10086)\n",
      "Chrono: fill and center matrix [0q, 874ms]\n",
      "Shapes (2071, 20) (20, 10086)\n",
      "Chrono: factor matrix [0q, 6387ms]\n",
      "Train RMSE= 0.895676955371\n",
      "Test RMSE= 0.961083202139\n"
     ]
    }
   ],
   "source": [
    "from mangaki.algo.als import MangakiALS\n",
    "\n",
    "als = MangakiALS()\n",
    "als.set_parameters(dataset.anonymized.nb_users, dataset.anonymized.nb_works)\n",
    "als.fit(X_train, y_train)\n",
    "compute_all_errors(als, X_train, y_train, X_test, y_test)"
   ]
  },
  {
   "cell_type": "code",
   "execution_count": 99,
   "metadata": {},
   "outputs": [
    {
     "name": "stdout",
     "output_type": "stream",
     "text": [
      "Computing M: (2071 × 10086)\n"
     ]
    },
    {
     "name": "stderr",
     "output_type": "stream",
     "text": [
      "/Users/jilljenn/code/mangaki/mangaki/mangaki/algo/svd.py:36: RuntimeWarning: invalid value encountered in double_scalars\n",
      "  means[i] = np.sum(matrix[i]) / np.sum(matrix[i] != 0)\n"
     ]
    },
    {
     "name": "stdout",
     "output_type": "stream",
     "text": [
      "Chrono: fill and center matrix [0q, 633ms]\n",
      "Shapes (2071, 20) (20,) (20, 10086)\n",
      "Chrono: factor matrix [0q, 693ms]\n",
      "Train RMSE= 1.08928598343\n",
      "Test RMSE= 1.11938618551\n"
     ]
    }
   ],
   "source": [
    "from mangaki.algo.svd import MangakiSVD\n",
    "\n",
    "svd = MangakiSVD()\n",
    "svd.set_parameters(dataset.anonymized.nb_users, dataset.anonymized.nb_works)\n",
    "svd.fit(X_train, y_train)\n",
    "compute_all_errors(svd, X_train, y_train, X_test, y_test)"
   ]
  },
  {
   "cell_type": "code",
   "execution_count": 98,
   "metadata": {},
   "outputs": [
    {
     "name": "stdout",
     "output_type": "stream",
     "text": [
      "Train RMSE= 2.03534214322\n",
      "Test RMSE= 2.06726144326\n"
     ]
    }
   ],
   "source": [
    "from mangaki.algo.knn import MangakiKNN\n",
    "\n",
    "knn = MangakiKNN()\n",
    "knn.set_parameters(dataset.anonymized.nb_users, dataset.anonymized.nb_works)\n",
    "knn.fit(X_train, y_train)\n",
    "compute_all_errors(knn, X_train, y_train, X_test, y_test)"
   ]
  },
  {
   "cell_type": "markdown",
   "metadata": {},
   "source": [
    "# When FULLY = 25%, PARTIALLY = 73% (total: 80%)"
   ]
  },
  {
   "cell_type": "code",
   "execution_count": 164,
   "metadata": {},
   "outputs": [
    {
     "name": "stdout",
     "output_type": "stream",
     "text": [
      "Computing M: (2071 × 10086)\n",
      "Chrono: fill and center matrix [0q, 853ms]\n",
      "Shapes (2071, 20) (20, 10086)\n",
      "Chrono: factor matrix [0q, 6462ms]\n",
      "Train RMSE= 0.896739922264\n",
      "Test RMSE= 0.958452733722\n"
     ]
    }
   ],
   "source": [
    "from mangaki.algo.als import MangakiALS\n",
    "\n",
    "als = MangakiALS()\n",
    "als.set_parameters(dataset.anonymized.nb_users, dataset.anonymized.nb_works)\n",
    "als.fit(X_train, y_train)\n",
    "compute_all_errors(als, X_train, y_train, X_test, y_test)"
   ]
  },
  {
   "cell_type": "code",
   "execution_count": 165,
   "metadata": {},
   "outputs": [
    {
     "name": "stdout",
     "output_type": "stream",
     "text": [
      "Computing M: (2071 × 10086)\n"
     ]
    },
    {
     "name": "stderr",
     "output_type": "stream",
     "text": [
      "/Users/jilljenn/code/mangaki/mangaki/mangaki/algo/svd.py:36: RuntimeWarning: invalid value encountered in double_scalars\n",
      "  means[i] = np.sum(matrix[i]) / np.sum(matrix[i] != 0)\n"
     ]
    },
    {
     "name": "stdout",
     "output_type": "stream",
     "text": [
      "Chrono: fill and center matrix [0q, 586ms]\n",
      "Shapes (2071, 20) (20,) (20, 10086)\n",
      "Chrono: factor matrix [0q, 650ms]\n",
      "Train RMSE= 1.09278685532\n",
      "Test RMSE= 1.11839989583\n"
     ]
    }
   ],
   "source": [
    "from mangaki.algo.svd import MangakiSVD\n",
    "\n",
    "svd = MangakiSVD()\n",
    "svd.set_parameters(dataset.anonymized.nb_users, dataset.anonymized.nb_works)\n",
    "svd.fit(X_train, y_train)\n",
    "compute_all_errors(svd, X_train, y_train, X_test, y_test)"
   ]
  },
  {
   "cell_type": "code",
   "execution_count": 166,
   "metadata": {},
   "outputs": [
    {
     "name": "stdout",
     "output_type": "stream",
     "text": [
      "Train RMSE= 2.04675025879\n",
      "Test RMSE= 2.07535256316\n"
     ]
    }
   ],
   "source": [
    "from mangaki.algo.knn import MangakiKNN\n",
    "\n",
    "knn = MangakiKNN()\n",
    "knn.set_parameters(dataset.anonymized.nb_users, dataset.anonymized.nb_works)\n",
    "knn.fit(X_train, y_train)\n",
    "compute_all_errors(knn, X_train, y_train, X_test, y_test)"
   ]
  },
  {
   "cell_type": "code",
   "execution_count": 167,
   "metadata": {},
   "outputs": [
    {
     "name": "stdout",
     "output_type": "stream",
     "text": [
      "0.138281790056\n"
     ]
    },
    {
     "data": {
      "text/plain": [
       "[<matplotlib.lines.Line2D at 0x11d159320>]"
      ]
     },
     "execution_count": 167,
     "metadata": {},
     "output_type": "execute_result"
    },
    {
     "data": {
      "image/png": "[encoded data removed]",
      "text/plain": [
       "<matplotlib.figure.Figure at 0x11d155550>"
      ]
     },
     "metadata": {},
     "output_type": "display_data"
    }
   ],
   "source": [
    "%matplotlib inline\n",
    "import matplotlib.pyplot as plt\n",
    "import matplotlib.mlab as mlab\n",
    "import numpy as np\n",
    "\n",
    "values = als.U[:, 19]\n",
    "nb_samples = len(values)\n",
    "mu = values.mean()\n",
    "sigma = values.std()\n",
    "\n",
    "nb_boxes = 20\n",
    "size = (values.max() - values.min()) / nb_boxes\n",
    "print(size)\n",
    "x = np.linspace(-1, 1, 100)\n",
    "plt.hist(als.U[:, 19], nb_boxes)\n",
    "plt.plot(x, nb_samples * size * mlab.normpdf(x, mu, sigma))"
   ]
  },
  {
   "cell_type": "code",
   "execution_count": 168,
   "metadata": {},
   "outputs": [],
   "source": [
    "mu_pop = als.U.mean(axis=0)\n",
    "sigma_pop = np.cov(als.U.T)"
   ]
  },
  {
   "cell_type": "code",
   "execution_count": 169,
   "metadata": {
    "collapsed": true
   },
   "outputs": [],
   "source": [
    "mu_bias = als.means.mean()\n",
    "sigma_bias = als.means.std()"
   ]
  },
  {
   "cell_type": "code",
   "execution_count": 170,
   "metadata": {},
   "outputs": [],
   "source": [
    "from collections import Counter\n",
    "\n",
    "nb_ratings = Counter(X_fulltrain[:, 0])"
   ]
  },
  {
   "cell_type": "code",
   "execution_count": 171,
   "metadata": {},
   "outputs": [
    {
     "data": {
      "text/plain": [
       "[(255, 1606), (1571, 1552), (121, 1522), (1410, 1248), (1945, 1115)]"
      ]
     },
     "execution_count": 171,
     "metadata": {},
     "output_type": "execute_result"
    }
   ],
   "source": [
    "nb_ratings.most_common(5)"
   ]
  },
  {
   "cell_type": "code",
   "execution_count": 172,
   "metadata": {
    "collapsed": true
   },
   "outputs": [],
   "source": [
    "popularity = Counter(X_train[:, 1])"
   ]
  },
  {
   "cell_type": "code",
   "execution_count": 173,
   "metadata": {},
   "outputs": [
    {
     "data": {
      "text/plain": [
       "[(0, 1283), (1, 1188), (2, 1140), (4, 1124), (3, 1100)]"
      ]
     },
     "execution_count": 173,
     "metadata": {},
     "output_type": "execute_result"
    }
   ],
   "source": [
    "popularity.most_common(5)"
   ]
  },
  {
   "cell_type": "code",
   "execution_count": 174,
   "metadata": {
    "collapsed": true
   },
   "outputs": [],
   "source": [
    "fake_bias = np.random.normal(mu_bias, sigma_bias, size=len(i_full_train))"
   ]
  },
  {
   "cell_type": "code",
   "execution_count": 175,
   "metadata": {},
   "outputs": [],
   "source": [
    "X_faketrain = []\n",
    "y_faketrain = []\n",
    "fake_U = np.random.multivariate_normal(mu_pop, sigma_pop, size=len(i_full_train))\n",
    "for i, user_id in enumerate(i_full_train):\n",
    "    weights = np.array(list(popularity.values())) / sum(popularity.values())\n",
    "    work_ids = np.random.choice(list(popularity.keys()), size=nb_ratings[user_id], p=weights, replace=False)\n",
    "    X_faketrain.extend([(user_id, work_id) for work_id in work_ids])\n",
    "    y_faketrain.extend(als.VT.T[work_ids].dot(fake_U[i]) + fake_bias[i])\n",
    "X_faketrain = np.array(X_faketrain)\n",
    "y_faketrain = np.array(y_faketrain)"
   ]
  },
  {
   "cell_type": "code",
   "execution_count": 176,
   "metadata": {},
   "outputs": [],
   "source": [
    "X_fake = np.vstack((X_faketrain, X_parttrain))\n",
    "y_fake = np.concatenate((y_faketrain, y_parttrain))"
   ]
  },
  {
   "cell_type": "markdown",
   "metadata": {},
   "source": [
    "# When FULLY = 50%, PARTIALLY = 60% (total: 80%)"
   ]
  },
  {
   "cell_type": "code",
   "execution_count": 155,
   "metadata": {},
   "outputs": [
    {
     "name": "stdout",
     "output_type": "stream",
     "text": [
      "Computing M: (2071 × 10086)\n",
      "Chrono: fill and center matrix [0q, 887ms]\n",
      "Shapes (2071, 20) (20, 10086)\n",
      "Chrono: factor matrix [0q, 6118ms]\n",
      "Train RMSE= 0.587909831104\n",
      "Test RMSE= 1.4260386546\n"
     ]
    }
   ],
   "source": [
    "als = MangakiALS()\n",
    "als.set_parameters(dataset.anonymized.nb_users, dataset.anonymized.nb_works)\n",
    "als.fit(X_fake, y_fake)\n",
    "compute_all_errors(als, X_fake, y_fake, X_test, y_test)"
   ]
  },
  {
   "cell_type": "code",
   "execution_count": 156,
   "metadata": {},
   "outputs": [
    {
     "name": "stdout",
     "output_type": "stream",
     "text": [
      "Computing M: (2071 × 10086)\n"
     ]
    },
    {
     "name": "stderr",
     "output_type": "stream",
     "text": [
      "/Users/jilljenn/code/mangaki/mangaki/mangaki/algo/svd.py:36: RuntimeWarning: invalid value encountered in double_scalars\n",
      "  means[i] = np.sum(matrix[i]) / np.sum(matrix[i] != 0)\n"
     ]
    },
    {
     "name": "stdout",
     "output_type": "stream",
     "text": [
      "Chrono: fill and center matrix [0q, 618ms]\n",
      "Shapes (2071, 20) (20,) (20, 10086)\n",
      "Chrono: factor matrix [0q, 699ms]\n",
      "Train RMSE= 0.722305878199\n",
      "Test RMSE= 1.46782574115\n"
     ]
    }
   ],
   "source": [
    "svd = MangakiSVD()\n",
    "svd.set_parameters(dataset.anonymized.nb_users, dataset.anonymized.nb_works)\n",
    "svd.fit(X_fake, y_fake)\n",
    "compute_all_errors(svd, X_fake, y_fake, X_test, y_test)"
   ]
  },
  {
   "cell_type": "code",
   "execution_count": 157,
   "metadata": {},
   "outputs": [
    {
     "name": "stdout",
     "output_type": "stream",
     "text": [
      "Train RMSE= 2.10213686971\n",
      "Test RMSE= 2.15983322509\n"
     ]
    }
   ],
   "source": [
    "knn = MangakiKNN()\n",
    "knn.set_parameters(dataset.anonymized.nb_users, dataset.anonymized.nb_works)\n",
    "knn.fit(X_fake, y_fake)\n",
    "compute_all_errors(knn, X_fake, y_fake, X_test, y_test)"
   ]
  },
  {
   "cell_type": "markdown",
   "metadata": {},
   "source": [
    "# When FULLY = 25%, PARTIALLY = 73% (total: 80%)"
   ]
  },
  {
   "cell_type": "code",
   "execution_count": 177,
   "metadata": {},
   "outputs": [
    {
     "name": "stdout",
     "output_type": "stream",
     "text": [
      "Computing M: (2071 × 10086)\n",
      "Chrono: fill and center matrix [0q, 928ms]\n",
      "Shapes (2071, 20) (20, 10086)\n",
      "Chrono: factor matrix [0q, 6916ms]\n",
      "Train RMSE= 0.751709581523\n",
      "Test RMSE= 1.18777848707\n"
     ]
    }
   ],
   "source": [
    "als = MangakiALS()\n",
    "als.set_parameters(dataset.anonymized.nb_users, dataset.anonymized.nb_works)\n",
    "als.fit(X_fake, y_fake)\n",
    "compute_all_errors(als, X_fake, y_fake, X_test, y_test)"
   ]
  },
  {
   "cell_type": "code",
   "execution_count": 178,
   "metadata": {},
   "outputs": [
    {
     "name": "stdout",
     "output_type": "stream",
     "text": [
      "Computing M: (2071 × 10086)\n"
     ]
    },
    {
     "name": "stderr",
     "output_type": "stream",
     "text": [
      "/Users/jilljenn/code/mangaki/mangaki/mangaki/algo/svd.py:36: RuntimeWarning: invalid value encountered in double_scalars\n",
      "  means[i] = np.sum(matrix[i]) / np.sum(matrix[i] != 0)\n"
     ]
    },
    {
     "name": "stdout",
     "output_type": "stream",
     "text": [
      "Chrono: fill and center matrix [0q, 631ms]\n",
      "Shapes (2071, 20) (20,) (20, 10086)\n",
      "Chrono: factor matrix [0q, 690ms]\n",
      "Train RMSE= 0.926449672331\n",
      "Test RMSE= 1.28065678659\n"
     ]
    }
   ],
   "source": [
    "svd = MangakiSVD()\n",
    "svd.set_parameters(dataset.anonymized.nb_users, dataset.anonymized.nb_works)\n",
    "svd.fit(X_fake, y_fake)\n",
    "compute_all_errors(svd, X_fake, y_fake, X_test, y_test)"
   ]
  },
  {
   "cell_type": "code",
   "execution_count": 179,
   "metadata": {},
   "outputs": [
    {
     "name": "stdout",
     "output_type": "stream",
     "text": [
      "Train RMSE= 2.18239929253\n",
      "Test RMSE= 2.1875031604\n"
     ]
    }
   ],
   "source": [
    "knn = MangakiKNN()\n",
    "knn.set_parameters(dataset.anonymized.nb_users, dataset.anonymized.nb_works)\n",
    "knn.fit(X_fake, y_fake)\n",
    "compute_all_errors(knn, X_fake, y_fake, X_test, y_test)"
   ]
  },
  {
   "cell_type": "code",
   "execution_count": null,
   "metadata": {
    "collapsed": true
   },
   "outputs": [],
   "source": []
  }
 ],
 "metadata": {
  "kernelspec": {
   "display_name": "Django Shell-Plus",
   "language": "python",
   "name": "django_extensions"
  },
  "language_info": {
   "codemirror_mode": {
    "name": "ipython",
    "version": 3
   },
   "file_extension": ".py",
   "mimetype": "text/x-python",
   "name": "python",
   "nbconvert_exporter": "python",
   "pygments_lexer": "ipython3",
   "version": "3.6.3"
  }
 },
 "nbformat": 4,
 "nbformat_minor": 2
}
