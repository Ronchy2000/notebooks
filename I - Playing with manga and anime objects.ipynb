{
 "cells": [
  {
   "cell_type": "markdown",
   "metadata": {},
   "source": [
    "# I - Playing with objects on Mangaki: Work, Artist, Staff, Rating"
   ]
  },
  {
   "cell_type": "markdown",
   "metadata": {},
   "source": [
    "Mangaki Work objects belong to three categories: anime, manga or album."
   ]
  },
  {
   "cell_type": "code",
   "execution_count": 1,
   "metadata": {},
   "outputs": [
    {
     "data": {
      "text/plain": [
       "Counter({'anime': 11027, 'manga': 4503, 'album': 1})"
      ]
     },
     "execution_count": 1,
     "metadata": {},
     "output_type": "execute_result"
    }
   ],
   "source": [
    "from collections import Counter\n",
    "\n",
    "Counter(Work.objects.values_list('category__slug', flat=True))"
   ]
  },
  {
   "cell_type": "markdown",
   "metadata": {},
   "source": [
    "## Get work from ID"
   ]
  },
  {
   "cell_type": "code",
   "execution_count": 2,
   "metadata": {},
   "outputs": [
    {
     "data": {
      "text/plain": [
       "<Work: Death Note>"
      ]
     },
     "execution_count": 2,
     "metadata": {},
     "output_type": "execute_result"
    }
   ],
   "source": [
    "death_note = Work.objects.get(id=1)\n",
    "death_note"
   ]
  },
  {
   "cell_type": "code",
   "execution_count": 3,
   "metadata": {},
   "outputs": [
    {
     "name": "stdout",
     "output_type": "stream",
     "text": [
      "Tetsuro Araki, réalisateur de Death Note\n",
      "Yoshihisa Hirano, compositeur de Death Note\n",
      "Tsugumi Ôba, auteur de Death Note\n"
     ]
    }
   ],
   "source": [
    "for staff in death_note.staff_set.all():\n",
    "    print(staff)"
   ]
  },
  {
   "cell_type": "markdown",
   "metadata": {},
   "source": [
    "## Find a work by title"
   ]
  },
  {
   "cell_type": "code",
   "execution_count": 4,
   "metadata": {},
   "outputs": [
    {
     "name": "stdout",
     "output_type": "stream",
     "text": [
      "#33 (anime): Mahou Shoujo Madoka★Magica (728 ratings)\n",
      "#176 (anime): Puella Magi Madoka Magica the Movie Part 3: Rebellion (433 ratings)\n",
      "#179 (anime): Puella Magi Madoka Magica the Movie Part 1: Beginnings (315 ratings)\n",
      "#180 (anime): Puella Magi Madoka Magica the Movie Part 2: Eternal (279 ratings)\n",
      "#181 (anime): Mahou Shoujo Madoka★Magica Movie 3: Hangyaku no Monogatari - Magica Quartet x Nisioisin (45 ratings)\n",
      "#6971 (manga): Puella Magi Madoka Magica (90 ratings)\n",
      "#6973 (manga): Puella Magi Madoka★Magica: The different story (82 ratings)\n",
      "#14090 (anime): Puella Magi Madoka Magica Concept Movie (5 ratings)\n",
      "#20241 (anime): Puella Magi Madoka Magica Side Story: Magia Record (1 ratings)\n"
     ]
    }
   ],
   "source": [
    "for work in Work.objects.filter(title__contains='adoka').order_by('id'):\n",
    "    print('#{} ({}): {} ({} ratings)'.format(work.id, work.category.slug, work.title, work.rating_set.count()))"
   ]
  },
  {
   "cell_type": "markdown",
   "metadata": {},
   "source": [
    "## Find an artist by name"
   ]
  },
  {
   "cell_type": "code",
   "execution_count": 5,
   "metadata": {},
   "outputs": [
    {
     "data": {
      "text/plain": [
       "<Artist: Akiyuki Shinbou>"
      ]
     },
     "execution_count": 5,
     "metadata": {},
     "output_type": "execute_result"
    }
   ],
   "source": [
    "shinbou = Artist.objects.get(name__contains='Shinbou')\n",
    "shinbou"
   ]
  },
  {
   "cell_type": "markdown",
   "metadata": {},
   "source": [
    "By the way, what works did Shinbou make?"
   ]
  },
  {
   "cell_type": "code",
   "execution_count": 6,
   "metadata": {},
   "outputs": [
    {
     "name": "stdout",
     "output_type": "stream",
     "text": [
      "Akiyuki Shinbou, réalisateur de Tsukuyomi: Moon Phase\n",
      "Akiyuki Shinbou, réalisateur de Nisemonogatari\n",
      "Akiyuki Shinbou, réalisateur de Nisekoi\n",
      "Akiyuki Shinbou, réalisateur de Sasami-san@Ganbaranai\n",
      "Akiyuki Shinbou, réalisateur de Hidamari Sketch\n",
      "Akiyuki Shinbou, réalisateur de Pani Poni Dash!\n",
      "Akiyuki Shinbou, réalisateur de Magical Girl Lyrical Nanoha\n",
      "Akiyuki Shinbou, réalisateur de Denpa Onna to Seishun Otoko Special\n",
      "Akiyuki Shinbou, réalisateur de Nekomonogatari Black: Tsubasa Family\n",
      "Akiyuki Shinbou, réalisateur de ef ~ A Tale of Memories\n",
      "Akiyuki Shinbou, réalisateur de Sayonara Zetsubou Sensei\n",
      "Akiyuki Shinbou, réalisateur de Mahou Shoujo Madoka★Magica\n",
      "Akiyuki Shinbou, réalisateur de Le Portrait de Petit Cossette\n",
      "Akiyuki Shinbou, réalisateur de Arakawa Under the Bridge\n",
      "Akiyuki Shinbou, réalisateur de Bakemonogatari\n"
     ]
    }
   ],
   "source": [
    "for staff in shinbou.staff_set.all():\n",
    "    print(staff)"
   ]
  },
  {
   "cell_type": "markdown",
   "metadata": {},
   "source": [
    "Is there an artist who had different roles in anime/manga?"
   ]
  },
  {
   "cell_type": "code",
   "execution_count": 7,
   "metadata": {},
   "outputs": [],
   "source": [
    "from collections import defaultdict\n",
    "\n",
    "roles = defaultdict(set)\n",
    "for staff in Staff.objects.select_related('artist', 'role'):\n",
    "    roles[staff.artist_id, staff.artist].add(staff.role.slug)"
   ]
  },
  {
   "cell_type": "code",
   "execution_count": 8,
   "metadata": {},
   "outputs": [],
   "source": [
    "artists = list(roles.keys())\n",
    "artists.sort(key=lambda artist: len(roles[artist]), reverse=True)  # Ordered by the number of different taken roles"
   ]
  },
  {
   "cell_type": "markdown",
   "metadata": {},
   "source": [
    "Let's display the top 10:"
   ]
  },
  {
   "cell_type": "code",
   "execution_count": 9,
   "metadata": {},
   "outputs": [
    {
     "name": "stdout",
     "output_type": "stream",
     "text": [
      "(209, <Artist: Hayao Miyazaki>) {'writer', 'director', 'mangaka', 'author'}\n",
      "(795, <Artist: Mamoru Hosoda>) {'writer', 'director', 'mangaka', 'author'}\n",
      "(794, <Artist: Makoto Shinkai>) {'writer', 'director', 'mangaka', 'author'}\n",
      "(1148, <Artist: Satoshi Kon>) {'writer', 'director', 'mangaka', 'author'}\n",
      "(100, <Artist: Katsuhiro Otomo>) {'writer', 'director', 'mangaka', 'author'}\n",
      "(2042, <Artist:  >) {'director', 'author', 'composer'}\n",
      "(927, <Artist: Keiji Gotoh>) {'writer', 'director', 'mangaka'}\n",
      "(509, <Artist: Gorō Taniguchi>) {'writer', 'director', 'mangaka'}\n",
      "(881, <Artist: Keiichi Suzuki>) {'writer', 'mangaka', 'composer'}\n",
      "(1503, <Artist: Eiichirô Oda>) {'writer', 'mangaka', 'author'}\n"
     ]
    }
   ],
   "source": [
    "for artist in artists[:10]:\n",
    "    print(artist, roles[artist])"
   ]
  },
  {
   "cell_type": "markdown",
   "metadata": {},
   "source": [
    "If you replace the `set` above by a `list` (and replace `add` with `append`), you will find out that **Osamu Tezuka** is the most productive artist of all time (unsurprisingly)."
   ]
  },
  {
   "cell_type": "markdown",
   "metadata": {},
   "source": [
    "Is there an artist that was both a writer and a composer? (Like Shunji Iwai.)"
   ]
  },
  {
   "cell_type": "code",
   "execution_count": 10,
   "metadata": {},
   "outputs": [
    {
     "name": "stdout",
     "output_type": "stream",
     "text": [
      "(881, <Artist: Keiichi Suzuki>)\n"
     ]
    }
   ],
   "source": [
    "for artist in artists:\n",
    "    if 'writer' in roles[artist] and 'composer' in roles[artist]:\n",
    "        print(artist)"
   ]
  },
  {
   "cell_type": "markdown",
   "metadata": {},
   "source": [
    "What did he do?"
   ]
  },
  {
   "cell_type": "code",
   "execution_count": 11,
   "metadata": {},
   "outputs": [
    {
     "name": "stdout",
     "output_type": "stream",
     "text": [
      "Keiichi Suzuki, compositeur de Tokyo Godfathers\n",
      "Keiichi Suzuki, mangaka de Flic à  Tokyo\n",
      "Keiichi Suzuki, scénariste de Flic à  Tokyo\n"
     ]
    }
   ],
   "source": [
    "for staff in Artist.objects.get(id=881).staff_set.all():\n",
    "    print(staff)"
   ]
  },
  {
   "cell_type": "markdown",
   "metadata": {},
   "source": [
    "Actually, these are different authors that share the same name ^^'"
   ]
  },
  {
   "cell_type": "markdown",
   "metadata": {},
   "source": [
    "## Browse ratings for an anime"
   ]
  },
  {
   "cell_type": "code",
   "execution_count": 12,
   "metadata": {},
   "outputs": [
    {
     "name": "stdout",
     "output_type": "stream",
     "text": [
      "There are 728 ratings for Mahou Shoujo Madoka★Magica.\n"
     ]
    }
   ],
   "source": [
    "madoka = Work.objects.get(id=33)\n",
    "print('There are {} ratings for {}.'.format(madoka.rating_set.count(), madoka.title))"
   ]
  },
  {
   "cell_type": "markdown",
   "metadata": {},
   "source": [
    "Let's display the first 5 ones:"
   ]
  },
  {
   "cell_type": "code",
   "execution_count": 13,
   "metadata": {},
   "outputs": [
    {
     "name": "stdout",
     "output_type": "stream",
     "text": [
      "<QuerySet ['like', 'neutral', 'like', 'like', 'like']>\n"
     ]
    }
   ],
   "source": [
    "madoka_ratings = madoka.rating_set.values_list('choice', flat=True)\n",
    "print(madoka_ratings[:5])  # Display first 5 ratings"
   ]
  },
  {
   "cell_type": "markdown",
   "metadata": {},
   "source": [
    "Count them:"
   ]
  },
  {
   "cell_type": "code",
   "execution_count": 14,
   "metadata": {},
   "outputs": [
    {
     "data": {
      "text/plain": [
       "Counter({'like': 325,\n",
       "         'neutral': 76,\n",
       "         'dislike': 47,\n",
       "         'willsee': 94,\n",
       "         'wontsee': 144,\n",
       "         'favorite': 42})"
      ]
     },
     "execution_count": 14,
     "metadata": {},
     "output_type": "execute_result"
    }
   ],
   "source": [
    "from collections import Counter\n",
    "Counter(madoka_ratings)"
   ]
  },
  {
   "cell_type": "markdown",
   "metadata": {
    "collapsed": true
   },
   "source": [
    "## A few stats\n",
    "\n",
    "### How many users?"
   ]
  },
  {
   "cell_type": "code",
   "execution_count": 15,
   "metadata": {},
   "outputs": [
    {
     "data": {
      "text/plain": [
       "2429"
      ]
     },
     "execution_count": 15,
     "metadata": {},
     "output_type": "execute_result"
    }
   ],
   "source": [
    "User.objects.count()"
   ]
  },
  {
   "cell_type": "markdown",
   "metadata": {},
   "source": [
    "## How many work objects?"
   ]
  },
  {
   "cell_type": "code",
   "execution_count": 16,
   "metadata": {},
   "outputs": [
    {
     "data": {
      "text/plain": [
       "15531"
      ]
     },
     "execution_count": 16,
     "metadata": {},
     "output_type": "execute_result"
    }
   ],
   "source": [
    "Work.objects.count()"
   ]
  },
  {
   "cell_type": "markdown",
   "metadata": {},
   "source": [
    "## How many ratings?"
   ]
  },
  {
   "cell_type": "code",
   "execution_count": 17,
   "metadata": {},
   "outputs": [
    {
     "data": {
      "text/plain": [
       "359319"
      ]
     },
     "execution_count": 17,
     "metadata": {},
     "output_type": "execute_result"
    }
   ],
   "source": [
    "Rating.objects.count()"
   ]
  },
  {
   "cell_type": "markdown",
   "metadata": {},
   "source": [
    "So our rating matrix is filled less than 1%."
   ]
  },
  {
   "cell_type": "markdown",
   "metadata": {},
   "source": [
    "## How many works that received at least one rating?"
   ]
  },
  {
   "cell_type": "code",
   "execution_count": 18,
   "metadata": {},
   "outputs": [
    {
     "data": {
      "text/plain": [
       "11090"
      ]
     },
     "execution_count": 18,
     "metadata": {},
     "output_type": "execute_result"
    }
   ],
   "source": [
    "len(set(Rating.objects.values_list('work_id', flat=True)))"
   ]
  },
  {
   "cell_type": "markdown",
   "metadata": {},
   "source": [
    "## How many favorites?"
   ]
  },
  {
   "cell_type": "code",
   "execution_count": 19,
   "metadata": {},
   "outputs": [
    {
     "data": {
      "text/plain": [
       "15340"
      ]
     },
     "execution_count": 19,
     "metadata": {},
     "output_type": "execute_result"
    }
   ],
   "source": [
    "favorites = Rating.objects.filter(choice='favorite')\n",
    "favorites.count()"
   ]
  },
  {
   "cell_type": "markdown",
   "metadata": {},
   "source": [
    "## How many works added to favorites at least once?"
   ]
  },
  {
   "cell_type": "code",
   "execution_count": 20,
   "metadata": {},
   "outputs": [
    {
     "data": {
      "text/plain": [
       "2421"
      ]
     },
     "execution_count": 20,
     "metadata": {},
     "output_type": "execute_result"
    }
   ],
   "source": [
    "len(set(favorites.values_list('work_id', flat=True)))"
   ]
  }
 ],
 "metadata": {
  "kernelspec": {
   "display_name": "Django Shell-Plus",
   "language": "python",
   "name": "django_extensions"
  },
  "language_info": {
   "codemirror_mode": {
    "name": "ipython",
    "version": 3
   },
   "file_extension": ".py",
   "mimetype": "text/x-python",
   "name": "python",
   "nbconvert_exporter": "python",
   "pygments_lexer": "ipython3",
   "version": "3.6.5"
  }
 },
 "nbformat": 4,
 "nbformat_minor": 1
}
