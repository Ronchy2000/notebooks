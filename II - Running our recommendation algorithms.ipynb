{
 "cells": [
  {
   "cell_type": "markdown",
   "metadata": {},
   "source": [
    "# II - Recommandations"
   ]
  },
  {
   "cell_type": "code",
   "execution_count": 1,
   "metadata": {
    "collapsed": true
   },
   "outputs": [],
   "source": [
    "usernames = ['jj', 'Maduesu', 'É']\n",
    "available_users = {}\n",
    "for username in usernames:\n",
    "    user = User.objects.get(username=username)\n",
    "    if user.profile.is_shared:\n",
    "        available_users[username] = user.id"
   ]
  },
  {
   "cell_type": "code",
   "execution_count": 4,
   "metadata": {},
   "outputs": [],
   "source": [
    "from mangaki.algo.dataset import Dataset\n",
    "\n",
    "triplets = Rating.objects.values_list('user_id', 'work_id', 'choice')\n",
    "dataset = Dataset()\n",
    "anonymized = dataset.make_anonymous_data(triplets)"
   ]
  },
  {
   "cell_type": "code",
   "execution_count": 7,
   "metadata": {},
   "outputs": [],
   "source": [
    "from mangaki.algo.knn import MangakiKNN\n",
    "\n",
    "knn = MangakiKNN(nb_neighbors=10)\n",
    "knn.set_parameters(anonymized.nb_users, anonymized.nb_works)\n",
    "knn.fit(anonymized.X, anonymized.y)"
   ]
  },
  {
   "cell_type": "code",
   "execution_count": 8,
   "metadata": {},
   "outputs": [
    {
     "name": "stdout",
     "output_type": "stream",
     "text": [
      "Voisins de jj :\n",
      "[<User: Rafbill>, <User: eyam>, <User: seirl>, <User: makoto1412>, <User: loCUsT>, <User: din>, <User: Melloe>, <User: Tolsanot>, <User: kyod>, <User: Neral>]\n",
      "Voisins de Maduesu :\n",
      "[<User: cynddl>, <User: Deneb>, <User: Cassiopeia>, <User: Anthra>, <User: laetichat>, <User: kudo>, <User: Nitrate-mangaki>, <User: patxi>, <User: piraog>, <User: Anashtrael>]\n",
      "Voisins de É :\n",
      "[<User: ThibG>, <User: Armael>, <User: Sugarshy>, <User: seirl>, <User: Shampooing>, <User: TolieBunny>, <User: kyod>, <User: moko-chan>, <User: SpicyRamen>, <User: mrsalixor>]\n"
     ]
    }
   ],
   "source": [
    "encoded_user_ids = {username: dataset.encode_user[user_id] for username, user_id in available_users.items()}\n",
    "neighbor_lists = knn.get_neighbors(list(encoded_user_ids.values()))\n",
    "for i, username in enumerate(available_users):\n",
    "    neighbor_user_ids = list(dataset.decode_users(neighbor_lists[i]))\n",
    "    print('Voisins de {} :'.format(username))\n",
    "    print(list(User.objects.in_bulk(neighbor_user_ids).values()))"
   ]
  }
 ],
 "metadata": {
  "kernelspec": {
   "display_name": "Django Shell-Plus",
   "language": "python",
   "name": "django_extensions"
  },
  "language_info": {
   "codemirror_mode": {
    "name": "ipython",
    "version": 3
   },
   "file_extension": ".py",
   "mimetype": "text/x-python",
   "name": "python",
   "nbconvert_exporter": "python",
   "pygments_lexer": "ipython3",
   "version": "3.6.3"
  }
 },
 "nbformat": 4,
 "nbformat_minor": 1
}
