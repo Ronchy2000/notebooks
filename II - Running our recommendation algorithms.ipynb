{
 "cells": [
  {
   "cell_type": "markdown",
   "metadata": {},
   "source": [
    "# II - Recommendations"
   ]
  },
  {
   "cell_type": "markdown",
   "metadata": {},
   "source": [
    "## Train recommendation algorithms"
   ]
  },
  {
   "cell_type": "code",
   "execution_count": 1,
   "metadata": {},
   "outputs": [],
   "source": [
    "from zero.dataset import Dataset\n",
    "\n",
    "triplets = Rating.objects.values_list('user_id', 'work_id', 'choice')\n",
    "dataset = Dataset()\n",
    "anonymized = dataset.make_anonymous_data(triplets)"
   ]
  },
  {
   "cell_type": "code",
   "execution_count": 2,
   "metadata": {},
   "outputs": [
    {
     "name": "stdout",
     "output_type": "stream",
     "text": [
      "Computing M: (2220 × 11090)\n"
     ]
    },
    {
     "name": "stderr",
     "output_type": "stream",
     "text": [
      "Chrono: fill and center matrix [1002ms]\n",
      "Chrono: factor matrix [19370ms]\n"
     ]
    },
    {
     "name": "stdout",
     "output_type": "stream",
     "text": [
      "Shapes (2220, 20) (20, 11090)\n"
     ]
    }
   ],
   "source": [
    "from zero.als import MangakiALS\n",
    "\n",
    "algo = MangakiALS()\n",
    "algo.set_parameters(anonymized.nb_users, anonymized.nb_works)\n",
    "algo.fit(anonymized.X, anonymized.y)"
   ]
  },
  {
   "cell_type": "markdown",
   "metadata": {},
   "source": [
    "## On a couple of works"
   ]
  },
  {
   "cell_type": "code",
   "execution_count": 3,
   "metadata": {},
   "outputs": [
    {
     "data": {
      "text/plain": [
       "<WorkQuerySet [(12780, 'Shouwa Genroku Rakugo Shinjuu (2016)'), (9060, 'Rakugo Tennyo Oyui'), (17000, 'Descending Stories: Showa Genroku Rakugo Shinju'), (12778, 'Shouwa Genroku Rakugo Shinjuu: Yotarou Hourou-hen')]>"
      ]
     },
     "execution_count": 3,
     "metadata": {},
     "output_type": "execute_result"
    }
   ],
   "source": [
    "Work.objects.filter(title__search='Rakugo').values_list('id', 'title')"
   ]
  },
  {
   "cell_type": "code",
   "execution_count": 4,
   "metadata": {},
   "outputs": [],
   "source": [
    "users = [User.objects.get(username=username) for username in {'jj', 'RaitoBezarius'}]\n",
    "works = [Work.objects.get(title=title)\n",
    "         for title in {'Steins;Gate 0', 'Penguin Highway', 'Shouwa Genroku Rakugo Shinjuu (2016)'}]"
   ]
  },
  {
   "cell_type": "code",
   "execution_count": 5,
   "metadata": {},
   "outputs": [],
   "source": [
    "names = {user.id: user.username for user in users}\n",
    "titles = {work.id: work.title for work in Work.objects.all()}"
   ]
  },
  {
   "cell_type": "code",
   "execution_count": 6,
   "metadata": {},
   "outputs": [],
   "source": [
    "import numpy as np\n",
    "\n",
    "X_test = np.array([[dataset.encode_user[user.id],\n",
    "                    dataset.encode_work[work.id]] for user in users for work in works])\n",
    "pred = algo.predict(X_test)"
   ]
  },
  {
   "cell_type": "code",
   "execution_count": 7,
   "metadata": {},
   "outputs": [
    {
     "name": "stdout",
     "output_type": "stream",
     "text": [
      "jj on Steins;Gate 0 should give a rating of 1.318260\n",
      "jj on Penguin Highway should give a rating of 2.883078\n",
      "jj on Shouwa Genroku Rakugo Shinjuu (2016) should give a rating of 2.188034\n",
      "RaitoBezarius on Steins;Gate 0 should give a rating of 2.121159\n",
      "RaitoBezarius on Penguin Highway should give a rating of -0.815448\n",
      "RaitoBezarius on Shouwa Genroku Rakugo Shinjuu (2016) should give a rating of 0.207930\n"
     ]
    }
   ],
   "source": [
    "for (enc_user_id, enc_work_id), rating in zip(X_test, pred):\n",
    "    user_id = dataset.decode_user[enc_user_id]\n",
    "    work_id = dataset.decode_work[enc_work_id]\n",
    "    print('{:s} on {:s} should give a rating of {:f}'.format(names[user_id], titles[work_id], rating))"
   ]
  },
  {
   "cell_type": "markdown",
   "metadata": {},
   "source": [
    "## On the whole Mangaki database"
   ]
  },
  {
   "cell_type": "code",
   "execution_count": 8,
   "metadata": {},
   "outputs": [],
   "source": [
    "from itertools import product\n",
    "import pandas as pd\n",
    "\n",
    "X_test = list(product(names.keys(), range(dataset.anonymized.nb_works)))\n",
    "\n",
    "df = pd.DataFrame(X_test, columns=('user', 'enc_work'))"
   ]
  },
  {
   "cell_type": "code",
   "execution_count": 9,
   "metadata": {},
   "outputs": [],
   "source": [
    "df['enc_user'] = df['user'].map(dataset.encode_user)\n",
    "df['work'] = df['enc_work'].map(dataset.decode_work)\n",
    "\n",
    "df['username'] = df['user'].map(names)\n",
    "df['title'] = df['work'].map(titles)"
   ]
  },
  {
   "cell_type": "code",
   "execution_count": 10,
   "metadata": {},
   "outputs": [
    {
     "data": {
      "text/html": [
       "<div>\n",
       "<style scoped>\n",
       "    .dataframe tbody tr th:only-of-type {\n",
       "        vertical-align: middle;\n",
       "    }\n",
       "\n",
       "    .dataframe tbody tr th {\n",
       "        vertical-align: top;\n",
       "    }\n",
       "\n",
       "    .dataframe thead th {\n",
       "        text-align: right;\n",
       "    }\n",
       "</style>\n",
       "<table border=\"1\" class=\"dataframe\">\n",
       "  <thead>\n",
       "    <tr style=\"text-align: right;\">\n",
       "      <th></th>\n",
       "      <th>user</th>\n",
       "      <th>enc_work</th>\n",
       "      <th>enc_user</th>\n",
       "      <th>work</th>\n",
       "      <th>username</th>\n",
       "      <th>title</th>\n",
       "    </tr>\n",
       "  </thead>\n",
       "  <tbody>\n",
       "    <tr>\n",
       "      <th>0</th>\n",
       "      <td>1</td>\n",
       "      <td>0</td>\n",
       "      <td>542</td>\n",
       "      <td>10923</td>\n",
       "      <td>jj</td>\n",
       "      <td>Isuca</td>\n",
       "    </tr>\n",
       "    <tr>\n",
       "      <th>1</th>\n",
       "      <td>1</td>\n",
       "      <td>1</td>\n",
       "      <td>542</td>\n",
       "      <td>635</td>\n",
       "      <td>jj</td>\n",
       "      <td>RahXephon Interlude: Her and Herself/Thatness ...</td>\n",
       "    </tr>\n",
       "    <tr>\n",
       "      <th>2</th>\n",
       "      <td>1</td>\n",
       "      <td>2</td>\n",
       "      <td>542</td>\n",
       "      <td>780</td>\n",
       "      <td>jj</td>\n",
       "      <td>Ghost in the Shell: Arise - Border:2 Ghost Whi...</td>\n",
       "    </tr>\n",
       "    <tr>\n",
       "      <th>3</th>\n",
       "      <td>1</td>\n",
       "      <td>3</td>\n",
       "      <td>542</td>\n",
       "      <td>4504</td>\n",
       "      <td>jj</td>\n",
       "      <td>Big Bang Vénus</td>\n",
       "    </tr>\n",
       "    <tr>\n",
       "      <th>4</th>\n",
       "      <td>1</td>\n",
       "      <td>4</td>\n",
       "      <td>542</td>\n",
       "      <td>10349</td>\n",
       "      <td>jj</td>\n",
       "      <td>Minami-ke Okaeri</td>\n",
       "    </tr>\n",
       "  </tbody>\n",
       "</table>\n",
       "</div>"
      ],
      "text/plain": [
       "   user  enc_work  enc_user   work username  \\\n",
       "0     1         0       542  10923       jj   \n",
       "1     1         1       542    635       jj   \n",
       "2     1         2       542    780       jj   \n",
       "3     1         3       542   4504       jj   \n",
       "4     1         4       542  10349       jj   \n",
       "\n",
       "                                               title  \n",
       "0                                              Isuca  \n",
       "1  RahXephon Interlude: Her and Herself/Thatness ...  \n",
       "2  Ghost in the Shell: Arise - Border:2 Ghost Whi...  \n",
       "3                                     Big Bang Vénus  \n",
       "4                                   Minami-ke Okaeri  "
      ]
     },
     "execution_count": 10,
     "metadata": {},
     "output_type": "execute_result"
    }
   ],
   "source": [
    "df.head()"
   ]
  },
  {
   "cell_type": "code",
   "execution_count": 11,
   "metadata": {},
   "outputs": [],
   "source": [
    "pred = algo.predict(np.array(df[['enc_user', 'enc_work']]))"
   ]
  },
  {
   "cell_type": "code",
   "execution_count": 12,
   "metadata": {},
   "outputs": [],
   "source": [
    "df['pred'] = pred"
   ]
  },
  {
   "cell_type": "code",
   "execution_count": 13,
   "metadata": {},
   "outputs": [],
   "source": [
    "df = df.sort_values('pred', ascending=False)"
   ]
  },
  {
   "cell_type": "code",
   "execution_count": 14,
   "metadata": {},
   "outputs": [
    {
     "data": {
      "text/html": [
       "<div>\n",
       "<style scoped>\n",
       "    .dataframe tbody tr th:only-of-type {\n",
       "        vertical-align: middle;\n",
       "    }\n",
       "\n",
       "    .dataframe tbody tr th {\n",
       "        vertical-align: top;\n",
       "    }\n",
       "\n",
       "    .dataframe thead th {\n",
       "        text-align: right;\n",
       "    }\n",
       "</style>\n",
       "<table border=\"1\" class=\"dataframe\">\n",
       "  <thead>\n",
       "    <tr style=\"text-align: right;\">\n",
       "      <th></th>\n",
       "      <th>user</th>\n",
       "      <th>enc_work</th>\n",
       "      <th>enc_user</th>\n",
       "      <th>work</th>\n",
       "      <th>username</th>\n",
       "      <th>title</th>\n",
       "      <th>pred</th>\n",
       "    </tr>\n",
       "  </thead>\n",
       "  <tbody>\n",
       "    <tr>\n",
       "      <th>20803</th>\n",
       "      <td>33</td>\n",
       "      <td>9713</td>\n",
       "      <td>936</td>\n",
       "      <td>15547</td>\n",
       "      <td>RaitoBezarius</td>\n",
       "      <td>The Fruit of Grisaia</td>\n",
       "      <td>3.251786</td>\n",
       "    </tr>\n",
       "    <tr>\n",
       "      <th>16252</th>\n",
       "      <td>33</td>\n",
       "      <td>5162</td>\n",
       "      <td>936</td>\n",
       "      <td>2098</td>\n",
       "      <td>RaitoBezarius</td>\n",
       "      <td>Grisaia no Meikyuu</td>\n",
       "      <td>3.198894</td>\n",
       "    </tr>\n",
       "    <tr>\n",
       "      <th>21886</th>\n",
       "      <td>33</td>\n",
       "      <td>10796</td>\n",
       "      <td>936</td>\n",
       "      <td>20851</td>\n",
       "      <td>RaitoBezarius</td>\n",
       "      <td>Darling in the FranXX</td>\n",
       "      <td>3.127811</td>\n",
       "    </tr>\n",
       "    <tr>\n",
       "      <th>18355</th>\n",
       "      <td>33</td>\n",
       "      <td>7265</td>\n",
       "      <td>936</td>\n",
       "      <td>13818</td>\n",
       "      <td>RaitoBezarius</td>\n",
       "      <td>Utawarerumono: The False Faces</td>\n",
       "      <td>3.069175</td>\n",
       "    </tr>\n",
       "    <tr>\n",
       "      <th>18517</th>\n",
       "      <td>33</td>\n",
       "      <td>7427</td>\n",
       "      <td>936</td>\n",
       "      <td>14722</td>\n",
       "      <td>RaitoBezarius</td>\n",
       "      <td>The Seven Deadly Sins</td>\n",
       "      <td>3.057923</td>\n",
       "    </tr>\n",
       "    <tr>\n",
       "      <th>18808</th>\n",
       "      <td>33</td>\n",
       "      <td>7718</td>\n",
       "      <td>936</td>\n",
       "      <td>13809</td>\n",
       "      <td>RaitoBezarius</td>\n",
       "      <td>Kamisama Hajimemashita: Kako-hen</td>\n",
       "      <td>2.982179</td>\n",
       "    </tr>\n",
       "    <tr>\n",
       "      <th>20317</th>\n",
       "      <td>33</td>\n",
       "      <td>9227</td>\n",
       "      <td>936</td>\n",
       "      <td>18314</td>\n",
       "      <td>RaitoBezarius</td>\n",
       "      <td>Made in Abyss</td>\n",
       "      <td>2.964089</td>\n",
       "    </tr>\n",
       "    <tr>\n",
       "      <th>6226</th>\n",
       "      <td>1</td>\n",
       "      <td>6226</td>\n",
       "      <td>542</td>\n",
       "      <td>18416</td>\n",
       "      <td>jj</td>\n",
       "      <td>The Night is Short, Walk On Girl</td>\n",
       "      <td>2.926828</td>\n",
       "    </tr>\n",
       "    <tr>\n",
       "      <th>16405</th>\n",
       "      <td>33</td>\n",
       "      <td>5315</td>\n",
       "      <td>936</td>\n",
       "      <td>8273</td>\n",
       "      <td>RaitoBezarius</td>\n",
       "      <td>Inu X Boku Secret Service Special</td>\n",
       "      <td>2.915946</td>\n",
       "    </tr>\n",
       "    <tr>\n",
       "      <th>1924</th>\n",
       "      <td>1</td>\n",
       "      <td>1924</td>\n",
       "      <td>542</td>\n",
       "      <td>17542</td>\n",
       "      <td>jj</td>\n",
       "      <td>Restaurant to Another World</td>\n",
       "      <td>2.897161</td>\n",
       "    </tr>\n",
       "  </tbody>\n",
       "</table>\n",
       "</div>"
      ],
      "text/plain": [
       "       user  enc_work  enc_user   work       username  \\\n",
       "20803    33      9713       936  15547  RaitoBezarius   \n",
       "16252    33      5162       936   2098  RaitoBezarius   \n",
       "21886    33     10796       936  20851  RaitoBezarius   \n",
       "18355    33      7265       936  13818  RaitoBezarius   \n",
       "18517    33      7427       936  14722  RaitoBezarius   \n",
       "18808    33      7718       936  13809  RaitoBezarius   \n",
       "20317    33      9227       936  18314  RaitoBezarius   \n",
       "6226      1      6226       542  18416             jj   \n",
       "16405    33      5315       936   8273  RaitoBezarius   \n",
       "1924      1      1924       542  17542             jj   \n",
       "\n",
       "                                   title      pred  \n",
       "20803               The Fruit of Grisaia  3.251786  \n",
       "16252                 Grisaia no Meikyuu  3.198894  \n",
       "21886              Darling in the FranXX  3.127811  \n",
       "18355     Utawarerumono: The False Faces  3.069175  \n",
       "18517              The Seven Deadly Sins  3.057923  \n",
       "18808   Kamisama Hajimemashita: Kako-hen  2.982179  \n",
       "20317                      Made in Abyss  2.964089  \n",
       "6226    The Night is Short, Walk On Girl  2.926828  \n",
       "16405  Inu X Boku Secret Service Special  2.915946  \n",
       "1924         Restaurant to Another World  2.897161  "
      ]
     },
     "execution_count": 14,
     "metadata": {},
     "output_type": "execute_result"
    }
   ],
   "source": [
    "df.head(10)"
   ]
  }
 ],
 "metadata": {
  "kernelspec": {
   "display_name": "Django Shell-Plus",
   "language": "python",
   "name": "django_extensions"
  },
  "language_info": {
   "codemirror_mode": {
    "name": "ipython",
    "version": 3
   },
   "file_extension": ".py",
   "mimetype": "text/x-python",
   "name": "python",
   "nbconvert_exporter": "python",
   "pygments_lexer": "ipython3",
   "version": "3.6.5"
  }
 },
 "nbformat": 4,
 "nbformat_minor": 1
}
