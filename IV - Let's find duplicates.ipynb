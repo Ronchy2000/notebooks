{
 "cells": [
  {
   "cell_type": "code",
   "execution_count": 47,
   "metadata": {},
   "outputs": [
    {
     "data": {
      "text/plain": [
       "24809"
      ]
     },
     "execution_count": 47,
     "metadata": {},
     "output_type": "execute_result"
    }
   ],
   "source": [
    "titles = list(Work.objects.filter(category__slug='anime').order_by('title').values_list('title', flat=True))\n",
    "len(titles)"
   ]
  },
  {
   "cell_type": "code",
   "execution_count": 86,
   "metadata": {},
   "outputs": [],
   "source": [
    "import random\n",
    "\n",
    "offset = random.randint(0, len(titles) - 100)\n",
    "#offset = 8975"
   ]
  },
  {
   "cell_type": "code",
   "execution_count": 87,
   "metadata": {},
   "outputs": [
    {
     "name": "stdout",
     "output_type": "stream",
     "text": [
      "Isobe Isobee Monogatari: Ukiyo wa Tsurai yo (2015)\n",
      "Isobe Isobee with Nakata Yasutaka de Sourou\n",
      "Isourou Tengoku\n",
      "I''s Pure\n",
      "I``s Pure\n",
      "I''s Pure Bonus\n",
      "Issei Kiyuukyoku: Divertimento\n",
      "Issho ni Ecchi\n",
      "Issho ni H Shiyo\n",
      "Issho ni Sleeping: Sleeping with Hinako\n",
      "Issho ni Training Ofuro: Bathtime with Hinako & Hiyoko\n",
      "Issho ni Training: Training with Hinako\n",
      "Isshuukan Friends. Kaori no Nikki\n",
      "Isshuukan Friends. Specials\n",
      "Isshuukan Friends.: Tomodachi to no Omoide\n",
      "Issunboushi\n",
      "Issunboushi (1956)\n",
      "Issunboushi (2007)\n",
      "Issunboushi: Chibi Jo Monogatari\n",
      "Is the order a rabbit?\n"
     ]
    }
   ],
   "source": [
    "subset = titles[offset:offset + 20]\n",
    "for title in subset:\n",
    "    print(title)"
   ]
  },
  {
   "cell_type": "code",
   "execution_count": 88,
   "metadata": {},
   "outputs": [],
   "source": [
    "from sklearn.feature_extraction.text import CountVectorizer\n",
    "\n",
    "vec = CountVectorizer(analyzer='char', ngram_range=(2, 2))\n",
    "X = vec.fit_transform(subset)"
   ]
  },
  {
   "cell_type": "code",
   "execution_count": 89,
   "metadata": {},
   "outputs": [
    {
     "name": "stdout",
     "output_type": "stream",
     "text": [
      "CPU times: user 6.75 ms, sys: 514 µs, total: 7.27 ms\n",
      "Wall time: 4.74 ms\n"
     ]
    }
   ],
   "source": [
    "%%time\n",
    "from sklearn.metrics.pairwise import cosine_similarity\n",
    "\n",
    "sim = cosine_similarity(X)"
   ]
  },
  {
   "cell_type": "code",
   "execution_count": 90,
   "metadata": {},
   "outputs": [
    {
     "data": {
      "image/png": "[encoded data removed]",
      "text/plain": [
       "<Figure size 432x288 with 2 Axes>"
      ]
     },
     "metadata": {
      "needs_background": "light"
     },
     "output_type": "display_data"
    }
   ],
   "source": [
    "import matplotlib.pyplot as plt\n",
    "\n",
    "fig, ax = plt.subplots()\n",
    "plt.imshow(sim)\n",
    "plt.colorbar()\n",
    "t = np.arange(len(subset))\n",
    "plt.yticks(t, subset)\n",
    "plt.xticks(t, [])\n",
    "plt.show()"
   ]
  },
  {
   "cell_type": "markdown",
   "metadata": {},
   "source": [
    "## Artist objects with same name or first name/last name inversed"
   ]
  },
  {
   "cell_type": "code",
   "execution_count": 1,
   "metadata": {},
   "outputs": [
    {
     "name": "stdout",
     "output_type": "stream",
     "text": [
      "1 occurrence : 2445 artiste(s)\n",
      "2 occurrence : 83 artiste(s)\n",
      "3 occurrence : 6 artiste(s)\n",
      "4 occurrence : 2 artiste(s)\n",
      "\n",
      "kawahara reki : 4 occurrences\n",
      "harold sakuishi : 4 occurrences\n",
      "araki hirohiko : 3 occurrences\n",
      "otonaka sawaki : 3 occurrences\n",
      "akira toriyama : 3 occurrences\n",
      "miki yoshikawa : 3 occurrences\n",
      "sukeno yoshiaki : 3 occurrences\n",
      "ai yazawa : 3 occurrences\n"
     ]
    }
   ],
   "source": [
    "from collections import Counter\n",
    "\n",
    "c = Counter()\n",
    "for name in Artist.objects.values_list('name', flat=True):\n",
    "    c[' '.join(sorted(name.lower().split()))] += 1\n",
    "meta = Counter(c.values())\n",
    "for k, v in meta.most_common():\n",
    "    print(k, 'occurrence :', v, 'artiste(s)')\n",
    "print()\n",
    "for k, v in c.most_common():\n",
    "    if v >= 3:\n",
    "        print(k, ':', v, 'occurrences')"
   ]
  },
  {
   "cell_type": "markdown",
   "metadata": {},
   "source": [
    "## How many works share a title"
   ]
  },
  {
   "cell_type": "code",
   "execution_count": 3,
   "metadata": {},
   "outputs": [
    {
     "name": "stdout",
     "output_type": "stream",
     "text": [
      "('The Asterisk War: The Academy City on the Water', 'anime') 9\n",
      "('Dororo', 'anime') 4\n",
      "('Zatch Bell!', 'anime') 4\n",
      "('Yakusoku', 'anime') 4\n",
      "('Sorcerer Hunters', 'anime') 3\n",
      "('Naita Aka Oni', 'anime') 3\n",
      "('Meat or Die', 'anime') 3\n",
      "('Saru Kani Gassen', 'anime') 3\n",
      "('Shiroi Zou', 'anime') 3\n",
      "('Meow no Hoshi', 'anime') 3\n",
      "('Those Who Hunt Elves', 'anime') 3\n",
      "('Digimon: The Movie', 'anime') 3\n",
      "('Yu-Gi-Oh!', 'anime') 3\n",
      "('Mottainai', 'anime') 3\n",
      "('Mikagura Gakuen Kumikyoku', 'anime') 3\n",
      "('Dragon Quest: Dai no Daibouken', 'anime') 3\n",
      "('Street Fighter Zero: The Animation', 'anime') 3\n",
      "('Desert Punk', 'anime') 3\n",
      "('Imawa no Kuni no Alice', 'anime') 3\n",
      "('DRAMAtical Murder OVA: Data_xx_Transitory', 'anime') 3\n",
      "('Nekopara', 'anime') 3\n",
      "('Black Clover', 'anime') 3\n",
      "('Fastening Days', 'anime') 3\n",
      "('Shiranpuri', 'anime') 3\n",
      "('Kekkaishi', 'anime') 3\n",
      "('Hunter x Hunter', 'anime') 3\n",
      "('Dimension W', 'anime') 3\n",
      "('Shinpi no Sekai El Hazard', 'anime') 3\n",
      "('Mahou Tsukai Tai!', 'anime') 3\n",
      "('Yamada-kun to 7-nin no Majo', 'anime') 3\n",
      "('Doukyuusei', 'anime') 3\n",
      "('Buddy Go!', 'anime') 3\n",
      "('Eiga Daisuki Pompo-san', 'anime') 3\n",
      "('Feng Ling Yu Xiu', 'anime') 3\n",
      "('Sakkai Eightraid', 'anime') 3\n",
      "('Shadowverse', 'anime') 3\n"
     ]
    }
   ],
   "source": [
    "c = Counter(Work.objects.values_list('title', 'category__slug'))\n",
    "for k, v in c.most_common():\n",
    "    if v >= 3:  # If 2 then there are too many\n",
    "        print(k, v)"
   ]
  },
  {
   "cell_type": "markdown",
   "metadata": {},
   "source": [
    "### What about alternative titles?"
   ]
  },
  {
   "cell_type": "code",
   "execution_count": 4,
   "metadata": {},
   "outputs": [],
   "source": [
    "nb = 0\n",
    "alt_titles = dict(WorkTitle.objects.values_list('title', 'work_id'))\n",
    "pairs = []\n",
    "for work_id, title in Work.objects.filter(title__in=alt_titles.keys()).values_list('id', 'title'):\n",
    "    if work_id != alt_titles[title]:\n",
    "        pairs.append((work_id, alt_titles[title]))"
   ]
  },
  {
   "cell_type": "code",
   "execution_count": 5,
   "metadata": {},
   "outputs": [],
   "source": [
    "import numpy as np\n",
    "\n",
    "works = Work.objects.in_bulk(list(np.array(pairs).flatten()))"
   ]
  },
  {
   "cell_type": "code",
   "execution_count": 8,
   "metadata": {},
   "outputs": [
    {
     "data": {
      "text/plain": [
       "1479"
      ]
     },
     "execution_count": 8,
     "metadata": {},
     "output_type": "execute_result"
    }
   ],
   "source": [
    "len(pairs)"
   ]
  },
  {
   "cell_type": "code",
   "execution_count": 7,
   "metadata": {},
   "outputs": [
    {
     "name": "stdout",
     "output_type": "stream",
     "text": [
      "21458 Lupin the IIIrd: Chikemuri no Ishikawa Goemon / Lupin III: Goemon Ishikawa's Spray of Blood 28327\n",
      "233 Doraemon / Doraemon (1979) 11292\n",
      "13471 Haikyuu!!: Jump Festa 2015 Special / Haikyuu!!: vs. \"Akaten\" 25374\n",
      "13827 Pandora in the Crimson Shell: Ghost Urn / Koukaku no Pandora: Ghost Urn 27797\n",
      "2951 I love BuBu ChaCha / Daisuki! Bubu- Chacha 23460\n",
      "2983 UFO Ultramaiden Valkyrie 4: Banquet of Time, Dreams, and Galaxies / UFO Princess Valkyrie: Toki to Yume to Ginga no Utage 34014\n",
      "1177 Porong Porong Pororo / Bbororoe Daemoheom 22450\n",
      "3254 Great Yamato No. 0 / Dai Yamato Zero-go 23443\n",
      "3286 Fly, Space Battleship Geobukseon / Narara Ujujeonham Geobukseon 29626\n",
      "2118 Voltage Fighter Gowcaizer / Choujin Gakuen Gowcaizer 23159\n"
     ]
    }
   ],
   "source": [
    "for work_id, work_id2 in pairs[:10]:\n",
    "    if works[work_id].title != works[work_id2].title:\n",
    "        print(work_id, works[work_id].title, '/', works[work_id2].title, work_id2)"
   ]
  },
  {
   "cell_type": "markdown",
   "metadata": {},
   "source": [
    "## How many works share a reference?"
   ]
  },
  {
   "cell_type": "code",
   "execution_count": 9,
   "metadata": {},
   "outputs": [],
   "source": [
    "from django.db.models import Count\n",
    "\n",
    "def describe(queryset):\n",
    "    nb_distinct_fields = queryset.filter(nb__gte=2).count()\n",
    "    nb_duplicates = sum(queryset.filter(nb__gte=2).values_list('nb', flat=True))\n",
    "    print('{:d} oeuvres partagent {:d} champs'.format(nb_duplicates, nb_distinct_fields))"
   ]
  },
  {
   "cell_type": "code",
   "execution_count": 10,
   "metadata": {},
   "outputs": [
    {
     "name": "stdout",
     "output_type": "stream",
     "text": [
      "575 oeuvres partagent 281 champs\n"
     ]
    }
   ],
   "source": [
    "queryset = Work.objects.values('reference__url').annotate(nb=Count('reference__url')).order_by('-nb')\n",
    "describe(queryset)"
   ]
  },
  {
   "cell_type": "markdown",
   "metadata": {},
   "source": [
    "Donc en septembre 2018, 577 œuvres partagent 282 références. Peut-être encore des doublons à écarter."
   ]
  },
  {
   "cell_type": "markdown",
   "metadata": {},
   "source": [
    "## How many works have same poster?"
   ]
  },
  {
   "cell_type": "code",
   "execution_count": 11,
   "metadata": {},
   "outputs": [
    {
     "data": {
      "text/plain": [
       "<WorkQuerySet [{'ext_poster': 'https://cdn.anidb.net/images/main/165165.jpg', 'nb': 3}, {'ext_poster': 'https://s4.anilist.co/file/anilistcdn/media/anime/cover/medium/default.jpg', 'nb': 3}, {'ext_poster': 'https://cdn.anidb.net/images/main/231328.jpg', 'nb': 3}, {'ext_poster': 'http://www.manga-news.com/public/images/series/dragonhuntercoffret1gd.jpg', 'nb': 2}, {'ext_poster': 'https://cdn.anidb.net/images/main/11295.jpg', 'nb': 2}]>"
      ]
     },
     "execution_count": 11,
     "metadata": {},
     "output_type": "execute_result"
    }
   ],
   "source": [
    "queryset = Work.objects.filter(ext_poster__endswith='.jpg').values('ext_poster').annotate(nb=Count('ext_poster')).order_by('-nb')\n",
    "queryset[:5]"
   ]
  },
  {
   "cell_type": "code",
   "execution_count": 12,
   "metadata": {},
   "outputs": [
    {
     "name": "stdout",
     "output_type": "stream",
     "text": [
      "99 oeuvres partagent 48 champs\n"
     ]
    }
   ],
   "source": [
    "describe(queryset)"
   ]
  },
  {
   "cell_type": "markdown",
   "metadata": {},
   "source": [
    "## How many works have same AniDB ID?"
   ]
  },
  {
   "cell_type": "code",
   "execution_count": 13,
   "metadata": {},
   "outputs": [
    {
     "data": {
      "text/plain": [
       "<WorkQuerySet [{'anidb_aid': 4932, 'nb': 6}, {'anidb_aid': 8778, 'nb': 3}, {'anidb_aid': 6747, 'nb': 2}, {'anidb_aid': 4897, 'nb': 2}, {'anidb_aid': 9977, 'nb': 2}]>"
      ]
     },
     "execution_count": 13,
     "metadata": {},
     "output_type": "execute_result"
    }
   ],
   "source": [
    "queryset = Work.objects.exclude(anidb_aid=0).values('anidb_aid').annotate(nb=Count('anidb_aid')).order_by('-nb')\n",
    "queryset[:5]"
   ]
  },
  {
   "cell_type": "code",
   "execution_count": 14,
   "metadata": {},
   "outputs": [
    {
     "name": "stdout",
     "output_type": "stream",
     "text": [
      "35 oeuvres partagent 15 champs\n"
     ]
    }
   ],
   "source": [
    "describe(queryset)"
   ]
  },
  {
   "cell_type": "code",
   "execution_count": 15,
   "metadata": {},
   "outputs": [
    {
     "data": {
      "text/plain": [
       "<WorkQuerySet [<Work: Kara no Kyoukai 3: Tsuukaku Zanryuu>, <Work: Kara no Kyoukai 1: Fukan Fuukei>, <Work: Kara no Kyoukai 2: Satsujin Kousatsu (Part 1)>, <Work: Kara no Kyoukai 5: Mujun Rasen>, <Work: Kara no Kyoukai 4: Garan no Dou>, <Work: Kara no Kyoukai 7: Satsujin Kousatsu (Part 2)>]>"
      ]
     },
     "execution_count": 15,
     "metadata": {},
     "output_type": "execute_result"
    }
   ],
   "source": [
    "Work.objects.filter(anidb_aid=4932)  # Lol ce n'est pas un doublon"
   ]
  },
  {
   "cell_type": "code",
   "execution_count": 16,
   "metadata": {},
   "outputs": [
    {
     "data": {
      "text/plain": [
       "<WorkQuerySet [<Work: Puella Magi Madoka Magica the Movie Part 3: Rebellion>, <Work: Puella Magi Madoka Magica the Movie Part 1: Beginnings>, <Work: Puella Magi Madoka Magica the Movie Part 2: Eternal>]>"
      ]
     },
     "execution_count": 16,
     "metadata": {},
     "output_type": "execute_result"
    }
   ],
   "source": [
    "Work.objects.filter(anidb_aid=8778)  # Non plus"
   ]
  },
  {
   "cell_type": "markdown",
   "metadata": {},
   "source": [
    "## How many anime have an AniDB ID?"
   ]
  },
  {
   "cell_type": "code",
   "execution_count": 17,
   "metadata": {},
   "outputs": [
    {
     "data": {
      "text/plain": [
       "5785"
      ]
     },
     "execution_count": 17,
     "metadata": {},
     "output_type": "execute_result"
    }
   ],
   "source": [
    "nb_anidb_works = Work.objects.exclude(anidb_aid=0).count()\n",
    "nb_anidb_works"
   ]
  },
  {
   "cell_type": "code",
   "execution_count": 18,
   "metadata": {},
   "outputs": [
    {
     "data": {
      "text/plain": [
       "0.23318150671127413"
      ]
     },
     "execution_count": 18,
     "metadata": {},
     "output_type": "execute_result"
    }
   ],
   "source": [
    "nb_anidb_works / Work.objects.filter(category__slug='anime').count()"
   ]
  },
  {
   "cell_type": "markdown",
   "metadata": {},
   "source": [
    "## How many works have at least one Reference?"
   ]
  },
  {
   "cell_type": "code",
   "execution_count": 19,
   "metadata": {},
   "outputs": [
    {
     "data": {
      "text/plain": [
       "0.8687271858902194"
      ]
     },
     "execution_count": 19,
     "metadata": {},
     "output_type": "execute_result"
    }
   ],
   "source": [
    "Work.objects.annotate(nb=Count('reference')).values('id').filter(nb__gte=1).count() / Work.objects.count()"
   ]
  },
  {
   "cell_type": "code",
   "execution_count": 20,
   "metadata": {},
   "outputs": [
    {
     "name": "stdout",
     "output_type": "stream",
     "text": [
      "anime\n",
      "24788/24809 = 99.9 %\n",
      "manga\n",
      "677/4503 = 15.0 %\n",
      "album\n",
      "0/1 = 0.0 %\n"
     ]
    }
   ],
   "source": [
    "for category in Category.objects.all():\n",
    "    print(category.slug)\n",
    "    category_works = Work.objects.filter(category=category)\n",
    "    nb = category_works.annotate(nb=Count('reference')).values('id').filter(nb__gte=1).count()\n",
    "    print('{:d}/{:d} = {:.1f} %'.format(nb, category_works.count(), 100 * nb / category_works.count()))"
   ]
  }
 ],
 "metadata": {
  "kernelspec": {
   "display_name": "Django Shell-Plus",
   "language": "python",
   "name": "django_extensions"
  },
  "language_info": {
   "codemirror_mode": {
    "name": "ipython",
    "version": 3
   },
   "file_extension": ".py",
   "mimetype": "text/x-python",
   "name": "python",
   "nbconvert_exporter": "python",
   "pygments_lexer": "ipython3",
   "version": "3.8.2"
  }
 },
 "nbformat": 4,
 "nbformat_minor": 2
}
