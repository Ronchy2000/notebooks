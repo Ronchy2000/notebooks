{
 "cells": [
  {
   "cell_type": "markdown",
   "metadata": {},
   "source": [
    "## Artist objects with same name or first name/last name inversed"
   ]
  },
  {
   "cell_type": "code",
   "execution_count": 54,
   "metadata": {},
   "outputs": [
    {
     "name": "stdout",
     "output_type": "stream",
     "text": [
      "1 occurrence : 2405 artistes\n",
      "2 occurrence : 42 artistes\n",
      "3 occurrence : 7 artistes\n",
      "4 occurrence : 1 artistes\n",
      "\n",
      "harold sakuishi : 4 occurrences\n",
      "araki hirohiko : 3 occurrences\n",
      "kawahara reki : 3 occurrences\n",
      "otonaka sawaki : 3 occurrences\n",
      "akira toriyama : 3 occurrences\n",
      "miki yoshikawa : 3 occurrences\n",
      "sukeno yoshiaki : 3 occurrences\n",
      "ai yazawa : 3 occurrences\n",
      "miyazaki shinji : 2 occurrences\n",
      "kunihiko yuyama : 2 occurrences\n",
      "miyamoto yukihiro : 2 occurrences\n",
      "togashi yoshihiro : 2 occurrences\n",
      "hirano yoshihisa : 2 occurrences\n",
      "isao takahata : 2 occurrences\n",
      "masaaki yuasa : 2 occurrences\n",
      "kei wakakusa : 2 occurrences\n",
      "hayao miyazaki : 2 occurrences\n",
      "morimi tomihiko : 2 occurrences\n",
      "michiru ooshima : 2 occurrences\n",
      "usui yoshito : 2 occurrences\n",
      "hamaguchi shirou : 2 occurrences\n",
      "kousaki satoru : 2 occurrences\n",
      "kou ootani : 2 occurrences\n",
      "hisaishi joe : 2 occurrences\n",
      "naoko yamada : 2 occurrences\n",
      "kensuke ushio : 2 occurrences\n",
      "aki aoi : 2 occurrences\n",
      "komi shinya : 2 occurrences\n",
      "mariko nekono : 2 occurrences\n",
      "murata shinya : 2 occurrences\n",
      "fujii mitsuru : 2 occurrences\n",
      "buronson : 2 occurrences\n",
      "type-moon : 2 occurrences\n",
      "gainax : 2 occurrences\n",
      "hayashi mikase : 2 occurrences\n",
      "komi naoshi : 2 occurrences\n",
      "magica quartet : 2 occurrences\n",
      "keiko sakano : 2 occurrences\n",
      "naoko takeuchi : 2 occurrences\n",
      "manglobe : 2 occurrences\n",
      "tashiro tetsuya : 2 occurrences\n",
      "takahiro : 2 occurrences\n",
      "kakifly : 2 occurrences\n",
      "bisco hatori : 2 occurrences\n",
      "clamp : 2 occurrences\n",
      "robico : 2 occurrences\n",
      "minami tôko : 2 occurrences\n",
      "sasuga yû : 2 occurrences\n",
      "mitsutoshi shimabukuro : 2 occurrences\n",
      "kanzaki syd : 2 occurrences\n"
     ]
    }
   ],
   "source": [
    "c = Counter()\n",
    "for name in Artist.objects.values_list('name', flat=True):\n",
    "    c[' '.join(sorted(name.lower().split()))] += 1\n",
    "meta = Counter(c.values())\n",
    "for k, v in meta.most_common():\n",
    "    print(k, 'occurrence :', v, 'artistes')\n",
    "print()\n",
    "for k, v in c.most_common():\n",
    "    if v > 1:\n",
    "        print(k, ':', v, 'occurrences')"
   ]
  },
  {
   "cell_type": "markdown",
   "metadata": {},
   "source": [
    "## How many works share a reference?"
   ]
  },
  {
   "cell_type": "code",
   "execution_count": 74,
   "metadata": {
    "collapsed": true
   },
   "outputs": [],
   "source": [
    "from django.db.models import Count\n",
    "\n",
    "def describe(queryset):\n",
    "    nb_distinct_fields = queryset.filter(nb__gte=2).count()\n",
    "    nb_duplicates = sum(queryset.filter(nb__gte=2).values_list('nb', flat=True))\n",
    "    print('{:d} oeuvres partagent {:d} champs'.format(nb_duplicates, nb_distinct_fields))"
   ]
  },
  {
   "cell_type": "code",
   "execution_count": 75,
   "metadata": {},
   "outputs": [
    {
     "data": {
      "text/plain": [
       "<QuerySet [{'url': 'http://myanimelist.net/anime/28907', 'nb': 5}, {'url': 'http://myanimelist.net/anime/29786', 'nb': 4}, {'url': 'http://myanimelist.net/anime/30296', 'nb': 4}, {'url': 'http://myanimelist.net/anime/19489', 'nb': 4}, {'url': 'http://myanimelist.net/anime/30415', 'nb': 4}]>"
      ]
     },
     "execution_count": 75,
     "metadata": {},
     "output_type": "execute_result"
    }
   ],
   "source": [
    "queryset = Reference.objects.values('url').annotate(nb=Count('url')).order_by('-nb')\n",
    "queryset[:5]"
   ]
  },
  {
   "cell_type": "code",
   "execution_count": 76,
   "metadata": {},
   "outputs": [
    {
     "data": {
      "text/plain": [
       "<QuerySet [{'work__title': 'Gate: Jieitai Kanochi nite, Kaku Tatakaeri'}, {'work__title': 'GATE'}, {'work__title': 'GATE'}, {'work__title': 'Gate: Jieitai Kanochi nite, Kaku Tatakaeri'}, {'work__title': 'Gate: Jieitai Kanochi nite, Kaku Tatakaeri'}]>"
      ]
     },
     "execution_count": 76,
     "metadata": {},
     "output_type": "execute_result"
    }
   ],
   "source": [
    "Reference.objects.filter(url='http://myanimelist.net/anime/28907').values('work__title')"
   ]
  },
  {
   "cell_type": "code",
   "execution_count": 77,
   "metadata": {},
   "outputs": [
    {
     "name": "stdout",
     "output_type": "stream",
     "text": [
      "1279 oeuvres partagent 606 champs\n"
     ]
    }
   ],
   "source": [
    "describe(queryset)"
   ]
  },
  {
   "cell_type": "markdown",
   "metadata": {},
   "source": [
    "Donc 1279 œuvres partagent 606 références, ce qui voudrait dire qu'on aurait au moins 1279 - 606 = 673 doublons dus à ce problème. 😅"
   ]
  },
  {
   "cell_type": "markdown",
   "metadata": {},
   "source": [
    "## How many works have same poster?"
   ]
  },
  {
   "cell_type": "code",
   "execution_count": 83,
   "metadata": {},
   "outputs": [
    {
     "data": {
      "text/plain": [
       "<WorkQuerySet [{'ext_poster': 'https://myanimelist.cdn-dena.com/images/anime/12/82325.jpg', 'nb': 3}, {'ext_poster': 'http://myanimelist.cdn-dena.com/images/anime/2/75559.jpg', 'nb': 3}, {'ext_poster': 'https://myanimelist.cdn-dena.com/images/anime/8/83284.jpg', 'nb': 3}, {'ext_poster': 'https://myanimelist.cdn-dena.com/images/anime/5/85224.jpg', 'nb': 3}, {'ext_poster': 'https://myanimelist.cdn-dena.com/images/anime/5/72868.jpg', 'nb': 3}]>"
      ]
     },
     "execution_count": 83,
     "metadata": {},
     "output_type": "execute_result"
    }
   ],
   "source": [
    "queryset = Work.objects.filter(ext_poster__endswith='.jpg').values('ext_poster').annotate(nb=Count('ext_poster')).order_by('-nb')\n",
    "queryset[:5]"
   ]
  },
  {
   "cell_type": "code",
   "execution_count": 84,
   "metadata": {},
   "outputs": [
    {
     "name": "stdout",
     "output_type": "stream",
     "text": [
      "433 oeuvres partagent 200 champs\n"
     ]
    }
   ],
   "source": [
    "describe(queryset)"
   ]
  },
  {
   "cell_type": "markdown",
   "metadata": {},
   "source": [
    "## How many works have same AniDB ID?"
   ]
  },
  {
   "cell_type": "code",
   "execution_count": 89,
   "metadata": {},
   "outputs": [
    {
     "data": {
      "text/plain": [
       "<WorkQuerySet [{'anidb_aid': 4932, 'nb': 6}, {'anidb_aid': 8778, 'nb': 3}, {'anidb_aid': 7525, 'nb': 2}, {'anidb_aid': 5841, 'nb': 2}, {'anidb_aid': 6671, 'nb': 2}]>"
      ]
     },
     "execution_count": 89,
     "metadata": {},
     "output_type": "execute_result"
    }
   ],
   "source": [
    "queryset = Work.objects.exclude(anidb_aid=0).values('anidb_aid').annotate(nb=Count('anidb_aid')).order_by('-nb')\n",
    "queryset[:5]"
   ]
  },
  {
   "cell_type": "code",
   "execution_count": 90,
   "metadata": {},
   "outputs": [
    {
     "name": "stdout",
     "output_type": "stream",
     "text": [
      "35 oeuvres partagent 15 champs\n"
     ]
    }
   ],
   "source": [
    "describe(queryset)"
   ]
  },
  {
   "cell_type": "markdown",
   "metadata": {},
   "source": [
    "## How many works have an AniDB ID?"
   ]
  },
  {
   "cell_type": "code",
   "execution_count": 93,
   "metadata": {},
   "outputs": [
    {
     "data": {
      "text/plain": [
       "0.019168918049659076"
      ]
     },
     "execution_count": 93,
     "metadata": {},
     "output_type": "execute_result"
    }
   ],
   "source": [
    "Work.objects.exclude(anidb_aid=0).count() / Work.objects.count()"
   ]
  },
  {
   "cell_type": "markdown",
   "metadata": {},
   "source": [
    "## How many works have at least one Reference?"
   ]
  },
  {
   "cell_type": "code",
   "execution_count": 100,
   "metadata": {},
   "outputs": [
    {
     "data": {
      "text/plain": [
       "0.6370127363952142"
      ]
     },
     "execution_count": 100,
     "metadata": {},
     "output_type": "execute_result"
    }
   ],
   "source": [
    "Work.objects.annotate(nb=Count('reference')).values('id').filter(nb__gte=1).count() / Work.objects.count()"
   ]
  }
 ],
 "metadata": {
  "kernelspec": {
   "display_name": "Django Shell-Plus",
   "language": "python",
   "name": "django_extensions"
  },
  "language_info": {
   "codemirror_mode": {
    "name": "ipython",
    "version": 3
   },
   "file_extension": ".py",
   "mimetype": "text/x-python",
   "name": "python",
   "nbconvert_exporter": "python",
   "pygments_lexer": "ipython3",
   "version": "3.6.3"
  }
 },
 "nbformat": 4,
 "nbformat_minor": 2
}
