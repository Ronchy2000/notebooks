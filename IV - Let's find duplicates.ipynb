{
 "cells": [
  {
   "cell_type": "markdown",
   "metadata": {},
   "source": [
    "## Artist objects with same name or first name/last name inversed"
   ]
  },
  {
   "cell_type": "code",
   "execution_count": 1,
   "metadata": {},
   "outputs": [
    {
     "name": "stdout",
     "output_type": "stream",
     "text": [
      "1 occurrence : 2416 artiste(s)\n",
      "2 occurrence : 48 artiste(s)\n",
      "3 occurrence : 7 artiste(s)\n",
      "4 occurrence : 1 artiste(s)\n",
      "\n",
      "harold sakuishi : 4 occurrences\n",
      "araki hirohiko : 3 occurrences\n",
      "kawahara reki : 3 occurrences\n",
      "otonaka sawaki : 3 occurrences\n",
      "akira toriyama : 3 occurrences\n",
      "miki yoshikawa : 3 occurrences\n",
      "sukeno yoshiaki : 3 occurrences\n",
      "ai yazawa : 3 occurrences\n"
     ]
    }
   ],
   "source": [
    "from collections import Counter\n",
    "\n",
    "c = Counter()\n",
    "for name in Artist.objects.values_list('name', flat=True):\n",
    "    c[' '.join(sorted(name.lower().split()))] += 1\n",
    "meta = Counter(c.values())\n",
    "for k, v in meta.most_common():\n",
    "    print(k, 'occurrence :', v, 'artiste(s)')\n",
    "print()\n",
    "for k, v in c.most_common():\n",
    "    if v >= 3:\n",
    "        print(k, ':', v, 'occurrences')"
   ]
  },
  {
   "cell_type": "markdown",
   "metadata": {},
   "source": [
    "## How many works share a title"
   ]
  },
  {
   "cell_type": "code",
   "execution_count": 2,
   "metadata": {},
   "outputs": [
    {
     "name": "stdout",
     "output_type": "stream",
     "text": [
      "('The Asterisk War: The Academy City on the Water', 'anime') 9\n",
      "('Zatch Bell!', 'anime') 4\n",
      "('Sorcerer Hunters', 'anime') 3\n",
      "('Those Who Hunt Elves', 'anime') 3\n",
      "('Yu-Gi-Oh!', 'anime') 3\n",
      "('Desert Punk', 'anime') 3\n",
      "('Dimension W', 'anime') 3\n",
      "('Dororo', 'anime') 2\n",
      "('Gestalt', 'anime') 2\n",
      "('Pumpkin Scissors', 'anime') 2\n",
      "('Yozakura Quartet', 'anime') 2\n",
      "('Oh! My Goddess', 'anime') 2\n",
      "('The Seven Deadly Sins', 'anime') 2\n",
      "(\"Ghost Talker's Daydream\", 'anime') 2\n",
      "('Guin Saga', 'anime') 2\n",
      "('Digimon: The Movie', 'anime') 2\n",
      "('Samurai Deeper Kyo', 'anime') 2\n",
      "('Hero Tales', 'anime') 2\n",
      "('Samurai Champloo', 'anime') 2\n",
      "('Lunar Legend Tsukihime', 'anime') 2\n",
      "('Akikan!', 'manga') 2\n",
      "('Berserk', 'anime') 2\n",
      "('Zipang', 'anime') 2\n",
      "('Sailor Moon', 'manga') 2\n",
      "('This Ugly Yet Beautiful World', 'anime') 2\n",
      "('Scrapped Princess', 'anime') 2\n",
      "('Oh! My Goddess', 'manga') 2\n",
      "('Seraph of the End: Vampire Reign', 'anime') 2\n",
      "('Togainu no Chi', 'anime') 2\n",
      "('Twin Star Exorcists', 'manga') 2\n",
      "('Bartender', 'manga') 2\n",
      "('School-Live!', 'anime') 2\n",
      "('Twin Star Exorcists', 'anime') 2\n",
      "('Princess Jellyfish', 'anime') 2\n",
      "('Zetsuai 1989', 'anime') 2\n",
      "('Karneval', 'anime') 2\n",
      "('Valkyria Chronicles', 'anime') 2\n",
      "('Hanayamata', 'anime') 2\n",
      "('Doraemon', 'anime') 2\n",
      "('Deadman Wonderland', 'anime') 2\n",
      "('Vampire', 'manga') 2\n",
      "('Baka to Test to Shoukanjuu', 'manga') 2\n",
      "('Aria the Scarlet Ammo', 'manga') 2\n",
      "('Kekkaishi', 'anime') 2\n",
      "(\"Monthly Girls' Nozaki-kun\", 'anime') 2\n",
      "('Knights of Sidonia', 'anime') 2\n",
      "('Angel Densetsu', 'manga') 2\n",
      "('Sailor Moon', 'anime') 2\n",
      "('Fruits Basket', 'anime') 2\n",
      "('Midori Days', 'anime') 2\n",
      "('Yona of the Dawn', 'anime') 2\n",
      "('Paradise Kiss', 'anime') 2\n",
      "('Kobato', 'anime') 2\n"
     ]
    }
   ],
   "source": [
    "c = Counter(Work.objects.values_list('title', 'category__slug'))\n",
    "for k, v in c.most_common():\n",
    "    if v >= 2:\n",
    "        print(k, v)"
   ]
  },
  {
   "cell_type": "markdown",
   "metadata": {},
   "source": [
    "### What about alternative titles?"
   ]
  },
  {
   "cell_type": "code",
   "execution_count": 3,
   "metadata": {},
   "outputs": [],
   "source": [
    "nb = 0\n",
    "alt_titles = dict(WorkTitle.objects.values_list('title', 'work_id'))\n",
    "pairs = []\n",
    "for work_id, title in Work.objects.filter(title__in=alt_titles.keys()).values_list('id', 'title'):\n",
    "    if work_id != alt_titles[title]:\n",
    "        pairs.append((work_id, alt_titles[title]))"
   ]
  },
  {
   "cell_type": "code",
   "execution_count": 4,
   "metadata": {},
   "outputs": [],
   "source": [
    "import numpy as np\n",
    "\n",
    "works = Work.objects.in_bulk(list(np.array(pairs).flatten()))"
   ]
  },
  {
   "cell_type": "code",
   "execution_count": 5,
   "metadata": {},
   "outputs": [
    {
     "name": "stdout",
     "output_type": "stream",
     "text": [
      "1683 Sakura Diaries / Sakura Tsuushin 20925\n",
      "3048 Accel World Specials / Accel World: Acchel World. 15820\n",
      "9864 The Heroic Legend of Arslan / Arslan Senki 20830\n",
      "4265 Anedoki / Ane Doki 15702\n",
      "10010 Sound! Euphonium / Hibike! Euphonium: Kitauji Koukou Suisougaku-bu e Youkoso 20057\n",
      "10598 Sekirei Special / Sekirei: Hajimete no Otsukai 15654\n",
      "6595 Nausicaa / Nausicaä de la vallée du vent 1289\n",
      "6193 Love & Collage / Ai Kora 15700\n",
      "128 My Teen Romantic Comedy SNAFU / My Youth Romantic Comedy Is Wrong, As I Expected 18554\n",
      "2036 Plastic Elder Sister / Plastic Neesan 15951\n",
      "9 Elfen Lied / Lynn Okamoto: Short Story Collection 15729\n",
      "2022 Nekomonogatari Black: Tsubasa Family / Nekomonogatari Black 14666\n",
      "11362 Angel Links / Seihou Tenshi Angel Links 21059\n",
      "788 Sheep's Song / Hitsuji no Uta 15749\n",
      "15090 Zatch Bell! / Zatchbell 8030\n",
      "9953 La croisée dans un labyrinthe étranger Special / Croisée in a Foreign Labyrinth The Animation 16017\n",
      "10012 Punchline / Punch Line 15555\n",
      "289 Linebarrels of Iron / Kurogane no Linebarrel 15718\n",
      "3696 Blue Spring Ride / Ao Haru Ride 16010\n",
      "67 Hyouka / Koten-bu Series 20872\n",
      "7224 Sasamekikoto / Whispered Words 8511\n",
      "7464 Strobe Edge / Ao Haru Ride 16010\n",
      "13287 Zatch Bell! / Zatchbell 8030\n",
      "15176 Chi's Sweet Home (2016) / Chi's Sweet Adventure 15994\n",
      "4322 Arago / AR∀GO: London Shikei Tokushu Hanzai Sousakan 15703\n",
      "741 Yu Yu Hakusho / Yu Yu Hakusho: Ghost Files 15665\n",
      "11590 Ultimate Otaku Teacher / Denpa Kyoushi 20873\n",
      "15746 Zatch Bell! / Zatchbell 8030\n",
      "1975 Le Fruit de la Grisaia / The Fruit of Grisaia 15547\n",
      "15944 Assassination Classroom / Ansatsu Kyoushitsu 15825\n",
      "3890 Zatch Bell! / Zatchbell 8030\n",
      "844 Cardcaptor Sakura / Card Captor Sakura 4680\n",
      "23 Suzumiya Haruhi no Yuuutsu / Suzumiya Haruhi Series 18553\n",
      "983 Major: Yuujou no Ikkyuu / Major Movie: Yuujou no Winning Shot 15776\n",
      "3426 Gargantia on the Verdurous Planet / Suisei no Gargantia 21338\n",
      "13574 A Tale of Worst One / Chivalry of a Failed Knight 13812\n",
      "1107 Baka to Test to Shoukanjuu: Matsuri Special / Baka to Test to Shoukanjuu: Matsuri - Sentaku ni Yotte Tenkai ga Kawaru  15479\n",
      "8859 Assassination Classroom / Ansatsu Kyoushitsu 15825\n",
      "10681 Finder no Hyouteki / Finder Series 20814\n"
     ]
    }
   ],
   "source": [
    "for work_id, work_id2 in pairs:\n",
    "    if works[work_id].title != works[work_id2].title:\n",
    "        print(work_id, works[work_id].title, '/', works[work_id2].title, work_id2)"
   ]
  },
  {
   "cell_type": "markdown",
   "metadata": {},
   "source": [
    "## How many works share a reference?"
   ]
  },
  {
   "cell_type": "code",
   "execution_count": 6,
   "metadata": {},
   "outputs": [],
   "source": [
    "from django.db.models import Count\n",
    "\n",
    "def describe(queryset):\n",
    "    nb_distinct_fields = queryset.filter(nb__gte=2).count()\n",
    "    nb_duplicates = sum(queryset.filter(nb__gte=2).values_list('nb', flat=True))\n",
    "    print('{:d} oeuvres partagent {:d} champs'.format(nb_duplicates, nb_distinct_fields))"
   ]
  },
  {
   "cell_type": "code",
   "execution_count": 7,
   "metadata": {},
   "outputs": [
    {
     "name": "stdout",
     "output_type": "stream",
     "text": [
      "577 oeuvres partagent 282 champs\n"
     ]
    }
   ],
   "source": [
    "queryset = Work.objects.values('reference__url').annotate(nb=Count('reference__url')).order_by('-nb')\n",
    "describe(queryset)"
   ]
  },
  {
   "cell_type": "markdown",
   "metadata": {},
   "source": [
    "Donc en septembre 2018, 577 œuvres partagent 282 références. Peut-être encore des doublons à écarter."
   ]
  },
  {
   "cell_type": "markdown",
   "metadata": {},
   "source": [
    "## How many works have same poster?"
   ]
  },
  {
   "cell_type": "code",
   "execution_count": 8,
   "metadata": {},
   "outputs": [
    {
     "data": {
      "text/plain": [
       "<WorkQuerySet [{'ext_poster': 'https://myanimelist.cdn-dena.com/images/anime/11/79107.jpg', 'nb': 2}, {'ext_poster': 'http://www.manga-news.com/public/images/series/adieu_midori.jpg', 'nb': 2}, {'ext_poster': 'http://www.manga-news.com/public/images/series/dragonhuntercoffret1gd.jpg', 'nb': 2}, {'ext_poster': 'http://www.manga-news.com/public/images/series/lodoss_coffret.jpg', 'nb': 2}, {'ext_poster': 'http://www.manga-news.com/public/images/series/fleur_coffret.jpg', 'nb': 2}]>"
      ]
     },
     "execution_count": 8,
     "metadata": {},
     "output_type": "execute_result"
    }
   ],
   "source": [
    "queryset = Work.objects.filter(ext_poster__endswith='.jpg').values('ext_poster').annotate(nb=Count('ext_poster')).order_by('-nb')\n",
    "queryset[:5]"
   ]
  },
  {
   "cell_type": "code",
   "execution_count": 9,
   "metadata": {},
   "outputs": [
    {
     "name": "stdout",
     "output_type": "stream",
     "text": [
      "58 oeuvres partagent 29 champs\n"
     ]
    }
   ],
   "source": [
    "describe(queryset)"
   ]
  },
  {
   "cell_type": "markdown",
   "metadata": {},
   "source": [
    "## How many works have same AniDB ID?"
   ]
  },
  {
   "cell_type": "code",
   "execution_count": 10,
   "metadata": {},
   "outputs": [
    {
     "data": {
      "text/plain": [
       "<WorkQuerySet [{'anidb_aid': 4932, 'nb': 6}, {'anidb_aid': 8778, 'nb': 3}, {'anidb_aid': 4897, 'nb': 2}, {'anidb_aid': 9977, 'nb': 2}, {'anidb_aid': 6784, 'nb': 2}]>"
      ]
     },
     "execution_count": 10,
     "metadata": {},
     "output_type": "execute_result"
    }
   ],
   "source": [
    "queryset = Work.objects.exclude(anidb_aid=0).values('anidb_aid').annotate(nb=Count('anidb_aid')).order_by('-nb')\n",
    "queryset[:5]"
   ]
  },
  {
   "cell_type": "code",
   "execution_count": 11,
   "metadata": {},
   "outputs": [
    {
     "name": "stdout",
     "output_type": "stream",
     "text": [
      "35 oeuvres partagent 15 champs\n"
     ]
    }
   ],
   "source": [
    "describe(queryset)"
   ]
  },
  {
   "cell_type": "code",
   "execution_count": 12,
   "metadata": {},
   "outputs": [
    {
     "data": {
      "text/plain": [
       "<WorkQuerySet [<Work: Kara no Kyoukai 1: Fukan Fuukei>, <Work: Kara no Kyoukai 3: Tsuukaku Zanryuu>, <Work: Kara no Kyoukai 5: Mujun Rasen>, <Work: Kara no Kyoukai 2: Satsujin Kousatsu (Part 1)>, <Work: Kara no Kyoukai 4: Garan no Dou>, <Work: Kara no Kyoukai 7: Satsujin Kousatsu (Part 2)>]>"
      ]
     },
     "execution_count": 12,
     "metadata": {},
     "output_type": "execute_result"
    }
   ],
   "source": [
    "Work.objects.filter(anidb_aid=4932)  # Lol ce n'est pas un doublon"
   ]
  },
  {
   "cell_type": "code",
   "execution_count": 13,
   "metadata": {},
   "outputs": [
    {
     "data": {
      "text/plain": [
       "<WorkQuerySet [<Work: Puella Magi Madoka Magica the Movie Part 3: Rebellion>, <Work: Puella Magi Madoka Magica the Movie Part 1: Beginnings>, <Work: Puella Magi Madoka Magica the Movie Part 2: Eternal>]>"
      ]
     },
     "execution_count": 13,
     "metadata": {},
     "output_type": "execute_result"
    }
   ],
   "source": [
    "Work.objects.filter(anidb_aid=8778)  # Non plus"
   ]
  },
  {
   "cell_type": "markdown",
   "metadata": {},
   "source": [
    "## How many anime have an AniDB ID?"
   ]
  },
  {
   "cell_type": "code",
   "execution_count": 14,
   "metadata": {},
   "outputs": [
    {
     "data": {
      "text/plain": [
       "305"
      ]
     },
     "execution_count": 14,
     "metadata": {},
     "output_type": "execute_result"
    }
   ],
   "source": [
    "nb_anidb_works = Work.objects.exclude(anidb_aid=0).count()\n",
    "nb_anidb_works"
   ]
  },
  {
   "cell_type": "code",
   "execution_count": 15,
   "metadata": {},
   "outputs": [
    {
     "data": {
      "text/plain": [
       "0.027767662053896577"
      ]
     },
     "execution_count": 15,
     "metadata": {},
     "output_type": "execute_result"
    }
   ],
   "source": [
    "nb_anidb_works / Work.objects.filter(category__slug='anime').count()"
   ]
  },
  {
   "cell_type": "markdown",
   "metadata": {},
   "source": [
    "## How many works have at least one Reference?"
   ]
  },
  {
   "cell_type": "code",
   "execution_count": 16,
   "metadata": {},
   "outputs": [
    {
     "data": {
      "text/plain": [
       "0.7519369834710744"
      ]
     },
     "execution_count": 16,
     "metadata": {},
     "output_type": "execute_result"
    }
   ],
   "source": [
    "Work.objects.annotate(nb=Count('reference')).values('id').filter(nb__gte=1).count() / Work.objects.count()"
   ]
  },
  {
   "cell_type": "code",
   "execution_count": 17,
   "metadata": {},
   "outputs": [
    {
     "name": "stdout",
     "output_type": "stream",
     "text": [
      "anime\n",
      "10969/10984 = 99.9 %\n",
      "manga\n",
      "677/4503 = 15.0 %\n",
      "album\n",
      "0/1 = 0.0 %\n"
     ]
    }
   ],
   "source": [
    "for category in Category.objects.all():\n",
    "    print(category.slug)\n",
    "    category_works = Work.objects.filter(category=category)\n",
    "    nb = category_works.annotate(nb=Count('reference')).values('id').filter(nb__gte=1).count()\n",
    "    print('{:d}/{:d} = {:.1f} %'.format(nb, category_works.count(), 100 * nb / category_works.count()))"
   ]
  }
 ],
 "metadata": {
  "kernelspec": {
   "display_name": "Django Shell-Plus",
   "language": "python",
   "name": "django_extensions"
  },
  "language_info": {
   "codemirror_mode": {
    "name": "ipython",
    "version": 3
   },
   "file_extension": ".py",
   "mimetype": "text/x-python",
   "name": "python",
   "nbconvert_exporter": "python",
   "pygments_lexer": "ipython3",
   "version": "3.6.5"
  }
 },
 "nbformat": 4,
 "nbformat_minor": 2
}
