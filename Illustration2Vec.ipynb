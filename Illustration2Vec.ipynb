{
 "cells": [
  {
   "cell_type": "markdown",
   "metadata": {},
   "source": [
    "# General setup"
   ]
  },
  {
   "cell_type": "code",
   "execution_count": 1,
   "metadata": {
    "collapsed": true
   },
   "outputs": [],
   "source": [
    "import sys\n",
    "import os\n",
    "from pathlib import Path\n",
    "\n",
    "# illustration2vec is not distributed as an actual Python module\n",
    "# but as a directory with a bunch of stuff in it, so we need to\n",
    "# add it to the PYTHONPATH manually.\n",
    "I2V_ROOT = os.environ.get('ILLUSTRATION2VEC_PATH',\n",
    "                          str(Path('.').resolve().parent))\n",
    "if I2V_ROOT not in sys.path:\n",
    "    sys.path.append(I2V_ROOT)\n",
    "\n",
    "import i2v\n",
    "\n",
    "illust2vec = i2v.make_i2v_with_chainer(\n",
    "    os.path.join(I2V_ROOT, \"illust2vec_tag_ver200.caffemodel\"),\n",
    "    os.path.join(I2V_ROOT, \"tag_list.json\"))"
   ]
  },
  {
   "cell_type": "code",
   "execution_count": 72,
   "metadata": {
    "collapsed": true
   },
   "outputs": [],
   "source": [
    "def group(it, *, size=10):\n",
    "    \"\"\"Group an iterable in chunks of the same size.\n",
    "    \n",
    "    >>> list(group([1, 2, 3, 4], size=2))\n",
    "    [[1, 2], [3, 4]]\n",
    "    >>> list(group([1, 2, 3, 4], size=3))\n",
    "    [[1, 2, 3], [4]]\n",
    "    \n",
    "    Args:\n",
    "        it: An iterable to split.\n",
    "        size: The size of each chunk. Note that the last chunk\n",
    "            may be smaller if the length of `it` is not divisible\n",
    "            by `size`.\n",
    "            \n",
    "    Returns:\n",
    "        An iterable of list of elements from `it` where each chunk,\n",
    "        except possibly the last, have length `size`. \n",
    "    \"\"\"\n",
    "\n",
    "    # Ensure `it` is an iterator\n",
    "    it = iter(it)\n",
    "    stopped = False\n",
    "    while not stopped:\n",
    "        chunk = []\n",
    "        for i in range(size):\n",
    "            try:\n",
    "                chunk.append(next(it))\n",
    "            except StopIteration:\n",
    "                # We need to handle the last chunk separately.\n",
    "                if chunk:\n",
    "                    yield chunk\n",
    "                return\n",
    "        yield chunk"
   ]
  },
  {
   "cell_type": "code",
   "execution_count": 73,
   "metadata": {},
   "outputs": [],
   "source": [
    "import functools\n",
    "import random\n",
    "from tqdm import tqdm_notebook\n",
    "from PIL import Image\n",
    "from IPython.display import display\n",
    "import ipywidgets as widgets\n",
    "import pandas as pd        \n",
    "import numpy as np\n",
    "\n",
    "\n",
    "def build_slot(state, paths_it):\n",
    "    path = next(paths_it)\n",
    "    with open(path, 'rb') as f:\n",
    "        image = widgets.Image(\n",
    "            value=f.read(),\n",
    "            format='jpeg',\n",
    "            layout=widgets.Layout(width='320px', margin='auto 0 0 0'),\n",
    "            continuous_update=True,\n",
    "        )\n",
    "    label = widgets.Label(\n",
    "        value=os.path.basename(path),\n",
    "        layout=widgets.Layout(margin='0 auto'),\n",
    "    )\n",
    "    sfw_button = widgets.Button(\n",
    "        description='SFW',\n",
    "        button_style='success',\n",
    "        layout=widgets.Layout(width='100%', margin='0 0 2px 0'),\n",
    "    )\n",
    "    nsfw_button = widgets.Button(\n",
    "        description='NSFW',\n",
    "        button_style='danger',\n",
    "        layout=widgets.Layout(width='100%', margin='0 0 2px 0'),\n",
    "    )\n",
    "\n",
    "    vbox = widgets.VBox(\n",
    "        [label, widgets.HBox([sfw_button, nsfw_button]), image])\n",
    "\n",
    "    def on_button_click(b, *, nsfw):\n",
    "        state[label.value] = nsfw\n",
    "        try:\n",
    "            path = next(paths_it)\n",
    "        except StopIteration:\n",
    "            vbox.close()\n",
    "        else:\n",
    "            with open(path, 'rb') as f:\n",
    "                image.value = f.read()\n",
    "            label.value = os.path.basename(path)\n",
    "\n",
    "    sfw_button.on_click(functools.partial(on_button_click, nsfw=False))\n",
    "    nsfw_button.on_click(functools.partial(on_button_click, nsfw=True))\n",
    "\n",
    "    return vbox\n",
    "\n",
    "class Dataset:\n",
    "    works_json = 'mangaki_i2v.json'\n",
    "    nsfw_csv = 'mangaki_nsfw.csv'\n",
    "    \n",
    "    def __init__(self, path):\n",
    "        self._path = path\n",
    "        self._names = os.listdir(path)\n",
    "        random.shuffle(self._names)\n",
    "        self._state = {}\n",
    "        self._works = {}\n",
    "        \n",
    "    def to_dataframes(self):\n",
    "        state_df = pd.DataFrame({'nsfw': self._state})\n",
    "\n",
    "        tag_groups = {}\n",
    "        for name, tags in self._works.items():\n",
    "            for group, values in tags.items():\n",
    "                tag_groups.setdefault(group, set()).update(set(dict(values)))\n",
    "        columns = [\n",
    "            np.array(sum([[group] * len(values) for group, values in tag_groups.items()], [])),\n",
    "            np.array(sum([list(values) for values in tag_groups.values()], [])),\n",
    "        ]\n",
    "\n",
    "        rev_columns = {}\n",
    "        for j, (group, tag) in enumerate(zip(*columns)):\n",
    "            rev_columns[(group, tag)] = j\n",
    "\n",
    "        raw = np.zeros((len(self._works), len(index[0])))\n",
    "        for work_index, work in enumerate(self._works.values()):\n",
    "            for group, tags in work.items():\n",
    "                for tag_name, tag_value in tags:\n",
    "                    raw[work_index, rev_columns[(group, tag_name)]] = tag_value\n",
    "        works_df = pd.DataFrame(raw, index=list(dataset._works.keys()), columns=index)\n",
    "        \n",
    "        return works_df, state_df\n",
    "        \n",
    "    def restore_from_cache(self, cache_dir):\n",
    "        works_path = Path(cache_dir) / self.works_json\n",
    "        if works_path.exists():\n",
    "            with works_path.open('r') as f:\n",
    "                self._works.update(json.load(f))\n",
    "                \n",
    "        nsfw_path = Path(cache_dir) / self.nsfw_csv\n",
    "        if nsfw_path.exists():\n",
    "            old_state = pd.read_csv(str(nsfw_path), index_col=0).to_dict()['nsfw']\n",
    "            self._state = {**old_state, **self._state}\n",
    "            \n",
    "    def save_to_cache(self, cache_dir):\n",
    "        nsfw_path = Path(cache_dir) / self.nsfw_csv\n",
    "        if nsfw_path.exists():\n",
    "            raise FileExistsError(str(nsfw_path))\n",
    "        pd.DataFrame({'nsfw': self._state}).to_csv(str(nsfw_path))\n",
    "        \n",
    "        works_path = Path(cache_dir) / self.works_json\n",
    "        if works_path.exists():\n",
    "            raise FileExistsError(str(works_path))\n",
    "        with works_path.open('w') as f:\n",
    "            json.dump(self._works, f)\n",
    "            \n",
    "    def process(self, *, batch_size=4):\n",
    "        paths = [\n",
    "            os.path.join(self._path, name)\n",
    "            for name in self._names\n",
    "            if name not in self._works\n",
    "        ]\n",
    "\n",
    "        total = (len(paths) + batch_size - 1) // batch_size\n",
    "        chunks_it = group(paths, size=batch_size)\n",
    "        for n_batches, chunk in tqdm_notebook(enumerate(chunks_it), total=total):\n",
    "            results = illust2vec.estimate_plausible_tags(\n",
    "                [Image.open(path) for path in chunk])\n",
    "            for path, result in zip(chunk, results):\n",
    "                self._works[os.path.basename(path)] = result\n",
    "        \n",
    "    @property\n",
    "    def state(self):\n",
    "        return dict(self._state)\n",
    "        \n",
    "    def _mk_iter(self):\n",
    "        for name in self._names:\n",
    "            if name in self._state:\n",
    "                continue\n",
    "            yield os.path.join(self._path, name)\n",
    "        \n",
    "    def build(self, *, num_slots=1):\n",
    "        paths_it = self._mk_iter()\n",
    "        hbox = widgets.HBox([\n",
    "            build_slot(self._state, paths_it)\n",
    "            for _ in range(num_slots)\n",
    "        ], layout=widgets.Layout(flex_flow='wrap', justify_content='center'))\n",
    "        \n",
    "        return hbox"
   ]
  },
  {
   "cell_type": "code",
   "execution_count": 74,
   "metadata": {},
   "outputs": [
    {
     "data": {
      "application/vnd.jupyter.widget-view+json": {
       "model_id": "f4070656ea8a427d925beee1ad128051"
      }
     },
     "metadata": {},
     "output_type": "display_data"
    },
    {
     "name": "stdout",
     "output_type": "stream",
     "text": [
      "\n"
     ]
    },
    {
     "data": {
      "application/vnd.jupyter.widget-view+json": {
       "model_id": "549e13792a24415c97c14cac277cc8ba"
      }
     },
     "metadata": {},
     "output_type": "display_data"
    }
   ],
   "source": [
    "dataset = Dataset('/data/elarnon/mangaki_posters/')\n",
    "dataset.restore_from_cache('/home/elarnon/code/illustration2vec')\n",
    "dataset.process()\n",
    "display(dataset.build())"
   ]
  },
  {
   "cell_type": "code",
   "execution_count": 75,
   "metadata": {},
   "outputs": [],
   "source": [
    "works, nsfw = dataset.to_dataframes()"
   ]
  },
  {
   "cell_type": "markdown",
   "metadata": {},
   "source": [
    "# NSFW prediction"
   ]
  },
  {
   "cell_type": "markdown",
   "metadata": {},
   "source": [
    "# Estimation of relevant features using ElasticNet"
   ]
  },
  {
   "cell_type": "code",
   "execution_count": 78,
   "metadata": {},
   "outputs": [],
   "source": [
    "from sklearn.linear_model import ElasticNetCV"
   ]
  },
  {
   "cell_type": "code",
   "execution_count": 130,
   "metadata": {},
   "outputs": [],
   "source": [
    "en = ElasticNetCV(l1_ratio=[.1, .5, .7, .9, .95, .99, 1]).fit(works.loc[nsfw.index]['rating'], nsfw['nsfw'])"
   ]
  },
  {
   "cell_type": "code",
   "execution_count": 131,
   "metadata": {},
   "outputs": [
    {
     "data": {
      "text/plain": [
       "array([ 0.90103001,  1.55975775,  0.13681478])"
      ]
     },
     "execution_count": 131,
     "metadata": {},
     "output_type": "execute_result"
    }
   ],
   "source": [
    "en.coef_"
   ]
  },
  {
   "cell_type": "code",
   "execution_count": 98,
   "metadata": {},
   "outputs": [
    {
     "data": {
      "text/plain": [
       "11853"
      ]
     },
     "execution_count": 98,
     "metadata": {},
     "output_type": "execute_result"
    }
   ],
   "source": [
    "np.argmax(en.predict(works['rating']))"
   ]
  },
  {
   "cell_type": "code",
   "execution_count": 153,
   "metadata": {
    "collapsed": true
   },
   "outputs": [],
   "source": [
    "from sklearn.feature_selection import SelectKBest\n",
    "from sklearn.feature_selection import chi2\n",
    "\n",
    "sk = SelectKBest(chi2, k=8).fit(works.loc[nsfw.index], nsfw['nsfw'])"
   ]
  },
  {
   "cell_type": "code",
   "execution_count": 119,
   "metadata": {},
   "outputs": [],
   "source": [
    "from sklearn.feature_selection import SelectFromModel\n",
    "from sklearn.linear_model import LassoCV\n",
    "X = works.loc[nsfw.index]\n",
    "sfm = SelectFromModel(clf, threshold=0.25)\n",
    "sfm.fit(X, y)\n",
    "n_features = sfm.transform(X).shape[1]"
   ]
  },
  {
   "cell_type": "code",
   "execution_count": 170,
   "metadata": {},
   "outputs": [
    {
     "data": {
      "text/plain": [
       "RFECV(cv=StratifiedKFold(n_splits=3, random_state=None, shuffle=False),\n",
       "   estimator=LogisticRegression(C=1.0, class_weight=None, dual=False, fit_intercept=True,\n",
       "          intercept_scaling=1, max_iter=100, multi_class='ovr', n_jobs=1,\n",
       "          penalty='l2', random_state=None, solver='liblinear', tol=0.0001,\n",
       "          verbose=0, warm_start=False),\n",
       "   n_jobs=1, scoring='accuracy', step=1, verbose=0)"
      ]
     },
     "execution_count": 170,
     "metadata": {},
     "output_type": "execute_result"
    }
   ],
   "source": [
    "from sklearn.svm import LinearSVC\n",
    "from sklearn.linear_model import LogisticRegression\n",
    "\n",
    "svc = LogisticRegression()\n",
    "rfecv = RFECV(estimator=svc, step=1, cv=StratifiedKFold(3),\n",
    "              scoring='accuracy')\n",
    "rfecv.fit(works.loc[nsfw.index], nsfw['nsfw'])"
   ]
  },
  {
   "cell_type": "code",
   "execution_count": 154,
   "metadata": {},
   "outputs": [
    {
     "data": {
      "text/plain": [
       "Index(['panties', 'breasts', 'large breasts', 'underwear', 'cleavage',\n",
       "       'thighhighs', 'questionable', 'safe'],\n",
       "      dtype='object')"
      ]
     },
     "execution_count": 154,
     "metadata": {},
     "output_type": "execute_result"
    }
   ],
   "source": [
    "works.columns.droplevel()[sk.get_support()]"
   ]
  },
  {
   "cell_type": "code",
   "execution_count": 171,
   "metadata": {},
   "outputs": [
    {
     "data": {
      "text/plain": [
       "Index(['cover', 'swimsuit', 'panties', 'breasts', 'underwear', 'long hair',\n",
       "       'questionable', 'safe'],\n",
       "      dtype='object')"
      ]
     },
     "execution_count": 171,
     "metadata": {},
     "output_type": "execute_result"
    }
   ],
   "source": [
    "works.columns.droplevel()[rfecv.support_]"
   ]
  },
  {
   "cell_type": "code",
   "execution_count": 162,
   "metadata": {
    "collapsed": true
   },
   "outputs": [],
   "source": [
    "from sklearn.linear_model import SGDClassifier"
   ]
  },
  {
   "cell_type": "code",
   "execution_count": 191,
   "metadata": {},
   "outputs": [
    {
     "data": {
      "text/html": [
       "<div>\n",
       "<style>\n",
       "    .dataframe thead tr:only-child th {\n",
       "        text-align: right;\n",
       "    }\n",
       "\n",
       "    .dataframe thead th {\n",
       "        text-align: left;\n",
       "    }\n",
       "\n",
       "    .dataframe tbody tr th {\n",
       "        vertical-align: top;\n",
       "    }\n",
       "</style>\n",
       "<table border=\"1\" class=\"dataframe\">\n",
       "  <thead>\n",
       "    <tr style=\"text-align: right;\">\n",
       "      <th></th>\n",
       "      <th>nsfw</th>\n",
       "    </tr>\n",
       "  </thead>\n",
       "  <tbody>\n",
       "    <tr>\n",
       "      <th>11289.jpg</th>\n",
       "      <td>False</td>\n",
       "    </tr>\n",
       "    <tr>\n",
       "      <th>11532.jpg</th>\n",
       "      <td>False</td>\n",
       "    </tr>\n",
       "    <tr>\n",
       "      <th>3891.jpg</th>\n",
       "      <td>True</td>\n",
       "    </tr>\n",
       "    <tr>\n",
       "      <th>6078.jpg</th>\n",
       "      <td>True</td>\n",
       "    </tr>\n",
       "    <tr>\n",
       "      <th>6335.jpg</th>\n",
       "      <td>False</td>\n",
       "    </tr>\n",
       "    <tr>\n",
       "      <th>7704.jpg</th>\n",
       "      <td>True</td>\n",
       "    </tr>\n",
       "    <tr>\n",
       "      <th>8280.jpg</th>\n",
       "      <td>False</td>\n",
       "    </tr>\n",
       "  </tbody>\n",
       "</table>\n",
       "</div>"
      ],
      "text/plain": [
       "            nsfw\n",
       "11289.jpg  False\n",
       "11532.jpg  False\n",
       "3891.jpg    True\n",
       "6078.jpg    True\n",
       "6335.jpg   False\n",
       "7704.jpg    True\n",
       "8280.jpg   False"
      ]
     },
     "execution_count": 191,
     "metadata": {},
     "output_type": "execute_result"
    }
   ],
   "source": [
    "nsfw.loc[nsfw.index][rfecv.predict(works.loc[nsfw.index]) != nsfw['nsfw']]"
   ]
  },
  {
   "cell_type": "code",
   "execution_count": 193,
   "metadata": {},
   "outputs": [
    {
     "data": {
      "text/plain": [
       "array([[ 0.75979779,  0.24020221],\n",
       "       [ 0.9023085 ,  0.0976915 ],\n",
       "       [ 0.93002753,  0.06997247],\n",
       "       [ 0.8156972 ,  0.1843028 ],\n",
       "       [ 0.94366673,  0.05633327],\n",
       "       [ 0.77466617,  0.22533383],\n",
       "       [ 0.90552557,  0.09447443],\n",
       "       [ 0.13576115,  0.86423885],\n",
       "       [ 0.07685201,  0.92314799],\n",
       "       [ 0.02376097,  0.97623903],\n",
       "       [ 0.29890678,  0.70109322],\n",
       "       [ 0.70773397,  0.29226603],\n",
       "       [ 0.78506449,  0.21493551],\n",
       "       [ 0.05412869,  0.94587131],\n",
       "       [ 0.02738885,  0.97261115],\n",
       "       [ 0.38787016,  0.61212984],\n",
       "       [ 0.27076544,  0.72923456],\n",
       "       [ 0.04556622,  0.95443378],\n",
       "       [ 0.15148066,  0.84851934],\n",
       "       [ 0.8636072 ,  0.1363928 ],\n",
       "       [ 0.13756096,  0.86243904],\n",
       "       [ 0.57917077,  0.42082923],\n",
       "       [ 0.13831246,  0.86168754],\n",
       "       [ 0.80424389,  0.19575611],\n",
       "       [ 0.20244544,  0.79755456],\n",
       "       [ 0.02642554,  0.97357446],\n",
       "       [ 0.24446846,  0.75553154],\n",
       "       [ 0.33051438,  0.66948562],\n",
       "       [ 0.21039783,  0.78960217],\n",
       "       [ 0.0534023 ,  0.9465977 ],\n",
       "       [ 0.28765226,  0.71234774],\n",
       "       [ 0.10888769,  0.89111231],\n",
       "       [ 0.87542185,  0.12457815],\n",
       "       [ 0.02045002,  0.97954998],\n",
       "       [ 0.91576426,  0.08423574],\n",
       "       [ 0.89398079,  0.10601921],\n",
       "       [ 0.12976713,  0.87023287],\n",
       "       [ 0.36463758,  0.63536242],\n",
       "       [ 0.47373046,  0.52626954],\n",
       "       [ 0.24224955,  0.75775045],\n",
       "       [ 0.94398006,  0.05601994],\n",
       "       [ 0.88917694,  0.11082306],\n",
       "       [ 0.04216339,  0.95783661],\n",
       "       [ 0.93988035,  0.06011965],\n",
       "       [ 0.91834462,  0.08165538],\n",
       "       [ 0.13058316,  0.86941684],\n",
       "       [ 0.94834952,  0.05165048],\n",
       "       [ 0.21399541,  0.78600459],\n",
       "       [ 0.09714653,  0.90285347],\n",
       "       [ 0.73768369,  0.26231631],\n",
       "       [ 0.95296812,  0.04703188],\n",
       "       [ 0.88371918,  0.11628082],\n",
       "       [ 0.04184969,  0.95815031],\n",
       "       [ 0.9464572 ,  0.0535428 ],\n",
       "       [ 0.67483175,  0.32516825],\n",
       "       [ 0.90392673,  0.09607327],\n",
       "       [ 0.16986393,  0.83013607],\n",
       "       [ 0.02907579,  0.97092421],\n",
       "       [ 0.7795131 ,  0.2204869 ],\n",
       "       [ 0.93189679,  0.06810321],\n",
       "       [ 0.08072268,  0.91927732],\n",
       "       [ 0.57935055,  0.42064945],\n",
       "       [ 0.942412  ,  0.057588  ],\n",
       "       [ 0.64417601,  0.35582399],\n",
       "       [ 0.06075981,  0.93924019],\n",
       "       [ 0.56177448,  0.43822552],\n",
       "       [ 0.92565964,  0.07434036],\n",
       "       [ 0.04713037,  0.95286963],\n",
       "       [ 0.90209879,  0.09790121],\n",
       "       [ 0.89422371,  0.10577629],\n",
       "       [ 0.76460376,  0.23539624],\n",
       "       [ 0.89693348,  0.10306652],\n",
       "       [ 0.44678287,  0.55321713],\n",
       "       [ 0.03355827,  0.96644173],\n",
       "       [ 0.27165427,  0.72834573],\n",
       "       [ 0.53357309,  0.46642691],\n",
       "       [ 0.491902  ,  0.508098  ],\n",
       "       [ 0.55163062,  0.44836938],\n",
       "       [ 0.26216585,  0.73783415],\n",
       "       [ 0.92510485,  0.07489515],\n",
       "       [ 0.30515095,  0.69484905],\n",
       "       [ 0.10080764,  0.89919236],\n",
       "       [ 0.88147652,  0.11852348],\n",
       "       [ 0.01116128,  0.98883872],\n",
       "       [ 0.0681743 ,  0.9318257 ],\n",
       "       [ 0.38897531,  0.61102469],\n",
       "       [ 0.78286218,  0.21713782],\n",
       "       [ 0.56741482,  0.43258518],\n",
       "       [ 0.27691943,  0.72308057],\n",
       "       [ 0.85396927,  0.14603073],\n",
       "       [ 0.65093013,  0.34906987],\n",
       "       [ 0.1207716 ,  0.8792284 ],\n",
       "       [ 0.8228349 ,  0.1771651 ]])"
      ]
     },
     "execution_count": 193,
     "metadata": {},
     "output_type": "execute_result"
    }
   ],
   "source": [
    "rfecv.predict_proba(works.loc[nsfw.index].loc[nsfw.loc[nsfw.index][rfecv.predict(works.loc[nsfw.index]) == nsfw['nsfw']].index])"
   ]
  },
  {
   "cell_type": "code",
   "execution_count": 172,
   "metadata": {},
   "outputs": [
    {
     "data": {
      "image/png": "[encoded data removed]",
      "text/plain": [
       "<matplotlib.figure.Figure at 0x7f4c033a7630>"
      ]
     },
     "metadata": {},
     "output_type": "display_data"
    }
   ],
   "source": [
    "import matplotlib.pyplot as plt\n",
    "plt.figure()\n",
    "plt.xlabel(\"Number of features selected\")\n",
    "plt.ylabel(\"Cross validation score (nb of correct classifications)\")\n",
    "plt.plot(range(1, len(rfecv.grid_scores_) + 1), rfecv.grid_scores_)\n",
    "plt.show()"
   ]
  },
  {
   "cell_type": "code",
   "execution_count": 185,
   "metadata": {},
   "outputs": [
    {
     "data": {
      "application/vnd.jupyter.widget-view+json": {
       "model_id": "03b6dbdc893d438c9f593ab0bfbc2fd7"
      }
     },
     "metadata": {},
     "output_type": "display_data"
    }
   ],
   "source": [
    "widgets.Image(value=open('/data/elarnon/mangaki_posters/8280.jpg', 'rb').read(), width=300)"
   ]
  },
  {
   "cell_type": "code",
   "execution_count": 101,
   "metadata": {},
   "outputs": [
    {
     "ename": "KeyError",
     "evalue": "'the label [5819.jpg] is not in the [index]'",
     "output_type": "error",
     "traceback": [
      "\u001b[0;31m---------------------------------------------------------------------------\u001b[0m",
      "\u001b[0;31mKeyError\u001b[0m                                  Traceback (most recent call last)",
      "\u001b[0;32m/home/elarnon/.virtualenvs/mangaki/lib/python3.6/site-packages/pandas/core/indexing.py\u001b[0m in \u001b[0;36m_has_valid_type\u001b[0;34m(self, key, axis)\u001b[0m\n\u001b[1;32m   1433\u001b[0m                 \u001b[0;32mif\u001b[0m \u001b[0;32mnot\u001b[0m \u001b[0max\u001b[0m\u001b[0;34m.\u001b[0m\u001b[0mcontains\u001b[0m\u001b[0;34m(\u001b[0m\u001b[0mkey\u001b[0m\u001b[0;34m)\u001b[0m\u001b[0;34m:\u001b[0m\u001b[0;34m\u001b[0m\u001b[0m\n\u001b[0;32m-> 1434\u001b[0;31m                     \u001b[0merror\u001b[0m\u001b[0;34m(\u001b[0m\u001b[0;34m)\u001b[0m\u001b[0;34m\u001b[0m\u001b[0m\n\u001b[0m\u001b[1;32m   1435\u001b[0m             \u001b[0;32mexcept\u001b[0m \u001b[0mTypeError\u001b[0m \u001b[0;32mas\u001b[0m \u001b[0me\u001b[0m\u001b[0;34m:\u001b[0m\u001b[0;34m\u001b[0m\u001b[0m\n",
      "\u001b[0;32m/home/elarnon/.virtualenvs/mangaki/lib/python3.6/site-packages/pandas/core/indexing.py\u001b[0m in \u001b[0;36merror\u001b[0;34m()\u001b[0m\n\u001b[1;32m   1428\u001b[0m                 raise KeyError(\"the label [%s] is not in the [%s]\" %\n\u001b[0;32m-> 1429\u001b[0;31m                                (key, self.obj._get_axis_name(axis)))\n\u001b[0m\u001b[1;32m   1430\u001b[0m \u001b[0;34m\u001b[0m\u001b[0m\n",
      "\u001b[0;31mKeyError\u001b[0m: 'the label [5819.jpg] is not in the [index]'",
      "\nDuring handling of the above exception, another exception occurred:\n",
      "\u001b[0;31mKeyError\u001b[0m                                  Traceback (most recent call last)",
      "\u001b[0;32m<ipython-input-101-0017320b1a3c>\u001b[0m in \u001b[0;36m<module>\u001b[0;34m()\u001b[0m\n\u001b[0;32m----> 1\u001b[0;31m \u001b[0mnsfw\u001b[0m\u001b[0;34m.\u001b[0m\u001b[0mloc\u001b[0m\u001b[0;34m[\u001b[0m\u001b[0;34m'5819.jpg'\u001b[0m\u001b[0;34m]\u001b[0m\u001b[0;34m\u001b[0m\u001b[0m\n\u001b[0m",
      "\u001b[0;32m/home/elarnon/.virtualenvs/mangaki/lib/python3.6/site-packages/pandas/core/indexing.py\u001b[0m in \u001b[0;36m__getitem__\u001b[0;34m(self, key)\u001b[0m\n\u001b[1;32m   1326\u001b[0m         \u001b[0;32melse\u001b[0m\u001b[0;34m:\u001b[0m\u001b[0;34m\u001b[0m\u001b[0m\n\u001b[1;32m   1327\u001b[0m             \u001b[0mkey\u001b[0m \u001b[0;34m=\u001b[0m \u001b[0mcom\u001b[0m\u001b[0;34m.\u001b[0m\u001b[0m_apply_if_callable\u001b[0m\u001b[0;34m(\u001b[0m\u001b[0mkey\u001b[0m\u001b[0;34m,\u001b[0m \u001b[0mself\u001b[0m\u001b[0;34m.\u001b[0m\u001b[0mobj\u001b[0m\u001b[0;34m)\u001b[0m\u001b[0;34m\u001b[0m\u001b[0m\n\u001b[0;32m-> 1328\u001b[0;31m             \u001b[0;32mreturn\u001b[0m \u001b[0mself\u001b[0m\u001b[0;34m.\u001b[0m\u001b[0m_getitem_axis\u001b[0m\u001b[0;34m(\u001b[0m\u001b[0mkey\u001b[0m\u001b[0;34m,\u001b[0m \u001b[0maxis\u001b[0m\u001b[0;34m=\u001b[0m\u001b[0;36m0\u001b[0m\u001b[0;34m)\u001b[0m\u001b[0;34m\u001b[0m\u001b[0m\n\u001b[0m\u001b[1;32m   1329\u001b[0m \u001b[0;34m\u001b[0m\u001b[0m\n\u001b[1;32m   1330\u001b[0m     \u001b[0;32mdef\u001b[0m \u001b[0m_is_scalar_access\u001b[0m\u001b[0;34m(\u001b[0m\u001b[0mself\u001b[0m\u001b[0;34m,\u001b[0m \u001b[0mkey\u001b[0m\u001b[0;34m)\u001b[0m\u001b[0;34m:\u001b[0m\u001b[0;34m\u001b[0m\u001b[0m\n",
      "\u001b[0;32m/home/elarnon/.virtualenvs/mangaki/lib/python3.6/site-packages/pandas/core/indexing.py\u001b[0m in \u001b[0;36m_getitem_axis\u001b[0;34m(self, key, axis)\u001b[0m\n\u001b[1;32m   1549\u001b[0m \u001b[0;34m\u001b[0m\u001b[0m\n\u001b[1;32m   1550\u001b[0m         \u001b[0;31m# fall thru to straight lookup\u001b[0m\u001b[0;34m\u001b[0m\u001b[0;34m\u001b[0m\u001b[0m\n\u001b[0;32m-> 1551\u001b[0;31m         \u001b[0mself\u001b[0m\u001b[0;34m.\u001b[0m\u001b[0m_has_valid_type\u001b[0m\u001b[0;34m(\u001b[0m\u001b[0mkey\u001b[0m\u001b[0;34m,\u001b[0m \u001b[0maxis\u001b[0m\u001b[0;34m)\u001b[0m\u001b[0;34m\u001b[0m\u001b[0m\n\u001b[0m\u001b[1;32m   1552\u001b[0m         \u001b[0;32mreturn\u001b[0m \u001b[0mself\u001b[0m\u001b[0;34m.\u001b[0m\u001b[0m_get_label\u001b[0m\u001b[0;34m(\u001b[0m\u001b[0mkey\u001b[0m\u001b[0;34m,\u001b[0m \u001b[0maxis\u001b[0m\u001b[0;34m=\u001b[0m\u001b[0maxis\u001b[0m\u001b[0;34m)\u001b[0m\u001b[0;34m\u001b[0m\u001b[0m\n\u001b[1;32m   1553\u001b[0m \u001b[0;34m\u001b[0m\u001b[0m\n",
      "\u001b[0;32m/home/elarnon/.virtualenvs/mangaki/lib/python3.6/site-packages/pandas/core/indexing.py\u001b[0m in \u001b[0;36m_has_valid_type\u001b[0;34m(self, key, axis)\u001b[0m\n\u001b[1;32m   1440\u001b[0m                 \u001b[0;32mraise\u001b[0m\u001b[0;34m\u001b[0m\u001b[0m\n\u001b[1;32m   1441\u001b[0m             \u001b[0;32mexcept\u001b[0m\u001b[0;34m:\u001b[0m\u001b[0;34m\u001b[0m\u001b[0m\n\u001b[0;32m-> 1442\u001b[0;31m                 \u001b[0merror\u001b[0m\u001b[0;34m(\u001b[0m\u001b[0;34m)\u001b[0m\u001b[0;34m\u001b[0m\u001b[0m\n\u001b[0m\u001b[1;32m   1443\u001b[0m \u001b[0;34m\u001b[0m\u001b[0m\n\u001b[1;32m   1444\u001b[0m         \u001b[0;32mreturn\u001b[0m \u001b[0;32mTrue\u001b[0m\u001b[0;34m\u001b[0m\u001b[0m\n",
      "\u001b[0;32m/home/elarnon/.virtualenvs/mangaki/lib/python3.6/site-packages/pandas/core/indexing.py\u001b[0m in \u001b[0;36merror\u001b[0;34m()\u001b[0m\n\u001b[1;32m   1427\u001b[0m                                     \"key\")\n\u001b[1;32m   1428\u001b[0m                 raise KeyError(\"the label [%s] is not in the [%s]\" %\n\u001b[0;32m-> 1429\u001b[0;31m                                (key, self.obj._get_axis_name(axis)))\n\u001b[0m\u001b[1;32m   1430\u001b[0m \u001b[0;34m\u001b[0m\u001b[0m\n\u001b[1;32m   1431\u001b[0m             \u001b[0;32mtry\u001b[0m\u001b[0;34m:\u001b[0m\u001b[0;34m\u001b[0m\u001b[0m\n",
      "\u001b[0;31mKeyError\u001b[0m: 'the label [5819.jpg] is not in the [index]'"
     ]
    }
   ],
   "source": [
    "nsfw.loc['5819.jpg']"
   ]
  }
 ],
 "metadata": {
  "kernelspec": {
   "display_name": "Python 3",
   "language": "python",
   "name": "python3"
  },
  "language_info": {
   "codemirror_mode": {
    "name": "ipython",
    "version": 3
   },
   "file_extension": ".py",
   "mimetype": "text/x-python",
   "name": "python",
   "nbconvert_exporter": "python",
   "pygments_lexer": "ipython3",
   "version": "3.6.1"
  }
 },
 "nbformat": 4,
 "nbformat_minor": 2
}
