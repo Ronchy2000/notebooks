{
 "cells": [
  {
   "cell_type": "markdown",
   "metadata": {},
   "source": [
    "# Non-linear Matrix Factorization with Gaussian Processes"
   ]
  },
  {
   "cell_type": "markdown",
   "metadata": {},
   "source": [
    "This is an attempt to reproduce [this ICML 2009 paper](http://people.ee.duke.edu/~lcarin/MatrixFactorization.pdf)."
   ]
  },
  {
   "cell_type": "code",
   "execution_count": 1,
   "metadata": {
    "collapsed": true
   },
   "outputs": [],
   "source": [
    "import tensorflow as tf\n",
    "DEVICE = \"/cpu:0\""
   ]
  },
  {
   "cell_type": "code",
   "execution_count": 2,
   "metadata": {
    "collapsed": true
   },
   "outputs": [],
   "source": [
    "N = 100  # items\n",
    "D = 2071  # users\n",
    "q = 10  # latent dimension"
   ]
  },
  {
   "cell_type": "code",
   "execution_count": 3,
   "metadata": {
    "collapsed": true
   },
   "outputs": [],
   "source": [
    "# Simulated data\n",
    "import numpy as np\n",
    "from sklearn.preprocessing import scale\n",
    "\n",
    "def get_simulated_data(true_alpha_x=5, true_alpha_w=2, true_sigma=1):\n",
    "    X = np.random.randint(50, size=(N, q))\n",
    "    #X = np.random.normal(0, 1/true_alpha_x, (N, q))\n",
    "    W = np.random.normal(0, 1/true_alpha_w, (D, q))\n",
    "    rating_rows = []\n",
    "    for i in range(N):\n",
    "        rating_rows.append(np.random.multivariate_normal(W.dot(X[i, :]), true_sigma ** 2 * np.eye(D)))\n",
    "    Y = np.array(rating_rows)\n",
    "    Y_scaled = scale(Y, axis=1, with_std=False)\n",
    "    return Y, Y_scaled"
   ]
  },
  {
   "cell_type": "code",
   "execution_count": 4,
   "metadata": {
    "collapsed": true
   },
   "outputs": [],
   "source": [
    "# Real data\n",
    "from mangaki.algo.dataset import Dataset\n",
    "from mangaki.utils.values import rating_values\n",
    "\n",
    "dataset = Dataset()\n",
    "dataset.load_csv('ratings-ordered.csv', convert=lambda choice: rating_values[choice])"
   ]
  },
  {
   "cell_type": "code",
   "execution_count": 5,
   "metadata": {
    "collapsed": true
   },
   "outputs": [],
   "source": [
    "from scipy.sparse import coo_matrix\n",
    "\n",
    "rows = dataset.anonymized.X[:, 0]\n",
    "cols = dataset.anonymized.X[:, 1]\n",
    "data = dataset.anonymized.y\n",
    "mangaki = coo_matrix((data, (rows, cols)), shape=(dataset.anonymized.nb_users, dataset.anonymized.nb_works)).tocsr()"
   ]
  },
  {
   "cell_type": "code",
   "execution_count": 7,
   "metadata": {},
   "outputs": [
    {
     "data": {
      "text/plain": [
       "<2071x10086 sparse matrix of type '<class 'numpy.float64'>'\n",
       "\twith 333647 stored elements in Compressed Sparse Row format>"
      ]
     },
     "execution_count": 7,
     "metadata": {},
     "output_type": "execute_result"
    }
   ],
   "source": [
    "mangaki"
   ]
  },
  {
   "cell_type": "markdown",
   "metadata": {},
   "source": [
    "Now skip to ALS."
   ]
  },
  {
   "cell_type": "code",
   "execution_count": 132,
   "metadata": {},
   "outputs": [
    {
     "data": {
      "text/plain": [
       "<2071x100 sparse matrix of type '<class 'numpy.float64'>'\n",
       "\twith 78195 stored elements in Compressed Sparse Row format>"
      ]
     },
     "execution_count": 132,
     "metadata": {},
     "output_type": "execute_result"
    }
   ],
   "source": [
    "mangaki[:, :100]"
   ]
  },
  {
   "cell_type": "code",
   "execution_count": 133,
   "metadata": {
    "collapsed": true
   },
   "outputs": [],
   "source": [
    "Y = mangaki[:, :100].tocoo().T.tocsr()\n",
    "for movie_id in range(N):\n",
    "    row = Y[movie_id, :]\n",
    "    for user_id, replace in zip(row.indices, scale(row.data)):\n",
    "        Y[movie_id, user_id] = replace"
   ]
  },
  {
   "cell_type": "code",
   "execution_count": 134,
   "metadata": {
    "collapsed": true
   },
   "outputs": [],
   "source": [
    "dataset = coo_matrix(Y)\n",
    "#dataset = coo_matrix(Y_scaled)"
   ]
  },
  {
   "cell_type": "code",
   "execution_count": 135,
   "metadata": {},
   "outputs": [
    {
     "data": {
      "text/plain": [
       "<100x2071 sparse matrix of type '<class 'numpy.float64'>'\n",
       "\twith 78195 stored elements in Compressed Sparse Row format>"
      ]
     },
     "execution_count": 135,
     "metadata": {},
     "output_type": "execute_result"
    }
   ],
   "source": [
    "Y"
   ]
  },
  {
   "cell_type": "code",
   "execution_count": 136,
   "metadata": {},
   "outputs": [
    {
     "name": "stdout",
     "output_type": "stream",
     "text": [
      "nb users skipped 465 over 2071\n"
     ]
    }
   ],
   "source": [
    "# Prepare batches\n",
    "from sklearn.model_selection import ShuffleSplit\n",
    "\n",
    "# Simple split\n",
    "splitter = ShuffleSplit(n_splits=1, test_size=0.2)\n",
    "for i_train, i_test in splitter.split(dataset.data):\n",
    "    train = coo_matrix((dataset.data[i_train], (dataset.row[i_train], dataset.col[i_train])), shape=(N, D)).tocsc()\n",
    "    test = coo_matrix((dataset.data[i_test], (dataset.row[i_test], dataset.col[i_test])), shape=(N, D)).tocsc()\n",
    "\n",
    "# Split by user\n",
    "train_data = []\n",
    "train_row = []\n",
    "train_col = []\n",
    "test_data = []\n",
    "test_row = []\n",
    "test_col = []\n",
    "full = dataset.tocsc()\n",
    "nb_skip = 0\n",
    "train_users = set(range(D))\n",
    "for user_id in range(D):\n",
    "    this_user = full[:, user_id]\n",
    "    N_j = this_user.getnnz()\n",
    "    if N_j <= q:\n",
    "        train_users.remove(user_id)\n",
    "        nb_skip += 1\n",
    "        continue\n",
    "    for i_train, i_test in splitter.split(this_user.indices):\n",
    "        train_col.extend([user_id] * len(i_train))\n",
    "        train_row.extend(this_user.indices[i_train])\n",
    "        train_data.extend(this_user.data[i_train])\n",
    "        test_col.extend([user_id] * len(i_test))\n",
    "        test_row.extend(this_user.indices[i_test])\n",
    "        test_data.extend(this_user.data[i_test])\n",
    "print('nb users skipped', nb_skip, 'over', D)"
   ]
  },
  {
   "cell_type": "code",
   "execution_count": 137,
   "metadata": {
    "collapsed": true
   },
   "outputs": [],
   "source": [
    "assert len(train_data) == len(train_row)\n",
    "assert len(test_data) == len(test_row)"
   ]
  },
  {
   "cell_type": "code",
   "execution_count": 138,
   "metadata": {
    "collapsed": true
   },
   "outputs": [],
   "source": [
    "train = coo_matrix((train_data, (train_row, train_col)), shape=(N, D)).tocsc()\n",
    "test = coo_matrix((test_data, (test_row, test_col)), shape=(N, D)).tocsc()"
   ]
  },
  {
   "cell_type": "code",
   "execution_count": 139,
   "metadata": {},
   "outputs": [
    {
     "data": {
      "text/plain": [
       "<100x2071 sparse matrix of type '<class 'numpy.float64'>'\n",
       "\twith 60093 stored elements in Compressed Sparse Column format>"
      ]
     },
     "execution_count": 139,
     "metadata": {},
     "output_type": "execute_result"
    }
   ],
   "source": [
    "train"
   ]
  },
  {
   "cell_type": "code",
   "execution_count": 140,
   "metadata": {},
   "outputs": [
    {
     "data": {
      "text/plain": [
       "<100x2071 sparse matrix of type '<class 'numpy.float64'>'\n",
       "\twith 15842 stored elements in Compressed Sparse Column format>"
      ]
     },
     "execution_count": 140,
     "metadata": {},
     "output_type": "execute_result"
    }
   ],
   "source": [
    "test"
   ]
  },
  {
   "cell_type": "code",
   "execution_count": 141,
   "metadata": {
    "collapsed": true
   },
   "outputs": [],
   "source": [
    "item_batch = tf.placeholder(tf.int32, shape=[None], name=\"id_item\")\n",
    "rate_batch = tf.placeholder(tf.float32, shape=[None, None], name=\"rate\")\n",
    "pred_batch = tf.placeholder(tf.int32, shape=[None], name=\"id_pred\")"
   ]
  },
  {
   "cell_type": "code",
   "execution_count": 142,
   "metadata": {
    "collapsed": true
   },
   "outputs": [],
   "source": [
    "def log_det(cov):\n",
    "    return 2 * tf.reduce_sum(tf.log(tf.diag_part(tf.cholesky(cov))))"
   ]
  },
  {
   "cell_type": "code",
   "execution_count": 146,
   "metadata": {
    "collapsed": true
   },
   "outputs": [],
   "source": [
    "def kernel(X, Y):\n",
    "    return tf.matmul(X, tf.transpose(Y))\n",
    "\n",
    "class MFGP:\n",
    "    def __init__(self):\n",
    "        with tf.device(DEVICE):\n",
    "            with tf.variable_scope(\"conv1\"):\n",
    "                self.sigma = tf.Variable(1e-1, name=\"sigma\")  # tf.random_normal([1])\n",
    "                self.alpha_w = tf.Variable(tf.random_normal([1]), name=\"alpha_w\")\n",
    "                self.X_item = tf.Variable(tf.random_normal([N, q], stddev=5), name=\"embd_item\")\n",
    "\n",
    "    def predict(self, item_batch, rate_batch, pred_batch):\n",
    "        with tf.device(DEVICE):\n",
    "            X_batch = tf.nn.embedding_lookup(self.X_item, item_batch)\n",
    "            X_pred = tf.nn.embedding_lookup(self.X_item, pred_batch)\n",
    "            N_j = tf.shape(item_batch)[0]\n",
    "            cov = kernel(X_batch, X_batch) + self.sigma ** 2 * tf.eye(N_j)\n",
    "            s = tf.matmul(tf.matrix_inverse(cov), kernel(X_batch, X_pred))\n",
    "            prediction = tf.matmul(tf.transpose(s), rate_batch)\n",
    "        return tf.reshape(prediction, [-1])\n",
    "\n",
    "    def get_loss(self, item_batch, rate_batch):\n",
    "        with tf.device(DEVICE):\n",
    "            X_batch = tf.nn.embedding_lookup(self.X_item, item_batch)\n",
    "            XT_batch = tf.transpose(X_batch)\n",
    "            N_j = tf.shape(item_batch)[0]\n",
    "            defpos = kernel(X_batch, X_batch)\n",
    "            cov = 1/tf.abs(self.alpha_w) * defpos + self.sigma ** 2 * tf.eye(N_j)\n",
    "            # inv_cov = tf.matrix_inverse(cov)  # O(N_j^3)\n",
    "            cheap_inv = tf.matrix_inverse(tf.abs(self.alpha_w) * self.sigma ** (-2) * tf.eye(q)\n",
    "                                          + tf.matmul(XT_batch, X_batch))\n",
    "            inv_cov = self.sigma ** (-2) - self.sigma ** (-4) * tf.matmul(X_batch, tf.matmul(cheap_inv, XT_batch))  # O(q^3)\n",
    "            loss = (tf.cast(N_j, tf.float32) * log_det(cov)\n",
    "                    + tf.reshape(tf.matmul(tf.transpose(rate_batch), tf.matmul(inv_cov, rate_batch)), []))\n",
    "        return loss, (cov, defpos, X_batch)\n",
    "\n",
    "    def optimization(self, item_batch, rate_batch, learning_rate):\n",
    "        global_step = tf.train.get_global_step()\n",
    "        assert global_step is not None\n",
    "        with tf.device(DEVICE):\n",
    "            loss, (cov, defpos, X_batch) = self.get_loss(item_batch, rate_batch)\n",
    "            train_op = tf.train.MomentumOptimizer(learning_rate, 0.9, use_nesterov=True).minimize(loss, global_step=global_step, var_list=[self.X_item])\n",
    "        return loss, train_op, (cov, defpos, X_batch)"
   ]
  },
  {
   "cell_type": "code",
   "execution_count": 147,
   "metadata": {
    "collapsed": true
   },
   "outputs": [],
   "source": [
    "def to_matrix(l):\n",
    "    return np.array(l).reshape(len(l), 1)"
   ]
  },
  {
   "cell_type": "code",
   "execution_count": 148,
   "metadata": {},
   "outputs": [
    {
     "name": "stdout",
     "output_type": "stream",
     "text": [
      "user_id | epoch | train_error | val_error | elapsed_time\n",
      "epoch=  0 train_rmse=7.099235 (1.000710) test_rmse=6.157351 (1.003259) total_nll=-287224265.353516 sigma=0.100000 alpha_w=1.753959\n",
      "epoch=  1 train_rmse=2.079178 (1.000710) test_rmse=2.118881 (1.003259) total_nll=-298726846.699219 sigma=0.100000 alpha_w=1.753959\n",
      "epoch=  2 train_rmse=11.680286 (1.000710) test_rmse=9.852969 (1.003259) total_nll=-302750440.118164 sigma=0.100000 alpha_w=1.753959\n",
      "epoch=  3 train_rmse=19.395447 (1.000710) test_rmse=15.919051 (1.003259) total_nll=-304895133.985352 sigma=0.100000 alpha_w=1.753959\n",
      "epoch=  4 train_rmse=27.530071 (1.000710) test_rmse=28.348537 (1.003259) total_nll=-306099596.312500 sigma=0.100000 alpha_w=1.753959\n",
      "epoch=  5 train_rmse=9.603479 (1.000710) test_rmse=9.229228 (1.003259) total_nll=-307085520.960938 sigma=0.100000 alpha_w=1.753959\n"
     ]
    },
    {
     "ename": "KeyboardInterrupt",
     "evalue": "",
     "output_type": "error",
     "traceback": [
      "\u001b[0;31m---------------------------------------------------------------------------\u001b[0m",
      "\u001b[0;31mKeyboardInterrupt\u001b[0m                         Traceback (most recent call last)",
      "\u001b[0;32m<ipython-input-148-8270c7bbc49b>\u001b[0m in \u001b[0;36m<module>\u001b[0;34m()\u001b[0m\n\u001b[1;32m     46\u001b[0m             \u001b[0;32mfor\u001b[0m \u001b[0muser_id\u001b[0m \u001b[0;32min\u001b[0m \u001b[0mtrain_users\u001b[0m\u001b[0;34m:\u001b[0m\u001b[0;34m\u001b[0m\u001b[0m\n\u001b[1;32m     47\u001b[0m                 \u001b[0mtrain_batch\u001b[0m \u001b[0;34m=\u001b[0m \u001b[0mtrain\u001b[0m\u001b[0;34m[\u001b[0m\u001b[0;34m:\u001b[0m\u001b[0;34m,\u001b[0m \u001b[0muser_id\u001b[0m\u001b[0;34m]\u001b[0m\u001b[0;34m\u001b[0m\u001b[0m\n\u001b[0;32m---> 48\u001b[0;31m                 \u001b[0mtest_batch\u001b[0m \u001b[0;34m=\u001b[0m \u001b[0mtest\u001b[0m\u001b[0;34m[\u001b[0m\u001b[0;34m:\u001b[0m\u001b[0;34m,\u001b[0m \u001b[0muser_id\u001b[0m\u001b[0;34m]\u001b[0m\u001b[0;34m\u001b[0m\u001b[0m\n\u001b[0m\u001b[1;32m     49\u001b[0m                 \u001b[0mitems_rated\u001b[0m\u001b[0;34m,\u001b[0m \u001b[0mratings\u001b[0m \u001b[0;34m=\u001b[0m \u001b[0mtrain_batch\u001b[0m\u001b[0;34m.\u001b[0m\u001b[0mindices\u001b[0m\u001b[0;34m,\u001b[0m \u001b[0mto_matrix\u001b[0m\u001b[0;34m(\u001b[0m\u001b[0mtrain_batch\u001b[0m\u001b[0;34m.\u001b[0m\u001b[0mdata\u001b[0m\u001b[0;34m)\u001b[0m\u001b[0;34m\u001b[0m\u001b[0m\n\u001b[1;32m     50\u001b[0m                 \u001b[0mitems_to_pred\u001b[0m\u001b[0;34m,\u001b[0m \u001b[0mtruth\u001b[0m \u001b[0;34m=\u001b[0m \u001b[0mtest_batch\u001b[0m\u001b[0;34m.\u001b[0m\u001b[0mindices\u001b[0m\u001b[0;34m,\u001b[0m \u001b[0mtest_batch\u001b[0m\u001b[0;34m.\u001b[0m\u001b[0mdata\u001b[0m\u001b[0;34m\u001b[0m\u001b[0m\n",
      "\u001b[0;32m/Users/jilljenn/code/mangaki/venv/lib/python3.6/site-packages/scipy/sparse/csc.py\u001b[0m in \u001b[0;36m__getitem__\u001b[0;34m(self, key)\u001b[0m\n\u001b[1;32m    167\u001b[0m         if (isinstance(row, slice) or isinstance(col, slice) or\n\u001b[1;32m    168\u001b[0m                 isintlike(row) or isintlike(col)):\n\u001b[0;32m--> 169\u001b[0;31m             \u001b[0;32mreturn\u001b[0m \u001b[0mself\u001b[0m\u001b[0;34m.\u001b[0m\u001b[0mT\u001b[0m\u001b[0;34m[\u001b[0m\u001b[0mcol\u001b[0m\u001b[0;34m,\u001b[0m \u001b[0mrow\u001b[0m\u001b[0;34m]\u001b[0m\u001b[0;34m.\u001b[0m\u001b[0mT\u001b[0m\u001b[0;34m\u001b[0m\u001b[0m\n\u001b[0m\u001b[1;32m    170\u001b[0m         \u001b[0;31m# Things that return a sequence of values.\u001b[0m\u001b[0;34m\u001b[0m\u001b[0;34m\u001b[0m\u001b[0m\n\u001b[1;32m    171\u001b[0m         \u001b[0;32melse\u001b[0m\u001b[0;34m:\u001b[0m\u001b[0;34m\u001b[0m\u001b[0m\n",
      "\u001b[0;32m/Users/jilljenn/code/mangaki/venv/lib/python3.6/site-packages/scipy/sparse/base.py\u001b[0m in \u001b[0;36m__getattr__\u001b[0;34m(self, attr)\u001b[0m\n\u001b[1;32m    564\u001b[0m             \u001b[0;32mreturn\u001b[0m \u001b[0mself\u001b[0m\u001b[0;34m.\u001b[0m\u001b[0mtoarray\u001b[0m\u001b[0;34m(\u001b[0m\u001b[0;34m)\u001b[0m\u001b[0;34m\u001b[0m\u001b[0m\n\u001b[1;32m    565\u001b[0m         \u001b[0;32melif\u001b[0m \u001b[0mattr\u001b[0m \u001b[0;34m==\u001b[0m \u001b[0;34m'T'\u001b[0m\u001b[0;34m:\u001b[0m\u001b[0;34m\u001b[0m\u001b[0m\n\u001b[0;32m--> 566\u001b[0;31m             \u001b[0;32mreturn\u001b[0m \u001b[0mself\u001b[0m\u001b[0;34m.\u001b[0m\u001b[0mtranspose\u001b[0m\u001b[0;34m(\u001b[0m\u001b[0;34m)\u001b[0m\u001b[0;34m\u001b[0m\u001b[0m\n\u001b[0m\u001b[1;32m    567\u001b[0m         \u001b[0;32melif\u001b[0m \u001b[0mattr\u001b[0m \u001b[0;34m==\u001b[0m \u001b[0;34m'H'\u001b[0m\u001b[0;34m:\u001b[0m\u001b[0;34m\u001b[0m\u001b[0m\n\u001b[1;32m    568\u001b[0m             \u001b[0;32mreturn\u001b[0m \u001b[0mself\u001b[0m\u001b[0;34m.\u001b[0m\u001b[0mgetH\u001b[0m\u001b[0;34m(\u001b[0m\u001b[0;34m)\u001b[0m\u001b[0;34m\u001b[0m\u001b[0m\n",
      "\u001b[0;32m/Users/jilljenn/code/mangaki/venv/lib/python3.6/site-packages/scipy/sparse/csc.py\u001b[0m in \u001b[0;36mtranspose\u001b[0;34m(self, axes, copy)\u001b[0m\n\u001b[1;32m    120\u001b[0m         \u001b[0;32mfrom\u001b[0m \u001b[0;34m.\u001b[0m\u001b[0mcsr\u001b[0m \u001b[0;32mimport\u001b[0m \u001b[0mcsr_matrix\u001b[0m\u001b[0;34m\u001b[0m\u001b[0m\n\u001b[1;32m    121\u001b[0m         return csr_matrix((self.data, self.indices,\n\u001b[0;32m--> 122\u001b[0;31m                            self.indptr), (N, M), copy=copy)\n\u001b[0m\u001b[1;32m    123\u001b[0m \u001b[0;34m\u001b[0m\u001b[0m\n\u001b[1;32m    124\u001b[0m     \u001b[0mtranspose\u001b[0m\u001b[0;34m.\u001b[0m\u001b[0m__doc__\u001b[0m \u001b[0;34m=\u001b[0m \u001b[0mspmatrix\u001b[0m\u001b[0;34m.\u001b[0m\u001b[0mtranspose\u001b[0m\u001b[0;34m.\u001b[0m\u001b[0m__doc__\u001b[0m\u001b[0;34m\u001b[0m\u001b[0m\n",
      "\u001b[0;32m/Users/jilljenn/code/mangaki/venv/lib/python3.6/site-packages/scipy/sparse/compressed.py\u001b[0m in \u001b[0;36m__init__\u001b[0;34m(self, arg1, shape, dtype, copy)\u001b[0m\n\u001b[1;32m     81\u001b[0m         \u001b[0;31m# Read matrix dimensions given, if any\u001b[0m\u001b[0;34m\u001b[0m\u001b[0;34m\u001b[0m\u001b[0m\n\u001b[1;32m     82\u001b[0m         \u001b[0;32mif\u001b[0m \u001b[0mshape\u001b[0m \u001b[0;32mis\u001b[0m \u001b[0;32mnot\u001b[0m \u001b[0;32mNone\u001b[0m\u001b[0;34m:\u001b[0m\u001b[0;34m\u001b[0m\u001b[0m\n\u001b[0;32m---> 83\u001b[0;31m             \u001b[0mself\u001b[0m\u001b[0;34m.\u001b[0m\u001b[0mshape\u001b[0m \u001b[0;34m=\u001b[0m \u001b[0mshape\u001b[0m   \u001b[0;31m# spmatrix will check for errors\u001b[0m\u001b[0;34m\u001b[0m\u001b[0m\n\u001b[0m\u001b[1;32m     84\u001b[0m         \u001b[0;32melse\u001b[0m\u001b[0;34m:\u001b[0m\u001b[0;34m\u001b[0m\u001b[0m\n\u001b[1;32m     85\u001b[0m             \u001b[0;32mif\u001b[0m \u001b[0mself\u001b[0m\u001b[0;34m.\u001b[0m\u001b[0mshape\u001b[0m \u001b[0;32mis\u001b[0m \u001b[0;32mNone\u001b[0m\u001b[0;34m:\u001b[0m\u001b[0;34m\u001b[0m\u001b[0m\n",
      "\u001b[0;32m/Users/jilljenn/code/mangaki/venv/lib/python3.6/site-packages/scipy/sparse/base.py\u001b[0m in \u001b[0;36mset_shape\u001b[0;34m(self, shape)\u001b[0m\n\u001b[1;32m     90\u001b[0m             \u001b[0;32mraise\u001b[0m \u001b[0mValueError\u001b[0m\u001b[0;34m(\u001b[0m\u001b[0;34m'invalid shape'\u001b[0m\u001b[0;34m)\u001b[0m\u001b[0;34m\u001b[0m\u001b[0m\n\u001b[1;32m     91\u001b[0m \u001b[0;34m\u001b[0m\u001b[0m\n\u001b[0;32m---> 92\u001b[0;31m         \u001b[0;32mif\u001b[0m \u001b[0;34m(\u001b[0m\u001b[0mself\u001b[0m\u001b[0;34m.\u001b[0m\u001b[0m_shape\u001b[0m \u001b[0;34m!=\u001b[0m \u001b[0mshape\u001b[0m\u001b[0;34m)\u001b[0m \u001b[0;32mand\u001b[0m \u001b[0;34m(\u001b[0m\u001b[0mself\u001b[0m\u001b[0;34m.\u001b[0m\u001b[0m_shape\u001b[0m \u001b[0;32mis\u001b[0m \u001b[0;32mnot\u001b[0m \u001b[0;32mNone\u001b[0m\u001b[0;34m)\u001b[0m\u001b[0;34m:\u001b[0m\u001b[0;34m\u001b[0m\u001b[0m\n\u001b[0m\u001b[1;32m     93\u001b[0m             \u001b[0;32mtry\u001b[0m\u001b[0;34m:\u001b[0m\u001b[0;34m\u001b[0m\u001b[0m\n\u001b[1;32m     94\u001b[0m                 \u001b[0mself\u001b[0m \u001b[0;34m=\u001b[0m \u001b[0mself\u001b[0m\u001b[0;34m.\u001b[0m\u001b[0mreshape\u001b[0m\u001b[0;34m(\u001b[0m\u001b[0mshape\u001b[0m\u001b[0;34m)\u001b[0m\u001b[0;34m\u001b[0m\u001b[0m\n",
      "\u001b[0;31mKeyboardInterrupt\u001b[0m: "
     ]
    }
   ],
   "source": [
    "from sklearn.metrics import mean_squared_error\n",
    "from collections import deque\n",
    "import time\n",
    "import random\n",
    "import sys\n",
    "\n",
    "mfgp = MFGP()\n",
    "prediction = mfgp.predict(item_batch, rate_batch, pred_batch)\n",
    "\n",
    "global_step = tf.contrib.framework.get_or_create_global_step()\n",
    "loss, train_op, (cov, defpos, X_batch) = mfgp.optimization(item_batch, rate_batch, learning_rate=0.0001)\n",
    "\n",
    "init_op = tf.global_variables_initializer()\n",
    "with tf.Session() as sess:\n",
    "    sess.run(init_op)\n",
    "    print(\" | \".join([\"user_id\", \"epoch\", \"train_error\", \"val_error\", \"elapsed_time\"]))\n",
    "    errors = []\n",
    "    for epoch in range(50):\n",
    "        cross = list(train_users)\n",
    "        random.shuffle(cross)\n",
    "        train_preds = []\n",
    "        train_ratings = []\n",
    "        for user_id in cross:\n",
    "            train_batch = train[:, user_id]\n",
    "            if train_batch.getnnz() == 0:\n",
    "                continue\n",
    "            items_rated, ratings = train_batch.indices, to_matrix(train_batch.data)\n",
    "            try:\n",
    "                sess.run(train_op, feed_dict={item_batch: items_rated,\n",
    "                                              rate_batch: ratings,\n",
    "                                              pred_batch: items_rated})\n",
    "            except Exception as e:\n",
    "                print('Error for %d (%s): %s' % (user_id, str(items_rated), sys.exc_info()[0]))\n",
    "                print('Sigma', mfgp.sigma.eval(), 'alpha_w', mfgp.alpha_w.eval())\n",
    "                print(sess.run([tf.shape(X_batch), X_batch], feed_dict={item_batch: items_rated, rate_batch: ratings, pred_batch: items_rated}))\n",
    "                print(sess.run(tf.matrix_determinant(defpos), feed_dict={item_batch: items_rated, rate_batch: ratings, pred_batch: items_rated}))\n",
    "                print(sess.run(tf.matrix_determinant(cov), feed_dict={item_batch: items_rated, rate_batch: ratings, pred_batch: items_rated}))\n",
    "                print(e.message)\n",
    "                print(sys.exc_info()[0].__doc__)\n",
    "\n",
    "        # End of train epoch, start test\n",
    "        if epoch % 1 == 0:\n",
    "            total_nll = []\n",
    "            test_truth = []\n",
    "            test_preds = []\n",
    "            for user_id in train_users:\n",
    "                train_batch = train[:, user_id]\n",
    "                test_batch = test[:, user_id]\n",
    "                items_rated, ratings = train_batch.indices, to_matrix(train_batch.data)\n",
    "                items_to_pred, truth = test_batch.indices, test_batch.data\n",
    "                try:\n",
    "                    this_user_nll, train_pred = sess.run([loss, prediction], feed_dict={item_batch: items_rated,\n",
    "                                                                                        rate_batch: ratings,\n",
    "                                                                                        pred_batch: items_rated})\n",
    "                except:\n",
    "                    print('Error for train %d (%s): %s' % (user_id, str(items_rated), sys.exc_info()[0]))\n",
    "                try:\n",
    "                    test_pred = sess.run(prediction, feed_dict={item_batch: items_rated,\n",
    "                                                                rate_batch: ratings,\n",
    "                                                                pred_batch: items_to_pred})\n",
    "                except:\n",
    "                    print('Error for test %d (%s): %s' % (user_id, str(items_to_pred), sys.exc_info()[0]))\n",
    "                total_nll.append(this_user_nll)\n",
    "                train_ratings.extend(ratings)\n",
    "                train_preds.extend(train_pred)\n",
    "                test_truth.extend(truth)\n",
    "                test_preds.extend(test_pred)\n",
    "            train_rmse = np.sqrt(mean_squared_error(train_ratings, train_preds))            \n",
    "            train_stupid = np.sqrt(mean_squared_error(train_ratings, [0] * len(train_ratings)))            \n",
    "            test_rmse = np.sqrt(mean_squared_error(test_truth, test_preds))\n",
    "            test_stupid = np.sqrt(mean_squared_error(test_truth, [0] * len(test_truth)))\n",
    "            print(\"epoch={:3d} train_rmse={:f} ({:f}) test_rmse={:f} ({:f}) total_nll={:f} sigma={:f} alpha_w={:f}\"\n",
    "                  .format(epoch, train_rmse, train_stupid, test_rmse, test_stupid,\n",
    "                          sum(total_nll), abs(float(mfgp.sigma.eval())), abs(float(mfgp.alpha_w.eval()))))\n",
    "    print('learned sigma')\n",
    "    print(mfgp.sigma.eval())\n",
    "    print('learned alpha_w')\n",
    "    print(mfgp.alpha_w.eval())\n",
    "    print('learned x')\n",
    "    print(mfgp.x_item.eval())"
   ]
  },
  {
   "cell_type": "markdown",
   "metadata": {},
   "source": [
    "(The error is because it was interrupted.)\n",
    "\n",
    "As you can see, the learning stops when the stupid RMSE (every prediction is 0) is obtained."
   ]
  },
  {
   "cell_type": "markdown",
   "metadata": {},
   "source": [
    "# Meanwhile, Alternating Least Squares…"
   ]
  },
  {
   "cell_type": "code",
   "execution_count": 8,
   "metadata": {},
   "outputs": [
    {
     "data": {
      "text/plain": [
       "<2071x10086 sparse matrix of type '<class 'numpy.float64'>'\n",
       "\twith 333647 stored elements in Compressed Sparse Row format>"
      ]
     },
     "execution_count": 8,
     "metadata": {},
     "output_type": "execute_result"
    }
   ],
   "source": [
    "mangaki"
   ]
  },
  {
   "cell_type": "code",
   "execution_count": 9,
   "metadata": {},
   "outputs": [
    {
     "data": {
      "text/plain": [
       "array([ 2. ,  2. ,  2. ,  2. ,  2. ,  2. ,  2. ,  0.1,  2. ,  0.1])"
      ]
     },
     "execution_count": 9,
     "metadata": {},
     "output_type": "execute_result"
    }
   ],
   "source": [
    "mangaki.data[:10]"
   ]
  },
  {
   "cell_type": "code",
   "execution_count": 10,
   "metadata": {
    "collapsed": true
   },
   "outputs": [],
   "source": [
    "from sklearn.model_selection import ShuffleSplit\n",
    "\n",
    "splitter = ShuffleSplit(n_splits=1, test_size=0.2)\n",
    "X_train = []\n",
    "y_train = []\n",
    "X_test = []\n",
    "y_test = []\n",
    "for i_train, i_test in splitter.split(range(D)):\n",
    "    i_train = set(i_train)\n",
    "    i_test = set(i_test)\n",
    "    for (user_id, work_id), rating in zip(dataset.anonymized.X, dataset.anonymized.y):\n",
    "        if user_id in i_train:\n",
    "            X_train.append((user_id, work_id))\n",
    "            y_train.append(rating)\n",
    "        else:\n",
    "            X_test.append((user_id, work_id))\n",
    "            y_test.append(rating)\n",
    "X_train = np.array(X_train)\n",
    "y_train = np.array(y_train)\n",
    "X_test = np.array(X_test)\n",
    "y_test = np.array(y_test)"
   ]
  },
  {
   "cell_type": "code",
   "execution_count": 11,
   "metadata": {},
   "outputs": [
    {
     "data": {
      "text/plain": [
       "(266843, 66804)"
      ]
     },
     "execution_count": 11,
     "metadata": {},
     "output_type": "execute_result"
    }
   ],
   "source": [
    "len(X_train), len(X_test)"
   ]
  },
  {
   "cell_type": "code",
   "execution_count": 12,
   "metadata": {},
   "outputs": [
    {
     "name": "stdout",
     "output_type": "stream",
     "text": [
      "Computing M: (2071 × 10086)\n",
      "Chrono: fill and center matrix [0q, 781ms]\n",
      "Shapes (2071, 20) (20, 10086)\n",
      "Chrono: factor matrix [0q, 6151ms]\n",
      "Train RMSE= 0.897150508249\n",
      "Test RMSE= 1.77297204593\n"
     ]
    }
   ],
   "source": [
    "from mangaki.algo.als import MangakiALS\n",
    "\n",
    "def compute_all_errors(X_train, y_train, X_test, y_test):\n",
    "    y_train_pred = als.predict(X_train)\n",
    "    print('Train RMSE=', als.compute_rmse(y_train, y_train_pred))\n",
    "    y_test_pred = als.predict(X_test)\n",
    "    print('Test RMSE=', als.compute_rmse(y_test, y_test_pred))\n",
    "\n",
    "als = MangakiALS()\n",
    "als.set_parameters(dataset.anonymized.nb_users, dataset.anonymized.nb_works)\n",
    "als.fit(X_train, y_train)\n",
    "compute_all_errors(X_train, y_train, X_test, y_test)"
   ]
  },
  {
   "cell_type": "code",
   "execution_count": 47,
   "metadata": {},
   "outputs": [
    {
     "data": {
      "text/plain": [
       "0.89709726128860334"
      ]
     },
     "execution_count": 47,
     "metadata": {},
     "output_type": "execute_result"
    }
   ],
   "source": [
    "y_pred = als.predict(X_train)\n",
    "(y_train - y_pred).std()"
   ]
  },
  {
   "cell_type": "markdown",
   "metadata": {},
   "source": [
    "And the learned rows of $U$ seem Gaussian!"
   ]
  },
  {
   "cell_type": "code",
   "execution_count": 14,
   "metadata": {},
   "outputs": [
    {
     "data": {
      "text/plain": [
       "(array([   2.,   22.,  110.,  536.,  702.,  423.,  212.,   60.,    3.,    1.]),\n",
       " array([-1.15588791, -0.85998928, -0.56409066, -0.26819203,  0.0277066 ,\n",
       "         0.32360523,  0.61950386,  0.91540249,  1.21130112,  1.50719975,\n",
       "         1.80309838]),\n",
       " <a list of 10 Patch objects>)"
      ]
     },
     "execution_count": 14,
     "metadata": {},
     "output_type": "execute_result"
    },
    {
     "data": {
      "image/png": "[encoded data removed]",
      "text/plain": [
       "<matplotlib.figure.Figure at 0x11924a9e8>"
      ]
     },
     "metadata": {},
     "output_type": "display_data"
    }
   ],
   "source": [
    "%matplotlib inline\n",
    "import matplotlib.pyplot as plt\n",
    "plt.hist(als.U[:, 0])\n",
    "plt.hist(als.U[:, 1])\n",
    "plt.hist(als.U[:, 15])"
   ]
  },
  {
   "cell_type": "code",
   "execution_count": 15,
   "metadata": {},
   "outputs": [
    {
     "data": {
      "text/plain": [
       "(array([  1.00000000e+00,   6.00000000e+00,   4.80000000e+01,\n",
       "          4.33000000e+02,   2.23500000e+03,   5.08400000e+03,\n",
       "          1.64900000e+03,   5.25000000e+02,   9.70000000e+01,\n",
       "          8.00000000e+00]),\n",
       " array([-1.74293509, -1.41205609, -1.08117708, -0.75029808, -0.41941907,\n",
       "        -0.08854007,  0.24233894,  0.57321794,  0.90409694,  1.23497595,\n",
       "         1.56585495]),\n",
       " <a list of 10 Patch objects>)"
      ]
     },
     "execution_count": 15,
     "metadata": {},
     "output_type": "execute_result"
    },
    {
     "data": {
      "image/png": "[encoded data removed]",
      "text/plain": [
       "<matplotlib.figure.Figure at 0x11c5dbc50>"
      ]
     },
     "metadata": {},
     "output_type": "display_data"
    }
   ],
   "source": [
    "%matplotlib inline\n",
    "import matplotlib.pyplot as plt\n",
    "plt.hist(als.VT.T[:, 17])\n",
    "plt.hist(als.VT.T[:, 5])"
   ]
  },
  {
   "cell_type": "markdown",
   "metadata": {},
   "source": [
    "Maybe it does not hold for $V$."
   ]
  },
  {
   "cell_type": "code",
   "execution_count": 16,
   "metadata": {},
   "outputs": [
    {
     "data": {
      "text/plain": [
       "<matplotlib.image.AxesImage at 0x11baabbe0>"
      ]
     },
     "execution_count": 16,
     "metadata": {},
     "output_type": "execute_result"
    },
    {
     "data": {
      "image/png": "[encoded data removed]",
      "text/plain": [
       "<matplotlib.figure.Figure at 0x11c5dbdd8>"
      ]
     },
     "metadata": {},
     "output_type": "display_data"
    }
   ],
   "source": [
    "%matplotlib inline\n",
    "\n",
    "cov = np.cov(als.U.T)\n",
    "plt.imshow(cov)"
   ]
  },
  {
   "cell_type": "code",
   "execution_count": 17,
   "metadata": {},
   "outputs": [
    {
     "data": {
      "text/plain": [
       "array([ 0.11225514,  0.1733645 ,  0.1489047 ,  0.14254672,  0.11873304,\n",
       "        0.14107898,  0.13984785,  0.14497964,  0.12017469,  0.14221501,\n",
       "        0.13320248,  0.16844708,  0.12730341,  0.12307339,  0.11632435,\n",
       "        0.1183549 ,  0.12517339,  0.13908909,  0.14348131,  0.12675317])"
      ]
     },
     "execution_count": 17,
     "metadata": {},
     "output_type": "execute_result"
    }
   ],
   "source": [
    "np.diag(cov)"
   ]
  },
  {
   "cell_type": "code",
   "execution_count": 18,
   "metadata": {},
   "outputs": [
    {
     "data": {
      "text/plain": [
       "(2071, 20)"
      ]
     },
     "execution_count": 18,
     "metadata": {},
     "output_type": "execute_result"
    }
   ],
   "source": [
    "als.U.shape"
   ]
  },
  {
   "cell_type": "code",
   "execution_count": 19,
   "metadata": {},
   "outputs": [
    {
     "data": {
      "text/plain": [
       "<matplotlib.image.AxesImage at 0x118cfed30>"
      ]
     },
     "execution_count": 19,
     "metadata": {},
     "output_type": "execute_result"
    },
    {
     "data": {
      "image/png": "[encoded data removed]",
      "text/plain": [
       "<matplotlib.figure.Figure at 0x1186842b0>"
      ]
     },
     "metadata": {},
     "output_type": "display_data"
    }
   ],
   "source": [
    "%matplotlib inline\n",
    "\n",
    "cov = np.cov(als.VT)\n",
    "plt.imshow(cov)"
   ]
  },
  {
   "cell_type": "code",
   "execution_count": 20,
   "metadata": {},
   "outputs": [
    {
     "data": {
      "text/plain": [
       "array([ 0.10101528,  0.1203682 ,  0.09610442,  0.1022576 ,  0.08304684,\n",
       "        0.09545736,  0.0882099 ,  0.09282331,  0.11392216,  0.08890986,\n",
       "        0.09996638,  0.11101553,  0.08921969,  0.10007125,  0.10611973,\n",
       "        0.10844735,  0.10683757,  0.10061473,  0.09488392,  0.09897513])"
      ]
     },
     "execution_count": 20,
     "metadata": {},
     "output_type": "execute_result"
    }
   ],
   "source": [
    "np.diag(cov)"
   ]
  },
  {
   "cell_type": "markdown",
   "metadata": {},
   "source": [
    "Learned components are independent."
   ]
  },
  {
   "cell_type": "code",
   "execution_count": 22,
   "metadata": {},
   "outputs": [
    {
     "data": {
      "text/plain": [
       "0.88693012458689302"
      ]
     },
     "execution_count": 22,
     "metadata": {},
     "output_type": "execute_result"
    }
   ],
   "source": [
    "als.means.mean()  # Global bias"
   ]
  },
  {
   "cell_type": "code",
   "execution_count": 38,
   "metadata": {},
   "outputs": [
    {
     "data": {
      "text/plain": [
       "104"
      ]
     },
     "execution_count": 38,
     "metadata": {},
     "output_type": "execute_result"
    }
   ],
   "source": [
    "PIG = list(i_test)[100]\n",
    "pig = mangaki[PIG, :]\n",
    "all_ratings = pig.data\n",
    "all_ratings -= als.means.mean()\n",
    "pig.getnnz()"
   ]
  },
  {
   "cell_type": "code",
   "execution_count": 108,
   "metadata": {},
   "outputs": [],
   "source": [
    "from sklearn.gaussian_process.kernels import DotProduct\n",
    "from sklearn.gaussian_process import GaussianProcessRegressor\n",
    "\n",
    "kernel = 0.1 * DotProduct(sigma_0=0.9)  # Kernel that will be used for both GP and DPP\n",
    "gpr = GaussianProcessRegressor(kernel=kernel, normalize_y=True, optimizer=None)"
   ]
  },
  {
   "cell_type": "code",
   "execution_count": 110,
   "metadata": {},
   "outputs": [
    {
     "name": "stdout",
     "output_type": "stream",
     "text": [
      "5 rmse 0.745689988808\n",
      "[ 1.11306988  1.11306988  1.11306988  1.11306988 -0.38693012] [ 1.11306988  1.11306988  1.11306988  1.11306988 -0.38693012]\n",
      "10 rmse 0.869461518924\n",
      "[ 1.11306987  1.11306988  1.11306988  1.11306988 -0.38693012] [ 1.11306988  1.11306988  1.11306988  1.11306988 -0.38693012]\n",
      "15 rmse 1.4189054183\n",
      "[ 1.11306987  1.11306988  1.11306988  1.11306988 -0.38693012] [ 1.11306988  1.11306988  1.11306988  1.11306988 -0.38693012]\n",
      "20 rmse 2.57250137203\n",
      "[ 1.11306979  1.11307     1.11306993  1.11306989 -0.38693004] [ 1.11306988  1.11306988  1.11306988  1.11306988 -0.38693012]\n",
      "25 rmse 1.12084966981\n",
      "[ 0.98371363  1.52918914  1.15298783  1.10259591 -0.23036836] [ 1.11306988  1.11306988  1.11306988  1.11306988 -0.38693012]\n",
      "30 rmse 0.912494656678\n",
      "[ 0.79617114  1.19095487  1.2228753   1.2304141   0.46180827] [ 1.11306988  1.11306988  1.11306988  1.11306988 -0.38693012]\n",
      "35 rmse 0.729494758221\n",
      "[ 0.56374931  1.26979612  1.15523667  1.23166962  0.25857377] [ 1.11306988  1.11306988  1.11306988  1.11306988 -0.38693012]\n",
      "40 rmse 0.713871659633\n",
      "[ 0.60520372  1.18234024  1.23942647  1.32841692  0.22636328] [ 1.11306988  1.11306988  1.11306988  1.11306988 -0.38693012]\n",
      "45 rmse 0.688444731679\n",
      "[ 0.4080554   1.08989529  1.00898857  1.15840098  0.37227523] [ 1.11306988  1.11306988  1.11306988  1.11306988 -0.38693012]\n",
      "50 rmse 0.65360498452\n",
      "[ 0.22069819  1.0390733   1.21431811  1.35280927  0.53070434] [ 1.11306988  1.11306988  1.11306988  1.11306988 -0.38693012]\n",
      "55 rmse 0.681267010564\n",
      "[ 0.19802845  1.0677445   1.08712548  1.44205838  0.43201246] [ 1.11306988  1.11306988  1.11306988  1.11306988 -0.38693012]\n",
      "60 rmse 0.630817740475\n",
      "[ 0.3149221   1.05513501  1.12284541  1.38081622  0.33031869] [ 1.11306988  1.11306988  1.11306988  1.11306988 -0.38693012]\n",
      "65 rmse 0.632192001612\n",
      "[ 0.31290004  1.09987583  1.16029372  1.25334363  0.28728835] [ 1.11306988  1.11306988  1.11306988  1.11306988 -0.38693012]\n",
      "70 rmse 0.635067545398\n",
      "[ 0.36974129  1.0328215   1.21997293  1.11843141  0.18378814] [ 1.11306988  1.11306988  1.11306988  1.11306988 -0.38693012]\n",
      "75 rmse 0.597298253597\n",
      "[ 0.22246529  1.06292967  1.18845503  1.17632273  0.2207427 ] [ 1.11306988  1.11306988  1.11306988  1.11306988 -0.38693012]\n",
      "80 rmse 0.593865584895\n",
      "[ 0.2242481   1.07248657  1.11242597  1.19351118  0.26582067] [ 1.11306988  1.11306988  1.11306988  1.11306988 -0.38693012]\n",
      "85 rmse 0.58394050924\n",
      "[ 0.14202326  1.07363287  0.9531025   1.16115259  0.32684401] [ 1.11306988  1.11306988  1.11306988  1.11306988 -0.38693012]\n",
      "90 rmse 0.595780396668\n",
      "[ 0.30102948  1.02620248  0.79492692  1.25277547  0.31557015] [ 1.11306988  1.11306988  1.11306988  1.11306988 -0.38693012]\n",
      "95 rmse 0.584755072386\n",
      "[ 0.30548821  1.02707355  0.81745408  1.02948771  0.42052039] [ 1.11306988  1.11306988  1.11306988  1.11306988 -0.38693012]\n",
      "100 rmse 0.573924378141\n",
      "[ 0.36327043  1.07209363  0.87435594  1.14430395  0.45232072] [ 1.11306988  1.11306988  1.11306988  1.11306988 -0.38693012]\n"
     ]
    },
    {
     "data": {
      "text/plain": [
       "[<matplotlib.lines.Line2D at 0x12036c898>]"
      ]
     },
     "execution_count": 110,
     "metadata": {},
     "output_type": "execute_result"
    },
    {
     "data": {
      "image/png": "[encoded data removed]",
      "text/plain": [
       "<matplotlib.figure.Figure at 0x1202a2a20>"
      ]
     },
     "metadata": {},
     "output_type": "display_data"
    }
   ],
   "source": [
    "from sklearn.metrics import mean_squared_error\n",
    "\n",
    "def fix(x):\n",
    "    x[x > 4] = 4\n",
    "    x[x < -2] = -2\n",
    "\n",
    "BATCH_SIZE = 5\n",
    "steps = []\n",
    "errors = []\n",
    "for t in range(BATCH_SIZE, pig.getnnz() + 1, BATCH_SIZE):\n",
    "    steps.append(t)\n",
    "    work_ids = pig.indices[:t]\n",
    "    ratings = pig.data[:t]\n",
    "    gpr.fit(als.VT.T[work_ids], ratings)\n",
    "    y_pred = gpr.predict(als.VT.T[pig.indices])\n",
    "    fix(y_pred)\n",
    "    rmse = mean_squared_error(pig.data, y_pred) ** 0.5\n",
    "    errors.append(rmse)\n",
    "    print(t, 'rmse', rmse)\n",
    "    print(y_pred[:5], pig.data[:5])\n",
    "    #print(y_pred)\n",
    "    #print(pig.data)\n",
    "    #print(pig.indices[y_pred > 10])\n",
    "plt.plot(steps, errors)"
   ]
  },
  {
   "cell_type": "code",
   "execution_count": 111,
   "metadata": {
    "collapsed": true
   },
   "outputs": [],
   "source": [
    "guilty = pig.indices[y_pred > 10]"
   ]
  },
  {
   "cell_type": "code",
   "execution_count": 112,
   "metadata": {},
   "outputs": [
    {
     "data": {
      "text/plain": [
       "array([], dtype=float64)"
      ]
     },
     "execution_count": 112,
     "metadata": {},
     "output_type": "execute_result"
    }
   ],
   "source": [
    "pig.data[y_pred > 10]"
   ]
  },
  {
   "cell_type": "code",
   "execution_count": 114,
   "metadata": {},
   "outputs": [
    {
     "name": "stderr",
     "output_type": "stream",
     "text": [
      "/Users/jilljenn/code/mangaki/venv/lib/python3.6/site-packages/matplotlib/axes/_base.py:2903: UserWarning: Attempting to set identical left==right results\n",
      "in singular transformations; automatically expanding.\n",
      "left=-0.5, right=-0.5\n",
      "  'left=%s, right=%s') % (left, right))\n",
      "/Users/jilljenn/code/mangaki/venv/lib/python3.6/site-packages/matplotlib/axes/_base.py:3179: UserWarning: Attempting to set identical bottom==top results\n",
      "in singular transformations; automatically expanding.\n",
      "bottom=-0.5, top=-0.5\n",
      "  'bottom=%s, top=%s') % (bottom, top))\n"
     ]
    },
    {
     "data": {
      "text/plain": [
       "<matplotlib.image.AxesImage at 0x1205140b8>"
      ]
     },
     "execution_count": 114,
     "metadata": {},
     "output_type": "execute_result"
    },
    {
     "data": {
      "image/png": "[encoded data removed]",
      "text/plain": [
       "<matplotlib.figure.Figure at 0x1204b40f0>"
      ]
     },
     "metadata": {},
     "output_type": "display_data"
    }
   ],
   "source": [
    "plt.imshow(np.cov(als.VT.T[guilty]))"
   ]
  },
  {
   "cell_type": "code",
   "execution_count": 115,
   "metadata": {},
   "outputs": [
    {
     "data": {
      "text/plain": [
       "0.316**2 * DotProduct(sigma_0=0.9)"
      ]
     },
     "execution_count": 115,
     "metadata": {},
     "output_type": "execute_result"
    }
   ],
   "source": [
    "gpr.kernel_"
   ]
  },
  {
   "cell_type": "code",
   "execution_count": 116,
   "metadata": {},
   "outputs": [
    {
     "data": {
      "text/plain": [
       "{'alpha': 1e-10,\n",
       " 'copy_X_train': True,\n",
       " 'kernel': 0.316**2 * DotProduct(sigma_0=0.9),\n",
       " 'kernel__k1': 0.316**2,\n",
       " 'kernel__k1__constant_value': 0.1,\n",
       " 'kernel__k1__constant_value_bounds': (1e-05, 100000.0),\n",
       " 'kernel__k2': DotProduct(sigma_0=0.9),\n",
       " 'kernel__k2__sigma_0': 0.9,\n",
       " 'kernel__k2__sigma_0_bounds': (1e-05, 100000.0),\n",
       " 'n_restarts_optimizer': 0,\n",
       " 'normalize_y': True,\n",
       " 'optimizer': None,\n",
       " 'random_state': None}"
      ]
     },
     "execution_count": 116,
     "metadata": {},
     "output_type": "execute_result"
    }
   ],
   "source": [
    "gpr.get_params()"
   ]
  },
  {
   "cell_type": "code",
   "execution_count": 117,
   "metadata": {},
   "outputs": [
    {
     "data": {
      "text/plain": [
       "<matplotlib.image.AxesImage at 0x12058e828>"
      ]
     },
     "execution_count": 117,
     "metadata": {},
     "output_type": "execute_result"
    },
    {
     "data": {
      "image/png": "[encoded data removed]",
      "text/plain": [
       "<matplotlib.figure.Figure at 0x1204cbfd0>"
      ]
     },
     "metadata": {},
     "output_type": "display_data"
    }
   ],
   "source": [
    "#np.linalg.det()\n",
    "cov = np.cov(als.VT.T[pig.indices[:20]])\n",
    "plt.imshow(cov)"
   ]
  },
  {
   "cell_type": "code",
   "execution_count": 118,
   "metadata": {},
   "outputs": [
    {
     "data": {
      "text/plain": [
       "array([-0.04324693, -0.0654047 , -0.07023251, -0.05788303, -0.03246615,\n",
       "       -0.02028894,  0.01596553,  0.1666506 , -0.02917402, -0.03943211,\n",
       "       -0.02256469,  0.03953234, -0.01692961, -0.00287952, -0.07616222,\n",
       "       -0.05413225, -0.01386519, -0.01049249, -0.04917719, -0.01708599])"
      ]
     },
     "execution_count": 118,
     "metadata": {},
     "output_type": "execute_result"
    }
   ],
   "source": [
    "cov[7, :]"
   ]
  },
  {
   "cell_type": "code",
   "execution_count": 119,
   "metadata": {},
   "outputs": [
    {
     "data": {
      "text/plain": [
       "array([ 0.10772348,  0.1599239 ,  0.08245079,  0.06021867,  0.06670452,\n",
       "        0.07055525,  0.02440402, -0.0654047 ,  0.06170228,  0.02071746,\n",
       "        0.03780755,  0.04305861,  0.05331147,  0.05684537,  0.08930027,\n",
       "        0.11285103,  0.02181251,  0.00325082,  0.13864394,  0.02551144])"
      ]
     },
     "execution_count": 119,
     "metadata": {},
     "output_type": "execute_result"
    }
   ],
   "source": [
    "cov[1, :]"
   ]
  },
  {
   "cell_type": "code",
   "execution_count": 120,
   "metadata": {},
   "outputs": [
    {
     "data": {
      "text/plain": [
       "array([ 1, 60], dtype=int32)"
      ]
     },
     "execution_count": 120,
     "metadata": {},
     "output_type": "execute_result"
    }
   ],
   "source": [
    "pig.indices[[1, 18]]"
   ]
  },
  {
   "cell_type": "markdown",
   "metadata": {},
   "source": [
    "## Linear kernel"
   ]
  },
  {
   "cell_type": "code",
   "execution_count": 121,
   "metadata": {},
   "outputs": [],
   "source": [
    "from mangaki.utils.dpp2 import MangakiDPP\n",
    "\n",
    "rated = als.VT.T[pig.indices]\n",
    "dpp = MangakiDPP(vectors=rated)\n",
    "dpp.compute_similarity(kernel)\n",
    "dpp.preprocess()"
   ]
  },
  {
   "cell_type": "code",
   "execution_count": 122,
   "metadata": {},
   "outputs": [
    {
     "data": {
      "text/plain": [
       "array([24, 78, 40, 27, 70])"
      ]
     },
     "execution_count": 122,
     "metadata": {},
     "output_type": "execute_result"
    }
   ],
   "source": [
    "dpp.sample_k(5)"
   ]
  },
  {
   "cell_type": "code",
   "execution_count": 123,
   "metadata": {},
   "outputs": [
    {
     "data": {
      "text/plain": [
       "415"
      ]
     },
     "execution_count": 123,
     "metadata": {},
     "output_type": "execute_result"
    }
   ],
   "source": [
    "len(i_test)"
   ]
  },
  {
   "cell_type": "code",
   "execution_count": 124,
   "metadata": {
    "collapsed": true
   },
   "outputs": [],
   "source": [
    "all_vectors = als.VT.T[pig.indices]\n",
    "\n",
    "def bgs(nb_questions):\n",
    "    global all_vectors\n",
    "    rated_works = range(pig.getnnz())\n",
    "    P = all_vectors[rated_works].dot(all_vectors[rated_works].T)\n",
    "    nb_works = len(rated_works)\n",
    "    # print(nb_works, nb_questions)\n",
    "    kept_indices = set(range(nb_works))\n",
    "    for _ in range(nb_works - nb_questions):\n",
    "        k_min = None\n",
    "        error_min = float('inf')\n",
    "        for k in kept_indices:\n",
    "            kept = list(kept_indices - set([k]))\n",
    "            try:\n",
    "                #error = np.trace(np.linalg.inv(P[np.ix_(kept, kept)]))\n",
    "                #error = 1 / compute_score(kept, 'det')\n",
    "                error = np.linalg.det(np.linalg.inv(P[np.ix_(kept, kept)]))\n",
    "            except:\n",
    "                print('I had to take', nb_questions, 'but I must stop at', len(kept_indices))\n",
    "                return list(kept_indices)\n",
    "            if error < error_min:\n",
    "                error_min = error\n",
    "                k_min = k\n",
    "        kept_indices -= set([k_min])\n",
    "    sampled_indices = list(kept_indices)\n",
    "    return np.array(sampled_indices)"
   ]
  },
  {
   "cell_type": "code",
   "execution_count": 125,
   "metadata": {},
   "outputs": [
    {
     "name": "stderr",
     "output_type": "stream",
     "text": [
      "/Users/jilljenn/code/mangaki/venv/lib/python3.6/site-packages/numpy/linalg/linalg.py:1804: RuntimeWarning: overflow encountered in det\n",
      "  r = _umath_linalg.det(a, signature=signature)\n"
     ]
    },
    {
     "data": {
      "text/plain": [
       "array([ 70,  83,  93,  97, 103])"
      ]
     },
     "execution_count": 125,
     "metadata": {},
     "output_type": "execute_result"
    }
   ],
   "source": [
    "bgs(5)"
   ]
  },
  {
   "cell_type": "code",
   "execution_count": 73,
   "metadata": {},
   "outputs": [
    {
     "name": "stderr",
     "output_type": "stream",
     "text": [
      "/Users/jilljenn/code/mangaki/venv/lib/python3.6/site-packages/numpy/linalg/linalg.py:1804: RuntimeWarning: overflow encountered in det\n",
      "  r = _umath_linalg.det(a, signature=signature)\n"
     ]
    },
    {
     "name": "stdout",
     "output_type": "stream",
     "text": [
      "2 bgs rmse 1.20459856064\n",
      "2 dpp rmse 0.901974330182\n",
      "4 bgs rmse 0.817718951951\n",
      "4 dpp rmse 0.745240863763\n",
      "6 bgs rmse 0.934573621233\n",
      "6 dpp rmse 0.713974742477\n",
      "8 bgs rmse 1.04368582677\n",
      "8 dpp rmse 0.761847991505\n",
      "10 bgs rmse 1.0525071394\n",
      "10 dpp rmse 0.886099837173\n",
      "12 bgs rmse 1.09886955607\n",
      "12 dpp rmse 0.896087133108\n",
      "14 bgs rmse 1.07596580273\n",
      "14 dpp rmse 0.873953489742\n",
      "16 bgs rmse 1.4785504352\n",
      "16 dpp rmse 0.936972870008\n",
      "18 bgs rmse 1.64424772212\n",
      "18 dpp rmse 0.847927803148\n",
      "20 bgs rmse 2.82600480598\n",
      "20 dpp rmse 1.01754738568\n"
     ]
    },
    {
     "data": {
      "image/png": "[encoded data removed]",
      "text/plain": [
       "<matplotlib.figure.Figure at 0x11f6ea4e0>"
      ]
     },
     "metadata": {},
     "output_type": "display_data"
    }
   ],
   "source": [
    "import random\n",
    "from collections import defaultdict\n",
    "\n",
    "fig, axes = plt.subplots(3, 1, figsize=(16, 10))\n",
    "plot = {}\n",
    "plot['rmse'], plot['sigma'], plot['det'] = axes\n",
    "\n",
    "STRATEGIES = ['bgs', 'dpp'] # , 'random\n",
    "\n",
    "#gpr = GaussianProcessRegressor(kernel=0.1 * kernel)\n",
    "BATCH_SIZE = 40\n",
    "steps = []\n",
    "values = defaultdict(lambda: defaultdict(list))\n",
    "#sigmas = defaultdict(list)\n",
    "#errors = defaultdict(list)\n",
    "#errors_min = defaultdict(list)\n",
    "#errors_max = defaultdict(list)\n",
    "total_rated = pig.getnnz()\n",
    "for nb_rated in list(range(2, 21, 2)):\n",
    "    steps.append(nb_rated)\n",
    "    for strategy in STRATEGIES:\n",
    "        if strategy == 'random':\n",
    "            pos = random.sample(range(total_rated), nb_rated)\n",
    "        elif strategy == 'dpp':\n",
    "            pos = dpp.sample_k(nb_rated)\n",
    "        else:\n",
    "            pos = bgs(nb_rated)\n",
    "        work_ids = pig.indices[pos]\n",
    "        ratings = pig.data[pos]\n",
    "        X_asked = als.VT.T[work_ids]\n",
    "        values['det'][strategy].append(np.log(np.linalg.det(kernel(X_asked))))\n",
    "        \n",
    "        gpr.fit(X_asked, ratings)\n",
    "        y_pred, sigma = gpr.predict(als.VT.T[pig.indices], return_std=True)\n",
    "        rmse = mean_squared_error(pig.data, y_pred) ** 0.5\n",
    "        rmse_up = abs(rmse - mean_squared_error(pig.data, y_pred + 1.96 * sigma) ** 0.5)\n",
    "        rmse_down = abs(rmse - mean_squared_error(pig.data, y_pred - 1.96 * sigma) ** 0.5)\n",
    "        values['sigma'][strategy].append(sigma.mean())\n",
    "        values['rmse'][strategy].append(rmse)\n",
    "        values['rmse_up'][strategy].append(rmse_up)\n",
    "        values['rmse_down'][strategy].append(rmse_down)\n",
    "        print(nb_rated, strategy, 'rmse', rmse)\n",
    "        #print(y_pred[:5], pig.data[:5])\n",
    "curves = defaultdict(list)\n",
    "#sigma_curves = []\n",
    "for strategy in STRATEGIES:\n",
    "    for value in ['sigma', 'det']:\n",
    "        curves[value].append(plot[value].errorbar(steps, values[value][strategy], label=strategy))\n",
    "    curves['rmse'].append(plot['rmse'].errorbar(steps, values['rmse'][strategy],\n",
    "                                                yerr=[values['rmse_down'][strategy], values['rmse_up'][strategy]],\n",
    "                                                label=strategy))\n",
    "for value in ['rmse', 'sigma', 'det']:\n",
    "    plot[value].legend(handles=curves[value])\n",
    "plt.xlabel('Number of questions asked')\n",
    "plot['rmse'].set_ylabel('RMSE')\n",
    "plot['det'].set_ylabel('determinant')\n",
    "plot['sigma'].set_ylabel('variance')\n",
    "plt.show()"
   ]
  },
  {
   "cell_type": "markdown",
   "metadata": {},
   "source": [
    "## RBF kernel"
   ]
  },
  {
   "cell_type": "code",
   "execution_count": null,
   "metadata": {
    "collapsed": true
   },
   "outputs": [],
   "source": [
    "from sklearn.gaussian_process.kernels import RBF"
   ]
  },
  {
   "cell_type": "code",
   "execution_count": null,
   "metadata": {
    "collapsed": true
   },
   "outputs": [],
   "source": [
    "rated = als.VT.T[pig.indices]\n",
    "rbf = RBF()\n",
    "dpprbf = MangakiDPP(vectors=rated)\n",
    "dpprbf.L = rbf(dpprbf.vectors)\n",
    "dpprbf.preprocess()"
   ]
  },
  {
   "cell_type": "code",
   "execution_count": 29,
   "metadata": {},
   "outputs": [
    {
     "name": "stdout",
     "output_type": "stream",
     "text": [
      "5 random rmse 1.6270344761\n",
      "[ 0.86531955  0.70333149  0.79260592  0.88690749  0.92876861] [ 2.   0.1  0.1  2.   0.1]\n",
      "5 dpp rmse 1.71099387963\n",
      "[ 0.63912271  0.8910974   0.61973338  2.73586292  2.7038603 ] [ 2.   0.1  0.1  2.   0.1]\n",
      "10 random rmse 1.75939426098\n",
      "[ 0.11001701  0.18415077  0.1         0.25069322  0.25265116] [ 2.   0.1  0.1  2.   0.1]\n",
      "10 dpp rmse 1.90534313051\n",
      "[ 1.73340162  1.33753637  1.45665209  3.1725717   3.41254705] [ 2.   0.1  0.1  2.   0.1]\n",
      "20 random rmse 1.44856000153\n",
      "[ 2.          0.80399119  0.1         0.28785416  0.4658038 ] [ 2.   0.1  0.1  2.   0.1]\n",
      "20 dpp rmse 1.59686545526\n",
      "[ 2.          0.1         1.22820195  2.03961057  2.31972674] [ 2.   0.1  0.1  2.   0.1]\n",
      "50 random rmse 1.04633350583\n",
      "[-1.02865449  0.14984586  0.1         2.          0.1       ] [ 2.   0.1  0.1  2.   0.1]\n",
      "50 dpp rmse 0.996481075795\n",
      "[ 2.          0.1         0.1         0.31791444  0.1       ] [ 2.   0.1  0.1  2.   0.1]\n"
     ]
    },
    {
     "data": {
      "image/png": "[encoded data removed]",
      "text/plain": [
       "<matplotlib.figure.Figure at 0x11bb39208>"
      ]
     },
     "metadata": {},
     "output_type": "display_data"
    }
   ],
   "source": [
    "import random\n",
    "from collections import defaultdict\n",
    "\n",
    "kernel = DotProduct()\n",
    "gpr = GaussianProcessRegressor()\n",
    "BATCH_SIZE = 40\n",
    "steps = []\n",
    "errors = defaultdict(list)\n",
    "errors_min = defaultdict(list)\n",
    "errors_max = defaultdict(list)\n",
    "total_rated = pig.getnnz()\n",
    "for nb_rated in [5, 10, 20, 50]:\n",
    "    steps.append(nb_rated)\n",
    "    for strategy in ['random', 'dpp']:\n",
    "        if strategy == 'random':\n",
    "            pos = random.sample(range(total_rated), nb_rated)\n",
    "        else:\n",
    "            pos = dpprbf.sample_k(nb_rated)\n",
    "        work_ids = pig.indices[pos]\n",
    "        ratings = pig.data[pos]\n",
    "        \n",
    "        gpr.fit(als.VT.T[work_ids], ratings)\n",
    "        y_pred, sigma = gpr.predict(als.VT.T[pig.indices], return_std=True)\n",
    "        rmse = mean_squared_error(pig.data, y_pred) ** 0.5\n",
    "        rmse_max = mean_squared_error(pig.data, y_pred + 1.96 * sigma) ** 0.5\n",
    "        rmse_min = mean_squared_error(pig.data, y_pred - 1.96 * sigma) ** 0.5\n",
    "        errors[strategy].append(rmse)\n",
    "        errors_max[strategy].append(rmse)\n",
    "        errors_min[strategy].append(rmse)\n",
    "        print(nb_rated, strategy, 'rmse', rmse)\n",
    "        print(y_pred[:5], pig.data[:5])\n",
    "rand_curve = plt.errorbar(steps, errors['random'], yerr=[errors_min['random'], errors_max['random']], label='random')\n",
    "dpp_curve = plt.errorbar(steps, errors['dpp'], yerr=[errors_min['dpp'], errors_max['dpp']], color='r', label='dpp')\n",
    "plt.legend(handles=[rand_curve, dpp_curve])\n",
    "plt.show()"
   ]
  },
  {
   "cell_type": "code",
   "execution_count": 201,
   "metadata": {},
   "outputs": [],
   "source": [
    "X = np.random.random((5, 2))*100\n",
    "eig, _ = np.linalg.eig(X.dot(X.T))"
   ]
  },
  {
   "cell_type": "code",
   "execution_count": 204,
   "metadata": {},
   "outputs": [
    {
     "data": {
      "text/plain": [
       "array([ 18630.,     -0.,   3416.,      0.,     -0.])"
      ]
     },
     "execution_count": 204,
     "metadata": {},
     "output_type": "execute_result"
    }
   ],
   "source": [
    "np.round(eig)"
   ]
  },
  {
   "cell_type": "code",
   "execution_count": null,
   "metadata": {
    "collapsed": true
   },
   "outputs": [],
   "source": []
  }
 ],
 "metadata": {
  "kernelspec": {
   "display_name": "Django Shell-Plus",
   "language": "python",
   "name": "django_extensions"
  },
  "language_info": {
   "codemirror_mode": {
    "name": "ipython",
    "version": 3
   },
   "file_extension": ".py",
   "mimetype": "text/x-python",
   "name": "python",
   "nbconvert_exporter": "python",
   "pygments_lexer": "ipython3",
   "version": "3.6.3"
  }
 },
 "nbformat": 4,
 "nbformat_minor": 2
}
