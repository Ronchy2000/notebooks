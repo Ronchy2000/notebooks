{
 "cells": [
  {
   "cell_type": "markdown",
   "metadata": {},
   "source": [
    "# Non-linear Matrix Factorization with Gaussian Processes"
   ]
  },
  {
   "cell_type": "markdown",
   "metadata": {},
   "source": [
    "This is an attempt to reproduce [this ICML 2009 paper](http://people.ee.duke.edu/~lcarin/MatrixFactorization.pdf)."
   ]
  },
  {
   "cell_type": "code",
   "execution_count": 1,
   "metadata": {
    "collapsed": true
   },
   "outputs": [],
   "source": [
    "import tensorflow as tf\n",
    "DEVICE = \"/cpu:0\""
   ]
  },
  {
   "cell_type": "code",
   "execution_count": 2,
   "metadata": {
    "collapsed": true
   },
   "outputs": [],
   "source": [
    "from collections import Counter"
   ]
  },
  {
   "cell_type": "code",
   "execution_count": 3,
   "metadata": {
    "collapsed": true
   },
   "outputs": [],
   "source": [
    "N = 100  # items\n",
    "D = 2071  # users\n",
    "q = 10  # latent dimension"
   ]
  },
  {
   "cell_type": "code",
   "execution_count": 4,
   "metadata": {
    "collapsed": true
   },
   "outputs": [],
   "source": [
    "# Simulated data\n",
    "import numpy as np\n",
    "from sklearn.preprocessing import scale\n",
    "\n",
    "def get_simulated_data(true_alpha_x=5, true_alpha_w=2, true_sigma=1):\n",
    "    X = np.random.randint(50, size=(N, q))\n",
    "    #X = np.random.normal(0, 1/true_alpha_x, (N, q))\n",
    "    W = np.random.normal(0, 1/true_alpha_w, (D, q))\n",
    "    rating_rows = []\n",
    "    for i in range(N):\n",
    "        rating_rows.append(np.random.multivariate_normal(W.dot(X[i, :]), true_sigma ** 2 * np.eye(D)))\n",
    "    Y = np.array(rating_rows)\n",
    "    Y_scaled = scale(Y, axis=1, with_std=False)\n",
    "    return Y, Y_scaled"
   ]
  },
  {
   "cell_type": "code",
   "execution_count": 5,
   "metadata": {
    "collapsed": true
   },
   "outputs": [],
   "source": [
    "rating_values = {'dislike': 1, 'wontsee': 2, 'neutral': 3, 'willsee': 4, 'like': 5, 'favorite': 6}"
   ]
  },
  {
   "cell_type": "code",
   "execution_count": 6,
   "metadata": {
    "collapsed": true
   },
   "outputs": [],
   "source": [
    "# Real data\n",
    "from mangaki.algo.dataset import Dataset\n",
    "#from mangaki.utils.values import rating_values\n",
    "\n",
    "dataset = Dataset()\n",
    "dataset.load_csv('ratings-ordered.csv', convert=lambda choice: rating_values[choice])"
   ]
  },
  {
   "cell_type": "code",
   "execution_count": 7,
   "metadata": {
    "collapsed": true
   },
   "outputs": [],
   "source": [
    "from scipy.sparse import coo_matrix\n",
    "\n",
    "rows = dataset.anonymized.X[:, 0]\n",
    "cols = dataset.anonymized.X[:, 1]\n",
    "data = dataset.anonymized.y\n",
    "mangaki = coo_matrix((data, (rows, cols)), shape=(dataset.anonymized.nb_users, dataset.anonymized.nb_works)).tocsr()"
   ]
  },
  {
   "cell_type": "code",
   "execution_count": 8,
   "metadata": {
    "collapsed": true
   },
   "outputs": [],
   "source": [
    "from collections import defaultdict\n",
    "\n",
    "inverter = defaultdict(list)\n",
    "for user_id in range(D):\n",
    "    batch = mangaki[user_id, :]\n",
    "    c = Counter(batch.data)\n",
    "    inverter[tuple(c[rating_values[rating]] for rating in ['dislike', 'favorite', 'like', 'neutral', 'willsee', 'wontsee'])].append(user_id)"
   ]
  },
  {
   "cell_type": "code",
   "execution_count": 9,
   "metadata": {},
   "outputs": [
    {
     "data": {
      "text/plain": [
       "[162]"
      ]
     },
     "execution_count": 9,
     "metadata": {},
     "output_type": "execute_result"
    }
   ],
   "source": [
    "inverter[16, 23, 118, 9, 330, 68]"
   ]
  },
  {
   "cell_type": "code",
   "execution_count": 10,
   "metadata": {},
   "outputs": [
    {
     "data": {
      "text/plain": [
       "<2071x10086 sparse matrix of type '<class 'numpy.float64'>'\n",
       "\twith 333647 stored elements in Compressed Sparse Row format>"
      ]
     },
     "execution_count": 10,
     "metadata": {},
     "output_type": "execute_result"
    }
   ],
   "source": [
    "mangaki"
   ]
  },
  {
   "cell_type": "markdown",
   "metadata": {},
   "source": [
    "Now skip to ALS."
   ]
  },
  {
   "cell_type": "code",
   "execution_count": 132,
   "metadata": {},
   "outputs": [
    {
     "data": {
      "text/plain": [
       "<2071x100 sparse matrix of type '<class 'numpy.float64'>'\n",
       "\twith 78195 stored elements in Compressed Sparse Row format>"
      ]
     },
     "execution_count": 132,
     "metadata": {},
     "output_type": "execute_result"
    }
   ],
   "source": [
    "mangaki[:, :100]"
   ]
  },
  {
   "cell_type": "code",
   "execution_count": 133,
   "metadata": {
    "collapsed": true
   },
   "outputs": [],
   "source": [
    "Y = mangaki[:, :100].tocoo().T.tocsr()\n",
    "for movie_id in range(N):\n",
    "    row = Y[movie_id, :]\n",
    "    for user_id, replace in zip(row.indices, scale(row.data)):\n",
    "        Y[movie_id, user_id] = replace"
   ]
  },
  {
   "cell_type": "code",
   "execution_count": 134,
   "metadata": {
    "collapsed": true
   },
   "outputs": [],
   "source": [
    "dataset = coo_matrix(Y)\n",
    "#dataset = coo_matrix(Y_scaled)"
   ]
  },
  {
   "cell_type": "code",
   "execution_count": 135,
   "metadata": {},
   "outputs": [
    {
     "data": {
      "text/plain": [
       "<100x2071 sparse matrix of type '<class 'numpy.float64'>'\n",
       "\twith 78195 stored elements in Compressed Sparse Row format>"
      ]
     },
     "execution_count": 135,
     "metadata": {},
     "output_type": "execute_result"
    }
   ],
   "source": [
    "Y"
   ]
  },
  {
   "cell_type": "code",
   "execution_count": 136,
   "metadata": {},
   "outputs": [
    {
     "name": "stdout",
     "output_type": "stream",
     "text": [
      "nb users skipped 465 over 2071\n"
     ]
    }
   ],
   "source": [
    "# Prepare batches\n",
    "from sklearn.model_selection import ShuffleSplit\n",
    "\n",
    "# Simple split\n",
    "splitter = ShuffleSplit(n_splits=1, test_size=0.2)\n",
    "for i_train, i_test in splitter.split(dataset.data):\n",
    "    train = coo_matrix((dataset.data[i_train], (dataset.row[i_train], dataset.col[i_train])), shape=(N, D)).tocsc()\n",
    "    test = coo_matrix((dataset.data[i_test], (dataset.row[i_test], dataset.col[i_test])), shape=(N, D)).tocsc()\n",
    "\n",
    "# Split by user\n",
    "train_data = []\n",
    "train_row = []\n",
    "train_col = []\n",
    "test_data = []\n",
    "test_row = []\n",
    "test_col = []\n",
    "full = dataset.tocsc()\n",
    "nb_skip = 0\n",
    "train_users = set(range(D))\n",
    "for user_id in range(D):\n",
    "    this_user = full[:, user_id]\n",
    "    N_j = this_user.getnnz()\n",
    "    if N_j <= q:\n",
    "        train_users.remove(user_id)\n",
    "        nb_skip += 1\n",
    "        continue\n",
    "    for i_train, i_test in splitter.split(this_user.indices):\n",
    "        train_col.extend([user_id] * len(i_train))\n",
    "        train_row.extend(this_user.indices[i_train])\n",
    "        train_data.extend(this_user.data[i_train])\n",
    "        test_col.extend([user_id] * len(i_test))\n",
    "        test_row.extend(this_user.indices[i_test])\n",
    "        test_data.extend(this_user.data[i_test])\n",
    "print('nb users skipped', nb_skip, 'over', D)"
   ]
  },
  {
   "cell_type": "code",
   "execution_count": 137,
   "metadata": {
    "collapsed": true
   },
   "outputs": [],
   "source": [
    "assert len(train_data) == len(train_row)\n",
    "assert len(test_data) == len(test_row)"
   ]
  },
  {
   "cell_type": "code",
   "execution_count": 138,
   "metadata": {
    "collapsed": true
   },
   "outputs": [],
   "source": [
    "train = coo_matrix((train_data, (train_row, train_col)), shape=(N, D)).tocsc()\n",
    "test = coo_matrix((test_data, (test_row, test_col)), shape=(N, D)).tocsc()"
   ]
  },
  {
   "cell_type": "code",
   "execution_count": 139,
   "metadata": {},
   "outputs": [
    {
     "data": {
      "text/plain": [
       "<100x2071 sparse matrix of type '<class 'numpy.float64'>'\n",
       "\twith 60093 stored elements in Compressed Sparse Column format>"
      ]
     },
     "execution_count": 139,
     "metadata": {},
     "output_type": "execute_result"
    }
   ],
   "source": [
    "train"
   ]
  },
  {
   "cell_type": "code",
   "execution_count": 140,
   "metadata": {},
   "outputs": [
    {
     "data": {
      "text/plain": [
       "<100x2071 sparse matrix of type '<class 'numpy.float64'>'\n",
       "\twith 15842 stored elements in Compressed Sparse Column format>"
      ]
     },
     "execution_count": 140,
     "metadata": {},
     "output_type": "execute_result"
    }
   ],
   "source": [
    "test"
   ]
  },
  {
   "cell_type": "code",
   "execution_count": 141,
   "metadata": {
    "collapsed": true
   },
   "outputs": [],
   "source": [
    "item_batch = tf.placeholder(tf.int32, shape=[None], name=\"id_item\")\n",
    "rate_batch = tf.placeholder(tf.float32, shape=[None, None], name=\"rate\")\n",
    "pred_batch = tf.placeholder(tf.int32, shape=[None], name=\"id_pred\")"
   ]
  },
  {
   "cell_type": "code",
   "execution_count": 142,
   "metadata": {
    "collapsed": true
   },
   "outputs": [],
   "source": [
    "def log_det(cov):\n",
    "    return 2 * tf.reduce_sum(tf.log(tf.diag_part(tf.cholesky(cov))))"
   ]
  },
  {
   "cell_type": "code",
   "execution_count": 146,
   "metadata": {
    "collapsed": true
   },
   "outputs": [],
   "source": [
    "def kernel(X, Y):\n",
    "    return tf.matmul(X, tf.transpose(Y))\n",
    "\n",
    "class MFGP:\n",
    "    def __init__(self):\n",
    "        with tf.device(DEVICE):\n",
    "            with tf.variable_scope(\"conv1\"):\n",
    "                self.sigma = tf.Variable(1e-1, name=\"sigma\")  # tf.random_normal([1])\n",
    "                self.alpha_w = tf.Variable(tf.random_normal([1]), name=\"alpha_w\")\n",
    "                self.X_item = tf.Variable(tf.random_normal([N, q], stddev=5), name=\"embd_item\")\n",
    "\n",
    "    def predict(self, item_batch, rate_batch, pred_batch):\n",
    "        with tf.device(DEVICE):\n",
    "            X_batch = tf.nn.embedding_lookup(self.X_item, item_batch)\n",
    "            X_pred = tf.nn.embedding_lookup(self.X_item, pred_batch)\n",
    "            N_j = tf.shape(item_batch)[0]\n",
    "            cov = kernel(X_batch, X_batch) + self.sigma ** 2 * tf.eye(N_j)\n",
    "            s = tf.matmul(tf.matrix_inverse(cov), kernel(X_batch, X_pred))\n",
    "            prediction = tf.matmul(tf.transpose(s), rate_batch)\n",
    "        return tf.reshape(prediction, [-1])\n",
    "\n",
    "    def get_loss(self, item_batch, rate_batch):\n",
    "        with tf.device(DEVICE):\n",
    "            X_batch = tf.nn.embedding_lookup(self.X_item, item_batch)\n",
    "            XT_batch = tf.transpose(X_batch)\n",
    "            N_j = tf.shape(item_batch)[0]\n",
    "            defpos = kernel(X_batch, X_batch)\n",
    "            cov = 1/tf.abs(self.alpha_w) * defpos + self.sigma ** 2 * tf.eye(N_j)\n",
    "            # inv_cov = tf.matrix_inverse(cov)  # O(N_j^3)\n",
    "            cheap_inv = tf.matrix_inverse(tf.abs(self.alpha_w) * self.sigma ** (-2) * tf.eye(q)\n",
    "                                          + tf.matmul(XT_batch, X_batch))\n",
    "            inv_cov = self.sigma ** (-2) - self.sigma ** (-4) * tf.matmul(X_batch, tf.matmul(cheap_inv, XT_batch))  # O(q^3)\n",
    "            loss = (tf.cast(N_j, tf.float32) * log_det(cov)\n",
    "                    + tf.reshape(tf.matmul(tf.transpose(rate_batch), tf.matmul(inv_cov, rate_batch)), []))\n",
    "        return loss, (cov, defpos, X_batch)\n",
    "\n",
    "    def optimization(self, item_batch, rate_batch, learning_rate):\n",
    "        global_step = tf.train.get_global_step()\n",
    "        assert global_step is not None\n",
    "        with tf.device(DEVICE):\n",
    "            loss, (cov, defpos, X_batch) = self.get_loss(item_batch, rate_batch)\n",
    "            train_op = tf.train.MomentumOptimizer(learning_rate, 0.9, use_nesterov=True).minimize(loss, global_step=global_step, var_list=[self.X_item])\n",
    "        return loss, train_op, (cov, defpos, X_batch)"
   ]
  },
  {
   "cell_type": "code",
   "execution_count": 147,
   "metadata": {
    "collapsed": true
   },
   "outputs": [],
   "source": [
    "def to_matrix(l):\n",
    "    return np.array(l).reshape(len(l), 1)"
   ]
  },
  {
   "cell_type": "code",
   "execution_count": 148,
   "metadata": {},
   "outputs": [
    {
     "name": "stdout",
     "output_type": "stream",
     "text": [
      "user_id | epoch | train_error | val_error | elapsed_time\n",
      "epoch=  0 train_rmse=7.099235 (1.000710) test_rmse=6.157351 (1.003259) total_nll=-287224265.353516 sigma=0.100000 alpha_w=1.753959\n",
      "epoch=  1 train_rmse=2.079178 (1.000710) test_rmse=2.118881 (1.003259) total_nll=-298726846.699219 sigma=0.100000 alpha_w=1.753959\n",
      "epoch=  2 train_rmse=11.680286 (1.000710) test_rmse=9.852969 (1.003259) total_nll=-302750440.118164 sigma=0.100000 alpha_w=1.753959\n",
      "epoch=  3 train_rmse=19.395447 (1.000710) test_rmse=15.919051 (1.003259) total_nll=-304895133.985352 sigma=0.100000 alpha_w=1.753959\n",
      "epoch=  4 train_rmse=27.530071 (1.000710) test_rmse=28.348537 (1.003259) total_nll=-306099596.312500 sigma=0.100000 alpha_w=1.753959\n",
      "epoch=  5 train_rmse=9.603479 (1.000710) test_rmse=9.229228 (1.003259) total_nll=-307085520.960938 sigma=0.100000 alpha_w=1.753959\n"
     ]
    },
    {
     "ename": "KeyboardInterrupt",
     "evalue": "",
     "output_type": "error",
     "traceback": [
      "\u001b[0;31m---------------------------------------------------------------------------\u001b[0m",
      "\u001b[0;31mKeyboardInterrupt\u001b[0m                         Traceback (most recent call last)",
      "\u001b[0;32m<ipython-input-148-8270c7bbc49b>\u001b[0m in \u001b[0;36m<module>\u001b[0;34m()\u001b[0m\n\u001b[1;32m     46\u001b[0m             \u001b[0;32mfor\u001b[0m \u001b[0muser_id\u001b[0m \u001b[0;32min\u001b[0m \u001b[0mtrain_users\u001b[0m\u001b[0;34m:\u001b[0m\u001b[0;34m\u001b[0m\u001b[0m\n\u001b[1;32m     47\u001b[0m                 \u001b[0mtrain_batch\u001b[0m \u001b[0;34m=\u001b[0m \u001b[0mtrain\u001b[0m\u001b[0;34m[\u001b[0m\u001b[0;34m:\u001b[0m\u001b[0;34m,\u001b[0m \u001b[0muser_id\u001b[0m\u001b[0;34m]\u001b[0m\u001b[0;34m\u001b[0m\u001b[0m\n\u001b[0;32m---> 48\u001b[0;31m                 \u001b[0mtest_batch\u001b[0m \u001b[0;34m=\u001b[0m \u001b[0mtest\u001b[0m\u001b[0;34m[\u001b[0m\u001b[0;34m:\u001b[0m\u001b[0;34m,\u001b[0m \u001b[0muser_id\u001b[0m\u001b[0;34m]\u001b[0m\u001b[0;34m\u001b[0m\u001b[0m\n\u001b[0m\u001b[1;32m     49\u001b[0m                 \u001b[0mitems_rated\u001b[0m\u001b[0;34m,\u001b[0m \u001b[0mratings\u001b[0m \u001b[0;34m=\u001b[0m \u001b[0mtrain_batch\u001b[0m\u001b[0;34m.\u001b[0m\u001b[0mindices\u001b[0m\u001b[0;34m,\u001b[0m \u001b[0mto_matrix\u001b[0m\u001b[0;34m(\u001b[0m\u001b[0mtrain_batch\u001b[0m\u001b[0;34m.\u001b[0m\u001b[0mdata\u001b[0m\u001b[0;34m)\u001b[0m\u001b[0;34m\u001b[0m\u001b[0m\n\u001b[1;32m     50\u001b[0m                 \u001b[0mitems_to_pred\u001b[0m\u001b[0;34m,\u001b[0m \u001b[0mtruth\u001b[0m \u001b[0;34m=\u001b[0m \u001b[0mtest_batch\u001b[0m\u001b[0;34m.\u001b[0m\u001b[0mindices\u001b[0m\u001b[0;34m,\u001b[0m \u001b[0mtest_batch\u001b[0m\u001b[0;34m.\u001b[0m\u001b[0mdata\u001b[0m\u001b[0;34m\u001b[0m\u001b[0m\n",
      "\u001b[0;32m/Users/jilljenn/code/mangaki/venv/lib/python3.6/site-packages/scipy/sparse/csc.py\u001b[0m in \u001b[0;36m__getitem__\u001b[0;34m(self, key)\u001b[0m\n\u001b[1;32m    167\u001b[0m         if (isinstance(row, slice) or isinstance(col, slice) or\n\u001b[1;32m    168\u001b[0m                 isintlike(row) or isintlike(col)):\n\u001b[0;32m--> 169\u001b[0;31m             \u001b[0;32mreturn\u001b[0m \u001b[0mself\u001b[0m\u001b[0;34m.\u001b[0m\u001b[0mT\u001b[0m\u001b[0;34m[\u001b[0m\u001b[0mcol\u001b[0m\u001b[0;34m,\u001b[0m \u001b[0mrow\u001b[0m\u001b[0;34m]\u001b[0m\u001b[0;34m.\u001b[0m\u001b[0mT\u001b[0m\u001b[0;34m\u001b[0m\u001b[0m\n\u001b[0m\u001b[1;32m    170\u001b[0m         \u001b[0;31m# Things that return a sequence of values.\u001b[0m\u001b[0;34m\u001b[0m\u001b[0;34m\u001b[0m\u001b[0m\n\u001b[1;32m    171\u001b[0m         \u001b[0;32melse\u001b[0m\u001b[0;34m:\u001b[0m\u001b[0;34m\u001b[0m\u001b[0m\n",
      "\u001b[0;32m/Users/jilljenn/code/mangaki/venv/lib/python3.6/site-packages/scipy/sparse/base.py\u001b[0m in \u001b[0;36m__getattr__\u001b[0;34m(self, attr)\u001b[0m\n\u001b[1;32m    564\u001b[0m             \u001b[0;32mreturn\u001b[0m \u001b[0mself\u001b[0m\u001b[0;34m.\u001b[0m\u001b[0mtoarray\u001b[0m\u001b[0;34m(\u001b[0m\u001b[0;34m)\u001b[0m\u001b[0;34m\u001b[0m\u001b[0m\n\u001b[1;32m    565\u001b[0m         \u001b[0;32melif\u001b[0m \u001b[0mattr\u001b[0m \u001b[0;34m==\u001b[0m \u001b[0;34m'T'\u001b[0m\u001b[0;34m:\u001b[0m\u001b[0;34m\u001b[0m\u001b[0m\n\u001b[0;32m--> 566\u001b[0;31m             \u001b[0;32mreturn\u001b[0m \u001b[0mself\u001b[0m\u001b[0;34m.\u001b[0m\u001b[0mtranspose\u001b[0m\u001b[0;34m(\u001b[0m\u001b[0;34m)\u001b[0m\u001b[0;34m\u001b[0m\u001b[0m\n\u001b[0m\u001b[1;32m    567\u001b[0m         \u001b[0;32melif\u001b[0m \u001b[0mattr\u001b[0m \u001b[0;34m==\u001b[0m \u001b[0;34m'H'\u001b[0m\u001b[0;34m:\u001b[0m\u001b[0;34m\u001b[0m\u001b[0m\n\u001b[1;32m    568\u001b[0m             \u001b[0;32mreturn\u001b[0m \u001b[0mself\u001b[0m\u001b[0;34m.\u001b[0m\u001b[0mgetH\u001b[0m\u001b[0;34m(\u001b[0m\u001b[0;34m)\u001b[0m\u001b[0;34m\u001b[0m\u001b[0m\n",
      "\u001b[0;32m/Users/jilljenn/code/mangaki/venv/lib/python3.6/site-packages/scipy/sparse/csc.py\u001b[0m in \u001b[0;36mtranspose\u001b[0;34m(self, axes, copy)\u001b[0m\n\u001b[1;32m    120\u001b[0m         \u001b[0;32mfrom\u001b[0m \u001b[0;34m.\u001b[0m\u001b[0mcsr\u001b[0m \u001b[0;32mimport\u001b[0m \u001b[0mcsr_matrix\u001b[0m\u001b[0;34m\u001b[0m\u001b[0m\n\u001b[1;32m    121\u001b[0m         return csr_matrix((self.data, self.indices,\n\u001b[0;32m--> 122\u001b[0;31m                            self.indptr), (N, M), copy=copy)\n\u001b[0m\u001b[1;32m    123\u001b[0m \u001b[0;34m\u001b[0m\u001b[0m\n\u001b[1;32m    124\u001b[0m     \u001b[0mtranspose\u001b[0m\u001b[0;34m.\u001b[0m\u001b[0m__doc__\u001b[0m \u001b[0;34m=\u001b[0m \u001b[0mspmatrix\u001b[0m\u001b[0;34m.\u001b[0m\u001b[0mtranspose\u001b[0m\u001b[0;34m.\u001b[0m\u001b[0m__doc__\u001b[0m\u001b[0;34m\u001b[0m\u001b[0m\n",
      "\u001b[0;32m/Users/jilljenn/code/mangaki/venv/lib/python3.6/site-packages/scipy/sparse/compressed.py\u001b[0m in \u001b[0;36m__init__\u001b[0;34m(self, arg1, shape, dtype, copy)\u001b[0m\n\u001b[1;32m     81\u001b[0m         \u001b[0;31m# Read matrix dimensions given, if any\u001b[0m\u001b[0;34m\u001b[0m\u001b[0;34m\u001b[0m\u001b[0m\n\u001b[1;32m     82\u001b[0m         \u001b[0;32mif\u001b[0m \u001b[0mshape\u001b[0m \u001b[0;32mis\u001b[0m \u001b[0;32mnot\u001b[0m \u001b[0;32mNone\u001b[0m\u001b[0;34m:\u001b[0m\u001b[0;34m\u001b[0m\u001b[0m\n\u001b[0;32m---> 83\u001b[0;31m             \u001b[0mself\u001b[0m\u001b[0;34m.\u001b[0m\u001b[0mshape\u001b[0m \u001b[0;34m=\u001b[0m \u001b[0mshape\u001b[0m   \u001b[0;31m# spmatrix will check for errors\u001b[0m\u001b[0;34m\u001b[0m\u001b[0m\n\u001b[0m\u001b[1;32m     84\u001b[0m         \u001b[0;32melse\u001b[0m\u001b[0;34m:\u001b[0m\u001b[0;34m\u001b[0m\u001b[0m\n\u001b[1;32m     85\u001b[0m             \u001b[0;32mif\u001b[0m \u001b[0mself\u001b[0m\u001b[0;34m.\u001b[0m\u001b[0mshape\u001b[0m \u001b[0;32mis\u001b[0m \u001b[0;32mNone\u001b[0m\u001b[0;34m:\u001b[0m\u001b[0;34m\u001b[0m\u001b[0m\n",
      "\u001b[0;32m/Users/jilljenn/code/mangaki/venv/lib/python3.6/site-packages/scipy/sparse/base.py\u001b[0m in \u001b[0;36mset_shape\u001b[0;34m(self, shape)\u001b[0m\n\u001b[1;32m     90\u001b[0m             \u001b[0;32mraise\u001b[0m \u001b[0mValueError\u001b[0m\u001b[0;34m(\u001b[0m\u001b[0;34m'invalid shape'\u001b[0m\u001b[0;34m)\u001b[0m\u001b[0;34m\u001b[0m\u001b[0m\n\u001b[1;32m     91\u001b[0m \u001b[0;34m\u001b[0m\u001b[0m\n\u001b[0;32m---> 92\u001b[0;31m         \u001b[0;32mif\u001b[0m \u001b[0;34m(\u001b[0m\u001b[0mself\u001b[0m\u001b[0;34m.\u001b[0m\u001b[0m_shape\u001b[0m \u001b[0;34m!=\u001b[0m \u001b[0mshape\u001b[0m\u001b[0;34m)\u001b[0m \u001b[0;32mand\u001b[0m \u001b[0;34m(\u001b[0m\u001b[0mself\u001b[0m\u001b[0;34m.\u001b[0m\u001b[0m_shape\u001b[0m \u001b[0;32mis\u001b[0m \u001b[0;32mnot\u001b[0m \u001b[0;32mNone\u001b[0m\u001b[0;34m)\u001b[0m\u001b[0;34m:\u001b[0m\u001b[0;34m\u001b[0m\u001b[0m\n\u001b[0m\u001b[1;32m     93\u001b[0m             \u001b[0;32mtry\u001b[0m\u001b[0;34m:\u001b[0m\u001b[0;34m\u001b[0m\u001b[0m\n\u001b[1;32m     94\u001b[0m                 \u001b[0mself\u001b[0m \u001b[0;34m=\u001b[0m \u001b[0mself\u001b[0m\u001b[0;34m.\u001b[0m\u001b[0mreshape\u001b[0m\u001b[0;34m(\u001b[0m\u001b[0mshape\u001b[0m\u001b[0;34m)\u001b[0m\u001b[0;34m\u001b[0m\u001b[0m\n",
      "\u001b[0;31mKeyboardInterrupt\u001b[0m: "
     ]
    }
   ],
   "source": [
    "from sklearn.metrics import mean_squared_error\n",
    "from collections import deque\n",
    "import time\n",
    "import random\n",
    "import sys\n",
    "\n",
    "mfgp = MFGP()\n",
    "prediction = mfgp.predict(item_batch, rate_batch, pred_batch)\n",
    "\n",
    "global_step = tf.contrib.framework.get_or_create_global_step()\n",
    "loss, train_op, (cov, defpos, X_batch) = mfgp.optimization(item_batch, rate_batch, learning_rate=0.0001)\n",
    "\n",
    "init_op = tf.global_variables_initializer()\n",
    "with tf.Session() as sess:\n",
    "    sess.run(init_op)\n",
    "    print(\" | \".join([\"user_id\", \"epoch\", \"train_error\", \"val_error\", \"elapsed_time\"]))\n",
    "    errors = []\n",
    "    for epoch in range(50):\n",
    "        cross = list(train_users)\n",
    "        random.shuffle(cross)\n",
    "        train_preds = []\n",
    "        train_ratings = []\n",
    "        for user_id in cross:\n",
    "            train_batch = train[:, user_id]\n",
    "            if train_batch.getnnz() == 0:\n",
    "                continue\n",
    "            items_rated, ratings = train_batch.indices, to_matrix(train_batch.data)\n",
    "            try:\n",
    "                sess.run(train_op, feed_dict={item_batch: items_rated,\n",
    "                                              rate_batch: ratings,\n",
    "                                              pred_batch: items_rated})\n",
    "            except Exception as e:\n",
    "                print('Error for %d (%s): %s' % (user_id, str(items_rated), sys.exc_info()[0]))\n",
    "                print('Sigma', mfgp.sigma.eval(), 'alpha_w', mfgp.alpha_w.eval())\n",
    "                print(sess.run([tf.shape(X_batch), X_batch], feed_dict={item_batch: items_rated, rate_batch: ratings, pred_batch: items_rated}))\n",
    "                print(sess.run(tf.matrix_determinant(defpos), feed_dict={item_batch: items_rated, rate_batch: ratings, pred_batch: items_rated}))\n",
    "                print(sess.run(tf.matrix_determinant(cov), feed_dict={item_batch: items_rated, rate_batch: ratings, pred_batch: items_rated}))\n",
    "                print(e.message)\n",
    "                print(sys.exc_info()[0].__doc__)\n",
    "\n",
    "        # End of train epoch, start test\n",
    "        if epoch % 1 == 0:\n",
    "            total_nll = []\n",
    "            test_truth = []\n",
    "            test_preds = []\n",
    "            for user_id in train_users:\n",
    "                train_batch = train[:, user_id]\n",
    "                test_batch = test[:, user_id]\n",
    "                items_rated, ratings = train_batch.indices, to_matrix(train_batch.data)\n",
    "                items_to_pred, truth = test_batch.indices, test_batch.data\n",
    "                try:\n",
    "                    this_user_nll, train_pred = sess.run([loss, prediction], feed_dict={item_batch: items_rated,\n",
    "                                                                                        rate_batch: ratings,\n",
    "                                                                                        pred_batch: items_rated})\n",
    "                except:\n",
    "                    print('Error for train %d (%s): %s' % (user_id, str(items_rated), sys.exc_info()[0]))\n",
    "                try:\n",
    "                    test_pred = sess.run(prediction, feed_dict={item_batch: items_rated,\n",
    "                                                                rate_batch: ratings,\n",
    "                                                                pred_batch: items_to_pred})\n",
    "                except:\n",
    "                    print('Error for test %d (%s): %s' % (user_id, str(items_to_pred), sys.exc_info()[0]))\n",
    "                total_nll.append(this_user_nll)\n",
    "                train_ratings.extend(ratings)\n",
    "                train_preds.extend(train_pred)\n",
    "                test_truth.extend(truth)\n",
    "                test_preds.extend(test_pred)\n",
    "            train_rmse = np.sqrt(mean_squared_error(train_ratings, train_preds))            \n",
    "            train_stupid = np.sqrt(mean_squared_error(train_ratings, [0] * len(train_ratings)))            \n",
    "            test_rmse = np.sqrt(mean_squared_error(test_truth, test_preds))\n",
    "            test_stupid = np.sqrt(mean_squared_error(test_truth, [0] * len(test_truth)))\n",
    "            print(\"epoch={:3d} train_rmse={:f} ({:f}) test_rmse={:f} ({:f}) total_nll={:f} sigma={:f} alpha_w={:f}\"\n",
    "                  .format(epoch, train_rmse, train_stupid, test_rmse, test_stupid,\n",
    "                          sum(total_nll), abs(float(mfgp.sigma.eval())), abs(float(mfgp.alpha_w.eval()))))\n",
    "    print('learned sigma')\n",
    "    print(mfgp.sigma.eval())\n",
    "    print('learned alpha_w')\n",
    "    print(mfgp.alpha_w.eval())\n",
    "    print('learned x')\n",
    "    print(mfgp.x_item.eval())"
   ]
  },
  {
   "cell_type": "markdown",
   "metadata": {},
   "source": [
    "(The error is because it was interrupted.)\n",
    "\n",
    "As you can see, the learning stops when the stupid RMSE (every prediction is 0) is obtained."
   ]
  },
  {
   "cell_type": "markdown",
   "metadata": {},
   "source": [
    "# Meanwhile, Alternating Least Squares…"
   ]
  },
  {
   "cell_type": "code",
   "execution_count": 773,
   "metadata": {},
   "outputs": [
    {
     "data": {
      "text/plain": [
       "<2071x10086 sparse matrix of type '<class 'numpy.float64'>'\n",
       "\twith 333647 stored elements in Compressed Sparse Row format>"
      ]
     },
     "execution_count": 773,
     "metadata": {},
     "output_type": "execute_result"
    }
   ],
   "source": [
    "mangaki"
   ]
  },
  {
   "cell_type": "code",
   "execution_count": 774,
   "metadata": {},
   "outputs": [
    {
     "data": {
      "text/plain": [
       "array([ 5.,  5.,  5.,  5.,  5.,  5.,  5.,  3.,  5.,  3.])"
      ]
     },
     "execution_count": 774,
     "metadata": {},
     "output_type": "execute_result"
    }
   ],
   "source": [
    "mangaki.data[:10]"
   ]
  },
  {
   "cell_type": "code",
   "execution_count": 775,
   "metadata": {
    "collapsed": true
   },
   "outputs": [],
   "source": [
    "from sklearn.model_selection import ShuffleSplit\n",
    "\n",
    "splitter = ShuffleSplit(n_splits=1, test_size=0.2)\n",
    "X_train = []\n",
    "y_train = []\n",
    "X_test = []\n",
    "y_test = []\n",
    "for i_train, i_test in splitter.split(range(D)):\n",
    "    i_train = set(i_train)\n",
    "    i_test = set(i_test)\n",
    "    for (user_id, work_id), rating in zip(dataset.anonymized.X, dataset.anonymized.y):\n",
    "        if user_id in i_train:\n",
    "            X_train.append((user_id, work_id))\n",
    "            y_train.append(rating)\n",
    "        else:\n",
    "            X_test.append((user_id, work_id))\n",
    "            y_test.append(rating)\n",
    "X_train = np.array(X_train)\n",
    "y_train = np.array(y_train)\n",
    "X_test = np.array(X_test)\n",
    "y_test = np.array(y_test)"
   ]
  },
  {
   "cell_type": "code",
   "execution_count": 776,
   "metadata": {},
   "outputs": [
    {
     "data": {
      "text/plain": [
       "(261203, 72444)"
      ]
     },
     "execution_count": 776,
     "metadata": {},
     "output_type": "execute_result"
    }
   ],
   "source": [
    "len(X_train), len(X_test)"
   ]
  },
  {
   "cell_type": "code",
   "execution_count": 777,
   "metadata": {},
   "outputs": [
    {
     "name": "stdout",
     "output_type": "stream",
     "text": [
      "Computing M: (2071 × 10086)\n",
      "Chrono: fill and center matrix [0q, 753ms]\n",
      "Shapes (2071, 20) (20, 10086)\n",
      "Chrono: factor matrix [0q, 6178ms]\n",
      "Train RMSE= 0.902897205079\n",
      "Test RMSE= 3.82772744432\n"
     ]
    }
   ],
   "source": [
    "from mangaki.algo.als import MangakiALS\n",
    "\n",
    "def compute_all_errors(X_train, y_train, X_test, y_test):\n",
    "    y_train_pred = als.predict(X_train)\n",
    "    print('Train RMSE=', als.compute_rmse(y_train, y_train_pred))\n",
    "    y_test_pred = als.predict(X_test)\n",
    "    print('Test RMSE=', als.compute_rmse(y_test, y_test_pred))\n",
    "\n",
    "als = MangakiALS()\n",
    "als.set_parameters(dataset.anonymized.nb_users, dataset.anonymized.nb_works)\n",
    "als.fit(X_train, y_train)\n",
    "compute_all_errors(X_train, y_train, X_test, y_test)"
   ]
  },
  {
   "cell_type": "code",
   "execution_count": 778,
   "metadata": {},
   "outputs": [
    {
     "data": {
      "text/plain": [
       "0.90282500036203395"
      ]
     },
     "execution_count": 778,
     "metadata": {},
     "output_type": "execute_result"
    }
   ],
   "source": [
    "y_pred = als.predict(X_train)\n",
    "(y_train - y_pred).std()"
   ]
  },
  {
   "cell_type": "markdown",
   "metadata": {},
   "source": [
    "And the learned rows of $U$ seem Gaussian!"
   ]
  },
  {
   "cell_type": "code",
   "execution_count": 779,
   "metadata": {},
   "outputs": [
    {
     "data": {
      "text/plain": [
       "(array([   7.,   28.,  101.,  287.,  706.,  444.,  270.,  134.,   90.,    4.]),\n",
       " array([-1.0886685 , -0.84958751, -0.61050651, -0.37142552, -0.13234453,\n",
       "         0.10673647,  0.34581746,  0.58489846,  0.82397945,  1.06306045,\n",
       "         1.30214144]),\n",
       " <a list of 10 Patch objects>)"
      ]
     },
     "execution_count": 779,
     "metadata": {},
     "output_type": "execute_result"
    },
    {
     "data": {
      "image/png": "[encoded data removed]",
      "text/plain": [
       "<matplotlib.figure.Figure at 0x11d8cfeb8>"
      ]
     },
     "metadata": {},
     "output_type": "display_data"
    }
   ],
   "source": [
    "%matplotlib inline\n",
    "import matplotlib.pyplot as plt\n",
    "plt.hist(als.U[:, 0])\n",
    "plt.hist(als.U[:, 1])\n",
    "plt.hist(als.U[:, 15])"
   ]
  },
  {
   "cell_type": "code",
   "execution_count": 780,
   "metadata": {},
   "outputs": [
    {
     "data": {
      "text/plain": [
       "(array([  2.00000000e+00,   3.00000000e+00,   1.50000000e+01,\n",
       "          2.28000000e+02,   1.12400000e+03,   4.44500000e+03,\n",
       "          3.30600000e+03,   7.85000000e+02,   1.71000000e+02,\n",
       "          7.00000000e+00]),\n",
       " array([-2.08475009, -1.7355172 , -1.38628431, -1.03705142, -0.68781852,\n",
       "        -0.33858563,  0.01064726,  0.35988016,  0.70911305,  1.05834594,\n",
       "         1.40757884]),\n",
       " <a list of 10 Patch objects>)"
      ]
     },
     "execution_count": 780,
     "metadata": {},
     "output_type": "execute_result"
    },
    {
     "data": {
      "image/png": "[encoded data removed]",
      "text/plain": [
       "<matplotlib.figure.Figure at 0x124c7ccc0>"
      ]
     },
     "metadata": {},
     "output_type": "display_data"
    }
   ],
   "source": [
    "%matplotlib inline\n",
    "import matplotlib.pyplot as plt\n",
    "plt.hist(als.VT.T[:, 17])\n",
    "plt.hist(als.VT.T[:, 5])"
   ]
  },
  {
   "cell_type": "markdown",
   "metadata": {},
   "source": [
    "Maybe it does not hold for $V$."
   ]
  },
  {
   "cell_type": "code",
   "execution_count": 781,
   "metadata": {},
   "outputs": [
    {
     "data": {
      "text/plain": [
       "<matplotlib.image.AxesImage at 0x121197fd0>"
      ]
     },
     "execution_count": 781,
     "metadata": {},
     "output_type": "execute_result"
    },
    {
     "data": {
      "image/png": "[encoded data removed]",
      "text/plain": [
       "<matplotlib.figure.Figure at 0x127cdfe10>"
      ]
     },
     "metadata": {},
     "output_type": "display_data"
    }
   ],
   "source": [
    "%matplotlib inline\n",
    "\n",
    "cov = np.cov(als.U.T)\n",
    "plt.imshow(cov)"
   ]
  },
  {
   "cell_type": "code",
   "execution_count": 782,
   "metadata": {},
   "outputs": [
    {
     "data": {
      "text/plain": [
       "array([ 0.16343454,  0.16291754,  0.13109024,  0.10961346,  0.13494265,\n",
       "        0.12634172,  0.12688704,  0.13281002,  0.11408947,  0.16153174,\n",
       "        0.10862025,  0.12413041,  0.13800522,  0.18302343,  0.13009754,\n",
       "        0.12390844,  0.11230994,  0.11864874,  0.1527546 ,  0.1314652 ])"
      ]
     },
     "execution_count": 782,
     "metadata": {},
     "output_type": "execute_result"
    }
   ],
   "source": [
    "np.diag(cov)"
   ]
  },
  {
   "cell_type": "code",
   "execution_count": 783,
   "metadata": {},
   "outputs": [
    {
     "data": {
      "text/plain": [
       "(2071, 20)"
      ]
     },
     "execution_count": 783,
     "metadata": {},
     "output_type": "execute_result"
    }
   ],
   "source": [
    "als.U.shape"
   ]
  },
  {
   "cell_type": "code",
   "execution_count": 784,
   "metadata": {},
   "outputs": [
    {
     "data": {
      "text/plain": [
       "<matplotlib.image.AxesImage at 0x123c01080>"
      ]
     },
     "execution_count": 784,
     "metadata": {},
     "output_type": "execute_result"
    },
    {
     "data": {
      "image/png": "[encoded data removed]",
      "text/plain": [
       "<matplotlib.figure.Figure at 0x1211c6358>"
      ]
     },
     "metadata": {},
     "output_type": "display_data"
    }
   ],
   "source": [
    "%matplotlib inline\n",
    "\n",
    "cov = np.cov(als.VT)\n",
    "plt.imshow(cov)"
   ]
  },
  {
   "cell_type": "code",
   "execution_count": 785,
   "metadata": {},
   "outputs": [
    {
     "data": {
      "text/plain": [
       "array([ 0.11935564,  0.10965331,  0.11258604,  0.10526888,  0.10294797,\n",
       "        0.09717179,  0.11277975,  0.09943299,  0.0798758 ,  0.11171786,\n",
       "        0.09984569,  0.09266063,  0.1013008 ,  0.09744366,  0.09063436,\n",
       "        0.08372662,  0.10193127,  0.09663016,  0.08453376,  0.09207398])"
      ]
     },
     "execution_count": 785,
     "metadata": {},
     "output_type": "execute_result"
    }
   ],
   "source": [
    "np.diag(cov)"
   ]
  },
  {
   "cell_type": "markdown",
   "metadata": {},
   "source": [
    "Learned components are independent."
   ]
  },
  {
   "cell_type": "code",
   "execution_count": 786,
   "metadata": {},
   "outputs": [
    {
     "data": {
      "text/plain": [
       "3.2180201255399283"
      ]
     },
     "execution_count": 786,
     "metadata": {},
     "output_type": "execute_result"
    }
   ],
   "source": [
    "als.means.mean()  # Global bias"
   ]
  },
  {
   "cell_type": "code",
   "execution_count": 789,
   "metadata": {},
   "outputs": [
    {
     "data": {
      "text/plain": [
       "False"
      ]
     },
     "execution_count": 789,
     "metadata": {},
     "output_type": "execute_result"
    }
   ],
   "source": [
    "162 in i_test"
   ]
  },
  {
   "cell_type": "code",
   "execution_count": 796,
   "metadata": {},
   "outputs": [],
   "source": [
    "users = list(i_test)\n",
    "users.sort(key=lambda user_id: mangaki[user_id, :].getnnz())"
   ]
  },
  {
   "cell_type": "code",
   "execution_count": 797,
   "metadata": {},
   "outputs": [
    {
     "data": {
      "text/plain": [
       "415"
      ]
     },
     "execution_count": 797,
     "metadata": {},
     "output_type": "execute_result"
    }
   ],
   "source": [
    "len(users)"
   ]
  },
  {
   "cell_type": "code",
   "execution_count": 1166,
   "metadata": {},
   "outputs": [
    {
     "data": {
      "text/plain": [
       "72"
      ]
     },
     "execution_count": 1166,
     "metadata": {},
     "output_type": "execute_result"
    }
   ],
   "source": [
    "PIG = users[200]\n",
    "# 162=JJ\n",
    "pig = mangaki[PIG, :]\n",
    "all_ratings = pig.data\n",
    "#all_ratings -= als.means.mean()\n",
    "pig.getnnz()"
   ]
  },
  {
   "cell_type": "code",
   "execution_count": 1244,
   "metadata": {},
   "outputs": [],
   "source": [
    "from sklearn.gaussian_process.kernels import DotProduct\n",
    "from sklearn.gaussian_process import GaussianProcessRegressor\n",
    "from sklearn.linear_model import LinearRegression\n",
    "\n",
    "ALPHA = 0.5\n",
    "\n",
    "kernel = 1 * DotProduct(sigma_0=0.5)  # Kernel that will be used for both GP and DPP\n",
    "gpr = GaussianProcessRegressor(kernel=kernel, alpha=ALPHA, optimizer=None, normalize_y=False)  # , optimizer=None\n",
    "lr = LinearRegression()"
   ]
  },
  {
   "cell_type": "code",
   "execution_count": 1245,
   "metadata": {},
   "outputs": [
    {
     "data": {
      "text/plain": [
       "4.5104394043066485"
      ]
     },
     "execution_count": 1245,
     "metadata": {},
     "output_type": "execute_result"
    }
   ],
   "source": [
    "work_ids = pig.indices[START_PRED:]\n",
    "user_ids = [PIG] * len(work_ids)\n",
    "y_pred = als.predict(np.column_stack((user_ids, work_ids)))\n",
    "mean_squared_error(pig.data[START_PRED:], y_pred) ** 0.5"
   ]
  },
  {
   "cell_type": "code",
   "execution_count": 1246,
   "metadata": {},
   "outputs": [
    {
     "data": {
      "text/plain": [
       "0.64340653299459161"
      ]
     },
     "execution_count": 1246,
     "metadata": {},
     "output_type": "execute_result"
    }
   ],
   "source": [
    "work_ids = pig.indices\n",
    "ratings = pig.data\n",
    "lr.fit(als.VT.T[work_ids], ratings)\n",
    "y_pred = lr.predict(als.VT.T[work_ids])\n",
    "mean_squared_error(pig.data, y_pred) ** 0.5"
   ]
  },
  {
   "cell_type": "code",
   "execution_count": 1247,
   "metadata": {},
   "outputs": [
    {
     "data": {
      "text/plain": [
       "82"
      ]
     },
     "execution_count": 1247,
     "metadata": {},
     "output_type": "execute_result"
    }
   ],
   "source": [
    "pig.getnnz()"
   ]
  },
  {
   "cell_type": "code",
   "execution_count": 1248,
   "metadata": {},
   "outputs": [
    {
     "name": "stdout",
     "output_type": "stream",
     "text": [
      "stupid has rmse 4.65780226622\n",
      "0.331834533347\n",
      "3.5121716218 to 0.685279529619\n"
     ]
    },
    {
     "data": {
      "text/plain": [
       "[<matplotlib.lines.Line2D at 0x12b461320>]"
      ]
     },
     "execution_count": 1248,
     "metadata": {},
     "output_type": "execute_result"
    },
    {
     "data": {
      "image/png": "[encoded data removed]",
      "text/plain": [
       "<matplotlib.figure.Figure at 0x1229a73c8>"
      ]
     },
     "metadata": {},
     "output_type": "display_data"
    }
   ],
   "source": [
    "from sklearn.metrics import mean_squared_error\n",
    "\n",
    "def fix(x):\n",
    "    x[x > 6] = 6\n",
    "    x[x < 1] = 1\n",
    "\n",
    "START_PRED = 0\n",
    "    \n",
    "BATCH_SIZE = 2\n",
    "steps = []\n",
    "errors = []\n",
    "print('stupid has rmse', mean_squared_error(pig.data[START_PRED:], [0.] * len(pig.data[START_PRED:])) ** 0.5)\n",
    "for t in range(BATCH_SIZE, pig.getnnz() + 1, BATCH_SIZE):  # pig.getnnz() + 1\n",
    "    steps.append(t)\n",
    "    work_ids = pig.indices[:t]\n",
    "    ratings = pig.data[:t]\n",
    "    gpr.fit(als.VT.T[work_ids], ratings)\n",
    "    y_pred, sigma = gpr.predict(als.VT.T[pig.indices[START_PRED:]], return_std=True)\n",
    "    #fix(y_pred)\n",
    "    rmse = mean_squared_error(pig.data[START_PRED:], y_pred) ** 0.5\n",
    "    errors.append(rmse)\n",
    "    #print(t, 'rmse', rmse)\n",
    "    eig = np.linalg.eig(gpr.L_)[0]\n",
    "    #print('eigenvalues', eig.min(), 'to', eig.max())\n",
    "    #print('alpha max', gpr.alpha_.max())\n",
    "    #print(y_pred[START_PRED:START_PRED+5], pig.data[START_PRED:START_PRED+5])\n",
    "    #print(y_pred)\n",
    "    lr.fit(als.VT.T[work_ids], ratings)\n",
    "    y_pred = lr.predict(als.VT.T[pig.indices])\n",
    "    rmse = mean_squared_error(pig.data, y_pred) ** 0.5\n",
    "    #print(t, 'rmse', rmse)\n",
    "    #print(y_pred[:5], pig.data[:5])\n",
    "    #print(y_pred)\n",
    "    #print(pig.data)\n",
    "    #print(pig.indices[y_pred > 10])\n",
    "print(sigma.mean())\n",
    "print(max(errors), 'to', min(errors))\n",
    "plt.plot(steps, errors)"
   ]
  },
  {
   "cell_type": "code",
   "execution_count": 1249,
   "metadata": {},
   "outputs": [],
   "source": [
    "# gpr.alpha_  # Learned weights for prediction"
   ]
  },
  {
   "cell_type": "code",
   "execution_count": 1250,
   "metadata": {},
   "outputs": [],
   "source": [
    "# gpr.kernel_  # Learned kernel, should not move"
   ]
  },
  {
   "cell_type": "code",
   "execution_count": 1251,
   "metadata": {},
   "outputs": [],
   "source": [
    "# np.diag(gpr.L_)  # Learned cholesky of kernel of train"
   ]
  },
  {
   "cell_type": "code",
   "execution_count": 1252,
   "metadata": {},
   "outputs": [
    {
     "data": {
      "text/plain": [
       "(array([ 310.,   59.,   21.,   16.,    1.,    3.,    0.,    2.,    1.,\n",
       "           1.,    0.,    0.,    0.,    0.,    1.]),\n",
       " array([  1.00000000e+00,   2.05066667e+02,   4.09133333e+02,\n",
       "          6.13200000e+02,   8.17266667e+02,   1.02133333e+03,\n",
       "          1.22540000e+03,   1.42946667e+03,   1.63353333e+03,\n",
       "          1.83760000e+03,   2.04166667e+03,   2.24573333e+03,\n",
       "          2.44980000e+03,   2.65386667e+03,   2.85793333e+03,\n",
       "          3.06200000e+03]),\n",
       " <a list of 15 Patch objects>)"
      ]
     },
     "execution_count": 1252,
     "metadata": {},
     "output_type": "execute_result"
    },
    {
     "data": {
      "image/png": "[encoded data removed]",
      "text/plain": [
       "<matplotlib.figure.Figure at 0x1288254e0>"
      ]
     },
     "metadata": {},
     "output_type": "display_data"
    }
   ],
   "source": [
    "plt.hist([mangaki[user_id, :].getnnz() for user_id in i_test], 15)"
   ]
  },
  {
   "cell_type": "markdown",
   "metadata": {},
   "source": [
    "## Linear kernel"
   ]
  },
  {
   "cell_type": "code",
   "execution_count": 1253,
   "metadata": {},
   "outputs": [
    {
     "data": {
      "text/plain": [
       "82"
      ]
     },
     "execution_count": 1253,
     "metadata": {},
     "output_type": "execute_result"
    }
   ],
   "source": [
    "len(pig.indices)"
   ]
  },
  {
   "cell_type": "code",
   "execution_count": 1254,
   "metadata": {},
   "outputs": [],
   "source": [
    "from mangaki.utils.dpp2 import MangakiDPP\n",
    "from sklearn.gaussian_process.kernels import RBF\n",
    "\n",
    "def prepare_dpp(rated):\n",
    "    #rbf = RBF()\n",
    "    #rated = als.VT.T[pig.indices]\n",
    "    dpp = MangakiDPP(vectors=rated, REPEAT=5)\n",
    "    #dpp.compute_similarity(kernel)\n",
    "    dpp.L = kernel(rated) + ALPHA * np.eye(len(rated))\n",
    "    #dpp.L = rbf(rated)# + np.eye(len(rated))\n",
    "    dpp.preprocess()\n",
    "    return dpp"
   ]
  },
  {
   "cell_type": "code",
   "execution_count": 1255,
   "metadata": {},
   "outputs": [
    {
     "name": "stdout",
     "output_type": "stream",
     "text": [
      "16\n"
     ]
    }
   ],
   "source": [
    "inter = set(range(10086))\n",
    "for user in users[390:500]:\n",
    "    inter &= set(mangaki[user, :].indices)\n",
    "print(len(inter))"
   ]
  },
  {
   "cell_type": "code",
   "execution_count": 1256,
   "metadata": {},
   "outputs": [
    {
     "name": "stdout",
     "output_type": "stream",
     "text": [
      "88.7151515152 68.6435324868\n"
     ]
    }
   ],
   "source": [
    "inter = set(range(150))\n",
    "c = []\n",
    "for user in users[250:500]:\n",
    "    c.append(len(set(mangaki[user, :].indices) & inter))\n",
    "print(np.mean(c), 1.96 * np.std(c))"
   ]
  },
  {
   "cell_type": "code",
   "execution_count": 1257,
   "metadata": {},
   "outputs": [
    {
     "data": {
      "text/plain": [
       "array([ 8, 10, 20, 26, 72])"
      ]
     },
     "execution_count": 1257,
     "metadata": {},
     "output_type": "execute_result"
    }
   ],
   "source": [
    "rated = als.VT.T[pig.indices]\n",
    "dpp = prepare_dpp(rated)\n",
    "dpp.sample_k(5)"
   ]
  },
  {
   "cell_type": "code",
   "execution_count": 1258,
   "metadata": {
    "collapsed": true
   },
   "outputs": [],
   "source": [
    "#all_vectors = als.VT.T[pig.indices]  # pig.indices\n",
    "#all_vectors = als.VT.T[:25]\n",
    "\n",
    "def bgs(rated, nb_questions_min):\n",
    "    #global all_vectors\n",
    "    nb_works = len(rated)\n",
    "    rated_works = range(nb_works)  # pig.getnnz()\n",
    "    #P = all_vectors[rated_works].dot(all_vectors[rated_works].T)\n",
    "    P = kernel(rated) + ALPHA * np.eye(len(rated_works))\n",
    "    # print(nb_works, nb_questions)\n",
    "    kept_indices = set(range(nb_works))\n",
    "    get_bgs = {len(kept_indices): np.array(list(kept_indices))}\n",
    "    for _ in range(nb_works - nb_questions_min):\n",
    "        k_best = None\n",
    "        #error_min = float('inf')\n",
    "        error_max = float('-inf')\n",
    "        for k in kept_indices:\n",
    "            kept = list(kept_indices - set([k]))\n",
    "            try:\n",
    "                #error = np.trace(np.linalg.inv(P[np.ix_(kept, kept)]))\n",
    "                vp = np.abs(np.real(np.linalg.eig(P[np.ix_(kept, kept)])[0]))\n",
    "                if type(vp[0]) == np.complex128:\n",
    "                    print(vp)\n",
    "                    raise Exception\n",
    "                #error = hmean(vp)\n",
    "                error = np.sum(np.log(vp))\n",
    "                #print(error, vp[-1])\n",
    "            except Exception as err:\n",
    "                print('I had to take', nb_questions_min, 'but I must stop at', len(kept_indices))\n",
    "                print(err)\n",
    "                return list(kept_indices)\n",
    "            #print(error)\n",
    "            if error > error_max:#< error_min:\n",
    "                #error_min = error\n",
    "                error_max = error\n",
    "                k_best = k\n",
    "            '''if len(kept) <= 2 and random.random() < 0.1:\n",
    "                print(kept, error, vp)'''\n",
    "        kept_indices -= set([k_best])\n",
    "        get_bgs[len(kept_indices)] = np.array(list(kept_indices))\n",
    "    sampled_indices = list(kept_indices)\n",
    "    return np.array(sampled_indices), get_bgs"
   ]
  },
  {
   "cell_type": "code",
   "execution_count": 1233,
   "metadata": {},
   "outputs": [],
   "source": [
    "_, get_bgs = bgs(rated, 2)"
   ]
  },
  {
   "cell_type": "code",
   "execution_count": 1259,
   "metadata": {},
   "outputs": [
    {
     "name": "stdout",
     "output_type": "stream",
     "text": [
      "7\n",
      "106\n",
      "125\n",
      "264\n",
      "3062\n",
      "415 users\n"
     ]
    }
   ],
   "source": [
    "for pos in [40, 240, 250, 340, len(users) - 1]:\n",
    "    print(mangaki[users[pos], :].getnnz())\n",
    "print(len(users), 'users')"
   ]
  },
  {
   "cell_type": "code",
   "execution_count": 1260,
   "metadata": {
    "collapsed": true
   },
   "outputs": [],
   "source": [
    "popular = als.VT.T[:100]\n",
    "popular_dpp = prepare_dpp(popular)"
   ]
  },
  {
   "cell_type": "code",
   "execution_count": 1275,
   "metadata": {},
   "outputs": [
    {
     "name": "stdout",
     "output_type": "stream",
     "text": [
      "100 25\n",
      "101 26\n"
     ]
    },
    {
     "name": "stderr",
     "output_type": "stream",
     "text": [
      "/Users/jilljenn/code/mangaki/venv/lib/python3.6/site-packages/sklearn/gaussian_process/gpr.py:308: UserWarning: Predicted variances smaller than 0. Setting those variances to 0.\n",
      "  warnings.warn(\"Predicted variances smaller than 0. \"\n"
     ]
    },
    {
     "name": "stdout",
     "output_type": "stream",
     "text": [
      "102 26\n",
      "103 26\n",
      "104 26\n",
      "105 27\n",
      "106 27\n",
      "107 27\n",
      "108 27\n",
      "109 28\n",
      "110 28\n",
      "111 28\n",
      "112 28\n",
      "113 29\n",
      "114 30\n",
      "115 30\n",
      "116 30\n",
      "117 31\n",
      "118 31\n",
      "119 31\n",
      "120 31\n",
      "121 32\n",
      "122 32\n",
      "123 33\n",
      "124 33\n",
      "125 33\n",
      "126 34\n",
      "127 35\n",
      "128 35\n",
      "129 35\n",
      "130 35\n",
      "131 35\n",
      "132 36\n",
      "133 36\n",
      "134 37\n",
      "135 37\n",
      "136 38\n",
      "137 38\n",
      "138 38\n",
      "139 40\n",
      "140 41\n",
      "141 41\n",
      "142 42\n",
      "143 42\n",
      "144 43\n",
      "145 44\n",
      "146 44\n",
      "147 44\n",
      "148 45\n",
      "149 45\n",
      "150 47\n",
      "151 47\n",
      "152 47\n",
      "153 48\n",
      "154 49\n",
      "155 49\n",
      "156 50\n",
      "157 50\n",
      "158 51\n",
      "159 51\n",
      "160 51\n",
      "161 52\n",
      "162 53\n",
      "163 54\n",
      "164 54\n",
      "165 55\n",
      "166 56\n",
      "167 56\n",
      "168 56\n",
      "169 57\n"
     ]
    },
    {
     "data": {
      "image/png": "[encoded data removed]",
      "text/plain": [
       "<matplotlib.figure.Figure at 0x1211a1cf8>"
      ]
     },
     "metadata": {},
     "output_type": "display_data"
    }
   ],
   "source": [
    "import random\n",
    "from collections import defaultdict\n",
    "\n",
    "fig, axes = plt.subplots(3, 1, figsize=(16, 10))\n",
    "plot = {}\n",
    "plot['rmse'], plot['sigma'], plot['det'] = axes\n",
    "\n",
    "STRATEGIES = ['dpp', 'random', 'bgs'] # , ':'bgs', \n",
    "LIMIT_SAMPLE = 200\n",
    "LIMIT_ASK = 40\n",
    "\n",
    "values = defaultdict(lambda: defaultdict(lambda: defaultdict(list)))\n",
    "for user_pos in range(100, 170):\n",
    "    pig = mangaki[users[user_pos], :]\n",
    "    #pig.data -= als.means.mean()  # Renormalize\n",
    "    nb_total_rated = min(pig.getnnz(), LIMIT_SAMPLE)\n",
    "    if user_pos % 1 == 0:\n",
    "        print(user_pos, nb_total_rated)\n",
    "    rated = als.VT.T[pig.indices[:LIMIT_SAMPLE]]  # LIMIT_SAMPLE is the limit\n",
    "    if user_pos <= 240:\n",
    "        dpp = prepare_dpp(rated)  # DPP\n",
    "        _, get_bgs = bgs(rated, 1)  # BGS\n",
    "    sizes = range(10, min(nb_total_rated, 40) + 1)\n",
    "    for nb_rated in sizes:\n",
    "        for strategy in STRATEGIES:\n",
    "            if strategy == 'random':\n",
    "                pos = random.sample(range(nb_total_rated), nb_rated)\n",
    "                work_ids = pig.indices[pos]\n",
    "            elif strategy == 'dpp':\n",
    "                if user_pos <= 240:\n",
    "                    pos = dpp.sample_k(nb_rated)\n",
    "                    work_ids = pig.indices[pos]\n",
    "                else:\n",
    "                    pop = popular_dpp.sample_k(nb_rated)\n",
    "                    askable = list(set(pop) & set(pig.indices))\n",
    "                    if len(askable) < nb_rated:\n",
    "                        remaining = nb_rated - len(askable)\n",
    "                        #print(pos, 'oops', remaining, nb_rated)\n",
    "                        askable.extend(random.sample(set(pig.indices) - set(askable), remaining))\n",
    "                    work_ids = askable\n",
    "            else:\n",
    "                pos = get_bgs[nb_rated]\n",
    "                work_ids = pig.indices[pos]\n",
    "            ratings = pig[:, work_ids].data\n",
    "\n",
    "            X_asked = als.VT.T[work_ids]\n",
    "            values['det'][strategy][nb_rated].append(np.log(np.linalg.det(kernel(X_asked) + ALPHA * np.eye(nb_rated))))\n",
    "\n",
    "            #print(work_ids.shape, X_asked.shape, ratings.shape)\n",
    "            gpr.fit(X_asked, ratings)\n",
    "            y_pred, sigma = gpr.predict(als.VT.T[pig.indices], return_std=True)\n",
    "            #fix(y_pred)\n",
    "            rmse = mean_squared_error(pig.data, y_pred) ** 0.5\n",
    "            #rmse_max = mean_squared_error(pig.data, y_pred + 1.96 * sigma) ** 0.5\n",
    "            #rmse_min = mean_squared_error(pig.data, y_pred - 1.96 * sigma) ** 0.5\n",
    "            values['sigma'][strategy][nb_rated].append(sigma.mean())\n",
    "            #values['sigma_err'][strategy][nb_rated].append(1.96 * sigma.std())\n",
    "            values['rmse'][strategy][nb_rated].append(rmse)\n",
    "            #values['rmse_up'][strategy].append(rmse_up)\n",
    "            #values['rmse_down'][strategy].append(rmse_down)\n",
    "            #print(nb_rated, strategy, 'rmse', rmse)\n",
    "            #print(y_pred[:5], pig.data[:5])\n",
    "\n",
    "curves = defaultdict(list)\n",
    "for strategy in STRATEGIES:\n",
    "    for value in ['sigma', 'rmse', 'det']:\n",
    "        mean = [np.mean(values[value][strategy][nb_rated]) for nb_rated in sizes]\n",
    "        std = [np.std(values[value][strategy][nb_rated]) for nb_rated in sizes]\n",
    "        curves[value].append(plot[value].errorbar(sizes, mean, label=strategy, fmt='.-'))  # , yerr=1.96 * np.array(std)\n",
    "for value in ['rmse', 'sigma', 'det']:\n",
    "    plot[value].legend(handles=curves[value])\n",
    "plt.xlabel('Number of questions asked')\n",
    "plot['rmse'].set_ylabel('RMSE')\n",
    "plot['det'].set_ylabel('determinant')\n",
    "plot['sigma'].set_ylabel('variance')\n",
    "plt.show()"
   ]
  },
  {
   "cell_type": "code",
   "execution_count": 1044,
   "metadata": {},
   "outputs": [
    {
     "data": {
      "text/plain": [
       "3"
      ]
     },
     "execution_count": 1044,
     "metadata": {},
     "output_type": "execute_result"
    }
   ],
   "source": [
    "import pickle\n",
    "\n",
    "backup = {}\n",
    "for value in values:\n",
    "    backup[value] = {}\n",
    "    for strategy in STRATEGIES:\n",
    "        backup[value][strategy] = {}\n",
    "        for nb_rated in sizes:\n",
    "            backup[value][strategy][nb_rated] = values[value][strategy][nb_rated]\n",
    "\n",
    "'''with open('values40-240.pickle', 'wb') as f:\n",
    "    pickle.dump(backup, f)'''\n",
    "\n",
    "with open('values40-240.pickle', 'rb') as f:\n",
    "    backup2 = pickle.load(f)\n",
    "\n",
    "len(backup)"
   ]
  },
  {
   "cell_type": "code",
   "execution_count": 1272,
   "metadata": {},
   "outputs": [
    {
     "data": {
      "image/png": "[encoded data removed]",
      "text/plain": [
       "<matplotlib.figure.Figure at 0x12bd617b8>"
      ]
     },
     "metadata": {},
     "output_type": "display_data"
    }
   ],
   "source": [
    "subsizes = range(1, 30)\n",
    "\n",
    "fig, axes = plt.subplots(3, 1, figsize=(16, 10))\n",
    "plot = {}\n",
    "plot['rmse'], plot['sigma'], plot['det'] = axes\n",
    "\n",
    "curves = defaultdict(list)\n",
    "for strategy in STRATEGIES:\n",
    "    for value in ['sigma', 'rmse', 'det']:\n",
    "        mean = [np.mean(backup[value][strategy][nb_rated]) for nb_rated in subsizes]\n",
    "        std = [np.std(backup[value][strategy][nb_rated]) for nb_rated in subsizes] if strategy != 'random' else [0.] * len(subsizes)\n",
    "        curves[value].append(plot[value].errorbar(subsizes, mean, yerr=1.96 * np.array(std), label=strategy, fmt='.-'))  # \n",
    "for value in ['rmse', 'sigma', 'det']:\n",
    "    plot[value].legend(handles=curves[value])\n",
    "plt.xlabel('Number of questions asked')\n",
    "plot['rmse'].set_ylabel('RMSE')\n",
    "plot['det'].set_ylabel('determinant')\n",
    "plot['sigma'].set_ylabel('variance')\n",
    "plt.show()"
   ]
  },
  {
   "cell_type": "code",
   "execution_count": 1066,
   "metadata": {},
   "outputs": [],
   "source": [
    "P = np.random.random((5, 2))"
   ]
  },
  {
   "cell_type": "code",
   "execution_count": 1067,
   "metadata": {},
   "outputs": [],
   "source": [
    "_, sigma, _ = np.linalg.svd(P)"
   ]
  },
  {
   "cell_type": "code",
   "execution_count": 1068,
   "metadata": {},
   "outputs": [
    {
     "data": {
      "text/plain": [
       "array([ 2.75481025,  0.24023893])"
      ]
     },
     "execution_count": 1068,
     "metadata": {},
     "output_type": "execute_result"
    }
   ],
   "source": [
    "sigma ** 2"
   ]
  },
  {
   "cell_type": "code",
   "execution_count": 1070,
   "metadata": {},
   "outputs": [
    {
     "data": {
      "text/plain": [
       "(array([[-0.6921513 ,  0.61451124,  0.17817563,  0.26389984, -0.20472623],\n",
       "        [-0.20591154, -0.31782178,  0.63565118, -0.54018261, -0.40092404],\n",
       "        [-0.20363248, -0.22904383, -0.66783424, -0.07297943, -0.67434722],\n",
       "        [-0.28935687,  0.2371035 , -0.34228285, -0.74879228,  0.42685725],\n",
       "        [-0.59441856, -0.6424065 , -0.03226308,  0.26933948,  0.40049445]]),\n",
       " array([  2.75481025e+00,   2.40238935e-01,   5.85678773e-17,\n",
       "          3.30167623e-17,   5.02983733e-18]),\n",
       " array([[-0.6921513 , -0.20591154, -0.20363248, -0.28935687, -0.59441856],\n",
       "        [ 0.61451124, -0.31782178, -0.22904383,  0.2371035 , -0.6424065 ],\n",
       "        [ 0.35382594, -0.19257944,  0.00345917, -0.91015434,  0.09657884],\n",
       "        [ 0.10187211,  0.75202175, -0.62990142, -0.13240423, -0.09888724],\n",
       "        [-0.08793059, -0.5039506 , -0.71364204,  0.1189232 ,  0.46354537]]))"
      ]
     },
     "execution_count": 1070,
     "metadata": {},
     "output_type": "execute_result"
    }
   ],
   "source": [
    "np.linalg.svd(P.dot(P.T))"
   ]
  },
  {
   "cell_type": "code",
   "execution_count": 1072,
   "metadata": {},
   "outputs": [
    {
     "data": {
      "text/plain": [
       "array([ 1.15700538,  0.04186263])"
      ]
     },
     "execution_count": 1072,
     "metadata": {},
     "output_type": "execute_result"
    }
   ],
   "source": [
    "np.linalg.svd(P[[1, 2, 4], :])[1]"
   ]
  },
  {
   "cell_type": "code",
   "execution_count": 1046,
   "metadata": {},
   "outputs": [
    {
     "data": {
      "image/png": "[encoded data removed]",
      "text/plain": [
       "<matplotlib.figure.Figure at 0x125ed6f60>"
      ]
     },
     "metadata": {},
     "output_type": "display_data"
    }
   ],
   "source": [
    "subsizes = range(10, 30)\n",
    "\n",
    "fig, axes = plt.subplots(3, 1, figsize=(16, 10))\n",
    "plot = {}\n",
    "plot['rmse'], plot['sigma'], plot['det'] = axes\n",
    "\n",
    "curves = defaultdict(list)\n",
    "for strategy in STRATEGIES:\n",
    "    for value in ['sigma', 'rmse', 'det']:\n",
    "        mean = [np.mean(values[value][strategy][nb_rated]) for nb_rated in subsizes]\n",
    "        std = [np.std(values[value][strategy][nb_rated]) for nb_rated in subsizes] if strategy != 'random' else [0.] * len(subsizes)\n",
    "        curves[value].append(plot[value].errorbar(subsizes, mean, label=strategy, fmt='.-'))  # \n",
    "for value in ['rmse', 'sigma', 'det']:\n",
    "    plot[value].legend(handles=curves[value])\n",
    "plt.xlabel('Number of questions asked')\n",
    "plot['rmse'].set_ylabel('RMSE')\n",
    "plot['det'].set_ylabel('determinant')\n",
    "plot['sigma'].set_ylabel('variance')\n",
    "plt.show()"
   ]
  },
  {
   "cell_type": "code",
   "execution_count": 769,
   "metadata": {},
   "outputs": [
    {
     "name": "stdout",
     "output_type": "stream",
     "text": [
      "(8, 18, 48) 4.25460508524\n"
     ]
    }
   ],
   "source": [
    "from itertools import combinations\n",
    "\n",
    "P = kernel(all_vectors) + 0.5 * np.eye(len(all_vectors))\n",
    "det_max = 0.\n",
    "best_subset = None\n",
    "for subset in combinations(range(49), 3):\n",
    "    vp = np.linalg.eig(P[np.ix_(subset, subset)])[0]\n",
    "    det = np.sum(np.log(vp))\n",
    "    if det > det_max:\n",
    "        det_max = det\n",
    "        best_subset = subset\n",
    "print(best_subset, det_max)"
   ]
  },
  {
   "cell_type": "code",
   "execution_count": 763,
   "metadata": {
    "collapsed": true
   },
   "outputs": [],
   "source": [
    "nb_rated = 3\n",
    "rnd_ids = lambda: random.sample(range(total_rated), nb_rated)\n",
    "bgs_ids = get_bgs[nb_rated]\n",
    "dpp_ids = lambda: dpp.sample_k(nb_rated)"
   ]
  },
  {
   "cell_type": "code",
   "execution_count": 764,
   "metadata": {},
   "outputs": [
    {
     "data": {
      "text/plain": [
       "array([ 8, 18, 48])"
      ]
     },
     "execution_count": 764,
     "metadata": {},
     "output_type": "execute_result"
    }
   ],
   "source": [
    "bgs_ids"
   ]
  },
  {
   "cell_type": "code",
   "execution_count": 765,
   "metadata": {},
   "outputs": [
    {
     "name": "stdout",
     "output_type": "stream",
     "text": [
      "god 70.428998245 12.9441472155 0.757048278569\n",
      "bgs 70.428998245 12.9441472155 0.757048278569\n",
      "dpp 39.6364976041 10.749006229 0.920698124954\n",
      "dpp 47.5691573891 12.0751859134 0.913087202165\n",
      "dpp 28.9860274404 9.97273072551 1.04952507028\n",
      "dpp 40.4860914178 11.0070400776 0.925982264811\n",
      "dpp 52.9832951942 12.2298801317 0.866642658198\n",
      "dpp 37.6991738559 12.2264444503 1.04461854464\n",
      "dpp 37.2510220756 10.4558451907 0.93358365863\n",
      "dpp 40.7199820761 10.6882025798 0.907200112806\n",
      "dpp 32.615762504 9.82940546514 0.960959078829\n",
      "dpp 38.6342799324 10.645916851 0.930801676432\n",
      "rnd 13.5096342561 7.74426304244 1.35266112668\n",
      "rnd 23.1677988068 9.62566559232 1.16302997412\n",
      "rnd 17.2154364862 8.02089401437 1.20499127812\n",
      "rnd 19.3745770673 8.53273213737 1.17739386033\n",
      "rnd 31.005674663 10.2495882414 1.05029142943\n",
      "rnd 10.0599828581 6.84954391492 1.46142696033\n",
      "rnd 25.5118832817 9.82916640679 1.12204069636\n",
      "rnd 23.9830055827 9.12229113671 1.09664290944\n",
      "rnd 13.7155963789 8.00250932112 1.42226032884\n",
      "rnd 14.6027854875 7.54182922008 1.26656680368\n"
     ]
    }
   ],
   "source": [
    "NB_SAMPLES = 10  # ('god', np.array(best_subset)), \n",
    "for strategy, pos in [('god', np.array(best_subset)), ('bgs', bgs_ids)] + [('dpp', dpp_ids()) for _ in range(NB_SAMPLES)] + [('rnd', rnd_ids()) for _ in range(NB_SAMPLES)]:\n",
    "    cov = kernel(als.VT.T[pig.indices[pos]]) + 0.5 * np.eye(nb_rated)\n",
    "    #plt.imshow(cov)\n",
    "    print(strategy, np.linalg.det(cov), np.trace(cov), np.trace(np.linalg.inv(cov)))\n",
    "    #plt.show()"
   ]
  },
  {
   "cell_type": "code",
   "execution_count": 766,
   "metadata": {},
   "outputs": [
    {
     "ename": "IndexError",
     "evalue": "index 151 is out of bounds for axis 1 with size 49",
     "output_type": "error",
     "traceback": [
      "\u001b[0;31m---------------------------------------------------------------------------\u001b[0m",
      "\u001b[0;31mIndexError\u001b[0m                                Traceback (most recent call last)",
      "\u001b[0;32m<ipython-input-766-a766b04cb053>\u001b[0m in \u001b[0;36m<module>\u001b[0;34m()\u001b[0m\n\u001b[0;32m----> 1\u001b[0;31m \u001b[0mpig\u001b[0m\u001b[0;34m.\u001b[0m\u001b[0mindices\u001b[0m\u001b[0;34m[\u001b[0m\u001b[0mrand_ids\u001b[0m\u001b[0;34m]\u001b[0m\u001b[0;34m[\u001b[0m\u001b[0;36m9\u001b[0m\u001b[0;34m]\u001b[0m\u001b[0;34m,\u001b[0m \u001b[0mpig\u001b[0m\u001b[0;34m.\u001b[0m\u001b[0mindices\u001b[0m\u001b[0;34m[\u001b[0m\u001b[0mrand_ids\u001b[0m\u001b[0;34m]\u001b[0m\u001b[0;34m[\u001b[0m\u001b[0;36m11\u001b[0m\u001b[0;34m]\u001b[0m\u001b[0;34m\u001b[0m\u001b[0m\n\u001b[0m",
      "\u001b[0;31mIndexError\u001b[0m: index 151 is out of bounds for axis 1 with size 49"
     ]
    }
   ],
   "source": [
    "pig.indices[rand_ids][9], pig.indices[rand_ids][11]"
   ]
  },
  {
   "cell_type": "markdown",
   "metadata": {},
   "source": [
    "## RBF kernel"
   ]
  },
  {
   "cell_type": "code",
   "execution_count": 1262,
   "metadata": {
    "collapsed": true
   },
   "outputs": [],
   "source": [
    "from sklearn.gaussian_process.kernels import RBF"
   ]
  },
  {
   "cell_type": "code",
   "execution_count": 1263,
   "metadata": {
    "collapsed": true
   },
   "outputs": [],
   "source": [
    "rated = als.VT.T[pig.indices]\n",
    "rbf = RBF()\n",
    "dpprbf = MangakiDPP(vectors=rated)\n",
    "dpprbf.L = rbf(dpprbf.vectors)\n",
    "dpprbf.preprocess()"
   ]
  },
  {
   "cell_type": "code",
   "execution_count": 1271,
   "metadata": {},
   "outputs": [
    {
     "name": "stdout",
     "output_type": "stream",
     "text": [
      "1 random rmse 4.27935090529\n",
      "[ 0.51258691  0.91682174  0.47498329  0.2876038   0.28939948] [ 5.  5.  5.  5.  5.]\n",
      "1 dpp rmse 4.20637988589\n",
      "[ 0.35731215  0.33563606  0.28253561  0.09054751  0.10838086] [ 5.  5.  5.  5.  5.]\n",
      "1 bgs rmse 4.20637988589\n",
      "[ 0.35731215  0.33563606  0.28253561  0.09054751  0.10838086] [ 5.  5.  5.  5.  5.]\n",
      "3 random rmse 2.79095662783\n",
      "[ 3.16921095  5.          2.33057922  1.25717254  1.32888584] [ 5.  5.  5.  5.  5.]\n",
      "3 dpp rmse 2.64087840477\n",
      "[ 2.03999078  1.6819938   1.83403253  4.43786516  5.        ] [ 5.  5.  5.  5.  5.]\n",
      "3 bgs rmse 3.42396694391\n",
      "[ 1.37550333  1.49141919  2.00705889  0.67248161  0.78390395] [ 5.  5.  5.  5.  5.]\n",
      "5 random rmse 2.46261601896\n",
      "[ 1.53930775  1.8228411   2.05841234  3.01484393  2.68280195] [ 5.  5.  5.  5.  5.]\n",
      "5 dpp rmse 2.1556017382\n",
      "[ 3.4961696   5.          2.85015691  3.47415243  3.32982134] [ 5.  5.  5.  5.  5.]\n",
      "5 bgs rmse 2.56825159623\n",
      "[ 1.92240619  2.04847341  2.53725847  1.27978761  1.30740153] [ 5.  5.  5.  5.  5.]\n",
      "7 random rmse 1.94934090582\n",
      "[ 3.49058558  3.12447944  5.          3.29517119  3.0161057 ] [ 5.  5.  5.  5.  5.]\n",
      "7 dpp rmse 1.67430420493\n",
      "[ 4.32548715  3.72859856  4.4996261   4.65601025  5.        ] [ 5.  5.  5.  5.  5.]\n",
      "7 bgs rmse 2.53123854225\n",
      "[ 1.92380742  2.05562613  2.56323541  1.28044426  1.30531358] [ 5.  5.  5.  5.  5.]\n",
      "9 random rmse 1.72346260975\n",
      "[ 4.1839886   4.07842285  4.63197276  5.          4.7974102 ] [ 5.  5.  5.  5.  5.]\n",
      "9 dpp rmse 1.954236459\n",
      "[ 4.74272801  5.          3.01813492  3.41263208  3.36463001] [ 5.  5.  5.  5.  5.]\n",
      "9 bgs rmse 1.80782953527\n",
      "[ 2.46829589  2.55381013  3.05631045  1.80348022  1.72824944] [ 5.  5.  5.  5.  5.]\n",
      "11 random rmse 1.6400099056\n",
      "[ 3.48130285  3.8329866   2.66983987  3.62681081  3.84549694] [ 5.  5.  5.  5.  5.]\n",
      "11 dpp rmse 1.6620184041\n",
      "[ 3.58433326  5.          3.16694811  3.25099269  3.18352812] [ 5.  5.  5.  5.  5.]\n",
      "11 bgs rmse 1.24762628792\n",
      "[ 3.40421922  3.53634577  3.70562371  4.72093624  5.        ] [ 5.  5.  5.  5.  5.]\n",
      "13 random rmse 1.66435485229\n",
      "[ 2.97150561  2.7778791   4.26276956  3.06976446  2.82425168] [ 5.  5.  5.  5.  5.]\n",
      "13 dpp rmse 1.51131925359\n",
      "[ 3.46065521  3.1508019   4.27626308  3.37238012  3.22870216] [ 5.  5.  5.  5.  5.]\n",
      "13 bgs rmse 1.02451766833\n",
      "[ 3.6504327   3.81137183  3.82522194  4.74854446  5.        ] [ 5.  5.  5.  5.  5.]\n",
      "15 random rmse 1.67938300308\n",
      "[ 2.95996253  3.25586586  5.          3.41074587  3.14792778] [ 5.  5.  5.  5.  5.]\n",
      "15 dpp rmse 1.94316553348\n",
      "[ 2.63602486  3.56152189  2.67814584  2.44892363  2.19978757] [ 5.  5.  5.  5.  5.]\n",
      "15 bgs rmse 0.894520081625\n",
      "[ 3.69588835  3.92537008  4.01838209  4.71401587  5.        ] [ 5.  5.  5.  5.  5.]\n",
      "17 random rmse 1.46988771677\n",
      "[ 4.59979103  4.02637922  3.85660151  4.31759017  4.52772717] [ 5.  5.  5.  5.  5.]\n",
      "17 dpp rmse 1.20705698293\n",
      "[ 3.43268289  3.37467867  5.          3.35789054  3.31315343] [ 5.  5.  5.  5.  5.]\n",
      "17 bgs rmse 0.831483139083\n",
      "[ 3.72061168  3.94799053  3.89170669  4.7007974   5.        ] [ 5.  5.  5.  5.  5.]\n",
      "19 random rmse 1.44662496648\n",
      "[ 3.73975914  3.39322582  5.          4.5877758   5.        ] [ 5.  5.  5.  5.  5.]\n",
      "19 dpp rmse 1.09240841192\n",
      "[ 3.25643461  3.44189994  3.60198099  4.35724925  4.30588319] [ 5.  5.  5.  5.  5.]\n",
      "19 bgs rmse 0.73294811715\n",
      "[ 4.11003022  4.32963824  3.9896606   4.64041713  5.        ] [ 5.  5.  5.  5.  5.]\n",
      "21 random rmse 1.18473115036\n",
      "[ 3.90666692  3.33760507  5.          4.40691863  5.        ] [ 5.  5.  5.  5.  5.]\n",
      "21 dpp rmse 1.24724947557\n",
      "[ 5.          5.          5.06198569  3.03883581  3.05404963] [ 5.  5.  5.  5.  5.]\n",
      "21 bgs rmse 0.708951787422\n",
      "[ 5.          4.6656376   4.23622421  4.60981858  5.        ] [ 5.  5.  5.  5.  5.]\n",
      "23 random rmse 1.14663560287\n",
      "[ 5.          4.8125713   4.97979115  3.24353594  3.36098936] [ 5.  5.  5.  5.  5.]\n",
      "23 dpp rmse 0.986676408351\n",
      "[ 4.97075145  4.57054827  5.          3.70742484  3.69714952] [ 5.  5.  5.  5.  5.]\n",
      "23 bgs rmse 0.719004168423\n",
      "[ 5.          4.63925718  4.22605683  4.75519566  5.        ] [ 5.  5.  5.  5.  5.]\n",
      "25 random rmse 1.37295518719\n",
      "[ 5.          5.          3.62970746  5.          4.70479766] [ 5.  5.  5.  5.  5.]\n",
      "25 dpp rmse 1.06587223706\n",
      "[ 4.86485982  4.63313752  4.693699    4.50136308  4.48940649] [ 5.  5.  5.  5.  5.]\n",
      "25 bgs rmse 0.71726968303\n",
      "[ 5.          4.63801503  4.22292999  4.75498542  5.        ] [ 5.  5.  5.  5.  5.]\n",
      "27 random rmse 1.16555480143\n",
      "[ 5.          4.99061342  4.62546733  5.          4.80185295] [ 5.  5.  5.  5.  5.]\n",
      "27 dpp rmse 1.06623380046\n",
      "[ 5.          5.          5.          2.92569933  2.81921423] [ 5.  5.  5.  5.  5.]\n",
      "27 bgs rmse 0.754955058446\n",
      "[ 5.          4.61938514  4.25267561  4.76660245  5.        ] [ 5.  5.  5.  5.  5.]\n",
      "29 random rmse 1.12599052808\n",
      "[ 5.03303341  4.80560037  4.90572839  5.          5.        ] [ 5.  5.  5.  5.  5.]\n",
      "29 dpp rmse 1.05098869923\n",
      "[ 5.          4.82499122  3.68197007  4.99378497  5.        ] [ 5.  5.  5.  5.  5.]\n",
      "29 bgs rmse 0.740795338136\n",
      "[ 5.          4.67489738  4.2712356   4.7811026   5.        ] [ 5.  5.  5.  5.  5.]\n"
     ]
    },
    {
     "data": {
      "image/png": "[encoded data removed]",
      "text/plain": [
       "<matplotlib.figure.Figure at 0x12bd2da20>"
      ]
     },
     "metadata": {},
     "output_type": "display_data"
    }
   ],
   "source": [
    "import random\n",
    "from collections import defaultdict\n",
    "\n",
    "kernel = DotProduct()\n",
    "gpr = GaussianProcessRegressor()\n",
    "BATCH_SIZE = 40\n",
    "steps = []\n",
    "errors = defaultdict(list)\n",
    "errors_min = defaultdict(list)\n",
    "errors_max = defaultdict(list)\n",
    "total_rated = pig.getnnz()\n",
    "for nb_rated in range(1, 30, 2):\n",
    "    steps.append(nb_rated)\n",
    "    for strategy in ['random', 'dpp', 'bgs']:\n",
    "        if strategy == 'random':\n",
    "            pos = random.sample(range(total_rated), nb_rated)\n",
    "        elif strategy == 'dpp':\n",
    "            pos = dpprbf.sample_k(nb_rated)\n",
    "        elif strategy == 'bgs':\n",
    "            pos = get_bgs[nb_rated]\n",
    "        work_ids = pig.indices[pos]\n",
    "        ratings = pig.data[pos]\n",
    "        \n",
    "        gpr.fit(als.VT.T[work_ids], ratings)\n",
    "        y_pred, sigma = gpr.predict(als.VT.T[pig.indices], return_std=True)\n",
    "        rmse = mean_squared_error(pig.data, y_pred) ** 0.5\n",
    "        rmse_max = mean_squared_error(pig.data, y_pred + 1.96 * sigma) ** 0.5\n",
    "        rmse_min = mean_squared_error(pig.data, y_pred - 1.96 * sigma) ** 0.5\n",
    "        errors[strategy].append(rmse)\n",
    "        errors_max[strategy].append(0)#abs(rmse_max - rmse))\n",
    "        errors_min[strategy].append(0)#abs(rmse_min - rmse))\n",
    "        print(nb_rated, strategy, 'rmse', rmse)\n",
    "        print(y_pred[:5], pig.data[:5])\n",
    "rand_curve = plt.errorbar(steps, errors['random'], yerr=[errors_min['random'], errors_max['random']], label='random')\n",
    "dpp_curve = plt.errorbar(steps, errors['dpp'], yerr=[errors_min['dpp'], errors_max['dpp']], color='r', label='dpp')\n",
    "bgs_curve = plt.errorbar(steps, errors['bgs'], yerr=[errors_min['bgs'], errors_max['bgs']], color='g', label='bgs')\n",
    "\n",
    "plt.legend(handles=[rand_curve, dpp_curve, bgs_curve])\n",
    "plt.show()"
   ]
  },
  {
   "cell_type": "code",
   "execution_count": 201,
   "metadata": {
    "collapsed": true
   },
   "outputs": [],
   "source": [
    "X = np.random.random((5, 2))*100\n",
    "eig, _ = np.linalg.eig(X.dot(X.T))"
   ]
  },
  {
   "cell_type": "code",
   "execution_count": 204,
   "metadata": {},
   "outputs": [
    {
     "data": {
      "text/plain": [
       "array([ 18630.,     -0.,   3416.,      0.,     -0.])"
      ]
     },
     "execution_count": 204,
     "metadata": {},
     "output_type": "execute_result"
    }
   ],
   "source": [
    "np.round(eig)"
   ]
  },
  {
   "cell_type": "code",
   "execution_count": null,
   "metadata": {
    "collapsed": true
   },
   "outputs": [],
   "source": []
  }
 ],
 "metadata": {
  "kernelspec": {
   "display_name": "Django Shell-Plus",
   "language": "python",
   "name": "django_extensions"
  },
  "language_info": {
   "codemirror_mode": {
    "name": "ipython",
    "version": 3
   },
   "file_extension": ".py",
   "mimetype": "text/x-python",
   "name": "python",
   "nbconvert_exporter": "python",
   "pygments_lexer": "ipython3",
   "version": "3.6.3"
  }
 },
 "nbformat": 4,
 "nbformat_minor": 2
}
