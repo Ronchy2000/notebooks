{
 "cells": [
  {
   "cell_type": "markdown",
   "metadata": {},
   "source": [
    "# Non-linear Matrix Factorization with Gaussian Processes"
   ]
  },
  {
   "cell_type": "markdown",
   "metadata": {},
   "source": [
    "This is an attempt to reproduce [this ICML 2009 paper](http://people.ee.duke.edu/~lcarin/MatrixFactorization.pdf)."
   ]
  },
  {
   "cell_type": "code",
   "execution_count": 88,
   "metadata": {
    "collapsed": true
   },
   "outputs": [],
   "source": [
    "import tensorflow as tf\n",
    "DEVICE = \"/cpu:0\""
   ]
  },
  {
   "cell_type": "code",
   "execution_count": 101,
   "metadata": {},
   "outputs": [],
   "source": [
    "inverter = defaultdict(list)\n",
    "for user_id in range(D):\n",
    "    batch = mangaki[user_id, :]\n",
    "    c = Counter(batch.data)\n",
    "    inverter[tuple(c[rating_values[rating]] for rating in ['dislike', 'favorite', 'like', 'neutral', 'willsee', 'wontsee'])].append(user_id)"
   ]
  },
  {
   "cell_type": "code",
   "execution_count": 102,
   "metadata": {
    "collapsed": true
   },
   "outputs": [],
   "source": [
    "from collections import Counter"
   ]
  },
  {
   "cell_type": "code",
   "execution_count": 103,
   "metadata": {},
   "outputs": [
    {
     "data": {
      "text/plain": [
       "[216]"
      ]
     },
     "execution_count": 103,
     "metadata": {},
     "output_type": "execute_result"
    }
   ],
   "source": [
    "inverter[17, 28, 122, 10, 345, 76]"
   ]
  },
  {
   "cell_type": "code",
   "execution_count": 8,
   "metadata": {
    "collapsed": true
   },
   "outputs": [],
   "source": [
    "N = 100  # items\n",
    "D = 2071  # users\n",
    "q = 10  # latent dimension"
   ]
  },
  {
   "cell_type": "code",
   "execution_count": 9,
   "metadata": {
    "collapsed": true
   },
   "outputs": [],
   "source": [
    "# Simulated data\n",
    "import numpy as np\n",
    "from sklearn.preprocessing import scale\n",
    "\n",
    "def get_simulated_data(true_alpha_x=5, true_alpha_w=2, true_sigma=1):\n",
    "    X = np.random.randint(50, size=(N, q))\n",
    "    #X = np.random.normal(0, 1/true_alpha_x, (N, q))\n",
    "    W = np.random.normal(0, 1/true_alpha_w, (D, q))\n",
    "    rating_rows = []\n",
    "    for i in range(N):\n",
    "        rating_rows.append(np.random.multivariate_normal(W.dot(X[i, :]), true_sigma ** 2 * np.eye(D)))\n",
    "    Y = np.array(rating_rows)\n",
    "    Y_scaled = scale(Y, axis=1, with_std=False)\n",
    "    return Y, Y_scaled"
   ]
  },
  {
   "cell_type": "code",
   "execution_count": 10,
   "metadata": {
    "collapsed": true
   },
   "outputs": [],
   "source": [
    "# Real data\n",
    "from mangaki.algo.dataset import Dataset\n",
    "from mangaki.utils.values import rating_values\n",
    "\n",
    "dataset = Dataset()\n",
    "dataset.load_csv('ratings-ordered.csv', convert=lambda choice: rating_values[choice])"
   ]
  },
  {
   "cell_type": "code",
   "execution_count": 11,
   "metadata": {
    "collapsed": true
   },
   "outputs": [],
   "source": [
    "from scipy.sparse import coo_matrix\n",
    "\n",
    "rows = dataset.anonymized.X[:, 0]\n",
    "cols = dataset.anonymized.X[:, 1]\n",
    "data = dataset.anonymized.y\n",
    "mangaki = coo_matrix((data, (rows, cols)), shape=(dataset.anonymized.nb_users, dataset.anonymized.nb_works)).tocsr()"
   ]
  },
  {
   "cell_type": "code",
   "execution_count": 12,
   "metadata": {},
   "outputs": [
    {
     "data": {
      "text/plain": [
       "<2103x10115 sparse matrix of type '<class 'numpy.float64'>'\n",
       "\twith 339446 stored elements in Compressed Sparse Row format>"
      ]
     },
     "execution_count": 12,
     "metadata": {},
     "output_type": "execute_result"
    }
   ],
   "source": [
    "mangaki"
   ]
  },
  {
   "cell_type": "markdown",
   "metadata": {},
   "source": [
    "Now skip to ALS."
   ]
  },
  {
   "cell_type": "code",
   "execution_count": 132,
   "metadata": {},
   "outputs": [
    {
     "data": {
      "text/plain": [
       "<2071x100 sparse matrix of type '<class 'numpy.float64'>'\n",
       "\twith 78195 stored elements in Compressed Sparse Row format>"
      ]
     },
     "execution_count": 132,
     "metadata": {},
     "output_type": "execute_result"
    }
   ],
   "source": [
    "mangaki[:, :100]"
   ]
  },
  {
   "cell_type": "code",
   "execution_count": 133,
   "metadata": {
    "collapsed": true
   },
   "outputs": [],
   "source": [
    "Y = mangaki[:, :100].tocoo().T.tocsr()\n",
    "for movie_id in range(N):\n",
    "    row = Y[movie_id, :]\n",
    "    for user_id, replace in zip(row.indices, scale(row.data)):\n",
    "        Y[movie_id, user_id] = replace"
   ]
  },
  {
   "cell_type": "code",
   "execution_count": 134,
   "metadata": {
    "collapsed": true
   },
   "outputs": [],
   "source": [
    "dataset = coo_matrix(Y)\n",
    "#dataset = coo_matrix(Y_scaled)"
   ]
  },
  {
   "cell_type": "code",
   "execution_count": 135,
   "metadata": {},
   "outputs": [
    {
     "data": {
      "text/plain": [
       "<100x2071 sparse matrix of type '<class 'numpy.float64'>'\n",
       "\twith 78195 stored elements in Compressed Sparse Row format>"
      ]
     },
     "execution_count": 135,
     "metadata": {},
     "output_type": "execute_result"
    }
   ],
   "source": [
    "Y"
   ]
  },
  {
   "cell_type": "code",
   "execution_count": 136,
   "metadata": {},
   "outputs": [
    {
     "name": "stdout",
     "output_type": "stream",
     "text": [
      "nb users skipped 465 over 2071\n"
     ]
    }
   ],
   "source": [
    "# Prepare batches\n",
    "from sklearn.model_selection import ShuffleSplit\n",
    "\n",
    "# Simple split\n",
    "splitter = ShuffleSplit(n_splits=1, test_size=0.2)\n",
    "for i_train, i_test in splitter.split(dataset.data):\n",
    "    train = coo_matrix((dataset.data[i_train], (dataset.row[i_train], dataset.col[i_train])), shape=(N, D)).tocsc()\n",
    "    test = coo_matrix((dataset.data[i_test], (dataset.row[i_test], dataset.col[i_test])), shape=(N, D)).tocsc()\n",
    "\n",
    "# Split by user\n",
    "train_data = []\n",
    "train_row = []\n",
    "train_col = []\n",
    "test_data = []\n",
    "test_row = []\n",
    "test_col = []\n",
    "full = dataset.tocsc()\n",
    "nb_skip = 0\n",
    "train_users = set(range(D))\n",
    "for user_id in range(D):\n",
    "    this_user = full[:, user_id]\n",
    "    N_j = this_user.getnnz()\n",
    "    if N_j <= q:\n",
    "        train_users.remove(user_id)\n",
    "        nb_skip += 1\n",
    "        continue\n",
    "    for i_train, i_test in splitter.split(this_user.indices):\n",
    "        train_col.extend([user_id] * len(i_train))\n",
    "        train_row.extend(this_user.indices[i_train])\n",
    "        train_data.extend(this_user.data[i_train])\n",
    "        test_col.extend([user_id] * len(i_test))\n",
    "        test_row.extend(this_user.indices[i_test])\n",
    "        test_data.extend(this_user.data[i_test])\n",
    "print('nb users skipped', nb_skip, 'over', D)"
   ]
  },
  {
   "cell_type": "code",
   "execution_count": 137,
   "metadata": {
    "collapsed": true
   },
   "outputs": [],
   "source": [
    "assert len(train_data) == len(train_row)\n",
    "assert len(test_data) == len(test_row)"
   ]
  },
  {
   "cell_type": "code",
   "execution_count": 138,
   "metadata": {
    "collapsed": true
   },
   "outputs": [],
   "source": [
    "train = coo_matrix((train_data, (train_row, train_col)), shape=(N, D)).tocsc()\n",
    "test = coo_matrix((test_data, (test_row, test_col)), shape=(N, D)).tocsc()"
   ]
  },
  {
   "cell_type": "code",
   "execution_count": 139,
   "metadata": {},
   "outputs": [
    {
     "data": {
      "text/plain": [
       "<100x2071 sparse matrix of type '<class 'numpy.float64'>'\n",
       "\twith 60093 stored elements in Compressed Sparse Column format>"
      ]
     },
     "execution_count": 139,
     "metadata": {},
     "output_type": "execute_result"
    }
   ],
   "source": [
    "train"
   ]
  },
  {
   "cell_type": "code",
   "execution_count": 140,
   "metadata": {},
   "outputs": [
    {
     "data": {
      "text/plain": [
       "<100x2071 sparse matrix of type '<class 'numpy.float64'>'\n",
       "\twith 15842 stored elements in Compressed Sparse Column format>"
      ]
     },
     "execution_count": 140,
     "metadata": {},
     "output_type": "execute_result"
    }
   ],
   "source": [
    "test"
   ]
  },
  {
   "cell_type": "code",
   "execution_count": 141,
   "metadata": {
    "collapsed": true
   },
   "outputs": [],
   "source": [
    "item_batch = tf.placeholder(tf.int32, shape=[None], name=\"id_item\")\n",
    "rate_batch = tf.placeholder(tf.float32, shape=[None, None], name=\"rate\")\n",
    "pred_batch = tf.placeholder(tf.int32, shape=[None], name=\"id_pred\")"
   ]
  },
  {
   "cell_type": "code",
   "execution_count": 142,
   "metadata": {
    "collapsed": true
   },
   "outputs": [],
   "source": [
    "def log_det(cov):\n",
    "    return 2 * tf.reduce_sum(tf.log(tf.diag_part(tf.cholesky(cov))))"
   ]
  },
  {
   "cell_type": "code",
   "execution_count": 146,
   "metadata": {
    "collapsed": true
   },
   "outputs": [],
   "source": [
    "def kernel(X, Y):\n",
    "    return tf.matmul(X, tf.transpose(Y))\n",
    "\n",
    "class MFGP:\n",
    "    def __init__(self):\n",
    "        with tf.device(DEVICE):\n",
    "            with tf.variable_scope(\"conv1\"):\n",
    "                self.sigma = tf.Variable(1e-1, name=\"sigma\")  # tf.random_normal([1])\n",
    "                self.alpha_w = tf.Variable(tf.random_normal([1]), name=\"alpha_w\")\n",
    "                self.X_item = tf.Variable(tf.random_normal([N, q], stddev=5), name=\"embd_item\")\n",
    "\n",
    "    def predict(self, item_batch, rate_batch, pred_batch):\n",
    "        with tf.device(DEVICE):\n",
    "            X_batch = tf.nn.embedding_lookup(self.X_item, item_batch)\n",
    "            X_pred = tf.nn.embedding_lookup(self.X_item, pred_batch)\n",
    "            N_j = tf.shape(item_batch)[0]\n",
    "            cov = kernel(X_batch, X_batch) + self.sigma ** 2 * tf.eye(N_j)\n",
    "            s = tf.matmul(tf.matrix_inverse(cov), kernel(X_batch, X_pred))\n",
    "            prediction = tf.matmul(tf.transpose(s), rate_batch)\n",
    "        return tf.reshape(prediction, [-1])\n",
    "\n",
    "    def get_loss(self, item_batch, rate_batch):\n",
    "        with tf.device(DEVICE):\n",
    "            X_batch = tf.nn.embedding_lookup(self.X_item, item_batch)\n",
    "            XT_batch = tf.transpose(X_batch)\n",
    "            N_j = tf.shape(item_batch)[0]\n",
    "            defpos = kernel(X_batch, X_batch)\n",
    "            cov = 1/tf.abs(self.alpha_w) * defpos + self.sigma ** 2 * tf.eye(N_j)\n",
    "            # inv_cov = tf.matrix_inverse(cov)  # O(N_j^3)\n",
    "            cheap_inv = tf.matrix_inverse(tf.abs(self.alpha_w) * self.sigma ** (-2) * tf.eye(q)\n",
    "                                          + tf.matmul(XT_batch, X_batch))\n",
    "            inv_cov = self.sigma ** (-2) - self.sigma ** (-4) * tf.matmul(X_batch, tf.matmul(cheap_inv, XT_batch))  # O(q^3)\n",
    "            loss = (tf.cast(N_j, tf.float32) * log_det(cov)\n",
    "                    + tf.reshape(tf.matmul(tf.transpose(rate_batch), tf.matmul(inv_cov, rate_batch)), []))\n",
    "        return loss, (cov, defpos, X_batch)\n",
    "\n",
    "    def optimization(self, item_batch, rate_batch, learning_rate):\n",
    "        global_step = tf.train.get_global_step()\n",
    "        assert global_step is not None\n",
    "        with tf.device(DEVICE):\n",
    "            loss, (cov, defpos, X_batch) = self.get_loss(item_batch, rate_batch)\n",
    "            train_op = tf.train.MomentumOptimizer(learning_rate, 0.9, use_nesterov=True).minimize(loss, global_step=global_step, var_list=[self.X_item])\n",
    "        return loss, train_op, (cov, defpos, X_batch)"
   ]
  },
  {
   "cell_type": "code",
   "execution_count": 147,
   "metadata": {
    "collapsed": true
   },
   "outputs": [],
   "source": [
    "def to_matrix(l):\n",
    "    return np.array(l).reshape(len(l), 1)"
   ]
  },
  {
   "cell_type": "code",
   "execution_count": 148,
   "metadata": {},
   "outputs": [
    {
     "name": "stdout",
     "output_type": "stream",
     "text": [
      "user_id | epoch | train_error | val_error | elapsed_time\n",
      "epoch=  0 train_rmse=7.099235 (1.000710) test_rmse=6.157351 (1.003259) total_nll=-287224265.353516 sigma=0.100000 alpha_w=1.753959\n",
      "epoch=  1 train_rmse=2.079178 (1.000710) test_rmse=2.118881 (1.003259) total_nll=-298726846.699219 sigma=0.100000 alpha_w=1.753959\n",
      "epoch=  2 train_rmse=11.680286 (1.000710) test_rmse=9.852969 (1.003259) total_nll=-302750440.118164 sigma=0.100000 alpha_w=1.753959\n",
      "epoch=  3 train_rmse=19.395447 (1.000710) test_rmse=15.919051 (1.003259) total_nll=-304895133.985352 sigma=0.100000 alpha_w=1.753959\n",
      "epoch=  4 train_rmse=27.530071 (1.000710) test_rmse=28.348537 (1.003259) total_nll=-306099596.312500 sigma=0.100000 alpha_w=1.753959\n",
      "epoch=  5 train_rmse=9.603479 (1.000710) test_rmse=9.229228 (1.003259) total_nll=-307085520.960938 sigma=0.100000 alpha_w=1.753959\n"
     ]
    },
    {
     "ename": "KeyboardInterrupt",
     "evalue": "",
     "output_type": "error",
     "traceback": [
      "\u001b[0;31m---------------------------------------------------------------------------\u001b[0m",
      "\u001b[0;31mKeyboardInterrupt\u001b[0m                         Traceback (most recent call last)",
      "\u001b[0;32m<ipython-input-148-8270c7bbc49b>\u001b[0m in \u001b[0;36m<module>\u001b[0;34m()\u001b[0m\n\u001b[1;32m     46\u001b[0m             \u001b[0;32mfor\u001b[0m \u001b[0muser_id\u001b[0m \u001b[0;32min\u001b[0m \u001b[0mtrain_users\u001b[0m\u001b[0;34m:\u001b[0m\u001b[0;34m\u001b[0m\u001b[0m\n\u001b[1;32m     47\u001b[0m                 \u001b[0mtrain_batch\u001b[0m \u001b[0;34m=\u001b[0m \u001b[0mtrain\u001b[0m\u001b[0;34m[\u001b[0m\u001b[0;34m:\u001b[0m\u001b[0;34m,\u001b[0m \u001b[0muser_id\u001b[0m\u001b[0;34m]\u001b[0m\u001b[0;34m\u001b[0m\u001b[0m\n\u001b[0;32m---> 48\u001b[0;31m                 \u001b[0mtest_batch\u001b[0m \u001b[0;34m=\u001b[0m \u001b[0mtest\u001b[0m\u001b[0;34m[\u001b[0m\u001b[0;34m:\u001b[0m\u001b[0;34m,\u001b[0m \u001b[0muser_id\u001b[0m\u001b[0;34m]\u001b[0m\u001b[0;34m\u001b[0m\u001b[0m\n\u001b[0m\u001b[1;32m     49\u001b[0m                 \u001b[0mitems_rated\u001b[0m\u001b[0;34m,\u001b[0m \u001b[0mratings\u001b[0m \u001b[0;34m=\u001b[0m \u001b[0mtrain_batch\u001b[0m\u001b[0;34m.\u001b[0m\u001b[0mindices\u001b[0m\u001b[0;34m,\u001b[0m \u001b[0mto_matrix\u001b[0m\u001b[0;34m(\u001b[0m\u001b[0mtrain_batch\u001b[0m\u001b[0;34m.\u001b[0m\u001b[0mdata\u001b[0m\u001b[0;34m)\u001b[0m\u001b[0;34m\u001b[0m\u001b[0m\n\u001b[1;32m     50\u001b[0m                 \u001b[0mitems_to_pred\u001b[0m\u001b[0;34m,\u001b[0m \u001b[0mtruth\u001b[0m \u001b[0;34m=\u001b[0m \u001b[0mtest_batch\u001b[0m\u001b[0;34m.\u001b[0m\u001b[0mindices\u001b[0m\u001b[0;34m,\u001b[0m \u001b[0mtest_batch\u001b[0m\u001b[0;34m.\u001b[0m\u001b[0mdata\u001b[0m\u001b[0;34m\u001b[0m\u001b[0m\n",
      "\u001b[0;32m/Users/jilljenn/code/mangaki/venv/lib/python3.6/site-packages/scipy/sparse/csc.py\u001b[0m in \u001b[0;36m__getitem__\u001b[0;34m(self, key)\u001b[0m\n\u001b[1;32m    167\u001b[0m         if (isinstance(row, slice) or isinstance(col, slice) or\n\u001b[1;32m    168\u001b[0m                 isintlike(row) or isintlike(col)):\n\u001b[0;32m--> 169\u001b[0;31m             \u001b[0;32mreturn\u001b[0m \u001b[0mself\u001b[0m\u001b[0;34m.\u001b[0m\u001b[0mT\u001b[0m\u001b[0;34m[\u001b[0m\u001b[0mcol\u001b[0m\u001b[0;34m,\u001b[0m \u001b[0mrow\u001b[0m\u001b[0;34m]\u001b[0m\u001b[0;34m.\u001b[0m\u001b[0mT\u001b[0m\u001b[0;34m\u001b[0m\u001b[0m\n\u001b[0m\u001b[1;32m    170\u001b[0m         \u001b[0;31m# Things that return a sequence of values.\u001b[0m\u001b[0;34m\u001b[0m\u001b[0;34m\u001b[0m\u001b[0m\n\u001b[1;32m    171\u001b[0m         \u001b[0;32melse\u001b[0m\u001b[0;34m:\u001b[0m\u001b[0;34m\u001b[0m\u001b[0m\n",
      "\u001b[0;32m/Users/jilljenn/code/mangaki/venv/lib/python3.6/site-packages/scipy/sparse/base.py\u001b[0m in \u001b[0;36m__getattr__\u001b[0;34m(self, attr)\u001b[0m\n\u001b[1;32m    564\u001b[0m             \u001b[0;32mreturn\u001b[0m \u001b[0mself\u001b[0m\u001b[0;34m.\u001b[0m\u001b[0mtoarray\u001b[0m\u001b[0;34m(\u001b[0m\u001b[0;34m)\u001b[0m\u001b[0;34m\u001b[0m\u001b[0m\n\u001b[1;32m    565\u001b[0m         \u001b[0;32melif\u001b[0m \u001b[0mattr\u001b[0m \u001b[0;34m==\u001b[0m \u001b[0;34m'T'\u001b[0m\u001b[0;34m:\u001b[0m\u001b[0;34m\u001b[0m\u001b[0m\n\u001b[0;32m--> 566\u001b[0;31m             \u001b[0;32mreturn\u001b[0m \u001b[0mself\u001b[0m\u001b[0;34m.\u001b[0m\u001b[0mtranspose\u001b[0m\u001b[0;34m(\u001b[0m\u001b[0;34m)\u001b[0m\u001b[0;34m\u001b[0m\u001b[0m\n\u001b[0m\u001b[1;32m    567\u001b[0m         \u001b[0;32melif\u001b[0m \u001b[0mattr\u001b[0m \u001b[0;34m==\u001b[0m \u001b[0;34m'H'\u001b[0m\u001b[0;34m:\u001b[0m\u001b[0;34m\u001b[0m\u001b[0m\n\u001b[1;32m    568\u001b[0m             \u001b[0;32mreturn\u001b[0m \u001b[0mself\u001b[0m\u001b[0;34m.\u001b[0m\u001b[0mgetH\u001b[0m\u001b[0;34m(\u001b[0m\u001b[0;34m)\u001b[0m\u001b[0;34m\u001b[0m\u001b[0m\n",
      "\u001b[0;32m/Users/jilljenn/code/mangaki/venv/lib/python3.6/site-packages/scipy/sparse/csc.py\u001b[0m in \u001b[0;36mtranspose\u001b[0;34m(self, axes, copy)\u001b[0m\n\u001b[1;32m    120\u001b[0m         \u001b[0;32mfrom\u001b[0m \u001b[0;34m.\u001b[0m\u001b[0mcsr\u001b[0m \u001b[0;32mimport\u001b[0m \u001b[0mcsr_matrix\u001b[0m\u001b[0;34m\u001b[0m\u001b[0m\n\u001b[1;32m    121\u001b[0m         return csr_matrix((self.data, self.indices,\n\u001b[0;32m--> 122\u001b[0;31m                            self.indptr), (N, M), copy=copy)\n\u001b[0m\u001b[1;32m    123\u001b[0m \u001b[0;34m\u001b[0m\u001b[0m\n\u001b[1;32m    124\u001b[0m     \u001b[0mtranspose\u001b[0m\u001b[0;34m.\u001b[0m\u001b[0m__doc__\u001b[0m \u001b[0;34m=\u001b[0m \u001b[0mspmatrix\u001b[0m\u001b[0;34m.\u001b[0m\u001b[0mtranspose\u001b[0m\u001b[0;34m.\u001b[0m\u001b[0m__doc__\u001b[0m\u001b[0;34m\u001b[0m\u001b[0m\n",
      "\u001b[0;32m/Users/jilljenn/code/mangaki/venv/lib/python3.6/site-packages/scipy/sparse/compressed.py\u001b[0m in \u001b[0;36m__init__\u001b[0;34m(self, arg1, shape, dtype, copy)\u001b[0m\n\u001b[1;32m     81\u001b[0m         \u001b[0;31m# Read matrix dimensions given, if any\u001b[0m\u001b[0;34m\u001b[0m\u001b[0;34m\u001b[0m\u001b[0m\n\u001b[1;32m     82\u001b[0m         \u001b[0;32mif\u001b[0m \u001b[0mshape\u001b[0m \u001b[0;32mis\u001b[0m \u001b[0;32mnot\u001b[0m \u001b[0;32mNone\u001b[0m\u001b[0;34m:\u001b[0m\u001b[0;34m\u001b[0m\u001b[0m\n\u001b[0;32m---> 83\u001b[0;31m             \u001b[0mself\u001b[0m\u001b[0;34m.\u001b[0m\u001b[0mshape\u001b[0m \u001b[0;34m=\u001b[0m \u001b[0mshape\u001b[0m   \u001b[0;31m# spmatrix will check for errors\u001b[0m\u001b[0;34m\u001b[0m\u001b[0m\n\u001b[0m\u001b[1;32m     84\u001b[0m         \u001b[0;32melse\u001b[0m\u001b[0;34m:\u001b[0m\u001b[0;34m\u001b[0m\u001b[0m\n\u001b[1;32m     85\u001b[0m             \u001b[0;32mif\u001b[0m \u001b[0mself\u001b[0m\u001b[0;34m.\u001b[0m\u001b[0mshape\u001b[0m \u001b[0;32mis\u001b[0m \u001b[0;32mNone\u001b[0m\u001b[0;34m:\u001b[0m\u001b[0;34m\u001b[0m\u001b[0m\n",
      "\u001b[0;32m/Users/jilljenn/code/mangaki/venv/lib/python3.6/site-packages/scipy/sparse/base.py\u001b[0m in \u001b[0;36mset_shape\u001b[0;34m(self, shape)\u001b[0m\n\u001b[1;32m     90\u001b[0m             \u001b[0;32mraise\u001b[0m \u001b[0mValueError\u001b[0m\u001b[0;34m(\u001b[0m\u001b[0;34m'invalid shape'\u001b[0m\u001b[0;34m)\u001b[0m\u001b[0;34m\u001b[0m\u001b[0m\n\u001b[1;32m     91\u001b[0m \u001b[0;34m\u001b[0m\u001b[0m\n\u001b[0;32m---> 92\u001b[0;31m         \u001b[0;32mif\u001b[0m \u001b[0;34m(\u001b[0m\u001b[0mself\u001b[0m\u001b[0;34m.\u001b[0m\u001b[0m_shape\u001b[0m \u001b[0;34m!=\u001b[0m \u001b[0mshape\u001b[0m\u001b[0;34m)\u001b[0m \u001b[0;32mand\u001b[0m \u001b[0;34m(\u001b[0m\u001b[0mself\u001b[0m\u001b[0;34m.\u001b[0m\u001b[0m_shape\u001b[0m \u001b[0;32mis\u001b[0m \u001b[0;32mnot\u001b[0m \u001b[0;32mNone\u001b[0m\u001b[0;34m)\u001b[0m\u001b[0;34m:\u001b[0m\u001b[0;34m\u001b[0m\u001b[0m\n\u001b[0m\u001b[1;32m     93\u001b[0m             \u001b[0;32mtry\u001b[0m\u001b[0;34m:\u001b[0m\u001b[0;34m\u001b[0m\u001b[0m\n\u001b[1;32m     94\u001b[0m                 \u001b[0mself\u001b[0m \u001b[0;34m=\u001b[0m \u001b[0mself\u001b[0m\u001b[0;34m.\u001b[0m\u001b[0mreshape\u001b[0m\u001b[0;34m(\u001b[0m\u001b[0mshape\u001b[0m\u001b[0;34m)\u001b[0m\u001b[0;34m\u001b[0m\u001b[0m\n",
      "\u001b[0;31mKeyboardInterrupt\u001b[0m: "
     ]
    }
   ],
   "source": [
    "from sklearn.metrics import mean_squared_error\n",
    "from collections import deque\n",
    "import time\n",
    "import random\n",
    "import sys\n",
    "\n",
    "mfgp = MFGP()\n",
    "prediction = mfgp.predict(item_batch, rate_batch, pred_batch)\n",
    "\n",
    "global_step = tf.contrib.framework.get_or_create_global_step()\n",
    "loss, train_op, (cov, defpos, X_batch) = mfgp.optimization(item_batch, rate_batch, learning_rate=0.0001)\n",
    "\n",
    "init_op = tf.global_variables_initializer()\n",
    "with tf.Session() as sess:\n",
    "    sess.run(init_op)\n",
    "    print(\" | \".join([\"user_id\", \"epoch\", \"train_error\", \"val_error\", \"elapsed_time\"]))\n",
    "    errors = []\n",
    "    for epoch in range(50):\n",
    "        cross = list(train_users)\n",
    "        random.shuffle(cross)\n",
    "        train_preds = []\n",
    "        train_ratings = []\n",
    "        for user_id in cross:\n",
    "            train_batch = train[:, user_id]\n",
    "            if train_batch.getnnz() == 0:\n",
    "                continue\n",
    "            items_rated, ratings = train_batch.indices, to_matrix(train_batch.data)\n",
    "            try:\n",
    "                sess.run(train_op, feed_dict={item_batch: items_rated,\n",
    "                                              rate_batch: ratings,\n",
    "                                              pred_batch: items_rated})\n",
    "            except Exception as e:\n",
    "                print('Error for %d (%s): %s' % (user_id, str(items_rated), sys.exc_info()[0]))\n",
    "                print('Sigma', mfgp.sigma.eval(), 'alpha_w', mfgp.alpha_w.eval())\n",
    "                print(sess.run([tf.shape(X_batch), X_batch], feed_dict={item_batch: items_rated, rate_batch: ratings, pred_batch: items_rated}))\n",
    "                print(sess.run(tf.matrix_determinant(defpos), feed_dict={item_batch: items_rated, rate_batch: ratings, pred_batch: items_rated}))\n",
    "                print(sess.run(tf.matrix_determinant(cov), feed_dict={item_batch: items_rated, rate_batch: ratings, pred_batch: items_rated}))\n",
    "                print(e.message)\n",
    "                print(sys.exc_info()[0].__doc__)\n",
    "\n",
    "        # End of train epoch, start test\n",
    "        if epoch % 1 == 0:\n",
    "            total_nll = []\n",
    "            test_truth = []\n",
    "            test_preds = []\n",
    "            for user_id in train_users:\n",
    "                train_batch = train[:, user_id]\n",
    "                test_batch = test[:, user_id]\n",
    "                items_rated, ratings = train_batch.indices, to_matrix(train_batch.data)\n",
    "                items_to_pred, truth = test_batch.indices, test_batch.data\n",
    "                try:\n",
    "                    this_user_nll, train_pred = sess.run([loss, prediction], feed_dict={item_batch: items_rated,\n",
    "                                                                                        rate_batch: ratings,\n",
    "                                                                                        pred_batch: items_rated})\n",
    "                except:\n",
    "                    print('Error for train %d (%s): %s' % (user_id, str(items_rated), sys.exc_info()[0]))\n",
    "                try:\n",
    "                    test_pred = sess.run(prediction, feed_dict={item_batch: items_rated,\n",
    "                                                                rate_batch: ratings,\n",
    "                                                                pred_batch: items_to_pred})\n",
    "                except:\n",
    "                    print('Error for test %d (%s): %s' % (user_id, str(items_to_pred), sys.exc_info()[0]))\n",
    "                total_nll.append(this_user_nll)\n",
    "                train_ratings.extend(ratings)\n",
    "                train_preds.extend(train_pred)\n",
    "                test_truth.extend(truth)\n",
    "                test_preds.extend(test_pred)\n",
    "            train_rmse = np.sqrt(mean_squared_error(train_ratings, train_preds))            \n",
    "            train_stupid = np.sqrt(mean_squared_error(train_ratings, [0] * len(train_ratings)))            \n",
    "            test_rmse = np.sqrt(mean_squared_error(test_truth, test_preds))\n",
    "            test_stupid = np.sqrt(mean_squared_error(test_truth, [0] * len(test_truth)))\n",
    "            print(\"epoch={:3d} train_rmse={:f} ({:f}) test_rmse={:f} ({:f}) total_nll={:f} sigma={:f} alpha_w={:f}\"\n",
    "                  .format(epoch, train_rmse, train_stupid, test_rmse, test_stupid,\n",
    "                          sum(total_nll), abs(float(mfgp.sigma.eval())), abs(float(mfgp.alpha_w.eval()))))\n",
    "    print('learned sigma')\n",
    "    print(mfgp.sigma.eval())\n",
    "    print('learned alpha_w')\n",
    "    print(mfgp.alpha_w.eval())\n",
    "    print('learned x')\n",
    "    print(mfgp.x_item.eval())"
   ]
  },
  {
   "cell_type": "markdown",
   "metadata": {},
   "source": [
    "(The error is because it was interrupted.)\n",
    "\n",
    "As you can see, the learning stops when the stupid RMSE (every prediction is 0) is obtained."
   ]
  },
  {
   "cell_type": "markdown",
   "metadata": {},
   "source": [
    "# Meanwhile, Alternating Least Squares…"
   ]
  },
  {
   "cell_type": "code",
   "execution_count": 13,
   "metadata": {},
   "outputs": [
    {
     "data": {
      "text/plain": [
       "<2103x10115 sparse matrix of type '<class 'numpy.float64'>'\n",
       "\twith 339446 stored elements in Compressed Sparse Row format>"
      ]
     },
     "execution_count": 13,
     "metadata": {},
     "output_type": "execute_result"
    }
   ],
   "source": [
    "mangaki"
   ]
  },
  {
   "cell_type": "code",
   "execution_count": 14,
   "metadata": {},
   "outputs": [
    {
     "data": {
      "text/plain": [
       "array([ 4. ,  4. ,  4. ,  2. ,  4. ,  2. ,  4. ,  4. ,  0.1,  2. ])"
      ]
     },
     "execution_count": 14,
     "metadata": {},
     "output_type": "execute_result"
    }
   ],
   "source": [
    "mangaki.data[:10]"
   ]
  },
  {
   "cell_type": "code",
   "execution_count": 15,
   "metadata": {
    "collapsed": true
   },
   "outputs": [],
   "source": [
    "from sklearn.model_selection import ShuffleSplit\n",
    "\n",
    "splitter = ShuffleSplit(n_splits=1, test_size=0.2)\n",
    "X_train = []\n",
    "y_train = []\n",
    "X_test = []\n",
    "y_test = []\n",
    "for i_train, i_test in splitter.split(range(D)):\n",
    "    i_train = set(i_train)\n",
    "    i_test = set(i_test)\n",
    "    for (user_id, work_id), rating in zip(dataset.anonymized.X, dataset.anonymized.y):\n",
    "        if user_id in i_train:\n",
    "            X_train.append((user_id, work_id))\n",
    "            y_train.append(rating)\n",
    "        else:\n",
    "            X_test.append((user_id, work_id))\n",
    "            y_test.append(rating)\n",
    "X_train = np.array(X_train)\n",
    "y_train = np.array(y_train)\n",
    "X_test = np.array(X_test)\n",
    "y_test = np.array(y_test)"
   ]
  },
  {
   "cell_type": "code",
   "execution_count": 16,
   "metadata": {},
   "outputs": [
    {
     "data": {
      "text/plain": [
       "(274905, 64541)"
      ]
     },
     "execution_count": 16,
     "metadata": {},
     "output_type": "execute_result"
    }
   ],
   "source": [
    "len(X_train), len(X_test)"
   ]
  },
  {
   "cell_type": "code",
   "execution_count": 17,
   "metadata": {},
   "outputs": [
    {
     "name": "stdout",
     "output_type": "stream",
     "text": [
      "Computing M: (2103 × 10115)\n",
      "Chrono: fill and center matrix [0q, 1248ms]\n",
      "Shapes (2103, 20) (20, 10115)\n",
      "Chrono: factor matrix [0q, 10674ms]\n",
      "Train RMSE= 0.900279290164\n",
      "Test RMSE= 1.82269478897\n"
     ]
    }
   ],
   "source": [
    "from mangaki.algo.als import MangakiALS\n",
    "\n",
    "def compute_all_errors(X_train, y_train, X_test, y_test):\n",
    "    y_train_pred = als.predict(X_train)\n",
    "    print('Train RMSE=', als.compute_rmse(y_train, y_train_pred))\n",
    "    y_test_pred = als.predict(X_test)\n",
    "    print('Test RMSE=', als.compute_rmse(y_test, y_test_pred))\n",
    "\n",
    "als = MangakiALS()\n",
    "als.set_parameters(dataset.anonymized.nb_users, dataset.anonymized.nb_works)\n",
    "als.fit(X_train, y_train)\n",
    "compute_all_errors(X_train, y_train, X_test, y_test)"
   ]
  },
  {
   "cell_type": "code",
   "execution_count": 18,
   "metadata": {},
   "outputs": [
    {
     "data": {
      "text/plain": [
       "0.90022852466298531"
      ]
     },
     "execution_count": 18,
     "metadata": {},
     "output_type": "execute_result"
    }
   ],
   "source": [
    "y_pred = als.predict(X_train)\n",
    "(y_train - y_pred).std()"
   ]
  },
  {
   "cell_type": "markdown",
   "metadata": {},
   "source": [
    "And the learned rows of $U$ seem Gaussian!"
   ]
  },
  {
   "cell_type": "code",
   "execution_count": 19,
   "metadata": {},
   "outputs": [
    {
     "data": {
      "text/plain": [
       "(array([  10.,   38.,  125.,  328.,  706.,  423.,  250.,  158.,   62.,    3.]),\n",
       " array([-1.01253695, -0.77330748, -0.53407801, -0.29484854, -0.05561908,\n",
       "         0.18361039,  0.42283986,  0.66206933,  0.9012988 ,  1.14052826,\n",
       "         1.37975773]),\n",
       " <a list of 10 Patch objects>)"
      ]
     },
     "execution_count": 19,
     "metadata": {},
     "output_type": "execute_result"
    },
    {
     "data": {
      "image/png": "[encoded data removed]",
      "text/plain": [
       "<matplotlib.figure.Figure at 0x1245c9198>"
      ]
     },
     "metadata": {},
     "output_type": "display_data"
    }
   ],
   "source": [
    "%matplotlib inline\n",
    "import matplotlib.pyplot as plt\n",
    "plt.hist(als.U[:, 0])\n",
    "plt.hist(als.U[:, 1])\n",
    "plt.hist(als.U[:, 15])"
   ]
  },
  {
   "cell_type": "code",
   "execution_count": 20,
   "metadata": {},
   "outputs": [
    {
     "data": {
      "text/plain": [
       "(array([   13.,    37.,   155.,   657.,  2304.,  4382.,  1617.,   546.,\n",
       "          349.,    55.]),\n",
       " array([-1.33585743, -1.08636932, -0.83688121, -0.5873931 , -0.33790499,\n",
       "        -0.08841688,  0.16107123,  0.41055934,  0.66004745,  0.90953555,\n",
       "         1.15902366]),\n",
       " <a list of 10 Patch objects>)"
      ]
     },
     "execution_count": 20,
     "metadata": {},
     "output_type": "execute_result"
    },
    {
     "data": {
      "image/png": "[encoded data removed]",
      "text/plain": [
       "<matplotlib.figure.Figure at 0x1245c9240>"
      ]
     },
     "metadata": {},
     "output_type": "display_data"
    }
   ],
   "source": [
    "%matplotlib inline\n",
    "import matplotlib.pyplot as plt\n",
    "plt.hist(als.VT.T[:, 17])\n",
    "plt.hist(als.VT.T[:, 5])"
   ]
  },
  {
   "cell_type": "markdown",
   "metadata": {},
   "source": [
    "Maybe it does not hold for $V$."
   ]
  },
  {
   "cell_type": "code",
   "execution_count": 21,
   "metadata": {},
   "outputs": [
    {
     "data": {
      "text/plain": [
       "<matplotlib.image.AxesImage at 0x124b20f98>"
      ]
     },
     "execution_count": 21,
     "metadata": {},
     "output_type": "execute_result"
    },
    {
     "data": {
      "image/png": "[encoded data removed]",
      "text/plain": [
       "<matplotlib.figure.Figure at 0x1272950f0>"
      ]
     },
     "metadata": {},
     "output_type": "display_data"
    }
   ],
   "source": [
    "%matplotlib inline\n",
    "\n",
    "cov = np.cov(als.U.T)\n",
    "plt.imshow(cov)"
   ]
  },
  {
   "cell_type": "code",
   "execution_count": 22,
   "metadata": {},
   "outputs": [
    {
     "data": {
      "text/plain": [
       "array([ 0.16893529,  0.15277557,  0.15238144,  0.13684478,  0.16085202,\n",
       "        0.13924175,  0.14472475,  0.13097862,  0.14696406,  0.15079352,\n",
       "        0.12473429,  0.15077773,  0.14352826,  0.11480097,  0.14759594,\n",
       "        0.12768213,  0.1349252 ,  0.13479289,  0.14549573,  0.12158243])"
      ]
     },
     "execution_count": 22,
     "metadata": {},
     "output_type": "execute_result"
    }
   ],
   "source": [
    "np.diag(cov)"
   ]
  },
  {
   "cell_type": "code",
   "execution_count": 23,
   "metadata": {},
   "outputs": [
    {
     "data": {
      "text/plain": [
       "(2103, 20)"
      ]
     },
     "execution_count": 23,
     "metadata": {},
     "output_type": "execute_result"
    }
   ],
   "source": [
    "als.U.shape"
   ]
  },
  {
   "cell_type": "code",
   "execution_count": 24,
   "metadata": {},
   "outputs": [
    {
     "data": {
      "text/plain": [
       "<matplotlib.image.AxesImage at 0x124012160>"
      ]
     },
     "execution_count": 24,
     "metadata": {},
     "output_type": "execute_result"
    },
    {
     "data": {
      "image/png": "[encoded data removed]",
      "text/plain": [
       "<matplotlib.figure.Figure at 0x124b64be0>"
      ]
     },
     "metadata": {},
     "output_type": "display_data"
    }
   ],
   "source": [
    "%matplotlib inline\n",
    "\n",
    "cov = np.cov(als.VT)\n",
    "plt.imshow(cov)"
   ]
  },
  {
   "cell_type": "code",
   "execution_count": 25,
   "metadata": {},
   "outputs": [
    {
     "data": {
      "text/plain": [
       "array([ 0.0809069 ,  0.09273383,  0.08121565,  0.08932722,  0.09338766,\n",
       "        0.08851284,  0.09666033,  0.10768702,  0.08068045,  0.10304816,\n",
       "        0.0888095 ,  0.14475521,  0.09767843,  0.09114926,  0.08904031,\n",
       "        0.08887972,  0.08495562,  0.08077131,  0.10869503,  0.08312154])"
      ]
     },
     "execution_count": 25,
     "metadata": {},
     "output_type": "execute_result"
    }
   ],
   "source": [
    "np.diag(cov)"
   ]
  },
  {
   "cell_type": "markdown",
   "metadata": {},
   "source": [
    "Learned components are independent."
   ]
  },
  {
   "cell_type": "code",
   "execution_count": 26,
   "metadata": {},
   "outputs": [
    {
     "data": {
      "text/plain": [
       "0.87323830159460059"
      ]
     },
     "execution_count": 26,
     "metadata": {},
     "output_type": "execute_result"
    }
   ],
   "source": [
    "als.means.mean()  # Global bias"
   ]
  },
  {
   "cell_type": "code",
   "execution_count": 105,
   "metadata": {},
   "outputs": [
    {
     "data": {
      "text/plain": [
       "True"
      ]
     },
     "execution_count": 105,
     "metadata": {},
     "output_type": "execute_result"
    }
   ],
   "source": [
    "216 in i_test"
   ]
  },
  {
   "cell_type": "code",
   "execution_count": 135,
   "metadata": {},
   "outputs": [
    {
     "data": {
      "text/plain": [
       "598"
      ]
     },
     "execution_count": 135,
     "metadata": {},
     "output_type": "execute_result"
    }
   ],
   "source": [
    "PIG = list(i_test)[216]\n",
    "pig = mangaki[216, :]\n",
    "all_ratings = pig.data\n",
    "all_ratings -= als.means.mean()\n",
    "pig.getnnz()"
   ]
  },
  {
   "cell_type": "code",
   "execution_count": 162,
   "metadata": {},
   "outputs": [
    {
     "data": {
      "text/plain": [
       "array([ 0,  1,  2,  3,  4,  5,  6,  7,  8,  9, 10, 11, 12, 13, 14, 15, 16,\n",
       "       17, 18, 19, 20, 21, 22, 23, 24, 25, 26, 27, 28, 29, 30, 31, 32, 33,\n",
       "       34, 35, 36, 37, 38, 39], dtype=int32)"
      ]
     },
     "execution_count": 162,
     "metadata": {},
     "output_type": "execute_result"
    }
   ],
   "source": [
    "pig.indices[:40]"
   ]
  },
  {
   "cell_type": "code",
   "execution_count": 163,
   "metadata": {
    "collapsed": true
   },
   "outputs": [],
   "source": [
    "from sklearn.gaussian_process.kernels import DotProduct\n",
    "from sklearn.gaussian_process import GaussianProcessRegressor\n",
    "\n",
    "kernel = 0.1 * DotProduct(sigma_0=0.9)  # Kernel that will be used for both GP and DPP\n",
    "gpr = GaussianProcessRegressor(kernel=kernel, normalize_y=True, optimizer=None)"
   ]
  },
  {
   "cell_type": "code",
   "execution_count": 208,
   "metadata": {},
   "outputs": [
    {
     "name": "stdout",
     "output_type": "stream",
     "text": [
      "80 rmse 1.78497603039\n",
      "[ 0.99111272  0.77756549  0.11795522  2.70731117  2.56875183] [ 1.1267617  1.1267617 -0.3732383  3.1267617  3.1267617]\n",
      "0.000133744650561\n"
     ]
    },
    {
     "name": "stderr",
     "output_type": "stream",
     "text": [
      "/Users/jin/Sites/mangaki/venv/lib/python3.6/site-packages/sklearn/gaussian_process/gpr.py:308: UserWarning: Predicted variances smaller than 0. Setting those variances to 0.\n",
      "  warnings.warn(\"Predicted variances smaller than 0. \"\n"
     ]
    },
    {
     "data": {
      "text/plain": [
       "[<matplotlib.lines.Line2D at 0x122b874e0>]"
      ]
     },
     "execution_count": 208,
     "metadata": {},
     "output_type": "execute_result"
    },
    {
     "data": {
      "image/png": "[encoded data removed]",
      "text/plain": [
       "<matplotlib.figure.Figure at 0x124272e80>"
      ]
     },
     "metadata": {},
     "output_type": "display_data"
    }
   ],
   "source": [
    "from sklearn.metrics import mean_squared_error\n",
    "\n",
    "def fix(x):\n",
    "    x[x > 4] = 4\n",
    "    x[x < -2] = -2\n",
    "\n",
    "BATCH_SIZE = 5\n",
    "steps = []\n",
    "errors = []\n",
    "for t in [80]:#range(BATCH_SIZE, 100, BATCH_SIZE):  # pig.getnnz() + 1\n",
    "    steps.append(t)\n",
    "    work_ids = pig.indices[:t]\n",
    "    ratings = pig.data[:t]\n",
    "    gpr.fit(als.VT.T[work_ids], ratings)\n",
    "    y_pred, sigma = gpr.predict(als.VT.T[pig.indices], return_std=True)\n",
    "    #fix(y_pred)\n",
    "    rmse = mean_squared_error(pig.data, y_pred) ** 0.5\n",
    "    errors.append(rmse)\n",
    "    print(t, 'rmse', rmse)\n",
    "    print(y_pred[:5], pig.data[:5])\n",
    "    #print(y_pred)\n",
    "    #print(pig.data)\n",
    "    #print(pig.indices[y_pred > 10])\n",
    "print(sigma.mean())\n",
    "plt.plot(steps, errors)"
   ]
  },
  {
   "cell_type": "code",
   "execution_count": 209,
   "metadata": {},
   "outputs": [
    {
     "name": "stderr",
     "output_type": "stream",
     "text": [
      "/Users/jin/Sites/mangaki/venv/lib/python3.6/site-packages/sklearn/utils/validation.py:395: DeprecationWarning: Passing 1d arrays as data is deprecated in 0.17 and will raise ValueError in 0.19. Reshape your data either using X.reshape(-1, 1) if your data has a single feature or X.reshape(1, -1) if it contains a single sample.\n",
      "  DeprecationWarning)\n",
      "/Users/jin/Sites/mangaki/venv/lib/python3.6/site-packages/sklearn/gaussian_process/gpr.py:308: UserWarning: Predicted variances smaller than 0. Setting those variances to 0.\n",
      "  warnings.warn(\"Predicted variances smaller than 0. \"\n"
     ]
    },
    {
     "data": {
      "text/plain": [
       "(array([-0.8457322]), array([ 0.]))"
      ]
     },
     "execution_count": 209,
     "metadata": {},
     "output_type": "execute_result"
    }
   ],
   "source": [
    "gpr.predict(als.VT.T[50], return_std=True)"
   ]
  },
  {
   "cell_type": "code",
   "execution_count": 216,
   "metadata": {
    "collapsed": true
   },
   "outputs": [],
   "source": [
    "# Let's troubleshoot\n",
    "X = als.VT.T[pig.indices[:80]]\n",
    "y = pig.data[:80]\n",
    "X_new = als.VT.T[50]"
   ]
  },
  {
   "cell_type": "code",
   "execution_count": 218,
   "metadata": {},
   "outputs": [
    {
     "data": {
      "text/plain": [
       "array([  9.05005049e+00 +0.00000000e+00j,\n",
       "         3.37996988e+00 +0.00000000e+00j,\n",
       "         2.21178872e+00 +0.00000000e+00j,\n",
       "         1.90476823e+00 +0.00000000e+00j,\n",
       "         1.29299129e+00 +0.00000000e+00j,\n",
       "         1.02701550e+00 +0.00000000e+00j,\n",
       "         8.12248569e-01 +0.00000000e+00j,\n",
       "         7.94178044e-01 +0.00000000e+00j,\n",
       "         7.19905772e-01 +0.00000000e+00j,\n",
       "         5.95525099e-01 +0.00000000e+00j,\n",
       "         5.61951791e-01 +0.00000000e+00j,\n",
       "         4.88383399e-01 +0.00000000e+00j,\n",
       "         4.25937039e-01 +0.00000000e+00j,\n",
       "         3.46979809e-01 +0.00000000e+00j,\n",
       "         1.74650170e-01 +0.00000000e+00j,\n",
       "         2.04842533e-01 +0.00000000e+00j,\n",
       "         3.67645866e-01 +0.00000000e+00j,\n",
       "         3.06110419e-01 +0.00000000e+00j,\n",
       "         2.79493732e-01 +0.00000000e+00j,\n",
       "         9.88074015e-02 +0.00000000e+00j,\n",
       "         8.83353411e-02 +0.00000000e+00j,\n",
       "         4.97176048e-16 +0.00000000e+00j,\n",
       "         3.15547270e-16 +0.00000000e+00j,\n",
       "        -3.32247059e-16 +0.00000000e+00j,\n",
       "        -2.53548864e-16 +4.16620238e-17j,\n",
       "        -2.53548864e-16 -4.16620238e-17j,\n",
       "         2.31486632e-16 +0.00000000e+00j,\n",
       "        -1.78558143e-16 +1.27183882e-16j,\n",
       "        -1.78558143e-16 -1.27183882e-16j,\n",
       "         1.83188436e-16 +1.59329955e-17j,\n",
       "         1.83188436e-16 -1.59329955e-17j,\n",
       "        -1.83841454e-16 +2.88897550e-17j,\n",
       "        -1.83841454e-16 -2.88897550e-17j,\n",
       "         3.64170841e-18 +1.57783076e-16j,\n",
       "         3.64170841e-18 -1.57783076e-16j,\n",
       "         1.41576237e-16 +7.70648296e-17j,\n",
       "         1.41576237e-16 -7.70648296e-17j,\n",
       "         1.48930180e-16 +0.00000000e+00j,\n",
       "        -6.07001933e-17 +1.08611520e-16j,\n",
       "        -6.07001933e-17 -1.08611520e-16j,\n",
       "        -1.38903277e-16 +3.66031249e-17j,\n",
       "        -1.38903277e-16 -3.66031249e-17j,\n",
       "        -1.08374190e-16 +7.74594656e-17j,\n",
       "        -1.08374190e-16 -7.74594656e-17j,\n",
       "         6.70334110e-17 +9.95965577e-17j,\n",
       "         6.70334110e-17 -9.95965577e-17j,\n",
       "        -1.32095448e-16 +0.00000000e+00j,\n",
       "         1.17926722e-16 +4.10919985e-17j,\n",
       "         1.17926722e-16 -4.10919985e-17j,\n",
       "         9.71394718e-17 +3.73738850e-17j,\n",
       "         9.71394718e-17 -3.73738850e-17j,\n",
       "         1.13160120e-16 +1.37302517e-17j,\n",
       "         1.13160120e-16 -1.37302517e-17j,\n",
       "        -1.13007211e-16 +0.00000000e+00j,\n",
       "         3.89330525e-17 +7.48652183e-17j,\n",
       "         3.89330525e-17 -7.48652183e-17j,\n",
       "        -7.88705964e-17 +5.09076246e-17j,\n",
       "        -7.88705964e-17 -5.09076246e-17j,\n",
       "         9.06372933e-17 +0.00000000e+00j,\n",
       "        -8.71222779e-17 +9.39027365e-18j,\n",
       "        -8.71222779e-17 -9.39027365e-18j,\n",
       "        -1.51664083e-17 +5.35348996e-17j,\n",
       "        -1.51664083e-17 -5.35348996e-17j,\n",
       "         5.41904514e-17 +3.17037169e-17j,\n",
       "         5.41904514e-17 -3.17037169e-17j,\n",
       "        -7.62362511e-17 +0.00000000e+00j,\n",
       "        -6.61331741e-17 +1.65975570e-17j,\n",
       "        -6.61331741e-17 -1.65975570e-17j,\n",
       "         2.58043030e-17 +3.74147494e-17j,\n",
       "         2.58043030e-17 -3.74147494e-17j,\n",
       "         7.21461249e-17 +0.00000000e+00j,\n",
       "         1.42214912e-17 +3.15990903e-17j,\n",
       "         1.42214912e-17 -3.15990903e-17j,\n",
       "         4.88643066e-17 +0.00000000e+00j,\n",
       "         3.66580009e-17 +0.00000000e+00j,\n",
       "        -4.60425465e-17 +0.00000000e+00j,\n",
       "         1.98243299e-17 +0.00000000e+00j,\n",
       "        -5.57491677e-18 +0.00000000e+00j,\n",
       "        -2.91339973e-17 +2.70438030e-18j,  -2.91339973e-17 -2.70438030e-18j])"
      ]
     },
     "execution_count": 218,
     "metadata": {},
     "output_type": "execute_result"
    }
   ],
   "source": [
    "np.linalg.eig(kernel(X))[0]"
   ]
  },
  {
   "cell_type": "code",
   "execution_count": 211,
   "metadata": {},
   "outputs": [
    {
     "data": {
      "text/plain": [
       "array([ -1.20941095e+17,   1.94122974e+17,  -5.62734032e+16,\n",
       "        -6.31878660e+16,   7.00849396e+16])"
      ]
     },
     "execution_count": 211,
     "metadata": {},
     "output_type": "execute_result"
    }
   ],
   "source": [
    "pred = np.linalg.inv(kernel(X)).dot(y)\n",
    "pred[:5]"
   ]
  },
  {
   "cell_type": "code",
   "execution_count": 214,
   "metadata": {},
   "outputs": [
    {
     "data": {
      "text/plain": [
       "array([[ 0.16653526],\n",
       "       [ 0.16036377],\n",
       "       [ 0.15872817],\n",
       "       [ 0.11569942],\n",
       "       [ 0.11750291]])"
      ]
     },
     "execution_count": 214,
     "metadata": {},
     "output_type": "execute_result"
    }
   ],
   "source": [
    "weights = kernel(X, X_new.reshape(1, -1))\n",
    "weights[:5]"
   ]
  },
  {
   "cell_type": "code",
   "execution_count": 213,
   "metadata": {},
   "outputs": [
    {
     "data": {
      "text/plain": [
       "array([ 12.])"
      ]
     },
     "execution_count": 213,
     "metadata": {},
     "output_type": "execute_result"
    }
   ],
   "source": [
    "pred.dot(weights)"
   ]
  },
  {
   "cell_type": "code",
   "execution_count": 126,
   "metadata": {
    "collapsed": true
   },
   "outputs": [],
   "source": [
    "guilty = pig.indices[y_pred > 50]"
   ]
  },
  {
   "cell_type": "code",
   "execution_count": 137,
   "metadata": {},
   "outputs": [],
   "source": [
    "guilty = pig.indices[:20]"
   ]
  },
  {
   "cell_type": "code",
   "execution_count": 139,
   "metadata": {},
   "outputs": [
    {
     "data": {
      "text/plain": [
       "Counter({-2.8732383015946006: 1,\n",
       "         -1.3732383015946006: 3,\n",
       "         -0.77323830159460061: 2,\n",
       "         -0.37323830159460059: 4,\n",
       "         1.1267616984053994: 4,\n",
       "         3.1267616984053994: 6})"
      ]
     },
     "execution_count": 139,
     "metadata": {},
     "output_type": "execute_result"
    }
   ],
   "source": [
    "Counter(pig.data[:20])"
   ]
  },
  {
   "cell_type": "code",
   "execution_count": 131,
   "metadata": {},
   "outputs": [
    {
     "data": {
      "text/plain": [
       "array([ 50.96581143,  55.53227003,  57.62382242,  55.20295489,\n",
       "        52.5104121 ,  62.13377848,  54.90487335,  54.66616325,\n",
       "        57.32932455,  58.81088985,  61.02316345,  54.80349955,\n",
       "        50.99490912,  54.16142439,  66.24023953])"
      ]
     },
     "execution_count": 131,
     "metadata": {},
     "output_type": "execute_result"
    }
   ],
   "source": [
    "y_pred[y_pred > 50]"
   ]
  },
  {
   "cell_type": "code",
   "execution_count": 133,
   "metadata": {},
   "outputs": [
    {
     "data": {
      "text/plain": [
       "<matplotlib.image.AxesImage at 0x1219e1a58>"
      ]
     },
     "execution_count": 133,
     "metadata": {},
     "output_type": "execute_result"
    },
    {
     "data": {
      "image/png": "[encoded data removed]",
      "text/plain": [
       "<matplotlib.figure.Figure at 0x121b7c588>"
      ]
     },
     "metadata": {},
     "output_type": "display_data"
    }
   ],
   "source": [
    "plt.imshow(np.cov(als.VT.T[guilty]))"
   ]
  },
  {
   "cell_type": "code",
   "execution_count": 134,
   "metadata": {},
   "outputs": [
    {
     "data": {
      "text/plain": [
       "array([0, 1, 2, 3, 4, 5, 6, 7, 8, 9], dtype=int32)"
      ]
     },
     "execution_count": 134,
     "metadata": {},
     "output_type": "execute_result"
    }
   ],
   "source": [
    "guilty[:10]"
   ]
  },
  {
   "cell_type": "code",
   "execution_count": 119,
   "metadata": {},
   "outputs": [
    {
     "data": {
      "text/plain": [
       "0.316**2 * DotProduct(sigma_0=0.9)"
      ]
     },
     "execution_count": 119,
     "metadata": {},
     "output_type": "execute_result"
    }
   ],
   "source": [
    "gpr.kernel_"
   ]
  },
  {
   "cell_type": "code",
   "execution_count": 140,
   "metadata": {},
   "outputs": [
    {
     "data": {
      "text/plain": [
       "{'alpha': 1e-10,\n",
       " 'copy_X_train': True,\n",
       " 'kernel': 0.316**2 * DotProduct(sigma_0=0.9),\n",
       " 'kernel__k1': 0.316**2,\n",
       " 'kernel__k1__constant_value': 0.1,\n",
       " 'kernel__k1__constant_value_bounds': (1e-05, 100000.0),\n",
       " 'kernel__k2': DotProduct(sigma_0=0.9),\n",
       " 'kernel__k2__sigma_0': 0.9,\n",
       " 'kernel__k2__sigma_0_bounds': (1e-05, 100000.0),\n",
       " 'n_restarts_optimizer': 0,\n",
       " 'normalize_y': True,\n",
       " 'optimizer': None,\n",
       " 'random_state': None}"
      ]
     },
     "execution_count": 140,
     "metadata": {},
     "output_type": "execute_result"
    }
   ],
   "source": [
    "gpr.get_params()"
   ]
  },
  {
   "cell_type": "code",
   "execution_count": 67,
   "metadata": {},
   "outputs": [
    {
     "data": {
      "text/plain": [
       "<matplotlib.image.AxesImage at 0x1218b3e48>"
      ]
     },
     "execution_count": 67,
     "metadata": {},
     "output_type": "execute_result"
    },
    {
     "data": {
      "image/png": "[encoded data removed]",
      "text/plain": [
       "<matplotlib.figure.Figure at 0x1242bc470>"
      ]
     },
     "metadata": {},
     "output_type": "display_data"
    }
   ],
   "source": [
    "#np.linalg.det()\n",
    "cov = np.cov(als.VT.T[pig.indices[:30]])\n",
    "plt.imshow(cov)"
   ]
  },
  {
   "cell_type": "code",
   "execution_count": 68,
   "metadata": {},
   "outputs": [
    {
     "data": {
      "text/plain": [
       "array([ 0.05555891,  0.04272182,  0.13101399,  0.04751693,  0.04619634,\n",
       "        0.02433983,  0.01150146,  0.13396676,  0.01801118,  0.0242199 ,\n",
       "        0.02646579, -0.00035328,  0.0237907 ,  0.01992759,  0.0136542 ,\n",
       "        0.04016008,  0.00927559,  0.02954568, -0.01133365,  0.0222911 ,\n",
       "        0.03605586,  0.03219232,  0.03795655, -0.05630471,  0.01983787,\n",
       "        0.0124241 ,  0.01234171, -0.00039652,  0.016052  ,  0.04758872])"
      ]
     },
     "execution_count": 68,
     "metadata": {},
     "output_type": "execute_result"
    }
   ],
   "source": [
    "cov[7, :]"
   ]
  },
  {
   "cell_type": "code",
   "execution_count": 69,
   "metadata": {},
   "outputs": [
    {
     "data": {
      "text/plain": [
       "array([ 0.10760818,  0.16107721,  0.07170264,  0.04906928,  0.0529455 ,\n",
       "        0.03495975,  0.07377147,  0.04272182,  0.01461871,  0.02332256,\n",
       "        0.02975398,  0.00323204,  0.04436184,  0.02752029,  0.03129418,\n",
       "        0.02934776,  0.07464344,  0.0444248 ,  0.02387343,  0.04168903,\n",
       "        0.01121284,  0.0154299 ,  0.06007394, -0.05463732,  0.01718033,\n",
       "       -0.0108339 ,  0.00522626, -0.02705441,  0.01646702,  0.07746504])"
      ]
     },
     "execution_count": 69,
     "metadata": {},
     "output_type": "execute_result"
    }
   ],
   "source": [
    "cov[1, :]"
   ]
  },
  {
   "cell_type": "code",
   "execution_count": 70,
   "metadata": {},
   "outputs": [
    {
     "data": {
      "text/plain": [
       "array([ 1, 18], dtype=int32)"
      ]
     },
     "execution_count": 70,
     "metadata": {},
     "output_type": "execute_result"
    }
   ],
   "source": [
    "pig.indices[[1, 18]]"
   ]
  },
  {
   "cell_type": "markdown",
   "metadata": {},
   "source": [
    "## Linear kernel"
   ]
  },
  {
   "cell_type": "code",
   "execution_count": 71,
   "metadata": {},
   "outputs": [],
   "source": [
    "from mangaki.utils.dpp2 import MangakiDPP\n",
    "\n",
    "rated = als.VT.T[pig.indices]\n",
    "dpp = MangakiDPP(vectors=rated)\n",
    "dpp.compute_similarity()#kernel)\n",
    "dpp.preprocess()"
   ]
  },
  {
   "cell_type": "code",
   "execution_count": 72,
   "metadata": {},
   "outputs": [
    {
     "data": {
      "text/plain": [
       "array([  6,  37,   1,   5, 111])"
      ]
     },
     "execution_count": 72,
     "metadata": {},
     "output_type": "execute_result"
    }
   ],
   "source": [
    "dpp.sample_k(5)"
   ]
  },
  {
   "cell_type": "code",
   "execution_count": 73,
   "metadata": {},
   "outputs": [
    {
     "data": {
      "text/plain": [
       "415"
      ]
     },
     "execution_count": 73,
     "metadata": {},
     "output_type": "execute_result"
    }
   ],
   "source": [
    "len(i_test)"
   ]
  },
  {
   "cell_type": "code",
   "execution_count": 76,
   "metadata": {
    "collapsed": true
   },
   "outputs": [],
   "source": [
    "all_vectors = als.VT.T[pig.indices]  # pig.indices\n",
    "\n",
    "def bgs(nb_questions):\n",
    "    global all_vectors\n",
    "    rated_works = range(len(all_vectors))  # pig.getnnz()\n",
    "    P = all_vectors[rated_works].dot(all_vectors[rated_works].T)\n",
    "    nb_works = len(rated_works)\n",
    "    # print(nb_works, nb_questions)\n",
    "    kept_indices = set(range(nb_works))\n",
    "    get_bgs = {}\n",
    "    for _ in range(nb_works - nb_questions):\n",
    "        k_min = None\n",
    "        error_min = float('inf')\n",
    "        for k in kept_indices:\n",
    "            kept = list(kept_indices - set([k]))\n",
    "            try:\n",
    "                #error = np.trace(np.linalg.inv(P[np.ix_(kept, kept)]))\n",
    "                #error = 1 / compute_score(kept, 'det')\n",
    "                error = np.linalg.det(np.linalg.inv(P[np.ix_(kept, kept)]))\n",
    "            except:\n",
    "                print('I had to take', nb_questions, 'but I must stop at', len(kept_indices))\n",
    "                return list(kept_indices)\n",
    "            if error < error_min:\n",
    "                error_min = error\n",
    "                k_min = k\n",
    "        kept_indices -= set([k_min])\n",
    "        get_bgs[len(kept_indices)] = np.array(list(kept_indices))\n",
    "    sampled_indices = list(kept_indices)\n",
    "    return np.array(sampled_indices), get_bgs"
   ]
  },
  {
   "cell_type": "code",
   "execution_count": 79,
   "metadata": {},
   "outputs": [
    {
     "name": "stderr",
     "output_type": "stream",
     "text": [
      "/Users/jin/Sites/mangaki/venv/lib/python3.6/site-packages/numpy/linalg/linalg.py:1804: RuntimeWarning: overflow encountered in det\n",
      "  r = _umath_linalg.det(a, signature=signature)\n"
     ]
    }
   ],
   "source": [
    "_, get_bgs = bgs(2)"
   ]
  },
  {
   "cell_type": "code",
   "execution_count": 81,
   "metadata": {},
   "outputs": [
    {
     "name": "stdout",
     "output_type": "stream",
     "text": [
      "2 bgs rmse 1.28001656161\n",
      "2 dpp rmse 2.29503444388\n",
      "4 bgs rmse 0.991927088345\n",
      "4 dpp rmse 0.905444839662\n",
      "6 bgs rmse 0.932834432748\n",
      "6 dpp rmse 0.878878886787\n",
      "8 bgs rmse 0.924397278706\n",
      "8 dpp rmse 0.943824823772\n",
      "10 bgs rmse 0.923232095311\n",
      "10 dpp rmse 1.08170010273\n",
      "12 bgs rmse 0.977152844901\n",
      "12 dpp rmse 0.973565611457\n",
      "14 bgs rmse 1.01975508397\n",
      "14 dpp rmse 1.00615385522\n",
      "16 bgs rmse 1.15667381662\n",
      "16 dpp rmse 1.08165161866\n",
      "18 bgs rmse 1.19911083475\n",
      "18 dpp rmse 0.984544294174\n",
      "20 bgs rmse 1.89613091846\n",
      "20 dpp rmse 2.24536683284\n"
     ]
    },
    {
     "data": {
      "image/png": "[encoded data removed]",
      "text/plain": [
       "<matplotlib.figure.Figure at 0x12458a5c0>"
      ]
     },
     "metadata": {},
     "output_type": "display_data"
    }
   ],
   "source": [
    "import random\n",
    "from collections import defaultdict\n",
    "\n",
    "fig, axes = plt.subplots(3, 1, figsize=(16, 10))\n",
    "plot = {}\n",
    "plot['rmse'], plot['sigma'], plot['det'] = axes\n",
    "\n",
    "STRATEGIES = ['bgs', 'dpp'] # , 'random\n",
    "\n",
    "#gpr = GaussianProcessRegressor(kernel=0.1 * kernel)\n",
    "BATCH_SIZE = 40\n",
    "steps = []\n",
    "values = defaultdict(lambda: defaultdict(list))\n",
    "#sigmas = defaultdict(list)\n",
    "#errors = defaultdict(list)\n",
    "#errors_min = defaultdict(list)\n",
    "#errors_max = defaultdict(list)\n",
    "total_rated = pig.getnnz()\n",
    "for nb_rated in list(range(2, 21, 2)):\n",
    "    steps.append(nb_rated)\n",
    "    for strategy in STRATEGIES:\n",
    "        if strategy == 'random':\n",
    "            pos = random.sample(range(total_rated), nb_rated)\n",
    "        elif strategy == 'dpp':\n",
    "            pos = dpp.sample_k(nb_rated)\n",
    "        else:\n",
    "            pos = get_bgs[nb_rated]\n",
    "        work_ids = pig.indices[pos]\n",
    "        ratings = pig.data[pos]\n",
    "        X_asked = als.VT.T[work_ids]\n",
    "        values['det'][strategy].append(np.log(np.linalg.det(kernel(X_asked))))\n",
    "        \n",
    "        gpr.fit(X_asked, ratings)\n",
    "        y_pred, sigma = gpr.predict(als.VT.T[pig.indices], return_std=True)\n",
    "        fix(y_pred)\n",
    "        rmse = mean_squared_error(pig.data, y_pred) ** 0.5\n",
    "        rmse_up = abs(rmse - mean_squared_error(pig.data, y_pred + 1.96 * sigma) ** 0.5)\n",
    "        rmse_down = abs(rmse - mean_squared_error(pig.data, y_pred - 1.96 * sigma) ** 0.5)\n",
    "        values['sigma'][strategy].append(sigma.mean())\n",
    "        values['rmse'][strategy].append(rmse)\n",
    "        values['rmse_up'][strategy].append(rmse_up)\n",
    "        values['rmse_down'][strategy].append(rmse_down)\n",
    "        print(nb_rated, strategy, 'rmse', rmse)\n",
    "        #print(y_pred[:5], pig.data[:5])\n",
    "curves = defaultdict(list)\n",
    "#sigma_curves = []\n",
    "for strategy in STRATEGIES:\n",
    "    for value in ['sigma', 'det']:\n",
    "        curves[value].append(plot[value].errorbar(steps, values[value][strategy], label=strategy))\n",
    "    curves['rmse'].append(plot['rmse'].errorbar(steps, values['rmse'][strategy],\n",
    "                                                yerr=[values['rmse_down'][strategy], values['rmse_up'][strategy]],\n",
    "                                                label=strategy))\n",
    "for value in ['rmse', 'sigma', 'det']:\n",
    "    plot[value].legend(handles=curves[value])\n",
    "plt.xlabel('Number of questions asked')\n",
    "plot['rmse'].set_ylabel('RMSE')\n",
    "plot['det'].set_ylabel('determinant')\n",
    "plot['sigma'].set_ylabel('variance')\n",
    "plt.show()"
   ]
  },
  {
   "cell_type": "markdown",
   "metadata": {},
   "source": [
    "## RBF kernel"
   ]
  },
  {
   "cell_type": "code",
   "execution_count": 82,
   "metadata": {
    "collapsed": true
   },
   "outputs": [],
   "source": [
    "from sklearn.gaussian_process.kernels import RBF"
   ]
  },
  {
   "cell_type": "code",
   "execution_count": 83,
   "metadata": {
    "collapsed": true
   },
   "outputs": [],
   "source": [
    "rated = als.VT.T[pig.indices]\n",
    "rbf = RBF()\n",
    "dpprbf = MangakiDPP(vectors=rated)\n",
    "dpprbf.L = rbf(dpprbf.vectors)\n",
    "dpprbf.preprocess()"
   ]
  },
  {
   "cell_type": "code",
   "execution_count": 85,
   "metadata": {},
   "outputs": [
    {
     "name": "stdout",
     "output_type": "stream",
     "text": [
      "5 random rmse 0.850997324454\n",
      "[-0.20163366 -0.22229165 -0.22472322 -0.00847003 -0.02447871] [-1.3732383 -0.7732383 -1.3732383  1.1267617  1.1267617]\n",
      "5 dpp rmse 0.809985464872\n",
      "[-0.52626809 -0.37333401 -1.06293048 -0.45855462 -0.49827731] [-1.3732383 -0.7732383 -1.3732383  1.1267617  1.1267617]\n",
      "10 random rmse 0.8134694807\n",
      "[-0.69942049 -0.63855857 -1.19280235 -0.58196015 -0.68891251] [-1.3732383 -0.7732383 -1.3732383  1.1267617  1.1267617]\n",
      "10 dpp rmse 0.73935822565\n",
      "[-1.3732383  -0.54155207 -0.6645623  -0.08585961  0.66632832] [-1.3732383 -0.7732383 -1.3732383  1.1267617  1.1267617]\n",
      "20 random rmse 0.767274054807\n",
      "[-0.01667067 -0.0440231  -1.16852342  0.66937362  0.75933964] [-1.3732383 -0.7732383 -1.3732383  1.1267617  1.1267617]\n",
      "20 dpp rmse 0.755996519648\n",
      "[-0.37954741 -0.4293955  -1.3732383   1.1267617   1.1267617 ] [-1.3732383 -0.7732383 -1.3732383  1.1267617  1.1267617]\n",
      "50 random rmse 0.737059166866\n",
      "[-1.3732383  -0.7732383  -1.18473077 -0.93646056 -0.90451575] [-1.3732383 -0.7732383 -1.3732383  1.1267617  1.1267617]\n",
      "50 dpp rmse 0.674770078872\n",
      "[-1.3732383  -0.73777326 -0.60197622  1.1267617   1.1267617 ] [-1.3732383 -0.7732383 -1.3732383  1.1267617  1.1267617]\n"
     ]
    },
    {
     "data": {
      "image/png": "[encoded data removed]",
      "text/plain": [
       "<matplotlib.figure.Figure at 0x1105dbb70>"
      ]
     },
     "metadata": {},
     "output_type": "display_data"
    }
   ],
   "source": [
    "import random\n",
    "from collections import defaultdict\n",
    "\n",
    "kernel = DotProduct()\n",
    "gpr = GaussianProcessRegressor()\n",
    "BATCH_SIZE = 40\n",
    "steps = []\n",
    "errors = defaultdict(list)\n",
    "errors_min = defaultdict(list)\n",
    "errors_max = defaultdict(list)\n",
    "total_rated = pig.getnnz()\n",
    "for nb_rated in [5, 10, 20, 50]:\n",
    "    steps.append(nb_rated)\n",
    "    for strategy in ['random', 'dpp']:\n",
    "        if strategy == 'random':\n",
    "            pos = random.sample(range(total_rated), nb_rated)\n",
    "        else:\n",
    "            pos = dpprbf.sample_k(nb_rated)\n",
    "        work_ids = pig.indices[pos]\n",
    "        ratings = pig.data[pos]\n",
    "        \n",
    "        gpr.fit(als.VT.T[work_ids], ratings)\n",
    "        y_pred, sigma = gpr.predict(als.VT.T[pig.indices], return_std=True)\n",
    "        rmse = mean_squared_error(pig.data, y_pred) ** 0.5\n",
    "        rmse_max = mean_squared_error(pig.data, y_pred + 1.96 * sigma) ** 0.5\n",
    "        rmse_min = mean_squared_error(pig.data, y_pred - 1.96 * sigma) ** 0.5\n",
    "        errors[strategy].append(rmse)\n",
    "        errors_max[strategy].append(abs(rmse_max - rmse))\n",
    "        errors_min[strategy].append(abs(rmse_min - rmse))\n",
    "        print(nb_rated, strategy, 'rmse', rmse)\n",
    "        print(y_pred[:5], pig.data[:5])\n",
    "rand_curve = plt.errorbar(steps, errors['random'], yerr=[errors_min['random'], errors_max['random']], label='random')\n",
    "dpp_curve = plt.errorbar(steps, errors['dpp'], yerr=[errors_min['dpp'], errors_max['dpp']], color='r', label='dpp')\n",
    "plt.legend(handles=[rand_curve, dpp_curve])\n",
    "plt.show()"
   ]
  },
  {
   "cell_type": "code",
   "execution_count": 201,
   "metadata": {
    "collapsed": true
   },
   "outputs": [],
   "source": [
    "X = np.random.random((5, 2))*100\n",
    "eig, _ = np.linalg.eig(X.dot(X.T))"
   ]
  },
  {
   "cell_type": "code",
   "execution_count": 204,
   "metadata": {},
   "outputs": [
    {
     "data": {
      "text/plain": [
       "array([ 18630.,     -0.,   3416.,      0.,     -0.])"
      ]
     },
     "execution_count": 204,
     "metadata": {},
     "output_type": "execute_result"
    }
   ],
   "source": [
    "np.round(eig)"
   ]
  },
  {
   "cell_type": "code",
   "execution_count": null,
   "metadata": {
    "collapsed": true
   },
   "outputs": [],
   "source": []
  }
 ],
 "metadata": {
  "kernelspec": {
   "display_name": "Django Shell-Plus",
   "language": "python",
   "name": "django_extensions"
  },
  "language_info": {
   "codemirror_mode": {
    "name": "ipython",
    "version": 3
   },
   "file_extension": ".py",
   "mimetype": "text/x-python",
   "name": "python",
   "nbconvert_exporter": "python",
   "pygments_lexer": "ipython3",
   "version": "3.6.3"
  }
 },
 "nbformat": 4,
 "nbformat_minor": 2
}
