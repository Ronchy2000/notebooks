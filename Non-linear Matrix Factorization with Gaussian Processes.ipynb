{
 "cells": [
  {
   "cell_type": "markdown",
   "metadata": {},
   "source": [
    "# Non-linear Matrix Factorization with Gaussian Processes"
   ]
  },
  {
   "cell_type": "markdown",
   "metadata": {},
   "source": [
    "This is an attempt to reproduce [this ICML 2009 paper](http://people.ee.duke.edu/~lcarin/MatrixFactorization.pdf)."
   ]
  },
  {
   "cell_type": "code",
   "execution_count": 175,
   "metadata": {
    "collapsed": true
   },
   "outputs": [],
   "source": [
    "import tensorflow as tf\n",
    "DEVICE = \"/cpu:0\""
   ]
  },
  {
   "cell_type": "code",
   "execution_count": 176,
   "metadata": {
    "collapsed": true
   },
   "outputs": [],
   "source": [
    "from collections import Counter"
   ]
  },
  {
   "cell_type": "code",
   "execution_count": 177,
   "metadata": {
    "collapsed": true
   },
   "outputs": [],
   "source": [
    "N = 100  # items\n",
    "D = 2071  # users\n",
    "q = 10  # latent dimension"
   ]
  },
  {
   "cell_type": "code",
   "execution_count": 178,
   "metadata": {
    "collapsed": true
   },
   "outputs": [],
   "source": [
    "# Simulated data\n",
    "import numpy as np\n",
    "from sklearn.preprocessing import scale\n",
    "\n",
    "def get_simulated_data(true_alpha_x=5, true_alpha_w=2, true_sigma=1):\n",
    "    X = np.random.randint(50, size=(N, q))\n",
    "    #X = np.random.normal(0, 1/true_alpha_x, (N, q))\n",
    "    W = np.random.normal(0, 1/true_alpha_w, (D, q))\n",
    "    rating_rows = []\n",
    "    for i in range(N):\n",
    "        rating_rows.append(np.random.multivariate_normal(W.dot(X[i, :]), true_sigma ** 2 * np.eye(D)))\n",
    "    Y = np.array(rating_rows)\n",
    "    Y_scaled = scale(Y, axis=1, with_std=False)\n",
    "    return Y, Y_scaled"
   ]
  },
  {
   "cell_type": "code",
   "execution_count": 179,
   "metadata": {
    "collapsed": true
   },
   "outputs": [],
   "source": [
    "rating_values = {'dislike': 1, 'wontsee': 2, 'neutral': 3, 'willsee': 4, 'like': 5, 'favorite': 6}"
   ]
  },
  {
   "cell_type": "code",
   "execution_count": 180,
   "metadata": {
    "collapsed": true
   },
   "outputs": [],
   "source": [
    "# Real data\n",
    "from mangaki.algo.dataset import Dataset\n",
    "#from mangaki.utils.values import rating_values\n",
    "\n",
    "dataset = Dataset()\n",
    "dataset.load_csv('ratings-ordered.csv', convert=lambda choice: rating_values[choice])"
   ]
  },
  {
   "cell_type": "code",
   "execution_count": 181,
   "metadata": {
    "collapsed": true
   },
   "outputs": [],
   "source": [
    "from scipy.sparse import coo_matrix\n",
    "\n",
    "rows = dataset.anonymized.X[:, 0]\n",
    "cols = dataset.anonymized.X[:, 1]\n",
    "data = dataset.anonymized.y\n",
    "mangaki = coo_matrix((data, (rows, cols)), shape=(dataset.anonymized.nb_users, dataset.anonymized.nb_works)).tocsr()"
   ]
  },
  {
   "cell_type": "code",
   "execution_count": 182,
   "metadata": {
    "collapsed": true
   },
   "outputs": [],
   "source": [
    "from collections import defaultdict\n",
    "\n",
    "inverter = defaultdict(list)\n",
    "for user_id in range(D):\n",
    "    batch = mangaki[user_id, :]\n",
    "    c = Counter(batch.data)\n",
    "    inverter[tuple(c[rating_values[rating]] for rating in ['dislike', 'favorite', 'like', 'neutral', 'willsee', 'wontsee'])].append(user_id)"
   ]
  },
  {
   "cell_type": "code",
   "execution_count": 183,
   "metadata": {},
   "outputs": [
    {
     "data": {
      "text/plain": [
       "[]"
      ]
     },
     "execution_count": 183,
     "metadata": {},
     "output_type": "execute_result"
    }
   ],
   "source": [
    "inverter[16, 23, 118, 9, 330, 68]"
   ]
  },
  {
   "cell_type": "code",
   "execution_count": 184,
   "metadata": {},
   "outputs": [
    {
     "data": {
      "text/plain": [
       "<2129x11399 sparse matrix of type '<class 'numpy.float64'>'\n",
       "\twith 345491 stored elements in Compressed Sparse Row format>"
      ]
     },
     "execution_count": 184,
     "metadata": {},
     "output_type": "execute_result"
    }
   ],
   "source": [
    "mangaki"
   ]
  },
  {
   "cell_type": "markdown",
   "metadata": {},
   "source": [
    "Now skip to ALS."
   ]
  },
  {
   "cell_type": "code",
   "execution_count": 13,
   "metadata": {},
   "outputs": [
    {
     "data": {
      "text/plain": [
       "<2129x100 sparse matrix of type '<class 'numpy.float64'>'\n",
       "\twith 80339 stored elements in Compressed Sparse Row format>"
      ]
     },
     "execution_count": 13,
     "metadata": {},
     "output_type": "execute_result"
    }
   ],
   "source": [
    "mangaki[:, :100]"
   ]
  },
  {
   "cell_type": "code",
   "execution_count": 14,
   "metadata": {
    "collapsed": true
   },
   "outputs": [],
   "source": [
    "Y = mangaki[:, :100].tocoo().T.tocsr()\n",
    "for movie_id in range(N):\n",
    "    row = Y[movie_id, :]\n",
    "    for user_id, replace in zip(row.indices, scale(row.data)):\n",
    "        Y[movie_id, user_id] = replace"
   ]
  },
  {
   "cell_type": "code",
   "execution_count": 15,
   "metadata": {
    "collapsed": true
   },
   "outputs": [],
   "source": [
    "dataset = coo_matrix(Y)\n",
    "#dataset = coo_matrix(Y_scaled)"
   ]
  },
  {
   "cell_type": "code",
   "execution_count": 135,
   "metadata": {},
   "outputs": [
    {
     "data": {
      "text/plain": [
       "<100x2071 sparse matrix of type '<class 'numpy.float64'>'\n",
       "\twith 78195 stored elements in Compressed Sparse Row format>"
      ]
     },
     "execution_count": 135,
     "metadata": {},
     "output_type": "execute_result"
    }
   ],
   "source": [
    "Y"
   ]
  },
  {
   "cell_type": "code",
   "execution_count": 136,
   "metadata": {},
   "outputs": [
    {
     "name": "stdout",
     "output_type": "stream",
     "text": [
      "nb users skipped 465 over 2071\n"
     ]
    }
   ],
   "source": [
    "# Prepare batches\n",
    "from sklearn.model_selection import ShuffleSplit\n",
    "\n",
    "# Simple split\n",
    "splitter = ShuffleSplit(n_splits=1, test_size=0.2)\n",
    "for i_train, i_test in splitter.split(dataset.data):\n",
    "    train = coo_matrix((dataset.data[i_train], (dataset.row[i_train], dataset.col[i_train])), shape=(N, D)).tocsc()\n",
    "    test = coo_matrix((dataset.data[i_test], (dataset.row[i_test], dataset.col[i_test])), shape=(N, D)).tocsc()\n",
    "\n",
    "# Split by user\n",
    "train_data = []\n",
    "train_row = []\n",
    "train_col = []\n",
    "test_data = []\n",
    "test_row = []\n",
    "test_col = []\n",
    "full = dataset.tocsc()\n",
    "nb_skip = 0\n",
    "train_users = set(range(D))\n",
    "for user_id in range(D):\n",
    "    this_user = full[:, user_id]\n",
    "    N_j = this_user.getnnz()\n",
    "    if N_j <= q:\n",
    "        train_users.remove(user_id)\n",
    "        nb_skip += 1\n",
    "        continue\n",
    "    for i_train, i_test in splitter.split(this_user.indices):\n",
    "        train_col.extend([user_id] * len(i_train))\n",
    "        train_row.extend(this_user.indices[i_train])\n",
    "        train_data.extend(this_user.data[i_train])\n",
    "        test_col.extend([user_id] * len(i_test))\n",
    "        test_row.extend(this_user.indices[i_test])\n",
    "        test_data.extend(this_user.data[i_test])\n",
    "print('nb users skipped', nb_skip, 'over', D)"
   ]
  },
  {
   "cell_type": "code",
   "execution_count": 137,
   "metadata": {
    "collapsed": true
   },
   "outputs": [],
   "source": [
    "assert len(train_data) == len(train_row)\n",
    "assert len(test_data) == len(test_row)"
   ]
  },
  {
   "cell_type": "code",
   "execution_count": 138,
   "metadata": {
    "collapsed": true
   },
   "outputs": [],
   "source": [
    "train = coo_matrix((train_data, (train_row, train_col)), shape=(N, D)).tocsc()\n",
    "test = coo_matrix((test_data, (test_row, test_col)), shape=(N, D)).tocsc()"
   ]
  },
  {
   "cell_type": "code",
   "execution_count": 139,
   "metadata": {},
   "outputs": [
    {
     "data": {
      "text/plain": [
       "<100x2071 sparse matrix of type '<class 'numpy.float64'>'\n",
       "\twith 60093 stored elements in Compressed Sparse Column format>"
      ]
     },
     "execution_count": 139,
     "metadata": {},
     "output_type": "execute_result"
    }
   ],
   "source": [
    "train"
   ]
  },
  {
   "cell_type": "code",
   "execution_count": 140,
   "metadata": {},
   "outputs": [
    {
     "data": {
      "text/plain": [
       "<100x2071 sparse matrix of type '<class 'numpy.float64'>'\n",
       "\twith 15842 stored elements in Compressed Sparse Column format>"
      ]
     },
     "execution_count": 140,
     "metadata": {},
     "output_type": "execute_result"
    }
   ],
   "source": [
    "test"
   ]
  },
  {
   "cell_type": "code",
   "execution_count": 141,
   "metadata": {
    "collapsed": true
   },
   "outputs": [],
   "source": [
    "item_batch = tf.placeholder(tf.int32, shape=[None], name=\"id_item\")\n",
    "rate_batch = tf.placeholder(tf.float32, shape=[None, None], name=\"rate\")\n",
    "pred_batch = tf.placeholder(tf.int32, shape=[None], name=\"id_pred\")"
   ]
  },
  {
   "cell_type": "code",
   "execution_count": 142,
   "metadata": {
    "collapsed": true
   },
   "outputs": [],
   "source": [
    "def log_det(cov):\n",
    "    return 2 * tf.reduce_sum(tf.log(tf.diag_part(tf.cholesky(cov))))"
   ]
  },
  {
   "cell_type": "code",
   "execution_count": 146,
   "metadata": {
    "collapsed": true
   },
   "outputs": [],
   "source": [
    "def kernel(X, Y):\n",
    "    return tf.matmul(X, tf.transpose(Y))\n",
    "\n",
    "class MFGP:\n",
    "    def __init__(self):\n",
    "        with tf.device(DEVICE):\n",
    "            with tf.variable_scope(\"conv1\"):\n",
    "                self.sigma = tf.Variable(1e-1, name=\"sigma\")  # tf.random_normal([1])\n",
    "                self.alpha_w = tf.Variable(tf.random_normal([1]), name=\"alpha_w\")\n",
    "                self.X_item = tf.Variable(tf.random_normal([N, q], stddev=5), name=\"embd_item\")\n",
    "\n",
    "    def predict(self, item_batch, rate_batch, pred_batch):\n",
    "        with tf.device(DEVICE):\n",
    "            X_batch = tf.nn.embedding_lookup(self.X_item, item_batch)\n",
    "            X_pred = tf.nn.embedding_lookup(self.X_item, pred_batch)\n",
    "            N_j = tf.shape(item_batch)[0]\n",
    "            cov = kernel(X_batch, X_batch) + self.sigma ** 2 * tf.eye(N_j)\n",
    "            s = tf.matmul(tf.matrix_inverse(cov), kernel(X_batch, X_pred))\n",
    "            prediction = tf.matmul(tf.transpose(s), rate_batch)\n",
    "        return tf.reshape(prediction, [-1])\n",
    "\n",
    "    def get_loss(self, item_batch, rate_batch):\n",
    "        with tf.device(DEVICE):\n",
    "            X_batch = tf.nn.embedding_lookup(self.X_item, item_batch)\n",
    "            XT_batch = tf.transpose(X_batch)\n",
    "            N_j = tf.shape(item_batch)[0]\n",
    "            defpos = kernel(X_batch, X_batch)\n",
    "            cov = 1/tf.abs(self.alpha_w) * defpos + self.sigma ** 2 * tf.eye(N_j)\n",
    "            # inv_cov = tf.matrix_inverse(cov)  # O(N_j^3)\n",
    "            cheap_inv = tf.matrix_inverse(tf.abs(self.alpha_w) * self.sigma ** (-2) * tf.eye(q)\n",
    "                                          + tf.matmul(XT_batch, X_batch))\n",
    "            inv_cov = self.sigma ** (-2) - self.sigma ** (-4) * tf.matmul(X_batch, tf.matmul(cheap_inv, XT_batch))  # O(q^3)\n",
    "            loss = (tf.cast(N_j, tf.float32) * log_det(cov)\n",
    "                    + tf.reshape(tf.matmul(tf.transpose(rate_batch), tf.matmul(inv_cov, rate_batch)), []))\n",
    "        return loss, (cov, defpos, X_batch)\n",
    "\n",
    "    def optimization(self, item_batch, rate_batch, learning_rate):\n",
    "        global_step = tf.train.get_global_step()\n",
    "        assert global_step is not None\n",
    "        with tf.device(DEVICE):\n",
    "            loss, (cov, defpos, X_batch) = self.get_loss(item_batch, rate_batch)\n",
    "            train_op = tf.train.MomentumOptimizer(learning_rate, 0.9, use_nesterov=True).minimize(loss, global_step=global_step, var_list=[self.X_item])\n",
    "        return loss, train_op, (cov, defpos, X_batch)"
   ]
  },
  {
   "cell_type": "code",
   "execution_count": 147,
   "metadata": {
    "collapsed": true
   },
   "outputs": [],
   "source": [
    "def to_matrix(l):\n",
    "    return np.array(l).reshape(len(l), 1)"
   ]
  },
  {
   "cell_type": "code",
   "execution_count": 148,
   "metadata": {},
   "outputs": [
    {
     "name": "stdout",
     "output_type": "stream",
     "text": [
      "user_id | epoch | train_error | val_error | elapsed_time\n",
      "epoch=  0 train_rmse=7.099235 (1.000710) test_rmse=6.157351 (1.003259) total_nll=-287224265.353516 sigma=0.100000 alpha_w=1.753959\n",
      "epoch=  1 train_rmse=2.079178 (1.000710) test_rmse=2.118881 (1.003259) total_nll=-298726846.699219 sigma=0.100000 alpha_w=1.753959\n",
      "epoch=  2 train_rmse=11.680286 (1.000710) test_rmse=9.852969 (1.003259) total_nll=-302750440.118164 sigma=0.100000 alpha_w=1.753959\n",
      "epoch=  3 train_rmse=19.395447 (1.000710) test_rmse=15.919051 (1.003259) total_nll=-304895133.985352 sigma=0.100000 alpha_w=1.753959\n",
      "epoch=  4 train_rmse=27.530071 (1.000710) test_rmse=28.348537 (1.003259) total_nll=-306099596.312500 sigma=0.100000 alpha_w=1.753959\n",
      "epoch=  5 train_rmse=9.603479 (1.000710) test_rmse=9.229228 (1.003259) total_nll=-307085520.960938 sigma=0.100000 alpha_w=1.753959\n"
     ]
    },
    {
     "ename": "KeyboardInterrupt",
     "evalue": "",
     "output_type": "error",
     "traceback": [
      "\u001b[0;31m---------------------------------------------------------------------------\u001b[0m",
      "\u001b[0;31mKeyboardInterrupt\u001b[0m                         Traceback (most recent call last)",
      "\u001b[0;32m<ipython-input-148-8270c7bbc49b>\u001b[0m in \u001b[0;36m<module>\u001b[0;34m()\u001b[0m\n\u001b[1;32m     46\u001b[0m             \u001b[0;32mfor\u001b[0m \u001b[0muser_id\u001b[0m \u001b[0;32min\u001b[0m \u001b[0mtrain_users\u001b[0m\u001b[0;34m:\u001b[0m\u001b[0;34m\u001b[0m\u001b[0m\n\u001b[1;32m     47\u001b[0m                 \u001b[0mtrain_batch\u001b[0m \u001b[0;34m=\u001b[0m \u001b[0mtrain\u001b[0m\u001b[0;34m[\u001b[0m\u001b[0;34m:\u001b[0m\u001b[0;34m,\u001b[0m \u001b[0muser_id\u001b[0m\u001b[0;34m]\u001b[0m\u001b[0;34m\u001b[0m\u001b[0m\n\u001b[0;32m---> 48\u001b[0;31m                 \u001b[0mtest_batch\u001b[0m \u001b[0;34m=\u001b[0m \u001b[0mtest\u001b[0m\u001b[0;34m[\u001b[0m\u001b[0;34m:\u001b[0m\u001b[0;34m,\u001b[0m \u001b[0muser_id\u001b[0m\u001b[0;34m]\u001b[0m\u001b[0;34m\u001b[0m\u001b[0m\n\u001b[0m\u001b[1;32m     49\u001b[0m                 \u001b[0mitems_rated\u001b[0m\u001b[0;34m,\u001b[0m \u001b[0mratings\u001b[0m \u001b[0;34m=\u001b[0m \u001b[0mtrain_batch\u001b[0m\u001b[0;34m.\u001b[0m\u001b[0mindices\u001b[0m\u001b[0;34m,\u001b[0m \u001b[0mto_matrix\u001b[0m\u001b[0;34m(\u001b[0m\u001b[0mtrain_batch\u001b[0m\u001b[0;34m.\u001b[0m\u001b[0mdata\u001b[0m\u001b[0;34m)\u001b[0m\u001b[0;34m\u001b[0m\u001b[0m\n\u001b[1;32m     50\u001b[0m                 \u001b[0mitems_to_pred\u001b[0m\u001b[0;34m,\u001b[0m \u001b[0mtruth\u001b[0m \u001b[0;34m=\u001b[0m \u001b[0mtest_batch\u001b[0m\u001b[0;34m.\u001b[0m\u001b[0mindices\u001b[0m\u001b[0;34m,\u001b[0m \u001b[0mtest_batch\u001b[0m\u001b[0;34m.\u001b[0m\u001b[0mdata\u001b[0m\u001b[0;34m\u001b[0m\u001b[0m\n",
      "\u001b[0;32m/Users/jilljenn/code/mangaki/venv/lib/python3.6/site-packages/scipy/sparse/csc.py\u001b[0m in \u001b[0;36m__getitem__\u001b[0;34m(self, key)\u001b[0m\n\u001b[1;32m    167\u001b[0m         if (isinstance(row, slice) or isinstance(col, slice) or\n\u001b[1;32m    168\u001b[0m                 isintlike(row) or isintlike(col)):\n\u001b[0;32m--> 169\u001b[0;31m             \u001b[0;32mreturn\u001b[0m \u001b[0mself\u001b[0m\u001b[0;34m.\u001b[0m\u001b[0mT\u001b[0m\u001b[0;34m[\u001b[0m\u001b[0mcol\u001b[0m\u001b[0;34m,\u001b[0m \u001b[0mrow\u001b[0m\u001b[0;34m]\u001b[0m\u001b[0;34m.\u001b[0m\u001b[0mT\u001b[0m\u001b[0;34m\u001b[0m\u001b[0m\n\u001b[0m\u001b[1;32m    170\u001b[0m         \u001b[0;31m# Things that return a sequence of values.\u001b[0m\u001b[0;34m\u001b[0m\u001b[0;34m\u001b[0m\u001b[0m\n\u001b[1;32m    171\u001b[0m         \u001b[0;32melse\u001b[0m\u001b[0;34m:\u001b[0m\u001b[0;34m\u001b[0m\u001b[0m\n",
      "\u001b[0;32m/Users/jilljenn/code/mangaki/venv/lib/python3.6/site-packages/scipy/sparse/base.py\u001b[0m in \u001b[0;36m__getattr__\u001b[0;34m(self, attr)\u001b[0m\n\u001b[1;32m    564\u001b[0m             \u001b[0;32mreturn\u001b[0m \u001b[0mself\u001b[0m\u001b[0;34m.\u001b[0m\u001b[0mtoarray\u001b[0m\u001b[0;34m(\u001b[0m\u001b[0;34m)\u001b[0m\u001b[0;34m\u001b[0m\u001b[0m\n\u001b[1;32m    565\u001b[0m         \u001b[0;32melif\u001b[0m \u001b[0mattr\u001b[0m \u001b[0;34m==\u001b[0m \u001b[0;34m'T'\u001b[0m\u001b[0;34m:\u001b[0m\u001b[0;34m\u001b[0m\u001b[0m\n\u001b[0;32m--> 566\u001b[0;31m             \u001b[0;32mreturn\u001b[0m \u001b[0mself\u001b[0m\u001b[0;34m.\u001b[0m\u001b[0mtranspose\u001b[0m\u001b[0;34m(\u001b[0m\u001b[0;34m)\u001b[0m\u001b[0;34m\u001b[0m\u001b[0m\n\u001b[0m\u001b[1;32m    567\u001b[0m         \u001b[0;32melif\u001b[0m \u001b[0mattr\u001b[0m \u001b[0;34m==\u001b[0m \u001b[0;34m'H'\u001b[0m\u001b[0;34m:\u001b[0m\u001b[0;34m\u001b[0m\u001b[0m\n\u001b[1;32m    568\u001b[0m             \u001b[0;32mreturn\u001b[0m \u001b[0mself\u001b[0m\u001b[0;34m.\u001b[0m\u001b[0mgetH\u001b[0m\u001b[0;34m(\u001b[0m\u001b[0;34m)\u001b[0m\u001b[0;34m\u001b[0m\u001b[0m\n",
      "\u001b[0;32m/Users/jilljenn/code/mangaki/venv/lib/python3.6/site-packages/scipy/sparse/csc.py\u001b[0m in \u001b[0;36mtranspose\u001b[0;34m(self, axes, copy)\u001b[0m\n\u001b[1;32m    120\u001b[0m         \u001b[0;32mfrom\u001b[0m \u001b[0;34m.\u001b[0m\u001b[0mcsr\u001b[0m \u001b[0;32mimport\u001b[0m \u001b[0mcsr_matrix\u001b[0m\u001b[0;34m\u001b[0m\u001b[0m\n\u001b[1;32m    121\u001b[0m         return csr_matrix((self.data, self.indices,\n\u001b[0;32m--> 122\u001b[0;31m                            self.indptr), (N, M), copy=copy)\n\u001b[0m\u001b[1;32m    123\u001b[0m \u001b[0;34m\u001b[0m\u001b[0m\n\u001b[1;32m    124\u001b[0m     \u001b[0mtranspose\u001b[0m\u001b[0;34m.\u001b[0m\u001b[0m__doc__\u001b[0m \u001b[0;34m=\u001b[0m \u001b[0mspmatrix\u001b[0m\u001b[0;34m.\u001b[0m\u001b[0mtranspose\u001b[0m\u001b[0;34m.\u001b[0m\u001b[0m__doc__\u001b[0m\u001b[0;34m\u001b[0m\u001b[0m\n",
      "\u001b[0;32m/Users/jilljenn/code/mangaki/venv/lib/python3.6/site-packages/scipy/sparse/compressed.py\u001b[0m in \u001b[0;36m__init__\u001b[0;34m(self, arg1, shape, dtype, copy)\u001b[0m\n\u001b[1;32m     81\u001b[0m         \u001b[0;31m# Read matrix dimensions given, if any\u001b[0m\u001b[0;34m\u001b[0m\u001b[0;34m\u001b[0m\u001b[0m\n\u001b[1;32m     82\u001b[0m         \u001b[0;32mif\u001b[0m \u001b[0mshape\u001b[0m \u001b[0;32mis\u001b[0m \u001b[0;32mnot\u001b[0m \u001b[0;32mNone\u001b[0m\u001b[0;34m:\u001b[0m\u001b[0;34m\u001b[0m\u001b[0m\n\u001b[0;32m---> 83\u001b[0;31m             \u001b[0mself\u001b[0m\u001b[0;34m.\u001b[0m\u001b[0mshape\u001b[0m \u001b[0;34m=\u001b[0m \u001b[0mshape\u001b[0m   \u001b[0;31m# spmatrix will check for errors\u001b[0m\u001b[0;34m\u001b[0m\u001b[0m\n\u001b[0m\u001b[1;32m     84\u001b[0m         \u001b[0;32melse\u001b[0m\u001b[0;34m:\u001b[0m\u001b[0;34m\u001b[0m\u001b[0m\n\u001b[1;32m     85\u001b[0m             \u001b[0;32mif\u001b[0m \u001b[0mself\u001b[0m\u001b[0;34m.\u001b[0m\u001b[0mshape\u001b[0m \u001b[0;32mis\u001b[0m \u001b[0;32mNone\u001b[0m\u001b[0;34m:\u001b[0m\u001b[0;34m\u001b[0m\u001b[0m\n",
      "\u001b[0;32m/Users/jilljenn/code/mangaki/venv/lib/python3.6/site-packages/scipy/sparse/base.py\u001b[0m in \u001b[0;36mset_shape\u001b[0;34m(self, shape)\u001b[0m\n\u001b[1;32m     90\u001b[0m             \u001b[0;32mraise\u001b[0m \u001b[0mValueError\u001b[0m\u001b[0;34m(\u001b[0m\u001b[0;34m'invalid shape'\u001b[0m\u001b[0;34m)\u001b[0m\u001b[0;34m\u001b[0m\u001b[0m\n\u001b[1;32m     91\u001b[0m \u001b[0;34m\u001b[0m\u001b[0m\n\u001b[0;32m---> 92\u001b[0;31m         \u001b[0;32mif\u001b[0m \u001b[0;34m(\u001b[0m\u001b[0mself\u001b[0m\u001b[0;34m.\u001b[0m\u001b[0m_shape\u001b[0m \u001b[0;34m!=\u001b[0m \u001b[0mshape\u001b[0m\u001b[0;34m)\u001b[0m \u001b[0;32mand\u001b[0m \u001b[0;34m(\u001b[0m\u001b[0mself\u001b[0m\u001b[0;34m.\u001b[0m\u001b[0m_shape\u001b[0m \u001b[0;32mis\u001b[0m \u001b[0;32mnot\u001b[0m \u001b[0;32mNone\u001b[0m\u001b[0;34m)\u001b[0m\u001b[0;34m:\u001b[0m\u001b[0;34m\u001b[0m\u001b[0m\n\u001b[0m\u001b[1;32m     93\u001b[0m             \u001b[0;32mtry\u001b[0m\u001b[0;34m:\u001b[0m\u001b[0;34m\u001b[0m\u001b[0m\n\u001b[1;32m     94\u001b[0m                 \u001b[0mself\u001b[0m \u001b[0;34m=\u001b[0m \u001b[0mself\u001b[0m\u001b[0;34m.\u001b[0m\u001b[0mreshape\u001b[0m\u001b[0;34m(\u001b[0m\u001b[0mshape\u001b[0m\u001b[0;34m)\u001b[0m\u001b[0;34m\u001b[0m\u001b[0m\n",
      "\u001b[0;31mKeyboardInterrupt\u001b[0m: "
     ]
    }
   ],
   "source": [
    "from sklearn.metrics import mean_squared_error\n",
    "from collections import deque\n",
    "import time\n",
    "import random\n",
    "import sys\n",
    "\n",
    "mfgp = MFGP()\n",
    "prediction = mfgp.predict(item_batch, rate_batch, pred_batch)\n",
    "\n",
    "global_step = tf.contrib.framework.get_or_create_global_step()\n",
    "loss, train_op, (cov, defpos, X_batch) = mfgp.optimization(item_batch, rate_batch, learning_rate=0.0001)\n",
    "\n",
    "init_op = tf.global_variables_initializer()\n",
    "with tf.Session() as sess:\n",
    "    sess.run(init_op)\n",
    "    print(\" | \".join([\"user_id\", \"epoch\", \"train_error\", \"val_error\", \"elapsed_time\"]))\n",
    "    errors = []\n",
    "    for epoch in range(50):\n",
    "        cross = list(train_users)\n",
    "        random.shuffle(cross)\n",
    "        train_preds = []\n",
    "        train_ratings = []\n",
    "        for user_id in cross:\n",
    "            train_batch = train[:, user_id]\n",
    "            if train_batch.getnnz() == 0:\n",
    "                continue\n",
    "            items_rated, ratings = train_batch.indices, to_matrix(train_batch.data)\n",
    "            try:\n",
    "                sess.run(train_op, feed_dict={item_batch: items_rated,\n",
    "                                              rate_batch: ratings,\n",
    "                                              pred_batch: items_rated})\n",
    "            except Exception as e:\n",
    "                print('Error for %d (%s): %s' % (user_id, str(items_rated), sys.exc_info()[0]))\n",
    "                print('Sigma', mfgp.sigma.eval(), 'alpha_w', mfgp.alpha_w.eval())\n",
    "                print(sess.run([tf.shape(X_batch), X_batch], feed_dict={item_batch: items_rated, rate_batch: ratings, pred_batch: items_rated}))\n",
    "                print(sess.run(tf.matrix_determinant(defpos), feed_dict={item_batch: items_rated, rate_batch: ratings, pred_batch: items_rated}))\n",
    "                print(sess.run(tf.matrix_determinant(cov), feed_dict={item_batch: items_rated, rate_batch: ratings, pred_batch: items_rated}))\n",
    "                print(e.message)\n",
    "                print(sys.exc_info()[0].__doc__)\n",
    "\n",
    "        # End of train epoch, start test\n",
    "        if epoch % 1 == 0:\n",
    "            total_nll = []\n",
    "            test_truth = []\n",
    "            test_preds = []\n",
    "            for user_id in train_users:\n",
    "                train_batch = train[:, user_id]\n",
    "                test_batch = test[:, user_id]\n",
    "                items_rated, ratings = train_batch.indices, to_matrix(train_batch.data)\n",
    "                items_to_pred, truth = test_batch.indices, test_batch.data\n",
    "                try:\n",
    "                    this_user_nll, train_pred = sess.run([loss, prediction], feed_dict={item_batch: items_rated,\n",
    "                                                                                        rate_batch: ratings,\n",
    "                                                                                        pred_batch: items_rated})\n",
    "                except:\n",
    "                    print('Error for train %d (%s): %s' % (user_id, str(items_rated), sys.exc_info()[0]))\n",
    "                try:\n",
    "                    test_pred = sess.run(prediction, feed_dict={item_batch: items_rated,\n",
    "                                                                rate_batch: ratings,\n",
    "                                                                pred_batch: items_to_pred})\n",
    "                except:\n",
    "                    print('Error for test %d (%s): %s' % (user_id, str(items_to_pred), sys.exc_info()[0]))\n",
    "                total_nll.append(this_user_nll)\n",
    "                train_ratings.extend(ratings)\n",
    "                train_preds.extend(train_pred)\n",
    "                test_truth.extend(truth)\n",
    "                test_preds.extend(test_pred)\n",
    "            train_rmse = np.sqrt(mean_squared_error(train_ratings, train_preds))            \n",
    "            train_stupid = np.sqrt(mean_squared_error(train_ratings, [0] * len(train_ratings)))            \n",
    "            test_rmse = np.sqrt(mean_squared_error(test_truth, test_preds))\n",
    "            test_stupid = np.sqrt(mean_squared_error(test_truth, [0] * len(test_truth)))\n",
    "            print(\"epoch={:3d} train_rmse={:f} ({:f}) test_rmse={:f} ({:f}) total_nll={:f} sigma={:f} alpha_w={:f}\"\n",
    "                  .format(epoch, train_rmse, train_stupid, test_rmse, test_stupid,\n",
    "                          sum(total_nll), abs(float(mfgp.sigma.eval())), abs(float(mfgp.alpha_w.eval()))))\n",
    "    print('learned sigma')\n",
    "    print(mfgp.sigma.eval())\n",
    "    print('learned alpha_w')\n",
    "    print(mfgp.alpha_w.eval())\n",
    "    print('learned x')\n",
    "    print(mfgp.x_item.eval())"
   ]
  },
  {
   "cell_type": "markdown",
   "metadata": {},
   "source": [
    "(The error is because it was interrupted.)\n",
    "\n",
    "As you can see, the learning stops when the stupid RMSE (every prediction is 0) is obtained."
   ]
  },
  {
   "cell_type": "markdown",
   "metadata": {},
   "source": [
    "# Meanwhile, Alternating Least Squares…"
   ]
  },
  {
   "cell_type": "code",
   "execution_count": 185,
   "metadata": {},
   "outputs": [
    {
     "data": {
      "text/plain": [
       "<2129x11399 sparse matrix of type '<class 'numpy.float64'>'\n",
       "\twith 345491 stored elements in Compressed Sparse Row format>"
      ]
     },
     "execution_count": 185,
     "metadata": {},
     "output_type": "execute_result"
    }
   ],
   "source": [
    "mangaki"
   ]
  },
  {
   "cell_type": "code",
   "execution_count": 186,
   "metadata": {},
   "outputs": [
    {
     "data": {
      "text/plain": [
       "array([ 6.,  6.,  6.,  6.,  6.,  5.,  6.,  6.,  4.,  6.])"
      ]
     },
     "execution_count": 186,
     "metadata": {},
     "output_type": "execute_result"
    }
   ],
   "source": [
    "mangaki.data[:10]"
   ]
  },
  {
   "cell_type": "code",
   "execution_count": 187,
   "metadata": {
    "collapsed": true
   },
   "outputs": [],
   "source": [
    "from sklearn.model_selection import ShuffleSplit\n",
    "\n",
    "splitter = ShuffleSplit(n_splits=1, test_size=0.2)\n",
    "X_train = []\n",
    "y_train = []\n",
    "X_test = []\n",
    "y_test = []\n",
    "for i_train, i_test in splitter.split(range(D)):\n",
    "    i_train = set(i_train)\n",
    "    i_test = set(i_test)\n",
    "    for (user_id, work_id), rating in zip(dataset.anonymized.X, dataset.anonymized.y):\n",
    "        if user_id in i_train:\n",
    "            X_train.append((user_id, work_id))\n",
    "            y_train.append(rating)\n",
    "        else:\n",
    "            X_test.append((user_id, work_id))\n",
    "            y_test.append(rating)\n",
    "X_train = np.array(X_train)\n",
    "y_train = np.array(y_train)\n",
    "X_test = np.array(X_test)\n",
    "y_test = np.array(y_test)"
   ]
  },
  {
   "cell_type": "code",
   "execution_count": 188,
   "metadata": {},
   "outputs": [
    {
     "data": {
      "text/plain": [
       "(277489, 68002)"
      ]
     },
     "execution_count": 188,
     "metadata": {},
     "output_type": "execute_result"
    }
   ],
   "source": [
    "len(X_train), len(X_test)"
   ]
  },
  {
   "cell_type": "code",
   "execution_count": 189,
   "metadata": {},
   "outputs": [
    {
     "name": "stdout",
     "output_type": "stream",
     "text": [
      "Computing M: (2129 × 11399)\n"
     ]
    },
    {
     "name": "stderr",
     "output_type": "stream",
     "text": [
      "Chrono: fill and center matrix [0q, 1277ms]\n",
      "Chrono: factor matrix [0q, 12154ms]\n"
     ]
    },
    {
     "name": "stdout",
     "output_type": "stream",
     "text": [
      "Shapes (2129, 20) (20, 11399)\n",
      "Train RMSE= 0.904654020838\n",
      "Test RMSE= 3.91200324953\n"
     ]
    }
   ],
   "source": [
    "from mangaki.algo.als import MangakiALS\n",
    "\n",
    "def compute_all_errors(X_train, y_train, X_test, y_test):\n",
    "    y_train_pred = als.predict(X_train)\n",
    "    print('Train RMSE=', als.compute_rmse(y_train, y_train_pred))\n",
    "    y_test_pred = als.predict(X_test)\n",
    "    print('Test RMSE=', als.compute_rmse(y_test, y_test_pred))\n",
    "\n",
    "als = MangakiALS()\n",
    "als.set_parameters(dataset.anonymized.nb_users, dataset.anonymized.nb_works)\n",
    "als.fit(X_train, y_train)\n",
    "compute_all_errors(X_train, y_train, X_test, y_test)"
   ]
  },
  {
   "cell_type": "code",
   "execution_count": 190,
   "metadata": {},
   "outputs": [
    {
     "data": {
      "text/plain": [
       "0.90460083879097652"
      ]
     },
     "execution_count": 190,
     "metadata": {},
     "output_type": "execute_result"
    }
   ],
   "source": [
    "y_pred = als.predict(X_train)\n",
    "(y_train - y_pred).std()"
   ]
  },
  {
   "cell_type": "markdown",
   "metadata": {},
   "source": [
    "And the learned rows of $U$ seem Gaussian!"
   ]
  },
  {
   "cell_type": "code",
   "execution_count": 191,
   "metadata": {},
   "outputs": [
    {
     "data": {
      "text/plain": [
       "(array([  10.,   31.,  129.,  344.,  673.,  419.,  248.,  140.,  115.,   20.]),\n",
       " array([-1.04030277, -0.81701446, -0.59372616, -0.37043785, -0.14714954,\n",
       "         0.07613877,  0.29942708,  0.52271538,  0.74600369,  0.969292  ,\n",
       "         1.19258031]),\n",
       " <a list of 10 Patch objects>)"
      ]
     },
     "execution_count": 191,
     "metadata": {},
     "output_type": "execute_result"
    },
    {
     "data": {
      "image/png": "[encoded data removed]",
      "text/plain": [
       "<matplotlib.figure.Figure at 0x11a0624a8>"
      ]
     },
     "metadata": {},
     "output_type": "display_data"
    }
   ],
   "source": [
    "%matplotlib inline\n",
    "import matplotlib.pyplot as plt\n",
    "plt.hist(als.U[:, 0])\n",
    "plt.hist(als.U[:, 1])\n",
    "plt.hist(als.U[:, 15])"
   ]
  },
  {
   "cell_type": "code",
   "execution_count": 192,
   "metadata": {},
   "outputs": [
    {
     "data": {
      "text/plain": [
       "(array([  2.00000000e+00,   1.30000000e+01,   9.00000000e+01,\n",
       "          5.13000000e+02,   2.18600000e+03,   6.52700000e+03,\n",
       "          1.57800000e+03,   3.57000000e+02,   1.28000000e+02,\n",
       "          5.00000000e+00]),\n",
       " array([-1.5952675 , -1.29713791, -0.99900832, -0.70087873, -0.40274913,\n",
       "        -0.10461954,  0.19351005,  0.49163964,  0.78976924,  1.08789883,\n",
       "         1.38602842]),\n",
       " <a list of 10 Patch objects>)"
      ]
     },
     "execution_count": 192,
     "metadata": {},
     "output_type": "execute_result"
    },
    {
     "data": {
      "image/png": "[encoded data removed]",
      "text/plain": [
       "<matplotlib.figure.Figure at 0x1123e8240>"
      ]
     },
     "metadata": {},
     "output_type": "display_data"
    }
   ],
   "source": [
    "%matplotlib inline\n",
    "import matplotlib.pyplot as plt\n",
    "plt.hist(als.VT.T[:, 17])\n",
    "plt.hist(als.VT.T[:, 5])"
   ]
  },
  {
   "cell_type": "markdown",
   "metadata": {},
   "source": [
    "Maybe it does not hold for $V$."
   ]
  },
  {
   "cell_type": "code",
   "execution_count": 193,
   "metadata": {},
   "outputs": [
    {
     "data": {
      "text/plain": [
       "<matplotlib.image.AxesImage at 0x1103b0048>"
      ]
     },
     "execution_count": 193,
     "metadata": {},
     "output_type": "execute_result"
    },
    {
     "data": {
      "image/png": "[encoded data removed]",
      "text/plain": [
       "<matplotlib.figure.Figure at 0x112f7e7b8>"
      ]
     },
     "metadata": {},
     "output_type": "display_data"
    }
   ],
   "source": [
    "%matplotlib inline\n",
    "\n",
    "cov = np.cov(als.U.T)\n",
    "plt.imshow(cov)"
   ]
  },
  {
   "cell_type": "code",
   "execution_count": 194,
   "metadata": {},
   "outputs": [
    {
     "data": {
      "text/plain": [
       "array([ 0.12194558,  0.13910689,  0.12792066,  0.10942677,  0.12999186,\n",
       "        0.1205569 ,  0.11944825,  0.10958956,  0.13749819,  0.14578592,\n",
       "        0.13477592,  0.17132235,  0.13822913,  0.16576172,  0.13662243,\n",
       "        0.12814992,  0.1498905 ,  0.17393614,  0.15024845,  0.12130501])"
      ]
     },
     "execution_count": 194,
     "metadata": {},
     "output_type": "execute_result"
    }
   ],
   "source": [
    "np.diag(cov)"
   ]
  },
  {
   "cell_type": "code",
   "execution_count": 195,
   "metadata": {},
   "outputs": [
    {
     "data": {
      "text/plain": [
       "(2129, 20)"
      ]
     },
     "execution_count": 195,
     "metadata": {},
     "output_type": "execute_result"
    }
   ],
   "source": [
    "als.U.shape"
   ]
  },
  {
   "cell_type": "code",
   "execution_count": 196,
   "metadata": {},
   "outputs": [
    {
     "data": {
      "text/plain": [
       "<matplotlib.image.AxesImage at 0x1130da128>"
      ]
     },
     "execution_count": 196,
     "metadata": {},
     "output_type": "execute_result"
    },
    {
     "data": {
      "image/png": "[encoded data removed]",
      "text/plain": [
       "<matplotlib.figure.Figure at 0x11beee3c8>"
      ]
     },
     "metadata": {},
     "output_type": "display_data"
    }
   ],
   "source": [
    "%matplotlib inline\n",
    "\n",
    "cov = np.cov(als.VT)\n",
    "plt.imshow(cov)"
   ]
  },
  {
   "cell_type": "code",
   "execution_count": 197,
   "metadata": {},
   "outputs": [
    {
     "data": {
      "text/plain": [
       "array([ 0.08067802,  0.07868244,  0.09377571,  0.08590034,  0.08424191,\n",
       "        0.06799057,  0.08881857,  0.14382865,  0.08390097,  0.07113952,\n",
       "        0.09437047,  0.10310876,  0.0799138 ,  0.10372928,  0.09042051,\n",
       "        0.11742833,  0.08610902,  0.08105758,  0.08752419,  0.09761101])"
      ]
     },
     "execution_count": 197,
     "metadata": {},
     "output_type": "execute_result"
    }
   ],
   "source": [
    "np.diag(cov)"
   ]
  },
  {
   "cell_type": "markdown",
   "metadata": {},
   "source": [
    "Learned components are independent."
   ]
  },
  {
   "cell_type": "code",
   "execution_count": 198,
   "metadata": {},
   "outputs": [
    {
     "data": {
      "text/plain": [
       "3.1498099161633912"
      ]
     },
     "execution_count": 198,
     "metadata": {},
     "output_type": "execute_result"
    }
   ],
   "source": [
    "als.means.mean()  # Global bias"
   ]
  },
  {
   "cell_type": "code",
   "execution_count": 199,
   "metadata": {},
   "outputs": [
    {
     "data": {
      "text/plain": [
       "False"
      ]
     },
     "execution_count": 199,
     "metadata": {},
     "output_type": "execute_result"
    }
   ],
   "source": [
    "162 in i_test"
   ]
  },
  {
   "cell_type": "code",
   "execution_count": 200,
   "metadata": {
    "collapsed": true
   },
   "outputs": [],
   "source": [
    "users = list(i_test)\n",
    "users.sort(key=lambda user_id: mangaki[user_id, :].getnnz())"
   ]
  },
  {
   "cell_type": "code",
   "execution_count": 201,
   "metadata": {},
   "outputs": [
    {
     "data": {
      "text/plain": [
       "415"
      ]
     },
     "execution_count": 201,
     "metadata": {},
     "output_type": "execute_result"
    }
   ],
   "source": [
    "len(users)"
   ]
  },
  {
   "cell_type": "code",
   "execution_count": 202,
   "metadata": {},
   "outputs": [
    {
     "data": {
      "text/plain": [
       "71"
      ]
     },
     "execution_count": 202,
     "metadata": {},
     "output_type": "execute_result"
    }
   ],
   "source": [
    "PIG = users[230]\n",
    "# 162=JJ\n",
    "pig = mangaki[PIG, :]\n",
    "all_ratings = pig.data\n",
    "#all_ratings -= als.means.mean()\n",
    "pig.getnnz()"
   ]
  },
  {
   "cell_type": "code",
   "execution_count": 237,
   "metadata": {
    "collapsed": true
   },
   "outputs": [],
   "source": [
    "class MangakiOALS:\n",
    "    def __init__(self):\n",
    "        self.mean = None\n",
    "        self.coef_ = None\n",
    "        self.lambda_ = 0.01#als.lambda_\n",
    "        self.nb_components = als.nb_components\n",
    "    def fit(self, X, ratings):\n",
    "        self.mean = ratings.mean()\n",
    "        Ru = ratings - ratings.mean()\n",
    "        Vu = X.T\n",
    "        Gu = self.lambda_ * len(Ru) * np.eye(self.nb_components)\n",
    "        self.coef_ = np.linalg.solve(Vu.dot(Vu.T) + Gu, Vu.dot(Ru)).T\n",
    "    def predict(self, X):\n",
    "        return self.mean + X.dot(self.coef_)"
   ]
  },
  {
   "cell_type": "code",
   "execution_count": 238,
   "metadata": {
    "collapsed": true
   },
   "outputs": [],
   "source": [
    "oals = MangakiOALS()"
   ]
  },
  {
   "cell_type": "code",
   "execution_count": 205,
   "metadata": {
    "collapsed": true
   },
   "outputs": [],
   "source": [
    "from sklearn.gaussian_process.kernels import DotProduct\n",
    "from sklearn.gaussian_process import GaussianProcessRegressor\n",
    "from sklearn.linear_model import LinearRegression\n",
    "\n",
    "ALPHA = 0.5\n",
    "\n",
    "kernel = 1 * DotProduct(sigma_0=0.5)  # Kernel that will be used for both GP and DPP\n",
    "gpr = GaussianProcessRegressor(kernel=kernel, alpha=ALPHA, optimizer=None, normalize_y=False)  # , optimizer=None\n",
    "lr = LinearRegression()"
   ]
  },
  {
   "cell_type": "code",
   "execution_count": 206,
   "metadata": {},
   "outputs": [
    {
     "data": {
      "text/plain": [
       "4.4404436750063532"
      ]
     },
     "execution_count": 206,
     "metadata": {},
     "output_type": "execute_result"
    }
   ],
   "source": [
    "work_ids = pig.indices[START_PRED:]\n",
    "user_ids = [PIG] * len(work_ids)\n",
    "y_pred = als.predict(np.column_stack((user_ids, work_ids)))\n",
    "mean_squared_error(pig.data[START_PRED:], y_pred) ** 0.5"
   ]
  },
  {
   "cell_type": "code",
   "execution_count": 207,
   "metadata": {},
   "outputs": [
    {
     "data": {
      "text/plain": [
       "0.95249624213794404"
      ]
     },
     "execution_count": 207,
     "metadata": {},
     "output_type": "execute_result"
    }
   ],
   "source": [
    "work_ids = pig.indices\n",
    "ratings = pig.data\n",
    "lr.fit(als.VT.T[work_ids], ratings)\n",
    "y_pred = lr.predict(als.VT.T[work_ids])\n",
    "mean_squared_error(pig.data, y_pred) ** 0.5"
   ]
  },
  {
   "cell_type": "code",
   "execution_count": 211,
   "metadata": {},
   "outputs": [
    {
     "data": {
      "text/plain": [
       "71"
      ]
     },
     "execution_count": 211,
     "metadata": {},
     "output_type": "execute_result"
    }
   ],
   "source": [
    "pig.getnnz()"
   ]
  },
  {
   "cell_type": "code",
   "execution_count": 213,
   "metadata": {
    "collapsed": true
   },
   "outputs": [],
   "source": [
    "olbogoss = MangakiOALS()"
   ]
  },
  {
   "cell_type": "code",
   "execution_count": 224,
   "metadata": {},
   "outputs": [
    {
     "data": {
      "text/plain": [
       "71"
      ]
     },
     "execution_count": 224,
     "metadata": {},
     "output_type": "execute_result"
    }
   ],
   "source": [
    "len(rated)"
   ]
  },
  {
   "cell_type": "code",
   "execution_count": 239,
   "metadata": {},
   "outputs": [
    {
     "name": "stdout",
     "output_type": "stream",
     "text": [
      "stupid has rmse 4.43100471867\n",
      "0.356755626317\n",
      "olbogoss to gbr\n"
     ]
    },
    {
     "data": {
      "text/plain": [
       "<matplotlib.legend.Legend at 0x11a3cf128>"
      ]
     },
     "execution_count": 239,
     "metadata": {},
     "output_type": "execute_result"
    },
    {
     "data": {
      "image/png": "[encoded data removed]",
      "text/plain": [
       "<matplotlib.figure.Figure at 0x1101100b8>"
      ]
     },
     "metadata": {},
     "output_type": "display_data"
    }
   ],
   "source": [
    "from sklearn.metrics import mean_squared_error\n",
    "\n",
    "def fix(x):\n",
    "    x[x > 6] = 6\n",
    "    x[x < 1] = 1\n",
    "\n",
    "START_PRED = 0\n",
    "    \n",
    "BATCH_SIZE = 2\n",
    "steps = []\n",
    "errors = defaultdict(list)\n",
    "print('stupid has rmse', mean_squared_error(pig.data[START_PRED:], [0.] * len(pig.data[START_PRED:])) ** 0.5)\n",
    "for t in range(BATCH_SIZE, pig.getnnz() + 1, BATCH_SIZE):  # pig.getnnz() + 1\n",
    "    steps.append(t)\n",
    "    subset = get_bgs[t]\n",
    "    work_ids = pig.indices[subset]\n",
    "    ratings = pig.data[subset]\n",
    "    olbogoss.fit(als.VT.T[work_ids], ratings)\n",
    "    y_pred = olbogoss.predict(als.VT.T[pig.indices])\n",
    "    rmse = mean_squared_error(pig.data, y_pred) ** 0.5\n",
    "    errors['olbogoss'].append(rmse)\n",
    "    work_ids = pig.indices[:t]\n",
    "    ratings = pig.data[:t]\n",
    "    oals.fit(als.VT.T[work_ids], ratings)\n",
    "    y_pred = oals.predict(als.VT.T[pig.indices])\n",
    "    rmse = mean_squared_error(pig.data, y_pred) ** 0.5\n",
    "    errors['oals'].append(rmse)\n",
    "    gpr.fit(als.VT.T[work_ids], ratings)\n",
    "    #oals.fit(als.VT.T[work_ids], ratings)\n",
    "    y_pred, sigma = gpr.predict(als.VT.T[pig.indices[START_PRED:]], return_std=True)\n",
    "    #fix(y_pred)\n",
    "    rmse = mean_squared_error(pig.data[START_PRED:], y_pred) ** 0.5\n",
    "    errors['gbr'].append(rmse)\n",
    "    eig = np.linalg.eig(gpr.L_)[0]\n",
    "    #print('eigenvalues', eig.min(), 'to', eig.max())\n",
    "    #print('alpha max', gpr.alpha_.max())\n",
    "    #print(y_pred[START_PRED:START_PRED+5], pig.data[START_PRED:START_PRED+5])\n",
    "    #print(y_pred)\n",
    "    lr.fit(als.VT.T[work_ids], ratings)\n",
    "    y_pred = lr.predict(als.VT.T[pig.indices])\n",
    "    rmse = mean_squared_error(pig.data, y_pred) ** 0.5\n",
    "    errors['lr'].append(rmse)\n",
    "    #print(y_pred[:5], pig.data[:5])\n",
    "    #print(y_pred)\n",
    "    #print(pig.data)\n",
    "    #print(pig.indices[y_pred > 10])\n",
    "print(sigma.mean())\n",
    "print(max(errors), 'to', min(errors))\n",
    "curves = []\n",
    "for label in ['gbr', 'oals', 'lr', 'olbogoss']:\n",
    "    curves += plt.plot(steps, errors[label], label=label)\n",
    "plt.legend(handles=curves)"
   ]
  },
  {
   "cell_type": "code",
   "execution_count": 170,
   "metadata": {
    "collapsed": true
   },
   "outputs": [],
   "source": [
    "# gpr.alpha_  # Learned weights for prediction"
   ]
  },
  {
   "cell_type": "code",
   "execution_count": 78,
   "metadata": {
    "collapsed": true
   },
   "outputs": [],
   "source": [
    "# gpr.kernel_  # Learned kernel, should not move"
   ]
  },
  {
   "cell_type": "code",
   "execution_count": 79,
   "metadata": {
    "collapsed": true
   },
   "outputs": [],
   "source": [
    "# np.diag(gpr.L_)  # Learned cholesky of kernel of train"
   ]
  },
  {
   "cell_type": "code",
   "execution_count": 80,
   "metadata": {},
   "outputs": [
    {
     "data": {
      "text/plain": [
       "(array([ 346.,   45.,   14.,    5.,    0.,    0.,    3.,    0.,    0.,\n",
       "           1.,    0.,    0.,    0.,    0.,    1.]),\n",
       " array([  1.00000000e+00,   3.01933333e+02,   6.02866667e+02,\n",
       "          9.03800000e+02,   1.20473333e+03,   1.50566667e+03,\n",
       "          1.80660000e+03,   2.10753333e+03,   2.40846667e+03,\n",
       "          2.70940000e+03,   3.01033333e+03,   3.31126667e+03,\n",
       "          3.61220000e+03,   3.91313333e+03,   4.21406667e+03,\n",
       "          4.51500000e+03]),\n",
       " <a list of 15 Patch objects>)"
      ]
     },
     "execution_count": 80,
     "metadata": {},
     "output_type": "execute_result"
    },
    {
     "data": {
      "image/png": "[encoded data removed]",
      "text/plain": [
       "<matplotlib.figure.Figure at 0x10ff8abe0>"
      ]
     },
     "metadata": {},
     "output_type": "display_data"
    }
   ],
   "source": [
    "plt.hist([mangaki[user_id, :].getnnz() for user_id in i_test], 15)"
   ]
  },
  {
   "cell_type": "markdown",
   "metadata": {},
   "source": [
    "## Linear kernel"
   ]
  },
  {
   "cell_type": "code",
   "execution_count": 87,
   "metadata": {},
   "outputs": [
    {
     "data": {
      "text/plain": [
       "70"
      ]
     },
     "execution_count": 87,
     "metadata": {},
     "output_type": "execute_result"
    }
   ],
   "source": [
    "len(pig.indices)"
   ]
  },
  {
   "cell_type": "code",
   "execution_count": 102,
   "metadata": {
    "collapsed": true
   },
   "outputs": [],
   "source": [
    "from sklearn.metrics.pairwise import rbf_kernel"
   ]
  },
  {
   "cell_type": "code",
   "execution_count": 103,
   "metadata": {
    "collapsed": true
   },
   "outputs": [],
   "source": [
    "from mangaki.utils.dpp2 import MangakiDPP\n",
    "from sklearn.gaussian_process.kernels import RBF\n",
    "\n",
    "def prepare_dpp(rated):\n",
    "    #rbf = RBF()\n",
    "    #rated = als.VT.T[pig.indices]\n",
    "    dpp = MangakiDPP(vectors=rated, REPEAT=5)\n",
    "    #dpp.compute_similarity(kernel)\n",
    "    #dpp.L = kernel(rated) #+ ALPHA * np.eye(len(rated))\n",
    "    dpp.L = rbf_kernel(rated)# + np.eye(len(rated))\n",
    "    dpp.preprocess()\n",
    "    return dpp"
   ]
  },
  {
   "cell_type": "code",
   "execution_count": 104,
   "metadata": {},
   "outputs": [
    {
     "name": "stdout",
     "output_type": "stream",
     "text": [
      "3\n"
     ]
    }
   ],
   "source": [
    "inter = set(range(10086))\n",
    "for user in users[390:500]:\n",
    "    inter &= set(mangaki[user, :].indices)\n",
    "print(len(inter))"
   ]
  },
  {
   "cell_type": "code",
   "execution_count": 105,
   "metadata": {},
   "outputs": [
    {
     "name": "stdout",
     "output_type": "stream",
     "text": [
      "88.5515151515 72.1139913733\n"
     ]
    }
   ],
   "source": [
    "inter = set(range(150))\n",
    "c = []\n",
    "for user in users[250:500]:\n",
    "    c.append(len(set(mangaki[user, :].indices) & inter))\n",
    "print(np.mean(c), 1.96 * np.std(c))"
   ]
  },
  {
   "cell_type": "code",
   "execution_count": 209,
   "metadata": {},
   "outputs": [
    {
     "data": {
      "text/plain": [
       "array([69, 34, 67,  7,  4])"
      ]
     },
     "execution_count": 209,
     "metadata": {},
     "output_type": "execute_result"
    }
   ],
   "source": [
    "rated = als.VT.T[pig.indices]\n",
    "dpp = prepare_dpp(rated)\n",
    "dpp.sample_k(5)"
   ]
  },
  {
   "cell_type": "code",
   "execution_count": 172,
   "metadata": {
    "collapsed": true
   },
   "outputs": [],
   "source": [
    "#all_vectors = als.VT.T[pig.indices]  # pig.indices\n",
    "#all_vectors = als.VT.T[:25]\n",
    "\n",
    "def bgs(rated, nb_questions_min):\n",
    "    #global all_vectors\n",
    "    nb_works = len(rated)\n",
    "    rated_works = range(nb_works)  # pig.getnnz()\n",
    "    #P = all_vectors[rated_works].dot(all_vectors[rated_works].T)\n",
    "    P = kernel(rated) + ALPHA * np.eye(len(rated_works))\n",
    "    # print(nb_works, nb_questions)\n",
    "    kept_indices = set(range(nb_works))\n",
    "    get_bgs = {len(kept_indices): np.array(list(kept_indices))}\n",
    "    for _ in range(nb_works - nb_questions_min):\n",
    "        k_best = None\n",
    "        #error_min = float('inf')\n",
    "        error_max = float('-inf')\n",
    "        for k in kept_indices:\n",
    "            kept = list(kept_indices - set([k]))\n",
    "            try:\n",
    "                #error = np.trace(np.linalg.inv(P[np.ix_(kept, kept)]))\n",
    "                vp = np.abs(np.real(np.linalg.eig(P[np.ix_(kept, kept)])[0]))\n",
    "                if type(vp[0]) == np.complex128:\n",
    "                    print(vp)\n",
    "                    raise Exception\n",
    "                #error = hmean(vp)\n",
    "                error = np.sum(np.log(vp))\n",
    "                #print(error, vp[-1])\n",
    "            except Exception as err:\n",
    "                print('I had to take', nb_questions_min, 'but I must stop at', len(kept_indices))\n",
    "                print(err)\n",
    "                return list(kept_indices)\n",
    "            #print(error)\n",
    "            if error > error_max:#< error_min:\n",
    "                #error_min = error\n",
    "                error_max = error\n",
    "                k_best = k\n",
    "            '''if len(kept) <= 2 and random.random() < 0.1:\n",
    "                print(kept, error, vp)'''\n",
    "        kept_indices -= set([k_best])\n",
    "        get_bgs[len(kept_indices)] = np.array(list(kept_indices))\n",
    "    sampled_indices = list(kept_indices)\n",
    "    return np.array(sampled_indices), get_bgs"
   ]
  },
  {
   "cell_type": "code",
   "execution_count": 210,
   "metadata": {},
   "outputs": [],
   "source": [
    "_, get_bgs = bgs(rated, 2)"
   ]
  },
  {
   "cell_type": "code",
   "execution_count": 109,
   "metadata": {
    "collapsed": true
   },
   "outputs": [],
   "source": [
    "# 90–250\n",
    "# 250–415"
   ]
  },
  {
   "cell_type": "code",
   "execution_count": 110,
   "metadata": {},
   "outputs": [
    {
     "name": "stdout",
     "output_type": "stream",
     "text": [
      "40 5\n",
      "90 19\n",
      "240 104\n",
      "250 112\n",
      "260 120\n",
      "340 277\n",
      "400 791\n",
      "405 944\n",
      "414 4515\n",
      "415 users\n"
     ]
    }
   ],
   "source": [
    "for pos in [40, 90, 240, 250, 260, 340, 400, 405, len(users) - 1]:\n",
    "    print(pos, mangaki[users[pos], :].getnnz())\n",
    "print(len(users), 'users')"
   ]
  },
  {
   "cell_type": "code",
   "execution_count": 111,
   "metadata": {
    "collapsed": true
   },
   "outputs": [],
   "source": [
    "popular = als.VT.T[:500]\n",
    "popular_dpp = prepare_dpp(popular)"
   ]
  },
  {
   "cell_type": "code",
   "execution_count": 115,
   "metadata": {},
   "outputs": [
    {
     "name": "stdout",
     "output_type": "stream",
     "text": [
      "0:00:02.398365\n"
     ]
    }
   ],
   "source": [
    "from datetime import datetime\n",
    "TEST = 1000\n",
    "start = datetime.now()\n",
    "np.linalg.eig(np.random.random((TEST, TEST)))\n",
    "print(datetime.now() - start)"
   ]
  },
  {
   "cell_type": "code",
   "execution_count": 174,
   "metadata": {},
   "outputs": [
    {
     "name": "stdout",
     "output_type": "stream",
     "text": [
      "80 17\n",
      "81 17\n",
      "82 17\n",
      "83 17\n",
      "84 17\n",
      "85 18\n",
      "86 18\n",
      "87 18\n",
      "88 18\n",
      "89 19\n",
      "90 19\n",
      "91 20\n",
      "92 21\n",
      "93 21\n",
      "94 22\n",
      "95 22\n",
      "96 22\n",
      "97 22\n",
      "98 22\n",
      "99 23\n",
      "100 23\n",
      "101 23\n",
      "102 23\n",
      "103 24\n",
      "104 24\n",
      "105 24\n",
      "106 25\n",
      "107 25\n",
      "108 25\n",
      "109 25\n",
      "110 25\n",
      "111 25\n",
      "112 26\n",
      "113 26\n",
      "114 27\n",
      "115 27\n",
      "116 28\n",
      "117 28\n",
      "118 28\n",
      "119 28\n"
     ]
    },
    {
     "data": {
      "image/png": "[encoded data removed]",
      "text/plain": [
       "<matplotlib.figure.Figure at 0x112c6de48>"
      ]
     },
     "metadata": {},
     "output_type": "display_data"
    }
   ],
   "source": [
    "import random\n",
    "from collections import defaultdict\n",
    "\n",
    "fig, axes = plt.subplots(3, 1, figsize=(16, 10))\n",
    "plot = {}\n",
    "plot['rmse'], plot['sigma'], plot['det'] = axes\n",
    "\n",
    "STRATEGIES = ['dpp', 'random'] # , ':'bgs', \n",
    "LIMIT_SAMPLE = 2000\n",
    "LIMIT_ASK = 50\n",
    "USER_POS_LIMIT = 500\n",
    "\n",
    "values = defaultdict(lambda: defaultdict(lambda: defaultdict(list)))\n",
    "for user_pos in range(80, 120):\n",
    "    pig = mangaki[users[user_pos], :]\n",
    "    #pig.data -= als.means.mean()  # Renormalize\n",
    "    nb_total_rated = min(pig.getnnz(), LIMIT_SAMPLE)\n",
    "    if user_pos % 1 == 0:\n",
    "        print(user_pos, nb_total_rated)\n",
    "    rated = als.VT.T[pig.indices[:LIMIT_SAMPLE]]  # LIMIT_SAMPLE is the limit\n",
    "    if user_pos <= USER_POS_LIMIT:\n",
    "        dpp = prepare_dpp(rated)  # DPP\n",
    "        #_, get_bgs = bgs(rated, 1)  # BGS\n",
    "    sizes = range(2, min(nb_total_rated, LIMIT_ASK) + 1, 1)\n",
    "    for nb_rated in sizes:\n",
    "        for strategy in STRATEGIES:\n",
    "            if strategy == 'random':\n",
    "                pos = random.sample(range(nb_total_rated), nb_rated)\n",
    "                work_ids = pig.indices[pos]\n",
    "            elif strategy == 'dpp':\n",
    "                if user_pos <= USER_POS_LIMIT:\n",
    "                    pos = dpp.sample_k(nb_rated)\n",
    "                    work_ids = pig.indices[pos]\n",
    "                else:\n",
    "                    pop = popular_dpp.sample_k(nb_rated)\n",
    "                    askable = list(set(pop) & set(pig.indices))\n",
    "                    if len(askable) < nb_rated:\n",
    "                        remaining = nb_rated - len(askable)\n",
    "                        #print(pos, 'oops', remaining, nb_rated)\n",
    "                        askable.extend(random.sample(set(pig.indices) - set(askable), remaining))\n",
    "                    work_ids = askable\n",
    "            else:\n",
    "                pos = get_bgs[nb_rated]\n",
    "                work_ids = pig.indices[pos]\n",
    "            ratings = pig[:, work_ids].data\n",
    "\n",
    "            X_asked = als.VT.T[work_ids]\n",
    "            #values['det'][strategy][nb_rated].append(np.log(np.linalg.det(kernel(X_asked) + ALPHA * np.eye(nb_rated))))\n",
    "\n",
    "            #print(work_ids.shape, X_asked.shape, ratings.shape)\n",
    "            #gpr.fit(X_asked, ratings)\n",
    "            oals.fit(X_asked, ratings)\n",
    "            #y_pred, sigma = gpr.predict(als.VT.T[pig.indices], return_std=True)\n",
    "            y_pred = oals.predict(als.VT.T[pig.indices])\n",
    "            #fix(y_pred)\n",
    "            rmse = mean_squared_error(pig.data, y_pred) ** 0.5\n",
    "            #rmse_max = mean_squared_error(pig.data, y_pred + 1.96 * sigma) ** 0.5\n",
    "            #rmse_min = mean_squared_error(pig.data, y_pred - 1.96 * sigma) ** 0.5\n",
    "            #values['sigma'][strategy][nb_rated].append(sigma.mean())\n",
    "            #values['sigma_err'][strategy][nb_rated].append(1.96 * sigma.std())\n",
    "            values['rmse'][strategy][nb_rated].append(rmse)\n",
    "            #values['rmse_up'][strategy].append(rmse_up)\n",
    "            #values['rmse_down'][strategy].append(rmse_down)\n",
    "            #print(nb_rated, strategy, 'rmse', rmse)\n",
    "            #print(y_pred[:5], pig.data[:5])\n",
    "\n",
    "curves = defaultdict(list)\n",
    "for strategy in STRATEGIES:\n",
    "    for value in ['rmse']:  # 'sigma', , 'det'\n",
    "        mean = [np.mean(values[value][strategy][nb_rated]) for nb_rated in sizes]\n",
    "        std = [np.std(values[value][strategy][nb_rated]) for nb_rated in sizes]\n",
    "        curves[value].append(plot[value].errorbar(sizes, mean, label=strategy, fmt='.-'))  # , yerr=1.96 * np.array(std)\n",
    "for value in ['rmse']:\n",
    "    plot[value].legend(handles=curves[value])\n",
    "plt.xlabel('Number of questions asked')\n",
    "plot['rmse'].set_ylabel('RMSE')\n",
    "#plot['det'].set_ylabel('determinant')\n",
    "#plot['sigma'].set_ylabel('variance')\n",
    "plt.show()"
   ]
  },
  {
   "cell_type": "code",
   "execution_count": 1,
   "metadata": {},
   "outputs": [
    {
     "ename": "NameError",
     "evalue": "name 'values' is not defined",
     "output_type": "error",
     "traceback": [
      "\u001b[0;31m---------------------------------------------------------------------------\u001b[0m",
      "\u001b[0;31mNameError\u001b[0m                                 Traceback (most recent call last)",
      "\u001b[0;32m<ipython-input-1-e63d4997013b>\u001b[0m in \u001b[0;36m<module>\u001b[0;34m()\u001b[0m\n\u001b[1;32m      2\u001b[0m \u001b[0;34m\u001b[0m\u001b[0m\n\u001b[1;32m      3\u001b[0m \u001b[0mbackup\u001b[0m \u001b[0;34m=\u001b[0m \u001b[0;34m{\u001b[0m\u001b[0;34m}\u001b[0m\u001b[0;34m\u001b[0m\u001b[0m\n\u001b[0;32m----> 4\u001b[0;31m \u001b[0;32mfor\u001b[0m \u001b[0mvalue\u001b[0m \u001b[0;32min\u001b[0m \u001b[0mvalues\u001b[0m\u001b[0;34m:\u001b[0m\u001b[0;34m\u001b[0m\u001b[0m\n\u001b[0m\u001b[1;32m      5\u001b[0m     \u001b[0mbackup\u001b[0m\u001b[0;34m[\u001b[0m\u001b[0mvalue\u001b[0m\u001b[0;34m]\u001b[0m \u001b[0;34m=\u001b[0m \u001b[0;34m{\u001b[0m\u001b[0;34m}\u001b[0m\u001b[0;34m\u001b[0m\u001b[0m\n\u001b[1;32m      6\u001b[0m     \u001b[0;32mfor\u001b[0m \u001b[0mstrategy\u001b[0m \u001b[0;32min\u001b[0m \u001b[0mSTRATEGIES\u001b[0m\u001b[0;34m:\u001b[0m\u001b[0;34m\u001b[0m\u001b[0m\n",
      "\u001b[0;31mNameError\u001b[0m: name 'values' is not defined"
     ]
    }
   ],
   "source": [
    "import pickle\n",
    "\n",
    "backup = {}\n",
    "for value in values:\n",
    "    backup[value] = {}\n",
    "    for strategy in STRATEGIES:\n",
    "        backup[value][strategy] = {}\n",
    "        for nb_rated in sizes:\n",
    "            backup[value][strategy][nb_rated] = values[value][strategy][nb_rated]\n",
    "\n",
    "'''with open('linear250-405-no-limit.pickle', 'wb') as f:\n",
    "    pickle.dump(backup, f)'''"
   ]
  },
  {
   "cell_type": "code",
   "execution_count": 19,
   "metadata": {},
   "outputs": [
    {
     "data": {
      "text/plain": [
       "3"
      ]
     },
     "execution_count": 19,
     "metadata": {},
     "output_type": "execute_result"
    }
   ],
   "source": [
    "#with open('linear250-405-no-limit.pickle', 'rb') as f:\n",
    "with open('linear90-250.pickle', 'rb') as f:\n",
    "    backup2 = pickle.load(f)\n",
    "\n",
    "len(backup2)"
   ]
  },
  {
   "cell_type": "code",
   "execution_count": 21,
   "metadata": {},
   "outputs": [
    {
     "name": "stdout",
     "output_type": "stream",
     "text": [
      "0.631925981086\n",
      "1.6346394227\n",
      "11.5856229339\n",
      "0.655964159586\n",
      "1.64114222751\n",
      "10.2724631087\n",
      "0.582901527231\n",
      "1.69682471115\n",
      "14.7479662844\n"
     ]
    }
   ],
   "source": [
    "import numpy as np\n",
    "\n",
    "import matplotlib\n",
    "matplotlib.use('pgf')\n",
    "pgf_with_rc_fonts = {\n",
    "    'font.family': 'serif',\n",
    "    'font.serif': [],\n",
    "    'text.usetex': True,\n",
    "    'text.latex.unicode': True,\n",
    "}\n",
    "matplotlib.rcParams.update(pgf_with_rc_fonts)\n",
    "import matplotlib.pyplot as plt\n",
    "\n",
    "subsizes = range(10, 40)\n",
    "\n",
    "fig, axes = plt.subplots(3, 1, figsize=(16, 10))\n",
    "plot = {}\n",
    "plot['rmse'], plot['sigma'], plot['det'] = axes\n",
    "\n",
    "STRATEGIES = ['dpp', 'random', 'bgs'] # , ':'bgs', \n",
    "\n",
    "from collections import defaultdict\n",
    "curves = defaultdict(list)\n",
    "for strategy in STRATEGIES:\n",
    "    for value in ['sigma', 'rmse', 'det']:\n",
    "        mean = [np.mean(backup2[value][strategy][nb_rated]) for nb_rated in subsizes]\n",
    "        print(np.mean(mean))\n",
    "        std = [np.std(backup2[value][strategy][nb_rated]) for nb_rated in subsizes] if strategy != 'random' else [0.] * len(subsizes)\n",
    "        curves[value].append(plot[value].errorbar(subsizes, mean, label=strategy, fmt='.-'))  # yerr=1.96 * np.array(std)\n",
    "for value in ['rmse', 'sigma', 'det']:\n",
    "    plot[value].legend(handles=curves[value])\n",
    "plt.xlabel('Number of questions asked')\n",
    "plot['rmse'].set_ylabel('RMSE')\n",
    "plot['det'].set_ylabel('determinant')\n",
    "plot['sigma'].set_ylabel('variance')\n",
    "plt.show()\n",
    "\n",
    "plt.savefig('linear90-250.pdf', format='pdf')"
   ]
  },
  {
   "cell_type": "code",
   "execution_count": 1066,
   "metadata": {
    "collapsed": true
   },
   "outputs": [],
   "source": [
    "P = np.random.random((5, 2))"
   ]
  },
  {
   "cell_type": "code",
   "execution_count": 1067,
   "metadata": {
    "collapsed": true
   },
   "outputs": [],
   "source": [
    "_, sigma, _ = np.linalg.svd(P)"
   ]
  },
  {
   "cell_type": "code",
   "execution_count": 1068,
   "metadata": {},
   "outputs": [
    {
     "data": {
      "text/plain": [
       "array([ 2.75481025,  0.24023893])"
      ]
     },
     "execution_count": 1068,
     "metadata": {},
     "output_type": "execute_result"
    }
   ],
   "source": [
    "sigma ** 2"
   ]
  },
  {
   "cell_type": "code",
   "execution_count": 1070,
   "metadata": {},
   "outputs": [
    {
     "data": {
      "text/plain": [
       "(array([[-0.6921513 ,  0.61451124,  0.17817563,  0.26389984, -0.20472623],\n",
       "        [-0.20591154, -0.31782178,  0.63565118, -0.54018261, -0.40092404],\n",
       "        [-0.20363248, -0.22904383, -0.66783424, -0.07297943, -0.67434722],\n",
       "        [-0.28935687,  0.2371035 , -0.34228285, -0.74879228,  0.42685725],\n",
       "        [-0.59441856, -0.6424065 , -0.03226308,  0.26933948,  0.40049445]]),\n",
       " array([  2.75481025e+00,   2.40238935e-01,   5.85678773e-17,\n",
       "          3.30167623e-17,   5.02983733e-18]),\n",
       " array([[-0.6921513 , -0.20591154, -0.20363248, -0.28935687, -0.59441856],\n",
       "        [ 0.61451124, -0.31782178, -0.22904383,  0.2371035 , -0.6424065 ],\n",
       "        [ 0.35382594, -0.19257944,  0.00345917, -0.91015434,  0.09657884],\n",
       "        [ 0.10187211,  0.75202175, -0.62990142, -0.13240423, -0.09888724],\n",
       "        [-0.08793059, -0.5039506 , -0.71364204,  0.1189232 ,  0.46354537]]))"
      ]
     },
     "execution_count": 1070,
     "metadata": {},
     "output_type": "execute_result"
    }
   ],
   "source": [
    "np.linalg.svd(P.dot(P.T))"
   ]
  },
  {
   "cell_type": "code",
   "execution_count": 1072,
   "metadata": {},
   "outputs": [
    {
     "data": {
      "text/plain": [
       "array([ 1.15700538,  0.04186263])"
      ]
     },
     "execution_count": 1072,
     "metadata": {},
     "output_type": "execute_result"
    }
   ],
   "source": [
    "np.linalg.svd(P[[1, 2, 4], :])[1]"
   ]
  },
  {
   "cell_type": "code",
   "execution_count": 1046,
   "metadata": {},
   "outputs": [
    {
     "data": {
      "image/png": "[encoded data removed]",
      "text/plain": [
       "<matplotlib.figure.Figure at 0x125ed6f60>"
      ]
     },
     "metadata": {},
     "output_type": "display_data"
    }
   ],
   "source": [
    "subsizes = range(10, 30)\n",
    "\n",
    "fig, axes = plt.subplots(3, 1, figsize=(16, 10))\n",
    "plot = {}\n",
    "plot['rmse'], plot['sigma'], plot['det'] = axes\n",
    "\n",
    "curves = defaultdict(list)\n",
    "for strategy in STRATEGIES:\n",
    "    for value in ['sigma', 'rmse', 'det']:\n",
    "        mean = [np.mean(values[value][strategy][nb_rated]) for nb_rated in subsizes]\n",
    "        std = [np.std(values[value][strategy][nb_rated]) for nb_rated in subsizes] if strategy != 'random' else [0.] * len(subsizes)\n",
    "        curves[value].append(plot[value].errorbar(subsizes, mean, label=strategy, fmt='.-'))  # \n",
    "for value in ['rmse', 'sigma', 'det']:\n",
    "    plot[value].legend(handles=curves[value])\n",
    "plt.xlabel('Number of questions asked')\n",
    "plot['rmse'].set_ylabel('RMSE')\n",
    "plot['det'].set_ylabel('determinant')\n",
    "plot['sigma'].set_ylabel('variance')\n",
    "plt.show()"
   ]
  },
  {
   "cell_type": "code",
   "execution_count": 769,
   "metadata": {},
   "outputs": [
    {
     "name": "stdout",
     "output_type": "stream",
     "text": [
      "(8, 18, 48) 4.25460508524\n"
     ]
    }
   ],
   "source": [
    "from itertools import combinations\n",
    "\n",
    "P = kernel(all_vectors) + 0.5 * np.eye(len(all_vectors))\n",
    "det_max = 0.\n",
    "best_subset = None\n",
    "for subset in combinations(range(49), 3):\n",
    "    vp = np.linalg.eig(P[np.ix_(subset, subset)])[0]\n",
    "    det = np.sum(np.log(vp))\n",
    "    if det > det_max:\n",
    "        det_max = det\n",
    "        best_subset = subset\n",
    "print(best_subset, det_max)"
   ]
  },
  {
   "cell_type": "code",
   "execution_count": 763,
   "metadata": {
    "collapsed": true
   },
   "outputs": [],
   "source": [
    "nb_rated = 3\n",
    "rnd_ids = lambda: random.sample(range(total_rated), nb_rated)\n",
    "bgs_ids = get_bgs[nb_rated]\n",
    "dpp_ids = lambda: dpp.sample_k(nb_rated)"
   ]
  },
  {
   "cell_type": "code",
   "execution_count": 764,
   "metadata": {},
   "outputs": [
    {
     "data": {
      "text/plain": [
       "array([ 8, 18, 48])"
      ]
     },
     "execution_count": 764,
     "metadata": {},
     "output_type": "execute_result"
    }
   ],
   "source": [
    "bgs_ids"
   ]
  },
  {
   "cell_type": "code",
   "execution_count": 765,
   "metadata": {},
   "outputs": [
    {
     "name": "stdout",
     "output_type": "stream",
     "text": [
      "god 70.428998245 12.9441472155 0.757048278569\n",
      "bgs 70.428998245 12.9441472155 0.757048278569\n",
      "dpp 39.6364976041 10.749006229 0.920698124954\n",
      "dpp 47.5691573891 12.0751859134 0.913087202165\n",
      "dpp 28.9860274404 9.97273072551 1.04952507028\n",
      "dpp 40.4860914178 11.0070400776 0.925982264811\n",
      "dpp 52.9832951942 12.2298801317 0.866642658198\n",
      "dpp 37.6991738559 12.2264444503 1.04461854464\n",
      "dpp 37.2510220756 10.4558451907 0.93358365863\n",
      "dpp 40.7199820761 10.6882025798 0.907200112806\n",
      "dpp 32.615762504 9.82940546514 0.960959078829\n",
      "dpp 38.6342799324 10.645916851 0.930801676432\n",
      "rnd 13.5096342561 7.74426304244 1.35266112668\n",
      "rnd 23.1677988068 9.62566559232 1.16302997412\n",
      "rnd 17.2154364862 8.02089401437 1.20499127812\n",
      "rnd 19.3745770673 8.53273213737 1.17739386033\n",
      "rnd 31.005674663 10.2495882414 1.05029142943\n",
      "rnd 10.0599828581 6.84954391492 1.46142696033\n",
      "rnd 25.5118832817 9.82916640679 1.12204069636\n",
      "rnd 23.9830055827 9.12229113671 1.09664290944\n",
      "rnd 13.7155963789 8.00250932112 1.42226032884\n",
      "rnd 14.6027854875 7.54182922008 1.26656680368\n"
     ]
    }
   ],
   "source": [
    "NB_SAMPLES = 10  # ('god', np.array(best_subset)), \n",
    "for strategy, pos in [('god', np.array(best_subset)), ('bgs', bgs_ids)] + [('dpp', dpp_ids()) for _ in range(NB_SAMPLES)] + [('rnd', rnd_ids()) for _ in range(NB_SAMPLES)]:\n",
    "    cov = kernel(als.VT.T[pig.indices[pos]]) + 0.5 * np.eye(nb_rated)\n",
    "    #plt.imshow(cov)\n",
    "    print(strategy, np.linalg.det(cov), np.trace(cov), np.trace(np.linalg.inv(cov)))\n",
    "    #plt.show()"
   ]
  },
  {
   "cell_type": "code",
   "execution_count": 766,
   "metadata": {},
   "outputs": [
    {
     "ename": "IndexError",
     "evalue": "index 151 is out of bounds for axis 1 with size 49",
     "output_type": "error",
     "traceback": [
      "\u001b[0;31m---------------------------------------------------------------------------\u001b[0m",
      "\u001b[0;31mIndexError\u001b[0m                                Traceback (most recent call last)",
      "\u001b[0;32m<ipython-input-766-a766b04cb053>\u001b[0m in \u001b[0;36m<module>\u001b[0;34m()\u001b[0m\n\u001b[0;32m----> 1\u001b[0;31m \u001b[0mpig\u001b[0m\u001b[0;34m.\u001b[0m\u001b[0mindices\u001b[0m\u001b[0;34m[\u001b[0m\u001b[0mrand_ids\u001b[0m\u001b[0;34m]\u001b[0m\u001b[0;34m[\u001b[0m\u001b[0;36m9\u001b[0m\u001b[0;34m]\u001b[0m\u001b[0;34m,\u001b[0m \u001b[0mpig\u001b[0m\u001b[0;34m.\u001b[0m\u001b[0mindices\u001b[0m\u001b[0;34m[\u001b[0m\u001b[0mrand_ids\u001b[0m\u001b[0;34m]\u001b[0m\u001b[0;34m[\u001b[0m\u001b[0;36m11\u001b[0m\u001b[0;34m]\u001b[0m\u001b[0;34m\u001b[0m\u001b[0m\n\u001b[0m",
      "\u001b[0;31mIndexError\u001b[0m: index 151 is out of bounds for axis 1 with size 49"
     ]
    }
   ],
   "source": [
    "pig.indices[rand_ids][9], pig.indices[rand_ids][11]"
   ]
  },
  {
   "cell_type": "markdown",
   "metadata": {},
   "source": [
    "## RBF kernel"
   ]
  },
  {
   "cell_type": "code",
   "execution_count": 62,
   "metadata": {
    "collapsed": true
   },
   "outputs": [],
   "source": [
    "from sklearn.gaussian_process.kernels import RBF"
   ]
  },
  {
   "cell_type": "code",
   "execution_count": 63,
   "metadata": {
    "collapsed": true
   },
   "outputs": [],
   "source": [
    "rated = als.VT.T[pig.indices]\n",
    "rbf = RBF()\n",
    "dpprbf = MangakiDPP(vectors=rated)\n",
    "dpprbf.L = rbf(dpprbf.vectors)\n",
    "dpprbf.preprocess()"
   ]
  },
  {
   "cell_type": "code",
   "execution_count": 64,
   "metadata": {},
   "outputs": [
    {
     "name": "stdout",
     "output_type": "stream",
     "text": [
      "1 random rmse 4.0760675024\n",
      "[ 0.43073231  0.75149961  0.12702219  0.84212417  0.2416001 ] [ 2.  5.  5.  5.  2.]\n",
      "1 dpp rmse 4.31876858209\n",
      "[ 0.01080401  0.00523353  0.00710356  0.00542005  0.00369016] [ 2.  5.  5.  5.  2.]\n",
      "1 bgs rmse 4.31876858209\n",
      "[ 0.01080401  0.00523353  0.00710356  0.00542005  0.00369016] [ 2.  5.  5.  5.  2.]\n",
      "3 random rmse 2.85355220442\n",
      "[ 0.91758257  0.64655633  0.65725844  0.63852061  1.37689899] [ 2.  5.  5.  5.  2.]\n",
      "3 dpp rmse 3.13322924277\n",
      "[ 1.31573601  0.75988585  2.10841435  0.70437131  1.10721262] [ 2.  5.  5.  5.  2.]\n",
      "3 bgs rmse 3.36993615636\n",
      "[ 0.2354152   0.20935398  1.34020272  0.31890276  0.45048682] [ 2.  5.  5.  5.  2.]\n",
      "5 random rmse 2.18597659959\n",
      "[ 1.79369347  1.87698915  1.87755428  1.80654174  1.70334215] [ 2.  5.  5.  5.  2.]\n",
      "5 dpp rmse 2.1476268852\n",
      "[ 2.          5.          1.26127189  4.52129116  1.73523068] [ 2.  5.  5.  5.  2.]\n",
      "5 bgs rmse 2.78555258766\n",
      "[ 0.52108681  0.56352772  1.51176309  0.80522764  1.08304059] [ 2.  5.  5.  5.  2.]\n",
      "7 random rmse 2.19154434752\n",
      "[ 1.58436412  0.8680307   2.66016094  0.80351426  1.47571535] [ 2.  5.  5.  5.  2.]\n",
      "7 dpp rmse 1.87563770818\n",
      "[ 1.54467372  2.4748069   1.67373092  3.07522885  1.9246233 ] [ 2.  5.  5.  5.  2.]\n",
      "7 bgs rmse 1.87907584893\n",
      "[ 1.07168913  1.9093807   2.25130561  2.66113604  1.7011482 ] [ 2.  5.  5.  5.  2.]\n",
      "9 random rmse 2.03630035991\n",
      "[ 1.51848255  1.19676249  4.40532917  0.98665188  1.11752775] [ 2.  5.  5.  5.  2.]\n",
      "9 dpp rmse 1.76896038575\n",
      "[ 2.          1.35460284  5.          1.30628413  1.97261098] [ 2.  5.  5.  5.  2.]\n",
      "9 bgs rmse 1.59153973479\n",
      "[ 2.          2.20932638  2.49234799  2.95248794  2.05977108] [ 2.  5.  5.  5.  2.]\n",
      "11 random rmse 1.75081382615\n",
      "[ 1.82367369  1.73271416  2.10663066  1.67521935  1.57957602] [ 2.  5.  5.  5.  2.]\n",
      "11 dpp rmse 1.55265277441\n",
      "[ 2.60392126  5.          5.          4.88622787  1.78431843] [ 2.  5.  5.  5.  2.]\n",
      "11 bgs rmse 1.43874779328\n",
      "[ 2.          2.3272329   2.95474858  3.01190253  2.26277008] [ 2.  5.  5.  5.  2.]\n",
      "13 random rmse 1.7504275732\n",
      "[ 1.61166015  1.52521037  2.45123274  1.5844379   1.71814247] [ 2.  5.  5.  5.  2.]\n",
      "13 dpp rmse 1.62584920004\n",
      "[ 2.20352349  3.20688398  2.89879615  3.64002292  1.59599398] [ 2.  5.  5.  5.  2.]\n",
      "13 bgs rmse 1.29471121543\n",
      "[ 2.          2.46238038  3.16662872  3.07092636  2.        ] [ 2.  5.  5.  5.  2.]\n",
      "15 random rmse 1.62776174897\n",
      "[ 2.32520473  1.42679417  5.          1.33104756  1.75508917] [ 2.  5.  5.  5.  2.]\n",
      "15 dpp rmse 1.52832418069\n",
      "[ 2.          1.69902908  2.38691174  1.63860722  2.        ] [ 2.  5.  5.  5.  2.]\n",
      "15 bgs rmse 1.24109220148\n",
      "[ 2.          2.44160003  3.14949346  3.05634184  2.        ] [ 2.  5.  5.  5.  2.]\n",
      "17 random rmse 1.58833377038\n",
      "[ 3.44327521  5.          5.          4.67249558  2.77582891] [ 2.  5.  5.  5.  2.]\n",
      "17 dpp rmse 1.51456470502\n",
      "[ 2.56271414  1.7479341   3.16720054  1.75379104  2.        ] [ 2.  5.  5.  5.  2.]\n",
      "17 bgs rmse 1.08714925309\n",
      "[ 2.          2.4664963   5.          3.03924575  2.        ] [ 2.  5.  5.  5.  2.]\n",
      "19 random rmse 1.56692032636\n",
      "[ 2.5657398   5.          4.32803252  5.08407429  2.        ] [ 2.  5.  5.  5.  2.]\n",
      "19 dpp rmse 1.69252683545\n",
      "[ 2.30706604  1.89286607  3.09437493  1.75712298  2.        ] [ 2.  5.  5.  5.  2.]\n",
      "19 bgs rmse 1.09129528158\n",
      "[ 2.          2.43228786  5.          2.98806368  2.        ] [ 2.  5.  5.  5.  2.]\n",
      "21 random rmse 1.51509821666\n",
      "[ 2.          3.42082256  3.05517177  3.83429171  2.05021874] [ 2.  5.  5.  5.  2.]\n",
      "21 dpp rmse 1.28912599022\n",
      "[ 2.3889097   2.92194556  3.47558489  3.59272021  2.38365043] [ 2.  5.  5.  5.  2.]\n",
      "21 bgs rmse 1.09426543519\n",
      "[ 2.          2.46050571  5.          3.02021247  2.        ] [ 2.  5.  5.  5.  2.]\n",
      "23 random rmse 1.54320324858\n",
      "[ 1.84542347  0.41111078  5.          0.51580406  1.11538367] [ 2.  5.  5.  5.  2.]\n",
      "23 dpp rmse 1.11248215267\n",
      "[ 2.97949301  4.59557605  4.42376891  5.          2.        ] [ 2.  5.  5.  5.  2.]\n",
      "23 bgs rmse 1.042595656\n",
      "[ 2.          2.1807365   5.          2.80057136  2.        ] [ 2.  5.  5.  5.  2.]\n",
      "25 random rmse 1.26056994919\n",
      "[ 2.18880279  2.95198851  5.          3.23551922  1.9636374 ] [ 2.  5.  5.  5.  2.]\n",
      "25 dpp rmse 1.16153460983\n",
      "[ 1.7230168   2.3733021   4.55099171  2.76503425  2.01098907] [ 2.  5.  5.  5.  2.]\n",
      "25 bgs rmse 1.06036043243\n",
      "[ 2.          2.29849796  5.          2.83978011  2.        ] [ 2.  5.  5.  5.  2.]\n",
      "27 random rmse 1.17639222047\n",
      "[ 2.59798488  4.76212114  4.22044657  5.          1.72097368] [ 2.  5.  5.  5.  2.]\n",
      "27 dpp rmse 1.22216294003\n",
      "[ 2.94162255  5.          4.47591245  4.83561501  1.85075651] [ 2.  5.  5.  5.  2.]\n",
      "27 bgs rmse 0.998140268885\n",
      "[ 2.          5.          5.          4.98456696  2.        ] [ 2.  5.  5.  5.  2.]\n",
      "29 random rmse 1.23208347989\n",
      "[ 2.24954585  5.          2.53341694  4.61750198  1.80498187] [ 2.  5.  5.  5.  2.]\n",
      "29 dpp rmse 1.10788133933\n",
      "[ 2.35325532  4.13131627  5.          5.          1.64757508] [ 2.  5.  5.  5.  2.]\n",
      "29 bgs rmse 1.00505616757\n",
      "[ 2.          5.          5.          4.98752538  2.        ] [ 2.  5.  5.  5.  2.]\n"
     ]
    },
    {
     "data": {
      "image/png": "[encoded data removed]",
      "text/plain": [
       "<matplotlib.figure.Figure at 0x114bca278>"
      ]
     },
     "metadata": {},
     "output_type": "display_data"
    }
   ],
   "source": [
    "import random\n",
    "from collections import defaultdict\n",
    "\n",
    "kernel = DotProduct()\n",
    "gpr = GaussianProcessRegressor()\n",
    "BATCH_SIZE = 40\n",
    "steps = []\n",
    "errors = defaultdict(list)\n",
    "errors_min = defaultdict(list)\n",
    "errors_max = defaultdict(list)\n",
    "total_rated = pig.getnnz()\n",
    "for nb_rated in range(1, 30, 2):\n",
    "    steps.append(nb_rated)\n",
    "    for strategy in ['random', 'dpp', 'bgs']:\n",
    "        if strategy == 'random':\n",
    "            pos = random.sample(range(total_rated), nb_rated)\n",
    "        elif strategy == 'dpp':\n",
    "            pos = dpprbf.sample_k(nb_rated)\n",
    "        elif strategy == 'bgs':\n",
    "            pos = get_bgs[nb_rated]\n",
    "        work_ids = pig.indices[pos]\n",
    "        ratings = pig.data[pos]\n",
    "        \n",
    "        gpr.fit(als.VT.T[work_ids], ratings)\n",
    "        y_pred, sigma = gpr.predict(als.VT.T[pig.indices], return_std=True)\n",
    "        rmse = mean_squared_error(pig.data, y_pred) ** 0.5\n",
    "        rmse_max = mean_squared_error(pig.data, y_pred + 1.96 * sigma) ** 0.5\n",
    "        rmse_min = mean_squared_error(pig.data, y_pred - 1.96 * sigma) ** 0.5\n",
    "        errors[strategy].append(rmse)\n",
    "        errors_max[strategy].append(0)#abs(rmse_max - rmse))\n",
    "        errors_min[strategy].append(0)#abs(rmse_min - rmse))\n",
    "        print(nb_rated, strategy, 'rmse', rmse)\n",
    "        print(y_pred[:5], pig.data[:5])\n",
    "rand_curve = plt.errorbar(steps, errors['random'], yerr=[errors_min['random'], errors_max['random']], label='random')\n",
    "dpp_curve = plt.errorbar(steps, errors['dpp'], yerr=[errors_min['dpp'], errors_max['dpp']], color='r', label='dpp')\n",
    "bgs_curve = plt.errorbar(steps, errors['bgs'], yerr=[errors_min['bgs'], errors_max['bgs']], color='g', label='bgs')\n",
    "\n",
    "plt.legend(handles=[rand_curve, dpp_curve, bgs_curve])\n",
    "plt.show()"
   ]
  },
  {
   "cell_type": "code",
   "execution_count": 201,
   "metadata": {
    "collapsed": true
   },
   "outputs": [],
   "source": [
    "X = np.random.random((5, 2))*100\n",
    "eig, _ = np.linalg.eig(X.dot(X.T))"
   ]
  },
  {
   "cell_type": "code",
   "execution_count": 204,
   "metadata": {},
   "outputs": [
    {
     "data": {
      "text/plain": [
       "array([ 18630.,     -0.,   3416.,      0.,     -0.])"
      ]
     },
     "execution_count": 204,
     "metadata": {},
     "output_type": "execute_result"
    }
   ],
   "source": [
    "np.round(eig)"
   ]
  },
  {
   "cell_type": "code",
   "execution_count": null,
   "metadata": {
    "collapsed": true
   },
   "outputs": [],
   "source": []
  }
 ],
 "metadata": {
  "kernelspec": {
   "display_name": "Django Shell-Plus",
   "language": "python",
   "name": "django_extensions"
  },
  "language_info": {
   "codemirror_mode": {
    "name": "ipython",
    "version": 3
   },
   "file_extension": ".py",
   "mimetype": "text/x-python",
   "name": "python",
   "nbconvert_exporter": "python",
   "pygments_lexer": "ipython3",
   "version": "3.6.5"
  }
 },
 "nbformat": 4,
 "nbformat_minor": 2
}
