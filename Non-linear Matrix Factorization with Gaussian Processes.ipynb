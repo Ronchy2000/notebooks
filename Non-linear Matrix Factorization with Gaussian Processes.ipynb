{
 "cells": [
  {
   "cell_type": "markdown",
   "metadata": {},
   "source": [
    "# Non-linear Matrix Factorization with Gaussian Processes"
   ]
  },
  {
   "cell_type": "markdown",
   "metadata": {},
   "source": [
    "This is an attempt to reproduce [this ICML 2009 paper](http://people.ee.duke.edu/~lcarin/MatrixFactorization.pdf)."
   ]
  },
  {
   "cell_type": "code",
   "execution_count": 1,
   "metadata": {
    "collapsed": true
   },
   "outputs": [],
   "source": [
    "import tensorflow as tf\n",
    "DEVICE = \"/cpu:0\""
   ]
  },
  {
   "cell_type": "code",
   "execution_count": 2,
   "metadata": {
    "collapsed": true
   },
   "outputs": [],
   "source": [
    "from collections import Counter"
   ]
  },
  {
   "cell_type": "code",
   "execution_count": 3,
   "metadata": {
    "collapsed": true
   },
   "outputs": [],
   "source": [
    "N = 100  # items\n",
    "D = 2071  # users\n",
    "q = 10  # latent dimension"
   ]
  },
  {
   "cell_type": "code",
   "execution_count": 4,
   "metadata": {
    "collapsed": true
   },
   "outputs": [],
   "source": [
    "# Simulated data\n",
    "import numpy as np\n",
    "from sklearn.preprocessing import scale\n",
    "\n",
    "def get_simulated_data(true_alpha_x=5, true_alpha_w=2, true_sigma=1):\n",
    "    X = np.random.randint(50, size=(N, q))\n",
    "    #X = np.random.normal(0, 1/true_alpha_x, (N, q))\n",
    "    W = np.random.normal(0, 1/true_alpha_w, (D, q))\n",
    "    rating_rows = []\n",
    "    for i in range(N):\n",
    "        rating_rows.append(np.random.multivariate_normal(W.dot(X[i, :]), true_sigma ** 2 * np.eye(D)))\n",
    "    Y = np.array(rating_rows)\n",
    "    Y_scaled = scale(Y, axis=1, with_std=False)\n",
    "    return Y, Y_scaled"
   ]
  },
  {
   "cell_type": "code",
   "execution_count": 5,
   "metadata": {},
   "outputs": [],
   "source": [
    "rating_values = {'dislike': 1, 'wontsee': 2, 'neutral': 3, 'willsee': 4, 'like': 5, 'favorite': 6}"
   ]
  },
  {
   "cell_type": "code",
   "execution_count": 6,
   "metadata": {
    "collapsed": true
   },
   "outputs": [],
   "source": [
    "# Real data\n",
    "from mangaki.algo.dataset import Dataset\n",
    "#from mangaki.utils.values import rating_values\n",
    "\n",
    "dataset = Dataset()\n",
    "dataset.load_csv('ratings-ordered.csv', convert=lambda choice: rating_values[choice])"
   ]
  },
  {
   "cell_type": "code",
   "execution_count": 7,
   "metadata": {
    "collapsed": true
   },
   "outputs": [],
   "source": [
    "from scipy.sparse import coo_matrix\n",
    "\n",
    "rows = dataset.anonymized.X[:, 0]\n",
    "cols = dataset.anonymized.X[:, 1]\n",
    "data = dataset.anonymized.y\n",
    "mangaki = coo_matrix((data, (rows, cols)), shape=(dataset.anonymized.nb_users, dataset.anonymized.nb_works)).tocsr()"
   ]
  },
  {
   "cell_type": "code",
   "execution_count": 8,
   "metadata": {},
   "outputs": [],
   "source": [
    "from collections import defaultdict\n",
    "\n",
    "inverter = defaultdict(list)\n",
    "for user_id in range(D):\n",
    "    batch = mangaki[user_id, :]\n",
    "    c = Counter(batch.data)\n",
    "    inverter[tuple(c[rating_values[rating]] for rating in ['dislike', 'favorite', 'like', 'neutral', 'willsee', 'wontsee'])].append(user_id)"
   ]
  },
  {
   "cell_type": "code",
   "execution_count": 9,
   "metadata": {},
   "outputs": [
    {
     "data": {
      "text/plain": [
       "[162]"
      ]
     },
     "execution_count": 9,
     "metadata": {},
     "output_type": "execute_result"
    }
   ],
   "source": [
    "inverter[16, 23, 118, 9, 330, 68]"
   ]
  },
  {
   "cell_type": "code",
   "execution_count": 10,
   "metadata": {},
   "outputs": [
    {
     "data": {
      "text/plain": [
       "<2071x10086 sparse matrix of type '<class 'numpy.float64'>'\n",
       "\twith 333647 stored elements in Compressed Sparse Row format>"
      ]
     },
     "execution_count": 10,
     "metadata": {},
     "output_type": "execute_result"
    }
   ],
   "source": [
    "mangaki"
   ]
  },
  {
   "cell_type": "markdown",
   "metadata": {},
   "source": [
    "Now skip to ALS."
   ]
  },
  {
   "cell_type": "code",
   "execution_count": 132,
   "metadata": {},
   "outputs": [
    {
     "data": {
      "text/plain": [
       "<2071x100 sparse matrix of type '<class 'numpy.float64'>'\n",
       "\twith 78195 stored elements in Compressed Sparse Row format>"
      ]
     },
     "execution_count": 132,
     "metadata": {},
     "output_type": "execute_result"
    }
   ],
   "source": [
    "mangaki[:, :100]"
   ]
  },
  {
   "cell_type": "code",
   "execution_count": 133,
   "metadata": {
    "collapsed": true
   },
   "outputs": [],
   "source": [
    "Y = mangaki[:, :100].tocoo().T.tocsr()\n",
    "for movie_id in range(N):\n",
    "    row = Y[movie_id, :]\n",
    "    for user_id, replace in zip(row.indices, scale(row.data)):\n",
    "        Y[movie_id, user_id] = replace"
   ]
  },
  {
   "cell_type": "code",
   "execution_count": 134,
   "metadata": {
    "collapsed": true
   },
   "outputs": [],
   "source": [
    "dataset = coo_matrix(Y)\n",
    "#dataset = coo_matrix(Y_scaled)"
   ]
  },
  {
   "cell_type": "code",
   "execution_count": 135,
   "metadata": {},
   "outputs": [
    {
     "data": {
      "text/plain": [
       "<100x2071 sparse matrix of type '<class 'numpy.float64'>'\n",
       "\twith 78195 stored elements in Compressed Sparse Row format>"
      ]
     },
     "execution_count": 135,
     "metadata": {},
     "output_type": "execute_result"
    }
   ],
   "source": [
    "Y"
   ]
  },
  {
   "cell_type": "code",
   "execution_count": 136,
   "metadata": {},
   "outputs": [
    {
     "name": "stdout",
     "output_type": "stream",
     "text": [
      "nb users skipped 465 over 2071\n"
     ]
    }
   ],
   "source": [
    "# Prepare batches\n",
    "from sklearn.model_selection import ShuffleSplit\n",
    "\n",
    "# Simple split\n",
    "splitter = ShuffleSplit(n_splits=1, test_size=0.2)\n",
    "for i_train, i_test in splitter.split(dataset.data):\n",
    "    train = coo_matrix((dataset.data[i_train], (dataset.row[i_train], dataset.col[i_train])), shape=(N, D)).tocsc()\n",
    "    test = coo_matrix((dataset.data[i_test], (dataset.row[i_test], dataset.col[i_test])), shape=(N, D)).tocsc()\n",
    "\n",
    "# Split by user\n",
    "train_data = []\n",
    "train_row = []\n",
    "train_col = []\n",
    "test_data = []\n",
    "test_row = []\n",
    "test_col = []\n",
    "full = dataset.tocsc()\n",
    "nb_skip = 0\n",
    "train_users = set(range(D))\n",
    "for user_id in range(D):\n",
    "    this_user = full[:, user_id]\n",
    "    N_j = this_user.getnnz()\n",
    "    if N_j <= q:\n",
    "        train_users.remove(user_id)\n",
    "        nb_skip += 1\n",
    "        continue\n",
    "    for i_train, i_test in splitter.split(this_user.indices):\n",
    "        train_col.extend([user_id] * len(i_train))\n",
    "        train_row.extend(this_user.indices[i_train])\n",
    "        train_data.extend(this_user.data[i_train])\n",
    "        test_col.extend([user_id] * len(i_test))\n",
    "        test_row.extend(this_user.indices[i_test])\n",
    "        test_data.extend(this_user.data[i_test])\n",
    "print('nb users skipped', nb_skip, 'over', D)"
   ]
  },
  {
   "cell_type": "code",
   "execution_count": 137,
   "metadata": {
    "collapsed": true
   },
   "outputs": [],
   "source": [
    "assert len(train_data) == len(train_row)\n",
    "assert len(test_data) == len(test_row)"
   ]
  },
  {
   "cell_type": "code",
   "execution_count": 138,
   "metadata": {
    "collapsed": true
   },
   "outputs": [],
   "source": [
    "train = coo_matrix((train_data, (train_row, train_col)), shape=(N, D)).tocsc()\n",
    "test = coo_matrix((test_data, (test_row, test_col)), shape=(N, D)).tocsc()"
   ]
  },
  {
   "cell_type": "code",
   "execution_count": 139,
   "metadata": {},
   "outputs": [
    {
     "data": {
      "text/plain": [
       "<100x2071 sparse matrix of type '<class 'numpy.float64'>'\n",
       "\twith 60093 stored elements in Compressed Sparse Column format>"
      ]
     },
     "execution_count": 139,
     "metadata": {},
     "output_type": "execute_result"
    }
   ],
   "source": [
    "train"
   ]
  },
  {
   "cell_type": "code",
   "execution_count": 140,
   "metadata": {},
   "outputs": [
    {
     "data": {
      "text/plain": [
       "<100x2071 sparse matrix of type '<class 'numpy.float64'>'\n",
       "\twith 15842 stored elements in Compressed Sparse Column format>"
      ]
     },
     "execution_count": 140,
     "metadata": {},
     "output_type": "execute_result"
    }
   ],
   "source": [
    "test"
   ]
  },
  {
   "cell_type": "code",
   "execution_count": 141,
   "metadata": {
    "collapsed": true
   },
   "outputs": [],
   "source": [
    "item_batch = tf.placeholder(tf.int32, shape=[None], name=\"id_item\")\n",
    "rate_batch = tf.placeholder(tf.float32, shape=[None, None], name=\"rate\")\n",
    "pred_batch = tf.placeholder(tf.int32, shape=[None], name=\"id_pred\")"
   ]
  },
  {
   "cell_type": "code",
   "execution_count": 142,
   "metadata": {
    "collapsed": true
   },
   "outputs": [],
   "source": [
    "def log_det(cov):\n",
    "    return 2 * tf.reduce_sum(tf.log(tf.diag_part(tf.cholesky(cov))))"
   ]
  },
  {
   "cell_type": "code",
   "execution_count": 146,
   "metadata": {
    "collapsed": true
   },
   "outputs": [],
   "source": [
    "def kernel(X, Y):\n",
    "    return tf.matmul(X, tf.transpose(Y))\n",
    "\n",
    "class MFGP:\n",
    "    def __init__(self):\n",
    "        with tf.device(DEVICE):\n",
    "            with tf.variable_scope(\"conv1\"):\n",
    "                self.sigma = tf.Variable(1e-1, name=\"sigma\")  # tf.random_normal([1])\n",
    "                self.alpha_w = tf.Variable(tf.random_normal([1]), name=\"alpha_w\")\n",
    "                self.X_item = tf.Variable(tf.random_normal([N, q], stddev=5), name=\"embd_item\")\n",
    "\n",
    "    def predict(self, item_batch, rate_batch, pred_batch):\n",
    "        with tf.device(DEVICE):\n",
    "            X_batch = tf.nn.embedding_lookup(self.X_item, item_batch)\n",
    "            X_pred = tf.nn.embedding_lookup(self.X_item, pred_batch)\n",
    "            N_j = tf.shape(item_batch)[0]\n",
    "            cov = kernel(X_batch, X_batch) + self.sigma ** 2 * tf.eye(N_j)\n",
    "            s = tf.matmul(tf.matrix_inverse(cov), kernel(X_batch, X_pred))\n",
    "            prediction = tf.matmul(tf.transpose(s), rate_batch)\n",
    "        return tf.reshape(prediction, [-1])\n",
    "\n",
    "    def get_loss(self, item_batch, rate_batch):\n",
    "        with tf.device(DEVICE):\n",
    "            X_batch = tf.nn.embedding_lookup(self.X_item, item_batch)\n",
    "            XT_batch = tf.transpose(X_batch)\n",
    "            N_j = tf.shape(item_batch)[0]\n",
    "            defpos = kernel(X_batch, X_batch)\n",
    "            cov = 1/tf.abs(self.alpha_w) * defpos + self.sigma ** 2 * tf.eye(N_j)\n",
    "            # inv_cov = tf.matrix_inverse(cov)  # O(N_j^3)\n",
    "            cheap_inv = tf.matrix_inverse(tf.abs(self.alpha_w) * self.sigma ** (-2) * tf.eye(q)\n",
    "                                          + tf.matmul(XT_batch, X_batch))\n",
    "            inv_cov = self.sigma ** (-2) - self.sigma ** (-4) * tf.matmul(X_batch, tf.matmul(cheap_inv, XT_batch))  # O(q^3)\n",
    "            loss = (tf.cast(N_j, tf.float32) * log_det(cov)\n",
    "                    + tf.reshape(tf.matmul(tf.transpose(rate_batch), tf.matmul(inv_cov, rate_batch)), []))\n",
    "        return loss, (cov, defpos, X_batch)\n",
    "\n",
    "    def optimization(self, item_batch, rate_batch, learning_rate):\n",
    "        global_step = tf.train.get_global_step()\n",
    "        assert global_step is not None\n",
    "        with tf.device(DEVICE):\n",
    "            loss, (cov, defpos, X_batch) = self.get_loss(item_batch, rate_batch)\n",
    "            train_op = tf.train.MomentumOptimizer(learning_rate, 0.9, use_nesterov=True).minimize(loss, global_step=global_step, var_list=[self.X_item])\n",
    "        return loss, train_op, (cov, defpos, X_batch)"
   ]
  },
  {
   "cell_type": "code",
   "execution_count": 147,
   "metadata": {
    "collapsed": true
   },
   "outputs": [],
   "source": [
    "def to_matrix(l):\n",
    "    return np.array(l).reshape(len(l), 1)"
   ]
  },
  {
   "cell_type": "code",
   "execution_count": 148,
   "metadata": {},
   "outputs": [
    {
     "name": "stdout",
     "output_type": "stream",
     "text": [
      "user_id | epoch | train_error | val_error | elapsed_time\n",
      "epoch=  0 train_rmse=7.099235 (1.000710) test_rmse=6.157351 (1.003259) total_nll=-287224265.353516 sigma=0.100000 alpha_w=1.753959\n",
      "epoch=  1 train_rmse=2.079178 (1.000710) test_rmse=2.118881 (1.003259) total_nll=-298726846.699219 sigma=0.100000 alpha_w=1.753959\n",
      "epoch=  2 train_rmse=11.680286 (1.000710) test_rmse=9.852969 (1.003259) total_nll=-302750440.118164 sigma=0.100000 alpha_w=1.753959\n",
      "epoch=  3 train_rmse=19.395447 (1.000710) test_rmse=15.919051 (1.003259) total_nll=-304895133.985352 sigma=0.100000 alpha_w=1.753959\n",
      "epoch=  4 train_rmse=27.530071 (1.000710) test_rmse=28.348537 (1.003259) total_nll=-306099596.312500 sigma=0.100000 alpha_w=1.753959\n",
      "epoch=  5 train_rmse=9.603479 (1.000710) test_rmse=9.229228 (1.003259) total_nll=-307085520.960938 sigma=0.100000 alpha_w=1.753959\n"
     ]
    },
    {
     "ename": "KeyboardInterrupt",
     "evalue": "",
     "output_type": "error",
     "traceback": [
      "\u001b[0;31m---------------------------------------------------------------------------\u001b[0m",
      "\u001b[0;31mKeyboardInterrupt\u001b[0m                         Traceback (most recent call last)",
      "\u001b[0;32m<ipython-input-148-8270c7bbc49b>\u001b[0m in \u001b[0;36m<module>\u001b[0;34m()\u001b[0m\n\u001b[1;32m     46\u001b[0m             \u001b[0;32mfor\u001b[0m \u001b[0muser_id\u001b[0m \u001b[0;32min\u001b[0m \u001b[0mtrain_users\u001b[0m\u001b[0;34m:\u001b[0m\u001b[0;34m\u001b[0m\u001b[0m\n\u001b[1;32m     47\u001b[0m                 \u001b[0mtrain_batch\u001b[0m \u001b[0;34m=\u001b[0m \u001b[0mtrain\u001b[0m\u001b[0;34m[\u001b[0m\u001b[0;34m:\u001b[0m\u001b[0;34m,\u001b[0m \u001b[0muser_id\u001b[0m\u001b[0;34m]\u001b[0m\u001b[0;34m\u001b[0m\u001b[0m\n\u001b[0;32m---> 48\u001b[0;31m                 \u001b[0mtest_batch\u001b[0m \u001b[0;34m=\u001b[0m \u001b[0mtest\u001b[0m\u001b[0;34m[\u001b[0m\u001b[0;34m:\u001b[0m\u001b[0;34m,\u001b[0m \u001b[0muser_id\u001b[0m\u001b[0;34m]\u001b[0m\u001b[0;34m\u001b[0m\u001b[0m\n\u001b[0m\u001b[1;32m     49\u001b[0m                 \u001b[0mitems_rated\u001b[0m\u001b[0;34m,\u001b[0m \u001b[0mratings\u001b[0m \u001b[0;34m=\u001b[0m \u001b[0mtrain_batch\u001b[0m\u001b[0;34m.\u001b[0m\u001b[0mindices\u001b[0m\u001b[0;34m,\u001b[0m \u001b[0mto_matrix\u001b[0m\u001b[0;34m(\u001b[0m\u001b[0mtrain_batch\u001b[0m\u001b[0;34m.\u001b[0m\u001b[0mdata\u001b[0m\u001b[0;34m)\u001b[0m\u001b[0;34m\u001b[0m\u001b[0m\n\u001b[1;32m     50\u001b[0m                 \u001b[0mitems_to_pred\u001b[0m\u001b[0;34m,\u001b[0m \u001b[0mtruth\u001b[0m \u001b[0;34m=\u001b[0m \u001b[0mtest_batch\u001b[0m\u001b[0;34m.\u001b[0m\u001b[0mindices\u001b[0m\u001b[0;34m,\u001b[0m \u001b[0mtest_batch\u001b[0m\u001b[0;34m.\u001b[0m\u001b[0mdata\u001b[0m\u001b[0;34m\u001b[0m\u001b[0m\n",
      "\u001b[0;32m/Users/jilljenn/code/mangaki/venv/lib/python3.6/site-packages/scipy/sparse/csc.py\u001b[0m in \u001b[0;36m__getitem__\u001b[0;34m(self, key)\u001b[0m\n\u001b[1;32m    167\u001b[0m         if (isinstance(row, slice) or isinstance(col, slice) or\n\u001b[1;32m    168\u001b[0m                 isintlike(row) or isintlike(col)):\n\u001b[0;32m--> 169\u001b[0;31m             \u001b[0;32mreturn\u001b[0m \u001b[0mself\u001b[0m\u001b[0;34m.\u001b[0m\u001b[0mT\u001b[0m\u001b[0;34m[\u001b[0m\u001b[0mcol\u001b[0m\u001b[0;34m,\u001b[0m \u001b[0mrow\u001b[0m\u001b[0;34m]\u001b[0m\u001b[0;34m.\u001b[0m\u001b[0mT\u001b[0m\u001b[0;34m\u001b[0m\u001b[0m\n\u001b[0m\u001b[1;32m    170\u001b[0m         \u001b[0;31m# Things that return a sequence of values.\u001b[0m\u001b[0;34m\u001b[0m\u001b[0;34m\u001b[0m\u001b[0m\n\u001b[1;32m    171\u001b[0m         \u001b[0;32melse\u001b[0m\u001b[0;34m:\u001b[0m\u001b[0;34m\u001b[0m\u001b[0m\n",
      "\u001b[0;32m/Users/jilljenn/code/mangaki/venv/lib/python3.6/site-packages/scipy/sparse/base.py\u001b[0m in \u001b[0;36m__getattr__\u001b[0;34m(self, attr)\u001b[0m\n\u001b[1;32m    564\u001b[0m             \u001b[0;32mreturn\u001b[0m \u001b[0mself\u001b[0m\u001b[0;34m.\u001b[0m\u001b[0mtoarray\u001b[0m\u001b[0;34m(\u001b[0m\u001b[0;34m)\u001b[0m\u001b[0;34m\u001b[0m\u001b[0m\n\u001b[1;32m    565\u001b[0m         \u001b[0;32melif\u001b[0m \u001b[0mattr\u001b[0m \u001b[0;34m==\u001b[0m \u001b[0;34m'T'\u001b[0m\u001b[0;34m:\u001b[0m\u001b[0;34m\u001b[0m\u001b[0m\n\u001b[0;32m--> 566\u001b[0;31m             \u001b[0;32mreturn\u001b[0m \u001b[0mself\u001b[0m\u001b[0;34m.\u001b[0m\u001b[0mtranspose\u001b[0m\u001b[0;34m(\u001b[0m\u001b[0;34m)\u001b[0m\u001b[0;34m\u001b[0m\u001b[0m\n\u001b[0m\u001b[1;32m    567\u001b[0m         \u001b[0;32melif\u001b[0m \u001b[0mattr\u001b[0m \u001b[0;34m==\u001b[0m \u001b[0;34m'H'\u001b[0m\u001b[0;34m:\u001b[0m\u001b[0;34m\u001b[0m\u001b[0m\n\u001b[1;32m    568\u001b[0m             \u001b[0;32mreturn\u001b[0m \u001b[0mself\u001b[0m\u001b[0;34m.\u001b[0m\u001b[0mgetH\u001b[0m\u001b[0;34m(\u001b[0m\u001b[0;34m)\u001b[0m\u001b[0;34m\u001b[0m\u001b[0m\n",
      "\u001b[0;32m/Users/jilljenn/code/mangaki/venv/lib/python3.6/site-packages/scipy/sparse/csc.py\u001b[0m in \u001b[0;36mtranspose\u001b[0;34m(self, axes, copy)\u001b[0m\n\u001b[1;32m    120\u001b[0m         \u001b[0;32mfrom\u001b[0m \u001b[0;34m.\u001b[0m\u001b[0mcsr\u001b[0m \u001b[0;32mimport\u001b[0m \u001b[0mcsr_matrix\u001b[0m\u001b[0;34m\u001b[0m\u001b[0m\n\u001b[1;32m    121\u001b[0m         return csr_matrix((self.data, self.indices,\n\u001b[0;32m--> 122\u001b[0;31m                            self.indptr), (N, M), copy=copy)\n\u001b[0m\u001b[1;32m    123\u001b[0m \u001b[0;34m\u001b[0m\u001b[0m\n\u001b[1;32m    124\u001b[0m     \u001b[0mtranspose\u001b[0m\u001b[0;34m.\u001b[0m\u001b[0m__doc__\u001b[0m \u001b[0;34m=\u001b[0m \u001b[0mspmatrix\u001b[0m\u001b[0;34m.\u001b[0m\u001b[0mtranspose\u001b[0m\u001b[0;34m.\u001b[0m\u001b[0m__doc__\u001b[0m\u001b[0;34m\u001b[0m\u001b[0m\n",
      "\u001b[0;32m/Users/jilljenn/code/mangaki/venv/lib/python3.6/site-packages/scipy/sparse/compressed.py\u001b[0m in \u001b[0;36m__init__\u001b[0;34m(self, arg1, shape, dtype, copy)\u001b[0m\n\u001b[1;32m     81\u001b[0m         \u001b[0;31m# Read matrix dimensions given, if any\u001b[0m\u001b[0;34m\u001b[0m\u001b[0;34m\u001b[0m\u001b[0m\n\u001b[1;32m     82\u001b[0m         \u001b[0;32mif\u001b[0m \u001b[0mshape\u001b[0m \u001b[0;32mis\u001b[0m \u001b[0;32mnot\u001b[0m \u001b[0;32mNone\u001b[0m\u001b[0;34m:\u001b[0m\u001b[0;34m\u001b[0m\u001b[0m\n\u001b[0;32m---> 83\u001b[0;31m             \u001b[0mself\u001b[0m\u001b[0;34m.\u001b[0m\u001b[0mshape\u001b[0m \u001b[0;34m=\u001b[0m \u001b[0mshape\u001b[0m   \u001b[0;31m# spmatrix will check for errors\u001b[0m\u001b[0;34m\u001b[0m\u001b[0m\n\u001b[0m\u001b[1;32m     84\u001b[0m         \u001b[0;32melse\u001b[0m\u001b[0;34m:\u001b[0m\u001b[0;34m\u001b[0m\u001b[0m\n\u001b[1;32m     85\u001b[0m             \u001b[0;32mif\u001b[0m \u001b[0mself\u001b[0m\u001b[0;34m.\u001b[0m\u001b[0mshape\u001b[0m \u001b[0;32mis\u001b[0m \u001b[0;32mNone\u001b[0m\u001b[0;34m:\u001b[0m\u001b[0;34m\u001b[0m\u001b[0m\n",
      "\u001b[0;32m/Users/jilljenn/code/mangaki/venv/lib/python3.6/site-packages/scipy/sparse/base.py\u001b[0m in \u001b[0;36mset_shape\u001b[0;34m(self, shape)\u001b[0m\n\u001b[1;32m     90\u001b[0m             \u001b[0;32mraise\u001b[0m \u001b[0mValueError\u001b[0m\u001b[0;34m(\u001b[0m\u001b[0;34m'invalid shape'\u001b[0m\u001b[0;34m)\u001b[0m\u001b[0;34m\u001b[0m\u001b[0m\n\u001b[1;32m     91\u001b[0m \u001b[0;34m\u001b[0m\u001b[0m\n\u001b[0;32m---> 92\u001b[0;31m         \u001b[0;32mif\u001b[0m \u001b[0;34m(\u001b[0m\u001b[0mself\u001b[0m\u001b[0;34m.\u001b[0m\u001b[0m_shape\u001b[0m \u001b[0;34m!=\u001b[0m \u001b[0mshape\u001b[0m\u001b[0;34m)\u001b[0m \u001b[0;32mand\u001b[0m \u001b[0;34m(\u001b[0m\u001b[0mself\u001b[0m\u001b[0;34m.\u001b[0m\u001b[0m_shape\u001b[0m \u001b[0;32mis\u001b[0m \u001b[0;32mnot\u001b[0m \u001b[0;32mNone\u001b[0m\u001b[0;34m)\u001b[0m\u001b[0;34m:\u001b[0m\u001b[0;34m\u001b[0m\u001b[0m\n\u001b[0m\u001b[1;32m     93\u001b[0m             \u001b[0;32mtry\u001b[0m\u001b[0;34m:\u001b[0m\u001b[0;34m\u001b[0m\u001b[0m\n\u001b[1;32m     94\u001b[0m                 \u001b[0mself\u001b[0m \u001b[0;34m=\u001b[0m \u001b[0mself\u001b[0m\u001b[0;34m.\u001b[0m\u001b[0mreshape\u001b[0m\u001b[0;34m(\u001b[0m\u001b[0mshape\u001b[0m\u001b[0;34m)\u001b[0m\u001b[0;34m\u001b[0m\u001b[0m\n",
      "\u001b[0;31mKeyboardInterrupt\u001b[0m: "
     ]
    }
   ],
   "source": [
    "from sklearn.metrics import mean_squared_error\n",
    "from collections import deque\n",
    "import time\n",
    "import random\n",
    "import sys\n",
    "\n",
    "mfgp = MFGP()\n",
    "prediction = mfgp.predict(item_batch, rate_batch, pred_batch)\n",
    "\n",
    "global_step = tf.contrib.framework.get_or_create_global_step()\n",
    "loss, train_op, (cov, defpos, X_batch) = mfgp.optimization(item_batch, rate_batch, learning_rate=0.0001)\n",
    "\n",
    "init_op = tf.global_variables_initializer()\n",
    "with tf.Session() as sess:\n",
    "    sess.run(init_op)\n",
    "    print(\" | \".join([\"user_id\", \"epoch\", \"train_error\", \"val_error\", \"elapsed_time\"]))\n",
    "    errors = []\n",
    "    for epoch in range(50):\n",
    "        cross = list(train_users)\n",
    "        random.shuffle(cross)\n",
    "        train_preds = []\n",
    "        train_ratings = []\n",
    "        for user_id in cross:\n",
    "            train_batch = train[:, user_id]\n",
    "            if train_batch.getnnz() == 0:\n",
    "                continue\n",
    "            items_rated, ratings = train_batch.indices, to_matrix(train_batch.data)\n",
    "            try:\n",
    "                sess.run(train_op, feed_dict={item_batch: items_rated,\n",
    "                                              rate_batch: ratings,\n",
    "                                              pred_batch: items_rated})\n",
    "            except Exception as e:\n",
    "                print('Error for %d (%s): %s' % (user_id, str(items_rated), sys.exc_info()[0]))\n",
    "                print('Sigma', mfgp.sigma.eval(), 'alpha_w', mfgp.alpha_w.eval())\n",
    "                print(sess.run([tf.shape(X_batch), X_batch], feed_dict={item_batch: items_rated, rate_batch: ratings, pred_batch: items_rated}))\n",
    "                print(sess.run(tf.matrix_determinant(defpos), feed_dict={item_batch: items_rated, rate_batch: ratings, pred_batch: items_rated}))\n",
    "                print(sess.run(tf.matrix_determinant(cov), feed_dict={item_batch: items_rated, rate_batch: ratings, pred_batch: items_rated}))\n",
    "                print(e.message)\n",
    "                print(sys.exc_info()[0].__doc__)\n",
    "\n",
    "        # End of train epoch, start test\n",
    "        if epoch % 1 == 0:\n",
    "            total_nll = []\n",
    "            test_truth = []\n",
    "            test_preds = []\n",
    "            for user_id in train_users:\n",
    "                train_batch = train[:, user_id]\n",
    "                test_batch = test[:, user_id]\n",
    "                items_rated, ratings = train_batch.indices, to_matrix(train_batch.data)\n",
    "                items_to_pred, truth = test_batch.indices, test_batch.data\n",
    "                try:\n",
    "                    this_user_nll, train_pred = sess.run([loss, prediction], feed_dict={item_batch: items_rated,\n",
    "                                                                                        rate_batch: ratings,\n",
    "                                                                                        pred_batch: items_rated})\n",
    "                except:\n",
    "                    print('Error for train %d (%s): %s' % (user_id, str(items_rated), sys.exc_info()[0]))\n",
    "                try:\n",
    "                    test_pred = sess.run(prediction, feed_dict={item_batch: items_rated,\n",
    "                                                                rate_batch: ratings,\n",
    "                                                                pred_batch: items_to_pred})\n",
    "                except:\n",
    "                    print('Error for test %d (%s): %s' % (user_id, str(items_to_pred), sys.exc_info()[0]))\n",
    "                total_nll.append(this_user_nll)\n",
    "                train_ratings.extend(ratings)\n",
    "                train_preds.extend(train_pred)\n",
    "                test_truth.extend(truth)\n",
    "                test_preds.extend(test_pred)\n",
    "            train_rmse = np.sqrt(mean_squared_error(train_ratings, train_preds))            \n",
    "            train_stupid = np.sqrt(mean_squared_error(train_ratings, [0] * len(train_ratings)))            \n",
    "            test_rmse = np.sqrt(mean_squared_error(test_truth, test_preds))\n",
    "            test_stupid = np.sqrt(mean_squared_error(test_truth, [0] * len(test_truth)))\n",
    "            print(\"epoch={:3d} train_rmse={:f} ({:f}) test_rmse={:f} ({:f}) total_nll={:f} sigma={:f} alpha_w={:f}\"\n",
    "                  .format(epoch, train_rmse, train_stupid, test_rmse, test_stupid,\n",
    "                          sum(total_nll), abs(float(mfgp.sigma.eval())), abs(float(mfgp.alpha_w.eval()))))\n",
    "    print('learned sigma')\n",
    "    print(mfgp.sigma.eval())\n",
    "    print('learned alpha_w')\n",
    "    print(mfgp.alpha_w.eval())\n",
    "    print('learned x')\n",
    "    print(mfgp.x_item.eval())"
   ]
  },
  {
   "cell_type": "markdown",
   "metadata": {},
   "source": [
    "(The error is because it was interrupted.)\n",
    "\n",
    "As you can see, the learning stops when the stupid RMSE (every prediction is 0) is obtained."
   ]
  },
  {
   "cell_type": "markdown",
   "metadata": {},
   "source": [
    "# Meanwhile, Alternating Least Squares…"
   ]
  },
  {
   "cell_type": "code",
   "execution_count": 11,
   "metadata": {},
   "outputs": [
    {
     "data": {
      "text/plain": [
       "<2071x10086 sparse matrix of type '<class 'numpy.float64'>'\n",
       "\twith 333647 stored elements in Compressed Sparse Row format>"
      ]
     },
     "execution_count": 11,
     "metadata": {},
     "output_type": "execute_result"
    }
   ],
   "source": [
    "mangaki"
   ]
  },
  {
   "cell_type": "code",
   "execution_count": 12,
   "metadata": {},
   "outputs": [
    {
     "data": {
      "text/plain": [
       "array([ 5.,  5.,  5.,  5.,  5.,  5.,  5.,  3.,  5.,  3.])"
      ]
     },
     "execution_count": 12,
     "metadata": {},
     "output_type": "execute_result"
    }
   ],
   "source": [
    "mangaki.data[:10]"
   ]
  },
  {
   "cell_type": "code",
   "execution_count": 13,
   "metadata": {
    "collapsed": true
   },
   "outputs": [],
   "source": [
    "from sklearn.model_selection import ShuffleSplit\n",
    "\n",
    "splitter = ShuffleSplit(n_splits=1, test_size=0.2)\n",
    "X_train = []\n",
    "y_train = []\n",
    "X_test = []\n",
    "y_test = []\n",
    "for i_train, i_test in splitter.split(range(D)):\n",
    "    i_train = set(i_train)\n",
    "    i_test = set(i_test)\n",
    "    for (user_id, work_id), rating in zip(dataset.anonymized.X, dataset.anonymized.y):\n",
    "        if user_id in i_train:\n",
    "            X_train.append((user_id, work_id))\n",
    "            y_train.append(rating)\n",
    "        else:\n",
    "            X_test.append((user_id, work_id))\n",
    "            y_test.append(rating)\n",
    "X_train = np.array(X_train)\n",
    "y_train = np.array(y_train)\n",
    "X_test = np.array(X_test)\n",
    "y_test = np.array(y_test)"
   ]
  },
  {
   "cell_type": "code",
   "execution_count": 14,
   "metadata": {},
   "outputs": [
    {
     "data": {
      "text/plain": [
       "(269096, 64551)"
      ]
     },
     "execution_count": 14,
     "metadata": {},
     "output_type": "execute_result"
    }
   ],
   "source": [
    "len(X_train), len(X_test)"
   ]
  },
  {
   "cell_type": "code",
   "execution_count": 15,
   "metadata": {},
   "outputs": [
    {
     "name": "stdout",
     "output_type": "stream",
     "text": [
      "Computing M: (2071 × 10086)\n",
      "Chrono: fill and center matrix [0q, 851ms]\n",
      "Shapes (2071, 20) (20, 10086)\n",
      "Chrono: factor matrix [0q, 6203ms]\n",
      "Train RMSE= 0.908685007485\n",
      "Test RMSE= 3.88622254089\n"
     ]
    }
   ],
   "source": [
    "from mangaki.algo.als import MangakiALS\n",
    "\n",
    "def compute_all_errors(X_train, y_train, X_test, y_test):\n",
    "    y_train_pred = als.predict(X_train)\n",
    "    print('Train RMSE=', als.compute_rmse(y_train, y_train_pred))\n",
    "    y_test_pred = als.predict(X_test)\n",
    "    print('Test RMSE=', als.compute_rmse(y_test, y_test_pred))\n",
    "\n",
    "als = MangakiALS()\n",
    "als.set_parameters(dataset.anonymized.nb_users, dataset.anonymized.nb_works)\n",
    "als.fit(X_train, y_train)\n",
    "compute_all_errors(X_train, y_train, X_test, y_test)"
   ]
  },
  {
   "cell_type": "code",
   "execution_count": 16,
   "metadata": {},
   "outputs": [
    {
     "data": {
      "text/plain": [
       "0.90864098884273259"
      ]
     },
     "execution_count": 16,
     "metadata": {},
     "output_type": "execute_result"
    }
   ],
   "source": [
    "y_pred = als.predict(X_train)\n",
    "(y_train - y_pred).std()"
   ]
  },
  {
   "cell_type": "markdown",
   "metadata": {},
   "source": [
    "And the learned rows of $U$ seem Gaussian!"
   ]
  },
  {
   "cell_type": "code",
   "execution_count": 17,
   "metadata": {},
   "outputs": [
    {
     "data": {
      "text/plain": [
       "(array([   5.,   29.,  128.,  300.,  459.,  622.,  263.,  144.,  114.,    7.]),\n",
       " array([-1.35755361, -1.09632291, -0.83509222, -0.57386153, -0.31263083,\n",
       "        -0.05140014,  0.20983055,  0.47106125,  0.73229194,  0.99352263,\n",
       "         1.25475333]),\n",
       " <a list of 10 Patch objects>)"
      ]
     },
     "execution_count": 17,
     "metadata": {},
     "output_type": "execute_result"
    },
    {
     "data": {
      "image/png": "[encoded data removed]",
      "text/plain": [
       "<matplotlib.figure.Figure at 0x119d2c9e8>"
      ]
     },
     "metadata": {},
     "output_type": "display_data"
    }
   ],
   "source": [
    "%matplotlib inline\n",
    "import matplotlib.pyplot as plt\n",
    "plt.hist(als.U[:, 0])\n",
    "plt.hist(als.U[:, 1])\n",
    "plt.hist(als.U[:, 15])"
   ]
  },
  {
   "cell_type": "code",
   "execution_count": 18,
   "metadata": {},
   "outputs": [
    {
     "data": {
      "text/plain": [
       "(array([  3.00000000e+00,   2.40000000e+01,   8.20000000e+01,\n",
       "          4.11000000e+02,   1.26200000e+03,   3.28300000e+03,\n",
       "          3.26900000e+03,   1.25500000e+03,   3.84000000e+02,\n",
       "          1.13000000e+02]),\n",
       " array([-1.77896011, -1.48677032, -1.19458054, -0.90239076, -0.61020098,\n",
       "        -0.31801119, -0.02582141,  0.26636837,  0.55855816,  0.85074794,\n",
       "         1.14293772]),\n",
       " <a list of 10 Patch objects>)"
      ]
     },
     "execution_count": 18,
     "metadata": {},
     "output_type": "execute_result"
    },
    {
     "data": {
      "image/png": "[encoded data removed]",
      "text/plain": [
       "<matplotlib.figure.Figure at 0x119cc58d0>"
      ]
     },
     "metadata": {},
     "output_type": "display_data"
    }
   ],
   "source": [
    "%matplotlib inline\n",
    "import matplotlib.pyplot as plt\n",
    "plt.hist(als.VT.T[:, 17])\n",
    "plt.hist(als.VT.T[:, 5])"
   ]
  },
  {
   "cell_type": "markdown",
   "metadata": {},
   "source": [
    "Maybe it does not hold for $V$."
   ]
  },
  {
   "cell_type": "code",
   "execution_count": 19,
   "metadata": {},
   "outputs": [
    {
     "data": {
      "text/plain": [
       "<matplotlib.image.AxesImage at 0x11c372668>"
      ]
     },
     "execution_count": 19,
     "metadata": {},
     "output_type": "execute_result"
    },
    {
     "data": {
      "image/png": "[encoded data removed]",
      "text/plain": [
       "<matplotlib.figure.Figure at 0x11add3ba8>"
      ]
     },
     "metadata": {},
     "output_type": "display_data"
    }
   ],
   "source": [
    "%matplotlib inline\n",
    "\n",
    "cov = np.cov(als.U.T)\n",
    "plt.imshow(cov)"
   ]
  },
  {
   "cell_type": "code",
   "execution_count": 450,
   "metadata": {},
   "outputs": [
    {
     "data": {
      "text/plain": [
       "array([ 0.11707712,  0.14089718,  0.1350106 ,  0.17112492,  0.12726649,\n",
       "        0.13786349,  0.12069726,  0.13820964,  0.13952311,  0.12396863,\n",
       "        0.13126928,  0.14719841,  0.1306917 ,  0.14697602,  0.11287327,\n",
       "        0.12292174,  0.12599884,  0.14341246,  0.11476866,  0.14017763])"
      ]
     },
     "execution_count": 450,
     "metadata": {},
     "output_type": "execute_result"
    }
   ],
   "source": [
    "np.diag(cov)"
   ]
  },
  {
   "cell_type": "code",
   "execution_count": 451,
   "metadata": {},
   "outputs": [
    {
     "data": {
      "text/plain": [
       "(2071, 20)"
      ]
     },
     "execution_count": 451,
     "metadata": {},
     "output_type": "execute_result"
    }
   ],
   "source": [
    "als.U.shape"
   ]
  },
  {
   "cell_type": "code",
   "execution_count": 452,
   "metadata": {},
   "outputs": [
    {
     "data": {
      "text/plain": [
       "<matplotlib.image.AxesImage at 0x1244cbf28>"
      ]
     },
     "execution_count": 452,
     "metadata": {},
     "output_type": "execute_result"
    },
    {
     "data": {
      "image/png": "[encoded data removed]",
      "text/plain": [
       "<matplotlib.figure.Figure at 0x125719b70>"
      ]
     },
     "metadata": {},
     "output_type": "display_data"
    }
   ],
   "source": [
    "%matplotlib inline\n",
    "\n",
    "cov = np.cov(als.VT)\n",
    "plt.imshow(cov)"
   ]
  },
  {
   "cell_type": "code",
   "execution_count": 453,
   "metadata": {},
   "outputs": [
    {
     "data": {
      "text/plain": [
       "array([ 0.08330251,  0.10214039,  0.08350031,  0.15950547,  0.09780134,\n",
       "        0.08589314,  0.09690305,  0.09711807,  0.10683352,  0.10075043,\n",
       "        0.0875443 ,  0.08529713,  0.11013919,  0.11939271,  0.08625146,\n",
       "        0.08941918,  0.09596199,  0.08483713,  0.08513451,  0.08763338])"
      ]
     },
     "execution_count": 453,
     "metadata": {},
     "output_type": "execute_result"
    }
   ],
   "source": [
    "np.diag(cov)"
   ]
  },
  {
   "cell_type": "markdown",
   "metadata": {},
   "source": [
    "Learned components are independent."
   ]
  },
  {
   "cell_type": "code",
   "execution_count": 454,
   "metadata": {},
   "outputs": [
    {
     "data": {
      "text/plain": [
       "3.2349312572334692"
      ]
     },
     "execution_count": 454,
     "metadata": {},
     "output_type": "execute_result"
    }
   ],
   "source": [
    "als.means.mean()  # Global bias"
   ]
  },
  {
   "cell_type": "code",
   "execution_count": 455,
   "metadata": {},
   "outputs": [
    {
     "data": {
      "text/plain": [
       "False"
      ]
     },
     "execution_count": 455,
     "metadata": {},
     "output_type": "execute_result"
    }
   ],
   "source": [
    "162 in i_test"
   ]
  },
  {
   "cell_type": "code",
   "execution_count": 33,
   "metadata": {},
   "outputs": [
    {
     "data": {
      "text/plain": [
       "107"
      ]
     },
     "execution_count": 33,
     "metadata": {},
     "output_type": "execute_result"
    }
   ],
   "source": [
    "PIG = list(i_test)[55]\n",
    "# 162=JJ\n",
    "pig = mangaki[PIG, :]\n",
    "all_ratings = pig.data\n",
    "all_ratings -= als.means.mean()\n",
    "pig.getnnz()"
   ]
  },
  {
   "cell_type": "code",
   "execution_count": 34,
   "metadata": {},
   "outputs": [
    {
     "data": {
      "text/plain": [
       "array([ 0,  1,  2,  3,  4,  5,  6,  7,  8,  9, 10, 11, 12, 13, 14, 15, 16,\n",
       "       17, 18, 19, 21, 22, 23, 24, 25, 29, 30, 31, 32, 33, 34, 35, 36, 38,\n",
       "       39, 40, 42, 44, 46, 48], dtype=int32)"
      ]
     },
     "execution_count": 34,
     "metadata": {},
     "output_type": "execute_result"
    }
   ],
   "source": [
    "pig.indices[:40]"
   ]
  },
  {
   "cell_type": "code",
   "execution_count": 35,
   "metadata": {
    "collapsed": true
   },
   "outputs": [],
   "source": [
    "from sklearn.gaussian_process.kernels import DotProduct\n",
    "from sklearn.gaussian_process import GaussianProcessRegressor\n",
    "from sklearn.linear_model import LinearRegression\n",
    "\n",
    "kernel = 0.9 * DotProduct(sigma_0=1.)  # Kernel that will be used for both GP and DPP\n",
    "gpr = GaussianProcessRegressor(kernel=kernel, alpha=0.9)  # \n",
    "lr = LinearRegression()"
   ]
  },
  {
   "cell_type": "code",
   "execution_count": 36,
   "metadata": {},
   "outputs": [
    {
     "data": {
      "text/plain": [
       "1.7620890663665347"
      ]
     },
     "execution_count": 36,
     "metadata": {},
     "output_type": "execute_result"
    }
   ],
   "source": [
    "work_ids = pig.indices[START_PRED:]\n",
    "user_ids = [PIG] * len(work_ids)\n",
    "y_pred = als.predict(np.column_stack((user_ids, work_ids)))\n",
    "mean_squared_error(pig.data[START_PRED:], y_pred) ** 0.5"
   ]
  },
  {
   "cell_type": "code",
   "execution_count": 37,
   "metadata": {},
   "outputs": [
    {
     "data": {
      "text/plain": [
       "1.2046826844606242"
      ]
     },
     "execution_count": 37,
     "metadata": {},
     "output_type": "execute_result"
    }
   ],
   "source": [
    "work_ids = pig.indices\n",
    "ratings = pig.data\n",
    "lr.fit(als.VT.T[work_ids], ratings)\n",
    "y_pred = lr.predict(als.VT.T[work_ids])\n",
    "mean_squared_error(pig.data, y_pred) ** 0.5"
   ]
  },
  {
   "cell_type": "code",
   "execution_count": 38,
   "metadata": {},
   "outputs": [
    {
     "data": {
      "text/plain": [
       "(array([ 1.78966434,  1.78966434,  2.78966434,  2.78966434,  1.78966434]),\n",
       " array([ 1.61990599,  2.82506166,  2.55215949,  1.76180029,  2.40277753]))"
      ]
     },
     "execution_count": 38,
     "metadata": {},
     "output_type": "execute_result"
    }
   ],
   "source": [
    "pig.data[:5], y_pred[:5]"
   ]
  },
  {
   "cell_type": "code",
   "execution_count": 39,
   "metadata": {},
   "outputs": [
    {
     "name": "stdout",
     "output_type": "stream",
     "text": [
      "stupid 1.87650815509\n",
      "5 rmse 2.08771217959\n",
      "eigenvalues 1.05572296869 to 2.34834977568\n",
      "alpha max 0.757998045927\n",
      "[ 2.10745511  2.10745413  2.10746746  2.1074661   2.10746636] [ 1.78966434  1.78966434  2.78966434  2.78966434  1.78966434]\n",
      "5 rmse 2.5281232503\n",
      "10 rmse 1.58507343774\n",
      "eigenvalues 1.23517605747 to 2.02407036877\n",
      "alpha max 0.783694912301\n",
      "[ 1.81613349  1.75819334  2.10052651  2.08433892  2.22014324] [ 1.78966434  1.78966434  2.78966434  2.78966434  1.78966434]\n",
      "10 rmse 2.25245985625\n",
      "15 rmse 1.65880052822\n",
      "eigenvalues 1.16124134078 to 2.28142848744\n",
      "alpha max 1.16668747736\n",
      "[ 1.57477778  2.02386369  2.3937375   1.73964561  2.00915415] [ 1.78966434  1.78966434  2.78966434  2.78966434  1.78966434]\n",
      "15 rmse 3.01012336737\n",
      "20 rmse 1.60260487947\n",
      "eigenvalues 1.11900122071 to 2.24783980511\n",
      "alpha max 1.52503834367\n",
      "[ 1.61465209  2.09841039  2.44522316  1.41712983  1.77703924] [ 1.78966434  1.78966434  2.78966434  2.78966434  1.78966434]\n",
      "20 rmse 4.83929543348\n",
      "25 rmse 1.39752616767\n",
      "eigenvalues 1.09303288894 to 2.20375926787\n",
      "alpha max 1.3572307652\n",
      "[ 1.51608083  2.03229414  2.29099826  1.62918148  1.93348278] [ 1.78966434  1.78966434  2.78966434  2.78966434  1.78966434]\n",
      "25 rmse 3.09905279464\n",
      "30 rmse 1.38832161774\n",
      "eigenvalues 1.08617540858 to 2.10415171489\n",
      "alpha max 1.30975703082\n",
      "[ 1.47382675  2.08498673  2.41805073  1.68751021  2.01672414] [ 1.78966434  1.78966434  2.78966434  2.78966434  1.78966434]\n",
      "30 rmse 3.08817555764\n",
      "35 rmse 1.38538040535\n",
      "eigenvalues 1.09387118753 to 2.19563215965\n",
      "alpha max 1.42071463548\n",
      "[ 1.72656258  2.14695442  2.4629737   1.75284085  2.09312737] [ 1.78966434  1.78966434  2.78966434  2.78966434  1.78966434]\n",
      "35 rmse 1.66683234269\n",
      "40 rmse 1.37640837159\n",
      "eigenvalues 1.08534095437 to 2.092689904\n",
      "alpha max 1.41718762361\n",
      "[ 1.74145663  1.98389264  2.55696122  1.67292121  2.13731377] [ 1.78966434  1.78966434  2.78966434  2.78966434  1.78966434]\n",
      "40 rmse 1.54485390696\n",
      "45 rmse 1.41780291454\n",
      "eigenvalues 1.07480905541 to 1.96638954557\n",
      "alpha max 1.39419529843\n",
      "[ 1.59346261  1.93358966  2.42337574  1.62526249  2.04858742] [ 1.78966434  1.78966434  2.78966434  2.78966434  1.78966434]\n",
      "45 rmse 1.39775193254\n",
      "50 rmse 1.46080490125\n",
      "eigenvalues 1.01188140563 to 1.88618325918\n",
      "alpha max 1.35443391996\n",
      "[ 1.48661295  1.94540598  2.3681931   1.71827764  2.07665782] [ 1.78966434  1.78966434  2.78966434  2.78966434  1.78966434]\n",
      "50 rmse 1.4328051764\n",
      "55 rmse 1.39356802486\n",
      "eigenvalues 1.01451436968 to 1.9436955177\n",
      "alpha max 1.29729926852\n",
      "[ 1.4544375   1.99020386  2.46193169  1.73370798  2.16647923] [ 1.78966434  1.78966434  2.78966434  2.78966434  1.78966434]\n",
      "55 rmse 1.44712861754\n",
      "60 rmse 1.31723625651\n",
      "eigenvalues 1.0170119557 to 2.12531746645\n",
      "alpha max 1.42379796812\n",
      "[ 1.77928349  2.19521713  2.80001734  1.6736604   2.38934177] [ 1.78966434  1.78966434  2.78966434  2.78966434  1.78966434]\n",
      "60 rmse 1.47119314227\n",
      "65 rmse 1.30613942507\n",
      "eigenvalues 1.0175902253 to 2.15692501085\n",
      "alpha max 1.48655948065\n",
      "[ 1.52729321  2.1794332   2.76588315  1.69087488  2.39276182] [ 1.78966434  1.78966434  2.78966434  2.78966434  1.78966434]\n",
      "65 rmse 1.475638523\n",
      "70 rmse 1.31052497707\n",
      "eigenvalues 1.01168606861 to 1.93994651778\n",
      "alpha max 3.2112544045\n",
      "[ 1.49345111  2.22229644  2.5717801   1.72905495  2.28504461] [ 1.78966434  1.78966434  2.78966434  2.78966434  1.78966434]\n",
      "70 rmse 1.38506930906\n",
      "75 rmse 1.27081834347\n",
      "eigenvalues 1.01175725905 to 1.94679550455\n",
      "alpha max 3.43443031412\n",
      "[ 1.41713732  2.23152224  2.5424724   1.72307652  2.28064042] [ 1.78966434  1.78966434  2.78966434  2.78966434  1.78966434]\n",
      "75 rmse 1.29286900863\n",
      "80 rmse 1.28762940434\n",
      "eigenvalues 1.00650791395 to 1.81518972219\n",
      "alpha max 3.19790330528\n",
      "[ 1.62192416  2.45283537  2.54872378  1.72206802  2.06574419] [ 1.78966434  1.78966434  2.78966434  2.78966434  1.78966434]\n",
      "80 rmse 1.27750015966\n",
      "85 rmse 1.26801694133\n",
      "eigenvalues 1.00779945669 to 1.84765298704\n",
      "alpha max 3.3629942275\n",
      "[ 1.54690432  2.53535757  2.55796866  1.66046503  2.069816  ] [ 1.78966434  1.78966434  2.78966434  2.78966434  1.78966434]\n",
      "85 rmse 1.26166913457\n",
      "90 rmse 1.26303194552\n",
      "eigenvalues 1.00649888209 to 1.81493289681\n",
      "alpha max 3.30200497017\n",
      "[ 1.67964871  2.56608368  2.62084795  1.58986195  1.95777228] [ 1.78966434  1.78966434  2.78966434  2.78966434  1.78966434]\n",
      "90 rmse 1.24864721358\n",
      "95 rmse 1.25296978469\n",
      "eigenvalues 1.00695620407 to 1.81525057923\n",
      "alpha max 3.29065116296\n",
      "[ 1.69807749  2.74160249  2.6666611   1.66318496  2.10421346] [ 1.78966434  1.78966434  2.78966434  2.78966434  1.78966434]\n",
      "95 rmse 1.24081236611\n",
      "100 rmse 1.23536258918\n",
      "eigenvalues 1.00757633121 to 1.82147019267\n",
      "alpha max 3.33329983655\n",
      "[ 1.63326717  2.76626066  2.59372394  1.66562055  2.18803681] [ 1.78966434  1.78966434  2.78966434  2.78966434  1.78966434]\n",
      "100 rmse 1.21854266879\n",
      "105 rmse 1.22337875611\n",
      "eigenvalues 1.00807863915 to 1.84315451511\n",
      "alpha max 3.48504255452\n",
      "[ 1.76993223  2.80939277  2.51172934  1.71901299  2.21550449] [ 1.78966434  1.78966434  2.78966434  2.78966434  1.78966434]\n",
      "105 rmse 1.20820856633\n",
      "0.381888976212\n"
     ]
    },
    {
     "data": {
      "text/plain": [
       "[<matplotlib.lines.Line2D at 0x11b8602e8>]"
      ]
     },
     "execution_count": 39,
     "metadata": {},
     "output_type": "execute_result"
    },
    {
     "data": {
      "image/png": "[encoded data removed]",
      "text/plain": [
       "<matplotlib.figure.Figure at 0x10a4af4e0>"
      ]
     },
     "metadata": {},
     "output_type": "display_data"
    }
   ],
   "source": [
    "from sklearn.metrics import mean_squared_error\n",
    "\n",
    "def fix(x):\n",
    "    x[x > 4] = 4\n",
    "    x[x < -2] = -2\n",
    "\n",
    "START_PRED = 0\n",
    "    \n",
    "BATCH_SIZE = 5\n",
    "steps = []\n",
    "errors = []\n",
    "print('stupid', mean_squared_error(pig.data[START_PRED:], [0.] * len(pig.data[START_PRED:])) ** 0.5)\n",
    "for t in range(BATCH_SIZE, pig.getnnz() + 1, BATCH_SIZE):  # pig.getnnz() + 1\n",
    "    steps.append(t)\n",
    "    work_ids = pig.indices[:t]\n",
    "    ratings = pig.data[:t]\n",
    "    gpr.fit(als.VT.T[work_ids], ratings)\n",
    "    y_pred, sigma = gpr.predict(als.VT.T[pig.indices[START_PRED:]], return_std=True)\n",
    "    #fix(y_pred)\n",
    "    rmse = mean_squared_error(pig.data[START_PRED:], y_pred) ** 0.5\n",
    "    errors.append(rmse)\n",
    "    print(t, 'rmse', rmse)\n",
    "    eig = np.linalg.eig(gpr.L_)[0]\n",
    "    print('eigenvalues', eig.min(), 'to', eig.max())\n",
    "    print('alpha max', gpr.alpha_.max())\n",
    "    print(y_pred[START_PRED:START_PRED+5], pig.data[START_PRED:START_PRED+5])\n",
    "    #print(y_pred)\n",
    "    lr.fit(als.VT.T[work_ids], ratings)\n",
    "    y_pred = lr.predict(als.VT.T[pig.indices])\n",
    "    rmse = mean_squared_error(pig.data, y_pred) ** 0.5\n",
    "    print(t, 'rmse', rmse)\n",
    "    #print(y_pred[:5], pig.data[:5])\n",
    "    #print(y_pred)\n",
    "    #print(pig.data)\n",
    "    #print(pig.indices[y_pred > 10])\n",
    "print(sigma.mean())\n",
    "plt.plot(steps, errors)"
   ]
  },
  {
   "cell_type": "code",
   "execution_count": 538,
   "metadata": {},
   "outputs": [
    {
     "data": {
      "text/plain": [
       "array([ 2.,  2.,  2.,  3.,  3.,  1.,  2.,  1.,  3.,  1.,  1.,  3.,  2.,\n",
       "        1.,  1.,  2.,  2.,  2.,  1.,  2.,  1.,  2.,  1.,  2.,  1.,  1.,\n",
       "        2.,  2.,  2.,  1.,  1.,  2.,  2.,  2.,  2.,  1.,  1.,  2.,  1.,\n",
       "        1.,  2.,  0.,  2.,  1.,  1.,  0.,  2.,  0.,  1.,  2.,  2.,  1.,\n",
       "        1.,  1.,  0.,  1.,  2.,  0.,  1.,  2.,  2.,  3.,  0.,  1.,  3.,\n",
       "        1.,  2.,  2.,  2.,  2.,  2.,  2.,  1.,  3.,  1.,  2.,  1.,  2.,\n",
       "        2.,  1.,  2.,  1.,  1.,  0.,  2., -0.,  1.,  1.,  1.,  1.,  2.,\n",
       "        1.,  1.])"
      ]
     },
     "execution_count": 538,
     "metadata": {},
     "output_type": "execute_result"
    }
   ],
   "source": [
    "np.round(y_pred)"
   ]
  },
  {
   "cell_type": "code",
   "execution_count": 539,
   "metadata": {},
   "outputs": [
    {
     "data": {
      "text/plain": [
       "array([ 1.07184906,  0.04022235,  0.71371201,  0.25523759,  0.2755776 ,\n",
       "        0.76728682,  0.76217655, -1.94969685,  0.22026026,  0.23451967,\n",
       "        0.42372211,  0.2911558 , -0.10392214, -0.79069398,  0.29195661,\n",
       "        1.20405003,  0.03223958,  1.41087851,  0.64202389,  0.02993513,\n",
       "        0.62156393,  0.40635011, -2.87540644,  0.47079273,  0.47116849,\n",
       "        0.71954528,  0.2896853 ,  0.23291098,  1.26735334,  0.52798978,\n",
       "        0.56347512,  0.26409907,  0.11475331,  0.37114242,  1.35748017,\n",
       "       -1.2757551 ,  0.45223012,  1.42365746,  0.64105015,  1.65769072,\n",
       "       -1.78089741, -1.08545378,  1.14418226, -1.25127043,  0.78054091,\n",
       "       -2.16525222, -0.12856676, -0.37838811, -0.42389455,  0.1783677 ,\n",
       "        1.18937006, -1.27870629, -2.45968895, -2.73148309,  0.37844092,\n",
       "        0.75314118,  0.14032453, -1.10010577,  0.77125164,  0.9642877 ,\n",
       "       -0.09034189,  0.02241663, -2.39454564,  0.89969927, -0.48309111,\n",
       "       -1.79386842,  0.10428374, -0.05427061, -1.98241759,  0.5342566 ,\n",
       "       -0.01639356,  0.91414806,  0.78578242, -0.74124747,  0.3330302 ,\n",
       "       -0.43590719,  0.53004274,  0.39905698, -2.05343835,  0.29737159,\n",
       "        0.91319062, -1.43356001,  0.80456834, -1.0325849 ,  0.08726841,\n",
       "       -0.43022415,  0.47643282,  0.58121169,  0.47643282,  0.48709575])"
      ]
     },
     "execution_count": 539,
     "metadata": {},
     "output_type": "execute_result"
    }
   ],
   "source": [
    "gpr.alpha_"
   ]
  },
  {
   "cell_type": "code",
   "execution_count": 540,
   "metadata": {},
   "outputs": [
    {
     "name": "stderr",
     "output_type": "stream",
     "text": [
      "/Users/jilljenn/code/mangaki/venv/lib/python3.6/site-packages/sklearn/utils/validation.py:395: DeprecationWarning: Passing 1d arrays as data is deprecated in 0.17 and will raise ValueError in 0.19. Reshape your data either using X.reshape(-1, 1) if your data has a single feature or X.reshape(1, -1) if it contains a single sample.\n",
      "  DeprecationWarning)\n"
     ]
    },
    {
     "data": {
      "text/plain": [
       "(array([ 1.33883213]), array([ 0.5516606]))"
      ]
     },
     "execution_count": 540,
     "metadata": {},
     "output_type": "execute_result"
    }
   ],
   "source": [
    "gpr.predict(als.VT.T[50], return_std=True)"
   ]
  },
  {
   "cell_type": "code",
   "execution_count": 541,
   "metadata": {},
   "outputs": [
    {
     "data": {
      "text/plain": [
       "0.381**2 * DotProduct(sigma_0=3.51)"
      ]
     },
     "execution_count": 541,
     "metadata": {},
     "output_type": "execute_result"
    }
   ],
   "source": [
    "gpr.kernel_"
   ]
  },
  {
   "cell_type": "code",
   "execution_count": 542,
   "metadata": {},
   "outputs": [
    {
     "data": {
      "text/plain": [
       "array([ 1.7302547 ,  1.28429132,  1.22417413,  1.21022899,  1.11198289,\n",
       "        1.23633752,  1.089309  ,  1.10077274,  1.06433827,  1.0599551 ,\n",
       "        1.07211059,  1.04661625,  1.0804486 ,  1.06150772,  1.07176616,\n",
       "        1.09608769,  1.01059015,  1.0573453 ,  1.10094186,  1.02453273,\n",
       "        1.190497  ,  1.07884425,  1.05927886,  1.03839374,  1.02719981,\n",
       "        1.07311452,  1.01390702,  1.06114115,  1.04119546,  1.05698057,\n",
       "        1.04337259,  1.08131152,  1.02401507,  1.02698477,  1.01184781,\n",
       "        1.09730126,  1.00590969,  1.07557268,  0.99957757,  1.03634646,\n",
       "        1.03176825,  1.04580892,  1.00740353,  1.06421172,  1.07144213,\n",
       "        1.06762813,  1.03718444,  1.06906715,  1.05031466,  1.00839463,\n",
       "        1.08561337,  1.0376297 ,  1.0700753 ,  1.09108769,  1.09617029,\n",
       "        1.03114669,  1.01540665,  1.03185714,  1.03831857,  1.07546105,\n",
       "        1.10708092,  1.13120481,  1.122899  ,  1.03001268,  1.03752668,\n",
       "        0.99529181,  1.10152653,  1.07191854,  1.07868641,  1.04349151,\n",
       "        1.04488741,  1.04072751,  1.04314128,  1.06428435,  1.08607718,\n",
       "        1.131334  ,  0.97265739,  1.02184241,  0.97803809,  0.97653821,\n",
       "        0.99306856,  1.20166916,  1.0888517 ,  1.09225844,  1.02182019,\n",
       "        1.11022462,  0.97469323,  0.96592268,  0.97333082,  0.98242902])"
      ]
     },
     "execution_count": 542,
     "metadata": {},
     "output_type": "execute_result"
    }
   ],
   "source": [
    "np.diag(gpr.L_)"
   ]
  },
  {
   "cell_type": "code",
   "execution_count": 40,
   "metadata": {
    "collapsed": true
   },
   "outputs": [],
   "source": [
    "# Let's troubleshoot\n",
    "NB_ASKED = 195\n",
    "X = als.VT.T[pig.indices[:NB_ASKED]]\n",
    "y = pig.data[:NB_ASKED]\n",
    "X_new = als.VT.T[50]"
   ]
  },
  {
   "cell_type": "code",
   "execution_count": 41,
   "metadata": {},
   "outputs": [
    {
     "ename": "ValueError",
     "evalue": "operands could not be broadcast together with shapes (107,107) (19,19) ",
     "output_type": "error",
     "traceback": [
      "\u001b[0;31m---------------------------------------------------------------------------\u001b[0m",
      "\u001b[0;31mValueError\u001b[0m                                Traceback (most recent call last)",
      "\u001b[0;32m<ipython-input-41-a52c1cef0242>\u001b[0m in \u001b[0;36m<module>\u001b[0;34m()\u001b[0m\n\u001b[0;32m----> 1\u001b[0;31m \u001b[0mnp\u001b[0m\u001b[0;34m.\u001b[0m\u001b[0mlinalg\u001b[0m\u001b[0;34m.\u001b[0m\u001b[0meig\u001b[0m\u001b[0;34m(\u001b[0m\u001b[0mX\u001b[0m\u001b[0;34m.\u001b[0m\u001b[0mdot\u001b[0m\u001b[0;34m(\u001b[0m\u001b[0mX\u001b[0m\u001b[0;34m.\u001b[0m\u001b[0mT\u001b[0m\u001b[0;34m)\u001b[0m \u001b[0;34m+\u001b[0m \u001b[0;36m1\u001b[0m \u001b[0;34m*\u001b[0m \u001b[0mnp\u001b[0m\u001b[0;34m.\u001b[0m\u001b[0meye\u001b[0m\u001b[0;34m(\u001b[0m\u001b[0;36m19\u001b[0m\u001b[0;34m)\u001b[0m\u001b[0;34m)\u001b[0m\u001b[0;34m[\u001b[0m\u001b[0;36m0\u001b[0m\u001b[0;34m]\u001b[0m\u001b[0;34m\u001b[0m\u001b[0m\n\u001b[0m",
      "\u001b[0;31mValueError\u001b[0m: operands could not be broadcast together with shapes (107,107) (19,19) "
     ]
    }
   ],
   "source": [
    "np.linalg.eig(X.dot(X.T) + 1 * np.eye(19))[0]"
   ]
  },
  {
   "cell_type": "code",
   "execution_count": 42,
   "metadata": {},
   "outputs": [
    {
     "data": {
      "text/plain": [
       "array([  1.23315788e+02 +0.00000000e+00j,\n",
       "         3.33128977e+01 +0.00000000e+00j,\n",
       "         2.20909441e+01 +0.00000000e+00j,\n",
       "         1.81433660e+01 +0.00000000e+00j,\n",
       "         1.46025510e+01 +0.00000000e+00j,\n",
       "         1.23421935e+01 +0.00000000e+00j,\n",
       "         1.08824275e+01 +0.00000000e+00j,\n",
       "         1.04160657e+01 +0.00000000e+00j,\n",
       "         8.20645133e+00 +0.00000000e+00j,\n",
       "         8.77350789e+00 +0.00000000e+00j,\n",
       "         6.57686380e+00 +0.00000000e+00j,\n",
       "         7.22619229e+00 +0.00000000e+00j,\n",
       "         5.64851973e+00 +0.00000000e+00j,\n",
       "         4.90402109e+00 +0.00000000e+00j,\n",
       "         4.66061586e+00 +0.00000000e+00j,\n",
       "         3.63838748e+00 +0.00000000e+00j,\n",
       "         3.21855533e+00 +0.00000000e+00j,\n",
       "         4.35886047e+00 +0.00000000e+00j,\n",
       "         2.68242413e+00 +0.00000000e+00j,\n",
       "         2.10317330e+00 +0.00000000e+00j,\n",
       "         2.32854747e+00 +0.00000000e+00j,\n",
       "         5.07879023e-15 +0.00000000e+00j,\n",
       "        -4.01175545e-15 +0.00000000e+00j,\n",
       "        -2.03394784e-15 +3.08740073e-15j,\n",
       "        -2.03394784e-15 -3.08740073e-15j,\n",
       "         2.91861433e-15 +0.00000000e+00j,\n",
       "         2.25317698e-15 +1.33785337e-15j,\n",
       "         2.25317698e-15 -1.33785337e-15j,\n",
       "        -2.58252282e-15 +0.00000000e+00j,\n",
       "         2.07888047e-15 +5.00726723e-16j,\n",
       "         2.07888047e-15 -5.00726723e-16j,\n",
       "        -2.12583092e-15 +5.71676318e-16j,\n",
       "        -2.12583092e-15 -5.71676318e-16j,\n",
       "         1.95164971e-15 +1.79738406e-16j,\n",
       "         1.95164971e-15 -1.79738406e-16j,\n",
       "        -2.17552781e-15 +0.00000000e+00j,\n",
       "        -2.05970704e-15 +0.00000000e+00j,\n",
       "        -9.54809896e-16 +1.42855102e-15j,\n",
       "        -9.54809896e-16 -1.42855102e-15j,\n",
       "        -1.95711501e-15 +1.65050473e-16j,\n",
       "        -1.95711501e-15 -1.65050473e-16j,\n",
       "         1.69814339e-15 +4.16230022e-16j,\n",
       "         1.69814339e-15 -4.16230022e-16j,\n",
       "        -1.80721476e-15 +9.95246160e-17j,\n",
       "        -1.80721476e-15 -9.95246160e-17j,\n",
       "         1.57755609e-15 +0.00000000e+00j,\n",
       "         1.30631992e-15 +5.84966434e-16j,\n",
       "         1.30631992e-15 -5.84966434e-16j,\n",
       "         1.45462572e-15 +9.61584993e-17j,\n",
       "         1.45462572e-15 -9.61584993e-17j,\n",
       "        -1.51769246e-15 +2.91028658e-16j,\n",
       "        -1.51769246e-15 -2.91028658e-16j,\n",
       "        -1.51080383e-15 +0.00000000e+00j,\n",
       "        -1.19221214e-15 +5.21548776e-16j,\n",
       "        -1.19221214e-15 -5.21548776e-16j,\n",
       "         1.12839001e-15 +0.00000000e+00j,\n",
       "        -7.02570981e-16 +8.52637076e-16j,\n",
       "        -7.02570981e-16 -8.52637076e-16j,\n",
       "         1.21115569e-15 +2.06987170e-16j,\n",
       "         1.21115569e-15 -2.06987170e-16j,\n",
       "        -1.32164015e-15 +8.67961975e-17j,\n",
       "        -1.32164015e-15 -8.67961975e-17j,\n",
       "         8.45523355e-16 +6.32664415e-16j,\n",
       "         8.45523355e-16 -6.32664415e-16j,\n",
       "         4.56233522e-17 +8.72047482e-16j,\n",
       "         4.56233522e-17 -8.72047482e-16j,\n",
       "         9.83468469e-16 +1.17322362e-16j,\n",
       "         9.83468469e-16 -1.17322362e-16j,\n",
       "        -2.36366029e-16 +7.17967628e-16j,\n",
       "        -2.36366029e-16 -7.17967628e-16j,\n",
       "        -8.89011726e-16 +2.87340949e-16j,\n",
       "        -8.89011726e-16 -2.87340949e-16j,\n",
       "        -9.77922670e-16 +0.00000000e+00j,\n",
       "        -5.72189281e-16 +4.18152673e-16j,\n",
       "        -5.72189281e-16 -4.18152673e-16j,\n",
       "         6.51536148e-16 +2.66085311e-16j,\n",
       "         6.51536148e-16 -2.66085311e-16j,\n",
       "         7.06489037e-16 +1.06921185e-16j,\n",
       "         7.06489037e-16 -1.06921185e-16j,\n",
       "        -8.74639255e-16 +0.00000000e+00j,\n",
       "         3.55143995e-16 +4.24580794e-16j,\n",
       "         3.55143995e-16 -4.24580794e-16j,\n",
       "         5.42444465e-16 +2.66796432e-16j,\n",
       "         5.42444465e-16 -2.66796432e-16j,\n",
       "         7.16964588e-17 +4.65359732e-16j,\n",
       "         7.16964588e-17 -4.65359732e-16j,\n",
       "        -7.37744235e-16 +1.33764805e-16j,\n",
       "        -7.37744235e-16 -1.33764805e-16j,\n",
       "         6.07914736e-16 +0.00000000e+00j,\n",
       "        -5.93942864e-16 +1.91658644e-16j,\n",
       "        -5.93942864e-16 -1.91658644e-16j,\n",
       "        -2.49527765e-16 +3.23880887e-16j,\n",
       "        -2.49527765e-16 -3.23880887e-16j,\n",
       "         3.53430945e-16 +1.56144767e-16j,\n",
       "         3.53430945e-16 -1.56144767e-16j,\n",
       "        -5.00360754e-17 +2.32466793e-16j,\n",
       "        -5.00360754e-17 -2.32466793e-16j,\n",
       "         3.69530212e-16 +0.00000000e+00j,\n",
       "        -4.85664669e-16 +3.85269713e-17j,\n",
       "        -4.85664669e-16 -3.85269713e-17j,\n",
       "        -4.15237718e-17 +1.42789167e-16j,\n",
       "        -4.15237718e-17 -1.42789167e-16j,\n",
       "        -9.64676965e-17 +0.00000000e+00j,\n",
       "         1.50811797e-16 +1.30265626e-16j,\n",
       "         1.50811797e-16 -1.30265626e-16j,\n",
       "        -4.06780992e-16 +9.41165590e-17j,  -4.06780992e-16 -9.41165590e-17j])"
      ]
     },
     "execution_count": 42,
     "metadata": {},
     "output_type": "execute_result"
    }
   ],
   "source": [
    "np.linalg.eig(kernel(X))[0]"
   ]
  },
  {
   "cell_type": "code",
   "execution_count": 43,
   "metadata": {},
   "outputs": [
    {
     "data": {
      "text/plain": [
       "array([  5.98722785e+01 +0.00000000e+00j,\n",
       "         2.35786083e+01 +0.00000000e+00j,\n",
       "         1.57145389e+01 +0.00000000e+00j,\n",
       "         1.25528284e+01 +0.00000000e+00j,\n",
       "         1.03984839e+01 +0.00000000e+00j,\n",
       "         8.77670335e+00 +0.00000000e+00j,\n",
       "         7.74237843e+00 +0.00000000e+00j,\n",
       "         7.42188546e+00 +0.00000000e+00j,\n",
       "         5.85432064e+00 +0.00000000e+00j,\n",
       "         6.25967049e+00 +0.00000000e+00j,\n",
       "         4.68437372e+00 +0.00000000e+00j,\n",
       "         5.15471318e+00 +0.00000000e+00j,\n",
       "         3.99807720e+00 +0.00000000e+00j,\n",
       "         3.49231597e+00 +0.00000000e+00j,\n",
       "         3.32457832e+00 +0.00000000e+00j,\n",
       "         2.58476645e+00 +0.00000000e+00j,\n",
       "         2.29005473e+00 +0.00000000e+00j,\n",
       "         3.10360173e+00 +0.00000000e+00j,\n",
       "         1.91067065e+00 +0.00000000e+00j,\n",
       "         1.37492837e+00 +0.00000000e+00j,\n",
       "         1.66062351e+00 +0.00000000e+00j,\n",
       "        -6.83137773e-16 +2.80326974e-15j,\n",
       "        -6.83137773e-16 -2.80326974e-15j,\n",
       "         2.99177376e-15 +1.83457784e-16j,\n",
       "         2.99177376e-15 -1.83457784e-16j,\n",
       "        -2.01751626e-15 +0.00000000e+00j,\n",
       "         1.69789057e-15 +0.00000000e+00j,\n",
       "        -1.19061119e-15 +1.05571823e-15j,\n",
       "        -1.19061119e-15 -1.05571823e-15j,\n",
       "         1.43215841e-15 +4.25114864e-16j,\n",
       "         1.43215841e-15 -4.25114864e-16j,\n",
       "         1.37166029e-15 +4.19112389e-16j,\n",
       "         1.37166029e-15 -4.19112389e-16j,\n",
       "        -1.53392380e-15 +0.00000000e+00j,\n",
       "        -1.35691569e-15 +4.54442519e-16j,\n",
       "        -1.35691569e-15 -4.54442519e-16j,\n",
       "         5.73421604e-16 +1.00653282e-15j,\n",
       "         5.73421604e-16 -1.00653282e-15j,\n",
       "        -1.32774541e-15 +0.00000000e+00j,\n",
       "         1.15182140e-15 +1.46247275e-16j,\n",
       "         1.15182140e-15 -1.46247275e-16j,\n",
       "         1.18921828e-15 +0.00000000e+00j,\n",
       "         2.58589887e-16 +8.85694394e-16j,\n",
       "         2.58589887e-16 -8.85694394e-16j,\n",
       "        -9.50118714e-16 +4.75249906e-16j,\n",
       "        -9.50118714e-16 -4.75249906e-16j,\n",
       "         1.08103587e-15 +0.00000000e+00j,\n",
       "        -1.04460268e-15 +6.42294962e-17j,\n",
       "        -1.04460268e-15 -6.42294962e-17j,\n",
       "        -6.85377265e-16 +5.39779428e-16j,\n",
       "        -6.85377265e-16 -5.39779428e-16j,\n",
       "        -9.85512860e-16 +0.00000000e+00j,\n",
       "         9.56868977e-16 +1.58723761e-16j,\n",
       "         9.56868977e-16 -1.58723761e-16j,\n",
       "        -8.51621375e-16 +3.22072092e-16j,\n",
       "        -8.51621375e-16 -3.22072092e-16j,\n",
       "        -9.24837821e-16 +1.38997321e-16j,\n",
       "        -9.24837821e-16 -1.38997321e-16j,\n",
       "        -8.24379845e-16 +0.00000000e+00j,\n",
       "        -7.94524898e-16 +2.64007920e-16j,\n",
       "        -7.94524898e-16 -2.64007920e-16j,\n",
       "         7.69159656e-16 +1.25672729e-16j,\n",
       "         7.69159656e-16 -1.25672729e-16j,\n",
       "         7.32121940e-16 +0.00000000e+00j,\n",
       "        -7.45517944e-16 +6.19127245e-17j,\n",
       "        -7.45517944e-16 -6.19127245e-17j,\n",
       "         4.22882866e-16 +4.16760831e-16j,\n",
       "         4.22882866e-16 -4.16760831e-16j,\n",
       "         6.37614273e-16 +1.97737854e-16j,\n",
       "         6.37614273e-16 -1.97737854e-16j,\n",
       "        -3.70691471e-16 +4.00116964e-16j,\n",
       "        -3.70691471e-16 -4.00116964e-16j,\n",
       "         5.69999155e-16 +1.96480229e-16j,\n",
       "         5.69999155e-16 -1.96480229e-16j,\n",
       "        -2.36145451e-17 +4.33974050e-16j,\n",
       "        -2.36145451e-17 -4.33974050e-16j,\n",
       "         5.80954238e-16 +0.00000000e+00j,\n",
       "         1.24714493e-16 +4.04354996e-16j,\n",
       "         1.24714493e-16 -4.04354996e-16j,\n",
       "        -5.37534541e-16 +5.82079762e-17j,\n",
       "        -5.37534541e-16 -5.82079762e-17j,\n",
       "        -4.15927084e-16 +2.30581478e-16j,\n",
       "        -4.15927084e-16 -2.30581478e-16j,\n",
       "        -3.04900627e-16 +2.41290102e-16j,\n",
       "        -3.04900627e-16 -2.41290102e-16j,\n",
       "        -4.15852352e-16 +1.28644447e-16j,\n",
       "        -4.15852352e-16 -1.28644447e-16j,\n",
       "         4.07115560e-16 +2.38033449e-16j,\n",
       "         4.07115560e-16 -2.38033449e-16j,\n",
       "        -4.47640491e-16 +0.00000000e+00j,\n",
       "         4.75678481e-16 +0.00000000e+00j,\n",
       "         3.83565686e-16 +8.33959619e-17j,\n",
       "         3.83565686e-16 -8.33959619e-17j,\n",
       "         1.66565885e-17 +1.81684615e-16j,\n",
       "         1.66565885e-17 -1.81684615e-16j,\n",
       "         1.19300236e-16 +1.87606209e-16j,\n",
       "         1.19300236e-16 -1.87606209e-16j,\n",
       "         1.81057707e-16 +1.10516830e-16j,\n",
       "         1.81057707e-16 -1.10516830e-16j,\n",
       "        -2.76009876e-16 +0.00000000e+00j,\n",
       "         2.98401178e-16 +0.00000000e+00j,\n",
       "        -3.81257539e-17 +0.00000000e+00j,\n",
       "        -2.12046142e-16 +0.00000000e+00j,\n",
       "        -9.19718920e-17 +0.00000000e+00j,\n",
       "        -1.37780914e-16 +0.00000000e+00j,\n",
       "         2.32548582e-16 +4.30731777e-17j,   2.32548582e-16 -4.30731777e-17j])"
      ]
     },
     "execution_count": 43,
     "metadata": {},
     "output_type": "execute_result"
    }
   ],
   "source": [
    "np.linalg.eig(gpr.kernel_(X))[0]"
   ]
  },
  {
   "cell_type": "code",
   "execution_count": 44,
   "metadata": {},
   "outputs": [
    {
     "data": {
      "text/plain": [
       "array([ -3.87195417e+16,  -9.44393954e+15,  -3.24449283e+14,\n",
       "        -2.05536671e+15,   2.22805197e+16])"
      ]
     },
     "execution_count": 44,
     "metadata": {},
     "output_type": "execute_result"
    }
   ],
   "source": [
    "pred = np.linalg.inv(kernel(X)).dot(y)\n",
    "pred[:5]"
   ]
  },
  {
   "cell_type": "code",
   "execution_count": 45,
   "metadata": {},
   "outputs": [
    {
     "data": {
      "text/plain": [
       "array([ -9.00776184e+14,   7.04859989e+15,  -3.09220545e+15,\n",
       "         2.80113989e+16,   3.07509970e+15])"
      ]
     },
     "execution_count": 45,
     "metadata": {},
     "output_type": "execute_result"
    }
   ],
   "source": [
    "pred = np.linalg.inv(gpr.kernel_(X)).dot(y)\n",
    "pred[:5]  # alpha_ ?"
   ]
  },
  {
   "cell_type": "code",
   "execution_count": 46,
   "metadata": {},
   "outputs": [
    {
     "data": {
      "text/plain": [
       "array([ 0.02192456, -1.1330316 ,  0.30881666,  1.18961261, -0.47315573,\n",
       "        1.01016165,  0.89929938, -0.47966792,  1.42302979, -2.2720823 ,\n",
       "        0.19379706, -0.70391942, -2.00430038, -1.06960248,  0.44560616,\n",
       "       -1.5843674 , -0.45791473, -0.09612726,  0.18123813, -1.86259581,\n",
       "        1.67000961,  0.40830289, -0.33707643, -0.24965643,  0.91194382,\n",
       "        0.61009713,  0.89872894,  0.40374066,  1.33892564,  0.7927773 ,\n",
       "        1.07171087,  0.65666636,  0.57995509,  0.92417253, -2.53046219,\n",
       "       -0.98615476,  0.29785515, -0.529971  ,  0.34109105,  1.31937897,\n",
       "        0.69966515,  1.44333357,  0.86014477,  1.00045741, -0.24592245,\n",
       "        0.05328071,  1.35695152,  0.73107976,  0.87115887,  0.80741665,\n",
       "       -2.63015085,  0.87101529, -0.38263076,  0.53977032,  0.80737743,\n",
       "       -1.64028244, -0.32261891,  0.0664875 , -0.4948582 , -2.43742117,\n",
       "        1.26179111, -0.93599638,  0.90709517,  0.48111416,  0.13777419,\n",
       "        0.32054869,  0.24723908, -2.701845  ,  3.48504255,  0.8244189 ,\n",
       "       -1.74473346, -3.57365686,  1.33674182,  0.21646757,  1.31417875,\n",
       "        1.1779256 ,  2.6817566 , -3.14416138, -0.10288783,  1.2823286 ,\n",
       "        0.48132235,  0.77397901, -0.95906922, -2.76152171,  0.59390952,\n",
       "       -1.92503251,  1.36546945, -0.57628142,  2.20946645,  0.12478225,\n",
       "        2.29400581, -1.58052024, -1.36569204,  0.38209267, -1.88553815,\n",
       "        1.39903684, -0.52675174,  0.55222235, -2.36093585, -2.31928902,\n",
       "       -0.89130887,  1.35869927, -1.60393702, -0.02850113,  2.24353064])"
      ]
     },
     "execution_count": 46,
     "metadata": {},
     "output_type": "execute_result"
    }
   ],
   "source": [
    "gpr.alpha_"
   ]
  },
  {
   "cell_type": "code",
   "execution_count": 47,
   "metadata": {},
   "outputs": [
    {
     "data": {
      "text/plain": [
       "13.832075096010783"
      ]
     },
     "execution_count": 47,
     "metadata": {},
     "output_type": "execute_result"
    }
   ],
   "source": [
    "np.linalg.norm(gpr.alpha_)"
   ]
  },
  {
   "cell_type": "code",
   "execution_count": 48,
   "metadata": {},
   "outputs": [
    {
     "data": {
      "text/plain": [
       "array([[ 1.85075993],\n",
       "       [ 1.26111845],\n",
       "       [ 1.52276992],\n",
       "       [ 1.19263951],\n",
       "       [ 1.22266856],\n",
       "       [ 1.83007458],\n",
       "       [ 0.84538205],\n",
       "       [ 1.63253873],\n",
       "       [ 1.64942031],\n",
       "       [ 1.63836768],\n",
       "       [ 1.10954731],\n",
       "       [ 0.97342054],\n",
       "       [ 1.09388239],\n",
       "       [ 0.63122908],\n",
       "       [ 0.85883243],\n",
       "       [ 0.90076688],\n",
       "       [ 0.95767738],\n",
       "       [ 0.70180765],\n",
       "       [ 0.79007913],\n",
       "       [ 1.11626533],\n",
       "       [ 1.05261943],\n",
       "       [ 0.8651865 ],\n",
       "       [ 2.36491596],\n",
       "       [ 1.89869738],\n",
       "       [ 0.85547318],\n",
       "       [ 0.66159508],\n",
       "       [ 1.09169739],\n",
       "       [ 0.99078965],\n",
       "       [ 1.06361789],\n",
       "       [ 1.08250771],\n",
       "       [ 1.04344506],\n",
       "       [ 1.98530126],\n",
       "       [ 3.73775149],\n",
       "       [ 0.67437074],\n",
       "       [ 1.36262355],\n",
       "       [ 0.7586975 ],\n",
       "       [ 1.04545968],\n",
       "       [ 0.80606766],\n",
       "       [ 1.56949458],\n",
       "       [ 0.73786622],\n",
       "       [ 3.59717192],\n",
       "       [ 0.61697188],\n",
       "       [ 1.29316193],\n",
       "       [ 0.93865384],\n",
       "       [ 0.71665722],\n",
       "       [ 1.04408095],\n",
       "       [ 0.96480473],\n",
       "       [ 1.55647681],\n",
       "       [ 0.54192636],\n",
       "       [ 1.22965561],\n",
       "       [ 0.64135547],\n",
       "       [ 0.70172888],\n",
       "       [ 1.08303421],\n",
       "       [ 1.3615426 ],\n",
       "       [ 1.51977488],\n",
       "       [ 0.67377658],\n",
       "       [ 0.48131441],\n",
       "       [ 0.82902818],\n",
       "       [ 0.91069608],\n",
       "       [ 2.06151794],\n",
       "       [ 0.70622083],\n",
       "       [ 0.3644151 ],\n",
       "       [ 0.30602177],\n",
       "       [ 1.75665198],\n",
       "       [ 0.93397352],\n",
       "       [ 0.95799986],\n",
       "       [ 1.06553523],\n",
       "       [ 1.06799985],\n",
       "       [ 0.49280982],\n",
       "       [ 0.62434281],\n",
       "       [ 2.09212822],\n",
       "       [ 0.95828189],\n",
       "       [ 0.39922211],\n",
       "       [ 2.25769245],\n",
       "       [ 1.39370757],\n",
       "       [ 0.52963403],\n",
       "       [ 1.92070458],\n",
       "       [ 0.90743059],\n",
       "       [ 1.24821124],\n",
       "       [ 1.89336897],\n",
       "       [ 1.42142238],\n",
       "       [ 1.00245591],\n",
       "       [ 1.1728412 ],\n",
       "       [ 0.60125958],\n",
       "       [ 1.56452393],\n",
       "       [ 0.51636681],\n",
       "       [ 0.62880503],\n",
       "       [ 1.16875827],\n",
       "       [ 1.26755476],\n",
       "       [ 1.52284911],\n",
       "       [ 0.64943898],\n",
       "       [ 0.84977742],\n",
       "       [ 1.98331252],\n",
       "       [ 0.62205002],\n",
       "       [ 0.42730399],\n",
       "       [ 1.14199774],\n",
       "       [ 0.30289603],\n",
       "       [ 1.54103606],\n",
       "       [ 1.37763411],\n",
       "       [ 2.18108601],\n",
       "       [ 0.95936864],\n",
       "       [ 0.78895599],\n",
       "       [ 0.4080456 ],\n",
       "       [ 0.41146893],\n",
       "       [ 1.16985308],\n",
       "       [ 0.88897887],\n",
       "       [ 1.83837714]])"
      ]
     },
     "execution_count": 48,
     "metadata": {},
     "output_type": "execute_result"
    }
   ],
   "source": [
    "weights = kernel(X, X_new.reshape(1, -1))\n",
    "weights"
   ]
  },
  {
   "cell_type": "code",
   "execution_count": 49,
   "metadata": {},
   "outputs": [
    {
     "data": {
      "text/plain": [
       "array([[ 1.04914167],\n",
       "       [ 0.62839226],\n",
       "       [ 0.81509843],\n",
       "       [ 0.57952787],\n",
       "       [ 0.60095564]])"
      ]
     },
     "execution_count": 49,
     "metadata": {},
     "output_type": "execute_result"
    }
   ],
   "source": [
    "weights = gpr.kernel_(X, X_new.reshape(1, -1))\n",
    "weights[:5]"
   ]
  },
  {
   "cell_type": "code",
   "execution_count": 50,
   "metadata": {},
   "outputs": [
    {
     "data": {
      "text/plain": [
       "array([-43.])"
      ]
     },
     "execution_count": 50,
     "metadata": {},
     "output_type": "execute_result"
    }
   ],
   "source": [
    "pred.dot(weights)"
   ]
  },
  {
   "cell_type": "code",
   "execution_count": 51,
   "metadata": {},
   "outputs": [
    {
     "ename": "ValueError",
     "evalue": "shapes (105,) and (107,1) not aligned: 105 (dim 0) != 107 (dim 0)",
     "output_type": "error",
     "traceback": [
      "\u001b[0;31m---------------------------------------------------------------------------\u001b[0m",
      "\u001b[0;31mValueError\u001b[0m                                Traceback (most recent call last)",
      "\u001b[0;32m<ipython-input-51-5e703712e0be>\u001b[0m in \u001b[0;36m<module>\u001b[0;34m()\u001b[0m\n\u001b[0;32m----> 1\u001b[0;31m \u001b[0mgpr\u001b[0m\u001b[0;34m.\u001b[0m\u001b[0malpha_\u001b[0m\u001b[0;34m.\u001b[0m\u001b[0mdot\u001b[0m\u001b[0;34m(\u001b[0m\u001b[0mweights\u001b[0m\u001b[0;34m)\u001b[0m\u001b[0;34m\u001b[0m\u001b[0m\n\u001b[0m",
      "\u001b[0;31mValueError\u001b[0m: shapes (105,) and (107,1) not aligned: 105 (dim 0) != 107 (dim 0)"
     ]
    }
   ],
   "source": [
    "gpr.alpha_.dot(weights)"
   ]
  },
  {
   "cell_type": "code",
   "execution_count": 52,
   "metadata": {},
   "outputs": [],
   "source": [
    "guilty = pig.indices[y_pred > 50]"
   ]
  },
  {
   "cell_type": "code",
   "execution_count": 53,
   "metadata": {
    "collapsed": true
   },
   "outputs": [],
   "source": [
    "guilty = pig.indices[:20]"
   ]
  },
  {
   "cell_type": "code",
   "execution_count": 54,
   "metadata": {},
   "outputs": [
    {
     "data": {
      "text/plain": [
       "Counter({-2.2103356628975352: 2,\n",
       "         -1.2103356628975352: 2,\n",
       "         -0.21033566289753525: 2,\n",
       "         1.7896643371024648: 11,\n",
       "         2.7896643371024648: 3})"
      ]
     },
     "execution_count": 54,
     "metadata": {},
     "output_type": "execute_result"
    }
   ],
   "source": [
    "Counter(pig.data[:20])"
   ]
  },
  {
   "cell_type": "code",
   "execution_count": 55,
   "metadata": {},
   "outputs": [
    {
     "data": {
      "text/plain": [
       "array([], dtype=float64)"
      ]
     },
     "execution_count": 55,
     "metadata": {},
     "output_type": "execute_result"
    }
   ],
   "source": [
    "y_pred[y_pred > 50]"
   ]
  },
  {
   "cell_type": "code",
   "execution_count": 56,
   "metadata": {},
   "outputs": [
    {
     "data": {
      "text/plain": [
       "<matplotlib.image.AxesImage at 0x11f6866a0>"
      ]
     },
     "execution_count": 56,
     "metadata": {},
     "output_type": "execute_result"
    },
    {
     "data": {
      "image/png": "[encoded data removed]",
      "text/plain": [
       "<matplotlib.figure.Figure at 0x11a3be128>"
      ]
     },
     "metadata": {},
     "output_type": "display_data"
    }
   ],
   "source": [
    "plt.imshow(np.cov(als.VT.T[guilty]))"
   ]
  },
  {
   "cell_type": "code",
   "execution_count": 57,
   "metadata": {},
   "outputs": [
    {
     "data": {
      "text/plain": [
       "array([0, 1, 2, 3, 4, 5, 6, 7, 8, 9], dtype=int32)"
      ]
     },
     "execution_count": 57,
     "metadata": {},
     "output_type": "execute_result"
    }
   ],
   "source": [
    "guilty[:10]"
   ]
  },
  {
   "cell_type": "code",
   "execution_count": 58,
   "metadata": {},
   "outputs": [
    {
     "data": {
      "text/plain": [
       "0.801**2 * DotProduct(sigma_0=0.76)"
      ]
     },
     "execution_count": 58,
     "metadata": {},
     "output_type": "execute_result"
    }
   ],
   "source": [
    "gpr.kernel_"
   ]
  },
  {
   "cell_type": "code",
   "execution_count": 59,
   "metadata": {},
   "outputs": [
    {
     "data": {
      "text/plain": [
       "{'alpha': 0.9,\n",
       " 'copy_X_train': True,\n",
       " 'kernel': 0.949**2 * DotProduct(sigma_0=1),\n",
       " 'kernel__k1': 0.949**2,\n",
       " 'kernel__k1__constant_value': 0.9,\n",
       " 'kernel__k1__constant_value_bounds': (1e-05, 100000.0),\n",
       " 'kernel__k2': DotProduct(sigma_0=1),\n",
       " 'kernel__k2__sigma_0': 1.0,\n",
       " 'kernel__k2__sigma_0_bounds': (1e-05, 100000.0),\n",
       " 'n_restarts_optimizer': 0,\n",
       " 'normalize_y': False,\n",
       " 'optimizer': 'fmin_l_bfgs_b',\n",
       " 'random_state': None}"
      ]
     },
     "execution_count": 59,
     "metadata": {},
     "output_type": "execute_result"
    }
   ],
   "source": [
    "gpr.get_params()"
   ]
  },
  {
   "cell_type": "code",
   "execution_count": 60,
   "metadata": {},
   "outputs": [
    {
     "data": {
      "text/plain": [
       "<matplotlib.image.AxesImage at 0x11f7016d8>"
      ]
     },
     "execution_count": 60,
     "metadata": {},
     "output_type": "execute_result"
    },
    {
     "data": {
      "image/png": "[encoded data removed]",
      "text/plain": [
       "<matplotlib.figure.Figure at 0x11f73d978>"
      ]
     },
     "metadata": {},
     "output_type": "display_data"
    }
   ],
   "source": [
    "#np.linalg.det()\n",
    "cov = np.cov(als.VT.T[pig.indices[:30]])\n",
    "plt.imshow(cov)"
   ]
  },
  {
   "cell_type": "code",
   "execution_count": 61,
   "metadata": {},
   "outputs": [
    {
     "data": {
      "text/plain": [
       "array([ 0.0531541 ,  0.03905729,  0.11382829,  0.0447088 ,  0.05784416,\n",
       "        0.02760635,  0.00659575,  0.12144195,  0.0167539 ,  0.0210036 ,\n",
       "        0.02944408, -0.01121308,  0.0203992 ,  0.0198531 ,  0.02756664,\n",
       "        0.04594382,  0.03408747,  0.01731666,  0.01083626,  0.01149602,\n",
       "        0.03742922, -0.05167034,  0.02904299,  0.05177385,  0.03735967,\n",
       "        0.02254538,  0.04660038,  0.01783532,  0.00906832,  0.01378673])"
      ]
     },
     "execution_count": 61,
     "metadata": {},
     "output_type": "execute_result"
    }
   ],
   "source": [
    "cov[7, :]"
   ]
  },
  {
   "cell_type": "code",
   "execution_count": 62,
   "metadata": {},
   "outputs": [
    {
     "data": {
      "text/plain": [
       "array([ 0.07967224,  0.12180739,  0.06198533,  0.04967855,  0.05004935,\n",
       "        0.0341269 ,  0.057377  ,  0.03905729,  0.01743427,  0.03511715,\n",
       "        0.03772754, -0.00099334,  0.0292265 ,  0.03042943,  0.03569733,\n",
       "        0.02671516,  0.05521841,  0.06137909,  0.02615148,  0.02599375,\n",
       "        0.02946341, -0.04375509,  0.04032839,  0.05977282,  0.04084252,\n",
       "        0.04632531,  0.06241668,  0.05672471, -0.00979841,  0.02902152])"
      ]
     },
     "execution_count": 62,
     "metadata": {},
     "output_type": "execute_result"
    }
   ],
   "source": [
    "cov[1, :]"
   ]
  },
  {
   "cell_type": "code",
   "execution_count": 63,
   "metadata": {},
   "outputs": [
    {
     "data": {
      "text/plain": [
       "array([ 1, 18], dtype=int32)"
      ]
     },
     "execution_count": 63,
     "metadata": {},
     "output_type": "execute_result"
    }
   ],
   "source": [
    "pig.indices[[1, 18]]"
   ]
  },
  {
   "cell_type": "markdown",
   "metadata": {},
   "source": [
    "## Linear kernel"
   ]
  },
  {
   "cell_type": "code",
   "execution_count": 65,
   "metadata": {},
   "outputs": [],
   "source": [
    "from mangaki.utils.dpp2 import MangakiDPP\n",
    "\n",
    "rated = als.VT.T[pig.indices]\n",
    "dpp = MangakiDPP(vectors=rated)\n",
    "dpp.compute_similarity(kernel)\n",
    "dpp.preprocess()"
   ]
  },
  {
   "cell_type": "code",
   "execution_count": 66,
   "metadata": {},
   "outputs": [
    {
     "data": {
      "text/plain": [
       "array([ 15,  21,  92,  33, 104])"
      ]
     },
     "execution_count": 66,
     "metadata": {},
     "output_type": "execute_result"
    }
   ],
   "source": [
    "dpp.sample_k(5)"
   ]
  },
  {
   "cell_type": "code",
   "execution_count": 67,
   "metadata": {},
   "outputs": [
    {
     "data": {
      "text/plain": [
       "415"
      ]
     },
     "execution_count": 67,
     "metadata": {},
     "output_type": "execute_result"
    }
   ],
   "source": [
    "len(i_test)"
   ]
  },
  {
   "cell_type": "code",
   "execution_count": 68,
   "metadata": {
    "collapsed": true
   },
   "outputs": [],
   "source": [
    "all_vectors = als.VT.T[pig.indices]  # pig.indices\n",
    "\n",
    "def bgs(nb_questions):\n",
    "    global all_vectors\n",
    "    rated_works = range(len(all_vectors))  # pig.getnnz()\n",
    "    P = all_vectors[rated_works].dot(all_vectors[rated_works].T)\n",
    "    nb_works = len(rated_works)\n",
    "    # print(nb_works, nb_questions)\n",
    "    kept_indices = set(range(nb_works))\n",
    "    get_bgs = {}\n",
    "    for _ in range(nb_works - nb_questions):\n",
    "        k_min = None\n",
    "        error_min = float('inf')\n",
    "        for k in kept_indices:\n",
    "            kept = list(kept_indices - set([k]))\n",
    "            try:\n",
    "                #error = np.trace(np.linalg.inv(P[np.ix_(kept, kept)]))\n",
    "                #error = 1 / compute_score(kept, 'det')\n",
    "                error = np.linalg.det(np.linalg.inv(P[np.ix_(kept, kept)]))\n",
    "            except:\n",
    "                print('I had to take', nb_questions, 'but I must stop at', len(kept_indices))\n",
    "                return list(kept_indices)\n",
    "            if error < error_min:\n",
    "                error_min = error\n",
    "                k_min = k\n",
    "        kept_indices -= set([k_min])\n",
    "        get_bgs[len(kept_indices)] = np.array(list(kept_indices))\n",
    "    sampled_indices = list(kept_indices)\n",
    "    return np.array(sampled_indices), get_bgs"
   ]
  },
  {
   "cell_type": "code",
   "execution_count": 69,
   "metadata": {},
   "outputs": [
    {
     "name": "stderr",
     "output_type": "stream",
     "text": [
      "/Users/jilljenn/code/mangaki/venv/lib/python3.6/site-packages/numpy/linalg/linalg.py:1804: RuntimeWarning: overflow encountered in det\n",
      "  r = _umath_linalg.det(a, signature=signature)\n"
     ]
    }
   ],
   "source": [
    "_, get_bgs = bgs(2)"
   ]
  },
  {
   "cell_type": "code",
   "execution_count": 72,
   "metadata": {},
   "outputs": [
    {
     "name": "stdout",
     "output_type": "stream",
     "text": [
      "2 bgs rmse 1.80465406602\n",
      "2 dpp rmse 1.8046537624\n",
      "2 random rmse 1.98302890642\n",
      "4 bgs rmse 1.85589733363\n",
      "4 dpp rmse 1.85589808362\n",
      "4 random rmse 1.85589828376\n",
      "6 bgs rmse 1.7429056573\n",
      "6 dpp rmse 1.57823278324\n",
      "6 random rmse 1.67013482709\n",
      "8 bgs rmse 2.0016460718\n",
      "8 dpp rmse 1.46788796792\n",
      "8 random rmse 1.59423865622\n",
      "10 bgs rmse 1.96371846727\n",
      "10 dpp rmse 2.16334333612\n",
      "10 random rmse 1.82980894476\n",
      "12 bgs rmse 2.10634053097\n",
      "12 dpp rmse 1.90219494673\n",
      "12 random rmse 1.61482900399\n",
      "14 bgs rmse 2.04627298405\n",
      "14 dpp rmse 1.52138737187\n",
      "14 random rmse 1.67442092471\n",
      "16 bgs rmse 1.92248573705\n",
      "16 dpp rmse 1.65159986534\n",
      "16 random rmse 1.52264897446\n",
      "18 bgs rmse 1.8967301161\n",
      "18 dpp rmse 1.49478794451\n",
      "18 random rmse 1.48110762328\n",
      "20 bgs rmse 1.72944637803\n",
      "20 dpp rmse 1.41783213906\n",
      "20 random rmse 1.47636549845\n",
      "22 bgs rmse 1.72889736894\n",
      "22 dpp rmse 1.51244697529\n",
      "22 random rmse 1.6146557006\n",
      "24 bgs rmse 1.70385724199\n",
      "24 dpp rmse 1.53097856898\n",
      "24 random rmse 1.38345321866\n",
      "26 bgs rmse 1.54867324313\n"
     ]
    },
    {
     "name": "stderr",
     "output_type": "stream",
     "text": [
      "/Users/jilljenn/code/mangaki/venv/lib/python3.6/site-packages/ipykernel_launcher.py:31: RuntimeWarning: invalid value encountered in log\n"
     ]
    },
    {
     "name": "stdout",
     "output_type": "stream",
     "text": [
      "26 dpp rmse 1.46951036284\n",
      "26 random rmse 1.60185371372\n",
      "28 bgs rmse 1.60239459244\n",
      "28 dpp rmse 1.52548694441\n",
      "28 random rmse 1.46786144729\n",
      "30 bgs rmse 1.7262194357\n",
      "30 dpp rmse 1.37482659249\n",
      "30 random rmse 1.77598888048\n",
      "32 bgs rmse 1.79332687088\n",
      "32 dpp rmse 1.32760954412\n",
      "32 random rmse 1.66191327373\n",
      "34 bgs rmse 1.88069280838\n",
      "34 dpp rmse 1.37926385681\n",
      "34 random rmse 1.43069533806\n",
      "36 bgs rmse 1.81199076283\n",
      "36 dpp rmse 1.3213540757\n",
      "36 random rmse 1.38946072483\n",
      "38 bgs rmse 1.71663281287\n",
      "38 dpp rmse 1.35819910504\n",
      "38 random rmse 1.48463600773\n",
      "40 bgs rmse 1.71386063844\n",
      "40 dpp rmse 1.46945411423\n",
      "40 random rmse 1.50075640216\n",
      "42 bgs rmse 1.67593068699\n",
      "42 dpp rmse 1.39692618122\n",
      "42 random rmse 1.35098717597\n",
      "44 bgs rmse 1.56478742651\n"
     ]
    },
    {
     "name": "stderr",
     "output_type": "stream",
     "text": [
      "/Users/jilljenn/code/mangaki/venv/lib/python3.6/site-packages/ipykernel_launcher.py:31: RuntimeWarning: divide by zero encountered in log\n"
     ]
    },
    {
     "name": "stdout",
     "output_type": "stream",
     "text": [
      "44 dpp rmse 1.34708746019\n",
      "44 random rmse 1.28273715911\n",
      "46 bgs rmse 1.57201654485\n",
      "46 dpp rmse 1.39431476849\n",
      "46 random rmse 1.45970878622\n",
      "48 bgs rmse 1.58385241904\n",
      "48 dpp rmse 1.36144033966\n",
      "48 random rmse 1.31569722051\n",
      "50 bgs rmse 1.62080527454\n",
      "50 dpp rmse 1.34273534417\n",
      "50 random rmse 1.36075875297\n",
      "52 bgs rmse 1.62393800565\n",
      "52 dpp rmse 1.35118049069\n",
      "52 random rmse 1.32010376096\n",
      "54 bgs rmse 1.59226019179\n",
      "54 dpp rmse 1.31320093096\n",
      "54 random rmse 1.26541837153\n",
      "56 bgs rmse 1.58498757136\n",
      "56 dpp rmse 1.27084501973\n",
      "56 random rmse 1.2958092057\n",
      "58 bgs rmse 1.61600565428\n",
      "58 dpp rmse 1.35078372067\n",
      "58 random rmse 1.32501311029\n",
      "60 bgs rmse 1.62164300863\n",
      "60 dpp rmse 1.30313981938\n",
      "60 random rmse 1.30064499917\n",
      "62 bgs rmse 1.60626692225\n",
      "62 dpp rmse 1.28556647372\n",
      "62 random rmse 1.4172641569\n",
      "64 bgs rmse 1.62383735645\n",
      "64 dpp rmse 1.35087478099\n",
      "64 random rmse 1.3094348975\n",
      "66 bgs rmse 1.5072120298\n",
      "66 dpp rmse 1.27788408575\n",
      "66 random rmse 1.28388236332\n",
      "68 bgs rmse 1.44471530164\n",
      "68 dpp rmse 1.25379787035\n",
      "68 random rmse 1.29046617176\n",
      "70 bgs rmse 1.44674561621\n",
      "70 dpp rmse 1.27085210184\n",
      "70 random rmse 1.27330046068\n",
      "72 bgs rmse 1.40179091513\n",
      "72 dpp rmse 1.27791661024\n",
      "72 random rmse 1.41991510087\n",
      "74 bgs rmse 1.39872270408\n",
      "74 dpp rmse 1.32829617746\n",
      "74 random rmse 1.24662894514\n",
      "76 bgs rmse 1.377456911\n",
      "76 dpp rmse 1.2474214777\n",
      "76 random rmse 1.33863599498\n",
      "78 bgs rmse 1.37866634653\n",
      "78 dpp rmse 1.2790827338\n",
      "78 random rmse 1.25550223252\n",
      "80 bgs rmse 1.37524527326\n",
      "80 dpp rmse 1.2532545968\n",
      "80 random rmse 1.2189482866\n"
     ]
    },
    {
     "data": {
      "image/png": "[encoded data removed]",
      "text/plain": [
       "<matplotlib.figure.Figure at 0x1207489e8>"
      ]
     },
     "metadata": {},
     "output_type": "display_data"
    }
   ],
   "source": [
    "import random\n",
    "from collections import defaultdict\n",
    "\n",
    "fig, axes = plt.subplots(3, 1, figsize=(16, 10))\n",
    "plot = {}\n",
    "plot['rmse'], plot['sigma'], plot['det'] = axes\n",
    "\n",
    "STRATEGIES = ['bgs', 'dpp', 'random'] # , ':\n",
    "\n",
    "#gpr = GaussianProcessRegressor(kernel=0.1 * kernel)\n",
    "BATCH_SIZE = 40\n",
    "steps = []\n",
    "values = defaultdict(lambda: defaultdict(list))\n",
    "#sigmas = defaultdict(list)\n",
    "#errors = defaultdict(list)\n",
    "#errors_min = defaultdict(list)\n",
    "#errors_max = defaultdict(list)\n",
    "total_rated = pig.getnnz()\n",
    "for nb_rated in list(range(2, 81, 2)):\n",
    "    steps.append(nb_rated)\n",
    "    for strategy in STRATEGIES:\n",
    "        if strategy == 'random':\n",
    "            pos = random.sample(range(total_rated), nb_rated)\n",
    "        elif strategy == 'dpp':\n",
    "            pos = dpp.sample_k(nb_rated)\n",
    "        else:\n",
    "            pos = get_bgs[nb_rated]\n",
    "        work_ids = pig.indices[pos]\n",
    "        ratings = pig.data[pos]\n",
    "        X_asked = als.VT.T[work_ids]\n",
    "        values['det'][strategy].append(np.log(np.linalg.det(kernel(X_asked))))\n",
    "        \n",
    "        gpr.fit(X_asked, ratings)\n",
    "        y_pred, sigma = gpr.predict(als.VT.T[pig.indices], return_std=True)\n",
    "        fix(y_pred)\n",
    "        rmse = mean_squared_error(pig.data, y_pred) ** 0.5\n",
    "        rmse_up = abs(rmse - mean_squared_error(pig.data, y_pred + 1.96 * sigma) ** 0.5)\n",
    "        rmse_down = abs(rmse - mean_squared_error(pig.data, y_pred - 1.96 * sigma) ** 0.5)\n",
    "        values['sigma'][strategy].append(sigma.mean())\n",
    "        values['rmse'][strategy].append(rmse)\n",
    "        values['rmse_up'][strategy].append(rmse_up)\n",
    "        values['rmse_down'][strategy].append(rmse_down)\n",
    "        print(nb_rated, strategy, 'rmse', rmse)\n",
    "        #print(y_pred[:5], pig.data[:5])\n",
    "curves = defaultdict(list)\n",
    "#sigma_curves = []\n",
    "for strategy in STRATEGIES:\n",
    "    for value in ['sigma', 'det']:\n",
    "        curves[value].append(plot[value].errorbar(steps, values[value][strategy], label=strategy))\n",
    "    curves['rmse'].append(plot['rmse'].errorbar(steps, values['rmse'][strategy],\n",
    "                                                yerr=[values['rmse_down'][strategy], values['rmse_up'][strategy]],\n",
    "                                                label=strategy))\n",
    "for value in ['rmse', 'sigma', 'det']:\n",
    "    plot[value].legend(handles=curves[value])\n",
    "plt.xlabel('Number of questions asked')\n",
    "plot['rmse'].set_ylabel('RMSE')\n",
    "plot['det'].set_ylabel('determinant')\n",
    "plot['sigma'].set_ylabel('variance')\n",
    "plt.show()"
   ]
  },
  {
   "cell_type": "code",
   "execution_count": 104,
   "metadata": {},
   "outputs": [],
   "source": [
    "nb_rated = 15\n",
    "rand_ids = random.sample(range(total_rated), nb_rated)\n",
    "bgs_ids = get_bgs[nb_rated]\n",
    "dpp_ids = dpp.sample_k(nb_rated)"
   ]
  },
  {
   "cell_type": "code",
   "execution_count": 105,
   "metadata": {},
   "outputs": [
    {
     "name": "stdout",
     "output_type": "stream",
     "text": [
      "1.01319837277e-20 1.77006292843\n"
     ]
    },
    {
     "data": {
      "image/png": "[encoded data removed]",
      "text/plain": [
       "<matplotlib.figure.Figure at 0x120a632b0>"
      ]
     },
     "metadata": {},
     "output_type": "display_data"
    },
    {
     "name": "stdout",
     "output_type": "stream",
     "text": [
      "5.07643930341e-19 1.65619298621\n"
     ]
    },
    {
     "data": {
      "image/png": "[encoded data removed]",
      "text/plain": [
       "<matplotlib.figure.Figure at 0x120bc2390>"
      ]
     },
     "metadata": {},
     "output_type": "display_data"
    },
    {
     "name": "stdout",
     "output_type": "stream",
     "text": [
      "5.32166853508e-18 2.08200409715\n"
     ]
    },
    {
     "data": {
      "image/png": "[encoded data removed]",
      "text/plain": [
       "<matplotlib.figure.Figure at 0x12208b898>"
      ]
     },
     "metadata": {},
     "output_type": "display_data"
    }
   ],
   "source": [
    "for pos in [rand_ids, bgs_ids, dpp_ids]:\n",
    "    cov = np.cov(als.VT.T[pig.indices[pos]])\n",
    "    plt.imshow(cov)\n",
    "    print(np.linalg.det(cov), np.trace(cov))\n",
    "    plt.show()"
   ]
  },
  {
   "cell_type": "markdown",
   "metadata": {},
   "source": [
    "## RBF kernel"
   ]
  },
  {
   "cell_type": "code",
   "execution_count": 73,
   "metadata": {
    "collapsed": true
   },
   "outputs": [],
   "source": [
    "from sklearn.gaussian_process.kernels import RBF"
   ]
  },
  {
   "cell_type": "code",
   "execution_count": 74,
   "metadata": {
    "collapsed": true
   },
   "outputs": [],
   "source": [
    "rated = als.VT.T[pig.indices]\n",
    "rbf = RBF()\n",
    "dpprbf = MangakiDPP(vectors=rated)\n",
    "dpprbf.L = rbf(dpprbf.vectors)\n",
    "dpprbf.preprocess()"
   ]
  },
  {
   "cell_type": "code",
   "execution_count": 78,
   "metadata": {},
   "outputs": [
    {
     "name": "stdout",
     "output_type": "stream",
     "text": [
      "5 random rmse 1.62780164887\n",
      "[ 1.44104639  1.55033494  1.41606993  2.78966434  2.64359267] [ 1.78966434  1.78966434  2.78966434  2.78966434  1.78966434]\n",
      "5 dpp rmse 1.68166800017\n",
      "[ 0.45476035  0.42948055  0.46961632  0.22468041  0.21667369] [ 1.78966434  1.78966434  2.78966434  2.78966434  1.78966434]\n",
      "5 bgs rmse 1.63146627546\n",
      "[ 0.33725783  0.40444808  0.98263677  0.34368167  0.40565303] [ 1.78966434  1.78966434  2.78966434  2.78966434  1.78966434]\n",
      "10 random rmse 1.65297511884\n",
      "[ 1.36620645  1.21321005  1.6768777  -0.1793142  -0.03934739] [ 1.78966434  1.78966434  2.78966434  2.78966434  1.78966434]\n",
      "10 dpp rmse 1.46822697402\n",
      "[ 1.18027129  1.6645525   1.36421709  1.55840062  1.65847299] [ 1.78966434  1.78966434  2.78966434  2.78966434  1.78966434]\n",
      "10 bgs rmse 2.00879803832\n",
      "[-0.53851842 -0.50523959  0.59036009 -0.14889553 -0.13956204] [ 1.78966434  1.78966434  2.78966434  2.78966434  1.78966434]\n",
      "20 random rmse 1.36201771848\n",
      "[ 1.78966434  1.37396847  1.67129652  0.854122    0.97524165] [ 1.78966434  1.78966434  2.78966434  2.78966434  1.78966434]\n",
      "20 dpp rmse 1.38363735519\n",
      "[ 0.95365408  1.78966434  0.9764391   0.14051804  0.28440767] [ 1.78966434  1.78966434  2.78966434  2.78966434  1.78966434]\n",
      "20 bgs rmse 1.60105969501\n",
      "[-0.01608786 -0.6939022   0.82984639  0.1790606   0.28822029] [ 1.78966434  1.78966434  2.78966434  2.78966434  1.78966434]\n",
      "50 random rmse 1.1308677699\n",
      "[ 1.25182329  1.72963378  1.59169044  2.78966434  1.78966434] [ 1.78966434  1.78966434  2.78966434  2.78966434  1.78966434]\n",
      "50 dpp rmse 1.08639436436\n",
      "[ 1.78966434  1.99491299  1.21173409  2.78966434  1.78966434] [ 1.78966434  1.78966434  2.78966434  2.78966434  1.78966434]\n",
      "50 bgs rmse 1.10771327606\n",
      "[ 0.9706169   0.64836846  0.91022641  0.20773434  0.18604305] [ 1.78966434  1.78966434  2.78966434  2.78966434  1.78966434]\n",
      "75 random rmse 0.806529023552\n",
      "[ 1.78966434  1.78966434  2.78966434  2.78966434  1.78966434] [ 1.78966434  1.78966434  2.78966434  2.78966434  1.78966434]\n",
      "75 dpp rmse 0.75198205352\n",
      "[ 1.78966434  1.78966434  1.70677348  1.09547636  1.78966434] [ 1.78966434  1.78966434  2.78966434  2.78966434  1.78966434]\n",
      "75 bgs rmse 0.840981384648\n",
      "[ 0.80375891  0.52062322  1.32860701  0.38149105  0.53035224] [ 1.78966434  1.78966434  2.78966434  2.78966434  1.78966434]\n"
     ]
    },
    {
     "data": {
      "image/png": "[encoded data removed]",
      "text/plain": [
       "<matplotlib.figure.Figure at 0x120aa0da0>"
      ]
     },
     "metadata": {},
     "output_type": "display_data"
    }
   ],
   "source": [
    "import random\n",
    "from collections import defaultdict\n",
    "\n",
    "kernel = DotProduct()\n",
    "gpr = GaussianProcessRegressor()\n",
    "BATCH_SIZE = 40\n",
    "steps = []\n",
    "errors = defaultdict(list)\n",
    "errors_min = defaultdict(list)\n",
    "errors_max = defaultdict(list)\n",
    "total_rated = pig.getnnz()\n",
    "for nb_rated in [5, 10, 20, 50, 75]:\n",
    "    steps.append(nb_rated)\n",
    "    for strategy in ['random', 'dpp', 'bgs']:\n",
    "        if strategy == 'random':\n",
    "            pos = random.sample(range(total_rated), nb_rated)\n",
    "        elif strategy == 'dpp':\n",
    "            pos = dpprbf.sample_k(nb_rated)\n",
    "        elif strategy == 'bgs':\n",
    "            pos = get_bgs[nb_rated]\n",
    "        work_ids = pig.indices[pos]\n",
    "        ratings = pig.data[pos]\n",
    "        \n",
    "        gpr.fit(als.VT.T[work_ids], ratings)\n",
    "        y_pred, sigma = gpr.predict(als.VT.T[pig.indices], return_std=True)\n",
    "        rmse = mean_squared_error(pig.data, y_pred) ** 0.5\n",
    "        rmse_max = mean_squared_error(pig.data, y_pred + 1.96 * sigma) ** 0.5\n",
    "        rmse_min = mean_squared_error(pig.data, y_pred - 1.96 * sigma) ** 0.5\n",
    "        errors[strategy].append(rmse)\n",
    "        errors_max[strategy].append(abs(rmse_max - rmse))\n",
    "        errors_min[strategy].append(abs(rmse_min - rmse))\n",
    "        print(nb_rated, strategy, 'rmse', rmse)\n",
    "        print(y_pred[:5], pig.data[:5])\n",
    "rand_curve = plt.errorbar(steps, errors['random'], yerr=[errors_min['random'], errors_max['random']], label='random')\n",
    "dpp_curve = plt.errorbar(steps, errors['dpp'], yerr=[errors_min['dpp'], errors_max['dpp']], color='r', label='dpp')\n",
    "bgs_curve = plt.errorbar(steps, errors['bgs'], yerr=[errors_min['bgs'], errors_max['bgs']], color='g', label='bgs')\n",
    "\n",
    "plt.legend(handles=[rand_curve, dpp_curve, bgs_curve])\n",
    "plt.show()"
   ]
  },
  {
   "cell_type": "code",
   "execution_count": 201,
   "metadata": {
    "collapsed": true
   },
   "outputs": [],
   "source": [
    "X = np.random.random((5, 2))*100\n",
    "eig, _ = np.linalg.eig(X.dot(X.T))"
   ]
  },
  {
   "cell_type": "code",
   "execution_count": 204,
   "metadata": {},
   "outputs": [
    {
     "data": {
      "text/plain": [
       "array([ 18630.,     -0.,   3416.,      0.,     -0.])"
      ]
     },
     "execution_count": 204,
     "metadata": {},
     "output_type": "execute_result"
    }
   ],
   "source": [
    "np.round(eig)"
   ]
  },
  {
   "cell_type": "code",
   "execution_count": null,
   "metadata": {
    "collapsed": true
   },
   "outputs": [],
   "source": []
  }
 ],
 "metadata": {
  "kernelspec": {
   "display_name": "Django Shell-Plus",
   "language": "python",
   "name": "django_extensions"
  },
  "language_info": {
   "codemirror_mode": {
    "name": "ipython",
    "version": 3
   },
   "file_extension": ".py",
   "mimetype": "text/x-python",
   "name": "python",
   "nbconvert_exporter": "python",
   "pygments_lexer": "ipython3",
   "version": "3.6.3"
  }
 },
 "nbformat": 4,
 "nbformat_minor": 2
}
