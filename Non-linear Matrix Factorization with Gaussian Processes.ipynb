{
 "cells": [
  {
   "cell_type": "markdown",
   "metadata": {},
   "source": [
    "# Non-linear Matrix Factorization with Gaussian Processes"
   ]
  },
  {
   "cell_type": "markdown",
   "metadata": {},
   "source": [
    "This is an attempt to reproduce [this ICML 2009 paper](http://people.ee.duke.edu/~lcarin/MatrixFactorization.pdf)."
   ]
  },
  {
   "cell_type": "code",
   "execution_count": 1,
   "metadata": {
    "collapsed": true
   },
   "outputs": [],
   "source": [
    "import tensorflow as tf\n",
    "DEVICE = \"/cpu:0\""
   ]
  },
  {
   "cell_type": "code",
   "execution_count": 8,
   "metadata": {
    "collapsed": true
   },
   "outputs": [],
   "source": [
    "from collections import Counter"
   ]
  },
  {
   "cell_type": "code",
   "execution_count": 11,
   "metadata": {
    "collapsed": true
   },
   "outputs": [],
   "source": [
    "N = 100  # items\n",
    "D = 2071  # users\n",
    "q = 10  # latent dimension"
   ]
  },
  {
   "cell_type": "code",
   "execution_count": 12,
   "metadata": {
    "collapsed": true
   },
   "outputs": [],
   "source": [
    "# Simulated data\n",
    "import numpy as np\n",
    "from sklearn.preprocessing import scale\n",
    "\n",
    "def get_simulated_data(true_alpha_x=5, true_alpha_w=2, true_sigma=1):\n",
    "    X = np.random.randint(50, size=(N, q))\n",
    "    #X = np.random.normal(0, 1/true_alpha_x, (N, q))\n",
    "    W = np.random.normal(0, 1/true_alpha_w, (D, q))\n",
    "    rating_rows = []\n",
    "    for i in range(N):\n",
    "        rating_rows.append(np.random.multivariate_normal(W.dot(X[i, :]), true_sigma ** 2 * np.eye(D)))\n",
    "    Y = np.array(rating_rows)\n",
    "    Y_scaled = scale(Y, axis=1, with_std=False)\n",
    "    return Y, Y_scaled"
   ]
  },
  {
   "cell_type": "code",
   "execution_count": 13,
   "metadata": {
    "collapsed": true
   },
   "outputs": [],
   "source": [
    "rating_values = {'dislike': 1, 'wontsee': 2, 'neutral': 3, 'willsee': 4, 'like': 5, 'favorite': 6}"
   ]
  },
  {
   "cell_type": "code",
   "execution_count": 14,
   "metadata": {
    "collapsed": true
   },
   "outputs": [],
   "source": [
    "# Real data\n",
    "from mangaki.algo.dataset import Dataset\n",
    "#from mangaki.utils.values import rating_values\n",
    "\n",
    "dataset = Dataset()\n",
    "dataset.load_csv('ratings-ordered.csv', convert=lambda choice: rating_values[choice])"
   ]
  },
  {
   "cell_type": "code",
   "execution_count": 15,
   "metadata": {
    "collapsed": true
   },
   "outputs": [],
   "source": [
    "from scipy.sparse import coo_matrix\n",
    "\n",
    "rows = dataset.anonymized.X[:, 0]\n",
    "cols = dataset.anonymized.X[:, 1]\n",
    "data = dataset.anonymized.y\n",
    "mangaki = coo_matrix((data, (rows, cols)), shape=(dataset.anonymized.nb_users, dataset.anonymized.nb_works)).tocsr()"
   ]
  },
  {
   "cell_type": "code",
   "execution_count": 16,
   "metadata": {
    "collapsed": true
   },
   "outputs": [],
   "source": [
    "from collections import defaultdict\n",
    "\n",
    "inverter = defaultdict(list)\n",
    "for user_id in range(D):\n",
    "    batch = mangaki[user_id, :]\n",
    "    c = Counter(batch.data)\n",
    "    inverter[tuple(c[rating_values[rating]] for rating in ['dislike', 'favorite', 'like', 'neutral', 'willsee', 'wontsee'])].append(user_id)"
   ]
  },
  {
   "cell_type": "code",
   "execution_count": 17,
   "metadata": {},
   "outputs": [
    {
     "data": {
      "text/plain": [
       "[162]"
      ]
     },
     "execution_count": 17,
     "metadata": {},
     "output_type": "execute_result"
    }
   ],
   "source": [
    "inverter[16, 23, 118, 9, 330, 68]"
   ]
  },
  {
   "cell_type": "code",
   "execution_count": 18,
   "metadata": {},
   "outputs": [
    {
     "data": {
      "text/plain": [
       "<2071x10086 sparse matrix of type '<class 'numpy.float64'>'\n",
       "\twith 333647 stored elements in Compressed Sparse Row format>"
      ]
     },
     "execution_count": 18,
     "metadata": {},
     "output_type": "execute_result"
    }
   ],
   "source": [
    "mangaki"
   ]
  },
  {
   "cell_type": "markdown",
   "metadata": {},
   "source": [
    "Now skip to ALS."
   ]
  },
  {
   "cell_type": "code",
   "execution_count": 132,
   "metadata": {},
   "outputs": [
    {
     "data": {
      "text/plain": [
       "<2071x100 sparse matrix of type '<class 'numpy.float64'>'\n",
       "\twith 78195 stored elements in Compressed Sparse Row format>"
      ]
     },
     "execution_count": 132,
     "metadata": {},
     "output_type": "execute_result"
    }
   ],
   "source": [
    "mangaki[:, :100]"
   ]
  },
  {
   "cell_type": "code",
   "execution_count": 133,
   "metadata": {
    "collapsed": true
   },
   "outputs": [],
   "source": [
    "Y = mangaki[:, :100].tocoo().T.tocsr()\n",
    "for movie_id in range(N):\n",
    "    row = Y[movie_id, :]\n",
    "    for user_id, replace in zip(row.indices, scale(row.data)):\n",
    "        Y[movie_id, user_id] = replace"
   ]
  },
  {
   "cell_type": "code",
   "execution_count": 134,
   "metadata": {
    "collapsed": true
   },
   "outputs": [],
   "source": [
    "dataset = coo_matrix(Y)\n",
    "#dataset = coo_matrix(Y_scaled)"
   ]
  },
  {
   "cell_type": "code",
   "execution_count": 135,
   "metadata": {},
   "outputs": [
    {
     "data": {
      "text/plain": [
       "<100x2071 sparse matrix of type '<class 'numpy.float64'>'\n",
       "\twith 78195 stored elements in Compressed Sparse Row format>"
      ]
     },
     "execution_count": 135,
     "metadata": {},
     "output_type": "execute_result"
    }
   ],
   "source": [
    "Y"
   ]
  },
  {
   "cell_type": "code",
   "execution_count": 136,
   "metadata": {},
   "outputs": [
    {
     "name": "stdout",
     "output_type": "stream",
     "text": [
      "nb users skipped 465 over 2071\n"
     ]
    }
   ],
   "source": [
    "# Prepare batches\n",
    "from sklearn.model_selection import ShuffleSplit\n",
    "\n",
    "# Simple split\n",
    "splitter = ShuffleSplit(n_splits=1, test_size=0.2)\n",
    "for i_train, i_test in splitter.split(dataset.data):\n",
    "    train = coo_matrix((dataset.data[i_train], (dataset.row[i_train], dataset.col[i_train])), shape=(N, D)).tocsc()\n",
    "    test = coo_matrix((dataset.data[i_test], (dataset.row[i_test], dataset.col[i_test])), shape=(N, D)).tocsc()\n",
    "\n",
    "# Split by user\n",
    "train_data = []\n",
    "train_row = []\n",
    "train_col = []\n",
    "test_data = []\n",
    "test_row = []\n",
    "test_col = []\n",
    "full = dataset.tocsc()\n",
    "nb_skip = 0\n",
    "train_users = set(range(D))\n",
    "for user_id in range(D):\n",
    "    this_user = full[:, user_id]\n",
    "    N_j = this_user.getnnz()\n",
    "    if N_j <= q:\n",
    "        train_users.remove(user_id)\n",
    "        nb_skip += 1\n",
    "        continue\n",
    "    for i_train, i_test in splitter.split(this_user.indices):\n",
    "        train_col.extend([user_id] * len(i_train))\n",
    "        train_row.extend(this_user.indices[i_train])\n",
    "        train_data.extend(this_user.data[i_train])\n",
    "        test_col.extend([user_id] * len(i_test))\n",
    "        test_row.extend(this_user.indices[i_test])\n",
    "        test_data.extend(this_user.data[i_test])\n",
    "print('nb users skipped', nb_skip, 'over', D)"
   ]
  },
  {
   "cell_type": "code",
   "execution_count": 137,
   "metadata": {
    "collapsed": true
   },
   "outputs": [],
   "source": [
    "assert len(train_data) == len(train_row)\n",
    "assert len(test_data) == len(test_row)"
   ]
  },
  {
   "cell_type": "code",
   "execution_count": 138,
   "metadata": {
    "collapsed": true
   },
   "outputs": [],
   "source": [
    "train = coo_matrix((train_data, (train_row, train_col)), shape=(N, D)).tocsc()\n",
    "test = coo_matrix((test_data, (test_row, test_col)), shape=(N, D)).tocsc()"
   ]
  },
  {
   "cell_type": "code",
   "execution_count": 139,
   "metadata": {},
   "outputs": [
    {
     "data": {
      "text/plain": [
       "<100x2071 sparse matrix of type '<class 'numpy.float64'>'\n",
       "\twith 60093 stored elements in Compressed Sparse Column format>"
      ]
     },
     "execution_count": 139,
     "metadata": {},
     "output_type": "execute_result"
    }
   ],
   "source": [
    "train"
   ]
  },
  {
   "cell_type": "code",
   "execution_count": 140,
   "metadata": {},
   "outputs": [
    {
     "data": {
      "text/plain": [
       "<100x2071 sparse matrix of type '<class 'numpy.float64'>'\n",
       "\twith 15842 stored elements in Compressed Sparse Column format>"
      ]
     },
     "execution_count": 140,
     "metadata": {},
     "output_type": "execute_result"
    }
   ],
   "source": [
    "test"
   ]
  },
  {
   "cell_type": "code",
   "execution_count": 141,
   "metadata": {
    "collapsed": true
   },
   "outputs": [],
   "source": [
    "item_batch = tf.placeholder(tf.int32, shape=[None], name=\"id_item\")\n",
    "rate_batch = tf.placeholder(tf.float32, shape=[None, None], name=\"rate\")\n",
    "pred_batch = tf.placeholder(tf.int32, shape=[None], name=\"id_pred\")"
   ]
  },
  {
   "cell_type": "code",
   "execution_count": 142,
   "metadata": {
    "collapsed": true
   },
   "outputs": [],
   "source": [
    "def log_det(cov):\n",
    "    return 2 * tf.reduce_sum(tf.log(tf.diag_part(tf.cholesky(cov))))"
   ]
  },
  {
   "cell_type": "code",
   "execution_count": 146,
   "metadata": {
    "collapsed": true
   },
   "outputs": [],
   "source": [
    "def kernel(X, Y):\n",
    "    return tf.matmul(X, tf.transpose(Y))\n",
    "\n",
    "class MFGP:\n",
    "    def __init__(self):\n",
    "        with tf.device(DEVICE):\n",
    "            with tf.variable_scope(\"conv1\"):\n",
    "                self.sigma = tf.Variable(1e-1, name=\"sigma\")  # tf.random_normal([1])\n",
    "                self.alpha_w = tf.Variable(tf.random_normal([1]), name=\"alpha_w\")\n",
    "                self.X_item = tf.Variable(tf.random_normal([N, q], stddev=5), name=\"embd_item\")\n",
    "\n",
    "    def predict(self, item_batch, rate_batch, pred_batch):\n",
    "        with tf.device(DEVICE):\n",
    "            X_batch = tf.nn.embedding_lookup(self.X_item, item_batch)\n",
    "            X_pred = tf.nn.embedding_lookup(self.X_item, pred_batch)\n",
    "            N_j = tf.shape(item_batch)[0]\n",
    "            cov = kernel(X_batch, X_batch) + self.sigma ** 2 * tf.eye(N_j)\n",
    "            s = tf.matmul(tf.matrix_inverse(cov), kernel(X_batch, X_pred))\n",
    "            prediction = tf.matmul(tf.transpose(s), rate_batch)\n",
    "        return tf.reshape(prediction, [-1])\n",
    "\n",
    "    def get_loss(self, item_batch, rate_batch):\n",
    "        with tf.device(DEVICE):\n",
    "            X_batch = tf.nn.embedding_lookup(self.X_item, item_batch)\n",
    "            XT_batch = tf.transpose(X_batch)\n",
    "            N_j = tf.shape(item_batch)[0]\n",
    "            defpos = kernel(X_batch, X_batch)\n",
    "            cov = 1/tf.abs(self.alpha_w) * defpos + self.sigma ** 2 * tf.eye(N_j)\n",
    "            # inv_cov = tf.matrix_inverse(cov)  # O(N_j^3)\n",
    "            cheap_inv = tf.matrix_inverse(tf.abs(self.alpha_w) * self.sigma ** (-2) * tf.eye(q)\n",
    "                                          + tf.matmul(XT_batch, X_batch))\n",
    "            inv_cov = self.sigma ** (-2) - self.sigma ** (-4) * tf.matmul(X_batch, tf.matmul(cheap_inv, XT_batch))  # O(q^3)\n",
    "            loss = (tf.cast(N_j, tf.float32) * log_det(cov)\n",
    "                    + tf.reshape(tf.matmul(tf.transpose(rate_batch), tf.matmul(inv_cov, rate_batch)), []))\n",
    "        return loss, (cov, defpos, X_batch)\n",
    "\n",
    "    def optimization(self, item_batch, rate_batch, learning_rate):\n",
    "        global_step = tf.train.get_global_step()\n",
    "        assert global_step is not None\n",
    "        with tf.device(DEVICE):\n",
    "            loss, (cov, defpos, X_batch) = self.get_loss(item_batch, rate_batch)\n",
    "            train_op = tf.train.MomentumOptimizer(learning_rate, 0.9, use_nesterov=True).minimize(loss, global_step=global_step, var_list=[self.X_item])\n",
    "        return loss, train_op, (cov, defpos, X_batch)"
   ]
  },
  {
   "cell_type": "code",
   "execution_count": 147,
   "metadata": {
    "collapsed": true
   },
   "outputs": [],
   "source": [
    "def to_matrix(l):\n",
    "    return np.array(l).reshape(len(l), 1)"
   ]
  },
  {
   "cell_type": "code",
   "execution_count": 148,
   "metadata": {},
   "outputs": [
    {
     "name": "stdout",
     "output_type": "stream",
     "text": [
      "user_id | epoch | train_error | val_error | elapsed_time\n",
      "epoch=  0 train_rmse=7.099235 (1.000710) test_rmse=6.157351 (1.003259) total_nll=-287224265.353516 sigma=0.100000 alpha_w=1.753959\n",
      "epoch=  1 train_rmse=2.079178 (1.000710) test_rmse=2.118881 (1.003259) total_nll=-298726846.699219 sigma=0.100000 alpha_w=1.753959\n",
      "epoch=  2 train_rmse=11.680286 (1.000710) test_rmse=9.852969 (1.003259) total_nll=-302750440.118164 sigma=0.100000 alpha_w=1.753959\n",
      "epoch=  3 train_rmse=19.395447 (1.000710) test_rmse=15.919051 (1.003259) total_nll=-304895133.985352 sigma=0.100000 alpha_w=1.753959\n",
      "epoch=  4 train_rmse=27.530071 (1.000710) test_rmse=28.348537 (1.003259) total_nll=-306099596.312500 sigma=0.100000 alpha_w=1.753959\n",
      "epoch=  5 train_rmse=9.603479 (1.000710) test_rmse=9.229228 (1.003259) total_nll=-307085520.960938 sigma=0.100000 alpha_w=1.753959\n"
     ]
    },
    {
     "ename": "KeyboardInterrupt",
     "evalue": "",
     "output_type": "error",
     "traceback": [
      "\u001b[0;31m---------------------------------------------------------------------------\u001b[0m",
      "\u001b[0;31mKeyboardInterrupt\u001b[0m                         Traceback (most recent call last)",
      "\u001b[0;32m<ipython-input-148-8270c7bbc49b>\u001b[0m in \u001b[0;36m<module>\u001b[0;34m()\u001b[0m\n\u001b[1;32m     46\u001b[0m             \u001b[0;32mfor\u001b[0m \u001b[0muser_id\u001b[0m \u001b[0;32min\u001b[0m \u001b[0mtrain_users\u001b[0m\u001b[0;34m:\u001b[0m\u001b[0;34m\u001b[0m\u001b[0m\n\u001b[1;32m     47\u001b[0m                 \u001b[0mtrain_batch\u001b[0m \u001b[0;34m=\u001b[0m \u001b[0mtrain\u001b[0m\u001b[0;34m[\u001b[0m\u001b[0;34m:\u001b[0m\u001b[0;34m,\u001b[0m \u001b[0muser_id\u001b[0m\u001b[0;34m]\u001b[0m\u001b[0;34m\u001b[0m\u001b[0m\n\u001b[0;32m---> 48\u001b[0;31m                 \u001b[0mtest_batch\u001b[0m \u001b[0;34m=\u001b[0m \u001b[0mtest\u001b[0m\u001b[0;34m[\u001b[0m\u001b[0;34m:\u001b[0m\u001b[0;34m,\u001b[0m \u001b[0muser_id\u001b[0m\u001b[0;34m]\u001b[0m\u001b[0;34m\u001b[0m\u001b[0m\n\u001b[0m\u001b[1;32m     49\u001b[0m                 \u001b[0mitems_rated\u001b[0m\u001b[0;34m,\u001b[0m \u001b[0mratings\u001b[0m \u001b[0;34m=\u001b[0m \u001b[0mtrain_batch\u001b[0m\u001b[0;34m.\u001b[0m\u001b[0mindices\u001b[0m\u001b[0;34m,\u001b[0m \u001b[0mto_matrix\u001b[0m\u001b[0;34m(\u001b[0m\u001b[0mtrain_batch\u001b[0m\u001b[0;34m.\u001b[0m\u001b[0mdata\u001b[0m\u001b[0;34m)\u001b[0m\u001b[0;34m\u001b[0m\u001b[0m\n\u001b[1;32m     50\u001b[0m                 \u001b[0mitems_to_pred\u001b[0m\u001b[0;34m,\u001b[0m \u001b[0mtruth\u001b[0m \u001b[0;34m=\u001b[0m \u001b[0mtest_batch\u001b[0m\u001b[0;34m.\u001b[0m\u001b[0mindices\u001b[0m\u001b[0;34m,\u001b[0m \u001b[0mtest_batch\u001b[0m\u001b[0;34m.\u001b[0m\u001b[0mdata\u001b[0m\u001b[0;34m\u001b[0m\u001b[0m\n",
      "\u001b[0;32m/Users/jilljenn/code/mangaki/venv/lib/python3.6/site-packages/scipy/sparse/csc.py\u001b[0m in \u001b[0;36m__getitem__\u001b[0;34m(self, key)\u001b[0m\n\u001b[1;32m    167\u001b[0m         if (isinstance(row, slice) or isinstance(col, slice) or\n\u001b[1;32m    168\u001b[0m                 isintlike(row) or isintlike(col)):\n\u001b[0;32m--> 169\u001b[0;31m             \u001b[0;32mreturn\u001b[0m \u001b[0mself\u001b[0m\u001b[0;34m.\u001b[0m\u001b[0mT\u001b[0m\u001b[0;34m[\u001b[0m\u001b[0mcol\u001b[0m\u001b[0;34m,\u001b[0m \u001b[0mrow\u001b[0m\u001b[0;34m]\u001b[0m\u001b[0;34m.\u001b[0m\u001b[0mT\u001b[0m\u001b[0;34m\u001b[0m\u001b[0m\n\u001b[0m\u001b[1;32m    170\u001b[0m         \u001b[0;31m# Things that return a sequence of values.\u001b[0m\u001b[0;34m\u001b[0m\u001b[0;34m\u001b[0m\u001b[0m\n\u001b[1;32m    171\u001b[0m         \u001b[0;32melse\u001b[0m\u001b[0;34m:\u001b[0m\u001b[0;34m\u001b[0m\u001b[0m\n",
      "\u001b[0;32m/Users/jilljenn/code/mangaki/venv/lib/python3.6/site-packages/scipy/sparse/base.py\u001b[0m in \u001b[0;36m__getattr__\u001b[0;34m(self, attr)\u001b[0m\n\u001b[1;32m    564\u001b[0m             \u001b[0;32mreturn\u001b[0m \u001b[0mself\u001b[0m\u001b[0;34m.\u001b[0m\u001b[0mtoarray\u001b[0m\u001b[0;34m(\u001b[0m\u001b[0;34m)\u001b[0m\u001b[0;34m\u001b[0m\u001b[0m\n\u001b[1;32m    565\u001b[0m         \u001b[0;32melif\u001b[0m \u001b[0mattr\u001b[0m \u001b[0;34m==\u001b[0m \u001b[0;34m'T'\u001b[0m\u001b[0;34m:\u001b[0m\u001b[0;34m\u001b[0m\u001b[0m\n\u001b[0;32m--> 566\u001b[0;31m             \u001b[0;32mreturn\u001b[0m \u001b[0mself\u001b[0m\u001b[0;34m.\u001b[0m\u001b[0mtranspose\u001b[0m\u001b[0;34m(\u001b[0m\u001b[0;34m)\u001b[0m\u001b[0;34m\u001b[0m\u001b[0m\n\u001b[0m\u001b[1;32m    567\u001b[0m         \u001b[0;32melif\u001b[0m \u001b[0mattr\u001b[0m \u001b[0;34m==\u001b[0m \u001b[0;34m'H'\u001b[0m\u001b[0;34m:\u001b[0m\u001b[0;34m\u001b[0m\u001b[0m\n\u001b[1;32m    568\u001b[0m             \u001b[0;32mreturn\u001b[0m \u001b[0mself\u001b[0m\u001b[0;34m.\u001b[0m\u001b[0mgetH\u001b[0m\u001b[0;34m(\u001b[0m\u001b[0;34m)\u001b[0m\u001b[0;34m\u001b[0m\u001b[0m\n",
      "\u001b[0;32m/Users/jilljenn/code/mangaki/venv/lib/python3.6/site-packages/scipy/sparse/csc.py\u001b[0m in \u001b[0;36mtranspose\u001b[0;34m(self, axes, copy)\u001b[0m\n\u001b[1;32m    120\u001b[0m         \u001b[0;32mfrom\u001b[0m \u001b[0;34m.\u001b[0m\u001b[0mcsr\u001b[0m \u001b[0;32mimport\u001b[0m \u001b[0mcsr_matrix\u001b[0m\u001b[0;34m\u001b[0m\u001b[0m\n\u001b[1;32m    121\u001b[0m         return csr_matrix((self.data, self.indices,\n\u001b[0;32m--> 122\u001b[0;31m                            self.indptr), (N, M), copy=copy)\n\u001b[0m\u001b[1;32m    123\u001b[0m \u001b[0;34m\u001b[0m\u001b[0m\n\u001b[1;32m    124\u001b[0m     \u001b[0mtranspose\u001b[0m\u001b[0;34m.\u001b[0m\u001b[0m__doc__\u001b[0m \u001b[0;34m=\u001b[0m \u001b[0mspmatrix\u001b[0m\u001b[0;34m.\u001b[0m\u001b[0mtranspose\u001b[0m\u001b[0;34m.\u001b[0m\u001b[0m__doc__\u001b[0m\u001b[0;34m\u001b[0m\u001b[0m\n",
      "\u001b[0;32m/Users/jilljenn/code/mangaki/venv/lib/python3.6/site-packages/scipy/sparse/compressed.py\u001b[0m in \u001b[0;36m__init__\u001b[0;34m(self, arg1, shape, dtype, copy)\u001b[0m\n\u001b[1;32m     81\u001b[0m         \u001b[0;31m# Read matrix dimensions given, if any\u001b[0m\u001b[0;34m\u001b[0m\u001b[0;34m\u001b[0m\u001b[0m\n\u001b[1;32m     82\u001b[0m         \u001b[0;32mif\u001b[0m \u001b[0mshape\u001b[0m \u001b[0;32mis\u001b[0m \u001b[0;32mnot\u001b[0m \u001b[0;32mNone\u001b[0m\u001b[0;34m:\u001b[0m\u001b[0;34m\u001b[0m\u001b[0m\n\u001b[0;32m---> 83\u001b[0;31m             \u001b[0mself\u001b[0m\u001b[0;34m.\u001b[0m\u001b[0mshape\u001b[0m \u001b[0;34m=\u001b[0m \u001b[0mshape\u001b[0m   \u001b[0;31m# spmatrix will check for errors\u001b[0m\u001b[0;34m\u001b[0m\u001b[0m\n\u001b[0m\u001b[1;32m     84\u001b[0m         \u001b[0;32melse\u001b[0m\u001b[0;34m:\u001b[0m\u001b[0;34m\u001b[0m\u001b[0m\n\u001b[1;32m     85\u001b[0m             \u001b[0;32mif\u001b[0m \u001b[0mself\u001b[0m\u001b[0;34m.\u001b[0m\u001b[0mshape\u001b[0m \u001b[0;32mis\u001b[0m \u001b[0;32mNone\u001b[0m\u001b[0;34m:\u001b[0m\u001b[0;34m\u001b[0m\u001b[0m\n",
      "\u001b[0;32m/Users/jilljenn/code/mangaki/venv/lib/python3.6/site-packages/scipy/sparse/base.py\u001b[0m in \u001b[0;36mset_shape\u001b[0;34m(self, shape)\u001b[0m\n\u001b[1;32m     90\u001b[0m             \u001b[0;32mraise\u001b[0m \u001b[0mValueError\u001b[0m\u001b[0;34m(\u001b[0m\u001b[0;34m'invalid shape'\u001b[0m\u001b[0;34m)\u001b[0m\u001b[0;34m\u001b[0m\u001b[0m\n\u001b[1;32m     91\u001b[0m \u001b[0;34m\u001b[0m\u001b[0m\n\u001b[0;32m---> 92\u001b[0;31m         \u001b[0;32mif\u001b[0m \u001b[0;34m(\u001b[0m\u001b[0mself\u001b[0m\u001b[0;34m.\u001b[0m\u001b[0m_shape\u001b[0m \u001b[0;34m!=\u001b[0m \u001b[0mshape\u001b[0m\u001b[0;34m)\u001b[0m \u001b[0;32mand\u001b[0m \u001b[0;34m(\u001b[0m\u001b[0mself\u001b[0m\u001b[0;34m.\u001b[0m\u001b[0m_shape\u001b[0m \u001b[0;32mis\u001b[0m \u001b[0;32mnot\u001b[0m \u001b[0;32mNone\u001b[0m\u001b[0;34m)\u001b[0m\u001b[0;34m:\u001b[0m\u001b[0;34m\u001b[0m\u001b[0m\n\u001b[0m\u001b[1;32m     93\u001b[0m             \u001b[0;32mtry\u001b[0m\u001b[0;34m:\u001b[0m\u001b[0;34m\u001b[0m\u001b[0m\n\u001b[1;32m     94\u001b[0m                 \u001b[0mself\u001b[0m \u001b[0;34m=\u001b[0m \u001b[0mself\u001b[0m\u001b[0;34m.\u001b[0m\u001b[0mreshape\u001b[0m\u001b[0;34m(\u001b[0m\u001b[0mshape\u001b[0m\u001b[0;34m)\u001b[0m\u001b[0;34m\u001b[0m\u001b[0m\n",
      "\u001b[0;31mKeyboardInterrupt\u001b[0m: "
     ]
    }
   ],
   "source": [
    "from sklearn.metrics import mean_squared_error\n",
    "from collections import deque\n",
    "import time\n",
    "import random\n",
    "import sys\n",
    "\n",
    "mfgp = MFGP()\n",
    "prediction = mfgp.predict(item_batch, rate_batch, pred_batch)\n",
    "\n",
    "global_step = tf.contrib.framework.get_or_create_global_step()\n",
    "loss, train_op, (cov, defpos, X_batch) = mfgp.optimization(item_batch, rate_batch, learning_rate=0.0001)\n",
    "\n",
    "init_op = tf.global_variables_initializer()\n",
    "with tf.Session() as sess:\n",
    "    sess.run(init_op)\n",
    "    print(\" | \".join([\"user_id\", \"epoch\", \"train_error\", \"val_error\", \"elapsed_time\"]))\n",
    "    errors = []\n",
    "    for epoch in range(50):\n",
    "        cross = list(train_users)\n",
    "        random.shuffle(cross)\n",
    "        train_preds = []\n",
    "        train_ratings = []\n",
    "        for user_id in cross:\n",
    "            train_batch = train[:, user_id]\n",
    "            if train_batch.getnnz() == 0:\n",
    "                continue\n",
    "            items_rated, ratings = train_batch.indices, to_matrix(train_batch.data)\n",
    "            try:\n",
    "                sess.run(train_op, feed_dict={item_batch: items_rated,\n",
    "                                              rate_batch: ratings,\n",
    "                                              pred_batch: items_rated})\n",
    "            except Exception as e:\n",
    "                print('Error for %d (%s): %s' % (user_id, str(items_rated), sys.exc_info()[0]))\n",
    "                print('Sigma', mfgp.sigma.eval(), 'alpha_w', mfgp.alpha_w.eval())\n",
    "                print(sess.run([tf.shape(X_batch), X_batch], feed_dict={item_batch: items_rated, rate_batch: ratings, pred_batch: items_rated}))\n",
    "                print(sess.run(tf.matrix_determinant(defpos), feed_dict={item_batch: items_rated, rate_batch: ratings, pred_batch: items_rated}))\n",
    "                print(sess.run(tf.matrix_determinant(cov), feed_dict={item_batch: items_rated, rate_batch: ratings, pred_batch: items_rated}))\n",
    "                print(e.message)\n",
    "                print(sys.exc_info()[0].__doc__)\n",
    "\n",
    "        # End of train epoch, start test\n",
    "        if epoch % 1 == 0:\n",
    "            total_nll = []\n",
    "            test_truth = []\n",
    "            test_preds = []\n",
    "            for user_id in train_users:\n",
    "                train_batch = train[:, user_id]\n",
    "                test_batch = test[:, user_id]\n",
    "                items_rated, ratings = train_batch.indices, to_matrix(train_batch.data)\n",
    "                items_to_pred, truth = test_batch.indices, test_batch.data\n",
    "                try:\n",
    "                    this_user_nll, train_pred = sess.run([loss, prediction], feed_dict={item_batch: items_rated,\n",
    "                                                                                        rate_batch: ratings,\n",
    "                                                                                        pred_batch: items_rated})\n",
    "                except:\n",
    "                    print('Error for train %d (%s): %s' % (user_id, str(items_rated), sys.exc_info()[0]))\n",
    "                try:\n",
    "                    test_pred = sess.run(prediction, feed_dict={item_batch: items_rated,\n",
    "                                                                rate_batch: ratings,\n",
    "                                                                pred_batch: items_to_pred})\n",
    "                except:\n",
    "                    print('Error for test %d (%s): %s' % (user_id, str(items_to_pred), sys.exc_info()[0]))\n",
    "                total_nll.append(this_user_nll)\n",
    "                train_ratings.extend(ratings)\n",
    "                train_preds.extend(train_pred)\n",
    "                test_truth.extend(truth)\n",
    "                test_preds.extend(test_pred)\n",
    "            train_rmse = np.sqrt(mean_squared_error(train_ratings, train_preds))            \n",
    "            train_stupid = np.sqrt(mean_squared_error(train_ratings, [0] * len(train_ratings)))            \n",
    "            test_rmse = np.sqrt(mean_squared_error(test_truth, test_preds))\n",
    "            test_stupid = np.sqrt(mean_squared_error(test_truth, [0] * len(test_truth)))\n",
    "            print(\"epoch={:3d} train_rmse={:f} ({:f}) test_rmse={:f} ({:f}) total_nll={:f} sigma={:f} alpha_w={:f}\"\n",
    "                  .format(epoch, train_rmse, train_stupid, test_rmse, test_stupid,\n",
    "                          sum(total_nll), abs(float(mfgp.sigma.eval())), abs(float(mfgp.alpha_w.eval()))))\n",
    "    print('learned sigma')\n",
    "    print(mfgp.sigma.eval())\n",
    "    print('learned alpha_w')\n",
    "    print(mfgp.alpha_w.eval())\n",
    "    print('learned x')\n",
    "    print(mfgp.x_item.eval())"
   ]
  },
  {
   "cell_type": "markdown",
   "metadata": {},
   "source": [
    "(The error is because it was interrupted.)\n",
    "\n",
    "As you can see, the learning stops when the stupid RMSE (every prediction is 0) is obtained."
   ]
  },
  {
   "cell_type": "markdown",
   "metadata": {},
   "source": [
    "# Meanwhile, Alternating Least Squares…"
   ]
  },
  {
   "cell_type": "code",
   "execution_count": 11,
   "metadata": {},
   "outputs": [
    {
     "data": {
      "text/plain": [
       "<2071x10086 sparse matrix of type '<class 'numpy.float64'>'\n",
       "\twith 333647 stored elements in Compressed Sparse Row format>"
      ]
     },
     "execution_count": 11,
     "metadata": {},
     "output_type": "execute_result"
    }
   ],
   "source": [
    "mangaki"
   ]
  },
  {
   "cell_type": "code",
   "execution_count": 12,
   "metadata": {},
   "outputs": [
    {
     "data": {
      "text/plain": [
       "array([ 5.,  5.,  5.,  5.,  5.,  5.,  5.,  3.,  5.,  3.])"
      ]
     },
     "execution_count": 12,
     "metadata": {},
     "output_type": "execute_result"
    }
   ],
   "source": [
    "mangaki.data[:10]"
   ]
  },
  {
   "cell_type": "code",
   "execution_count": 13,
   "metadata": {
    "collapsed": true
   },
   "outputs": [],
   "source": [
    "from sklearn.model_selection import ShuffleSplit\n",
    "\n",
    "splitter = ShuffleSplit(n_splits=1, test_size=0.2)\n",
    "X_train = []\n",
    "y_train = []\n",
    "X_test = []\n",
    "y_test = []\n",
    "for i_train, i_test in splitter.split(range(D)):\n",
    "    i_train = set(i_train)\n",
    "    i_test = set(i_test)\n",
    "    for (user_id, work_id), rating in zip(dataset.anonymized.X, dataset.anonymized.y):\n",
    "        if user_id in i_train:\n",
    "            X_train.append((user_id, work_id))\n",
    "            y_train.append(rating)\n",
    "        else:\n",
    "            X_test.append((user_id, work_id))\n",
    "            y_test.append(rating)\n",
    "X_train = np.array(X_train)\n",
    "y_train = np.array(y_train)\n",
    "X_test = np.array(X_test)\n",
    "y_test = np.array(y_test)"
   ]
  },
  {
   "cell_type": "code",
   "execution_count": 14,
   "metadata": {},
   "outputs": [
    {
     "data": {
      "text/plain": [
       "(271963, 61684)"
      ]
     },
     "execution_count": 14,
     "metadata": {},
     "output_type": "execute_result"
    }
   ],
   "source": [
    "len(X_train), len(X_test)"
   ]
  },
  {
   "cell_type": "code",
   "execution_count": 15,
   "metadata": {},
   "outputs": [
    {
     "name": "stdout",
     "output_type": "stream",
     "text": [
      "Computing M: (2071 × 10086)\n",
      "Chrono: fill and center matrix [0q, 858ms]\n",
      "Shapes (2071, 20) (20, 10086)\n",
      "Chrono: factor matrix [0q, 6601ms]\n",
      "Train RMSE= 0.908271075216\n",
      "Test RMSE= 3.87582836308\n"
     ]
    }
   ],
   "source": [
    "from mangaki.algo.als import MangakiALS\n",
    "\n",
    "def compute_all_errors(X_train, y_train, X_test, y_test):\n",
    "    y_train_pred = als.predict(X_train)\n",
    "    print('Train RMSE=', als.compute_rmse(y_train, y_train_pred))\n",
    "    y_test_pred = als.predict(X_test)\n",
    "    print('Test RMSE=', als.compute_rmse(y_test, y_test_pred))\n",
    "\n",
    "als = MangakiALS()\n",
    "als.set_parameters(dataset.anonymized.nb_users, dataset.anonymized.nb_works)\n",
    "als.fit(X_train, y_train)\n",
    "compute_all_errors(X_train, y_train, X_test, y_test)"
   ]
  },
  {
   "cell_type": "code",
   "execution_count": 16,
   "metadata": {},
   "outputs": [
    {
     "data": {
      "text/plain": [
       "0.9082097014276056"
      ]
     },
     "execution_count": 16,
     "metadata": {},
     "output_type": "execute_result"
    }
   ],
   "source": [
    "y_pred = als.predict(X_train)\n",
    "(y_train - y_pred).std()"
   ]
  },
  {
   "cell_type": "markdown",
   "metadata": {},
   "source": [
    "And the learned rows of $U$ seem Gaussian!"
   ]
  },
  {
   "cell_type": "code",
   "execution_count": 17,
   "metadata": {},
   "outputs": [
    {
     "data": {
      "text/plain": [
       "(array([   5.,   23.,   72.,  186.,  412.,  668.,  357.,  212.,  117.,   19.]),\n",
       " array([-1.40553287, -1.1416685 , -0.87780414, -0.61393978, -0.35007541,\n",
       "        -0.08621105,  0.17765332,  0.44151768,  0.70538205,  0.96924641,\n",
       "         1.23311077]),\n",
       " <a list of 10 Patch objects>)"
      ]
     },
     "execution_count": 17,
     "metadata": {},
     "output_type": "execute_result"
    },
    {
     "data": {
      "image/png": "[encoded data removed]",
      "text/plain": [
       "<matplotlib.figure.Figure at 0x1142384a8>"
      ]
     },
     "metadata": {},
     "output_type": "display_data"
    }
   ],
   "source": [
    "%matplotlib inline\n",
    "import matplotlib.pyplot as plt\n",
    "plt.hist(als.U[:, 0])\n",
    "plt.hist(als.U[:, 1])\n",
    "plt.hist(als.U[:, 15])"
   ]
  },
  {
   "cell_type": "code",
   "execution_count": 18,
   "metadata": {},
   "outputs": [
    {
     "data": {
      "text/plain": [
       "(array([  6.20000000e+01,   3.07000000e+02,   1.04700000e+03,\n",
       "          3.46700000e+03,   3.79700000e+03,   1.01200000e+03,\n",
       "          3.08000000e+02,   7.50000000e+01,   9.00000000e+00,\n",
       "          2.00000000e+00]),\n",
       " array([-1.12514553, -0.83165082, -0.53815612, -0.24466141,  0.0488333 ,\n",
       "         0.342328  ,  0.63582271,  0.92931742,  1.22281212,  1.51630683,\n",
       "         1.80980154]),\n",
       " <a list of 10 Patch objects>)"
      ]
     },
     "execution_count": 18,
     "metadata": {},
     "output_type": "execute_result"
    },
    {
     "data": {
      "image/png": "[encoded data removed]",
      "text/plain": [
       "<matplotlib.figure.Figure at 0x1157cf0b8>"
      ]
     },
     "metadata": {},
     "output_type": "display_data"
    }
   ],
   "source": [
    "%matplotlib inline\n",
    "import matplotlib.pyplot as plt\n",
    "plt.hist(als.VT.T[:, 17])\n",
    "plt.hist(als.VT.T[:, 5])"
   ]
  },
  {
   "cell_type": "markdown",
   "metadata": {},
   "source": [
    "Maybe it does not hold for $V$."
   ]
  },
  {
   "cell_type": "code",
   "execution_count": 19,
   "metadata": {},
   "outputs": [
    {
     "data": {
      "text/plain": [
       "<matplotlib.image.AxesImage at 0x114c6fba8>"
      ]
     },
     "execution_count": 19,
     "metadata": {},
     "output_type": "execute_result"
    },
    {
     "data": {
      "image/png": "[encoded data removed]",
      "text/plain": [
       "<matplotlib.figure.Figure at 0x11412ab70>"
      ]
     },
     "metadata": {},
     "output_type": "display_data"
    }
   ],
   "source": [
    "%matplotlib inline\n",
    "\n",
    "cov = np.cov(als.U.T)\n",
    "plt.imshow(cov)"
   ]
  },
  {
   "cell_type": "code",
   "execution_count": 20,
   "metadata": {},
   "outputs": [
    {
     "data": {
      "text/plain": [
       "array([ 0.11525583,  0.15841233,  0.14159525,  0.12137024,  0.11636359,\n",
       "        0.14328949,  0.13612286,  0.14800439,  0.10878458,  0.1228831 ,\n",
       "        0.11313073,  0.1370391 ,  0.1545922 ,  0.14627613,  0.15608236,\n",
       "        0.15818078,  0.12874093,  0.13833517,  0.14749259,  0.11089542])"
      ]
     },
     "execution_count": 20,
     "metadata": {},
     "output_type": "execute_result"
    }
   ],
   "source": [
    "np.diag(cov)"
   ]
  },
  {
   "cell_type": "code",
   "execution_count": 21,
   "metadata": {},
   "outputs": [
    {
     "data": {
      "text/plain": [
       "(2071, 20)"
      ]
     },
     "execution_count": 21,
     "metadata": {},
     "output_type": "execute_result"
    }
   ],
   "source": [
    "als.U.shape"
   ]
  },
  {
   "cell_type": "code",
   "execution_count": 22,
   "metadata": {},
   "outputs": [
    {
     "data": {
      "text/plain": [
       "<matplotlib.image.AxesImage at 0x1163a75c0>"
      ]
     },
     "execution_count": 22,
     "metadata": {},
     "output_type": "execute_result"
    },
    {
     "data": {
      "image/png": "[encoded data removed]",
      "text/plain": [
       "<matplotlib.figure.Figure at 0x117eb5e48>"
      ]
     },
     "metadata": {},
     "output_type": "display_data"
    }
   ],
   "source": [
    "%matplotlib inline\n",
    "\n",
    "cov = np.cov(als.VT)\n",
    "plt.imshow(cov)"
   ]
  },
  {
   "cell_type": "code",
   "execution_count": 23,
   "metadata": {},
   "outputs": [
    {
     "data": {
      "text/plain": [
       "array([ 0.08944496,  0.11974259,  0.10878299,  0.07857169,  0.09702205,\n",
       "        0.09629579,  0.09103101,  0.0834988 ,  0.09279917,  0.10520002,\n",
       "        0.08906699,  0.09576291,  0.09594417,  0.12237933,  0.07727521,\n",
       "        0.10670002,  0.07796169,  0.08883993,  0.08398775,  0.08859226])"
      ]
     },
     "execution_count": 23,
     "metadata": {},
     "output_type": "execute_result"
    }
   ],
   "source": [
    "np.diag(cov)"
   ]
  },
  {
   "cell_type": "markdown",
   "metadata": {},
   "source": [
    "Learned components are independent."
   ]
  },
  {
   "cell_type": "code",
   "execution_count": 24,
   "metadata": {},
   "outputs": [
    {
     "data": {
      "text/plain": [
       "3.2135887637940126"
      ]
     },
     "execution_count": 24,
     "metadata": {},
     "output_type": "execute_result"
    }
   ],
   "source": [
    "als.means.mean()  # Global bias"
   ]
  },
  {
   "cell_type": "code",
   "execution_count": 25,
   "metadata": {},
   "outputs": [
    {
     "data": {
      "text/plain": [
       "False"
      ]
     },
     "execution_count": 25,
     "metadata": {},
     "output_type": "execute_result"
    }
   ],
   "source": [
    "162 in i_test"
   ]
  },
  {
   "cell_type": "code",
   "execution_count": 26,
   "metadata": {
    "collapsed": true
   },
   "outputs": [],
   "source": [
    "users = list(i_test)\n",
    "users.sort(key=lambda user_id: mangaki[user_id, :].getnnz())"
   ]
  },
  {
   "cell_type": "code",
   "execution_count": 27,
   "metadata": {},
   "outputs": [
    {
     "data": {
      "text/plain": [
       "415"
      ]
     },
     "execution_count": 27,
     "metadata": {},
     "output_type": "execute_result"
    }
   ],
   "source": [
    "len(users)"
   ]
  },
  {
   "cell_type": "code",
   "execution_count": 28,
   "metadata": {},
   "outputs": [
    {
     "data": {
      "text/plain": [
       "67"
      ]
     },
     "execution_count": 28,
     "metadata": {},
     "output_type": "execute_result"
    }
   ],
   "source": [
    "PIG = users[200]\n",
    "# 162=JJ\n",
    "pig = mangaki[PIG, :]\n",
    "all_ratings = pig.data\n",
    "#all_ratings -= als.means.mean()\n",
    "pig.getnnz()"
   ]
  },
  {
   "cell_type": "code",
   "execution_count": 29,
   "metadata": {
    "collapsed": true
   },
   "outputs": [],
   "source": [
    "from sklearn.gaussian_process.kernels import DotProduct\n",
    "from sklearn.gaussian_process import GaussianProcessRegressor\n",
    "from sklearn.linear_model import LinearRegression\n",
    "\n",
    "ALPHA = 0.5\n",
    "\n",
    "kernel = 1 * DotProduct(sigma_0=0.5)  # Kernel that will be used for both GP and DPP\n",
    "gpr = GaussianProcessRegressor(kernel=kernel, alpha=ALPHA, optimizer=None, normalize_y=False)  # , optimizer=None\n",
    "lr = LinearRegression()"
   ]
  },
  {
   "cell_type": "code",
   "execution_count": 30,
   "metadata": {},
   "outputs": [
    {
     "ename": "NameError",
     "evalue": "name 'START_PRED' is not defined",
     "output_type": "error",
     "traceback": [
      "\u001b[0;31m---------------------------------------------------------------------------\u001b[0m",
      "\u001b[0;31mNameError\u001b[0m                                 Traceback (most recent call last)",
      "\u001b[0;32m<ipython-input-30-c69016597d5c>\u001b[0m in \u001b[0;36m<module>\u001b[0;34m()\u001b[0m\n\u001b[0;32m----> 1\u001b[0;31m \u001b[0mwork_ids\u001b[0m \u001b[0;34m=\u001b[0m \u001b[0mpig\u001b[0m\u001b[0;34m.\u001b[0m\u001b[0mindices\u001b[0m\u001b[0;34m[\u001b[0m\u001b[0mSTART_PRED\u001b[0m\u001b[0;34m:\u001b[0m\u001b[0;34m]\u001b[0m\u001b[0;34m\u001b[0m\u001b[0m\n\u001b[0m\u001b[1;32m      2\u001b[0m \u001b[0muser_ids\u001b[0m \u001b[0;34m=\u001b[0m \u001b[0;34m[\u001b[0m\u001b[0mPIG\u001b[0m\u001b[0;34m]\u001b[0m \u001b[0;34m*\u001b[0m \u001b[0mlen\u001b[0m\u001b[0;34m(\u001b[0m\u001b[0mwork_ids\u001b[0m\u001b[0;34m)\u001b[0m\u001b[0;34m\u001b[0m\u001b[0m\n\u001b[1;32m      3\u001b[0m \u001b[0my_pred\u001b[0m \u001b[0;34m=\u001b[0m \u001b[0mals\u001b[0m\u001b[0;34m.\u001b[0m\u001b[0mpredict\u001b[0m\u001b[0;34m(\u001b[0m\u001b[0mnp\u001b[0m\u001b[0;34m.\u001b[0m\u001b[0mcolumn_stack\u001b[0m\u001b[0;34m(\u001b[0m\u001b[0;34m(\u001b[0m\u001b[0muser_ids\u001b[0m\u001b[0;34m,\u001b[0m \u001b[0mwork_ids\u001b[0m\u001b[0;34m)\u001b[0m\u001b[0;34m)\u001b[0m\u001b[0;34m)\u001b[0m\u001b[0;34m\u001b[0m\u001b[0m\n\u001b[1;32m      4\u001b[0m \u001b[0mmean_squared_error\u001b[0m\u001b[0;34m(\u001b[0m\u001b[0mpig\u001b[0m\u001b[0;34m.\u001b[0m\u001b[0mdata\u001b[0m\u001b[0;34m[\u001b[0m\u001b[0mSTART_PRED\u001b[0m\u001b[0;34m:\u001b[0m\u001b[0;34m]\u001b[0m\u001b[0;34m,\u001b[0m \u001b[0my_pred\u001b[0m\u001b[0;34m)\u001b[0m \u001b[0;34m**\u001b[0m \u001b[0;36m0.5\u001b[0m\u001b[0;34m\u001b[0m\u001b[0m\n",
      "\u001b[0;31mNameError\u001b[0m: name 'START_PRED' is not defined"
     ]
    }
   ],
   "source": [
    "work_ids = pig.indices[START_PRED:]\n",
    "user_ids = [PIG] * len(work_ids)\n",
    "y_pred = als.predict(np.column_stack((user_ids, work_ids)))\n",
    "mean_squared_error(pig.data[START_PRED:], y_pred) ** 0.5"
   ]
  },
  {
   "cell_type": "code",
   "execution_count": 31,
   "metadata": {},
   "outputs": [
    {
     "name": "stderr",
     "output_type": "stream",
     "text": [
      "/Users/jilljenn/code/mangaki/venv/lib/python3.6/site-packages/scipy/linalg/basic.py:1018: RuntimeWarning: internal gelsd driver lwork query error, required iwork dimension not returned. This is likely the result of LAPACK bug 0038, fixed in LAPACK 3.2.2 (released July 21, 2010). Falling back to 'gelss' driver.\n",
      "  warnings.warn(mesg, RuntimeWarning)\n"
     ]
    },
    {
     "ename": "NameError",
     "evalue": "name 'mean_squared_error' is not defined",
     "output_type": "error",
     "traceback": [
      "\u001b[0;31m---------------------------------------------------------------------------\u001b[0m",
      "\u001b[0;31mNameError\u001b[0m                                 Traceback (most recent call last)",
      "\u001b[0;32m<ipython-input-31-3a2283639d2a>\u001b[0m in \u001b[0;36m<module>\u001b[0;34m()\u001b[0m\n\u001b[1;32m      3\u001b[0m \u001b[0mlr\u001b[0m\u001b[0;34m.\u001b[0m\u001b[0mfit\u001b[0m\u001b[0;34m(\u001b[0m\u001b[0mals\u001b[0m\u001b[0;34m.\u001b[0m\u001b[0mVT\u001b[0m\u001b[0;34m.\u001b[0m\u001b[0mT\u001b[0m\u001b[0;34m[\u001b[0m\u001b[0mwork_ids\u001b[0m\u001b[0;34m]\u001b[0m\u001b[0;34m,\u001b[0m \u001b[0mratings\u001b[0m\u001b[0;34m)\u001b[0m\u001b[0;34m\u001b[0m\u001b[0m\n\u001b[1;32m      4\u001b[0m \u001b[0my_pred\u001b[0m \u001b[0;34m=\u001b[0m \u001b[0mlr\u001b[0m\u001b[0;34m.\u001b[0m\u001b[0mpredict\u001b[0m\u001b[0;34m(\u001b[0m\u001b[0mals\u001b[0m\u001b[0;34m.\u001b[0m\u001b[0mVT\u001b[0m\u001b[0;34m.\u001b[0m\u001b[0mT\u001b[0m\u001b[0;34m[\u001b[0m\u001b[0mwork_ids\u001b[0m\u001b[0;34m]\u001b[0m\u001b[0;34m)\u001b[0m\u001b[0;34m\u001b[0m\u001b[0m\n\u001b[0;32m----> 5\u001b[0;31m \u001b[0mmean_squared_error\u001b[0m\u001b[0;34m(\u001b[0m\u001b[0mpig\u001b[0m\u001b[0;34m.\u001b[0m\u001b[0mdata\u001b[0m\u001b[0;34m,\u001b[0m \u001b[0my_pred\u001b[0m\u001b[0;34m)\u001b[0m \u001b[0;34m**\u001b[0m \u001b[0;36m0.5\u001b[0m\u001b[0;34m\u001b[0m\u001b[0m\n\u001b[0m",
      "\u001b[0;31mNameError\u001b[0m: name 'mean_squared_error' is not defined"
     ]
    }
   ],
   "source": [
    "work_ids = pig.indices\n",
    "ratings = pig.data\n",
    "lr.fit(als.VT.T[work_ids], ratings)\n",
    "y_pred = lr.predict(als.VT.T[work_ids])\n",
    "mean_squared_error(pig.data, y_pred) ** 0.5"
   ]
  },
  {
   "cell_type": "code",
   "execution_count": 32,
   "metadata": {},
   "outputs": [
    {
     "data": {
      "text/plain": [
       "67"
      ]
     },
     "execution_count": 32,
     "metadata": {},
     "output_type": "execute_result"
    }
   ],
   "source": [
    "pig.getnnz()"
   ]
  },
  {
   "cell_type": "code",
   "execution_count": 33,
   "metadata": {},
   "outputs": [
    {
     "name": "stdout",
     "output_type": "stream",
     "text": [
      "stupid has rmse 4.74105599422\n",
      "0.372350843079\n",
      "3.63445825548 to 1.05974876299\n"
     ]
    },
    {
     "data": {
      "text/plain": [
       "[<matplotlib.lines.Line2D at 0x1162d47b8>]"
      ]
     },
     "execution_count": 33,
     "metadata": {},
     "output_type": "execute_result"
    },
    {
     "data": {
      "image/png": "[encoded data removed]",
      "text/plain": [
       "<matplotlib.figure.Figure at 0x114c03c88>"
      ]
     },
     "metadata": {},
     "output_type": "display_data"
    }
   ],
   "source": [
    "from sklearn.metrics import mean_squared_error\n",
    "\n",
    "def fix(x):\n",
    "    x[x > 6] = 6\n",
    "    x[x < 1] = 1\n",
    "\n",
    "START_PRED = 0\n",
    "    \n",
    "BATCH_SIZE = 2\n",
    "steps = []\n",
    "errors = []\n",
    "print('stupid has rmse', mean_squared_error(pig.data[START_PRED:], [0.] * len(pig.data[START_PRED:])) ** 0.5)\n",
    "for t in range(BATCH_SIZE, pig.getnnz() + 1, BATCH_SIZE):  # pig.getnnz() + 1\n",
    "    steps.append(t)\n",
    "    work_ids = pig.indices[:t]\n",
    "    ratings = pig.data[:t]\n",
    "    gpr.fit(als.VT.T[work_ids], ratings)\n",
    "    y_pred, sigma = gpr.predict(als.VT.T[pig.indices[START_PRED:]], return_std=True)\n",
    "    #fix(y_pred)\n",
    "    rmse = mean_squared_error(pig.data[START_PRED:], y_pred) ** 0.5\n",
    "    errors.append(rmse)\n",
    "    #print(t, 'rmse', rmse)\n",
    "    eig = np.linalg.eig(gpr.L_)[0]\n",
    "    #print('eigenvalues', eig.min(), 'to', eig.max())\n",
    "    #print('alpha max', gpr.alpha_.max())\n",
    "    #print(y_pred[START_PRED:START_PRED+5], pig.data[START_PRED:START_PRED+5])\n",
    "    #print(y_pred)\n",
    "    lr.fit(als.VT.T[work_ids], ratings)\n",
    "    y_pred = lr.predict(als.VT.T[pig.indices])\n",
    "    rmse = mean_squared_error(pig.data, y_pred) ** 0.5\n",
    "    #print(t, 'rmse', rmse)\n",
    "    #print(y_pred[:5], pig.data[:5])\n",
    "    #print(y_pred)\n",
    "    #print(pig.data)\n",
    "    #print(pig.indices[y_pred > 10])\n",
    "print(sigma.mean())\n",
    "print(max(errors), 'to', min(errors))\n",
    "plt.plot(steps, errors)"
   ]
  },
  {
   "cell_type": "code",
   "execution_count": 34,
   "metadata": {
    "collapsed": true
   },
   "outputs": [],
   "source": [
    "# gpr.alpha_  # Learned weights for prediction"
   ]
  },
  {
   "cell_type": "code",
   "execution_count": 35,
   "metadata": {
    "collapsed": true
   },
   "outputs": [],
   "source": [
    "# gpr.kernel_  # Learned kernel, should not move"
   ]
  },
  {
   "cell_type": "code",
   "execution_count": 36,
   "metadata": {
    "collapsed": true
   },
   "outputs": [],
   "source": [
    "# np.diag(gpr.L_)  # Learned cholesky of kernel of train"
   ]
  },
  {
   "cell_type": "code",
   "execution_count": 37,
   "metadata": {},
   "outputs": [
    {
     "data": {
      "text/plain": [
       "(array([ 271.,   79.,   21.,   11.,   13.,    6.,    2.,    2.,    1.,\n",
       "           4.,    1.,    0.,    1.,    1.,    2.]),\n",
       " array([  1.00000000e+00,   1.17000000e+02,   2.33000000e+02,\n",
       "          3.49000000e+02,   4.65000000e+02,   5.81000000e+02,\n",
       "          6.97000000e+02,   8.13000000e+02,   9.29000000e+02,\n",
       "          1.04500000e+03,   1.16100000e+03,   1.27700000e+03,\n",
       "          1.39300000e+03,   1.50900000e+03,   1.62500000e+03,\n",
       "          1.74100000e+03]),\n",
       " <a list of 15 Patch objects>)"
      ]
     },
     "execution_count": 37,
     "metadata": {},
     "output_type": "execute_result"
    },
    {
     "data": {
      "image/png": "[encoded data removed]",
      "text/plain": [
       "<matplotlib.figure.Figure at 0x117109c18>"
      ]
     },
     "metadata": {},
     "output_type": "display_data"
    }
   ],
   "source": [
    "plt.hist([mangaki[user_id, :].getnnz() for user_id in i_test], 15)"
   ]
  },
  {
   "cell_type": "markdown",
   "metadata": {},
   "source": [
    "## Linear kernel"
   ]
  },
  {
   "cell_type": "code",
   "execution_count": 38,
   "metadata": {},
   "outputs": [
    {
     "data": {
      "text/plain": [
       "67"
      ]
     },
     "execution_count": 38,
     "metadata": {},
     "output_type": "execute_result"
    }
   ],
   "source": [
    "len(pig.indices)"
   ]
  },
  {
   "cell_type": "code",
   "execution_count": 39,
   "metadata": {
    "collapsed": true
   },
   "outputs": [],
   "source": [
    "from mangaki.utils.dpp2 import MangakiDPP\n",
    "from sklearn.gaussian_process.kernels import RBF\n",
    "\n",
    "def prepare_dpp(rated):\n",
    "    #rbf = RBF()\n",
    "    #rated = als.VT.T[pig.indices]\n",
    "    dpp = MangakiDPP(vectors=rated, REPEAT=5)\n",
    "    #dpp.compute_similarity(kernel)\n",
    "    dpp.L = kernel(rated) + ALPHA * np.eye(len(rated))\n",
    "    #dpp.L = rbf(rated)# + np.eye(len(rated))\n",
    "    dpp.preprocess()\n",
    "    return dpp"
   ]
  },
  {
   "cell_type": "code",
   "execution_count": 40,
   "metadata": {},
   "outputs": [
    {
     "name": "stdout",
     "output_type": "stream",
     "text": [
      "10\n"
     ]
    }
   ],
   "source": [
    "inter = set(range(10086))\n",
    "for user in users[390:500]:\n",
    "    inter &= set(mangaki[user, :].indices)\n",
    "print(len(inter))"
   ]
  },
  {
   "cell_type": "code",
   "execution_count": 41,
   "metadata": {},
   "outputs": [
    {
     "name": "stdout",
     "output_type": "stream",
     "text": [
      "83.1333333333 65.4948751965\n"
     ]
    }
   ],
   "source": [
    "inter = set(range(150))\n",
    "c = []\n",
    "for user in users[250:500]:\n",
    "    c.append(len(set(mangaki[user, :].indices) & inter))\n",
    "print(np.mean(c), 1.96 * np.std(c))"
   ]
  },
  {
   "cell_type": "code",
   "execution_count": 42,
   "metadata": {},
   "outputs": [
    {
     "data": {
      "text/plain": [
       "array([29, 31, 59, 62, 65])"
      ]
     },
     "execution_count": 42,
     "metadata": {},
     "output_type": "execute_result"
    }
   ],
   "source": [
    "rated = als.VT.T[pig.indices]\n",
    "dpp = prepare_dpp(rated)\n",
    "dpp.sample_k(5)"
   ]
  },
  {
   "cell_type": "code",
   "execution_count": 43,
   "metadata": {
    "collapsed": true
   },
   "outputs": [],
   "source": [
    "#all_vectors = als.VT.T[pig.indices]  # pig.indices\n",
    "#all_vectors = als.VT.T[:25]\n",
    "\n",
    "def bgs(rated, nb_questions_min):\n",
    "    #global all_vectors\n",
    "    nb_works = len(rated)\n",
    "    rated_works = range(nb_works)  # pig.getnnz()\n",
    "    #P = all_vectors[rated_works].dot(all_vectors[rated_works].T)\n",
    "    P = kernel(rated) + ALPHA * np.eye(len(rated_works))\n",
    "    # print(nb_works, nb_questions)\n",
    "    kept_indices = set(range(nb_works))\n",
    "    get_bgs = {len(kept_indices): np.array(list(kept_indices))}\n",
    "    for _ in range(nb_works - nb_questions_min):\n",
    "        k_best = None\n",
    "        #error_min = float('inf')\n",
    "        error_max = float('-inf')\n",
    "        for k in kept_indices:\n",
    "            kept = list(kept_indices - set([k]))\n",
    "            try:\n",
    "                #error = np.trace(np.linalg.inv(P[np.ix_(kept, kept)]))\n",
    "                vp = np.abs(np.real(np.linalg.eig(P[np.ix_(kept, kept)])[0]))\n",
    "                if type(vp[0]) == np.complex128:\n",
    "                    print(vp)\n",
    "                    raise Exception\n",
    "                #error = hmean(vp)\n",
    "                error = np.sum(np.log(vp))\n",
    "                #print(error, vp[-1])\n",
    "            except Exception as err:\n",
    "                print('I had to take', nb_questions_min, 'but I must stop at', len(kept_indices))\n",
    "                print(err)\n",
    "                return list(kept_indices)\n",
    "            #print(error)\n",
    "            if error > error_max:#< error_min:\n",
    "                #error_min = error\n",
    "                error_max = error\n",
    "                k_best = k\n",
    "            '''if len(kept) <= 2 and random.random() < 0.1:\n",
    "                print(kept, error, vp)'''\n",
    "        kept_indices -= set([k_best])\n",
    "        get_bgs[len(kept_indices)] = np.array(list(kept_indices))\n",
    "    sampled_indices = list(kept_indices)\n",
    "    return np.array(sampled_indices), get_bgs"
   ]
  },
  {
   "cell_type": "code",
   "execution_count": 44,
   "metadata": {
    "collapsed": true
   },
   "outputs": [],
   "source": [
    "_, get_bgs = bgs(rated, 2)"
   ]
  },
  {
   "cell_type": "code",
   "execution_count": null,
   "metadata": {
    "collapsed": true
   },
   "outputs": [],
   "source": [
    "# 90–250\n",
    "# 250–415"
   ]
  },
  {
   "cell_type": "code",
   "execution_count": 94,
   "metadata": {},
   "outputs": [
    {
     "name": "stdout",
     "output_type": "stream",
     "text": [
      "40 5\n",
      "90 20\n",
      "240 89\n",
      "250 100\n",
      "260 112\n",
      "340 212\n",
      "400 679\n",
      "405 989\n",
      "414 1741\n",
      "415 users\n"
     ]
    }
   ],
   "source": [
    "for pos in [40, 90, 240, 250, 260, 340, 400, 405, len(users) - 1]:\n",
    "    print(pos, mangaki[users[pos], :].getnnz())\n",
    "print(len(users), 'users')"
   ]
  },
  {
   "cell_type": "code",
   "execution_count": 79,
   "metadata": {
    "collapsed": true
   },
   "outputs": [],
   "source": [
    "popular = als.VT.T[:500]\n",
    "popular_dpp = prepare_dpp(popular)"
   ]
  },
  {
   "cell_type": "code",
   "execution_count": 86,
   "metadata": {},
   "outputs": [
    {
     "name": "stdout",
     "output_type": "stream",
     "text": [
      "0:00:01.296691\n"
     ]
    }
   ],
   "source": [
    "from datetime import datetime\n",
    "TEST = 1000\n",
    "start = datetime.now()\n",
    "np.linalg.eig(np.random.random((TEST, TEST)))\n",
    "print(datetime.now() - start)"
   ]
  },
  {
   "cell_type": "code",
   "execution_count": 106,
   "metadata": {},
   "outputs": [
    {
     "name": "stdout",
     "output_type": "stream",
     "text": [
      "250 100\n",
      "251 102\n",
      "252 102\n"
     ]
    },
    {
     "name": "stderr",
     "output_type": "stream",
     "text": [
      "/Users/jilljenn/code/mangaki/venv/lib/python3.6/site-packages/sklearn/gaussian_process/gpr.py:308: UserWarning: Predicted variances smaller than 0. Setting those variances to 0.\n",
      "  warnings.warn(\"Predicted variances smaller than 0. \"\n"
     ]
    },
    {
     "name": "stdout",
     "output_type": "stream",
     "text": [
      "253 103\n",
      "254 104\n",
      "255 107\n",
      "256 108\n",
      "257 108\n",
      "258 109\n",
      "259 111\n",
      "260 112\n",
      "261 112\n",
      "262 113\n",
      "263 114\n",
      "264 114\n",
      "265 114\n",
      "266 115\n",
      "267 116\n",
      "268 116\n",
      "269 116\n",
      "270 116\n",
      "271 117\n",
      "272 119\n",
      "273 119\n",
      "274 119\n",
      "275 120\n",
      "276 120\n",
      "277 123\n",
      "278 123\n",
      "279 124\n",
      "280 128\n",
      "281 128\n",
      "282 128\n",
      "283 128\n",
      "284 128\n",
      "285 128\n",
      "286 130\n",
      "287 132\n",
      "288 133\n",
      "289 133\n",
      "290 134\n",
      "291 134\n",
      "292 134\n",
      "293 135\n",
      "294 135\n",
      "295 140\n",
      "296 142\n",
      "297 144\n",
      "298 145\n",
      "299 145\n",
      "300 146\n",
      "301 146\n",
      "302 146\n",
      "303 148\n",
      "304 150\n",
      "305 153\n",
      "306 153\n",
      "307 160\n",
      "308 161\n",
      "309 163\n",
      "310 163\n",
      "311 171\n",
      "312 171\n",
      "313 172\n",
      "314 173\n",
      "315 174\n",
      "316 177\n",
      "317 179\n",
      "318 181\n",
      "319 184\n",
      "320 185\n",
      "321 185\n",
      "322 185\n",
      "323 186\n",
      "324 186\n",
      "325 186\n",
      "326 186\n",
      "327 187\n",
      "328 189\n",
      "329 193\n",
      "330 197\n",
      "331 200\n",
      "332 201\n",
      "333 203\n",
      "334 206\n",
      "335 208\n",
      "336 210\n",
      "337 210\n",
      "338 211\n",
      "339 212\n",
      "340 212\n",
      "341 214\n",
      "342 217\n",
      "343 219\n",
      "344 219\n",
      "345 224\n",
      "346 226\n",
      "347 227\n",
      "348 227\n",
      "349 229\n",
      "350 233\n",
      "351 233\n",
      "352 238\n",
      "353 239\n",
      "354 241\n",
      "355 246\n",
      "356 250\n",
      "357 255\n",
      "358 260\n",
      "359 260\n",
      "360 266\n",
      "361 276\n",
      "362 285\n",
      "363 291\n",
      "364 300\n",
      "365 304\n",
      "366 306\n",
      "367 319\n",
      "368 332\n",
      "369 333\n",
      "370 335\n",
      "371 351\n",
      "372 358\n",
      "373 370\n",
      "374 375\n",
      "375 392\n",
      "376 402\n",
      "377 408\n",
      "378 412\n",
      "379 430\n",
      "380 430\n",
      "381 443\n",
      "382 465\n",
      "383 471\n",
      "384 474\n",
      "385 491\n",
      "386 491\n",
      "387 502\n",
      "388 507\n",
      "389 509\n",
      "390 514\n",
      "391 522\n",
      "392 573\n",
      "393 578\n",
      "394 580\n",
      "395 581\n",
      "396 586\n",
      "397 598\n",
      "398 605\n",
      "399 639\n",
      "400 679\n",
      "401 720\n",
      "402 745\n",
      "403 839\n",
      "404 888\n"
     ]
    },
    {
     "data": {
      "image/png": "[encoded data removed]",
      "text/plain": [
       "<matplotlib.figure.Figure at 0x11973c780>"
      ]
     },
     "metadata": {},
     "output_type": "display_data"
    }
   ],
   "source": [
    "import random\n",
    "from collections import defaultdict\n",
    "\n",
    "fig, axes = plt.subplots(3, 1, figsize=(16, 10))\n",
    "plot = {}\n",
    "plot['rmse'], plot['sigma'], plot['det'] = axes\n",
    "\n",
    "STRATEGIES = ['dpp', 'random'] # , ':'bgs', \n",
    "LIMIT_SAMPLE = 2000\n",
    "LIMIT_ASK = 50\n",
    "USER_POS_LIMIT = 500\n",
    "\n",
    "values = defaultdict(lambda: defaultdict(lambda: defaultdict(list)))\n",
    "for user_pos in range(250, 405):\n",
    "    pig = mangaki[users[user_pos], :]\n",
    "    #pig.data -= als.means.mean()  # Renormalize\n",
    "    nb_total_rated = min(pig.getnnz(), LIMIT_SAMPLE)\n",
    "    if user_pos % 1 == 0:\n",
    "        print(user_pos, nb_total_rated)\n",
    "    rated = als.VT.T[pig.indices[:LIMIT_SAMPLE]]  # LIMIT_SAMPLE is the limit\n",
    "    if user_pos <= USER_POS_LIMIT:\n",
    "        dpp = prepare_dpp(rated)  # DPP\n",
    "        #_, get_bgs = bgs(rated, 1)  # BGS\n",
    "    sizes = range(2, min(nb_total_rated, LIMIT_ASK) + 1)\n",
    "    for nb_rated in sizes:\n",
    "        for strategy in STRATEGIES:\n",
    "            if strategy == 'random':\n",
    "                pos = random.sample(range(nb_total_rated), nb_rated)\n",
    "                work_ids = pig.indices[pos]\n",
    "            elif strategy == 'dpp':\n",
    "                if user_pos <= USER_POS_LIMIT:\n",
    "                    pos = dpp.sample_k(nb_rated)\n",
    "                    work_ids = pig.indices[pos]\n",
    "                else:\n",
    "                    pop = popular_dpp.sample_k(nb_rated)\n",
    "                    askable = list(set(pop) & set(pig.indices))\n",
    "                    if len(askable) < nb_rated:\n",
    "                        remaining = nb_rated - len(askable)\n",
    "                        #print(pos, 'oops', remaining, nb_rated)\n",
    "                        askable.extend(random.sample(set(pig.indices) - set(askable), remaining))\n",
    "                    work_ids = askable\n",
    "            else:\n",
    "                pos = get_bgs[nb_rated]\n",
    "                work_ids = pig.indices[pos]\n",
    "            ratings = pig[:, work_ids].data\n",
    "\n",
    "            X_asked = als.VT.T[work_ids]\n",
    "            values['det'][strategy][nb_rated].append(np.log(np.linalg.det(kernel(X_asked) + ALPHA * np.eye(nb_rated))))\n",
    "\n",
    "            #print(work_ids.shape, X_asked.shape, ratings.shape)\n",
    "            gpr.fit(X_asked, ratings)\n",
    "            y_pred, sigma = gpr.predict(als.VT.T[pig.indices], return_std=True)\n",
    "            #fix(y_pred)\n",
    "            rmse = mean_squared_error(pig.data, y_pred) ** 0.5\n",
    "            #rmse_max = mean_squared_error(pig.data, y_pred + 1.96 * sigma) ** 0.5\n",
    "            #rmse_min = mean_squared_error(pig.data, y_pred - 1.96 * sigma) ** 0.5\n",
    "            values['sigma'][strategy][nb_rated].append(sigma.mean())\n",
    "            #values['sigma_err'][strategy][nb_rated].append(1.96 * sigma.std())\n",
    "            values['rmse'][strategy][nb_rated].append(rmse)\n",
    "            #values['rmse_up'][strategy].append(rmse_up)\n",
    "            #values['rmse_down'][strategy].append(rmse_down)\n",
    "            #print(nb_rated, strategy, 'rmse', rmse)\n",
    "            #print(y_pred[:5], pig.data[:5])\n",
    "\n",
    "curves = defaultdict(list)\n",
    "for strategy in STRATEGIES:\n",
    "    for value in ['sigma', 'rmse', 'det']:\n",
    "        mean = [np.mean(values[value][strategy][nb_rated]) for nb_rated in sizes]\n",
    "        std = [np.std(values[value][strategy][nb_rated]) for nb_rated in sizes]\n",
    "        curves[value].append(plot[value].errorbar(sizes, mean, label=strategy, fmt='.-'))  # , yerr=1.96 * np.array(std)\n",
    "for value in ['rmse', 'sigma', 'det']:\n",
    "    plot[value].legend(handles=curves[value])\n",
    "plt.xlabel('Number of questions asked')\n",
    "plot['rmse'].set_ylabel('RMSE')\n",
    "plot['det'].set_ylabel('determinant')\n",
    "plot['sigma'].set_ylabel('variance')\n",
    "plt.show()"
   ]
  },
  {
   "cell_type": "code",
   "execution_count": 1,
   "metadata": {},
   "outputs": [
    {
     "ename": "NameError",
     "evalue": "name 'values' is not defined",
     "output_type": "error",
     "traceback": [
      "\u001b[0;31m---------------------------------------------------------------------------\u001b[0m",
      "\u001b[0;31mNameError\u001b[0m                                 Traceback (most recent call last)",
      "\u001b[0;32m<ipython-input-1-e63d4997013b>\u001b[0m in \u001b[0;36m<module>\u001b[0;34m()\u001b[0m\n\u001b[1;32m      2\u001b[0m \u001b[0;34m\u001b[0m\u001b[0m\n\u001b[1;32m      3\u001b[0m \u001b[0mbackup\u001b[0m \u001b[0;34m=\u001b[0m \u001b[0;34m{\u001b[0m\u001b[0;34m}\u001b[0m\u001b[0;34m\u001b[0m\u001b[0m\n\u001b[0;32m----> 4\u001b[0;31m \u001b[0;32mfor\u001b[0m \u001b[0mvalue\u001b[0m \u001b[0;32min\u001b[0m \u001b[0mvalues\u001b[0m\u001b[0;34m:\u001b[0m\u001b[0;34m\u001b[0m\u001b[0m\n\u001b[0m\u001b[1;32m      5\u001b[0m     \u001b[0mbackup\u001b[0m\u001b[0;34m[\u001b[0m\u001b[0mvalue\u001b[0m\u001b[0;34m]\u001b[0m \u001b[0;34m=\u001b[0m \u001b[0;34m{\u001b[0m\u001b[0;34m}\u001b[0m\u001b[0;34m\u001b[0m\u001b[0m\n\u001b[1;32m      6\u001b[0m     \u001b[0;32mfor\u001b[0m \u001b[0mstrategy\u001b[0m \u001b[0;32min\u001b[0m \u001b[0mSTRATEGIES\u001b[0m\u001b[0;34m:\u001b[0m\u001b[0;34m\u001b[0m\u001b[0m\n",
      "\u001b[0;31mNameError\u001b[0m: name 'values' is not defined"
     ]
    }
   ],
   "source": [
    "import pickle\n",
    "\n",
    "backup = {}\n",
    "for value in values:\n",
    "    backup[value] = {}\n",
    "    for strategy in STRATEGIES:\n",
    "        backup[value][strategy] = {}\n",
    "        for nb_rated in sizes:\n",
    "            backup[value][strategy][nb_rated] = values[value][strategy][nb_rated]\n",
    "\n",
    "'''with open('linear250-405-no-limit.pickle', 'wb') as f:\n",
    "    pickle.dump(backup, f)'''"
   ]
  },
  {
   "cell_type": "code",
   "execution_count": 19,
   "metadata": {},
   "outputs": [
    {
     "data": {
      "text/plain": [
       "3"
      ]
     },
     "execution_count": 19,
     "metadata": {},
     "output_type": "execute_result"
    }
   ],
   "source": [
    "#with open('linear250-405-no-limit.pickle', 'rb') as f:\n",
    "with open('linear90-250.pickle', 'rb') as f:\n",
    "    backup2 = pickle.load(f)\n",
    "\n",
    "len(backup2)"
   ]
  },
  {
   "cell_type": "code",
   "execution_count": 21,
   "metadata": {},
   "outputs": [
    {
     "name": "stdout",
     "output_type": "stream",
     "text": [
      "0.631925981086\n",
      "1.6346394227\n",
      "11.5856229339\n",
      "0.655964159586\n",
      "1.64114222751\n",
      "10.2724631087\n",
      "0.582901527231\n",
      "1.69682471115\n",
      "14.7479662844\n"
     ]
    }
   ],
   "source": [
    "import numpy as np\n",
    "\n",
    "import matplotlib\n",
    "matplotlib.use('pgf')\n",
    "pgf_with_rc_fonts = {\n",
    "    'font.family': 'serif',\n",
    "    'font.serif': [],\n",
    "    'text.usetex': True,\n",
    "    'text.latex.unicode': True,\n",
    "}\n",
    "matplotlib.rcParams.update(pgf_with_rc_fonts)\n",
    "import matplotlib.pyplot as plt\n",
    "\n",
    "subsizes = range(10, 40)\n",
    "\n",
    "fig, axes = plt.subplots(3, 1, figsize=(16, 10))\n",
    "plot = {}\n",
    "plot['rmse'], plot['sigma'], plot['det'] = axes\n",
    "\n",
    "STRATEGIES = ['dpp', 'random', 'bgs'] # , ':'bgs', \n",
    "\n",
    "from collections import defaultdict\n",
    "curves = defaultdict(list)\n",
    "for strategy in STRATEGIES:\n",
    "    for value in ['sigma', 'rmse', 'det']:\n",
    "        mean = [np.mean(backup2[value][strategy][nb_rated]) for nb_rated in subsizes]\n",
    "        print(np.mean(mean))\n",
    "        std = [np.std(backup2[value][strategy][nb_rated]) for nb_rated in subsizes] if strategy != 'random' else [0.] * len(subsizes)\n",
    "        curves[value].append(plot[value].errorbar(subsizes, mean, label=strategy, fmt='.-'))  # yerr=1.96 * np.array(std)\n",
    "for value in ['rmse', 'sigma', 'det']:\n",
    "    plot[value].legend(handles=curves[value])\n",
    "plt.xlabel('Number of questions asked')\n",
    "plot['rmse'].set_ylabel('RMSE')\n",
    "plot['det'].set_ylabel('determinant')\n",
    "plot['sigma'].set_ylabel('variance')\n",
    "plt.show()\n",
    "\n",
    "plt.savefig('linear90-250.pdf', format='pdf')"
   ]
  },
  {
   "cell_type": "code",
   "execution_count": 1066,
   "metadata": {
    "collapsed": true
   },
   "outputs": [],
   "source": [
    "P = np.random.random((5, 2))"
   ]
  },
  {
   "cell_type": "code",
   "execution_count": 1067,
   "metadata": {
    "collapsed": true
   },
   "outputs": [],
   "source": [
    "_, sigma, _ = np.linalg.svd(P)"
   ]
  },
  {
   "cell_type": "code",
   "execution_count": 1068,
   "metadata": {},
   "outputs": [
    {
     "data": {
      "text/plain": [
       "array([ 2.75481025,  0.24023893])"
      ]
     },
     "execution_count": 1068,
     "metadata": {},
     "output_type": "execute_result"
    }
   ],
   "source": [
    "sigma ** 2"
   ]
  },
  {
   "cell_type": "code",
   "execution_count": 1070,
   "metadata": {},
   "outputs": [
    {
     "data": {
      "text/plain": [
       "(array([[-0.6921513 ,  0.61451124,  0.17817563,  0.26389984, -0.20472623],\n",
       "        [-0.20591154, -0.31782178,  0.63565118, -0.54018261, -0.40092404],\n",
       "        [-0.20363248, -0.22904383, -0.66783424, -0.07297943, -0.67434722],\n",
       "        [-0.28935687,  0.2371035 , -0.34228285, -0.74879228,  0.42685725],\n",
       "        [-0.59441856, -0.6424065 , -0.03226308,  0.26933948,  0.40049445]]),\n",
       " array([  2.75481025e+00,   2.40238935e-01,   5.85678773e-17,\n",
       "          3.30167623e-17,   5.02983733e-18]),\n",
       " array([[-0.6921513 , -0.20591154, -0.20363248, -0.28935687, -0.59441856],\n",
       "        [ 0.61451124, -0.31782178, -0.22904383,  0.2371035 , -0.6424065 ],\n",
       "        [ 0.35382594, -0.19257944,  0.00345917, -0.91015434,  0.09657884],\n",
       "        [ 0.10187211,  0.75202175, -0.62990142, -0.13240423, -0.09888724],\n",
       "        [-0.08793059, -0.5039506 , -0.71364204,  0.1189232 ,  0.46354537]]))"
      ]
     },
     "execution_count": 1070,
     "metadata": {},
     "output_type": "execute_result"
    }
   ],
   "source": [
    "np.linalg.svd(P.dot(P.T))"
   ]
  },
  {
   "cell_type": "code",
   "execution_count": 1072,
   "metadata": {},
   "outputs": [
    {
     "data": {
      "text/plain": [
       "array([ 1.15700538,  0.04186263])"
      ]
     },
     "execution_count": 1072,
     "metadata": {},
     "output_type": "execute_result"
    }
   ],
   "source": [
    "np.linalg.svd(P[[1, 2, 4], :])[1]"
   ]
  },
  {
   "cell_type": "code",
   "execution_count": 1046,
   "metadata": {},
   "outputs": [
    {
     "data": {
      "image/png": "[encoded data removed]",
      "text/plain": [
       "<matplotlib.figure.Figure at 0x125ed6f60>"
      ]
     },
     "metadata": {},
     "output_type": "display_data"
    }
   ],
   "source": [
    "subsizes = range(10, 30)\n",
    "\n",
    "fig, axes = plt.subplots(3, 1, figsize=(16, 10))\n",
    "plot = {}\n",
    "plot['rmse'], plot['sigma'], plot['det'] = axes\n",
    "\n",
    "curves = defaultdict(list)\n",
    "for strategy in STRATEGIES:\n",
    "    for value in ['sigma', 'rmse', 'det']:\n",
    "        mean = [np.mean(values[value][strategy][nb_rated]) for nb_rated in subsizes]\n",
    "        std = [np.std(values[value][strategy][nb_rated]) for nb_rated in subsizes] if strategy != 'random' else [0.] * len(subsizes)\n",
    "        curves[value].append(plot[value].errorbar(subsizes, mean, label=strategy, fmt='.-'))  # \n",
    "for value in ['rmse', 'sigma', 'det']:\n",
    "    plot[value].legend(handles=curves[value])\n",
    "plt.xlabel('Number of questions asked')\n",
    "plot['rmse'].set_ylabel('RMSE')\n",
    "plot['det'].set_ylabel('determinant')\n",
    "plot['sigma'].set_ylabel('variance')\n",
    "plt.show()"
   ]
  },
  {
   "cell_type": "code",
   "execution_count": 769,
   "metadata": {},
   "outputs": [
    {
     "name": "stdout",
     "output_type": "stream",
     "text": [
      "(8, 18, 48) 4.25460508524\n"
     ]
    }
   ],
   "source": [
    "from itertools import combinations\n",
    "\n",
    "P = kernel(all_vectors) + 0.5 * np.eye(len(all_vectors))\n",
    "det_max = 0.\n",
    "best_subset = None\n",
    "for subset in combinations(range(49), 3):\n",
    "    vp = np.linalg.eig(P[np.ix_(subset, subset)])[0]\n",
    "    det = np.sum(np.log(vp))\n",
    "    if det > det_max:\n",
    "        det_max = det\n",
    "        best_subset = subset\n",
    "print(best_subset, det_max)"
   ]
  },
  {
   "cell_type": "code",
   "execution_count": 763,
   "metadata": {
    "collapsed": true
   },
   "outputs": [],
   "source": [
    "nb_rated = 3\n",
    "rnd_ids = lambda: random.sample(range(total_rated), nb_rated)\n",
    "bgs_ids = get_bgs[nb_rated]\n",
    "dpp_ids = lambda: dpp.sample_k(nb_rated)"
   ]
  },
  {
   "cell_type": "code",
   "execution_count": 764,
   "metadata": {},
   "outputs": [
    {
     "data": {
      "text/plain": [
       "array([ 8, 18, 48])"
      ]
     },
     "execution_count": 764,
     "metadata": {},
     "output_type": "execute_result"
    }
   ],
   "source": [
    "bgs_ids"
   ]
  },
  {
   "cell_type": "code",
   "execution_count": 765,
   "metadata": {},
   "outputs": [
    {
     "name": "stdout",
     "output_type": "stream",
     "text": [
      "god 70.428998245 12.9441472155 0.757048278569\n",
      "bgs 70.428998245 12.9441472155 0.757048278569\n",
      "dpp 39.6364976041 10.749006229 0.920698124954\n",
      "dpp 47.5691573891 12.0751859134 0.913087202165\n",
      "dpp 28.9860274404 9.97273072551 1.04952507028\n",
      "dpp 40.4860914178 11.0070400776 0.925982264811\n",
      "dpp 52.9832951942 12.2298801317 0.866642658198\n",
      "dpp 37.6991738559 12.2264444503 1.04461854464\n",
      "dpp 37.2510220756 10.4558451907 0.93358365863\n",
      "dpp 40.7199820761 10.6882025798 0.907200112806\n",
      "dpp 32.615762504 9.82940546514 0.960959078829\n",
      "dpp 38.6342799324 10.645916851 0.930801676432\n",
      "rnd 13.5096342561 7.74426304244 1.35266112668\n",
      "rnd 23.1677988068 9.62566559232 1.16302997412\n",
      "rnd 17.2154364862 8.02089401437 1.20499127812\n",
      "rnd 19.3745770673 8.53273213737 1.17739386033\n",
      "rnd 31.005674663 10.2495882414 1.05029142943\n",
      "rnd 10.0599828581 6.84954391492 1.46142696033\n",
      "rnd 25.5118832817 9.82916640679 1.12204069636\n",
      "rnd 23.9830055827 9.12229113671 1.09664290944\n",
      "rnd 13.7155963789 8.00250932112 1.42226032884\n",
      "rnd 14.6027854875 7.54182922008 1.26656680368\n"
     ]
    }
   ],
   "source": [
    "NB_SAMPLES = 10  # ('god', np.array(best_subset)), \n",
    "for strategy, pos in [('god', np.array(best_subset)), ('bgs', bgs_ids)] + [('dpp', dpp_ids()) for _ in range(NB_SAMPLES)] + [('rnd', rnd_ids()) for _ in range(NB_SAMPLES)]:\n",
    "    cov = kernel(als.VT.T[pig.indices[pos]]) + 0.5 * np.eye(nb_rated)\n",
    "    #plt.imshow(cov)\n",
    "    print(strategy, np.linalg.det(cov), np.trace(cov), np.trace(np.linalg.inv(cov)))\n",
    "    #plt.show()"
   ]
  },
  {
   "cell_type": "code",
   "execution_count": 766,
   "metadata": {},
   "outputs": [
    {
     "ename": "IndexError",
     "evalue": "index 151 is out of bounds for axis 1 with size 49",
     "output_type": "error",
     "traceback": [
      "\u001b[0;31m---------------------------------------------------------------------------\u001b[0m",
      "\u001b[0;31mIndexError\u001b[0m                                Traceback (most recent call last)",
      "\u001b[0;32m<ipython-input-766-a766b04cb053>\u001b[0m in \u001b[0;36m<module>\u001b[0;34m()\u001b[0m\n\u001b[0;32m----> 1\u001b[0;31m \u001b[0mpig\u001b[0m\u001b[0;34m.\u001b[0m\u001b[0mindices\u001b[0m\u001b[0;34m[\u001b[0m\u001b[0mrand_ids\u001b[0m\u001b[0;34m]\u001b[0m\u001b[0;34m[\u001b[0m\u001b[0;36m9\u001b[0m\u001b[0;34m]\u001b[0m\u001b[0;34m,\u001b[0m \u001b[0mpig\u001b[0m\u001b[0;34m.\u001b[0m\u001b[0mindices\u001b[0m\u001b[0;34m[\u001b[0m\u001b[0mrand_ids\u001b[0m\u001b[0;34m]\u001b[0m\u001b[0;34m[\u001b[0m\u001b[0;36m11\u001b[0m\u001b[0;34m]\u001b[0m\u001b[0;34m\u001b[0m\u001b[0m\n\u001b[0m",
      "\u001b[0;31mIndexError\u001b[0m: index 151 is out of bounds for axis 1 with size 49"
     ]
    }
   ],
   "source": [
    "pig.indices[rand_ids][9], pig.indices[rand_ids][11]"
   ]
  },
  {
   "cell_type": "markdown",
   "metadata": {},
   "source": [
    "## RBF kernel"
   ]
  },
  {
   "cell_type": "code",
   "execution_count": 62,
   "metadata": {
    "collapsed": true
   },
   "outputs": [],
   "source": [
    "from sklearn.gaussian_process.kernels import RBF"
   ]
  },
  {
   "cell_type": "code",
   "execution_count": 63,
   "metadata": {
    "collapsed": true
   },
   "outputs": [],
   "source": [
    "rated = als.VT.T[pig.indices]\n",
    "rbf = RBF()\n",
    "dpprbf = MangakiDPP(vectors=rated)\n",
    "dpprbf.L = rbf(dpprbf.vectors)\n",
    "dpprbf.preprocess()"
   ]
  },
  {
   "cell_type": "code",
   "execution_count": 64,
   "metadata": {},
   "outputs": [
    {
     "name": "stdout",
     "output_type": "stream",
     "text": [
      "1 random rmse 4.0760675024\n",
      "[ 0.43073231  0.75149961  0.12702219  0.84212417  0.2416001 ] [ 2.  5.  5.  5.  2.]\n",
      "1 dpp rmse 4.31876858209\n",
      "[ 0.01080401  0.00523353  0.00710356  0.00542005  0.00369016] [ 2.  5.  5.  5.  2.]\n",
      "1 bgs rmse 4.31876858209\n",
      "[ 0.01080401  0.00523353  0.00710356  0.00542005  0.00369016] [ 2.  5.  5.  5.  2.]\n",
      "3 random rmse 2.85355220442\n",
      "[ 0.91758257  0.64655633  0.65725844  0.63852061  1.37689899] [ 2.  5.  5.  5.  2.]\n",
      "3 dpp rmse 3.13322924277\n",
      "[ 1.31573601  0.75988585  2.10841435  0.70437131  1.10721262] [ 2.  5.  5.  5.  2.]\n",
      "3 bgs rmse 3.36993615636\n",
      "[ 0.2354152   0.20935398  1.34020272  0.31890276  0.45048682] [ 2.  5.  5.  5.  2.]\n",
      "5 random rmse 2.18597659959\n",
      "[ 1.79369347  1.87698915  1.87755428  1.80654174  1.70334215] [ 2.  5.  5.  5.  2.]\n",
      "5 dpp rmse 2.1476268852\n",
      "[ 2.          5.          1.26127189  4.52129116  1.73523068] [ 2.  5.  5.  5.  2.]\n",
      "5 bgs rmse 2.78555258766\n",
      "[ 0.52108681  0.56352772  1.51176309  0.80522764  1.08304059] [ 2.  5.  5.  5.  2.]\n",
      "7 random rmse 2.19154434752\n",
      "[ 1.58436412  0.8680307   2.66016094  0.80351426  1.47571535] [ 2.  5.  5.  5.  2.]\n",
      "7 dpp rmse 1.87563770818\n",
      "[ 1.54467372  2.4748069   1.67373092  3.07522885  1.9246233 ] [ 2.  5.  5.  5.  2.]\n",
      "7 bgs rmse 1.87907584893\n",
      "[ 1.07168913  1.9093807   2.25130561  2.66113604  1.7011482 ] [ 2.  5.  5.  5.  2.]\n",
      "9 random rmse 2.03630035991\n",
      "[ 1.51848255  1.19676249  4.40532917  0.98665188  1.11752775] [ 2.  5.  5.  5.  2.]\n",
      "9 dpp rmse 1.76896038575\n",
      "[ 2.          1.35460284  5.          1.30628413  1.97261098] [ 2.  5.  5.  5.  2.]\n",
      "9 bgs rmse 1.59153973479\n",
      "[ 2.          2.20932638  2.49234799  2.95248794  2.05977108] [ 2.  5.  5.  5.  2.]\n",
      "11 random rmse 1.75081382615\n",
      "[ 1.82367369  1.73271416  2.10663066  1.67521935  1.57957602] [ 2.  5.  5.  5.  2.]\n",
      "11 dpp rmse 1.55265277441\n",
      "[ 2.60392126  5.          5.          4.88622787  1.78431843] [ 2.  5.  5.  5.  2.]\n",
      "11 bgs rmse 1.43874779328\n",
      "[ 2.          2.3272329   2.95474858  3.01190253  2.26277008] [ 2.  5.  5.  5.  2.]\n",
      "13 random rmse 1.7504275732\n",
      "[ 1.61166015  1.52521037  2.45123274  1.5844379   1.71814247] [ 2.  5.  5.  5.  2.]\n",
      "13 dpp rmse 1.62584920004\n",
      "[ 2.20352349  3.20688398  2.89879615  3.64002292  1.59599398] [ 2.  5.  5.  5.  2.]\n",
      "13 bgs rmse 1.29471121543\n",
      "[ 2.          2.46238038  3.16662872  3.07092636  2.        ] [ 2.  5.  5.  5.  2.]\n",
      "15 random rmse 1.62776174897\n",
      "[ 2.32520473  1.42679417  5.          1.33104756  1.75508917] [ 2.  5.  5.  5.  2.]\n",
      "15 dpp rmse 1.52832418069\n",
      "[ 2.          1.69902908  2.38691174  1.63860722  2.        ] [ 2.  5.  5.  5.  2.]\n",
      "15 bgs rmse 1.24109220148\n",
      "[ 2.          2.44160003  3.14949346  3.05634184  2.        ] [ 2.  5.  5.  5.  2.]\n",
      "17 random rmse 1.58833377038\n",
      "[ 3.44327521  5.          5.          4.67249558  2.77582891] [ 2.  5.  5.  5.  2.]\n",
      "17 dpp rmse 1.51456470502\n",
      "[ 2.56271414  1.7479341   3.16720054  1.75379104  2.        ] [ 2.  5.  5.  5.  2.]\n",
      "17 bgs rmse 1.08714925309\n",
      "[ 2.          2.4664963   5.          3.03924575  2.        ] [ 2.  5.  5.  5.  2.]\n",
      "19 random rmse 1.56692032636\n",
      "[ 2.5657398   5.          4.32803252  5.08407429  2.        ] [ 2.  5.  5.  5.  2.]\n",
      "19 dpp rmse 1.69252683545\n",
      "[ 2.30706604  1.89286607  3.09437493  1.75712298  2.        ] [ 2.  5.  5.  5.  2.]\n",
      "19 bgs rmse 1.09129528158\n",
      "[ 2.          2.43228786  5.          2.98806368  2.        ] [ 2.  5.  5.  5.  2.]\n",
      "21 random rmse 1.51509821666\n",
      "[ 2.          3.42082256  3.05517177  3.83429171  2.05021874] [ 2.  5.  5.  5.  2.]\n",
      "21 dpp rmse 1.28912599022\n",
      "[ 2.3889097   2.92194556  3.47558489  3.59272021  2.38365043] [ 2.  5.  5.  5.  2.]\n",
      "21 bgs rmse 1.09426543519\n",
      "[ 2.          2.46050571  5.          3.02021247  2.        ] [ 2.  5.  5.  5.  2.]\n",
      "23 random rmse 1.54320324858\n",
      "[ 1.84542347  0.41111078  5.          0.51580406  1.11538367] [ 2.  5.  5.  5.  2.]\n",
      "23 dpp rmse 1.11248215267\n",
      "[ 2.97949301  4.59557605  4.42376891  5.          2.        ] [ 2.  5.  5.  5.  2.]\n",
      "23 bgs rmse 1.042595656\n",
      "[ 2.          2.1807365   5.          2.80057136  2.        ] [ 2.  5.  5.  5.  2.]\n",
      "25 random rmse 1.26056994919\n",
      "[ 2.18880279  2.95198851  5.          3.23551922  1.9636374 ] [ 2.  5.  5.  5.  2.]\n",
      "25 dpp rmse 1.16153460983\n",
      "[ 1.7230168   2.3733021   4.55099171  2.76503425  2.01098907] [ 2.  5.  5.  5.  2.]\n",
      "25 bgs rmse 1.06036043243\n",
      "[ 2.          2.29849796  5.          2.83978011  2.        ] [ 2.  5.  5.  5.  2.]\n",
      "27 random rmse 1.17639222047\n",
      "[ 2.59798488  4.76212114  4.22044657  5.          1.72097368] [ 2.  5.  5.  5.  2.]\n",
      "27 dpp rmse 1.22216294003\n",
      "[ 2.94162255  5.          4.47591245  4.83561501  1.85075651] [ 2.  5.  5.  5.  2.]\n",
      "27 bgs rmse 0.998140268885\n",
      "[ 2.          5.          5.          4.98456696  2.        ] [ 2.  5.  5.  5.  2.]\n",
      "29 random rmse 1.23208347989\n",
      "[ 2.24954585  5.          2.53341694  4.61750198  1.80498187] [ 2.  5.  5.  5.  2.]\n",
      "29 dpp rmse 1.10788133933\n",
      "[ 2.35325532  4.13131627  5.          5.          1.64757508] [ 2.  5.  5.  5.  2.]\n",
      "29 bgs rmse 1.00505616757\n",
      "[ 2.          5.          5.          4.98752538  2.        ] [ 2.  5.  5.  5.  2.]\n"
     ]
    },
    {
     "data": {
      "image/png": "[encoded data removed]",
      "text/plain": [
       "<matplotlib.figure.Figure at 0x114bca278>"
      ]
     },
     "metadata": {},
     "output_type": "display_data"
    }
   ],
   "source": [
    "import random\n",
    "from collections import defaultdict\n",
    "\n",
    "kernel = DotProduct()\n",
    "gpr = GaussianProcessRegressor()\n",
    "BATCH_SIZE = 40\n",
    "steps = []\n",
    "errors = defaultdict(list)\n",
    "errors_min = defaultdict(list)\n",
    "errors_max = defaultdict(list)\n",
    "total_rated = pig.getnnz()\n",
    "for nb_rated in range(1, 30, 2):\n",
    "    steps.append(nb_rated)\n",
    "    for strategy in ['random', 'dpp', 'bgs']:\n",
    "        if strategy == 'random':\n",
    "            pos = random.sample(range(total_rated), nb_rated)\n",
    "        elif strategy == 'dpp':\n",
    "            pos = dpprbf.sample_k(nb_rated)\n",
    "        elif strategy == 'bgs':\n",
    "            pos = get_bgs[nb_rated]\n",
    "        work_ids = pig.indices[pos]\n",
    "        ratings = pig.data[pos]\n",
    "        \n",
    "        gpr.fit(als.VT.T[work_ids], ratings)\n",
    "        y_pred, sigma = gpr.predict(als.VT.T[pig.indices], return_std=True)\n",
    "        rmse = mean_squared_error(pig.data, y_pred) ** 0.5\n",
    "        rmse_max = mean_squared_error(pig.data, y_pred + 1.96 * sigma) ** 0.5\n",
    "        rmse_min = mean_squared_error(pig.data, y_pred - 1.96 * sigma) ** 0.5\n",
    "        errors[strategy].append(rmse)\n",
    "        errors_max[strategy].append(0)#abs(rmse_max - rmse))\n",
    "        errors_min[strategy].append(0)#abs(rmse_min - rmse))\n",
    "        print(nb_rated, strategy, 'rmse', rmse)\n",
    "        print(y_pred[:5], pig.data[:5])\n",
    "rand_curve = plt.errorbar(steps, errors['random'], yerr=[errors_min['random'], errors_max['random']], label='random')\n",
    "dpp_curve = plt.errorbar(steps, errors['dpp'], yerr=[errors_min['dpp'], errors_max['dpp']], color='r', label='dpp')\n",
    "bgs_curve = plt.errorbar(steps, errors['bgs'], yerr=[errors_min['bgs'], errors_max['bgs']], color='g', label='bgs')\n",
    "\n",
    "plt.legend(handles=[rand_curve, dpp_curve, bgs_curve])\n",
    "plt.show()"
   ]
  },
  {
   "cell_type": "code",
   "execution_count": 201,
   "metadata": {
    "collapsed": true
   },
   "outputs": [],
   "source": [
    "X = np.random.random((5, 2))*100\n",
    "eig, _ = np.linalg.eig(X.dot(X.T))"
   ]
  },
  {
   "cell_type": "code",
   "execution_count": 204,
   "metadata": {},
   "outputs": [
    {
     "data": {
      "text/plain": [
       "array([ 18630.,     -0.,   3416.,      0.,     -0.])"
      ]
     },
     "execution_count": 204,
     "metadata": {},
     "output_type": "execute_result"
    }
   ],
   "source": [
    "np.round(eig)"
   ]
  },
  {
   "cell_type": "code",
   "execution_count": null,
   "metadata": {
    "collapsed": true
   },
   "outputs": [],
   "source": []
  }
 ],
 "metadata": {
  "kernelspec": {
   "display_name": "Django Shell-Plus",
   "language": "python",
   "name": "django_extensions"
  },
  "language_info": {
   "codemirror_mode": {
    "name": "ipython",
    "version": 3
   },
   "file_extension": ".py",
   "mimetype": "text/x-python",
   "name": "python",
   "nbconvert_exporter": "python",
   "pygments_lexer": "ipython3",
   "version": "3.6.3"
  }
 },
 "nbformat": 4,
 "nbformat_minor": 2
}
