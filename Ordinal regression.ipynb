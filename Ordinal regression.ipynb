{
 "cells": [
  {
   "cell_type": "code",
   "execution_count": 1,
   "metadata": {},
   "outputs": [],
   "source": [
    "import pandas as pd\n",
    "\n",
    "df = pd.DataFrame(list(Rating.objects.values_list('user_id', 'work_id', 'choice')),\n",
    "                       columns=['user_id', 'work_id', 'choice'])"
   ]
  },
  {
   "cell_type": "code",
   "execution_count": 4,
   "metadata": {},
   "outputs": [],
   "source": [
    "choice_values = ['dislike', 'wontsee', 'neutral', 'willsee', 'like', 'favorite']\n",
    "rating_values = dict(zip(choice_values, range(len(choice_values))))"
   ]
  },
  {
   "cell_type": "code",
   "execution_count": 5,
   "metadata": {},
   "outputs": [],
   "source": [
    "df['rating'] = df['choice'].map(rating_values)"
   ]
  },
  {
   "cell_type": "code",
   "execution_count": 6,
   "metadata": {},
   "outputs": [],
   "source": [
    "from scipy.sparse import coo_matrix\n",
    "\n",
    "sparse = coo_matrix((df['rating'], (df['user_id'], df['work_id'])))"
   ]
  },
  {
   "cell_type": "code",
   "execution_count": 7,
   "metadata": {},
   "outputs": [],
   "source": [
    "sparse_csr = sparse.tocsr()\n",
    "sparse_csc = sparse.tocsc()"
   ]
  },
  {
   "cell_type": "code",
   "execution_count": 8,
   "metadata": {},
   "outputs": [],
   "source": [
    "nb_users, nb_works = sparse_csr.shape"
   ]
  },
  {
   "cell_type": "code",
   "execution_count": 16,
   "metadata": {},
   "outputs": [],
   "source": [
    "from collections import defaultdict\n",
    "from mord import LogisticAT\n",
    "\n",
    "U = defaultdict(lambda: LogisticAT())\n",
    "V = defaultdict(lambda: LogisticAT())"
   ]
  },
  {
   "cell_type": "code",
   "execution_count": 44,
   "metadata": {},
   "outputs": [],
   "source": [
    "users, works = sparse_csr.nonzero()"
   ]
  },
  {
   "cell_type": "code",
   "execution_count": 54,
   "metadata": {},
   "outputs": [],
   "source": [
    "import numpy as np\n",
    "\n",
    "users = np.unique(df['user_id'])\n",
    "works = np.unique(df['work_id'])"
   ]
  },
  {
   "cell_type": "code",
   "execution_count": 56,
   "metadata": {
    "collapsed": true
   },
   "outputs": [],
   "source": [
    "from mord.threshold_based import threshold_fit"
   ]
  },
  {
   "cell_type": "code",
   "execution_count": 57,
   "metadata": {
    "collapsed": true
   },
   "outputs": [],
   "source": [
    "def sanitize(data):\n",
    "    values = np.unique(data)\n",
    "    mapping = dict(zip(values, range(len(values))))\n",
    "    return np.vectorize(mapping.get)(data)"
   ]
  },
  {
   "cell_type": "code",
   "execution_count": 58,
   "metadata": {},
   "outputs": [],
   "source": [
    "for user_id in users:\n",
    "    U[user_id].coef_ = np.random.random(20)\n",
    "    U[user_id].data = sanitize(sparse_csr[user_id, :].data)"
   ]
  },
  {
   "cell_type": "code",
   "execution_count": 59,
   "metadata": {
    "collapsed": true
   },
   "outputs": [],
   "source": [
    "for work_id in works:\n",
    "    V[work_id].coef_ = np.random.random(20)\n",
    "    V[work_id].data = sanitize(sparse_csc[:, work_id].data)"
   ]
  },
  {
   "cell_type": "code",
   "execution_count": 60,
   "metadata": {
    "collapsed": true
   },
   "outputs": [],
   "source": [
    "def fit_user(user_id):\n",
    "    work_ids = sparse_csr[user_id, :].indices\n",
    "    X = np.array([V[work_id].coef_ for work_id in work_ids])\n",
    "    #print(X.shape, len(work_ids))\n",
    "    y = U[user_id].data\n",
    "    U[user_id].fit(X, y)\n",
    "    #U[user_id].coef_, U[user_id].theta_ = threshold_fit(X, y, U[user_id].alpha, len(choice_values))\n",
    "\n",
    "def fit_work(work_id):\n",
    "    user_ids = sparse_csc[:, work_id].indices\n",
    "    for user_id in user_ids:\n",
    "        try:\n",
    "            U[user_id].coef_\n",
    "        except:\n",
    "            print('error', work_id, 'with', user_id)        \n",
    "    X = np.array([U[user_id].coef_ for user_id in user_ids])\n",
    "    #print(all(len(U[user_id].coef_) == len(U[user_ids[0]].coef_) for user_id in user_ids))\n",
    "    #print(X.shape, len(user_ids), user_ids[0], U[user_ids[0]].coef_)\n",
    "    y = V[work_id].data\n",
    "    V[work_id].fit(X, y)\n",
    "    #V[work_id].coef_, V[work_id].theta_ = threshold_fit(X, y, V[work_id].alpha, len(choice_values))"
   ]
  },
  {
   "cell_type": "code",
   "execution_count": 67,
   "metadata": {},
   "outputs": [
    {
     "name": "stdout",
     "output_type": "stream",
     "text": [
      "user ok 0:00:21.701368\n",
      "work ok 0:00:50.570585\n",
      "user ok 0:00:19.572183\n",
      "work ok 0:00:58.875789\n"
     ]
    }
   ],
   "source": [
    "from datetime import datetime\n",
    "\n",
    "for nb_iter in range(2):\n",
    "    bla = datetime.now()\n",
    "    for user_id in users:\n",
    "        fit_user(user_id)\n",
    "    print('user ok', datetime.now() - bla)\n",
    "    bla = datetime.now()\n",
    "    for work_id in works:\n",
    "        fit_work(work_id)\n",
    "    print('work ok', datetime.now() - bla)"
   ]
  },
  {
   "cell_type": "code",
   "execution_count": 87,
   "metadata": {},
   "outputs": [
    {
     "data": {
      "text/plain": [
       "0.73148148148148151"
      ]
     },
     "execution_count": 87,
     "metadata": {},
     "output_type": "execute_result"
    }
   ],
   "source": [
    "USER_ID = 1\n",
    "jj_work_ids = sparse_csr[USER_ID, :].indices\n",
    "X = np.array([V[work_id].coef_ for work_id in jj_work_ids])\n",
    "sum(U[USER_ID].predict(X) == U[USER_ID].data) / len(U[USER_ID].data)"
   ]
  },
  {
   "cell_type": "code",
   "execution_count": 65,
   "metadata": {},
   "outputs": [
    {
     "name": "stdout",
     "output_type": "stream",
     "text": [
      "ok\n",
      "ok\n"
     ]
    }
   ],
   "source": [
    "for nb_iter in range(2):\n",
    "    for user_id in [1]:\n",
    "        fit_user(user_id)\n",
    "    print('ok')\n",
    "    for work_id in jj_work_ids:\n",
    "        fit_work(work_id)"
   ]
  },
  {
   "cell_type": "code",
   "execution_count": 88,
   "metadata": {},
   "outputs": [],
   "source": [
    "jj = df.query('user_id == 1')"
   ]
  },
  {
   "cell_type": "code",
   "execution_count": 100,
   "metadata": {},
   "outputs": [
    {
     "name": "stderr",
     "output_type": "stream",
     "text": [
      "/Users/jin/Sites/mangaki/venv/lib/python3.6/site-packages/ipykernel_launcher.py:1: SettingWithCopyWarning: \n",
      "A value is trying to be set on a copy of a slice from a DataFrame.\n",
      "Try using .loc[row_indexer,col_indexer] = value instead\n",
      "\n",
      "See the caveats in the documentation: http://pandas.pydata.org/pandas-docs/stable/indexing.html#indexing-view-versus-copy\n",
      "  \"\"\"Entry point for launching an IPython kernel.\n"
     ]
    }
   ],
   "source": [
    "jj['pred'] = X.dot(U[1].coef_)"
   ]
  },
  {
   "cell_type": "code",
   "execution_count": 126,
   "metadata": {},
   "outputs": [],
   "source": [
    "titles = dict(list(Work.objects.values_list('id', 'title')))"
   ]
  },
  {
   "cell_type": "code",
   "execution_count": 127,
   "metadata": {},
   "outputs": [
    {
     "name": "stderr",
     "output_type": "stream",
     "text": [
      "/Users/jin/Sites/mangaki/venv/lib/python3.6/site-packages/ipykernel_launcher.py:1: SettingWithCopyWarning: \n",
      "A value is trying to be set on a copy of a slice from a DataFrame.\n",
      "Try using .loc[row_indexer,col_indexer] = value instead\n",
      "\n",
      "See the caveats in the documentation: http://pandas.pydata.org/pandas-docs/stable/indexing.html#indexing-view-versus-copy\n",
      "  \"\"\"Entry point for launching an IPython kernel.\n"
     ]
    }
   ],
   "source": [
    "jj['title'] = jj['work_id'].map(titles)"
   ]
  },
  {
   "cell_type": "code",
   "execution_count": 128,
   "metadata": {},
   "outputs": [
    {
     "data": {
      "text/html": [
       "<div>\n",
       "<style>\n",
       "    .dataframe thead tr:only-child th {\n",
       "        text-align: right;\n",
       "    }\n",
       "\n",
       "    .dataframe thead th {\n",
       "        text-align: left;\n",
       "    }\n",
       "\n",
       "    .dataframe tbody tr th {\n",
       "        vertical-align: top;\n",
       "    }\n",
       "</style>\n",
       "<table border=\"1\" class=\"dataframe\">\n",
       "  <thead>\n",
       "    <tr style=\"text-align: right;\">\n",
       "      <th></th>\n",
       "      <th>user_id</th>\n",
       "      <th>work_id</th>\n",
       "      <th>choice</th>\n",
       "      <th>rating</th>\n",
       "      <th>pred</th>\n",
       "      <th>title</th>\n",
       "    </tr>\n",
       "  </thead>\n",
       "  <tbody>\n",
       "    <tr>\n",
       "      <th>288648</th>\n",
       "      <td>1</td>\n",
       "      <td>4983</td>\n",
       "      <td>willsee</td>\n",
       "      <td>3</td>\n",
       "      <td>13.352409</td>\n",
       "      <td>Darwin's Game</td>\n",
       "    </tr>\n",
       "    <tr>\n",
       "      <th>37382</th>\n",
       "      <td>1</td>\n",
       "      <td>5417</td>\n",
       "      <td>willsee</td>\n",
       "      <td>3</td>\n",
       "      <td>11.019723</td>\n",
       "      <td>FullMetal Alchemist</td>\n",
       "    </tr>\n",
       "    <tr>\n",
       "      <th>10931</th>\n",
       "      <td>1</td>\n",
       "      <td>6</td>\n",
       "      <td>dislike</td>\n",
       "      <td>0</td>\n",
       "      <td>10.900932</td>\n",
       "      <td>Bleach</td>\n",
       "    </tr>\n",
       "    <tr>\n",
       "      <th>12399</th>\n",
       "      <td>1</td>\n",
       "      <td>330</td>\n",
       "      <td>like</td>\n",
       "      <td>4</td>\n",
       "      <td>10.451844</td>\n",
       "      <td>Tokyo Godfathers</td>\n",
       "    </tr>\n",
       "    <tr>\n",
       "      <th>256698</th>\n",
       "      <td>1</td>\n",
       "      <td>10378</td>\n",
       "      <td>willsee</td>\n",
       "      <td>3</td>\n",
       "      <td>10.370725</td>\n",
       "      <td>Sound of the Sky</td>\n",
       "    </tr>\n",
       "    <tr>\n",
       "      <th>37381</th>\n",
       "      <td>1</td>\n",
       "      <td>4356</td>\n",
       "      <td>willsee</td>\n",
       "      <td>3</td>\n",
       "      <td>9.010964</td>\n",
       "      <td>Assassination classroom</td>\n",
       "    </tr>\n",
       "    <tr>\n",
       "      <th>24834</th>\n",
       "      <td>1</td>\n",
       "      <td>6131</td>\n",
       "      <td>willsee</td>\n",
       "      <td>3</td>\n",
       "      <td>8.894626</td>\n",
       "      <td>Liar Game</td>\n",
       "    </tr>\n",
       "    <tr>\n",
       "      <th>37384</th>\n",
       "      <td>1</td>\n",
       "      <td>17</td>\n",
       "      <td>wontsee</td>\n",
       "      <td>1</td>\n",
       "      <td>8.801478</td>\n",
       "      <td>Naruto: Shippuuden</td>\n",
       "    </tr>\n",
       "    <tr>\n",
       "      <th>37533</th>\n",
       "      <td>1</td>\n",
       "      <td>108</td>\n",
       "      <td>wontsee</td>\n",
       "      <td>1</td>\n",
       "      <td>8.322807</td>\n",
       "      <td>Zero no Tsukaima: Futatsuki no Kishi</td>\n",
       "    </tr>\n",
       "    <tr>\n",
       "      <th>65278</th>\n",
       "      <td>1</td>\n",
       "      <td>1980</td>\n",
       "      <td>like</td>\n",
       "      <td>4</td>\n",
       "      <td>8.298896</td>\n",
       "      <td>Eden of The East the Movie II: Paradise Lost</td>\n",
       "    </tr>\n",
       "    <tr>\n",
       "      <th>9787</th>\n",
       "      <td>1</td>\n",
       "      <td>318</td>\n",
       "      <td>wontsee</td>\n",
       "      <td>1</td>\n",
       "      <td>8.210799</td>\n",
       "      <td>Barakamon</td>\n",
       "    </tr>\n",
       "    <tr>\n",
       "      <th>24800</th>\n",
       "      <td>1</td>\n",
       "      <td>749</td>\n",
       "      <td>willsee</td>\n",
       "      <td>3</td>\n",
       "      <td>8.094792</td>\n",
       "      <td>Ghost in the Shell: Stand Alone Complex - Soli...</td>\n",
       "    </tr>\n",
       "    <tr>\n",
       "      <th>245900</th>\n",
       "      <td>1</td>\n",
       "      <td>10892</td>\n",
       "      <td>willsee</td>\n",
       "      <td>3</td>\n",
       "      <td>7.774484</td>\n",
       "      <td>Kobato</td>\n",
       "    </tr>\n",
       "    <tr>\n",
       "      <th>27021</th>\n",
       "      <td>1</td>\n",
       "      <td>4106</td>\n",
       "      <td>willsee</td>\n",
       "      <td>3</td>\n",
       "      <td>7.760809</td>\n",
       "      <td>10 count</td>\n",
       "    </tr>\n",
       "    <tr>\n",
       "      <th>341703</th>\n",
       "      <td>1</td>\n",
       "      <td>2044</td>\n",
       "      <td>wontsee</td>\n",
       "      <td>1</td>\n",
       "      <td>7.732442</td>\n",
       "      <td>School Days: Valentine Days</td>\n",
       "    </tr>\n",
       "    <tr>\n",
       "      <th>287677</th>\n",
       "      <td>1</td>\n",
       "      <td>2756</td>\n",
       "      <td>willsee</td>\n",
       "      <td>3</td>\n",
       "      <td>7.536320</td>\n",
       "      <td>The Severing Crime Edge</td>\n",
       "    </tr>\n",
       "    <tr>\n",
       "      <th>12510</th>\n",
       "      <td>1</td>\n",
       "      <td>410</td>\n",
       "      <td>favorite</td>\n",
       "      <td>5</td>\n",
       "      <td>7.517450</td>\n",
       "      <td>Porco Rosso</td>\n",
       "    </tr>\n",
       "    <tr>\n",
       "      <th>12221</th>\n",
       "      <td>1</td>\n",
       "      <td>9</td>\n",
       "      <td>willsee</td>\n",
       "      <td>3</td>\n",
       "      <td>7.065902</td>\n",
       "      <td>Elfen Lied</td>\n",
       "    </tr>\n",
       "    <tr>\n",
       "      <th>341704</th>\n",
       "      <td>1</td>\n",
       "      <td>20188</td>\n",
       "      <td>like</td>\n",
       "      <td>4</td>\n",
       "      <td>7.040215</td>\n",
       "      <td>March Comes In Like A Lion 2nd Season</td>\n",
       "    </tr>\n",
       "    <tr>\n",
       "      <th>287793</th>\n",
       "      <td>1</td>\n",
       "      <td>10976</td>\n",
       "      <td>like</td>\n",
       "      <td>4</td>\n",
       "      <td>7.038534</td>\n",
       "      <td>Belladonna of Sadness</td>\n",
       "    </tr>\n",
       "    <tr>\n",
       "      <th>21191</th>\n",
       "      <td>1</td>\n",
       "      <td>36</td>\n",
       "      <td>willsee</td>\n",
       "      <td>3</td>\n",
       "      <td>7.027811</td>\n",
       "      <td>Ano Hi Mita Hana no Namae wo Bokutachi wa Mada...</td>\n",
       "    </tr>\n",
       "    <tr>\n",
       "      <th>331885</th>\n",
       "      <td>1</td>\n",
       "      <td>10058</td>\n",
       "      <td>wontsee</td>\n",
       "      <td>1</td>\n",
       "      <td>6.934917</td>\n",
       "      <td>One Piece: Dead End</td>\n",
       "    </tr>\n",
       "    <tr>\n",
       "      <th>125689</th>\n",
       "      <td>1</td>\n",
       "      <td>2750</td>\n",
       "      <td>willsee</td>\n",
       "      <td>3</td>\n",
       "      <td>6.891284</td>\n",
       "      <td>Wandering Son</td>\n",
       "    </tr>\n",
       "    <tr>\n",
       "      <th>18645</th>\n",
       "      <td>1</td>\n",
       "      <td>2768</td>\n",
       "      <td>like</td>\n",
       "      <td>4</td>\n",
       "      <td>6.788890</td>\n",
       "      <td>Le Château dans le ciel</td>\n",
       "    </tr>\n",
       "    <tr>\n",
       "      <th>10891</th>\n",
       "      <td>1</td>\n",
       "      <td>27</td>\n",
       "      <td>wontsee</td>\n",
       "      <td>1</td>\n",
       "      <td>6.768584</td>\n",
       "      <td>One Piece</td>\n",
       "    </tr>\n",
       "    <tr>\n",
       "      <th>37532</th>\n",
       "      <td>1</td>\n",
       "      <td>48</td>\n",
       "      <td>wontsee</td>\n",
       "      <td>1</td>\n",
       "      <td>6.761588</td>\n",
       "      <td>D.Gray-man</td>\n",
       "    </tr>\n",
       "    <tr>\n",
       "      <th>340500</th>\n",
       "      <td>1</td>\n",
       "      <td>2696</td>\n",
       "      <td>neutral</td>\n",
       "      <td>2</td>\n",
       "      <td>6.700658</td>\n",
       "      <td>Souvenirs goutte à goutte</td>\n",
       "    </tr>\n",
       "    <tr>\n",
       "      <th>78094</th>\n",
       "      <td>1</td>\n",
       "      <td>3875</td>\n",
       "      <td>willsee</td>\n",
       "      <td>3</td>\n",
       "      <td>6.636614</td>\n",
       "      <td>Code:Breaker</td>\n",
       "    </tr>\n",
       "    <tr>\n",
       "      <th>10934</th>\n",
       "      <td>1</td>\n",
       "      <td>41</td>\n",
       "      <td>like</td>\n",
       "      <td>4</td>\n",
       "      <td>6.593345</td>\n",
       "      <td>Samurai Champloo</td>\n",
       "    </tr>\n",
       "    <tr>\n",
       "      <th>345458</th>\n",
       "      <td>1</td>\n",
       "      <td>1727</td>\n",
       "      <td>willsee</td>\n",
       "      <td>3</td>\n",
       "      <td>6.475291</td>\n",
       "      <td>Silver Spoon</td>\n",
       "    </tr>\n",
       "    <tr>\n",
       "      <th>...</th>\n",
       "      <td>...</td>\n",
       "      <td>...</td>\n",
       "      <td>...</td>\n",
       "      <td>...</td>\n",
       "      <td>...</td>\n",
       "      <td>...</td>\n",
       "    </tr>\n",
       "    <tr>\n",
       "      <th>340377</th>\n",
       "      <td>1</td>\n",
       "      <td>3426</td>\n",
       "      <td>willsee</td>\n",
       "      <td>3</td>\n",
       "      <td>-5.094314</td>\n",
       "      <td>Gargantia on the Verdurous Planet</td>\n",
       "    </tr>\n",
       "    <tr>\n",
       "      <th>299979</th>\n",
       "      <td>1</td>\n",
       "      <td>6971</td>\n",
       "      <td>willsee</td>\n",
       "      <td>3</td>\n",
       "      <td>-5.127057</td>\n",
       "      <td>Puella Magi Madoka Magica</td>\n",
       "    </tr>\n",
       "    <tr>\n",
       "      <th>37531</th>\n",
       "      <td>1</td>\n",
       "      <td>57</td>\n",
       "      <td>willsee</td>\n",
       "      <td>3</td>\n",
       "      <td>-5.185419</td>\n",
       "      <td>Ore no Imouto ga Konnani Kawaii Wake ga Nai</td>\n",
       "    </tr>\n",
       "    <tr>\n",
       "      <th>22579</th>\n",
       "      <td>1</td>\n",
       "      <td>3932</td>\n",
       "      <td>like</td>\n",
       "      <td>4</td>\n",
       "      <td>-5.296756</td>\n",
       "      <td>Noein: To Your Other Self</td>\n",
       "    </tr>\n",
       "    <tr>\n",
       "      <th>37318</th>\n",
       "      <td>1</td>\n",
       "      <td>179</td>\n",
       "      <td>like</td>\n",
       "      <td>4</td>\n",
       "      <td>-5.353528</td>\n",
       "      <td>Puella Magi Madoka Magica the Movie Part 1: Be...</td>\n",
       "    </tr>\n",
       "    <tr>\n",
       "      <th>37601</th>\n",
       "      <td>1</td>\n",
       "      <td>143</td>\n",
       "      <td>willsee</td>\n",
       "      <td>3</td>\n",
       "      <td>-5.422083</td>\n",
       "      <td>To LOVE-Ru</td>\n",
       "    </tr>\n",
       "    <tr>\n",
       "      <th>341683</th>\n",
       "      <td>1</td>\n",
       "      <td>15003</td>\n",
       "      <td>like</td>\n",
       "      <td>4</td>\n",
       "      <td>-5.467771</td>\n",
       "      <td>The Cat Returns</td>\n",
       "    </tr>\n",
       "    <tr>\n",
       "      <th>42667</th>\n",
       "      <td>1</td>\n",
       "      <td>2865</td>\n",
       "      <td>like</td>\n",
       "      <td>4</td>\n",
       "      <td>-5.947005</td>\n",
       "      <td>Akira</td>\n",
       "    </tr>\n",
       "    <tr>\n",
       "      <th>340376</th>\n",
       "      <td>1</td>\n",
       "      <td>2792</td>\n",
       "      <td>wontsee</td>\n",
       "      <td>1</td>\n",
       "      <td>-6.295281</td>\n",
       "      <td>Highschool of the Dead: Drifters of the Dead</td>\n",
       "    </tr>\n",
       "    <tr>\n",
       "      <th>37612</th>\n",
       "      <td>1</td>\n",
       "      <td>101</td>\n",
       "      <td>willsee</td>\n",
       "      <td>3</td>\n",
       "      <td>-6.306932</td>\n",
       "      <td>K-On!!</td>\n",
       "    </tr>\n",
       "    <tr>\n",
       "      <th>22589</th>\n",
       "      <td>1</td>\n",
       "      <td>1563</td>\n",
       "      <td>like</td>\n",
       "      <td>4</td>\n",
       "      <td>-6.407212</td>\n",
       "      <td>Ponyo sur la falaise</td>\n",
       "    </tr>\n",
       "    <tr>\n",
       "      <th>125649</th>\n",
       "      <td>1</td>\n",
       "      <td>98</td>\n",
       "      <td>willsee</td>\n",
       "      <td>3</td>\n",
       "      <td>-6.501825</td>\n",
       "      <td>Hellsing Ultimate</td>\n",
       "    </tr>\n",
       "    <tr>\n",
       "      <th>9864</th>\n",
       "      <td>1</td>\n",
       "      <td>591</td>\n",
       "      <td>favorite</td>\n",
       "      <td>5</td>\n",
       "      <td>-6.555430</td>\n",
       "      <td>Les Enfants Loups : Ame &amp; Yuki</td>\n",
       "    </tr>\n",
       "    <tr>\n",
       "      <th>5367</th>\n",
       "      <td>1</td>\n",
       "      <td>1947</td>\n",
       "      <td>wontsee</td>\n",
       "      <td>1</td>\n",
       "      <td>-6.558780</td>\n",
       "      <td>Chihayafuru</td>\n",
       "    </tr>\n",
       "    <tr>\n",
       "      <th>37615</th>\n",
       "      <td>1</td>\n",
       "      <td>142</td>\n",
       "      <td>willsee</td>\n",
       "      <td>3</td>\n",
       "      <td>-6.613834</td>\n",
       "      <td>Sora no Otoshimono</td>\n",
       "    </tr>\n",
       "    <tr>\n",
       "      <th>37385</th>\n",
       "      <td>1</td>\n",
       "      <td>77</td>\n",
       "      <td>willsee</td>\n",
       "      <td>3</td>\n",
       "      <td>-7.021253</td>\n",
       "      <td>Accel World</td>\n",
       "    </tr>\n",
       "    <tr>\n",
       "      <th>341695</th>\n",
       "      <td>1</td>\n",
       "      <td>14936</td>\n",
       "      <td>like</td>\n",
       "      <td>4</td>\n",
       "      <td>-7.074808</td>\n",
       "      <td>Noein: To Your Other Self</td>\n",
       "    </tr>\n",
       "    <tr>\n",
       "      <th>24820</th>\n",
       "      <td>1</td>\n",
       "      <td>5532</td>\n",
       "      <td>wontsee</td>\n",
       "      <td>1</td>\n",
       "      <td>-7.459819</td>\n",
       "      <td>Good times</td>\n",
       "    </tr>\n",
       "    <tr>\n",
       "      <th>24786</th>\n",
       "      <td>1</td>\n",
       "      <td>235</td>\n",
       "      <td>like</td>\n",
       "      <td>4</td>\n",
       "      <td>-7.544454</td>\n",
       "      <td>Digimon Adventure</td>\n",
       "    </tr>\n",
       "    <tr>\n",
       "      <th>24783</th>\n",
       "      <td>1</td>\n",
       "      <td>2562</td>\n",
       "      <td>willsee</td>\n",
       "      <td>3</td>\n",
       "      <td>-7.787661</td>\n",
       "      <td>Mushishi Special: Hihamukage</td>\n",
       "    </tr>\n",
       "    <tr>\n",
       "      <th>340380</th>\n",
       "      <td>1</td>\n",
       "      <td>1022</td>\n",
       "      <td>willsee</td>\n",
       "      <td>3</td>\n",
       "      <td>-7.951789</td>\n",
       "      <td>Abenobashi Magical Shopping District</td>\n",
       "    </tr>\n",
       "    <tr>\n",
       "      <th>340375</th>\n",
       "      <td>1</td>\n",
       "      <td>3476</td>\n",
       "      <td>wontsee</td>\n",
       "      <td>1</td>\n",
       "      <td>-8.360518</td>\n",
       "      <td>Ikkitousen: Dragon Destiny</td>\n",
       "    </tr>\n",
       "    <tr>\n",
       "      <th>37408</th>\n",
       "      <td>1</td>\n",
       "      <td>29</td>\n",
       "      <td>willsee</td>\n",
       "      <td>3</td>\n",
       "      <td>-8.701479</td>\n",
       "      <td>Darker than Black: Kuro no Keiyakusha</td>\n",
       "    </tr>\n",
       "    <tr>\n",
       "      <th>25271</th>\n",
       "      <td>1</td>\n",
       "      <td>8932</td>\n",
       "      <td>willsee</td>\n",
       "      <td>3</td>\n",
       "      <td>-9.550902</td>\n",
       "      <td>Sarusuberi: Miss Hokusai</td>\n",
       "    </tr>\n",
       "    <tr>\n",
       "      <th>338776</th>\n",
       "      <td>1</td>\n",
       "      <td>1467</td>\n",
       "      <td>wontsee</td>\n",
       "      <td>1</td>\n",
       "      <td>-11.722799</td>\n",
       "      <td>Blade &amp; Soul</td>\n",
       "    </tr>\n",
       "    <tr>\n",
       "      <th>25265</th>\n",
       "      <td>1</td>\n",
       "      <td>3323</td>\n",
       "      <td>like</td>\n",
       "      <td>4</td>\n",
       "      <td>-12.082511</td>\n",
       "      <td>One Piece: Strong World</td>\n",
       "    </tr>\n",
       "    <tr>\n",
       "      <th>341693</th>\n",
       "      <td>1</td>\n",
       "      <td>11732</td>\n",
       "      <td>like</td>\n",
       "      <td>4</td>\n",
       "      <td>-12.471886</td>\n",
       "      <td>The Disappearance of Haruhi Suzumiya</td>\n",
       "    </tr>\n",
       "    <tr>\n",
       "      <th>24861</th>\n",
       "      <td>1</td>\n",
       "      <td>7873</td>\n",
       "      <td>like</td>\n",
       "      <td>4</td>\n",
       "      <td>-13.655884</td>\n",
       "      <td>Vision d'Escaflowne</td>\n",
       "    </tr>\n",
       "    <tr>\n",
       "      <th>337340</th>\n",
       "      <td>1</td>\n",
       "      <td>14495</td>\n",
       "      <td>like</td>\n",
       "      <td>4</td>\n",
       "      <td>-17.776462</td>\n",
       "      <td>Your Name.</td>\n",
       "    </tr>\n",
       "    <tr>\n",
       "      <th>24860</th>\n",
       "      <td>1</td>\n",
       "      <td>7196</td>\n",
       "      <td>dislike</td>\n",
       "      <td>0</td>\n",
       "      <td>-22.788668</td>\n",
       "      <td>Samurai Deeper Kyo</td>\n",
       "    </tr>\n",
       "  </tbody>\n",
       "</table>\n",
       "<p>648 rows × 6 columns</p>\n",
       "</div>"
      ],
      "text/plain": [
       "        user_id  work_id    choice  rating       pred  \\\n",
       "288648        1     4983   willsee       3  13.352409   \n",
       "37382         1     5417   willsee       3  11.019723   \n",
       "10931         1        6   dislike       0  10.900932   \n",
       "12399         1      330      like       4  10.451844   \n",
       "256698        1    10378   willsee       3  10.370725   \n",
       "37381         1     4356   willsee       3   9.010964   \n",
       "24834         1     6131   willsee       3   8.894626   \n",
       "37384         1       17   wontsee       1   8.801478   \n",
       "37533         1      108   wontsee       1   8.322807   \n",
       "65278         1     1980      like       4   8.298896   \n",
       "9787          1      318   wontsee       1   8.210799   \n",
       "24800         1      749   willsee       3   8.094792   \n",
       "245900        1    10892   willsee       3   7.774484   \n",
       "27021         1     4106   willsee       3   7.760809   \n",
       "341703        1     2044   wontsee       1   7.732442   \n",
       "287677        1     2756   willsee       3   7.536320   \n",
       "12510         1      410  favorite       5   7.517450   \n",
       "12221         1        9   willsee       3   7.065902   \n",
       "341704        1    20188      like       4   7.040215   \n",
       "287793        1    10976      like       4   7.038534   \n",
       "21191         1       36   willsee       3   7.027811   \n",
       "331885        1    10058   wontsee       1   6.934917   \n",
       "125689        1     2750   willsee       3   6.891284   \n",
       "18645         1     2768      like       4   6.788890   \n",
       "10891         1       27   wontsee       1   6.768584   \n",
       "37532         1       48   wontsee       1   6.761588   \n",
       "340500        1     2696   neutral       2   6.700658   \n",
       "78094         1     3875   willsee       3   6.636614   \n",
       "10934         1       41      like       4   6.593345   \n",
       "345458        1     1727   willsee       3   6.475291   \n",
       "...         ...      ...       ...     ...        ...   \n",
       "340377        1     3426   willsee       3  -5.094314   \n",
       "299979        1     6971   willsee       3  -5.127057   \n",
       "37531         1       57   willsee       3  -5.185419   \n",
       "22579         1     3932      like       4  -5.296756   \n",
       "37318         1      179      like       4  -5.353528   \n",
       "37601         1      143   willsee       3  -5.422083   \n",
       "341683        1    15003      like       4  -5.467771   \n",
       "42667         1     2865      like       4  -5.947005   \n",
       "340376        1     2792   wontsee       1  -6.295281   \n",
       "37612         1      101   willsee       3  -6.306932   \n",
       "22589         1     1563      like       4  -6.407212   \n",
       "125649        1       98   willsee       3  -6.501825   \n",
       "9864          1      591  favorite       5  -6.555430   \n",
       "5367          1     1947   wontsee       1  -6.558780   \n",
       "37615         1      142   willsee       3  -6.613834   \n",
       "37385         1       77   willsee       3  -7.021253   \n",
       "341695        1    14936      like       4  -7.074808   \n",
       "24820         1     5532   wontsee       1  -7.459819   \n",
       "24786         1      235      like       4  -7.544454   \n",
       "24783         1     2562   willsee       3  -7.787661   \n",
       "340380        1     1022   willsee       3  -7.951789   \n",
       "340375        1     3476   wontsee       1  -8.360518   \n",
       "37408         1       29   willsee       3  -8.701479   \n",
       "25271         1     8932   willsee       3  -9.550902   \n",
       "338776        1     1467   wontsee       1 -11.722799   \n",
       "25265         1     3323      like       4 -12.082511   \n",
       "341693        1    11732      like       4 -12.471886   \n",
       "24861         1     7873      like       4 -13.655884   \n",
       "337340        1    14495      like       4 -17.776462   \n",
       "24860         1     7196   dislike       0 -22.788668   \n",
       "\n",
       "                                                    title  \n",
       "288648                                      Darwin's Game  \n",
       "37382                                 FullMetal Alchemist  \n",
       "10931                                              Bleach  \n",
       "12399                                    Tokyo Godfathers  \n",
       "256698                                   Sound of the Sky  \n",
       "37381                             Assassination classroom  \n",
       "24834                                           Liar Game  \n",
       "37384                                  Naruto: Shippuuden  \n",
       "37533                Zero no Tsukaima: Futatsuki no Kishi  \n",
       "65278        Eden of The East the Movie II: Paradise Lost  \n",
       "9787                                            Barakamon  \n",
       "24800   Ghost in the Shell: Stand Alone Complex - Soli...  \n",
       "245900                                             Kobato  \n",
       "27021                                            10 count  \n",
       "341703                        School Days: Valentine Days  \n",
       "287677                            The Severing Crime Edge  \n",
       "12510                                         Porco Rosso  \n",
       "12221                                          Elfen Lied  \n",
       "341704              March Comes In Like A Lion 2nd Season  \n",
       "287793                              Belladonna of Sadness  \n",
       "21191   Ano Hi Mita Hana no Namae wo Bokutachi wa Mada...  \n",
       "331885                                One Piece: Dead End  \n",
       "125689                                      Wandering Son  \n",
       "18645                             Le Château dans le ciel  \n",
       "10891                                           One Piece  \n",
       "37532                                          D.Gray-man  \n",
       "340500                          Souvenirs goutte à goutte  \n",
       "78094                                        Code:Breaker  \n",
       "10934                                    Samurai Champloo  \n",
       "345458                                       Silver Spoon  \n",
       "...                                                   ...  \n",
       "340377                  Gargantia on the Verdurous Planet  \n",
       "299979                          Puella Magi Madoka Magica  \n",
       "37531         Ore no Imouto ga Konnani Kawaii Wake ga Nai  \n",
       "22579                           Noein: To Your Other Self  \n",
       "37318   Puella Magi Madoka Magica the Movie Part 1: Be...  \n",
       "37601                                          To LOVE-Ru  \n",
       "341683                                    The Cat Returns  \n",
       "42667                                               Akira  \n",
       "340376       Highschool of the Dead: Drifters of the Dead  \n",
       "37612                                              K-On!!  \n",
       "22589                                Ponyo sur la falaise  \n",
       "125649                                  Hellsing Ultimate  \n",
       "9864                       Les Enfants Loups : Ame & Yuki  \n",
       "5367                                          Chihayafuru  \n",
       "37615                                  Sora no Otoshimono  \n",
       "37385                                         Accel World  \n",
       "341695                          Noein: To Your Other Self  \n",
       "24820                                          Good times  \n",
       "24786                                   Digimon Adventure  \n",
       "24783                        Mushishi Special: Hihamukage  \n",
       "340380               Abenobashi Magical Shopping District  \n",
       "340375                         Ikkitousen: Dragon Destiny  \n",
       "37408               Darker than Black: Kuro no Keiyakusha  \n",
       "25271                            Sarusuberi: Miss Hokusai  \n",
       "338776                                       Blade & Soul  \n",
       "25265                             One Piece: Strong World  \n",
       "341693               The Disappearance of Haruhi Suzumiya  \n",
       "24861                                 Vision d'Escaflowne  \n",
       "337340                                         Your Name.  \n",
       "24860                                  Samurai Deeper Kyo  \n",
       "\n",
       "[648 rows x 6 columns]"
      ]
     },
     "execution_count": 128,
     "metadata": {},
     "output_type": "execute_result"
    }
   ],
   "source": [
    "jj.sort_values('pred', ascending=False)"
   ]
  },
  {
   "cell_type": "code",
   "execution_count": 86,
   "metadata": {},
   "outputs": [
    {
     "data": {
      "text/plain": [
       "(273, 20)"
      ]
     },
     "execution_count": 86,
     "metadata": {},
     "output_type": "execute_result"
    }
   ],
   "source": [
    "X.shape"
   ]
  },
  {
   "cell_type": "code",
   "execution_count": 88,
   "metadata": {
    "collapsed": true
   },
   "outputs": [],
   "source": [
    "X = np.array(X)\n",
    "y = np.array(y)"
   ]
  },
  {
   "cell_type": "code",
   "execution_count": 89,
   "metadata": {
    "collapsed": true
   },
   "outputs": [],
   "source": [
    "from mord import LogisticAT"
   ]
  },
  {
   "cell_type": "code",
   "execution_count": 90,
   "metadata": {},
   "outputs": [
    {
     "data": {
      "text/plain": [
       "LogisticAT(alpha=1.0, max_iter=10000, verbose=1)"
      ]
     },
     "execution_count": 90,
     "metadata": {},
     "output_type": "execute_result"
    }
   ],
   "source": [
    "ordreg = LogisticAT(verbose=1, max_iter=10000)\n",
    "ordreg.fit(X, y)"
   ]
  },
  {
   "cell_type": "code",
   "execution_count": 91,
   "metadata": {
    "collapsed": true
   },
   "outputs": [],
   "source": [
    "y_pred = ordreg.predict(X)"
   ]
  },
  {
   "cell_type": "code",
   "execution_count": 92,
   "metadata": {},
   "outputs": [
    {
     "data": {
      "text/plain": [
       "398"
      ]
     },
     "execution_count": 92,
     "metadata": {},
     "output_type": "execute_result"
    }
   ],
   "source": [
    "sum(y_pred == y)"
   ]
  },
  {
   "cell_type": "code",
   "execution_count": 93,
   "metadata": {},
   "outputs": [
    {
     "data": {
      "text/plain": [
       "array([-0.66271501, -0.01857029, -0.74340387,  0.97398988, -0.02981268,\n",
       "        1.17420778, -1.41939884, -0.51550002,  0.36530048,  0.2226114 ,\n",
       "       -0.70468383,  0.8803067 , -0.19982504, -0.68572086, -0.52661859,\n",
       "       -0.88023252,  0.75771539,  0.49302697,  1.21863566, -1.88408098])"
      ]
     },
     "execution_count": 93,
     "metadata": {},
     "output_type": "execute_result"
    }
   ],
   "source": [
    "ordreg.coef_"
   ]
  },
  {
   "cell_type": "code",
   "execution_count": 94,
   "metadata": {},
   "outputs": [
    {
     "data": {
      "text/plain": [
       "array([-3.917645  , -1.79567674, -1.64913484,  1.59998804,  4.18093472])"
      ]
     },
     "execution_count": 94,
     "metadata": {},
     "output_type": "execute_result"
    }
   ],
   "source": [
    "ordreg.theta_"
   ]
  },
  {
   "cell_type": "code",
   "execution_count": 96,
   "metadata": {},
   "outputs": [
    {
     "data": {
      "text/plain": [
       "array([3, 3, 3, 3, 3])"
      ]
     },
     "execution_count": 96,
     "metadata": {},
     "output_type": "execute_result"
    }
   ],
   "source": [
    "ordreg.predict(X[:5])"
   ]
  },
  {
   "cell_type": "code",
   "execution_count": 97,
   "metadata": {},
   "outputs": [
    {
     "data": {
      "text/plain": [
       "array([4, 3, 3, 1, 3])"
      ]
     },
     "execution_count": 97,
     "metadata": {},
     "output_type": "execute_result"
    }
   ],
   "source": [
    "y[:5]"
   ]
  },
  {
   "cell_type": "code",
   "execution_count": 100,
   "metadata": {},
   "outputs": [
    {
     "data": {
      "text/plain": [
       "array([ 0.07766994,  0.49457707,  0.91142204, -0.56183871, -1.0200258 ])"
      ]
     },
     "execution_count": 100,
     "metadata": {},
     "output_type": "execute_result"
    }
   ],
   "source": [
    "X[:5].dot(ordreg.coef_)"
   ]
  },
  {
   "cell_type": "code",
   "execution_count": null,
   "metadata": {
    "collapsed": true
   },
   "outputs": [],
   "source": []
  }
 ],
 "metadata": {
  "kernelspec": {
   "display_name": "Django Shell-Plus",
   "language": "python",
   "name": "django_extensions"
  },
  "language_info": {
   "codemirror_mode": {
    "name": "ipython",
    "version": 3
   },
   "file_extension": ".py",
   "mimetype": "text/x-python",
   "name": "python",
   "nbconvert_exporter": "python",
   "pygments_lexer": "ipython3",
   "version": "3.6.4"
  }
 },
 "nbformat": 4,
 "nbformat_minor": 2
}
