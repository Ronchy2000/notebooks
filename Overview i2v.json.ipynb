{
 "cells": [
  {
   "cell_type": "code",
   "execution_count": 1,
   "metadata": {},
   "outputs": [
    {
     "data": {
      "text/plain": [
       "{'character': [],\n",
       " 'copyright': [],\n",
       " 'general': [['1girl', 0.5351361632347107],\n",
       "  ['1boy', 0.5314481258392334],\n",
       "  ['black hair', 0.4160270392894745],\n",
       "  ['short hair', 0.4073851704597473],\n",
       "  ['blue eyes', 0.2690363824367523],\n",
       "  ['multiple boys', 0.16339154541492462],\n",
       "  ['weapon', 0.16306668519973755],\n",
       "  ['long hair', 0.16088248789310455],\n",
       "  ['2boys', 0.15612725913524628],\n",
       "  ['male', 0.1489870250225067],\n",
       "  ['brown hair', 0.13320335745811462],\n",
       "  ['scan', 0.11500567942857742],\n",
       "  ['2girls', 0.10508275777101517]],\n",
       " 'rating': [['safe', 0.9664666652679443],\n",
       "  ['questionable', 0.0323437824845314],\n",
       "  ['explicit', 0.00026572716888040304]]}"
      ]
     },
     "execution_count": 1,
     "metadata": {},
     "output_type": "execute_result"
    }
   ],
   "source": [
    "import json\n",
    "\n",
    "tags = json.load(open('../data/illustration2vec/mangaki_i2v.json'))\n",
    "tags['1.jpg']"
   ]
  },
  {
   "cell_type": "code",
   "execution_count": 2,
   "metadata": {},
   "outputs": [
    {
     "name": "stdout",
     "output_type": "stream",
     "text": [
      "5307.jpg [['link', 0.5413832068443298]]\n",
      "8000.jpg [['nagisa kaworu', 0.5120930075645447], ['ikari shinji', 0.2607155740261078]]\n",
      "8436.jpg [['saigyouji yuyuko', 0.1193322166800499]]\n",
      "5828.jpg [['ikari shinji', 0.13326214253902435]]\n",
      "8071.jpg [['kousaka tamaki', 0.5505549311637878]]\n",
      "11968.jpg [['pikachu', 0.25509053468704224]]\n"
     ]
    }
   ],
   "source": [
    "c = 0\n",
    "for poster in tags:\n",
    "    if tags[poster]['character']:\n",
    "        print(poster, tags[poster]['character'])\n",
    "        c += 1\n",
    "        if c > 5:\n",
    "            break"
   ]
  },
  {
   "cell_type": "code",
   "execution_count": 3,
   "metadata": {},
   "outputs": [
    {
     "name": "stdout",
     "output_type": "stream",
     "text": [
      "2361.jpg [['tengen toppa gurren lagann', 0.30961599946022034]]\n",
      "5307.jpg [['the legend of zelda', 0.5240063071250916], ['twilight princess', 0.11857282370328903]]\n",
      "8000.jpg [['neon genesis evangelion', 0.455232709646225], ['fate/zero', 0.1699470430612564], ['axis powers hetalia', 0.14517328143119812]]\n",
      "279.jpg [['pokemon', 0.2236943542957306], ['original', 0.21127593517303467]]\n",
      "5550.jpg [['idolmaster', 0.3257474899291992]]\n",
      "12191.jpg [['original', 0.5091807246208191]]\n"
     ]
    }
   ],
   "source": [
    "c = 0\n",
    "for poster in tags:\n",
    "    if tags[poster]['copyright']:\n",
    "        print(poster, tags[poster]['copyright'])\n",
    "        c += 1\n",
    "        if c > 5:\n",
    "            break"
   ]
  },
  {
   "cell_type": "code",
   "execution_count": 4,
   "metadata": {},
   "outputs": [
    {
     "data": {
      "text/plain": [
       "503"
      ]
     },
     "execution_count": 4,
     "metadata": {},
     "output_type": "execute_result"
    }
   ],
   "source": [
    "all_tags = set()\n",
    "for poster in tags:\n",
    "    all_tags.update([tag for tag, _ in tags[poster]['general']])\n",
    "nb_tags = len(all_tags)\n",
    "nb_tags"
   ]
  },
  {
   "cell_type": "code",
   "execution_count": 5,
   "metadata": {},
   "outputs": [
    {
     "data": {
      "text/plain": [
       "['one-piece swimsuit',\n",
       " 'face',\n",
       " 'rape',\n",
       " 'umbrella',\n",
       " 'choker',\n",
       " 'grass',\n",
       " 'open shirt',\n",
       " 'bottomless',\n",
       " 'pubic hair',\n",
       " 'eating']"
      ]
     },
     "execution_count": 5,
     "metadata": {},
     "output_type": "execute_result"
    }
   ],
   "source": [
    "list(all_tags)[:10]"
   ]
  },
  {
   "cell_type": "code",
   "execution_count": 6,
   "metadata": {},
   "outputs": [
    {
     "data": {
      "text/plain": [
       "[('short hair', 9356),\n",
       " ('1girl', 8601),\n",
       " ('long hair', 8066),\n",
       " ('smile', 7922),\n",
       " ('brown hair', 7342)]"
      ]
     },
     "execution_count": 6,
     "metadata": {},
     "output_type": "execute_result"
    }
   ],
   "source": [
    "from collections import Counter\n",
    "\n",
    "tag_counter = Counter()\n",
    "for poster in tags:\n",
    "    for tag, weight in tags[poster]['general']:\n",
    "        tag_counter[tag] += 1\n",
    "tag_counter.most_common(5)"
   ]
  },
  {
   "cell_type": "code",
   "execution_count": 7,
   "metadata": {},
   "outputs": [
    {
     "data": {
      "text/plain": [
       "[('short hair', 9356),\n",
       " ('1girl', 8601),\n",
       " ('long hair', 8066),\n",
       " ('smile', 7922),\n",
       " ('brown hair', 7342),\n",
       " ('black hair', 6908),\n",
       " ('1boy', 6875),\n",
       " ('multiple girls', 6252),\n",
       " ('blue eyes', 5859),\n",
       " ('multiple boys', 5818),\n",
       " ('blonde hair', 5441),\n",
       " ('solo', 5341),\n",
       " ('hat', 5126),\n",
       " ('open mouth', 4839),\n",
       " ('brown eyes', 4790),\n",
       " ('weapon', 4755),\n",
       " ('gloves', 4655),\n",
       " ('parody', 4276),\n",
       " ('2boys', 4028),\n",
       " ('2girls', 3825)]"
      ]
     },
     "execution_count": 7,
     "metadata": {},
     "output_type": "execute_result"
    }
   ],
   "source": [
    "tag_counter.most_common(20)"
   ]
  },
  {
   "cell_type": "code",
   "execution_count": 8,
   "metadata": {},
   "outputs": [
    {
     "data": {
      "text/plain": [
       "True"
      ]
     },
     "execution_count": 8,
     "metadata": {},
     "output_type": "execute_result"
    }
   ],
   "source": [
    "'mecha' in all_tags"
   ]
  },
  {
   "cell_type": "code",
   "execution_count": 31,
   "metadata": {
    "collapsed": true
   },
   "outputs": [],
   "source": [
    "tag_list = list(all_tags)\n",
    "encode_tag = dict(zip(tag_list, range(nb_tags)))"
   ]
  },
  {
   "cell_type": "code",
   "execution_count": 36,
   "metadata": {
    "collapsed": true
   },
   "outputs": [],
   "source": [
    "from mangaki.utils.data import Dataset\n",
    "from mangaki.utils.als import MangakiALS\n",
    "\n",
    "# triplets = Rating.objects.values_list('user_id', 'work_id', 'choice')\n",
    "# dataset, algo = fit_algo('als', triplets)\n",
    "# als = MangakiALS(20)\n",
    "dataset = Dataset()\n",
    "dataset.load('balse.pickle')"
   ]
  },
  {
   "cell_type": "code",
   "execution_count": 38,
   "metadata": {
    "collapsed": true
   },
   "outputs": [],
   "source": [
    "from scipy.sparse import lil_matrix\n",
    "\n",
    "T = lil_matrix((dataset.anonymized.nb_works, nb_tags))"
   ]
  },
  {
   "cell_type": "code",
   "execution_count": 39,
   "metadata": {},
   "outputs": [],
   "source": [
    "for poster in tags:\n",
    "    work_id = int(poster.replace('.jpg', ''))\n",
    "    if work_id in dataset.encode_work:\n",
    "        encoded_work_id = dataset.encode_work[work_id]\n",
    "        for tag, weight in tags[poster]['general']:\n",
    "            T[encoded_work_id, encode_tag[tag]] = weight"
   ]
  },
  {
   "cell_type": "code",
   "execution_count": 42,
   "metadata": {
    "collapsed": true
   },
   "outputs": [],
   "source": [
    "from scipy.sparse import save_npz\n",
    "\n",
    "save_npz('../data/balse-tag-matrix.npz', T.tocsr())"
   ]
  },
  {
   "cell_type": "code",
   "execution_count": 43,
   "metadata": {
    "collapsed": true
   },
   "outputs": [],
   "source": [
    "from scipy.sparse import load_npz\n",
    "\n",
    "test = load_npz('../data/balse-tag-matrix.npz')"
   ]
  },
  {
   "cell_type": "code",
   "execution_count": 50,
   "metadata": {},
   "outputs": [
    {
     "data": {
      "text/plain": [
       "<1x503 sparse matrix of type '<class 'numpy.float64'>'\n",
       "\twith 0 stored elements in Compressed Sparse Row format>"
      ]
     },
     "execution_count": 50,
     "metadata": {},
     "output_type": "execute_result"
    }
   ],
   "source": [
    "test[6]"
   ]
  },
  {
   "cell_type": "code",
   "execution_count": 51,
   "metadata": {},
   "outputs": [
    {
     "name": "stdout",
     "output_type": "stream",
     "text": [
      "(0.52591460943222046, 'necktie')\n",
      "(0.36410069465637207, 'orange hair')\n",
      "(0.11872074007987976, 'pantyhose')\n",
      "(0.24805808067321777, '4girls')\n",
      "(0.47012579441070557, 'brown hair')\n",
      "(0.10045239329338074, 'blonde hair')\n",
      "(0.3337477445602417, '5girls')\n",
      "(0.7482379674911499, 'long hair')\n",
      "(0.2238166332244873, 'short hair')\n",
      "(0.97647935152053833, 'glasses')\n",
      "(0.33124428987503052, 'blue eyes')\n",
      "(0.12947775423526764, 'plaid skirt')\n",
      "(0.12313555926084518, 'everyone')\n",
      "(0.53594076633453369, 'cover')\n",
      "(0.21879871189594269, 'miniskirt')\n",
      "(0.12772224843502045, 'breasts')\n",
      "(0.51767349243164062, 'thighhighs')\n",
      "(0.12364202737808228, 'green eyes')\n",
      "(0.75966435670852661, 'blue hair')\n",
      "(0.20707255601882935, 'red eyes')\n",
      "(0.26751083135604858, 'zettai ryouiki')\n",
      "(0.49936851859092712, 'scan')\n",
      "(0.20417030155658722, 'antenna hair')\n",
      "(0.68431460857391357, 'skirt')\n",
      "(0.99110400676727295, 'multiple girls')\n",
      "(0.21105532348155975, '3girls')\n",
      "(0.26187324523925781, 'ponytail')\n",
      "(0.33853286504745483, 'smile')\n",
      "(0.23489545285701752, 'purple hair')\n",
      "(0.11601794511079788, 'bow')\n",
      "(0.1656869649887085, 'black hair')\n",
      "(0.40554022789001465, 'brown eyes')\n",
      "(0.15343558788299561, 'blazer')\n",
      "(0.22330985963344574, 'twintails')\n",
      "(0.49346709251403809, 'pleated skirt')\n",
      "(0.10534881055355072, 'shirt')\n",
      "(0.12055220454931259, 'bowtie')\n",
      "(0.23383411765098572, 'plaid')\n",
      "(0.22694678604602814, 'open mouth')\n",
      "(0.91323351860046387, 'school uniform')\n"
     ]
    }
   ],
   "source": [
    "for line in zip(test[1].data, map(lambda x: tag_list[x], test[1].indices)):\n",
    "    print(line)"
   ]
  },
  {
   "cell_type": "code",
   "execution_count": 52,
   "metadata": {},
   "outputs": [
    {
     "data": {
      "text/plain": [
       "array([],\n",
       "      dtype='<U20')"
      ]
     },
     "execution_count": 52,
     "metadata": {},
     "output_type": "execute_result"
    }
   ],
   "source": [
    "import numpy as np\n",
    "\n",
    "np.array(tag_list)[test[6].indices]"
   ]
  },
  {
   "cell_type": "code",
   "execution_count": 54,
   "metadata": {
    "collapsed": true
   },
   "outputs": [],
   "source": [
    "import csv\n",
    "\n",
    "with open('../data/balse-tags.csv', 'w') as csvfile:\n",
    "    data = csv.writer(csvfile, delimiter=',')\n",
    "    for i, tag in enumerate(tag_list):\n",
    "        data.writerow([i, tag])"
   ]
  },
  {
   "cell_type": "code",
   "execution_count": null,
   "metadata": {
    "collapsed": true
   },
   "outputs": [],
   "source": []
  }
 ],
 "metadata": {
  "kernelspec": {
   "display_name": "Django Shell-Plus",
   "language": "python",
   "name": "django_extensions"
  },
  "language_info": {
   "codemirror_mode": {
    "name": "ipython",
    "version": 3
   },
   "file_extension": ".py",
   "mimetype": "text/x-python",
   "name": "python",
   "nbconvert_exporter": "python",
   "pygments_lexer": "ipython3",
   "version": "3.6.2"
  }
 },
 "nbformat": 4,
 "nbformat_minor": 2
}
