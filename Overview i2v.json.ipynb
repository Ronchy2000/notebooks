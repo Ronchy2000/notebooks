{
 "cells": [
  {
   "cell_type": "code",
   "execution_count": 3,
   "metadata": {},
   "outputs": [
    {
     "data": {
      "text/plain": [
       "{'character': [],\n",
       " 'copyright': [],\n",
       " 'general': [['1girl', 0.5351361632347107],\n",
       "  ['1boy', 0.5314481258392334],\n",
       "  ['black hair', 0.4160270392894745],\n",
       "  ['short hair', 0.4073851704597473],\n",
       "  ['blue eyes', 0.2690363824367523],\n",
       "  ['multiple boys', 0.16339154541492462],\n",
       "  ['weapon', 0.16306668519973755],\n",
       "  ['long hair', 0.16088248789310455],\n",
       "  ['2boys', 0.15612725913524628],\n",
       "  ['male', 0.1489870250225067],\n",
       "  ['brown hair', 0.13320335745811462],\n",
       "  ['scan', 0.11500567942857742],\n",
       "  ['2girls', 0.10508275777101517]],\n",
       " 'rating': [['safe', 0.9664666652679443],\n",
       "  ['questionable', 0.0323437824845314],\n",
       "  ['explicit', 0.00026572716888040304]]}"
      ]
     },
     "execution_count": 3,
     "metadata": {},
     "output_type": "execute_result"
    }
   ],
   "source": [
    "import json\n",
    "\n",
    "tags = json.load(open('../data/illustration2vec/mangaki_i2v.json'))\n",
    "tags['1.jpg']"
   ]
  },
  {
   "cell_type": "code",
   "execution_count": 4,
   "metadata": {},
   "outputs": [
    {
     "name": "stdout",
     "output_type": "stream",
     "text": [
      "5307.jpg [['link', 0.5413832068443298]]\n",
      "8000.jpg [['nagisa kaworu', 0.5120930075645447], ['ikari shinji', 0.2607155740261078]]\n",
      "8436.jpg [['saigyouji yuyuko', 0.1193322166800499]]\n",
      "5828.jpg [['ikari shinji', 0.13326214253902435]]\n",
      "8071.jpg [['kousaka tamaki', 0.5505549311637878]]\n",
      "11968.jpg [['pikachu', 0.25509053468704224]]\n"
     ]
    }
   ],
   "source": [
    "c = 0\n",
    "for poster in tags:\n",
    "    if tags[poster]['character']:\n",
    "        print(poster, tags[poster]['character'])\n",
    "        c += 1\n",
    "        if c > 5:\n",
    "            break"
   ]
  },
  {
   "cell_type": "code",
   "execution_count": 5,
   "metadata": {},
   "outputs": [
    {
     "name": "stdout",
     "output_type": "stream",
     "text": [
      "2361.jpg [['tengen toppa gurren lagann', 0.30961599946022034]]\n",
      "5307.jpg [['the legend of zelda', 0.5240063071250916], ['twilight princess', 0.11857282370328903]]\n",
      "8000.jpg [['neon genesis evangelion', 0.455232709646225], ['fate/zero', 0.1699470430612564], ['axis powers hetalia', 0.14517328143119812]]\n",
      "279.jpg [['pokemon', 0.2236943542957306], ['original', 0.21127593517303467]]\n",
      "5550.jpg [['idolmaster', 0.3257474899291992]]\n",
      "12191.jpg [['original', 0.5091807246208191]]\n"
     ]
    }
   ],
   "source": [
    "c = 0\n",
    "for poster in tags:\n",
    "    if tags[poster]['copyright']:\n",
    "        print(poster, tags[poster]['copyright'])\n",
    "        c += 1\n",
    "        if c > 5:\n",
    "            break"
   ]
  },
  {
   "cell_type": "code",
   "execution_count": 6,
   "metadata": {},
   "outputs": [
    {
     "data": {
      "text/plain": [
       "503"
      ]
     },
     "execution_count": 6,
     "metadata": {},
     "output_type": "execute_result"
    }
   ],
   "source": [
    "all_tags = set()\n",
    "for poster in tags:\n",
    "    all_tags.update([tag for tag, _ in tags[poster]['general']])\n",
    "nb_tags = len(all_tags)\n",
    "nb_tags"
   ]
  },
  {
   "cell_type": "code",
   "execution_count": 7,
   "metadata": {},
   "outputs": [
    {
     "data": {
      "text/plain": [
       "['gloves',\n",
       " 'penis',\n",
       " 'outstretched arms',\n",
       " 'military',\n",
       " 'sash',\n",
       " 'hoodie',\n",
       " 'hand on hip',\n",
       " 'masturbation',\n",
       " 'spoilers',\n",
       " 'multicolored hair']"
      ]
     },
     "execution_count": 7,
     "metadata": {},
     "output_type": "execute_result"
    }
   ],
   "source": [
    "list(all_tags)[:10]"
   ]
  },
  {
   "cell_type": "code",
   "execution_count": 8,
   "metadata": {},
   "outputs": [
    {
     "data": {
      "text/plain": [
       "[('short hair', 9356),\n",
       " ('1girl', 8601),\n",
       " ('long hair', 8066),\n",
       " ('smile', 7922),\n",
       " ('brown hair', 7342)]"
      ]
     },
     "execution_count": 8,
     "metadata": {},
     "output_type": "execute_result"
    }
   ],
   "source": [
    "from collections import Counter\n",
    "\n",
    "tag_counter = Counter()\n",
    "for poster in tags:\n",
    "    for tag, weight in tags[poster]['general']:\n",
    "        tag_counter[tag] += 1\n",
    "tag_counter.most_common(5)"
   ]
  },
  {
   "cell_type": "code",
   "execution_count": 9,
   "metadata": {},
   "outputs": [
    {
     "data": {
      "text/plain": [
       "[('short hair', 9356),\n",
       " ('1girl', 8601),\n",
       " ('long hair', 8066),\n",
       " ('smile', 7922),\n",
       " ('brown hair', 7342),\n",
       " ('black hair', 6908),\n",
       " ('1boy', 6875),\n",
       " ('multiple girls', 6252),\n",
       " ('blue eyes', 5859),\n",
       " ('multiple boys', 5818),\n",
       " ('blonde hair', 5441),\n",
       " ('solo', 5341),\n",
       " ('hat', 5126),\n",
       " ('open mouth', 4839),\n",
       " ('brown eyes', 4790),\n",
       " ('weapon', 4755),\n",
       " ('gloves', 4655),\n",
       " ('parody', 4276),\n",
       " ('2boys', 4028),\n",
       " ('2girls', 3825)]"
      ]
     },
     "execution_count": 9,
     "metadata": {},
     "output_type": "execute_result"
    }
   ],
   "source": [
    "tag_counter.most_common(20)"
   ]
  },
  {
   "cell_type": "code",
   "execution_count": 10,
   "metadata": {},
   "outputs": [
    {
     "data": {
      "text/plain": [
       "True"
      ]
     },
     "execution_count": 10,
     "metadata": {},
     "output_type": "execute_result"
    }
   ],
   "source": [
    "'mecha' in all_tags"
   ]
  },
  {
   "cell_type": "code",
   "execution_count": 15,
   "metadata": {
    "collapsed": true
   },
   "outputs": [],
   "source": [
    "encode_tag = dict(zip(list(all_tags), range(nb_tags)))"
   ]
  },
  {
   "cell_type": "code",
   "execution_count": 12,
   "metadata": {},
   "outputs": [
    {
     "name": "stdout",
     "output_type": "stream",
     "text": [
      "Computing M: (2071 × 10086)\n",
      "Chrono: fill and center matrix [3q, 2369ms]\n",
      "Shapes (2071, 20) (20, 10086)\n",
      "Chrono: factor matrix [3q, 8392ms]\n"
     ]
    }
   ],
   "source": [
    "from mangaki.utils.algo import fit_algo, get_dataset_backup\n",
    "\n",
    "triplets = Rating.objects.values_list('user_id', 'work_id', 'choice')\n",
    "dataset, algo = fit_algo('als', triplets)"
   ]
  },
  {
   "cell_type": "code",
   "execution_count": 13,
   "metadata": {},
   "outputs": [],
   "source": [
    "import numpy as np\n",
    "\n",
    "T = np.zeros((dataset.anonymized.nb_works, nb_tags))"
   ]
  },
  {
   "cell_type": "code",
   "execution_count": 18,
   "metadata": {},
   "outputs": [],
   "source": [
    "for poster in tags:\n",
    "    work_id = int(poster.replace('.jpg', ''))\n",
    "    if work_id in dataset.encode_work:\n",
    "        encoded_work_id = dataset.encode_work[work_id]\n",
    "        for tag, weight in tags[poster]['general']:\n",
    "            T[encoded_work_id][encode_tag[tag]] = weight"
   ]
  },
  {
   "cell_type": "code",
   "execution_count": 24,
   "metadata": {},
   "outputs": [],
   "source": [
    "with open('../pickles/tags.pickle', 'wb') as f:\n",
    "    np.save(f, T)"
   ]
  }
 ],
 "metadata": {
  "kernelspec": {
   "display_name": "Django Shell-Plus",
   "language": "python",
   "name": "django_extensions"
  },
  "language_info": {
   "codemirror_mode": {
    "name": "ipython",
    "version": 3
   },
   "file_extension": ".py",
   "mimetype": "text/x-python",
   "name": "python",
   "nbconvert_exporter": "python",
   "pygments_lexer": "ipython3",
   "version": "3.6.1"
  }
 },
 "nbformat": 4,
 "nbformat_minor": 2
}
