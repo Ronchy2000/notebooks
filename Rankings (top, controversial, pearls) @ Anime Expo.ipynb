{
 "cells": [
  {
   "cell_type": "markdown",
   "metadata": {},
   "source": [
    "# Rankings (top, controversial, pearls) @ Anime Expo"
   ]
  },
  {
   "cell_type": "markdown",
   "metadata": {},
   "source": [
    "Hi! This is an overview of the main filters of Mangaki (top(), controversial(), random()), and how they could and should be improved.\n",
    "\n",
    "It was presented at the **Anime & Manga Studies Symposium of Anime Expo** on July 2, 2017."
   ]
  },
  {
   "cell_type": "markdown",
   "metadata": {},
   "source": [
    "## Most popular"
   ]
  },
  {
   "cell_type": "code",
   "execution_count": 1,
   "metadata": {},
   "outputs": [
    {
     "data": {
      "text/html": [
       "<div>\n",
       "<style>\n",
       "    .dataframe thead tr:only-child th {\n",
       "        text-align: right;\n",
       "    }\n",
       "\n",
       "    .dataframe thead th {\n",
       "        text-align: left;\n",
       "    }\n",
       "\n",
       "    .dataframe tbody tr th {\n",
       "        vertical-align: top;\n",
       "    }\n",
       "</style>\n",
       "<table border=\"1\" class=\"dataframe\">\n",
       "  <thead>\n",
       "    <tr style=\"text-align: right;\">\n",
       "      <th></th>\n",
       "      <th>nb_ratings</th>\n",
       "      <th>title</th>\n",
       "    </tr>\n",
       "  </thead>\n",
       "  <tbody>\n",
       "    <tr>\n",
       "      <th>0</th>\n",
       "      <td>1489</td>\n",
       "      <td>Death Note</td>\n",
       "    </tr>\n",
       "    <tr>\n",
       "      <th>1</th>\n",
       "      <td>1367</td>\n",
       "      <td>L'Attaque des Titans</td>\n",
       "    </tr>\n",
       "    <tr>\n",
       "      <th>2</th>\n",
       "      <td>1227</td>\n",
       "      <td>Le Voyage de Chihiro</td>\n",
       "    </tr>\n",
       "    <tr>\n",
       "      <th>3</th>\n",
       "      <td>1194</td>\n",
       "      <td>Naruto</td>\n",
       "    </tr>\n",
       "    <tr>\n",
       "      <th>4</th>\n",
       "      <td>1188</td>\n",
       "      <td>Princesse Mononoké</td>\n",
       "    </tr>\n",
       "    <tr>\n",
       "      <th>5</th>\n",
       "      <td>1167</td>\n",
       "      <td>Sword Art Online</td>\n",
       "    </tr>\n",
       "    <tr>\n",
       "      <th>6</th>\n",
       "      <td>1164</td>\n",
       "      <td>Fullmetal Alchemist: Brotherhood</td>\n",
       "    </tr>\n",
       "    <tr>\n",
       "      <th>7</th>\n",
       "      <td>1047</td>\n",
       "      <td>Fullmetal Alchemist</td>\n",
       "    </tr>\n",
       "    <tr>\n",
       "      <th>8</th>\n",
       "      <td>1009</td>\n",
       "      <td>Naruto: Shippuuden</td>\n",
       "    </tr>\n",
       "    <tr>\n",
       "      <th>9</th>\n",
       "      <td>996</td>\n",
       "      <td>Fairy Tail</td>\n",
       "    </tr>\n",
       "  </tbody>\n",
       "</table>\n",
       "</div>"
      ],
      "text/plain": [
       "   nb_ratings                             title\n",
       "0        1489                        Death Note\n",
       "1        1367              L'Attaque des Titans\n",
       "2        1227              Le Voyage de Chihiro\n",
       "3        1194                            Naruto\n",
       "4        1188                Princesse Mononoké\n",
       "5        1167                  Sword Art Online\n",
       "6        1164  Fullmetal Alchemist: Brotherhood\n",
       "7        1047               Fullmetal Alchemist\n",
       "8        1009                Naruto: Shippuuden\n",
       "9         996                        Fairy Tail"
      ]
     },
     "execution_count": 1,
     "metadata": {},
     "output_type": "execute_result"
    }
   ],
   "source": [
    "import pandas as pd\n",
    "\n",
    "pd.DataFrame(list(Work.objects.popular().values('title', 'nb_ratings')[:10]))"
   ]
  },
  {
   "cell_type": "markdown",
   "metadata": {},
   "source": [
    "## Top"
   ]
  },
  {
   "cell_type": "code",
   "execution_count": 23,
   "metadata": {},
   "outputs": [
    {
     "data": {
      "text/html": [
       "<div>\n",
       "<style>\n",
       "    .dataframe thead tr:only-child th {\n",
       "        text-align: right;\n",
       "    }\n",
       "\n",
       "    .dataframe thead th {\n",
       "        text-align: left;\n",
       "    }\n",
       "\n",
       "    .dataframe tbody tr th {\n",
       "        vertical-align: top;\n",
       "    }\n",
       "</style>\n",
       "<table border=\"1\" class=\"dataframe\">\n",
       "  <thead>\n",
       "    <tr style=\"text-align: right;\">\n",
       "      <th></th>\n",
       "      <th>category__slug</th>\n",
       "      <th>nb_dislikes</th>\n",
       "      <th>nb_likes</th>\n",
       "      <th>title</th>\n",
       "    </tr>\n",
       "  </thead>\n",
       "  <tbody>\n",
       "    <tr>\n",
       "      <th>0</th>\n",
       "      <td>manga</td>\n",
       "      <td>7</td>\n",
       "      <td>164</td>\n",
       "      <td>Fullmetal Alchemist - Edition reliée</td>\n",
       "    </tr>\n",
       "    <tr>\n",
       "      <th>1</th>\n",
       "      <td>manga</td>\n",
       "      <td>14</td>\n",
       "      <td>457</td>\n",
       "      <td>FullMetal Alchemist</td>\n",
       "    </tr>\n",
       "    <tr>\n",
       "      <th>2</th>\n",
       "      <td>anime</td>\n",
       "      <td>34</td>\n",
       "      <td>837</td>\n",
       "      <td>Fullmetal Alchemist: Brotherhood</td>\n",
       "    </tr>\n",
       "    <tr>\n",
       "      <th>3</th>\n",
       "      <td>anime</td>\n",
       "      <td>30</td>\n",
       "      <td>442</td>\n",
       "      <td>Steins;Gate</td>\n",
       "    </tr>\n",
       "    <tr>\n",
       "      <th>4</th>\n",
       "      <td>anime</td>\n",
       "      <td>31</td>\n",
       "      <td>860</td>\n",
       "      <td>Princesse Mononoké</td>\n",
       "    </tr>\n",
       "    <tr>\n",
       "      <th>5</th>\n",
       "      <td>anime</td>\n",
       "      <td>29</td>\n",
       "      <td>938</td>\n",
       "      <td>Le Voyage de Chihiro</td>\n",
       "    </tr>\n",
       "    <tr>\n",
       "      <th>6</th>\n",
       "      <td>anime</td>\n",
       "      <td>65</td>\n",
       "      <td>971</td>\n",
       "      <td>L'Attaque des Titans</td>\n",
       "    </tr>\n",
       "    <tr>\n",
       "      <th>7</th>\n",
       "      <td>manga</td>\n",
       "      <td>20</td>\n",
       "      <td>210</td>\n",
       "      <td>Tokyo ghoul</td>\n",
       "    </tr>\n",
       "    <tr>\n",
       "      <th>8</th>\n",
       "      <td>manga</td>\n",
       "      <td>26</td>\n",
       "      <td>480</td>\n",
       "      <td>Death note</td>\n",
       "    </tr>\n",
       "    <tr>\n",
       "      <th>9</th>\n",
       "      <td>anime</td>\n",
       "      <td>18</td>\n",
       "      <td>255</td>\n",
       "      <td>Your Lie in April</td>\n",
       "    </tr>\n",
       "  </tbody>\n",
       "</table>\n",
       "</div>"
      ],
      "text/plain": [
       "  category__slug  nb_dislikes  nb_likes                                 title\n",
       "0          manga            7       164  Fullmetal Alchemist - Edition reliée\n",
       "1          manga           14       457                   FullMetal Alchemist\n",
       "2          anime           34       837      Fullmetal Alchemist: Brotherhood\n",
       "3          anime           30       442                           Steins;Gate\n",
       "4          anime           31       860                    Princesse Mononoké\n",
       "5          anime           29       938                  Le Voyage de Chihiro\n",
       "6          anime           65       971                  L'Attaque des Titans\n",
       "7          manga           20       210                           Tokyo ghoul\n",
       "8          manga           26       480                            Death note\n",
       "9          anime           18       255                     Your Lie in April"
      ]
     },
     "execution_count": 23,
     "metadata": {},
     "output_type": "execute_result"
    }
   ],
   "source": [
    "import pandas as pd\n",
    "\n",
    "pd.DataFrame(list(Work.objects.top().values('title', 'nb_likes', 'nb_dislikes', 'category__slug')[:10]))"
   ]
  },
  {
   "cell_type": "markdown",
   "metadata": {},
   "source": [
    "## Worst"
   ]
  },
  {
   "cell_type": "code",
   "execution_count": 30,
   "metadata": {},
   "outputs": [
    {
     "data": {
      "text/html": [
       "<div>\n",
       "<style>\n",
       "    .dataframe thead tr:only-child th {\n",
       "        text-align: right;\n",
       "    }\n",
       "\n",
       "    .dataframe thead th {\n",
       "        text-align: left;\n",
       "    }\n",
       "\n",
       "    .dataframe tbody tr th {\n",
       "        vertical-align: top;\n",
       "    }\n",
       "</style>\n",
       "<table border=\"1\" class=\"dataframe\">\n",
       "  <thead>\n",
       "    <tr style=\"text-align: right;\">\n",
       "      <th></th>\n",
       "      <th>category__slug</th>\n",
       "      <th>nb_dislikes</th>\n",
       "      <th>nb_likes</th>\n",
       "      <th>title</th>\n",
       "    </tr>\n",
       "  </thead>\n",
       "  <tbody>\n",
       "    <tr>\n",
       "      <th>0</th>\n",
       "      <td>anime</td>\n",
       "      <td>39</td>\n",
       "      <td>26</td>\n",
       "      <td>Girls Bravo: First Season</td>\n",
       "    </tr>\n",
       "    <tr>\n",
       "      <th>1</th>\n",
       "      <td>anime</td>\n",
       "      <td>38</td>\n",
       "      <td>32</td>\n",
       "      <td>Astarotte's Toy</td>\n",
       "    </tr>\n",
       "    <tr>\n",
       "      <th>2</th>\n",
       "      <td>anime</td>\n",
       "      <td>35</td>\n",
       "      <td>24</td>\n",
       "      <td>Captain Earth</td>\n",
       "    </tr>\n",
       "    <tr>\n",
       "      <th>3</th>\n",
       "      <td>anime</td>\n",
       "      <td>22</td>\n",
       "      <td>13</td>\n",
       "      <td>Vividred Operation</td>\n",
       "    </tr>\n",
       "    <tr>\n",
       "      <th>4</th>\n",
       "      <td>anime</td>\n",
       "      <td>33</td>\n",
       "      <td>27</td>\n",
       "      <td>Choujigen Game Neptune: The Animation</td>\n",
       "    </tr>\n",
       "    <tr>\n",
       "      <th>5</th>\n",
       "      <td>anime</td>\n",
       "      <td>27</td>\n",
       "      <td>24</td>\n",
       "      <td>Haruka Nogizaka's Secret</td>\n",
       "    </tr>\n",
       "    <tr>\n",
       "      <th>6</th>\n",
       "      <td>manga</td>\n",
       "      <td>33</td>\n",
       "      <td>24</td>\n",
       "      <td>Ai non stop!</td>\n",
       "    </tr>\n",
       "    <tr>\n",
       "      <th>7</th>\n",
       "      <td>anime</td>\n",
       "      <td>162</td>\n",
       "      <td>88</td>\n",
       "      <td>Dragon Ball GT</td>\n",
       "    </tr>\n",
       "    <tr>\n",
       "      <th>8</th>\n",
       "      <td>anime</td>\n",
       "      <td>67</td>\n",
       "      <td>55</td>\n",
       "      <td>Dog Days</td>\n",
       "    </tr>\n",
       "    <tr>\n",
       "      <th>9</th>\n",
       "      <td>anime</td>\n",
       "      <td>37</td>\n",
       "      <td>23</td>\n",
       "      <td>Glasslip</td>\n",
       "    </tr>\n",
       "  </tbody>\n",
       "</table>\n",
       "</div>"
      ],
      "text/plain": [
       "  category__slug  nb_dislikes  nb_likes                                  title\n",
       "0          anime           39        26              Girls Bravo: First Season\n",
       "1          anime           38        32                        Astarotte's Toy\n",
       "2          anime           35        24                          Captain Earth\n",
       "3          anime           22        13                     Vividred Operation\n",
       "4          anime           33        27  Choujigen Game Neptune: The Animation\n",
       "5          anime           27        24               Haruka Nogizaka's Secret\n",
       "6          manga           33        24                           Ai non stop!\n",
       "7          anime          162        88                         Dragon Ball GT\n",
       "8          anime           67        55                               Dog Days\n",
       "9          anime           37        23                               Glasslip"
      ]
     },
     "execution_count": 30,
     "metadata": {},
     "output_type": "execute_result"
    }
   ],
   "source": [
    "import pandas as pd\n",
    "\n",
    "pd.DataFrame(list(Work.objects.top().reverse().values('title', 'nb_likes', 'nb_dislikes', 'category__slug')[:10]))"
   ]
  },
  {
   "cell_type": "markdown",
   "metadata": {},
   "source": [
    "## Most controversial"
   ]
  },
  {
   "cell_type": "code",
   "execution_count": 24,
   "metadata": {},
   "outputs": [
    {
     "data": {
      "text/html": [
       "<div>\n",
       "<style>\n",
       "    .dataframe thead tr:only-child th {\n",
       "        text-align: right;\n",
       "    }\n",
       "\n",
       "    .dataframe thead th {\n",
       "        text-align: left;\n",
       "    }\n",
       "\n",
       "    .dataframe tbody tr th {\n",
       "        vertical-align: top;\n",
       "    }\n",
       "</style>\n",
       "<table border=\"1\" class=\"dataframe\">\n",
       "  <thead>\n",
       "    <tr style=\"text-align: right;\">\n",
       "      <th></th>\n",
       "      <th>nb_dislikes</th>\n",
       "      <th>nb_likes</th>\n",
       "      <th>title</th>\n",
       "    </tr>\n",
       "  </thead>\n",
       "  <tbody>\n",
       "    <tr>\n",
       "      <th>0</th>\n",
       "      <td>161</td>\n",
       "      <td>182</td>\n",
       "      <td>School Days</td>\n",
       "    </tr>\n",
       "    <tr>\n",
       "      <th>1</th>\n",
       "      <td>109</td>\n",
       "      <td>125</td>\n",
       "      <td>Dragon Ball Z Movie 11: Bio-Broly</td>\n",
       "    </tr>\n",
       "    <tr>\n",
       "      <th>2</th>\n",
       "      <td>58</td>\n",
       "      <td>59</td>\n",
       "      <td>Rail Wars!</td>\n",
       "    </tr>\n",
       "    <tr>\n",
       "      <th>3</th>\n",
       "      <td>67</td>\n",
       "      <td>74</td>\n",
       "      <td>Freezing</td>\n",
       "    </tr>\n",
       "    <tr>\n",
       "      <th>4</th>\n",
       "      <td>66</td>\n",
       "      <td>77</td>\n",
       "      <td>Chaos;Head</td>\n",
       "    </tr>\n",
       "    <tr>\n",
       "      <th>5</th>\n",
       "      <td>58</td>\n",
       "      <td>52</td>\n",
       "      <td>To Love</td>\n",
       "    </tr>\n",
       "    <tr>\n",
       "      <th>6</th>\n",
       "      <td>96</td>\n",
       "      <td>124</td>\n",
       "      <td>Kiss x Sis</td>\n",
       "    </tr>\n",
       "    <tr>\n",
       "      <th>7</th>\n",
       "      <td>52</td>\n",
       "      <td>48</td>\n",
       "      <td>Sakura Trick</td>\n",
       "    </tr>\n",
       "    <tr>\n",
       "      <th>8</th>\n",
       "      <td>91</td>\n",
       "      <td>117</td>\n",
       "      <td>Naruto the Movie 2: Legend of the Stone of Gelel</td>\n",
       "    </tr>\n",
       "    <tr>\n",
       "      <th>9</th>\n",
       "      <td>158</td>\n",
       "      <td>120</td>\n",
       "      <td>Yu-Gi-Oh! GX</td>\n",
       "    </tr>\n",
       "  </tbody>\n",
       "</table>\n",
       "</div>"
      ],
      "text/plain": [
       "   nb_dislikes  nb_likes                                             title\n",
       "0          161       182                                       School Days\n",
       "1          109       125                 Dragon Ball Z Movie 11: Bio-Broly\n",
       "2           58        59                                        Rail Wars!\n",
       "3           67        74                                          Freezing\n",
       "4           66        77                                        Chaos;Head\n",
       "5           58        52                                           To Love\n",
       "6           96       124                                        Kiss x Sis\n",
       "7           52        48                                      Sakura Trick\n",
       "8           91       117  Naruto the Movie 2: Legend of the Stone of Gelel\n",
       "9          158       120                                      Yu-Gi-Oh! GX"
      ]
     },
     "execution_count": 24,
     "metadata": {},
     "output_type": "execute_result"
    }
   ],
   "source": [
    "pd.DataFrame(list(Work.objects.controversial().values('title', 'nb_likes', 'nb_dislikes')[:10]))"
   ]
  },
  {
   "cell_type": "markdown",
   "metadata": {},
   "source": [
    "## Pearls"
   ]
  },
  {
   "cell_type": "code",
   "execution_count": 25,
   "metadata": {},
   "outputs": [
    {
     "data": {
      "text/html": [
       "<div>\n",
       "<style>\n",
       "    .dataframe thead tr:only-child th {\n",
       "        text-align: right;\n",
       "    }\n",
       "\n",
       "    .dataframe thead th {\n",
       "        text-align: left;\n",
       "    }\n",
       "\n",
       "    .dataframe tbody tr th {\n",
       "        vertical-align: top;\n",
       "    }\n",
       "</style>\n",
       "<table border=\"1\" class=\"dataframe\">\n",
       "  <thead>\n",
       "    <tr style=\"text-align: right;\">\n",
       "      <th></th>\n",
       "      <th>nb_dislikes</th>\n",
       "      <th>nb_likes</th>\n",
       "      <th>title</th>\n",
       "    </tr>\n",
       "  </thead>\n",
       "  <tbody>\n",
       "    <tr>\n",
       "      <th>0</th>\n",
       "      <td>0</td>\n",
       "      <td>19</td>\n",
       "      <td>Owari no Seraph: Owaranai Seraph</td>\n",
       "    </tr>\n",
       "    <tr>\n",
       "      <th>1</th>\n",
       "      <td>0</td>\n",
       "      <td>22</td>\n",
       "      <td>GARO THE ANIMATION</td>\n",
       "    </tr>\n",
       "    <tr>\n",
       "      <th>2</th>\n",
       "      <td>0</td>\n",
       "      <td>34</td>\n",
       "      <td>The Boy and the Beast</td>\n",
       "    </tr>\n",
       "    <tr>\n",
       "      <th>3</th>\n",
       "      <td>0</td>\n",
       "      <td>37</td>\n",
       "      <td>Psycho-Pass: The Movie</td>\n",
       "    </tr>\n",
       "    <tr>\n",
       "      <th>4</th>\n",
       "      <td>1</td>\n",
       "      <td>56</td>\n",
       "      <td>Kara no Kyoukai 6: Boukyaku Rokuon</td>\n",
       "    </tr>\n",
       "    <tr>\n",
       "      <th>5</th>\n",
       "      <td>1</td>\n",
       "      <td>45</td>\n",
       "      <td>Samurai X: Trust and Betrayal</td>\n",
       "    </tr>\n",
       "    <tr>\n",
       "      <th>6</th>\n",
       "      <td>1</td>\n",
       "      <td>42</td>\n",
       "      <td>A Letter to Momo</td>\n",
       "    </tr>\n",
       "    <tr>\n",
       "      <th>7</th>\n",
       "      <td>1</td>\n",
       "      <td>42</td>\n",
       "      <td>My Teen Romantic Comedy SNAFU TOO!</td>\n",
       "    </tr>\n",
       "    <tr>\n",
       "      <th>8</th>\n",
       "      <td>1</td>\n",
       "      <td>41</td>\n",
       "      <td>True Tears</td>\n",
       "    </tr>\n",
       "    <tr>\n",
       "      <th>9</th>\n",
       "      <td>1</td>\n",
       "      <td>40</td>\n",
       "      <td>Tasogare Otome x Amnesia: Taima Otome</td>\n",
       "    </tr>\n",
       "  </tbody>\n",
       "</table>\n",
       "</div>"
      ],
      "text/plain": [
       "   nb_dislikes  nb_likes                                  title\n",
       "0            0        19       Owari no Seraph: Owaranai Seraph\n",
       "1            0        22                     GARO THE ANIMATION\n",
       "2            0        34                  The Boy and the Beast\n",
       "3            0        37                 Psycho-Pass: The Movie\n",
       "4            1        56     Kara no Kyoukai 6: Boukyaku Rokuon\n",
       "5            1        45          Samurai X: Trust and Betrayal\n",
       "6            1        42                       A Letter to Momo\n",
       "7            1        42     My Teen Romantic Comedy SNAFU TOO!\n",
       "8            1        41                             True Tears\n",
       "9            1        40  Tasogare Otome x Amnesia: Taima Otome"
      ]
     },
     "execution_count": 25,
     "metadata": {},
     "output_type": "execute_result"
    }
   ],
   "source": [
    "pd.DataFrame(list(Work.objects.pearls().values('title', 'nb_likes', 'nb_dislikes')[:10]))"
   ]
  },
  {
   "cell_type": "markdown",
   "metadata": {},
   "source": [
    "## Random"
   ]
  },
  {
   "cell_type": "code",
   "execution_count": 26,
   "metadata": {},
   "outputs": [
    {
     "data": {
      "text/html": [
       "<div>\n",
       "<style>\n",
       "    .dataframe thead tr:only-child th {\n",
       "        text-align: right;\n",
       "    }\n",
       "\n",
       "    .dataframe thead th {\n",
       "        text-align: left;\n",
       "    }\n",
       "\n",
       "    .dataframe tbody tr th {\n",
       "        vertical-align: top;\n",
       "    }\n",
       "</style>\n",
       "<table border=\"1\" class=\"dataframe\">\n",
       "  <thead>\n",
       "    <tr style=\"text-align: right;\">\n",
       "      <th></th>\n",
       "      <th>nb_dislikes</th>\n",
       "      <th>nb_likes</th>\n",
       "      <th>title</th>\n",
       "    </tr>\n",
       "  </thead>\n",
       "  <tbody>\n",
       "    <tr>\n",
       "      <th>0</th>\n",
       "      <td>14</td>\n",
       "      <td>49</td>\n",
       "      <td>Ground Control to Psychoelectric Girl</td>\n",
       "    </tr>\n",
       "    <tr>\n",
       "      <th>1</th>\n",
       "      <td>15</td>\n",
       "      <td>172</td>\n",
       "      <td>The Tale of The Princess Kaguya</td>\n",
       "    </tr>\n",
       "    <tr>\n",
       "      <th>2</th>\n",
       "      <td>1</td>\n",
       "      <td>20</td>\n",
       "      <td>Kannagi: Moshimo Kannagi ga Attara...</td>\n",
       "    </tr>\n",
       "    <tr>\n",
       "      <th>3</th>\n",
       "      <td>4</td>\n",
       "      <td>27</td>\n",
       "      <td>Switch girl</td>\n",
       "    </tr>\n",
       "    <tr>\n",
       "      <th>4</th>\n",
       "      <td>9</td>\n",
       "      <td>82</td>\n",
       "      <td>Ghost in the Shell 2: Innocence</td>\n",
       "    </tr>\n",
       "  </tbody>\n",
       "</table>\n",
       "</div>"
      ],
      "text/plain": [
       "   nb_dislikes  nb_likes                                  title\n",
       "0           14        49  Ground Control to Psychoelectric Girl\n",
       "1           15       172        The Tale of The Princess Kaguya\n",
       "2            1        20  Kannagi: Moshimo Kannagi ga Attara...\n",
       "3            4        27                            Switch girl\n",
       "4            9        82        Ghost in the Shell 2: Innocence"
      ]
     },
     "execution_count": 26,
     "metadata": {},
     "output_type": "execute_result"
    }
   ],
   "source": [
    "pd.DataFrame(list(Work.objects.random().order_by('?').values('title', 'nb_likes', 'nb_dislikes')[:5]))"
   ]
  },
  {
   "cell_type": "markdown",
   "metadata": {},
   "source": [
    "## I said random"
   ]
  },
  {
   "cell_type": "code",
   "execution_count": 27,
   "metadata": {},
   "outputs": [
    {
     "data": {
      "text/html": [
       "<div>\n",
       "<style>\n",
       "    .dataframe thead tr:only-child th {\n",
       "        text-align: right;\n",
       "    }\n",
       "\n",
       "    .dataframe thead th {\n",
       "        text-align: left;\n",
       "    }\n",
       "\n",
       "    .dataframe tbody tr th {\n",
       "        vertical-align: top;\n",
       "    }\n",
       "</style>\n",
       "<table border=\"1\" class=\"dataframe\">\n",
       "  <thead>\n",
       "    <tr style=\"text-align: right;\">\n",
       "      <th></th>\n",
       "      <th>nb_dislikes</th>\n",
       "      <th>nb_likes</th>\n",
       "      <th>title</th>\n",
       "    </tr>\n",
       "  </thead>\n",
       "  <tbody>\n",
       "    <tr>\n",
       "      <th>0</th>\n",
       "      <td>2</td>\n",
       "      <td>24</td>\n",
       "      <td>Air in Summer</td>\n",
       "    </tr>\n",
       "    <tr>\n",
       "      <th>1</th>\n",
       "      <td>4</td>\n",
       "      <td>26</td>\n",
       "      <td>Reset</td>\n",
       "    </tr>\n",
       "    <tr>\n",
       "      <th>2</th>\n",
       "      <td>9</td>\n",
       "      <td>79</td>\n",
       "      <td>Lucky☆Star: Original na Visual to Animation</td>\n",
       "    </tr>\n",
       "    <tr>\n",
       "      <th>3</th>\n",
       "      <td>16</td>\n",
       "      <td>257</td>\n",
       "      <td>Fate/stay night: Unlimited Blade Works (TV)</td>\n",
       "    </tr>\n",
       "    <tr>\n",
       "      <th>4</th>\n",
       "      <td>4</td>\n",
       "      <td>22</td>\n",
       "      <td>Toaru Majutsu no Index Specials</td>\n",
       "    </tr>\n",
       "  </tbody>\n",
       "</table>\n",
       "</div>"
      ],
      "text/plain": [
       "   nb_dislikes  nb_likes                                        title\n",
       "0            2        24                                Air in Summer\n",
       "1            4        26                                        Reset\n",
       "2            9        79  Lucky☆Star: Original na Visual to Animation\n",
       "3           16       257  Fate/stay night: Unlimited Blade Works (TV)\n",
       "4            4        22              Toaru Majutsu no Index Specials"
      ]
     },
     "execution_count": 27,
     "metadata": {},
     "output_type": "execute_result"
    }
   ],
   "source": [
    "pd.DataFrame(list(Work.objects.random().order_by('?').values('title', 'nb_likes', 'nb_dislikes')[:5]))"
   ]
  },
  {
   "cell_type": "markdown",
   "metadata": {},
   "source": [
    "## Special selection"
   ]
  },
  {
   "cell_type": "code",
   "execution_count": 28,
   "metadata": {
    "collapsed": true
   },
   "outputs": [],
   "source": [
    "selection = [\n",
    "    Work.objects.get(title='Kaiba').id,\n",
    "    Work.objects.get(title='Madlax').id,\n",
    "    Work.objects.filter(title__icontains='Fujiko')[3].id,\n",
    "    902\n",
    "]"
   ]
  },
  {
   "cell_type": "code",
   "execution_count": 29,
   "metadata": {},
   "outputs": [
    {
     "data": {
      "text/html": [
       "<div>\n",
       "<style>\n",
       "    .dataframe thead tr:only-child th {\n",
       "        text-align: right;\n",
       "    }\n",
       "\n",
       "    .dataframe thead th {\n",
       "        text-align: left;\n",
       "    }\n",
       "\n",
       "    .dataframe tbody tr th {\n",
       "        vertical-align: top;\n",
       "    }\n",
       "</style>\n",
       "<table border=\"1\" class=\"dataframe\">\n",
       "  <thead>\n",
       "    <tr style=\"text-align: right;\">\n",
       "      <th></th>\n",
       "      <th>nb_dislikes</th>\n",
       "      <th>nb_likes</th>\n",
       "      <th>title</th>\n",
       "    </tr>\n",
       "  </thead>\n",
       "  <tbody>\n",
       "    <tr>\n",
       "      <th>0</th>\n",
       "      <td>4</td>\n",
       "      <td>33</td>\n",
       "      <td>Kaiba</td>\n",
       "    </tr>\n",
       "    <tr>\n",
       "      <th>1</th>\n",
       "      <td>1</td>\n",
       "      <td>42</td>\n",
       "      <td>A Letter to Momo</td>\n",
       "    </tr>\n",
       "    <tr>\n",
       "      <th>2</th>\n",
       "      <td>4</td>\n",
       "      <td>19</td>\n",
       "      <td>Madlax</td>\n",
       "    </tr>\n",
       "    <tr>\n",
       "      <th>3</th>\n",
       "      <td>1</td>\n",
       "      <td>14</td>\n",
       "      <td>Lupin the Third, The Woman Called Fujiko Mine</td>\n",
       "    </tr>\n",
       "  </tbody>\n",
       "</table>\n",
       "</div>"
      ],
      "text/plain": [
       "   nb_dislikes  nb_likes                                          title\n",
       "0            4        33                                          Kaiba\n",
       "1            1        42                               A Letter to Momo\n",
       "2            4        19                                         Madlax\n",
       "3            1        14  Lupin the Third, The Woman Called Fujiko Mine"
      ]
     },
     "execution_count": 29,
     "metadata": {},
     "output_type": "execute_result"
    }
   ],
   "source": [
    "pd.DataFrame(list(Work.objects.filter(id__in=selection).values('title', 'nb_likes', 'nb_dislikes')))"
   ]
  },
  {
   "cell_type": "markdown",
   "metadata": {},
   "source": [
    "## [New!] Interactive pearls"
   ]
  },
  {
   "cell_type": "code",
   "execution_count": 33,
   "metadata": {},
   "outputs": [],
   "source": [
    "from ipywidgets import interact, interactive\n",
    "from IPython.display import display"
   ]
  },
  {
   "cell_type": "code",
   "execution_count": 39,
   "metadata": {
    "collapsed": true
   },
   "outputs": [],
   "source": [
    "from collections import Counter\n",
    "\n",
    "nb_likes = Counter()\n",
    "nb_dislikes = Counter()\n",
    "for rating in Rating.objects.exclude(choice__in=['willsee', 'wontsee']):\n",
    "    if rating.choice == 'like':\n",
    "        nb_likes[rating.work_id] += 1\n",
    "    elif rating.choice ==  'favorite':\n",
    "        nb_likes[rating.work_id] += 2\n",
    "    elif rating.choice == 'neutral':\n",
    "        nb_dislikes[rating.work_id] += 0.5\n",
    "    elif rating.choice == 'dislike':\n",
    "        nb_dislikes[rating.work_id] += 1\n",
    "\n",
    "def pearls(max_ratings=126, min_ratings=20):\n",
    "    ranking = Counter()\n",
    "    for work_id in nb_likes:\n",
    "        if min_ratings <= nb_likes[work_id] + nb_dislikes[work_id] <= max_ratings:\n",
    "            dislike_rate = nb_dislikes[work_id] / nb_likes[work_id]\n",
    "            ranking[work_id] = -dislike_rate\n",
    "    rank = 1\n",
    "    lines = []\n",
    "    for work_id, dislike_rate in ranking.most_common(10):\n",
    "        lines.append('%d. %s %d likes %d likes' % (rank, Work.objects.get(id=work_id).title, nb_likes[work_id], nb_dislikes[work_id]))\n",
    "        rank += 1\n",
    "    print('\\n'.join(lines))"
   ]
  },
  {
   "cell_type": "code",
   "execution_count": 40,
   "metadata": {},
   "outputs": [
    {
     "data": {
      "application/vnd.jupyter.widget-view+json": {
       "model_id": "2e66ce79a10b4809ba344558af8e0b87"
      }
     },
     "metadata": {},
     "output_type": "display_data"
    }
   ],
   "source": [
    "display(interactive(pearls))"
   ]
  }
 ],
 "metadata": {
  "kernelspec": {
   "display_name": "Django Shell-Plus",
   "language": "python",
   "name": "django_extensions"
  },
  "language_info": {
   "codemirror_mode": {
    "name": "ipython",
    "version": 3
   },
   "file_extension": ".py",
   "mimetype": "text/x-python",
   "name": "python",
   "nbconvert_exporter": "python",
   "pygments_lexer": "ipython3",
   "version": "3.6.2"
  },
  "widgets": {
   "application/vnd.jupyter.widget-state+json": {
    "state": {
     "01b198f9331046d7ad497bd982058ab7": {
      "model_module": "jupyter-js-widgets",
      "model_module_version": "~2.1.4",
      "model_name": "IntSliderModel",
      "state": {
       "_model_module_version": "~2.1.4",
       "_view_module_version": "~2.1.4",
       "description": "min_ratings",
       "layout": "IPY_MODEL_4ee30685dde4413ebf5673c50a9e9747",
       "max": 60,
       "min": -20,
       "style": "IPY_MODEL_7951f094a77242b19befefa7f0500050",
       "value": 20
      }
     },
     "03f601eb2fe64fab95f3db3421cd0c96": {
      "model_module": "jupyter-js-widgets",
      "model_module_version": "~2.1.4",
      "model_name": "LayoutModel",
      "state": {
       "_model_module_version": "~2.1.4",
       "_view_module_version": "~2.1.4"
      }
     },
     "049ad64cc86f4983901ff83b67a5d641": {
      "model_module": "jupyter-js-widgets",
      "model_module_version": "~2.1.4",
      "model_name": "LayoutModel",
      "state": {
       "_model_module_version": "~2.1.4",
       "_view_module_version": "~2.1.4"
      }
     },
     "06d33d1fe9e84db7b044bb0ac3ca0204": {
      "model_module": "jupyter-js-widgets",
      "model_module_version": "~2.1.4",
      "model_name": "LayoutModel",
      "state": {
       "_model_module_version": "~2.1.4",
       "_view_module_version": "~2.1.4"
      }
     },
     "0b58495ad7cd4f759e880be61c737f47": {
      "model_module": "jupyter-js-widgets",
      "model_module_version": "~2.1.4",
      "model_name": "LayoutModel",
      "state": {
       "_model_module_version": "~2.1.4",
       "_view_module_version": "~2.1.4"
      }
     },
     "0e0996d5bcf8499d929c4f626d726bfd": {
      "model_module": "jupyter-js-widgets",
      "model_module_version": "~2.1.4",
      "model_name": "LayoutModel",
      "state": {
       "_model_module_version": "~2.1.4",
       "_view_module_version": "~2.1.4"
      }
     },
     "0ebfe144d6424a41947da5c826a46757": {
      "model_module": "jupyter-js-widgets",
      "model_module_version": "~2.1.4",
      "model_name": "SliderStyleModel",
      "state": {
       "_model_module_version": "~2.1.4",
       "_view_module_version": "~2.1.4"
      }
     },
     "1044a4d8a7a149b4a8aca27c1eb9d966": {
      "model_module": "jupyter-js-widgets",
      "model_module_version": "~2.1.4",
      "model_name": "OutputModel",
      "state": {
       "_dom_classes": [],
       "_model_module": "jupyter-js-widgets",
       "_model_module_version": "~2.1.4",
       "_view_module": "jupyter-js-widgets",
       "_view_module_version": "~2.1.4",
       "layout": "IPY_MODEL_e440da2369cc4a66bf8f087564c61539",
       "msg_throttle": 1
      }
     },
     "11816a0e389e4b2eaa05d15378dc7cf9": {
      "model_module": "jupyter-js-widgets",
      "model_module_version": "~2.1.4",
      "model_name": "LayoutModel",
      "state": {
       "_model_module_version": "~2.1.4",
       "_view_module_version": "~2.1.4"
      }
     },
     "11c3d257e88340a783e6250865fd7aa3": {
      "model_module": "jupyter-js-widgets",
      "model_module_version": "~2.1.4",
      "model_name": "IntSliderModel",
      "state": {
       "_model_module_version": "~2.1.4",
       "_view_module_version": "~2.1.4",
       "description": "min_ratings",
       "layout": "IPY_MODEL_43397c23a4934b8bb0d67b9dc0a4a335",
       "max": 60,
       "min": -20,
       "style": "IPY_MODEL_767528a65f374c70867f9732fab326fa",
       "value": 20
      }
     },
     "1223f411f9184ab99053377fe71fdc2e": {
      "model_module": "jupyter-js-widgets",
      "model_module_version": "~2.1.4",
      "model_name": "LayoutModel",
      "state": {
       "_model_module_version": "~2.1.4",
       "_view_module_version": "~2.1.4"
      }
     },
     "12bdc8548f1340ac8c09c02fdc9b954a": {
      "model_module": "jupyter-js-widgets",
      "model_module_version": "~2.1.4",
      "model_name": "LayoutModel",
      "state": {
       "_model_module_version": "~2.1.4",
       "_view_module_version": "~2.1.4"
      }
     },
     "12e64b381cce409eabeaff773a16ef23": {
      "model_module": "jupyter-js-widgets",
      "model_module_version": "~2.1.4",
      "model_name": "LayoutModel",
      "state": {
       "_model_module_version": "~2.1.4",
       "_view_module_version": "~2.1.4"
      }
     },
     "16cc0cc9b01342c6b5224ec0f9ce5636": {
      "model_module": "jupyter-js-widgets",
      "model_module_version": "~2.1.4",
      "model_name": "SliderStyleModel",
      "state": {
       "_model_module_version": "~2.1.4",
       "_view_module_version": "~2.1.4"
      }
     },
     "18790eef895e4e25bf22ab6c43b92fa7": {
      "model_module": "jupyter-js-widgets",
      "model_module_version": "~2.1.4",
      "model_name": "LayoutModel",
      "state": {
       "_model_module_version": "~2.1.4",
       "_view_module_version": "~2.1.4"
      }
     },
     "1947c32258c846e0be4fd74253affcae": {
      "model_module": "jupyter-js-widgets",
      "model_module_version": "~2.1.4",
      "model_name": "IntSliderModel",
      "state": {
       "_model_module_version": "~2.1.4",
       "_view_module_version": "~2.1.4",
       "description": "max_ratings",
       "layout": "IPY_MODEL_0b58495ad7cd4f759e880be61c737f47",
       "max": 378,
       "min": -126,
       "style": "IPY_MODEL_1f0b3e6e9ec446f7abaefe83db6aaadd",
       "value": 126
      }
     },
     "194f17e544be433b9ea90b3a6a0fa90d": {
      "model_module": "jupyter-js-widgets",
      "model_module_version": "~2.1.4",
      "model_name": "OutputModel",
      "state": {
       "_dom_classes": [],
       "_model_module": "jupyter-js-widgets",
       "_model_module_version": "~2.1.4",
       "_view_module": "jupyter-js-widgets",
       "_view_module_version": "~2.1.4",
       "layout": "IPY_MODEL_6f733e2d69c0448b9b1816e4d9deb463",
       "msg_throttle": 1
      }
     },
     "1c7399c7b5814a6aa79b964ecbb4dd30": {
      "model_module": "jupyter-js-widgets",
      "model_module_version": "~2.1.4",
      "model_name": "SliderStyleModel",
      "state": {
       "_model_module_version": "~2.1.4",
       "_view_module_version": "~2.1.4"
      }
     },
     "1da717af5a084868986b373d7bf8ec5c": {
      "model_module": "jupyter-js-widgets",
      "model_module_version": "~2.1.4",
      "model_name": "LayoutModel",
      "state": {
       "_model_module_version": "~2.1.4",
       "_view_module_version": "~2.1.4"
      }
     },
     "1f0b3e6e9ec446f7abaefe83db6aaadd": {
      "model_module": "jupyter-js-widgets",
      "model_module_version": "~2.1.4",
      "model_name": "SliderStyleModel",
      "state": {
       "_model_module_version": "~2.1.4",
       "_view_module_version": "~2.1.4"
      }
     },
     "1f6f2b0e406d4246967cd8d1793a94a6": {
      "model_module": "jupyter-js-widgets",
      "model_module_version": "~2.1.4",
      "model_name": "SliderStyleModel",
      "state": {
       "_model_module_version": "~2.1.4",
       "_view_module_version": "~2.1.4"
      }
     },
     "1f847ecadf3b469da402693822e24ee2": {
      "model_module": "jupyter-js-widgets",
      "model_module_version": "~2.1.4",
      "model_name": "IntSliderModel",
      "state": {
       "_model_module_version": "~2.1.4",
       "_view_module_version": "~2.1.4",
       "description": "min_ratings",
       "layout": "IPY_MODEL_4f65c01d691b48828d96711eee4e45ca",
       "max": 60,
       "min": -20,
       "style": "IPY_MODEL_8f1bddfd2a35426f9c180900842c3fc4",
       "value": 14
      }
     },
     "2071502a4f4a438eb9a0509af7dcc618": {
      "model_module": "jupyter-js-widgets",
      "model_module_version": "~2.1.4",
      "model_name": "LayoutModel",
      "state": {
       "_model_module_version": "~2.1.4",
       "_view_module_version": "~2.1.4"
      }
     },
     "20a8c6f547bb476191fd2800ece98b86": {
      "model_module": "jupyter-js-widgets",
      "model_module_version": "~2.1.4",
      "model_name": "LayoutModel",
      "state": {
       "_model_module_version": "~2.1.4",
       "_view_module_version": "~2.1.4"
      }
     },
     "2281fd6d2ff94c998c66dd713250b65c": {
      "model_module": "jupyter-js-widgets",
      "model_module_version": "~2.1.4",
      "model_name": "LayoutModel",
      "state": {
       "_model_module_version": "~2.1.4",
       "_view_module_version": "~2.1.4"
      }
     },
     "2558821359144f32b7840ea5f1bc3485": {
      "model_module": "jupyter-js-widgets",
      "model_module_version": "~2.1.4",
      "model_name": "IntSliderModel",
      "state": {
       "_model_module_version": "~2.1.4",
       "_view_module_version": "~2.1.4",
       "description": "min_ratings",
       "layout": "IPY_MODEL_b6e514f9ac0e46ad9a726a479968c5a6",
       "max": 60,
       "min": -20,
       "style": "IPY_MODEL_a60edc2a111c41a3bcffab73e5b9bf1a",
       "value": 20
      }
     },
     "276ff52093f9492bb6e905081bed42cc": {
      "model_module": "jupyter-js-widgets",
      "model_module_version": "~2.1.4",
      "model_name": "OutputModel",
      "state": {
       "_dom_classes": [],
       "_model_module": "jupyter-js-widgets",
       "_model_module_version": "~2.1.4",
       "_view_module": "jupyter-js-widgets",
       "_view_module_version": "~2.1.4",
       "layout": "IPY_MODEL_1223f411f9184ab99053377fe71fdc2e",
       "msg_throttle": 1
      }
     },
     "2acc7a69d1044c0ca1e9585813518f72": {
      "model_module": "jupyter-js-widgets",
      "model_module_version": "~2.1.4",
      "model_name": "LayoutModel",
      "state": {
       "_model_module_version": "~2.1.4",
       "_view_module_version": "~2.1.4"
      }
     },
     "2f7f87fdb2be45e1b20875989b6748d1": {
      "model_module": "jupyter-js-widgets",
      "model_module_version": "~2.1.4",
      "model_name": "LayoutModel",
      "state": {
       "_model_module_version": "~2.1.4",
       "_view_module_version": "~2.1.4"
      }
     },
     "2fba9d0825d44ceea11a294abb4b5e76": {
      "model_module": "jupyter-js-widgets",
      "model_module_version": "~2.1.4",
      "model_name": "VBoxModel",
      "state": {
       "_dom_classes": [
        "widget-interact"
       ],
       "_model_module_version": "~2.1.4",
       "_view_module_version": "~2.1.4",
       "children": [
        "IPY_MODEL_d2fa49f38ae44e6a86b4f288efe084f4",
        "IPY_MODEL_4224821b07e94cb48ef3307536696aaa",
        "IPY_MODEL_73a44341e892472696d79e37a7694235",
        "IPY_MODEL_e98bafcf4eb44630a59cc322b04edd0b"
       ],
       "layout": "IPY_MODEL_dc48c8ed0e9545309b5cba7462847bb3"
      }
     },
     "3056761ab16a4e7fb92e2a9a0029c740": {
      "model_module": "jupyter-js-widgets",
      "model_module_version": "~2.1.4",
      "model_name": "SliderStyleModel",
      "state": {
       "_model_module_version": "~2.1.4",
       "_view_module_version": "~2.1.4"
      }
     },
     "30b77384b6604c71b899b16a784f2e67": {
      "model_module": "jupyter-js-widgets",
      "model_module_version": "~2.1.4",
      "model_name": "VBoxModel",
      "state": {
       "_dom_classes": [
        "widget-interact"
       ],
       "_model_module_version": "~2.1.4",
       "_view_module_version": "~2.1.4",
       "children": [
        "IPY_MODEL_8b724e40acda4a19a6dfdc47b3959eb8",
        "IPY_MODEL_74812b78784b4e25be1e9014cefe218c"
       ],
       "layout": "IPY_MODEL_df8584ddeb62413daba2106bbcab36f8"
      }
     },
     "347af63c1eb4420fb90d0cab697af373": {
      "model_module": "jupyter-js-widgets",
      "model_module_version": "~2.1.4",
      "model_name": "LayoutModel",
      "state": {
       "_model_module_version": "~2.1.4",
       "_view_module_version": "~2.1.4"
      }
     },
     "362c5188958047b4b0005caa4f06b756": {
      "model_module": "jupyter-js-widgets",
      "model_module_version": "~2.1.4",
      "model_name": "LayoutModel",
      "state": {
       "_model_module_version": "~2.1.4",
       "_view_module_version": "~2.1.4"
      }
     },
     "36d077dab2404a8694607c376f412f43": {
      "model_module": "jupyter-js-widgets",
      "model_module_version": "~2.1.4",
      "model_name": "OutputModel",
      "state": {
       "_dom_classes": [],
       "_model_module": "jupyter-js-widgets",
       "_model_module_version": "~2.1.4",
       "_view_module": "jupyter-js-widgets",
       "_view_module_version": "~2.1.4",
       "layout": "IPY_MODEL_20a8c6f547bb476191fd2800ece98b86",
       "msg_throttle": 1
      }
     },
     "379913b4c3a94c0bba74655e3abc41e5": {
      "model_module": "jupyter-js-widgets",
      "model_module_version": "~2.1.4",
      "model_name": "LayoutModel",
      "state": {
       "_model_module_version": "~2.1.4",
       "_view_module_version": "~2.1.4"
      }
     },
     "391f933324e2402e9524159b2cebf3f5": {
      "model_module": "jupyter-js-widgets",
      "model_module_version": "~2.1.4",
      "model_name": "VBoxModel",
      "state": {
       "_dom_classes": [
        "widget-interact"
       ],
       "_model_module_version": "~2.1.4",
       "_view_module_version": "~2.1.4",
       "children": [
        "IPY_MODEL_ed8f6232982a49018abedfae077e102f",
        "IPY_MODEL_11c3d257e88340a783e6250865fd7aa3",
        "IPY_MODEL_77e8eb9dc70040c58437517155b67c91",
        "IPY_MODEL_1044a4d8a7a149b4a8aca27c1eb9d966"
       ],
       "layout": "IPY_MODEL_71bd567bd61e41d5a2c89423587312d5"
      }
     },
     "3a613d0cf7b740bc8ea78e21bc628d83": {
      "model_module": "jupyter-js-widgets",
      "model_module_version": "~2.1.4",
      "model_name": "OutputModel",
      "state": {
       "_dom_classes": [],
       "_model_module": "jupyter-js-widgets",
       "_model_module_version": "~2.1.4",
       "_view_module": "jupyter-js-widgets",
       "_view_module_version": "~2.1.4",
       "layout": "IPY_MODEL_d637e585150641d5a44feb5d7b4467b2",
       "msg_throttle": 1
      }
     },
     "3bd9d5a1061047cfb036d795b80102a6": {
      "model_module": "jupyter-js-widgets",
      "model_module_version": "~2.1.4",
      "model_name": "FloatSliderModel",
      "state": {
       "_model_module_version": "~2.1.4",
       "_view_module_version": "~2.1.4",
       "description": "dislike_rate",
       "layout": "IPY_MODEL_987b813f535740e5aea821015f64118d",
       "max": 0.3571428571428571,
       "min": -0.11904761904761904,
       "step": 0.1,
       "value": 0.11904761904761904
      }
     },
     "3bee11469d1b48858af2906936f5cbf3": {
      "model_module": "jupyter-js-widgets",
      "model_module_version": "~2.1.4",
      "model_name": "IntSliderModel",
      "state": {
       "_model_module_version": "~2.1.4",
       "_view_module_version": "~2.1.4",
       "description": "min_ratings",
       "layout": "IPY_MODEL_2f7f87fdb2be45e1b20875989b6748d1",
       "max": 60,
       "min": -20,
       "style": "IPY_MODEL_3056761ab16a4e7fb92e2a9a0029c740",
       "value": 20
      }
     },
     "3dd94287b008491da8dbd88105705f6a": {
      "model_module": "jupyter-js-widgets",
      "model_module_version": "~2.1.4",
      "model_name": "VBoxModel",
      "state": {
       "_dom_classes": [
        "widget-interact"
       ],
       "_model_module_version": "~2.1.4",
       "_view_module_version": "~2.1.4",
       "children": [
        "IPY_MODEL_ca1f03cb1aec4592a8d756d37e8e78f4",
        "IPY_MODEL_9f7626c79c9642ae847766ff3accc566",
        "IPY_MODEL_b829ed02705c4cf3a449af66ac7f2f09",
        "IPY_MODEL_504e1af8ceec4aba8a510d9af172d675"
       ],
       "layout": "IPY_MODEL_03f601eb2fe64fab95f3db3421cd0c96"
      }
     },
     "3eb8e2dfba454da5a0a6e2465d98c4b0": {
      "model_module": "jupyter-js-widgets",
      "model_module_version": "~2.1.4",
      "model_name": "IntSliderModel",
      "state": {
       "_model_module_version": "~2.1.4",
       "_view_module_version": "~2.1.4",
       "description": "min_ratings",
       "layout": "IPY_MODEL_6376f923b8c94bd4a00ba2e7c705d57c",
       "max": 60,
       "min": -20,
       "style": "IPY_MODEL_5e232bf1112a457aa6c37250d6f57a52",
       "value": 20
      }
     },
     "414d356ad45240aba57560602eea6d1e": {
      "model_module": "jupyter-js-widgets",
      "model_module_version": "~2.1.4",
      "model_name": "VBoxModel",
      "state": {
       "_dom_classes": [
        "widget-interact"
       ],
       "_model_module_version": "~2.1.4",
       "_view_module_version": "~2.1.4",
       "layout": "IPY_MODEL_98d4c68bcbf64dc8b927fcb03eb51d0d"
      }
     },
     "4224821b07e94cb48ef3307536696aaa": {
      "model_module": "jupyter-js-widgets",
      "model_module_version": "~2.1.4",
      "model_name": "IntSliderModel",
      "state": {
       "_model_module_version": "~2.1.4",
       "_view_module_version": "~2.1.4",
       "description": "min_ratings",
       "layout": "IPY_MODEL_8298b67d7a4b40b1b14a489a04d3d7df",
       "max": 60,
       "min": -20,
       "style": "IPY_MODEL_4ed4a1b9915346b6883ace8b4ec1e709",
       "value": 20
      }
     },
     "43397c23a4934b8bb0d67b9dc0a4a335": {
      "model_module": "jupyter-js-widgets",
      "model_module_version": "~2.1.4",
      "model_name": "LayoutModel",
      "state": {
       "_model_module_version": "~2.1.4",
       "_view_module_version": "~2.1.4"
      }
     },
     "438bf4a7796e4d77a43a43480f1bf814": {
      "model_module": "jupyter-js-widgets",
      "model_module_version": "~2.1.4",
      "model_name": "VBoxModel",
      "state": {
       "_dom_classes": [
        "widget-interact"
       ],
       "_model_module_version": "~2.1.4",
       "_view_module_version": "~2.1.4",
       "children": [
        "IPY_MODEL_b81042e8d5e349d38c37909349c2e97b",
        "IPY_MODEL_5e02066fe3984b23bfc94102481afaeb",
        "IPY_MODEL_557b98efe17d4f2bb2d038382b5c91db"
       ],
       "layout": "IPY_MODEL_cb4a630a68754bf59cc0e444aefb2381"
      }
     },
     "442e6d3caeb24c08bbd2fb1b7a04ec65": {
      "model_module": "jupyter-js-widgets",
      "model_module_version": "~2.1.4",
      "model_name": "LayoutModel",
      "state": {
       "_model_module_version": "~2.1.4",
       "_view_module_version": "~2.1.4"
      }
     },
     "44f6f991d00f447c9e3253fea5eeec28": {
      "model_module": "jupyter-js-widgets",
      "model_module_version": "~2.1.4",
      "model_name": "LayoutModel",
      "state": {
       "_model_module_version": "~2.1.4",
       "_view_module_version": "~2.1.4"
      }
     },
     "47165502f3004b93bbca51e7e9605c9a": {
      "model_module": "jupyter-js-widgets",
      "model_module_version": "~2.1.4",
      "model_name": "SliderStyleModel",
      "state": {
       "_model_module_version": "~2.1.4",
       "_view_module_version": "~2.1.4"
      }
     },
     "47725219697f4f7da34c34246b773dd7": {
      "model_module": "jupyter-js-widgets",
      "model_module_version": "~2.1.4",
      "model_name": "VBoxModel",
      "state": {
       "_dom_classes": [
        "widget-interact"
       ],
       "_model_module_version": "~2.1.4",
       "_view_module_version": "~2.1.4",
       "children": [
        "IPY_MODEL_97b3306fa31044768e2326f60bf7206b",
        "IPY_MODEL_cfe9af1ca2324635a8a71c538ef505b2"
       ],
       "layout": "IPY_MODEL_d549c2ef6ff94bfbb897ef0cd81faea8"
      }
     },
     "4a150e78af5743da87b7515c559bf516": {
      "model_module": "jupyter-js-widgets",
      "model_module_version": "~2.1.4",
      "model_name": "LayoutModel",
      "state": {
       "_model_module_version": "~2.1.4",
       "_view_module_version": "~2.1.4"
      }
     },
     "4de8e1818f7840c3b5bfd63bb8631d2a": {
      "model_module": "jupyter-js-widgets",
      "model_module_version": "~2.1.4",
      "model_name": "OutputModel",
      "state": {
       "_dom_classes": [],
       "_model_module": "jupyter-js-widgets",
       "_model_module_version": "~2.1.4",
       "_view_module": "jupyter-js-widgets",
       "_view_module_version": "~2.1.4",
       "layout": "IPY_MODEL_af7e462c80184fdab41c2fe4a152ed76",
       "msg_throttle": 1
      }
     },
     "4ed4a1b9915346b6883ace8b4ec1e709": {
      "model_module": "jupyter-js-widgets",
      "model_module_version": "~2.1.4",
      "model_name": "SliderStyleModel",
      "state": {
       "_model_module_version": "~2.1.4",
       "_view_module_version": "~2.1.4"
      }
     },
     "4ee30685dde4413ebf5673c50a9e9747": {
      "model_module": "jupyter-js-widgets",
      "model_module_version": "~2.1.4",
      "model_name": "LayoutModel",
      "state": {
       "_model_module_version": "~2.1.4",
       "_view_module_version": "~2.1.4"
      }
     },
     "4f601bd3a0704cc5b04eb8edab474bd4": {
      "model_module": "jupyter-js-widgets",
      "model_module_version": "~2.1.4",
      "model_name": "LayoutModel",
      "state": {
       "_model_module_version": "~2.1.4",
       "_view_module_version": "~2.1.4"
      }
     },
     "4f65c01d691b48828d96711eee4e45ca": {
      "model_module": "jupyter-js-widgets",
      "model_module_version": "~2.1.4",
      "model_name": "LayoutModel",
      "state": {
       "_model_module_version": "~2.1.4",
       "_view_module_version": "~2.1.4"
      }
     },
     "504e1af8ceec4aba8a510d9af172d675": {
      "model_module": "jupyter-js-widgets",
      "model_module_version": "~2.1.4",
      "model_name": "OutputModel",
      "state": {
       "_dom_classes": [],
       "_model_module": "jupyter-js-widgets",
       "_model_module_version": "~2.1.4",
       "_view_module": "jupyter-js-widgets",
       "_view_module_version": "~2.1.4",
       "layout": "IPY_MODEL_82396b24222e4cdd8f1681e152d1a253",
       "msg_throttle": 1
      }
     },
     "52fd3eb74501473285e23e02b755820f": {
      "model_module": "jupyter-js-widgets",
      "model_module_version": "~2.1.4",
      "model_name": "SliderStyleModel",
      "state": {
       "_model_module_version": "~2.1.4",
       "_view_module_version": "~2.1.4"
      }
     },
     "557b98efe17d4f2bb2d038382b5c91db": {
      "model_module": "jupyter-js-widgets",
      "model_module_version": "~2.1.4",
      "model_name": "OutputModel",
      "state": {
       "_dom_classes": [],
       "_model_module": "jupyter-js-widgets",
       "_model_module_version": "~2.1.4",
       "_view_module": "jupyter-js-widgets",
       "_view_module_version": "~2.1.4",
       "layout": "IPY_MODEL_5a9da36a40604fd5b1dd9903f90e7311",
       "msg_throttle": 1
      }
     },
     "558547cfa3c74314a42f4de25b76c59e": {
      "model_module": "jupyter-js-widgets",
      "model_module_version": "~2.1.4",
      "model_name": "LayoutModel",
      "state": {
       "_model_module_version": "~2.1.4",
       "_view_module_version": "~2.1.4"
      }
     },
     "577be19228eb4a53a50ebfc28cffe4b1": {
      "model_module": "jupyter-js-widgets",
      "model_module_version": "~2.1.4",
      "model_name": "LayoutModel",
      "state": {
       "_model_module_version": "~2.1.4",
       "_view_module_version": "~2.1.4"
      }
     },
     "58a20861dd5949219b9cd88cea8816a9": {
      "model_module": "jupyter-js-widgets",
      "model_module_version": "~2.1.4",
      "model_name": "SliderStyleModel",
      "state": {
       "_model_module_version": "~2.1.4",
       "_view_module_version": "~2.1.4"
      }
     },
     "59a0ce57ab374faf82f0b62995c6f035": {
      "model_module": "jupyter-js-widgets",
      "model_module_version": "~2.1.4",
      "model_name": "SliderStyleModel",
      "state": {
       "_model_module_version": "~2.1.4",
       "_view_module_version": "~2.1.4"
      }
     },
     "5a9da36a40604fd5b1dd9903f90e7311": {
      "model_module": "jupyter-js-widgets",
      "model_module_version": "~2.1.4",
      "model_name": "LayoutModel",
      "state": {
       "_model_module_version": "~2.1.4",
       "_view_module_version": "~2.1.4"
      }
     },
     "5aa41d2638a545b6ba071bbdb7186d10": {
      "model_module": "jupyter-js-widgets",
      "model_module_version": "~2.1.4",
      "model_name": "OutputModel",
      "state": {
       "_dom_classes": [],
       "_model_module": "jupyter-js-widgets",
       "_model_module_version": "~2.1.4",
       "_view_module": "jupyter-js-widgets",
       "_view_module_version": "~2.1.4",
       "layout": "IPY_MODEL_ad05492a7993412b9eca8b20ac633788",
       "msg_throttle": 1
      }
     },
     "5e02066fe3984b23bfc94102481afaeb": {
      "model_module": "jupyter-js-widgets",
      "model_module_version": "~2.1.4",
      "model_name": "IntSliderModel",
      "state": {
       "_model_module_version": "~2.1.4",
       "_view_module_version": "~2.1.4",
       "description": "min_ratings",
       "layout": "IPY_MODEL_c878a5ad8a7f4acdb7bbdd01d3bceea6",
       "max": 60,
       "min": -20,
       "style": "IPY_MODEL_c6ee2e6f08774958a180d9ff34adef55",
       "value": 33
      }
     },
     "5e1f3f84486f46c794ea173ae4c75af7": {
      "model_module": "jupyter-js-widgets",
      "model_module_version": "~2.1.4",
      "model_name": "FloatSliderModel",
      "state": {
       "_model_module_version": "~2.1.4",
       "_view_module_version": "~2.1.4",
       "description": "dislike_rate",
       "layout": "IPY_MODEL_ce6d90b447f44815916fb68ecdf4dc52",
       "max": 0.3571428571428571,
       "min": -0.11904761904761904,
       "step": 0.1,
       "value": 0.11904761904761904
      }
     },
     "5e232bf1112a457aa6c37250d6f57a52": {
      "model_module": "jupyter-js-widgets",
      "model_module_version": "~2.1.4",
      "model_name": "SliderStyleModel",
      "state": {
       "_model_module_version": "~2.1.4",
       "_view_module_version": "~2.1.4"
      }
     },
     "5e2ae37be96848b98e1f594e9692a2c5": {
      "model_module": "jupyter-js-widgets",
      "model_module_version": "~2.1.4",
      "model_name": "LayoutModel",
      "state": {
       "_model_module_version": "~2.1.4",
       "_view_module_version": "~2.1.4"
      }
     },
     "5ef245eef5a042088831b41105c55bb8": {
      "model_module": "jupyter-js-widgets",
      "model_module_version": "~2.1.4",
      "model_name": "LayoutModel",
      "state": {
       "_model_module_version": "~2.1.4",
       "_view_module_version": "~2.1.4"
      }
     },
     "5f7f3e48111548429452d36299f6cd1f": {
      "model_module": "jupyter-js-widgets",
      "model_module_version": "~2.1.4",
      "model_name": "VBoxModel",
      "state": {
       "_dom_classes": [
        "widget-interact"
       ],
       "_model_module_version": "~2.1.4",
       "_view_module_version": "~2.1.4",
       "children": [
        "IPY_MODEL_80540e82e0984e539da97f329999b6a9",
        "IPY_MODEL_88f17373f43742edaf3f213f6c70ea65",
        "IPY_MODEL_f06bf6ba26264e9481494d764e231dc9",
        "IPY_MODEL_4de8e1818f7840c3b5bfd63bb8631d2a"
       ],
       "layout": "IPY_MODEL_5ef245eef5a042088831b41105c55bb8"
      }
     },
     "60000e8524b04ed4ad9d1820e5e8f657": {
      "model_module": "jupyter-js-widgets",
      "model_module_version": "~2.1.4",
      "model_name": "LayoutModel",
      "state": {
       "_model_module_version": "~2.1.4",
       "_view_module_version": "~2.1.4"
      }
     },
     "6376f923b8c94bd4a00ba2e7c705d57c": {
      "model_module": "jupyter-js-widgets",
      "model_module_version": "~2.1.4",
      "model_name": "LayoutModel",
      "state": {
       "_model_module_version": "~2.1.4",
       "_view_module_version": "~2.1.4"
      }
     },
     "638c939974524ced989bdea09ba5f27d": {
      "model_module": "jupyter-js-widgets",
      "model_module_version": "~2.1.4",
      "model_name": "VBoxModel",
      "state": {
       "_dom_classes": [
        "widget-interact"
       ],
       "_model_module_version": "~2.1.4",
       "_view_module_version": "~2.1.4",
       "children": [
        "IPY_MODEL_b83dfa06a71240e39ab8b4c42c773a3e",
        "IPY_MODEL_897148317a59444c94ebefb09acc0091",
        "IPY_MODEL_64cb7e64842145169f776fb6495e2314",
        "IPY_MODEL_6fc8cb99c1184e13b45992eb37eb0ce9"
       ],
       "layout": "IPY_MODEL_2071502a4f4a438eb9a0509af7dcc618"
      }
     },
     "64bb1906780e4e7c854eb31496c09d14": {
      "model_module": "jupyter-js-widgets",
      "model_module_version": "~2.1.4",
      "model_name": "SliderStyleModel",
      "state": {
       "_model_module_version": "~2.1.4",
       "_view_module_version": "~2.1.4"
      }
     },
     "64cb7e64842145169f776fb6495e2314": {
      "model_module": "jupyter-js-widgets",
      "model_module_version": "~2.1.4",
      "model_name": "FloatSliderModel",
      "state": {
       "_model_module_version": "~2.1.4",
       "_view_module_version": "~2.1.4",
       "description": "dislike_rate",
       "layout": "IPY_MODEL_44f6f991d00f447c9e3253fea5eeec28",
       "max": 0.3571428571428571,
       "min": -0.11904761904761904,
       "step": 0.1,
       "value": 0.28095
      }
     },
     "651c220fbc9045e59ef8217e86e7e536": {
      "model_module": "jupyter-js-widgets",
      "model_module_version": "~2.1.4",
      "model_name": "LayoutModel",
      "state": {
       "_model_module_version": "~2.1.4",
       "_view_module_version": "~2.1.4"
      }
     },
     "69969bfbfec349458be247e97464ae4e": {
      "model_module": "jupyter-js-widgets",
      "model_module_version": "~2.1.4",
      "model_name": "LayoutModel",
      "state": {
       "_model_module_version": "~2.1.4",
       "_view_module_version": "~2.1.4"
      }
     },
     "6ccfc69c49754c73ad64790653d3b25b": {
      "model_module": "jupyter-js-widgets",
      "model_module_version": "~2.1.4",
      "model_name": "LayoutModel",
      "state": {
       "_model_module_version": "~2.1.4",
       "_view_module_version": "~2.1.4"
      }
     },
     "6ee7045e0eba4217bedff1fa3c8fedcb": {
      "model_module": "jupyter-js-widgets",
      "model_module_version": "~2.1.4",
      "model_name": "VBoxModel",
      "state": {
       "_dom_classes": [
        "widget-interact"
       ],
       "_model_module_version": "~2.1.4",
       "_view_module_version": "~2.1.4",
       "children": [
        "IPY_MODEL_9328e0ed21bd4dfca50d7383e35bfaca",
        "IPY_MODEL_1f847ecadf3b469da402693822e24ee2",
        "IPY_MODEL_194f17e544be433b9ea90b3a6a0fa90d"
       ],
       "layout": "IPY_MODEL_362c5188958047b4b0005caa4f06b756"
      }
     },
     "6f43fb722af647bb986c25f64d06990f": {
      "model_module": "jupyter-js-widgets",
      "model_module_version": "~2.1.4",
      "model_name": "IntSliderModel",
      "state": {
       "_model_module_version": "~2.1.4",
       "_view_module_version": "~2.1.4",
       "description": "x",
       "layout": "IPY_MODEL_f58c81a0081a4306bd83985c8b1330bd",
       "max": 15,
       "min": -5,
       "style": "IPY_MODEL_78f806d019d34e4ca383eeac8b3d6481",
       "value": 12
      }
     },
     "6f733e2d69c0448b9b1816e4d9deb463": {
      "model_module": "jupyter-js-widgets",
      "model_module_version": "~2.1.4",
      "model_name": "LayoutModel",
      "state": {
       "_model_module_version": "~2.1.4",
       "_view_module_version": "~2.1.4"
      }
     },
     "6fc8cb99c1184e13b45992eb37eb0ce9": {
      "model_module": "jupyter-js-widgets",
      "model_module_version": "~2.1.4",
      "model_name": "OutputModel",
      "state": {
       "_dom_classes": [],
       "_model_module": "jupyter-js-widgets",
       "_model_module_version": "~2.1.4",
       "_view_module": "jupyter-js-widgets",
       "_view_module_version": "~2.1.4",
       "layout": "IPY_MODEL_d8287855131b47ec950ee2808ad4df17",
       "msg_throttle": 1
      }
     },
     "71bd567bd61e41d5a2c89423587312d5": {
      "model_module": "jupyter-js-widgets",
      "model_module_version": "~2.1.4",
      "model_name": "LayoutModel",
      "state": {
       "_model_module_version": "~2.1.4",
       "_view_module_version": "~2.1.4"
      }
     },
     "73a44341e892472696d79e37a7694235": {
      "model_module": "jupyter-js-widgets",
      "model_module_version": "~2.1.4",
      "model_name": "FloatSliderModel",
      "state": {
       "_model_module_version": "~2.1.4",
       "_view_module_version": "~2.1.4",
       "description": "dislike_rate",
       "layout": "IPY_MODEL_442e6d3caeb24c08bbd2fb1b7a04ec65",
       "max": 0.3571428571428571,
       "min": -0.11904761904761904,
       "step": 0.1,
       "value": 0.11904761904761904
      }
     },
     "74812b78784b4e25be1e9014cefe218c": {
      "model_module": "jupyter-js-widgets",
      "model_module_version": "~2.1.4",
      "model_name": "OutputModel",
      "state": {
       "_dom_classes": [],
       "_model_module": "jupyter-js-widgets",
       "_model_module_version": "~2.1.4",
       "_view_module": "jupyter-js-widgets",
       "_view_module_version": "~2.1.4",
       "layout": "IPY_MODEL_4f601bd3a0704cc5b04eb8edab474bd4",
       "msg_throttle": 1
      }
     },
     "7555d7e375a244b88222c7e82e7f3a03": {
      "model_module": "jupyter-js-widgets",
      "model_module_version": "~2.1.4",
      "model_name": "LayoutModel",
      "state": {
       "_model_module_version": "~2.1.4",
       "_view_module_version": "~2.1.4"
      }
     },
     "767528a65f374c70867f9732fab326fa": {
      "model_module": "jupyter-js-widgets",
      "model_module_version": "~2.1.4",
      "model_name": "SliderStyleModel",
      "state": {
       "_model_module_version": "~2.1.4",
       "_view_module_version": "~2.1.4"
      }
     },
     "767620219cb14629be7d26b670e8faa4": {
      "model_module": "jupyter-js-widgets",
      "model_module_version": "~2.1.4",
      "model_name": "LayoutModel",
      "state": {
       "_model_module_version": "~2.1.4",
       "_view_module_version": "~2.1.4"
      }
     },
     "77e8eb9dc70040c58437517155b67c91": {
      "model_module": "jupyter-js-widgets",
      "model_module_version": "~2.1.4",
      "model_name": "FloatSliderModel",
      "state": {
       "_model_module_version": "~2.1.4",
       "_view_module_version": "~2.1.4",
       "description": "dislike_rate",
       "layout": "IPY_MODEL_2acc7a69d1044c0ca1e9585813518f72",
       "max": 0.3571428571428571,
       "min": -0.11904761904761904,
       "step": 0.1,
       "value": 0.11904761904761904
      }
     },
     "78f806d019d34e4ca383eeac8b3d6481": {
      "model_module": "jupyter-js-widgets",
      "model_module_version": "~2.1.4",
      "model_name": "SliderStyleModel",
      "state": {
       "_model_module_version": "~2.1.4",
       "_view_module_version": "~2.1.4"
      }
     },
     "7951f094a77242b19befefa7f0500050": {
      "model_module": "jupyter-js-widgets",
      "model_module_version": "~2.1.4",
      "model_name": "SliderStyleModel",
      "state": {
       "_model_module_version": "~2.1.4",
       "_view_module_version": "~2.1.4"
      }
     },
     "7a489b75dd6c40a3baa8b7fb6ba92f01": {
      "model_module": "jupyter-js-widgets",
      "model_module_version": "~2.1.4",
      "model_name": "FloatSliderModel",
      "state": {
       "_model_module_version": "~2.1.4",
       "_view_module_version": "~2.1.4",
       "description": "dislike_rate",
       "layout": "IPY_MODEL_5e2ae37be96848b98e1f594e9692a2c5",
       "max": 0.3571428571428571,
       "min": -0.11904761904761904,
       "step": 0.1,
       "value": 0.11904761904761904
      }
     },
     "7a7f58630e8b48ea89781a6cab1fb5e9": {
      "model_module": "jupyter-js-widgets",
      "model_module_version": "~2.1.4",
      "model_name": "VBoxModel",
      "state": {
       "_dom_classes": [
        "widget-interact"
       ],
       "_model_module_version": "~2.1.4",
       "_view_module_version": "~2.1.4",
       "children": [
        "IPY_MODEL_f35f7a8be0b74674bfa1a301863d3bd1",
        "IPY_MODEL_3bee11469d1b48858af2906936f5cbf3",
        "IPY_MODEL_7a489b75dd6c40a3baa8b7fb6ba92f01",
        "IPY_MODEL_e5f2492049b644ca826d1d97d6b890e4"
       ],
       "layout": "IPY_MODEL_0e0996d5bcf8499d929c4f626d726bfd"
      }
     },
     "7e2ad36cc47746939620a294233d325d": {
      "model_module": "jupyter-js-widgets",
      "model_module_version": "~2.1.4",
      "model_name": "VBoxModel",
      "state": {
       "_dom_classes": [
        "widget-interact"
       ],
       "_model_module_version": "~2.1.4",
       "_view_module_version": "~2.1.4",
       "children": [
        "IPY_MODEL_9baaa9858dd14f6b979d2890efc8df9d",
        "IPY_MODEL_2558821359144f32b7840ea5f1bc3485",
        "IPY_MODEL_3bd9d5a1061047cfb036d795b80102a6",
        "IPY_MODEL_3a613d0cf7b740bc8ea78e21bc628d83"
       ],
       "layout": "IPY_MODEL_379913b4c3a94c0bba74655e3abc41e5"
      }
     },
     "80540e82e0984e539da97f329999b6a9": {
      "model_module": "jupyter-js-widgets",
      "model_module_version": "~2.1.4",
      "model_name": "IntSliderModel",
      "state": {
       "_model_module_version": "~2.1.4",
       "_view_module_version": "~2.1.4",
       "description": "max_ratings",
       "layout": "IPY_MODEL_12e64b381cce409eabeaff773a16ef23",
       "max": 378,
       "min": -126,
       "style": "IPY_MODEL_ecd40592e4ed4e4fac9bc87ed322c919",
       "value": 126
      }
     },
     "82396b24222e4cdd8f1681e152d1a253": {
      "model_module": "jupyter-js-widgets",
      "model_module_version": "~2.1.4",
      "model_name": "LayoutModel",
      "state": {
       "_model_module_version": "~2.1.4",
       "_view_module_version": "~2.1.4"
      }
     },
     "8298b67d7a4b40b1b14a489a04d3d7df": {
      "model_module": "jupyter-js-widgets",
      "model_module_version": "~2.1.4",
      "model_name": "LayoutModel",
      "state": {
       "_model_module_version": "~2.1.4",
       "_view_module_version": "~2.1.4"
      }
     },
     "83b0516b9e76463eb9242690967fdb91": {
      "model_module": "jupyter-js-widgets",
      "model_module_version": "~2.1.4",
      "model_name": "SliderStyleModel",
      "state": {
       "_model_module_version": "~2.1.4",
       "_view_module_version": "~2.1.4"
      }
     },
     "88f17373f43742edaf3f213f6c70ea65": {
      "model_module": "jupyter-js-widgets",
      "model_module_version": "~2.1.4",
      "model_name": "IntSliderModel",
      "state": {
       "_model_module_version": "~2.1.4",
       "_view_module_version": "~2.1.4",
       "description": "min_ratings",
       "layout": "IPY_MODEL_6ccfc69c49754c73ad64790653d3b25b",
       "max": 60,
       "min": -20,
       "style": "IPY_MODEL_d10fcefb95694dea8bd3561206f52c06",
       "value": 20
      }
     },
     "897148317a59444c94ebefb09acc0091": {
      "model_module": "jupyter-js-widgets",
      "model_module_version": "~2.1.4",
      "model_name": "IntSliderModel",
      "state": {
       "_model_module_version": "~2.1.4",
       "_view_module_version": "~2.1.4",
       "description": "min_ratings",
       "layout": "IPY_MODEL_2281fd6d2ff94c998c66dd713250b65c",
       "max": 60,
       "min": -20,
       "style": "IPY_MODEL_64bb1906780e4e7c854eb31496c09d14",
       "value": 14
      }
     },
     "8af496fb915f47cb8d40c3a0ce1a8bda": {
      "model_module": "jupyter-js-widgets",
      "model_module_version": "~2.1.4",
      "model_name": "LayoutModel",
      "state": {
       "_model_module_version": "~2.1.4",
       "_view_module_version": "~2.1.4"
      }
     },
     "8b724e40acda4a19a6dfdc47b3959eb8": {
      "model_module": "jupyter-js-widgets",
      "model_module_version": "~2.1.4",
      "model_name": "IntSliderModel",
      "state": {
       "_model_module_version": "~2.1.4",
       "_view_module_version": "~2.1.4",
       "description": "x",
       "layout": "IPY_MODEL_60000e8524b04ed4ad9d1820e5e8f657",
       "max": 30,
       "min": -10,
       "style": "IPY_MODEL_59a0ce57ab374faf82f0b62995c6f035",
       "value": 3
      }
     },
     "8dc16e13990f4a849310493470f9794d": {
      "model_module": "jupyter-js-widgets",
      "model_module_version": "~2.1.4",
      "model_name": "SliderStyleModel",
      "state": {
       "_model_module_version": "~2.1.4",
       "_view_module_version": "~2.1.4"
      }
     },
     "8f1bddfd2a35426f9c180900842c3fc4": {
      "model_module": "jupyter-js-widgets",
      "model_module_version": "~2.1.4",
      "model_name": "SliderStyleModel",
      "state": {
       "_model_module_version": "~2.1.4",
       "_view_module_version": "~2.1.4"
      }
     },
     "908e8290afb54920a71ef80ecd1a0e78": {
      "model_module": "jupyter-js-widgets",
      "model_module_version": "~2.1.4",
      "model_name": "FloatSliderModel",
      "state": {
       "_model_module_version": "~2.1.4",
       "_view_module_version": "~2.1.4",
       "description": "dislike_rate",
       "layout": "IPY_MODEL_4a150e78af5743da87b7515c559bf516",
       "max": 0.3571428571428571,
       "min": -0.11904761904761904,
       "step": 0.1,
       "value": 0.11904761904761904
      }
     },
     "9328e0ed21bd4dfca50d7383e35bfaca": {
      "model_module": "jupyter-js-widgets",
      "model_module_version": "~2.1.4",
      "model_name": "IntSliderModel",
      "state": {
       "_model_module_version": "~2.1.4",
       "_view_module_version": "~2.1.4",
       "description": "max_ratings",
       "layout": "IPY_MODEL_7555d7e375a244b88222c7e82e7f3a03",
       "max": 378,
       "min": -126,
       "style": "IPY_MODEL_58a20861dd5949219b9cd88cea8816a9",
       "value": 238
      }
     },
     "972ff19470ad4903825ba50bcad00da9": {
      "model_module": "jupyter-js-widgets",
      "model_module_version": "~2.1.4",
      "model_name": "LayoutModel",
      "state": {
       "_model_module_version": "~2.1.4",
       "_view_module_version": "~2.1.4"
      }
     },
     "97b3306fa31044768e2326f60bf7206b": {
      "model_module": "jupyter-js-widgets",
      "model_module_version": "~2.1.4",
      "model_name": "IntSliderModel",
      "state": {
       "_model_module_version": "~2.1.4",
       "_view_module_version": "~2.1.4",
       "description": "x",
       "layout": "IPY_MODEL_11816a0e389e4b2eaa05d15378dc7cf9",
       "max": 30,
       "min": -10,
       "style": "IPY_MODEL_a964b18b2ce24148b5a66a3b8cc81531",
       "value": 26
      }
     },
     "987b813f535740e5aea821015f64118d": {
      "model_module": "jupyter-js-widgets",
      "model_module_version": "~2.1.4",
      "model_name": "LayoutModel",
      "state": {
       "_model_module_version": "~2.1.4",
       "_view_module_version": "~2.1.4"
      }
     },
     "98d4c68bcbf64dc8b927fcb03eb51d0d": {
      "model_module": "jupyter-js-widgets",
      "model_module_version": "~2.1.4",
      "model_name": "LayoutModel",
      "state": {
       "_model_module_version": "~2.1.4",
       "_view_module_version": "~2.1.4"
      }
     },
     "9b225e9ec40545d3a8fa9643942ef7c9": {
      "model_module": "jupyter-js-widgets",
      "model_module_version": "~2.1.4",
      "model_name": "LayoutModel",
      "state": {
       "_model_module_version": "~2.1.4",
       "_view_module_version": "~2.1.4"
      }
     },
     "9b6624e505cf44c1b6e2f19afaf19c45": {
      "model_module": "jupyter-js-widgets",
      "model_module_version": "~2.1.4",
      "model_name": "LayoutModel",
      "state": {
       "_model_module_version": "~2.1.4",
       "_view_module_version": "~2.1.4"
      }
     },
     "9baaa9858dd14f6b979d2890efc8df9d": {
      "model_module": "jupyter-js-widgets",
      "model_module_version": "~2.1.4",
      "model_name": "IntSliderModel",
      "state": {
       "_model_module_version": "~2.1.4",
       "_view_module_version": "~2.1.4",
       "description": "max_ratings",
       "layout": "IPY_MODEL_767620219cb14629be7d26b670e8faa4",
       "max": 378,
       "min": -126,
       "style": "IPY_MODEL_8dc16e13990f4a849310493470f9794d",
       "value": 126
      }
     },
     "9c10ebbf4b0f4cbeb3ff4da10b9d55ee": {
      "model_module": "jupyter-js-widgets",
      "model_module_version": "~2.1.4",
      "model_name": "LayoutModel",
      "state": {
       "_model_module_version": "~2.1.4",
       "_view_module_version": "~2.1.4"
      }
     },
     "9e3ce877c46a4b22ac668ec3f0c18dbe": {
      "model_module": "jupyter-js-widgets",
      "model_module_version": "~2.1.4",
      "model_name": "VBoxModel",
      "state": {
       "_dom_classes": [
        "widget-interact"
       ],
       "_model_module_version": "~2.1.4",
       "_view_module_version": "~2.1.4",
       "children": [
        "IPY_MODEL_1947c32258c846e0be4fd74253affcae",
        "IPY_MODEL_3eb8e2dfba454da5a0a6e2465d98c4b0",
        "IPY_MODEL_a44ef16b7015439ab5df11fead8c2fbf",
        "IPY_MODEL_aacc6aeb7a7a4f4aba33649109722a01"
       ],
       "layout": "IPY_MODEL_fb037dd485cf44bca3018848e28dcb21"
      }
     },
     "9f7626c79c9642ae847766ff3accc566": {
      "model_module": "jupyter-js-widgets",
      "model_module_version": "~2.1.4",
      "model_name": "IntSliderModel",
      "state": {
       "_model_module_version": "~2.1.4",
       "_view_module_version": "~2.1.4",
       "description": "min_ratings",
       "layout": "IPY_MODEL_9c10ebbf4b0f4cbeb3ff4da10b9d55ee",
       "max": 60,
       "min": -20,
       "style": "IPY_MODEL_c1c9a06e7dd142ab8d91fdbaeede13b3",
       "value": 20
      }
     },
     "a2fb3feecdbd48618fa64bacccb3f4a5": {
      "model_module": "jupyter-js-widgets",
      "model_module_version": "~2.1.4",
      "model_name": "LayoutModel",
      "state": {
       "_model_module_version": "~2.1.4",
       "_view_module_version": "~2.1.4"
      }
     },
     "a3ac992c87a6438d8912a4a90be93b11": {
      "model_module": "jupyter-js-widgets",
      "model_module_version": "~2.1.4",
      "model_name": "SliderStyleModel",
      "state": {
       "_model_module_version": "~2.1.4",
       "_view_module_version": "~2.1.4"
      }
     },
     "a44ef16b7015439ab5df11fead8c2fbf": {
      "model_module": "jupyter-js-widgets",
      "model_module_version": "~2.1.4",
      "model_name": "FloatSliderModel",
      "state": {
       "_model_module_version": "~2.1.4",
       "_view_module_version": "~2.1.4",
       "description": "dislike_rate",
       "layout": "IPY_MODEL_eb6874c3967a4a9f985ba84cfeef8849",
       "max": 0.3571428571428571,
       "min": -0.11904761904761904,
       "step": 0.1,
       "value": 0.11904761904761904
      }
     },
     "a5dc14a131c54046a301ab7c9c56acdb": {
      "model_module": "jupyter-js-widgets",
      "model_module_version": "~2.1.4",
      "model_name": "IntSliderModel",
      "state": {
       "_model_module_version": "~2.1.4",
       "_view_module_version": "~2.1.4",
       "description": "max_ratings",
       "layout": "IPY_MODEL_558547cfa3c74314a42f4de25b76c59e",
       "max": 378,
       "min": -126,
       "style": "IPY_MODEL_a3ac992c87a6438d8912a4a90be93b11",
       "value": 42
      }
     },
     "a60edc2a111c41a3bcffab73e5b9bf1a": {
      "model_module": "jupyter-js-widgets",
      "model_module_version": "~2.1.4",
      "model_name": "SliderStyleModel",
      "state": {
       "_model_module_version": "~2.1.4",
       "_view_module_version": "~2.1.4"
      }
     },
     "a964b18b2ce24148b5a66a3b8cc81531": {
      "model_module": "jupyter-js-widgets",
      "model_module_version": "~2.1.4",
      "model_name": "SliderStyleModel",
      "state": {
       "_model_module_version": "~2.1.4",
       "_view_module_version": "~2.1.4"
      }
     },
     "aacc6aeb7a7a4f4aba33649109722a01": {
      "model_module": "jupyter-js-widgets",
      "model_module_version": "~2.1.4",
      "model_name": "OutputModel",
      "state": {
       "_dom_classes": [],
       "_model_module": "jupyter-js-widgets",
       "_model_module_version": "~2.1.4",
       "_view_module": "jupyter-js-widgets",
       "_view_module_version": "~2.1.4",
       "layout": "IPY_MODEL_577be19228eb4a53a50ebfc28cffe4b1",
       "msg_throttle": 1
      }
     },
     "ad05492a7993412b9eca8b20ac633788": {
      "model_module": "jupyter-js-widgets",
      "model_module_version": "~2.1.4",
      "model_name": "LayoutModel",
      "state": {
       "_model_module_version": "~2.1.4",
       "_view_module_version": "~2.1.4"
      }
     },
     "af7e462c80184fdab41c2fe4a152ed76": {
      "model_module": "jupyter-js-widgets",
      "model_module_version": "~2.1.4",
      "model_name": "LayoutModel",
      "state": {
       "_model_module_version": "~2.1.4",
       "_view_module_version": "~2.1.4"
      }
     },
     "b04d8c2168ab4722814af56f7ea6fa57": {
      "model_module": "jupyter-js-widgets",
      "model_module_version": "~2.1.4",
      "model_name": "OutputModel",
      "state": {
       "_dom_classes": [],
       "_model_module": "jupyter-js-widgets",
       "_model_module_version": "~2.1.4",
       "_view_module": "jupyter-js-widgets",
       "_view_module_version": "~2.1.4",
       "layout": "IPY_MODEL_651c220fbc9045e59ef8217e86e7e536",
       "msg_throttle": 1
      }
     },
     "b2489f223f44459f8f4a0ac4a0dad4c8": {
      "model_module": "jupyter-js-widgets",
      "model_module_version": "~2.1.4",
      "model_name": "IntSliderModel",
      "state": {
       "_model_module_version": "~2.1.4",
       "_view_module_version": "~2.1.4",
       "description": "max_ratings",
       "layout": "IPY_MODEL_b52da24b77bc4531b5b20683fa7537f5",
       "max": 378,
       "min": -126,
       "style": "IPY_MODEL_83b0516b9e76463eb9242690967fdb91",
       "value": 126
      }
     },
     "b52da24b77bc4531b5b20683fa7537f5": {
      "model_module": "jupyter-js-widgets",
      "model_module_version": "~2.1.4",
      "model_name": "LayoutModel",
      "state": {
       "_model_module_version": "~2.1.4",
       "_view_module_version": "~2.1.4"
      }
     },
     "b6e514f9ac0e46ad9a726a479968c5a6": {
      "model_module": "jupyter-js-widgets",
      "model_module_version": "~2.1.4",
      "model_name": "LayoutModel",
      "state": {
       "_model_module_version": "~2.1.4",
       "_view_module_version": "~2.1.4"
      }
     },
     "b81042e8d5e349d38c37909349c2e97b": {
      "model_module": "jupyter-js-widgets",
      "model_module_version": "~2.1.4",
      "model_name": "IntSliderModel",
      "state": {
       "_model_module_version": "~2.1.4",
       "_view_module_version": "~2.1.4",
       "description": "max_ratings",
       "layout": "IPY_MODEL_fb85ad319fb14fb58a03a9f4961a1912",
       "max": 378,
       "min": -126,
       "style": "IPY_MODEL_16cc0cc9b01342c6b5224ec0f9ce5636",
       "value": 118
      }
     },
     "b829ed02705c4cf3a449af66ac7f2f09": {
      "model_module": "jupyter-js-widgets",
      "model_module_version": "~2.1.4",
      "model_name": "FloatSliderModel",
      "state": {
       "_model_module_version": "~2.1.4",
       "_view_module_version": "~2.1.4",
       "description": "dislike_rate",
       "layout": "IPY_MODEL_eca25cf97f9b4651af59e08b558fc088",
       "max": 0.3571428571428571,
       "min": -0.11904761904761904,
       "step": 0.1,
       "value": 0.11904761904761904
      }
     },
     "b83dfa06a71240e39ab8b4c42c773a3e": {
      "model_module": "jupyter-js-widgets",
      "model_module_version": "~2.1.4",
      "model_name": "IntSliderModel",
      "state": {
       "_model_module_version": "~2.1.4",
       "_view_module_version": "~2.1.4",
       "description": "max_ratings",
       "layout": "IPY_MODEL_18790eef895e4e25bf22ab6c43b92fa7",
       "max": 378,
       "min": -126,
       "style": "IPY_MODEL_c6ad30e7fcf64f0ca19cf91e998968be",
       "value": 270
      }
     },
     "b930c5c7c5394325a98f93784b3de494": {
      "model_module": "jupyter-js-widgets",
      "model_module_version": "~2.1.4",
      "model_name": "IntSliderModel",
      "state": {
       "_model_module_version": "~2.1.4",
       "_view_module_version": "~2.1.4",
       "description": "x",
       "layout": "IPY_MODEL_69969bfbfec349458be247e97464ae4e",
       "max": 30,
       "min": -10,
       "style": "IPY_MODEL_52fd3eb74501473285e23e02b755820f",
       "value": 4
      }
     },
     "bb3de143e8f44f9f992f5b3415baa9bf": {
      "model_module": "jupyter-js-widgets",
      "model_module_version": "~2.1.4",
      "model_name": "LayoutModel",
      "state": {
       "_model_module_version": "~2.1.4",
       "_view_module_version": "~2.1.4"
      }
     },
     "bf678feb0f7b46ad96249143eab0fdbc": {
      "model_module": "jupyter-js-widgets",
      "model_module_version": "~2.1.4",
      "model_name": "LayoutModel",
      "state": {
       "_model_module_version": "~2.1.4",
       "_view_module_version": "~2.1.4"
      }
     },
     "c07e49020130401b8f4dc86a6a5d9eba": {
      "model_module": "jupyter-js-widgets",
      "model_module_version": "~2.1.4",
      "model_name": "VBoxModel",
      "state": {
       "_dom_classes": [
        "widget-interact"
       ],
       "_model_module_version": "~2.1.4",
       "_view_module_version": "~2.1.4",
       "children": [
        "IPY_MODEL_b2489f223f44459f8f4a0ac4a0dad4c8",
        "IPY_MODEL_01b198f9331046d7ad497bd982058ab7",
        "IPY_MODEL_908e8290afb54920a71ef80ecd1a0e78",
        "IPY_MODEL_5aa41d2638a545b6ba071bbdb7186d10"
       ],
       "layout": "IPY_MODEL_9b6624e505cf44c1b6e2f19afaf19c45"
      }
     },
     "c1c9a06e7dd142ab8d91fdbaeede13b3": {
      "model_module": "jupyter-js-widgets",
      "model_module_version": "~2.1.4",
      "model_name": "SliderStyleModel",
      "state": {
       "_model_module_version": "~2.1.4",
       "_view_module_version": "~2.1.4"
      }
     },
     "c6ad30e7fcf64f0ca19cf91e998968be": {
      "model_module": "jupyter-js-widgets",
      "model_module_version": "~2.1.4",
      "model_name": "SliderStyleModel",
      "state": {
       "_model_module_version": "~2.1.4",
       "_view_module_version": "~2.1.4"
      }
     },
     "c6ee2e6f08774958a180d9ff34adef55": {
      "model_module": "jupyter-js-widgets",
      "model_module_version": "~2.1.4",
      "model_name": "SliderStyleModel",
      "state": {
       "_model_module_version": "~2.1.4",
       "_view_module_version": "~2.1.4"
      }
     },
     "c878a5ad8a7f4acdb7bbdd01d3bceea6": {
      "model_module": "jupyter-js-widgets",
      "model_module_version": "~2.1.4",
      "model_name": "LayoutModel",
      "state": {
       "_model_module_version": "~2.1.4",
       "_view_module_version": "~2.1.4"
      }
     },
     "ca1f03cb1aec4592a8d756d37e8e78f4": {
      "model_module": "jupyter-js-widgets",
      "model_module_version": "~2.1.4",
      "model_name": "IntSliderModel",
      "state": {
       "_model_module_version": "~2.1.4",
       "_view_module_version": "~2.1.4",
       "description": "max_ratings",
       "layout": "IPY_MODEL_bf678feb0f7b46ad96249143eab0fdbc",
       "max": 378,
       "min": -126,
       "style": "IPY_MODEL_1f6f2b0e406d4246967cd8d1793a94a6",
       "value": 126
      }
     },
     "cb4a630a68754bf59cc0e444aefb2381": {
      "model_module": "jupyter-js-widgets",
      "model_module_version": "~2.1.4",
      "model_name": "LayoutModel",
      "state": {
       "_model_module_version": "~2.1.4",
       "_view_module_version": "~2.1.4"
      }
     },
     "ce6d90b447f44815916fb68ecdf4dc52": {
      "model_module": "jupyter-js-widgets",
      "model_module_version": "~2.1.4",
      "model_name": "LayoutModel",
      "state": {
       "_model_module_version": "~2.1.4",
       "_view_module_version": "~2.1.4"
      }
     },
     "cfe9af1ca2324635a8a71c538ef505b2": {
      "model_module": "jupyter-js-widgets",
      "model_module_version": "~2.1.4",
      "model_name": "OutputModel",
      "state": {
       "_dom_classes": [],
       "_model_module": "jupyter-js-widgets",
       "_model_module_version": "~2.1.4",
       "_view_module": "jupyter-js-widgets",
       "_view_module_version": "~2.1.4",
       "layout": "IPY_MODEL_972ff19470ad4903825ba50bcad00da9",
       "msg_throttle": 1
      }
     },
     "d10fcefb95694dea8bd3561206f52c06": {
      "model_module": "jupyter-js-widgets",
      "model_module_version": "~2.1.4",
      "model_name": "SliderStyleModel",
      "state": {
       "_model_module_version": "~2.1.4",
       "_view_module_version": "~2.1.4"
      }
     },
     "d24373b021004cff83efd2662160b4c9": {
      "model_module": "jupyter-js-widgets",
      "model_module_version": "~2.1.4",
      "model_name": "VBoxModel",
      "state": {
       "_dom_classes": [
        "widget-interact"
       ],
       "_model_module_version": "~2.1.4",
       "_view_module_version": "~2.1.4",
       "layout": "IPY_MODEL_d401a6902fa244ec9ce6f9ac8538b006"
      }
     },
     "d2fa49f38ae44e6a86b4f288efe084f4": {
      "model_module": "jupyter-js-widgets",
      "model_module_version": "~2.1.4",
      "model_name": "IntSliderModel",
      "state": {
       "_model_module_version": "~2.1.4",
       "_view_module_version": "~2.1.4",
       "description": "max_ratings",
       "layout": "IPY_MODEL_049ad64cc86f4983901ff83b67a5d641",
       "max": 378,
       "min": -126,
       "style": "IPY_MODEL_1c7399c7b5814a6aa79b964ecbb4dd30",
       "value": 126
      }
     },
     "d3eb5eccac7f43d08684c815ec69dbc4": {
      "model_module": "jupyter-js-widgets",
      "model_module_version": "~2.1.4",
      "model_name": "LayoutModel",
      "state": {
       "_model_module_version": "~2.1.4",
       "_view_module_version": "~2.1.4"
      }
     },
     "d401a6902fa244ec9ce6f9ac8538b006": {
      "model_module": "jupyter-js-widgets",
      "model_module_version": "~2.1.4",
      "model_name": "LayoutModel",
      "state": {
       "_model_module_version": "~2.1.4",
       "_view_module_version": "~2.1.4"
      }
     },
     "d549c2ef6ff94bfbb897ef0cd81faea8": {
      "model_module": "jupyter-js-widgets",
      "model_module_version": "~2.1.4",
      "model_name": "LayoutModel",
      "state": {
       "_model_module_version": "~2.1.4",
       "_view_module_version": "~2.1.4"
      }
     },
     "d637e585150641d5a44feb5d7b4467b2": {
      "model_module": "jupyter-js-widgets",
      "model_module_version": "~2.1.4",
      "model_name": "LayoutModel",
      "state": {
       "_model_module_version": "~2.1.4",
       "_view_module_version": "~2.1.4"
      }
     },
     "d8287855131b47ec950ee2808ad4df17": {
      "model_module": "jupyter-js-widgets",
      "model_module_version": "~2.1.4",
      "model_name": "LayoutModel",
      "state": {
       "_model_module_version": "~2.1.4",
       "_view_module_version": "~2.1.4"
      }
     },
     "db72893d822246eeb73203add1c8b469": {
      "model_module": "jupyter-js-widgets",
      "model_module_version": "~2.1.4",
      "model_name": "SliderStyleModel",
      "state": {
       "_model_module_version": "~2.1.4",
       "_view_module_version": "~2.1.4"
      }
     },
     "dc48c8ed0e9545309b5cba7462847bb3": {
      "model_module": "jupyter-js-widgets",
      "model_module_version": "~2.1.4",
      "model_name": "LayoutModel",
      "state": {
       "_model_module_version": "~2.1.4",
       "_view_module_version": "~2.1.4"
      }
     },
     "dd274400cded44c8896a469064f79d79": {
      "model_module": "jupyter-js-widgets",
      "model_module_version": "~2.1.4",
      "model_name": "VBoxModel",
      "state": {
       "_dom_classes": [
        "widget-interact"
       ],
       "_model_module_version": "~2.1.4",
       "_view_module_version": "~2.1.4",
       "children": [
        "IPY_MODEL_6f43fb722af647bb986c25f64d06990f",
        "IPY_MODEL_276ff52093f9492bb6e905081bed42cc"
       ],
       "layout": "IPY_MODEL_8af496fb915f47cb8d40c3a0ce1a8bda"
      }
     },
     "df46d66b4c4646fb879a9b15e656cc8b": {
      "model_module": "jupyter-js-widgets",
      "model_module_version": "~2.1.4",
      "model_name": "VBoxModel",
      "state": {
       "_dom_classes": [
        "widget-interact"
       ],
       "_model_module_version": "~2.1.4",
       "_view_module_version": "~2.1.4",
       "children": [
        "IPY_MODEL_b930c5c7c5394325a98f93784b3de494",
        "IPY_MODEL_36d077dab2404a8694607c376f412f43"
       ],
       "layout": "IPY_MODEL_bb3de143e8f44f9f992f5b3415baa9bf"
      }
     },
     "df8584ddeb62413daba2106bbcab36f8": {
      "model_module": "jupyter-js-widgets",
      "model_module_version": "~2.1.4",
      "model_name": "LayoutModel",
      "state": {
       "_model_module_version": "~2.1.4",
       "_view_module_version": "~2.1.4"
      }
     },
     "e440da2369cc4a66bf8f087564c61539": {
      "model_module": "jupyter-js-widgets",
      "model_module_version": "~2.1.4",
      "model_name": "LayoutModel",
      "state": {
       "_model_module_version": "~2.1.4",
       "_view_module_version": "~2.1.4"
      }
     },
     "e5f2492049b644ca826d1d97d6b890e4": {
      "model_module": "jupyter-js-widgets",
      "model_module_version": "~2.1.4",
      "model_name": "OutputModel",
      "state": {
       "_dom_classes": [],
       "_model_module": "jupyter-js-widgets",
       "_model_module_version": "~2.1.4",
       "_view_module": "jupyter-js-widgets",
       "_view_module_version": "~2.1.4",
       "layout": "IPY_MODEL_9b225e9ec40545d3a8fa9643942ef7c9",
       "msg_throttle": 1
      }
     },
     "e98bafcf4eb44630a59cc322b04edd0b": {
      "model_module": "jupyter-js-widgets",
      "model_module_version": "~2.1.4",
      "model_name": "OutputModel",
      "state": {
       "_dom_classes": [],
       "_model_module": "jupyter-js-widgets",
       "_model_module_version": "~2.1.4",
       "_view_module": "jupyter-js-widgets",
       "_view_module_version": "~2.1.4",
       "layout": "IPY_MODEL_d3eb5eccac7f43d08684c815ec69dbc4",
       "msg_throttle": 1
      }
     },
     "eb6874c3967a4a9f985ba84cfeef8849": {
      "model_module": "jupyter-js-widgets",
      "model_module_version": "~2.1.4",
      "model_name": "LayoutModel",
      "state": {
       "_model_module_version": "~2.1.4",
       "_view_module_version": "~2.1.4"
      }
     },
     "eca25cf97f9b4651af59e08b558fc088": {
      "model_module": "jupyter-js-widgets",
      "model_module_version": "~2.1.4",
      "model_name": "LayoutModel",
      "state": {
       "_model_module_version": "~2.1.4",
       "_view_module_version": "~2.1.4"
      }
     },
     "ecd40592e4ed4e4fac9bc87ed322c919": {
      "model_module": "jupyter-js-widgets",
      "model_module_version": "~2.1.4",
      "model_name": "SliderStyleModel",
      "state": {
       "_model_module_version": "~2.1.4",
       "_view_module_version": "~2.1.4"
      }
     },
     "ed8f6232982a49018abedfae077e102f": {
      "model_module": "jupyter-js-widgets",
      "model_module_version": "~2.1.4",
      "model_name": "IntSliderModel",
      "state": {
       "_model_module_version": "~2.1.4",
       "_view_module_version": "~2.1.4",
       "description": "max_ratings",
       "layout": "IPY_MODEL_347af63c1eb4420fb90d0cab697af373",
       "max": 378,
       "min": -126,
       "style": "IPY_MODEL_0ebfe144d6424a41947da5c826a46757",
       "value": 224
      }
     },
     "f06bf6ba26264e9481494d764e231dc9": {
      "model_module": "jupyter-js-widgets",
      "model_module_version": "~2.1.4",
      "model_name": "FloatSliderModel",
      "state": {
       "_model_module_version": "~2.1.4",
       "_view_module_version": "~2.1.4",
       "description": "dislike_rate",
       "layout": "IPY_MODEL_06d33d1fe9e84db7b044bb0ac3ca0204",
       "max": 0.3571428571428571,
       "min": -0.11904761904761904,
       "step": 0.1,
       "value": 0.11904761904761904
      }
     },
     "f35f7a8be0b74674bfa1a301863d3bd1": {
      "model_module": "jupyter-js-widgets",
      "model_module_version": "~2.1.4",
      "model_name": "IntSliderModel",
      "state": {
       "_model_module_version": "~2.1.4",
       "_view_module_version": "~2.1.4",
       "description": "max_ratings",
       "layout": "IPY_MODEL_12bdc8548f1340ac8c09c02fdc9b954a",
       "max": 378,
       "min": -126,
       "style": "IPY_MODEL_47165502f3004b93bbca51e7e9605c9a",
       "value": 126
      }
     },
     "f58c81a0081a4306bd83985c8b1330bd": {
      "model_module": "jupyter-js-widgets",
      "model_module_version": "~2.1.4",
      "model_name": "LayoutModel",
      "state": {
       "_model_module_version": "~2.1.4",
       "_view_module_version": "~2.1.4"
      }
     },
     "f6ff512855054d64bf3bc389c01fa65f": {
      "model_module": "jupyter-js-widgets",
      "model_module_version": "~2.1.4",
      "model_name": "VBoxModel",
      "state": {
       "_dom_classes": [
        "widget-interact"
       ],
       "_model_module_version": "~2.1.4",
       "_view_module_version": "~2.1.4",
       "children": [
        "IPY_MODEL_a5dc14a131c54046a301ab7c9c56acdb",
        "IPY_MODEL_f8d43f805ac041a0bc678fb20ab901aa",
        "IPY_MODEL_5e1f3f84486f46c794ea173ae4c75af7",
        "IPY_MODEL_b04d8c2168ab4722814af56f7ea6fa57"
       ],
       "layout": "IPY_MODEL_a2fb3feecdbd48618fa64bacccb3f4a5"
      }
     },
     "f8d43f805ac041a0bc678fb20ab901aa": {
      "model_module": "jupyter-js-widgets",
      "model_module_version": "~2.1.4",
      "model_name": "IntSliderModel",
      "state": {
       "_model_module_version": "~2.1.4",
       "_view_module_version": "~2.1.4",
       "description": "min_ratings",
       "layout": "IPY_MODEL_1da717af5a084868986b373d7bf8ec5c",
       "max": 60,
       "min": -20,
       "style": "IPY_MODEL_db72893d822246eeb73203add1c8b469",
       "value": 20
      }
     },
     "fb037dd485cf44bca3018848e28dcb21": {
      "model_module": "jupyter-js-widgets",
      "model_module_version": "~2.1.4",
      "model_name": "LayoutModel",
      "state": {
       "_model_module_version": "~2.1.4",
       "_view_module_version": "~2.1.4"
      }
     },
     "fb85ad319fb14fb58a03a9f4961a1912": {
      "model_module": "jupyter-js-widgets",
      "model_module_version": "~2.1.4",
      "model_name": "LayoutModel",
      "state": {
       "_model_module_version": "~2.1.4",
       "_view_module_version": "~2.1.4"
      }
     }
    },
    "version_major": 1,
    "version_minor": 0
   }
  }
 },
 "nbformat": 4,
 "nbformat_minor": 2
}
