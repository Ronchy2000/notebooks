{
 "cells": [
  {
   "cell_type": "markdown",
   "id": "5baa75d7",
   "metadata": {},
   "source": [
    "Mean of $N$ variables $\\cal{N}(0, \\sigma)$ is $\\cal{N}(0, \\sigma/\\sqrt{n})$"
   ]
  },
  {
   "cell_type": "code",
   "execution_count": 1,
   "id": "ff0bf104",
   "metadata": {},
   "outputs": [],
   "source": [
    "from mangaki.models import Profile"
   ]
  },
  {
   "cell_type": "code",
   "execution_count": 4,
   "id": "a8bae07e",
   "metadata": {},
   "outputs": [
    {
     "data": {
      "text/plain": [
       "Counter({False: 92, True: 7950})"
      ]
     },
     "execution_count": 4,
     "metadata": {},
     "output_type": "execute_result"
    }
   ],
   "source": [
    "from collections import Counter\n",
    "\n",
    "Counter(Profile.objects.values_list('is_shared', flat=True))"
   ]
  },
  {
   "cell_type": "code",
   "execution_count": 5,
   "id": "33a5cde1",
   "metadata": {},
   "outputs": [
    {
     "data": {
      "text/plain": [
       "0.011439940313354886"
      ]
     },
     "execution_count": 5,
     "metadata": {},
     "output_type": "execute_result"
    }
   ],
   "source": [
    "92/(7950+92)"
   ]
  },
  {
   "cell_type": "code",
   "execution_count": 13,
   "id": "20df525f",
   "metadata": {},
   "outputs": [
    {
     "data": {
      "text/plain": [
       "Counter({(False, True): 78,\n",
       "         (True, True): 7833,\n",
       "         (False, False): 14,\n",
       "         (True, False): 117})"
      ]
     },
     "execution_count": 13,
     "metadata": {},
     "output_type": "execute_result"
    }
   ],
   "source": [
    "Counter(list(Profile.objects.values_list('is_shared', 'research_ok')))"
   ]
  },
  {
   "cell_type": "code",
   "execution_count": 368,
   "id": "3834bc43",
   "metadata": {},
   "outputs": [
    {
     "data": {
      "text/plain": [
       "<QuerySet [{'user': 372}]>"
      ]
     },
     "execution_count": 368,
     "metadata": {},
     "output_type": "execute_result"
    }
   ],
   "source": [
    "Profile.objects.filter(is_shared=False, research_ok=True).order_by('?').values('user')[:1]"
   ]
  },
  {
   "cell_type": "code",
   "execution_count": 433,
   "id": "447a5c90",
   "metadata": {},
   "outputs": [],
   "source": [
    "PRIVATE_USER = 372"
   ]
  },
  {
   "cell_type": "code",
   "execution_count": 434,
   "id": "f30d9aa0",
   "metadata": {},
   "outputs": [],
   "source": [
    "df_private = pd.DataFrame(\n",
    "    User.objects.get(id=372).rating_set.values_list('work_id', 'choice'),\n",
    "    columns=('item_id', 'choice')).sort_values('item_id')"
   ]
  },
  {
   "cell_type": "code",
   "execution_count": 435,
   "id": "a07468e6",
   "metadata": {},
   "outputs": [
    {
     "data": {
      "text/plain": [
       "417"
      ]
     },
     "execution_count": 435,
     "metadata": {},
     "output_type": "execute_result"
    }
   ],
   "source": [
    "len(df_private)"
   ]
  },
  {
   "cell_type": "code",
   "execution_count": 436,
   "id": "d96a532d",
   "metadata": {},
   "outputs": [],
   "source": [
    "import pandas as pd\n",
    "\n",
    "df = pd.DataFrame(Rating.objects.exclude(user_id=PRIVATE_USER).filter(\n",
    "    # user__profile__is_shared=False,\n",
    "    user__profile__research_ok=True,\n",
    "    work__in=df_private['item_id']).values_list(\n",
    "    'user_id', 'work_id', 'choice'), columns=('user_id', 'item_id', 'choice'))"
   ]
  },
  {
   "cell_type": "code",
   "execution_count": 437,
   "id": "ce964294",
   "metadata": {
    "scrolled": true
   },
   "outputs": [
    {
     "data": {
      "text/plain": [
       "(   user_id  item_id   choice\n",
       " 0      169        1     like\n",
       " 1      229        1     like\n",
       " 2      224        1     like\n",
       " 3      278        1  willsee\n",
       " 4      234        1  dislike,\n",
       " 61684)"
      ]
     },
     "execution_count": 437,
     "metadata": {},
     "output_type": "execute_result"
    }
   ],
   "source": [
    "df.head(), len(df)"
   ]
  },
  {
   "cell_type": "code",
   "execution_count": 444,
   "id": "b9cebc73",
   "metadata": {},
   "outputs": [],
   "source": [
    "item_ids, cols = np.unique(df['item_id'], return_inverse=True)\n",
    "encode_col = dict(zip(df['item_id'], cols))"
   ]
  },
  {
   "cell_type": "code",
   "execution_count": 445,
   "id": "e22572d2",
   "metadata": {},
   "outputs": [
    {
     "data": {
      "text/plain": [
       "(417, 61684)"
      ]
     },
     "execution_count": 445,
     "metadata": {},
     "output_type": "execute_result"
    }
   ],
   "source": [
    "len(item_ids), len(cols)"
   ]
  },
  {
   "cell_type": "code",
   "execution_count": 447,
   "id": "345d496a",
   "metadata": {},
   "outputs": [],
   "source": [
    "from mangaki.utils.values import rating_values\n",
    "import numpy as np\n",
    "\n",
    "df['row'] = np.unique(df['user_id'], return_inverse=True)[1]\n",
    "df['col'] = np.unique(df['item_id'], return_inverse=True)[1]\n",
    "df['value'] = df['choice'].map(rating_values)"
   ]
  },
  {
   "cell_type": "code",
   "execution_count": 448,
   "id": "4b36ea48",
   "metadata": {},
   "outputs": [],
   "source": [
    "df_private['value'] = df_private['choice'].map(rating_values)\n",
    "df_private['col'] = df_private['item_id'].map(encode_col)"
   ]
  },
  {
   "cell_type": "code",
   "execution_count": 449,
   "id": "994d4830",
   "metadata": {},
   "outputs": [],
   "source": [
    "from sklearn.model_selection import train_test_split"
   ]
  },
  {
   "cell_type": "code",
   "execution_count": 450,
   "id": "a06faf7d",
   "metadata": {},
   "outputs": [],
   "source": [
    "private_train, private_test = train_test_split(df_private, test_size=0.2, shuffle=True)"
   ]
  },
  {
   "cell_type": "code",
   "execution_count": 452,
   "id": "deee1e8a",
   "metadata": {},
   "outputs": [],
   "source": [
    "private_train = private_train.sort_values('col')\n",
    "private_test = private_test.sort_values('col')"
   ]
  },
  {
   "cell_type": "code",
   "execution_count": 453,
   "id": "ff3c7015",
   "metadata": {},
   "outputs": [],
   "source": [
    "train = np.array(private_train['col'])\n",
    "test = np.array(private_test['col'])"
   ]
  },
  {
   "cell_type": "code",
   "execution_count": 454,
   "id": "57790a50",
   "metadata": {},
   "outputs": [
    {
     "data": {
      "text/html": [
       "<div>\n",
       "<style scoped>\n",
       "    .dataframe tbody tr th:only-of-type {\n",
       "        vertical-align: middle;\n",
       "    }\n",
       "\n",
       "    .dataframe tbody tr th {\n",
       "        vertical-align: top;\n",
       "    }\n",
       "\n",
       "    .dataframe thead th {\n",
       "        text-align: right;\n",
       "    }\n",
       "</style>\n",
       "<table border=\"1\" class=\"dataframe\">\n",
       "  <thead>\n",
       "    <tr style=\"text-align: right;\">\n",
       "      <th></th>\n",
       "      <th>user_id</th>\n",
       "      <th>item_id</th>\n",
       "      <th>choice</th>\n",
       "      <th>row</th>\n",
       "      <th>col</th>\n",
       "      <th>value</th>\n",
       "    </tr>\n",
       "  </thead>\n",
       "  <tbody>\n",
       "    <tr>\n",
       "      <th>0</th>\n",
       "      <td>169</td>\n",
       "      <td>1</td>\n",
       "      <td>like</td>\n",
       "      <td>139</td>\n",
       "      <td>0</td>\n",
       "      <td>2.0</td>\n",
       "    </tr>\n",
       "    <tr>\n",
       "      <th>1</th>\n",
       "      <td>229</td>\n",
       "      <td>1</td>\n",
       "      <td>like</td>\n",
       "      <td>189</td>\n",
       "      <td>0</td>\n",
       "      <td>2.0</td>\n",
       "    </tr>\n",
       "    <tr>\n",
       "      <th>2</th>\n",
       "      <td>224</td>\n",
       "      <td>1</td>\n",
       "      <td>like</td>\n",
       "      <td>184</td>\n",
       "      <td>0</td>\n",
       "      <td>2.0</td>\n",
       "    </tr>\n",
       "    <tr>\n",
       "      <th>3</th>\n",
       "      <td>278</td>\n",
       "      <td>1</td>\n",
       "      <td>willsee</td>\n",
       "      <td>231</td>\n",
       "      <td>0</td>\n",
       "      <td>0.5</td>\n",
       "    </tr>\n",
       "    <tr>\n",
       "      <th>4</th>\n",
       "      <td>234</td>\n",
       "      <td>1</td>\n",
       "      <td>dislike</td>\n",
       "      <td>194</td>\n",
       "      <td>0</td>\n",
       "      <td>-2.0</td>\n",
       "    </tr>\n",
       "  </tbody>\n",
       "</table>\n",
       "</div>"
      ],
      "text/plain": [
       "   user_id  item_id   choice  row  col  value\n",
       "0      169        1     like  139    0    2.0\n",
       "1      229        1     like  189    0    2.0\n",
       "2      224        1     like  184    0    2.0\n",
       "3      278        1  willsee  231    0    0.5\n",
       "4      234        1  dislike  194    0   -2.0"
      ]
     },
     "execution_count": 454,
     "metadata": {},
     "output_type": "execute_result"
    }
   ],
   "source": [
    "df.head()"
   ]
  },
  {
   "cell_type": "code",
   "execution_count": 455,
   "id": "ba7dc50a",
   "metadata": {},
   "outputs": [
    {
     "data": {
      "text/html": [
       "<div>\n",
       "<style scoped>\n",
       "    .dataframe tbody tr th:only-of-type {\n",
       "        vertical-align: middle;\n",
       "    }\n",
       "\n",
       "    .dataframe tbody tr th {\n",
       "        vertical-align: top;\n",
       "    }\n",
       "\n",
       "    .dataframe thead th {\n",
       "        text-align: right;\n",
       "    }\n",
       "</style>\n",
       "<table border=\"1\" class=\"dataframe\">\n",
       "  <thead>\n",
       "    <tr style=\"text-align: right;\">\n",
       "      <th></th>\n",
       "      <th>item_id</th>\n",
       "      <th>col</th>\n",
       "    </tr>\n",
       "  </thead>\n",
       "  <tbody>\n",
       "    <tr>\n",
       "      <th>0</th>\n",
       "      <td>1</td>\n",
       "      <td>0</td>\n",
       "    </tr>\n",
       "    <tr>\n",
       "      <th>1751</th>\n",
       "      <td>2</td>\n",
       "      <td>1</td>\n",
       "    </tr>\n",
       "    <tr>\n",
       "      <th>2984</th>\n",
       "      <td>4</td>\n",
       "      <td>2</td>\n",
       "    </tr>\n",
       "    <tr>\n",
       "      <th>4450</th>\n",
       "      <td>5</td>\n",
       "      <td>3</td>\n",
       "    </tr>\n",
       "    <tr>\n",
       "      <th>6074</th>\n",
       "      <td>6</td>\n",
       "      <td>4</td>\n",
       "    </tr>\n",
       "    <tr>\n",
       "      <th>...</th>\n",
       "      <td>...</td>\n",
       "      <td>...</td>\n",
       "    </tr>\n",
       "    <tr>\n",
       "      <th>61157</th>\n",
       "      <td>8012</td>\n",
       "      <td>412</td>\n",
       "    </tr>\n",
       "    <tr>\n",
       "      <th>61459</th>\n",
       "      <td>8019</td>\n",
       "      <td>413</td>\n",
       "    </tr>\n",
       "    <tr>\n",
       "      <th>61466</th>\n",
       "      <td>8050</td>\n",
       "      <td>414</td>\n",
       "    </tr>\n",
       "    <tr>\n",
       "      <th>61572</th>\n",
       "      <td>8051</td>\n",
       "      <td>415</td>\n",
       "    </tr>\n",
       "    <tr>\n",
       "      <th>61619</th>\n",
       "      <td>8062</td>\n",
       "      <td>416</td>\n",
       "    </tr>\n",
       "  </tbody>\n",
       "</table>\n",
       "<p>417 rows × 2 columns</p>\n",
       "</div>"
      ],
      "text/plain": [
       "       item_id  col\n",
       "0            1    0\n",
       "1751         2    1\n",
       "2984         4    2\n",
       "4450         5    3\n",
       "6074         6    4\n",
       "...        ...  ...\n",
       "61157     8012  412\n",
       "61459     8019  413\n",
       "61466     8050  414\n",
       "61572     8051  415\n",
       "61619     8062  416\n",
       "\n",
       "[417 rows x 2 columns]"
      ]
     },
     "execution_count": 455,
     "metadata": {},
     "output_type": "execute_result"
    }
   ],
   "source": [
    "df[['item_id', 'col']].drop_duplicates().sort_values('item_id')"
   ]
  },
  {
   "cell_type": "code",
   "execution_count": 456,
   "id": "9121615f",
   "metadata": {},
   "outputs": [],
   "source": [
    "from scipy.sparse import csr_matrix\n",
    "\n",
    "M = csr_matrix((df['value'], (df['row'], df['col'])))"
   ]
  },
  {
   "cell_type": "code",
   "execution_count": 457,
   "id": "20b7017a",
   "metadata": {},
   "outputs": [
    {
     "data": {
      "text/plain": [
       "<2156x417 sparse matrix of type '<class 'numpy.float64'>'\n",
       "\twith 61684 stored elements in Compressed Sparse Row format>"
      ]
     },
     "execution_count": 457,
     "metadata": {},
     "output_type": "execute_result"
    }
   ],
   "source": [
    "M"
   ]
  },
  {
   "cell_type": "code",
   "execution_count": 458,
   "id": "97450f39",
   "metadata": {},
   "outputs": [],
   "source": [
    "from sklearn.linear_model import LinearRegression"
   ]
  },
  {
   "cell_type": "code",
   "execution_count": 459,
   "id": "46f451c8",
   "metadata": {},
   "outputs": [],
   "source": [
    "truth = np.array(df_private['value'])\n",
    "train_truth = np.array(private_train['value'])\n",
    "test_truth = np.array(private_test['value'])"
   ]
  },
  {
   "cell_type": "code",
   "execution_count": 460,
   "id": "d3b13d4f",
   "metadata": {},
   "outputs": [
    {
     "data": {
      "text/plain": [
       "LinearRegression()"
      ]
     },
     "execution_count": 460,
     "metadata": {},
     "output_type": "execute_result"
    }
   ],
   "source": [
    "lr = LinearRegression()\n",
    "lr.fit(M.T[train], train_truth)"
   ]
  },
  {
   "cell_type": "code",
   "execution_count": 461,
   "id": "d747bab1",
   "metadata": {},
   "outputs": [],
   "source": [
    "lr2 = LinearRegression()"
   ]
  },
  {
   "cell_type": "code",
   "execution_count": 462,
   "id": "45087dbd",
   "metadata": {},
   "outputs": [],
   "source": [
    "lr3 = LinearRegression()"
   ]
  },
  {
   "cell_type": "code",
   "execution_count": 463,
   "id": "1cc098ae",
   "metadata": {},
   "outputs": [],
   "source": [
    "pred = lr.predict(M.T)"
   ]
  },
  {
   "cell_type": "code",
   "execution_count": 464,
   "id": "a35f1feb",
   "metadata": {},
   "outputs": [
    {
     "data": {
      "text/plain": [
       "array([0.02075742, 0.02075742, 0.02075742, 0.02075742, 0.02075742,\n",
       "       0.02075742, 0.02075742, 0.02075742, 0.02075742, 0.02075742])"
      ]
     },
     "execution_count": 464,
     "metadata": {},
     "output_type": "execute_result"
    }
   ],
   "source": [
    "weights[:10]"
   ]
  },
  {
   "cell_type": "code",
   "execution_count": 465,
   "id": "45fea0f3",
   "metadata": {},
   "outputs": [
    {
     "data": {
      "text/plain": [
       "{'favorite': 4,\n",
       " 'like': 2,\n",
       " 'dislike': -2,\n",
       " 'neutral': 0.1,\n",
       " 'willsee': 0.5,\n",
       " 'wontsee': -0.5}"
      ]
     },
     "execution_count": 465,
     "metadata": {},
     "output_type": "execute_result"
    }
   ],
   "source": [
    "rating_values"
   ]
  },
  {
   "cell_type": "code",
   "execution_count": 467,
   "id": "b6943e48",
   "metadata": {},
   "outputs": [],
   "source": [
    "def loss_f(true, pred):\n",
    "    pred = np.clip(pred, -2, 4)\n",
    "    return ((np.round(pred, 3) - true) ** 2).mean()"
   ]
  },
  {
   "cell_type": "code",
   "execution_count": 476,
   "id": "1bb0795d",
   "metadata": {},
   "outputs": [
    {
     "name": "stdout",
     "output_type": "stream",
     "text": [
      "CPU times: user 174 ms, sys: 5.43 ms, total: 179 ms\n",
      "Wall time: 178 ms\n"
     ]
    }
   ],
   "source": [
    "%%time\n",
    "y = []\n",
    "x = [5, 10, 15, 20, 30, 50, 100]\n",
    "y_knn = []  # Train losses\n",
    "y_lr_knn = []\n",
    "y_lr = []\n",
    "y_w_knn = []\n",
    "test_untrained_lr = []\n",
    "test_knn = []  # Test losses\n",
    "test_lr = []\n",
    "test_lr_knn = []\n",
    "test_w_knn = []\n",
    "\n",
    "for KEEP in x:\n",
    "    truncated = np.abs(lr.coef_).argsort()[-KEEP:]\n",
    "    train_approx = M.T[train][:, truncated] @ lr.coef_[truncated] + lr.intercept_\n",
    "    test_approx = M.T[test][:, truncated] @ lr.coef_[truncated] + lr.intercept_\n",
    "    train_loss = loss_f(train_truth, train_approx)\n",
    "    test_loss = loss_f(test_truth, test_approx)\n",
    "    y.append(train_loss)\n",
    "    test_untrained_lr.append(test_loss)\n",
    "    \n",
    "    lr3.fit(M.T[train][:, truncated], train_truth)\n",
    "    train_approx = lr3.predict(M.T[train][:, truncated])\n",
    "    test_approx = lr3.predict(M.T[test][:, truncated])\n",
    "    train_loss = loss_f(train_truth, train_approx)\n",
    "    test_loss = loss_f(test_truth, test_approx)\n",
    "    y_lr.append(train_loss)\n",
    "    test_lr.append(test_loss)\n",
    "    \n",
    "    truncated = neighbors[:KEEP].reshape(-1)\n",
    "    lr2.fit(M.T[train][:, truncated], train_truth)\n",
    "    train_approx = lr2.predict(M.T[train][:, truncated])\n",
    "    test_approx = lr2.predict(M.T[test][:, truncated])\n",
    "    train_loss = loss_f(train_truth, train_approx)\n",
    "    test_loss = loss_f(test_truth, test_approx)\n",
    "    y_lr_knn.append(train_loss)\n",
    "    test_lr_knn.append(test_loss)\n",
    "    \n",
    "    train_approx = M.T[train][:, truncated].mean(axis=1).A1.reshape(-1)\n",
    "    test_approx = M.T[test][:, truncated].mean(axis=1).A1.reshape(-1)\n",
    "    train_loss = loss_f(train_truth, train_approx)\n",
    "    test_loss = loss_f(test_truth, test_approx)\n",
    "    y_knn.append(train_loss)\n",
    "    test_knn.append(test_loss)\n",
    "    \n",
    "    weights = 1 - dist[:KEEP]\n",
    "    train_approx = (M.T[train][:, truncated] * diags(weights)).sum(axis=1).A1.reshape(-1) / weights.sum()\n",
    "    test_approx = (M.T[test][:, truncated] * diags(weights)).sum(axis=1).A1.reshape(-1) / weights.sum()\n",
    "    train_loss = loss_f(train_truth, train_approx)\n",
    "    test_loss = loss_f(test_truth, test_approx)\n",
    "    y_w_knn.append(train_loss)\n",
    "    test_w_knn.append(test_loss)"
   ]
  },
  {
   "cell_type": "code",
   "execution_count": 477,
   "id": "e055344e",
   "metadata": {},
   "outputs": [
    {
     "data": {
      "text/plain": [
       "Text(0.5, 1.0, 'Train error for one private user')"
      ]
     },
     "execution_count": 477,
     "metadata": {},
     "output_type": "execute_result"
    },
    {
     "data": {
      "image/png": "[encoded data removed]",
      "text/plain": [
       "<Figure size 432x288 with 1 Axes>"
      ]
     },
     "metadata": {
      "needs_background": "light"
     },
     "output_type": "display_data"
    }
   ],
   "source": [
    "#plt.plot(x, y, label='LR not retrained')\n",
    "plt.plot(x, y_knn, label='knn')\n",
    "plt.plot(x, y_w_knn, label='weighted knn')\n",
    "plt.plot(x, y_lr_knn, label='LR knn')\n",
    "plt.plot(x, y_lr, label='LR retrained')\n",
    "#plt.xlim(xmax=500)\n",
    "#plt.ylim(ymax=5)\n",
    "plt.legend()\n",
    "plt.xlabel('# users (neighbors)')\n",
    "plt.ylabel('Train MSE')\n",
    "plt.title('Train error for one private user')"
   ]
  },
  {
   "cell_type": "code",
   "execution_count": 478,
   "id": "62368251",
   "metadata": {},
   "outputs": [
    {
     "data": {
      "text/plain": [
       "Text(0.5, 1.0, 'Test error for one private user')"
      ]
     },
     "execution_count": 478,
     "metadata": {},
     "output_type": "execute_result"
    },
    {
     "data": {
      "image/png": "[encoded data removed]",
      "text/plain": [
       "<Figure size 432x288 with 1 Axes>"
      ]
     },
     "metadata": {
      "needs_background": "light"
     },
     "output_type": "display_data"
    }
   ],
   "source": [
    "#plt.plot(x, test_untrained_lr, label='LR not retrained')\n",
    "plt.plot(x, test_knn, label='knn')\n",
    "plt.plot(x, test_w_knn, label='weighted knn')\n",
    "plt.plot(x, test_lr_knn, label='LR knn')\n",
    "plt.plot(x, test_lr, label='LR retrained')\n",
    "#plt.xlim(xmax=500)\n",
    "#plt.ylim(ymax=5)\n",
    "plt.legend()\n",
    "plt.xlabel('# users (neighbors)')\n",
    "plt.ylabel('Test MSE')\n",
    "plt.title('Test error for one private user')"
   ]
  },
  {
   "cell_type": "code",
   "execution_count": 151,
   "id": "f6b9129b",
   "metadata": {},
   "outputs": [
    {
     "data": {
      "text/plain": [
       "(array([   6.,   18.,   48.,  257., 1521.,  178.,   36.,   16.,    6.,\n",
       "           6.]),\n",
       " array([-0.10496153, -0.0811011 , -0.05724068, -0.03338026, -0.00951983,\n",
       "         0.01434059,  0.03820101,  0.06206144,  0.08592186,  0.10978228,\n",
       "         0.13364271]),\n",
       " <BarContainer object of 10 artists>)"
      ]
     },
     "execution_count": 151,
     "metadata": {},
     "output_type": "execute_result"
    },
    {
     "data": {
      "image/png": "[encoded data removed]",
      "text/plain": [
       "<Figure size 432x288 with 1 Axes>"
      ]
     },
     "metadata": {
      "needs_background": "light"
     },
     "output_type": "display_data"
    }
   ],
   "source": [
    "import matplotlib.pyplot as plt\n",
    "\n",
    "plt.hist(lr.coef_)"
   ]
  },
  {
   "cell_type": "code",
   "execution_count": 128,
   "id": "bc62b0d9",
   "metadata": {},
   "outputs": [],
   "source": [
    "best_pos = lr.coef_.argsort()[-5:]"
   ]
  },
  {
   "cell_type": "code",
   "execution_count": 129,
   "id": "e3680606",
   "metadata": {},
   "outputs": [
    {
     "data": {
      "text/plain": [
       "array([  39,   76,  180, 1176,  475])"
      ]
     },
     "execution_count": 129,
     "metadata": {},
     "output_type": "execute_result"
    }
   ],
   "source": [
    "best_pos"
   ]
  },
  {
   "cell_type": "code",
   "execution_count": 130,
   "id": "366a9080",
   "metadata": {},
   "outputs": [
    {
     "data": {
      "text/plain": [
       "array([0.11645822, 0.11968056, 0.1199534 , 0.12968687, 0.13364271])"
      ]
     },
     "execution_count": 130,
     "metadata": {},
     "output_type": "execute_result"
    }
   ],
   "source": [
    "lr.coef_[best_pos]"
   ]
  },
  {
   "cell_type": "code",
   "execution_count": 134,
   "id": "dac469c9",
   "metadata": {},
   "outputs": [
    {
     "data": {
      "text/html": [
       "<div>\n",
       "<style scoped>\n",
       "    .dataframe tbody tr th:only-of-type {\n",
       "        vertical-align: middle;\n",
       "    }\n",
       "\n",
       "    .dataframe tbody tr th {\n",
       "        vertical-align: top;\n",
       "    }\n",
       "\n",
       "    .dataframe thead th {\n",
       "        text-align: right;\n",
       "    }\n",
       "</style>\n",
       "<table border=\"1\" class=\"dataframe\">\n",
       "  <thead>\n",
       "    <tr style=\"text-align: right;\">\n",
       "      <th></th>\n",
       "      <th>user_id</th>\n",
       "      <th>item_id</th>\n",
       "      <th>choice</th>\n",
       "      <th>row</th>\n",
       "      <th>col</th>\n",
       "      <th>value</th>\n",
       "    </tr>\n",
       "  </thead>\n",
       "  <tbody>\n",
       "    <tr>\n",
       "      <th>9362</th>\n",
       "      <td>557</td>\n",
       "      <td>7</td>\n",
       "      <td>like</td>\n",
       "      <td>475</td>\n",
       "      <td>0</td>\n",
       "      <td>2.0</td>\n",
       "    </tr>\n",
       "    <tr>\n",
       "      <th>9363</th>\n",
       "      <td>557</td>\n",
       "      <td>80</td>\n",
       "      <td>dislike</td>\n",
       "      <td>475</td>\n",
       "      <td>13</td>\n",
       "      <td>-2.0</td>\n",
       "    </tr>\n",
       "    <tr>\n",
       "      <th>9364</th>\n",
       "      <td>557</td>\n",
       "      <td>742</td>\n",
       "      <td>willsee</td>\n",
       "      <td>475</td>\n",
       "      <td>38</td>\n",
       "      <td>0.5</td>\n",
       "    </tr>\n",
       "    <tr>\n",
       "      <th>9365</th>\n",
       "      <td>557</td>\n",
       "      <td>954</td>\n",
       "      <td>like</td>\n",
       "      <td>475</td>\n",
       "      <td>44</td>\n",
       "      <td>2.0</td>\n",
       "    </tr>\n",
       "    <tr>\n",
       "      <th>9366</th>\n",
       "      <td>557</td>\n",
       "      <td>1377</td>\n",
       "      <td>wontsee</td>\n",
       "      <td>475</td>\n",
       "      <td>52</td>\n",
       "      <td>-0.5</td>\n",
       "    </tr>\n",
       "    <tr>\n",
       "      <th>...</th>\n",
       "      <td>...</td>\n",
       "      <td>...</td>\n",
       "      <td>...</td>\n",
       "      <td>...</td>\n",
       "      <td>...</td>\n",
       "      <td>...</td>\n",
       "    </tr>\n",
       "    <tr>\n",
       "      <th>36730</th>\n",
       "      <td>557</td>\n",
       "      <td>2040</td>\n",
       "      <td>neutral</td>\n",
       "      <td>475</td>\n",
       "      <td>71</td>\n",
       "      <td>0.1</td>\n",
       "    </tr>\n",
       "    <tr>\n",
       "      <th>36898</th>\n",
       "      <td>557</td>\n",
       "      <td>2078</td>\n",
       "      <td>wontsee</td>\n",
       "      <td>475</td>\n",
       "      <td>75</td>\n",
       "      <td>-0.5</td>\n",
       "    </tr>\n",
       "    <tr>\n",
       "      <th>37111</th>\n",
       "      <td>557</td>\n",
       "      <td>410</td>\n",
       "      <td>like</td>\n",
       "      <td>475</td>\n",
       "      <td>31</td>\n",
       "      <td>2.0</td>\n",
       "    </tr>\n",
       "    <tr>\n",
       "      <th>40196</th>\n",
       "      <td>557</td>\n",
       "      <td>151</td>\n",
       "      <td>willsee</td>\n",
       "      <td>475</td>\n",
       "      <td>23</td>\n",
       "      <td>0.5</td>\n",
       "    </tr>\n",
       "    <tr>\n",
       "      <th>40329</th>\n",
       "      <td>557</td>\n",
       "      <td>1289</td>\n",
       "      <td>like</td>\n",
       "      <td>475</td>\n",
       "      <td>48</td>\n",
       "      <td>2.0</td>\n",
       "    </tr>\n",
       "  </tbody>\n",
       "</table>\n",
       "<p>84 rows × 6 columns</p>\n",
       "</div>"
      ],
      "text/plain": [
       "       user_id  item_id   choice  row  col  value\n",
       "9362       557        7     like  475    0    2.0\n",
       "9363       557       80  dislike  475   13   -2.0\n",
       "9364       557      742  willsee  475   38    0.5\n",
       "9365       557      954     like  475   44    2.0\n",
       "9366       557     1377  wontsee  475   52   -0.5\n",
       "...        ...      ...      ...  ...  ...    ...\n",
       "36730      557     2040  neutral  475   71    0.1\n",
       "36898      557     2078  wontsee  475   75   -0.5\n",
       "37111      557      410     like  475   31    2.0\n",
       "40196      557      151  willsee  475   23    0.5\n",
       "40329      557     1289     like  475   48    2.0\n",
       "\n",
       "[84 rows x 6 columns]"
      ]
     },
     "execution_count": 134,
     "metadata": {},
     "output_type": "execute_result"
    }
   ],
   "source": [
    "df.query(\"row == 475\")"
   ]
  },
  {
   "cell_type": "code",
   "execution_count": 175,
   "id": "1e32f399",
   "metadata": {},
   "outputs": [],
   "source": [
    "from sklearn.metrics.pairwise import cosine_similarity\n",
    "\n",
    "sim = cosine_similarity(np.array(df_private['value']).reshape(1, -1), M)"
   ]
  },
  {
   "cell_type": "code",
   "execution_count": 176,
   "id": "52904469",
   "metadata": {},
   "outputs": [
    {
     "data": {
      "text/plain": [
       "array([[ 106,  241, 1208,   76,  343]])"
      ]
     },
     "execution_count": 176,
     "metadata": {},
     "output_type": "execute_result"
    }
   ],
   "source": [
    "sim.argsort()[:, -5:]"
   ]
  },
  {
   "cell_type": "code",
   "execution_count": 177,
   "id": "5ea1d45e",
   "metadata": {},
   "outputs": [
    {
     "data": {
      "text/plain": [
       "0.3728813559322034"
      ]
     },
     "execution_count": 177,
     "metadata": {},
     "output_type": "execute_result"
    }
   ],
   "source": [
    "(M[343].toarray()[0] == truth).mean()"
   ]
  },
  {
   "cell_type": "code",
   "execution_count": 178,
   "id": "76e4ec09",
   "metadata": {},
   "outputs": [
    {
     "data": {
      "text/plain": [
       "0.4491525423728814"
      ]
     },
     "execution_count": 178,
     "metadata": {},
     "output_type": "execute_result"
    }
   ],
   "source": [
    "(M[343].toarray()[0] == 0).mean()"
   ]
  },
  {
   "cell_type": "code",
   "execution_count": 468,
   "id": "eab82ccb",
   "metadata": {},
   "outputs": [],
   "source": [
    "from sklearn.neighbors import KNeighborsRegressor, NearestNeighbors\n",
    "\n",
    "knn = NearestNeighbors(n_neighbors=1000, metric='cosine')\n",
    "knn.fit(M[:, train])\n",
    "\n",
    "dist, neighbors = knn.kneighbors(train_truth.reshape(1, -1))\n",
    "dist = dist[0]\n",
    "neighbors = neighbors[0]"
   ]
  },
  {
   "cell_type": "code",
   "execution_count": 410,
   "id": "75a149ee",
   "metadata": {},
   "outputs": [
    {
     "data": {
      "text/plain": [
       "array([1434, 1555,  117, 1562,  114])"
      ]
     },
     "execution_count": 410,
     "metadata": {},
     "output_type": "execute_result"
    }
   ],
   "source": [
    "neighbors[:5]"
   ]
  },
  {
   "cell_type": "code",
   "execution_count": 411,
   "id": "31d72d86",
   "metadata": {},
   "outputs": [
    {
     "data": {
      "text/plain": [
       "array([0.86179229])"
      ]
     },
     "execution_count": 411,
     "metadata": {},
     "output_type": "execute_result"
    }
   ],
   "source": [
    "1 - M[343] @ truth / (np.linalg.norm(truth) * np.linalg.norm(M[343].toarray()))"
   ]
  },
  {
   "cell_type": "code",
   "execution_count": 232,
   "id": "7194775f",
   "metadata": {},
   "outputs": [
    {
     "data": {
      "text/plain": [
       "[<matplotlib.lines.Line2D at 0x7fc48f12cbb0>]"
      ]
     },
     "execution_count": 232,
     "metadata": {},
     "output_type": "execute_result"
    },
    {
     "data": {
      "image/png": "[encoded data removed]",
      "text/plain": [
       "<Figure size 432x288 with 1 Axes>"
      ]
     },
     "metadata": {
      "needs_background": "light"
     },
     "output_type": "display_data"
    }
   ],
   "source": [
    "plt.plot(dist[0])"
   ]
  },
  {
   "cell_type": "code",
   "execution_count": 236,
   "id": "b7df1c7f",
   "metadata": {},
   "outputs": [
    {
     "data": {
      "text/plain": [
       "(1, 1000)"
      ]
     },
     "execution_count": 236,
     "metadata": {},
     "output_type": "execute_result"
    }
   ],
   "source": [
    "neighbors.shape"
   ]
  },
  {
   "cell_type": "code",
   "execution_count": 479,
   "id": "83b4c027",
   "metadata": {},
   "outputs": [
    {
     "data": {
      "text/plain": [
       "1.61245154965971"
      ]
     },
     "execution_count": 479,
     "metadata": {},
     "output_type": "execute_result"
    }
   ],
   "source": [
    "2.6 ** 0.5"
   ]
  },
  {
   "cell_type": "code",
   "execution_count": null,
   "id": "6a263a1b",
   "metadata": {},
   "outputs": [],
   "source": []
  }
 ],
 "metadata": {
  "kernelspec": {
   "display_name": "Django Shell-Plus",
   "language": "python",
   "name": "django_extensions"
  },
  "language_info": {
   "codemirror_mode": {
    "name": "ipython",
    "version": 3
   },
   "file_extension": ".py",
   "mimetype": "text/x-python",
   "name": "python",
   "nbconvert_exporter": "python",
   "pygments_lexer": "ipython3",
   "version": "3.9.5"
  }
 },
 "nbformat": 4,
 "nbformat_minor": 5
}
