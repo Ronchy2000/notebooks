{
 "cells": [
  {
   "cell_type": "code",
   "execution_count": 198,
   "metadata": {},
   "outputs": [],
   "source": [
    "import numpy as np\n",
    "\n",
    "N = 100\n",
    "x = np.round(np.random.random(N)*100)\n",
    "y_1 = 100*np.random.random(N)-50\n",
    "y_2 = 100*np.random.random(N)-50"
   ]
  },
  {
   "cell_type": "code",
   "execution_count": 199,
   "metadata": {},
   "outputs": [],
   "source": [
    "X = np.column_stack((x, y_1, y_2))"
   ]
  },
  {
   "cell_type": "code",
   "execution_count": 200,
   "metadata": {
    "collapsed": true
   },
   "outputs": [],
   "source": [
    "y = []\n",
    "c = 0\n",
    "for xi, yi1, yi2 in X:\n",
    "    if xi > 50:\n",
    "        c += 1\n",
    "        y.append(yi1)\n",
    "    else:\n",
    "        y.append(yi2)"
   ]
  },
  {
   "cell_type": "code",
   "execution_count": 201,
   "metadata": {},
   "outputs": [
    {
     "name": "stdout",
     "output_type": "stream",
     "text": [
      "[[   5.          -47.67769869    1.21823726    1.21823726]\n",
      " [  81.          -17.41261498  -28.10224379  -17.41261498]\n",
      " [  83.          -36.18800686  -36.29442923  -36.18800686]\n",
      " [  83.           21.45945608  -17.47809508   21.45945608]\n",
      " [  87.           37.01776758   17.15705855   37.01776758]\n",
      " [  86.          -21.02836231   23.47371204  -21.02836231]\n",
      " [  21.          -20.43240476  -36.91857618  -36.91857618]\n",
      " [  62.           49.18943506   17.07285866   49.18943506]\n",
      " [ 100.           46.90479627  -40.27197465   46.90479627]\n",
      " [  17.          -25.13662095   -6.1828661    -6.1828661 ]]\n"
     ]
    }
   ],
   "source": [
    "print(np.column_stack((X, y))[:10, :])"
   ]
  },
  {
   "cell_type": "code",
   "execution_count": 202,
   "metadata": {
    "collapsed": true
   },
   "outputs": [],
   "source": [
    "import tensorflow as tf"
   ]
  },
  {
   "cell_type": "code",
   "execution_count": 203,
   "metadata": {
    "collapsed": true
   },
   "outputs": [],
   "source": [
    "gamma = tf.Variable(tf.random_normal([1]), name='gamma')"
   ]
  },
  {
   "cell_type": "code",
   "execution_count": 244,
   "metadata": {},
   "outputs": [],
   "source": [
    "e1 = np.array([1, 0, 0])\n",
    "e2 = np.array([0, 1, 0])\n",
    "e3 = np.array([0, 0, 1])\n",
    "pred = tf.sigmoid(1*(X.dot(e1) - gamma)) * X.dot(e2) + (1 - tf.sigmoid(1*(X.dot(e1) - gamma))) * X.dot(e3)\n",
    "loss = tf.reduce_mean(tf.square(y - pred))\n",
    "reg_loss = loss"
   ]
  },
  {
   "cell_type": "code",
   "execution_count": 245,
   "metadata": {},
   "outputs": [],
   "source": [
    "optimizer = tf.train.AdamOptimizer(1)\n",
    "train_step = optimizer.minimize(reg_loss, var_list=[gamma])"
   ]
  },
  {
   "cell_type": "code",
   "execution_count": 246,
   "metadata": {
    "collapsed": true
   },
   "outputs": [],
   "source": [
    "init_op = tf.global_variables_initializer()\n",
    "sess = tf.InteractiveSession()\n",
    "sess.run(init_op)"
   ]
  },
  {
   "cell_type": "code",
   "execution_count": 247,
   "metadata": {},
   "outputs": [
    {
     "name": "stdout",
     "output_type": "stream",
     "text": [
      "loss 707.988 var [ 1.98679423]\n",
      "loss 701.225 var [ 2.93108463]\n",
      "loss 688.768 var [ 3.82867527]\n",
      "loss 670.339 var [ 4.71479702]\n",
      "loss 649.837 var [ 5.62304354]\n",
      "loss 633.327 var [ 6.56397772]\n",
      "loss 622.399 var [ 7.51144743]\n",
      "loss 614.552 var [ 8.43892479]\n",
      "loss 607.527 var [ 9.33837605]\n",
      "loss 598.957 var [ 10.22035599]\n",
      "loss 586.373 var [ 11.10912704]\n",
      "loss 567.123 var [ 12.0285511]\n",
      "loss 540.164 var [ 12.98640728]\n",
      "loss 510.908 var [ 13.97764778]\n",
      "loss 490.296 var [ 14.99345493]\n",
      "loss 478.664 var [ 15.99725723]\n",
      "loss 468.256 var [ 16.97032928]\n",
      "loss 456.717 var [ 17.92418289]\n",
      "loss 445.553 var [ 18.86399269]\n",
      "loss 432.625 var [ 19.7913208]\n",
      "loss 412.34 var [ 20.72984314]\n",
      "loss 383.17 var [ 21.7086277]\n",
      "loss 353.564 var [ 22.73017883]\n",
      "loss 331.016 var [ 23.77430725]\n",
      "loss 318.461 var [ 24.81012726]\n",
      "loss 314.332 var [ 25.7945385]\n",
      "loss 313.325 var [ 26.70322037]\n",
      "loss 312.949 var [ 27.53470802]\n",
      "loss 312.558 var [ 28.2949028]\n",
      "loss 311.919 var [ 28.99170303]\n",
      "loss 310.84 var [ 29.63438034]\n",
      "loss 309.108 var [ 30.23397446]\n",
      "loss 306.487 var [ 30.80369949]\n",
      "loss 302.746 var [ 31.35874367]\n",
      "loss 297.748 var [ 31.91484261]\n",
      "loss 291.639 var [ 32.48512268]\n",
      "loss 285.015 var [ 33.07581329]\n",
      "loss 278.688 var [ 33.68394089]\n",
      "loss 273.132 var [ 34.30054474]\n",
      "loss 268.351 var [ 34.91643524]\n",
      "loss 263.995 var [ 35.52555466]\n",
      "loss 259.26 var [ 36.12833786]\n",
      "loss 252.869 var [ 36.73600769]\n",
      "loss 243.074 var [ 37.3719902]\n",
      "loss 227.707 var [ 38.06811523]\n",
      "loss 205.397 var [ 38.85334396]\n",
      "loss 178.838 var [ 39.73546219]\n",
      "loss 153.742 var [ 40.69174957]\n",
      "loss 128.618 var [ 41.69308853]\n",
      "loss 99.1029 var [ 42.74331284]\n",
      "loss 74.2596 var [ 43.83720398]\n",
      "loss 60.1844 var [ 44.92502594]\n",
      "loss 52.3644 var [ 45.96759033]\n",
      "loss 45.6457 var [ 46.95214081]\n",
      "loss 36.3248 var [ 47.89369965]\n",
      "loss 24.1426 var [ 48.81806946]\n",
      "loss 12.5455 var [ 49.73773575]\n",
      "loss 6.56813 var [ 50.63434219]\n",
      "loss 7.47014 var [ 51.4645195]\n",
      "loss 12.7326 var [ 52.18849564]\n",
      "loss 19.9609 var [ 52.78006744]\n",
      "loss 27.3726 var [ 53.21902847]\n",
      "loss 33.0139 var [ 53.49021149]\n",
      "loss 35.3325 var [ 53.59086609]\n",
      "loss 33.9821 var [ 53.53289795]\n",
      "loss 29.7627 var [ 53.33906937]\n",
      "loss 24.0823 var [ 53.03845978]\n",
      "loss 18.2873 var [ 52.66200256]\n",
      "loss 13.2347 var [ 52.23823166]\n",
      "loss 9.36979 var [ 51.79145813]\n",
      "loss 6.97416 var [ 51.34318161]\n",
      "loss 6.19766 var [ 50.9143486]\n",
      "loss 6.90632 var [ 50.5259552]\n",
      "loss 8.60024 var [ 50.19715118]\n",
      "loss 10.5797 var [ 49.94212723]\n",
      "loss 12.2318 var [ 49.76830673]\n",
      "loss 13.1902 var [ 49.67678833]\n",
      "loss 13.329 var [ 49.6639595]\n",
      "loss 12.6993 var [ 49.72297668]\n",
      "loss 11.4789 var [ 49.84454346]\n",
      "loss 9.93999 var [ 50.01716614]\n",
      "loss 8.40405 var [ 50.22724152]\n",
      "loss 7.16801 var [ 50.45948792]\n",
      "loss 6.42065 var [ 50.69794083]\n",
      "loss 6.19779 var [ 50.92738342]\n",
      "loss 6.40102 var [ 51.13468552]\n",
      "loss 6.85786 var [ 51.30965424]\n",
      "loss 7.38398 var [ 51.44533539]\n",
      "loss 7.82599 var [ 51.53788376]\n",
      "loss 8.08347 var [ 51.5862999]\n",
      "loss 8.11527 var [ 51.59205627]\n",
      "loss 7.9347 var [ 51.55873871]\n",
      "loss 7.59695 var [ 51.49166489]\n",
      "loss 7.18171 var [ 51.39748764]\n",
      "loss 6.77449 var [ 51.28382492]\n",
      "loss 6.4489 var [ 51.15886307]\n",
      "loss 6.25243 var [ 51.03095627]\n",
      "loss 6.19812 var [ 50.90818024]\n",
      "loss 6.26455 var [ 50.7978363]\n",
      "loss 6.40466 var [ 50.70599365]\n"
     ]
    }
   ],
   "source": [
    "for i in range(100):\n",
    "    sess.run(train_step)\n",
    "    print('loss', sess.run(reg_loss), 'var', gamma.eval())"
   ]
  },
  {
   "cell_type": "code",
   "execution_count": 226,
   "metadata": {},
   "outputs": [
    {
     "name": "stdout",
     "output_type": "stream",
     "text": [
      "[[   5.          -47.67769869    1.21823726    1.21823726    1.21823728]\n",
      " [  81.          -17.41261498  -28.10224379  -17.41261498  -17.41261482]\n",
      " [  83.          -36.18800686  -36.29442923  -36.18800686  -36.18800735]\n",
      " [  83.           21.45945608  -17.47809508   21.45945608   21.45945549]\n",
      " [  87.           37.01776758   17.15705855   37.01776758   37.01776886]\n",
      " [  86.          -21.02836231   23.47371204  -21.02836231  -21.02836227]\n",
      " [  21.          -20.43240476  -36.91857618  -36.91857618  -36.91857529]\n",
      " [  62.           49.18943506   17.07285866   49.18943506   49.18943405]\n",
      " [ 100.           46.90479627  -40.27197465   46.90479627   46.9047966 ]\n",
      " [  17.          -25.13662095   -6.1828661    -6.1828661    -6.1828661 ]]\n"
     ]
    }
   ],
   "source": [
    "print(np.column_stack((X, y, pred.eval()))[:10, :])"
   ]
  },
  {
   "cell_type": "code",
   "execution_count": 227,
   "metadata": {},
   "outputs": [
    {
     "data": {
      "text/plain": [
       "array([ True,  True,  True,  True,  True,  True,  True,  True,  True,\n",
       "        True,  True,  True,  True,  True, False,  True,  True,  True,\n",
       "        True, False,  True,  True,  True,  True,  True,  True,  True,\n",
       "        True,  True, False,  True,  True,  True,  True,  True,  True,\n",
       "        True,  True,  True,  True,  True,  True,  True,  True,  True,\n",
       "        True, False,  True,  True,  True,  True, False,  True,  True,\n",
       "        True,  True,  True,  True,  True,  True,  True,  True,  True,\n",
       "        True,  True,  True,  True,  True, False,  True,  True,  True,\n",
       "        True,  True,  True,  True,  True,  True,  True,  True,  True,\n",
       "        True,  True,  True,  True,  True,  True,  True,  True,  True,\n",
       "        True,  True,  True,  True,  True,  True,  True,  True,  True,  True], dtype=bool)"
      ]
     },
     "execution_count": 227,
     "metadata": {},
     "output_type": "execute_result"
    }
   ],
   "source": [
    "np.round(y) == np.round(pred.eval())"
   ]
  },
  {
   "cell_type": "code",
   "execution_count": 228,
   "metadata": {},
   "outputs": [
    {
     "data": {
      "text/plain": [
       "94"
      ]
     },
     "execution_count": 228,
     "metadata": {},
     "output_type": "execute_result"
    }
   ],
   "source": [
    "sum(np.round(y) == np.round(pred.eval()))"
   ]
  },
  {
   "cell_type": "code",
   "execution_count": null,
   "metadata": {
    "collapsed": true
   },
   "outputs": [],
   "source": []
  }
 ],
 "metadata": {
  "kernelspec": {
   "display_name": "Django Shell-Plus",
   "language": "python",
   "name": "django_extensions"
  },
  "language_info": {
   "codemirror_mode": {
    "name": "ipython",
    "version": 3
   },
   "file_extension": ".py",
   "mimetype": "text/x-python",
   "name": "python",
   "nbconvert_exporter": "python",
   "pygments_lexer": "ipython3",
   "version": "3.6.1"
  }
 },
 "nbformat": 4,
 "nbformat_minor": 2
}
