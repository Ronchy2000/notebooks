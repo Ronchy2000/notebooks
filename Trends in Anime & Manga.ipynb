{
 "cells": [
  {
   "cell_type": "markdown",
   "metadata": {},
   "source": [
    "# Trends in Anime & Manga"
   ]
  },
  {
   "cell_type": "markdown",
   "metadata": {},
   "source": [
    "## Load data"
   ]
  },
  {
   "cell_type": "code",
   "execution_count": 1,
   "metadata": {},
   "outputs": [],
   "source": [
    "from mangaki.algo.dataset import Dataset\n",
    "from mangaki.algo.fit_algo import get_dataset_backup\n",
    "from mangaki.utils.values import rating_values\n",
    "\n",
    "dataset = Dataset()\n",
    "dataset.load_csv('balse/ratings.csv', convert=lambda x: rating_values[x], title_filename='balse/works.csv')"
   ]
  },
  {
   "cell_type": "code",
   "execution_count": 2,
   "metadata": {},
   "outputs": [],
   "source": [
    "from mangaki.algo.balse import MangakiBALSE\n",
    "from mangaki.settings import DATA_DIR\n",
    "from scipy.sparse import load_npz"
   ]
  },
  {
   "cell_type": "code",
   "execution_count": 3,
   "metadata": {},
   "outputs": [],
   "source": [
    "import os.path\n",
    "import numpy as np\n",
    "\n",
    "T = load_npz(os.path.join(DATA_DIR, 'balse/tag-matrix.npz'))"
   ]
  },
  {
   "cell_type": "code",
   "execution_count": 4,
   "metadata": {},
   "outputs": [
    {
     "data": {
      "text/plain": [
       "<9979x503 sparse matrix of type '<class 'numpy.float64'>'\n",
       "\twith 210009 stored elements in Compressed Sparse Row format>"
      ]
     },
     "execution_count": 4,
     "metadata": {},
     "output_type": "execute_result"
    }
   ],
   "source": [
    "T"
   ]
  },
  {
   "cell_type": "code",
   "execution_count": 5,
   "metadata": {},
   "outputs": [],
   "source": [
    "import json\n",
    "tags = json.load(open('../data/illustration2vec/mangaki_i2v.json'))"
   ]
  },
  {
   "cell_type": "code",
   "execution_count": 6,
   "metadata": {},
   "outputs": [
    {
     "data": {
      "text/plain": [
       "{'general': [['1girl', 0.5351361632347107],\n",
       "  ['1boy', 0.5314481258392334],\n",
       "  ['black hair', 0.4160270392894745],\n",
       "  ['short hair', 0.4073851704597473],\n",
       "  ['blue eyes', 0.2690363824367523],\n",
       "  ['multiple boys', 0.16339154541492462],\n",
       "  ['weapon', 0.16306668519973755],\n",
       "  ['long hair', 0.16088248789310455],\n",
       "  ['2boys', 0.15612725913524628],\n",
       "  ['male', 0.1489870250225067],\n",
       "  ['brown hair', 0.13320335745811462],\n",
       "  ['scan', 0.11500567942857742],\n",
       "  ['2girls', 0.10508275777101517]],\n",
       " 'character': [],\n",
       " 'copyright': [],\n",
       " 'rating': [['safe', 0.9664666652679443],\n",
       "  ['questionable', 0.0323437824845314],\n",
       "  ['explicit', 0.00026572716888040304]]}"
      ]
     },
     "execution_count": 6,
     "metadata": {},
     "output_type": "execute_result"
    }
   ],
   "source": [
    "tags['1.jpg']"
   ]
  },
  {
   "cell_type": "code",
   "execution_count": 7,
   "metadata": {},
   "outputs": [],
   "source": [
    "work_ids = list(Work.objects.values_list('id', flat=True))\n",
    "encode_work = dict(zip(work_ids, range(len(work_ids))))\n",
    "decode_work = {v: k for k, v in encode_work.items()}"
   ]
  },
  {
   "cell_type": "code",
   "execution_count": 8,
   "metadata": {},
   "outputs": [
    {
     "name": "stdout",
     "output_type": "stream",
     "text": [
      "503\n"
     ]
    }
   ],
   "source": [
    "all_tags = set()\n",
    "for _, value in tags.items():\n",
    "    for tag, _ in value['general']:\n",
    "        all_tags.add(tag)\n",
    "print(len(all_tags))"
   ]
  },
  {
   "cell_type": "code",
   "execution_count": 9,
   "metadata": {},
   "outputs": [],
   "source": [
    "encode_tag = dict(zip(list(all_tags), range(len(all_tags))))\n",
    "decode_tag = {v: k for k, v in encode_tag.items()}"
   ]
  },
  {
   "cell_type": "code",
   "execution_count": 10,
   "metadata": {},
   "outputs": [],
   "source": [
    "data = []\n",
    "rows = []\n",
    "cols = []"
   ]
  },
  {
   "cell_type": "code",
   "execution_count": 11,
   "metadata": {},
   "outputs": [],
   "source": [
    "from scipy.sparse import coo_matrix"
   ]
  },
  {
   "cell_type": "code",
   "execution_count": 12,
   "metadata": {},
   "outputs": [],
   "source": [
    "for work_id in range(len(encode_work)):\n",
    "    poster = '{:d}.jpg'.format(work_id)\n",
    "    if poster in tags:\n",
    "        for tag, value in tags[poster]['general']:\n",
    "            rows.append(work_id)\n",
    "            cols.append(encode_tag[tag])\n",
    "            data.append(value)"
   ]
  },
  {
   "cell_type": "code",
   "execution_count": 13,
   "metadata": {},
   "outputs": [
    {
     "data": {
      "text/plain": [
       "(307075, 307075, 307075)"
      ]
     },
     "execution_count": 13,
     "metadata": {},
     "output_type": "execute_result"
    }
   ],
   "source": [
    "len(rows), len(cols), len(data)"
   ]
  },
  {
   "cell_type": "code",
   "execution_count": 14,
   "metadata": {},
   "outputs": [],
   "source": [
    "T = coo_matrix((data, (rows, cols))).tocsr()"
   ]
  },
  {
   "cell_type": "code",
   "execution_count": 15,
   "metadata": {},
   "outputs": [
    {
     "data": {
      "text/plain": [
       "<12817x503 sparse matrix of type '<class 'numpy.float64'>'\n",
       "\twith 307075 stored elements in Compressed Sparse Row format>"
      ]
     },
     "execution_count": 15,
     "metadata": {},
     "output_type": "execute_result"
    }
   ],
   "source": [
    "T"
   ]
  },
  {
   "cell_type": "code",
   "execution_count": 16,
   "metadata": {},
   "outputs": [],
   "source": [
    "from scipy.sparse import save_npz\n",
    "\n",
    "save_npz('tags2018.npz', T)"
   ]
  },
  {
   "cell_type": "code",
   "execution_count": 17,
   "metadata": {},
   "outputs": [
    {
     "data": {
      "text/plain": [
       "6"
      ]
     },
     "execution_count": 17,
     "metadata": {},
     "output_type": "execute_result"
    }
   ],
   "source": [
    "Work.objects.get(id=1346).date.month"
   ]
  },
  {
   "cell_type": "code",
   "execution_count": 18,
   "metadata": {},
   "outputs": [
    {
     "data": {
      "text/plain": [
       "16796"
      ]
     },
     "execution_count": 18,
     "metadata": {},
     "output_type": "execute_result"
    }
   ],
   "source": [
    "Work.objects.count()"
   ]
  },
  {
   "cell_type": "code",
   "execution_count": 19,
   "metadata": {},
   "outputs": [
    {
     "data": {
      "text/plain": [
       "12624"
      ]
     },
     "execution_count": 19,
     "metadata": {},
     "output_type": "execute_result"
    }
   ],
   "source": [
    "Work.objects.filter(date__isnull=False).count()"
   ]
  },
  {
   "cell_type": "code",
   "execution_count": 20,
   "metadata": {},
   "outputs": [],
   "source": [
    "max_encoded = T.shape[0]"
   ]
  },
  {
   "cell_type": "code",
   "execution_count": 21,
   "metadata": {},
   "outputs": [],
   "source": [
    "from collections import Counter, defaultdict"
   ]
  },
  {
   "cell_type": "code",
   "execution_count": 29,
   "metadata": {},
   "outputs": [],
   "source": [
    "trends = defaultdict(Counter)\n",
    "popular = defaultdict(Counter)"
   ]
  },
  {
   "cell_type": "code",
   "execution_count": 30,
   "metadata": {},
   "outputs": [
    {
     "name": "stdout",
     "output_type": "stream",
     "text": [
      "217 in 2000\n",
      "349 in 2001\n",
      "343 in 2002\n",
      "395 in 2003\n",
      "427 in 2004\n",
      "446 in 2005\n",
      "504 in 2006\n",
      "493 in 2007\n",
      "501 in 2008\n",
      "546 in 2009\n",
      "549 in 2010\n",
      "617 in 2011\n",
      "658 in 2012\n",
      "652 in 2013\n",
      "741 in 2014\n",
      "730 in 2015\n",
      "493 in 2016\n",
      "320 in 2017\n",
      "139 in 2018\n"
     ]
    }
   ],
   "source": [
    "for year in range(2000, 2019):\n",
    "    ids = Work.objects.filter(date__year=year).values_list('id', flat=True).popular()\n",
    "    print(len(ids), 'in', year)\n",
    "    encoded = [encode_work[work_id] for work_id in ids if encode_work[work_id] < max_encoded]\n",
    "    weights = T[encoded].mean(axis=0).A1\n",
    "    weights2 = T[encoded[:50]].mean(axis=0).A1\n",
    "    trends[year] = Counter(dict(zip(decode_tag.values(), weights)))\n",
    "    popular[year] = Counter(dict(zip(decode_tag.values(), weights2)))"
   ]
  },
  {
   "cell_type": "code",
   "execution_count": 36,
   "metadata": {},
   "outputs": [
    {
     "data": {
      "image/png": "[encoded data removed]",
      "text/plain": [
       "<Figure size 432x288 with 1 Axes>"
      ]
     },
     "metadata": {},
     "output_type": "display_data"
    }
   ],
   "source": [
    "import matplotlib.pyplot as plt\n",
    "\n",
    "# interesting = ['1girl', 'multiple girls', '1boy', 'multiple boys', 'solo', 'short hair', 'long hair', 'blonde hair']\n",
    "interesting = ['1girl', 'multiple girls', '1boy', 'multiple boys', 'solo']\n",
    "years = range(2000, 2019)\n",
    "\n",
    "ax = plt.subplot(111)\n",
    "for tag in interesting:\n",
    "    plt.plot(years, [popular[year][tag] for year in years], label=tag)\n",
    "\n",
    "plt.legend()\n",
    "#leg = plt.legend(loc='best', ncol=2, mode=\"expand\", shadow=True, fancybox=True)\n",
    "#leg.get_frame().set_alpha(0.5)\n",
    "\n",
    "\n",
    "plt.show()"
   ]
  },
  {
   "cell_type": "code",
   "execution_count": 37,
   "metadata": {},
   "outputs": [],
   "source": [
    "performer = Counter()\n",
    "\n",
    "for tag in all_tags:\n",
    "    for year in range(2005, 2015):\n",
    "        performer[tag] += abs(trends[year][tag] - trends[year - 1][tag])"
   ]
  },
  {
   "cell_type": "code",
   "execution_count": 38,
   "metadata": {},
   "outputs": [
    {
     "data": {
      "text/plain": [
       "[('1girl', 0.2423617688245796),\n",
       " ('solo', 0.21679440158562094),\n",
       " ('multiple girls', 0.21360942023217894),\n",
       " ('1boy', 0.17883022408636914),\n",
       " ('brown hair', 0.15948363945518376),\n",
       " ('red hair', 0.15740664805737725),\n",
       " ('school uniform', 0.15301911138722404),\n",
       " ('black hair', 0.13427295391641358),\n",
       " ('blue hair', 0.13193226431427715),\n",
       " ('breasts', 0.12835214056855682),\n",
       " ('blonde hair', 0.127904875969778),\n",
       " ('6+girls', 0.10539020168310947),\n",
       " ('brown eyes', 0.10447416588166036),\n",
       " ('open mouth', 0.10430087209069533),\n",
       " ('short hair', 0.10365397457312392),\n",
       " ('multiple boys', 0.10195656762683869),\n",
       " ('blush', 0.10007566893056125),\n",
       " ('glasses', 0.09947027753818952),\n",
       " ('underwear', 0.09936063911499088),\n",
       " ('male', 0.09684066599388592)]"
      ]
     },
     "execution_count": 38,
     "metadata": {},
     "output_type": "execute_result"
    }
   ],
   "source": [
    "performer.most_common(20)"
   ]
  },
  {
   "cell_type": "code",
   "execution_count": null,
   "metadata": {},
   "outputs": [],
   "source": []
  }
 ],
 "metadata": {
  "kernelspec": {
   "display_name": "Django Shell-Plus",
   "language": "python",
   "name": "django_extensions"
  },
  "language_info": {
   "codemirror_mode": {
    "name": "ipython",
    "version": 3
   },
   "file_extension": ".py",
   "mimetype": "text/x-python",
   "name": "python",
   "nbconvert_exporter": "python",
   "pygments_lexer": "ipython3",
   "version": "3.6.5"
  }
 },
 "nbformat": 4,
 "nbformat_minor": 2
}
