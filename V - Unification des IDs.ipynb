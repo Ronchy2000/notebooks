{
 "cells": [
  {
   "cell_type": "markdown",
   "metadata": {},
   "source": [
    "# Mangaki\n",
    "\n",
    "On a plein de références :"
   ]
  },
  {
   "cell_type": "code",
   "execution_count": 1,
   "metadata": {},
   "outputs": [
    {
     "data": {
      "text/plain": [
       "12020"
      ]
     },
     "execution_count": 1,
     "metadata": {},
     "output_type": "execute_result"
    }
   ],
   "source": [
    "Reference.objects.count()"
   ]
  },
  {
   "cell_type": "code",
   "execution_count": 2,
   "metadata": {},
   "outputs": [
    {
     "data": {
      "text/plain": [
       "Counter({'AniDB': 120,\n",
       "         'MAL': 11824,\n",
       "         'VGMdb': 1,\n",
       "         'Animeka': 57,\n",
       "         'Manga-News': 17,\n",
       "         'Icotaku': 1})"
      ]
     },
     "execution_count": 2,
     "metadata": {},
     "output_type": "execute_result"
    }
   ],
   "source": [
    "from collections import Counter\n",
    "\n",
    "Counter(Reference.objects.values_list('source', flat=True))"
   ]
  },
  {
   "cell_type": "markdown",
   "metadata": {},
   "source": [
    "## Works ayant le même titre"
   ]
  },
  {
   "cell_type": "code",
   "execution_count": 3,
   "metadata": {},
   "outputs": [
    {
     "name": "stdout",
     "output_type": "stream",
     "text": [
      "45 clusters d'anime ont le même titre sur Mangaki\n"
     ]
    },
    {
     "data": {
      "text/html": [
       "<div>\n",
       "<style scoped>\n",
       "    .dataframe tbody tr th:only-of-type {\n",
       "        vertical-align: middle;\n",
       "    }\n",
       "\n",
       "    .dataframe tbody tr th {\n",
       "        vertical-align: top;\n",
       "    }\n",
       "\n",
       "    .dataframe thead th {\n",
       "        text-align: right;\n",
       "    }\n",
       "</style>\n",
       "<table border=\"1\" class=\"dataframe\">\n",
       "  <thead>\n",
       "    <tr style=\"text-align: right;\">\n",
       "      <th></th>\n",
       "      <th>id</th>\n",
       "      <th>anidb_aid</th>\n",
       "    </tr>\n",
       "  </thead>\n",
       "  <tbody>\n",
       "    <tr>\n",
       "      <th>Berserk</th>\n",
       "      <td>2</td>\n",
       "      <td>0</td>\n",
       "    </tr>\n",
       "    <tr>\n",
       "      <th>Deadman Wonderland</th>\n",
       "      <td>2</td>\n",
       "      <td>1</td>\n",
       "    </tr>\n",
       "    <tr>\n",
       "      <th>Desert Punk</th>\n",
       "      <td>3</td>\n",
       "      <td>0</td>\n",
       "    </tr>\n",
       "    <tr>\n",
       "      <th>Digimon: The Movie</th>\n",
       "      <td>2</td>\n",
       "      <td>0</td>\n",
       "    </tr>\n",
       "    <tr>\n",
       "      <th>Dimension W</th>\n",
       "      <td>3</td>\n",
       "      <td>0</td>\n",
       "    </tr>\n",
       "    <tr>\n",
       "      <th>Doraemon</th>\n",
       "      <td>2</td>\n",
       "      <td>0</td>\n",
       "    </tr>\n",
       "    <tr>\n",
       "      <th>Dororo</th>\n",
       "      <td>2</td>\n",
       "      <td>0</td>\n",
       "    </tr>\n",
       "    <tr>\n",
       "      <th>Fruits Basket</th>\n",
       "      <td>2</td>\n",
       "      <td>1</td>\n",
       "    </tr>\n",
       "    <tr>\n",
       "      <th>Gestalt</th>\n",
       "      <td>2</td>\n",
       "      <td>0</td>\n",
       "    </tr>\n",
       "    <tr>\n",
       "      <th>Ghost Talker's Daydream</th>\n",
       "      <td>2</td>\n",
       "      <td>0</td>\n",
       "    </tr>\n",
       "    <tr>\n",
       "      <th>Guin Saga</th>\n",
       "      <td>2</td>\n",
       "      <td>0</td>\n",
       "    </tr>\n",
       "    <tr>\n",
       "      <th>Hanayamata</th>\n",
       "      <td>2</td>\n",
       "      <td>0</td>\n",
       "    </tr>\n",
       "    <tr>\n",
       "      <th>Hero Tales</th>\n",
       "      <td>2</td>\n",
       "      <td>0</td>\n",
       "    </tr>\n",
       "    <tr>\n",
       "      <th>Karneval</th>\n",
       "      <td>2</td>\n",
       "      <td>0</td>\n",
       "    </tr>\n",
       "    <tr>\n",
       "      <th>Kekkaishi</th>\n",
       "      <td>2</td>\n",
       "      <td>0</td>\n",
       "    </tr>\n",
       "    <tr>\n",
       "      <th>Knights of Sidonia</th>\n",
       "      <td>2</td>\n",
       "      <td>0</td>\n",
       "    </tr>\n",
       "    <tr>\n",
       "      <th>Kobato</th>\n",
       "      <td>2</td>\n",
       "      <td>0</td>\n",
       "    </tr>\n",
       "    <tr>\n",
       "      <th>Lunar Legend Tsukihime</th>\n",
       "      <td>2</td>\n",
       "      <td>0</td>\n",
       "    </tr>\n",
       "    <tr>\n",
       "      <th>Lupin the IIIrd: Chikemuri no Ishikawa Goemon</th>\n",
       "      <td>2</td>\n",
       "      <td>1</td>\n",
       "    </tr>\n",
       "    <tr>\n",
       "      <th>Midori Days</th>\n",
       "      <td>2</td>\n",
       "      <td>0</td>\n",
       "    </tr>\n",
       "    <tr>\n",
       "      <th>Monthly Girls' Nozaki-kun</th>\n",
       "      <td>2</td>\n",
       "      <td>1</td>\n",
       "    </tr>\n",
       "    <tr>\n",
       "      <th>Oh! My Goddess</th>\n",
       "      <td>2</td>\n",
       "      <td>0</td>\n",
       "    </tr>\n",
       "    <tr>\n",
       "      <th>Paradise Kiss</th>\n",
       "      <td>2</td>\n",
       "      <td>0</td>\n",
       "    </tr>\n",
       "    <tr>\n",
       "      <th>Princess Jellyfish</th>\n",
       "      <td>2</td>\n",
       "      <td>0</td>\n",
       "    </tr>\n",
       "    <tr>\n",
       "      <th>Pumpkin Scissors</th>\n",
       "      <td>2</td>\n",
       "      <td>0</td>\n",
       "    </tr>\n",
       "    <tr>\n",
       "      <th>Sailor Moon</th>\n",
       "      <td>2</td>\n",
       "      <td>0</td>\n",
       "    </tr>\n",
       "    <tr>\n",
       "      <th>Samurai Champloo</th>\n",
       "      <td>2</td>\n",
       "      <td>1</td>\n",
       "    </tr>\n",
       "    <tr>\n",
       "      <th>Samurai Deeper Kyo</th>\n",
       "      <td>2</td>\n",
       "      <td>0</td>\n",
       "    </tr>\n",
       "    <tr>\n",
       "      <th>School-Live!</th>\n",
       "      <td>2</td>\n",
       "      <td>0</td>\n",
       "    </tr>\n",
       "    <tr>\n",
       "      <th>Scrapped Princess</th>\n",
       "      <td>2</td>\n",
       "      <td>0</td>\n",
       "    </tr>\n",
       "    <tr>\n",
       "      <th>Seraph of the End: Vampire Reign</th>\n",
       "      <td>2</td>\n",
       "      <td>0</td>\n",
       "    </tr>\n",
       "    <tr>\n",
       "      <th>Sorcerer Hunters</th>\n",
       "      <td>3</td>\n",
       "      <td>0</td>\n",
       "    </tr>\n",
       "    <tr>\n",
       "      <th>The Asterisk War: The Academy City on the Water</th>\n",
       "      <td>9</td>\n",
       "      <td>0</td>\n",
       "    </tr>\n",
       "    <tr>\n",
       "      <th>The Seven Deadly Sins</th>\n",
       "      <td>2</td>\n",
       "      <td>1</td>\n",
       "    </tr>\n",
       "    <tr>\n",
       "      <th>This Ugly Yet Beautiful World</th>\n",
       "      <td>2</td>\n",
       "      <td>0</td>\n",
       "    </tr>\n",
       "    <tr>\n",
       "      <th>Those Who Hunt Elves</th>\n",
       "      <td>3</td>\n",
       "      <td>0</td>\n",
       "    </tr>\n",
       "    <tr>\n",
       "      <th>Togainu no Chi</th>\n",
       "      <td>2</td>\n",
       "      <td>0</td>\n",
       "    </tr>\n",
       "    <tr>\n",
       "      <th>Twin Star Exorcists</th>\n",
       "      <td>2</td>\n",
       "      <td>0</td>\n",
       "    </tr>\n",
       "    <tr>\n",
       "      <th>Valkyria Chronicles</th>\n",
       "      <td>2</td>\n",
       "      <td>0</td>\n",
       "    </tr>\n",
       "    <tr>\n",
       "      <th>Yona of the Dawn</th>\n",
       "      <td>2</td>\n",
       "      <td>0</td>\n",
       "    </tr>\n",
       "    <tr>\n",
       "      <th>Yozakura Quartet</th>\n",
       "      <td>2</td>\n",
       "      <td>0</td>\n",
       "    </tr>\n",
       "    <tr>\n",
       "      <th>Yu-Gi-Oh!</th>\n",
       "      <td>3</td>\n",
       "      <td>1</td>\n",
       "    </tr>\n",
       "    <tr>\n",
       "      <th>Zatch Bell!</th>\n",
       "      <td>4</td>\n",
       "      <td>0</td>\n",
       "    </tr>\n",
       "    <tr>\n",
       "      <th>Zetsuai 1989</th>\n",
       "      <td>2</td>\n",
       "      <td>0</td>\n",
       "    </tr>\n",
       "    <tr>\n",
       "      <th>Zipang</th>\n",
       "      <td>2</td>\n",
       "      <td>0</td>\n",
       "    </tr>\n",
       "  </tbody>\n",
       "</table>\n",
       "</div>"
      ],
      "text/plain": [
       "                                                 id  anidb_aid\n",
       "Berserk                                           2          0\n",
       "Deadman Wonderland                                2          1\n",
       "Desert Punk                                       3          0\n",
       "Digimon: The Movie                                2          0\n",
       "Dimension W                                       3          0\n",
       "Doraemon                                          2          0\n",
       "Dororo                                            2          0\n",
       "Fruits Basket                                     2          1\n",
       "Gestalt                                           2          0\n",
       "Ghost Talker's Daydream                           2          0\n",
       "Guin Saga                                         2          0\n",
       "Hanayamata                                        2          0\n",
       "Hero Tales                                        2          0\n",
       "Karneval                                          2          0\n",
       "Kekkaishi                                         2          0\n",
       "Knights of Sidonia                                2          0\n",
       "Kobato                                            2          0\n",
       "Lunar Legend Tsukihime                            2          0\n",
       "Lupin the IIIrd: Chikemuri no Ishikawa Goemon     2          1\n",
       "Midori Days                                       2          0\n",
       "Monthly Girls' Nozaki-kun                         2          1\n",
       "Oh! My Goddess                                    2          0\n",
       "Paradise Kiss                                     2          0\n",
       "Princess Jellyfish                                2          0\n",
       "Pumpkin Scissors                                  2          0\n",
       "Sailor Moon                                       2          0\n",
       "Samurai Champloo                                  2          1\n",
       "Samurai Deeper Kyo                                2          0\n",
       "School-Live!                                      2          0\n",
       "Scrapped Princess                                 2          0\n",
       "Seraph of the End: Vampire Reign                  2          0\n",
       "Sorcerer Hunters                                  3          0\n",
       "The Asterisk War: The Academy City on the Water   9          0\n",
       "The Seven Deadly Sins                             2          1\n",
       "This Ugly Yet Beautiful World                     2          0\n",
       "Those Who Hunt Elves                              3          0\n",
       "Togainu no Chi                                    2          0\n",
       "Twin Star Exorcists                               2          0\n",
       "Valkyria Chronicles                               2          0\n",
       "Yona of the Dawn                                  2          0\n",
       "Yozakura Quartet                                  2          0\n",
       "Yu-Gi-Oh!                                         3          1\n",
       "Zatch Bell!                                       4          0\n",
       "Zetsuai 1989                                      2          0\n",
       "Zipang                                            2          0"
      ]
     },
     "execution_count": 3,
     "metadata": {},
     "output_type": "execute_result"
    }
   ],
   "source": [
    "import pandas as pd\n",
    "\n",
    "def nunique_nonzero(series):\n",
    "    return len(set(c for c in series if c))\n",
    "\n",
    "df = pd.DataFrame(Work.objects.filter(category__slug='anime').values('id', 'title', 'anidb_aid'))\n",
    "duplicates = df.groupby('title').agg({'id': 'count', 'anidb_aid': nunique_nonzero}).query('id > 1')\n",
    "\n",
    "print(f\"{len(duplicates)} clusters d'anime ont le même titre sur Mangaki\")\n",
    "duplicates.index.name = None\n",
    "duplicates"
   ]
  },
  {
   "cell_type": "code",
   "execution_count": 5,
   "metadata": {},
   "outputs": [],
   "source": [
    "VALID_MANGAKI_IDS = set(Work.objects.filter(category__slug='anime').values_list('id', flat=True))\n",
    "# Non valide signifie que c'est déjà un doublon identifié"
   ]
  },
  {
   "cell_type": "markdown",
   "metadata": {},
   "source": [
    "## Même titre + des AniDB ID différents (ouf, zéro)"
   ]
  },
  {
   "cell_type": "code",
   "execution_count": 6,
   "metadata": {},
   "outputs": [
    {
     "data": {
      "text/plain": [
       "'321 œuvres ont un AniDB ID renseigné'"
      ]
     },
     "execution_count": 6,
     "metadata": {},
     "output_type": "execute_result"
    }
   ],
   "source": [
    "nb_with_anidb_aid = Work.objects.filter(anidb_aid__gt=0).count()\n",
    "f'{nb_with_anidb_aid} œuvres ont un AniDB ID renseigné'"
   ]
  },
  {
   "cell_type": "code",
   "execution_count": 7,
   "metadata": {},
   "outputs": [
    {
     "data": {
      "text/html": [
       "<div>\n",
       "<style scoped>\n",
       "    .dataframe tbody tr th:only-of-type {\n",
       "        vertical-align: middle;\n",
       "    }\n",
       "\n",
       "    .dataframe tbody tr th {\n",
       "        vertical-align: top;\n",
       "    }\n",
       "\n",
       "    .dataframe thead th {\n",
       "        text-align: right;\n",
       "    }\n",
       "</style>\n",
       "<table border=\"1\" class=\"dataframe\">\n",
       "  <thead>\n",
       "    <tr style=\"text-align: right;\">\n",
       "      <th></th>\n",
       "      <th>work_id</th>\n",
       "      <th>identifier</th>\n",
       "      <th>work_id__anidb_aid</th>\n",
       "    </tr>\n",
       "    <tr>\n",
       "      <th>title</th>\n",
       "      <th></th>\n",
       "      <th></th>\n",
       "      <th></th>\n",
       "    </tr>\n",
       "  </thead>\n",
       "  <tbody>\n",
       "    <tr>\n",
       "      <th>Grandeek</th>\n",
       "      <td>1</td>\n",
       "      <td>1</td>\n",
       "      <td>0</td>\n",
       "    </tr>\n",
       "  </tbody>\n",
       "</table>\n",
       "</div>"
      ],
      "text/plain": [
       "          work_id  identifier  work_id__anidb_aid\n",
       "title                                            \n",
       "Grandeek        1           1                   0"
      ]
     },
     "execution_count": 7,
     "metadata": {},
     "output_type": "execute_result"
    }
   ],
   "source": [
    "anidb_ids = pd.DataFrame(Reference.objects.filter(source='AniDB', work_id__category__slug='anime').values(\n",
    "    'identifier', 'work_id', 'work_id__title', 'work_id__anidb_aid')).rename(\n",
    "    columns={'work_id__title': 'title'})\n",
    "anidb_ids.groupby('title').agg({\n",
    "    'work_id': 'count',\n",
    "    'identifier': pd.Series.nunique,\n",
    "    'work_id__anidb_aid': nunique_nonzero\n",
    "}).query(\n",
    "    'identifier != work_id__anidb_aid').sort_values(['identifier', 'work_id'], ascending=(False, False))"
   ]
  },
  {
   "cell_type": "markdown",
   "metadata": {},
   "source": [
    "Grandeek a un objet `Reference` AniDB mais pas de champ `anidb_aid` rempli. Ce n'est pas bien grave."
   ]
  },
  {
   "cell_type": "markdown",
   "metadata": {},
   "source": [
    "## Même titre + des MAL ID différents"
   ]
  },
  {
   "cell_type": "code",
   "execution_count": 8,
   "metadata": {},
   "outputs": [
    {
     "name": "stdout",
     "output_type": "stream",
     "text": [
      "14 clusters de works ayant le même titre mais des MAL IDs différents\n"
     ]
    },
    {
     "data": {
      "text/html": [
       "<div>\n",
       "<style scoped>\n",
       "    .dataframe tbody tr th:only-of-type {\n",
       "        vertical-align: middle;\n",
       "    }\n",
       "\n",
       "    .dataframe tbody tr th {\n",
       "        vertical-align: top;\n",
       "    }\n",
       "\n",
       "    .dataframe thead th {\n",
       "        text-align: right;\n",
       "    }\n",
       "</style>\n",
       "<table border=\"1\" class=\"dataframe\">\n",
       "  <thead>\n",
       "    <tr style=\"text-align: right;\">\n",
       "      <th></th>\n",
       "      <th>work_id</th>\n",
       "      <th>identifier</th>\n",
       "    </tr>\n",
       "  </thead>\n",
       "  <tbody>\n",
       "    <tr>\n",
       "      <th>The Asterisk War: The Academy City on the Water</th>\n",
       "      <td>9</td>\n",
       "      <td>2</td>\n",
       "    </tr>\n",
       "    <tr>\n",
       "      <th>Berserk</th>\n",
       "      <td>4</td>\n",
       "      <td>2</td>\n",
       "    </tr>\n",
       "    <tr>\n",
       "      <th>Time of Eve</th>\n",
       "      <td>4</td>\n",
       "      <td>2</td>\n",
       "    </tr>\n",
       "    <tr>\n",
       "      <th>Digimon: The Movie</th>\n",
       "      <td>3</td>\n",
       "      <td>2</td>\n",
       "    </tr>\n",
       "    <tr>\n",
       "      <th>Sorcerer Hunters</th>\n",
       "      <td>3</td>\n",
       "      <td>2</td>\n",
       "    </tr>\n",
       "    <tr>\n",
       "      <th>Spice and Wolf II</th>\n",
       "      <td>3</td>\n",
       "      <td>2</td>\n",
       "    </tr>\n",
       "    <tr>\n",
       "      <th>Bakuman.</th>\n",
       "      <td>2</td>\n",
       "      <td>2</td>\n",
       "    </tr>\n",
       "    <tr>\n",
       "      <th>Doraemon</th>\n",
       "      <td>2</td>\n",
       "      <td>2</td>\n",
       "    </tr>\n",
       "    <tr>\n",
       "      <th>Dororo</th>\n",
       "      <td>2</td>\n",
       "      <td>2</td>\n",
       "    </tr>\n",
       "    <tr>\n",
       "      <th>Gangsta.</th>\n",
       "      <td>2</td>\n",
       "      <td>2</td>\n",
       "    </tr>\n",
       "    <tr>\n",
       "      <th>Gestalt</th>\n",
       "      <td>2</td>\n",
       "      <td>2</td>\n",
       "    </tr>\n",
       "    <tr>\n",
       "      <th>Karneval</th>\n",
       "      <td>2</td>\n",
       "      <td>2</td>\n",
       "    </tr>\n",
       "    <tr>\n",
       "      <th>Nanana's Buried Treasure</th>\n",
       "      <td>2</td>\n",
       "      <td>2</td>\n",
       "    </tr>\n",
       "    <tr>\n",
       "      <th>Sankarea: I, Too, Am... A Zombie...</th>\n",
       "      <td>2</td>\n",
       "      <td>2</td>\n",
       "    </tr>\n",
       "  </tbody>\n",
       "</table>\n",
       "</div>"
      ],
      "text/plain": [
       "                                                 work_id  identifier\n",
       "The Asterisk War: The Academy City on the Water        9           2\n",
       "Berserk                                                4           2\n",
       "Time of Eve                                            4           2\n",
       "Digimon: The Movie                                     3           2\n",
       "Sorcerer Hunters                                       3           2\n",
       "Spice and Wolf II                                      3           2\n",
       "Bakuman.                                               2           2\n",
       "Doraemon                                               2           2\n",
       "Dororo                                                 2           2\n",
       "Gangsta.                                               2           2\n",
       "Gestalt                                                2           2\n",
       "Karneval                                               2           2\n",
       "Nanana's Buried Treasure                               2           2\n",
       "Sankarea: I, Too, Am... A Zombie...                    2           2"
      ]
     },
     "execution_count": 8,
     "metadata": {},
     "output_type": "execute_result"
    }
   ],
   "source": [
    "mal_ids = pd.DataFrame(Reference.objects.filter(source='MAL', work_id__category__slug='anime').values(\n",
    "    'identifier', 'work_id', 'work_id__title')).rename(\n",
    "    columns={'work_id__title': 'title'})\n",
    "mal_duplicates = mal_ids.groupby('title').agg({'work_id': 'count', 'identifier': pd.Series.nunique}).query(\n",
    "    'identifier > 1').sort_values(['identifier', 'work_id'], ascending=(False, False))\n",
    "print(f'{len(mal_duplicates)} clusters de works ayant le même titre mais des MAL IDs différents')\n",
    "mal_duplicates.index.name = None\n",
    "mal_duplicates"
   ]
  },
  {
   "cell_type": "markdown",
   "metadata": {},
   "source": [
    "Par exemple, il y a 4 œuvres Berserk qui ont le même titre mais 2 MAL IDs différents :"
   ]
  },
  {
   "cell_type": "code",
   "execution_count": 9,
   "metadata": {},
   "outputs": [
    {
     "data": {
      "text/html": [
       "<div>\n",
       "<style scoped>\n",
       "    .dataframe tbody tr th:only-of-type {\n",
       "        vertical-align: middle;\n",
       "    }\n",
       "\n",
       "    .dataframe tbody tr th {\n",
       "        vertical-align: top;\n",
       "    }\n",
       "\n",
       "    .dataframe thead th {\n",
       "        text-align: right;\n",
       "    }\n",
       "</style>\n",
       "<table border=\"1\" class=\"dataframe\">\n",
       "  <thead>\n",
       "    <tr style=\"text-align: right;\">\n",
       "      <th></th>\n",
       "      <th>identifier</th>\n",
       "      <th>work_id</th>\n",
       "      <th>title</th>\n",
       "    </tr>\n",
       "  </thead>\n",
       "  <tbody>\n",
       "    <tr>\n",
       "      <th>8516</th>\n",
       "      <td>33</td>\n",
       "      <td>3409</td>\n",
       "      <td>Berserk</td>\n",
       "    </tr>\n",
       "    <tr>\n",
       "      <th>10073</th>\n",
       "      <td>32379</td>\n",
       "      <td>15174</td>\n",
       "      <td>Berserk</td>\n",
       "    </tr>\n",
       "    <tr>\n",
       "      <th>10585</th>\n",
       "      <td>32379</td>\n",
       "      <td>14516</td>\n",
       "      <td>Berserk</td>\n",
       "    </tr>\n",
       "    <tr>\n",
       "      <th>10586</th>\n",
       "      <td>32379</td>\n",
       "      <td>14327</td>\n",
       "      <td>Berserk</td>\n",
       "    </tr>\n",
       "  </tbody>\n",
       "</table>\n",
       "</div>"
      ],
      "text/plain": [
       "      identifier  work_id    title\n",
       "8516          33     3409  Berserk\n",
       "10073      32379    15174  Berserk\n",
       "10585      32379    14516  Berserk\n",
       "10586      32379    14327  Berserk"
      ]
     },
     "execution_count": 9,
     "metadata": {},
     "output_type": "execute_result"
    }
   ],
   "source": [
    "mal_ids.query('title == \"Berserk\"')"
   ]
  },
  {
   "cell_type": "markdown",
   "metadata": {},
   "source": [
    "Pour ceux-là il faut voir au cas par cas. En fait le MAL ID 33 correspond à Berserk (2016) qui est sûrement moins bien noté que l'original."
   ]
  },
  {
   "cell_type": "markdown",
   "metadata": {},
   "source": [
    "# Mangaki + Manami"
   ]
  },
  {
   "cell_type": "code",
   "execution_count": 10,
   "metadata": {},
   "outputs": [],
   "source": [
    "import json\n",
    "\n",
    "with open('../../anime-offline-database/anime-offline-database.json') as f:\n",
    "    manami = json.load(f)"
   ]
  },
  {
   "cell_type": "code",
   "execution_count": 11,
   "metadata": {},
   "outputs": [
    {
     "data": {
      "text/plain": [
       "24018"
      ]
     },
     "execution_count": 11,
     "metadata": {},
     "output_type": "execute_result"
    }
   ],
   "source": [
    "len(manami['data'])"
   ]
  },
  {
   "cell_type": "code",
   "execution_count": 12,
   "metadata": {},
   "outputs": [
    {
     "data": {
      "text/plain": [
       "10996"
      ]
     },
     "execution_count": 12,
     "metadata": {},
     "output_type": "execute_result"
    }
   ],
   "source": [
    "mangaki = Work.objects.filter(category__slug='anime')\n",
    "mangaki.count()  # Sur Mangaki"
   ]
  },
  {
   "cell_type": "code",
   "execution_count": 13,
   "metadata": {},
   "outputs": [
    {
     "data": {
      "text/plain": [
       "{'sources': ['https://anidb.net/anime/8699',\n",
       "  'https://anilist.co/anime/11755',\n",
       "  'https://kitsu.io/anime/6588',\n",
       "  'https://myanimelist.net/anime/11755',\n",
       "  'https://notify.moe/anime/nX_ItFiiR'],\n",
       " 'title': '009 Re:Cyborg',\n",
       " 'type': 'Movie',\n",
       " 'episodes': 1,\n",
       " 'status': 'FINISHED',\n",
       " 'picture': 'https://cdn.myanimelist.net/images/anime/9/40189.jpg',\n",
       " 'thumbnail': 'https://cdn.myanimelist.net/images/anime/9/40189t.jpg',\n",
       " 'synonyms': ['009 RE:CYBORG', 'ぜろぜろないん り・さいぼーぐ'],\n",
       " 'relations': ['https://anidb.net/anime/1214',\n",
       "  'https://anidb.net/anime/12277',\n",
       "  'https://anidb.net/anime/1527',\n",
       "  'https://anidb.net/anime/7994',\n",
       "  'https://anilist.co/anime/1678',\n",
       "  'https://anilist.co/anime/4690',\n",
       "  'https://anilist.co/anime/8394',\n",
       "  'https://kitsu.io/anime/12326',\n",
       "  'https://kitsu.io/anime/12397',\n",
       "  'https://kitsu.io/anime/12410',\n",
       "  'https://kitsu.io/anime/12543',\n",
       "  'https://kitsu.io/anime/1508',\n",
       "  'https://kitsu.io/anime/3741',\n",
       "  'https://kitsu.io/anime/7868',\n",
       "  'https://myanimelist.net/anime/1678',\n",
       "  'https://myanimelist.net/anime/32736',\n",
       "  'https://myanimelist.net/anime/32737',\n",
       "  'https://myanimelist.net/anime/33163',\n",
       "  'https://myanimelist.net/anime/33685',\n",
       "  'https://myanimelist.net/anime/4690',\n",
       "  'https://myanimelist.net/anime/8394',\n",
       "  'https://notify.moe/anime/5hFk2FiiR',\n",
       "  'https://notify.moe/anime/8gWB5KimR',\n",
       "  'https://notify.moe/anime/FnzzhKmiR',\n",
       "  'https://notify.moe/anime/P_DkhFimg',\n",
       "  'https://notify.moe/anime/ZKnr5KiiR',\n",
       "  'https://notify.moe/anime/jgezhKmiR',\n",
       "  'https://notify.moe/anime/wG_ptKimR']}"
      ]
     },
     "execution_count": 13,
     "metadata": {},
     "output_type": "execute_result"
    }
   ],
   "source": [
    "manami['data'][42]"
   ]
  },
  {
   "cell_type": "code",
   "execution_count": 14,
   "metadata": {},
   "outputs": [
    {
     "data": {
      "text/plain": [
       "94422"
      ]
     },
     "execution_count": 14,
     "metadata": {},
     "output_type": "execute_result"
    }
   ],
   "source": [
    "from collections import defaultdict\n",
    "import re\n",
    "\n",
    "references = set()\n",
    "url1 = defaultdict(list)\n",
    "\n",
    "# Get all sources of Manami entries\n",
    "for manami_id, entry in enumerate(manami['data']):\n",
    "    references.add('manami/{}'.format(manami_id))\n",
    "    for url in entry['sources']:\n",
    "        ref = re.sub(r'https?://', '', url)\n",
    "        references.add(ref)\n",
    "        url1[manami_id].append(ref)\n",
    "len(references)"
   ]
  },
  {
   "cell_type": "code",
   "execution_count": 15,
   "metadata": {},
   "outputs": [
    {
     "data": {
      "text/plain": [
       "105853"
      ]
     },
     "execution_count": 15,
     "metadata": {},
     "output_type": "execute_result"
    }
   ],
   "source": [
    "url2 = defaultdict(set)\n",
    "\n",
    "# Mangaki works with AniDB ID\n",
    "anidb_id = dict(Work.objects.filter(anidb_aid__gt=0).values_list('id', 'anidb_aid'))\n",
    "for mangaki_id, aid in anidb_id.items():\n",
    "    ref1 = 'mangaki.fr/work/{}'.format(mangaki_id)\n",
    "    ref2 = 'anidb.net/anime/{}'.format(aid)\n",
    "    references.update([ref1, ref2])\n",
    "    url2[mangaki_id].update([ref1, ref2])\n",
    "\n",
    "# All Mangaki references\n",
    "for mangaki_id, url in Reference.objects.filter(work_id__category__slug='anime').values_list('work_id', 'url'):\n",
    "    ref1 = 'mangaki.fr/work/{}'.format(mangaki_id)\n",
    "    ref2 = re.sub(r'https?://', '', url).replace('anidb.net/perl-bin/animedb.pl?show=anime&aid=', 'anidb.net/anime/')\n",
    "    references.update([ref1, ref2])\n",
    "    url2[mangaki_id].update([ref1, ref2])\n",
    "len(references)"
   ]
  },
  {
   "cell_type": "code",
   "execution_count": 16,
   "metadata": {},
   "outputs": [],
   "source": [
    "ids = dict(zip(sorted(references), range(len(references))))"
   ]
  },
  {
   "cell_type": "code",
   "execution_count": 17,
   "metadata": {},
   "outputs": [
    {
     "data": {
      "text/plain": [
       "['anidb.net/anime/1',\n",
       " 'anidb.net/anime/10',\n",
       " 'anidb.net/anime/100',\n",
       " 'anidb.net/anime/1000',\n",
       " 'anidb.net/anime/10000']"
      ]
     },
     "execution_count": 17,
     "metadata": {},
     "output_type": "execute_result"
    }
   ],
   "source": [
    "list(ids.keys())[:5]"
   ]
  },
  {
   "cell_type": "code",
   "execution_count": 18,
   "metadata": {},
   "outputs": [
    {
     "data": {
      "text/plain": [
       "70404"
      ]
     },
     "execution_count": 18,
     "metadata": {},
     "output_type": "execute_result"
    }
   ],
   "source": [
    "from tryalgo.kruskal import UnionFind\n",
    "\n",
    "uf = UnionFind(len(references))\n",
    "nb_merge = 0\n",
    "for manami_id, refs in url1.items():\n",
    "    for ref in refs:\n",
    "        nb_merge += uf.union(ids[ref], ids['manami/{}'.format(manami_id)])\n",
    "nb_merge"
   ]
  },
  {
   "cell_type": "code",
   "execution_count": 20,
   "metadata": {},
   "outputs": [
    {
     "data": {
      "text/plain": [
       "'81828 fusions : 322/11297 avaient un ID AniDB (2.9 %)'"
      ]
     },
     "execution_count": 20,
     "metadata": {},
     "output_type": "execute_result"
    }
   ],
   "source": [
    "nb_has_anidb = 0\n",
    "for mangaki_id, refs in url2.items():\n",
    "    has_anidb = False\n",
    "    for ref in refs:\n",
    "        if 'anidb' in ref:\n",
    "            has_anidb = True\n",
    "        nb_merge += uf.union(ids[ref], ids['mangaki.fr/work/{}'.format(mangaki_id)])\n",
    "    nb_has_anidb += has_anidb\n",
    "f'{nb_merge} fusions : {nb_has_anidb}/{len(url2)} avaient un ID AniDB ({nb_has_anidb/len(url2) * 100:.1f} %)'"
   ]
  },
  {
   "cell_type": "code",
   "execution_count": 21,
   "metadata": {},
   "outputs": [
    {
     "data": {
      "text/plain": [
       "24025"
      ]
     },
     "execution_count": 21,
     "metadata": {},
     "output_type": "execute_result"
    }
   ],
   "source": [
    "clusters = defaultdict(list)\n",
    "for ref, ref_id in ids.items():\n",
    "    clusters[uf.find(ref_id)].append(ref)\n",
    "len(clusters)"
   ]
  },
  {
   "cell_type": "code",
   "execution_count": 23,
   "metadata": {},
   "outputs": [
    {
     "name": "stdout",
     "output_type": "stream",
     "text": [
      "['anidb.net/anime/4932', 'kitsu.io/anime/2357', 'kitsu.io/anime/3248', 'kitsu.io/anime/3249', 'kitsu.io/anime/3545', 'kitsu.io/anime/3546', 'manami/5990', 'manami/9868', 'manami/9869', 'manami/9870', 'manami/9871', 'manami/9872', 'manami/9874', 'mangaki.fr/work/1374', 'mangaki.fr/work/1375', 'mangaki.fr/work/1376', 'mangaki.fr/work/1377', 'mangaki.fr/work/1378', 'mangaki.fr/work/1381', 'mangaki.fr/work/14626', 'mangaki.fr/work/14629', 'myanimelist.net/anime/2593', 'myanimelist.net/anime/3782', 'myanimelist.net/anime/3783', 'myanimelist.net/anime/4280', 'myanimelist.net/anime/4282', 'myanimelist.net/anime/5205', 'notify.moe/anime/6AbXcFmiR', 'notify.moe/anime/Pz0l5Fmig', 'notify.moe/anime/RNxu5Kmmg', 'notify.moe/anime/TxDs5KmiR', 'notify.moe/anime/Y8T_cKmmR']\n"
     ]
    },
    {
     "data": {
      "text/plain": [
       "(Counter({(1, 1): 9935,\n",
       "          (0, 1): 13529,\n",
       "          (2, 1): 427,\n",
       "          (1, 2): 29,\n",
       "          (2, 2): 14,\n",
       "          (3, 1): 12,\n",
       "          (5, 1): 1,\n",
       "          (3, 2): 3,\n",
       "          (4, 3): 1,\n",
       "          (8, 7): 1,\n",
       "          (1, 3): 1,\n",
       "          (4, 1): 2,\n",
       "          (3, 4): 1,\n",
       "          (2, 3): 1,\n",
       "          (1, 0): 68}),\n",
       " 463,\n",
       " 51,\n",
       " 42237)"
      ]
     },
     "execution_count": 23,
     "metadata": {},
     "output_type": "execute_result"
    }
   ],
   "source": [
    "from collections import Counter\n",
    "\n",
    "c = Counter()\n",
    "clusters_by_occ = defaultdict(list)\n",
    "\n",
    "def get_mangaki_id(url):\n",
    "    return int(url[len('mangaki.fr/work/'):])\n",
    "\n",
    "def get_manami_id(url):\n",
    "    return int(url[len('manami/'):])\n",
    "\n",
    "nb_cdup_mangaki = 0\n",
    "nb_cdup_manami = 0\n",
    "total_ref = 0\n",
    "search_queries = []\n",
    "mangaki_not_manami = set()\n",
    "for cluster in clusters.values():\n",
    "    mangaki_refs = [ref for ref in cluster if ref.startswith('mangaki') and get_mangaki_id(ref) in VALID_MANGAKI_IDS]\n",
    "    nb_mangaki = len(mangaki_refs)\n",
    "    nb_manami = len([ref for ref in cluster if ref.startswith('manami')])\n",
    "    if nb_mangaki > 0:\n",
    "        total_ref += len(cluster) - nb_mangaki - nb_manami\n",
    "    if nb_mangaki >= 2 and nb_manami >= 1:\n",
    "        nb_cdup_mangaki += 1\n",
    "    if nb_manami >= 2 and nb_mangaki >= 1:\n",
    "        nb_cdup_manami += 1\n",
    "    # if nb_mangaki + nb_manami >= 14:\n",
    "    #     print(cluster)  # It was Kara no Kyoukai\n",
    "    if nb_mangaki + nb_manami >= 12:\n",
    "        print(cluster)\n",
    "    if nb_mangaki >= 3 or nb_manami >= 3:  # Have to analyze\n",
    "        clusters_by_occ[nb_mangaki, nb_manami].append(cluster)\n",
    "    if nb_mangaki == 0 and nb_manami == 1:\n",
    "        manami_url = [ref for ref in cluster if ref.startswith('manami')][0]\n",
    "        manami_id = get_manami_id(manami_url)\n",
    "        search_queries.append(manami['data'][manami_id]['title'])  # In Manami but not in Mangaki\n",
    "    if nb_manami == 0:\n",
    "        for url in mangaki_refs:\n",
    "            mangaki_id = get_mangaki_id(url)\n",
    "            mangaki_not_manami.add(mangaki_id)\n",
    "    c[nb_mangaki, nb_manami] += 1\n",
    "c, nb_cdup_mangaki, nb_cdup_manami, total_ref"
   ]
  },
  {
   "cell_type": "markdown",
   "metadata": {},
   "source": [
    "Cela signifie :\n",
    "\n",
    "- 13529 works sont chez Manami mais pas chez Mangaki\n",
    "- 68 works sont chez Mangami pas chez Manami\n",
    "- `(2, 1): 427` $\\Rightarrow$ 427 clusters correspondent à 2 works chez Mangaki mais seulement 1 work chez Manami\n",
    "- `(8, 7): 1` correspond en fait à Kara no Kyoukai qui n'a qu'une seule référence sur AniDB mais qui correspond à 8 works chez Mangaki et 7 chez Manami"
   ]
  },
  {
   "cell_type": "code",
   "execution_count": 24,
   "metadata": {},
   "outputs": [
    {
     "name": "stdout",
     "output_type": "stream",
     "text": [
      "CPU times: user 190 ms, sys: 0 ns, total: 190 ms\n",
      "Wall time: 2.36 s\n"
     ]
    },
    {
     "data": {
      "text/plain": [
       "(673, 16, 683)"
      ]
     },
     "execution_count": 24,
     "metadata": {},
     "output_type": "execute_result"
    }
   ],
   "source": [
    "%%time\n",
    "\n",
    "# This is long. Don't do this.\n",
    "'''\n",
    "search_results = Counter()\n",
    "print(len(search_queries))\n",
    "for title in search_queries:\n",
    "    nb_results = Work.objects.filter(title=title).count()\n",
    "    search_results[nb_results] += 1\n",
    "search_results'''\n",
    "# Counter({0: 12849, 1: 663, 2: 13, 3: 4})\n",
    "\n",
    "ids_found_in_mangaki_title = set(Work.objects.filter(title__in=search_queries).values_list('id', flat=True))\n",
    "ids_found_in_mangaki_synonym = set(WorkTitle.objects.filter(title__in=search_queries).values_list('work_id', flat=True))\n",
    "ids_found_in_mangaki = ids_found_in_mangaki_title | ids_found_in_mangaki_synonym\n",
    "len(ids_found_in_mangaki_title), len(ids_found_in_mangaki_synonym), len(ids_found_in_mangaki)"
   ]
  },
  {
   "cell_type": "code",
   "execution_count": 25,
   "metadata": {},
   "outputs": [
    {
     "name": "stdout",
     "output_type": "stream",
     "text": [
      "33 anime repêchés\n",
      "13496 anime dans Manami mais pas dans Mangaki\n",
      "35 anime dans Mangaki mais pas dans Manami (ce nombre devrait être quasiment 0)\n"
     ]
    }
   ],
   "source": [
    "paired = ids_found_in_mangaki & mangaki_not_manami\n",
    "print(f'{len(paired)} anime repêchés')\n",
    "print(f'{len(search_queries) - len(paired)} anime dans Manami mais pas dans Mangaki')\n",
    "print(f'{len(mangaki_not_manami - paired)} anime dans Mangaki mais pas dans Manami (ce nombre devrait être quasiment 0)')"
   ]
  },
  {
   "cell_type": "code",
   "execution_count": 26,
   "metadata": {},
   "outputs": [
    {
     "data": {
      "text/plain": [
       "<WorkQuerySet [<Work: Rurouni Kenshin: Meiji Kenkaku Romantan>, <Work: Shakugan no Shana II>, <Work: Flipping through Belgrade>, <Work: Kamichu! The Goddess is a Middle School Student>, <Work: Galaxy Divine Wind Jinraiger>, <Work: Birei Okami Mie>, <Work: Loups=Garous Pilot>, <Work: A Message for Passing the Baton from Cure Lovely to Cure Flora>, <Work: The Inheritor of the Crescent Moon>, <Work: Paper Rabbit Rope: Christmas>, <Work: Gintama OVA>, <Work: UFO Robo Grendizer: Confrontation in the Red Setting Sun>, <Work: Getter Robo Movie>, <Work: Noragami OVA 2>, <Work: Ore, Twin tails ni Narimasu. Recap>, <Work: Kanojo x Kanojo x Kanojo Full Version>, <Work: Devilman (Movie)>, <Work: Bishoujo Senshi Sailor Moon: Crystal 2nd Season>, <Work: Charlotte: Arata na \"Unmei\" no Hajimari>, <Work: Shingeki no Bahamut: Genesis Special>, '...(remaining elements truncated)...']>"
      ]
     },
     "execution_count": 26,
     "metadata": {},
     "output_type": "execute_result"
    }
   ],
   "source": [
    "# Examples\n",
    "Work.objects.filter(id__in=mangaki_not_manami - paired)"
   ]
  },
  {
   "cell_type": "code",
   "execution_count": 27,
   "metadata": {},
   "outputs": [
    {
     "name": "stdout",
     "output_type": "stream",
     "text": [
      "35 to pair\n"
     ]
    },
    {
     "data": {
      "text/html": [
       "<div>\n",
       "<style scoped>\n",
       "    .dataframe tbody tr th:only-of-type {\n",
       "        vertical-align: middle;\n",
       "    }\n",
       "\n",
       "    .dataframe tbody tr th {\n",
       "        vertical-align: top;\n",
       "    }\n",
       "\n",
       "    .dataframe thead th {\n",
       "        text-align: right;\n",
       "    }\n",
       "</style>\n",
       "<table border=\"1\" class=\"dataframe\">\n",
       "  <thead>\n",
       "    <tr style=\"text-align: right;\">\n",
       "      <th></th>\n",
       "      <th>source</th>\n",
       "      <th>identifier</th>\n",
       "      <th>work_id</th>\n",
       "      <th>work_id__title</th>\n",
       "      <th>nb_ratings</th>\n",
       "    </tr>\n",
       "  </thead>\n",
       "  <tbody>\n",
       "    <tr>\n",
       "      <th>19</th>\n",
       "      <td>Animeka</td>\n",
       "      <td>shakugan-no-shana2</td>\n",
       "      <td>145</td>\n",
       "      <td>Shakugan no Shana II</td>\n",
       "      <td>211</td>\n",
       "    </tr>\n",
       "    <tr>\n",
       "      <th>20</th>\n",
       "      <td>Animeka</td>\n",
       "      <td>kenshin</td>\n",
       "      <td>105</td>\n",
       "      <td>Rurouni Kenshin: Meiji Kenkaku Romantan</td>\n",
       "      <td>196</td>\n",
       "    </tr>\n",
       "    <tr>\n",
       "      <th>21</th>\n",
       "      <td>MAL</td>\n",
       "      <td>489</td>\n",
       "      <td>1907</td>\n",
       "      <td>Kamichu! The Goddess is a Middle School Student</td>\n",
       "      <td>81</td>\n",
       "    </tr>\n",
       "    <tr>\n",
       "      <th>2</th>\n",
       "      <td>MAL</td>\n",
       "      <td>30987</td>\n",
       "      <td>12674</td>\n",
       "      <td>Charlotte: Arata na \"Unmei\" no Hajimari</td>\n",
       "      <td>21</td>\n",
       "    </tr>\n",
       "    <tr>\n",
       "      <th>1</th>\n",
       "      <td>MAL</td>\n",
       "      <td>30624</td>\n",
       "      <td>10035</td>\n",
       "      <td>Noragami OVA 2</td>\n",
       "      <td>14</td>\n",
       "    </tr>\n",
       "    <tr>\n",
       "      <th>7</th>\n",
       "      <td>MAL</td>\n",
       "      <td>31316</td>\n",
       "      <td>13204</td>\n",
       "      <td>World Trigger: Fugitives from Another World</td>\n",
       "      <td>12</td>\n",
       "    </tr>\n",
       "    <tr>\n",
       "      <th>28</th>\n",
       "      <td>MAL</td>\n",
       "      <td>28295</td>\n",
       "      <td>3346</td>\n",
       "      <td>Gintama OVA</td>\n",
       "      <td>7</td>\n",
       "    </tr>\n",
       "    <tr>\n",
       "      <th>25</th>\n",
       "      <td>MAL</td>\n",
       "      <td>29781</td>\n",
       "      <td>2446</td>\n",
       "      <td>A Message for Passing the Baton from Cure Love...</td>\n",
       "      <td>4</td>\n",
       "    </tr>\n",
       "    <tr>\n",
       "      <th>6</th>\n",
       "      <td>MAL</td>\n",
       "      <td>30552</td>\n",
       "      <td>11573</td>\n",
       "      <td>Ore, Twin tails ni Narimasu. Recap</td>\n",
       "      <td>4</td>\n",
       "    </tr>\n",
       "    <tr>\n",
       "      <th>14</th>\n",
       "      <td>MAL</td>\n",
       "      <td>18597</td>\n",
       "      <td>12101</td>\n",
       "      <td>Kanojo x Kanojo x Kanojo Full Version</td>\n",
       "      <td>4</td>\n",
       "    </tr>\n",
       "    <tr>\n",
       "      <th>13</th>\n",
       "      <td>MAL</td>\n",
       "      <td>31492</td>\n",
       "      <td>13471</td>\n",
       "      <td>Haikyuu!!: Jump Festa 2015 Special</td>\n",
       "      <td>4</td>\n",
       "    </tr>\n",
       "    <tr>\n",
       "      <th>24</th>\n",
       "      <td>MAL</td>\n",
       "      <td>12723</td>\n",
       "      <td>2322</td>\n",
       "      <td>Loups=Garous Pilot</td>\n",
       "      <td>3</td>\n",
       "    </tr>\n",
       "    <tr>\n",
       "      <th>10</th>\n",
       "      <td>MAL</td>\n",
       "      <td>31930</td>\n",
       "      <td>13827</td>\n",
       "      <td>Pandora in the Crimson Shell: Ghost Urn</td>\n",
       "      <td>3</td>\n",
       "    </tr>\n",
       "    <tr>\n",
       "      <th>4</th>\n",
       "      <td>MAL</td>\n",
       "      <td>31095</td>\n",
       "      <td>12907</td>\n",
       "      <td>Shingeki no Bahamut: Genesis Special</td>\n",
       "      <td>3</td>\n",
       "    </tr>\n",
       "    <tr>\n",
       "      <th>29</th>\n",
       "      <td>MAL</td>\n",
       "      <td>22401</td>\n",
       "      <td>20229</td>\n",
       "      <td>Shin Saru Kani Gassen (1939)</td>\n",
       "      <td>1</td>\n",
       "    </tr>\n",
       "    <tr>\n",
       "      <th>15</th>\n",
       "      <td>MAL</td>\n",
       "      <td>30618</td>\n",
       "      <td>12116</td>\n",
       "      <td>Devilman (Movie)</td>\n",
       "      <td>1</td>\n",
       "    </tr>\n",
       "    <tr>\n",
       "      <th>18</th>\n",
       "      <td>MAL</td>\n",
       "      <td>30595</td>\n",
       "      <td>12360</td>\n",
       "      <td>Bishoujo Senshi Sailor Moon: Crystal 2nd Season</td>\n",
       "      <td>1</td>\n",
       "    </tr>\n",
       "    <tr>\n",
       "      <th>33</th>\n",
       "      <td>MAL</td>\n",
       "      <td>36054</td>\n",
       "      <td>21171</td>\n",
       "      <td>Teekyuu 9 Specials</td>\n",
       "      <td>1</td>\n",
       "    </tr>\n",
       "    <tr>\n",
       "      <th>22</th>\n",
       "      <td>MAL</td>\n",
       "      <td>28613</td>\n",
       "      <td>2137</td>\n",
       "      <td>Galaxy Divine Wind Jinraiger</td>\n",
       "      <td>1</td>\n",
       "    </tr>\n",
       "    <tr>\n",
       "      <th>0</th>\n",
       "      <td>MAL</td>\n",
       "      <td>7839</td>\n",
       "      <td>8120</td>\n",
       "      <td>UFO Robo Grendizer: Confrontation in the Red S...</td>\n",
       "      <td>1</td>\n",
       "    </tr>\n",
       "    <tr>\n",
       "      <th>30</th>\n",
       "      <td>MAL</td>\n",
       "      <td>31727</td>\n",
       "      <td>14234</td>\n",
       "      <td>Medaka no Gakkou (Music)</td>\n",
       "      <td>0</td>\n",
       "    </tr>\n",
       "    <tr>\n",
       "      <th>27</th>\n",
       "      <td>MAL</td>\n",
       "      <td>13829</td>\n",
       "      <td>2685</td>\n",
       "      <td>Paper Rabbit Rope: Christmas</td>\n",
       "      <td>0</td>\n",
       "    </tr>\n",
       "    <tr>\n",
       "      <th>31</th>\n",
       "      <td>MAL</td>\n",
       "      <td>32395</td>\n",
       "      <td>14326</td>\n",
       "      <td>L’Œil du Cyclone</td>\n",
       "      <td>0</td>\n",
       "    </tr>\n",
       "    <tr>\n",
       "      <th>32</th>\n",
       "      <td>MAL</td>\n",
       "      <td>32754</td>\n",
       "      <td>14411</td>\n",
       "      <td>Chokotto Kamen</td>\n",
       "      <td>0</td>\n",
       "    </tr>\n",
       "    <tr>\n",
       "      <th>26</th>\n",
       "      <td>MAL</td>\n",
       "      <td>7242</td>\n",
       "      <td>2619</td>\n",
       "      <td>The Inheritor of the Crescent Moon</td>\n",
       "      <td>0</td>\n",
       "    </tr>\n",
       "    <tr>\n",
       "      <th>17</th>\n",
       "      <td>MAL</td>\n",
       "      <td>32067</td>\n",
       "      <td>14016</td>\n",
       "      <td>There Is a Reason That We Yawn</td>\n",
       "      <td>0</td>\n",
       "    </tr>\n",
       "    <tr>\n",
       "      <th>23</th>\n",
       "      <td>MAL</td>\n",
       "      <td>10443</td>\n",
       "      <td>2260</td>\n",
       "      <td>Birei Okami Mie</td>\n",
       "      <td>0</td>\n",
       "    </tr>\n",
       "    <tr>\n",
       "      <th>16</th>\n",
       "      <td>MAL</td>\n",
       "      <td>29720</td>\n",
       "      <td>1226</td>\n",
       "      <td>Flipping through Belgrade</td>\n",
       "      <td>0</td>\n",
       "    </tr>\n",
       "    <tr>\n",
       "      <th>12</th>\n",
       "      <td>MAL</td>\n",
       "      <td>31462</td>\n",
       "      <td>13453</td>\n",
       "      <td>Mario &amp; Yoshi's Adventure Land</td>\n",
       "      <td>0</td>\n",
       "    </tr>\n",
       "    <tr>\n",
       "      <th>11</th>\n",
       "      <td>MAL</td>\n",
       "      <td>31940</td>\n",
       "      <td>13828</td>\n",
       "      <td>Pandora of the Crimson Shell: Ghost Urn</td>\n",
       "      <td>0</td>\n",
       "    </tr>\n",
       "    <tr>\n",
       "      <th>9</th>\n",
       "      <td>MAL</td>\n",
       "      <td>32137</td>\n",
       "      <td>14060</td>\n",
       "      <td>Attack no Titan x Schick Commercial</td>\n",
       "      <td>0</td>\n",
       "    </tr>\n",
       "    <tr>\n",
       "      <th>8</th>\n",
       "      <td>MAL</td>\n",
       "      <td>31341</td>\n",
       "      <td>13545</td>\n",
       "      <td>Idiot Boyfriend: My Boyfriend is an Idiot</td>\n",
       "      <td>0</td>\n",
       "    </tr>\n",
       "    <tr>\n",
       "      <th>5</th>\n",
       "      <td>MAL</td>\n",
       "      <td>31142</td>\n",
       "      <td>12910</td>\n",
       "      <td>Nihon Animator Mihonichi Movie</td>\n",
       "      <td>0</td>\n",
       "    </tr>\n",
       "    <tr>\n",
       "      <th>3</th>\n",
       "      <td>MAL</td>\n",
       "      <td>8252</td>\n",
       "      <td>8785</td>\n",
       "      <td>Getter Robo Movie</td>\n",
       "      <td>0</td>\n",
       "    </tr>\n",
       "    <tr>\n",
       "      <th>34</th>\n",
       "      <td>MAL</td>\n",
       "      <td>33666</td>\n",
       "      <td>14837</td>\n",
       "      <td>Mahou Shoujo Lyrical Nanoha ViVid (2017)</td>\n",
       "      <td>0</td>\n",
       "    </tr>\n",
       "  </tbody>\n",
       "</table>\n",
       "</div>"
      ],
      "text/plain": [
       "     source          identifier  work_id  \\\n",
       "19  Animeka  shakugan-no-shana2      145   \n",
       "20  Animeka             kenshin      105   \n",
       "21      MAL                 489     1907   \n",
       "2       MAL               30987    12674   \n",
       "1       MAL               30624    10035   \n",
       "7       MAL               31316    13204   \n",
       "28      MAL               28295     3346   \n",
       "25      MAL               29781     2446   \n",
       "6       MAL               30552    11573   \n",
       "14      MAL               18597    12101   \n",
       "13      MAL               31492    13471   \n",
       "24      MAL               12723     2322   \n",
       "10      MAL               31930    13827   \n",
       "4       MAL               31095    12907   \n",
       "29      MAL               22401    20229   \n",
       "15      MAL               30618    12116   \n",
       "18      MAL               30595    12360   \n",
       "33      MAL               36054    21171   \n",
       "22      MAL               28613     2137   \n",
       "0       MAL                7839     8120   \n",
       "30      MAL               31727    14234   \n",
       "27      MAL               13829     2685   \n",
       "31      MAL               32395    14326   \n",
       "32      MAL               32754    14411   \n",
       "26      MAL                7242     2619   \n",
       "17      MAL               32067    14016   \n",
       "23      MAL               10443     2260   \n",
       "16      MAL               29720     1226   \n",
       "12      MAL               31462    13453   \n",
       "11      MAL               31940    13828   \n",
       "9       MAL               32137    14060   \n",
       "8       MAL               31341    13545   \n",
       "5       MAL               31142    12910   \n",
       "3       MAL                8252     8785   \n",
       "34      MAL               33666    14837   \n",
       "\n",
       "                                       work_id__title  nb_ratings  \n",
       "19                               Shakugan no Shana II         211  \n",
       "20            Rurouni Kenshin: Meiji Kenkaku Romantan         196  \n",
       "21    Kamichu! The Goddess is a Middle School Student          81  \n",
       "2             Charlotte: Arata na \"Unmei\" no Hajimari          21  \n",
       "1                                      Noragami OVA 2          14  \n",
       "7         World Trigger: Fugitives from Another World          12  \n",
       "28                                        Gintama OVA           7  \n",
       "25  A Message for Passing the Baton from Cure Love...           4  \n",
       "6                  Ore, Twin tails ni Narimasu. Recap           4  \n",
       "14              Kanojo x Kanojo x Kanojo Full Version           4  \n",
       "13                 Haikyuu!!: Jump Festa 2015 Special           4  \n",
       "24                                 Loups=Garous Pilot           3  \n",
       "10            Pandora in the Crimson Shell: Ghost Urn           3  \n",
       "4                Shingeki no Bahamut: Genesis Special           3  \n",
       "29                       Shin Saru Kani Gassen (1939)           1  \n",
       "15                                   Devilman (Movie)           1  \n",
       "18    Bishoujo Senshi Sailor Moon: Crystal 2nd Season           1  \n",
       "33                                 Teekyuu 9 Specials           1  \n",
       "22                       Galaxy Divine Wind Jinraiger           1  \n",
       "0   UFO Robo Grendizer: Confrontation in the Red S...           1  \n",
       "30                           Medaka no Gakkou (Music)           0  \n",
       "27                       Paper Rabbit Rope: Christmas           0  \n",
       "31                                   L’Œil du Cyclone           0  \n",
       "32                                     Chokotto Kamen           0  \n",
       "26                 The Inheritor of the Crescent Moon           0  \n",
       "17                     There Is a Reason That We Yawn           0  \n",
       "23                                    Birei Okami Mie           0  \n",
       "16                          Flipping through Belgrade           0  \n",
       "12                     Mario & Yoshi's Adventure Land           0  \n",
       "11            Pandora of the Crimson Shell: Ghost Urn           0  \n",
       "9                 Attack no Titan x Schick Commercial           0  \n",
       "8           Idiot Boyfriend: My Boyfriend is an Idiot           0  \n",
       "5                      Nihon Animator Mihonichi Movie           0  \n",
       "3                                   Getter Robo Movie           0  \n",
       "34           Mahou Shoujo Lyrical Nanoha ViVid (2017)           0  "
      ]
     },
     "execution_count": 27,
     "metadata": {},
     "output_type": "execute_result"
    }
   ],
   "source": [
    "nb_in_mangaki_not_manami_hard_to_pair = len(mangaki_not_manami - paired)\n",
    "print(nb_in_mangaki_not_manami_hard_to_pair, 'to pair')\n",
    "\n",
    "# Are they popular?\n",
    "df_to_pair = pd.DataFrame(Reference.objects.filter(work_id__in=mangaki_not_manami - paired).values(\n",
    "    'source', 'identifier', 'work_id', 'work_id__title'))\n",
    "nb_ratings_of_work = Counter(Rating.objects.filter(work_id__in=df_to_pair['work_id']).values_list('work_id', flat=True))\n",
    "df_to_pair['nb_ratings'] = df_to_pair['work_id'].map(nb_ratings_of_work)\n",
    "df_to_pair.sort_values('nb_ratings', ascending=False)"
   ]
  },
  {
   "cell_type": "markdown",
   "metadata": {},
   "source": [
    "Par exemple il faut vérifier que ces liens MAL aboutissent."
   ]
  },
  {
   "cell_type": "code",
   "execution_count": 33,
   "metadata": {},
   "outputs": [
    {
     "name": "stdout",
     "output_type": "stream",
     "text": [
      "(3, 1)\n",
      "['anidb.net/anime/10697', 'anilist.co/anime/20754', 'kitsu.io/anime/8644', 'manami:Gakkougurashi!', 'mangaki:Gakkou Gurashi!', 'mangaki:School-Live!', 'mangaki:School-Live!', 'myanimelist.net/anime/24765', 'notify.moe/anime/5jHJtFmiR']\n",
      "['anidb.net/anime/10813', 'anilist.co/anime/20829', 'kitsu.io/anime/8736', 'manami:Owari no Seraph', 'mangaki:Seraph of the End: Vampire Reign', 'mangaki:Seraph of the End: Vampire Reign', 'mangaki:Seraph of the End', 'myanimelist.net/anime/26243', 'notify.moe/anime/90w1tKmiR']\n",
      "['anidb.net/anime/11163', 'anilist.co/anime/21122', 'kitsu.io/anime/10762', 'manami:Nagato Yuki-chan no Shoushitsu: Owarenai Natsuyasumi', 'mangaki:Nagato Yuki-chan no Shoushitsu OVA', 'mangaki:Nagato Yuki-chan no Shoushitsu: Owarenai Natsuyasumi', 'mangaki:The Vanishing of Nagato Yuki-chan', 'myanimelist.net/anime/30379', 'notify.moe/anime/Id3QpKmig']\n",
      "['anidb.net/anime/11345', 'anilist.co/anime/21256', 'kitsu.io/anime/11170', 'manami:Dimension W', 'mangaki:Dimension W', 'mangaki:Dimension W', 'mangaki:Dimension W', 'myanimelist.net/anime/31163', 'notify.moe/anime/ayYutKimR']\n",
      "['anidb.net/anime/2166', 'anilist.co/anime/25', 'kitsu.io/anime/16', 'manami:Sunabouzu', 'mangaki:Desert Punk', 'mangaki:Desert Punk', 'mangaki:Desert Punk', 'myanimelist.net/anime/25', 'notify.moe/anime/L4Mp5FmmR']\n",
      "['anidb.net/anime/6258', 'anilist.co/anime/5678', 'kitsu.io/anime/4239', 'manami:Kobato.', 'mangaki:Kobato', 'mangaki:Kobato', 'mangaki:Kobato.', 'myanimelist.net/anime/5678', 'notify.moe/anime/ph8CcKimg']\n",
      "['anilist.co/anime/1045', 'kitsu.io/anime/935', 'manami:Elf wo Karu Mono-tachi', 'mangaki:Those Who Hunt Elves', 'mangaki:Those Who Hunt Elves', 'mangaki:Those Who Hunt Elves', 'myanimelist.net/anime/1045', 'notify.moe/anime/TwfJcFmig']\n",
      "['anilist.co/anime/21403', 'kitsu.io/anime/11423', 'manami:Sword Art Online Movie: Ordinal Scale', 'mangaki:Sword Art Online Movie', 'mangaki:Sword Art Online the Movie: Ordinal Scale', 'mangaki:Sword Art Online the Movie -Ordinal Scale-', 'myanimelist.net/anime/31765', 'notify.moe/anime/hmqrpKiig']\n",
      "['anilist.co/anime/21451', 'kitsu.io/anime/11460', 'manami:Full Metal Panic! Invisible Victory', 'mangaki:Full Metal Panic: Vertical Shaft', 'mangaki:Full Metal Panic! (Shinsaku)', 'mangaki:Full Metal Panic! IV', 'myanimelist.net/anime/31931', 'notify.moe/anime/B7njtFiiR']\n",
      "['kitsu.io/anime/10846', 'manami:Doukyuusei (Movie)', 'mangaki:Doukyuusei', 'mangaki:Classmates', 'mangaki:Doukyusei -Classmates-', 'myanimelist.net/anime/30346', 'notify.moe/anime/8EOlpKiig']\n",
      "['kitsu.io/anime/11188', 'manami:Kinyoru, Abe Reiji: Heikinteki na Salaryman no Ijou na Nichijou', 'mangaki:Kinya, Abe Reiji: Heikin-teki na Salaryman no Ijou na Nichijou', 'mangaki:Kinyoru, Abe Reiji: Heikin-teki na Salaryman no Ijou na Nichijou', 'mangaki:Kinyoru, Abe Reiji: Heikinteki na Salaryman no Ijou na Nichijou', 'myanimelist.net/anime/31071', 'notify.moe/anime/EgQXpKmig']\n",
      "['kitsu.io/anime/5799', 'manami:Oniichan no Koto nanka Zenzen Suki ja Nai n da kara ne!!', 'mangaki:Oniichan no Koto Nanka Zenzen Suki Janain Dakara ne!!', 'mangaki:Oniichan no Koto nanka Zenzen Suki ja Nai n da kara ne!!', 'mangaki:Onii-chan no Koto Nanka Zenzen Suki Janain Dakara ne!!', 'myanimelist.net/anime/9587', 'notify.moe/anime/_AdGtFimg']\n",
      "(5, 1)\n",
      "['anidb.net/anime/11177', 'anilist.co/anime/21131', 'kitsu.io/anime/10857', 'manami:Gakusen Toshi Asterisk', 'mangaki:The Asterisk War: The Academy City on the Water', 'mangaki:The Asterisk War: The Academy City on the Water', 'mangaki:The Asterisk War: The Academy City on the Water', 'mangaki:The Asterisk War: The Academy City on the Water', 'mangaki:The Asterisk War: The Academy City on the Water', 'myanimelist.net/anime/30544', 'notify.moe/anime/yqK_tKmmg']\n",
      "(3, 2)\n",
      "['anidb.net/anime/2061', 'anidb.net/anime/593', 'anilist.co/anime/481', 'kitsu.io/anime/442', 'manami:Yuu Gi Ou', 'manami:Yu☆Gi☆Oh! Duel Monsters', 'mangaki:Yu-Gi-Oh!', 'mangaki:Yu-Gi-Oh!', 'mangaki:Yu-Gi-Oh!', 'myanimelist.net/anime/481', 'notify.moe/anime/CHOT5FmiR']\n",
      "['anidb.net/anime/8357', 'anilist.co/anime/9260', 'anime.icotaku.com/anime/798/Kizumonogatari.html', 'kitsu.io/anime/5649', 'manami:Kizumonogatari', 'manami:Kizumonogatari I: Tekketsu-hen', \"mangaki:Kizumonogatari - Partie 1 : Sang d'acier\", 'mangaki:Kizumonogatari Part 1: Tekketsu', 'mangaki:Kizumonogatari', 'myanimelist.net/anime/9260', 'notify.moe/anime/B38ZtFmmR']\n",
      "['anidb.net/anime/9541', 'anilist.co/anime/16498', 'anilist.co/anime/18397', 'kitsu.io/anime/7442', 'kitsu.io/anime/7694', 'manami:Shingeki no Kyojin', 'manami:Shingeki no Kyojin OVA', 'mangaki:Attack on Titan', 'mangaki:Shingeki no Kyojin OVA', \"mangaki:L'Attaque des Titans\", 'myanimelist.net/anime/16498', 'myanimelist.net/anime/18397', 'notify.moe/anime/RNj5tKiiR', 'notify.moe/anime/tzUFpKiig']\n",
      "(4, 3)\n",
      "['anidb.net/anime/4402', 'anidb.net/anime/5101', 'anilist.co/anime/1723', 'anilist.co/anime/2167', 'kitsu.io/anime/1544', 'kitsu.io/anime/1962', 'kitsu.io/anime/3438', 'manami:Clannad', 'manami:Clannad Movie', 'manami:Clannad: Mou Hitotsu no Sekai, Tomoyo-hen', 'mangaki:Clannad', 'mangaki:Clannad The Motion Picture', 'mangaki:Clannad - Movie', 'mangaki:Clannad: Another World, Tomoyo Chapter', 'myanimelist.net/anime/1723', 'myanimelist.net/anime/2167', 'myanimelist.net/anime/4059', 'notify.moe/anime/4OZXcFmig', 'notify.moe/anime/F2eY5Fmig', 'notify.moe/anime/jtNBcFimR', 'www.animeka.com/animes/detail/clannad-tv.html']\n",
      "(8, 7)\n",
      "['anidb.net/anime/4932', 'kitsu.io/anime/2357', 'kitsu.io/anime/3248', 'kitsu.io/anime/3249', 'kitsu.io/anime/3545', 'kitsu.io/anime/3546', 'manami:Gekijouban Kara no Kyoukai: The Garden of Sinners', 'manami:Kara no Kyoukai 1: Fukan Fuukei', 'manami:Kara no Kyoukai 2: Satsujin Kousatsu (Zen)', 'manami:Kara no Kyoukai 3: Tsuukaku Zanryuu', 'manami:Kara no Kyoukai 4: Garan no Dou', 'manami:Kara no Kyoukai 5: Mujun Rasen', 'manami:Kara no Kyoukai 7: Satsujin Kousatsu (Go)', 'mangaki:Kara no Kyoukai 1: Fukan Fuukei', 'mangaki:Kara no Kyoukai 2: Satsujin Kousatsu (Part 1)', 'mangaki:Kara no Kyoukai 3: Tsuukaku Zanryuu', 'mangaki:Kara no Kyoukai 4: Garan no Dou', 'mangaki:Kara no Kyoukai 5: Mujun Rasen', 'mangaki:Kara no Kyoukai 7: Satsujin Kousatsu (Part 2)', 'mangaki:the Garden of sinners Chapter 2: Murder Speculation Part A', 'mangaki:the Garden of sinners Chapter 7: Murder Speculation Part B', 'myanimelist.net/anime/2593', 'myanimelist.net/anime/3782', 'myanimelist.net/anime/3783', 'myanimelist.net/anime/4280', 'myanimelist.net/anime/4282', 'myanimelist.net/anime/5205', 'notify.moe/anime/6AbXcFmiR', 'notify.moe/anime/Pz0l5Fmig', 'notify.moe/anime/RNxu5Kmmg', 'notify.moe/anime/TxDs5KmiR', 'notify.moe/anime/Y8T_cKmmR']\n",
      "(1, 3)\n",
      "15413 Work matching query does not exist. (déjà dédoublonné WorkCluster)\n",
      "15426 Work matching query does not exist. (déjà dédoublonné WorkCluster)\n",
      "['anidb.net/anime/5132', 'anidb.net/anime/7249', 'anilist.co/anime/3167', 'kitsu.io/anime/2836', 'kitsu.io/anime/7661', 'manami:Eve no Jikan', 'manami:Eve no Jikan (Movie)', 'manami:Eve no Jikan Gekijouban', 'mangaki:15413', 'mangaki:15426', 'mangaki:Time of Eve', 'myanimelist.net/anime/3167', 'myanimelist.net/anime/7465', 'notify.moe/anime/29mw5KiiR', 'notify.moe/anime/2Ws5tKmig']\n",
      "(4, 1)\n",
      "['anidb.net/anime/638', 'anilist.co/anime/250', 'kitsu.io/anime/225', 'manami:Konjiki no Gash Bell!!', 'mangaki:Zatch Bell!', 'mangaki:Zatch Bell!', 'mangaki:Zatch Bell!', 'mangaki:Zatch Bell!', 'myanimelist.net/anime/250', 'notify.moe/anime/34Nh5Kmmg']\n",
      "['anilist.co/anime/21390', 'kitsu.io/anime/11421', 'manami:Gakusen Toshi Asterisk 2nd Season', 'mangaki:The Asterisk War: The Academy City on the Water', 'mangaki:The Asterisk War: The Academy City on the Water', 'mangaki:The Asterisk War: The Academy City on the Water', 'mangaki:The Asterisk War: The Academy City on the Water', 'myanimelist.net/anime/31737', 'notify.moe/anime/AaCrpFimR']\n",
      "(3, 4)\n",
      "15124 Work matching query does not exist. (déjà dédoublonné WorkCluster)\n",
      "15305 Work matching query does not exist. (déjà dédoublonné WorkCluster)\n",
      "15306 Work matching query does not exist. (déjà dédoublonné WorkCluster)\n",
      "15307 Work matching query does not exist. (déjà dédoublonné WorkCluster)\n",
      "15308 Work matching query does not exist. (déjà dédoublonné WorkCluster)\n",
      "['anidb.net/anime/8778', 'kitsu.io/anime/6636', 'kitsu.io/anime/6637', 'kitsu.io/anime/6638', 'manami:Mahou Shoujo Madoka★Magica Movie 1: Hajimari no Monogatari', 'manami:Mahou Shoujo Madoka★Magica Movie 2: Eien no Monogatari', 'manami:Mahou Shoujo Madoka★Magica Movie 3: Hangyaku no Monogatari', 'manami:Gekijouban Mahou Shoujo Madoka Magica', 'mangaki:15124', 'mangaki:15305', 'mangaki:15306', 'mangaki:15307', 'mangaki:15308', 'mangaki:Puella Magi Madoka Magica the Movie Part 3: Rebellion', 'mangaki:Puella Magi Madoka Magica the Movie Part 1: Beginnings', 'mangaki:Puella Magi Madoka Magica the Movie Part 2: Eternal', 'myanimelist.net/anime/11977', 'myanimelist.net/anime/11979', 'myanimelist.net/anime/11981', 'notify.moe/anime/A7iNtFmiR', 'notify.moe/anime/GBmHtKimR', 'notify.moe/anime/UtiHtKmmR']\n",
      "(2, 3)\n",
      "['anidb.net/anime/9977', 'anilist.co/anime/19603', 'kitsu.io/anime/7882', 'kitsu.io/anime/9718', 'manami:Fate/stay night: Unlimited Blade Works', 'manami:Fate/Stay Night: Unlimited Blade Works (2014)', 'manami:Fate/stay night: Unlimited Blade Works Prologue', 'mangaki:Fate/stay night: Unlimited Blade Works (TV)', 'mangaki:Fate/stay night: Unlimited Blade Works (TV) - Prologue', 'myanimelist.net/anime/22297', 'myanimelist.net/anime/27821', 'notify.moe/anime/6LCptFmmg', 'notify.moe/anime/QHaLtKimR']\n"
     ]
    }
   ],
   "source": [
    "def translate_url(url):\n",
    "    if url.startswith('mangaki'):\n",
    "        mangaki_id = get_mangaki_id(url)\n",
    "        try:\n",
    "            return f'mangaki:{Work.objects.get(id=mangaki_id).title}'\n",
    "        except Work.DoesNotExist as e:\n",
    "            print(mangaki_id, e, '(déjà dédoublonné WorkCluster)')\n",
    "            return f'mangaki:{mangaki_id}'\n",
    "    if url.startswith('manami'):\n",
    "        manami_id = get_manami_id(url)\n",
    "        return f'manami:{manami[\"data\"][manami_id][\"title\"]}'\n",
    "    return url\n",
    "\n",
    "for key in clusters_by_occ:\n",
    "    print(key)\n",
    "    for cluster in clusters_by_occ[key]:\n",
    "        print([translate_url(url) for url in cluster])"
   ]
  },
  {
   "cell_type": "code",
   "execution_count": 34,
   "metadata": {},
   "outputs": [
    {
     "data": {
      "text/plain": [
       "(Counter({(1, 1): 5384,\n",
       "          (0, 1): 5414,\n",
       "          (2, 1): 315,\n",
       "          (3, 1): 40,\n",
       "          (4, 1): 8,\n",
       "          (5, 1): 2,\n",
       "          (3, 2): 4,\n",
       "          (4, 2): 1,\n",
       "          (8, 1): 2,\n",
       "          (1, 0): 4421,\n",
       "          (0, 0): 8115,\n",
       "          (2, 0): 295,\n",
       "          (3, 0): 18,\n",
       "          (4, 0): 6}),\n",
       " '5756/10496 désormais (54.8 %)')"
      ]
     },
     "execution_count": 34,
     "metadata": {},
     "output_type": "execute_result"
    }
   ],
   "source": [
    "from collections import Counter\n",
    "\n",
    "c2 = Counter()\n",
    "nb_with_anidb = 0\n",
    "nb_c_mangaki = 0\n",
    "for cluster in clusters.values():\n",
    "    nb_mangaki = len([ref for ref in cluster if ref.startswith('mangaki')])\n",
    "    nb_anidb = len([ref for ref in cluster if ref.startswith('anidb')])\n",
    "    if nb_mangaki > 0:\n",
    "        nb_c_mangaki += 1\n",
    "        if nb_anidb > 0:\n",
    "            nb_with_anidb += 1\n",
    "    c2[nb_mangaki, nb_anidb] += 1\n",
    "c2, f'{nb_with_anidb}/{nb_c_mangaki} désormais ({nb_with_anidb / nb_c_mangaki * 100:.1f} %)'"
   ]
  }
 ],
 "metadata": {
  "kernelspec": {
   "display_name": "Django Shell-Plus",
   "language": "python",
   "name": "django_extensions"
  },
  "language_info": {
   "codemirror_mode": {
    "name": "ipython",
    "version": 3
   },
   "file_extension": ".py",
   "mimetype": "text/x-python",
   "name": "python",
   "nbconvert_exporter": "python",
   "pygments_lexer": "ipython3",
   "version": "3.8.2"
  }
 },
 "nbformat": 4,
 "nbformat_minor": 2
}
