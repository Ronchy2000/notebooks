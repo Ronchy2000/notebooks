{
 "cells": [
  {
   "cell_type": "markdown",
   "metadata": {},
   "source": [
    "# Mangaki\n",
    "\n",
    "On a plein de références :"
   ]
  },
  {
   "cell_type": "code",
   "execution_count": 104,
   "metadata": {},
   "outputs": [
    {
     "data": {
      "text/plain": [
       "Counter({'AniDB': 120,\n",
       "         'MAL': 11824,\n",
       "         'VGMdb': 1,\n",
       "         'Animeka': 57,\n",
       "         'Manga-News': 17,\n",
       "         'Icotaku': 1})"
      ]
     },
     "execution_count": 104,
     "metadata": {},
     "output_type": "execute_result"
    }
   ],
   "source": [
    "from collections import Counter\n",
    "\n",
    "Counter(Reference.objects.values_list('source', flat=True))"
   ]
  },
  {
   "cell_type": "markdown",
   "metadata": {},
   "source": [
    "## Works ayant le même titre"
   ]
  },
  {
   "cell_type": "code",
   "execution_count": 100,
   "metadata": {},
   "outputs": [
    {
     "name": "stdout",
     "output_type": "stream",
     "text": [
      "45 clusters d'anime ont le même titre sur Mangaki\n"
     ]
    },
    {
     "data": {
      "text/html": [
       "<div>\n",
       "<style scoped>\n",
       "    .dataframe tbody tr th:only-of-type {\n",
       "        vertical-align: middle;\n",
       "    }\n",
       "\n",
       "    .dataframe tbody tr th {\n",
       "        vertical-align: top;\n",
       "    }\n",
       "\n",
       "    .dataframe thead th {\n",
       "        text-align: right;\n",
       "    }\n",
       "</style>\n",
       "<table border=\"1\" class=\"dataframe\">\n",
       "  <thead>\n",
       "    <tr style=\"text-align: right;\">\n",
       "      <th></th>\n",
       "      <th>id</th>\n",
       "      <th>anidb_aid</th>\n",
       "    </tr>\n",
       "  </thead>\n",
       "  <tbody>\n",
       "    <tr>\n",
       "      <th>Berserk</th>\n",
       "      <td>2</td>\n",
       "      <td>0</td>\n",
       "    </tr>\n",
       "    <tr>\n",
       "      <th>Deadman Wonderland</th>\n",
       "      <td>2</td>\n",
       "      <td>1</td>\n",
       "    </tr>\n",
       "    <tr>\n",
       "      <th>Desert Punk</th>\n",
       "      <td>3</td>\n",
       "      <td>0</td>\n",
       "    </tr>\n",
       "    <tr>\n",
       "      <th>Digimon: The Movie</th>\n",
       "      <td>2</td>\n",
       "      <td>0</td>\n",
       "    </tr>\n",
       "    <tr>\n",
       "      <th>Dimension W</th>\n",
       "      <td>3</td>\n",
       "      <td>0</td>\n",
       "    </tr>\n",
       "    <tr>\n",
       "      <th>Doraemon</th>\n",
       "      <td>2</td>\n",
       "      <td>0</td>\n",
       "    </tr>\n",
       "    <tr>\n",
       "      <th>Dororo</th>\n",
       "      <td>2</td>\n",
       "      <td>0</td>\n",
       "    </tr>\n",
       "    <tr>\n",
       "      <th>Fruits Basket</th>\n",
       "      <td>2</td>\n",
       "      <td>1</td>\n",
       "    </tr>\n",
       "    <tr>\n",
       "      <th>Gestalt</th>\n",
       "      <td>2</td>\n",
       "      <td>0</td>\n",
       "    </tr>\n",
       "    <tr>\n",
       "      <th>Ghost Talker's Daydream</th>\n",
       "      <td>2</td>\n",
       "      <td>0</td>\n",
       "    </tr>\n",
       "    <tr>\n",
       "      <th>Guin Saga</th>\n",
       "      <td>2</td>\n",
       "      <td>0</td>\n",
       "    </tr>\n",
       "    <tr>\n",
       "      <th>Hanayamata</th>\n",
       "      <td>2</td>\n",
       "      <td>0</td>\n",
       "    </tr>\n",
       "    <tr>\n",
       "      <th>Hero Tales</th>\n",
       "      <td>2</td>\n",
       "      <td>0</td>\n",
       "    </tr>\n",
       "    <tr>\n",
       "      <th>Karneval</th>\n",
       "      <td>2</td>\n",
       "      <td>0</td>\n",
       "    </tr>\n",
       "    <tr>\n",
       "      <th>Kekkaishi</th>\n",
       "      <td>2</td>\n",
       "      <td>0</td>\n",
       "    </tr>\n",
       "    <tr>\n",
       "      <th>Knights of Sidonia</th>\n",
       "      <td>2</td>\n",
       "      <td>0</td>\n",
       "    </tr>\n",
       "    <tr>\n",
       "      <th>Kobato</th>\n",
       "      <td>2</td>\n",
       "      <td>0</td>\n",
       "    </tr>\n",
       "    <tr>\n",
       "      <th>Lunar Legend Tsukihime</th>\n",
       "      <td>2</td>\n",
       "      <td>0</td>\n",
       "    </tr>\n",
       "    <tr>\n",
       "      <th>Lupin the IIIrd: Chikemuri no Ishikawa Goemon</th>\n",
       "      <td>2</td>\n",
       "      <td>1</td>\n",
       "    </tr>\n",
       "    <tr>\n",
       "      <th>Midori Days</th>\n",
       "      <td>2</td>\n",
       "      <td>0</td>\n",
       "    </tr>\n",
       "    <tr>\n",
       "      <th>Monthly Girls' Nozaki-kun</th>\n",
       "      <td>2</td>\n",
       "      <td>1</td>\n",
       "    </tr>\n",
       "    <tr>\n",
       "      <th>Oh! My Goddess</th>\n",
       "      <td>2</td>\n",
       "      <td>0</td>\n",
       "    </tr>\n",
       "    <tr>\n",
       "      <th>Paradise Kiss</th>\n",
       "      <td>2</td>\n",
       "      <td>0</td>\n",
       "    </tr>\n",
       "    <tr>\n",
       "      <th>Princess Jellyfish</th>\n",
       "      <td>2</td>\n",
       "      <td>0</td>\n",
       "    </tr>\n",
       "    <tr>\n",
       "      <th>Pumpkin Scissors</th>\n",
       "      <td>2</td>\n",
       "      <td>0</td>\n",
       "    </tr>\n",
       "    <tr>\n",
       "      <th>Sailor Moon</th>\n",
       "      <td>2</td>\n",
       "      <td>0</td>\n",
       "    </tr>\n",
       "    <tr>\n",
       "      <th>Samurai Champloo</th>\n",
       "      <td>2</td>\n",
       "      <td>1</td>\n",
       "    </tr>\n",
       "    <tr>\n",
       "      <th>Samurai Deeper Kyo</th>\n",
       "      <td>2</td>\n",
       "      <td>0</td>\n",
       "    </tr>\n",
       "    <tr>\n",
       "      <th>School-Live!</th>\n",
       "      <td>2</td>\n",
       "      <td>0</td>\n",
       "    </tr>\n",
       "    <tr>\n",
       "      <th>Scrapped Princess</th>\n",
       "      <td>2</td>\n",
       "      <td>0</td>\n",
       "    </tr>\n",
       "    <tr>\n",
       "      <th>Seraph of the End: Vampire Reign</th>\n",
       "      <td>2</td>\n",
       "      <td>0</td>\n",
       "    </tr>\n",
       "    <tr>\n",
       "      <th>Sorcerer Hunters</th>\n",
       "      <td>3</td>\n",
       "      <td>0</td>\n",
       "    </tr>\n",
       "    <tr>\n",
       "      <th>The Asterisk War: The Academy City on the Water</th>\n",
       "      <td>9</td>\n",
       "      <td>0</td>\n",
       "    </tr>\n",
       "    <tr>\n",
       "      <th>The Seven Deadly Sins</th>\n",
       "      <td>2</td>\n",
       "      <td>1</td>\n",
       "    </tr>\n",
       "    <tr>\n",
       "      <th>This Ugly Yet Beautiful World</th>\n",
       "      <td>2</td>\n",
       "      <td>0</td>\n",
       "    </tr>\n",
       "    <tr>\n",
       "      <th>Those Who Hunt Elves</th>\n",
       "      <td>3</td>\n",
       "      <td>0</td>\n",
       "    </tr>\n",
       "    <tr>\n",
       "      <th>Togainu no Chi</th>\n",
       "      <td>2</td>\n",
       "      <td>0</td>\n",
       "    </tr>\n",
       "    <tr>\n",
       "      <th>Twin Star Exorcists</th>\n",
       "      <td>2</td>\n",
       "      <td>0</td>\n",
       "    </tr>\n",
       "    <tr>\n",
       "      <th>Valkyria Chronicles</th>\n",
       "      <td>2</td>\n",
       "      <td>0</td>\n",
       "    </tr>\n",
       "    <tr>\n",
       "      <th>Yona of the Dawn</th>\n",
       "      <td>2</td>\n",
       "      <td>0</td>\n",
       "    </tr>\n",
       "    <tr>\n",
       "      <th>Yozakura Quartet</th>\n",
       "      <td>2</td>\n",
       "      <td>0</td>\n",
       "    </tr>\n",
       "    <tr>\n",
       "      <th>Yu-Gi-Oh!</th>\n",
       "      <td>3</td>\n",
       "      <td>1</td>\n",
       "    </tr>\n",
       "    <tr>\n",
       "      <th>Zatch Bell!</th>\n",
       "      <td>4</td>\n",
       "      <td>0</td>\n",
       "    </tr>\n",
       "    <tr>\n",
       "      <th>Zetsuai 1989</th>\n",
       "      <td>2</td>\n",
       "      <td>0</td>\n",
       "    </tr>\n",
       "    <tr>\n",
       "      <th>Zipang</th>\n",
       "      <td>2</td>\n",
       "      <td>0</td>\n",
       "    </tr>\n",
       "  </tbody>\n",
       "</table>\n",
       "</div>"
      ],
      "text/plain": [
       "                                                 id  anidb_aid\n",
       "Berserk                                           2          0\n",
       "Deadman Wonderland                                2          1\n",
       "Desert Punk                                       3          0\n",
       "Digimon: The Movie                                2          0\n",
       "Dimension W                                       3          0\n",
       "Doraemon                                          2          0\n",
       "Dororo                                            2          0\n",
       "Fruits Basket                                     2          1\n",
       "Gestalt                                           2          0\n",
       "Ghost Talker's Daydream                           2          0\n",
       "Guin Saga                                         2          0\n",
       "Hanayamata                                        2          0\n",
       "Hero Tales                                        2          0\n",
       "Karneval                                          2          0\n",
       "Kekkaishi                                         2          0\n",
       "Knights of Sidonia                                2          0\n",
       "Kobato                                            2          0\n",
       "Lunar Legend Tsukihime                            2          0\n",
       "Lupin the IIIrd: Chikemuri no Ishikawa Goemon     2          1\n",
       "Midori Days                                       2          0\n",
       "Monthly Girls' Nozaki-kun                         2          1\n",
       "Oh! My Goddess                                    2          0\n",
       "Paradise Kiss                                     2          0\n",
       "Princess Jellyfish                                2          0\n",
       "Pumpkin Scissors                                  2          0\n",
       "Sailor Moon                                       2          0\n",
       "Samurai Champloo                                  2          1\n",
       "Samurai Deeper Kyo                                2          0\n",
       "School-Live!                                      2          0\n",
       "Scrapped Princess                                 2          0\n",
       "Seraph of the End: Vampire Reign                  2          0\n",
       "Sorcerer Hunters                                  3          0\n",
       "The Asterisk War: The Academy City on the Water   9          0\n",
       "The Seven Deadly Sins                             2          1\n",
       "This Ugly Yet Beautiful World                     2          0\n",
       "Those Who Hunt Elves                              3          0\n",
       "Togainu no Chi                                    2          0\n",
       "Twin Star Exorcists                               2          0\n",
       "Valkyria Chronicles                               2          0\n",
       "Yona of the Dawn                                  2          0\n",
       "Yozakura Quartet                                  2          0\n",
       "Yu-Gi-Oh!                                         3          1\n",
       "Zatch Bell!                                       4          0\n",
       "Zetsuai 1989                                      2          0\n",
       "Zipang                                            2          0"
      ]
     },
     "execution_count": 100,
     "metadata": {},
     "output_type": "execute_result"
    }
   ],
   "source": [
    "import pandas as pd\n",
    "\n",
    "def nunique_nonzero(series):\n",
    "    return len(set(c for c in series if c))\n",
    "\n",
    "df = pd.DataFrame(Work.objects.filter(category__slug='anime').values('id', 'title', 'anidb_aid'))\n",
    "duplicates = df.groupby('title').agg({'id': 'count', 'anidb_aid': nunique_nonzero}).query('id > 1')\n",
    "\n",
    "print(f\"{len(duplicates)} clusters d'anime ont le même titre sur Mangaki\")\n",
    "duplicates.index.name = None\n",
    "duplicates"
   ]
  },
  {
   "cell_type": "code",
   "execution_count": 102,
   "metadata": {},
   "outputs": [],
   "source": [
    "VALID_MANGAKI_IDS = set(Work.objects.values_list('id', flat=True))\n",
    "# Non valide signifie que c'est déjà un doublon identifié"
   ]
  },
  {
   "cell_type": "markdown",
   "metadata": {},
   "source": [
    "## Même titre + des AniDB ID différents (ouf, zéro)"
   ]
  },
  {
   "cell_type": "code",
   "execution_count": 113,
   "metadata": {},
   "outputs": [
    {
     "data": {
      "text/plain": [
       "'321 œuvres ont un AniDB ID renseigné'"
      ]
     },
     "execution_count": 113,
     "metadata": {},
     "output_type": "execute_result"
    }
   ],
   "source": [
    "nb_with_anidb_aid = Work.objects.filter(anidb_aid__gt=0).count()\n",
    "f'{nb_with_anidb_aid} œuvres ont un AniDB ID renseigné'"
   ]
  },
  {
   "cell_type": "code",
   "execution_count": 111,
   "metadata": {},
   "outputs": [
    {
     "data": {
      "text/html": [
       "<div>\n",
       "<style scoped>\n",
       "    .dataframe tbody tr th:only-of-type {\n",
       "        vertical-align: middle;\n",
       "    }\n",
       "\n",
       "    .dataframe tbody tr th {\n",
       "        vertical-align: top;\n",
       "    }\n",
       "\n",
       "    .dataframe thead th {\n",
       "        text-align: right;\n",
       "    }\n",
       "</style>\n",
       "<table border=\"1\" class=\"dataframe\">\n",
       "  <thead>\n",
       "    <tr style=\"text-align: right;\">\n",
       "      <th></th>\n",
       "      <th>work_id</th>\n",
       "      <th>identifier</th>\n",
       "      <th>work_id__anidb_aid</th>\n",
       "    </tr>\n",
       "    <tr>\n",
       "      <th>title</th>\n",
       "      <th></th>\n",
       "      <th></th>\n",
       "      <th></th>\n",
       "    </tr>\n",
       "  </thead>\n",
       "  <tbody>\n",
       "    <tr>\n",
       "      <th>Grandeek</th>\n",
       "      <td>1</td>\n",
       "      <td>1</td>\n",
       "      <td>0</td>\n",
       "    </tr>\n",
       "  </tbody>\n",
       "</table>\n",
       "</div>"
      ],
      "text/plain": [
       "          work_id  identifier  work_id__anidb_aid\n",
       "title                                            \n",
       "Grandeek        1           1                   0"
      ]
     },
     "execution_count": 111,
     "metadata": {},
     "output_type": "execute_result"
    }
   ],
   "source": [
    "anidb_ids = pd.DataFrame(Reference.objects.filter(source='AniDB', work_id__category__slug='anime').values(\n",
    "    'identifier', 'work_id', 'work_id__title', 'work_id__anidb_aid')).rename(\n",
    "    columns={'work_id__title': 'title'})\n",
    "anidb_ids.groupby('title').agg({\n",
    "    'work_id': 'count',\n",
    "    'identifier': pd.Series.nunique,\n",
    "    'work_id__anidb_aid': nunique_nonzero\n",
    "}).query(\n",
    "    'identifier != work_id__anidb_aid').sort_values(['identifier', 'work_id'], ascending=(False, False))"
   ]
  },
  {
   "cell_type": "markdown",
   "metadata": {},
   "source": [
    "Grandeek a un objet `Reference` AniDB mais pas de champ `anidb_aid` rempli. Ce n'est pas bien grave."
   ]
  },
  {
   "cell_type": "markdown",
   "metadata": {},
   "source": [
    "## Même titre + des MAL ID différents"
   ]
  },
  {
   "cell_type": "code",
   "execution_count": 119,
   "metadata": {},
   "outputs": [
    {
     "name": "stdout",
     "output_type": "stream",
     "text": [
      "14 clusters de works ayant le même titre mais des MAL IDs différents\n"
     ]
    },
    {
     "data": {
      "text/html": [
       "<div>\n",
       "<style scoped>\n",
       "    .dataframe tbody tr th:only-of-type {\n",
       "        vertical-align: middle;\n",
       "    }\n",
       "\n",
       "    .dataframe tbody tr th {\n",
       "        vertical-align: top;\n",
       "    }\n",
       "\n",
       "    .dataframe thead th {\n",
       "        text-align: right;\n",
       "    }\n",
       "</style>\n",
       "<table border=\"1\" class=\"dataframe\">\n",
       "  <thead>\n",
       "    <tr style=\"text-align: right;\">\n",
       "      <th></th>\n",
       "      <th>work_id</th>\n",
       "      <th>identifier</th>\n",
       "    </tr>\n",
       "  </thead>\n",
       "  <tbody>\n",
       "    <tr>\n",
       "      <th>The Asterisk War: The Academy City on the Water</th>\n",
       "      <td>9</td>\n",
       "      <td>2</td>\n",
       "    </tr>\n",
       "    <tr>\n",
       "      <th>Berserk</th>\n",
       "      <td>4</td>\n",
       "      <td>2</td>\n",
       "    </tr>\n",
       "    <tr>\n",
       "      <th>Time of Eve</th>\n",
       "      <td>4</td>\n",
       "      <td>2</td>\n",
       "    </tr>\n",
       "    <tr>\n",
       "      <th>Digimon: The Movie</th>\n",
       "      <td>3</td>\n",
       "      <td>2</td>\n",
       "    </tr>\n",
       "    <tr>\n",
       "      <th>Sorcerer Hunters</th>\n",
       "      <td>3</td>\n",
       "      <td>2</td>\n",
       "    </tr>\n",
       "    <tr>\n",
       "      <th>Spice and Wolf II</th>\n",
       "      <td>3</td>\n",
       "      <td>2</td>\n",
       "    </tr>\n",
       "    <tr>\n",
       "      <th>Bakuman.</th>\n",
       "      <td>2</td>\n",
       "      <td>2</td>\n",
       "    </tr>\n",
       "    <tr>\n",
       "      <th>Doraemon</th>\n",
       "      <td>2</td>\n",
       "      <td>2</td>\n",
       "    </tr>\n",
       "    <tr>\n",
       "      <th>Dororo</th>\n",
       "      <td>2</td>\n",
       "      <td>2</td>\n",
       "    </tr>\n",
       "    <tr>\n",
       "      <th>Gangsta.</th>\n",
       "      <td>2</td>\n",
       "      <td>2</td>\n",
       "    </tr>\n",
       "    <tr>\n",
       "      <th>Gestalt</th>\n",
       "      <td>2</td>\n",
       "      <td>2</td>\n",
       "    </tr>\n",
       "    <tr>\n",
       "      <th>Karneval</th>\n",
       "      <td>2</td>\n",
       "      <td>2</td>\n",
       "    </tr>\n",
       "    <tr>\n",
       "      <th>Nanana's Buried Treasure</th>\n",
       "      <td>2</td>\n",
       "      <td>2</td>\n",
       "    </tr>\n",
       "    <tr>\n",
       "      <th>Sankarea: I, Too, Am... A Zombie...</th>\n",
       "      <td>2</td>\n",
       "      <td>2</td>\n",
       "    </tr>\n",
       "  </tbody>\n",
       "</table>\n",
       "</div>"
      ],
      "text/plain": [
       "                                                 work_id  identifier\n",
       "The Asterisk War: The Academy City on the Water        9           2\n",
       "Berserk                                                4           2\n",
       "Time of Eve                                            4           2\n",
       "Digimon: The Movie                                     3           2\n",
       "Sorcerer Hunters                                       3           2\n",
       "Spice and Wolf II                                      3           2\n",
       "Bakuman.                                               2           2\n",
       "Doraemon                                               2           2\n",
       "Dororo                                                 2           2\n",
       "Gangsta.                                               2           2\n",
       "Gestalt                                                2           2\n",
       "Karneval                                               2           2\n",
       "Nanana's Buried Treasure                               2           2\n",
       "Sankarea: I, Too, Am... A Zombie...                    2           2"
      ]
     },
     "execution_count": 119,
     "metadata": {},
     "output_type": "execute_result"
    }
   ],
   "source": [
    "mal_ids = pd.DataFrame(Reference.objects.filter(source='MAL', work_id__category__slug='anime').values(\n",
    "    'identifier', 'work_id', 'work_id__title')).rename(\n",
    "    columns={'work_id__title': 'title'})\n",
    "mal_duplicates = mal_ids.groupby('title').agg({'work_id': 'count', 'identifier': pd.Series.nunique}).query(\n",
    "    'identifier > 1').sort_values(['identifier', 'work_id'], ascending=(False, False))\n",
    "print(f'{len(mal_duplicates)} clusters de works ayant le même titre mais des MAL IDs différents')\n",
    "mal_duplicates.index.name = None\n",
    "mal_duplicates"
   ]
  },
  {
   "cell_type": "markdown",
   "metadata": {},
   "source": [
    "Par exemple, il y a 4 œuvres Berserk qui ont le même titre mais 2 MAL IDs différents :"
   ]
  },
  {
   "cell_type": "code",
   "execution_count": 120,
   "metadata": {},
   "outputs": [
    {
     "data": {
      "text/html": [
       "<div>\n",
       "<style scoped>\n",
       "    .dataframe tbody tr th:only-of-type {\n",
       "        vertical-align: middle;\n",
       "    }\n",
       "\n",
       "    .dataframe tbody tr th {\n",
       "        vertical-align: top;\n",
       "    }\n",
       "\n",
       "    .dataframe thead th {\n",
       "        text-align: right;\n",
       "    }\n",
       "</style>\n",
       "<table border=\"1\" class=\"dataframe\">\n",
       "  <thead>\n",
       "    <tr style=\"text-align: right;\">\n",
       "      <th></th>\n",
       "      <th>identifier</th>\n",
       "      <th>work_id</th>\n",
       "      <th>title</th>\n",
       "    </tr>\n",
       "  </thead>\n",
       "  <tbody>\n",
       "    <tr>\n",
       "      <th>8516</th>\n",
       "      <td>33</td>\n",
       "      <td>3409</td>\n",
       "      <td>Berserk</td>\n",
       "    </tr>\n",
       "    <tr>\n",
       "      <th>10073</th>\n",
       "      <td>32379</td>\n",
       "      <td>15174</td>\n",
       "      <td>Berserk</td>\n",
       "    </tr>\n",
       "    <tr>\n",
       "      <th>10585</th>\n",
       "      <td>32379</td>\n",
       "      <td>14516</td>\n",
       "      <td>Berserk</td>\n",
       "    </tr>\n",
       "    <tr>\n",
       "      <th>10586</th>\n",
       "      <td>32379</td>\n",
       "      <td>14327</td>\n",
       "      <td>Berserk</td>\n",
       "    </tr>\n",
       "  </tbody>\n",
       "</table>\n",
       "</div>"
      ],
      "text/plain": [
       "      identifier  work_id    title\n",
       "8516          33     3409  Berserk\n",
       "10073      32379    15174  Berserk\n",
       "10585      32379    14516  Berserk\n",
       "10586      32379    14327  Berserk"
      ]
     },
     "execution_count": 120,
     "metadata": {},
     "output_type": "execute_result"
    }
   ],
   "source": [
    "mal_ids.query('title == \"Berserk\"')"
   ]
  },
  {
   "cell_type": "markdown",
   "metadata": {},
   "source": [
    "Pour ceux-là il faut voir au cas par cas. En fait le MAL ID 33 correspond à Berserk (2016) qui est sûrement moins bien noté que l'original."
   ]
  },
  {
   "cell_type": "markdown",
   "metadata": {},
   "source": [
    "# Mangaki + Manami"
   ]
  },
  {
   "cell_type": "code",
   "execution_count": 121,
   "metadata": {},
   "outputs": [],
   "source": [
    "import json\n",
    "\n",
    "with open('../../anime-offline-database/anime-offline-database.json') as f:\n",
    "    manami = json.load(f)"
   ]
  },
  {
   "cell_type": "code",
   "execution_count": 122,
   "metadata": {},
   "outputs": [
    {
     "data": {
      "text/plain": [
       "24018"
      ]
     },
     "execution_count": 122,
     "metadata": {},
     "output_type": "execute_result"
    }
   ],
   "source": [
    "len(manami['data'])"
   ]
  },
  {
   "cell_type": "code",
   "execution_count": 123,
   "metadata": {},
   "outputs": [
    {
     "data": {
      "text/plain": [
       "10996"
      ]
     },
     "execution_count": 123,
     "metadata": {},
     "output_type": "execute_result"
    }
   ],
   "source": [
    "mangaki = Work.objects.filter(category__slug='anime')\n",
    "mangaki.count()  # Sur Mangaki"
   ]
  },
  {
   "cell_type": "code",
   "execution_count": 124,
   "metadata": {},
   "outputs": [
    {
     "data": {
      "text/plain": [
       "{'sources': ['https://anidb.net/anime/8699',\n",
       "  'https://anilist.co/anime/11755',\n",
       "  'https://kitsu.io/anime/6588',\n",
       "  'https://myanimelist.net/anime/11755',\n",
       "  'https://notify.moe/anime/nX_ItFiiR'],\n",
       " 'title': '009 Re:Cyborg',\n",
       " 'type': 'Movie',\n",
       " 'episodes': 1,\n",
       " 'status': 'FINISHED',\n",
       " 'picture': 'https://cdn.myanimelist.net/images/anime/9/40189.jpg',\n",
       " 'thumbnail': 'https://cdn.myanimelist.net/images/anime/9/40189t.jpg',\n",
       " 'synonyms': ['009 RE:CYBORG', 'ぜろぜろないん り・さいぼーぐ'],\n",
       " 'relations': ['https://anidb.net/anime/1214',\n",
       "  'https://anidb.net/anime/12277',\n",
       "  'https://anidb.net/anime/1527',\n",
       "  'https://anidb.net/anime/7994',\n",
       "  'https://anilist.co/anime/1678',\n",
       "  'https://anilist.co/anime/4690',\n",
       "  'https://anilist.co/anime/8394',\n",
       "  'https://kitsu.io/anime/12326',\n",
       "  'https://kitsu.io/anime/12397',\n",
       "  'https://kitsu.io/anime/12410',\n",
       "  'https://kitsu.io/anime/12543',\n",
       "  'https://kitsu.io/anime/1508',\n",
       "  'https://kitsu.io/anime/3741',\n",
       "  'https://kitsu.io/anime/7868',\n",
       "  'https://myanimelist.net/anime/1678',\n",
       "  'https://myanimelist.net/anime/32736',\n",
       "  'https://myanimelist.net/anime/32737',\n",
       "  'https://myanimelist.net/anime/33163',\n",
       "  'https://myanimelist.net/anime/33685',\n",
       "  'https://myanimelist.net/anime/4690',\n",
       "  'https://myanimelist.net/anime/8394',\n",
       "  'https://notify.moe/anime/5hFk2FiiR',\n",
       "  'https://notify.moe/anime/8gWB5KimR',\n",
       "  'https://notify.moe/anime/FnzzhKmiR',\n",
       "  'https://notify.moe/anime/P_DkhFimg',\n",
       "  'https://notify.moe/anime/ZKnr5KiiR',\n",
       "  'https://notify.moe/anime/jgezhKmiR',\n",
       "  'https://notify.moe/anime/wG_ptKimR']}"
      ]
     },
     "execution_count": 124,
     "metadata": {},
     "output_type": "execute_result"
    }
   ],
   "source": [
    "manami['data'][42]"
   ]
  },
  {
   "cell_type": "code",
   "execution_count": 125,
   "metadata": {},
   "outputs": [
    {
     "data": {
      "text/plain": [
       "94422"
      ]
     },
     "execution_count": 125,
     "metadata": {},
     "output_type": "execute_result"
    }
   ],
   "source": [
    "from collections import defaultdict\n",
    "import re\n",
    "\n",
    "references = set()\n",
    "url1 = defaultdict(list)\n",
    "\n",
    "# Get all sources of Manami entries\n",
    "for manami_id, entry in enumerate(manami['data']):\n",
    "    references.add('manami/{}'.format(manami_id))\n",
    "    for url in entry['sources']:\n",
    "        ref = re.sub(r'https?://', '', url)\n",
    "        references.add(ref)\n",
    "        url1[manami_id].append(ref)\n",
    "len(references)"
   ]
  },
  {
   "cell_type": "code",
   "execution_count": 126,
   "metadata": {},
   "outputs": [
    {
     "data": {
      "text/plain": [
       "107203"
      ]
     },
     "execution_count": 126,
     "metadata": {},
     "output_type": "execute_result"
    }
   ],
   "source": [
    "url2 = defaultdict(set)\n",
    "\n",
    "# Mangaki works with AniDB ID\n",
    "anidb_id = dict(Work.objects.filter(anidb_aid__gt=0).values_list('id', 'anidb_aid'))\n",
    "for mangaki_id, aid in anidb_id.items():\n",
    "    ref1 = 'mangaki.fr/work/{}'.format(mangaki_id)\n",
    "    ref2 = 'anidb.net/anime/{}'.format(aid)\n",
    "    references.update([ref1, ref2])\n",
    "    url2[mangaki_id].update([ref1, ref2])\n",
    "\n",
    "# All Mangaki references\n",
    "for mangaki_id, url in Reference.objects.values_list('work_id', 'url'):\n",
    "    ref1 = 'mangaki.fr/work/{}'.format(mangaki_id)\n",
    "    ref2 = re.sub(r'https?://', '', url).replace('anidb.net/perl-bin/animedb.pl?show=anime&aid=', 'anidb.net/anime/')\n",
    "    references.update([ref1, ref2])\n",
    "    url2[mangaki_id].update([ref1, ref2])\n",
    "len(references)"
   ]
  },
  {
   "cell_type": "code",
   "execution_count": 127,
   "metadata": {},
   "outputs": [],
   "source": [
    "ids = dict(zip(sorted(references), range(len(references))))"
   ]
  },
  {
   "cell_type": "code",
   "execution_count": 128,
   "metadata": {},
   "outputs": [
    {
     "data": {
      "text/plain": [
       "['anidb.net/anime/1',\n",
       " 'anidb.net/anime/10',\n",
       " 'anidb.net/anime/100',\n",
       " 'anidb.net/anime/1000',\n",
       " 'anidb.net/anime/10000']"
      ]
     },
     "execution_count": 128,
     "metadata": {},
     "output_type": "execute_result"
    }
   ],
   "source": [
    "list(ids.keys())[:5]"
   ]
  },
  {
   "cell_type": "code",
   "execution_count": 129,
   "metadata": {},
   "outputs": [
    {
     "data": {
      "text/plain": [
       "70404"
      ]
     },
     "execution_count": 129,
     "metadata": {},
     "output_type": "execute_result"
    }
   ],
   "source": [
    "from tryalgo.kruskal import UnionFind\n",
    "\n",
    "uf = UnionFind(len(references))\n",
    "nb_merge = 0\n",
    "for manami_id, refs in url1.items():\n",
    "    for ref in refs:\n",
    "        nb_merge += uf.union(ids[ref], ids['manami/{}'.format(manami_id)])\n",
    "nb_merge"
   ]
  },
  {
   "cell_type": "code",
   "execution_count": 137,
   "metadata": {},
   "outputs": [
    {
     "data": {
      "text/plain": [
       "'82507 fusions : 322/11976 avaient un ID AniDB (2.7 %)'"
      ]
     },
     "execution_count": 137,
     "metadata": {},
     "output_type": "execute_result"
    }
   ],
   "source": [
    "nb_has_anidb = 0\n",
    "for mangaki_id, refs in url2.items():\n",
    "    has_anidb = False\n",
    "    for ref in refs:\n",
    "        if 'anidb' in ref:\n",
    "            has_anidb = True\n",
    "        nb_merge += uf.union(ids[ref], ids['mangaki.fr/work/{}'.format(mangaki_id)])\n",
    "    nb_has_anidb += has_anidb\n",
    "f'{nb_merge} fusions : {nb_has_anidb}/{len(url2)} avaient un ID AniDB ({nb_has_anidb/len(url2) * 100:.1f} %)'"
   ]
  },
  {
   "cell_type": "code",
   "execution_count": 16,
   "metadata": {},
   "outputs": [
    {
     "data": {
      "text/plain": [
       "24696"
      ]
     },
     "execution_count": 16,
     "metadata": {},
     "output_type": "execute_result"
    }
   ],
   "source": [
    "clusters = defaultdict(list)\n",
    "for ref, ref_id in ids.items():\n",
    "    clusters[uf.find(ref_id)].append(ref)\n",
    "len(clusters)"
   ]
  },
  {
   "cell_type": "code",
   "execution_count": 138,
   "metadata": {},
   "outputs": [
    {
     "name": "stdout",
     "output_type": "stream",
     "text": [
      "['anidb.net/anime/4932', 'kitsu.io/anime/2357', 'kitsu.io/anime/3248', 'kitsu.io/anime/3249', 'kitsu.io/anime/3545', 'kitsu.io/anime/3546', 'manami/5990', 'manami/9868', 'manami/9869', 'manami/9870', 'manami/9871', 'manami/9872', 'manami/9874', 'mangaki.fr/work/1374', 'mangaki.fr/work/1375', 'mangaki.fr/work/1376', 'mangaki.fr/work/1377', 'mangaki.fr/work/1378', 'mangaki.fr/work/1381', 'mangaki.fr/work/14626', 'mangaki.fr/work/14629', 'myanimelist.net/anime/2593', 'myanimelist.net/anime/3782', 'myanimelist.net/anime/3783', 'myanimelist.net/anime/4280', 'myanimelist.net/anime/4282', 'myanimelist.net/anime/5205', 'notify.moe/anime/6AbXcFmiR', 'notify.moe/anime/Pz0l5Fmig', 'notify.moe/anime/RNxu5Kmmg', 'notify.moe/anime/TxDs5KmiR', 'notify.moe/anime/Y8T_cKmmR']\n"
     ]
    },
    {
     "data": {
      "text/plain": [
       "(Counter({(1, 1): 9935,\n",
       "          (0, 1): 13529,\n",
       "          (2, 1): 427,\n",
       "          (1, 2): 29,\n",
       "          (2, 2): 14,\n",
       "          (3, 1): 12,\n",
       "          (5, 1): 1,\n",
       "          (3, 2): 3,\n",
       "          (4, 3): 1,\n",
       "          (8, 7): 1,\n",
       "          (1, 3): 1,\n",
       "          (4, 1): 2,\n",
       "          (3, 4): 1,\n",
       "          (2, 3): 1,\n",
       "          (1, 0): 733,\n",
       "          (2, 0): 6}),\n",
       " 463,\n",
       " 51,\n",
       " 42910)"
      ]
     },
     "execution_count": 138,
     "metadata": {},
     "output_type": "execute_result"
    }
   ],
   "source": [
    "from collections import Counter\n",
    "\n",
    "c = Counter()\n",
    "clusters_by_occ = defaultdict(list)\n",
    "\n",
    "nb_cdup_mangaki = 0\n",
    "nb_cdup_manami = 0\n",
    "total_ref = 0\n",
    "search_queries = []\n",
    "mangaki_not_manami = set()\n",
    "for cluster in clusters.values():\n",
    "    mangaki_refs = [ref for ref in cluster if ref.startswith('mangaki') and get_mangaki_id(ref) in VALID_MANGAKI_IDS]\n",
    "    nb_mangaki = len(mangaki_refs)\n",
    "    nb_manami = len([ref for ref in cluster if ref.startswith('manami')])\n",
    "    if nb_mangaki > 0:\n",
    "        total_ref += len(cluster) - nb_mangaki - nb_manami\n",
    "    if nb_mangaki >= 2 and nb_manami >= 1:\n",
    "        nb_cdup_mangaki += 1\n",
    "    if nb_manami >= 2 and nb_mangaki >= 1:\n",
    "        nb_cdup_manami += 1\n",
    "    # if nb_mangaki + nb_manami >= 14:\n",
    "    #     print(cluster)  # It was Kara no Kyoukai\n",
    "    if nb_mangaki + nb_manami >= 12:\n",
    "        print(cluster)\n",
    "    if nb_mangaki >= 3 or nb_manami >= 3:  # Have to analyze\n",
    "        clusters_by_occ[nb_mangaki, nb_manami].append(cluster)\n",
    "    if nb_mangaki == 0 and nb_manami == 1:\n",
    "        manami_url = [ref for ref in cluster if ref.startswith('manami')][0]\n",
    "        manami_id = get_manami_id(manami_url)\n",
    "        search_queries.append(manami['data'][manami_id]['title'])  # In Manami but not in Mangaki\n",
    "    if nb_manami == 0:\n",
    "        for url in mangaki_refs:\n",
    "            mangaki_id = get_mangaki_id(url)\n",
    "            mangaki_not_manami.add(mangaki_id)\n",
    "    c[nb_mangaki, nb_manami] += 1\n",
    "c, nb_cdup_mangaki, nb_cdup_manami, total_ref"
   ]
  },
  {
   "cell_type": "code",
   "execution_count": 140,
   "metadata": {},
   "outputs": [
    {
     "name": "stdout",
     "output_type": "stream",
     "text": [
      "CPU times: user 39.5 ms, sys: 11.7 ms, total: 51.2 ms\n",
      "Wall time: 2.1 s\n"
     ]
    }
   ],
   "source": [
    "%%time\n",
    "\n",
    "# This is long. Don't do this.\n",
    "'''\n",
    "search_results = Counter()\n",
    "print(len(search_queries))\n",
    "for title in search_queries:\n",
    "    nb_results = Work.objects.filter(title=title).count()\n",
    "    search_results[nb_results] += 1\n",
    "search_results'''\n",
    "# Counter({0: 12849, 1: 663, 2: 13, 3: 4})\n",
    "\n",
    "ids_found_in_mangaki = set(Work.objects.filter(title__in=search_queries).values_list('id', flat=True))"
   ]
  },
  {
   "cell_type": "code",
   "execution_count": 141,
   "metadata": {},
   "outputs": [
    {
     "data": {
      "text/plain": [
       "673"
      ]
     },
     "execution_count": 141,
     "metadata": {},
     "output_type": "execute_result"
    }
   ],
   "source": [
    "len(ids_found_in_mangaki)"
   ]
  },
  {
   "cell_type": "code",
   "execution_count": 143,
   "metadata": {},
   "outputs": [
    {
     "data": {
      "text/plain": [
       "44"
      ]
     },
     "execution_count": 143,
     "metadata": {},
     "output_type": "execute_result"
    }
   ],
   "source": [
    "paired = ids_found_in_mangaki & mangaki_not_manami\n",
    "len(paired)"
   ]
  },
  {
   "cell_type": "code",
   "execution_count": 145,
   "metadata": {},
   "outputs": [
    {
     "data": {
      "text/plain": [
       "<WorkQuerySet [<Work: Azumanga Daioh>, <Work: Sora no Otoshimono>, <Work: Doraemon: Summer Holiday>, <Work: Maria†Holic Alive Special>, <Work: Beelzebub: Sakigake!! Beel to Shinsengumi>, <Work: Hidamari Sketch x Honeycomb Specials>, <Work: Transformers Generation 1>, <Work: Saiunkoku Monogatari Specials>, <Work: Beelzebub: Kaiketsu!! Beel-bo Meitantei Suiri>, <Work: Ginga Hyouryuu Vifam: Atsumatta 13-nin>, <Work: Toilet no Kamisama>, <Work: Manyuu Hikenchou Picture Drama>, <Work: Saru Kani Gassen>, <Work: Chou Seimeitai Transformers Beast Wars Metals: Convoy Daihenshin!>, <Work: Kitakubu Katsudou Kiroku: Miniature Theater>, <Work: One Piece: Romance Dawn>, <Work: One More Time, One More Chance>, <Work: Mazinger Z vs. Dr. Hell>, <Work: Nurse Witch Komugi-chan Magikarte Z Special>, <Work: Gundam Build Fighters OVA>, '...(remaining elements truncated)...']>"
      ]
     },
     "execution_count": 145,
     "metadata": {},
     "output_type": "execute_result"
    }
   ],
   "source": [
    "Work.objects.filter(id__in=paired)"
   ]
  },
  {
   "cell_type": "code",
   "execution_count": 156,
   "metadata": {},
   "outputs": [
    {
     "name": "stdout",
     "output_type": "stream",
     "text": [
      "701 to pair\n",
      "<QuerySet [<WorkTitle: Young Bride's Story (source: mal, type: synonym) attached to A Bride's Story>, <WorkTitle: Otoyome-gatari (source: mal, type: synonym) attached to A Bride's Story>, <WorkTitle: The Bride's Stories (source: mal, type: synonym) attached to A Bride's Story>, <WorkTitle: Pariya-san wa Otoshigoro (source: mal, type: synonym) attached to A Bride's Story>, <WorkTitle: A Bride's Story - en (source: mal, type: main) attached to A Bride's Story>]>\n"
     ]
    }
   ],
   "source": [
    "nb_in_mangaki_not_manami_hard_to_pair = len(mangaki_not_manami - paired)\n",
    "print(nb_in_mangaki_not_manami_hard_to_pair, 'to pair')\n",
    "\n",
    "for work in Work.objects.filter(id__in=mangaki_not_manami - paired):\n",
    "    if work.worktitle_set.all():\n",
    "        print(work.worktitle_set.all())\n",
    "        break"
   ]
  },
  {
   "cell_type": "code",
   "execution_count": 38,
   "metadata": {},
   "outputs": [],
   "source": [
    "def get_mangaki_id(url):\n",
    "    return int(url[len('mangaki.fr/work/'):])\n",
    "\n",
    "def get_manami_id(url):\n",
    "    return int(url[len('manami/'):])\n",
    "\n",
    "def translate_url(url):\n",
    "    if url.startswith('mangaki'):\n",
    "        mangaki_id = get_mangaki_id(url)\n",
    "        return f'mangaki:{Work.objects.get(id=mangaki_id).title}'\n",
    "    if url.startswith('manami'):\n",
    "        manami_id = get_manami_id(url)\n",
    "        return f'manami:{manami[\"data\"][manami_id][\"title\"]}'\n",
    "    return url\n",
    "\n",
    "for key in clusters_by_occ:\n",
    "    print(key)\n",
    "    for cluster in clusters_by_occ[key]:\n",
    "        print([translate_url(url) for url in cluster])"
   ]
  },
  {
   "cell_type": "code",
   "execution_count": 18,
   "metadata": {},
   "outputs": [
    {
     "data": {
      "text/plain": [
       "<WorkQuerySet [<Work: Puella Magi Madoka Magica the Movie Part 2: Eternal>]>"
      ]
     },
     "execution_count": 18,
     "metadata": {},
     "output_type": "execute_result"
    }
   ],
   "source": [
    "Work.all_objects.filter(id=15307)"
   ]
  },
  {
   "cell_type": "code",
   "execution_count": 19,
   "metadata": {},
   "outputs": [
    {
     "data": {
      "text/plain": [
       "(Counter({(1, 1): 5384,\n",
       "          (0, 1): 5414,\n",
       "          (2, 1): 315,\n",
       "          (3, 1): 40,\n",
       "          (4, 1): 8,\n",
       "          (5, 1): 2,\n",
       "          (3, 2): 4,\n",
       "          (4, 2): 1,\n",
       "          (8, 1): 2,\n",
       "          (1, 0): 5084,\n",
       "          (0, 0): 8115,\n",
       "          (2, 0): 303,\n",
       "          (3, 0): 18,\n",
       "          (4, 0): 6}),\n",
       " '5756/11167 désormais')"
      ]
     },
     "execution_count": 19,
     "metadata": {},
     "output_type": "execute_result"
    }
   ],
   "source": [
    "from collections import Counter\n",
    "\n",
    "c2 = Counter()\n",
    "nb_with_anidb = 0\n",
    "nb_c_mangaki = 0\n",
    "for cluster in clusters.values():\n",
    "    nb_mangaki = len([ref for ref in cluster if ref.startswith('mangaki')])\n",
    "    nb_anidb = len([ref for ref in cluster if ref.startswith('anidb')])\n",
    "    if nb_mangaki > 0:\n",
    "        nb_c_mangaki += 1\n",
    "        if nb_anidb > 0:\n",
    "            nb_with_anidb += 1\n",
    "    c2[nb_mangaki, nb_anidb] += 1\n",
    "c2, '{}/{} désormais'.format(nb_with_anidb, nb_c_mangaki)"
   ]
  },
  {
   "cell_type": "code",
   "execution_count": 21,
   "metadata": {},
   "outputs": [
    {
     "data": {
      "text/plain": [
       "0.5154473000805946"
      ]
     },
     "execution_count": 21,
     "metadata": {},
     "output_type": "execute_result"
    }
   ],
   "source": [
    "5756/11167"
   ]
  },
  {
   "cell_type": "code",
   "execution_count": 22,
   "metadata": {},
   "outputs": [
    {
     "data": {
      "text/plain": [
       "12020"
      ]
     },
     "execution_count": 22,
     "metadata": {},
     "output_type": "execute_result"
    }
   ],
   "source": [
    "Reference.objects.count()"
   ]
  }
 ],
 "metadata": {
  "kernelspec": {
   "display_name": "Django Shell-Plus",
   "language": "python",
   "name": "django_extensions"
  },
  "language_info": {
   "codemirror_mode": {
    "name": "ipython",
    "version": 3
   },
   "file_extension": ".py",
   "mimetype": "text/x-python",
   "name": "python",
   "nbconvert_exporter": "python",
   "pygments_lexer": "ipython3",
   "version": "3.8.2"
  }
 },
 "nbformat": 4,
 "nbformat_minor": 2
}
