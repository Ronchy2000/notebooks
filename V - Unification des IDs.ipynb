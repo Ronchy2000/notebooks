{
 "cells": [
  {
   "cell_type": "code",
   "execution_count": 1,
   "metadata": {},
   "outputs": [],
   "source": [
    "import json\n",
    "\n",
    "with open('../../anime-offline-database/anime-offline-database.json') as f:\n",
    "    manami = json.load(f)"
   ]
  },
  {
   "cell_type": "code",
   "execution_count": 75,
   "metadata": {},
   "outputs": [
    {
     "data": {
      "text/plain": [
       "30472"
      ]
     },
     "execution_count": 75,
     "metadata": {},
     "output_type": "execute_result"
    }
   ],
   "source": [
    "len(manami['data'])"
   ]
  },
  {
   "cell_type": "code",
   "execution_count": 76,
   "metadata": {},
   "outputs": [
    {
     "data": {
      "text/plain": [
       "10987"
      ]
     },
     "execution_count": 76,
     "metadata": {},
     "output_type": "execute_result"
    }
   ],
   "source": [
    "mangaki = Work.objects.filter(category__slug='anime')\n",
    "mangaki.count()  # Sur Mangaki"
   ]
  },
  {
   "cell_type": "code",
   "execution_count": 77,
   "metadata": {},
   "outputs": [
    {
     "data": {
      "text/plain": [
       "{'sources': ['https://anidb.net/anime/8606'],\n",
       " 'type': 'Movie',\n",
       " 'title': '.hack//Sekai no Mukou ni',\n",
       " 'picture': 'https://cdn.anidb.net/images/main/221181.jpg',\n",
       " 'relations': ['https://anidb.net/anime/7883'],\n",
       " 'thumbnail': 'https://img7.anidb.net/pics/anime/thumbs/50x65/221181.jpg-thumb.jpg',\n",
       " 'episodes': 1,\n",
       " 'synonyms': ['.hack//Beyond the World',\n",
       "  '.hack//The Movie',\n",
       "  '.hack//Versus: The Thanatos Report',\n",
       "  '.злам// Поза «World`-ом»',\n",
       "  'Злам - Поза Світом',\n",
       "  'ドット ハック',\n",
       "  'ドット ハック セカイの向こうに',\n",
       "  'ドットハック セカイの向こうに']}"
      ]
     },
     "execution_count": 77,
     "metadata": {},
     "output_type": "execute_result"
    }
   ],
   "source": [
    "manami['data'][42]"
   ]
  },
  {
   "cell_type": "code",
   "execution_count": 85,
   "metadata": {},
   "outputs": [
    {
     "data": {
      "text/plain": [
       "84255"
      ]
     },
     "execution_count": 85,
     "metadata": {},
     "output_type": "execute_result"
    }
   ],
   "source": [
    "from collections import defaultdict\n",
    "import re\n",
    "\n",
    "references = set()\n",
    "url1 = defaultdict(list)\n",
    "\n",
    "for manami_id, entry in enumerate(manami['data']):\n",
    "    references.add('manami/{}'.format(manami_id))\n",
    "    for url in entry['sources']:\n",
    "        ref = re.sub(r'https?://', '', url)\n",
    "        references.add(ref)\n",
    "        url1[manami_id].append(ref)\n",
    "len(references)"
   ]
  },
  {
   "cell_type": "code",
   "execution_count": 86,
   "metadata": {},
   "outputs": [
    {
     "data": {
      "text/plain": [
       "97013"
      ]
     },
     "execution_count": 86,
     "metadata": {},
     "output_type": "execute_result"
    }
   ],
   "source": [
    "url2 = defaultdict(set)\n",
    "\n",
    "anidb_id = dict(Work.objects.filter(anidb_aid__gt=0).values_list('id', 'anidb_aid'))\n",
    "for mangaki_id, aid in anidb_id.items():\n",
    "    ref1 = 'mangaki.fr/work/{}'.format(mangaki_id)\n",
    "    ref2 = 'anidb.net/anime/{}'.format(aid)\n",
    "    references.update([ref1, ref2])\n",
    "    url2[mangaki_id].update([ref1, ref2])\n",
    "\n",
    "for mangaki_id, url in Reference.objects.values_list('work_id', 'url'):\n",
    "    ref1 = 'mangaki.fr/work/{}'.format(mangaki_id)\n",
    "    ref2 = re.sub(r'https?://', '', url).replace('anidb.net/perl-bin/animedb.pl?show=anime&aid=', 'anidb.net/anime/')\n",
    "    references.update([ref1, ref2])\n",
    "    url2[mangaki_id].update([ref1, ref2])\n",
    "len(references)"
   ]
  },
  {
   "cell_type": "code",
   "execution_count": 87,
   "metadata": {},
   "outputs": [],
   "source": [
    "ids = dict(zip(sorted(references), range(len(references))))"
   ]
  },
  {
   "cell_type": "code",
   "execution_count": 88,
   "metadata": {},
   "outputs": [
    {
     "data": {
      "text/plain": [
       "['anidb.net/anime/1',\n",
       " 'anidb.net/anime/10',\n",
       " 'anidb.net/anime/100',\n",
       " 'anidb.net/anime/1000',\n",
       " 'anidb.net/anime/10000']"
      ]
     },
     "execution_count": 88,
     "metadata": {},
     "output_type": "execute_result"
    }
   ],
   "source": [
    "list(ids.keys())[:5]"
   ]
  },
  {
   "cell_type": "code",
   "execution_count": 89,
   "metadata": {},
   "outputs": [
    {
     "data": {
      "text/plain": [
       "53783"
      ]
     },
     "execution_count": 89,
     "metadata": {},
     "output_type": "execute_result"
    }
   ],
   "source": [
    "from tryalgo.kruskal import UnionFind\n",
    "\n",
    "uf = UnionFind(len(references))\n",
    "nb_merge = 0\n",
    "for manami_id, refs in url1.items():\n",
    "    for ref in refs:\n",
    "        nb_merge += uf.union(ids[ref], ids['manami/{}'.format(manami_id)])\n",
    "nb_merge"
   ]
  },
  {
   "cell_type": "code",
   "execution_count": 90,
   "metadata": {},
   "outputs": [
    {
     "data": {
      "text/plain": [
       "(65980, '313/11967 has AniDB reference')"
      ]
     },
     "execution_count": 90,
     "metadata": {},
     "output_type": "execute_result"
    }
   ],
   "source": [
    "nb_has_anidb = 0\n",
    "for mangaki_id, refs in url2.items():\n",
    "    has_anidb = False\n",
    "    for ref in refs:\n",
    "        if 'anidb' in ref:\n",
    "            has_anidb = True\n",
    "        nb_merge += uf.union(ids[ref], ids['mangaki.fr/work/{}'.format(mangaki_id)])\n",
    "    nb_has_anidb += has_anidb\n",
    "nb_merge, '{}/{} has AniDB reference'.format(nb_has_anidb, len(url2))"
   ]
  },
  {
   "cell_type": "code",
   "execution_count": 91,
   "metadata": {},
   "outputs": [
    {
     "data": {
      "text/plain": [
       "0.026155260299156012"
      ]
     },
     "execution_count": 91,
     "metadata": {},
     "output_type": "execute_result"
    }
   ],
   "source": [
    "313/11967"
   ]
  },
  {
   "cell_type": "code",
   "execution_count": 92,
   "metadata": {},
   "outputs": [
    {
     "data": {
      "text/plain": [
       "31033"
      ]
     },
     "execution_count": 92,
     "metadata": {},
     "output_type": "execute_result"
    }
   ],
   "source": [
    "clusters = defaultdict(list)\n",
    "for ref, ref_id in ids.items():\n",
    "    clusters[uf.find(ref_id)].append(ref)\n",
    "len(clusters)"
   ]
  },
  {
   "cell_type": "code",
   "execution_count": 103,
   "metadata": {},
   "outputs": [
    {
     "data": {
      "text/plain": [
       "(Counter({(0, 1): 19856,\n",
       "          (1, 1): 9676,\n",
       "          (1, 2): 97,\n",
       "          (2, 1): 554,\n",
       "          (3, 2): 12,\n",
       "          (2, 2): 41,\n",
       "          (3, 1): 47,\n",
       "          (8, 7): 1,\n",
       "          (3, 3): 2,\n",
       "          (5, 3): 1,\n",
       "          (4, 2): 1,\n",
       "          (8, 4): 1,\n",
       "          (2, 3): 1,\n",
       "          (4, 1): 13,\n",
       "          (5, 1): 1,\n",
       "          (1, 0): 721,\n",
       "          (2, 0): 8}),\n",
       " 675,\n",
       " 157,\n",
       " 27293)"
      ]
     },
     "execution_count": 103,
     "metadata": {},
     "output_type": "execute_result"
    }
   ],
   "source": [
    "from collections import Counter\n",
    "\n",
    "c = Counter()\n",
    "nb_cdup_mangaki = 0\n",
    "nb_cdup_manami = 0\n",
    "total_ref = 0\n",
    "for cluster in clusters.values():\n",
    "    nb_mangaki = len([ref for ref in cluster if ref.startswith('mangaki')])\n",
    "    nb_manami = len([ref for ref in cluster if ref.startswith('manami')])\n",
    "    if nb_mangaki > 0:\n",
    "        total_ref += len(cluster) - nb_mangaki - nb_manami\n",
    "    if nb_mangaki >= 2 and nb_manami >= 1:\n",
    "        nb_cdup_mangaki += 1\n",
    "    if nb_manami >= 2 and nb_mangaki >= 1:\n",
    "        nb_cdup_manami += 1\n",
    "    # if nb_mangaki + nb_manami >= 14:\n",
    "    #     print(cluster)  # It was Kara no Kyoukai\n",
    "    c[nb_mangaki, nb_manami] += 1\n",
    "c, nb_cdup_mangaki, nb_cdup_manami, total_ref"
   ]
  },
  {
   "cell_type": "code",
   "execution_count": 101,
   "metadata": {},
   "outputs": [
    {
     "data": {
      "text/plain": [
       "(Counter({(0, 1): 8924,\n",
       "          (1, 1): 1836,\n",
       "          (2, 1): 81,\n",
       "          (0, 4): 1,\n",
       "          (3, 1): 19,\n",
       "          (8, 1): 2,\n",
       "          (5, 1): 1,\n",
       "          (4, 1): 1,\n",
       "          (0, 0): 10931,\n",
       "          (1, 0): 8658,\n",
       "          (2, 0): 523,\n",
       "          (3, 0): 42,\n",
       "          (4, 0): 13,\n",
       "          (5, 0): 1}),\n",
       " '1940/11177 désormais')"
      ]
     },
     "execution_count": 101,
     "metadata": {},
     "output_type": "execute_result"
    }
   ],
   "source": [
    "from collections import Counter\n",
    "\n",
    "c2 = Counter()\n",
    "nb_with_anidb = 0\n",
    "nb_c_mangaki = 0\n",
    "for cluster in clusters.values():\n",
    "    nb_mangaki = len([ref for ref in cluster if ref.startswith('mangaki')])\n",
    "    nb_anidb = len([ref for ref in cluster if ref.startswith('anidb')])\n",
    "    if nb_mangaki > 0:\n",
    "        nb_c_mangaki += 1\n",
    "        if nb_anidb > 0:\n",
    "            nb_with_anidb += 1\n",
    "    c2[nb_mangaki, nb_anidb] += 1\n",
    "c2, '{}/{} désormais'.format(nb_with_anidb, nb_c_mangaki)"
   ]
  },
  {
   "cell_type": "code",
   "execution_count": 102,
   "metadata": {},
   "outputs": [
    {
     "data": {
      "text/plain": [
       "0.17357072559720854"
      ]
     },
     "execution_count": 102,
     "metadata": {},
     "output_type": "execute_result"
    }
   ],
   "source": [
    "1940/11177"
   ]
  },
  {
   "cell_type": "code",
   "execution_count": 104,
   "metadata": {},
   "outputs": [
    {
     "data": {
      "text/plain": [
       "12016"
      ]
     },
     "execution_count": 104,
     "metadata": {},
     "output_type": "execute_result"
    }
   ],
   "source": [
    "Reference.objects.count()"
   ]
  },
  {
   "cell_type": "code",
   "execution_count": null,
   "metadata": {},
   "outputs": [],
   "source": []
  }
 ],
 "metadata": {
  "kernelspec": {
   "display_name": "Django Shell-Plus",
   "language": "python",
   "name": "django_extensions"
  },
  "language_info": {
   "codemirror_mode": {
    "name": "ipython",
    "version": 3
   },
   "file_extension": ".py",
   "mimetype": "text/x-python",
   "name": "python",
   "nbconvert_exporter": "python",
   "pygments_lexer": "ipython3",
   "version": "3.7.3"
  }
 },
 "nbformat": 4,
 "nbformat_minor": 2
}
