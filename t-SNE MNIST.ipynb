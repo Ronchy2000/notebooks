{
 "cells": [
  {
   "cell_type": "code",
   "execution_count": 1,
   "metadata": {},
   "outputs": [
    {
     "name": "stdout",
     "output_type": "stream",
     "text": [
      "Automatically created module for IPython interactive environment\n"
     ]
    }
   ],
   "source": [
    "print(__doc__)\n",
    "from time import time\n",
    "\n",
    "import numpy as np\n",
    "import matplotlib.pyplot as plt\n",
    "from matplotlib import offsetbox\n",
    "from sklearn import (manifold, datasets, decomposition, ensemble,\n",
    "                     discriminant_analysis, random_projection)"
   ]
  },
  {
   "cell_type": "code",
   "execution_count": 5,
   "metadata": {},
   "outputs": [],
   "source": [
    "#from mangaki.utils.data import Dataset\n",
    "from mangaki.algo.fit_algo import get_dataset_backup\n",
    "from mangaki.algo.dataset import Dataset\n",
    "\n",
    "dataset = Dataset()\n",
    "dataset.load('tsne.pickle')"
   ]
  },
  {
   "cell_type": "code",
   "execution_count": 6,
   "metadata": {},
   "outputs": [
    {
     "data": {
      "text/plain": [
       "AnonymizedData(X=array([[1444,  262],\n",
       "       [1780,  408],\n",
       "       [1187, 1014],\n",
       "       ..., \n",
       "       [ 337,  448],\n",
       "       [1386,  452],\n",
       "       [1473,  361]]), y=array([-2. ,  2. ,  2. , ...,  2. ,  0.5,  0.5]), y_text=array(['dislike', 'like', 'like', ..., 'like', 'willsee', 'willsee'],\n",
       "      dtype='<U8'), nb_users=2112, nb_works=10031)"
      ]
     },
     "execution_count": 6,
     "metadata": {},
     "output_type": "execute_result"
    }
   ],
   "source": [
    "dataset.anonymized"
   ]
  },
  {
   "cell_type": "code",
   "execution_count": 9,
   "metadata": {},
   "outputs": [],
   "source": [
    "from mangaki.algo.als import MangakiALS\n",
    "\n",
    "als = MangakiALS(30)"
   ]
  },
  {
   "cell_type": "code",
   "execution_count": 10,
   "metadata": {},
   "outputs": [
    {
     "name": "stdout",
     "output_type": "stream",
     "text": [
      "Computing M: (2112 × 10031)\n",
      "Chrono: fill and center matrix [0q, 10311ms]\n",
      "Shapes (2112, 30) (30, 10031)\n",
      "Chrono: factor matrix [0q, 9407ms]\n"
     ]
    }
   ],
   "source": [
    "als.set_parameters(dataset.anonymized.nb_users, dataset.anonymized.nb_works)\n",
    "als.fit(dataset.anonymized.X, dataset.anonymized.y)"
   ]
  },
  {
   "cell_type": "code",
   "execution_count": 12,
   "metadata": {},
   "outputs": [],
   "source": [
    "als.save(als.get_backup_filename())"
   ]
  },
  {
   "cell_type": "code",
   "execution_count": 55,
   "metadata": {
    "collapsed": true
   },
   "outputs": [],
   "source": [
    "NB_USERS = 250\n",
    "NB_WORKS = 250"
   ]
  },
  {
   "cell_type": "code",
   "execution_count": 48,
   "metadata": {},
   "outputs": [],
   "source": [
    "#M = X.toarray().T\n",
    "#from mangaki.algo.fit_algo import get_algo_backup\n",
    "#svd = get_algo_backup('svd')\n",
    "M = np.vstack((als.VT.T[:250, :], als.U[:250, :]))"
   ]
  },
  {
   "cell_type": "code",
   "execution_count": 49,
   "metadata": {},
   "outputs": [
    {
     "data": {
      "text/plain": [
       "(500, 30)"
      ]
     },
     "execution_count": 49,
     "metadata": {},
     "output_type": "execute_result"
    }
   ],
   "source": [
    "M.shape"
   ]
  },
  {
   "cell_type": "code",
   "execution_count": 50,
   "metadata": {},
   "outputs": [
    {
     "name": "stdout",
     "output_type": "stream",
     "text": [
      "9.50310206413269 seconds\n"
     ]
    }
   ],
   "source": [
    "tsne = manifold.TSNE(n_components=2, init='pca', random_state=0)\n",
    "t0 = time()\n",
    "X_tsne = tsne.fit_transform(M)\n",
    "print(time() - t0, 'seconds')"
   ]
  },
  {
   "cell_type": "code",
   "execution_count": 51,
   "metadata": {},
   "outputs": [
    {
     "data": {
      "text/plain": [
       "(500, 2)"
      ]
     },
     "execution_count": 51,
     "metadata": {},
     "output_type": "execute_result"
    }
   ],
   "source": [
    "X_tsne.shape"
   ]
  },
  {
   "cell_type": "code",
   "execution_count": 52,
   "metadata": {},
   "outputs": [
    {
     "name": "stdout",
     "output_type": "stream",
     "text": [
      "[-32.93112564 -25.72217941]\n",
      "[ 34.20620346  24.68154144]\n"
     ]
    }
   ],
   "source": [
    "print(X_tsne.min(axis=0))\n",
    "print(X_tsne.max(axis=0))"
   ]
  },
  {
   "cell_type": "code",
   "execution_count": 56,
   "metadata": {},
   "outputs": [],
   "source": [
    "users = User.objects.in_bulk([dataset.decode_user[i] for i in range(NB_USERS)])\n",
    "items = Work.objects.in_bulk([dataset.decode_work[i] for i in range(NB_WORKS)])"
   ]
  },
  {
   "cell_type": "code",
   "execution_count": 57,
   "metadata": {},
   "outputs": [],
   "source": [
    "user_points = []\n",
    "work_points = []\n",
    "for i, (x, y) in enumerate(X_tsne.astype(np.float64)):\n",
    "    if i < NB_WORKS:\n",
    "        work_points.append({'title': items[dataset.decode_work[i]].title, 'x': x, 'y': y})\n",
    "    else:\n",
    "        user_points.append({'title': users[dataset.decode_user[i - NB_WORKS]].username, 'x': x, 'y': y})"
   ]
  },
  {
   "cell_type": "code",
   "execution_count": 58,
   "metadata": {},
   "outputs": [],
   "source": [
    "import json\n",
    "\n",
    "with open('/Users/jilljenn/Desktop/points.json', 'w') as f:\n",
    "    f.write(json.dumps({'works': work_points, 'users': user_points}))"
   ]
  },
  {
   "cell_type": "code",
   "execution_count": 59,
   "metadata": {
    "collapsed": true
   },
   "outputs": [],
   "source": [
    "X_2d = X_tsne"
   ]
  },
  {
   "cell_type": "code",
   "execution_count": 60,
   "metadata": {},
   "outputs": [
    {
     "data": {
      "text/plain": [
       "<matplotlib.collections.PathCollection at 0x10daa44e0>"
      ]
     },
     "execution_count": 60,
     "metadata": {},
     "output_type": "execute_result"
    }
   ],
   "source": [
    "import matplotlib.pyplot as plt\n",
    "plt.scatter(X_2d[:, 0], X_2d[:, 1])"
   ]
  },
  {
   "cell_type": "code",
   "execution_count": 61,
   "metadata": {},
   "outputs": [
    {
     "data": {
      "image/png": "[encoded data removed]",
      "text/plain": [
       "<matplotlib.figure.Figure at 0x118a75710>"
      ]
     },
     "metadata": {},
     "output_type": "display_data"
    }
   ],
   "source": [
    "plt.show()"
   ]
  },
  {
   "cell_type": "code",
   "execution_count": 25,
   "metadata": {
    "collapsed": true,
    "scrolled": false
   },
   "outputs": [],
   "source": [
    "from mangaki.models import Work\n",
    "titles = dict(Work.objects.values_list('id', 'title'))"
   ]
  },
  {
   "cell_type": "code",
   "execution_count": 26,
   "metadata": {
    "collapsed": true
   },
   "outputs": [],
   "source": [
    "encoded_dn = dataset.encode_work[1]"
   ]
  },
  {
   "cell_type": "code",
   "execution_count": 27,
   "metadata": {
    "collapsed": true
   },
   "outputs": [],
   "source": [
    "from scipy.spatial.distance import pdist, squareform\n",
    "lol = squareform(pdist(X_2d, 'euclidean'))"
   ]
  },
  {
   "cell_type": "code",
   "execution_count": 28,
   "metadata": {},
   "outputs": [
    {
     "data": {
      "text/plain": [
       "(1000, 1000)"
      ]
     },
     "execution_count": 28,
     "metadata": {},
     "output_type": "execute_result"
    }
   ],
   "source": [
    "lol.shape"
   ]
  },
  {
   "cell_type": "code",
   "execution_count": 29,
   "metadata": {
    "collapsed": true
   },
   "outputs": [],
   "source": [
    "def get_closest(work_id, nb_neighbors=5):\n",
    "    encoded_work = dataset.encode_work[work_id]\n",
    "    closest = np.argsort(lol[encoded_work])[:nb_neighbors]\n",
    "    for encoded_work_id in closest:\n",
    "        print(titles[dataset.decode_work[encoded_work_id]])"
   ]
  },
  {
   "cell_type": "code",
   "execution_count": 39,
   "metadata": {
    "collapsed": true
   },
   "outputs": [],
   "source": [
    "'''with open('tsne.npy', 'wb') as f:\n",
    "    np.save(f, X_2d)'''"
   ]
  },
  {
   "cell_type": "code",
   "execution_count": 40,
   "metadata": {
    "collapsed": true
   },
   "outputs": [],
   "source": [
    "'''with open('tsne.npy', 'rb') as f:\n",
    "    bla = np.load(f)'''"
   ]
  },
  {
   "cell_type": "code",
   "execution_count": 33,
   "metadata": {},
   "outputs": [
    {
     "data": {
      "application/javascript": [
       "/* Put everything inside the global mpl namespace */\n",
       "window.mpl = {};\n",
       "\n",
       "\n",
       "mpl.get_websocket_type = function() {\n",
       "    if (typeof(WebSocket) !== 'undefined') {\n",
       "        return WebSocket;\n",
       "    } else if (typeof(MozWebSocket) !== 'undefined') {\n",
       "        return MozWebSocket;\n",
       "    } else {\n",
       "        alert('Your browser does not have WebSocket support.' +\n",
       "              'Please try Chrome, Safari or Firefox ≥ 6. ' +\n",
       "              'Firefox 4 and 5 are also supported but you ' +\n",
       "              'have to enable WebSockets in about:config.');\n",
       "    };\n",
       "}\n",
       "\n",
       "mpl.figure = function(figure_id, websocket, ondownload, parent_element) {\n",
       "    this.id = figure_id;\n",
       "\n",
       "    this.ws = websocket;\n",
       "\n",
       "    this.supports_binary = (this.ws.binaryType != undefined);\n",
       "\n",
       "    if (!this.supports_binary) {\n",
       "        var warnings = document.getElementById(\"mpl-warnings\");\n",
       "        if (warnings) {\n",
       "            warnings.style.display = 'block';\n",
       "            warnings.textContent = (\n",
       "                \"This browser does not support binary websocket messages. \" +\n",
       "                    \"Performance may be slow.\");\n",
       "        }\n",
       "    }\n",
       "\n",
       "    this.imageObj = new Image();\n",
       "\n",
       "    this.context = undefined;\n",
       "    this.message = undefined;\n",
       "    this.canvas = undefined;\n",
       "    this.rubberband_canvas = undefined;\n",
       "    this.rubberband_context = undefined;\n",
       "    this.format_dropdown = undefined;\n",
       "\n",
       "    this.image_mode = 'full';\n",
       "\n",
       "    this.root = $('<div/>');\n",
       "    this._root_extra_style(this.root)\n",
       "    this.root.attr('style', 'display: inline-block');\n",
       "\n",
       "    $(parent_element).append(this.root);\n",
       "\n",
       "    this._init_header(this);\n",
       "    this._init_canvas(this);\n",
       "    this._init_toolbar(this);\n",
       "\n",
       "    var fig = this;\n",
       "\n",
       "    this.waiting = false;\n",
       "\n",
       "    this.ws.onopen =  function () {\n",
       "            fig.send_message(\"supports_binary\", {value: fig.supports_binary});\n",
       "            fig.send_message(\"send_image_mode\", {});\n",
       "            if (mpl.ratio != 1) {\n",
       "                fig.send_message(\"set_dpi_ratio\", {'dpi_ratio': mpl.ratio});\n",
       "            }\n",
       "            fig.send_message(\"refresh\", {});\n",
       "        }\n",
       "\n",
       "    this.imageObj.onload = function() {\n",
       "            if (fig.image_mode == 'full') {\n",
       "                // Full images could contain transparency (where diff images\n",
       "                // almost always do), so we need to clear the canvas so that\n",
       "                // there is no ghosting.\n",
       "                fig.context.clearRect(0, 0, fig.canvas.width, fig.canvas.height);\n",
       "            }\n",
       "            fig.context.drawImage(fig.imageObj, 0, 0);\n",
       "        };\n",
       "\n",
       "    this.imageObj.onunload = function() {\n",
       "        this.ws.close();\n",
       "    }\n",
       "\n",
       "    this.ws.onmessage = this._make_on_message_function(this);\n",
       "\n",
       "    this.ondownload = ondownload;\n",
       "}\n",
       "\n",
       "mpl.figure.prototype._init_header = function() {\n",
       "    var titlebar = $(\n",
       "        '<div class=\"ui-dialog-titlebar ui-widget-header ui-corner-all ' +\n",
       "        'ui-helper-clearfix\"/>');\n",
       "    var titletext = $(\n",
       "        '<div class=\"ui-dialog-title\" style=\"width: 100%; ' +\n",
       "        'text-align: center; padding: 3px;\"/>');\n",
       "    titlebar.append(titletext)\n",
       "    this.root.append(titlebar);\n",
       "    this.header = titletext[0];\n",
       "}\n",
       "\n",
       "\n",
       "\n",
       "mpl.figure.prototype._canvas_extra_style = function(canvas_div) {\n",
       "\n",
       "}\n",
       "\n",
       "\n",
       "mpl.figure.prototype._root_extra_style = function(canvas_div) {\n",
       "\n",
       "}\n",
       "\n",
       "mpl.figure.prototype._init_canvas = function() {\n",
       "    var fig = this;\n",
       "\n",
       "    var canvas_div = $('<div/>');\n",
       "\n",
       "    canvas_div.attr('style', 'position: relative; clear: both; outline: 0');\n",
       "\n",
       "    function canvas_keyboard_event(event) {\n",
       "        return fig.key_event(event, event['data']);\n",
       "    }\n",
       "\n",
       "    canvas_div.keydown('key_press', canvas_keyboard_event);\n",
       "    canvas_div.keyup('key_release', canvas_keyboard_event);\n",
       "    this.canvas_div = canvas_div\n",
       "    this._canvas_extra_style(canvas_div)\n",
       "    this.root.append(canvas_div);\n",
       "\n",
       "    var canvas = $('<canvas/>');\n",
       "    canvas.addClass('mpl-canvas');\n",
       "    canvas.attr('style', \"left: 0; top: 0; z-index: 0; outline: 0\")\n",
       "\n",
       "    this.canvas = canvas[0];\n",
       "    this.context = canvas[0].getContext(\"2d\");\n",
       "\n",
       "    var backingStore = this.context.backingStorePixelRatio ||\n",
       "\tthis.context.webkitBackingStorePixelRatio ||\n",
       "\tthis.context.mozBackingStorePixelRatio ||\n",
       "\tthis.context.msBackingStorePixelRatio ||\n",
       "\tthis.context.oBackingStorePixelRatio ||\n",
       "\tthis.context.backingStorePixelRatio || 1;\n",
       "\n",
       "    mpl.ratio = (window.devicePixelRatio || 1) / backingStore;\n",
       "\n",
       "    var rubberband = $('<canvas/>');\n",
       "    rubberband.attr('style', \"position: absolute; left: 0; top: 0; z-index: 1;\")\n",
       "\n",
       "    var pass_mouse_events = true;\n",
       "\n",
       "    canvas_div.resizable({\n",
       "        start: function(event, ui) {\n",
       "            pass_mouse_events = false;\n",
       "        },\n",
       "        resize: function(event, ui) {\n",
       "            fig.request_resize(ui.size.width, ui.size.height);\n",
       "        },\n",
       "        stop: function(event, ui) {\n",
       "            pass_mouse_events = true;\n",
       "            fig.request_resize(ui.size.width, ui.size.height);\n",
       "        },\n",
       "    });\n",
       "\n",
       "    function mouse_event_fn(event) {\n",
       "        if (pass_mouse_events)\n",
       "            return fig.mouse_event(event, event['data']);\n",
       "    }\n",
       "\n",
       "    rubberband.mousedown('button_press', mouse_event_fn);\n",
       "    rubberband.mouseup('button_release', mouse_event_fn);\n",
       "    // Throttle sequential mouse events to 1 every 20ms.\n",
       "    rubberband.mousemove('motion_notify', mouse_event_fn);\n",
       "\n",
       "    rubberband.mouseenter('figure_enter', mouse_event_fn);\n",
       "    rubberband.mouseleave('figure_leave', mouse_event_fn);\n",
       "\n",
       "    canvas_div.on(\"wheel\", function (event) {\n",
       "        event = event.originalEvent;\n",
       "        event['data'] = 'scroll'\n",
       "        if (event.deltaY < 0) {\n",
       "            event.step = 1;\n",
       "        } else {\n",
       "            event.step = -1;\n",
       "        }\n",
       "        mouse_event_fn(event);\n",
       "    });\n",
       "\n",
       "    canvas_div.append(canvas);\n",
       "    canvas_div.append(rubberband);\n",
       "\n",
       "    this.rubberband = rubberband;\n",
       "    this.rubberband_canvas = rubberband[0];\n",
       "    this.rubberband_context = rubberband[0].getContext(\"2d\");\n",
       "    this.rubberband_context.strokeStyle = \"#000000\";\n",
       "\n",
       "    this._resize_canvas = function(width, height) {\n",
       "        // Keep the size of the canvas, canvas container, and rubber band\n",
       "        // canvas in synch.\n",
       "        canvas_div.css('width', width)\n",
       "        canvas_div.css('height', height)\n",
       "\n",
       "        canvas.attr('width', width * mpl.ratio);\n",
       "        canvas.attr('height', height * mpl.ratio);\n",
       "        canvas.attr('style', 'width: ' + width + 'px; height: ' + height + 'px;');\n",
       "\n",
       "        rubberband.attr('width', width);\n",
       "        rubberband.attr('height', height);\n",
       "    }\n",
       "\n",
       "    // Set the figure to an initial 600x600px, this will subsequently be updated\n",
       "    // upon first draw.\n",
       "    this._resize_canvas(600, 600);\n",
       "\n",
       "    // Disable right mouse context menu.\n",
       "    $(this.rubberband_canvas).bind(\"contextmenu\",function(e){\n",
       "        return false;\n",
       "    });\n",
       "\n",
       "    function set_focus () {\n",
       "        canvas.focus();\n",
       "        canvas_div.focus();\n",
       "    }\n",
       "\n",
       "    window.setTimeout(set_focus, 100);\n",
       "}\n",
       "\n",
       "mpl.figure.prototype._init_toolbar = function() {\n",
       "    var fig = this;\n",
       "\n",
       "    var nav_element = $('<div/>')\n",
       "    nav_element.attr('style', 'width: 100%');\n",
       "    this.root.append(nav_element);\n",
       "\n",
       "    // Define a callback function for later on.\n",
       "    function toolbar_event(event) {\n",
       "        return fig.toolbar_button_onclick(event['data']);\n",
       "    }\n",
       "    function toolbar_mouse_event(event) {\n",
       "        return fig.toolbar_button_onmouseover(event['data']);\n",
       "    }\n",
       "\n",
       "    for(var toolbar_ind in mpl.toolbar_items) {\n",
       "        var name = mpl.toolbar_items[toolbar_ind][0];\n",
       "        var tooltip = mpl.toolbar_items[toolbar_ind][1];\n",
       "        var image = mpl.toolbar_items[toolbar_ind][2];\n",
       "        var method_name = mpl.toolbar_items[toolbar_ind][3];\n",
       "\n",
       "        if (!name) {\n",
       "            // put a spacer in here.\n",
       "            continue;\n",
       "        }\n",
       "        var button = $('<button/>');\n",
       "        button.addClass('ui-button ui-widget ui-state-default ui-corner-all ' +\n",
       "                        'ui-button-icon-only');\n",
       "        button.attr('role', 'button');\n",
       "        button.attr('aria-disabled', 'false');\n",
       "        button.click(method_name, toolbar_event);\n",
       "        button.mouseover(tooltip, toolbar_mouse_event);\n",
       "\n",
       "        var icon_img = $('<span/>');\n",
       "        icon_img.addClass('ui-button-icon-primary ui-icon');\n",
       "        icon_img.addClass(image);\n",
       "        icon_img.addClass('ui-corner-all');\n",
       "\n",
       "        var tooltip_span = $('<span/>');\n",
       "        tooltip_span.addClass('ui-button-text');\n",
       "        tooltip_span.html(tooltip);\n",
       "\n",
       "        button.append(icon_img);\n",
       "        button.append(tooltip_span);\n",
       "\n",
       "        nav_element.append(button);\n",
       "    }\n",
       "\n",
       "    var fmt_picker_span = $('<span/>');\n",
       "\n",
       "    var fmt_picker = $('<select/>');\n",
       "    fmt_picker.addClass('mpl-toolbar-option ui-widget ui-widget-content');\n",
       "    fmt_picker_span.append(fmt_picker);\n",
       "    nav_element.append(fmt_picker_span);\n",
       "    this.format_dropdown = fmt_picker[0];\n",
       "\n",
       "    for (var ind in mpl.extensions) {\n",
       "        var fmt = mpl.extensions[ind];\n",
       "        var option = $(\n",
       "            '<option/>', {selected: fmt === mpl.default_extension}).html(fmt);\n",
       "        fmt_picker.append(option)\n",
       "    }\n",
       "\n",
       "    // Add hover states to the ui-buttons\n",
       "    $( \".ui-button\" ).hover(\n",
       "        function() { $(this).addClass(\"ui-state-hover\");},\n",
       "        function() { $(this).removeClass(\"ui-state-hover\");}\n",
       "    );\n",
       "\n",
       "    var status_bar = $('<span class=\"mpl-message\"/>');\n",
       "    nav_element.append(status_bar);\n",
       "    this.message = status_bar[0];\n",
       "}\n",
       "\n",
       "mpl.figure.prototype.request_resize = function(x_pixels, y_pixels) {\n",
       "    // Request matplotlib to resize the figure. Matplotlib will then trigger a resize in the client,\n",
       "    // which will in turn request a refresh of the image.\n",
       "    this.send_message('resize', {'width': x_pixels, 'height': y_pixels});\n",
       "}\n",
       "\n",
       "mpl.figure.prototype.send_message = function(type, properties) {\n",
       "    properties['type'] = type;\n",
       "    properties['figure_id'] = this.id;\n",
       "    this.ws.send(JSON.stringify(properties));\n",
       "}\n",
       "\n",
       "mpl.figure.prototype.send_draw_message = function() {\n",
       "    if (!this.waiting) {\n",
       "        this.waiting = true;\n",
       "        this.ws.send(JSON.stringify({type: \"draw\", figure_id: this.id}));\n",
       "    }\n",
       "}\n",
       "\n",
       "\n",
       "mpl.figure.prototype.handle_save = function(fig, msg) {\n",
       "    var format_dropdown = fig.format_dropdown;\n",
       "    var format = format_dropdown.options[format_dropdown.selectedIndex].value;\n",
       "    fig.ondownload(fig, format);\n",
       "}\n",
       "\n",
       "\n",
       "mpl.figure.prototype.handle_resize = function(fig, msg) {\n",
       "    var size = msg['size'];\n",
       "    if (size[0] != fig.canvas.width || size[1] != fig.canvas.height) {\n",
       "        fig._resize_canvas(size[0], size[1]);\n",
       "        fig.send_message(\"refresh\", {});\n",
       "    };\n",
       "}\n",
       "\n",
       "mpl.figure.prototype.handle_rubberband = function(fig, msg) {\n",
       "    var x0 = msg['x0'] / mpl.ratio;\n",
       "    var y0 = (fig.canvas.height - msg['y0']) / mpl.ratio;\n",
       "    var x1 = msg['x1'] / mpl.ratio;\n",
       "    var y1 = (fig.canvas.height - msg['y1']) / mpl.ratio;\n",
       "    x0 = Math.floor(x0) + 0.5;\n",
       "    y0 = Math.floor(y0) + 0.5;\n",
       "    x1 = Math.floor(x1) + 0.5;\n",
       "    y1 = Math.floor(y1) + 0.5;\n",
       "    var min_x = Math.min(x0, x1);\n",
       "    var min_y = Math.min(y0, y1);\n",
       "    var width = Math.abs(x1 - x0);\n",
       "    var height = Math.abs(y1 - y0);\n",
       "\n",
       "    fig.rubberband_context.clearRect(\n",
       "        0, 0, fig.canvas.width, fig.canvas.height);\n",
       "\n",
       "    fig.rubberband_context.strokeRect(min_x, min_y, width, height);\n",
       "}\n",
       "\n",
       "mpl.figure.prototype.handle_figure_label = function(fig, msg) {\n",
       "    // Updates the figure title.\n",
       "    fig.header.textContent = msg['label'];\n",
       "}\n",
       "\n",
       "mpl.figure.prototype.handle_cursor = function(fig, msg) {\n",
       "    var cursor = msg['cursor'];\n",
       "    switch(cursor)\n",
       "    {\n",
       "    case 0:\n",
       "        cursor = 'pointer';\n",
       "        break;\n",
       "    case 1:\n",
       "        cursor = 'default';\n",
       "        break;\n",
       "    case 2:\n",
       "        cursor = 'crosshair';\n",
       "        break;\n",
       "    case 3:\n",
       "        cursor = 'move';\n",
       "        break;\n",
       "    }\n",
       "    fig.rubberband_canvas.style.cursor = cursor;\n",
       "}\n",
       "\n",
       "mpl.figure.prototype.handle_message = function(fig, msg) {\n",
       "    fig.message.textContent = msg['message'];\n",
       "}\n",
       "\n",
       "mpl.figure.prototype.handle_draw = function(fig, msg) {\n",
       "    // Request the server to send over a new figure.\n",
       "    fig.send_draw_message();\n",
       "}\n",
       "\n",
       "mpl.figure.prototype.handle_image_mode = function(fig, msg) {\n",
       "    fig.image_mode = msg['mode'];\n",
       "}\n",
       "\n",
       "mpl.figure.prototype.updated_canvas_event = function() {\n",
       "    // Called whenever the canvas gets updated.\n",
       "    this.send_message(\"ack\", {});\n",
       "}\n",
       "\n",
       "// A function to construct a web socket function for onmessage handling.\n",
       "// Called in the figure constructor.\n",
       "mpl.figure.prototype._make_on_message_function = function(fig) {\n",
       "    return function socket_on_message(evt) {\n",
       "        if (evt.data instanceof Blob) {\n",
       "            /* FIXME: We get \"Resource interpreted as Image but\n",
       "             * transferred with MIME type text/plain:\" errors on\n",
       "             * Chrome.  But how to set the MIME type?  It doesn't seem\n",
       "             * to be part of the websocket stream */\n",
       "            evt.data.type = \"image/png\";\n",
       "\n",
       "            /* Free the memory for the previous frames */\n",
       "            if (fig.imageObj.src) {\n",
       "                (window.URL || window.webkitURL).revokeObjectURL(\n",
       "                    fig.imageObj.src);\n",
       "            }\n",
       "\n",
       "            fig.imageObj.src = (window.URL || window.webkitURL).createObjectURL(\n",
       "                evt.data);\n",
       "            fig.updated_canvas_event();\n",
       "            fig.waiting = false;\n",
       "            return;\n",
       "        }\n",
       "        else if (typeof evt.data === 'string' && evt.data.slice(0, 21) == \"data:image/png;base64\") {\n",
       "            fig.imageObj.src = evt.data;\n",
       "            fig.updated_canvas_event();\n",
       "            fig.waiting = false;\n",
       "            return;\n",
       "        }\n",
       "\n",
       "        var msg = JSON.parse(evt.data);\n",
       "        var msg_type = msg['type'];\n",
       "\n",
       "        // Call the  \"handle_{type}\" callback, which takes\n",
       "        // the figure and JSON message as its only arguments.\n",
       "        try {\n",
       "            var callback = fig[\"handle_\" + msg_type];\n",
       "        } catch (e) {\n",
       "            console.log(\"No handler for the '\" + msg_type + \"' message type: \", msg);\n",
       "            return;\n",
       "        }\n",
       "\n",
       "        if (callback) {\n",
       "            try {\n",
       "                // console.log(\"Handling '\" + msg_type + \"' message: \", msg);\n",
       "                callback(fig, msg);\n",
       "            } catch (e) {\n",
       "                console.log(\"Exception inside the 'handler_\" + msg_type + \"' callback:\", e, e.stack, msg);\n",
       "            }\n",
       "        }\n",
       "    };\n",
       "}\n",
       "\n",
       "// from http://stackoverflow.com/questions/1114465/getting-mouse-location-in-canvas\n",
       "mpl.findpos = function(e) {\n",
       "    //this section is from http://www.quirksmode.org/js/events_properties.html\n",
       "    var targ;\n",
       "    if (!e)\n",
       "        e = window.event;\n",
       "    if (e.target)\n",
       "        targ = e.target;\n",
       "    else if (e.srcElement)\n",
       "        targ = e.srcElement;\n",
       "    if (targ.nodeType == 3) // defeat Safari bug\n",
       "        targ = targ.parentNode;\n",
       "\n",
       "    // jQuery normalizes the pageX and pageY\n",
       "    // pageX,Y are the mouse positions relative to the document\n",
       "    // offset() returns the position of the element relative to the document\n",
       "    var x = e.pageX - $(targ).offset().left;\n",
       "    var y = e.pageY - $(targ).offset().top;\n",
       "\n",
       "    return {\"x\": x, \"y\": y};\n",
       "};\n",
       "\n",
       "/*\n",
       " * return a copy of an object with only non-object keys\n",
       " * we need this to avoid circular references\n",
       " * http://stackoverflow.com/a/24161582/3208463\n",
       " */\n",
       "function simpleKeys (original) {\n",
       "  return Object.keys(original).reduce(function (obj, key) {\n",
       "    if (typeof original[key] !== 'object')\n",
       "        obj[key] = original[key]\n",
       "    return obj;\n",
       "  }, {});\n",
       "}\n",
       "\n",
       "mpl.figure.prototype.mouse_event = function(event, name) {\n",
       "    var canvas_pos = mpl.findpos(event)\n",
       "\n",
       "    if (name === 'button_press')\n",
       "    {\n",
       "        this.canvas.focus();\n",
       "        this.canvas_div.focus();\n",
       "    }\n",
       "\n",
       "    var x = canvas_pos.x * mpl.ratio;\n",
       "    var y = canvas_pos.y * mpl.ratio;\n",
       "\n",
       "    this.send_message(name, {x: x, y: y, button: event.button,\n",
       "                             step: event.step,\n",
       "                             guiEvent: simpleKeys(event)});\n",
       "\n",
       "    /* This prevents the web browser from automatically changing to\n",
       "     * the text insertion cursor when the button is pressed.  We want\n",
       "     * to control all of the cursor setting manually through the\n",
       "     * 'cursor' event from matplotlib */\n",
       "    event.preventDefault();\n",
       "    return false;\n",
       "}\n",
       "\n",
       "mpl.figure.prototype._key_event_extra = function(event, name) {\n",
       "    // Handle any extra behaviour associated with a key event\n",
       "}\n",
       "\n",
       "mpl.figure.prototype.key_event = function(event, name) {\n",
       "\n",
       "    // Prevent repeat events\n",
       "    if (name == 'key_press')\n",
       "    {\n",
       "        if (event.which === this._key)\n",
       "            return;\n",
       "        else\n",
       "            this._key = event.which;\n",
       "    }\n",
       "    if (name == 'key_release')\n",
       "        this._key = null;\n",
       "\n",
       "    var value = '';\n",
       "    if (event.ctrlKey && event.which != 17)\n",
       "        value += \"ctrl+\";\n",
       "    if (event.altKey && event.which != 18)\n",
       "        value += \"alt+\";\n",
       "    if (event.shiftKey && event.which != 16)\n",
       "        value += \"shift+\";\n",
       "\n",
       "    value += 'k';\n",
       "    value += event.which.toString();\n",
       "\n",
       "    this._key_event_extra(event, name);\n",
       "\n",
       "    this.send_message(name, {key: value,\n",
       "                             guiEvent: simpleKeys(event)});\n",
       "    return false;\n",
       "}\n",
       "\n",
       "mpl.figure.prototype.toolbar_button_onclick = function(name) {\n",
       "    if (name == 'download') {\n",
       "        this.handle_save(this, null);\n",
       "    } else {\n",
       "        this.send_message(\"toolbar_button\", {name: name});\n",
       "    }\n",
       "};\n",
       "\n",
       "mpl.figure.prototype.toolbar_button_onmouseover = function(tooltip) {\n",
       "    this.message.textContent = tooltip;\n",
       "};\n",
       "mpl.toolbar_items = [[\"Home\", \"Reset original view\", \"fa fa-home icon-home\", \"home\"], [\"Back\", \"Back to  previous view\", \"fa fa-arrow-left icon-arrow-left\", \"back\"], [\"Forward\", \"Forward to next view\", \"fa fa-arrow-right icon-arrow-right\", \"forward\"], [\"\", \"\", \"\", \"\"], [\"Pan\", \"Pan axes with left mouse, zoom with right\", \"fa fa-arrows icon-move\", \"pan\"], [\"Zoom\", \"Zoom to rectangle\", \"fa fa-square-o icon-check-empty\", \"zoom\"], [\"\", \"\", \"\", \"\"], [\"Download\", \"Download plot\", \"fa fa-floppy-o icon-save\", \"download\"]];\n",
       "\n",
       "mpl.extensions = [\"eps\", \"jpeg\", \"pdf\", \"png\", \"ps\", \"raw\", \"svg\", \"tif\"];\n",
       "\n",
       "mpl.default_extension = \"png\";var comm_websocket_adapter = function(comm) {\n",
       "    // Create a \"websocket\"-like object which calls the given IPython comm\n",
       "    // object with the appropriate methods. Currently this is a non binary\n",
       "    // socket, so there is still some room for performance tuning.\n",
       "    var ws = {};\n",
       "\n",
       "    ws.close = function() {\n",
       "        comm.close()\n",
       "    };\n",
       "    ws.send = function(m) {\n",
       "        //console.log('sending', m);\n",
       "        comm.send(m);\n",
       "    };\n",
       "    // Register the callback with on_msg.\n",
       "    comm.on_msg(function(msg) {\n",
       "        //console.log('receiving', msg['content']['data'], msg);\n",
       "        // Pass the mpl event to the overriden (by mpl) onmessage function.\n",
       "        ws.onmessage(msg['content']['data'])\n",
       "    });\n",
       "    return ws;\n",
       "}\n",
       "\n",
       "mpl.mpl_figure_comm = function(comm, msg) {\n",
       "    // This is the function which gets called when the mpl process\n",
       "    // starts-up an IPython Comm through the \"matplotlib\" channel.\n",
       "\n",
       "    var id = msg.content.data.id;\n",
       "    // Get hold of the div created by the display call when the Comm\n",
       "    // socket was opened in Python.\n",
       "    var element = $(\"#\" + id);\n",
       "    var ws_proxy = comm_websocket_adapter(comm)\n",
       "\n",
       "    function ondownload(figure, format) {\n",
       "        window.open(figure.imageObj.src);\n",
       "    }\n",
       "\n",
       "    var fig = new mpl.figure(id, ws_proxy,\n",
       "                           ondownload,\n",
       "                           element.get(0));\n",
       "\n",
       "    // Call onopen now - mpl needs it, as it is assuming we've passed it a real\n",
       "    // web socket which is closed, not our websocket->open comm proxy.\n",
       "    ws_proxy.onopen();\n",
       "\n",
       "    fig.parent_element = element.get(0);\n",
       "    fig.cell_info = mpl.find_output_cell(\"<div id='\" + id + \"'></div>\");\n",
       "    if (!fig.cell_info) {\n",
       "        console.error(\"Failed to find cell for figure\", id, fig);\n",
       "        return;\n",
       "    }\n",
       "\n",
       "    var output_index = fig.cell_info[2]\n",
       "    var cell = fig.cell_info[0];\n",
       "\n",
       "};\n",
       "\n",
       "mpl.figure.prototype.handle_close = function(fig, msg) {\n",
       "    var width = fig.canvas.width/mpl.ratio\n",
       "    fig.root.unbind('remove')\n",
       "\n",
       "    // Update the output cell to use the data from the current canvas.\n",
       "    fig.push_to_output();\n",
       "    var dataURL = fig.canvas.toDataURL();\n",
       "    // Re-enable the keyboard manager in IPython - without this line, in FF,\n",
       "    // the notebook keyboard shortcuts fail.\n",
       "    IPython.keyboard_manager.enable()\n",
       "    $(fig.parent_element).html('<img src=\"' + dataURL + '\" width=\"' + width + '\">');\n",
       "    fig.close_ws(fig, msg);\n",
       "}\n",
       "\n",
       "mpl.figure.prototype.close_ws = function(fig, msg){\n",
       "    fig.send_message('closing', msg);\n",
       "    // fig.ws.close()\n",
       "}\n",
       "\n",
       "mpl.figure.prototype.push_to_output = function(remove_interactive) {\n",
       "    // Turn the data on the canvas into data in the output cell.\n",
       "    var width = this.canvas.width/mpl.ratio\n",
       "    var dataURL = this.canvas.toDataURL();\n",
       "    this.cell_info[1]['text/html'] = '<img src=\"' + dataURL + '\" width=\"' + width + '\">';\n",
       "}\n",
       "\n",
       "mpl.figure.prototype.updated_canvas_event = function() {\n",
       "    // Tell IPython that the notebook contents must change.\n",
       "    IPython.notebook.set_dirty(true);\n",
       "    this.send_message(\"ack\", {});\n",
       "    var fig = this;\n",
       "    // Wait a second, then push the new image to the DOM so\n",
       "    // that it is saved nicely (might be nice to debounce this).\n",
       "    setTimeout(function () { fig.push_to_output() }, 1000);\n",
       "}\n",
       "\n",
       "mpl.figure.prototype._init_toolbar = function() {\n",
       "    var fig = this;\n",
       "\n",
       "    var nav_element = $('<div/>')\n",
       "    nav_element.attr('style', 'width: 100%');\n",
       "    this.root.append(nav_element);\n",
       "\n",
       "    // Define a callback function for later on.\n",
       "    function toolbar_event(event) {\n",
       "        return fig.toolbar_button_onclick(event['data']);\n",
       "    }\n",
       "    function toolbar_mouse_event(event) {\n",
       "        return fig.toolbar_button_onmouseover(event['data']);\n",
       "    }\n",
       "\n",
       "    for(var toolbar_ind in mpl.toolbar_items){\n",
       "        var name = mpl.toolbar_items[toolbar_ind][0];\n",
       "        var tooltip = mpl.toolbar_items[toolbar_ind][1];\n",
       "        var image = mpl.toolbar_items[toolbar_ind][2];\n",
       "        var method_name = mpl.toolbar_items[toolbar_ind][3];\n",
       "\n",
       "        if (!name) { continue; };\n",
       "\n",
       "        var button = $('<button class=\"btn btn-default\" href=\"#\" title=\"' + name + '\"><i class=\"fa ' + image + ' fa-lg\"></i></button>');\n",
       "        button.click(method_name, toolbar_event);\n",
       "        button.mouseover(tooltip, toolbar_mouse_event);\n",
       "        nav_element.append(button);\n",
       "    }\n",
       "\n",
       "    // Add the status bar.\n",
       "    var status_bar = $('<span class=\"mpl-message\" style=\"text-align:right; float: right;\"/>');\n",
       "    nav_element.append(status_bar);\n",
       "    this.message = status_bar[0];\n",
       "\n",
       "    // Add the close button to the window.\n",
       "    var buttongrp = $('<div class=\"btn-group inline pull-right\"></div>');\n",
       "    var button = $('<button class=\"btn btn-mini btn-primary\" href=\"#\" title=\"Stop Interaction\"><i class=\"fa fa-power-off icon-remove icon-large\"></i></button>');\n",
       "    button.click(function (evt) { fig.handle_close(fig, {}); } );\n",
       "    button.mouseover('Stop Interaction', toolbar_mouse_event);\n",
       "    buttongrp.append(button);\n",
       "    var titlebar = this.root.find($('.ui-dialog-titlebar'));\n",
       "    titlebar.prepend(buttongrp);\n",
       "}\n",
       "\n",
       "mpl.figure.prototype._root_extra_style = function(el){\n",
       "    var fig = this\n",
       "    el.on(\"remove\", function(){\n",
       "\tfig.close_ws(fig, {});\n",
       "    });\n",
       "}\n",
       "\n",
       "mpl.figure.prototype._canvas_extra_style = function(el){\n",
       "    // this is important to make the div 'focusable\n",
       "    el.attr('tabindex', 0)\n",
       "    // reach out to IPython and tell the keyboard manager to turn it's self\n",
       "    // off when our div gets focus\n",
       "\n",
       "    // location in version 3\n",
       "    if (IPython.notebook.keyboard_manager) {\n",
       "        IPython.notebook.keyboard_manager.register_events(el);\n",
       "    }\n",
       "    else {\n",
       "        // location in version 2\n",
       "        IPython.keyboard_manager.register_events(el);\n",
       "    }\n",
       "\n",
       "}\n",
       "\n",
       "mpl.figure.prototype._key_event_extra = function(event, name) {\n",
       "    var manager = IPython.notebook.keyboard_manager;\n",
       "    if (!manager)\n",
       "        manager = IPython.keyboard_manager;\n",
       "\n",
       "    // Check for shift+enter\n",
       "    if (event.shiftKey && event.which == 13) {\n",
       "        this.canvas_div.blur();\n",
       "        // select the cell after this one\n",
       "        var index = IPython.notebook.find_cell_index(this.cell_info[0]);\n",
       "        IPython.notebook.select(index + 1);\n",
       "    }\n",
       "}\n",
       "\n",
       "mpl.figure.prototype.handle_save = function(fig, msg) {\n",
       "    fig.ondownload(fig, null);\n",
       "}\n",
       "\n",
       "\n",
       "mpl.find_output_cell = function(html_output) {\n",
       "    // Return the cell and output element which can be found *uniquely* in the notebook.\n",
       "    // Note - this is a bit hacky, but it is done because the \"notebook_saving.Notebook\"\n",
       "    // IPython event is triggered only after the cells have been serialised, which for\n",
       "    // our purposes (turning an active figure into a static one), is too late.\n",
       "    var cells = IPython.notebook.get_cells();\n",
       "    var ncells = cells.length;\n",
       "    for (var i=0; i<ncells; i++) {\n",
       "        var cell = cells[i];\n",
       "        if (cell.cell_type === 'code'){\n",
       "            for (var j=0; j<cell.output_area.outputs.length; j++) {\n",
       "                var data = cell.output_area.outputs[j];\n",
       "                if (data.data) {\n",
       "                    // IPython >= 3 moved mimebundle to data attribute of output\n",
       "                    data = data.data;\n",
       "                }\n",
       "                if (data['text/html'] == html_output) {\n",
       "                    return [cell, data, j];\n",
       "                }\n",
       "            }\n",
       "        }\n",
       "    }\n",
       "}\n",
       "\n",
       "// Register the function which deals with the matplotlib target/channel.\n",
       "// The kernel may be null if the page has been refreshed.\n",
       "if (IPython.notebook.kernel != null) {\n",
       "    IPython.notebook.kernel.comm_manager.register_target('matplotlib', mpl.mpl_figure_comm);\n",
       "}\n"
      ],
      "text/plain": [
       "<IPython.core.display.Javascript object>"
      ]
     },
     "metadata": {},
     "output_type": "display_data"
    },
    {
     "data": {
      "text/html": [
       "<img src=\"data:image/png;base64,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\" width=\"640\">"
      ],
      "text/plain": [
       "<IPython.core.display.HTML object>"
      ]
     },
     "metadata": {},
     "output_type": "display_data"
    }
   ],
   "source": [
    "%matplotlib notebook\n",
    "\n",
    "class MangakiViz:\n",
    "    label = None\n",
    "    def __init__(self, titles, coords, drawn, featured):\n",
    "        fig = plt.figure()\n",
    "        self.label = {}\n",
    "        for work_id in drawn:\n",
    "            p_id = dataset.encode_work[work_id]\n",
    "            x, y = coords[p_id, 0], coords[p_id, 1]\n",
    "            self.label[(x, y)] = titles[work_id]\n",
    "            if p_id in featured:\n",
    "                plt.plot(x, y, 'sb')  # Special points\n",
    "                self.display(x, y)\n",
    "            else:\n",
    "                plt.plot(x, y, '+g', picker=5)\n",
    "        # plt.plot(jjx, jjy, 'or')\n",
    "        # plt.plot(predx, predy, 'og')\n",
    "        fig.canvas.mpl_connect('pick_event', self.onpick)\n",
    "    \n",
    "    def display(self, x, y):\n",
    "        plt.annotate(self.label[(x, y)], xy=(x, y), xycoords='data',\n",
    "            xytext=(-30, -30), textcoords='offset points',\n",
    "            arrowprops=dict(arrowstyle=\"->\",\n",
    "                            connectionstyle=\"arc3,rad=.2\")\n",
    "            )\n",
    "    \n",
    "    def where_am_i(self, point):\n",
    "        plt.plot(point[0], point[1], 'or')\n",
    "    \n",
    "    def draw_history(self, history):\n",
    "        plt.plot(history[:, 0], history[:, 1], 'og')\n",
    "    \n",
    "    def onpick(self, event):\n",
    "        thisline = event.artist\n",
    "        xdata = thisline.get_xdata()\n",
    "        ydata = thisline.get_ydata()\n",
    "        ind = event.ind\n",
    "        points = tuple(zip(xdata[ind], ydata[ind]))\n",
    "        x, y = points[0]\n",
    "        self.display(x, y)\n",
    "\n",
    "popular = list(Work.objects.popular()[:200].values_list('id', flat=True))\n",
    "popular.remove(2)\n",
    "drawn = list(set(popular) & set(dataset.decode_work[i] for i in range(1000)))\n",
    "#titles = dataset.titles#works[:, 1].tolist()\n",
    "sampled_items = []\n",
    "viz = MangakiViz(titles, X_2d, drawn, sampled_items)\n",
    "# viz.where_am_i((-0.61951029531106994, -0.15674103238147402))  # Old Ryan\n",
    "#viz.where_am_i((clf.coef_[0][:2]))"
   ]
  },
  {
   "cell_type": "code",
   "execution_count": 73,
   "metadata": {},
   "outputs": [
    {
     "name": "stdout",
     "output_type": "stream",
     "text": [
      "Fullmetal Alchemist: The Conqueror of Shamballa\n",
      "Fullmetal Alchemist: Premium OVA Collection\n",
      "Fullmetal Alchemist: The Sacred Star of Milos\n",
      "Fullmetal Alchemist: Reflections\n",
      "Fullmetal Alchemist: Brotherhood OVA Collection\n",
      "Fullmetal Alchemist\n",
      "Fullmetal Alchemist: Brotherhood\n",
      "L'Attaque des Titans\n",
      "Le Royaume des chats\n",
      "Brother, Dear Brother\n"
     ]
    }
   ],
   "source": [
    "get_closest(Work.objects.filter(title__icontains='Fullmetal')[0].id, 10)"
   ]
  },
  {
   "cell_type": "code",
   "execution_count": 74,
   "metadata": {
    "scrolled": true
   },
   "outputs": [
    {
     "name": "stdout",
     "output_type": "stream",
     "text": [
      "Fullmetal Alchemist: Brotherhood\n",
      "Fullmetal Alchemist\n",
      "L'Attaque des Titans\n",
      "Fullmetal Alchemist: Brotherhood OVA Collection\n",
      "Fullmetal Alchemist: The Conqueror of Shamballa\n",
      "Fullmetal Alchemist: Premium OVA Collection\n",
      "Fullmetal Alchemist: The Sacred Star of Milos\n",
      "Fullmetal Alchemist: Reflections\n",
      "Le Royaume des chats\n",
      "Ponyo sur la falaise\n"
     ]
    }
   ],
   "source": [
    "get_closest(Work.objects.filter(title__endswith='Brotherhood')[0].id, 10)"
   ]
  },
  {
   "cell_type": "code",
   "execution_count": 75,
   "metadata": {},
   "outputs": [
    {
     "name": "stdout",
     "output_type": "stream",
     "text": [
      "Death Note\n",
      "Code Geass: Hangyaku no Lelouch R2\n",
      "Code Geass: Lelouch of the Rebellion Special Edition Black Rebellion\n",
      "Code Geass: Lelouch of the Rebellion R2 Special Edition Zero Requiem\n",
      "Code Geass: Hangyaku no Lelouch Recaps\n",
      "Fate/Stay Night Unlimited Blade Works\n",
      "Fate/stay night: Unlimited Blade Works (TV)\n",
      "Fate/stay night: Unlimited Blade Works (TV) - Prologue\n",
      "Parasyte -the maxim-\n",
      "Fate/Zero 2nd Season\n"
     ]
    }
   ],
   "source": [
    "get_closest(1, 10)"
   ]
  },
  {
   "cell_type": "code",
   "execution_count": 76,
   "metadata": {},
   "outputs": [
    {
     "name": "stdout",
     "output_type": "stream",
     "text": [
      "Paprika\n",
      "Tokyo Godfathers\n",
      "Grave of the Fireflies\n",
      "Perfect Blue\n",
      "Porco Rosso\n",
      "Millennium Actress\n",
      "Paranoia Agent\n",
      "Jin-Roh: The Wolf Brigade\n",
      "Akira\n",
      "Genius Party\n"
     ]
    }
   ],
   "source": [
    "get_closest(Work.objects.filter(title__contains='Paprika')[0].id, 10)"
   ]
  },
  {
   "cell_type": "code",
   "execution_count": 77,
   "metadata": {},
   "outputs": [
    {
     "name": "stdout",
     "output_type": "stream",
     "text": [
      "One Piece Film Z\n",
      "Code Geass: Akito the Exiled 3 - The Brightness Falls\n",
      "Space Dandy\n",
      "Code Geass: Akito the Exiled 4\n",
      "Code Geass: Akito the Exiled 2 - The Torn-Up Wyvern\n",
      "Code Geass: Akito the Exiled 1 - The Wyvern Arrives\n",
      "Gargantia on the Verdurous Planet\n",
      "Disgaea\n",
      "Pokemon: Mewtwo Returns\n",
      "Kids on the Slope\n"
     ]
    }
   ],
   "source": [
    "get_closest(Work.objects.filter(title__contains='One Piece')[0].id, 10)"
   ]
  },
  {
   "cell_type": "code",
   "execution_count": 78,
   "metadata": {},
   "outputs": [
    {
     "name": "stdout",
     "output_type": "stream",
     "text": [
      "The Tatami Galaxy Specials\n",
      "The Tatami Galaxy\n",
      "GA: Geijutsuka Art Design Class\n",
      "GA: Geijutsuka Art Design Class OVA\n",
      "Sketchbook: Full Color's\n",
      "Paniponi Dash!: Danjite Okonaeba Kishin mo Kore wo Saku\n",
      "Pani Poni Dash!\n",
      "Gakuen Utopia Manabi Straight! Special\n",
      "Occult Academy Specials\n",
      "X²: Double X\n"
     ]
    }
   ],
   "source": [
    "get_closest(Work.objects.filter(title__contains='Tatami')[0].id, 10)"
   ]
  },
  {
   "cell_type": "code",
   "execution_count": 79,
   "metadata": {},
   "outputs": [
    {
     "name": "stdout",
     "output_type": "stream",
     "text": [
      "Mind Game\n",
      "Neon Genesis Evangelion: The End of Evangelion\n",
      "Genius Party Beyond\n",
      "Planetes\n",
      "Genius Party\n",
      "Jin-Roh: The Wolf Brigade\n",
      "Millennium Actress\n",
      "Neon Genesis Evangelion\n",
      "Evangelion: 1.0 You Are (Not) Alone\n",
      "Evangelion: 3.0 You Can (Not) Redo\n"
     ]
    }
   ],
   "source": [
    "get_closest(Work.objects.filter(title__contains='Mind Game')[0].id, 10)"
   ]
  },
  {
   "cell_type": "code",
   "execution_count": 85,
   "metadata": {},
   "outputs": [
    {
     "name": "stdout",
     "output_type": "stream",
     "text": [
      "Neon Genesis Evangelion\n",
      "Evangelion: 1.0 You Are (Not) Alone\n",
      "Evangelion: 3.0 You Can (Not) Redo\n",
      "Evangelion: 2.0 You Can (Not) Advance\n",
      "Neon Genesis Evangelion: The End of Evangelion\n",
      "Mind Game\n",
      "Genius Party Beyond\n",
      "Planetes\n",
      "Genius Party\n",
      "Panty and Stocking with Garterbelt\n"
     ]
    }
   ],
   "source": [
    "get_closest(Work.objects.filter(title='Neon Genesis Evangelion')[0].id, 10)"
   ]
  },
  {
   "cell_type": "code",
   "execution_count": 89,
   "metadata": {},
   "outputs": [
    {
     "name": "stdout",
     "output_type": "stream",
     "text": [
      "Puella Magi Madoka Magica the Movie Part III: Rebellion\n",
      "Puella Magi Madoka Magica the Movie Part I: Beginnings\n",
      "Puella Magi Madoka Magica the Movie Part II: Eternal\n",
      "Mahou Shoujo Madoka★Magica\n",
      "Bakemonogatari\n",
      "Nisemonogatari\n",
      "Tsukimonogatari\n",
      "Monogatari Series: Second Season\n",
      "Hanamonogatari\n",
      "Nekomonogatari Black: Tsubasa Family\n"
     ]
    }
   ],
   "source": [
    "get_closest(Work.objects.filter(title__icontains='Puella Magi')[1].id, 10)"
   ]
  },
  {
   "cell_type": "code",
   "execution_count": 92,
   "metadata": {},
   "outputs": [
    {
     "name": "stdout",
     "output_type": "stream",
     "text": [
      "Mahou Shoujo Madoka★Magica\n",
      "Puella Magi Madoka Magica the Movie Part I: Beginnings\n",
      "Puella Magi Madoka Magica the Movie Part II: Eternal\n",
      "Puella Magi Madoka Magica the Movie Part III: Rebellion\n",
      "Bakemonogatari\n",
      "Nisemonogatari\n",
      "Tsukimonogatari\n",
      "Monogatari Series: Second Season\n",
      "Hanamonogatari\n",
      "Nekomonogatari Black: Tsubasa Family\n",
      "K-On!!: Keikaku!\n",
      "K-On!: Live House!\n",
      "Suzumiya Haruhi no Yuuutsu (2009)\n",
      "K-ON! The Movie\n",
      "Suzumiya Haruhi no Shoushitsu\n",
      "Suzumiya Haruhi no Yuuutsu\n",
      "Shirobako\n",
      "K-On!!\n",
      "K-On!\n",
      "My Ordinary Life\n"
     ]
    }
   ],
   "source": [
    "get_closest(Work.objects.filter(title__endswith='Madoka★Magica')[0].id, 20)"
   ]
  },
  {
   "cell_type": "code",
   "execution_count": 94,
   "metadata": {},
   "outputs": [
    {
     "name": "stdout",
     "output_type": "stream",
     "text": [
      "Terror in Resonance\n",
      "Rokka: Braves of the Six Flowers\n",
      "God Eater\n",
      "God Eater\n",
      "K: Missing Kings\n",
      "Subete ga F ni Naru: The Perfect Insider\n",
      "Kono Subarashii Sekai ni Shukufuku wo!\n",
      "Utawarerumono: Itsuwari no Kamen\n",
      "K\n",
      "D.Gray-man\n",
      "Horizon in the Middle of Nowhere\n",
      "Coppelion\n",
      "Letter Bee Reverse\n",
      "Kiznaiver\n",
      "ERASED\n"
     ]
    }
   ],
   "source": [
    "get_closest(Work.objects.filter(title__contains='Resonance')[0].id, 15)"
   ]
  },
  {
   "cell_type": "code",
   "execution_count": 101,
   "metadata": {},
   "outputs": [
    {
     "name": "stdout",
     "output_type": "stream",
     "text": [
      "Suzumiya Haruhi no Yuuutsu\n",
      "Suzumiya Haruhi no Shoushitsu\n",
      "Suzumiya Haruhi no Yuuutsu (2009)\n",
      "Steins;Gate\n",
      "Steins;Gate: Egoistic Poriomania\n",
      "Steins;Gate: Fuka Ryouiki no Déjà vu\n",
      "Cencoroll\n",
      "Fumiko's Confession\n",
      "La Maison en Petits Cubes\n",
      "Nodame Cantabile\n",
      "Bodacious Space Pirates the Movie: Abyss of Hyperspace\n",
      "Nodame Cantabile Paris Hen\n",
      "Nodame Cantabile Finale\n",
      "Mahou Shoujo Madoka★Magica\n",
      "Shirobako\n"
     ]
    }
   ],
   "source": [
    "get_closest(Work.objects.filter(title__contains='Suzumiya')[5].id, 15)"
   ]
  },
  {
   "cell_type": "code",
   "execution_count": 102,
   "metadata": {},
   "outputs": [
    {
     "name": "stdout",
     "output_type": "stream",
     "text": [
      "The Disappearance of Haruhi Suzumiya\n",
      "Trefle\n",
      "New York New York\n",
      "Barakamon: Mijikamon\n",
      "Bungou Stray Dogs 2nd Season\n",
      "Macross Zero\n",
      "On Your Mark\n",
      "Bungou Stray Dogs 2nd Season\n",
      "Bungou Stray Dogs 2nd Season\n",
      "Memories\n",
      "Space Patrol Luluco\n",
      "The Anthem of the Heart -Beautiful Word, Beautiful World-\n",
      "Viewfinder\n",
      "FLCL\n",
      "Hori-san to Miyamura-kun\n"
     ]
    }
   ],
   "source": [
    "get_closest(Work.objects.filter(title__contains='Suzumiya')[1].id, 15)"
   ]
  },
  {
   "cell_type": "code",
   "execution_count": 110,
   "metadata": {},
   "outputs": [
    {
     "data": {
      "text/plain": [
       "<WorkQuerySet [(15211, 335232), (15211, 346378), (14438, 304941), (14438, 323505), (15210, 335231), (15210, 347715), (15212, 347716), (15213, None), (14437, 304940), (14437, 321318), (14437, 335230), (14437, 343622)]>"
      ]
     },
     "execution_count": 110,
     "metadata": {},
     "output_type": "execute_result"
    }
   ],
   "source": [
    "Work.objects.filter(title__startswith='Bungou Stray').values_list('id', 'rating')"
   ]
  },
  {
   "cell_type": "code",
   "execution_count": 112,
   "metadata": {},
   "outputs": [
    {
     "name": "stdout",
     "output_type": "stream",
     "text": [
      "Soubi favorite Bungou Stray Dogs 2nd Season 15211\n",
      "Dreamy willsee Bungou Stray Dogs 2nd Season 15211\n",
      "dorito willsee Bungou Stray Dogs OVA 14438\n",
      "Heliard willsee Bungou Stray Dogs OVA 14438\n",
      "Soubi favorite Bungou Stray Dogs 2nd Season 15210\n",
      "flyeram neutral Bungou Stray Dogs 2nd Season 15210\n",
      "flyeram like Bungou Stray Dogs OVA 15212\n",
      "dorito willsee Bungou Stray Dogs 2nd Season 14437\n",
      "Pearl willsee Bungou Stray Dogs 2nd Season 14437\n",
      "Soubi favorite Bungou Stray Dogs 2nd Season 14437\n",
      "Shirakane like Bungou Stray Dogs 2nd Season 14437\n"
     ]
    }
   ],
   "source": [
    "for rating in Rating.objects.filter(work__title__startswith='Bungou Stray'):\n",
    "    print(rating, rating.work_id)"
   ]
  },
  {
   "cell_type": "code",
   "execution_count": 114,
   "metadata": {},
   "outputs": [
    {
     "name": "stdout",
     "output_type": "stream",
     "text": [
      "Parasyte -the maxim-\n",
      "Death Billiards\n",
      "Death Parade\n",
      "Brave Story\n",
      "Psycho-Pass: The Movie\n",
      "Psycho-Pass 2\n",
      "Death Note\n",
      "Code Geass: Hangyaku no Lelouch R2\n",
      "GARO THE ANIMATION\n",
      "Psycho-Pass\n",
      "Code Geass: Lelouch of the Rebellion Special Edition Black Rebellion\n",
      "THE IDOLM@STER MOVIE: BEYOND THE BRILLIANT FUTURE!\n",
      "Soukyuu no Fafner: Dead Aggressor - Exodus 2nd Season\n",
      "Code Geass: Lelouch of the Rebellion R2 Special Edition Zero Requiem\n",
      "Soukyuu no Fafner: Dead Aggressor - Exodus\n"
     ]
    }
   ],
   "source": [
    "get_closest(Work.objects.filter(title__contains='Parasyte')[0].id, 15)"
   ]
  },
  {
   "cell_type": "code",
   "execution_count": 117,
   "metadata": {},
   "outputs": [
    {
     "name": "stdout",
     "output_type": "stream",
     "text": [
      "Your Lie in April\n",
      "One Week Friends\n",
      "The Garden of Words\n",
      "Steins;Gate: Fuka Ryouiki no Déjà vu\n",
      "Steins;Gate: Egoistic Poriomania\n",
      "Steins;Gate\n",
      "Grave of the Fireflies\n",
      "Eden of The East the Movie I: The King of Eden\n",
      "Higashi no Eden\n",
      "Eden of The East the Movie II: Paradise Lost\n",
      "La Maison en Petits Cubes\n",
      "Spirited Away\n",
      "Fumiko's Confession\n",
      "Cencoroll\n",
      "Shinsekai yori\n"
     ]
    }
   ],
   "source": [
    "get_closest(Work.objects.filter(title__contains='Lie in April')[0].id, 15)"
   ]
  },
  {
   "cell_type": "code",
   "execution_count": 120,
   "metadata": {},
   "outputs": [
    {
     "name": "stdout",
     "output_type": "stream",
     "text": [
      "Higashi no Eden\n",
      "Eden of The East the Movie I: The King of Eden\n",
      "Eden of The East the Movie II: Paradise Lost\n",
      "Steins;Gate: Fuka Ryouiki no Déjà vu\n",
      "Steins;Gate\n",
      "Steins;Gate: Egoistic Poriomania\n",
      "Baccano!\n",
      "Your Lie in April\n",
      "Baccano! Specials\n",
      "Full Metal Panic!\n",
      "Full Metal Panic? Fumoffu\n",
      "One Week Friends\n",
      "Full Metal Panic! The Second Raid\n",
      "Full Metal Panic! The Second Raid: Wari to Hima na Sentaichou no Ichinichi\n",
      "Nodame Cantabile\n"
     ]
    }
   ],
   "source": [
    "get_closest(Work.objects.filter(title__contains='Higashi no Eden')[0].id, 15)"
   ]
  },
  {
   "cell_type": "code",
   "execution_count": 121,
   "metadata": {},
   "outputs": [
    {
     "name": "stdout",
     "output_type": "stream",
     "text": [
      "Spirited Away\n",
      "Grave of the Fireflies\n",
      "The Garden of Words\n",
      "One Week Friends\n",
      "Mushishi\n",
      "Shinsekai yori\n",
      "Your Lie in April\n",
      "Mushishi Zoku Shou 2nd Season\n",
      "Mushishi Zoku Shou Special\n",
      "MUSHI-SHI -Next Passage-\n",
      "Mushishi Special: Hihamukage\n",
      "R.O.D OVA\n",
      "Haré+Guu\n",
      "Haré+Guu Deluxe\n",
      "Mobile Police Patlabor Minimum\n"
     ]
    }
   ],
   "source": [
    "get_closest(Work.objects.filter(title__contains='Spirited')[0].id, 15)"
   ]
  },
  {
   "cell_type": "code",
   "execution_count": 122,
   "metadata": {},
   "outputs": [
    {
     "name": "stdout",
     "output_type": "stream",
     "text": [
      "Clannad\n",
      "Clannad: After Story\n",
      "Clannad After Story: Another World, Kyou Chapter\n",
      "Clannad: Another World, Tomoyo Chapter\n",
      "School Rumble\n",
      "Angel Beats!\n",
      "School Rumble 2nd Term\n",
      "Angel Beats!: Another Epilogue\n",
      "School Rumble Third Term\n",
      "School Rumble Ichi Gakki Hoshuu\n",
      "Hayate the Combat Butler!!\n",
      "Hayate the Combat Butler\n",
      "Girls & Panzer OVAs\n",
      "Girls & Panzer\n",
      "Girls und Panzer: Kore ga Hontou no Anzio-sen Desu!\n"
     ]
    }
   ],
   "source": [
    "get_closest(Work.objects.filter(title__contains='Clannad')[0].id, 15)"
   ]
  },
  {
   "cell_type": "code",
   "execution_count": 125,
   "metadata": {},
   "outputs": [
    {
     "name": "stdout",
     "output_type": "stream",
     "text": [
      "No Game No Life\n",
      "Noragami\n",
      "Black Bullet\n",
      "Guilty Crown\n",
      "Sword Art Online II\n",
      "Sword Art Online\n",
      "K\n",
      "Magi: The Labyrinth of Magic\n",
      "Magi: The Kingdom of Magic\n",
      "K: Missing Kings\n",
      "Kono Subarashii Sekai ni Shukufuku wo!\n",
      "God Eater\n",
      "God Eater\n",
      "Magi: Sinbad no Bouken\n",
      "The Seven Deadly Sins\n"
     ]
    }
   ],
   "source": [
    "get_closest(Work.objects.filter(title__contains='No Game')[2].id, 15)"
   ]
  },
  {
   "cell_type": "code",
   "execution_count": 127,
   "metadata": {},
   "outputs": [
    {
     "name": "stdout",
     "output_type": "stream",
     "text": [
      "Kaiba\n",
      "Kemonozume\n",
      "Samurai Deeper Kyo\n",
      "Gankutsuou: The Count of Monte Cristo\n",
      "His and Her Circumstances\n",
      ".hack//Sign\n",
      "Vandread: The Second Stage\n",
      "Kiddy Grade\n",
      "RahXephon Interlude: Her and Herself/Thatness and Thereness\n",
      "Samurai Champloo\n",
      "Trinity Blood\n",
      "Useless Witch Doremi Kaboom!\n",
      "Fruits Basket\n",
      "Oh! My Goddess\n",
      "RahXephon\n"
     ]
    }
   ],
   "source": [
    "get_closest(Work.objects.filter(title__contains='Kaiba')[0].id, 15)"
   ]
  },
  {
   "cell_type": "code",
   "execution_count": 132,
   "metadata": {},
   "outputs": [
    {
     "name": "stdout",
     "output_type": "stream",
     "text": [
      ".hack//Quantum Specials\n",
      ".hack//Legend of the Twilight Offline Meeting Special\n",
      ".hack//Versus: The Thanatos Report\n",
      ".hack//G.U. Trilogy: Parody Mode\n",
      ".hack//G.U. Returner\n",
      ".hack//G.U. Trilogy\n",
      "Gundam: Mission To The Rise\n",
      "Digimon Adventure tri. 1: Saikai\n",
      "Ghost in the Shell: Stand Alone Complex: Tachikomatic Days Fan Disc\n",
      "Ikkitousen: Xtreme Xecutor Specials\n",
      "Initial D: Project D to the Next Stage - Project D e Mukete\n",
      "Persona 3 the Movie: #2 Midsummer Knight's Dream\n",
      "Persona 3 the Movie: #1 Spring of Birth\n",
      "Romeo and the Black Brothers\n",
      "Hakuouki Reimeiroku Tokuten Disc\n"
     ]
    }
   ],
   "source": [
    "get_closest(Work.objects.filter(title__contains='.hack//')[1].id, 15)"
   ]
  },
  {
   "cell_type": "code",
   "execution_count": 138,
   "metadata": {},
   "outputs": [
    {
     "name": "stdout",
     "output_type": "stream",
     "text": [
      "Jojo's bizarre adventure - Saison 8 - Jojo Lion\n",
      "Jojo's bizarre adventure - Saison 7 - Steel Ball Run\n",
      "Jojo's bizarre adventure - Saison 6 - Stone Ocean\n",
      "Jojo's bizarre adventure\n",
      "Jojo's bizarre adventure - Saison 5 - Golden Wind\n",
      "Jojo's bizarre adventure - Saison 2 - Battle Tendency\n",
      "Jojo's bizarre adventure - Saison 3 - Stardust Crusaders\n",
      "Jojo's bizarre adventure - Saison 1 - Phantom Blood\n",
      "Honey and Clover\n",
      "Gokinjo, une vie de quartier\n",
      "Happy science\n",
      "Parmi eux - Hanakimi\n",
      "Tokyo Babylon\n",
      "X - 1999\n",
      "Ayashi no ceres\n"
     ]
    }
   ],
   "source": [
    "get_closest(Work.objects.filter(title__contains='Lion')[2].id, 15)"
   ]
  },
  {
   "cell_type": "code",
   "execution_count": 141,
   "metadata": {},
   "outputs": [
    {
     "name": "stdout",
     "output_type": "stream",
     "text": [
      "Mob Psycho 100\n",
      "Sound! Euphonium 2\n",
      "Sound! Euphonium Episode 14 – Ready, Set, Monaka\n",
      "Sound! Euphonium\n",
      "WWW.WAGNARIA!!\n",
      "Gabriel DropOut\n",
      "Re:CREATORS\n",
      "Tantei Opera Milky Holmes\n",
      "Mr. Osomatsu\n",
      "Rage of Bahamut: Virgin Soul\n",
      "Granblue Fantasy The Animation\n",
      "Zero kara Hajimeru Mahou no Sho\n",
      "The Mystic Archives of Dantalian: Ibarahime\n",
      "Hell Girl: Two Mirrors\n",
      "Hell Girl: Three Vessels\n"
     ]
    }
   ],
   "source": [
    "get_closest(Work.objects.filter(title__contains='Psycho 100')[0].id, 15)"
   ]
  },
  {
   "cell_type": "code",
   "execution_count": 142,
   "metadata": {},
   "outputs": [
    {
     "name": "stdout",
     "output_type": "stream",
     "text": [
      "Re:Zero kara Hajimeru Isekai Seikatsu\n",
      "Noragami OVA 2\n",
      "Non Non Biyori Repeat\n",
      "Rokka no Yuusha Picture Drama\n",
      "Ichigo Mashimaro Episode 0\n",
      "Hanayamata\n",
      "Tantei Opera Milky Holmes\n",
      "Glasslip\n",
      "Toradora!: Bentou no Gokui\n",
      "Natsume's Book of Friends Season 4\n",
      "Toradora!\n",
      "Koe no Katachi\n",
      "THE IDOLM@STER CINDERELLA GIRLS 2nd ANNIVERSARY PV\n",
      "Little Witch Academia (TV)\n",
      "Hungry Zombie Francesca\n"
     ]
    }
   ],
   "source": [
    "get_closest(Work.objects.filter(title__contains='Re:Zero')[0].id, 15)"
   ]
  },
  {
   "cell_type": "code",
   "execution_count": 148,
   "metadata": {},
   "outputs": [
    {
     "name": "stdout",
     "output_type": "stream",
     "text": [
      "Card Captor Sakura Movie 2: The Sealed Card\n",
      "Cardcaptor Sakura: The Movie\n",
      "Card Captor Sakura\n",
      "Cardcaptor Sakura Specials\n",
      "Cardcaptor Sakura: Leave It to Kero-chan\n",
      "Bakuman. 3\n",
      "Bakuman. 2\n",
      "Bakuman.\n",
      "Evangelion - Neon genesis\n",
      "Dna²\n",
      "Final Fantasy: The Spirits Within\n",
      "Black Lagoon: Roberta's Blood Trail\n",
      "Genmukan: The Sin of Desire & Shame\n",
      "Please Save My Earth Movie: From Alice to Rin-kun\n",
      "Fault!!\n"
     ]
    }
   ],
   "source": [
    "get_closest(Work.objects.filter(title__contains='Card Captor Sakura')[0].id, 15)"
   ]
  },
  {
   "cell_type": "code",
   "execution_count": 149,
   "metadata": {},
   "outputs": [
    {
     "name": "stdout",
     "output_type": "stream",
     "text": [
      "Zetman\n",
      "Gokudo\n",
      "New Fist of the North Star\n",
      "009-1\n",
      "The Big O\n",
      "Revolutionary Girl Utena: The Adolescence of Utena\n",
      "Lupin III: Part II\n",
      "Revolutionary Girl Utena\n",
      "Bludgeoning Angel Dokuro-chan\n",
      "Fist of the North Star: Legend of Kenshiro\n",
      "Revolutionary Girl Utena: The Adolescence of Utena\n",
      "Fist of the North Star 2\n",
      "Blue Gender\n",
      "Ghost Talker's Daydream\n",
      "Karakuri Zoushi Ayatsuri Sakon\n"
     ]
    }
   ],
   "source": [
    "get_closest(Work.objects.filter(title__contains='Zetman')[0].id, 15)"
   ]
  },
  {
   "cell_type": "code",
   "execution_count": 151,
   "metadata": {},
   "outputs": [
    {
     "name": "stdout",
     "output_type": "stream",
     "text": [
      "Revolutionary Girl Utena\n",
      "Kite\n",
      "Those Who Hunt Elves\n",
      "Bludgeoning Angel Dokuro-chan\n",
      "Blood+\n",
      "Blue Gender\n",
      "Revolutionary Girl Utena: The Adolescence of Utena\n",
      "Those Who Hunt Elves II\n",
      "The Big O\n",
      "Millennium Actress\n",
      "009-1\n",
      "Revolutionary Girl Utena: The Adolescence of Utena\n",
      "Those Who Hunt Elves\n",
      "Those Who Hunt Elves II\n",
      "Ichi The Killer: Episode 0\n"
     ]
    }
   ],
   "source": [
    "get_closest(Work.objects.filter(title__contains='Utena')[1].id, 15)"
   ]
  },
  {
   "cell_type": "code",
   "execution_count": 153,
   "metadata": {},
   "outputs": [
    {
     "name": "stdout",
     "output_type": "stream",
     "text": [
      "Millennium Actress\n",
      "Macross Frontier: The False Songstress\n",
      "Those Who Hunt Elves II\n",
      "Mobile Suit Gundam - The origin\n",
      "Revolutionary Girl Utena: The Adolescence of Utena\n",
      "Those Who Hunt Elves\n",
      "Samurai 7\n",
      "Golgo 13\n",
      "Sanctuary\n",
      "Those Who Hunt Elves II\n",
      "New Fist of the North Star\n",
      "Those Who Hunt Elves\n",
      "Ichi The Killer: Episode 0\n",
      "Ghost Talker's Daydream\n",
      "Endless Orbit SSX\n"
     ]
    }
   ],
   "source": [
    "get_closest(Work.objects.filter(title__contains='Millennium Actress')[1].id, 15)"
   ]
  },
  {
   "cell_type": "code",
   "execution_count": null,
   "metadata": {
    "collapsed": true
   },
   "outputs": [],
   "source": []
  }
 ],
 "metadata": {
  "kernelspec": {
   "display_name": "Django Shell-Plus",
   "language": "python",
   "name": "django_extensions"
  },
  "language_info": {
   "codemirror_mode": {
    "name": "ipython",
    "version": 3
   },
   "file_extension": ".py",
   "mimetype": "text/x-python",
   "name": "python",
   "nbconvert_exporter": "python",
   "pygments_lexer": "ipython3",
   "version": "3.6.3"
  }
 },
 "nbformat": 4,
 "nbformat_minor": 2
}
